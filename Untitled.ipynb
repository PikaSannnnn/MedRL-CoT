{
 "cells": [
  {
   "cell_type": "code",
   "execution_count": 1,
   "id": "d93cd76d-8aed-40d5-8ee0-c24566c28480",
   "metadata": {},
   "outputs": [],
   "source": [
    "%load_ext autoreload\n",
    "%autoreload 2\n",
    "%reload_ext autoreload"
   ]
  },
  {
   "cell_type": "code",
   "execution_count": 2,
   "id": "f3daee32-9beb-4303-b18e-806ffc111d0a",
   "metadata": {},
   "outputs": [
    {
     "name": "stderr",
     "output_type": "stream",
     "text": [
      "2025-05-29 12:45:25,124 || INFO || Logger - Setup for MedRL-CoT's log done. This is the beginning of the log.\n",
      "2025-05-29 12:45:25,125 || INFO || DataManager - Loading datasets: ['aug_med_notes', 'mimic4']\n",
      "2025-05-29 12:45:25,129 || INFO || DataManager - AGBonnet/augmented-clinical-notes dataset already exists in disk. If the dataset is giving errors or you'd like a fresh install, delete the data/aug_med_notes directory.\n",
      "2025-05-29 12:45:25,130 || INFO || DataManager - Loading AGBonnet/augmented-clinical-notes dataset.\n",
      "2025-05-29 12:45:25,167 || INFO || DataManager - Successfully loaded AGBonnet/augmented-clinical-notes as key aug_med_notes\n"
     ]
    },
    {
     "name": "stdout",
     "output_type": "stream",
     "text": [
      "MedRL-CoT\n",
      "[['hf', 'aug_med_notes'], ['phys', 'mimic4']]\n",
      "MedRL-CoT\n",
      "[['hf', 'aug_med_notes'], ['phys', 'mimic4']]\n",
      "Generated new log file logs/medrlcot072.log\n",
      "data/mimic4/discharge.csv.gz\n"
     ]
    },
    {
     "name": "stderr",
     "output_type": "stream",
     "text": [
      "2025-05-29 12:45:25,525 || INFO || DataManager - Successfully loaded 2 datasets: ['aug_med_notes', 'mimic4']\n"
     ]
    }
   ],
   "source": [
    "from medrlcot.config.env import MedRL_CoT\n",
    "from medrlcot import data_manager\n",
    "from medrlcot.medrlcot_logger import setup_logger\n",
    "from dotenv import load_dotenv\n",
    "import logging\n",
    "import os\n",
    "\n",
    "# env = load_dotenv()\n",
    "# model_cfg_path = os.path.join(os.getcwd(), os.getenv('model_config'))\n",
    "model_cfg_path = os.path.join(os.getcwd(), \"medrlcot/config/.env\")\n",
    "medrlcot_config = MedRL_CoT(model_cfg_path)\n",
    "\n",
    "setup_logger()\n",
    "logger = logging.getLogger(\"MedRL-CoT Setup\")\n",
    "\n",
    "# Download datasets\n",
    "datasets = data_manager.load_datasets(medrlcot_config.datasets, data_dir=medrlcot_config.data_dir)\n",
    "\n",
    "\n",
    "# print(datasets['aug_med_notes']['full_note'][0])\n",
    "# data_manager.load_datasets(medrlcot_config.datasets, data_dir=medrlcot_config.data_dir, load=False)"
   ]
  },
  {
   "cell_type": "code",
   "execution_count": 3,
   "id": "f38a2de2-f557-4364-b62e-eb5c76336675",
   "metadata": {},
   "outputs": [
    {
     "name": "stdout",
     "output_type": "stream",
     "text": [
      "{'aug_med_notes': Dataset({\n",
      "    features: ['idx', 'note', 'full_note', 'conversation', 'summary'],\n",
      "    num_rows: 30000\n",
      "}), 'mimic4': DatasetDict({\n",
      "    train: Dataset({\n",
      "        features: ['note_id', 'subject_id', 'hadm_id', 'note_type', 'note_seq', 'charttime', 'storetime', 'text'],\n",
      "        num_rows: 331793\n",
      "    })\n",
      "})}\n"
     ]
    }
   ],
   "source": [
    "print(datasets)"
   ]
  },
  {
   "cell_type": "code",
   "execution_count": 4,
   "id": "cfd6cee1-d1a8-4b68-8759-d48f2de94507",
   "metadata": {
    "scrolled": true
   },
   "outputs": [],
   "source": [
    "# # Load model directly\n",
    "# from transformers import AutoTokenizer, AutoModelForCausalLM\n",
    "\n",
    "# tokenizer = AutoTokenizer.from_pretrained(\"meta-llama/Llama-3.3-70B-Instruct\")\n",
    "# model = AutoModelForCausalLM.from_pretrained(\"meta-llama/Llama-3.3-70B-Instruct\")"
   ]
  },
  {
   "cell_type": "code",
   "execution_count": 5,
   "id": "6c1f8408-ff49-4241-b54a-501b3790ab3f",
   "metadata": {},
   "outputs": [],
   "source": [
    "# !pip install flash_attn"
   ]
  },
  {
   "cell_type": "code",
   "execution_count": 6,
   "id": "1777f8cb-a193-4dc0-8fe6-48db303acc0d",
   "metadata": {},
   "outputs": [
    {
     "name": "stderr",
     "output_type": "stream",
     "text": [
      "The `load_in_4bit` and `load_in_8bit` arguments are deprecated and will be removed in the future versions. Please, pass a `BitsAndBytesConfig` object in `quantization_config` argument instead.\n",
      "2025-05-29 12:45:30,116 || INFO || accelerate.utils.modeling - We will use 90% of the memory on device 0 for storing the model, and 10% for the buffer to avoid OOM. You can set `max_memory` in to a higher value to use more memory (at your own risk).\n"
     ]
    },
    {
     "data": {
      "application/vnd.jupyter.widget-view+json": {
       "model_id": "da591f0f10904c14b07a909cef6b9d50",
       "version_major": 2,
       "version_minor": 0
      },
      "text/plain": [
       "Loading checkpoint shards:   0%|          | 0/3 [00:00<?, ?it/s]"
      ]
     },
     "metadata": {},
     "output_type": "display_data"
    }
   ],
   "source": [
    "# Load model directly\n",
    "import torch\n",
    "from transformers import AutoTokenizer, AutoModelForCausalLM\n",
    "import bitsandbytes\n",
    "\n",
    "tokenizer = AutoTokenizer.from_pretrained(\"NousResearch/Nous-Hermes-2-Mistral-7B-DPO\", use_fast=False)\n",
    "model = AutoModelForCausalLM.from_pretrained(\"NousResearch/Nous-Hermes-2-Mistral-7B-DPO\", torch_dtype=torch.float16, \n",
    "                                             device_map=\"auto\", load_in_8bit=False, load_in_4bit=True)"
   ]
  },
  {
   "cell_type": "code",
   "execution_count": 7,
   "id": "4f6eb9e7-0cec-4d81-a46e-7a78bd7590af",
   "metadata": {},
   "outputs": [],
   "source": [
    "def preprocess_func(model, dataset):\n",
    "    \n",
    "    return processed_split"
   ]
  },
  {
   "cell_type": "code",
   "execution_count": 64,
   "id": "832400ec-0b0c-47db-b647-a98565219cf6",
   "metadata": {},
   "outputs": [
    {
     "data": {
      "text/plain": [
       "'A a sixteen year-old girl, presented to our Outpatient department with the complaints of discomfort in the neck and lower back as well as restriction of body movements. She was not able to maintain an erect posture and would tend to fall on either side while standing up from a sitting position. She would keep her head turned to the right and upwards due to the sustained contraction of the neck muscles. There was a sideways bending of the back in the lumbar region. To counter the abnormal positioning of the back and neck, she would keep her limbs in a specific position to allow her body weight to be supported. Due to the restrictions with the body movements at the neck and in the lumbar region, she would require assistance in standing and walking. She would require her parents to help her with daily chores, including all activities of self-care.\\\\nShe had been experiencing these difficulties for the past four months since when she was introduced to olanzapine tablets for the control of her exacerbated mental illness. This was not her first experience with this drug over the past seven years since she had been diagnosed with bipolar affective disorder. Her first episode of the affective disorder was that of mania at the age of eleven which was managed with the use of olanzapine tablets in 2.5–10 mg doses per day at different times. The patient developed pain and discomfort in her neck within the second week of being put on tablet olanzapine at a dose of 5 mg per day. This was associated with a sustained and abnormal contraction of the neck muscles that would pull her head to the right in an upward direction. These features had persisted for the first three years of her illness with a varying intensity, distress, and dysfunction which would tend to correlate with the dose of olanzapine. Apart from a brief period of around three weeks when she was given tablet trihexyphenidyl 4 mg per day for rigidity in her upper limbs, she was not prescribed any other psychotropic medication. The rigidity showed good response to this medication which was subsequently stopped. The introduction and subsequent withdrawal of this medication did not bring about any change in the sustained abnormal contraction of her neck muscles.\\\\nImprovement and subsequent remission of the mood symptoms of the patient provided the treatment team with an opportunity to stop olanzapine. The discomfort in the neck and the abnormal movement of the neck muscles persisted over the next three months’ period when she was off olanzapine without any significant change, even with a trial of propranolol, trihexyphenidyl, and phenargan injection. Reintroduction of olanzapine (at a dose of 2.5 mg per day) after a gap of three months for the reemergence of some behavioral features led to a slight aggravation of the already existing abnormal movement and posturing of the neck.\\\\nWith improvement in the clinical picture, olanzapine was reduced and stopped. She was put on tablet sodium valproate, 1000 mg per day during this period for the stabilization of her mood when she was also given escitalopram for a period of three months for her depressive features. The patient responded well to this change in medication, but she developed amenorrhea for which no cause was established after a detailed gynecological evaluation. Keeping in mind the possibility of valproate-induced menstrual disturbance, she was shifted to tablet lithium 450 mg per day. The patient was well maintained on this medication for a period of around two years. However, she developed hypothyroidism for which eltroxin was introduced at a dose of 50 micrograms per day.\\\\nDuring this period of two years and seven months, the abnormal contraction of the neck muscles and the abnormal positioning of the head improved slightly, and with the improvement, it would cause less discomfort and interference in her activities. However, these movements failed to disappear completely. Another exacerbation of the mood symptoms in the form of mania warranted a need for the introduction of olanzapine (by a different treatment team) and the patient was reintroduced to 10 mg olanzapine on a daily basis, which led to the current presentation as described earlier.\\\\nAfter the case was seen at our institute, the psychotropic medications were stopped as her mood symptoms had remitted and she was put on tablet tetrabenazine (built up to 75 mg per day in divided doses) with which the patient had started showing some response with an improvement in abnormal movements of the muscles of the neck as well as the back. She is now able to stand with support and can do some daily chores on her own. The pain and discomfort in the back and neck have also reduced.\\\\nDuring the course of the illness, the patient has been investigated for the presence of any neurological illness as the cause of her abnormal movements. Her MRI scan of the brain, serum and urine copper levels, slit lamp microscopy for the KF ring, complete blood count, TLC, DLC, and USG of the abdomen did not reveal any abnormalities. Her thyroid function tests were deranged subsequent to the introduction of tablet lithium carbonate which was restored to normal after the introduction of tablet eltroxin.\\\\nDystonia is a syndrome of sustained muscle contractions that produce twisting and repetitive movements or abnormal postures. The descriptions of the extent and severity of muscle involvement are variable, ranging from intermittent contraction limited to a single body region, to generalized dystonia involving the limbs and axial muscles.\\\\nEver since the introduction of the term, “dystonia” by Oppenhiem in the early part of the twentieth century, it has been an area of focused attention of the neurologists. In 1973, Keegan and Rajput introduced the term, “” to describe drug-induced, sustained muscle spasm causing repetitive movements or abnormal postures. “” was a term introduced by Burke in 1982, the description of which required the presence of chronic dystonia, a history of antipsychotic drug treatment preceding or concurrent with the onset of dystonia, the exclusion of known causes of secondary dystonia by appropriate clinical and laboratory evaluation, and a negative family history of dystonia for definitive diagnosis.\\\\nThe dystonia could be classified based on the region(s) of the body involved. Involvement of isolated regions like the face, neck, and arms would be labeled as focal dystonia, whereas simultaneous involvement of two or more contiguous areas would be called segmental dystonia. When the clinical picture is that of involvement of two or more noncontiguous regions, the label used is, “multifocal” and the involvement of one leg and one other body region makes it the generalized type.\\\\nThe symptoms of tardive dystonia could begin even after a few days or weeks of exposure to the offending agent. Tardive dystonia is prevalent in 0.5–21.6% of the patients who are treated with neuroleptics.\\\\nThe syndrome of tardive dystonia has been reported with most of the typical antipsychotics.[] It has been associated with the atypical antipsychotics, namely risperidone, olanzapine, quetiapine, and aripiprazole. Reports of tardive dystonia developing with the use of atypical antipsychotics have been predominantly in the cases of nonaffective psychosis and in the adult population in the age ranges of the midthirties and forties. Our case is the first case of an affective illness in an adolescent girl developing tardive dystonia on olanzapine. The aggravation of the clinical features with the inadvertent reintroduction of the medication suggests olanzapine is the offending agent. With the growing acceptance of olanzapine as the first-line therapy for the manic phase of bipolar illness and as a mood stabilizer for the maintenance therapy, one needs to be cautious about the emergence of this troublesome adverse effect of this therapy. The patient has shown some response to the introduction of tetrabenazine.'"
      ]
     },
     "execution_count": 64,
     "metadata": {},
     "output_type": "execute_result"
    }
   ],
   "source": [
    "example_note=datasets['aug_med_notes']['full_note'][0]\n",
    "example_note"
   ]
  },
  {
   "cell_type": "code",
   "execution_count": 8,
   "id": "c903e73a-8bd2-48b3-8d6f-f771372613f8",
   "metadata": {},
   "outputs": [],
   "source": [
    "# example_note = \"\"\"A a sixteen year-old girl, presented to our Outpatient department with the complaints of discomfort in the neck and lower back as well as restriction of body movements. She was not able to maintain an erect posture and would tend to fall on either side while standing up from a sitting position. She would keep her head turned to the right and upwards due to the sustained contraction of the neck muscles. There was a sideways bending of the back in the lumbar region. To counter the abnormal positioning of the back and neck, she would keep her limbs in a specific position to allow her body weight to be supported. Due to the restrictions with the body movements at the neck and in the lumbar region, she would require assistance in standing and walking. She would require her parents to help her with daily chores, including all activities of self-care.\\nShe had been experiencing these difficulties for the past four months since when she was introduced to olanzapine tablets for the control of her exacerbated mental illness. This was not her first experience with this drug over the past seven years since she had been diagnosed with bipolar affective disorder. Her first episode of the affective disorder was that of mania at the age of eleven which was managed with the use of olanzapine tablets in 2.5–10 mg doses per day at different times. The patient developed pain and discomfort in her neck within the second week of being put on tablet olanzapine at a dose of 5 mg per day. This was associated with a sustained and abnormal contraction of the neck muscles that would pull her head to the right in an upward direction. These features had persisted for the first three years of her illness with a varying intensity, distress, and dysfunction which would tend to correlate with the dose of olanzapine. Apart from a brief period of around three weeks when she was given tablet trihexyphenidyl 4 mg per day for rigidity in her upper limbs, she was not prescribed any other psychotropic medication. The rigidity showed good response to this medication which was subsequently stopped. The introduction and subsequent withdrawal of this medication did not bring about any change in the sustained abnormal contraction of her neck muscles.\\nImprovement and subsequent remission of the mood symptoms of the patient provided the treatment team with an opportunity to stop olanzapine. The discomfort in the neck and the abnormal movement of the neck muscles persisted over the next three months’ period when she was off olanzapine without any significant change, even with a trial of propranolol, trihexyphenidyl, and phenargan injection. Reintroduction of olanzapine (at a dose of 2.5 mg per day) after a gap of three months for the reemergence of some behavioral features led to a slight aggravation of the already existing abnormal movement and posturing of the neck.\\nWith improvement in the clinical picture, olanzapine was reduced and stopped. She was put on tablet sodium valproate, 1000 mg per day during this period for the stabilization of her mood when she was also given escitalopram for a period of three months for her depressive features. The patient responded well to this change in medication, but she developed amenorrhea for which no cause was established after a detailed gynecological evaluation. Keeping in mind the possibility of valproate-induced menstrual disturbance, she was shifted to tablet lithium 450 mg per day. The patient was well maintained on this medication for a period of around two years. However, she developed hypothyroidism for which eltroxin was introduced at a dose of 50 micrograms per day.\\nDuring this period of two years and seven months, the abnormal contraction of the neck muscles and the abnormal positioning of the head improved slightly, and with the improvement, it would cause less discomfort and interference in her activities. However, these movements failed to disappear completely. Another exacerbation of the mood symptoms in the form of mania warranted a need for the introduction of olanzapine (by a different treatment team) and the patient was reintroduced to 10 mg olanzapine on a daily basis, which led to the current presentation as described earlier.\\nAfter the case was seen at our institute, the psychotropic medications were stopped as her mood symptoms had remitted and she was put on tablet tetrabenazine (built up to 75 mg per day in divided doses) with which the patient had started showing some response with an improvement in abnormal movements of the muscles of the neck as well as the back. She is now able to stand with support and can do some daily chores on her own. The pain and discomfort in the back and neck have also reduced.\\nDuring the course of the illness, the patient has been investigated for the presence of any neurological illness as the cause of her abnormal movements. Her MRI scan of the brain, serum and urine copper levels, slit lamp microscopy for the KF ring, complete blood count, TLC, DLC, and USG of the abdomen did not reveal any abnormalities. Her thyroid function tests were deranged subsequent to the introduction of tablet lithium carbonate which was restored to normal after the introduction of tablet eltroxin.\\nDystonia is a syndrome of sustained muscle contractions that produce twisting and repetitive movements or abnormal postures. The descriptions of the extent and severity of muscle involvement are variable, ranging from intermittent contraction limited to a single body region, to generalized dystonia involving the limbs and axial muscles.\\nEver since the introduction of the term, “dystonia” by Oppenhiem in the early part of the twentieth century, it has been an area of focused attention of the neurologists. In 1973, Keegan and Rajput introduced the term, “” to describe drug-induced, sustained muscle spasm causing repetitive movements or abnormal postures. “” was a term introduced by Burke in 1982, the description of which required the presence of chronic dystonia, a history of antipsychotic drug treatment preceding or concurrent with the onset of dystonia, the exclusion of known causes of secondary dystonia by appropriate clinical and laboratory evaluation, and a negative family history of dystonia for definitive diagnosis.\\nThe dystonia could be classified based on the region(s) of the body involved. Involvement of isolated regions like the face, neck, and arms would be labeled as focal dystonia, whereas simultaneous involvement of two or more contiguous areas would be called segmental dystonia. When the clinical picture is that of involvement of two or more noncontiguous regions, the label used is, “multifocal” and the involvement of one leg and one other body region makes it the generalized type.\\nThe symptoms of tardive dystonia could begin even after a few days or weeks of exposure to the offending agent. Tardive dystonia is prevalent in 0.5–21.6% of the patients who are treated with neuroleptics.\\nThe syndrome of tardive dystonia has been reported with most of the typical antipsychotics.[] It has been associated with the atypical antipsychotics, namely risperidone, olanzapine, quetiapine, and aripiprazole. Reports of tardive dystonia developing with the use of atypical antipsychotics have been predominantly in the cases of nonaffective psychosis and in the adult population in the age ranges of the midthirties and forties. Our case is the first case of an affective illness in an adolescent girl developing tardive dystonia on olanzapine. The aggravation of the clinical features with the inadvertent reintroduction of the medication suggests olanzapine is the offending agent. With the growing acceptance of olanzapine as the first-line therapy for the manic phase of bipolar illness and as a mood stabilizer for the maintenance therapy, one needs to be cautious about the emergence of this troublesome adverse effect of this therapy. The patient has shown some response to the introduction of tetrabenazine.\"\"\""
   ]
  },
  {
   "cell_type": "code",
   "execution_count": 67,
   "id": "29f54a44-7692-49c7-9fcb-4d7ee1be4124",
   "metadata": {},
   "outputs": [],
   "source": [
    "sentences = example_note.split('.')\n",
    "chunks = example_note.split('\\\\n')\n",
    "# len(example_note.split())"
   ]
  },
  {
   "cell_type": "code",
   "execution_count": 68,
   "id": "bb1151dc-4aef-4d29-8fc5-887bcb992982",
   "metadata": {},
   "outputs": [
    {
     "data": {
      "text/plain": [
       "12"
      ]
     },
     "execution_count": 68,
     "metadata": {},
     "output_type": "execute_result"
    }
   ],
   "source": [
    "# len(sentences)\n",
    "len(chunks)"
   ]
  },
  {
   "cell_type": "code",
   "execution_count": 47,
   "id": "fab88b10-3989-4998-bbb1-b8bee550f865",
   "metadata": {},
   "outputs": [
    {
     "data": {
      "text/plain": [
       "'A a sixteen year-old girl, presented to our Outpatient department with the complaints of discomfort in the neck and lower back as well as restriction of body movements. She was not able to maintain an erect posture and would tend to fall on either side while standing up from a sitting position. She would keep her head turned to the right and upwards due to the sustained contraction of the neck muscles. There was a sideways bending of the back in the lumbar region. To counter the abnormal positioning of the back and neck, she would keep her limbs in a specific position to allow her body weight to be supported. Due to the restrictions with the body movements at the neck and in the lumbar region, she would require assistance in standing and walking. She would require her parents to help her with daily chores, including all activities of self-care.'"
      ]
     },
     "execution_count": 47,
     "metadata": {},
     "output_type": "execute_result"
    }
   ],
   "source": [
    "chunks[0]"
   ]
  },
  {
   "cell_type": "code",
   "execution_count": 52,
   "id": "05102934-4aaa-4e0a-8212-a333c21a4f54",
   "metadata": {},
   "outputs": [
    {
     "data": {
      "text/plain": [
       "12"
      ]
     },
     "execution_count": 52,
     "metadata": {},
     "output_type": "execute_result"
    }
   ],
   "source": [
    "# initit_prompt = f\"\"\"<|im_start|>system\n",
    "# You are a medical assistant helping organize a patient's clinical notes that will presented sentence by sentence.\n",
    "\n",
    "# Your tasks is to classify the sentence I give you as one of the following keys \"symptoms_labs\", \"thought_process\", and \"diagnosis\":\n",
    "# symptoms_labs: \n",
    "# - All references to symptoms they are currently or was experiencing, test results, or lab findings\n",
    "# thought_process: \n",
    "# - The reasoning or consideration made by the doctor\n",
    "# diagnosis: \n",
    "# - The doctor's final or working diagnosis\n",
    "\n",
    "# Respond with only the category of the sentence\n",
    "# <|im_end|>\n",
    "# \"\"\"\n",
    "initit_prompt = f\"\"\"<|im_start|>system\n",
    "You are a medical assistant helping organize a patient's clinical notes  that will presented by paragraph/chunk.\n",
    "\n",
    "Your tasks is to read through the chunk of a clinical note and classify different sentences as one of the following keys \"symptoms_labs\", \"thought_process\", and \"diagnosis\":\n",
    "symptoms_labs: \n",
    "- All references to symptoms they are currently or was experiencing, test results, or lab findings\n",
    "thought_process: \n",
    "- The reasoning, considerations, or requested labs made by the doctor\n",
    "diagnosis: \n",
    "- The doctor's final or working diagnosis, including the explanation or background of a diagnosis.\n",
    "\n",
    "Respond with a JSON containing the classifications of each sentence with keys: \"symptoms_labs\", \"thought_process\", and \"diagnosis\". \n",
    "\n",
    "**Do not rephrase or paraphrase sentences. Use the original sentences exactly as provided.**\n",
    "<|im_end|>\n",
    "\"\"\"\n",
    "\n",
    "prompts = [f\"\"\"{initit_prompt}\n",
    "<|im_start|>user\n",
    "{chunk}\n",
    "<|im_end|>\n",
    "<|im_start|>assistant\n",
    "\"\"\" for chunk in chunks\n",
    "]\n",
    "len(prompts)"
   ]
  },
  {
   "cell_type": "code",
   "execution_count": 53,
   "id": "0d9286a6-bd92-4ff7-a91c-bc51bf0c3dad",
   "metadata": {},
   "outputs": [
    {
     "data": {
      "text/plain": [
       "'<|im_start|>system\\nYou are a medical assistant helping organize a patient\\'s clinical notes  that will presented by paragraph/chunk.\\n\\nYour tasks is to read through the chunk of a clinical note and classify different sentences as one of the following keys \"symptoms_labs\", \"thought_process\", and \"diagnosis\":\\nsymptoms_labs: \\n- All references to symptoms they are currently or was experiencing, test results, or lab findings\\nthought_process: \\n- The reasoning, considerations, or requested labs made by the doctor\\ndiagnosis: \\n- The doctor\\'s final or working diagnosis, including the explanation or background of a diagnosis.\\n\\nRespond with a JSON containing the classifications of each sentence with keys: \"symptoms_labs\", \"thought_process\", and \"diagnosis\". \\n\\n**Do not rephrase or paraphrase sentences. Use the original sentences exactly as provided.**\\n<|im_end|>\\n\\n<|im_start|>user\\nA a sixteen year-old girl, presented to our Outpatient department with the complaints of discomfort in the neck and lower back as well as restriction of body movements. She was not able to maintain an erect posture and would tend to fall on either side while standing up from a sitting position. She would keep her head turned to the right and upwards due to the sustained contraction of the neck muscles. There was a sideways bending of the back in the lumbar region. To counter the abnormal positioning of the back and neck, she would keep her limbs in a specific position to allow her body weight to be supported. Due to the restrictions with the body movements at the neck and in the lumbar region, she would require assistance in standing and walking. She would require her parents to help her with daily chores, including all activities of self-care.\\n<|im_end|>\\n<|im_start|>assistant\\n'"
      ]
     },
     "execution_count": 53,
     "metadata": {},
     "output_type": "execute_result"
    }
   ],
   "source": [
    "prompts[0]"
   ]
  },
  {
   "cell_type": "code",
   "execution_count": 54,
   "id": "95c37c65-b2f6-4639-8565-b7fb34328de1",
   "metadata": {
    "scrolled": true
   },
   "outputs": [
    {
     "name": "stderr",
     "output_type": "stream",
     "text": [
      "The following generation flags are not valid and may be ignored: ['temperature']. Set `TRANSFORMERS_VERBOSITY=info` for more details.\n",
      "Setting `pad_token_id` to `eos_token_id`:32000 for open-end generation.\n",
      "The following generation flags are not valid and may be ignored: ['temperature']. Set `TRANSFORMERS_VERBOSITY=info` for more details.\n",
      "Setting `pad_token_id` to `eos_token_id`:32000 for open-end generation.\n"
     ]
    },
    {
     "name": "stdout",
     "output_type": "stream",
     "text": [
      "<|im_start|> system\n",
      "You are a medical assistant helping organize a patient's clinical notes  that will presented by paragraph/chunk.\n",
      "\n",
      "Your tasks is to read through the chunk of a clinical note and classify different sentences as one of the following keys \"symptoms_labs\", \"thought_process\", and \"diagnosis\":\n",
      "symptoms_labs: \n",
      "- All references to symptoms they are currently or was experiencing, test results, or lab findings\n",
      "thought_process: \n",
      "- The reasoning, considerations, or requested labs made by the doctor\n",
      "diagnosis: \n",
      "- The doctor's final or working diagnosis, including the explanation or background of a diagnosis.\n",
      "\n",
      "Respond with a JSON containing the classifications of each sentence with keys: \"symptoms_labs\", \"thought_process\", and \"diagnosis\". \n",
      "\n",
      "**Do not rephrase or paraphrase sentences. Use the original sentences exactly as provided.**\n",
      " \n",
      "\n",
      " <|im_start|> user\n",
      "A a sixteen year-old girl, presented to our Outpatient department with the complaints of discomfort in the neck and lower back as well as restriction of body movements. She was not able to maintain an erect posture and would tend to fall on either side while standing up from a sitting position. She would keep her head turned to the right and upwards due to the sustained contraction of the neck muscles. There was a sideways bending of the back in the lumbar region. To counter the abnormal positioning of the back and neck, she would keep her limbs in a specific position to allow her body weight to be supported. Due to the restrictions with the body movements at the neck and in the lumbar region, she would require assistance in standing and walking. She would require her parents to help her with daily chores, including all activities of self-care.\n",
      " \n",
      " <|im_start|> assistant\n",
      "{\n",
      "  \"symptoms_labs\": [\n",
      "    \"A sixteen year-old girl, presented to our Outpatient department with the complaints of discomfort in the neck and lower back as well as restriction of body movements.\",\n",
      "    \"She was not able to maintain an erect posture and would tend to fall on either side while standing up from a sitting position.\",\n",
      "    \"She would keep her head turned to the right and upwards due to the sustained contraction of the neck muscles.\",\n",
      "    \"There was a sideways bending of the back in the lumbar region.\",\n",
      "    \"To counter the abnormal positioning of the back and neck, she would keep her limbs in a specific position to allow her body weight to be supported.\",\n",
      "    \"Due to the restrictions with the body movements at the neck and in the lumbar region, she would require assistance in standing and walking.\",\n",
      "    \"She would require her parents to help her with daily chores, including all activities of self-care.\"\n",
      "  ],\n",
      "  \"thought_process\": [],\n",
      "  \"diagnosis\": []\n",
      "}\n"
     ]
    },
    {
     "name": "stderr",
     "output_type": "stream",
     "text": [
      "The following generation flags are not valid and may be ignored: ['temperature']. Set `TRANSFORMERS_VERBOSITY=info` for more details.\n",
      "Setting `pad_token_id` to `eos_token_id`:32000 for open-end generation.\n"
     ]
    },
    {
     "name": "stdout",
     "output_type": "stream",
     "text": [
      "<|im_start|> system\n",
      "You are a medical assistant helping organize a patient's clinical notes  that will presented by paragraph/chunk.\n",
      "\n",
      "Your tasks is to read through the chunk of a clinical note and classify different sentences as one of the following keys \"symptoms_labs\", \"thought_process\", and \"diagnosis\":\n",
      "symptoms_labs: \n",
      "- All references to symptoms they are currently or was experiencing, test results, or lab findings\n",
      "thought_process: \n",
      "- The reasoning, considerations, or requested labs made by the doctor\n",
      "diagnosis: \n",
      "- The doctor's final or working diagnosis, including the explanation or background of a diagnosis.\n",
      "\n",
      "Respond with a JSON containing the classifications of each sentence with keys: \"symptoms_labs\", \"thought_process\", and \"diagnosis\". \n",
      "\n",
      "**Do not rephrase or paraphrase sentences. Use the original sentences exactly as provided.**\n",
      " \n",
      "\n",
      " <|im_start|> user\n",
      "She had been experiencing these difficulties for the past four months since when she was introduced to olanzapine tablets for the control of her exacerbated mental illness. This was not her first experience with this drug over the past seven years since she had been diagnosed with bipolar affective disorder. Her first episode of the affective disorder was that of mania at the age of eleven which was managed with the use of olanzapine tablets in 2.5–10 mg doses per day at different times. The patient developed pain and discomfort in her neck within the second week of being put on tablet olanzapine at a dose of 5 mg per day. This was associated with a sustained and abnormal contraction of the neck muscles that would pull her head to the right in an upward direction. These features had persisted for the first three years of her illness with a varying intensity, distress, and dysfunction which would tend to correlate with the dose of olanzapine. Apart from a brief period of around three weeks when she was given tablet trihexyphenidyl 4 mg per day for rigidity in her upper limbs, she was not prescribed any other psychotropic medication. The rigidity showed good response to this medication which was subsequently stopped. The introduction and subsequent withdrawal of this medication did not bring about any change in the sustained abnormal contraction of her neck muscles.\n",
      " \n",
      " <|im_start|> assistant\n",
      "{\n",
      "  \"symptoms_labs\": [\n",
      "    \"She had been experiencing these difficulties for the past four months since when she was introduced to olanzapine tablets for the control of her exacerbated mental illness.\",\n",
      "    \"Her first episode of the affective disorder was that of mania at the age of eleven which was managed with the use of olanzapine tablets in 2.5–10 mg doses per day at different times.\",\n",
      "    \"The patient developed pain and discomfort in her neck within the second week of being put on tablet olanzapine at a dose of 5 mg per day.\",\n",
      "    \"This was associated with a sustained and abnormal contraction of the neck muscles that would pull her head to the right in an upward direction.\",\n",
      "    \"Apart from a brief period of around three weeks when she was given tablet trihexyphenidyl 4 mg per day for rigidity in her upper limbs, she was not prescribed any other psychotropic medication.\",\n",
      "    \"The introduction and subsequent withdrawal of this medication did not bring about any change in the sustained abnormal contraction of her neck muscles.\"\n",
      "  ],\n",
      "  \"thought_process\": [],\n",
      "  \"diagnosis\": []\n",
      "}\n"
     ]
    },
    {
     "name": "stderr",
     "output_type": "stream",
     "text": [
      "The following generation flags are not valid and may be ignored: ['temperature']. Set `TRANSFORMERS_VERBOSITY=info` for more details.\n",
      "Setting `pad_token_id` to `eos_token_id`:32000 for open-end generation.\n"
     ]
    },
    {
     "name": "stdout",
     "output_type": "stream",
     "text": [
      "<|im_start|> system\n",
      "You are a medical assistant helping organize a patient's clinical notes  that will presented by paragraph/chunk.\n",
      "\n",
      "Your tasks is to read through the chunk of a clinical note and classify different sentences as one of the following keys \"symptoms_labs\", \"thought_process\", and \"diagnosis\":\n",
      "symptoms_labs: \n",
      "- All references to symptoms they are currently or was experiencing, test results, or lab findings\n",
      "thought_process: \n",
      "- The reasoning, considerations, or requested labs made by the doctor\n",
      "diagnosis: \n",
      "- The doctor's final or working diagnosis, including the explanation or background of a diagnosis.\n",
      "\n",
      "Respond with a JSON containing the classifications of each sentence with keys: \"symptoms_labs\", \"thought_process\", and \"diagnosis\". \n",
      "\n",
      "**Do not rephrase or paraphrase sentences. Use the original sentences exactly as provided.**\n",
      " \n",
      "\n",
      " <|im_start|> user\n",
      "Improvement and subsequent remission of the mood symptoms of the patient provided the treatment team with an opportunity to stop olanzapine. The discomfort in the neck and the abnormal movement of the neck muscles persisted over the next three months’ period when she was off olanzapine without any significant change, even with a trial of propranolol, trihexyphenidyl, and phenargan injection. Reintroduction of olanzapine (at a dose of 2.5 mg per day) after a gap of three months for the reemergence of some behavioral features led to a slight aggravation of the already existing abnormal movement and posturing of the neck.\n",
      " \n",
      " <|im_start|> assistant\n",
      "{\n",
      "  \"symptoms_labs\": [\n",
      "    \"The discomfort in the neck and the abnormal movement of the neck muscles persisted over the next three months’ period when she was off olanzapine without any significant change, even with a trial of propranolol, trihexyphenidyl, and phenargan injection.\",\n",
      "    \"Reintroduction of olanzapine (at a dose of 2.5 mg per day) after a gap of three months for the reemergence of some behavioral features led to a slight aggravation of the already existing abnormal movement and posturing of the neck.\"\n",
      "  ],\n",
      "  \"thought_process\": [\n",
      "    \"The discomfort in the neck and the abnormal movement of the neck muscles persisted over the next three months’ period when she was off olanzapine without any significant change, even with a trial of propranolol, trihexyphenidyl, and phenargan injection.\"\n",
      "  ],\n",
      "  \"diagnosis\": []\n",
      "}\n"
     ]
    },
    {
     "name": "stderr",
     "output_type": "stream",
     "text": [
      "The following generation flags are not valid and may be ignored: ['temperature']. Set `TRANSFORMERS_VERBOSITY=info` for more details.\n",
      "Setting `pad_token_id` to `eos_token_id`:32000 for open-end generation.\n"
     ]
    },
    {
     "name": "stdout",
     "output_type": "stream",
     "text": [
      "<|im_start|> system\n",
      "You are a medical assistant helping organize a patient's clinical notes  that will presented by paragraph/chunk.\n",
      "\n",
      "Your tasks is to read through the chunk of a clinical note and classify different sentences as one of the following keys \"symptoms_labs\", \"thought_process\", and \"diagnosis\":\n",
      "symptoms_labs: \n",
      "- All references to symptoms they are currently or was experiencing, test results, or lab findings\n",
      "thought_process: \n",
      "- The reasoning, considerations, or requested labs made by the doctor\n",
      "diagnosis: \n",
      "- The doctor's final or working diagnosis, including the explanation or background of a diagnosis.\n",
      "\n",
      "Respond with a JSON containing the classifications of each sentence with keys: \"symptoms_labs\", \"thought_process\", and \"diagnosis\". \n",
      "\n",
      "**Do not rephrase or paraphrase sentences. Use the original sentences exactly as provided.**\n",
      " \n",
      "\n",
      " <|im_start|> user\n",
      "With improvement in the clinical picture, olanzapine was reduced and stopped. She was put on tablet sodium valproate, 1000 mg per day during this period for the stabilization of her mood when she was also given escitalopram for a period of three months for her depressive features. The patient responded well to this change in medication, but she developed amenorrhea for which no cause was established after a detailed gynecological evaluation. Keeping in mind the possibility of valproate-induced menstrual disturbance, she was shifted to tablet lithium 450 mg per day. The patient was well maintained on this medication for a period of around two years. However, she developed hypothyroidism for which eltroxin was introduced at a dose of 50 micrograms per day.\n",
      " \n",
      " <|im_start|> assistant\n",
      "{\n",
      "  \"symptoms_labs\": [],\n",
      "  \"thought_process\": [\n",
      "    \"With improvement in the clinical picture, olanzapine was reduced and stopped. She was put on tablet sodium valproate, 1000 mg per day per day during this period for the stabilization of her mood when she was also given escitalopram for a period of three months for her depressive features.\"\n",
      "  ],\n",
      "  \"diagnosis\": [\n",
      "    \"The patient responded well to this change in medication, but she developed amenorrhea for which no cause was established after a detailed gynecological evaluation. Keeping in mind the possibility of valproate-induced menstrual disturbance, she was shifted to tablet lithium 450 mg per day.\",\n",
      "    \"However, she developed hypothyroidism for which eltroxin was introduced at a dose of 50 micrograms per day.\"\n",
      "  ]\n",
      "}\n"
     ]
    },
    {
     "name": "stderr",
     "output_type": "stream",
     "text": [
      "The following generation flags are not valid and may be ignored: ['temperature']. Set `TRANSFORMERS_VERBOSITY=info` for more details.\n",
      "Setting `pad_token_id` to `eos_token_id`:32000 for open-end generation.\n"
     ]
    },
    {
     "name": "stdout",
     "output_type": "stream",
     "text": [
      "<|im_start|> system\n",
      "You are a medical assistant helping organize a patient's clinical notes  that will presented by paragraph/chunk.\n",
      "\n",
      "Your tasks is to read through the chunk of a clinical note and classify different sentences as one of the following keys \"symptoms_labs\", \"thought_process\", and \"diagnosis\":\n",
      "symptoms_labs: \n",
      "- All references to symptoms they are currently or was experiencing, test results, or lab findings\n",
      "thought_process: \n",
      "- The reasoning, considerations, or requested labs made by the doctor\n",
      "diagnosis: \n",
      "- The doctor's final or working diagnosis, including the explanation or background of a diagnosis.\n",
      "\n",
      "Respond with a JSON containing the classifications of each sentence with keys: \"symptoms_labs\", \"thought_process\", and \"diagnosis\". \n",
      "\n",
      "**Do not rephrase or paraphrase sentences. Use the original sentences exactly as provided.**\n",
      " \n",
      "\n",
      " <|im_start|> user\n",
      "During this period of two years and seven months, the abnormal contraction of the neck muscles and the abnormal positioning of the head improved slightly, and with the improvement, it would cause less discomfort and interference in her activities. However, these movements failed to disappear completely. Another exacerbation of the mood symptoms in the form of mania warranted a need for the introduction of olanzapine (by a different treatment team) and the patient was reintroduced to 10 mg olanzapine on a daily basis, which led to the current presentation as described earlier.\n",
      " \n",
      " <|im_start|> assistant\n",
      "{\n",
      "  \"symptoms_labs\": [],\n",
      "  \"thought_process\": [\n",
      "    \"During this period of two years and seven months, the abnormal contraction of the neck muscles and the abnormal positioning of the head improved slightly, and with the improvement, it would cause less discomfort and interference in her activities. However, these movements failed to disappear completely.\"\n",
      "  ],\n",
      "  \"diagnosis\": []\n",
      "}\n"
     ]
    },
    {
     "name": "stderr",
     "output_type": "stream",
     "text": [
      "The following generation flags are not valid and may be ignored: ['temperature']. Set `TRANSFORMERS_VERBOSITY=info` for more details.\n",
      "Setting `pad_token_id` to `eos_token_id`:32000 for open-end generation.\n"
     ]
    },
    {
     "name": "stdout",
     "output_type": "stream",
     "text": [
      "<|im_start|> system\n",
      "You are a medical assistant helping organize a patient's clinical notes  that will presented by paragraph/chunk.\n",
      "\n",
      "Your tasks is to read through the chunk of a clinical note and classify different sentences as one of the following keys \"symptoms_labs\", \"thought_process\", and \"diagnosis\":\n",
      "symptoms_labs: \n",
      "- All references to symptoms they are currently or was experiencing, test results, or lab findings\n",
      "thought_process: \n",
      "- The reasoning, considerations, or requested labs made by the doctor\n",
      "diagnosis: \n",
      "- The doctor's final or working diagnosis, including the explanation or background of a diagnosis.\n",
      "\n",
      "Respond with a JSON containing the classifications of each sentence with keys: \"symptoms_labs\", \"thought_process\", and \"diagnosis\". \n",
      "\n",
      "**Do not rephrase or paraphrase sentences. Use the original sentences exactly as provided.**\n",
      " \n",
      "\n",
      " <|im_start|> user\n",
      "After the case was seen at our institute, the psychotropic medications were stopped as her mood symptoms had remitted and she was put on tablet tetrabenazine (built up to 75 mg per day in divided doses) with which the patient had started showing some response with an improvement in abnormal movements of the muscles of the neck as well as the back. She is now able to stand with support and can do some daily chores on her own. The pain and discomfort in the back and neck have also reduced.\n",
      " \n",
      " <|im_start|> assistant\n",
      "{\n",
      "  \"symptoms_labs\": [],\n",
      "  \"thought_process\": [\n",
      "    \"After the case was seen at our institute, the psychotropic medications were stopped as her mood symptoms had remitted and she was put on tablet tetrabenazine (built up to 75 mg per day in divided doses) with which the patient had started showing some response with an improvement in abnormal movements of the muscles of the neck as well as the back.\"\n",
      "  ],\n",
      "  \"diagnosis\": []\n",
      "}\n"
     ]
    },
    {
     "name": "stderr",
     "output_type": "stream",
     "text": [
      "The following generation flags are not valid and may be ignored: ['temperature']. Set `TRANSFORMERS_VERBOSITY=info` for more details.\n",
      "Setting `pad_token_id` to `eos_token_id`:32000 for open-end generation.\n"
     ]
    },
    {
     "name": "stdout",
     "output_type": "stream",
     "text": [
      "<|im_start|> system\n",
      "You are a medical assistant helping organize a patient's clinical notes  that will presented by paragraph/chunk.\n",
      "\n",
      "Your tasks is to read through the chunk of a clinical note and classify different sentences as one of the following keys \"symptoms_labs\", \"thought_process\", and \"diagnosis\":\n",
      "symptoms_labs: \n",
      "- All references to symptoms they are currently or was experiencing, test results, or lab findings\n",
      "thought_process: \n",
      "- The reasoning, considerations, or requested labs made by the doctor\n",
      "diagnosis: \n",
      "- The doctor's final or working diagnosis, including the explanation or background of a diagnosis.\n",
      "\n",
      "Respond with a JSON containing the classifications of each sentence with keys: \"symptoms_labs\", \"thought_process\", and \"diagnosis\". \n",
      "\n",
      "**Do not rephrase or paraphrase sentences. Use the original sentences exactly as provided.**\n",
      " \n",
      "\n",
      " <|im_start|> user\n",
      "During the course of the illness, the patient has been investigated for the presence of any neurological illness as the cause of her abnormal movements. Her MRI scan of the brain, serum and urine copper levels, slit lamp microscopy for the KF ring, complete blood count, TLC, DLC, and USG of the abdomen did not reveal any abnormalities. Her thyroid function tests were deranged subsequent to the introduction of tablet lithium carbonate which was restored to normal after the introduction of tablet eltroxin.\n",
      " \n",
      " <|im_start|> assistant\n",
      "{\n",
      "  \"symptoms_labs\": [\n",
      "    \"Her MRI scan of the brain, serum and urine copper levels, slit lamp microscopy for the KF ring, complete blood count, TLC, DLC, and USG of the abdomen did not reveal any abnormalities.\",\n",
      "    \"Her thyroid function tests were deranged subsequent to the introduction of tablet lithium carbonate which was restored to normal after the introduction of tablet eltroxin.\"\n",
      "  ],\n",
      "  \"thought_process\": [],\n",
      "  \"diagnosis\": []\n",
      "}\n"
     ]
    },
    {
     "name": "stderr",
     "output_type": "stream",
     "text": [
      "The following generation flags are not valid and may be ignored: ['temperature']. Set `TRANSFORMERS_VERBOSITY=info` for more details.\n",
      "Setting `pad_token_id` to `eos_token_id`:32000 for open-end generation.\n"
     ]
    },
    {
     "name": "stdout",
     "output_type": "stream",
     "text": [
      "<|im_start|> system\n",
      "You are a medical assistant helping organize a patient's clinical notes  that will presented by paragraph/chunk.\n",
      "\n",
      "Your tasks is to read through the chunk of a clinical note and classify different sentences as one of the following keys \"symptoms_labs\", \"thought_process\", and \"diagnosis\":\n",
      "symptoms_labs: \n",
      "- All references to symptoms they are currently or was experiencing, test results, or lab findings\n",
      "thought_process: \n",
      "- The reasoning, considerations, or requested labs made by the doctor\n",
      "diagnosis: \n",
      "- The doctor's final or working diagnosis, including the explanation or background of a diagnosis.\n",
      "\n",
      "Respond with a JSON containing the classifications of each sentence with keys: \"symptoms_labs\", \"thought_process\", and \"diagnosis\". \n",
      "\n",
      "**Do not rephrase or paraphrase sentences. Use the original sentences exactly as provided.**\n",
      " \n",
      "\n",
      " <|im_start|> user\n",
      "Dystonia is a syndrome of sustained muscle contractions that produce twisting and repetitive movements or abnormal postures. The descriptions of the extent and severity of muscle involvement are variable, ranging from intermittent contraction limited to a single body region, to generalized dystonia involving the limbs and axial muscles.\n",
      " \n",
      " <|im_start|> assistant\n",
      "{\n",
      "  \"symptoms_labs\": [],\n",
      "  \"thought_process\": [],\n",
      "  \"diagnosis\": [\n",
      "    \"Dystonia is a syndrome of sustained muscle contractions that produce twisting and repetitive movements or abnormal postures.\"\n",
      "  ]\n",
      "}\n"
     ]
    },
    {
     "name": "stderr",
     "output_type": "stream",
     "text": [
      "The following generation flags are not valid and may be ignored: ['temperature']. Set `TRANSFORMERS_VERBOSITY=info` for more details.\n",
      "Setting `pad_token_id` to `eos_token_id`:32000 for open-end generation.\n"
     ]
    },
    {
     "name": "stdout",
     "output_type": "stream",
     "text": [
      "<|im_start|> system\n",
      "You are a medical assistant helping organize a patient's clinical notes  that will presented by paragraph/chunk.\n",
      "\n",
      "Your tasks is to read through the chunk of a clinical note and classify different sentences as one of the following keys \"symptoms_labs\", \"thought_process\", and \"diagnosis\":\n",
      "symptoms_labs: \n",
      "- All references to symptoms they are currently or was experiencing, test results, or lab findings\n",
      "thought_process: \n",
      "- The reasoning, considerations, or requested labs made by the doctor\n",
      "diagnosis: \n",
      "- The doctor's final or working diagnosis, including the explanation or background of a diagnosis.\n",
      "\n",
      "Respond with a JSON containing the classifications of each sentence with keys: \"symptoms_labs\", \"thought_process\", and \"diagnosis\". \n",
      "\n",
      "**Do not rephrase or paraphrase sentences. Use the original sentences exactly as provided.**\n",
      " \n",
      "\n",
      " <|im_start|> user\n",
      "Ever since the introduction of the term, “dystonia” by Oppenhiem in the early part of the twentieth century, it has been an area of focused attention of the neurologists. In 1973, Keegan and Rajput introduced the term, “” to describe drug-induced, sustained muscle spasm causing repetitive movements or abnormal postures. “” was a term introduced by Burke in 1982, the description of which required the presence of chronic dystonia, a history of antipsychotic drug treatment preceding or concurrent with the onset of dystonia, the exclusion of known causes of secondary dystonia by appropriate clinical and laboratory evaluation, and a negative family history of dystonia for definitive diagnosis.\n",
      " \n",
      " <|im_start|> assistant\n",
      "{\n",
      "  \"symptoms_labs\": [],\n",
      "  \"thought_process\": [\n",
      "    \"In 1973, Keegan and Rajput introduced the term, “” to describe drug-induced, sustained muscle spasm causing repetitive movements or abnormal postures.\",\n",
      "    \"“” was a term introduced by Burke in 1982, the description of which required the presence of chronic dystonia, a history of antipsychotic drug treatment preceding or concurrent with the onset of dystonia, the exclusion of known causes of secondary dystonia by appropriate clinical and laboratory evaluation, and a negative family history of dystonia for definitive diagnosis.\"\n",
      "  ],\n",
      "  \"diagnosis\": []\n",
      "}\n"
     ]
    },
    {
     "name": "stderr",
     "output_type": "stream",
     "text": [
      "The following generation flags are not valid and may be ignored: ['temperature']. Set `TRANSFORMERS_VERBOSITY=info` for more details.\n",
      "Setting `pad_token_id` to `eos_token_id`:32000 for open-end generation.\n",
      "The following generation flags are not valid and may be ignored: ['temperature']. Set `TRANSFORMERS_VERBOSITY=info` for more details.\n",
      "Setting `pad_token_id` to `eos_token_id`:32000 for open-end generation.\n"
     ]
    }
   ],
   "source": [
    "responses = []\n",
    "for prompt in prompts:\n",
    "    inputs = tokenizer(prompt, return_tensors=\"pt\").to(model.device)\n",
    "    output = model.generate(**inputs, max_new_tokens=512, do_sample=False, temperature=0.0)\n",
    "    response = tokenizer.decode(output[0], skip_special_tokens=True)\n",
    "    responses.append(response)\n",
    "    if len(responses) < 10:\n",
    "        print(response)"
   ]
  },
  {
   "cell_type": "code",
   "execution_count": 57,
   "id": "2ec70e29-f508-4032-847e-57d8c97be8b5",
   "metadata": {},
   "outputs": [
    {
     "name": "stdout",
     "output_type": "stream",
     "text": [
      "<|im_start|> system\n",
      "You are a medical assistant helping organize a patient's clinical notes  that will presented by paragraph/chunk.\n",
      "\n",
      "Your tasks is to read through the chunk of a clinical note and classify different sentences as one of the following keys \"symptoms_labs\", \"thought_process\", and \"diagnosis\":\n",
      "symptoms_labs: \n",
      "- All references to symptoms they are currently or was experiencing, test results, or lab findings\n",
      "thought_process: \n",
      "- The reasoning, considerations, or requested labs made by the doctor\n",
      "diagnosis: \n",
      "- The doctor's final or working diagnosis, including the explanation or background of a diagnosis.\n",
      "\n",
      "Respond with a JSON containing the classifications of each sentence with keys: \"symptoms_labs\", \"thought_process\", and \"diagnosis\". \n",
      "\n",
      "**Do not rephrase or paraphrase sentences. Use the original sentences exactly as provided.**\n",
      " \n",
      "\n",
      " <|im_start|> user\n",
      "The symptoms of tardive dystonia could begin even after a few days or weeks of exposure to the offending agent. Tardive dystonia is prevalent in 0.5–21.6% of the patients who are treated with neuroleptics.\n",
      " \n",
      " <|im_start|> assistant\n",
      "{\n",
      "  \"symptoms_labs\": [],\n",
      "  \"thought_process\": [],\n",
      "  \"diagnosis\": [\n",
      "    \"The symptoms of tardive dystonia could begin even after a few days or weeks of exposure to the offending agent.\",\n",
      "    \"Tardive dystonia is prevalent in 0.5–21.6% of the patients who are treated with neuroleptics.\"\n",
      "  ]\n",
      "}\n"
     ]
    }
   ],
   "source": [
    "print(responses[-2])"
   ]
  },
  {
   "cell_type": "code",
   "execution_count": 58,
   "id": "4c005ae6-1391-40c8-a83a-320d408fe75a",
   "metadata": {},
   "outputs": [
    {
     "name": "stdout",
     "output_type": "stream",
     "text": [
      "<|im_start|> system\n",
      "You are a medical assistant helping organize a patient's clinical notes  that will presented by paragraph/chunk.\n",
      "\n",
      "Your tasks is to read through the chunk of a clinical note and classify different sentences as one of the following keys \"symptoms_labs\", \"thought_process\", and \"diagnosis\":\n",
      "symptoms_labs: \n",
      "- All references to symptoms they are currently or was experiencing, test results, or lab findings\n",
      "thought_process: \n",
      "- The reasoning, considerations, or requested labs made by the doctor\n",
      "diagnosis: \n",
      "- The doctor's final or working diagnosis, including the explanation or background of a diagnosis.\n",
      "\n",
      "Respond with a JSON containing the classifications of each sentence with keys: \"symptoms_labs\", \"thought_process\", and \"diagnosis\". \n",
      "\n",
      "**Do not rephrase or paraphrase sentences. Use the original sentences exactly as provided.**\n",
      " \n",
      "\n",
      " <|im_start|> user\n",
      "The syndrome of tardive dystonia has been reported with most of the typical antipsychotics.[] It has been associated with the atypical antipsychotics, namely risperidone, olanzapine, quetiapine, and aripiprazole. Reports of tardive dystonia developing with the use of atypical antipsychotics have been predominantly in the cases of nonaffective psychosis and in the adult population in the age ranges of the midthirties and forties. Our case is the first case of an affective illness in an adolescent girl developing tardive dystonia on olanzapine. The aggravation of the clinical features with the inadvertent reintroduction of the medication suggests olanzapine is the offending agent. With the growing acceptance of olanzapine as the first-line therapy for the manic phase of bipolar illness and as a mood stabilizer for the maintenance therapy, one needs to be cautious about the emergence of this troublesome adverse effect of this therapy. The patient has shown some response to the introduction of tetrabenazine.\n",
      " \n",
      " <|im_start|> assistant\n",
      "{\n",
      "  \"symptoms_labs\": [],\n",
      "  \"thought_process\": [\n",
      "    \"The syndrome of tardive dystonia has been reported with most of the typical antipsychotics.\",\n",
      "    \"It has been associated with the atypical antipsychotics, namely risperidone, olanzapine, quetiapine, and aripiprazole.\",\n",
      "    \"Reports of tardive dystonia developing with the use of atypical antipsychotics have been predominantly in the cases of nonaffective psychosis and in the adult population in the age ranges of the midthirties and forties.\",\n",
      "    \"Our case is the first case of an affective illness in an adolescent girl developing tardive dystonia on olanzapine.\",\n",
      "    \"The aggravation of the clinical features with the inadvertent reintroduction of the medication suggests olanzapine is the offending agent.\",\n",
      "    \"With the growing acceptance of olanzapine as the first-line therapy for the manic phase of bipolar illness and as a mood stabilizer for the maintenance therapy, one needs to be cautious about the emergence of this troublesome adverse effect of this therapy.\",\n",
      "    \"The patient has shown some response to the introduction of tetrabenazine.\"\n",
      "  ],\n",
      "  \"diagnosis\": [\n",
      "    \"The patient has shown some response to the introduction of tetrabenazine.\"\n",
      "  ]\n",
      "}\n"
     ]
    }
   ],
   "source": [
    "print(responses[-1])"
   ]
  },
  {
   "cell_type": "code",
   "execution_count": 40,
   "id": "02fac162-2148-4efd-adb3-c275e588355a",
   "metadata": {},
   "outputs": [
    {
     "name": "stdout",
     "output_type": "stream",
     "text": [
      "<|im_start|> system\n",
      "You are a medical assistant helping organize a patient's clinical notes that will presented sentence by sentence\n",
      "\n",
      "Your tasks is to classify the sentence I give you as one of the following keys \"symptoms_labs\", \"thought_process\", and \"diagnosis\":\n",
      "symptoms_labs: \n",
      "- All references to symptoms, test results, or lab findings\n",
      "thought_process: \n",
      "- The reasoning or consideration made by the doctor\n",
      "diagnosis: \n",
      "- The doctor's final or working diagnosis\n",
      "\n",
      "Respond with only the category of the sentence\n",
      " \n",
      "\n",
      " <|im_start|> user\n",
      " Due to the restrictions with the body movements at the neck and in the lumbar region, she would require assistance in standing and walking\n",
      " \n",
      " <|im_start|> assistant\n",
      "diagnosis\n"
     ]
    }
   ],
   "source": [
    "# response = tokenizer.decode(output[0], skip_special_tokens=True)\n",
    "# results.append(response)\n",
    "print(responses[5])"
   ]
  },
  {
   "cell_type": "code",
   "execution_count": 7,
   "id": "288bc46c-0980-4ac9-8184-1ac448b2e2ca",
   "metadata": {},
   "outputs": [],
   "source": [
    "from transformers import AutoTokenizer, AutoModelForCausalLM, pipeline\n",
    "import torch\n",
    "import json\n",
    "\n",
    "# Load model (adjust to your chosen model)\n",
    "# model_id = \"NousResearch/Nous-Hermes-2-Mistral-7B-DPO\"\n",
    "# tokenizer = AutoTokenizer.from_pretrained(model_id)\n",
    "# model = AutoModelForCausalLM.from_pretrained(\n",
    "#     model_id,\n",
    "#     torch_dtype=torch.float16,\n",
    "#     device_map=\"auto\"\n",
    "# )\n",
    "# import torch\n",
    "# from transformers import AutoTokenizer, AutoModelForCausalLM\n",
    "# from transformers import LlamaTokenizer, MixtralForCausalLM\n",
    "# import bitsandbytes, flash_attn\n",
    "\n",
    "# tokenizer = LlamaTokenizer.from_pretrained('NousResearch/Nous-Hermes-2-Mistral-7B-DPO', trust_remote_code=True)\n",
    "# model = MistralForCausalLM.from_pretrained(\n",
    "#     \"NousResearch/Nous-Hermes-2-Mistral-7B-DPO\",\n",
    "#     torch_dtype=torch.float16,\n",
    "#     device_map=\"auto\",\n",
    "#     load_in_8bit=False,\n",
    "#     load_in_4bit=True,\n",
    "#     use_flash_attention_2=True\n",
    "# )"
   ]
  },
  {
   "cell_type": "code",
   "execution_count": null,
   "id": "84ff3ff0-e767-4832-908e-84f923261c00",
   "metadata": {},
   "outputs": [],
   "source": []
  }
 ],
 "metadata": {
  "kernelspec": {
   "display_name": "Python 3 (ipykernel)",
   "language": "python",
   "name": "python3"
  },
  "language_info": {
   "codemirror_mode": {
    "name": "ipython",
    "version": 3
   },
   "file_extension": ".py",
   "mimetype": "text/x-python",
   "name": "python",
   "nbconvert_exporter": "python",
   "pygments_lexer": "ipython3",
   "version": "3.10.16"
  }
 },
 "nbformat": 4,
 "nbformat_minor": 5
}
