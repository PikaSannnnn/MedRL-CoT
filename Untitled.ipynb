{
 "cells": [
  {
   "cell_type": "code",
   "execution_count": 1,
   "id": "d93cd76d-8aed-40d5-8ee0-c24566c28480",
   "metadata": {},
   "outputs": [],
   "source": [
    "%load_ext autoreload\n",
    "%autoreload 2\n",
    "# %reload_ext autoreload"
   ]
  },
  {
   "cell_type": "code",
   "execution_count": 2,
   "id": "b682f71a-59eb-4552-b60c-74081bc2dddb",
   "metadata": {
    "scrolled": true
   },
   "outputs": [],
   "source": [
    "# Install required modules\n",
    "# !pip install datasets dotenv torch SentencePiece accelerate huggingface_hub\n",
    "# !pip install -U bitsandbytes\n",
    "# !pip install --force-reinstall transformers==4.35.2\n",
    "# !pip install --force-reinstall --upgrade bitsandbytes"
   ]
  },
  {
   "cell_type": "code",
   "execution_count": 3,
   "id": "f3daee32-9beb-4303-b18e-806ffc111d0a",
   "metadata": {},
   "outputs": [
    {
     "name": "stderr",
     "output_type": "stream",
     "text": [
      "2025-05-30 11:29:36,800 || INFO || Logger - Setup for MedRL-CoT's log done. This is the beginning of the log.\n",
      "2025-05-30 11:29:36,801 || INFO || DataManager - Loading datasets: ['aug_med_notes', 'mimic4']\n",
      "2025-05-30 11:29:36,805 || INFO || DataManager - AGBonnet/augmented-clinical-notes dataset already exists in disk. If the dataset is giving errors or you'd like a fresh install, delete the /mnt/e/UCSD/ECE285DGM/ECE285DGMProject/data/aug_med_notes directory.\n",
      "2025-05-30 11:29:36,806 || INFO || DataManager - Loading saved hugginface AGBonnet/augmented-clinical-notes dataset.\n"
     ]
    },
    {
     "name": "stdout",
     "output_type": "stream",
     "text": [
      "Generated new log file logs/medrlcot073.log\n"
     ]
    },
    {
     "name": "stderr",
     "output_type": "stream",
     "text": [
      "2025-05-30 11:29:37,052 || INFO || DataManager - Successfully loaded AGBonnet/augmented-clinical-notes as key aug_med_notes\n"
     ]
    },
    {
     "data": {
      "application/vnd.jupyter.widget-view+json": {
       "model_id": "a7ed70198cba41a39bbc398d0a4709c4",
       "version_major": 2,
       "version_minor": 0
      },
      "text/plain": [
       "Saving the dataset (0/8 shards):   0%|          | 0/331793 [00:00<?, ? examples/s]"
      ]
     },
     "metadata": {},
     "output_type": "display_data"
    },
    {
     "name": "stderr",
     "output_type": "stream",
     "text": [
      "2025-05-30 11:30:08,247 || INFO || DataManager - Done loading discharge.csv.gz and saved hugging_face dataset to /mnt/e/UCSD/ECE285DGM/ECE285DGMProject/data/mimic4/hf.\n",
      "2025-05-30 11:30:08,257 || INFO || DataManager - Successfully loaded 2 datasets: ['aug_med_notes', 'mimic4']\n"
     ]
    },
    {
     "data": {
      "text/plain": [
       "{'aug_med_notes': Dataset({\n",
       "     features: ['idx', 'note', 'full_note', 'conversation', 'summary'],\n",
       "     num_rows: 30000\n",
       " }),\n",
       " 'mimic4': DatasetDict({\n",
       "     train: Dataset({\n",
       "         features: ['note_id', 'subject_id', 'hadm_id', 'note_type', 'note_seq', 'charttime', 'storetime', 'text'],\n",
       "         num_rows: 331793\n",
       "     })\n",
       " })}"
      ]
     },
     "execution_count": 3,
     "metadata": {},
     "output_type": "execute_result"
    }
   ],
   "source": [
    "from medrlcot.config.env import MedRL_CoT\n",
    "from medrlcot import data_manager\n",
    "from medrlcot.medrlcot_logger import setup_logger\n",
    "from dotenv import load_dotenv\n",
    "import logging\n",
    "import os\n",
    "\n",
    "# env = load_dotenv()\n",
    "# model_cfg_path = os.path.join(os.getcwd(), os.getenv('model_config'))\n",
    "model_cfg_path = os.path.join(os.getcwd(), \"medrlcot/config/.env\")\n",
    "medrlcot_config = MedRL_CoT(model_cfg_path)\n",
    "\n",
    "setup_logger()\n",
    "logger = logging.getLogger(\"MedRL-CoT Setup\")\n",
    "\n",
    "# Download datasets\n",
    "datasets = data_manager.load_datasets(medrlcot_config.datasets, data_dir=medrlcot_config.data_dir)\n",
    "\n",
    "datasets\n",
    "# print(datasets['aug_med_notes']['full_note'][0])\n",
    "# data_manager.load_datasets(medrlcot_config.datasets, data_dir=medrlcot_config.data_dir, load=False)"
   ]
  },
  {
   "cell_type": "code",
   "execution_count": null,
   "id": "b5c4c906-2d64-40ea-8ea1-5e0b9d1fa42c",
   "metadata": {},
   "outputs": [],
   "source": [
    "ckpt_file = os.path.join(os.getcwd(), medrlcot_config.data_dir, 'mimic4', 'checkpoint.json')"
   ]
  },
  {
   "cell_type": "code",
   "execution_count": 62,
   "id": "48009e35-0d96-44e9-b291-291dae3c831a",
   "metadata": {},
   "outputs": [
    {
     "data": {
      "text/plain": [
       "42"
      ]
     },
     "execution_count": 62,
     "metadata": {},
     "output_type": "execute_result"
    }
   ],
   "source": [
    "checkpoint_idx = 0\n",
    "if os.path.exists(ckpt_file):\n",
    "    with open(ckpt_file, 'r') as f:\n",
    "        checkpoint_idx = json.load(f)['ckpt-idx']\n",
    "\n",
    "checkpoint_idx"
   ]
  },
  {
   "cell_type": "code",
   "execution_count": 7,
   "id": "1777f8cb-a193-4dc0-8fe6-48db303acc0d",
   "metadata": {},
   "outputs": [
    {
     "name": "stderr",
     "output_type": "stream",
     "text": [
      "The `load_in_4bit` and `load_in_8bit` arguments are deprecated and will be removed in the future versions. Please, pass a `BitsAndBytesConfig` object in `quantization_config` argument instead.\n",
      "2025-05-30 11:30:28,663 || INFO || accelerate.utils.modeling - We will use 90% of the memory on device 0 for storing the model, and 10% for the buffer to avoid OOM. You can set `max_memory` in to a higher value to use more memory (at your own risk).\n"
     ]
    },
    {
     "data": {
      "application/vnd.jupyter.widget-view+json": {
       "model_id": "ecb8a1c1f3784d3995ab7e34b6d8040b",
       "version_major": 2,
       "version_minor": 0
      },
      "text/plain": [
       "Loading checkpoint shards:   0%|          | 0/3 [00:00<?, ?it/s]"
      ]
     },
     "metadata": {},
     "output_type": "display_data"
    }
   ],
   "source": [
    "# Load model directly\n",
    "import torch\n",
    "from transformers import AutoTokenizer, AutoModelForCausalLM\n",
    "import bitsandbytes\n",
    "\n",
    "tokenizer = AutoTokenizer.from_pretrained(\"NousResearch/Nous-Hermes-2-Mistral-7B-DPO\", use_fast=False)\n",
    "model = AutoModelForCausalLM.from_pretrained(\"NousResearch/Nous-Hermes-2-Mistral-7B-DPO\", torch_dtype=torch.float16, \n",
    "                                             device_map=\"auto\", load_in_8bit=False, bnb_4bit_compute_dtype=torch.float16, load_in_4bit=True)\n",
    "# model = AutoModelForCausalLM.from_pretrained(\"NousResearch/Nous-Hermes-2-Mistral-7B-DPO\")"
   ]
  },
  {
   "cell_type": "code",
   "execution_count": 11,
   "id": "832400ec-0b0c-47db-b647-a98565219cf6",
   "metadata": {
    "scrolled": true
   },
   "outputs": [
    {
     "data": {
      "text/plain": [
       "' \\nName:  ___                     Unit No:   ___\\n \\nAdmission Date:  ___              Discharge Date:   ___\\n \\nDate of Birth:  ___             Sex:   F\\n \\nService: MEDICINE\\n \\nAllergies: \\nNo Known Allergies / Adverse Drug Reactions\\n \\nAttending: ___\\n \\nChief Complaint:\\nWorsening ABD distension and pain \\n \\nMajor Surgical or Invasive Procedure:\\nParacentesis\\n\\n \\nHistory of Present Illness:\\n___ HCV cirrhosis c/b ascites, hiv on ART, h/o IVDU, COPD, \\nbioplar, PTSD, presented from OSH ED with worsening abd \\ndistension over past week.  \\nPt reports self-discontinuing lasix and spirnolactone ___ weeks \\nago, because she feels like \"they don\\'t do anything\" and that \\nshe \"doesn\\'t want to put more chemicals in her.\" She does not \\nfollow Na-restricted diets. In the past week, she notes that she \\nhas been having worsening abd distension and discomfort. She \\ndenies ___ edema, or SOB, or orthopnea. She denies f/c/n/v, d/c, \\ndysuria. She had food poisoning a week ago from eating stale \\ncake (n/v 20 min after food ingestion), which resolved the same \\nday. She denies other recent illness or sick contacts. She notes \\nthat she has been noticing gum bleeding while brushing her teeth \\nin recent weeks. she denies easy bruising, melena, BRBPR, \\nhemetesis, hemoptysis, or hematuria.  \\nBecause of her abd pain, she went to OSH ED and was transferred \\nto ___ for further care. Per ED report, pt has brief period of \\nconfusion - she did not recall the ultrasound or bloodwork at \\nosh. She denies recent drug use or alcohol use. She denies \\nfeeling confused, but reports that she is forgetful at times.  \\nIn the ED, initial vitals were 98.4 70 106/63 16 97%RA  \\nLabs notable for ALT/AST/AP ___ ___: ___, \\nTbili1.6, WBC 5K, platelet 77, INR 1.6  \\n\\n \\nPast Medical History:\\n1. HCV Cirrhosis  \\n2. No history of abnormal Pap smears.  \\n3. She had calcification in her breast, which was removed  \\npreviously and per patient not, it was benign.  \\n4. For HIV disease, she is being followed by Dr. ___ Dr.  \\n___.  \\n5. COPD  \\n6. Past history of smoking.  \\n7. She also had a skin lesion, which was biopsied and showed  \\nskin cancer per patient report and is scheduled for a complete  \\nremoval of the skin lesion in ___ of this year.  \\n8. She also had another lesion in her forehead with purple  \\ndiscoloration. It was biopsied to exclude the possibility of  \\n___\\'s sarcoma, the results is pending.  \\n9. A 15 mm hypoechoic lesion on her ultrasound on ___  \\nand is being monitored by an MRI.  \\n10. History of dysplasia of anus in ___.  \\n11. Bipolar affective disorder, currently manic, mild, and PTSD. \\n \\n12. History of cocaine and heroin use.  \\n\\n \\nSocial History:\\n___\\nFamily History:\\nShe a total of five siblings, but she is not  \\ntalking to most of them. She only has one brother that she is in \\n \\ntouch with and lives in ___. She is not aware of any  \\nknown GI or liver disease in her family.  \\nHer last alcohol consumption was one drink two months ago. No  \\nregular alcohol consumption. Last drug use ___ years ago. She  \\nquit smoking a couple of years ago.  \\n\\n \\nPhysical Exam:\\nVS: 98.1 107/61 78 18 97RA  \\nGeneral: in NAD  \\nHEENT: CTAB, anicteric sclera, OP clear  \\nNeck: supple, no LAD  \\nCV: RRR,S1S2, no m/r/g  \\nLungs: CTAb, prolonged expiratory phase, no w/r/r  \\nAbdomen: distended, mild diffuse tenderness, +flank dullness, \\ncannot percuss liver/spleen edge ___ distension  \\nGU: no foley  \\nExt: wwp, no c/e/e, + clubbing  \\nNeuro: AAO3, converse normally, able to recall 3 times after 5 \\nminutes, CN II-XII intact  \\n\\nDischarge:\\n\\nPHYSICAL EXAMINATION:  \\nVS: 98 105/70 95\\nGeneral: in NAD  \\nHEENT: anicteric sclera, OP clear  \\nNeck: supple, no LAD  \\nCV: RRR,S1S2, no m/r/g  \\nLungs: CTAb, prolonged expiratory phase, no w/r/r  \\nAbdomen: distended but improved, TTP in RUQ, \\nGU: no foley  \\nExt: wwp, no c/e/e, + clubbing  \\nNeuro: AAO3,  CN II-XII intact  \\n\\n \\nPertinent Results:\\n___ 10:25PM   GLUCOSE-109* UREA N-25* CREAT-0.3* SODIUM-138 \\nPOTASSIUM-3.4 CHLORIDE-105 TOTAL CO2-27 ANION GAP-9\\n___ 10:25PM   estGFR-Using this\\n___ 10:25PM   ALT(SGPT)-100* AST(SGOT)-114* ALK PHOS-114* \\nTOT BILI-1.6*\\n___ 10:25PM   LIPASE-77*\\n___ 10:25PM   ALBUMIN-3.3*\\n___ 10:25PM   WBC-5.0# RBC-4.29 HGB-14.3 HCT-42.6 MCV-99* \\nMCH-33.3* MCHC-33.5 RDW-15.7*\\n___ 10:25PM   NEUTS-70.3* LYMPHS-16.5* MONOS-8.1 EOS-4.2* \\nBASOS-0.8\\n___ 10:25PM   PLT COUNT-71*\\n___ 10:25PM   ___ PTT-30.9 ___\\n___ 10:25PM   ___\\n.\\n\\nCXR: No acute cardiopulmonary process.  \\nU/S:  \\n1. Nodular appearance of the liver compatible with cirrhosis. \\nSigns of portal  \\nhypertension including small amount of ascites and splenomegaly. \\n \\n2. Cholelithiasis.  \\n3. Patent portal veins with normal hepatopetal flow.  \\nDiagnostic para attempted in the ED, unsuccessful.  \\nOn the floor, pt c/o abd distension and discomfort.\\n \\nBrief Hospital Course:\\n___ HCV cirrhosis c/b ascites, hiv on ART, h/o IVDU, COPD, \\nbioplar, PTSD, presented from OSH ED with worsening abd \\ndistension over past week and confusion.  \\n\\n# Ascites - p/w worsening abd distension and discomfort for last \\nweek. likely ___ portal HTN given underlying liver disease, \\nthough no ascitic fluid available on night of admission. No \\nsigns of heart failure noted on exam. This was ___ to med \\nnon-compliance and lack of diet restriction. SBP negative\\ndiuretics:  \\n> Furosemide 40 mg PO DAILY  \\n> Spironolactone 50 mg PO DAILY, chosen over the usual 100mg \\ndose d/t K+ of 4.5.   \\n CXR was wnl, UA negative, Urine culture blood culture negative. \\n \\nPt was losing excess fluid appropriately with stable lytes on \\nthe above regimen. Pt was scheduled with current PCP for \\n___ check upon discharge.   \\nPt was scheduled for new PCP with Dr. ___ at ___ and \\nfollow up in Liver clinic to schedule outpatient screening EGD \\nand ___.   \\n \\n\\n \\nMedications on Admission:\\nThe Preadmission Medication list is accurate and complete.\\n1. Furosemide 20 mg PO DAILY \\n2. Spironolactone 50 mg PO DAILY \\n3. Albuterol Inhaler 2 PUFF IH Q4H:PRN wheezing, SOB \\n4. Raltegravir 400 mg PO BID \\n5. Emtricitabine-Tenofovir (Truvada) 1 TAB PO DAILY \\n6. Nicotine Patch 14 mg TD DAILY \\n7. Ipratropium Bromide Neb 1 NEB IH Q6H SOB \\n\\n \\nDischarge Medications:\\n1. Albuterol Inhaler 2 PUFF IH Q4H:PRN wheezing, SOB \\n2. Emtricitabine-Tenofovir (Truvada) 1 TAB PO DAILY \\n3. Furosemide 40 mg PO DAILY \\nRX *furosemide 40 mg 1 tablet(s) by mouth Daily Disp #*30 Tablet \\nRefills:*3\\n4. Ipratropium Bromide Neb 1 NEB IH Q6H SOB \\n5. Nicotine Patch 14 mg TD DAILY \\n6. Raltegravir 400 mg PO BID \\n7. Spironolactone 50 mg PO DAILY \\n8. Acetaminophen 500 mg PO Q6H:PRN pain \\n\\n \\nDischarge Disposition:\\nHome\\n \\nDischarge Diagnosis:\\nAscites from Portal HTN\\n\\n \\nDischarge Condition:\\nMental Status: Clear and coherent.\\nLevel of Consciousness: Alert and interactive.\\nActivity Status: Ambulatory - Independent.\\n\\n \\nDischarge Instructions:\\nDear Ms. ___,\\nIt was a pleasure taking care of you! You came to us with \\nstomach pain and worsening distension. While you were here we \\ndid a paracentesis to remove 1.5L of fluid from your belly. We \\nalso placed you on you 40 mg of Lasix and 50 mg of Aldactone to \\nhelp you urinate the excess fluid still in your belly. As we \\ndiscussed, everyone has a different dose of lasix required to \\nmake them urinate and it\\'s likely that you weren\\'t taking a high \\nenough dose. Please take these medications daily to keep excess \\nfluid off and eat a low salt diet. You will follow up with Dr. \\n___ in liver clinic and from there have your colonoscopy \\nand EGD scheduled. Of course, we are always here if you need us. \\nWe wish you all the best!\\nYour ___ Team.  \\n \\nFollowup Instructions:\\n___\\n'"
      ]
     },
     "execution_count": 11,
     "metadata": {},
     "output_type": "execute_result"
    }
   ],
   "source": [
    "# example_note=datasets['mimic4']['train'][0]['text']\n",
    "# example_note"
   ]
  },
  {
   "cell_type": "code",
   "execution_count": 12,
   "id": "c903e73a-8bd2-48b3-8d6f-f771372613f8",
   "metadata": {},
   "outputs": [],
   "source": [
    "# example_note = \"\"\"A a sixteen year-old girl, presented to our Outpatient department with the complaints of discomfort in the neck and lower back as well as restriction of body movements. She was not able to maintain an erect posture and would tend to fall on either side while standing up from a sitting position. She would keep her head turned to the right and upwards due to the sustained contraction of the neck muscles. There was a sideways bending of the back in the lumbar region. To counter the abnormal positioning of the back and neck, she would keep her limbs in a specific position to allow her body weight to be supported. Due to the restrictions with the body movements at the neck and in the lumbar region, she would require assistance in standing and walking. She would require her parents to help her with daily chores, including all activities of self-care.\\nShe had been experiencing these difficulties for the past four months since when she was introduced to olanzapine tablets for the control of her exacerbated mental illness. This was not her first experience with this drug over the past seven years since she had been diagnosed with bipolar affective disorder. Her first episode of the affective disorder was that of mania at the age of eleven which was managed with the use of olanzapine tablets in 2.5–10 mg doses per day at different times. The patient developed pain and discomfort in her neck within the second week of being put on tablet olanzapine at a dose of 5 mg per day. This was associated with a sustained and abnormal contraction of the neck muscles that would pull her head to the right in an upward direction. These features had persisted for the first three years of her illness with a varying intensity, distress, and dysfunction which would tend to correlate with the dose of olanzapine. Apart from a brief period of around three weeks when she was given tablet trihexyphenidyl 4 mg per day for rigidity in her upper limbs, she was not prescribed any other psychotropic medication. The rigidity showed good response to this medication which was subsequently stopped. The introduction and subsequent withdrawal of this medication did not bring about any change in the sustained abnormal contraction of her neck muscles.\\nImprovement and subsequent remission of the mood symptoms of the patient provided the treatment team with an opportunity to stop olanzapine. The discomfort in the neck and the abnormal movement of the neck muscles persisted over the next three months’ period when she was off olanzapine without any significant change, even with a trial of propranolol, trihexyphenidyl, and phenargan injection. Reintroduction of olanzapine (at a dose of 2.5 mg per day) after a gap of three months for the reemergence of some behavioral features led to a slight aggravation of the already existing abnormal movement and posturing of the neck.\\nWith improvement in the clinical picture, olanzapine was reduced and stopped. She was put on tablet sodium valproate, 1000 mg per day during this period for the stabilization of her mood when she was also given escitalopram for a period of three months for her depressive features. The patient responded well to this change in medication, but she developed amenorrhea for which no cause was established after a detailed gynecological evaluation. Keeping in mind the possibility of valproate-induced menstrual disturbance, she was shifted to tablet lithium 450 mg per day. The patient was well maintained on this medication for a period of around two years. However, she developed hypothyroidism for which eltroxin was introduced at a dose of 50 micrograms per day.\\nDuring this period of two years and seven months, the abnormal contraction of the neck muscles and the abnormal positioning of the head improved slightly, and with the improvement, it would cause less discomfort and interference in her activities. However, these movements failed to disappear completely. Another exacerbation of the mood symptoms in the form of mania warranted a need for the introduction of olanzapine (by a different treatment team) and the patient was reintroduced to 10 mg olanzapine on a daily basis, which led to the current presentation as described earlier.\\nAfter the case was seen at our institute, the psychotropic medications were stopped as her mood symptoms had remitted and she was put on tablet tetrabenazine (built up to 75 mg per day in divided doses) with which the patient had started showing some response with an improvement in abnormal movements of the muscles of the neck as well as the back. She is now able to stand with support and can do some daily chores on her own. The pain and discomfort in the back and neck have also reduced.\\nDuring the course of the illness, the patient has been investigated for the presence of any neurological illness as the cause of her abnormal movements. Her MRI scan of the brain, serum and urine copper levels, slit lamp microscopy for the KF ring, complete blood count, TLC, DLC, and USG of the abdomen did not reveal any abnormalities. Her thyroid function tests were deranged subsequent to the introduction of tablet lithium carbonate which was restored to normal after the introduction of tablet eltroxin.\\nDystonia is a syndrome of sustained muscle contractions that produce twisting and repetitive movements or abnormal postures. The descriptions of the extent and severity of muscle involvement are variable, ranging from intermittent contraction limited to a single body region, to generalized dystonia involving the limbs and axial muscles.\\nEver since the introduction of the term, “dystonia” by Oppenhiem in the early part of the twentieth century, it has been an area of focused attention of the neurologists. In 1973, Keegan and Rajput introduced the term, “” to describe drug-induced, sustained muscle spasm causing repetitive movements or abnormal postures. “” was a term introduced by Burke in 1982, the description of which required the presence of chronic dystonia, a history of antipsychotic drug treatment preceding or concurrent with the onset of dystonia, the exclusion of known causes of secondary dystonia by appropriate clinical and laboratory evaluation, and a negative family history of dystonia for definitive diagnosis.\\nThe dystonia could be classified based on the region(s) of the body involved. Involvement of isolated regions like the face, neck, and arms would be labeled as focal dystonia, whereas simultaneous involvement of two or more contiguous areas would be called segmental dystonia. When the clinical picture is that of involvement of two or more noncontiguous regions, the label used is, “multifocal” and the involvement of one leg and one other body region makes it the generalized type.\\nThe symptoms of tardive dystonia could begin even after a few days or weeks of exposure to the offending agent. Tardive dystonia is prevalent in 0.5–21.6% of the patients who are treated with neuroleptics.\\nThe syndrome of tardive dystonia has been reported with most of the typical antipsychotics.[] It has been associated with the atypical antipsychotics, namely risperidone, olanzapine, quetiapine, and aripiprazole. Reports of tardive dystonia developing with the use of atypical antipsychotics have been predominantly in the cases of nonaffective psychosis and in the adult population in the age ranges of the midthirties and forties. Our case is the first case of an affective illness in an adolescent girl developing tardive dystonia on olanzapine. The aggravation of the clinical features with the inadvertent reintroduction of the medication suggests olanzapine is the offending agent. With the growing acceptance of olanzapine as the first-line therapy for the manic phase of bipolar illness and as a mood stabilizer for the maintenance therapy, one needs to be cautious about the emergence of this troublesome adverse effect of this therapy. The patient has shown some response to the introduction of tetrabenazine.\"\"\""
   ]
  },
  {
   "cell_type": "code",
   "execution_count": 30,
   "id": "29f54a44-7692-49c7-9fcb-4d7ee1be4124",
   "metadata": {},
   "outputs": [],
   "source": [
    "sentences = example_note.split('.')\n",
    "chunks = example_note.split('\\n\\n')\n",
    "# len(example_note.split())"
   ]
  },
  {
   "cell_type": "code",
   "execution_count": 31,
   "id": "bb1151dc-4aef-4d29-8fc5-887bcb992982",
   "metadata": {},
   "outputs": [
    {
     "data": {
      "text/plain": [
       "15"
      ]
     },
     "execution_count": 31,
     "metadata": {},
     "output_type": "execute_result"
    }
   ],
   "source": [
    "# len(sentences)\n",
    "len(chunks)"
   ]
  },
  {
   "cell_type": "code",
   "execution_count": 15,
   "id": "fab88b10-3989-4998-bbb1-b8bee550f865",
   "metadata": {},
   "outputs": [
    {
     "data": {
      "text/plain": [
       "'A a sixteen year-old girl, presented to our Outpatient department with the complaints of discomfort in the neck and lower back as well as restriction of body movements. She was not able to maintain an erect posture and would tend to fall on either side while standing up from a sitting position. She would keep her head turned to the right and upwards due to the sustained contraction of the neck muscles. There was a sideways bending of the back in the lumbar region. To counter the abnormal positioning of the back and neck, she would keep her limbs in a specific position to allow her body weight to be supported. Due to the restrictions with the body movements at the neck and in the lumbar region, she would require assistance in standing and walking. She would require her parents to help her with daily chores, including all activities of self-care.'"
      ]
     },
     "execution_count": 15,
     "metadata": {},
     "output_type": "execute_result"
    }
   ],
   "source": [
    "chunks[0]"
   ]
  },
  {
   "cell_type": "code",
   "execution_count": 18,
   "id": "05102934-4aaa-4e0a-8212-a333c21a4f54",
   "metadata": {},
   "outputs": [
    {
     "data": {
      "text/plain": [
       "221"
      ]
     },
     "execution_count": 18,
     "metadata": {},
     "output_type": "execute_result"
    }
   ],
   "source": [
    "# initit_prompt = f\"\"\"<|im_start|>system\n",
    "# You are a medical assistant helping organize a patient's clinical notes that will presented sentence by sentence.\n",
    "\n",
    "# Your tasks is to classify the sentence I give you as one of the following keys \"symptoms_labs\", \"thought_process\", and \"diagnosis\":\n",
    "# symptoms_labs: \n",
    "# - All references to symptoms they are currently or was experiencing, test results, or lab findings\n",
    "# thought_process: \n",
    "# - The reasoning or consideration made by the doctor\n",
    "# diagnosis: \n",
    "# - The doctor's final or working diagnosis\n",
    "\n",
    "# Respond with only the category of the sentence\n",
    "# <|im_end|>\n",
    "# \"\"\"\n",
    "# Respond with a JSON containing the sentence as key and the classification as the value: \"symptoms_labs\", \"thought_process\", and \"diagnosis\". \n",
    "initit_prompt = \"\"\"<|im_start|>system\n",
    "You are a medical assistant helping organize a patient's clinical notes  that will presented by paragraph/chunk.\n",
    "\n",
    "Your tasks is to read through the chunk of a clinical note and classify different sentences as one of the following keys \"symptoms_labs\", \"thought_process\", and \"diagnosis\":\n",
    "symptoms_labs: \n",
    "- All references to symptoms they are currently or was experiencing, test results, or lab findings\n",
    "thought_process: \n",
    "- The reasoning, considerations, or requested labs made by the doctor\n",
    "diagnosis: \n",
    "- The doctor's final or working diagnosis, including the explanation or background of a diagnosis.\n",
    "\n",
    "Respond with a JSON **EXACTLY as structured:\n",
    "{'symptoms_labs': [sentence1, sentence2, ...],\n",
    "'thought_process': [sentence1, sentence2, ...],\n",
    "'diagnosis': [sentence1, sentence2, ...]\n",
    "}\n",
    "\n",
    "\n",
    "**Do not rephrase or paraphrase sentences. Use the original sentences exactly as provided.**\n",
    "<|im_end|>\n",
    "\"\"\"\n",
    "\n",
    "prompts = [f\"\"\"{initit_prompt}\n",
    "<|im_start|>user\n",
    "{chunk}\n",
    "<|im_end|>\n",
    "<|im_start|>assistant\n",
    "\"\"\" for chunk in chunks\n",
    "]\n",
    "len(prompts)"
   ]
  },
  {
   "cell_type": "code",
   "execution_count": 19,
   "id": "0d9286a6-bd92-4ff7-a91c-bc51bf0c3dad",
   "metadata": {},
   "outputs": [
    {
     "data": {
      "text/plain": [
       "'<|im_start|>system\\nYou are a medical assistant helping organize a patient\\'s clinical notes  that will presented by paragraph/chunk.\\n\\nYour tasks is to read through the chunk of a clinical note and classify different sentences as one of the following keys \"symptoms_labs\", \"thought_process\", and \"diagnosis\":\\nsymptoms_labs: \\n- All references to symptoms they are currently or was experiencing, test results, or lab findings\\nthought_process: \\n- The reasoning, considerations, or requested labs made by the doctor\\ndiagnosis: \\n- The doctor\\'s final or working diagnosis, including the explanation or background of a diagnosis.\\n\\nRespond with a JSON **EXACTLY as structured:\\n{\\'symptoms_labs\\': [sentence1, sentence2, ...],\\n\\'thought_process\\': [sentence1, sentence2, ...],\\n\\'diagnosis\\': [sentence1, sentence2, ...]\\n}\\n\\n\\n**Do not rephrase or paraphrase sentences. Use the original sentences exactly as provided.**\\n<|im_end|>\\n\\n<|im_start|>user\\n \\n<|im_end|>\\n<|im_start|>assistant\\n'"
      ]
     },
     "execution_count": 19,
     "metadata": {},
     "output_type": "execute_result"
    }
   ],
   "source": [
    "prompts[0]"
   ]
  },
  {
   "cell_type": "code",
   "execution_count": 20,
   "id": "95c37c65-b2f6-4639-8565-b7fb34328de1",
   "metadata": {},
   "outputs": [],
   "source": [
    "# responses = []\n",
    "# for prompt in prompts:\n",
    "#     inputs = tokenizer(prompt, return_tensors=\"pt\").to(model.device)\n",
    "#     output = model.generate(**inputs, max_new_tokens=512, do_sample=False, temperature=0.0)\n",
    "#     response = tokenizer.decode(output[0], skip_special_tokens=True)\n",
    "#     responses.append(response)\n",
    "#     if len(responses) < 3:\n",
    "#         print(response)"
   ]
  },
  {
   "cell_type": "code",
   "execution_count": 21,
   "id": "dd00851d-6cd0-4e27-ab14-3261b4b358d2",
   "metadata": {},
   "outputs": [],
   "source": [
    "import json\n",
    "import re\n",
    "\n",
    "def json_to_dict(full_response:str):\n",
    "    match = re.search(r'assistant\\s*(\\{.*|\\d+:\\s*\".*?)$', full_response, re.DOTALL)\n",
    "    json_data = None\n",
    "    if match:\n",
    "        json_str = match.group(1)\n",
    "        try:\n",
    "            json_data = json.loads(json_str)\n",
    "            logger.info(\"Successful JSON parsed!\")\n",
    "        except json.JSONDecodeError as e:\n",
    "            # print(\"Invalid JSON:\", e)\n",
    "            logger.warning(\"Invalid JSON, trying conversion\")\n",
    "            try:\n",
    "                pattern = re.compile(r'\\d+:\\s*\"(.+?)\"\\s*[:\\-]*>*\\s*(\\w+)', re.DOTALL)\n",
    "                json_data = {}\n",
    "                # print(json_str)\n",
    "                for match in pattern.findall(json_str):\n",
    "                    # print(match)\n",
    "                    sentence, label = match\n",
    "                    cleaned_sentence = sentence.strip()\n",
    "                    json_data[cleaned_sentence] = label.strip()\n",
    "                assert len(output) > 0\n",
    "                logger.info(\"Successful conversion!\")\n",
    "            except:\n",
    "                logger.error(\"Provided data schema not parseable/known, skipping this chunk\")\n",
    "                json_data = None\n",
    "    else:\n",
    "        logger.error(\"Nothing found, bad example!\")\n",
    "\n",
    "    return json_data"
   ]
  },
  {
   "cell_type": "code",
   "execution_count": 22,
   "id": "336fbde5-3a9a-47bc-821f-bc770bfb6927",
   "metadata": {},
   "outputs": [],
   "source": [
    "# for t in test[0]:\n",
    "#     # print(t)\n",
    "#     print(json_to_dict(t))"
   ]
  },
  {
   "cell_type": "code",
   "execution_count": 64,
   "id": "43181f07-db68-42e8-a30e-cf8915de87ae",
   "metadata": {},
   "outputs": [
    {
     "data": {
      "text/plain": [
       "42"
      ]
     },
     "execution_count": 64,
     "metadata": {},
     "output_type": "execute_result"
    }
   ],
   "source": [
    "dataset_example_idx = checkpoint_idx\n",
    "processed_dataset = {'sentence': [], 'class': []}\n",
    "dataset_example_idx"
   ]
  },
  {
   "cell_type": "code",
   "execution_count": 27,
   "id": "0d2c8a82-2b93-48fc-a608-7e6e80caf1d4",
   "metadata": {},
   "outputs": [],
   "source": [
    "# len(datasets['aug_med_notes']['full_note'][0])"
   ]
  },
  {
   "cell_type": "code",
   "execution_count": 38,
   "id": "bf0efbe9-5422-44a0-b921-ed8b001b0dc9",
   "metadata": {},
   "outputs": [],
   "source": [
    "# processed_dataset['case_id']"
   ]
  },
  {
   "cell_type": "code",
   "execution_count": 55,
   "id": "9ac3cbd4-ec2e-4710-ac92-acaef918748b",
   "metadata": {
    "scrolled": true
   },
   "outputs": [
    {
     "name": "stderr",
     "output_type": "stream",
     "text": [
      "Preprocessing dataset:   0%|                                                                                                                                                       | 0/331793 [00:00<?, ?it/s]2025-05-30 12:45:40,473 || INFO || MedRL-CoT Setup - Preprocessing example 0\n",
      "2025-05-30 12:45:40,474 || INFO || MedRL-CoT Setup - Example 0 already complete, skipping\n",
      "2025-05-30 12:45:40,475 || INFO || MedRL-CoT Setup - Preprocessing example 1\n",
      "2025-05-30 12:45:40,475 || INFO || MedRL-CoT Setup - Example 1 already complete, skipping\n",
      "2025-05-30 12:45:40,476 || INFO || MedRL-CoT Setup - Preprocessing example 2\n",
      "2025-05-30 12:45:40,477 || INFO || MedRL-CoT Setup - Example 2 already complete, skipping\n",
      "2025-05-30 12:45:40,478 || INFO || MedRL-CoT Setup - Preprocessing example 3\n",
      "2025-05-30 12:45:40,479 || INFO || MedRL-CoT Setup - Example 3 already complete, skipping\n",
      "2025-05-30 12:45:40,480 || INFO || MedRL-CoT Setup - Preprocessing example 4\n",
      "2025-05-30 12:45:40,481 || INFO || MedRL-CoT Setup - Example 4 already complete, skipping\n",
      "2025-05-30 12:45:40,482 || INFO || MedRL-CoT Setup - Preprocessing example 5\n"
     ]
    },
    {
     "name": "stdout",
     "output_type": "stream",
     "text": [
      "20\n"
     ]
    },
    {
     "name": "stderr",
     "output_type": "stream",
     "text": [
      "\n",
      "Classifying prompts:   0%|                                                                                                                                                             | 0/20 [00:00<?, ?it/s]\u001b[A2025-05-30 12:45:56,883 || INFO || MedRL-CoT Setup - Successful JSON parsed!\n",
      "\n",
      "Classifying prompts:   5%|███████▍                                                                                                                                             | 1/20 [00:16<05:11, 16.40s/it]\u001b[A2025-05-30 12:45:59,822 || INFO || MedRL-CoT Setup - Successful JSON parsed!\n",
      "\n",
      "Classifying prompts:  10%|██████████████▉                                                                                                                                      | 2/20 [00:19<02:32,  8.48s/it]\u001b[A2025-05-30 12:46:23,740 || INFO || MedRL-CoT Setup - Successful JSON parsed!\n",
      "\n",
      "Classifying prompts:  15%|██████████████████████▎                                                                                                                              | 3/20 [00:43<04:24, 15.53s/it]\u001b[A2025-05-30 12:46:28,776 || INFO || MedRL-CoT Setup - Successful JSON parsed!\n",
      "\n",
      "Classifying prompts:  20%|█████████████████████████████▊                                                                                                                       | 4/20 [00:48<03:02, 11.39s/it]\u001b[A2025-05-30 12:46:35,994 || INFO || MedRL-CoT Setup - Successful JSON parsed!\n",
      "\n",
      "Classifying prompts:  25%|█████████████████████████████████████▎                                                                                                               | 5/20 [00:55<02:28,  9.88s/it]\u001b[A2025-05-30 12:47:02,741 || INFO || MedRL-CoT Setup - Successful JSON parsed!\n",
      "\n",
      "Classifying prompts:  30%|████████████████████████████████████████████▋                                                                                                        | 6/20 [01:22<03:38, 15.62s/it]\u001b[A2025-05-30 12:48:10,617 || WARNING || MedRL-CoT Setup - Invalid JSON, trying conversion\n",
      "2025-05-30 12:48:10,619 || ERROR || MedRL-CoT Setup - Provided data schema not parseable/known, skipping this chunk\n",
      "\n",
      "Classifying prompts:  35%|████████████████████████████████████████████████████▏                                                                                                | 7/20 [02:30<07:05, 32.70s/it]\u001b[A2025-05-30 12:48:22,120 || INFO || MedRL-CoT Setup - Successful JSON parsed!\n",
      "\n",
      "Classifying prompts:  40%|███████████████████████████████████████████████████████████▌                                                                                         | 8/20 [02:41<05:11, 25.95s/it]\u001b[A2025-05-30 12:48:33,892 || INFO || MedRL-CoT Setup - Successful JSON parsed!\n",
      "\n",
      "Classifying prompts:  45%|███████████████████████████████████████████████████████████████████                                                                                  | 9/20 [02:53<03:56, 21.52s/it]\u001b[A2025-05-30 12:48:46,796 || INFO || MedRL-CoT Setup - Successful JSON parsed!\n",
      "\n",
      "Classifying prompts:  50%|██████████████████████████████████████████████████████████████████████████                                                                          | 10/20 [03:06<03:08, 18.86s/it]\u001b[A2025-05-30 12:49:08,831 || INFO || MedRL-CoT Setup - Successful JSON parsed!\n",
      "\n",
      "Classifying prompts:  55%|█████████████████████████████████████████████████████████████████████████████████▍                                                                  | 11/20 [03:28<02:58, 19.83s/it]\u001b[A2025-05-30 12:49:30,533 || INFO || MedRL-CoT Setup - Successful JSON parsed!\n",
      "\n",
      "Classifying prompts:  60%|████████████████████████████████████████████████████████████████████████████████████████▊                                                           | 12/20 [03:50<02:43, 20.40s/it]\u001b[A2025-05-30 12:49:34,742 || INFO || MedRL-CoT Setup - Successful JSON parsed!\n",
      "\n",
      "Classifying prompts:  65%|████████████████████████████████████████████████████████████████████████████████████████████████▏                                                   | 13/20 [03:54<01:48, 15.50s/it]\u001b[A2025-05-30 12:49:43,541 || INFO || MedRL-CoT Setup - Successful JSON parsed!\n",
      "\n",
      "Classifying prompts:  70%|███████████████████████████████████████████████████████████████████████████████████████████████████████▌                                            | 14/20 [04:03<01:20, 13.47s/it]\u001b[A2025-05-30 12:49:47,186 || INFO || MedRL-CoT Setup - Successful JSON parsed!\n",
      "\n",
      "Classifying prompts:  75%|███████████████████████████████████████████████████████████████████████████████████████████████████████████████                                     | 15/20 [04:06<00:52, 10.51s/it]\u001b[A2025-05-30 12:49:56,578 || INFO || MedRL-CoT Setup - Successful JSON parsed!\n",
      "\n",
      "Classifying prompts:  80%|██████████████████████████████████████████████████████████████████████████████████████████████████████████████████████▍                             | 16/20 [04:16<00:40, 10.17s/it]\u001b[A2025-05-30 12:50:08,520 || INFO || MedRL-CoT Setup - Successful JSON parsed!\n",
      "\n",
      "Classifying prompts:  85%|█████████████████████████████████████████████████████████████████████████████████████████████████████████████████████████████▊                      | 17/20 [04:28<00:32, 10.71s/it]\u001b[A2025-05-30 12:50:10,999 || WARNING || MedRL-CoT Setup - Invalid JSON, trying conversion\n",
      "2025-05-30 12:50:11,000 || ERROR || MedRL-CoT Setup - Provided data schema not parseable/known, skipping this chunk\n",
      "\n",
      "Classifying prompts:  90%|█████████████████████████████████████████████████████████████████████████████████████████████████████████████████████████████████████▏              | 18/20 [04:30<00:16,  8.23s/it]\u001b[A2025-05-30 12:50:23,761 || INFO || MedRL-CoT Setup - Successful JSON parsed!\n",
      "\n",
      "Classifying prompts:  95%|████████████████████████████████████████████████████████████████████████████████████████████████████████████████████████████████████████████▌       | 19/20 [04:43<00:09,  9.59s/it]\u001b[A2025-05-30 12:50:26,872 || INFO || MedRL-CoT Setup - Successful JSON parsed!\n",
      "\n",
      "Classifying prompts: 100%|████████████████████████████████████████████████████████████████████████████████████████████████████████████████████████████████████████████████████| 20/20 [04:46<00:00,  7.65s/it]\u001b[A\n",
      "                                                                                                                                                                                                              \u001b[A2025-05-30 12:50:26,879 || INFO || MedRL-CoT Setup - Dumping to save\n"
     ]
    },
    {
     "data": {
      "application/vnd.jupyter.widget-view+json": {
       "model_id": "b4ce6cb4d1ec464f8806434c85730648",
       "version_major": 2,
       "version_minor": 0
      },
      "text/plain": [
       "Saving the dataset (0/1 shards):   0%|          | 0/751 [00:00<?, ? examples/s]"
      ]
     },
     "metadata": {},
     "output_type": "display_data"
    },
    {
     "name": "stderr",
     "output_type": "stream",
     "text": [
      "Preprocessing dataset:   0%|                                                                                                                                          | 6/331793 [04:46<4399:59:11, 47.74s/it]2025-05-30 12:50:26,923 || INFO || MedRL-CoT Setup - Preprocessing example 6\n"
     ]
    },
    {
     "name": "stdout",
     "output_type": "stream",
     "text": [
      "13\n"
     ]
    },
    {
     "name": "stderr",
     "output_type": "stream",
     "text": [
      "\n",
      "Classifying prompts:   0%|                                                                                                                                                             | 0/13 [00:00<?, ?it/s]\u001b[A2025-05-30 12:51:05,198 || WARNING || MedRL-CoT Setup - Invalid JSON, trying conversion\n",
      "2025-05-30 12:51:05,199 || ERROR || MedRL-CoT Setup - Provided data schema not parseable/known, skipping this chunk\n",
      "\n",
      "Classifying prompts:   8%|███████████▍                                                                                                                                         | 1/13 [00:38<07:39, 38.27s/it]\u001b[A2025-05-30 12:51:09,634 || INFO || MedRL-CoT Setup - Successful JSON parsed!\n",
      "\n",
      "Classifying prompts:  15%|██████████████████████▉                                                                                                                              | 2/13 [00:42<03:22, 18.37s/it]\u001b[A2025-05-30 12:51:39,606 || WARNING || MedRL-CoT Setup - Invalid JSON, trying conversion\n",
      "2025-05-30 12:51:39,607 || ERROR || MedRL-CoT Setup - Provided data schema not parseable/known, skipping this chunk\n",
      "\n",
      "Classifying prompts:  23%|██████████████████████████████████▍                                                                                                                  | 3/13 [01:12<03:56, 23.67s/it]\u001b[A2025-05-30 12:52:08,878 || INFO || MedRL-CoT Setup - Successful JSON parsed!\n",
      "\n",
      "Classifying prompts:  31%|█████████████████████████████████████████████▊                                                                                                       | 4/13 [01:41<03:52, 25.88s/it]\u001b[A2025-05-30 12:52:27,621 || INFO || MedRL-CoT Setup - Successful JSON parsed!\n",
      "\n",
      "Classifying prompts:  38%|█████████████████████████████████████████████████████████▎                                                                                           | 5/13 [02:00<03:06, 23.31s/it]\u001b[A2025-05-30 12:52:40,062 || INFO || MedRL-CoT Setup - Successful JSON parsed!\n",
      "\n",
      "Classifying prompts:  46%|████████████████████████████████████████████████████████████████████▊                                                                                | 6/13 [02:13<02:17, 19.61s/it]\u001b[A2025-05-30 12:53:15,416 || INFO || MedRL-CoT Setup - Successful JSON parsed!\n",
      "\n",
      "Classifying prompts:  54%|████████████████████████████████████████████████████████████████████████████████▏                                                                    | 7/13 [02:48<02:28, 24.76s/it]\u001b[A2025-05-30 12:53:17,829 || INFO || MedRL-CoT Setup - Successful JSON parsed!\n",
      "\n",
      "Classifying prompts:  62%|███████████████████████████████████████████████████████████████████████████████████████████▋                                                         | 8/13 [02:50<01:28, 17.64s/it]\u001b[A2025-05-30 12:53:30,868 || INFO || MedRL-CoT Setup - Successful JSON parsed!\n",
      "\n",
      "Classifying prompts:  69%|███████████████████████████████████████████████████████████████████████████████████████████████████████▏                                             | 9/13 [03:03<01:04, 16.20s/it]\u001b[A2025-05-30 12:54:52,207 || WARNING || MedRL-CoT Setup - Invalid JSON, trying conversion\n",
      "2025-05-30 12:54:52,208 || ERROR || MedRL-CoT Setup - Provided data schema not parseable/known, skipping this chunk\n",
      "\n",
      "Classifying prompts:  77%|█████████████████████████████████████████████████████████████████████████████████████████████████████████████████▊                                  | 10/13 [04:25<01:48, 36.31s/it]\u001b[A2025-05-30 12:54:59,631 || WARNING || MedRL-CoT Setup - Invalid JSON, trying conversion\n",
      "2025-05-30 12:54:59,632 || ERROR || MedRL-CoT Setup - Provided data schema not parseable/known, skipping this chunk\n",
      "\n",
      "Classifying prompts:  85%|█████████████████████████████████████████████████████████████████████████████████████████████████████████████████████████████▏                      | 11/13 [04:32<00:54, 27.47s/it]\u001b[A2025-05-30 12:55:03,515 || INFO || MedRL-CoT Setup - Successful JSON parsed!\n",
      "\n",
      "Classifying prompts:  92%|████████████████████████████████████████████████████████████████████████████████████████████████████████████████████████████████████████▌           | 12/13 [04:36<00:20, 20.30s/it]\u001b[A2025-05-30 12:55:23,292 || WARNING || MedRL-CoT Setup - Invalid JSON, trying conversion\n",
      "2025-05-30 12:55:23,293 || ERROR || MedRL-CoT Setup - Provided data schema not parseable/known, skipping this chunk\n",
      "\n",
      "Classifying prompts: 100%|████████████████████████████████████████████████████████████████████████████████████████████████████████████████████████████████████████████████████| 13/13 [04:56<00:00, 20.14s/it]\u001b[A\n",
      "                                                                                                                                                                                                              \u001b[A2025-05-30 12:55:23,300 || INFO || MedRL-CoT Setup - Dumping to save\n"
     ]
    },
    {
     "data": {
      "application/vnd.jupyter.widget-view+json": {
       "model_id": "51a277bc246045c5a492233af4a48976",
       "version_major": 2,
       "version_minor": 0
      },
      "text/plain": [
       "Saving the dataset (0/1 shards):   0%|          | 0/803 [00:00<?, ? examples/s]"
      ]
     },
     "metadata": {},
     "output_type": "display_data"
    },
    {
     "name": "stderr",
     "output_type": "stream",
     "text": [
      "Preprocessing dataset:   0%|                                                                                                                                          | 7/331793 [09:42<8807:27:14, 95.56s/it]2025-05-30 12:55:23,341 || INFO || MedRL-CoT Setup - Preprocessing example 7\n"
     ]
    },
    {
     "name": "stdout",
     "output_type": "stream",
     "text": [
      "19\n"
     ]
    },
    {
     "name": "stderr",
     "output_type": "stream",
     "text": [
      "\n",
      "Classifying prompts:   0%|                                                                                                                                                             | 0/19 [00:00<?, ?it/s]\u001b[A2025-05-30 12:55:37,795 || INFO || MedRL-CoT Setup - Successful JSON parsed!\n",
      "\n",
      "Classifying prompts:   5%|███████▊                                                                                                                                             | 1/19 [00:14<04:20, 14.45s/it]\u001b[A2025-05-30 12:56:45,033 || INFO || MedRL-CoT Setup - Successful JSON parsed!\n",
      "\n",
      "Classifying prompts:  11%|███████████████▋                                                                                                                                     | 2/19 [01:21<12:53, 45.50s/it]\u001b[A2025-05-30 12:56:47,824 || INFO || MedRL-CoT Setup - Successful JSON parsed!\n",
      "\n",
      "Classifying prompts:  16%|███████████████████████▌                                                                                                                             | 3/19 [01:24<06:55, 26.00s/it]\u001b[A2025-05-30 12:57:13,073 || INFO || MedRL-CoT Setup - Successful JSON parsed!\n",
      "\n",
      "Classifying prompts:  21%|███████████████████████████████▎                                                                                                                     | 4/19 [01:49<06:25, 25.70s/it]\u001b[A2025-05-30 12:57:38,133 || INFO || MedRL-CoT Setup - Successful JSON parsed!\n",
      "\n",
      "Classifying prompts:  26%|███████████████████████████████████████▏                                                                                                             | 5/19 [02:14<05:56, 25.47s/it]\u001b[A2025-05-30 12:57:42,505 || INFO || MedRL-CoT Setup - Successful JSON parsed!\n",
      "\n",
      "Classifying prompts:  32%|███████████████████████████████████████████████                                                                                                      | 6/19 [02:19<03:57, 18.30s/it]\u001b[A2025-05-30 12:58:44,039 || ERROR || MedRL-CoT Setup - Nothing found, bad example!\n",
      "\n",
      "Classifying prompts:  37%|██████████████████████████████████████████████████████▉                                                                                              | 7/19 [03:20<06:29, 32.43s/it]\u001b[A2025-05-30 12:58:51,367 || INFO || MedRL-CoT Setup - Successful JSON parsed!\n",
      "\n",
      "Classifying prompts:  42%|██████████████████████████████████████████████████████████████▋                                                                                      | 8/19 [03:28<04:28, 24.44s/it]\u001b[A2025-05-30 12:58:58,327 || INFO || MedRL-CoT Setup - Successful JSON parsed!\n",
      "\n",
      "Classifying prompts:  47%|██████████████████████████████████████████████████████████████████████▌                                                                              | 9/19 [03:34<03:09, 18.98s/it]\u001b[A2025-05-30 12:59:20,168 || INFO || MedRL-CoT Setup - Successful JSON parsed!\n",
      "\n",
      "Classifying prompts:  53%|█████████████████████████████████████████████████████████████████████████████▉                                                                      | 10/19 [03:56<02:58, 19.86s/it]\u001b[A2025-05-30 12:59:33,093 || INFO || MedRL-CoT Setup - Successful JSON parsed!\n",
      "\n",
      "Classifying prompts:  58%|█████████████████████████████████████████████████████████████████████████████████████▋                                                              | 11/19 [04:09<02:21, 17.74s/it]\u001b[A2025-05-30 12:59:43,357 || INFO || MedRL-CoT Setup - Successful JSON parsed!\n",
      "\n",
      "Classifying prompts:  63%|█████████████████████████████████████████████████████████████████████████████████████████████▍                                                      | 12/19 [04:20<01:48, 15.46s/it]\u001b[A2025-05-30 12:59:51,144 || INFO || MedRL-CoT Setup - Successful JSON parsed!\n",
      "\n",
      "Classifying prompts:  68%|█████████████████████████████████████████████████████████████████████████████████████████████████████▎                                              | 13/19 [04:27<01:18, 13.14s/it]\u001b[A2025-05-30 12:59:57,244 || INFO || MedRL-CoT Setup - Successful JSON parsed!\n",
      "\n",
      "Classifying prompts:  74%|█████████████████████████████████████████████████████████████████████████████████████████████████████████████                                       | 14/19 [04:33<00:55, 11.01s/it]\u001b[A2025-05-30 13:00:29,421 || INFO || MedRL-CoT Setup - Successful JSON parsed!\n",
      "\n",
      "Classifying prompts:  79%|████████████████████████████████████████████████████████████████████████████████████████████████████████████████████▊                               | 15/19 [05:06<01:09, 17.39s/it]\u001b[A2025-05-30 13:00:45,505 || INFO || MedRL-CoT Setup - Successful JSON parsed!\n",
      "\n",
      "Classifying prompts:  84%|████████████████████████████████████████████████████████████████████████████████████████████████████████████████████████████▋                       | 16/19 [05:22<00:50, 17.00s/it]\u001b[A2025-05-30 13:00:53,423 || INFO || MedRL-CoT Setup - Successful JSON parsed!\n",
      "\n",
      "Classifying prompts:  89%|████████████████████████████████████████████████████████████████████████████████████████████████████████████████████████████████████▍               | 17/19 [05:30<00:28, 14.27s/it]\u001b[A2025-05-30 13:00:59,910 || INFO || MedRL-CoT Setup - Successful JSON parsed!\n",
      "\n",
      "Classifying prompts:  95%|████████████████████████████████████████████████████████████████████████████████████████████████████████████████████████████████████████████▏       | 18/19 [05:36<00:11, 11.93s/it]\u001b[A2025-05-30 13:01:03,196 || INFO || MedRL-CoT Setup - Successful JSON parsed!\n",
      "\n",
      "Classifying prompts: 100%|████████████████████████████████████████████████████████████████████████████████████████████████████████████████████████████████████████████████████| 19/19 [05:39<00:00,  9.33s/it]\u001b[A\n",
      "                                                                                                                                                                                                              \u001b[A2025-05-30 13:01:03,201 || INFO || MedRL-CoT Setup - Dumping to save\n"
     ]
    },
    {
     "data": {
      "application/vnd.jupyter.widget-view+json": {
       "model_id": "f5b0ced45e8c4405ac19f8c2fef18ec6",
       "version_major": 2,
       "version_minor": 0
      },
      "text/plain": [
       "Saving the dataset (0/1 shards):   0%|          | 0/911 [00:00<?, ? examples/s]"
      ]
     },
     "metadata": {},
     "output_type": "display_data"
    },
    {
     "name": "stderr",
     "output_type": "stream",
     "text": [
      "Preprocessing dataset:   0%|                                                                                                                                        | 8/331793 [15:22<13660:36:41, 148.22s/it]2025-05-30 13:01:03,243 || INFO || MedRL-CoT Setup - Preprocessing example 8\n"
     ]
    },
    {
     "name": "stdout",
     "output_type": "stream",
     "text": [
      "16\n"
     ]
    },
    {
     "name": "stderr",
     "output_type": "stream",
     "text": [
      "\n",
      "Classifying prompts:   0%|                                                                                                                                                             | 0/16 [00:00<?, ?it/s]\u001b[A2025-05-30 13:01:15,044 || WARNING || MedRL-CoT Setup - Invalid JSON, trying conversion\n",
      "2025-05-30 13:01:15,045 || ERROR || MedRL-CoT Setup - Provided data schema not parseable/known, skipping this chunk\n",
      "\n",
      "Classifying prompts:   6%|█████████▎                                                                                                                                           | 1/16 [00:11<02:56, 11.80s/it]\u001b[A2025-05-30 13:01:18,770 || INFO || MedRL-CoT Setup - Successful JSON parsed!\n",
      "\n",
      "Classifying prompts:  12%|██████████████████▋                                                                                                                                  | 2/16 [00:15<01:38,  7.05s/it]\u001b[A2025-05-30 13:01:21,188 || INFO || MedRL-CoT Setup - Successful JSON parsed!\n",
      "\n",
      "Classifying prompts:  19%|███████████████████████████▉                                                                                                                         | 3/16 [00:17<01:04,  4.93s/it]\u001b[A2025-05-30 13:02:11,740 || WARNING || MedRL-CoT Setup - Invalid JSON, trying conversion\n",
      "2025-05-30 13:02:11,741 || ERROR || MedRL-CoT Setup - Provided data schema not parseable/known, skipping this chunk\n",
      "\n",
      "Classifying prompts:  25%|█████████████████████████████████████▎                                                                                                               | 4/16 [01:08<04:35, 22.94s/it]\u001b[A2025-05-30 13:02:33,346 || WARNING || MedRL-CoT Setup - Invalid JSON, trying conversion\n",
      "2025-05-30 13:02:33,347 || ERROR || MedRL-CoT Setup - Provided data schema not parseable/known, skipping this chunk\n",
      "\n",
      "Classifying prompts:  31%|██████████████████████████████████████████████▌                                                                                                      | 5/16 [01:30<04:07, 22.46s/it]\u001b[A2025-05-30 13:02:41,055 || INFO || MedRL-CoT Setup - Successful JSON parsed!\n",
      "\n",
      "Classifying prompts:  38%|███████████████████████████████████████████████████████▉                                                                                             | 6/16 [01:37<02:54, 17.45s/it]\u001b[A2025-05-30 13:02:44,146 || INFO || MedRL-CoT Setup - Successful JSON parsed!\n",
      "\n",
      "Classifying prompts:  44%|█████████████████████████████████████████████████████████████████▏                                                                                   | 7/16 [01:40<01:54, 12.75s/it]\u001b[A2025-05-30 13:02:47,011 || INFO || MedRL-CoT Setup - Successful JSON parsed!\n",
      "\n",
      "Classifying prompts:  50%|██████████████████████████████████████████████████████████████████████████▌                                                                          | 8/16 [01:43<01:16,  9.60s/it]\u001b[A2025-05-30 13:02:53,270 || INFO || MedRL-CoT Setup - Successful JSON parsed!\n",
      "\n",
      "Classifying prompts:  56%|███████████████████████████████████████████████████████████████████████████████████▊                                                                 | 9/16 [01:50<00:59,  8.56s/it]\u001b[A2025-05-30 13:02:59,129 || ERROR || MedRL-CoT Setup - Nothing found, bad example!\n",
      "\n",
      "Classifying prompts:  62%|████████████████████████████████████████████████████████████████████████████████████████████▌                                                       | 10/16 [01:55<00:46,  7.73s/it]\u001b[A2025-05-30 13:03:08,046 || INFO || MedRL-CoT Setup - Successful JSON parsed!\n",
      "\n",
      "Classifying prompts:  69%|█████████████████████████████████████████████████████████████████████████████████████████████████████▊                                              | 11/16 [02:04<00:40,  8.09s/it]\u001b[A2025-05-30 13:03:12,162 || INFO || MedRL-CoT Setup - Successful JSON parsed!\n",
      "\n",
      "Classifying prompts:  75%|███████████████████████████████████████████████████████████████████████████████████████████████████████████████                                     | 12/16 [02:08<00:27,  6.88s/it]\u001b[A2025-05-30 13:03:18,281 || INFO || MedRL-CoT Setup - Successful JSON parsed!\n",
      "\n",
      "Classifying prompts:  81%|████████████████████████████████████████████████████████████████████████████████████████████████████████████████████████▎                           | 13/16 [02:15<00:19,  6.65s/it]\u001b[A2025-05-30 13:03:28,668 || ERROR || MedRL-CoT Setup - Nothing found, bad example!\n",
      "\n",
      "Classifying prompts:  88%|█████████████████████████████████████████████████████████████████████████████████████████████████████████████████████████████████▌                  | 14/16 [02:25<00:15,  7.78s/it]\u001b[A2025-05-30 13:03:33,252 || INFO || MedRL-CoT Setup - Successful JSON parsed!\n",
      "\n",
      "Classifying prompts:  94%|██████████████████████████████████████████████████████████████████████████████████████████████████████████████████████████████████████████▊         | 15/16 [02:30<00:06,  6.82s/it]\u001b[A2025-05-30 13:03:42,233 || INFO || MedRL-CoT Setup - Successful JSON parsed!\n",
      "\n",
      "Classifying prompts: 100%|████████████████████████████████████████████████████████████████████████████████████████████████████████████████████████████████████████████████████| 16/16 [02:38<00:00,  7.47s/it]\u001b[A\n",
      "                                                                                                                                                                                                              \u001b[A2025-05-30 13:03:42,239 || INFO || MedRL-CoT Setup - Dumping to save\n"
     ]
    },
    {
     "data": {
      "application/vnd.jupyter.widget-view+json": {
       "model_id": "b016c8ea3cab4dda91d9ed55c0df0895",
       "version_major": 2,
       "version_minor": 0
      },
      "text/plain": [
       "Saving the dataset (0/1 shards):   0%|          | 0/931 [00:00<?, ? examples/s]"
      ]
     },
     "metadata": {},
     "output_type": "display_data"
    },
    {
     "name": "stderr",
     "output_type": "stream",
     "text": [
      "Preprocessing dataset:   0%|                                                                                                                                        | 9/331793 [18:01<13895:11:19, 150.77s/it]2025-05-30 13:03:42,281 || INFO || MedRL-CoT Setup - Preprocessing example 9\n"
     ]
    },
    {
     "name": "stdout",
     "output_type": "stream",
     "text": [
      "21\n"
     ]
    },
    {
     "name": "stderr",
     "output_type": "stream",
     "text": [
      "\n",
      "Classifying prompts:   0%|                                                                                                                                                             | 0/21 [00:00<?, ?it/s]\u001b[A2025-05-30 13:03:57,412 || INFO || MedRL-CoT Setup - Successful JSON parsed!\n",
      "\n",
      "Classifying prompts:   5%|███████                                                                                                                                              | 1/21 [00:15<05:02, 15.13s/it]\u001b[A2025-05-30 13:04:44,428 || WARNING || MedRL-CoT Setup - Invalid JSON, trying conversion\n",
      "2025-05-30 13:04:44,429 || ERROR || MedRL-CoT Setup - Provided data schema not parseable/known, skipping this chunk\n",
      "\n",
      "Classifying prompts:  10%|██████████████▏                                                                                                                                      | 2/21 [01:02<10:43, 33.89s/it]\u001b[A2025-05-30 13:05:15,717 || INFO || MedRL-CoT Setup - Successful JSON parsed!\n",
      "\n",
      "Classifying prompts:  14%|█████████████████████▎                                                                                                                               | 3/21 [01:33<09:48, 32.70s/it]\u001b[A2025-05-30 13:05:46,005 || INFO || MedRL-CoT Setup - Successful JSON parsed!\n",
      "\n",
      "Classifying prompts:  19%|████████████████████████████▍                                                                                                                        | 4/21 [02:03<08:59, 31.75s/it]\u001b[A2025-05-30 13:06:38,611 || INFO || MedRL-CoT Setup - Successful JSON parsed!\n",
      "\n",
      "Classifying prompts:  24%|███████████████████████████████████▍                                                                                                                 | 5/21 [02:56<10:28, 39.27s/it]\u001b[A2025-05-30 13:07:24,589 || ERROR || MedRL-CoT Setup - Nothing found, bad example!\n",
      "\n",
      "Classifying prompts:  29%|██████████████████████████████████████████▌                                                                                                          | 6/21 [03:42<10:23, 41.55s/it]\u001b[A2025-05-30 13:07:28,592 || INFO || MedRL-CoT Setup - Successful JSON parsed!\n",
      "\n",
      "Classifying prompts:  33%|█████████████████████████████████████████████████▋                                                                                                   | 7/21 [03:46<06:49, 29.28s/it]\u001b[A2025-05-30 13:07:41,784 || INFO || MedRL-CoT Setup - Successful JSON parsed!\n",
      "\n",
      "Classifying prompts:  38%|████████████████████████████████████████████████████████▊                                                                                            | 8/21 [03:59<05:14, 24.15s/it]\u001b[A2025-05-30 13:08:09,846 || INFO || MedRL-CoT Setup - Successful JSON parsed!\n",
      "\n",
      "Classifying prompts:  43%|███████████████████████████████████████████████████████████████▊                                                                                     | 9/21 [04:27<05:04, 25.38s/it]\u001b[A2025-05-30 13:08:22,371 || INFO || MedRL-CoT Setup - Successful JSON parsed!\n",
      "\n",
      "Classifying prompts:  48%|██████████████████████████████████████████████████████████████████████▍                                                                             | 10/21 [04:40<03:55, 21.41s/it]\u001b[A2025-05-30 13:08:33,935 || INFO || MedRL-CoT Setup - Successful JSON parsed!\n",
      "\n",
      "Classifying prompts:  52%|█████████████████████████████████████████████████████████████████████████████▌                                                                      | 11/21 [04:51<03:03, 18.40s/it]\u001b[A2025-05-30 13:08:55,995 || INFO || MedRL-CoT Setup - Successful JSON parsed!\n",
      "\n",
      "Classifying prompts:  57%|████████████████████████████████████████████████████████████████████████████████████▌                                                               | 12/21 [05:13<02:55, 19.51s/it]\u001b[A2025-05-30 13:09:11,490 || INFO || MedRL-CoT Setup - Successful JSON parsed!\n",
      "\n",
      "Classifying prompts:  62%|███████████████████████████████████████████████████████████████████████████████████████████▌                                                        | 13/21 [05:29<02:26, 18.29s/it]\u001b[A2025-05-30 13:09:18,857 || INFO || MedRL-CoT Setup - Successful JSON parsed!\n",
      "\n",
      "Classifying prompts:  67%|██████████████████████████████████████████████████████████████████████████████████████████████████▋                                                 | 14/21 [05:36<01:44, 14.99s/it]\u001b[A2025-05-30 13:09:26,763 || INFO || MedRL-CoT Setup - Successful JSON parsed!\n",
      "\n",
      "Classifying prompts:  71%|█████████████████████████████████████████████████████████████████████████████████████████████████████████▋                                          | 15/21 [05:44<01:17, 12.86s/it]\u001b[A2025-05-30 13:09:51,221 || INFO || MedRL-CoT Setup - Successful JSON parsed!\n",
      "\n",
      "Classifying prompts:  76%|████████████████████████████████████████████████████████████████████████████████████████████████████████████████▊                                   | 16/21 [06:08<01:21, 16.35s/it]\u001b[A2025-05-30 13:10:20,448 || INFO || MedRL-CoT Setup - Successful JSON parsed!\n",
      "\n",
      "Classifying prompts:  81%|███████████████████████████████████████████████████████████████████████████████████████████████████████████████████████▊                            | 17/21 [06:38<01:20, 20.22s/it]\u001b[A2025-05-30 13:10:27,443 || INFO || MedRL-CoT Setup - Successful JSON parsed!\n",
      "\n",
      "Classifying prompts:  86%|██████████████████████████████████████████████████████████████████████████████████████████████████████████████████████████████▊                     | 18/21 [06:45<00:48, 16.25s/it]\u001b[A2025-05-30 13:10:33,658 || INFO || MedRL-CoT Setup - Successful JSON parsed!\n",
      "\n",
      "Classifying prompts:  90%|█████████████████████████████████████████████████████████████████████████████████████████████████████████████████████████████████████▉              | 19/21 [06:51<00:26, 13.23s/it]\u001b[A2025-05-30 13:10:46,493 || INFO || MedRL-CoT Setup - Successful JSON parsed!\n",
      "\n",
      "Classifying prompts:  95%|████████████████████████████████████████████████████████████████████████████████████████████████████████████████████████████████████████████▉       | 20/21 [07:04<00:13, 13.11s/it]\u001b[A2025-05-30 13:10:49,486 || INFO || MedRL-CoT Setup - Successful JSON parsed!\n",
      "\n",
      "Classifying prompts: 100%|████████████████████████████████████████████████████████████████████████████████████████████████████████████████████████████████████████████████████| 21/21 [07:07<00:00, 10.08s/it]\u001b[A\n",
      "                                                                                                                                                                                                              \u001b[A2025-05-30 13:10:49,493 || INFO || MedRL-CoT Setup - Dumping to save\n"
     ]
    },
    {
     "data": {
      "application/vnd.jupyter.widget-view+json": {
       "model_id": "dc3a3adce73b44c492774f924cff1218",
       "version_major": 2,
       "version_minor": 0
      },
      "text/plain": [
       "Saving the dataset (0/1 shards):   0%|          | 0/1065 [00:00<?, ? examples/s]"
      ]
     },
     "metadata": {},
     "output_type": "display_data"
    },
    {
     "name": "stderr",
     "output_type": "stream",
     "text": [
      "Preprocessing dataset:   0%|                                                                                                                                       | 10/331793 [25:09<20307:50:05, 220.35s/it]2025-05-30 13:10:49,535 || INFO || MedRL-CoT Setup - Preprocessing example 10\n"
     ]
    },
    {
     "name": "stdout",
     "output_type": "stream",
     "text": [
      "14\n"
     ]
    },
    {
     "name": "stderr",
     "output_type": "stream",
     "text": [
      "\n",
      "Classifying prompts:   0%|                                                                                                                                                             | 0/14 [00:00<?, ?it/s]\u001b[A2025-05-30 13:11:15,770 || INFO || MedRL-CoT Setup - Successful JSON parsed!\n",
      "\n",
      "Classifying prompts:   7%|██████████▋                                                                                                                                          | 1/14 [00:26<05:41, 26.23s/it]\u001b[A2025-05-30 13:11:50,899 || INFO || MedRL-CoT Setup - Successful JSON parsed!\n",
      "\n",
      "Classifying prompts:  14%|█████████████████████▎                                                                                                                               | 2/14 [01:01<06:17, 31.47s/it]\u001b[A2025-05-30 13:13:31,012 || WARNING || MedRL-CoT Setup - Invalid JSON, trying conversion\n",
      "2025-05-30 13:13:31,013 || ERROR || MedRL-CoT Setup - Provided data schema not parseable/known, skipping this chunk\n",
      "\n",
      "Classifying prompts:  21%|███████████████████████████████▉                                                                                                                     | 3/14 [02:41<11:30, 62.81s/it]\u001b[A2025-05-30 13:13:47,677 || INFO || MedRL-CoT Setup - Successful JSON parsed!\n",
      "\n",
      "Classifying prompts:  29%|██████████████████████████████████████████▌                                                                                                          | 4/14 [02:58<07:25, 44.59s/it]\u001b[A2025-05-30 13:13:54,995 || WARNING || MedRL-CoT Setup - Invalid JSON, trying conversion\n",
      "2025-05-30 13:13:54,996 || ERROR || MedRL-CoT Setup - Provided data schema not parseable/known, skipping this chunk\n",
      "\n",
      "Classifying prompts:  36%|█████████████████████████████████████████████████████▏                                                                                               | 5/14 [03:05<04:40, 31.15s/it]\u001b[A2025-05-30 13:14:24,751 || INFO || MedRL-CoT Setup - Successful JSON parsed!\n",
      "\n",
      "Classifying prompts:  43%|███████████████████████████████████████████████████████████████▊                                                                                     | 6/14 [03:35<04:05, 30.68s/it]\u001b[A2025-05-30 13:15:30,426 || INFO || MedRL-CoT Setup - Successful JSON parsed!\n",
      "\n",
      "Classifying prompts:  50%|██████████████████████████████████████████████████████████████████████████▌                                                                          | 7/14 [04:40<04:54, 42.12s/it]\u001b[A2025-05-30 13:15:51,268 || INFO || MedRL-CoT Setup - Successful JSON parsed!\n",
      "\n",
      "Classifying prompts:  57%|█████████████████████████████████████████████████████████████████████████████████████▏                                                               | 8/14 [05:01<03:32, 35.35s/it]\u001b[A2025-05-30 13:15:55,241 || INFO || MedRL-CoT Setup - Successful JSON parsed!\n",
      "\n",
      "Classifying prompts:  64%|███████████████████████████████████████████████████████████████████████████████████████████████▊                                                     | 9/14 [05:05<02:07, 25.54s/it]\u001b[A2025-05-30 13:16:02,085 || INFO || MedRL-CoT Setup - Successful JSON parsed!\n",
      "\n",
      "Classifying prompts:  71%|█████████████████████████████████████████████████████████████████████████████████████████████████████████▋                                          | 10/14 [05:12<01:19, 19.77s/it]\u001b[A2025-05-30 13:17:14,031 || INFO || MedRL-CoT Setup - Successful JSON parsed!\n",
      "\n",
      "Classifying prompts:  79%|████████████████████████████████████████████████████████████████████████████████████████████████████████████████████▎                               | 11/14 [06:24<01:47, 35.74s/it]\u001b[A2025-05-30 13:17:23,712 || INFO || MedRL-CoT Setup - Successful JSON parsed!\n",
      "\n",
      "Classifying prompts:  86%|██████████████████████████████████████████████████████████████████████████████████████████████████████████████████████████████▊                     | 12/14 [06:34<00:55, 27.81s/it]\u001b[A2025-05-30 13:17:37,782 || INFO || MedRL-CoT Setup - Successful JSON parsed!\n",
      "\n",
      "Classifying prompts:  93%|█████████████████████████████████████████████████████████████████████████████████████████████████████████████████████████████████████████▍          | 13/14 [06:48<00:23, 23.65s/it]\u001b[A2025-05-30 13:17:40,679 || INFO || MedRL-CoT Setup - Successful JSON parsed!\n",
      "\n",
      "Classifying prompts: 100%|████████████████████████████████████████████████████████████████████████████████████████████████████████████████████████████████████████████████████| 14/14 [06:51<00:00, 17.38s/it]\u001b[A\n",
      "                                                                                                                                                                                                              \u001b[A2025-05-30 13:17:40,686 || INFO || MedRL-CoT Setup - Dumping to save\n"
     ]
    },
    {
     "data": {
      "application/vnd.jupyter.widget-view+json": {
       "model_id": "e2977eedc76d4ba898e279b601e18256",
       "version_major": 2,
       "version_minor": 0
      },
      "text/plain": [
       "Saving the dataset (0/1 shards):   0%|          | 0/1197 [00:00<?, ? examples/s]"
      ]
     },
     "metadata": {},
     "output_type": "display_data"
    },
    {
     "name": "stderr",
     "output_type": "stream",
     "text": [
      "Preprocessing dataset:   0%|                                                                                                                                       | 11/331793 [32:00<24958:54:32, 270.82s/it]2025-05-30 13:17:40,727 || INFO || MedRL-CoT Setup - Preprocessing example 11\n"
     ]
    },
    {
     "name": "stdout",
     "output_type": "stream",
     "text": [
      "16\n"
     ]
    },
    {
     "name": "stderr",
     "output_type": "stream",
     "text": [
      "\n",
      "Classifying prompts:   0%|                                                                                                                                                             | 0/16 [00:00<?, ?it/s]\u001b[A2025-05-30 13:17:49,915 || INFO || MedRL-CoT Setup - Successful JSON parsed!\n",
      "\n",
      "Classifying prompts:   6%|█████████▎                                                                                                                                           | 1/16 [00:09<02:17,  9.18s/it]\u001b[A2025-05-30 13:19:01,407 || INFO || MedRL-CoT Setup - Successful JSON parsed!\n",
      "\n",
      "Classifying prompts:  12%|██████████████████▋                                                                                                                                  | 2/16 [01:20<10:41, 45.84s/it]\u001b[A2025-05-30 13:19:48,917 || ERROR || MedRL-CoT Setup - Nothing found, bad example!\n",
      "\n",
      "Classifying prompts:  19%|███████████████████████████▉                                                                                                                         | 3/16 [02:08<10:05, 46.60s/it]\u001b[A2025-05-30 13:19:51,111 || WARNING || MedRL-CoT Setup - Invalid JSON, trying conversion\n",
      "2025-05-30 13:19:51,113 || ERROR || MedRL-CoT Setup - Provided data schema not parseable/known, skipping this chunk\n",
      "\n",
      "Classifying prompts:  25%|█████████████████████████████████████▎                                                                                                               | 4/16 [02:10<05:48, 29.07s/it]\u001b[A2025-05-30 13:20:49,701 || ERROR || MedRL-CoT Setup - Nothing found, bad example!\n",
      "\n",
      "Classifying prompts:  31%|██████████████████████████████████████████████▌                                                                                                      | 5/16 [03:08<07:16, 39.71s/it]\u001b[A2025-05-30 13:20:52,248 || INFO || MedRL-CoT Setup - Successful JSON parsed!\n",
      "\n",
      "Classifying prompts:  38%|███████████████████████████████████████████████████████▉                                                                                             | 6/16 [03:11<04:30, 27.08s/it]\u001b[A2025-05-30 13:21:27,233 || INFO || MedRL-CoT Setup - Successful JSON parsed!\n",
      "\n",
      "Classifying prompts:  44%|█████████████████████████████████████████████████████████████████▏                                                                                   | 7/16 [03:46<04:26, 29.66s/it]\u001b[A2025-05-30 13:21:28,946 || ERROR || MedRL-CoT Setup - Nothing found, bad example!\n",
      "\n",
      "Classifying prompts:  50%|██████████████████████████████████████████████████████████████████████████▌                                                                          | 8/16 [03:48<02:46, 20.76s/it]\u001b[A2025-05-30 13:21:32,767 || INFO || MedRL-CoT Setup - Successful JSON parsed!\n",
      "\n",
      "Classifying prompts:  56%|███████████████████████████████████████████████████████████████████████████████████▊                                                                 | 9/16 [03:52<01:48, 15.47s/it]\u001b[A2025-05-30 13:22:25,041 || ERROR || MedRL-CoT Setup - Nothing found, bad example!\n",
      "\n",
      "Classifying prompts:  62%|████████████████████████████████████████████████████████████████████████████████████████████▌                                                       | 10/16 [04:44<02:40, 26.83s/it]\u001b[A2025-05-30 13:22:48,519 || INFO || MedRL-CoT Setup - Successful JSON parsed!\n",
      "\n",
      "Classifying prompts:  69%|█████████████████████████████████████████████████████████████████████████████████████████████████████▊                                              | 11/16 [05:07<02:09, 25.80s/it]\u001b[A2025-05-30 13:22:57,834 || INFO || MedRL-CoT Setup - Successful JSON parsed!\n",
      "\n",
      "Classifying prompts:  75%|███████████████████████████████████████████████████████████████████████████████████████████████████████████████                                     | 12/16 [05:17<01:23, 20.79s/it]\u001b[A2025-05-30 13:23:18,688 || INFO || MedRL-CoT Setup - Successful JSON parsed!\n",
      "\n",
      "Classifying prompts:  81%|████████████████████████████████████████████████████████████████████████████████████████████████████████████████████████▎                           | 13/16 [05:37<01:02, 20.81s/it]\u001b[A2025-05-30 13:23:32,484 || ERROR || MedRL-CoT Setup - Nothing found, bad example!\n",
      "\n",
      "Classifying prompts:  88%|█████████████████████████████████████████████████████████████████████████████████████████████████████████████████████████████████▌                  | 14/16 [05:51<00:37, 18.69s/it]\u001b[A2025-05-30 13:23:56,185 || INFO || MedRL-CoT Setup - Successful JSON parsed!\n",
      "\n",
      "Classifying prompts:  94%|██████████████████████████████████████████████████████████████████████████████████████████████████████████████████████████████████████████▊         | 15/16 [06:15<00:20, 20.20s/it]\u001b[A2025-05-30 13:24:03,695 || INFO || MedRL-CoT Setup - Successful JSON parsed!\n",
      "\n",
      "Classifying prompts: 100%|████████████████████████████████████████████████████████████████████████████████████████████████████████████████████████████████████████████████████| 16/16 [06:22<00:00, 16.38s/it]\u001b[A\n",
      "                                                                                                                                                                                                              \u001b[A2025-05-30 13:24:03,700 || INFO || MedRL-CoT Setup - Dumping to save\n"
     ]
    },
    {
     "data": {
      "application/vnd.jupyter.widget-view+json": {
       "model_id": "086e34c073ee473386b0797f3765cb38",
       "version_major": 2,
       "version_minor": 0
      },
      "text/plain": [
       "Saving the dataset (0/1 shards):   0%|          | 0/1285 [00:00<?, ? examples/s]"
      ]
     },
     "metadata": {},
     "output_type": "display_data"
    },
    {
     "name": "stderr",
     "output_type": "stream",
     "text": [
      "Preprocessing dataset:   0%|                                                                                                                                       | 12/331793 [38:23<27794:52:09, 301.59s/it]2025-05-30 13:24:03,774 || INFO || MedRL-CoT Setup - Preprocessing example 12\n"
     ]
    },
    {
     "name": "stdout",
     "output_type": "stream",
     "text": [
      "13\n"
     ]
    },
    {
     "name": "stderr",
     "output_type": "stream",
     "text": [
      "\n",
      "Classifying prompts:   0%|                                                                                                                                                             | 0/13 [00:00<?, ?it/s]\u001b[A2025-05-30 13:24:11,826 || WARNING || MedRL-CoT Setup - Invalid JSON, trying conversion\n",
      "2025-05-30 13:24:11,827 || ERROR || MedRL-CoT Setup - Provided data schema not parseable/known, skipping this chunk\n",
      "\n",
      "Classifying prompts:   8%|███████████▍                                                                                                                                         | 1/13 [00:08<01:36,  8.05s/it]\u001b[A2025-05-30 13:25:09,526 || INFO || MedRL-CoT Setup - Successful JSON parsed!\n",
      "\n",
      "Classifying prompts:  15%|██████████████████████▉                                                                                                                              | 2/13 [01:05<06:49, 37.26s/it]\u001b[A2025-05-30 13:26:26,958 || WARNING || MedRL-CoT Setup - Invalid JSON, trying conversion\n",
      "2025-05-30 13:26:26,959 || ERROR || MedRL-CoT Setup - Provided data schema not parseable/known, skipping this chunk\n",
      "\n",
      "Classifying prompts:  23%|██████████████████████████████████▍                                                                                                                  | 3/13 [02:23<09:16, 55.60s/it]\u001b[A2025-05-30 13:26:38,414 || INFO || MedRL-CoT Setup - Successful JSON parsed!\n",
      "\n",
      "Classifying prompts:  31%|█████████████████████████████████████████████▊                                                                                                       | 4/13 [02:34<05:43, 38.17s/it]\u001b[A2025-05-30 13:26:41,003 || INFO || MedRL-CoT Setup - Successful JSON parsed!\n",
      "\n",
      "Classifying prompts:  38%|█████████████████████████████████████████████████████████▎                                                                                           | 5/13 [02:37<03:22, 25.34s/it]\u001b[A2025-05-30 13:26:43,858 || INFO || MedRL-CoT Setup - Successful JSON parsed!\n",
      "\n",
      "Classifying prompts:  46%|████████████████████████████████████████████████████████████████████▊                                                                                | 6/13 [02:40<02:03, 17.70s/it]\u001b[A2025-05-30 13:26:53,057 || INFO || MedRL-CoT Setup - Successful JSON parsed!\n",
      "\n",
      "Classifying prompts:  54%|████████████████████████████████████████████████████████████████████████████████▏                                                                    | 7/13 [02:49<01:29, 14.92s/it]\u001b[A2025-05-30 13:27:46,207 || WARNING || MedRL-CoT Setup - Invalid JSON, trying conversion\n",
      "2025-05-30 13:27:46,208 || ERROR || MedRL-CoT Setup - Provided data schema not parseable/known, skipping this chunk\n",
      "\n",
      "Classifying prompts:  62%|███████████████████████████████████████████████████████████████████████████████████████████▋                                                         | 8/13 [03:42<02:15, 27.09s/it]\u001b[A2025-05-30 13:28:03,964 || INFO || MedRL-CoT Setup - Successful JSON parsed!\n",
      "\n",
      "Classifying prompts:  69%|███████████████████████████████████████████████████████████████████████████████████████████████████████▏                                             | 9/13 [04:00<01:36, 24.17s/it]\u001b[A2025-05-30 13:28:15,679 || WARNING || MedRL-CoT Setup - Invalid JSON, trying conversion\n",
      "2025-05-30 13:28:15,681 || ERROR || MedRL-CoT Setup - Provided data schema not parseable/known, skipping this chunk\n",
      "\n",
      "Classifying prompts:  77%|█████████████████████████████████████████████████████████████████████████████████████████████████████████████████▊                                  | 10/13 [04:11<01:00, 20.33s/it]\u001b[A2025-05-30 13:28:22,892 || INFO || MedRL-CoT Setup - Successful JSON parsed!\n",
      "\n",
      "Classifying prompts:  85%|█████████████████████████████████████████████████████████████████████████████████████████████████████████████████████████████▏                      | 11/13 [04:19<00:32, 16.31s/it]\u001b[A2025-05-30 13:28:25,271 || INFO || MedRL-CoT Setup - Successful JSON parsed!\n",
      "\n",
      "Classifying prompts:  92%|████████████████████████████████████████████████████████████████████████████████████████████████████████████████████████████████████████▌           | 12/13 [04:21<00:12, 12.07s/it]\u001b[A2025-05-30 13:28:56,521 || INFO || MedRL-CoT Setup - Successful JSON parsed!\n",
      "\n",
      "Classifying prompts: 100%|████████████████████████████████████████████████████████████████████████████████████████████████████████████████████████████████████████████████████| 13/13 [04:52<00:00, 17.88s/it]\u001b[A\n",
      "                                                                                                                                                                                                              \u001b[A2025-05-30 13:28:56,527 || INFO || MedRL-CoT Setup - Dumping to save\n"
     ]
    },
    {
     "data": {
      "application/vnd.jupyter.widget-view+json": {
       "model_id": "7e9153b385b343989d748e24d89ac87b",
       "version_major": 2,
       "version_minor": 0
      },
      "text/plain": [
       "Saving the dataset (0/1 shards):   0%|          | 0/1350 [00:00<?, ? examples/s]"
      ]
     },
     "metadata": {},
     "output_type": "display_data"
    },
    {
     "name": "stderr",
     "output_type": "stream",
     "text": [
      "Preprocessing dataset:   0%|                                                                                                                                       | 13/331793 [43:16<27566:37:55, 299.11s/it]2025-05-30 13:28:56,566 || INFO || MedRL-CoT Setup - Preprocessing example 13\n"
     ]
    },
    {
     "name": "stdout",
     "output_type": "stream",
     "text": [
      "20\n"
     ]
    },
    {
     "name": "stderr",
     "output_type": "stream",
     "text": [
      "\n",
      "Classifying prompts:   0%|                                                                                                                                                             | 0/20 [00:00<?, ?it/s]\u001b[A2025-05-30 13:28:58,728 || INFO || MedRL-CoT Setup - Successful JSON parsed!\n",
      "\n",
      "Classifying prompts:   5%|███████▍                                                                                                                                             | 1/20 [00:02<00:41,  2.16s/it]\u001b[A2025-05-30 13:29:01,198 || INFO || MedRL-CoT Setup - Successful JSON parsed!\n",
      "\n",
      "Classifying prompts:  10%|██████████████▉                                                                                                                                      | 2/20 [00:04<00:42,  2.34s/it]\u001b[A2025-05-30 13:29:25,697 || INFO || MedRL-CoT Setup - Successful JSON parsed!\n",
      "\n",
      "Classifying prompts:  15%|██████████████████████▎                                                                                                                              | 3/20 [00:29<03:31, 12.46s/it]\u001b[A2025-05-30 13:29:38,891 || WARNING || MedRL-CoT Setup - Invalid JSON, trying conversion\n",
      "2025-05-30 13:29:38,892 || ERROR || MedRL-CoT Setup - Provided data schema not parseable/known, skipping this chunk\n",
      "\n",
      "Classifying prompts:  20%|█████████████████████████████▊                                                                                                                       | 4/20 [00:42<03:23, 12.75s/it]\u001b[A2025-05-30 13:29:41,868 || INFO || MedRL-CoT Setup - Successful JSON parsed!\n",
      "\n",
      "Classifying prompts:  25%|█████████████████████████████████████▎                                                                                                               | 5/20 [00:45<02:18,  9.23s/it]\u001b[A2025-05-30 13:30:08,038 || INFO || MedRL-CoT Setup - Successful JSON parsed!\n",
      "\n",
      "Classifying prompts:  30%|████████████████████████████████████████████▋                                                                                                        | 6/20 [01:11<03:29, 14.99s/it]\u001b[A2025-05-30 13:30:16,482 || INFO || MedRL-CoT Setup - Successful JSON parsed!\n",
      "\n",
      "Classifying prompts:  35%|████████████████████████████████████████████████████▏                                                                                                | 7/20 [01:19<02:47, 12.85s/it]\u001b[A2025-05-30 13:30:21,321 || INFO || MedRL-CoT Setup - Successful JSON parsed!\n",
      "\n",
      "Classifying prompts:  40%|███████████████████████████████████████████████████████████▌                                                                                         | 8/20 [01:24<02:03, 10.30s/it]\u001b[A2025-05-30 13:30:44,895 || INFO || MedRL-CoT Setup - Successful JSON parsed!\n",
      "\n",
      "Classifying prompts:  45%|███████████████████████████████████████████████████████████████████                                                                                  | 9/20 [01:48<02:38, 14.45s/it]\u001b[A2025-05-30 13:30:46,963 || INFO || MedRL-CoT Setup - Successful JSON parsed!\n",
      "\n",
      "Classifying prompts:  50%|██████████████████████████████████████████████████████████████████████████                                                                          | 10/20 [01:50<01:46, 10.63s/it]\u001b[A2025-05-30 13:31:05,588 || INFO || MedRL-CoT Setup - Successful JSON parsed!\n",
      "\n",
      "Classifying prompts:  55%|█████████████████████████████████████████████████████████████████████████████████▍                                                                  | 11/20 [02:09<01:57, 13.07s/it]\u001b[A2025-05-30 13:32:10,764 || WARNING || MedRL-CoT Setup - Invalid JSON, trying conversion\n",
      "2025-05-30 13:32:10,766 || ERROR || MedRL-CoT Setup - Provided data schema not parseable/known, skipping this chunk\n",
      "\n",
      "Classifying prompts:  60%|████████████████████████████████████████████████████████████████████████████████████████▊                                                           | 12/20 [03:14<03:51, 28.92s/it]\u001b[A2025-05-30 13:32:27,734 || INFO || MedRL-CoT Setup - Successful JSON parsed!\n",
      "\n",
      "Classifying prompts:  65%|████████████████████████████████████████████████████████████████████████████████████████████████▏                                                   | 13/20 [03:31<02:57, 25.30s/it]\u001b[A2025-05-30 13:32:30,127 || ERROR || MedRL-CoT Setup - Nothing found, bad example!\n",
      "\n",
      "Classifying prompts:  70%|███████████████████████████████████████████████████████████████████████████████████████████████████████▌                                            | 14/20 [03:33<01:50, 18.38s/it]\u001b[A2025-05-30 13:32:35,870 || ERROR || MedRL-CoT Setup - Nothing found, bad example!\n",
      "\n",
      "Classifying prompts:  75%|███████████████████████████████████████████████████████████████████████████████████████████████████████████████                                     | 15/20 [03:39<01:12, 14.57s/it]\u001b[A2025-05-30 13:32:44,898 || ERROR || MedRL-CoT Setup - Nothing found, bad example!\n",
      "\n",
      "Classifying prompts:  80%|██████████████████████████████████████████████████████████████████████████████████████████████████████████████████████▍                             | 16/20 [03:48<00:51, 12.90s/it]\u001b[A2025-05-30 13:32:55,303 || INFO || MedRL-CoT Setup - Successful JSON parsed!\n",
      "\n",
      "Classifying prompts:  85%|█████████████████████████████████████████████████████████████████████████████████████████████████████████████████████████████▊                      | 17/20 [03:58<00:36, 12.15s/it]\u001b[A2025-05-30 13:33:09,704 || INFO || MedRL-CoT Setup - Successful JSON parsed!\n",
      "\n",
      "Classifying prompts:  90%|█████████████████████████████████████████████████████████████████████████████████████████████████████████████████████████████████████▏              | 18/20 [04:13<00:25, 12.83s/it]\u001b[A2025-05-30 13:33:14,946 || INFO || MedRL-CoT Setup - Successful JSON parsed!\n",
      "\n",
      "Classifying prompts:  95%|████████████████████████████████████████████████████████████████████████████████████████████████████████████████████████████████████████████▌       | 19/20 [04:18<00:10, 10.55s/it]\u001b[A2025-05-30 13:33:22,636 || INFO || MedRL-CoT Setup - Successful JSON parsed!\n",
      "\n",
      "Classifying prompts: 100%|████████████████████████████████████████████████████████████████████████████████████████████████████████████████████████████████████████████████████| 20/20 [04:26<00:00,  9.69s/it]\u001b[A\n",
      "                                                                                                                                                                                                              \u001b[A2025-05-30 13:33:22,642 || INFO || MedRL-CoT Setup - Dumping to save\n"
     ]
    },
    {
     "data": {
      "application/vnd.jupyter.widget-view+json": {
       "model_id": "f2c7a00025bb4a5ba3c43cfa892dcbbf",
       "version_major": 2,
       "version_minor": 0
      },
      "text/plain": [
       "Saving the dataset (0/1 shards):   0%|          | 0/1433 [00:00<?, ? examples/s]"
      ]
     },
     "metadata": {},
     "output_type": "display_data"
    },
    {
     "name": "stderr",
     "output_type": "stream",
     "text": [
      "Preprocessing dataset:   0%|                                                                                                                                       | 14/331793 [47:42<26694:30:54, 289.65s/it]2025-05-30 13:33:22,685 || INFO || MedRL-CoT Setup - Preprocessing example 14\n"
     ]
    },
    {
     "name": "stdout",
     "output_type": "stream",
     "text": [
      "36\n"
     ]
    },
    {
     "name": "stderr",
     "output_type": "stream",
     "text": [
      "\n",
      "Classifying prompts:   0%|                                                                                                                                                             | 0/36 [00:00<?, ?it/s]\u001b[A2025-05-30 13:33:32,946 || WARNING || MedRL-CoT Setup - Invalid JSON, trying conversion\n",
      "2025-05-30 13:33:32,947 || ERROR || MedRL-CoT Setup - Provided data schema not parseable/known, skipping this chunk\n",
      "\n",
      "Classifying prompts:   3%|████▏                                                                                                                                                | 1/36 [00:10<05:59, 10.26s/it]\u001b[A2025-05-30 13:33:53,687 || INFO || MedRL-CoT Setup - Successful JSON parsed!\n",
      "\n",
      "Classifying prompts:   6%|████████▎                                                                                                                                            | 2/36 [00:30<09:18, 16.42s/it]\u001b[A2025-05-30 13:35:08,980 || WARNING || MedRL-CoT Setup - Invalid JSON, trying conversion\n",
      "2025-05-30 13:35:08,981 || ERROR || MedRL-CoT Setup - Provided data schema not parseable/known, skipping this chunk\n",
      "\n",
      "Classifying prompts:   8%|████████████▍                                                                                                                                        | 3/36 [01:46<23:49, 43.31s/it]\u001b[A2025-05-30 13:36:24,100 || WARNING || MedRL-CoT Setup - Invalid JSON, trying conversion\n",
      "2025-05-30 13:36:24,101 || ERROR || MedRL-CoT Setup - Provided data schema not parseable/known, skipping this chunk\n",
      "\n",
      "Classifying prompts:  11%|████████████████▌                                                                                                                                    | 4/36 [03:01<29:47, 55.87s/it]\u001b[A2025-05-30 13:36:26,544 || INFO || MedRL-CoT Setup - Successful JSON parsed!\n",
      "\n",
      "Classifying prompts:  14%|████████████████████▋                                                                                                                                | 5/36 [03:03<18:54, 36.60s/it]\u001b[A2025-05-30 13:36:33,045 || INFO || MedRL-CoT Setup - Successful JSON parsed!\n",
      "\n",
      "Classifying prompts:  17%|████████████████████████▊                                                                                                                            | 6/36 [03:10<13:11, 26.37s/it]\u001b[A2025-05-30 13:36:55,956 || INFO || MedRL-CoT Setup - Successful JSON parsed!\n",
      "\n",
      "Classifying prompts:  19%|████████████████████████████▉                                                                                                                        | 7/36 [03:33<12:11, 25.24s/it]\u001b[A2025-05-30 13:37:24,110 || INFO || MedRL-CoT Setup - Successful JSON parsed!\n",
      "\n",
      "Classifying prompts:  22%|█████████████████████████████████                                                                                                                    | 8/36 [04:01<12:12, 26.17s/it]\u001b[A2025-05-30 13:37:32,340 || INFO || MedRL-CoT Setup - Successful JSON parsed!\n",
      "\n",
      "Classifying prompts:  25%|█████████████████████████████████████▎                                                                                                               | 9/36 [04:09<09:15, 20.56s/it]\u001b[A2025-05-30 13:37:35,111 || INFO || MedRL-CoT Setup - Successful JSON parsed!\n",
      "\n",
      "Classifying prompts:  28%|█████████████████████████████████████████                                                                                                           | 10/36 [04:12<06:31, 15.07s/it]\u001b[A2025-05-30 13:37:44,641 || INFO || MedRL-CoT Setup - Successful JSON parsed!\n",
      "\n",
      "Classifying prompts:  31%|█████████████████████████████████████████████▏                                                                                                      | 11/36 [04:21<05:34, 13.37s/it]\u001b[A2025-05-30 13:39:03,223 || WARNING || MedRL-CoT Setup - Invalid JSON, trying conversion\n",
      "2025-05-30 13:39:03,225 || ERROR || MedRL-CoT Setup - Provided data schema not parseable/known, skipping this chunk\n",
      "\n",
      "Classifying prompts:  33%|█████████████████████████████████████████████████▎                                                                                                  | 12/36 [05:40<13:17, 33.21s/it]\u001b[A2025-05-30 13:39:47,505 || INFO || MedRL-CoT Setup - Successful JSON parsed!\n",
      "\n",
      "Classifying prompts:  36%|█████████████████████████████████████████████████████▍                                                                                              | 13/36 [06:24<14:00, 36.56s/it]\u001b[A2025-05-30 13:39:50,859 || INFO || MedRL-CoT Setup - Successful JSON parsed!\n",
      "\n",
      "Classifying prompts:  39%|█████████████████████████████████████████████████████████▌                                                                                          | 14/36 [06:28<09:43, 26.53s/it]\u001b[A2025-05-30 13:39:54,223 || INFO || MedRL-CoT Setup - Successful JSON parsed!\n",
      "\n",
      "Classifying prompts:  42%|█████████████████████████████████████████████████████████████▋                                                                                      | 15/36 [06:31<06:50, 19.55s/it]\u001b[A2025-05-30 13:39:56,596 || INFO || MedRL-CoT Setup - Successful JSON parsed!\n",
      "\n",
      "Classifying prompts:  44%|█████████████████████████████████████████████████████████████████▊                                                                                  | 16/36 [06:33<04:47, 14.38s/it]\u001b[A2025-05-30 13:39:59,654 || INFO || MedRL-CoT Setup - Successful JSON parsed!\n",
      "\n",
      "Classifying prompts:  47%|█████████████████████████████████████████████████████████████████████▉                                                                              | 17/36 [06:36<03:28, 10.97s/it]\u001b[A2025-05-30 13:40:02,876 || INFO || MedRL-CoT Setup - Successful JSON parsed!\n",
      "\n",
      "Classifying prompts:  50%|██████████████████████████████████████████████████████████████████████████                                                                          | 18/36 [06:40<02:35,  8.65s/it]\u001b[A2025-05-30 13:40:05,886 || INFO || MedRL-CoT Setup - Successful JSON parsed!\n",
      "\n",
      "Classifying prompts:  53%|██████████████████████████████████████████████████████████████████████████████                                                                      | 19/36 [06:43<01:58,  6.95s/it]\u001b[A2025-05-30 13:40:12,366 || INFO || MedRL-CoT Setup - Successful JSON parsed!\n",
      "\n",
      "Classifying prompts:  56%|██████████████████████████████████████████████████████████████████████████████████▏                                                                 | 20/36 [06:49<01:48,  6.81s/it]\u001b[A2025-05-30 13:40:15,633 || INFO || MedRL-CoT Setup - Successful JSON parsed!\n",
      "\n",
      "Classifying prompts:  58%|██████████████████████████████████████████████████████████████████████████████████████▎                                                             | 21/36 [06:52<01:26,  5.75s/it]\u001b[A2025-05-30 13:40:19,565 || WARNING || MedRL-CoT Setup - Invalid JSON, trying conversion\n",
      "2025-05-30 13:40:19,566 || ERROR || MedRL-CoT Setup - Provided data schema not parseable/known, skipping this chunk\n",
      "\n",
      "Classifying prompts:  61%|██████████████████████████████████████████████████████████████████████████████████████████▍                                                         | 22/36 [06:56<01:12,  5.20s/it]\u001b[A2025-05-30 13:40:24,414 || INFO || MedRL-CoT Setup - Successful JSON parsed!\n",
      "\n",
      "Classifying prompts:  64%|██████████████████████████████████████████████████████████████████████████████████████████████▌                                                     | 23/36 [07:01<01:06,  5.10s/it]\u001b[A2025-05-30 13:40:28,607 || INFO || MedRL-CoT Setup - Successful JSON parsed!\n",
      "\n",
      "Classifying prompts:  67%|██████████████████████████████████████████████████████████████████████████████████████████████████▋                                                 | 24/36 [07:05<00:57,  4.83s/it]\u001b[A2025-05-30 13:40:31,535 || INFO || MedRL-CoT Setup - Successful JSON parsed!\n",
      "\n",
      "Classifying prompts:  69%|██████████████████████████████████████████████████████████████████████████████████████████████████████▊                                             | 25/36 [07:08<00:46,  4.26s/it]\u001b[A2025-05-30 13:40:36,831 || WARNING || MedRL-CoT Setup - Invalid JSON, trying conversion\n",
      "2025-05-30 13:40:36,832 || ERROR || MedRL-CoT Setup - Provided data schema not parseable/known, skipping this chunk\n",
      "\n",
      "Classifying prompts:  72%|██████████████████████████████████████████████████████████████████████████████████████████████████████████▉                                         | 26/36 [07:14<00:45,  4.57s/it]\u001b[A2025-05-30 13:40:42,568 || INFO || MedRL-CoT Setup - Successful JSON parsed!\n",
      "\n",
      "Classifying prompts:  75%|███████████████████████████████████████████████████████████████████████████████████████████████████████████████                                     | 27/36 [07:19<00:44,  4.92s/it]\u001b[A2025-05-30 13:40:45,772 || INFO || MedRL-CoT Setup - Successful JSON parsed!\n",
      "\n",
      "Classifying prompts:  78%|███████████████████████████████████████████████████████████████████████████████████████████████████████████████████                                 | 28/36 [07:23<00:35,  4.40s/it]\u001b[A2025-05-30 13:40:47,287 || ERROR || MedRL-CoT Setup - Nothing found, bad example!\n",
      "\n",
      "Classifying prompts:  81%|███████████████████████████████████████████████████████████████████████████████████████████████████████████████████████▏                            | 29/36 [07:24<00:24,  3.54s/it]\u001b[A2025-05-30 13:40:51,373 || INFO || MedRL-CoT Setup - Successful JSON parsed!\n",
      "\n",
      "Classifying prompts:  83%|███████████████████████████████████████████████████████████████████████████████████████████████████████████████████████████▎                        | 30/36 [07:28<00:22,  3.70s/it]\u001b[A2025-05-30 13:40:53,966 || INFO || MedRL-CoT Setup - Successful JSON parsed!\n",
      "\n",
      "Classifying prompts:  86%|███████████████████████████████████████████████████████████████████████████████████████████████████████████████████████████████▍                    | 31/36 [07:31<00:16,  3.37s/it]\u001b[A2025-05-30 13:40:57,881 || INFO || MedRL-CoT Setup - Successful JSON parsed!\n",
      "\n",
      "Classifying prompts:  89%|███████████████████████████████████████████████████████████████████████████████████████████████████████████████████████████████████▌                | 32/36 [07:35<00:14,  3.53s/it]\u001b[A2025-05-30 13:41:01,076 || INFO || MedRL-CoT Setup - Successful JSON parsed!\n",
      "\n",
      "Classifying prompts:  92%|███████████████████████████████████████████████████████████████████████████████████████████████████████████████████████████████████████▋            | 33/36 [07:38<00:10,  3.43s/it]\u001b[A2025-05-30 13:41:05,865 || INFO || MedRL-CoT Setup - Successful JSON parsed!\n",
      "\n",
      "Classifying prompts:  94%|███████████████████████████████████████████████████████████████████████████████████████████████████████████████████████████████████████████▊        | 34/36 [07:43<00:07,  3.84s/it]\u001b[A2025-05-30 13:41:10,749 || INFO || MedRL-CoT Setup - Successful JSON parsed!\n",
      "\n",
      "Classifying prompts:  97%|███████████████████████████████████████████████████████████████████████████████████████████████████████████████████████████████████████████████▉    | 35/36 [07:48<00:04,  4.15s/it]\u001b[A2025-05-30 13:41:18,672 || INFO || MedRL-CoT Setup - Successful JSON parsed!\n",
      "\n",
      "Classifying prompts: 100%|████████████████████████████████████████████████████████████████████████████████████████████████████████████████████████████████████████████████████| 36/36 [07:55<00:00,  5.28s/it]\u001b[A\n",
      "                                                                                                                                                                                                              \u001b[A2025-05-30 13:41:18,677 || INFO || MedRL-CoT Setup - Dumping to save\n"
     ]
    },
    {
     "data": {
      "application/vnd.jupyter.widget-view+json": {
       "model_id": "f10e052f85bc4549808a6e196d1b8361",
       "version_major": 2,
       "version_minor": 0
      },
      "text/plain": [
       "Saving the dataset (0/1 shards):   0%|          | 0/1517 [00:00<?, ? examples/s]"
      ]
     },
     "metadata": {},
     "output_type": "display_data"
    },
    {
     "name": "stderr",
     "output_type": "stream",
     "text": [
      "Preprocessing dataset:   0%|                                                                                                                                       | 15/331793 [55:38<31686:23:05, 343.82s/it]2025-05-30 13:41:18,718 || INFO || MedRL-CoT Setup - Preprocessing example 15\n"
     ]
    },
    {
     "name": "stdout",
     "output_type": "stream",
     "text": [
      "18\n"
     ]
    },
    {
     "name": "stderr",
     "output_type": "stream",
     "text": [
      "\n",
      "Classifying prompts:   0%|                                                                                                                                                             | 0/18 [00:00<?, ?it/s]\u001b[A2025-05-30 13:41:42,389 || WARNING || MedRL-CoT Setup - Invalid JSON, trying conversion\n",
      "2025-05-30 13:41:42,391 || ERROR || MedRL-CoT Setup - Provided data schema not parseable/known, skipping this chunk\n",
      "\n",
      "Classifying prompts:   6%|████████▎                                                                                                                                            | 1/18 [00:23<06:42, 23.67s/it]\u001b[A2025-05-30 13:42:31,948 || INFO || MedRL-CoT Setup - Successful JSON parsed!\n",
      "\n",
      "Classifying prompts:  11%|████████████████▌                                                                                                                                    | 2/18 [01:13<10:22, 38.90s/it]\u001b[A2025-05-30 13:42:34,298 || INFO || MedRL-CoT Setup - Successful JSON parsed!\n",
      "\n",
      "Classifying prompts:  17%|████████████████████████▊                                                                                                                            | 3/18 [01:15<05:33, 22.21s/it]\u001b[A2025-05-30 13:42:40,449 || INFO || MedRL-CoT Setup - Successful JSON parsed!\n",
      "\n",
      "Classifying prompts:  22%|█████████████████████████████████                                                                                                                    | 4/18 [01:21<03:42, 15.87s/it]\u001b[A2025-05-30 13:42:42,940 || INFO || MedRL-CoT Setup - Successful JSON parsed!\n",
      "\n",
      "Classifying prompts:  28%|█████████████████████████████████████████▍                                                                                                           | 5/18 [01:24<02:23, 11.05s/it]\u001b[A2025-05-30 13:43:06,940 || INFO || MedRL-CoT Setup - Successful JSON parsed!\n",
      "\n",
      "Classifying prompts:  33%|█████████████████████████████████████████████████▋                                                                                                   | 6/18 [01:48<03:05, 15.45s/it]\u001b[A2025-05-30 13:43:29,773 || INFO || MedRL-CoT Setup - Successful JSON parsed!\n",
      "\n",
      "Classifying prompts:  39%|█████████████████████████████████████████████████████████▉                                                                                           | 7/18 [02:11<03:16, 17.86s/it]\u001b[A2025-05-30 13:44:28,083 || INFO || MedRL-CoT Setup - Successful JSON parsed!\n",
      "\n",
      "Classifying prompts:  44%|██████████████████████████████████████████████████████████████████▏                                                                                  | 8/18 [03:09<05:07, 30.74s/it]\u001b[A2025-05-30 13:44:33,549 || WARNING || MedRL-CoT Setup - Invalid JSON, trying conversion\n",
      "2025-05-30 13:44:33,550 || ERROR || MedRL-CoT Setup - Provided data schema not parseable/known, skipping this chunk\n",
      "\n",
      "Classifying prompts:  50%|██████████████████████████████████████████████████████████████████████████▌                                                                          | 9/18 [03:14<03:25, 22.84s/it]\u001b[A2025-05-30 13:44:40,366 || WARNING || MedRL-CoT Setup - Invalid JSON, trying conversion\n",
      "2025-05-30 13:44:40,367 || ERROR || MedRL-CoT Setup - Provided data schema not parseable/known, skipping this chunk\n",
      "\n",
      "Classifying prompts:  56%|██████████████████████████████████████████████████████████████████████████████████▏                                                                 | 10/18 [03:21<02:23, 17.89s/it]\u001b[A2025-05-30 13:44:50,641 || INFO || MedRL-CoT Setup - Successful JSON parsed!\n",
      "\n",
      "Classifying prompts:  61%|██████████████████████████████████████████████████████████████████████████████████████████▍                                                         | 11/18 [03:31<01:48, 15.56s/it]\u001b[A2025-05-30 13:45:02,175 || INFO || MedRL-CoT Setup - Successful JSON parsed!\n",
      "\n",
      "Classifying prompts:  67%|██████████████████████████████████████████████████████████████████████████████████████████████████▋                                                 | 12/18 [03:43<01:26, 14.34s/it]\u001b[A2025-05-30 13:46:14,225 || ERROR || MedRL-CoT Setup - Nothing found, bad example!\n",
      "\n",
      "Classifying prompts:  72%|██████████████████████████████████████████████████████████████████████████████████████████████████████████▉                                         | 13/18 [04:55<02:39, 31.82s/it]\u001b[A2025-05-30 13:46:49,436 || INFO || MedRL-CoT Setup - Successful JSON parsed!\n",
      "\n",
      "Classifying prompts:  78%|███████████████████████████████████████████████████████████████████████████████████████████████████████████████████                                 | 14/18 [05:30<02:11, 32.84s/it]\u001b[A2025-05-30 13:46:52,738 || INFO || MedRL-CoT Setup - Successful JSON parsed!\n",
      "\n",
      "Classifying prompts:  83%|███████████████████████████████████████████████████████████████████████████████████████████████████████████████████████████▎                        | 15/18 [05:34<01:11, 23.94s/it]\u001b[A2025-05-30 13:46:58,492 || INFO || MedRL-CoT Setup - Successful JSON parsed!\n",
      "\n",
      "Classifying prompts:  89%|███████████████████████████████████████████████████████████████████████████████████████████████████████████████████████████████████▌                | 16/18 [05:39<00:36, 18.47s/it]\u001b[A2025-05-30 13:47:22,650 || INFO || MedRL-CoT Setup - Successful JSON parsed!\n",
      "\n",
      "Classifying prompts:  94%|███████████████████████████████████████████████████████████████████████████████████████████████████████████████████████████████████████████▊        | 17/18 [06:03<00:20, 20.18s/it]\u001b[A2025-05-30 13:47:41,359 || INFO || MedRL-CoT Setup - Successful JSON parsed!\n",
      "\n",
      "Classifying prompts: 100%|████████████████████████████████████████████████████████████████████████████████████████████████████████████████████████████████████████████████████| 18/18 [06:22<00:00, 19.74s/it]\u001b[A\n",
      "                                                                                                                                                                                                              \u001b[A2025-05-30 13:47:41,363 || INFO || MedRL-CoT Setup - Dumping to save\n"
     ]
    },
    {
     "data": {
      "application/vnd.jupyter.widget-view+json": {
       "model_id": "f18c5eb2a34b4fafbe8f7744f8fb3f12",
       "version_major": 2,
       "version_minor": 0
      },
      "text/plain": [
       "Saving the dataset (0/1 shards):   0%|          | 0/1622 [00:00<?, ? examples/s]"
      ]
     },
     "metadata": {},
     "output_type": "display_data"
    },
    {
     "name": "stderr",
     "output_type": "stream",
     "text": [
      "Preprocessing dataset:   0%|                                                                                                                                     | 16/331793 [1:02:00<32737:10:54, 355.22s/it]2025-05-30 13:47:41,403 || INFO || MedRL-CoT Setup - Preprocessing example 16\n"
     ]
    },
    {
     "name": "stdout",
     "output_type": "stream",
     "text": [
      "24\n"
     ]
    },
    {
     "name": "stderr",
     "output_type": "stream",
     "text": [
      "\n",
      "Classifying prompts:   0%|                                                                                                                                                             | 0/24 [00:00<?, ?it/s]\u001b[A2025-05-30 13:47:43,522 || INFO || MedRL-CoT Setup - Successful JSON parsed!\n",
      "\n",
      "Classifying prompts:   4%|██████▏                                                                                                                                              | 1/24 [00:02<00:48,  2.12s/it]\u001b[A2025-05-30 13:47:46,119 || INFO || MedRL-CoT Setup - Successful JSON parsed!\n",
      "\n",
      "Classifying prompts:   8%|████████████▍                                                                                                                                        | 2/24 [00:04<00:52,  2.40s/it]\u001b[A2025-05-30 13:49:04,317 || WARNING || MedRL-CoT Setup - Invalid JSON, trying conversion\n",
      "2025-05-30 13:49:04,318 || ERROR || MedRL-CoT Setup - Provided data schema not parseable/known, skipping this chunk\n",
      "\n",
      "Classifying prompts:  12%|██████████████████▋                                                                                                                                  | 3/24 [01:22<12:57, 37.01s/it]\u001b[A2025-05-30 13:49:06,671 || INFO || MedRL-CoT Setup - Successful JSON parsed!\n",
      "\n",
      "Classifying prompts:  17%|████████████████████████▊                                                                                                                            | 4/24 [01:25<07:46, 23.33s/it]\u001b[A2025-05-30 13:49:13,062 || INFO || MedRL-CoT Setup - Successful JSON parsed!\n",
      "\n",
      "Classifying prompts:  21%|███████████████████████████████                                                                                                                      | 5/24 [01:31<05:27, 17.22s/it]\u001b[A2025-05-30 13:49:14,831 || INFO || MedRL-CoT Setup - Successful JSON parsed!\n",
      "\n",
      "Classifying prompts:  25%|█████████████████████████████████████▎                                                                                                               | 6/24 [01:33<03:35, 11.97s/it]\u001b[A2025-05-30 13:49:23,611 || INFO || MedRL-CoT Setup - Successful JSON parsed!\n",
      "\n",
      "Classifying prompts:  29%|███████████████████████████████████████████▍                                                                                                         | 7/24 [01:42<03:05, 10.93s/it]\u001b[A2025-05-30 13:49:45,306 || WARNING || MedRL-CoT Setup - Invalid JSON, trying conversion\n",
      "2025-05-30 13:49:45,307 || ERROR || MedRL-CoT Setup - Provided data schema not parseable/known, skipping this chunk\n",
      "\n",
      "Classifying prompts:  33%|█████████████████████████████████████████████████▋                                                                                                   | 8/24 [02:03<03:49, 14.35s/it]\u001b[A2025-05-30 13:50:06,044 || INFO || MedRL-CoT Setup - Successful JSON parsed!\n",
      "\n",
      "Classifying prompts:  38%|███████████████████████████████████████████████████████▉                                                                                             | 9/24 [02:24<04:05, 16.35s/it]\u001b[A2025-05-30 13:50:09,546 || INFO || MedRL-CoT Setup - Successful JSON parsed!\n",
      "\n",
      "Classifying prompts:  42%|█████████████████████████████████████████████████████████████▋                                                                                      | 10/24 [02:28<02:53, 12.38s/it]\u001b[A2025-05-30 13:50:47,533 || ERROR || MedRL-CoT Setup - Nothing found, bad example!\n",
      "\n",
      "Classifying prompts:  46%|███████████████████████████████████████████████████████████████████▊                                                                                | 11/24 [03:06<04:22, 20.22s/it]\u001b[A2025-05-30 13:50:50,309 || INFO || MedRL-CoT Setup - Successful JSON parsed!\n",
      "\n",
      "Classifying prompts:  50%|██████████████████████████████████████████████████████████████████████████                                                                          | 12/24 [03:08<02:58, 14.91s/it]\u001b[A2025-05-30 13:51:07,825 || ERROR || MedRL-CoT Setup - Nothing found, bad example!\n",
      "\n",
      "Classifying prompts:  54%|████████████████████████████████████████████████████████████████████████████████▏                                                                   | 13/24 [03:26<02:52, 15.70s/it]\u001b[A2025-05-30 13:52:04,891 || INFO || MedRL-CoT Setup - Successful JSON parsed!\n",
      "\n",
      "Classifying prompts:  58%|██████████████████████████████████████████████████████████████████████████████████████▎                                                             | 14/24 [04:23<04:41, 28.20s/it]\u001b[A2025-05-30 13:52:35,347 || INFO || MedRL-CoT Setup - Successful JSON parsed!\n",
      "\n",
      "Classifying prompts:  62%|████████████████████████████████████████████████████████████████████████████████████████████▌                                                       | 15/24 [04:53<04:19, 28.88s/it]\u001b[A2025-05-30 13:53:04,093 || INFO || MedRL-CoT Setup - Successful JSON parsed!\n",
      "\n",
      "Classifying prompts:  67%|██████████████████████████████████████████████████████████████████████████████████████████████████▋                                                 | 16/24 [05:22<03:50, 28.84s/it]\u001b[A2025-05-30 13:53:06,495 || INFO || MedRL-CoT Setup - Successful JSON parsed!\n",
      "\n",
      "Classifying prompts:  71%|████████████████████████████████████████████████████████████████████████████████████████████████████████▊                                           | 17/24 [05:25<02:26, 20.89s/it]\u001b[A2025-05-30 13:53:12,200 || INFO || MedRL-CoT Setup - Successful JSON parsed!\n",
      "\n",
      "Classifying prompts:  75%|███████████████████████████████████████████████████████████████████████████████████████████████████████████████                                     | 18/24 [05:30<01:37, 16.33s/it]\u001b[A2025-05-30 13:53:19,959 || INFO || MedRL-CoT Setup - Successful JSON parsed!\n",
      "\n",
      "Classifying prompts:  79%|█████████████████████████████████████████████████████████████████████████████████████████████████████████████████████▏                              | 19/24 [05:38<01:08, 13.75s/it]\u001b[A2025-05-30 13:53:29,715 || INFO || MedRL-CoT Setup - Successful JSON parsed!\n",
      "\n",
      "Classifying prompts:  83%|███████████████████████████████████████████████████████████████████████████████████████████████████████████████████████████▎                        | 20/24 [05:48<00:50, 12.55s/it]\u001b[A2025-05-30 13:53:34,226 || INFO || MedRL-CoT Setup - Successful JSON parsed!\n",
      "\n",
      "Classifying prompts:  88%|█████████████████████████████████████████████████████████████████████████████████████████████████████████████████████████████████▌                  | 21/24 [05:52<00:30, 10.14s/it]\u001b[A2025-05-30 13:53:39,590 || INFO || MedRL-CoT Setup - Successful JSON parsed!\n",
      "\n",
      "Classifying prompts:  92%|███████████████████████████████████████████████████████████████████████████████████████████████████████████████████████████████████████▋            | 22/24 [05:58<00:17,  8.71s/it]\u001b[A2025-05-30 13:53:43,197 || INFO || MedRL-CoT Setup - Successful JSON parsed!\n",
      "\n",
      "Classifying prompts:  96%|█████████████████████████████████████████████████████████████████████████████████████████████████████████████████████████████████████████████▊      | 23/24 [06:01<00:07,  7.18s/it]\u001b[A2025-05-30 13:53:47,106 || INFO || MedRL-CoT Setup - Successful JSON parsed!\n",
      "\n",
      "Classifying prompts: 100%|████████████████████████████████████████████████████████████████████████████████████████████████████████████████████████████████████████████████████| 24/24 [06:05<00:00,  6.20s/it]\u001b[A\n",
      "                                                                                                                                                                                                              \u001b[A2025-05-30 13:53:47,112 || INFO || MedRL-CoT Setup - Dumping to save\n"
     ]
    },
    {
     "data": {
      "application/vnd.jupyter.widget-view+json": {
       "model_id": "8a6c736ccc204c05b3b281586c1e49c9",
       "version_major": 2,
       "version_minor": 0
      },
      "text/plain": [
       "Saving the dataset (0/1 shards):   0%|          | 0/1714 [00:00<?, ? examples/s]"
      ]
     },
     "metadata": {},
     "output_type": "display_data"
    },
    {
     "name": "stderr",
     "output_type": "stream",
     "text": [
      "Preprocessing dataset:   0%|                                                                                                                                     | 17/331793 [1:08:06<33023:39:23, 358.33s/it]2025-05-30 13:53:47,153 || INFO || MedRL-CoT Setup - Preprocessing example 17\n"
     ]
    },
    {
     "name": "stdout",
     "output_type": "stream",
     "text": [
      "35\n"
     ]
    },
    {
     "name": "stderr",
     "output_type": "stream",
     "text": [
      "\n",
      "Classifying prompts:   0%|                                                                                                                                                             | 0/35 [00:00<?, ?it/s]\u001b[A2025-05-30 13:54:54,863 || WARNING || MedRL-CoT Setup - Invalid JSON, trying conversion\n",
      "2025-05-30 13:54:54,864 || ERROR || MedRL-CoT Setup - Provided data schema not parseable/known, skipping this chunk\n",
      "\n",
      "Classifying prompts:   3%|████▎                                                                                                                                                | 1/35 [01:07<38:22, 67.71s/it]\u001b[A2025-05-30 13:55:00,725 || INFO || MedRL-CoT Setup - Successful JSON parsed!\n",
      "\n",
      "Classifying prompts:   6%|████████▌                                                                                                                                            | 2/35 [01:13<17:13, 31.33s/it]\u001b[A2025-05-30 13:55:39,187 || INFO || MedRL-CoT Setup - Successful JSON parsed!\n",
      "\n",
      "Classifying prompts:   9%|████████████▊                                                                                                                                        | 3/35 [01:52<18:26, 34.59s/it]\u001b[A2025-05-30 13:56:45,713 || ERROR || MedRL-CoT Setup - Nothing found, bad example!\n",
      "\n",
      "Classifying prompts:  11%|█████████████████                                                                                                                                    | 4/35 [02:58<24:23, 47.19s/it]\u001b[A2025-05-30 13:57:01,914 || INFO || MedRL-CoT Setup - Successful JSON parsed!\n",
      "\n",
      "Classifying prompts:  14%|█████████████████████▎                                                                                                                               | 5/35 [03:14<18:00, 36.02s/it]\u001b[A2025-05-30 13:57:19,023 || WARNING || MedRL-CoT Setup - Invalid JSON, trying conversion\n",
      "2025-05-30 13:57:19,024 || ERROR || MedRL-CoT Setup - Provided data schema not parseable/known, skipping this chunk\n",
      "\n",
      "Classifying prompts:  17%|█████████████████████████▌                                                                                                                           | 6/35 [03:31<14:18, 29.59s/it]\u001b[A2025-05-30 13:57:24,767 || INFO || MedRL-CoT Setup - Successful JSON parsed!\n",
      "\n",
      "Classifying prompts:  20%|█████████████████████████████▊                                                                                                                       | 7/35 [03:37<10:10, 21.79s/it]\u001b[A2025-05-30 13:57:36,870 || INFO || MedRL-CoT Setup - Successful JSON parsed!\n",
      "\n",
      "Classifying prompts:  23%|██████████████████████████████████                                                                                                                   | 8/35 [03:49<08:25, 18.71s/it]\u001b[A2025-05-30 13:57:48,116 || INFO || MedRL-CoT Setup - Successful JSON parsed!\n",
      "\n",
      "Classifying prompts:  26%|██████████████████████████████████████▎                                                                                                              | 9/35 [04:00<07:05, 16.38s/it]\u001b[A2025-05-30 13:57:50,674 || INFO || MedRL-CoT Setup - Successful JSON parsed!\n",
      "\n",
      "Classifying prompts:  29%|██████████████████████████████████████████▎                                                                                                         | 10/35 [04:03<05:02, 12.11s/it]\u001b[A2025-05-30 13:58:00,089 || WARNING || MedRL-CoT Setup - Invalid JSON, trying conversion\n",
      "2025-05-30 13:58:00,091 || ERROR || MedRL-CoT Setup - Provided data schema not parseable/known, skipping this chunk\n",
      "\n",
      "Classifying prompts:  31%|██████████████████████████████████████████████▌                                                                                                     | 11/35 [04:12<04:30, 11.29s/it]\u001b[A2025-05-30 13:58:02,694 || INFO || MedRL-CoT Setup - Successful JSON parsed!\n",
      "\n",
      "Classifying prompts:  34%|██████████████████████████████████████████████████▋                                                                                                 | 12/35 [04:15<03:18,  8.64s/it]\u001b[A2025-05-30 13:58:10,319 || INFO || MedRL-CoT Setup - Successful JSON parsed!\n",
      "\n",
      "Classifying prompts:  37%|██████████████████████████████████████████████████████▉                                                                                             | 13/35 [04:23<03:03,  8.34s/it]\u001b[A2025-05-30 13:58:16,814 || WARNING || MedRL-CoT Setup - Invalid JSON, trying conversion\n",
      "2025-05-30 13:58:16,815 || ERROR || MedRL-CoT Setup - Provided data schema not parseable/known, skipping this chunk\n",
      "\n",
      "Classifying prompts:  40%|███████████████████████████████████████████████████████████▏                                                                                        | 14/35 [04:29<02:43,  7.78s/it]\u001b[A2025-05-30 13:58:19,232 || INFO || MedRL-CoT Setup - Successful JSON parsed!\n",
      "\n",
      "Classifying prompts:  43%|███████████████████████████████████████████████████████████████▍                                                                                    | 15/35 [04:32<02:03,  6.16s/it]\u001b[A2025-05-30 13:58:39,026 || INFO || MedRL-CoT Setup - Successful JSON parsed!\n",
      "\n",
      "Classifying prompts:  46%|███████████████████████████████████████████████████████████████████▋                                                                                | 16/35 [04:51<03:15, 10.27s/it]\u001b[A2025-05-30 13:58:59,252 || INFO || MedRL-CoT Setup - Successful JSON parsed!\n",
      "\n",
      "Classifying prompts:  49%|███████████████████████████████████████████████████████████████████████▉                                                                            | 17/35 [05:12<03:58, 13.26s/it]\u001b[A2025-05-30 13:59:17,937 || INFO || MedRL-CoT Setup - Successful JSON parsed!\n",
      "\n",
      "Classifying prompts:  51%|████████████████████████████████████████████████████████████████████████████                                                                        | 18/35 [05:30<04:13, 14.89s/it]\u001b[A2025-05-30 13:59:28,389 || INFO || MedRL-CoT Setup - Successful JSON parsed!\n",
      "\n",
      "Classifying prompts:  54%|████████████████████████████████████████████████████████████████████████████████▎                                                                   | 19/35 [05:41<03:36, 13.56s/it]\u001b[A2025-05-30 13:59:42,476 || INFO || MedRL-CoT Setup - Successful JSON parsed!\n",
      "\n",
      "Classifying prompts:  57%|████████████████████████████████████████████████████████████████████████████████████▌                                                               | 20/35 [05:55<03:25, 13.72s/it]\u001b[A2025-05-30 14:00:06,450 || INFO || MedRL-CoT Setup - Successful JSON parsed!\n",
      "\n",
      "Classifying prompts:  60%|████████████████████████████████████████████████████████████████████████████████████████▊                                                           | 21/35 [06:19<03:55, 16.80s/it]\u001b[A2025-05-30 14:00:21,885 || INFO || MedRL-CoT Setup - Successful JSON parsed!\n",
      "\n",
      "Classifying prompts:  63%|█████████████████████████████████████████████████████████████████████████████████████████████                                                       | 22/35 [06:34<03:33, 16.39s/it]\u001b[A2025-05-30 14:00:31,711 || INFO || MedRL-CoT Setup - Successful JSON parsed!\n",
      "\n",
      "Classifying prompts:  66%|█████████████████████████████████████████████████████████████████████████████████████████████████▎                                                  | 23/35 [06:44<02:53, 14.42s/it]\u001b[A2025-05-30 14:00:45,286 || INFO || MedRL-CoT Setup - Successful JSON parsed!\n",
      "\n",
      "Classifying prompts:  69%|█████████████████████████████████████████████████████████████████████████████████████████████████████▍                                              | 24/35 [06:58<02:35, 14.17s/it]\u001b[A2025-05-30 14:00:51,314 || INFO || MedRL-CoT Setup - Successful JSON parsed!\n",
      "\n",
      "Classifying prompts:  71%|█████████████████████████████████████████████████████████████████████████████████████████████████████████▋                                          | 25/35 [07:04<01:57, 11.72s/it]\u001b[A2025-05-30 14:01:22,296 || WARNING || MedRL-CoT Setup - Invalid JSON, trying conversion\n",
      "2025-05-30 14:01:22,297 || ERROR || MedRL-CoT Setup - Provided data schema not parseable/known, skipping this chunk\n",
      "\n",
      "Classifying prompts:  74%|█████████████████████████████████████████████████████████████████████████████████████████████████████████████▉                                      | 26/35 [07:35<02:37, 17.50s/it]\u001b[A2025-05-30 14:01:33,215 || INFO || MedRL-CoT Setup - Successful JSON parsed!\n",
      "\n",
      "Classifying prompts:  77%|██████████████████████████████████████████████████████████████████████████████████████████████████████████████████▏                                 | 27/35 [07:46<02:04, 15.53s/it]\u001b[A2025-05-30 14:01:42,154 || INFO || MedRL-CoT Setup - Successful JSON parsed!\n",
      "\n",
      "Classifying prompts:  80%|██████████████████████████████████████████████████████████████████████████████████████████████████████████████████████▍                             | 28/35 [07:54<01:34, 13.55s/it]\u001b[A2025-05-30 14:01:49,547 || INFO || MedRL-CoT Setup - Successful JSON parsed!\n",
      "\n",
      "Classifying prompts:  83%|██████████████████████████████████████████████████████████████████████████████████████████████████████████████████████████▋                         | 29/35 [08:02<01:10, 11.70s/it]\u001b[A2025-05-30 14:02:19,441 || INFO || MedRL-CoT Setup - Successful JSON parsed!\n",
      "\n",
      "Classifying prompts:  86%|██████████████████████████████████████████████████████████████████████████████████████████████████████████████████████████████▊                     | 30/35 [08:32<01:25, 17.16s/it]\u001b[A2025-05-30 14:02:43,312 || INFO || MedRL-CoT Setup - Successful JSON parsed!\n",
      "\n",
      "Classifying prompts:  89%|███████████████████████████████████████████████████████████████████████████████████████████████████████████████████████████████████                 | 31/35 [08:56<01:16, 19.17s/it]\u001b[A2025-05-30 14:02:56,125 || ERROR || MedRL-CoT Setup - Nothing found, bad example!\n",
      "\n",
      "Classifying prompts:  91%|███████████████████████████████████████████████████████████████████████████████████████████████████████████████████████████████████████▎            | 32/35 [09:08<00:51, 17.27s/it]\u001b[A2025-05-30 14:02:58,507 || INFO || MedRL-CoT Setup - Successful JSON parsed!\n",
      "\n",
      "Classifying prompts:  94%|███████████████████████████████████████████████████████████████████████████████████████████████████████████████████████████████████████████▌        | 33/35 [09:11<00:25, 12.80s/it]\u001b[A2025-05-30 14:03:03,940 || INFO || MedRL-CoT Setup - Successful JSON parsed!\n",
      "\n",
      "Classifying prompts:  97%|███████████████████████████████████████████████████████████████████████████████████████████████████████████████████████████████████████████████▊    | 34/35 [09:16<00:10, 10.59s/it]\u001b[A2025-05-30 14:03:26,392 || INFO || MedRL-CoT Setup - Successful JSON parsed!\n",
      "\n",
      "Classifying prompts: 100%|████████████████████████████████████████████████████████████████████████████████████████████████████████████████████████████████████████████████████| 35/35 [09:39<00:00, 14.15s/it]\u001b[A\n",
      "                                                                                                                                                                                                              \u001b[A2025-05-30 14:03:26,397 || INFO || MedRL-CoT Setup - Dumping to save\n"
     ]
    },
    {
     "data": {
      "application/vnd.jupyter.widget-view+json": {
       "model_id": "23f94154590c4062a9e6b5191f30896e",
       "version_major": 2,
       "version_minor": 0
      },
      "text/plain": [
       "Saving the dataset (0/1 shards):   0%|          | 0/1848 [00:00<?, ? examples/s]"
      ]
     },
     "metadata": {},
     "output_type": "display_data"
    },
    {
     "name": "stderr",
     "output_type": "stream",
     "text": [
      "Preprocessing dataset:   0%|                                                                                                                                     | 18/331793 [1:17:45<39065:42:17, 423.89s/it]2025-05-30 14:03:26,441 || INFO || MedRL-CoT Setup - Preprocessing example 18\n"
     ]
    },
    {
     "name": "stdout",
     "output_type": "stream",
     "text": [
      "19\n"
     ]
    },
    {
     "name": "stderr",
     "output_type": "stream",
     "text": [
      "\n",
      "Classifying prompts:   0%|                                                                                                                                                             | 0/19 [00:00<?, ?it/s]\u001b[A2025-05-30 14:04:46,358 || WARNING || MedRL-CoT Setup - Invalid JSON, trying conversion\n",
      "2025-05-30 14:04:46,360 || ERROR || MedRL-CoT Setup - Provided data schema not parseable/known, skipping this chunk\n",
      "\n",
      "Classifying prompts:   5%|███████▊                                                                                                                                             | 1/19 [01:19<23:58, 79.92s/it]\u001b[A2025-05-30 14:05:11,124 || INFO || MedRL-CoT Setup - Successful JSON parsed!\n",
      "\n",
      "Classifying prompts:  11%|███████████████▋                                                                                                                                     | 2/19 [01:44<13:27, 47.47s/it]\u001b[A2025-05-30 14:05:37,285 || WARNING || MedRL-CoT Setup - Invalid JSON, trying conversion\n",
      "2025-05-30 14:05:37,287 || ERROR || MedRL-CoT Setup - Provided data schema not parseable/known, skipping this chunk\n",
      "\n",
      "Classifying prompts:  16%|███████████████████████▌                                                                                                                             | 3/19 [02:10<10:03, 37.74s/it]\u001b[A2025-05-30 14:05:50,810 || ERROR || MedRL-CoT Setup - Nothing found, bad example!\n",
      "\n",
      "Classifying prompts:  21%|███████████████████████████████▎                                                                                                                     | 4/19 [02:24<07:02, 28.18s/it]\u001b[A2025-05-30 14:06:03,095 || ERROR || MedRL-CoT Setup - Nothing found, bad example!\n",
      "\n",
      "Classifying prompts:  26%|███████████████████████████████████████▏                                                                                                             | 5/19 [02:36<05:14, 22.45s/it]\u001b[A2025-05-30 14:06:04,761 || ERROR || MedRL-CoT Setup - Nothing found, bad example!\n",
      "\n",
      "Classifying prompts:  32%|███████████████████████████████████████████████                                                                                                      | 6/19 [02:38<03:19, 15.38s/it]\u001b[A2025-05-30 14:06:25,642 || INFO || MedRL-CoT Setup - Successful JSON parsed!\n",
      "\n",
      "Classifying prompts:  37%|██████████████████████████████████████████████████████▉                                                                                              | 7/19 [02:59<03:26, 17.18s/it]\u001b[A2025-05-30 14:07:16,878 || WARNING || MedRL-CoT Setup - Invalid JSON, trying conversion\n",
      "2025-05-30 14:07:16,880 || ERROR || MedRL-CoT Setup - Provided data schema not parseable/known, skipping this chunk\n",
      "\n",
      "Classifying prompts:  42%|██████████████████████████████████████████████████████████████▋                                                                                      | 8/19 [03:50<05:08, 28.02s/it]\u001b[A2025-05-30 14:08:00,681 || INFO || MedRL-CoT Setup - Successful JSON parsed!\n",
      "\n",
      "Classifying prompts:  47%|██████████████████████████████████████████████████████████████████████▌                                                                              | 9/19 [04:34<05:29, 32.96s/it]\u001b[A2025-05-30 14:08:17,277 || INFO || MedRL-CoT Setup - Successful JSON parsed!\n",
      "\n",
      "Classifying prompts:  53%|█████████████████████████████████████████████████████████████████████████████▉                                                                      | 10/19 [04:50<04:11, 27.91s/it]\u001b[A2025-05-30 14:08:22,621 || INFO || MedRL-CoT Setup - Successful JSON parsed!\n",
      "\n",
      "Classifying prompts:  58%|█████████████████████████████████████████████████████████████████████████████████████▋                                                              | 11/19 [04:56<02:47, 21.00s/it]\u001b[A2025-05-30 14:09:01,278 || INFO || MedRL-CoT Setup - Successful JSON parsed!\n",
      "\n",
      "Classifying prompts:  63%|█████████████████████████████████████████████████████████████████████████████████████████████▍                                                      | 12/19 [05:34<03:04, 26.37s/it]\u001b[A2025-05-30 14:10:21,746 || ERROR || MedRL-CoT Setup - Nothing found, bad example!\n",
      "\n",
      "Classifying prompts:  68%|█████████████████████████████████████████████████████████████████████████████████████████████████████▎                                              | 13/19 [06:55<04:16, 42.76s/it]\u001b[A2025-05-30 14:10:29,783 || INFO || MedRL-CoT Setup - Successful JSON parsed!\n",
      "\n",
      "Classifying prompts:  74%|█████████████████████████████████████████████████████████████████████████████████████████████████████████████                                       | 14/19 [07:03<02:41, 32.27s/it]\u001b[A2025-05-30 14:10:32,987 || WARNING || MedRL-CoT Setup - Invalid JSON, trying conversion\n",
      "2025-05-30 14:10:32,988 || ERROR || MedRL-CoT Setup - Provided data schema not parseable/known, skipping this chunk\n",
      "\n",
      "Classifying prompts:  79%|████████████████████████████████████████████████████████████████████████████████████████████████████████████████████▊                               | 15/19 [07:06<01:34, 23.51s/it]\u001b[A2025-05-30 14:10:38,611 || INFO || MedRL-CoT Setup - Successful JSON parsed!\n",
      "\n",
      "Classifying prompts:  84%|████████████████████████████████████████████████████████████████████████████████████████████████████████████████████████████▋                       | 16/19 [07:12<00:54, 18.13s/it]\u001b[A2025-05-30 14:10:40,630 || INFO || MedRL-CoT Setup - Successful JSON parsed!\n",
      "\n",
      "Classifying prompts:  89%|████████████████████████████████████████████████████████████████████████████████████████████████████████████████████████████████████▍               | 17/19 [07:14<00:26, 13.28s/it]\u001b[A2025-05-30 14:10:45,037 || INFO || MedRL-CoT Setup - Successful JSON parsed!\n",
      "\n",
      "Classifying prompts:  95%|████████████████████████████████████████████████████████████████████████████████████████████████████████████████████████████████████████████▏       | 18/19 [07:18<00:10, 10.62s/it]\u001b[A2025-05-30 14:10:47,891 || INFO || MedRL-CoT Setup - Successful JSON parsed!\n",
      "\n",
      "Classifying prompts: 100%|████████████████████████████████████████████████████████████████████████████████████████████████████████████████████████████████████████████████████| 19/19 [07:21<00:00,  8.28s/it]\u001b[A\n",
      "                                                                                                                                                                                                              \u001b[A2025-05-30 14:10:47,896 || INFO || MedRL-CoT Setup - Dumping to save\n"
     ]
    },
    {
     "data": {
      "application/vnd.jupyter.widget-view+json": {
       "model_id": "5f9c2d42537c4bf7919bc65cc2d3d5bc",
       "version_major": 2,
       "version_minor": 0
      },
      "text/plain": [
       "Saving the dataset (0/1 shards):   0%|          | 0/1909 [00:00<?, ? examples/s]"
      ]
     },
     "metadata": {},
     "output_type": "display_data"
    },
    {
     "name": "stderr",
     "output_type": "stream",
     "text": [
      "Preprocessing dataset:   0%|                                                                                                                                     | 19/331793 [1:25:07<39548:35:12, 429.13s/it]2025-05-30 14:10:47,937 || INFO || MedRL-CoT Setup - Preprocessing example 19\n"
     ]
    },
    {
     "name": "stdout",
     "output_type": "stream",
     "text": [
      "32\n"
     ]
    },
    {
     "name": "stderr",
     "output_type": "stream",
     "text": [
      "\n",
      "Classifying prompts:   0%|                                                                                                                                                             | 0/32 [00:00<?, ?it/s]\u001b[A2025-05-30 14:10:54,525 || WARNING || MedRL-CoT Setup - Invalid JSON, trying conversion\n",
      "2025-05-30 14:10:54,526 || ERROR || MedRL-CoT Setup - Provided data schema not parseable/known, skipping this chunk\n",
      "\n",
      "Classifying prompts:   3%|████▋                                                                                                                                                | 1/32 [00:06<03:24,  6.59s/it]\u001b[A2025-05-30 14:11:16,028 || WARNING || MedRL-CoT Setup - Invalid JSON, trying conversion\n",
      "2025-05-30 14:11:16,029 || ERROR || MedRL-CoT Setup - Provided data schema not parseable/known, skipping this chunk\n",
      "\n",
      "Classifying prompts:   6%|█████████▎                                                                                                                                           | 2/32 [00:28<07:40, 15.36s/it]\u001b[A2025-05-30 14:11:36,497 || INFO || MedRL-CoT Setup - Successful JSON parsed!\n",
      "\n",
      "Classifying prompts:   9%|█████████████▉                                                                                                                                       | 3/32 [00:48<08:33, 17.69s/it]\u001b[A2025-05-30 14:11:39,890 || INFO || MedRL-CoT Setup - Successful JSON parsed!\n",
      "\n",
      "Classifying prompts:  12%|██████████████████▋                                                                                                                                  | 4/32 [00:51<05:37, 12.05s/it]\u001b[A2025-05-30 14:12:56,784 || WARNING || MedRL-CoT Setup - Invalid JSON, trying conversion\n",
      "2025-05-30 14:12:56,785 || ERROR || MedRL-CoT Setup - Provided data schema not parseable/known, skipping this chunk\n",
      "\n",
      "Classifying prompts:  16%|███████████████████████▎                                                                                                                             | 5/32 [02:08<15:56, 35.43s/it]\u001b[A2025-05-30 14:13:17,203 || WARNING || MedRL-CoT Setup - Invalid JSON, trying conversion\n",
      "2025-05-30 14:13:17,205 || ERROR || MedRL-CoT Setup - Provided data schema not parseable/known, skipping this chunk\n",
      "\n",
      "Classifying prompts:  19%|███████████████████████████▉                                                                                                                         | 6/32 [02:29<13:08, 30.33s/it]\u001b[A2025-05-30 14:14:24,828 || ERROR || MedRL-CoT Setup - Nothing found, bad example!\n",
      "\n",
      "Classifying prompts:  22%|████████████████████████████████▌                                                                                                                    | 7/32 [03:36<17:43, 42.52s/it]\u001b[A2025-05-30 14:15:55,702 || WARNING || MedRL-CoT Setup - Invalid JSON, trying conversion\n",
      "2025-05-30 14:15:55,704 || ERROR || MedRL-CoT Setup - Provided data schema not parseable/known, skipping this chunk\n",
      "\n",
      "Classifying prompts:  25%|█████████████████████████████████████▎                                                                                                               | 8/32 [05:07<23:09, 57.91s/it]\u001b[A2025-05-30 14:16:40,615 || ERROR || MedRL-CoT Setup - Nothing found, bad example!\n",
      "\n",
      "Classifying prompts:  28%|█████████████████████████████████████████▉                                                                                                           | 9/32 [05:52<20:38, 53.85s/it]\u001b[A2025-05-30 14:16:49,604 || INFO || MedRL-CoT Setup - Successful JSON parsed!\n",
      "\n",
      "Classifying prompts:  31%|██████████████████████████████████████████████▎                                                                                                     | 10/32 [06:01<14:40, 40.00s/it]\u001b[A2025-05-30 14:17:18,830 || INFO || MedRL-CoT Setup - Successful JSON parsed!\n",
      "\n",
      "Classifying prompts:  34%|██████████████████████████████████████████████████▉                                                                                                 | 11/32 [06:30<12:50, 36.70s/it]\u001b[A2025-05-30 14:17:25,005 || INFO || MedRL-CoT Setup - Successful JSON parsed!\n",
      "\n",
      "Classifying prompts:  38%|███████████████████████████████████████████████████████▌                                                                                            | 12/32 [06:37<09:08, 27.42s/it]\u001b[A2025-05-30 14:17:32,043 || INFO || MedRL-CoT Setup - Successful JSON parsed!\n",
      "\n",
      "Classifying prompts:  41%|████████████████████████████████████████████████████████████▏                                                                                       | 13/32 [06:44<06:43, 21.24s/it]\u001b[A2025-05-30 14:19:02,063 || WARNING || MedRL-CoT Setup - Invalid JSON, trying conversion\n",
      "2025-05-30 14:19:02,065 || ERROR || MedRL-CoT Setup - Provided data schema not parseable/known, skipping this chunk\n",
      "\n",
      "Classifying prompts:  44%|████████████████████████████████████████████████████████████████▊                                                                                   | 14/32 [08:14<12:36, 42.02s/it]\u001b[A2025-05-30 14:19:10,674 || WARNING || MedRL-CoT Setup - Invalid JSON, trying conversion\n",
      "2025-05-30 14:19:10,675 || ERROR || MedRL-CoT Setup - Provided data schema not parseable/known, skipping this chunk\n",
      "\n",
      "Classifying prompts:  47%|█████████████████████████████████████████████████████████████████████▍                                                                              | 15/32 [08:22<09:03, 31.95s/it]\u001b[A2025-05-30 14:19:13,311 || INFO || MedRL-CoT Setup - Successful JSON parsed!\n",
      "\n",
      "Classifying prompts:  50%|██████████████████████████████████████████████████████████████████████████                                                                          | 16/32 [08:25<06:09, 23.12s/it]\u001b[A2025-05-30 14:19:16,972 || INFO || MedRL-CoT Setup - Successful JSON parsed!\n",
      "\n",
      "Classifying prompts:  53%|██████████████████████████████████████████████████████████████████████████████▋                                                                     | 17/32 [08:29<04:19, 17.27s/it]\u001b[A2025-05-30 14:19:22,302 || INFO || MedRL-CoT Setup - Successful JSON parsed!\n",
      "\n",
      "Classifying prompts:  56%|███████████████████████████████████████████████████████████████████████████████████▎                                                                | 18/32 [08:34<03:11, 13.68s/it]\u001b[A2025-05-30 14:19:45,978 || INFO || MedRL-CoT Setup - Successful JSON parsed!\n",
      "\n",
      "Classifying prompts:  59%|███████████████████████████████████████████████████████████████████████████████████████▉                                                            | 19/32 [08:58<03:36, 16.68s/it]\u001b[A2025-05-30 14:20:11,121 || INFO || MedRL-CoT Setup - Successful JSON parsed!\n",
      "\n",
      "Classifying prompts:  62%|████████████████████████████████████████████████████████████████████████████████████████████▌                                                       | 20/32 [09:23<03:50, 19.22s/it]\u001b[A2025-05-30 14:20:29,067 || INFO || MedRL-CoT Setup - Successful JSON parsed!\n",
      "\n",
      "Classifying prompts:  66%|█████████████████████████████████████████████████████████████████████████████████████████████████▏                                                  | 21/32 [09:41<03:27, 18.84s/it]\u001b[A2025-05-30 14:20:37,075 || INFO || MedRL-CoT Setup - Successful JSON parsed!\n",
      "\n",
      "Classifying prompts:  69%|█████████████████████████████████████████████████████████████████████████████████████████████████████▊                                              | 22/32 [09:49<02:35, 15.59s/it]\u001b[A2025-05-30 14:20:43,307 || INFO || MedRL-CoT Setup - Successful JSON parsed!\n",
      "\n",
      "Classifying prompts:  72%|██████████████████████████████████████████████████████████████████████████████████████████████████████████▍                                         | 23/32 [09:55<01:55, 12.78s/it]\u001b[A2025-05-30 14:20:46,971 || INFO || MedRL-CoT Setup - Successful JSON parsed!\n",
      "\n",
      "Classifying prompts:  75%|███████████████████████████████████████████████████████████████████████████████████████████████████████████████                                     | 24/32 [09:59<01:20, 10.05s/it]\u001b[A2025-05-30 14:20:50,030 || INFO || MedRL-CoT Setup - Successful JSON parsed!\n",
      "\n",
      "Classifying prompts:  78%|███████████████████████████████████████████████████████████████████████████████████████████████████████████████████▋                                | 25/32 [10:02<00:55,  7.95s/it]\u001b[A2025-05-30 14:21:44,131 || INFO || MedRL-CoT Setup - Successful JSON parsed!\n",
      "\n",
      "Classifying prompts:  81%|████████████████████████████████████████████████████████████████████████████████████████████████████████████████████████▎                           | 26/32 [10:56<02:10, 21.80s/it]\u001b[A2025-05-30 14:22:20,050 || INFO || MedRL-CoT Setup - Successful JSON parsed!\n",
      "\n",
      "Classifying prompts:  84%|████████████████████████████████████████████████████████████████████████████████████████████████████████████████████████████▉                       | 27/32 [11:32<02:10, 26.03s/it]\u001b[A2025-05-30 14:22:23,069 || INFO || MedRL-CoT Setup - Successful JSON parsed!\n",
      "\n",
      "Classifying prompts:  88%|█████████████████████████████████████████████████████████████████████████████████████████████████████████████████████████████████▌                  | 28/32 [11:35<01:16, 19.13s/it]\u001b[A2025-05-30 14:22:28,283 || WARNING || MedRL-CoT Setup - Invalid JSON, trying conversion\n",
      "2025-05-30 14:22:28,285 || ERROR || MedRL-CoT Setup - Provided data schema not parseable/known, skipping this chunk\n",
      "\n",
      "Classifying prompts:  91%|██████████████████████████████████████████████████████████████████████████████████████████████████████████████████████████████████████▏             | 29/32 [11:40<00:44, 14.95s/it]\u001b[A2025-05-30 14:22:37,046 || INFO || MedRL-CoT Setup - Successful JSON parsed!\n",
      "\n",
      "Classifying prompts:  94%|██████████████████████████████████████████████████████████████████████████████████████████████████████████████████████████████████████████▊         | 30/32 [11:49<00:26, 13.10s/it]\u001b[A2025-05-30 14:22:48,192 || INFO || MedRL-CoT Setup - Successful JSON parsed!\n",
      "\n",
      "Classifying prompts:  97%|███████████████████████████████████████████████████████████████████████████████████████████████████████████████████████████████████████████████▍    | 31/32 [12:00<00:12, 12.51s/it]\u001b[A2025-05-30 14:23:14,327 || WARNING || MedRL-CoT Setup - Invalid JSON, trying conversion\n",
      "2025-05-30 14:23:14,329 || ERROR || MedRL-CoT Setup - Provided data schema not parseable/known, skipping this chunk\n",
      "\n",
      "Classifying prompts: 100%|████████████████████████████████████████████████████████████████████████████████████████████████████████████████████████████████████████████████████| 32/32 [12:26<00:00, 16.60s/it]\u001b[A\n",
      "                                                                                                                                                                                                              \u001b[A2025-05-30 14:23:14,335 || INFO || MedRL-CoT Setup - Dumping to save\n"
     ]
    },
    {
     "data": {
      "application/vnd.jupyter.widget-view+json": {
       "model_id": "4e9eaf9053684a4fbc1476d558d8d141",
       "version_major": 2,
       "version_minor": 0
      },
      "text/plain": [
       "Saving the dataset (0/1 shards):   0%|          | 0/2019 [00:00<?, ? examples/s]"
      ]
     },
     "metadata": {},
     "output_type": "display_data"
    },
    {
     "name": "stderr",
     "output_type": "stream",
     "text": [
      "Preprocessing dataset:   0%|                                                                                                                                     | 20/331793 [1:37:33<48273:57:50, 523.81s/it]2025-05-30 14:23:14,378 || INFO || MedRL-CoT Setup - Preprocessing example 20\n"
     ]
    },
    {
     "name": "stdout",
     "output_type": "stream",
     "text": [
      "34\n"
     ]
    },
    {
     "name": "stderr",
     "output_type": "stream",
     "text": [
      "\n",
      "Classifying prompts:   0%|                                                                                                                                                             | 0/34 [00:00<?, ?it/s]\u001b[A2025-05-30 14:23:47,646 || WARNING || MedRL-CoT Setup - Invalid JSON, trying conversion\n",
      "2025-05-30 14:23:47,647 || ERROR || MedRL-CoT Setup - Provided data schema not parseable/known, skipping this chunk\n",
      "\n",
      "Classifying prompts:   3%|████▍                                                                                                                                                | 1/34 [00:33<18:17, 33.27s/it]\u001b[A2025-05-30 14:24:43,156 || INFO || MedRL-CoT Setup - Successful JSON parsed!\n",
      "\n",
      "Classifying prompts:   6%|████████▊                                                                                                                                            | 2/34 [01:28<24:43, 46.35s/it]\u001b[A2025-05-30 14:24:56,268 || INFO || MedRL-CoT Setup - Successful JSON parsed!\n",
      "\n",
      "Classifying prompts:   9%|█████████████▏                                                                                                                                       | 3/34 [01:41<16:06, 31.17s/it]\u001b[A2025-05-30 14:26:05,513 || INFO || MedRL-CoT Setup - Successful JSON parsed!\n",
      "\n",
      "Classifying prompts:  12%|█████████████████▌                                                                                                                                   | 4/34 [02:51<23:06, 46.20s/it]\u001b[A2025-05-30 14:26:18,078 || INFO || MedRL-CoT Setup - Successful JSON parsed!\n",
      "\n",
      "Classifying prompts:  15%|█████████████████████▉                                                                                                                               | 5/34 [03:03<16:28, 34.07s/it]\u001b[A2025-05-30 14:27:33,494 || WARNING || MedRL-CoT Setup - Invalid JSON, trying conversion\n",
      "2025-05-30 14:27:33,496 || ERROR || MedRL-CoT Setup - Provided data schema not parseable/known, skipping this chunk\n",
      "\n",
      "Classifying prompts:  18%|██████████████████████████▎                                                                                                                          | 6/34 [04:19<22:27, 48.13s/it]\u001b[A2025-05-30 14:28:28,556 || INFO || MedRL-CoT Setup - Successful JSON parsed!\n",
      "\n",
      "Classifying prompts:  21%|██████████████████████████████▋                                                                                                                      | 7/34 [05:14<22:40, 50.40s/it]\u001b[A2025-05-30 14:28:49,712 || INFO || MedRL-CoT Setup - Successful JSON parsed!\n",
      "\n",
      "Classifying prompts:  24%|███████████████████████████████████                                                                                                                  | 8/34 [05:35<17:48, 41.09s/it]\u001b[A2025-05-30 14:28:56,635 || ERROR || MedRL-CoT Setup - Nothing found, bad example!\n",
      "\n",
      "Classifying prompts:  26%|███████████████████████████████████████▍                                                                                                             | 9/34 [05:42<12:40, 30.41s/it]\u001b[A2025-05-30 14:29:06,543 || WARNING || MedRL-CoT Setup - Invalid JSON, trying conversion\n",
      "2025-05-30 14:29:06,544 || ERROR || MedRL-CoT Setup - Provided data schema not parseable/known, skipping this chunk\n",
      "\n",
      "Classifying prompts:  29%|███████████████████████████████████████████▌                                                                                                        | 10/34 [05:52<09:37, 24.08s/it]\u001b[A2025-05-30 14:29:21,683 || INFO || MedRL-CoT Setup - Successful JSON parsed!\n",
      "\n",
      "Classifying prompts:  32%|███████████████████████████████████████████████▉                                                                                                    | 11/34 [06:07<08:10, 21.34s/it]\u001b[A2025-05-30 14:29:32,229 || INFO || MedRL-CoT Setup - Successful JSON parsed!\n",
      "\n",
      "Classifying prompts:  35%|████████████████████████████████████████████████████▏                                                                                               | 12/34 [06:17<06:37, 18.06s/it]\u001b[A2025-05-30 14:29:44,356 || INFO || MedRL-CoT Setup - Successful JSON parsed!\n",
      "\n",
      "Classifying prompts:  38%|████████████████████████████████████████████████████████▌                                                                                           | 13/34 [06:29<05:41, 16.26s/it]\u001b[A2025-05-30 14:29:54,988 || INFO || MedRL-CoT Setup - Successful JSON parsed!\n",
      "\n",
      "Classifying prompts:  41%|████████████████████████████████████████████████████████████▉                                                                                       | 14/34 [06:40<04:51, 14.56s/it]\u001b[A2025-05-30 14:30:14,683 || INFO || MedRL-CoT Setup - Successful JSON parsed!\n",
      "\n",
      "Classifying prompts:  44%|█████████████████████████████████████████████████████████████████▎                                                                                  | 15/34 [07:00<05:06, 16.11s/it]\u001b[A2025-05-30 14:30:31,329 || INFO || MedRL-CoT Setup - Successful JSON parsed!\n",
      "\n",
      "Classifying prompts:  47%|█████████████████████████████████████████████████████████████████████▋                                                                              | 16/34 [07:16<04:52, 16.27s/it]\u001b[A2025-05-30 14:30:48,459 || INFO || MedRL-CoT Setup - Successful JSON parsed!\n",
      "\n",
      "Classifying prompts:  50%|██████████████████████████████████████████████████████████████████████████                                                                          | 17/34 [07:34<04:40, 16.53s/it]\u001b[A2025-05-30 14:31:14,365 || INFO || MedRL-CoT Setup - Successful JSON parsed!\n",
      "\n",
      "Classifying prompts:  53%|██████████████████████████████████████████████████████████████████████████████▎                                                                     | 18/34 [07:59<05:09, 19.35s/it]\u001b[A2025-05-30 14:31:34,171 || INFO || MedRL-CoT Setup - Successful JSON parsed!\n",
      "\n",
      "Classifying prompts:  56%|██████████████████████████████████████████████████████████████████████████████████▋                                                                 | 19/34 [08:19<04:52, 19.48s/it]\u001b[A2025-05-30 14:32:00,248 || INFO || MedRL-CoT Setup - Successful JSON parsed!\n",
      "\n",
      "Classifying prompts:  59%|███████████████████████████████████████████████████████████████████████████████████████                                                             | 20/34 [08:45<05:00, 21.46s/it]\u001b[A2025-05-30 14:32:10,101 || INFO || MedRL-CoT Setup - Successful JSON parsed!\n",
      "\n",
      "Classifying prompts:  62%|███████████████████████████████████████████████████████████████████████████████████████████▍                                                        | 21/34 [08:55<03:53, 17.98s/it]\u001b[A2025-05-30 14:32:21,949 || WARNING || MedRL-CoT Setup - Invalid JSON, trying conversion\n",
      "2025-05-30 14:32:21,951 || ERROR || MedRL-CoT Setup - Provided data schema not parseable/known, skipping this chunk\n",
      "\n",
      "Classifying prompts:  65%|███████████████████████████████████████████████████████████████████████████████████████████████▊                                                    | 22/34 [09:07<03:13, 16.14s/it]\u001b[A2025-05-30 14:32:30,355 || INFO || MedRL-CoT Setup - Successful JSON parsed!\n",
      "\n",
      "Classifying prompts:  68%|████████████████████████████████████████████████████████████████████████████████████████████████████                                                | 23/34 [09:15<02:32, 13.82s/it]\u001b[A2025-05-30 14:32:40,579 || INFO || MedRL-CoT Setup - Successful JSON parsed!\n",
      "\n",
      "Classifying prompts:  71%|████████████████████████████████████████████████████████████████████████████████████████████████████████▍                                           | 24/34 [09:26<02:07, 12.74s/it]\u001b[A2025-05-30 14:32:46,944 || INFO || MedRL-CoT Setup - Successful JSON parsed!\n",
      "\n",
      "Classifying prompts:  74%|████████████████████████████████████████████████████████████████████████████████████████████████████████████▊                                       | 25/34 [09:32<01:37, 10.83s/it]\u001b[A2025-05-30 14:32:50,821 || INFO || MedRL-CoT Setup - Successful JSON parsed!\n",
      "\n",
      "Classifying prompts:  76%|█████████████████████████████████████████████████████████████████████████████████████████████████████████████████▏                                  | 26/34 [09:36<01:09,  8.74s/it]\u001b[A2025-05-30 14:33:38,126 || INFO || MedRL-CoT Setup - Successful JSON parsed!\n",
      "\n",
      "Classifying prompts:  79%|█████████████████████████████████████████████████████████████████████████████████████████████████████████████████████▌                              | 27/34 [10:23<02:22, 20.31s/it]\u001b[A2025-05-30 14:34:05,241 || INFO || MedRL-CoT Setup - Successful JSON parsed!\n",
      "\n",
      "Classifying prompts:  82%|█████████████████████████████████████████████████████████████████████████████████████████████████████████████████████████▉                          | 28/34 [10:50<02:14, 22.35s/it]\u001b[A2025-05-30 14:34:14,298 || INFO || MedRL-CoT Setup - Successful JSON parsed!\n",
      "\n",
      "Classifying prompts:  85%|██████████████████████████████████████████████████████████████████████████████████████████████████████████████████████████████▏                     | 29/34 [10:59<01:31, 18.36s/it]\u001b[A2025-05-30 14:34:22,424 || INFO || MedRL-CoT Setup - Successful JSON parsed!\n",
      "\n",
      "Classifying prompts:  88%|██████████████████████████████████████████████████████████████████████████████████████████████████████████████████████████████████▌                 | 30/34 [11:08<01:01, 15.29s/it]\u001b[A2025-05-30 14:34:49,481 || INFO || MedRL-CoT Setup - Successful JSON parsed!\n",
      "\n",
      "Classifying prompts:  91%|██████████████████████████████████████████████████████████████████████████████████████████████████████████████████████████████████████▉             | 31/34 [11:35<00:56, 18.82s/it]\u001b[A2025-05-30 14:35:03,310 || ERROR || MedRL-CoT Setup - Nothing found, bad example!\n",
      "\n",
      "Classifying prompts:  94%|███████████████████████████████████████████████████████████████████████████████████████████████████████████████████████████████████████████▎        | 32/34 [11:48<00:34, 17.32s/it]\u001b[A2025-05-30 14:35:11,010 || INFO || MedRL-CoT Setup - Successful JSON parsed!\n",
      "\n",
      "Classifying prompts:  97%|███████████████████████████████████████████████████████████████████████████████████████████████████████████████████████████████████████████████▋    | 33/34 [11:56<00:14, 14.44s/it]\u001b[A2025-05-30 14:35:13,901 || INFO || MedRL-CoT Setup - Successful JSON parsed!\n",
      "\n",
      "Classifying prompts: 100%|████████████████████████████████████████████████████████████████████████████████████████████████████████████████████████████████████████████████████| 34/34 [11:59<00:00, 10.97s/it]\u001b[A\n",
      "                                                                                                                                                                                                              \u001b[A2025-05-30 14:35:13,907 || INFO || MedRL-CoT Setup - Dumping to save\n"
     ]
    },
    {
     "data": {
      "application/vnd.jupyter.widget-view+json": {
       "model_id": "99d4786d27f4494ba7e9ec8b6c755a4f",
       "version_major": 2,
       "version_minor": 0
      },
      "text/plain": [
       "Saving the dataset (0/1 shards):   0%|          | 0/2172 [00:00<?, ? examples/s]"
      ]
     },
     "metadata": {},
     "output_type": "display_data"
    },
    {
     "name": "stderr",
     "output_type": "stream",
     "text": [
      "Preprocessing dataset:   0%|                                                                                                                                     | 21/331793 [1:49:33<53665:50:02, 582.32s/it]2025-05-30 14:35:13,955 || INFO || MedRL-CoT Setup - Preprocessing example 21\n"
     ]
    },
    {
     "name": "stdout",
     "output_type": "stream",
     "text": [
      "36\n"
     ]
    },
    {
     "name": "stderr",
     "output_type": "stream",
     "text": [
      "\n",
      "Classifying prompts:   0%|                                                                                                                                                             | 0/36 [00:00<?, ?it/s]\u001b[A2025-05-30 14:35:24,128 || WARNING || MedRL-CoT Setup - Invalid JSON, trying conversion\n",
      "2025-05-30 14:35:24,130 || ERROR || MedRL-CoT Setup - Provided data schema not parseable/known, skipping this chunk\n",
      "\n",
      "Classifying prompts:   3%|████▏                                                                                                                                                | 1/36 [00:10<05:55, 10.17s/it]\u001b[A2025-05-30 14:35:34,850 || INFO || MedRL-CoT Setup - Successful JSON parsed!\n",
      "\n",
      "Classifying prompts:   6%|████████▎                                                                                                                                            | 2/36 [00:20<05:56, 10.49s/it]\u001b[A2025-05-30 14:36:12,768 || INFO || MedRL-CoT Setup - Successful JSON parsed!\n",
      "\n",
      "Classifying prompts:   8%|████████████▍                                                                                                                                        | 3/36 [00:58<12:39, 23.02s/it]\u001b[A2025-05-30 14:36:52,019 || INFO || MedRL-CoT Setup - Successful JSON parsed!\n",
      "\n",
      "Classifying prompts:  11%|████████████████▌                                                                                                                                    | 4/36 [01:38<15:41, 29.43s/it]\u001b[A2025-05-30 14:36:55,639 || INFO || MedRL-CoT Setup - Successful JSON parsed!\n",
      "\n",
      "Classifying prompts:  14%|████████████████████▋                                                                                                                                | 5/36 [01:41<10:23, 20.12s/it]\u001b[A2025-05-30 14:38:15,280 || ERROR || MedRL-CoT Setup - Nothing found, bad example!\n",
      "\n",
      "Classifying prompts:  17%|████████████████████████▊                                                                                                                            | 6/36 [03:01<20:10, 40.36s/it]\u001b[A2025-05-30 14:38:18,703 || INFO || MedRL-CoT Setup - Successful JSON parsed!\n",
      "\n",
      "Classifying prompts:  19%|████████████████████████████▉                                                                                                                        | 7/36 [03:04<13:40, 28.28s/it]\u001b[A2025-05-30 14:38:38,386 || ERROR || MedRL-CoT Setup - Nothing found, bad example!\n",
      "\n",
      "Classifying prompts:  22%|█████████████████████████████████                                                                                                                    | 8/36 [03:24<11:55, 25.54s/it]\u001b[A2025-05-30 14:38:46,545 || WARNING || MedRL-CoT Setup - Invalid JSON, trying conversion\n",
      "2025-05-30 14:38:46,547 || ERROR || MedRL-CoT Setup - Provided data schema not parseable/known, skipping this chunk\n",
      "\n",
      "Classifying prompts:  25%|█████████████████████████████████████▎                                                                                                               | 9/36 [03:32<09:02, 20.11s/it]\u001b[A2025-05-30 14:39:07,063 || INFO || MedRL-CoT Setup - Successful JSON parsed!\n",
      "\n",
      "Classifying prompts:  28%|█████████████████████████████████████████                                                                                                           | 10/36 [03:53<08:46, 20.24s/it]\u001b[A2025-05-30 14:39:17,020 || INFO || MedRL-CoT Setup - Successful JSON parsed!\n",
      "\n",
      "Classifying prompts:  31%|█████████████████████████████████████████████▏                                                                                                      | 11/36 [04:03<07:07, 17.09s/it]\u001b[A2025-05-30 14:39:20,169 || INFO || MedRL-CoT Setup - Successful JSON parsed!\n",
      "\n",
      "Classifying prompts:  33%|█████████████████████████████████████████████████▎                                                                                                  | 12/36 [04:06<05:08, 12.85s/it]\u001b[A2025-05-30 14:40:13,704 || INFO || MedRL-CoT Setup - Successful JSON parsed!\n",
      "\n",
      "Classifying prompts:  36%|█████████████████████████████████████████████████████▍                                                                                              | 13/36 [04:59<09:39, 25.17s/it]\u001b[A2025-05-30 14:40:19,061 || INFO || MedRL-CoT Setup - Successful JSON parsed!\n",
      "\n",
      "Classifying prompts:  39%|█████████████████████████████████████████████████████████▌                                                                                          | 14/36 [05:05<07:02, 19.19s/it]\u001b[A2025-05-30 14:40:34,274 || INFO || MedRL-CoT Setup - Successful JSON parsed!\n",
      "\n",
      "Classifying prompts:  42%|█████████████████████████████████████████████████████████████▋                                                                                      | 15/36 [05:20<06:17, 17.99s/it]\u001b[A2025-05-30 14:40:47,405 || INFO || MedRL-CoT Setup - Successful JSON parsed!\n",
      "\n",
      "Classifying prompts:  44%|█████████████████████████████████████████████████████████████████▊                                                                                  | 16/36 [05:33<05:30, 16.53s/it]\u001b[A2025-05-30 14:41:18,197 || INFO || MedRL-CoT Setup - Successful JSON parsed!\n",
      "\n",
      "Classifying prompts:  47%|█████████████████████████████████████████████████████████████████████▉                                                                              | 17/36 [06:04<06:35, 20.82s/it]\u001b[A2025-05-30 14:41:44,182 || INFO || MedRL-CoT Setup - Successful JSON parsed!\n",
      "\n",
      "Classifying prompts:  50%|██████████████████████████████████████████████████████████████████████████                                                                          | 18/36 [06:30<06:42, 22.37s/it]\u001b[A2025-05-30 14:41:56,617 || INFO || MedRL-CoT Setup - Successful JSON parsed!\n",
      "\n",
      "Classifying prompts:  53%|██████████████████████████████████████████████████████████████████████████████                                                                      | 19/36 [06:42<05:29, 19.39s/it]\u001b[A2025-05-30 14:42:10,172 || INFO || MedRL-CoT Setup - Successful JSON parsed!\n",
      "\n",
      "Classifying prompts:  56%|██████████████████████████████████████████████████████████████████████████████████▏                                                                 | 20/36 [06:56<04:42, 17.64s/it]\u001b[A2025-05-30 14:42:28,931 || INFO || MedRL-CoT Setup - Successful JSON parsed!\n",
      "\n",
      "Classifying prompts:  58%|██████████████████████████████████████████████████████████████████████████████████████▎                                                             | 21/36 [07:14<04:29, 17.97s/it]\u001b[A2025-05-30 14:42:43,088 || INFO || MedRL-CoT Setup - Successful JSON parsed!\n",
      "\n",
      "Classifying prompts:  61%|██████████████████████████████████████████████████████████████████████████████████████████▍                                                         | 22/36 [07:29<03:55, 16.83s/it]\u001b[A2025-05-30 14:42:56,862 || INFO || MedRL-CoT Setup - Successful JSON parsed!\n",
      "\n",
      "Classifying prompts:  64%|██████████████████████████████████████████████████████████████████████████████████████████████▌                                                     | 23/36 [07:42<03:26, 15.91s/it]\u001b[A2025-05-30 14:43:16,133 || INFO || MedRL-CoT Setup - Successful JSON parsed!\n",
      "\n",
      "Classifying prompts:  67%|██████████████████████████████████████████████████████████████████████████████████████████████████▋                                                 | 24/36 [08:02<03:23, 16.92s/it]\u001b[A2025-05-30 14:43:50,969 || WARNING || MedRL-CoT Setup - Invalid JSON, trying conversion\n",
      "2025-05-30 14:43:50,972 || ERROR || MedRL-CoT Setup - Provided data schema not parseable/known, skipping this chunk\n",
      "\n",
      "Classifying prompts:  69%|██████████████████████████████████████████████████████████████████████████████████████████████████████▊                                             | 25/36 [08:37<04:05, 22.30s/it]\u001b[A2025-05-30 14:44:35,421 || INFO || MedRL-CoT Setup - Successful JSON parsed!\n",
      "\n",
      "Classifying prompts:  72%|██████████████████████████████████████████████████████████████████████████████████████████████████████████▉                                         | 26/36 [09:21<04:49, 28.94s/it]\u001b[A2025-05-30 14:45:29,938 || INFO || MedRL-CoT Setup - Successful JSON parsed!\n",
      "\n",
      "Classifying prompts:  75%|███████████████████████████████████████████████████████████████████████████████████████████████████████████████                                     | 27/36 [10:15<05:29, 36.62s/it]\u001b[A2025-05-30 14:45:34,193 || ERROR || MedRL-CoT Setup - Nothing found, bad example!\n",
      "\n",
      "Classifying prompts:  78%|███████████████████████████████████████████████████████████████████████████████████████████████████████████████████                                 | 28/36 [10:20<03:35, 26.91s/it]\u001b[A2025-05-30 14:45:50,082 || WARNING || MedRL-CoT Setup - Invalid JSON, trying conversion\n",
      "2025-05-30 14:45:50,083 || ERROR || MedRL-CoT Setup - Provided data schema not parseable/known, skipping this chunk\n",
      "\n",
      "Classifying prompts:  81%|███████████████████████████████████████████████████████████████████████████████████████████████████████████████████████▏                            | 29/36 [10:36<02:45, 23.60s/it]\u001b[A2025-05-30 14:45:56,392 || INFO || MedRL-CoT Setup - Successful JSON parsed!\n",
      "\n",
      "Classifying prompts:  83%|███████████████████████████████████████████████████████████████████████████████████████████████████████████████████████████▎                        | 30/36 [10:42<01:50, 18.41s/it]\u001b[A2025-05-30 14:46:27,455 || INFO || MedRL-CoT Setup - Successful JSON parsed!\n",
      "\n",
      "Classifying prompts:  86%|███████████████████████████████████████████████████████████████████████████████████████████████████████████████████████████████▍                    | 31/36 [11:13<01:51, 22.21s/it]\u001b[A2025-05-30 14:46:47,165 || INFO || MedRL-CoT Setup - Successful JSON parsed!\n",
      "\n",
      "Classifying prompts:  89%|███████████████████████████████████████████████████████████████████████████████████████████████████████████████████████████████████▌                | 32/36 [11:33<01:25, 21.46s/it]\u001b[A2025-05-30 14:47:05,931 || INFO || MedRL-CoT Setup - Successful JSON parsed!\n",
      "\n",
      "Classifying prompts:  92%|███████████████████████████████████████████████████████████████████████████████████████████████████████████████████████████████████████▋            | 33/36 [11:51<01:01, 20.65s/it]\u001b[A2025-05-30 14:47:10,043 || INFO || MedRL-CoT Setup - Successful JSON parsed!\n",
      "\n",
      "Classifying prompts:  94%|███████████████████████████████████████████████████████████████████████████████████████████████████████████████████████████████████████████▊        | 34/36 [11:56<00:31, 15.69s/it]\u001b[A2025-05-30 14:47:13,184 || INFO || MedRL-CoT Setup - Successful JSON parsed!\n",
      "\n",
      "Classifying prompts:  97%|███████████████████████████████████████████████████████████████████████████████████████████████████████████████████████████████████████████████▉    | 35/36 [11:59<00:11, 11.92s/it]\u001b[A2025-05-30 14:47:16,126 || INFO || MedRL-CoT Setup - Successful JSON parsed!\n",
      "\n",
      "Classifying prompts: 100%|████████████████████████████████████████████████████████████████████████████████████████████████████████████████████████████████████████████████████| 36/36 [12:02<00:00,  9.23s/it]\u001b[A\n",
      "                                                                                                                                                                                                              \u001b[A2025-05-30 14:47:16,131 || INFO || MedRL-CoT Setup - Dumping to save\n"
     ]
    },
    {
     "data": {
      "application/vnd.jupyter.widget-view+json": {
       "model_id": "c1b4b69a013845c388a481bb378491a0",
       "version_major": 2,
       "version_minor": 0
      },
      "text/plain": [
       "Saving the dataset (0/1 shards):   0%|          | 0/2330 [00:00<?, ? examples/s]"
      ]
     },
     "metadata": {},
     "output_type": "display_data"
    },
    {
     "name": "stderr",
     "output_type": "stream",
     "text": [
      "Preprocessing dataset:   0%|                                                                                                                                     | 22/331793 [2:01:35<57523:50:30, 624.18s/it]2025-05-30 14:47:16,193 || INFO || MedRL-CoT Setup - Preprocessing example 22\n"
     ]
    },
    {
     "name": "stdout",
     "output_type": "stream",
     "text": [
      "28\n"
     ]
    },
    {
     "name": "stderr",
     "output_type": "stream",
     "text": [
      "\n",
      "Classifying prompts:   0%|                                                                                                                                                             | 0/28 [00:00<?, ?it/s]\u001b[A2025-05-30 14:47:31,822 || WARNING || MedRL-CoT Setup - Invalid JSON, trying conversion\n",
      "2025-05-30 14:47:31,823 || ERROR || MedRL-CoT Setup - Provided data schema not parseable/known, skipping this chunk\n",
      "\n",
      "Classifying prompts:   4%|█████▎                                                                                                                                               | 1/28 [00:15<07:01, 15.62s/it]\u001b[A2025-05-30 14:47:35,158 || INFO || MedRL-CoT Setup - Successful JSON parsed!\n",
      "\n",
      "Classifying prompts:   7%|██████████▋                                                                                                                                          | 2/28 [00:18<03:38,  8.39s/it]\u001b[A2025-05-30 14:48:01,106 || WARNING || MedRL-CoT Setup - Invalid JSON, trying conversion\n",
      "2025-05-30 14:48:01,107 || ERROR || MedRL-CoT Setup - Provided data schema not parseable/known, skipping this chunk\n",
      "\n",
      "Classifying prompts:  11%|███████████████▉                                                                                                                                     | 3/28 [00:44<06:50, 16.41s/it]\u001b[A2025-05-30 14:48:22,479 || INFO || MedRL-CoT Setup - Successful JSON parsed!\n",
      "\n",
      "Classifying prompts:  14%|█████████████████████▎                                                                                                                               | 4/28 [01:06<07:20, 18.37s/it]\u001b[A2025-05-30 14:48:40,508 || ERROR || MedRL-CoT Setup - Nothing found, bad example!\n",
      "\n",
      "Classifying prompts:  18%|██████████████████████████▌                                                                                                                          | 5/28 [01:24<06:59, 18.25s/it]\u001b[A2025-05-30 14:48:56,197 || INFO || MedRL-CoT Setup - Successful JSON parsed!\n",
      "\n",
      "Classifying prompts:  21%|███████████████████████████████▉                                                                                                                     | 6/28 [01:39<06:22, 17.38s/it]\u001b[A2025-05-30 14:50:26,944 || ERROR || MedRL-CoT Setup - Nothing found, bad example!\n",
      "\n",
      "Classifying prompts:  25%|█████████████████████████████████████▎                                                                                                               | 7/28 [03:10<14:28, 41.36s/it]\u001b[A2025-05-30 14:50:54,775 || INFO || MedRL-CoT Setup - Successful JSON parsed!\n",
      "\n",
      "Classifying prompts:  29%|██████████████████████████████████████████▌                                                                                                          | 8/28 [03:38<12:21, 37.06s/it]\u001b[A2025-05-30 14:52:19,544 || WARNING || MedRL-CoT Setup - Invalid JSON, trying conversion\n",
      "2025-05-30 14:52:19,546 || ERROR || MedRL-CoT Setup - Provided data schema not parseable/known, skipping this chunk\n",
      "\n",
      "Classifying prompts:  32%|███████████████████████████████████████████████▉                                                                                                     | 9/28 [05:03<16:27, 51.97s/it]\u001b[A2025-05-30 14:52:31,405 || WARNING || MedRL-CoT Setup - Invalid JSON, trying conversion\n",
      "2025-05-30 14:52:31,406 || ERROR || MedRL-CoT Setup - Provided data schema not parseable/known, skipping this chunk\n",
      "\n",
      "Classifying prompts:  36%|████████████████████████████████████████████████████▊                                                                                               | 10/28 [05:15<11:52, 39.59s/it]\u001b[A2025-05-30 14:52:34,067 || INFO || MedRL-CoT Setup - Successful JSON parsed!\n",
      "\n",
      "Classifying prompts:  39%|██████████████████████████████████████████████████████████▏                                                                                         | 11/28 [05:17<08:00, 28.29s/it]\u001b[A2025-05-30 14:52:36,668 || INFO || MedRL-CoT Setup - Successful JSON parsed!\n",
      "\n",
      "Classifying prompts:  43%|███████████████████████████████████████████████████████████████▍                                                                                    | 12/28 [05:20<05:27, 20.47s/it]\u001b[A2025-05-30 14:53:25,008 || INFO || MedRL-CoT Setup - Successful JSON parsed!\n",
      "\n",
      "Classifying prompts:  46%|████████████████████████████████████████████████████████████████████▋                                                                               | 13/28 [06:08<07:13, 28.91s/it]\u001b[A2025-05-30 14:53:56,910 || INFO || MedRL-CoT Setup - Successful JSON parsed!\n",
      "\n",
      "Classifying prompts:  50%|██████████████████████████████████████████████████████████████████████████                                                                          | 14/28 [06:40<06:57, 29.82s/it]\u001b[A2025-05-30 14:54:05,011 || INFO || MedRL-CoT Setup - Successful JSON parsed!\n",
      "\n",
      "Classifying prompts:  54%|███████████████████████████████████████████████████████████████████████████████▎                                                                    | 15/28 [06:48<05:02, 23.27s/it]\u001b[A2025-05-30 14:54:08,843 || INFO || MedRL-CoT Setup - Successful JSON parsed!\n",
      "\n",
      "Classifying prompts:  57%|████████████████████████████████████████████████████████████████████████████████████▌                                                               | 16/28 [06:52<03:29, 17.42s/it]\u001b[A2025-05-30 14:54:13,599 || INFO || MedRL-CoT Setup - Successful JSON parsed!\n",
      "\n",
      "Classifying prompts:  61%|█████████████████████████████████████████████████████████████████████████████████████████▊                                                          | 17/28 [06:57<02:29, 13.61s/it]\u001b[A2025-05-30 14:54:19,047 || INFO || MedRL-CoT Setup - Successful JSON parsed!\n",
      "\n",
      "Classifying prompts:  64%|███████████████████████████████████████████████████████████████████████████████████████████████▏                                                    | 18/28 [07:02<01:51, 11.16s/it]\u001b[A2025-05-30 14:54:32,019 || INFO || MedRL-CoT Setup - Successful JSON parsed!\n",
      "\n",
      "Classifying prompts:  68%|████████████████████████████████████████████████████████████████████████████████████████████████████▍                                               | 19/28 [07:15<01:45, 11.70s/it]\u001b[A2025-05-30 14:55:34,781 || INFO || MedRL-CoT Setup - Successful JSON parsed!\n",
      "\n",
      "Classifying prompts:  71%|█████████████████████████████████████████████████████████████████████████████████████████████████████████▋                                          | 20/28 [08:18<03:36, 27.03s/it]\u001b[A2025-05-30 14:57:23,066 || WARNING || MedRL-CoT Setup - Invalid JSON, trying conversion\n",
      "2025-05-30 14:57:23,068 || ERROR || MedRL-CoT Setup - Provided data schema not parseable/known, skipping this chunk\n",
      "\n",
      "Classifying prompts:  75%|███████████████████████████████████████████████████████████████████████████████████████████████████████████████                                     | 21/28 [10:06<05:59, 51.42s/it]\u001b[A2025-05-30 14:57:28,720 || INFO || MedRL-CoT Setup - Successful JSON parsed!\n",
      "\n",
      "Classifying prompts:  79%|████████████████████████████████████████████████████████████████████████████████████████████████████████████████████▎                               | 22/28 [10:12<03:46, 37.69s/it]\u001b[A2025-05-30 14:57:36,516 || INFO || MedRL-CoT Setup - Successful JSON parsed!\n",
      "\n",
      "Classifying prompts:  82%|█████████████████████████████████████████████████████████████████████████████████████████████████████████████████████████▌                          | 23/28 [10:20<02:23, 28.72s/it]\u001b[A2025-05-30 14:57:43,506 || INFO || MedRL-CoT Setup - Successful JSON parsed!\n",
      "\n",
      "Classifying prompts:  86%|██████████████████████████████████████████████████████████████████████████████████████████████████████████████████████████████▊                     | 24/28 [10:27<01:28, 22.20s/it]\u001b[A2025-05-30 14:58:07,069 || INFO || MedRL-CoT Setup - Successful JSON parsed!\n",
      "\n",
      "Classifying prompts:  89%|████████████████████████████████████████████████████████████████████████████████████████████████████████████████████████████████████▏               | 25/28 [10:50<01:07, 22.61s/it]\u001b[A2025-05-30 14:58:19,222 || INFO || MedRL-CoT Setup - Successful JSON parsed!\n",
      "\n",
      "Classifying prompts:  93%|█████████████████████████████████████████████████████████████████████████████████████████████████████████████████████████████████████████▍          | 26/28 [11:03<00:38, 19.47s/it]\u001b[A2025-05-30 14:58:22,424 || INFO || MedRL-CoT Setup - Successful JSON parsed!\n",
      "\n",
      "Classifying prompts:  96%|██████████████████████████████████████████████████████████████████████████████████████████████████████████████████████████████████████████████▋     | 27/28 [11:06<00:14, 14.59s/it]\u001b[A2025-05-30 14:58:24,081 || INFO || MedRL-CoT Setup - Successful JSON parsed!\n",
      "\n",
      "Classifying prompts: 100%|████████████████████████████████████████████████████████████████████████████████████████████████████████████████████████████████████████████████████| 28/28 [11:07<00:00, 10.71s/it]\u001b[A\n",
      "                                                                                                                                                                                                              \u001b[A2025-05-30 14:58:24,086 || INFO || MedRL-CoT Setup - Dumping to save\n"
     ]
    },
    {
     "data": {
      "application/vnd.jupyter.widget-view+json": {
       "model_id": "5b43560057f44bd687accf6e81a6de34",
       "version_major": 2,
       "version_minor": 0
      },
      "text/plain": [
       "Saving the dataset (0/1 shards):   0%|          | 0/2422 [00:00<?, ? examples/s]"
      ]
     },
     "metadata": {},
     "output_type": "display_data"
    },
    {
     "name": "stderr",
     "output_type": "stream",
     "text": [
      "Preprocessing dataset:   0%|                                                                                                                                     | 23/331793 [2:12:43<58731:20:39, 637.29s/it]2025-05-30 14:58:24,138 || INFO || MedRL-CoT Setup - Preprocessing example 23\n"
     ]
    },
    {
     "name": "stdout",
     "output_type": "stream",
     "text": [
      "28\n"
     ]
    },
    {
     "name": "stderr",
     "output_type": "stream",
     "text": [
      "\n",
      "Classifying prompts:   0%|                                                                                                                                                             | 0/28 [00:00<?, ?it/s]\u001b[A2025-05-30 14:58:31,967 || WARNING || MedRL-CoT Setup - Invalid JSON, trying conversion\n",
      "2025-05-30 14:58:31,969 || ERROR || MedRL-CoT Setup - Provided data schema not parseable/known, skipping this chunk\n",
      "\n",
      "Classifying prompts:   4%|█████▎                                                                                                                                               | 1/28 [00:07<03:31,  7.83s/it]\u001b[A2025-05-30 14:58:40,437 || WARNING || MedRL-CoT Setup - Invalid JSON, trying conversion\n",
      "2025-05-30 14:58:40,438 || ERROR || MedRL-CoT Setup - Provided data schema not parseable/known, skipping this chunk\n",
      "\n",
      "Classifying prompts:   7%|██████████▋                                                                                                                                          | 2/28 [00:16<03:33,  8.20s/it]\u001b[A2025-05-30 14:58:50,106 || INFO || MedRL-CoT Setup - Successful JSON parsed!\n",
      "\n",
      "Classifying prompts:  11%|███████████████▉                                                                                                                                     | 3/28 [00:25<03:41,  8.87s/it]\u001b[A2025-05-30 14:58:59,087 || WARNING || MedRL-CoT Setup - Invalid JSON, trying conversion\n",
      "2025-05-30 14:58:59,088 || ERROR || MedRL-CoT Setup - Provided data schema not parseable/known, skipping this chunk\n",
      "\n",
      "Classifying prompts:  14%|█████████████████████▎                                                                                                                               | 4/28 [00:34<03:33,  8.92s/it]\u001b[A2025-05-30 14:59:26,402 || INFO || MedRL-CoT Setup - Successful JSON parsed!\n",
      "\n",
      "Classifying prompts:  18%|██████████████████████████▌                                                                                                                          | 5/28 [01:02<05:57, 15.55s/it]\u001b[A2025-05-30 14:59:30,620 || INFO || MedRL-CoT Setup - Successful JSON parsed!\n",
      "\n",
      "Classifying prompts:  21%|███████████████████████████████▉                                                                                                                     | 6/28 [01:06<04:17, 11.70s/it]\u001b[A2025-05-30 15:00:19,941 || INFO || MedRL-CoT Setup - Successful JSON parsed!\n",
      "\n",
      "Classifying prompts:  25%|█████████████████████████████████████▎                                                                                                               | 7/28 [01:55<08:23, 24.00s/it]\u001b[A2025-05-30 15:01:42,056 || WARNING || MedRL-CoT Setup - Invalid JSON, trying conversion\n",
      "2025-05-30 15:01:42,057 || ERROR || MedRL-CoT Setup - Provided data schema not parseable/known, skipping this chunk\n",
      "\n",
      "Classifying prompts:  29%|██████████████████████████████████████████▌                                                                                                          | 8/28 [03:17<14:09, 42.50s/it]\u001b[A2025-05-30 15:02:17,959 || ERROR || MedRL-CoT Setup - Nothing found, bad example!\n",
      "\n",
      "Classifying prompts:  32%|███████████████████████████████████████████████▉                                                                                                     | 9/28 [03:53<12:48, 40.44s/it]\u001b[A2025-05-30 15:02:34,880 || INFO || MedRL-CoT Setup - Successful JSON parsed!\n",
      "\n",
      "Classifying prompts:  36%|████████████████████████████████████████████████████▊                                                                                               | 10/28 [04:10<09:57, 33.18s/it]\u001b[A2025-05-30 15:02:37,221 || INFO || MedRL-CoT Setup - Successful JSON parsed!\n",
      "\n",
      "Classifying prompts:  39%|██████████████████████████████████████████████████████████▏                                                                                         | 11/28 [04:13<06:43, 23.74s/it]\u001b[A2025-05-30 15:03:07,287 || INFO || MedRL-CoT Setup - Successful JSON parsed!\n",
      "\n",
      "Classifying prompts:  43%|███████████████████████████████████████████████████████████████▍                                                                                    | 12/28 [04:43<06:50, 25.66s/it]\u001b[A2025-05-30 15:03:14,704 || INFO || MedRL-CoT Setup - Successful JSON parsed!\n",
      "\n",
      "Classifying prompts:  46%|████████████████████████████████████████████████████████████████████▋                                                                               | 13/28 [04:50<05:02, 20.14s/it]\u001b[A2025-05-30 15:03:21,240 || INFO || MedRL-CoT Setup - Successful JSON parsed!\n",
      "\n",
      "Classifying prompts:  50%|██████████████████████████████████████████████████████████████████████████                                                                          | 14/28 [04:57<03:44, 16.03s/it]\u001b[A2025-05-30 15:03:32,035 || INFO || MedRL-CoT Setup - Successful JSON parsed!\n",
      "\n",
      "Classifying prompts:  54%|███████████████████████████████████████████████████████████████████████████████▎                                                                    | 15/28 [05:07<03:07, 14.45s/it]\u001b[A2025-05-30 15:03:38,365 || INFO || MedRL-CoT Setup - Successful JSON parsed!\n",
      "\n",
      "Classifying prompts:  57%|████████████████████████████████████████████████████████████████████████████████████▌                                                               | 16/28 [05:14<02:24, 12.01s/it]\u001b[A2025-05-30 15:03:55,624 || INFO || MedRL-CoT Setup - Successful JSON parsed!\n",
      "\n",
      "Classifying prompts:  61%|█████████████████████████████████████████████████████████████████████████████████████████▊                                                          | 17/28 [05:31<02:29, 13.59s/it]\u001b[A2025-05-30 15:04:08,141 || WARNING || MedRL-CoT Setup - Invalid JSON, trying conversion\n",
      "2025-05-30 15:04:08,143 || ERROR || MedRL-CoT Setup - Provided data schema not parseable/known, skipping this chunk\n",
      "\n",
      "Classifying prompts:  64%|███████████████████████████████████████████████████████████████████████████████████████████████▏                                                    | 18/28 [05:44<02:12, 13.27s/it]\u001b[A2025-05-30 15:04:32,595 || INFO || MedRL-CoT Setup - Successful JSON parsed!\n",
      "\n",
      "Classifying prompts:  68%|████████████████████████████████████████████████████████████████████████████████████████████████████▍                                               | 19/28 [06:08<02:29, 16.63s/it]\u001b[A2025-05-30 15:05:20,684 || WARNING || MedRL-CoT Setup - Invalid JSON, trying conversion\n",
      "2025-05-30 15:05:20,686 || ERROR || MedRL-CoT Setup - Provided data schema not parseable/known, skipping this chunk\n",
      "\n",
      "Classifying prompts:  71%|█████████████████████████████████████████████████████████████████████████████████████████████████████████▋                                          | 20/28 [06:56<03:28, 26.07s/it]\u001b[A2025-05-30 15:05:44,795 || INFO || MedRL-CoT Setup - Successful JSON parsed!\n",
      "\n",
      "Classifying prompts:  75%|███████████████████████████████████████████████████████████████████████████████████████████████████████████████                                     | 21/28 [07:20<02:58, 25.48s/it]\u001b[A2025-05-30 15:05:50,528 || INFO || MedRL-CoT Setup - Successful JSON parsed!\n",
      "\n",
      "Classifying prompts:  79%|████████████████████████████████████████████████████████████████████████████████████████████████████████████████████▎                               | 22/28 [07:26<01:57, 19.56s/it]\u001b[A2025-05-30 15:05:56,866 || WARNING || MedRL-CoT Setup - Invalid JSON, trying conversion\n",
      "2025-05-30 15:05:56,867 || ERROR || MedRL-CoT Setup - Provided data schema not parseable/known, skipping this chunk\n",
      "\n",
      "Classifying prompts:  82%|█████████████████████████████████████████████████████████████████████████████████████████████████████████████████████████▌                          | 23/28 [07:32<01:17, 15.59s/it]\u001b[A2025-05-30 15:06:02,481 || INFO || MedRL-CoT Setup - Successful JSON parsed!\n",
      "\n",
      "Classifying prompts:  86%|██████████████████████████████████████████████████████████████████████████████████████████████████████████████████████████████▊                     | 24/28 [07:38<00:50, 12.60s/it]\u001b[A2025-05-30 15:06:05,537 || INFO || MedRL-CoT Setup - Successful JSON parsed!\n",
      "\n",
      "Classifying prompts:  89%|████████████████████████████████████████████████████████████████████████████████████████████████████████████████████████████████████▏               | 25/28 [07:41<00:29,  9.73s/it]\u001b[A2025-05-30 15:06:12,139 || WARNING || MedRL-CoT Setup - Invalid JSON, trying conversion\n",
      "2025-05-30 15:06:12,141 || ERROR || MedRL-CoT Setup - Provided data schema not parseable/known, skipping this chunk\n",
      "\n",
      "Classifying prompts:  93%|█████████████████████████████████████████████████████████████████████████████████████████████████████████████████████████████████████████▍          | 26/28 [07:48<00:17,  8.79s/it]\u001b[A2025-05-30 15:06:14,078 || INFO || MedRL-CoT Setup - Successful JSON parsed!\n",
      "\n",
      "Classifying prompts:  96%|██████████████████████████████████████████████████████████████████████████████████████████████████████████████████████████████████████████████▋     | 27/28 [07:49<00:06,  6.74s/it]\u001b[A2025-05-30 15:06:16,042 || INFO || MedRL-CoT Setup - Successful JSON parsed!\n",
      "\n",
      "Classifying prompts: 100%|████████████████████████████████████████████████████████████████████████████████████████████████████████████████████████████████████████████████████| 28/28 [07:51<00:00,  5.31s/it]\u001b[A\n",
      "                                                                                                                                                                                                              \u001b[A2025-05-30 15:06:16,047 || INFO || MedRL-CoT Setup - Dumping to save\n"
     ]
    },
    {
     "data": {
      "application/vnd.jupyter.widget-view+json": {
       "model_id": "7818a6c62ef04f39838df9633ca2be93",
       "version_major": 2,
       "version_minor": 0
      },
      "text/plain": [
       "Saving the dataset (0/1 shards):   0%|          | 0/2538 [00:00<?, ? examples/s]"
      ]
     },
     "metadata": {},
     "output_type": "display_data"
    },
    {
     "name": "stderr",
     "output_type": "stream",
     "text": [
      "Preprocessing dataset:   0%|                                                                                                                                     | 24/331793 [2:20:35<54166:18:32, 587.75s/it]2025-05-30 15:06:16,101 || INFO || MedRL-CoT Setup - Preprocessing example 24\n"
     ]
    },
    {
     "name": "stdout",
     "output_type": "stream",
     "text": [
      "36\n"
     ]
    },
    {
     "name": "stderr",
     "output_type": "stream",
     "text": [
      "\n",
      "Classifying prompts:   0%|                                                                                                                                                             | 0/36 [00:00<?, ?it/s]\u001b[A2025-05-30 15:06:30,788 || INFO || MedRL-CoT Setup - Successful JSON parsed!\n",
      "\n",
      "Classifying prompts:   3%|████▏                                                                                                                                                | 1/36 [00:14<08:33, 14.68s/it]\u001b[A2025-05-30 15:06:48,268 || INFO || MedRL-CoT Setup - Successful JSON parsed!\n",
      "\n",
      "Classifying prompts:   6%|████████▎                                                                                                                                            | 2/36 [00:32<09:15, 16.33s/it]\u001b[A2025-05-30 15:06:51,465 || INFO || MedRL-CoT Setup - Successful JSON parsed!\n",
      "\n",
      "Classifying prompts:   8%|████████████▍                                                                                                                                        | 3/36 [00:35<05:40, 10.33s/it]\u001b[A2025-05-30 15:07:05,702 || INFO || MedRL-CoT Setup - Successful JSON parsed!\n",
      "\n",
      "Classifying prompts:  11%|████████████████▌                                                                                                                                    | 4/36 [00:49<06:19, 11.87s/it]\u001b[A2025-05-30 15:07:18,847 || INFO || MedRL-CoT Setup - Successful JSON parsed!\n",
      "\n",
      "Classifying prompts:  14%|████████████████████▋                                                                                                                                | 5/36 [01:02<06:22, 12.33s/it]\u001b[A2025-05-30 15:07:23,775 || INFO || MedRL-CoT Setup - Successful JSON parsed!\n",
      "\n",
      "Classifying prompts:  17%|████████████████████████▊                                                                                                                            | 6/36 [01:07<04:54,  9.81s/it]\u001b[A2025-05-30 15:07:29,332 || INFO || MedRL-CoT Setup - Successful JSON parsed!\n",
      "\n",
      "Classifying prompts:  19%|████████████████████████████▉                                                                                                                        | 7/36 [01:13<04:04,  8.42s/it]\u001b[A2025-05-30 15:07:36,701 || INFO || MedRL-CoT Setup - Successful JSON parsed!\n",
      "\n",
      "Classifying prompts:  22%|█████████████████████████████████                                                                                                                    | 8/36 [01:20<03:46,  8.09s/it]\u001b[A2025-05-30 15:07:40,321 || INFO || MedRL-CoT Setup - Successful JSON parsed!\n",
      "\n",
      "Classifying prompts:  25%|█████████████████████████████████████▎                                                                                                               | 9/36 [01:24<03:00,  6.69s/it]\u001b[A2025-05-30 15:07:59,953 || INFO || MedRL-CoT Setup - Successful JSON parsed!\n",
      "\n",
      "Classifying prompts:  28%|█████████████████████████████████████████                                                                                                           | 10/36 [01:43<04:37, 10.69s/it]\u001b[A2025-05-30 15:08:46,793 || ERROR || MedRL-CoT Setup - Nothing found, bad example!\n",
      "\n",
      "Classifying prompts:  31%|█████████████████████████████████████████████▏                                                                                                      | 11/36 [02:30<09:03, 21.75s/it]\u001b[A2025-05-30 15:08:57,549 || INFO || MedRL-CoT Setup - Successful JSON parsed!\n",
      "\n",
      "Classifying prompts:  33%|█████████████████████████████████████████████████▎                                                                                                  | 12/36 [02:41<07:21, 18.41s/it]\u001b[A2025-05-30 15:09:07,889 || WARNING || MedRL-CoT Setup - Invalid JSON, trying conversion\n",
      "2025-05-30 15:09:07,890 || ERROR || MedRL-CoT Setup - Provided data schema not parseable/known, skipping this chunk\n",
      "\n",
      "Classifying prompts:  36%|█████████████████████████████████████████████████████▍                                                                                              | 13/36 [02:51<06:07, 15.96s/it]\u001b[A2025-05-30 15:09:19,499 || INFO || MedRL-CoT Setup - Successful JSON parsed!\n",
      "\n",
      "Classifying prompts:  39%|█████████████████████████████████████████████████████████▌                                                                                          | 14/36 [03:03<05:22, 14.65s/it]\u001b[A2025-05-30 15:09:23,346 || INFO || MedRL-CoT Setup - Successful JSON parsed!\n",
      "\n",
      "Classifying prompts:  42%|█████████████████████████████████████████████████████████████▋                                                                                      | 15/36 [03:07<03:59, 11.39s/it]\u001b[A2025-05-30 15:09:38,832 || WARNING || MedRL-CoT Setup - Invalid JSON, trying conversion\n",
      "2025-05-30 15:09:38,833 || ERROR || MedRL-CoT Setup - Provided data schema not parseable/known, skipping this chunk\n",
      "\n",
      "Classifying prompts:  44%|█████████████████████████████████████████████████████████████████▊                                                                                  | 16/36 [03:22<04:12, 12.62s/it]\u001b[A2025-05-30 15:10:09,329 || INFO || MedRL-CoT Setup - Successful JSON parsed!\n",
      "\n",
      "Classifying prompts:  47%|█████████████████████████████████████████████████████████████████████▉                                                                              | 17/36 [03:53<05:41, 18.00s/it]\u001b[A2025-05-30 15:10:39,382 || INFO || MedRL-CoT Setup - Successful JSON parsed!\n",
      "\n",
      "Classifying prompts:  50%|██████████████████████████████████████████████████████████████████████████                                                                          | 18/36 [04:23<06:29, 21.62s/it]\u001b[A2025-05-30 15:10:54,139 || INFO || MedRL-CoT Setup - Successful JSON parsed!\n",
      "\n",
      "Classifying prompts:  53%|██████████████████████████████████████████████████████████████████████████████                                                                      | 19/36 [04:38<05:32, 19.56s/it]\u001b[A2025-05-30 15:11:06,921 || INFO || MedRL-CoT Setup - Successful JSON parsed!\n",
      "\n",
      "Classifying prompts:  56%|██████████████████████████████████████████████████████████████████████████████████▏                                                                 | 20/36 [04:50<04:40, 17.52s/it]\u001b[A2025-05-30 15:11:17,676 || INFO || MedRL-CoT Setup - Successful JSON parsed!\n",
      "\n",
      "Classifying prompts:  58%|██████████████████████████████████████████████████████████████████████████████████████▎                                                             | 21/36 [05:01<03:52, 15.49s/it]\u001b[A2025-05-30 15:11:41,147 || INFO || MedRL-CoT Setup - Successful JSON parsed!\n",
      "\n",
      "Classifying prompts:  61%|██████████████████████████████████████████████████████████████████████████████████████████▍                                                         | 22/36 [05:25<04:10, 17.89s/it]\u001b[A2025-05-30 15:11:44,428 || INFO || MedRL-CoT Setup - Successful JSON parsed!\n",
      "\n",
      "Classifying prompts:  64%|██████████████████████████████████████████████████████████████████████████████████████████████▌                                                     | 23/36 [05:28<02:55, 13.50s/it]\u001b[A2025-05-30 15:11:46,947 || INFO || MedRL-CoT Setup - Successful JSON parsed!\n",
      "\n",
      "Classifying prompts:  67%|██████████████████████████████████████████████████████████████████████████████████████████████████▋                                                 | 24/36 [05:30<02:02, 10.21s/it]\u001b[A2025-05-30 15:12:08,821 || INFO || MedRL-CoT Setup - Successful JSON parsed!\n",
      "\n",
      "Classifying prompts:  69%|██████████████████████████████████████████████████████████████████████████████████████████████████████▊                                             | 25/36 [05:52<02:30, 13.71s/it]\u001b[A2025-05-30 15:12:34,324 || INFO || MedRL-CoT Setup - Successful JSON parsed!\n",
      "\n",
      "Classifying prompts:  72%|██████████████████████████████████████████████████████████████████████████████████████████████████████████▉                                         | 26/36 [06:18<02:52, 17.25s/it]\u001b[A2025-05-30 15:13:01,497 || INFO || MedRL-CoT Setup - Successful JSON parsed!\n",
      "\n",
      "Classifying prompts:  75%|███████████████████████████████████████████████████████████████████████████████████████████████████████████████                                     | 27/36 [06:45<03:02, 20.22s/it]\u001b[A2025-05-30 15:13:04,405 || INFO || MedRL-CoT Setup - Successful JSON parsed!\n",
      "\n",
      "Classifying prompts:  78%|███████████████████████████████████████████████████████████████████████████████████████████████████████████████████                                 | 28/36 [06:48<02:00, 15.03s/it]\u001b[A2025-05-30 15:13:15,477 || WARNING || MedRL-CoT Setup - Invalid JSON, trying conversion\n",
      "2025-05-30 15:13:15,479 || ERROR || MedRL-CoT Setup - Provided data schema not parseable/known, skipping this chunk\n",
      "\n",
      "Classifying prompts:  81%|███████████████████████████████████████████████████████████████████████████████████████████████████████████████████████▏                            | 29/36 [06:59<01:36, 13.84s/it]\u001b[A2025-05-30 15:13:22,050 || INFO || MedRL-CoT Setup - Successful JSON parsed!\n",
      "\n",
      "Classifying prompts:  83%|███████████████████████████████████████████████████████████████████████████████████████████████████████████████████████████▎                        | 30/36 [07:05<01:09, 11.66s/it]\u001b[A2025-05-30 15:13:45,532 || INFO || MedRL-CoT Setup - Successful JSON parsed!\n",
      "\n",
      "Classifying prompts:  86%|███████████████████████████████████████████████████████████████████████████████████████████████████████████████████████████████▍                    | 31/36 [07:29<01:16, 15.21s/it]\u001b[A2025-05-30 15:13:53,387 || INFO || MedRL-CoT Setup - Successful JSON parsed!\n",
      "\n",
      "Classifying prompts:  89%|███████████████████████████████████████████████████████████████████████████████████████████████████████████████████████████████████▌                | 32/36 [07:37<00:52, 13.00s/it]\u001b[A2025-05-30 15:14:01,555 || INFO || MedRL-CoT Setup - Successful JSON parsed!\n",
      "\n",
      "Classifying prompts:  92%|███████████████████████████████████████████████████████████████████████████████████████████████████████████████████████████████████████▋            | 33/36 [07:45<00:34, 11.55s/it]\u001b[A2025-05-30 15:14:12,985 || WARNING || MedRL-CoT Setup - Invalid JSON, trying conversion\n",
      "2025-05-30 15:14:12,986 || ERROR || MedRL-CoT Setup - Provided data schema not parseable/known, skipping this chunk\n",
      "\n",
      "Classifying prompts:  94%|███████████████████████████████████████████████████████████████████████████████████████████████████████████████████████████████████████████▊        | 34/36 [07:56<00:23, 11.52s/it]\u001b[A2025-05-30 15:14:17,339 || INFO || MedRL-CoT Setup - Successful JSON parsed!\n",
      "\n",
      "Classifying prompts:  97%|███████████████████████████████████████████████████████████████████████████████████████████████████████████████████████████████████████████████▉    | 35/36 [08:01<00:09,  9.37s/it]\u001b[A2025-05-30 15:14:20,069 || INFO || MedRL-CoT Setup - Successful JSON parsed!\n",
      "\n",
      "Classifying prompts: 100%|████████████████████████████████████████████████████████████████████████████████████████████████████████████████████████████████████████████████████| 36/36 [08:03<00:00,  7.38s/it]\u001b[A\n",
      "                                                                                                                                                                                                              \u001b[A2025-05-30 15:14:20,075 || INFO || MedRL-CoT Setup - Dumping to save\n"
     ]
    },
    {
     "data": {
      "application/vnd.jupyter.widget-view+json": {
       "model_id": "e8d00e666d664ebd933a3facb0b1bcc5",
       "version_major": 2,
       "version_minor": 0
      },
      "text/plain": [
       "Saving the dataset (0/1 shards):   0%|          | 0/2688 [00:00<?, ? examples/s]"
      ]
     },
     "metadata": {},
     "output_type": "display_data"
    },
    {
     "name": "stderr",
     "output_type": "stream",
     "text": [
      "Preprocessing dataset:   0%|                                                                                                                                     | 25/331793 [2:28:39<51300:55:00, 556.66s/it]2025-05-30 15:14:20,126 || INFO || MedRL-CoT Setup - Preprocessing example 25\n"
     ]
    },
    {
     "name": "stdout",
     "output_type": "stream",
     "text": [
      "22\n"
     ]
    },
    {
     "name": "stderr",
     "output_type": "stream",
     "text": [
      "\n",
      "Classifying prompts:   0%|                                                                                                                                                             | 0/22 [00:00<?, ?it/s]\u001b[A2025-05-30 15:14:36,733 || INFO || MedRL-CoT Setup - Successful JSON parsed!\n",
      "\n",
      "Classifying prompts:   5%|██████▊                                                                                                                                              | 1/22 [00:16<05:48, 16.60s/it]\u001b[A2025-05-30 15:15:18,562 || INFO || MedRL-CoT Setup - Successful JSON parsed!\n",
      "\n",
      "Classifying prompts:   9%|█████████████▌                                                                                                                                       | 2/22 [00:58<10:28, 31.44s/it]\u001b[A2025-05-30 15:15:51,028 || WARNING || MedRL-CoT Setup - Invalid JSON, trying conversion\n",
      "2025-05-30 15:15:51,029 || ERROR || MedRL-CoT Setup - Provided data schema not parseable/known, skipping this chunk\n",
      "\n",
      "Classifying prompts:  14%|████████████████████▎                                                                                                                                | 3/22 [01:30<10:06, 31.91s/it]\u001b[A2025-05-30 15:17:12,895 || INFO || MedRL-CoT Setup - Successful JSON parsed!\n",
      "\n",
      "Classifying prompts:  18%|███████████████████████████                                                                                                                          | 4/22 [02:52<15:29, 51.63s/it]\u001b[A2025-05-30 15:17:16,255 || INFO || MedRL-CoT Setup - Successful JSON parsed!\n",
      "\n",
      "Classifying prompts:  23%|█████████████████████████████████▊                                                                                                                   | 5/22 [02:56<09:41, 34.22s/it]\u001b[A2025-05-30 15:18:31,039 || ERROR || MedRL-CoT Setup - Nothing found, bad example!\n",
      "\n",
      "Classifying prompts:  27%|████████████████████████████████████████▋                                                                                                            | 6/22 [04:10<12:48, 48.02s/it]\u001b[A2025-05-30 15:18:33,117 || INFO || MedRL-CoT Setup - Successful JSON parsed!\n",
      "\n",
      "Classifying prompts:  32%|███████████████████████████████████████████████▍                                                                                                     | 7/22 [04:12<08:14, 33.00s/it]\u001b[A2025-05-30 15:18:54,862 || INFO || MedRL-CoT Setup - Successful JSON parsed!\n",
      "\n",
      "Classifying prompts:  36%|██████████████████████████████████████████████████████▏                                                                                              | 8/22 [04:34<06:51, 29.41s/it]\u001b[A2025-05-30 15:20:17,714 || WARNING || MedRL-CoT Setup - Invalid JSON, trying conversion\n",
      "2025-05-30 15:20:17,715 || ERROR || MedRL-CoT Setup - Provided data schema not parseable/known, skipping this chunk\n",
      "\n",
      "Classifying prompts:  41%|████████████████████████████████████████████████████████████▉                                                                                        | 9/22 [05:57<09:59, 46.12s/it]\u001b[A2025-05-30 15:20:43,746 || INFO || MedRL-CoT Setup - Successful JSON parsed!\n",
      "\n",
      "Classifying prompts:  45%|███████████████████████████████████████████████████████████████████▎                                                                                | 10/22 [06:23<07:59, 39.92s/it]\u001b[A2025-05-30 15:21:04,885 || INFO || MedRL-CoT Setup - Successful JSON parsed!\n",
      "\n",
      "Classifying prompts:  50%|██████████████████████████████████████████████████████████████████████████                                                                          | 11/22 [06:44<06:15, 34.17s/it]\u001b[A2025-05-30 15:21:37,578 || WARNING || MedRL-CoT Setup - Invalid JSON, trying conversion\n",
      "2025-05-30 15:21:37,580 || ERROR || MedRL-CoT Setup - Provided data schema not parseable/known, skipping this chunk\n",
      "\n",
      "Classifying prompts:  55%|████████████████████████████████████████████████████████████████████████████████▋                                                                   | 12/22 [07:17<05:37, 33.72s/it]\u001b[A2025-05-30 15:21:43,473 || INFO || MedRL-CoT Setup - Successful JSON parsed!\n",
      "\n",
      "Classifying prompts:  59%|███████████████████████████████████████████████████████████████████████████████████████▍                                                            | 13/22 [07:23<03:47, 25.29s/it]\u001b[A2025-05-30 15:21:49,351 || INFO || MedRL-CoT Setup - Successful JSON parsed!\n",
      "\n",
      "Classifying prompts:  64%|██████████████████████████████████████████████████████████████████████████████████████████████▏                                                     | 14/22 [07:29<02:35, 19.43s/it]\u001b[A2025-05-30 15:21:56,923 || INFO || MedRL-CoT Setup - Successful JSON parsed!\n",
      "\n",
      "Classifying prompts:  68%|████████████████████████████████████████████████████████████████████████████████████████████████████▉                                               | 15/22 [07:36<01:50, 15.85s/it]\u001b[A2025-05-30 15:22:05,339 || INFO || MedRL-CoT Setup - Successful JSON parsed!\n",
      "\n",
      "Classifying prompts:  73%|███████████████████████████████████████████████████████████████████████████████████████████████████████████▋                                        | 16/22 [07:45<01:21, 13.62s/it]\u001b[A2025-05-30 15:22:11,312 || WARNING || MedRL-CoT Setup - Invalid JSON, trying conversion\n",
      "2025-05-30 15:22:11,313 || ERROR || MedRL-CoT Setup - Provided data schema not parseable/known, skipping this chunk\n",
      "\n",
      "Classifying prompts:  77%|██████████████████████████████████████████████████████████████████████████████████████████████████████████████████▎                                 | 17/22 [07:51<00:56, 11.32s/it]\u001b[A2025-05-30 15:22:14,616 || INFO || MedRL-CoT Setup - Successful JSON parsed!\n",
      "\n",
      "Classifying prompts:  82%|█████████████████████████████████████████████████████████████████████████████████████████████████████████████████████████                           | 18/22 [07:54<00:35,  8.91s/it]\u001b[A2025-05-30 15:22:16,557 || INFO || MedRL-CoT Setup - Successful JSON parsed!\n",
      "\n",
      "Classifying prompts:  86%|███████████████████████████████████████████████████████████████████████████████████████████████████████████████████████████████▊                    | 19/22 [07:56<00:20,  6.82s/it]\u001b[A2025-05-30 15:22:19,746 || INFO || MedRL-CoT Setup - Successful JSON parsed!\n",
      "\n",
      "Classifying prompts:  91%|██████████████████████████████████████████████████████████████████████████████████████████████████████████████████████████████████████▌             | 20/22 [07:59<00:11,  5.73s/it]\u001b[A2025-05-30 15:22:22,302 || INFO || MedRL-CoT Setup - Successful JSON parsed!\n",
      "\n",
      "Classifying prompts:  95%|█████████████████████████████████████████████████████████████████████████████████████████████████████████████████████████████████████████████▎      | 21/22 [08:02<00:04,  4.78s/it]\u001b[A2025-05-30 15:22:25,300 || INFO || MedRL-CoT Setup - Successful JSON parsed!\n",
      "\n",
      "Classifying prompts: 100%|████████████████████████████████████████████████████████████████████████████████████████████████████████████████████████████████████████████████████| 22/22 [08:05<00:00,  4.24s/it]\u001b[A\n",
      "                                                                                                                                                                                                              \u001b[A2025-05-30 15:22:25,306 || INFO || MedRL-CoT Setup - Dumping to save\n"
     ]
    },
    {
     "data": {
      "application/vnd.jupyter.widget-view+json": {
       "model_id": "f5ab8ed1b6ca4386ba142a6184fb2745",
       "version_major": 2,
       "version_minor": 0
      },
      "text/plain": [
       "Saving the dataset (0/1 shards):   0%|          | 0/2792 [00:00<?, ? examples/s]"
      ]
     },
     "metadata": {},
     "output_type": "display_data"
    },
    {
     "name": "stderr",
     "output_type": "stream",
     "text": [
      "Preprocessing dataset:   0%|                                                                                                                                     | 26/331793 [2:36:44<49327:03:50, 535.25s/it]2025-05-30 15:22:25,356 || INFO || MedRL-CoT Setup - Preprocessing example 26\n"
     ]
    },
    {
     "name": "stdout",
     "output_type": "stream",
     "text": [
      "22\n"
     ]
    },
    {
     "name": "stderr",
     "output_type": "stream",
     "text": [
      "\n",
      "Classifying prompts:   0%|                                                                                                                                                             | 0/22 [00:00<?, ?it/s]\u001b[A2025-05-30 15:22:38,772 || INFO || MedRL-CoT Setup - Successful JSON parsed!\n",
      "\n",
      "Classifying prompts:   5%|██████▊                                                                                                                                              | 1/22 [00:13<04:41, 13.41s/it]\u001b[A2025-05-30 15:22:40,958 || INFO || MedRL-CoT Setup - Successful JSON parsed!\n",
      "\n",
      "Classifying prompts:   9%|█████████████▌                                                                                                                                       | 2/22 [00:15<02:16,  6.81s/it]\u001b[A2025-05-30 15:22:47,204 || INFO || MedRL-CoT Setup - Successful JSON parsed!\n",
      "\n",
      "Classifying prompts:  14%|████████████████████▎                                                                                                                                | 3/22 [00:21<02:04,  6.55s/it]\u001b[A2025-05-30 15:23:06,398 || INFO || MedRL-CoT Setup - Successful JSON parsed!\n",
      "\n",
      "Classifying prompts:  18%|███████████████████████████                                                                                                                          | 4/22 [00:41<03:27, 11.54s/it]\u001b[A2025-05-30 15:23:17,625 || INFO || MedRL-CoT Setup - Successful JSON parsed!\n",
      "\n",
      "Classifying prompts:  23%|█████████████████████████████████▊                                                                                                                   | 5/22 [00:52<03:14, 11.43s/it]\u001b[A2025-05-30 15:23:28,305 || INFO || MedRL-CoT Setup - Successful JSON parsed!\n",
      "\n",
      "Classifying prompts:  27%|████████████████████████████████████████▋                                                                                                            | 6/22 [01:02<02:58, 11.17s/it]\u001b[A2025-05-30 15:23:46,592 || INFO || MedRL-CoT Setup - Successful JSON parsed!\n",
      "\n",
      "Classifying prompts:  32%|███████████████████████████████████████████████▍                                                                                                     | 7/22 [01:21<03:22, 13.50s/it]\u001b[A2025-05-30 15:23:49,701 || INFO || MedRL-CoT Setup - Successful JSON parsed!\n",
      "\n",
      "Classifying prompts:  36%|██████████████████████████████████████████████████████▏                                                                                              | 8/22 [01:24<02:22, 10.19s/it]\u001b[A2025-05-30 15:23:59,541 || INFO || MedRL-CoT Setup - Successful JSON parsed!\n",
      "\n",
      "Classifying prompts:  41%|████████████████████████████████████████████████████████████▉                                                                                        | 9/22 [01:34<02:11, 10.08s/it]\u001b[A2025-05-30 15:24:22,954 || INFO || MedRL-CoT Setup - Successful JSON parsed!\n",
      "\n",
      "Classifying prompts:  45%|███████████████████████████████████████████████████████████████████▎                                                                                | 10/22 [01:57<02:50, 14.20s/it]\u001b[A2025-05-30 15:24:35,937 || INFO || MedRL-CoT Setup - Successful JSON parsed!\n",
      "\n",
      "Classifying prompts:  50%|██████████████████████████████████████████████████████████████████████████                                                                          | 11/22 [02:10<02:32, 13.83s/it]\u001b[A2025-05-30 15:25:50,137 || WARNING || MedRL-CoT Setup - Invalid JSON, trying conversion\n",
      "2025-05-30 15:25:50,138 || ERROR || MedRL-CoT Setup - Provided data schema not parseable/known, skipping this chunk\n",
      "\n",
      "Classifying prompts:  55%|████████████████████████████████████████████████████████████████████████████████▋                                                                   | 12/22 [03:24<05:21, 32.19s/it]\u001b[A2025-05-30 15:26:02,261 || INFO || MedRL-CoT Setup - Successful JSON parsed!\n",
      "\n",
      "Classifying prompts:  59%|███████████████████████████████████████████████████████████████████████████████████████▍                                                            | 13/22 [03:36<03:55, 26.11s/it]\u001b[A2025-05-30 15:26:06,506 || INFO || MedRL-CoT Setup - Successful JSON parsed!\n",
      "\n",
      "Classifying prompts:  64%|██████████████████████████████████████████████████████████████████████████████████████████████▏                                                     | 14/22 [03:41<02:36, 19.51s/it]\u001b[A2025-05-30 15:26:41,803 || WARNING || MedRL-CoT Setup - Invalid JSON, trying conversion\n",
      "2025-05-30 15:26:41,806 || ERROR || MedRL-CoT Setup - Provided data schema not parseable/known, skipping this chunk\n",
      "\n",
      "Classifying prompts:  68%|████████████████████████████████████████████████████████████████████████████████████████████████████▉                                               | 15/22 [04:16<02:49, 24.27s/it]\u001b[A2025-05-30 15:26:47,867 || ERROR || MedRL-CoT Setup - Nothing found, bad example!\n",
      "\n",
      "Classifying prompts:  73%|███████████████████████████████████████████████████████████████████████████████████████████████████████████▋                                        | 16/22 [04:22<01:52, 18.79s/it]\u001b[A2025-05-30 15:26:51,155 || INFO || MedRL-CoT Setup - Successful JSON parsed!\n",
      "\n",
      "Classifying prompts:  77%|██████████████████████████████████████████████████████████████████████████████████████████████████████████████████▎                                 | 17/22 [04:25<01:10, 14.13s/it]\u001b[A2025-05-30 15:26:56,652 || INFO || MedRL-CoT Setup - Successful JSON parsed!\n",
      "\n",
      "Classifying prompts:  82%|█████████████████████████████████████████████████████████████████████████████████████████████████████████████████████████                           | 18/22 [04:31<00:46, 11.53s/it]\u001b[A2025-05-30 15:27:01,418 || INFO || MedRL-CoT Setup - Successful JSON parsed!\n",
      "\n",
      "Classifying prompts:  86%|███████████████████████████████████████████████████████████████████████████████████████████████████████████████████████████████▊                    | 19/22 [04:36<00:28,  9.50s/it]\u001b[A2025-05-30 15:27:07,100 || INFO || MedRL-CoT Setup - Successful JSON parsed!\n",
      "\n",
      "Classifying prompts:  91%|██████████████████████████████████████████████████████████████████████████████████████████████████████████████████████████████████████▌             | 20/22 [04:41<00:16,  8.35s/it]\u001b[A2025-05-30 15:27:19,737 || INFO || MedRL-CoT Setup - Successful JSON parsed!\n",
      "\n",
      "Classifying prompts:  95%|█████████████████████████████████████████████████████████████████████████████████████████████████████████████████████████████████████████████▎      | 21/22 [04:54<00:09,  9.64s/it]\u001b[A2025-05-30 15:27:27,109 || INFO || MedRL-CoT Setup - Successful JSON parsed!\n",
      "\n",
      "Classifying prompts: 100%|████████████████████████████████████████████████████████████████████████████████████████████████████████████████████████████████████████████████████| 22/22 [05:01<00:00,  8.96s/it]\u001b[A\n",
      "                                                                                                                                                                                                              \u001b[A2025-05-30 15:27:27,114 || INFO || MedRL-CoT Setup - Dumping to save\n"
     ]
    },
    {
     "data": {
      "application/vnd.jupyter.widget-view+json": {
       "model_id": "1f02a01db7d54d06acfa1b374766a9bc",
       "version_major": 2,
       "version_minor": 0
      },
      "text/plain": [
       "Saving the dataset (0/1 shards):   0%|          | 0/2887 [00:00<?, ? examples/s]"
      ]
     },
     "metadata": {},
     "output_type": "display_data"
    },
    {
     "name": "stderr",
     "output_type": "stream",
     "text": [
      "Preprocessing dataset:   0%|                                                                                                                                     | 27/331793 [2:41:46<42875:48:48, 465.25s/it]2025-05-30 15:27:27,162 || INFO || MedRL-CoT Setup - Preprocessing example 27\n"
     ]
    },
    {
     "name": "stdout",
     "output_type": "stream",
     "text": [
      "19\n"
     ]
    },
    {
     "name": "stderr",
     "output_type": "stream",
     "text": [
      "\n",
      "Classifying prompts:   0%|                                                                                                                                                             | 0/19 [00:00<?, ?it/s]\u001b[A2025-05-30 15:27:39,708 || WARNING || MedRL-CoT Setup - Invalid JSON, trying conversion\n",
      "2025-05-30 15:27:39,709 || ERROR || MedRL-CoT Setup - Provided data schema not parseable/known, skipping this chunk\n",
      "\n",
      "Classifying prompts:   5%|███████▊                                                                                                                                             | 1/19 [00:12<03:45, 12.54s/it]\u001b[A2025-05-30 15:27:41,918 || INFO || MedRL-CoT Setup - Successful JSON parsed!\n",
      "\n",
      "Classifying prompts:  11%|███████████████▋                                                                                                                                     | 2/19 [00:14<01:49,  6.46s/it]\u001b[A2025-05-30 15:28:00,071 || INFO || MedRL-CoT Setup - Successful JSON parsed!\n",
      "\n",
      "Classifying prompts:  16%|███████████████████████▌                                                                                                                             | 3/19 [00:32<03:08, 11.80s/it]\u001b[A2025-05-30 15:28:02,399 || INFO || MedRL-CoT Setup - Successful JSON parsed!\n",
      "\n",
      "Classifying prompts:  21%|███████████████████████████████▎                                                                                                                     | 4/19 [00:35<02:00,  8.06s/it]\u001b[A2025-05-30 15:28:17,636 || INFO || MedRL-CoT Setup - Successful JSON parsed!\n",
      "\n",
      "Classifying prompts:  26%|███████████████████████████████████████▏                                                                                                             | 5/19 [00:50<02:29, 10.65s/it]\u001b[A2025-05-30 15:28:35,853 || INFO || MedRL-CoT Setup - Successful JSON parsed!\n",
      "\n",
      "Classifying prompts:  32%|███████████████████████████████████████████████                                                                                                      | 6/19 [01:08<02:51, 13.22s/it]\u001b[A2025-05-30 15:28:40,575 || INFO || MedRL-CoT Setup - Successful JSON parsed!\n",
      "\n",
      "Classifying prompts:  37%|██████████████████████████████████████████████████████▉                                                                                              | 7/19 [01:13<02:05, 10.44s/it]\u001b[A2025-05-30 15:28:43,177 || INFO || MedRL-CoT Setup - Successful JSON parsed!\n",
      "\n",
      "Classifying prompts:  42%|██████████████████████████████████████████████████████████████▋                                                                                      | 8/19 [01:16<01:27,  7.95s/it]\u001b[A2025-05-30 15:28:45,388 || INFO || MedRL-CoT Setup - Successful JSON parsed!\n",
      "\n",
      "Classifying prompts:  47%|██████████████████████████████████████████████████████████████████████▌                                                                              | 9/19 [01:18<01:01,  6.15s/it]\u001b[A2025-05-30 15:28:48,905 || INFO || MedRL-CoT Setup - Successful JSON parsed!\n",
      "\n",
      "Classifying prompts:  53%|█████████████████████████████████████████████████████████████████████████████▉                                                                      | 10/19 [01:21<00:48,  5.34s/it]\u001b[A2025-05-30 15:28:54,675 || INFO || MedRL-CoT Setup - Successful JSON parsed!\n",
      "\n",
      "Classifying prompts:  58%|█████████████████████████████████████████████████████████████████████████████████████▋                                                              | 11/19 [01:27<00:43,  5.47s/it]\u001b[A2025-05-30 15:29:12,829 || INFO || MedRL-CoT Setup - Successful JSON parsed!\n",
      "\n",
      "Classifying prompts:  63%|█████████████████████████████████████████████████████████████████████████████████████████████▍                                                      | 12/19 [01:45<01:05,  9.33s/it]\u001b[A2025-05-30 15:30:04,167 || WARNING || MedRL-CoT Setup - Invalid JSON, trying conversion\n",
      "2025-05-30 15:30:04,168 || ERROR || MedRL-CoT Setup - Provided data schema not parseable/known, skipping this chunk\n",
      "\n",
      "Classifying prompts:  68%|█████████████████████████████████████████████████████████████████████████████████████████████████████▎                                              | 13/19 [02:37<02:12, 22.06s/it]\u001b[A2025-05-30 15:30:07,491 || INFO || MedRL-CoT Setup - Successful JSON parsed!\n",
      "\n",
      "Classifying prompts:  74%|█████████████████████████████████████████████████████████████████████████████████████████████████████████████                                       | 14/19 [02:40<01:21, 16.40s/it]\u001b[A2025-05-30 15:30:13,072 || INFO || MedRL-CoT Setup - Successful JSON parsed!\n",
      "\n",
      "Classifying prompts:  79%|████████████████████████████████████████████████████████████████████████████████████████████████████████████████████▊                               | 15/19 [02:45<00:52, 13.14s/it]\u001b[A2025-05-30 15:30:31,561 || INFO || MedRL-CoT Setup - Successful JSON parsed!\n",
      "\n",
      "Classifying prompts:  84%|████████████████████████████████████████████████████████████████████████████████████████████████████████████████████████████▋                       | 16/19 [03:04<00:44, 14.75s/it]\u001b[A2025-05-30 15:30:35,191 || INFO || MedRL-CoT Setup - Successful JSON parsed!\n",
      "\n",
      "Classifying prompts:  89%|████████████████████████████████████████████████████████████████████████████████████████████████████████████████████████████████████▍               | 17/19 [03:08<00:22, 11.40s/it]\u001b[A2025-05-30 15:30:47,398 || INFO || MedRL-CoT Setup - Successful JSON parsed!\n",
      "\n",
      "Classifying prompts:  95%|████████████████████████████████████████████████████████████████████████████████████████████████████████████████████████████████████████████▏       | 18/19 [03:20<00:11, 11.65s/it]\u001b[A2025-05-30 15:30:54,791 || INFO || MedRL-CoT Setup - Successful JSON parsed!\n",
      "\n",
      "Classifying prompts: 100%|████████████████████████████████████████████████████████████████████████████████████████████████████████████████████████████████████████████████████| 19/19 [03:27<00:00, 10.37s/it]\u001b[A\n",
      "                                                                                                                                                                                                              \u001b[A2025-05-30 15:30:54,796 || INFO || MedRL-CoT Setup - Dumping to save\n"
     ]
    },
    {
     "data": {
      "application/vnd.jupyter.widget-view+json": {
       "model_id": "0e583b24876b4c03a51178896d79d678",
       "version_major": 2,
       "version_minor": 0
      },
      "text/plain": [
       "Saving the dataset (0/1 shards):   0%|          | 0/2940 [00:00<?, ? examples/s]"
      ]
     },
     "metadata": {},
     "output_type": "display_data"
    },
    {
     "name": "stderr",
     "output_type": "stream",
     "text": [
      "Preprocessing dataset:   0%|                                                                                                                                     | 28/331793 [2:45:14<35757:14:09, 388.00s/it]2025-05-30 15:30:54,852 || INFO || MedRL-CoT Setup - Preprocessing example 28\n"
     ]
    },
    {
     "name": "stdout",
     "output_type": "stream",
     "text": [
      "9\n"
     ]
    },
    {
     "name": "stderr",
     "output_type": "stream",
     "text": [
      "\n",
      "Classifying prompts:   0%|                                                                                                                                                              | 0/9 [00:00<?, ?it/s]\u001b[A2025-05-30 15:31:13,279 || WARNING || MedRL-CoT Setup - Invalid JSON, trying conversion\n",
      "2025-05-30 15:31:13,280 || ERROR || MedRL-CoT Setup - Provided data schema not parseable/known, skipping this chunk\n",
      "\n",
      "Classifying prompts:  11%|████████████████▋                                                                                                                                     | 1/9 [00:18<02:27, 18.42s/it]\u001b[A2025-05-30 15:31:36,242 || INFO || MedRL-CoT Setup - Successful JSON parsed!\n",
      "\n",
      "Classifying prompts:  22%|█████████████████████████████████▎                                                                                                                    | 2/9 [00:41<02:27, 21.09s/it]\u001b[A2025-05-30 15:31:56,803 || INFO || MedRL-CoT Setup - Successful JSON parsed!\n",
      "\n",
      "Classifying prompts:  33%|██████████████████████████████████████████████████                                                                                                    | 3/9 [01:01<02:05, 20.85s/it]\u001b[A2025-05-30 15:31:59,568 || INFO || MedRL-CoT Setup - Successful JSON parsed!\n",
      "\n",
      "Classifying prompts:  44%|██████████████████████████████████████████████████████████████████▋                                                                                   | 4/9 [01:04<01:08, 13.71s/it]\u001b[A2025-05-30 15:32:01,915 || INFO || MedRL-CoT Setup - Successful JSON parsed!\n",
      "\n",
      "Classifying prompts:  56%|███████████████████████████████████████████████████████████████████████████████████▎                                                                  | 5/9 [01:07<00:38,  9.61s/it]\u001b[A2025-05-30 15:32:07,370 || INFO || MedRL-CoT Setup - Successful JSON parsed!\n",
      "\n",
      "Classifying prompts:  67%|████████████████████████████████████████████████████████████████████████████████████████████████████                                                  | 6/9 [01:12<00:24,  8.20s/it]\u001b[A2025-05-30 15:32:41,118 || INFO || MedRL-CoT Setup - Successful JSON parsed!\n",
      "\n",
      "Classifying prompts:  78%|████████████████████████████████████████████████████████████████████████████████████████████████████████████████████▋                                 | 7/9 [01:46<00:33, 16.55s/it]\u001b[A2025-05-30 15:33:23,784 || INFO || MedRL-CoT Setup - Successful JSON parsed!\n",
      "\n",
      "Classifying prompts:  89%|█████████████████████████████████████████████████████████████████████████████████████████████████████████████████████████████████████▎                | 8/9 [02:28<00:24, 24.87s/it]\u001b[A2025-05-30 15:33:31,084 || INFO || MedRL-CoT Setup - Successful JSON parsed!\n",
      "\n",
      "Classifying prompts: 100%|██████████████████████████████████████████████████████████████████████████████████████████████████████████████████████████████████████████████████████| 9/9 [02:36<00:00, 19.37s/it]\u001b[A\n",
      "                                                                                                                                                                                                              \u001b[A2025-05-30 15:33:31,090 || INFO || MedRL-CoT Setup - Dumping to save\n"
     ]
    },
    {
     "data": {
      "application/vnd.jupyter.widget-view+json": {
       "model_id": "e828475aea30442a900f40e5ba80ec27",
       "version_major": 2,
       "version_minor": 0
      },
      "text/plain": [
       "Saving the dataset (0/1 shards):   0%|          | 0/2993 [00:00<?, ? examples/s]"
      ]
     },
     "metadata": {},
     "output_type": "display_data"
    },
    {
     "name": "stderr",
     "output_type": "stream",
     "text": [
      "Preprocessing dataset:   0%|                                                                                                                                     | 29/331793 [2:47:50<29352:09:50, 318.50s/it]2025-05-30 15:33:31,136 || INFO || MedRL-CoT Setup - Preprocessing example 29\n"
     ]
    },
    {
     "name": "stdout",
     "output_type": "stream",
     "text": [
      "33\n"
     ]
    },
    {
     "name": "stderr",
     "output_type": "stream",
     "text": [
      "\n",
      "Classifying prompts:   0%|                                                                                                                                                             | 0/33 [00:00<?, ?it/s]\u001b[A2025-05-30 15:34:02,950 || WARNING || MedRL-CoT Setup - Invalid JSON, trying conversion\n",
      "2025-05-30 15:34:02,951 || ERROR || MedRL-CoT Setup - Provided data schema not parseable/known, skipping this chunk\n",
      "\n",
      "Classifying prompts:   3%|████▌                                                                                                                                                | 1/33 [00:31<16:57, 31.81s/it]\u001b[A2025-05-30 15:34:11,505 || INFO || MedRL-CoT Setup - Successful JSON parsed!\n",
      "\n",
      "Classifying prompts:   6%|█████████                                                                                                                                            | 2/33 [00:40<09:22, 18.13s/it]\u001b[A2025-05-30 15:34:15,944 || INFO || MedRL-CoT Setup - Successful JSON parsed!\n",
      "\n",
      "Classifying prompts:   9%|█████████████▌                                                                                                                                       | 3/33 [00:44<05:56, 11.88s/it]\u001b[A2025-05-30 15:34:32,793 || INFO || MedRL-CoT Setup - Successful JSON parsed!\n",
      "\n",
      "Classifying prompts:  12%|██████████████████                                                                                                                                   | 4/33 [01:01<06:41, 13.84s/it]\u001b[A2025-05-30 15:34:43,001 || INFO || MedRL-CoT Setup - Successful JSON parsed!\n",
      "\n",
      "Classifying prompts:  15%|██████████████████████▌                                                                                                                              | 5/33 [01:11<05:50, 12.53s/it]\u001b[A2025-05-30 15:35:01,654 || INFO || MedRL-CoT Setup - Successful JSON parsed!\n",
      "\n",
      "Classifying prompts:  18%|███████████████████████████                                                                                                                          | 6/33 [01:30<06:34, 14.61s/it]\u001b[A2025-05-30 15:35:06,904 || INFO || MedRL-CoT Setup - Successful JSON parsed!\n",
      "\n",
      "Classifying prompts:  21%|███████████████████████████████▌                                                                                                                     | 7/33 [01:35<05:00, 11.55s/it]\u001b[A2025-05-30 15:35:09,852 || INFO || MedRL-CoT Setup - Successful JSON parsed!\n",
      "\n",
      "Classifying prompts:  24%|████████████████████████████████████                                                                                                                 | 8/33 [01:38<03:40,  8.81s/it]\u001b[A2025-05-30 15:35:12,090 || ERROR || MedRL-CoT Setup - Nothing found, bad example!\n",
      "\n",
      "Classifying prompts:  27%|████████████████████████████████████████▋                                                                                                            | 9/33 [01:40<02:42,  6.76s/it]\u001b[A2025-05-30 15:35:27,470 || INFO || MedRL-CoT Setup - Successful JSON parsed!\n",
      "\n",
      "Classifying prompts:  30%|████████████████████████████████████████████▊                                                                                                       | 10/33 [01:56<03:36,  9.42s/it]\u001b[A2025-05-30 15:35:37,829 || INFO || MedRL-CoT Setup - Successful JSON parsed!\n",
      "\n",
      "Classifying prompts:  33%|█████████████████████████████████████████████████▎                                                                                                  | 11/33 [02:06<03:33,  9.71s/it]\u001b[A2025-05-30 15:35:55,994 || INFO || MedRL-CoT Setup - Successful JSON parsed!\n",
      "\n",
      "Classifying prompts:  36%|█████████████████████████████████████████████████████▊                                                                                              | 12/33 [02:24<04:17, 12.28s/it]\u001b[A2025-05-30 15:36:00,639 || INFO || MedRL-CoT Setup - Successful JSON parsed!\n",
      "\n",
      "Classifying prompts:  39%|██████████████████████████████████████████████████████████▎                                                                                         | 13/33 [02:29<03:19,  9.97s/it]\u001b[A2025-05-30 15:36:03,130 || INFO || MedRL-CoT Setup - Successful JSON parsed!\n",
      "\n",
      "Classifying prompts:  42%|██████████████████████████████████████████████████████████████▊                                                                                     | 14/33 [02:31<02:26,  7.71s/it]\u001b[A2025-05-30 15:36:17,019 || WARNING || MedRL-CoT Setup - Invalid JSON, trying conversion\n",
      "2025-05-30 15:36:17,020 || ERROR || MedRL-CoT Setup - Provided data schema not parseable/known, skipping this chunk\n",
      "\n",
      "Classifying prompts:  45%|███████████████████████████████████████████████████████████████████▎                                                                                | 15/33 [02:45<02:52,  9.57s/it]\u001b[A2025-05-30 15:36:28,686 || INFO || MedRL-CoT Setup - Successful JSON parsed!\n",
      "\n",
      "Classifying prompts:  48%|███████████████████████████████████████████████████████████████████████▊                                                                            | 16/33 [02:57<02:53, 10.20s/it]\u001b[A2025-05-30 15:36:32,201 || INFO || MedRL-CoT Setup - Successful JSON parsed!\n",
      "\n",
      "Classifying prompts:  52%|████████████████████████████████████████████████████████████████████████████▏                                                                       | 17/33 [03:01<02:11,  8.19s/it]\u001b[A2025-05-30 15:36:36,954 || ERROR || MedRL-CoT Setup - Nothing found, bad example!\n",
      "\n",
      "Classifying prompts:  55%|████████████████████████████████████████████████████████████████████████████████▋                                                                   | 18/33 [03:05<01:47,  7.16s/it]\u001b[A2025-05-30 15:36:46,081 || INFO || MedRL-CoT Setup - Successful JSON parsed!\n",
      "\n",
      "Classifying prompts:  58%|█████████████████████████████████████████████████████████████████████████████████████▏                                                              | 19/33 [03:14<01:48,  7.75s/it]\u001b[A2025-05-30 15:36:49,417 || INFO || MedRL-CoT Setup - Successful JSON parsed!\n",
      "\n",
      "Classifying prompts:  61%|█████████████████████████████████████████████████████████████████████████████████████████▋                                                          | 20/33 [03:18<01:23,  6.42s/it]\u001b[A2025-05-30 15:37:01,712 || WARNING || MedRL-CoT Setup - Invalid JSON, trying conversion\n",
      "2025-05-30 15:37:01,713 || ERROR || MedRL-CoT Setup - Provided data schema not parseable/known, skipping this chunk\n",
      "\n",
      "Classifying prompts:  64%|██████████████████████████████████████████████████████████████████████████████████████████████▏                                                     | 21/33 [03:30<01:38,  8.19s/it]\u001b[A2025-05-30 15:37:15,765 || INFO || MedRL-CoT Setup - Successful JSON parsed!\n",
      "\n",
      "Classifying prompts:  67%|██████████████████████████████████████████████████████████████████████████████████████████████████▋                                                 | 22/33 [03:44<01:49,  9.95s/it]\u001b[A2025-05-30 15:37:31,941 || ERROR || MedRL-CoT Setup - Nothing found, bad example!\n",
      "\n",
      "Classifying prompts:  70%|███████████████████████████████████████████████████████████████████████████████████████████████████████▏                                            | 23/33 [04:00<01:58, 11.82s/it]\u001b[A2025-05-30 15:37:39,326 || INFO || MedRL-CoT Setup - Successful JSON parsed!\n",
      "\n",
      "Classifying prompts:  73%|███████████████████████████████████████████████████████████████████████████████████████████████████████████▋                                        | 24/33 [04:08<01:34, 10.49s/it]\u001b[A2025-05-30 15:37:50,300 || INFO || MedRL-CoT Setup - Successful JSON parsed!\n",
      "\n",
      "Classifying prompts:  76%|████████████████████████████████████████████████████████████████████████████████████████████████████████████████                                    | 25/33 [04:19<01:25, 10.63s/it]\u001b[A2025-05-30 15:37:56,646 || INFO || MedRL-CoT Setup - Successful JSON parsed!\n",
      "\n",
      "Classifying prompts:  79%|████████████████████████████████████████████████████████████████████████████████████████████████████████████████████▌                               | 26/33 [04:25<01:05,  9.35s/it]\u001b[A2025-05-30 15:38:04,248 || INFO || MedRL-CoT Setup - Successful JSON parsed!\n",
      "\n",
      "Classifying prompts:  82%|█████████████████████████████████████████████████████████████████████████████████████████████████████████████████████████                           | 27/33 [04:33<00:52,  8.82s/it]\u001b[A2025-05-30 15:38:47,327 || WARNING || MedRL-CoT Setup - Invalid JSON, trying conversion\n",
      "2025-05-30 15:38:47,328 || ERROR || MedRL-CoT Setup - Provided data schema not parseable/known, skipping this chunk\n",
      "\n",
      "Classifying prompts:  85%|█████████████████████████████████████████████████████████████████████████████████████████████████████████████████████████████▌                      | 28/33 [05:16<01:35, 19.10s/it]\u001b[A2025-05-30 15:39:01,264 || ERROR || MedRL-CoT Setup - Nothing found, bad example!\n",
      "\n",
      "Classifying prompts:  88%|██████████████████████████████████████████████████████████████████████████████████████████████████████████████████████████████████                  | 29/33 [05:30<01:10, 17.55s/it]\u001b[A2025-05-30 15:39:03,414 || INFO || MedRL-CoT Setup - Successful JSON parsed!\n",
      "\n",
      "Classifying prompts:  91%|██████████████████████████████████████████████████████████████████████████████████████████████████████████████████████████████████████▌             | 30/33 [05:32<00:38, 12.93s/it]\u001b[A2025-05-30 15:39:09,657 || INFO || MedRL-CoT Setup - Successful JSON parsed!\n",
      "\n",
      "Classifying prompts:  94%|███████████████████████████████████████████████████████████████████████████████████████████████████████████████████████████████████████████         | 31/33 [05:38<00:21, 10.92s/it]\u001b[A2025-05-30 15:39:25,018 || INFO || MedRL-CoT Setup - Successful JSON parsed!\n",
      "\n",
      "Classifying prompts:  97%|███████████████████████████████████████████████████████████████████████████████████████████████████████████████████████████████████████████████▌    | 32/33 [05:53<00:12, 12.26s/it]\u001b[A2025-05-30 15:39:32,493 || INFO || MedRL-CoT Setup - Successful JSON parsed!\n",
      "\n",
      "Classifying prompts: 100%|████████████████████████████████████████████████████████████████████████████████████████████████████████████████████████████████████████████████████| 33/33 [06:01<00:00, 10.82s/it]\u001b[A\n",
      "                                                                                                                                                                                                              \u001b[A2025-05-30 15:39:32,499 || INFO || MedRL-CoT Setup - Dumping to save\n"
     ]
    },
    {
     "data": {
      "application/vnd.jupyter.widget-view+json": {
       "model_id": "73fc94dce93640688e6f2aa45c8f0cf9",
       "version_major": 2,
       "version_minor": 0
      },
      "text/plain": [
       "Saving the dataset (0/1 shards):   0%|          | 0/3101 [00:00<?, ? examples/s]"
      ]
     },
     "metadata": {},
     "output_type": "display_data"
    },
    {
     "name": "stderr",
     "output_type": "stream",
     "text": [
      "Preprocessing dataset:   0%|                                                                                                                                     | 30/331793 [2:53:52<30538:05:36, 331.37s/it]2025-05-30 15:39:32,544 || INFO || MedRL-CoT Setup - Preprocessing example 30\n"
     ]
    },
    {
     "name": "stdout",
     "output_type": "stream",
     "text": [
      "17\n"
     ]
    },
    {
     "name": "stderr",
     "output_type": "stream",
     "text": [
      "\n",
      "Classifying prompts:   0%|                                                                                                                                                             | 0/17 [00:00<?, ?it/s]\u001b[A2025-05-30 15:40:05,493 || INFO || MedRL-CoT Setup - Successful JSON parsed!\n",
      "\n",
      "Classifying prompts:   6%|████████▊                                                                                                                                            | 1/17 [00:32<08:47, 32.95s/it]\u001b[A2025-05-30 15:40:14,274 || INFO || MedRL-CoT Setup - Successful JSON parsed!\n",
      "\n",
      "Classifying prompts:  12%|█████████████████▌                                                                                                                                   | 2/17 [00:41<04:40, 18.73s/it]\u001b[A2025-05-30 15:40:17,352 || INFO || MedRL-CoT Setup - Successful JSON parsed!\n",
      "\n",
      "Classifying prompts:  18%|██████████████████████████▎                                                                                                                          | 3/17 [00:44<02:42, 11.58s/it]\u001b[A2025-05-30 15:40:21,830 || INFO || MedRL-CoT Setup - Successful JSON parsed!\n",
      "\n",
      "Classifying prompts:  24%|███████████████████████████████████                                                                                                                  | 4/17 [00:49<01:54,  8.78s/it]\u001b[A2025-05-30 15:40:45,772 || INFO || MedRL-CoT Setup - Successful JSON parsed!\n",
      "\n",
      "Classifying prompts:  29%|███████████████████████████████████████████▊                                                                                                         | 5/17 [01:13<02:50, 14.25s/it]\u001b[A2025-05-30 15:40:52,468 || WARNING || MedRL-CoT Setup - Invalid JSON, trying conversion\n",
      "2025-05-30 15:40:52,469 || ERROR || MedRL-CoT Setup - Provided data schema not parseable/known, skipping this chunk\n",
      "\n",
      "Classifying prompts:  35%|████████████████████████████████████████████████████▌                                                                                                | 6/17 [01:19<02:08, 11.68s/it]\u001b[A2025-05-30 15:41:01,559 || INFO || MedRL-CoT Setup - Successful JSON parsed!\n",
      "\n",
      "Classifying prompts:  41%|█████████████████████████████████████████████████████████████▎                                                                                       | 7/17 [01:29<01:48, 10.83s/it]\u001b[A2025-05-30 15:41:04,196 || INFO || MedRL-CoT Setup - Successful JSON parsed!\n",
      "\n",
      "Classifying prompts:  47%|██████████████████████████████████████████████████████████████████████                                                                               | 8/17 [01:31<01:14,  8.22s/it]\u001b[A2025-05-30 15:41:09,126 || INFO || MedRL-CoT Setup - Successful JSON parsed!\n",
      "\n",
      "Classifying prompts:  53%|██████████████████████████████████████████████████████████████████████████████▉                                                                      | 9/17 [01:36<00:57,  7.19s/it]\u001b[A2025-05-30 15:41:14,326 || INFO || MedRL-CoT Setup - Successful JSON parsed!\n",
      "\n",
      "Classifying prompts:  59%|███████████████████████████████████████████████████████████████████████████████████████                                                             | 10/17 [01:41<00:46,  6.58s/it]\u001b[A2025-05-30 15:41:19,975 || INFO || MedRL-CoT Setup - Successful JSON parsed!\n",
      "\n",
      "Classifying prompts:  65%|███████████████████████████████████████████████████████████████████████████████████████████████▊                                                    | 11/17 [01:47<00:37,  6.29s/it]\u001b[A2025-05-30 15:41:24,808 || INFO || MedRL-CoT Setup - Successful JSON parsed!\n",
      "\n",
      "Classifying prompts:  71%|████████████████████████████████████████████████████████████████████████████████████████████████████████▍                                           | 12/17 [01:52<00:29,  5.85s/it]\u001b[A2025-05-30 15:41:43,038 || WARNING || MedRL-CoT Setup - Invalid JSON, trying conversion\n",
      "2025-05-30 15:41:43,039 || ERROR || MedRL-CoT Setup - Provided data schema not parseable/known, skipping this chunk\n",
      "\n",
      "Classifying prompts:  76%|█████████████████████████████████████████████████████████████████████████████████████████████████████████████████▏                                  | 13/17 [02:10<00:38,  9.60s/it]\u001b[A2025-05-30 15:41:51,400 || INFO || MedRL-CoT Setup - Successful JSON parsed!\n",
      "\n",
      "Classifying prompts:  82%|█████████████████████████████████████████████████████████████████████████████████████████████████████████████████████████▉                          | 14/17 [02:18<00:27,  9.23s/it]\u001b[A2025-05-30 15:41:53,745 || INFO || MedRL-CoT Setup - Successful JSON parsed!\n",
      "\n",
      "Classifying prompts:  88%|██████████████████████████████████████████████████████████████████████████████████████████████████████████████████████████████████▌                 | 15/17 [02:21<00:14,  7.15s/it]\u001b[A2025-05-30 15:42:13,546 || INFO || MedRL-CoT Setup - Successful JSON parsed!\n",
      "\n",
      "Classifying prompts:  94%|███████████████████████████████████████████████████████████████████████████████████████████████████████████████████████████████████████████▎        | 16/17 [02:40<00:10, 10.96s/it]\u001b[A2025-05-30 15:42:20,883 || INFO || MedRL-CoT Setup - Successful JSON parsed!\n",
      "\n",
      "Classifying prompts: 100%|████████████████████████████████████████████████████████████████████████████████████████████████████████████████████████████████████████████████████| 17/17 [02:48<00:00,  9.87s/it]\u001b[A\n",
      "                                                                                                                                                                                                              \u001b[A2025-05-30 15:42:20,888 || INFO || MedRL-CoT Setup - Dumping to save\n"
     ]
    },
    {
     "data": {
      "application/vnd.jupyter.widget-view+json": {
       "model_id": "f69870dfa1b8446f9bc5c5dae4ace3a3",
       "version_major": 2,
       "version_minor": 0
      },
      "text/plain": [
       "Saving the dataset (0/1 shards):   0%|          | 0/3174 [00:00<?, ? examples/s]"
      ]
     },
     "metadata": {},
     "output_type": "display_data"
    },
    {
     "name": "stderr",
     "output_type": "stream",
     "text": [
      "Preprocessing dataset:   0%|                                                                                                                                     | 31/331793 [2:56:40<26032:31:37, 282.48s/it]2025-05-30 15:42:20,934 || INFO || MedRL-CoT Setup - Preprocessing example 31\n"
     ]
    },
    {
     "name": "stdout",
     "output_type": "stream",
     "text": [
      "12\n"
     ]
    },
    {
     "name": "stderr",
     "output_type": "stream",
     "text": [
      "\n",
      "Classifying prompts:   0%|                                                                                                                                                             | 0/12 [00:00<?, ?it/s]\u001b[A2025-05-30 15:42:33,765 || WARNING || MedRL-CoT Setup - Invalid JSON, trying conversion\n",
      "2025-05-30 15:42:33,766 || ERROR || MedRL-CoT Setup - Provided data schema not parseable/known, skipping this chunk\n",
      "\n",
      "Classifying prompts:   8%|████████████▍                                                                                                                                        | 1/12 [00:12<02:21, 12.83s/it]\u001b[A2025-05-30 15:42:53,563 || INFO || MedRL-CoT Setup - Successful JSON parsed!\n",
      "\n",
      "Classifying prompts:  17%|████████████████████████▊                                                                                                                            | 2/12 [00:32<02:49, 16.93s/it]\u001b[A2025-05-30 15:43:17,276 || INFO || MedRL-CoT Setup - Successful JSON parsed!\n",
      "\n",
      "Classifying prompts:  25%|█████████████████████████████████████▎                                                                                                               | 3/12 [00:56<03:00, 20.03s/it]\u001b[A2025-05-30 15:44:23,051 || INFO || MedRL-CoT Setup - Successful JSON parsed!\n",
      "\n",
      "Classifying prompts:  33%|█████████████████████████████████████████████████▋                                                                                                   | 4/12 [02:02<05:04, 38.09s/it]\u001b[A2025-05-30 15:45:49,453 || WARNING || MedRL-CoT Setup - Invalid JSON, trying conversion\n",
      "2025-05-30 15:45:49,455 || ERROR || MedRL-CoT Setup - Provided data schema not parseable/known, skipping this chunk\n",
      "\n",
      "Classifying prompts:  42%|██████████████████████████████████████████████████████████████                                                                                       | 5/12 [03:28<06:28, 55.51s/it]\u001b[A2025-05-30 15:46:50,110 || INFO || MedRL-CoT Setup - Successful JSON parsed!\n",
      "\n",
      "Classifying prompts:  50%|██████████████████████████████████████████████████████████████████████████▌                                                                          | 6/12 [04:29<05:43, 57.26s/it]\u001b[A2025-05-30 15:46:52,866 || INFO || MedRL-CoT Setup - Successful JSON parsed!\n",
      "\n",
      "Classifying prompts:  58%|██████████████████████████████████████████████████████████████████████████████████████▉                                                              | 7/12 [04:31<03:17, 39.44s/it]\u001b[A2025-05-30 15:47:04,561 || INFO || MedRL-CoT Setup - Successful JSON parsed!\n",
      "\n",
      "Classifying prompts:  67%|███████████████████████████████████████████████████████████████████████████████████████████████████▎                                                 | 8/12 [04:43<02:02, 30.61s/it]\u001b[A2025-05-30 15:47:10,277 || INFO || MedRL-CoT Setup - Successful JSON parsed!\n",
      "\n",
      "Classifying prompts:  75%|███████████████████████████████████████████████████████████████████████████████████████████████████████████████▊                                     | 9/12 [04:49<01:08, 22.83s/it]\u001b[A2025-05-30 15:47:27,290 || INFO || MedRL-CoT Setup - Successful JSON parsed!\n",
      "\n",
      "Classifying prompts:  83%|███████████████████████████████████████████████████████████████████████████████████████████████████████████████████████████▎                        | 10/12 [05:06<00:42, 21.03s/it]\u001b[A2025-05-30 15:48:01,715 || INFO || MedRL-CoT Setup - Successful JSON parsed!\n",
      "\n",
      "Classifying prompts:  92%|███████████████████████████████████████████████████████████████████████████████████████████████████████████████████████████████████████▋            | 11/12 [05:40<00:25, 25.13s/it]\u001b[A2025-05-30 15:48:09,706 || INFO || MedRL-CoT Setup - Successful JSON parsed!\n",
      "\n",
      "Classifying prompts: 100%|████████████████████████████████████████████████████████████████████████████████████████████████████████████████████████████████████████████████████| 12/12 [05:48<00:00, 19.92s/it]\u001b[A\n",
      "                                                                                                                                                                                                              \u001b[A2025-05-30 15:48:09,711 || INFO || MedRL-CoT Setup - Dumping to save\n"
     ]
    },
    {
     "data": {
      "application/vnd.jupyter.widget-view+json": {
       "model_id": "9c784a558abe45c9bdee6dc2752cada0",
       "version_major": 2,
       "version_minor": 0
      },
      "text/plain": [
       "Saving the dataset (0/1 shards):   0%|          | 0/3261 [00:00<?, ? examples/s]"
      ]
     },
     "metadata": {},
     "output_type": "display_data"
    },
    {
     "name": "stderr",
     "output_type": "stream",
     "text": [
      "Preprocessing dataset:   0%|                                                                                                                                     | 32/331793 [3:02:29<27866:26:33, 302.38s/it]2025-05-30 15:48:09,758 || INFO || MedRL-CoT Setup - Preprocessing example 32\n"
     ]
    },
    {
     "name": "stdout",
     "output_type": "stream",
     "text": [
      "17\n"
     ]
    },
    {
     "name": "stderr",
     "output_type": "stream",
     "text": [
      "\n",
      "Classifying prompts:   0%|                                                                                                                                                             | 0/17 [00:00<?, ?it/s]\u001b[A2025-05-30 15:48:34,811 || WARNING || MedRL-CoT Setup - Invalid JSON, trying conversion\n",
      "2025-05-30 15:48:34,813 || ERROR || MedRL-CoT Setup - Provided data schema not parseable/known, skipping this chunk\n",
      "\n",
      "Classifying prompts:   6%|████████▊                                                                                                                                            | 1/17 [00:25<06:40, 25.05s/it]\u001b[A2025-05-30 15:48:38,116 || INFO || MedRL-CoT Setup - Successful JSON parsed!\n",
      "\n",
      "Classifying prompts:  12%|█████████████████▌                                                                                                                                   | 2/17 [00:28<03:03, 12.26s/it]\u001b[A2025-05-30 15:48:47,468 || INFO || MedRL-CoT Setup - Successful JSON parsed!\n",
      "\n",
      "Classifying prompts:  18%|██████████████████████████▎                                                                                                                          | 3/17 [00:37<02:33, 10.93s/it]\u001b[A2025-05-30 15:48:52,186 || INFO || MedRL-CoT Setup - Successful JSON parsed!\n",
      "\n",
      "Classifying prompts:  24%|███████████████████████████████████                                                                                                                  | 4/17 [00:42<01:50,  8.48s/it]\u001b[A2025-05-30 15:48:55,090 || INFO || MedRL-CoT Setup - Successful JSON parsed!\n",
      "\n",
      "Classifying prompts:  29%|███████████████████████████████████████████▊                                                                                                         | 5/17 [00:45<01:17,  6.47s/it]\u001b[A2025-05-30 15:49:02,485 || INFO || MedRL-CoT Setup - Successful JSON parsed!\n",
      "\n",
      "Classifying prompts:  35%|████████████████████████████████████████████████████▌                                                                                                | 6/17 [00:52<01:14,  6.78s/it]\u001b[A2025-05-30 15:49:05,053 || INFO || MedRL-CoT Setup - Successful JSON parsed!\n",
      "\n",
      "Classifying prompts:  41%|█████████████████████████████████████████████████████████████▎                                                                                       | 7/17 [00:55<00:54,  5.41s/it]\u001b[A2025-05-30 15:49:13,742 || INFO || MedRL-CoT Setup - Successful JSON parsed!\n",
      "\n",
      "Classifying prompts:  47%|██████████████████████████████████████████████████████████████████████                                                                               | 8/17 [01:03<00:58,  6.45s/it]\u001b[A2025-05-30 15:49:27,912 || INFO || MedRL-CoT Setup - Successful JSON parsed!\n",
      "\n",
      "Classifying prompts:  53%|██████████████████████████████████████████████████████████████████████████████▉                                                                      | 9/17 [01:18<01:10,  8.86s/it]\u001b[A2025-05-30 15:49:47,037 || WARNING || MedRL-CoT Setup - Invalid JSON, trying conversion\n",
      "2025-05-30 15:49:47,038 || ERROR || MedRL-CoT Setup - Provided data schema not parseable/known, skipping this chunk\n",
      "\n",
      "Classifying prompts:  59%|███████████████████████████████████████████████████████████████████████████████████████                                                             | 10/17 [01:37<01:24, 12.03s/it]\u001b[A2025-05-30 15:50:01,476 || ERROR || MedRL-CoT Setup - Nothing found, bad example!\n",
      "\n",
      "Classifying prompts:  65%|███████████████████████████████████████████████████████████████████████████████████████████████▊                                                    | 11/17 [01:51<01:16, 12.77s/it]\u001b[A2025-05-30 15:50:05,458 || INFO || MedRL-CoT Setup - Successful JSON parsed!\n",
      "\n",
      "Classifying prompts:  71%|████████████████████████████████████████████████████████████████████████████████████████████████████████▍                                           | 12/17 [01:55<00:50, 10.10s/it]\u001b[A2025-05-30 15:50:13,357 || INFO || MedRL-CoT Setup - Successful JSON parsed!\n",
      "\n",
      "Classifying prompts:  76%|█████████████████████████████████████████████████████████████████████████████████████████████████████████████████▏                                  | 13/17 [02:03<00:37,  9.43s/it]\u001b[A2025-05-30 15:50:16,654 || INFO || MedRL-CoT Setup - Successful JSON parsed!\n",
      "\n",
      "Classifying prompts:  82%|█████████████████████████████████████████████████████████████████████████████████████████████████████████████████████████▉                          | 14/17 [02:06<00:22,  7.58s/it]\u001b[A2025-05-30 15:51:42,174 || WARNING || MedRL-CoT Setup - Invalid JSON, trying conversion\n",
      "2025-05-30 15:51:42,176 || ERROR || MedRL-CoT Setup - Provided data schema not parseable/known, skipping this chunk\n",
      "\n",
      "Classifying prompts:  88%|██████████████████████████████████████████████████████████████████████████████████████████████████████████████████████████████████▌                 | 15/17 [03:32<01:02, 31.07s/it]\u001b[A2025-05-30 15:51:44,640 || INFO || MedRL-CoT Setup - Successful JSON parsed!\n",
      "\n",
      "Classifying prompts:  94%|███████████████████████████████████████████████████████████████████████████████████████████████████████████████████████████████████████████▎        | 16/17 [03:34<00:22, 22.46s/it]\u001b[A2025-05-30 15:51:47,762 || INFO || MedRL-CoT Setup - Successful JSON parsed!\n",
      "\n",
      "Classifying prompts: 100%|████████████████████████████████████████████████████████████████████████████████████████████████████████████████████████████████████████████████████| 17/17 [03:38<00:00, 16.65s/it]\u001b[A\n",
      "                                                                                                                                                                                                              \u001b[A2025-05-30 15:51:47,769 || INFO || MedRL-CoT Setup - Dumping to save\n"
     ]
    },
    {
     "data": {
      "application/vnd.jupyter.widget-view+json": {
       "model_id": "3302f52ffeb24f5b91bb290f9201d1cd",
       "version_major": 2,
       "version_minor": 0
      },
      "text/plain": [
       "Saving the dataset (0/1 shards):   0%|          | 0/3286 [00:00<?, ? examples/s]"
      ]
     },
     "metadata": {},
     "output_type": "display_data"
    },
    {
     "name": "stderr",
     "output_type": "stream",
     "text": [
      "Preprocessing dataset:   0%|                                                                                                                                     | 33/331793 [3:06:07<25535:10:58, 277.09s/it]2025-05-30 15:51:47,818 || INFO || MedRL-CoT Setup - Preprocessing example 33\n"
     ]
    },
    {
     "name": "stdout",
     "output_type": "stream",
     "text": [
      "18\n"
     ]
    },
    {
     "name": "stderr",
     "output_type": "stream",
     "text": [
      "\n",
      "Classifying prompts:   0%|                                                                                                                                                             | 0/18 [00:00<?, ?it/s]\u001b[A2025-05-30 15:52:02,144 || INFO || MedRL-CoT Setup - Successful JSON parsed!\n",
      "\n",
      "Classifying prompts:   6%|████████▎                                                                                                                                            | 1/18 [00:14<04:03, 14.32s/it]\u001b[A2025-05-30 15:52:59,756 || INFO || MedRL-CoT Setup - Successful JSON parsed!\n",
      "\n",
      "Classifying prompts:  11%|████████████████▌                                                                                                                                    | 2/18 [01:11<10:36, 39.79s/it]\u001b[A2025-05-30 15:53:02,445 || INFO || MedRL-CoT Setup - Successful JSON parsed!\n",
      "\n",
      "Classifying prompts:  17%|████████████████████████▊                                                                                                                            | 3/18 [01:14<05:42, 22.85s/it]\u001b[A2025-05-30 15:53:35,810 || INFO || MedRL-CoT Setup - Successful JSON parsed!\n",
      "\n",
      "Classifying prompts:  22%|█████████████████████████████████                                                                                                                    | 4/18 [01:47<06:17, 27.00s/it]\u001b[A2025-05-30 15:54:42,626 || INFO || MedRL-CoT Setup - Successful JSON parsed!\n",
      "\n",
      "Classifying prompts:  28%|█████████████████████████████████████████▍                                                                                                           | 5/18 [02:54<08:57, 41.36s/it]\u001b[A2025-05-30 15:54:49,364 || INFO || MedRL-CoT Setup - Successful JSON parsed!\n",
      "\n",
      "Classifying prompts:  33%|█████████████████████████████████████████████████▋                                                                                                   | 6/18 [03:01<05:55, 29.59s/it]\u001b[A2025-05-30 15:56:16,142 || WARNING || MedRL-CoT Setup - Invalid JSON, trying conversion\n",
      "2025-05-30 15:56:16,144 || ERROR || MedRL-CoT Setup - Provided data schema not parseable/known, skipping this chunk\n",
      "\n",
      "Classifying prompts:  39%|█████████████████████████████████████████████████████████▉                                                                                           | 7/18 [04:28<08:51, 48.28s/it]\u001b[A2025-05-30 15:56:45,796 || WARNING || MedRL-CoT Setup - Invalid JSON, trying conversion\n",
      "2025-05-30 15:56:45,797 || ERROR || MedRL-CoT Setup - Provided data schema not parseable/known, skipping this chunk\n",
      "\n",
      "Classifying prompts:  44%|██████████████████████████████████████████████████████████████████▏                                                                                  | 8/18 [04:57<07:03, 42.35s/it]\u001b[A2025-05-30 15:58:05,941 || WARNING || MedRL-CoT Setup - Invalid JSON, trying conversion\n",
      "2025-05-30 15:58:05,943 || ERROR || MedRL-CoT Setup - Provided data schema not parseable/known, skipping this chunk\n",
      "\n",
      "Classifying prompts:  50%|██████████████████████████████████████████████████████████████████████████▌                                                                          | 9/18 [06:18<08:07, 54.17s/it]\u001b[A2025-05-30 15:58:40,704 || INFO || MedRL-CoT Setup - Successful JSON parsed!\n",
      "\n",
      "Classifying prompts:  56%|██████████████████████████████████████████████████████████████████████████████████▏                                                                 | 10/18 [06:52<06:25, 48.18s/it]\u001b[A2025-05-30 15:59:17,264 || INFO || MedRL-CoT Setup - Successful JSON parsed!\n",
      "\n",
      "Classifying prompts:  61%|██████████████████████████████████████████████████████████████████████████████████████████▍                                                         | 11/18 [07:29<05:12, 44.62s/it]\u001b[A2025-05-30 15:59:52,939 || INFO || MedRL-CoT Setup - Successful JSON parsed!\n",
      "\n",
      "Classifying prompts:  67%|██████████████████████████████████████████████████████████████████████████████████████████████████▋                                                 | 12/18 [08:05<04:11, 41.90s/it]\u001b[A2025-05-30 15:59:58,945 || INFO || MedRL-CoT Setup - Successful JSON parsed!\n",
      "\n",
      "Classifying prompts:  72%|██████████████████████████████████████████████████████████████████████████████████████████████████████████▉                                         | 13/18 [08:11<02:35, 31.03s/it]\u001b[A2025-05-30 16:00:05,126 || INFO || MedRL-CoT Setup - Successful JSON parsed!\n",
      "\n",
      "Classifying prompts:  78%|███████████████████████████████████████████████████████████████████████████████████████████████████████████████████                                 | 14/18 [08:17<01:34, 23.52s/it]\u001b[A2025-05-30 16:00:13,168 || INFO || MedRL-CoT Setup - Successful JSON parsed!\n",
      "\n",
      "Classifying prompts:  83%|███████████████████████████████████████████████████████████████████████████████████████████████████████████████████████████▎                        | 15/18 [08:25<00:56, 18.86s/it]\u001b[A2025-05-30 16:00:25,704 || INFO || MedRL-CoT Setup - Successful JSON parsed!\n",
      "\n",
      "Classifying prompts:  89%|███████████████████████████████████████████████████████████████████████████████████████████████████████████████████████████████████▌                | 16/18 [08:37<00:33, 16.95s/it]\u001b[A2025-05-30 16:00:29,308 || INFO || MedRL-CoT Setup - Successful JSON parsed!\n",
      "\n",
      "Classifying prompts:  94%|███████████████████████████████████████████████████████████████████████████████████████████████████████████████████████████████████████████▊        | 17/18 [08:41<00:12, 12.94s/it]\u001b[A2025-05-30 16:00:32,177 || INFO || MedRL-CoT Setup - Successful JSON parsed!\n",
      "\n",
      "Classifying prompts: 100%|████████████████████████████████████████████████████████████████████████████████████████████████████████████████████████████████████████████████████| 18/18 [08:44<00:00,  9.91s/it]\u001b[A\n",
      "                                                                                                                                                                                                              \u001b[A2025-05-30 16:00:32,181 || INFO || MedRL-CoT Setup - Dumping to save\n"
     ]
    },
    {
     "data": {
      "application/vnd.jupyter.widget-view+json": {
       "model_id": "61cb7d3764cc4c98a83e0350221033b1",
       "version_major": 2,
       "version_minor": 0
      },
      "text/plain": [
       "Saving the dataset (0/1 shards):   0%|          | 0/3407 [00:00<?, ? examples/s]"
      ]
     },
     "metadata": {},
     "output_type": "display_data"
    },
    {
     "name": "stderr",
     "output_type": "stream",
     "text": [
      "Preprocessing dataset:   0%|                                                                                                                                     | 34/331793 [3:14:51<32372:41:28, 351.28s/it]2025-05-30 16:00:32,236 || INFO || MedRL-CoT Setup - Preprocessing example 34\n"
     ]
    },
    {
     "name": "stdout",
     "output_type": "stream",
     "text": [
      "10\n"
     ]
    },
    {
     "name": "stderr",
     "output_type": "stream",
     "text": [
      "\n",
      "Classifying prompts:   0%|                                                                                                                                                             | 0/10 [00:00<?, ?it/s]\u001b[A2025-05-30 16:00:57,732 || WARNING || MedRL-CoT Setup - Invalid JSON, trying conversion\n",
      "2025-05-30 16:00:57,733 || ERROR || MedRL-CoT Setup - Provided data schema not parseable/known, skipping this chunk\n",
      "\n",
      "Classifying prompts:  10%|██████████████▉                                                                                                                                      | 1/10 [00:25<03:49, 25.49s/it]\u001b[A2025-05-30 16:01:01,681 || INFO || MedRL-CoT Setup - Successful JSON parsed!\n",
      "\n",
      "Classifying prompts:  20%|█████████████████████████████▊                                                                                                                       | 2/10 [00:29<01:42, 12.82s/it]\u001b[A2025-05-30 16:01:05,853 || INFO || MedRL-CoT Setup - Successful JSON parsed!\n",
      "\n",
      "Classifying prompts:  30%|████████████████████████████████████████████▋                                                                                                        | 3/10 [00:33<01:02,  8.87s/it]\u001b[A2025-05-30 16:02:28,554 || WARNING || MedRL-CoT Setup - Invalid JSON, trying conversion\n",
      "2025-05-30 16:02:28,555 || ERROR || MedRL-CoT Setup - Provided data schema not parseable/known, skipping this chunk\n",
      "\n",
      "Classifying prompts:  40%|███████████████████████████████████████████████████████████▌                                                                                         | 4/10 [01:56<03:48, 38.02s/it]\u001b[A2025-05-30 16:02:43,474 || INFO || MedRL-CoT Setup - Successful JSON parsed!\n",
      "\n",
      "Classifying prompts:  50%|██████████████████████████████████████████████████████████████████████████▌                                                                          | 5/10 [02:11<02:28, 29.69s/it]\u001b[A2025-05-30 16:03:06,082 || WARNING || MedRL-CoT Setup - Invalid JSON, trying conversion\n",
      "2025-05-30 16:03:06,083 || ERROR || MedRL-CoT Setup - Provided data schema not parseable/known, skipping this chunk\n",
      "\n",
      "Classifying prompts:  60%|█████████████████████████████████████████████████████████████████████████████████████████▍                                                           | 6/10 [02:33<01:49, 27.28s/it]\u001b[A2025-05-30 16:03:08,489 || INFO || MedRL-CoT Setup - Successful JSON parsed!\n",
      "\n",
      "Classifying prompts:  70%|████████████████████████████████████████████████████████████████████████████████████████████████████████▎                                            | 7/10 [02:36<00:57, 19.15s/it]\u001b[A2025-05-30 16:03:22,379 || INFO || MedRL-CoT Setup - Successful JSON parsed!\n",
      "\n",
      "Classifying prompts:  80%|███████████████████████████████████████████████████████████████████████████████████████████████████████████████████████▏                             | 8/10 [02:50<00:34, 17.48s/it]\u001b[A2025-05-30 16:04:46,524 || ERROR || MedRL-CoT Setup - Nothing found, bad example!\n",
      "\n",
      "Classifying prompts:  90%|██████████████████████████████████████████████████████████████████████████████████████████████████████████████████████████████████████               | 9/10 [04:14<00:38, 38.32s/it]\u001b[A2025-05-30 16:04:54,261 || INFO || MedRL-CoT Setup - Successful JSON parsed!\n",
      "\n",
      "Classifying prompts: 100%|████████████████████████████████████████████████████████████████████████████████████████████████████████████████████████████████████████████████████| 10/10 [04:22<00:00, 28.88s/it]\u001b[A\n",
      "                                                                                                                                                                                                              \u001b[A2025-05-30 16:04:54,267 || INFO || MedRL-CoT Setup - Dumping to save\n"
     ]
    },
    {
     "data": {
      "application/vnd.jupyter.widget-view+json": {
       "model_id": "c038d92b3fcf42c692b9103887ea5ce5",
       "version_major": 2,
       "version_minor": 0
      },
      "text/plain": [
       "Saving the dataset (0/1 shards):   0%|          | 0/3429 [00:00<?, ? examples/s]"
      ]
     },
     "metadata": {},
     "output_type": "display_data"
    },
    {
     "name": "stderr",
     "output_type": "stream",
     "text": [
      "Preprocessing dataset:   0%|                                                                                                                                     | 35/331793 [3:19:13<29906:28:24, 324.52s/it]2025-05-30 16:04:54,316 || INFO || MedRL-CoT Setup - Preprocessing example 35\n"
     ]
    },
    {
     "name": "stdout",
     "output_type": "stream",
     "text": [
      "38\n"
     ]
    },
    {
     "name": "stderr",
     "output_type": "stream",
     "text": [
      "\n",
      "Classifying prompts:   0%|                                                                                                                                                             | 0/38 [00:00<?, ?it/s]\u001b[A2025-05-30 16:04:59,400 || INFO || MedRL-CoT Setup - Successful JSON parsed!\n",
      "\n",
      "Classifying prompts:   3%|███▉                                                                                                                                                 | 1/38 [00:05<03:08,  5.08s/it]\u001b[A2025-05-30 16:05:16,874 || WARNING || MedRL-CoT Setup - Invalid JSON, trying conversion\n",
      "2025-05-30 16:05:16,875 || ERROR || MedRL-CoT Setup - Provided data schema not parseable/known, skipping this chunk\n",
      "\n",
      "Classifying prompts:   5%|███████▊                                                                                                                                             | 2/38 [00:22<07:25, 12.37s/it]\u001b[A2025-05-30 16:05:18,760 || ERROR || MedRL-CoT Setup - Nothing found, bad example!\n",
      "\n",
      "Classifying prompts:   8%|███████████▊                                                                                                                                         | 3/38 [00:24<04:25,  7.58s/it]\u001b[A2025-05-30 16:05:22,737 || INFO || MedRL-CoT Setup - Successful JSON parsed!\n",
      "\n",
      "Classifying prompts:  11%|███████████████▋                                                                                                                                     | 4/38 [00:28<03:29,  6.16s/it]\u001b[A2025-05-30 16:05:36,213 || INFO || MedRL-CoT Setup - Successful JSON parsed!\n",
      "\n",
      "Classifying prompts:  13%|███████████████████▌                                                                                                                                 | 5/38 [00:41<04:50,  8.80s/it]\u001b[A2025-05-30 16:06:57,687 || ERROR || MedRL-CoT Setup - Nothing found, bad example!\n",
      "\n",
      "Classifying prompts:  16%|███████████████████████▌                                                                                                                             | 6/38 [02:03<17:52, 33.51s/it]\u001b[A2025-05-30 16:07:08,161 || INFO || MedRL-CoT Setup - Successful JSON parsed!\n",
      "\n",
      "Classifying prompts:  18%|███████████████████████████▍                                                                                                                         | 7/38 [02:13<13:25, 25.98s/it]\u001b[A2025-05-30 16:07:20,946 || ERROR || MedRL-CoT Setup - Nothing found, bad example!\n",
      "\n",
      "Classifying prompts:  21%|███████████████████████████████▎                                                                                                                     | 8/38 [02:26<10:53, 21.78s/it]\u001b[A2025-05-30 16:07:23,715 || WARNING || MedRL-CoT Setup - Invalid JSON, trying conversion\n",
      "2025-05-30 16:07:23,716 || ERROR || MedRL-CoT Setup - Provided data schema not parseable/known, skipping this chunk\n",
      "\n",
      "Classifying prompts:  24%|███████████████████████████████████▎                                                                                                                 | 9/38 [02:29<07:39, 15.84s/it]\u001b[A2025-05-30 16:07:30,150 || WARNING || MedRL-CoT Setup - Invalid JSON, trying conversion\n",
      "2025-05-30 16:07:30,151 || ERROR || MedRL-CoT Setup - Provided data schema not parseable/known, skipping this chunk\n",
      "\n",
      "Classifying prompts:  26%|██████████████████████████████████████▉                                                                                                             | 10/38 [02:35<06:02, 12.93s/it]\u001b[A2025-05-30 16:07:32,794 || WARNING || MedRL-CoT Setup - Invalid JSON, trying conversion\n",
      "2025-05-30 16:07:32,795 || ERROR || MedRL-CoT Setup - Provided data schema not parseable/known, skipping this chunk\n",
      "\n",
      "Classifying prompts:  29%|██████████████████████████████████████████▊                                                                                                         | 11/38 [02:38<04:24,  9.78s/it]\u001b[A2025-05-30 16:08:03,705 || INFO || MedRL-CoT Setup - Successful JSON parsed!\n",
      "\n",
      "Classifying prompts:  32%|██████████████████████████████████████████████▋                                                                                                     | 12/38 [03:09<07:01, 16.21s/it]\u001b[A2025-05-30 16:08:08,727 || INFO || MedRL-CoT Setup - Successful JSON parsed!\n",
      "\n",
      "Classifying prompts:  34%|██████████████████████████████████████████████████▋                                                                                                 | 13/38 [03:14<05:20, 12.82s/it]\u001b[A2025-05-30 16:08:28,007 || WARNING || MedRL-CoT Setup - Invalid JSON, trying conversion\n",
      "2025-05-30 16:08:28,008 || ERROR || MedRL-CoT Setup - Provided data schema not parseable/known, skipping this chunk\n",
      "\n",
      "Classifying prompts:  37%|██████████████████████████████████████████████████████▌                                                                                             | 14/38 [03:33<05:54, 14.77s/it]\u001b[A2025-05-30 16:08:35,519 || WARNING || MedRL-CoT Setup - Invalid JSON, trying conversion\n",
      "2025-05-30 16:08:35,521 || ERROR || MedRL-CoT Setup - Provided data schema not parseable/known, skipping this chunk\n",
      "\n",
      "Classifying prompts:  39%|██████████████████████████████████████████████████████████▍                                                                                         | 15/38 [03:41<04:49, 12.58s/it]\u001b[A2025-05-30 16:08:39,138 || INFO || MedRL-CoT Setup - Successful JSON parsed!\n",
      "\n",
      "Classifying prompts:  42%|██████████████████████████████████████████████████████████████▎                                                                                     | 16/38 [03:44<03:37,  9.89s/it]\u001b[A2025-05-30 16:09:09,473 || INFO || MedRL-CoT Setup - Successful JSON parsed!\n",
      "\n",
      "Classifying prompts:  45%|██████████████████████████████████████████████████████████████████▏                                                                                 | 17/38 [04:15<05:36, 16.03s/it]\u001b[A2025-05-30 16:09:17,129 || INFO || MedRL-CoT Setup - Successful JSON parsed!\n",
      "\n",
      "Classifying prompts:  47%|██████████████████████████████████████████████████████████████████████                                                                              | 18/38 [04:22<04:30, 13.52s/it]\u001b[A2025-05-30 16:09:20,406 || INFO || MedRL-CoT Setup - Successful JSON parsed!\n",
      "\n",
      "Classifying prompts:  50%|██████████████████████████████████████████████████████████████████████████                                                                          | 19/38 [04:26<03:18, 10.44s/it]\u001b[A2025-05-30 16:09:27,240 || WARNING || MedRL-CoT Setup - Invalid JSON, trying conversion\n",
      "2025-05-30 16:09:27,242 || ERROR || MedRL-CoT Setup - Provided data schema not parseable/known, skipping this chunk\n",
      "\n",
      "Classifying prompts:  53%|█████████████████████████████████████████████████████████████████████████████▉                                                                      | 20/38 [04:32<02:48,  9.36s/it]\u001b[A2025-05-30 16:09:31,002 || INFO || MedRL-CoT Setup - Successful JSON parsed!\n",
      "\n",
      "Classifying prompts:  55%|█████████████████████████████████████████████████████████████████████████████████▊                                                                  | 21/38 [04:36<02:10,  7.68s/it]\u001b[A2025-05-30 16:10:00,688 || INFO || MedRL-CoT Setup - Successful JSON parsed!\n",
      "\n",
      "Classifying prompts:  58%|█████████████████████████████████████████████████████████████████████████████████████▋                                                              | 22/38 [05:06<03:48, 14.28s/it]\u001b[A2025-05-30 16:10:06,362 || INFO || MedRL-CoT Setup - Successful JSON parsed!\n",
      "\n",
      "Classifying prompts:  61%|█████████████████████████████████████████████████████████████████████████████████████████▌                                                          | 23/38 [05:12<02:55, 11.70s/it]\u001b[A2025-05-30 16:11:03,274 || INFO || MedRL-CoT Setup - Successful JSON parsed!\n",
      "\n",
      "Classifying prompts:  63%|█████████████████████████████████████████████████████████████████████████████████████████████▍                                                      | 24/38 [06:08<05:53, 25.27s/it]\u001b[A2025-05-30 16:11:37,707 || INFO || MedRL-CoT Setup - Successful JSON parsed!\n",
      "\n",
      "Classifying prompts:  66%|█████████████████████████████████████████████████████████████████████████████████████████████████▎                                                  | 25/38 [06:43<06:04, 28.02s/it]\u001b[A2025-05-30 16:11:47,265 || INFO || MedRL-CoT Setup - Successful JSON parsed!\n",
      "\n",
      "Classifying prompts:  68%|█████████████████████████████████████████████████████████████████████████████████████████████████████▎                                              | 26/38 [06:52<04:29, 22.48s/it]\u001b[A2025-05-30 16:11:54,383 || INFO || MedRL-CoT Setup - Successful JSON parsed!\n",
      "\n",
      "Classifying prompts:  71%|█████████████████████████████████████████████████████████████████████████████████████████████████████████▏                                          | 27/38 [07:00<03:16, 17.87s/it]\u001b[A2025-05-30 16:11:56,662 || INFO || MedRL-CoT Setup - Successful JSON parsed!\n",
      "\n",
      "Classifying prompts:  74%|█████████████████████████████████████████████████████████████████████████████████████████████████████████████                                       | 28/38 [07:02<02:11, 13.19s/it]\u001b[A2025-05-30 16:12:00,435 || INFO || MedRL-CoT Setup - Successful JSON parsed!\n",
      "\n",
      "Classifying prompts:  76%|████████████████████████████████████████████████████████████████████████████████████████████████████████████████▉                                   | 29/38 [07:06<01:33, 10.37s/it]\u001b[A2025-05-30 16:12:04,246 || INFO || MedRL-CoT Setup - Successful JSON parsed!\n",
      "\n",
      "Classifying prompts:  79%|████████████████████████████████████████████████████████████████████████████████████████████████████████████████████▊                               | 30/38 [07:09<01:07,  8.40s/it]\u001b[A2025-05-30 16:12:08,929 || INFO || MedRL-CoT Setup - Successful JSON parsed!\n",
      "\n",
      "Classifying prompts:  82%|████████████████████████████████████████████████████████████████████████████████████████████████████████████████████████▋                           | 31/38 [07:14<00:50,  7.28s/it]\u001b[A2025-05-30 16:12:13,730 || INFO || MedRL-CoT Setup - Successful JSON parsed!\n",
      "\n",
      "Classifying prompts:  84%|████████████████████████████████████████████████████████████████████████████████████████████████████████████████████████████▋                       | 32/38 [07:19<00:39,  6.54s/it]\u001b[A2025-05-30 16:12:20,138 || WARNING || MedRL-CoT Setup - Invalid JSON, trying conversion\n",
      "2025-05-30 16:12:20,139 || ERROR || MedRL-CoT Setup - Provided data schema not parseable/known, skipping this chunk\n",
      "\n",
      "Classifying prompts:  87%|████████████████████████████████████████████████████████████████████████████████████████████████████████████████████████████████▌                   | 33/38 [07:25<00:32,  6.50s/it]\u001b[A2025-05-30 16:12:23,612 || INFO || MedRL-CoT Setup - Successful JSON parsed!\n",
      "\n",
      "Classifying prompts:  89%|████████████████████████████████████████████████████████████████████████████████████████████████████████████████████████████████████▍               | 34/38 [07:29<00:22,  5.59s/it]\u001b[A2025-05-30 16:12:27,507 || ERROR || MedRL-CoT Setup - Nothing found, bad example!\n",
      "\n",
      "Classifying prompts:  92%|████████████████████████████████████████████████████████████████████████████████████████████████████████████████████████████████████████▎           | 35/38 [07:33<00:15,  5.08s/it]\u001b[A2025-05-30 16:12:35,690 || INFO || MedRL-CoT Setup - Successful JSON parsed!\n",
      "\n",
      "Classifying prompts:  95%|████████████████████████████████████████████████████████████████████████████████████████████████████████████████████████████████████████████▏       | 36/38 [07:41<00:12,  6.01s/it]\u001b[A2025-05-30 16:12:44,096 || INFO || MedRL-CoT Setup - Successful JSON parsed!\n",
      "\n",
      "Classifying prompts:  97%|████████████████████████████████████████████████████████████████████████████████████████████████████████████████████████████████████████████████    | 37/38 [07:49<00:06,  6.73s/it]\u001b[A2025-05-30 16:12:52,280 || INFO || MedRL-CoT Setup - Successful JSON parsed!\n",
      "\n",
      "Classifying prompts: 100%|████████████████████████████████████████████████████████████████████████████████████████████████████████████████████████████████████████████████████| 38/38 [07:57<00:00,  7.17s/it]\u001b[A\n",
      "                                                                                                                                                                                                              \u001b[A2025-05-30 16:12:52,285 || INFO || MedRL-CoT Setup - Dumping to save\n"
     ]
    },
    {
     "data": {
      "application/vnd.jupyter.widget-view+json": {
       "model_id": "15a6d777fb6c4c6ebb1dbbddf96eb2b1",
       "version_major": 2,
       "version_minor": 0
      },
      "text/plain": [
       "Saving the dataset (0/1 shards):   0%|          | 0/3552 [00:00<?, ? examples/s]"
      ]
     },
     "metadata": {},
     "output_type": "display_data"
    },
    {
     "name": "stderr",
     "output_type": "stream",
     "text": [
      "Preprocessing dataset:   0%|                                                                                                                                     | 36/331793 [3:27:11<34150:02:18, 370.57s/it]2025-05-30 16:12:52,339 || INFO || MedRL-CoT Setup - Preprocessing example 36\n"
     ]
    },
    {
     "name": "stdout",
     "output_type": "stream",
     "text": [
      "40\n"
     ]
    },
    {
     "name": "stderr",
     "output_type": "stream",
     "text": [
      "\n",
      "Classifying prompts:   0%|                                                                                                                                                             | 0/40 [00:00<?, ?it/s]\u001b[A2025-05-30 16:13:09,128 || INFO || MedRL-CoT Setup - Successful JSON parsed!\n",
      "\n",
      "Classifying prompts:   2%|███▋                                                                                                                                                 | 1/40 [00:16<10:54, 16.79s/it]\u001b[A2025-05-30 16:13:11,676 || INFO || MedRL-CoT Setup - Successful JSON parsed!\n",
      "\n",
      "Classifying prompts:   5%|███████▍                                                                                                                                             | 2/40 [00:19<05:19,  8.41s/it]\u001b[A2025-05-30 16:13:46,150 || INFO || MedRL-CoT Setup - Successful JSON parsed!\n",
      "\n",
      "Classifying prompts:   8%|███████████▏                                                                                                                                         | 3/40 [00:53<12:31, 20.31s/it]\u001b[A2025-05-30 16:14:08,351 || INFO || MedRL-CoT Setup - Successful JSON parsed!\n",
      "\n",
      "Classifying prompts:  10%|██████████████▉                                                                                                                                      | 4/40 [01:16<12:38, 21.06s/it]\u001b[A2025-05-30 16:14:13,555 || INFO || MedRL-CoT Setup - Successful JSON parsed!\n",
      "\n",
      "Classifying prompts:  12%|██████████████████▋                                                                                                                                  | 5/40 [01:21<08:56, 15.34s/it]\u001b[A2025-05-30 16:14:23,089 || INFO || MedRL-CoT Setup - Successful JSON parsed!\n",
      "\n",
      "Classifying prompts:  15%|██████████████████████▎                                                                                                                              | 6/40 [01:30<07:34, 13.37s/it]\u001b[A2025-05-30 16:14:31,346 || INFO || MedRL-CoT Setup - Successful JSON parsed!\n",
      "\n",
      "Classifying prompts:  18%|██████████████████████████                                                                                                                           | 7/40 [01:39<06:25, 11.70s/it]\u001b[A2025-05-30 16:14:55,968 || INFO || MedRL-CoT Setup - Successful JSON parsed!\n",
      "\n",
      "Classifying prompts:  20%|█████████████████████████████▊                                                                                                                       | 8/40 [02:03<08:25, 15.81s/it]\u001b[A2025-05-30 16:14:58,941 || INFO || MedRL-CoT Setup - Successful JSON parsed!\n",
      "\n",
      "Classifying prompts:  22%|█████████████████████████████████▌                                                                                                                   | 9/40 [02:06<06:05, 11.80s/it]\u001b[A2025-05-30 16:15:08,375 || INFO || MedRL-CoT Setup - Successful JSON parsed!\n",
      "\n",
      "Classifying prompts:  25%|█████████████████████████████████████                                                                                                               | 10/40 [02:16<05:32, 11.07s/it]\u001b[A2025-05-30 16:15:25,843 || INFO || MedRL-CoT Setup - Successful JSON parsed!\n",
      "\n",
      "Classifying prompts:  28%|████████████████████████████████████████▋                                                                                                           | 11/40 [02:33<06:17, 13.03s/it]\u001b[A2025-05-30 16:15:27,804 || ERROR || MedRL-CoT Setup - Nothing found, bad example!\n",
      "\n",
      "Classifying prompts:  30%|████████████████████████████████████████████▍                                                                                                       | 12/40 [02:35<04:30,  9.66s/it]\u001b[A2025-05-30 16:15:32,028 || INFO || MedRL-CoT Setup - Successful JSON parsed!\n",
      "\n",
      "Classifying prompts:  32%|████████████████████████████████████████████████                                                                                                    | 13/40 [02:39<03:36,  8.01s/it]\u001b[A2025-05-30 16:16:04,910 || INFO || MedRL-CoT Setup - Successful JSON parsed!\n",
      "\n",
      "Classifying prompts:  35%|███████████████████████████████████████████████████▊                                                                                                | 14/40 [03:12<06:43, 15.52s/it]\u001b[A2025-05-30 16:16:26,388 || INFO || MedRL-CoT Setup - Successful JSON parsed!\n",
      "\n",
      "Classifying prompts:  38%|███████████████████████████████████████████████████████▌                                                                                            | 15/40 [03:34<07:12, 17.32s/it]\u001b[A2025-05-30 16:16:54,273 || INFO || MedRL-CoT Setup - Successful JSON parsed!\n",
      "\n",
      "Classifying prompts:  40%|███████████████████████████████████████████████████████████▏                                                                                        | 16/40 [04:01<08:11, 20.50s/it]\u001b[A2025-05-30 16:17:20,271 || INFO || MedRL-CoT Setup - Successful JSON parsed!\n",
      "\n",
      "Classifying prompts:  42%|██████████████████████████████████████████████████████████████▉                                                                                     | 17/40 [04:27<08:29, 22.15s/it]\u001b[A2025-05-30 16:17:26,321 || WARNING || MedRL-CoT Setup - Invalid JSON, trying conversion\n",
      "2025-05-30 16:17:26,322 || ERROR || MedRL-CoT Setup - Provided data schema not parseable/known, skipping this chunk\n",
      "\n",
      "Classifying prompts:  45%|██████████████████████████████████████████████████████████████████▌                                                                                 | 18/40 [04:33<06:20, 17.31s/it]\u001b[A2025-05-30 16:17:56,137 || INFO || MedRL-CoT Setup - Successful JSON parsed!\n",
      "\n",
      "Classifying prompts:  48%|██████████████████████████████████████████████████████████████████████▎                                                                             | 19/40 [05:03<07:22, 21.07s/it]\u001b[A2025-05-30 16:18:09,306 || WARNING || MedRL-CoT Setup - Invalid JSON, trying conversion\n",
      "2025-05-30 16:18:09,307 || ERROR || MedRL-CoT Setup - Provided data schema not parseable/known, skipping this chunk\n",
      "\n",
      "Classifying prompts:  50%|██████████████████████████████████████████████████████████████████████████                                                                          | 20/40 [05:16<06:13, 18.70s/it]\u001b[A2025-05-30 16:18:21,190 || WARNING || MedRL-CoT Setup - Invalid JSON, trying conversion\n",
      "2025-05-30 16:18:21,192 || ERROR || MedRL-CoT Setup - Provided data schema not parseable/known, skipping this chunk\n",
      "\n",
      "Classifying prompts:  52%|█████████████████████████████████████████████████████████████████████████████▋                                                                      | 21/40 [05:28<05:16, 16.65s/it]\u001b[A2025-05-30 16:18:24,986 || INFO || MedRL-CoT Setup - Successful JSON parsed!\n",
      "\n",
      "Classifying prompts:  55%|█████████████████████████████████████████████████████████████████████████████████▍                                                                  | 22/40 [05:32<03:50, 12.79s/it]\u001b[A2025-05-30 16:18:42,747 || INFO || MedRL-CoT Setup - Successful JSON parsed!\n",
      "\n",
      "Classifying prompts:  57%|█████████████████████████████████████████████████████████████████████████████████████                                                               | 23/40 [05:50<04:02, 14.28s/it]\u001b[A2025-05-30 16:18:54,413 || INFO || MedRL-CoT Setup - Successful JSON parsed!\n",
      "\n",
      "Classifying prompts:  60%|████████████████████████████████████████████████████████████████████████████████████████▊                                                           | 24/40 [06:02<03:35, 13.50s/it]\u001b[A2025-05-30 16:19:13,112 || INFO || MedRL-CoT Setup - Successful JSON parsed!\n",
      "\n",
      "Classifying prompts:  62%|████████████████████████████████████████████████████████████████████████████████████████████▌                                                       | 25/40 [06:20<03:45, 15.06s/it]\u001b[A2025-05-30 16:19:21,618 || INFO || MedRL-CoT Setup - Successful JSON parsed!\n",
      "\n",
      "Classifying prompts:  65%|████████████████████████████████████████████████████████████████████████████████████████████████▏                                                   | 26/40 [06:29<03:03, 13.09s/it]\u001b[A2025-05-30 16:19:30,068 || WARNING || MedRL-CoT Setup - Invalid JSON, trying conversion\n",
      "2025-05-30 16:19:30,069 || ERROR || MedRL-CoT Setup - Provided data schema not parseable/known, skipping this chunk\n",
      "\n",
      "Classifying prompts:  68%|███████████████████████████████████████████████████████████████████████████████████████████████████▉                                                | 27/40 [06:37<02:32, 11.70s/it]\u001b[A2025-05-30 16:19:47,232 || INFO || MedRL-CoT Setup - Successful JSON parsed!\n",
      "\n",
      "Classifying prompts:  70%|███████████████████████████████████████████████████████████████████████████████████████████████████████▌                                            | 28/40 [06:54<02:40, 13.34s/it]\u001b[A2025-05-30 16:19:57,766 || INFO || MedRL-CoT Setup - Successful JSON parsed!\n",
      "\n",
      "Classifying prompts:  72%|███████████████████████████████████████████████████████████████████████████████████████████████████████████▎                                        | 29/40 [07:05<02:17, 12.50s/it]\u001b[A2025-05-30 16:20:09,225 || INFO || MedRL-CoT Setup - Successful JSON parsed!\n",
      "\n",
      "Classifying prompts:  75%|███████████████████████████████████████████████████████████████████████████████████████████████████████████████                                     | 30/40 [07:16<02:01, 12.19s/it]\u001b[A2025-05-30 16:20:20,281 || INFO || MedRL-CoT Setup - Successful JSON parsed!\n",
      "\n",
      "Classifying prompts:  78%|██████████████████████████████████████████████████████████████████████████████████████████████████████████████████▋                                 | 31/40 [07:27<01:46, 11.85s/it]\u001b[A2025-05-30 16:20:25,147 || INFO || MedRL-CoT Setup - Successful JSON parsed!\n",
      "\n",
      "Classifying prompts:  80%|██████████████████████████████████████████████████████████████████████████████████████████████████████████████████████▍                             | 32/40 [07:32<01:18,  9.75s/it]\u001b[A2025-05-30 16:20:37,981 || INFO || MedRL-CoT Setup - Successful JSON parsed!\n",
      "\n",
      "Classifying prompts:  82%|██████████████████████████████████████████████████████████████████████████████████████████████████████████████████████████                          | 33/40 [07:45<01:14, 10.68s/it]\u001b[A2025-05-30 16:20:41,444 || INFO || MedRL-CoT Setup - Successful JSON parsed!\n",
      "\n",
      "Classifying prompts:  85%|█████████████████████████████████████████████████████████████████████████████████████████████████████████████████████████████▊                      | 34/40 [07:49<00:51,  8.51s/it]\u001b[A2025-05-30 16:20:53,829 || INFO || MedRL-CoT Setup - Successful JSON parsed!\n",
      "\n",
      "Classifying prompts:  88%|█████████████████████████████████████████████████████████████████████████████████████████████████████████████████████████████████▌                  | 35/40 [08:01<00:48,  9.67s/it]\u001b[A2025-05-30 16:21:12,806 || INFO || MedRL-CoT Setup - Successful JSON parsed!\n",
      "\n",
      "Classifying prompts:  90%|█████████████████████████████████████████████████████████████████████████████████████████████████████████████████████████████████████▏              | 36/40 [08:20<00:49, 12.47s/it]\u001b[A2025-05-30 16:21:17,090 || WARNING || MedRL-CoT Setup - Invalid JSON, trying conversion\n",
      "2025-05-30 16:21:17,092 || ERROR || MedRL-CoT Setup - Provided data schema not parseable/known, skipping this chunk\n",
      "\n",
      "Classifying prompts:  92%|████████████████████████████████████████████████████████████████████████████████████████████████████████████████████████████████████████▉           | 37/40 [08:24<00:30, 10.01s/it]\u001b[A2025-05-30 16:21:51,426 || INFO || MedRL-CoT Setup - Successful JSON parsed!\n",
      "\n",
      "Classifying prompts:  95%|████████████████████████████████████████████████████████████████████████████████████████████████████████████████████████████████████████████▌       | 38/40 [08:59<00:34, 17.31s/it]\u001b[A2025-05-30 16:22:00,066 || INFO || MedRL-CoT Setup - Successful JSON parsed!\n",
      "\n",
      "Classifying prompts:  98%|████████████████████████████████████████████████████████████████████████████████████████████████████████████████████████████████████████████████▎   | 39/40 [09:07<00:14, 14.71s/it]\u001b[A2025-05-30 16:22:10,958 || INFO || MedRL-CoT Setup - Successful JSON parsed!\n",
      "\n",
      "Classifying prompts: 100%|████████████████████████████████████████████████████████████████████████████████████████████████████████████████████████████████████████████████████| 40/40 [09:18<00:00, 13.56s/it]\u001b[A\n",
      "                                                                                                                                                                                                              \u001b[A2025-05-30 16:22:10,965 || INFO || MedRL-CoT Setup - Dumping to save\n"
     ]
    },
    {
     "data": {
      "application/vnd.jupyter.widget-view+json": {
       "model_id": "f50984a31a624191b7fb080ceba3aa73",
       "version_major": 2,
       "version_minor": 0
      },
      "text/plain": [
       "Saving the dataset (0/1 shards):   0%|          | 0/3755 [00:00<?, ? examples/s]"
      ]
     },
     "metadata": {},
     "output_type": "display_data"
    },
    {
     "name": "stderr",
     "output_type": "stream",
     "text": [
      "Preprocessing dataset:   0%|                                                                                                                                     | 37/331793 [3:36:30<39350:11:25, 427.00s/it]2025-05-30 16:22:11,014 || INFO || MedRL-CoT Setup - Preprocessing example 37\n"
     ]
    },
    {
     "name": "stdout",
     "output_type": "stream",
     "text": [
      "32\n"
     ]
    },
    {
     "name": "stderr",
     "output_type": "stream",
     "text": [
      "\n",
      "Classifying prompts:   0%|                                                                                                                                                             | 0/32 [00:00<?, ?it/s]\u001b[A2025-05-30 16:22:19,031 || INFO || MedRL-CoT Setup - Successful JSON parsed!\n",
      "\n",
      "Classifying prompts:   3%|████▋                                                                                                                                                | 1/32 [00:08<04:08,  8.01s/it]\u001b[A2025-05-30 16:22:20,759 || WARNING || MedRL-CoT Setup - Invalid JSON, trying conversion\n",
      "2025-05-30 16:22:20,760 || ERROR || MedRL-CoT Setup - Provided data schema not parseable/known, skipping this chunk\n",
      "\n",
      "Classifying prompts:   6%|█████████▎                                                                                                                                           | 2/32 [00:09<02:09,  4.32s/it]\u001b[A2025-05-30 16:22:55,198 || INFO || MedRL-CoT Setup - Successful JSON parsed!\n",
      "\n",
      "Classifying prompts:   9%|█████████████▉                                                                                                                                       | 3/32 [00:44<08:44, 18.07s/it]\u001b[A2025-05-30 16:23:19,996 || INFO || MedRL-CoT Setup - Successful JSON parsed!\n",
      "\n",
      "Classifying prompts:  12%|██████████████████▋                                                                                                                                  | 4/32 [01:08<09:40, 20.73s/it]\u001b[A2025-05-30 16:23:24,231 || INFO || MedRL-CoT Setup - Successful JSON parsed!\n",
      "\n",
      "Classifying prompts:  16%|███████████████████████▎                                                                                                                             | 5/32 [01:13<06:39, 14.78s/it]\u001b[A2025-05-30 16:23:53,061 || INFO || MedRL-CoT Setup - Successful JSON parsed!\n",
      "\n",
      "Classifying prompts:  19%|███████████████████████████▉                                                                                                                         | 6/32 [01:42<08:28, 19.56s/it]\u001b[A2025-05-30 16:25:16,367 || WARNING || MedRL-CoT Setup - Invalid JSON, trying conversion\n",
      "2025-05-30 16:25:16,369 || ERROR || MedRL-CoT Setup - Provided data schema not parseable/known, skipping this chunk\n",
      "\n",
      "Classifying prompts:  22%|████████████████████████████████▌                                                                                                                    | 7/32 [03:05<16:49, 40.40s/it]\u001b[A2025-05-30 16:25:56,081 || ERROR || MedRL-CoT Setup - Nothing found, bad example!\n",
      "\n",
      "Classifying prompts:  25%|█████████████████████████████████████▎                                                                                                               | 8/32 [03:45<16:04, 40.18s/it]\u001b[A2025-05-30 16:25:58,658 || INFO || MedRL-CoT Setup - Successful JSON parsed!\n",
      "\n",
      "Classifying prompts:  28%|█████████████████████████████████████████▉                                                                                                           | 9/32 [03:47<10:53, 28.42s/it]\u001b[A2025-05-30 16:26:09,747 || INFO || MedRL-CoT Setup - Successful JSON parsed!\n",
      "\n",
      "Classifying prompts:  31%|██████████████████████████████████████████████▎                                                                                                     | 10/32 [03:58<08:27, 23.07s/it]\u001b[A2025-05-30 16:26:52,161 || WARNING || MedRL-CoT Setup - Invalid JSON, trying conversion\n",
      "2025-05-30 16:26:52,162 || ERROR || MedRL-CoT Setup - Provided data schema not parseable/known, skipping this chunk\n",
      "\n",
      "Classifying prompts:  34%|██████████████████████████████████████████████████▉                                                                                                 | 11/32 [04:41<10:08, 28.99s/it]\u001b[A2025-05-30 16:27:11,263 || WARNING || MedRL-CoT Setup - Invalid JSON, trying conversion\n",
      "2025-05-30 16:27:11,264 || ERROR || MedRL-CoT Setup - Provided data schema not parseable/known, skipping this chunk\n",
      "\n",
      "Classifying prompts:  38%|███████████████████████████████████████████████████████▌                                                                                            | 12/32 [05:00<08:39, 25.98s/it]\u001b[A2025-05-30 16:28:09,726 || INFO || MedRL-CoT Setup - Successful JSON parsed!\n",
      "\n",
      "Classifying prompts:  41%|████████████████████████████████████████████████████████████▏                                                                                       | 13/32 [05:58<11:20, 35.82s/it]\u001b[A2025-05-30 16:28:18,123 || INFO || MedRL-CoT Setup - Successful JSON parsed!\n",
      "\n",
      "Classifying prompts:  44%|████████████████████████████████████████████████████████████████▊                                                                                   | 14/32 [06:07<08:15, 27.54s/it]\u001b[A2025-05-30 16:28:25,462 || WARNING || MedRL-CoT Setup - Invalid JSON, trying conversion\n",
      "2025-05-30 16:28:25,463 || ERROR || MedRL-CoT Setup - Provided data schema not parseable/known, skipping this chunk\n",
      "\n",
      "Classifying prompts:  47%|█████████████████████████████████████████████████████████████████████▍                                                                              | 15/32 [06:14<06:04, 21.45s/it]\u001b[A2025-05-30 16:28:39,439 || WARNING || MedRL-CoT Setup - Invalid JSON, trying conversion\n",
      "2025-05-30 16:28:39,441 || ERROR || MedRL-CoT Setup - Provided data schema not parseable/known, skipping this chunk\n",
      "\n",
      "Classifying prompts:  50%|██████████████████████████████████████████████████████████████████████████                                                                          | 16/32 [06:28<05:07, 19.20s/it]\u001b[A2025-05-30 16:28:50,456 || WARNING || MedRL-CoT Setup - Invalid JSON, trying conversion\n",
      "2025-05-30 16:28:50,458 || ERROR || MedRL-CoT Setup - Provided data schema not parseable/known, skipping this chunk\n",
      "\n",
      "Classifying prompts:  53%|██████████████████████████████████████████████████████████████████████████████▋                                                                     | 17/32 [06:39<04:11, 16.74s/it]\u001b[A2025-05-30 16:28:54,005 || INFO || MedRL-CoT Setup - Successful JSON parsed!\n",
      "\n",
      "Classifying prompts:  56%|███████████████████████████████████████████████████████████████████████████████████▎                                                                | 18/32 [06:42<02:58, 12.78s/it]\u001b[A2025-05-30 16:29:19,662 || INFO || MedRL-CoT Setup - Successful JSON parsed!\n",
      "\n",
      "Classifying prompts:  59%|███████████████████████████████████████████████████████████████████████████████████████▉                                                            | 19/32 [07:08<03:36, 16.64s/it]\u001b[A2025-05-30 16:29:29,613 || INFO || MedRL-CoT Setup - Successful JSON parsed!\n",
      "\n",
      "Classifying prompts:  62%|████████████████████████████████████████████████████████████████████████████████████████████▌                                                       | 20/32 [07:18<02:55, 14.63s/it]\u001b[A2025-05-30 16:29:39,947 || INFO || MedRL-CoT Setup - Successful JSON parsed!\n",
      "\n",
      "Classifying prompts:  66%|█████████████████████████████████████████████████████████████████████████████████████████████████▏                                                  | 21/32 [07:28<02:26, 13.34s/it]\u001b[A2025-05-30 16:29:55,417 || INFO || MedRL-CoT Setup - Successful JSON parsed!\n",
      "\n",
      "Classifying prompts:  69%|█████████████████████████████████████████████████████████████████████████████████████████████████████▊                                              | 22/32 [07:44<02:19, 13.98s/it]\u001b[A2025-05-30 16:31:09,572 || WARNING || MedRL-CoT Setup - Invalid JSON, trying conversion\n",
      "2025-05-30 16:31:09,574 || ERROR || MedRL-CoT Setup - Provided data schema not parseable/known, skipping this chunk\n",
      "\n",
      "Classifying prompts:  72%|██████████████████████████████████████████████████████████████████████████████████████████████████████████▍                                         | 23/32 [08:58<04:48, 32.04s/it]\u001b[A2025-05-30 16:31:31,294 || WARNING || MedRL-CoT Setup - Invalid JSON, trying conversion\n",
      "2025-05-30 16:31:31,295 || ERROR || MedRL-CoT Setup - Provided data schema not parseable/known, skipping this chunk\n",
      "\n",
      "Classifying prompts:  75%|███████████████████████████████████████████████████████████████████████████████████████████████████████████████                                     | 24/32 [09:20<03:51, 28.94s/it]\u001b[A2025-05-30 16:31:39,692 || INFO || MedRL-CoT Setup - Successful JSON parsed!\n",
      "\n",
      "Classifying prompts:  78%|███████████████████████████████████████████████████████████████████████████████████████████████████████████████████▋                                | 25/32 [09:28<02:39, 22.78s/it]\u001b[A2025-05-30 16:31:47,210 || INFO || MedRL-CoT Setup - Successful JSON parsed!\n",
      "\n",
      "Classifying prompts:  81%|████████████████████████████████████████████████████████████████████████████████████████████████████████████████████████▎                           | 26/32 [09:36<01:49, 18.20s/it]\u001b[A2025-05-30 16:31:54,822 || INFO || MedRL-CoT Setup - Successful JSON parsed!\n",
      "\n",
      "Classifying prompts:  84%|████████████████████████████████████████████████████████████████████████████████████████████████████████████████████████████▉                       | 27/32 [09:43<01:15, 15.02s/it]\u001b[A2025-05-30 16:32:17,555 || INFO || MedRL-CoT Setup - Successful JSON parsed!\n",
      "\n",
      "Classifying prompts:  88%|█████████████████████████████████████████████████████████████████████████████████████████████████████████████████████████████████▌                  | 28/32 [10:06<01:09, 17.34s/it]\u001b[A2025-05-30 16:32:19,865 || WARNING || MedRL-CoT Setup - Invalid JSON, trying conversion\n",
      "2025-05-30 16:32:19,866 || ERROR || MedRL-CoT Setup - Provided data schema not parseable/known, skipping this chunk\n",
      "\n",
      "Classifying prompts:  91%|██████████████████████████████████████████████████████████████████████████████████████████████████████████████████████████████████████▏             | 29/32 [10:08<00:38, 12.83s/it]\u001b[A2025-05-30 16:32:31,008 || INFO || MedRL-CoT Setup - Successful JSON parsed!\n",
      "\n",
      "Classifying prompts:  94%|██████████████████████████████████████████████████████████████████████████████████████████████████████████████████████████████████████████▊         | 30/32 [10:19<00:24, 12.32s/it]\u001b[A2025-05-30 16:32:45,728 || INFO || MedRL-CoT Setup - Successful JSON parsed!\n",
      "\n",
      "Classifying prompts:  97%|███████████████████████████████████████████████████████████████████████████████████████████████████████████████████████████████████████████████▍    | 31/32 [10:34<00:13, 13.04s/it]\u001b[A2025-05-30 16:32:49,052 || INFO || MedRL-CoT Setup - Successful JSON parsed!\n",
      "\n",
      "Classifying prompts: 100%|████████████████████████████████████████████████████████████████████████████████████████████████████████████████████████████████████████████████████| 32/32 [10:38<00:00, 10.13s/it]\u001b[A\n",
      "                                                                                                                                                                                                              \u001b[A2025-05-30 16:32:49,056 || INFO || MedRL-CoT Setup - Dumping to save\n"
     ]
    },
    {
     "data": {
      "application/vnd.jupyter.widget-view+json": {
       "model_id": "32e622efb07a4ec487dd4dd0699076dc",
       "version_major": 2,
       "version_minor": 0
      },
      "text/plain": [
       "Saving the dataset (0/1 shards):   0%|          | 0/3870 [00:00<?, ? examples/s]"
      ]
     },
     "metadata": {},
     "output_type": "display_data"
    },
    {
     "name": "stderr",
     "output_type": "stream",
     "text": [
      "Preprocessing dataset:   0%|                                                                                                                                     | 38/331793 [3:47:08<45185:57:41, 490.33s/it]2025-05-30 16:32:49,110 || INFO || MedRL-CoT Setup - Preprocessing example 38\n"
     ]
    },
    {
     "name": "stdout",
     "output_type": "stream",
     "text": [
      "38\n"
     ]
    },
    {
     "name": "stderr",
     "output_type": "stream",
     "text": [
      "\n",
      "Classifying prompts:   0%|                                                                                                                                                             | 0/38 [00:00<?, ?it/s]\u001b[A2025-05-30 16:33:03,794 || INFO || MedRL-CoT Setup - Successful JSON parsed!\n",
      "\n",
      "Classifying prompts:   3%|███▉                                                                                                                                                 | 1/38 [00:14<09:03, 14.68s/it]\u001b[A2025-05-30 16:33:20,939 || INFO || MedRL-CoT Setup - Successful JSON parsed!\n",
      "\n",
      "Classifying prompts:   5%|███████▊                                                                                                                                             | 2/38 [00:31<09:40, 16.13s/it]\u001b[A2025-05-30 16:33:33,757 || ERROR || MedRL-CoT Setup - Nothing found, bad example!\n",
      "\n",
      "Classifying prompts:   8%|███████████▊                                                                                                                                         | 3/38 [00:44<08:31, 14.62s/it]\u001b[A2025-05-30 16:33:36,095 || ERROR || MedRL-CoT Setup - Nothing found, bad example!\n",
      "\n",
      "Classifying prompts:  11%|███████████████▋                                                                                                                                     | 4/38 [00:46<05:32,  9.77s/it]\u001b[A2025-05-30 16:33:47,591 || WARNING || MedRL-CoT Setup - Invalid JSON, trying conversion\n",
      "2025-05-30 16:33:47,593 || ERROR || MedRL-CoT Setup - Provided data schema not parseable/known, skipping this chunk\n",
      "\n",
      "Classifying prompts:  13%|███████████████████▌                                                                                                                                 | 5/38 [00:58<05:42, 10.39s/it]\u001b[A2025-05-30 16:33:51,679 || INFO || MedRL-CoT Setup - Successful JSON parsed!\n",
      "\n",
      "Classifying prompts:  16%|███████████████████████▌                                                                                                                             | 6/38 [01:02<04:23,  8.25s/it]\u001b[A2025-05-30 16:33:58,348 || WARNING || MedRL-CoT Setup - Invalid JSON, trying conversion\n",
      "2025-05-30 16:33:58,349 || ERROR || MedRL-CoT Setup - Provided data schema not parseable/known, skipping this chunk\n",
      "\n",
      "Classifying prompts:  18%|███████████████████████████▍                                                                                                                         | 7/38 [01:09<03:59,  7.73s/it]\u001b[A2025-05-30 16:34:11,913 || WARNING || MedRL-CoT Setup - Invalid JSON, trying conversion\n",
      "2025-05-30 16:34:11,914 || ERROR || MedRL-CoT Setup - Provided data schema not parseable/known, skipping this chunk\n",
      "\n",
      "Classifying prompts:  21%|███████████████████████████████▎                                                                                                                     | 8/38 [01:22<04:47,  9.59s/it]\u001b[A2025-05-30 16:34:34,741 || INFO || MedRL-CoT Setup - Successful JSON parsed!\n",
      "\n",
      "Classifying prompts:  24%|███████████████████████████████████▎                                                                                                                 | 9/38 [01:45<06:38, 13.73s/it]\u001b[A2025-05-30 16:34:38,675 || INFO || MedRL-CoT Setup - Successful JSON parsed!\n",
      "\n",
      "Classifying prompts:  26%|██████████████████████████████████████▉                                                                                                             | 10/38 [01:49<04:59, 10.70s/it]\u001b[A2025-05-30 16:35:07,142 || INFO || MedRL-CoT Setup - Successful JSON parsed!\n",
      "\n",
      "Classifying prompts:  29%|██████████████████████████████████████████▊                                                                                                         | 11/38 [02:18<07:15, 16.14s/it]\u001b[A2025-05-30 16:35:25,118 || WARNING || MedRL-CoT Setup - Invalid JSON, trying conversion\n",
      "2025-05-30 16:35:25,120 || ERROR || MedRL-CoT Setup - Provided data schema not parseable/known, skipping this chunk\n",
      "\n",
      "Classifying prompts:  32%|██████████████████████████████████████████████▋                                                                                                     | 12/38 [02:36<07:14, 16.70s/it]\u001b[A2025-05-30 16:35:58,871 || INFO || MedRL-CoT Setup - Successful JSON parsed!\n",
      "\n",
      "Classifying prompts:  34%|██████████████████████████████████████████████████▋                                                                                                 | 13/38 [03:09<09:06, 21.86s/it]\u001b[A2025-05-30 16:36:01,685 || INFO || MedRL-CoT Setup - Successful JSON parsed!\n",
      "\n",
      "Classifying prompts:  37%|██████████████████████████████████████████████████████▌                                                                                             | 14/38 [03:12<06:26, 16.11s/it]\u001b[A2025-05-30 16:36:13,224 || WARNING || MedRL-CoT Setup - Invalid JSON, trying conversion\n",
      "2025-05-30 16:36:13,226 || ERROR || MedRL-CoT Setup - Provided data schema not parseable/known, skipping this chunk\n",
      "\n",
      "Classifying prompts:  39%|██████████████████████████████████████████████████████████▍                                                                                         | 15/38 [03:24<05:38, 14.73s/it]\u001b[A2025-05-30 16:36:28,570 || INFO || MedRL-CoT Setup - Successful JSON parsed!\n",
      "\n",
      "Classifying prompts:  42%|██████████████████████████████████████████████████████████████▎                                                                                     | 16/38 [03:39<05:28, 14.92s/it]\u001b[A2025-05-30 16:36:49,755 || ERROR || MedRL-CoT Setup - Nothing found, bad example!\n",
      "\n",
      "Classifying prompts:  45%|██████████████████████████████████████████████████████████████████▏                                                                                 | 17/38 [04:00<05:52, 16.80s/it]\u001b[A2025-05-30 16:37:18,931 || INFO || MedRL-CoT Setup - Successful JSON parsed!\n",
      "\n",
      "Classifying prompts:  47%|██████████████████████████████████████████████████████████████████████                                                                              | 18/38 [04:29<06:50, 20.52s/it]\u001b[A2025-05-30 16:37:48,288 || INFO || MedRL-CoT Setup - Successful JSON parsed!\n",
      "\n",
      "Classifying prompts:  50%|██████████████████████████████████████████████████████████████████████████                                                                          | 19/38 [04:59<07:20, 23.17s/it]\u001b[A2025-05-30 16:37:50,780 || ERROR || MedRL-CoT Setup - Nothing found, bad example!\n",
      "\n",
      "Classifying prompts:  53%|█████████████████████████████████████████████████████████████████████████████▉                                                                      | 20/38 [05:01<05:05, 16.96s/it]\u001b[A2025-05-30 16:37:59,607 || INFO || MedRL-CoT Setup - Successful JSON parsed!\n",
      "\n",
      "Classifying prompts:  55%|█████████████████████████████████████████████████████████████████████████████████▊                                                                  | 21/38 [05:10<04:06, 14.52s/it]\u001b[A2025-05-30 16:38:03,829 || INFO || MedRL-CoT Setup - Successful JSON parsed!\n",
      "\n",
      "Classifying prompts:  58%|█████████████████████████████████████████████████████████████████████████████████████▋                                                              | 22/38 [05:14<03:02, 11.43s/it]\u001b[A2025-05-30 16:38:07,901 || INFO || MedRL-CoT Setup - Successful JSON parsed!\n",
      "\n",
      "Classifying prompts:  61%|█████████████████████████████████████████████████████████████████████████████████████████▌                                                          | 23/38 [05:18<02:18,  9.22s/it]\u001b[A2025-05-30 16:38:28,355 || INFO || MedRL-CoT Setup - Successful JSON parsed!\n",
      "\n",
      "Classifying prompts:  63%|█████████████████████████████████████████████████████████████████████████████████████████████▍                                                      | 24/38 [05:39<02:56, 12.59s/it]\u001b[A2025-05-30 16:38:30,512 || INFO || MedRL-CoT Setup - Successful JSON parsed!\n",
      "\n",
      "Classifying prompts:  66%|█████████████████████████████████████████████████████████████████████████████████████████████████▎                                                  | 25/38 [05:41<02:03,  9.46s/it]\u001b[A2025-05-30 16:38:54,073 || INFO || MedRL-CoT Setup - Successful JSON parsed!\n",
      "\n",
      "Classifying prompts:  68%|█████████████████████████████████████████████████████████████████████████████████████████████████████▎                                              | 26/38 [06:04<02:44, 13.69s/it]\u001b[A2025-05-30 16:39:06,982 || INFO || MedRL-CoT Setup - Successful JSON parsed!\n",
      "\n",
      "Classifying prompts:  71%|█████████████████████████████████████████████████████████████████████████████████████████████████████████▏                                          | 27/38 [06:17<02:28, 13.46s/it]\u001b[A2025-05-30 16:39:17,067 || INFO || MedRL-CoT Setup - Successful JSON parsed!\n",
      "\n",
      "Classifying prompts:  74%|█████████████████████████████████████████████████████████████████████████████████████████████████████████████                                       | 28/38 [06:27<02:04, 12.45s/it]\u001b[A2025-05-30 16:39:22,367 || INFO || MedRL-CoT Setup - Successful JSON parsed!\n",
      "\n",
      "Classifying prompts:  76%|████████████████████████████████████████████████████████████████████████████████████████████████████████████████▉                                   | 29/38 [06:33<01:32, 10.30s/it]\u001b[A2025-05-30 16:39:30,175 || INFO || MedRL-CoT Setup - Successful JSON parsed!\n",
      "\n",
      "Classifying prompts:  79%|████████████████████████████████████████████████████████████████████████████████████████████████████████████████████▊                               | 30/38 [06:41<01:16,  9.55s/it]\u001b[A2025-05-30 16:39:39,167 || INFO || MedRL-CoT Setup - Successful JSON parsed!\n",
      "\n",
      "Classifying prompts:  82%|████████████████████████████████████████████████████████████████████████████████████████████████████████████████████████▋                           | 31/38 [06:50<01:05,  9.38s/it]\u001b[A2025-05-30 16:39:41,882 || INFO || MedRL-CoT Setup - Successful JSON parsed!\n",
      "\n",
      "Classifying prompts:  84%|████████████████████████████████████████████████████████████████████████████████████████████████████████████████████████████▋                       | 32/38 [06:52<00:44,  7.38s/it]\u001b[A2025-05-30 16:39:47,331 || WARNING || MedRL-CoT Setup - Invalid JSON, trying conversion\n",
      "2025-05-30 16:39:47,333 || ERROR || MedRL-CoT Setup - Provided data schema not parseable/known, skipping this chunk\n",
      "\n",
      "Classifying prompts:  87%|████████████████████████████████████████████████████████████████████████████████████████████████████████████████████████████████▌                   | 33/38 [06:58<00:34,  6.80s/it]\u001b[A2025-05-30 16:39:54,644 || INFO || MedRL-CoT Setup - Successful JSON parsed!\n",
      "\n",
      "Classifying prompts:  89%|████████████████████████████████████████████████████████████████████████████████████████████████████████████████████████████████████▍               | 34/38 [07:05<00:27,  6.96s/it]\u001b[A2025-05-30 16:40:06,240 || INFO || MedRL-CoT Setup - Successful JSON parsed!\n",
      "\n",
      "Classifying prompts:  92%|████████████████████████████████████████████████████████████████████████████████████████████████████████████████████████████████████████▎           | 35/38 [07:17<00:25,  8.35s/it]\u001b[A2025-05-30 16:40:09,982 || INFO || MedRL-CoT Setup - Successful JSON parsed!\n",
      "\n",
      "Classifying prompts:  95%|████████████████████████████████████████████████████████████████████████████████████████████████████████████████████████████████████████████▏       | 36/38 [07:20<00:13,  6.97s/it]\u001b[A2025-05-30 16:40:12,195 || INFO || MedRL-CoT Setup - Successful JSON parsed!\n",
      "\n",
      "Classifying prompts:  97%|████████████████████████████████████████████████████████████████████████████████████████████████████████████████████████████████████████████████    | 37/38 [07:23<00:05,  5.54s/it]\u001b[A2025-05-30 16:40:14,484 || INFO || MedRL-CoT Setup - Successful JSON parsed!\n",
      "\n",
      "Classifying prompts: 100%|████████████████████████████████████████████████████████████████████████████████████████████████████████████████████████████████████████████████████| 38/38 [07:25<00:00,  4.56s/it]\u001b[A\n",
      "                                                                                                                                                                                                              \u001b[A2025-05-30 16:40:14,491 || INFO || MedRL-CoT Setup - Dumping to save\n"
     ]
    },
    {
     "data": {
      "application/vnd.jupyter.widget-view+json": {
       "model_id": "9176ede2ed9541728389aa898d9baa4a",
       "version_major": 2,
       "version_minor": 0
      },
      "text/plain": [
       "Saving the dataset (0/1 shards):   0%|          | 0/4001 [00:00<?, ? examples/s]"
      ]
     },
     "metadata": {},
     "output_type": "display_data"
    },
    {
     "name": "stderr",
     "output_type": "stream",
     "text": [
      "Preprocessing dataset:   0%|                                                                                                                                     | 39/331793 [3:54:34<43944:42:53, 476.86s/it]2025-05-30 16:40:14,547 || INFO || MedRL-CoT Setup - Preprocessing example 39\n"
     ]
    },
    {
     "name": "stdout",
     "output_type": "stream",
     "text": [
      "26\n"
     ]
    },
    {
     "name": "stderr",
     "output_type": "stream",
     "text": [
      "\n",
      "Classifying prompts:   0%|                                                                                                                                                             | 0/26 [00:00<?, ?it/s]\u001b[A2025-05-30 16:40:22,374 || WARNING || MedRL-CoT Setup - Invalid JSON, trying conversion\n",
      "2025-05-30 16:40:22,375 || ERROR || MedRL-CoT Setup - Provided data schema not parseable/known, skipping this chunk\n",
      "\n",
      "Classifying prompts:   4%|█████▋                                                                                                                                               | 1/26 [00:07<03:15,  7.82s/it]\u001b[A2025-05-30 16:40:57,869 || INFO || MedRL-CoT Setup - Successful JSON parsed!\n",
      "\n",
      "Classifying prompts:   8%|███████████▍                                                                                                                                         | 2/26 [00:43<09:38, 24.10s/it]\u001b[A2025-05-30 16:41:18,253 || INFO || MedRL-CoT Setup - Successful JSON parsed!\n",
      "\n",
      "Classifying prompts:  12%|█████████████████▏                                                                                                                                   | 3/26 [01:03<08:35, 22.40s/it]\u001b[A2025-05-30 16:41:42,639 || INFO || MedRL-CoT Setup - Successful JSON parsed!\n",
      "\n",
      "Classifying prompts:  15%|██████████████████████▉                                                                                                                              | 4/26 [01:28<08:30, 23.19s/it]\u001b[A2025-05-30 16:41:57,700 || INFO || MedRL-CoT Setup - Successful JSON parsed!\n",
      "\n",
      "Classifying prompts:  19%|████████████████████████████▋                                                                                                                        | 5/26 [01:43<07:05, 20.26s/it]\u001b[A2025-05-30 16:42:02,032 || INFO || MedRL-CoT Setup - Successful JSON parsed!\n",
      "\n",
      "Classifying prompts:  23%|██████████████████████████████████▍                                                                                                                  | 6/26 [01:47<04:56, 14.84s/it]\u001b[A2025-05-30 16:42:50,066 || INFO || MedRL-CoT Setup - Successful JSON parsed!\n",
      "\n",
      "Classifying prompts:  27%|████████████████████████████████████████                                                                                                             | 7/26 [02:35<08:08, 25.69s/it]\u001b[A2025-05-30 16:42:53,033 || INFO || MedRL-CoT Setup - Successful JSON parsed!\n",
      "\n",
      "Classifying prompts:  31%|█████████████████████████████████████████████▊                                                                                                       | 8/26 [02:38<05:32, 18.46s/it]\u001b[A2025-05-30 16:43:02,144 || INFO || MedRL-CoT Setup - Successful JSON parsed!\n",
      "\n",
      "Classifying prompts:  35%|███████████████████████████████████████████████████▌                                                                                                 | 9/26 [02:47<04:24, 15.54s/it]\u001b[A2025-05-30 16:43:38,479 || WARNING || MedRL-CoT Setup - Invalid JSON, trying conversion\n",
      "2025-05-30 16:43:38,480 || ERROR || MedRL-CoT Setup - Provided data schema not parseable/known, skipping this chunk\n",
      "\n",
      "Classifying prompts:  38%|████████████████████████████████████████████████████████▉                                                                                           | 10/26 [03:23<05:51, 21.96s/it]\u001b[A2025-05-30 16:43:41,391 || INFO || MedRL-CoT Setup - Successful JSON parsed!\n",
      "\n",
      "Classifying prompts:  42%|██████████████████████████████████████████████████████████████▌                                                                                     | 11/26 [03:26<04:01, 16.13s/it]\u001b[A2025-05-30 16:43:46,716 || WARNING || MedRL-CoT Setup - Invalid JSON, trying conversion\n",
      "2025-05-30 16:43:46,717 || ERROR || MedRL-CoT Setup - Provided data schema not parseable/known, skipping this chunk\n",
      "\n",
      "Classifying prompts:  46%|████████████████████████████████████████████████████████████████████▎                                                                               | 12/26 [03:32<02:59, 12.84s/it]\u001b[A2025-05-30 16:44:15,378 || INFO || MedRL-CoT Setup - Successful JSON parsed!\n",
      "\n",
      "Classifying prompts:  50%|██████████████████████████████████████████████████████████████████████████                                                                          | 13/26 [04:00<03:49, 17.63s/it]\u001b[A2025-05-30 16:44:34,096 || INFO || MedRL-CoT Setup - Successful JSON parsed!\n",
      "\n",
      "Classifying prompts:  54%|███████████████████████████████████████████████████████████████████████████████▋                                                                    | 14/26 [04:19<03:35, 17.96s/it]\u001b[A2025-05-30 16:44:44,893 || WARNING || MedRL-CoT Setup - Invalid JSON, trying conversion\n",
      "2025-05-30 16:44:44,894 || ERROR || MedRL-CoT Setup - Provided data schema not parseable/known, skipping this chunk\n",
      "\n",
      "Classifying prompts:  58%|█████████████████████████████████████████████████████████████████████████████████████▍                                                              | 15/26 [04:30<02:53, 15.80s/it]\u001b[A2025-05-30 16:45:07,243 || ERROR || MedRL-CoT Setup - Nothing found, bad example!\n",
      "\n",
      "Classifying prompts:  62%|███████████████████████████████████████████████████████████████████████████████████████████                                                         | 16/26 [04:52<02:57, 17.77s/it]\u001b[A2025-05-30 16:45:09,068 || WARNING || MedRL-CoT Setup - Invalid JSON, trying conversion\n",
      "2025-05-30 16:45:09,070 || ERROR || MedRL-CoT Setup - Provided data schema not parseable/known, skipping this chunk\n",
      "\n",
      "Classifying prompts:  65%|████████████████████████████████████████████████████████████████████████████████████████████████▊                                                   | 17/26 [04:54<01:56, 12.98s/it]\u001b[A2025-05-30 16:45:16,738 || WARNING || MedRL-CoT Setup - Invalid JSON, trying conversion\n",
      "2025-05-30 16:45:16,739 || ERROR || MedRL-CoT Setup - Provided data schema not parseable/known, skipping this chunk\n",
      "\n",
      "Classifying prompts:  69%|██████████████████████████████████████████████████████████████████████████████████████████████████████▍                                             | 18/26 [05:02<01:31, 11.38s/it]\u001b[A2025-05-30 16:45:20,353 || WARNING || MedRL-CoT Setup - Invalid JSON, trying conversion\n",
      "2025-05-30 16:45:20,355 || ERROR || MedRL-CoT Setup - Provided data schema not parseable/known, skipping this chunk\n",
      "\n",
      "Classifying prompts:  73%|████████████████████████████████████████████████████████████████████████████████████████████████████████████▏                                       | 19/26 [05:05<01:03,  9.05s/it]\u001b[A2025-05-30 16:45:23,145 || WARNING || MedRL-CoT Setup - Invalid JSON, trying conversion\n",
      "2025-05-30 16:45:23,146 || ERROR || MedRL-CoT Setup - Provided data schema not parseable/known, skipping this chunk\n",
      "\n",
      "Classifying prompts:  77%|█████████████████████████████████████████████████████████████████████████████████████████████████████████████████▊                                  | 20/26 [05:08<00:43,  7.17s/it]\u001b[A2025-05-30 16:45:25,908 || INFO || MedRL-CoT Setup - Successful JSON parsed!\n",
      "\n",
      "Classifying prompts:  81%|███████████████████████████████████████████████████████████████████████████████████████████████████████████████████████▌                            | 21/26 [05:11<00:29,  5.85s/it]\u001b[A2025-05-30 16:45:54,572 || WARNING || MedRL-CoT Setup - Invalid JSON, trying conversion\n",
      "2025-05-30 16:45:54,573 || ERROR || MedRL-CoT Setup - Provided data schema not parseable/known, skipping this chunk\n",
      "\n",
      "Classifying prompts:  85%|█████████████████████████████████████████████████████████████████████████████████████████████████████████████████████████████▏                      | 22/26 [05:40<00:50, 12.70s/it]\u001b[A2025-05-30 16:46:24,136 || WARNING || MedRL-CoT Setup - Invalid JSON, trying conversion\n",
      "2025-05-30 16:46:24,137 || ERROR || MedRL-CoT Setup - Provided data schema not parseable/known, skipping this chunk\n",
      "\n",
      "Classifying prompts:  88%|██████████████████████████████████████████████████████████████████████████████████████████████████████████████████████████████████▉                 | 23/26 [06:09<00:53, 17.76s/it]\u001b[A2025-05-30 16:46:26,510 || INFO || MedRL-CoT Setup - Successful JSON parsed!\n",
      "\n",
      "Classifying prompts:  92%|████████████████████████████████████████████████████████████████████████████████████████████████████████████████████████████████████████▌           | 24/26 [06:11<00:26, 13.14s/it]\u001b[A2025-05-30 16:46:43,118 || INFO || MedRL-CoT Setup - Successful JSON parsed!\n",
      "\n",
      "Classifying prompts:  96%|██████████████████████████████████████████████████████████████████████████████████████████████████████████████████████████████████████████████▎     | 25/26 [06:28<00:14, 14.18s/it]\u001b[A2025-05-30 16:46:48,240 || INFO || MedRL-CoT Setup - Successful JSON parsed!\n",
      "\n",
      "Classifying prompts: 100%|████████████████████████████████████████████████████████████████████████████████████████████████████████████████████████████████████████████████████| 26/26 [06:33<00:00, 11.46s/it]\u001b[A\n",
      "                                                                                                                                                                                                              \u001b[A2025-05-30 16:46:48,245 || INFO || MedRL-CoT Setup - Dumping to save\n"
     ]
    },
    {
     "data": {
      "application/vnd.jupyter.widget-view+json": {
       "model_id": "1a63084a8ffa4006be30c97781d2fe04",
       "version_major": 2,
       "version_minor": 0
      },
      "text/plain": [
       "Saving the dataset (0/1 shards):   0%|          | 0/4079 [00:00<?, ? examples/s]"
      ]
     },
     "metadata": {},
     "output_type": "display_data"
    },
    {
     "name": "stderr",
     "output_type": "stream",
     "text": [
      "Preprocessing dataset:   0%|                                                                                                                                     | 40/331793 [4:01:07<41646:48:49, 451.93s/it]2025-05-30 16:46:48,295 || INFO || MedRL-CoT Setup - Preprocessing example 40\n"
     ]
    },
    {
     "name": "stdout",
     "output_type": "stream",
     "text": [
      "16\n"
     ]
    },
    {
     "name": "stderr",
     "output_type": "stream",
     "text": [
      "\n",
      "Classifying prompts:   0%|                                                                                                                                                             | 0/16 [00:00<?, ?it/s]\u001b[A2025-05-30 16:47:14,716 || WARNING || MedRL-CoT Setup - Invalid JSON, trying conversion\n",
      "2025-05-30 16:47:14,718 || ERROR || MedRL-CoT Setup - Provided data schema not parseable/known, skipping this chunk\n",
      "\n",
      "Classifying prompts:   6%|█████████▎                                                                                                                                           | 1/16 [00:26<06:36, 26.42s/it]\u001b[A2025-05-30 16:47:32,361 || WARNING || MedRL-CoT Setup - Invalid JSON, trying conversion\n",
      "2025-05-30 16:47:32,362 || ERROR || MedRL-CoT Setup - Provided data schema not parseable/known, skipping this chunk\n",
      "\n",
      "Classifying prompts:  12%|██████████████████▋                                                                                                                                  | 2/16 [00:44<04:57, 21.26s/it]\u001b[A2025-05-30 16:47:35,016 || INFO || MedRL-CoT Setup - Successful JSON parsed!\n",
      "\n",
      "Classifying prompts:  19%|███████████████████████████▉                                                                                                                         | 3/16 [00:46<02:45, 12.76s/it]\u001b[A2025-05-30 16:47:52,376 || INFO || MedRL-CoT Setup - Successful JSON parsed!\n",
      "\n",
      "Classifying prompts:  25%|█████████████████████████████████████▎                                                                                                               | 4/16 [01:04<02:54, 14.58s/it]\u001b[A2025-05-30 16:48:39,255 || INFO || MedRL-CoT Setup - Successful JSON parsed!\n",
      "\n",
      "Classifying prompts:  31%|██████████████████████████████████████████████▌                                                                                                      | 5/16 [01:50<04:48, 26.23s/it]\u001b[A2025-05-30 16:48:42,881 || INFO || MedRL-CoT Setup - Successful JSON parsed!\n",
      "\n",
      "Classifying prompts:  38%|███████████████████████████████████████████████████████▉                                                                                             | 6/16 [01:54<03:05, 18.54s/it]\u001b[A2025-05-30 16:48:51,462 || INFO || MedRL-CoT Setup - Successful JSON parsed!\n",
      "\n",
      "Classifying prompts:  44%|█████████████████████████████████████████████████████████████████▏                                                                                   | 7/16 [02:03<02:17, 15.29s/it]\u001b[A2025-05-30 16:48:53,186 || WARNING || MedRL-CoT Setup - Invalid JSON, trying conversion\n",
      "2025-05-30 16:48:53,187 || ERROR || MedRL-CoT Setup - Provided data schema not parseable/known, skipping this chunk\n",
      "\n",
      "Classifying prompts:  50%|██████████████████████████████████████████████████████████████████████████▌                                                                          | 8/16 [02:04<01:27, 10.97s/it]\u001b[A2025-05-30 16:49:40,756 || INFO || MedRL-CoT Setup - Successful JSON parsed!\n",
      "\n",
      "Classifying prompts:  56%|███████████████████████████████████████████████████████████████████████████████████▊                                                                 | 9/16 [02:52<02:36, 22.41s/it]\u001b[A2025-05-30 16:49:43,899 || INFO || MedRL-CoT Setup - Successful JSON parsed!\n",
      "\n",
      "Classifying prompts:  62%|████████████████████████████████████████████████████████████████████████████████████████████▌                                                       | 10/16 [02:55<01:38, 16.46s/it]\u001b[A2025-05-30 16:49:49,903 || INFO || MedRL-CoT Setup - Successful JSON parsed!\n",
      "\n",
      "Classifying prompts:  69%|█████████████████████████████████████████████████████████████████████████████████████████████████████▊                                              | 11/16 [03:01<01:06, 13.26s/it]\u001b[A2025-05-30 16:50:10,457 || ERROR || MedRL-CoT Setup - Nothing found, bad example!\n",
      "\n",
      "Classifying prompts:  75%|███████████████████████████████████████████████████████████████████████████████████████████████████████████████                                     | 12/16 [03:22<01:01, 15.48s/it]\u001b[A2025-05-30 16:50:25,744 || INFO || MedRL-CoT Setup - Successful JSON parsed!\n",
      "\n",
      "Classifying prompts:  81%|████████████████████████████████████████████████████████████████████████████████████████████████████████████████████████▎                           | 13/16 [03:37<00:46, 15.42s/it]\u001b[A2025-05-30 16:50:30,472 || INFO || MedRL-CoT Setup - Successful JSON parsed!\n",
      "\n",
      "Classifying prompts:  88%|█████████████████████████████████████████████████████████████████████████████████████████████████████████████████████████████████▌                  | 14/16 [03:42<00:24, 12.19s/it]\u001b[A2025-05-30 16:50:41,190 || INFO || MedRL-CoT Setup - Successful JSON parsed!\n",
      "\n",
      "Classifying prompts:  94%|██████████████████████████████████████████████████████████████████████████████████████████████████████████████████████████████████████████▊         | 15/16 [03:52<00:11, 11.75s/it]\u001b[A2025-05-30 16:50:45,664 || INFO || MedRL-CoT Setup - Successful JSON parsed!\n",
      "\n",
      "Classifying prompts: 100%|████████████████████████████████████████████████████████████████████████████████████████████████████████████████████████████████████████████████████| 16/16 [03:57<00:00,  9.56s/it]\u001b[A\n",
      "                                                                                                                                                                                                              \u001b[A2025-05-30 16:50:45,671 || INFO || MedRL-CoT Setup - Dumping to save\n"
     ]
    },
    {
     "data": {
      "application/vnd.jupyter.widget-view+json": {
       "model_id": "d5b00fbff17c41fea54f7db709c69416",
       "version_major": 2,
       "version_minor": 0
      },
      "text/plain": [
       "Saving the dataset (0/1 shards):   0%|          | 0/4148 [00:00<?, ? examples/s]"
      ]
     },
     "metadata": {},
     "output_type": "display_data"
    },
    {
     "name": "stderr",
     "output_type": "stream",
     "text": [
      "Preprocessing dataset:   0%|                                                                                                                                     | 41/331793 [4:05:05<35716:43:57, 387.58s/it]2025-05-30 16:50:45,727 || INFO || MedRL-CoT Setup - Preprocessing example 41\n"
     ]
    },
    {
     "name": "stdout",
     "output_type": "stream",
     "text": [
      "43\n"
     ]
    },
    {
     "name": "stderr",
     "output_type": "stream",
     "text": [
      "\n",
      "Classifying prompts:   0%|                                                                                                                                                             | 0/43 [00:00<?, ?it/s]\u001b[A2025-05-30 16:51:11,892 || WARNING || MedRL-CoT Setup - Invalid JSON, trying conversion\n",
      "2025-05-30 16:51:11,893 || ERROR || MedRL-CoT Setup - Provided data schema not parseable/known, skipping this chunk\n",
      "\n",
      "Classifying prompts:   2%|███▍                                                                                                                                                 | 1/43 [00:26<18:18, 26.16s/it]\u001b[A2025-05-30 16:51:14,520 || INFO || MedRL-CoT Setup - Successful JSON parsed!\n",
      "\n",
      "Classifying prompts:   5%|██████▉                                                                                                                                              | 2/43 [00:28<08:25, 12.32s/it]\u001b[A2025-05-30 16:51:53,552 || INFO || MedRL-CoT Setup - Successful JSON parsed!\n",
      "\n",
      "Classifying prompts:   7%|██████████▍                                                                                                                                          | 3/43 [01:07<16:20, 24.52s/it]\u001b[A2025-05-30 16:52:01,176 || INFO || MedRL-CoT Setup - Successful JSON parsed!\n",
      "\n",
      "Classifying prompts:   9%|█████████████▊                                                                                                                                       | 4/43 [01:15<11:36, 17.85s/it]\u001b[A2025-05-30 16:52:05,603 || INFO || MedRL-CoT Setup - Successful JSON parsed!\n",
      "\n",
      "Classifying prompts:  12%|█████████████████▎                                                                                                                                   | 5/43 [01:19<08:14, 13.01s/it]\u001b[A2025-05-30 16:52:08,925 || INFO || MedRL-CoT Setup - Successful JSON parsed!\n",
      "\n",
      "Classifying prompts:  14%|████████████████████▊                                                                                                                                | 6/43 [01:23<05:59,  9.71s/it]\u001b[A2025-05-30 16:52:26,123 || INFO || MedRL-CoT Setup - Successful JSON parsed!\n",
      "\n",
      "Classifying prompts:  16%|████████████████████████▎                                                                                                                            | 7/43 [01:40<07:17, 12.16s/it]\u001b[A2025-05-30 16:52:35,789 || INFO || MedRL-CoT Setup - Successful JSON parsed!\n",
      "\n",
      "Classifying prompts:  19%|███████████████████████████▋                                                                                                                         | 8/43 [01:50<06:37, 11.37s/it]\u001b[A2025-05-30 16:52:58,179 || INFO || MedRL-CoT Setup - Successful JSON parsed!\n",
      "\n",
      "Classifying prompts:  21%|███████████████████████████████▏                                                                                                                     | 9/43 [02:12<08:23, 14.81s/it]\u001b[A2025-05-30 16:53:32,552 || INFO || MedRL-CoT Setup - Successful JSON parsed!\n",
      "\n",
      "Classifying prompts:  23%|██████████████████████████████████▍                                                                                                                 | 10/43 [02:46<11:28, 20.85s/it]\u001b[A2025-05-30 16:53:35,414 || INFO || MedRL-CoT Setup - Successful JSON parsed!\n",
      "\n",
      "Classifying prompts:  26%|█████████████████████████████████████▊                                                                                                              | 11/43 [02:49<08:11, 15.35s/it]\u001b[A2025-05-30 16:53:39,553 || INFO || MedRL-CoT Setup - Successful JSON parsed!\n",
      "\n",
      "Classifying prompts:  28%|█████████████████████████████████████████▎                                                                                                          | 12/43 [02:53<06:10, 11.94s/it]\u001b[A2025-05-30 16:53:45,926 || INFO || MedRL-CoT Setup - Successful JSON parsed!\n",
      "\n",
      "Classifying prompts:  30%|████████████████████████████████████████████▋                                                                                                       | 13/43 [03:00<05:07, 10.25s/it]\u001b[A2025-05-30 16:53:53,470 || INFO || MedRL-CoT Setup - Successful JSON parsed!\n",
      "\n",
      "Classifying prompts:  33%|████████████████████████████████████████████████▏                                                                                                   | 14/43 [03:07<04:33,  9.43s/it]\u001b[A2025-05-30 16:53:58,342 || INFO || MedRL-CoT Setup - Successful JSON parsed!\n",
      "\n",
      "Classifying prompts:  35%|███████████████████████████████████████████████████▋                                                                                                | 15/43 [03:12<03:45,  8.06s/it]\u001b[A2025-05-30 16:54:00,445 || INFO || MedRL-CoT Setup - Successful JSON parsed!\n",
      "\n",
      "Classifying prompts:  37%|███████████████████████████████████████████████████████                                                                                             | 16/43 [03:14<02:49,  6.27s/it]\u001b[A2025-05-30 16:54:08,446 || INFO || MedRL-CoT Setup - Successful JSON parsed!\n",
      "\n",
      "Classifying prompts:  40%|██████████████████████████████████████████████████████████▌                                                                                         | 17/43 [03:22<02:56,  6.79s/it]\u001b[A2025-05-30 16:54:36,100 || INFO || MedRL-CoT Setup - Successful JSON parsed!\n",
      "\n",
      "Classifying prompts:  42%|█████████████████████████████████████████████████████████████▉                                                                                      | 18/43 [03:50<05:26, 13.06s/it]\u001b[A2025-05-30 16:54:38,574 || INFO || MedRL-CoT Setup - Successful JSON parsed!\n",
      "\n",
      "Classifying prompts:  44%|█████████████████████████████████████████████████████████████████▍                                                                                  | 19/43 [03:52<03:57,  9.88s/it]\u001b[A2025-05-30 16:54:49,122 || INFO || MedRL-CoT Setup - Successful JSON parsed!\n",
      "\n",
      "Classifying prompts:  47%|████████████████████████████████████████████████████████████████████▊                                                                               | 20/43 [04:03<03:51, 10.08s/it]\u001b[A2025-05-30 16:54:51,729 || INFO || MedRL-CoT Setup - Successful JSON parsed!\n",
      "\n",
      "Classifying prompts:  49%|████████████████████████████████████████████████████████████████████████▎                                                                           | 21/43 [04:05<02:52,  7.84s/it]\u001b[A2025-05-30 16:54:54,860 || INFO || MedRL-CoT Setup - Successful JSON parsed!\n",
      "\n",
      "Classifying prompts:  51%|███████████████████████████████████████████████████████████████████████████▋                                                                        | 22/43 [04:09<02:14,  6.42s/it]\u001b[A2025-05-30 16:56:11,183 || WARNING || MedRL-CoT Setup - Invalid JSON, trying conversion\n",
      "2025-05-30 16:56:11,185 || ERROR || MedRL-CoT Setup - Provided data schema not parseable/known, skipping this chunk\n",
      "\n",
      "Classifying prompts:  53%|███████████████████████████████████████████████████████████████████████████████▏                                                                    | 23/43 [05:25<09:08, 27.40s/it]\u001b[A2025-05-30 16:56:19,387 || INFO || MedRL-CoT Setup - Successful JSON parsed!\n",
      "\n",
      "Classifying prompts:  56%|██████████████████████████████████████████████████████████████████████████████████▌                                                                 | 24/43 [05:33<06:51, 21.64s/it]\u001b[A2025-05-30 16:56:27,079 || WARNING || MedRL-CoT Setup - Invalid JSON, trying conversion\n",
      "2025-05-30 16:56:27,081 || ERROR || MedRL-CoT Setup - Provided data schema not parseable/known, skipping this chunk\n",
      "\n",
      "Classifying prompts:  58%|██████████████████████████████████████████████████████████████████████████████████████                                                              | 25/43 [05:41<05:14, 17.46s/it]\u001b[A2025-05-30 16:57:01,546 || INFO || MedRL-CoT Setup - Successful JSON parsed!\n",
      "\n",
      "Classifying prompts:  60%|█████████████████████████████████████████████████████████████████████████████████████████▍                                                          | 26/43 [06:15<06:23, 22.56s/it]\u001b[A2025-05-30 16:57:09,272 || WARNING || MedRL-CoT Setup - Invalid JSON, trying conversion\n",
      "2025-05-30 16:57:09,273 || ERROR || MedRL-CoT Setup - Provided data schema not parseable/known, skipping this chunk\n",
      "\n",
      "Classifying prompts:  63%|████████████████████████████████████████████████████████████████████████████████████████████▉                                                       | 27/43 [06:23<04:49, 18.11s/it]\u001b[A2025-05-30 16:57:22,978 || WARNING || MedRL-CoT Setup - Invalid JSON, trying conversion\n",
      "2025-05-30 16:57:22,979 || ERROR || MedRL-CoT Setup - Provided data schema not parseable/known, skipping this chunk\n",
      "\n",
      "Classifying prompts:  65%|████████████████████████████████████████████████████████████████████████████████████████████████▎                                                   | 28/43 [06:37<04:11, 16.79s/it]\u001b[A2025-05-30 16:57:31,072 || ERROR || MedRL-CoT Setup - Nothing found, bad example!\n",
      "\n",
      "Classifying prompts:  67%|███████████████████████████████████████████████████████████████████████████████████████████████████▊                                                | 29/43 [06:45<03:18, 14.18s/it]\u001b[A2025-05-30 16:57:38,406 || INFO || MedRL-CoT Setup - Successful JSON parsed!\n",
      "\n",
      "Classifying prompts:  70%|███████████████████████████████████████████████████████████████████████████████████████████████████████▎                                            | 30/43 [06:52<02:37, 12.13s/it]\u001b[A2025-05-30 16:57:46,104 || INFO || MedRL-CoT Setup - Successful JSON parsed!\n",
      "\n",
      "Classifying prompts:  72%|██████████████████████████████████████████████████████████████████████████████████████████████████████████▋                                         | 31/43 [07:00<02:09, 10.80s/it]\u001b[A2025-05-30 16:57:48,058 || INFO || MedRL-CoT Setup - Successful JSON parsed!\n",
      "\n",
      "Classifying prompts:  74%|██████████████████████████████████████████████████████████████████████████████████████████████████████████████▏                                     | 32/43 [07:02<01:29,  8.14s/it]\u001b[A2025-05-30 16:57:51,333 || INFO || MedRL-CoT Setup - Successful JSON parsed!\n",
      "\n",
      "Classifying prompts:  77%|█████████████████████████████████████████████████████████████████████████████████████████████████████████████████▌                                  | 33/43 [07:05<01:06,  6.68s/it]\u001b[A2025-05-30 16:57:54,314 || INFO || MedRL-CoT Setup - Successful JSON parsed!\n",
      "\n",
      "Classifying prompts:  79%|█████████████████████████████████████████████████████████████████████████████████████████████████████████████████████                               | 34/43 [07:08<00:50,  5.57s/it]\u001b[A2025-05-30 16:58:06,704 || WARNING || MedRL-CoT Setup - Invalid JSON, trying conversion\n",
      "2025-05-30 16:58:06,705 || ERROR || MedRL-CoT Setup - Provided data schema not parseable/known, skipping this chunk\n",
      "\n",
      "Classifying prompts:  81%|████████████████████████████████████████████████████████████████████████████████████████████████████████████████████████▍                           | 35/43 [07:20<01:00,  7.62s/it]\u001b[A2025-05-30 16:58:25,946 || INFO || MedRL-CoT Setup - Successful JSON parsed!\n",
      "\n",
      "Classifying prompts:  84%|███████████████████████████████████████████████████████████████████████████████████████████████████████████████████████████▉                        | 36/43 [07:40<01:17, 11.10s/it]\u001b[A2025-05-30 16:58:40,094 || INFO || MedRL-CoT Setup - Successful JSON parsed!\n",
      "\n",
      "Classifying prompts:  86%|███████████████████████████████████████████████████████████████████████████████████████████████████████████████████████████████▎                    | 37/43 [07:54<01:12, 12.02s/it]\u001b[A2025-05-30 16:58:56,911 || WARNING || MedRL-CoT Setup - Invalid JSON, trying conversion\n",
      "2025-05-30 16:58:56,912 || ERROR || MedRL-CoT Setup - Provided data schema not parseable/known, skipping this chunk\n",
      "\n",
      "Classifying prompts:  88%|██████████████████████████████████████████████████████████████████████████████████████████████████████████████████████████████████▊                 | 38/43 [08:11<01:07, 13.46s/it]\u001b[A2025-05-30 16:59:02,112 || INFO || MedRL-CoT Setup - Successful JSON parsed!\n",
      "\n",
      "Classifying prompts:  91%|██████████████████████████████████████████████████████████████████████████████████████████████████████████████████████████████████████▏             | 39/43 [08:16<00:43, 10.98s/it]\u001b[A2025-05-30 16:59:04,492 || INFO || MedRL-CoT Setup - Successful JSON parsed!\n",
      "\n",
      "Classifying prompts:  93%|█████████████████████████████████████████████████████████████████████████████████████████████████████████████████████████████████████████▋          | 40/43 [08:18<00:25,  8.40s/it]\u001b[A2025-05-30 16:59:09,536 || INFO || MedRL-CoT Setup - Successful JSON parsed!\n",
      "\n",
      "Classifying prompts:  95%|█████████████████████████████████████████████████████████████████████████████████████████████████████████████████████████████████████████████       | 41/43 [08:23<00:14,  7.39s/it]\u001b[A2025-05-30 16:59:28,563 || INFO || MedRL-CoT Setup - Successful JSON parsed!\n",
      "\n",
      "Classifying prompts:  98%|████████████████████████████████████████████████████████████████████████████████████████████████████████████████████████████████████████████████▌   | 42/43 [08:42<00:10, 10.88s/it]\u001b[A2025-05-30 16:59:31,126 || INFO || MedRL-CoT Setup - Successful JSON parsed!\n",
      "\n",
      "Classifying prompts: 100%|████████████████████████████████████████████████████████████████████████████████████████████████████████████████████████████████████████████████████| 43/43 [08:45<00:00,  8.39s/it]\u001b[A\n",
      "                                                                                                                                                                                                              \u001b[A2025-05-30 16:59:31,133 || INFO || MedRL-CoT Setup - Dumping to save\n"
     ]
    },
    {
     "data": {
      "application/vnd.jupyter.widget-view+json": {
       "model_id": "026d52af80ed4fc4bf975ee2408cb366",
       "version_major": 2,
       "version_minor": 0
      },
      "text/plain": [
       "Saving the dataset (0/1 shards):   0%|          | 0/4305 [00:00<?, ? examples/s]"
      ]
     },
     "metadata": {},
     "output_type": "display_data"
    },
    {
     "name": "stderr",
     "output_type": "stream",
     "text": [
      "Preprocessing dataset:   0%|                                                                                                                                     | 42/331793 [4:13:50<39528:29:30, 428.94s/it]2025-05-30 16:59:31,188 || INFO || MedRL-CoT Setup - Preprocessing example 42\n"
     ]
    },
    {
     "name": "stdout",
     "output_type": "stream",
     "text": [
      "43\n"
     ]
    },
    {
     "name": "stderr",
     "output_type": "stream",
     "text": [
      "\n",
      "Classifying prompts:   0%|                                                                                                                                                             | 0/43 [00:00<?, ?it/s]\u001b[A2025-05-30 16:59:53,534 || INFO || MedRL-CoT Setup - Successful JSON parsed!\n",
      "\n",
      "Classifying prompts:   2%|███▍                                                                                                                                                 | 1/43 [00:22<15:38, 22.34s/it]\u001b[A2025-05-30 17:00:00,667 || WARNING || MedRL-CoT Setup - Invalid JSON, trying conversion\n",
      "2025-05-30 17:00:00,668 || ERROR || MedRL-CoT Setup - Provided data schema not parseable/known, skipping this chunk\n",
      "\n",
      "Classifying prompts:   5%|██████▉                                                                                                                                              | 2/43 [00:29<09:09, 13.40s/it]\u001b[A2025-05-30 17:00:23,561 || INFO || MedRL-CoT Setup - Successful JSON parsed!\n",
      "\n",
      "Classifying prompts:   7%|██████████▍                                                                                                                                          | 3/43 [00:52<11:49, 17.73s/it]\u001b[A2025-05-30 17:00:39,351 || INFO || MedRL-CoT Setup - Successful JSON parsed!\n",
      "\n",
      "Classifying prompts:   9%|█████████████▊                                                                                                                                       | 4/43 [01:08<11:01, 16.97s/it]\u001b[A2025-05-30 17:01:05,760 || INFO || MedRL-CoT Setup - Successful JSON parsed!\n",
      "\n",
      "Classifying prompts:  12%|█████████████████▎                                                                                                                                   | 5/43 [01:34<12:54, 20.37s/it]\u001b[A2025-05-30 17:01:15,910 || INFO || MedRL-CoT Setup - Successful JSON parsed!\n",
      "\n",
      "Classifying prompts:  14%|████████████████████▊                                                                                                                                | 6/43 [01:44<10:25, 16.90s/it]\u001b[A2025-05-30 17:01:19,935 || INFO || MedRL-CoT Setup - Successful JSON parsed!\n",
      "\n",
      "Classifying prompts:  16%|████████████████████████▎                                                                                                                            | 7/43 [01:48<07:36, 12.69s/it]\u001b[A2025-05-30 17:02:14,306 || WARNING || MedRL-CoT Setup - Invalid JSON, trying conversion\n",
      "2025-05-30 17:02:14,308 || ERROR || MedRL-CoT Setup - Provided data schema not parseable/known, skipping this chunk\n",
      "\n",
      "Classifying prompts:  19%|███████████████████████████▋                                                                                                                         | 8/43 [02:43<15:08, 25.96s/it]\u001b[A2025-05-30 17:02:17,087 || INFO || MedRL-CoT Setup - Successful JSON parsed!\n",
      "\n",
      "Classifying prompts:  21%|███████████████████████████████▏                                                                                                                     | 9/43 [02:45<10:36, 18.71s/it]\u001b[A2025-05-30 17:02:57,480 || ERROR || MedRL-CoT Setup - Nothing found, bad example!\n",
      "\n",
      "Classifying prompts:  23%|██████████████████████████████████▍                                                                                                                 | 10/43 [03:26<13:58, 25.41s/it]\u001b[A2025-05-30 17:03:00,240 || INFO || MedRL-CoT Setup - Successful JSON parsed!\n",
      "\n",
      "Classifying prompts:  26%|█████████████████████████████████████▊                                                                                                              | 11/43 [03:29<09:51, 18.47s/it]\u001b[A\n",
      "Preprocessing dataset:   0%|                                                                                                                                     | 42/331793 [4:17:59<33962:53:03, 368.55s/it]\u001b[A\n"
     ]
    },
    {
     "ename": "KeyboardInterrupt",
     "evalue": "",
     "output_type": "error",
     "traceback": [
      "\u001b[0;31m---------------------------------------------------------------------------\u001b[0m",
      "\u001b[0;31mKeyboardInterrupt\u001b[0m                         Traceback (most recent call last)",
      "Cell \u001b[0;32mIn[55], line 61\u001b[0m\n\u001b[1;32m     59\u001b[0m logger\u001b[38;5;241m.\u001b[39minfo(\u001b[38;5;124mf\u001b[39m\u001b[38;5;124m\"\u001b[39m\u001b[38;5;124mPreprocessing example \u001b[39m\u001b[38;5;132;01m{\u001b[39;00mi\u001b[38;5;132;01m}\u001b[39;00m\u001b[38;5;124m\"\u001b[39m)\n\u001b[1;32m     60\u001b[0m \u001b[38;5;28;01mif\u001b[39;00m i \u001b[38;5;241m>\u001b[39m\u001b[38;5;241m=\u001b[39m dataset_example_idx:\n\u001b[0;32m---> 61\u001b[0m     processed_example \u001b[38;5;241m=\u001b[39m \u001b[43mprocess_example\u001b[49m\u001b[43m(\u001b[49m\u001b[43mdatasets\u001b[49m\u001b[43m[\u001b[49m\u001b[38;5;124;43m'\u001b[39;49m\u001b[38;5;124;43mmimic4\u001b[39;49m\u001b[38;5;124;43m'\u001b[39;49m\u001b[43m]\u001b[49m\u001b[43m[\u001b[49m\u001b[38;5;124;43m'\u001b[39;49m\u001b[38;5;124;43mtrain\u001b[39;49m\u001b[38;5;124;43m'\u001b[39;49m\u001b[43m]\u001b[49m\u001b[43m[\u001b[49m\u001b[43mi\u001b[49m\u001b[43m]\u001b[49m\u001b[43m[\u001b[49m\u001b[38;5;124;43m'\u001b[39;49m\u001b[38;5;124;43mtext\u001b[39;49m\u001b[38;5;124;43m'\u001b[39;49m\u001b[43m]\u001b[49m\u001b[43m)\u001b[49m\n\u001b[1;32m     62\u001b[0m     processed_dataset[\u001b[38;5;124m'\u001b[39m\u001b[38;5;124mclass\u001b[39m\u001b[38;5;124m'\u001b[39m]\u001b[38;5;241m.\u001b[39mextend(processed_example[\u001b[38;5;124m'\u001b[39m\u001b[38;5;124mclass\u001b[39m\u001b[38;5;124m'\u001b[39m])\n\u001b[1;32m     63\u001b[0m     processed_dataset[\u001b[38;5;124m'\u001b[39m\u001b[38;5;124msentence\u001b[39m\u001b[38;5;124m'\u001b[39m]\u001b[38;5;241m.\u001b[39mextend(processed_example[\u001b[38;5;124m'\u001b[39m\u001b[38;5;124msentence\u001b[39m\u001b[38;5;124m'\u001b[39m])\n",
      "Cell \u001b[0;32mIn[55], line 41\u001b[0m, in \u001b[0;36mprocess_example\u001b[0;34m(example_note)\u001b[0m\n\u001b[1;32m     39\u001b[0m \u001b[38;5;28;01mfor\u001b[39;00m prompt \u001b[38;5;129;01min\u001b[39;00m tqdm(prompts, \u001b[38;5;124m\"\u001b[39m\u001b[38;5;124mClassifying prompts\u001b[39m\u001b[38;5;124m\"\u001b[39m, leave\u001b[38;5;241m=\u001b[39m\u001b[38;5;28;01mFalse\u001b[39;00m):\n\u001b[1;32m     40\u001b[0m     inputs \u001b[38;5;241m=\u001b[39m tokenizer(prompt, return_tensors\u001b[38;5;241m=\u001b[39m\u001b[38;5;124m\"\u001b[39m\u001b[38;5;124mpt\u001b[39m\u001b[38;5;124m\"\u001b[39m)\u001b[38;5;241m.\u001b[39mto(model\u001b[38;5;241m.\u001b[39mdevice)\n\u001b[0;32m---> 41\u001b[0m     output \u001b[38;5;241m=\u001b[39m \u001b[43mmodel\u001b[49m\u001b[38;5;241;43m.\u001b[39;49m\u001b[43mgenerate\u001b[49m\u001b[43m(\u001b[49m\u001b[38;5;241;43m*\u001b[39;49m\u001b[38;5;241;43m*\u001b[39;49m\u001b[43minputs\u001b[49m\u001b[43m,\u001b[49m\u001b[43m \u001b[49m\u001b[43mmax_new_tokens\u001b[49m\u001b[38;5;241;43m=\u001b[39;49m\u001b[38;5;241;43m1024\u001b[39;49m\u001b[43m,\u001b[49m\u001b[43m \u001b[49m\u001b[43mdo_sample\u001b[49m\u001b[38;5;241;43m=\u001b[39;49m\u001b[38;5;28;43;01mFalse\u001b[39;49;00m\u001b[43m,\u001b[49m\u001b[43m \u001b[49m\u001b[43mpad_token_id\u001b[49m\u001b[38;5;241;43m=\u001b[39;49m\u001b[43mtokenizer\u001b[49m\u001b[38;5;241;43m.\u001b[39;49m\u001b[43meos_token_id\u001b[49m\u001b[43m)\u001b[49m\n\u001b[1;32m     42\u001b[0m     \u001b[38;5;66;03m# output = model.generate(**inputs, max_new_tokens=1024, do_sample=False, temperature=0.0)\u001b[39;00m\n\u001b[1;32m     44\u001b[0m     response \u001b[38;5;241m=\u001b[39m tokenizer\u001b[38;5;241m.\u001b[39mdecode(output[\u001b[38;5;241m0\u001b[39m], skip_special_tokens\u001b[38;5;241m=\u001b[39m\u001b[38;5;28;01mTrue\u001b[39;00m)\n",
      "File \u001b[0;32m~/.pyenv/versions/anaconda3-2024.06-1/envs/medrlcot/lib/python3.10/site-packages/torch/utils/_contextlib.py:116\u001b[0m, in \u001b[0;36mcontext_decorator.<locals>.decorate_context\u001b[0;34m(*args, **kwargs)\u001b[0m\n\u001b[1;32m    113\u001b[0m \u001b[38;5;129m@functools\u001b[39m\u001b[38;5;241m.\u001b[39mwraps(func)\n\u001b[1;32m    114\u001b[0m \u001b[38;5;28;01mdef\u001b[39;00m\u001b[38;5;250m \u001b[39m\u001b[38;5;21mdecorate_context\u001b[39m(\u001b[38;5;241m*\u001b[39margs, \u001b[38;5;241m*\u001b[39m\u001b[38;5;241m*\u001b[39mkwargs):\n\u001b[1;32m    115\u001b[0m     \u001b[38;5;28;01mwith\u001b[39;00m ctx_factory():\n\u001b[0;32m--> 116\u001b[0m         \u001b[38;5;28;01mreturn\u001b[39;00m \u001b[43mfunc\u001b[49m\u001b[43m(\u001b[49m\u001b[38;5;241;43m*\u001b[39;49m\u001b[43margs\u001b[49m\u001b[43m,\u001b[49m\u001b[43m \u001b[49m\u001b[38;5;241;43m*\u001b[39;49m\u001b[38;5;241;43m*\u001b[39;49m\u001b[43mkwargs\u001b[49m\u001b[43m)\u001b[49m\n",
      "File \u001b[0;32m~/.pyenv/versions/anaconda3-2024.06-1/envs/medrlcot/lib/python3.10/site-packages/transformers/generation/utils.py:2597\u001b[0m, in \u001b[0;36mGenerationMixin.generate\u001b[0;34m(self, inputs, generation_config, logits_processor, stopping_criteria, prefix_allowed_tokens_fn, synced_gpus, assistant_model, streamer, negative_prompt_ids, negative_prompt_attention_mask, use_model_defaults, custom_generate, **kwargs)\u001b[0m\n\u001b[1;32m   2589\u001b[0m     input_ids, model_kwargs \u001b[38;5;241m=\u001b[39m \u001b[38;5;28mself\u001b[39m\u001b[38;5;241m.\u001b[39m_expand_inputs_for_generation(\n\u001b[1;32m   2590\u001b[0m         input_ids\u001b[38;5;241m=\u001b[39minput_ids,\n\u001b[1;32m   2591\u001b[0m         expand_size\u001b[38;5;241m=\u001b[39mgeneration_config\u001b[38;5;241m.\u001b[39mnum_return_sequences,\n\u001b[1;32m   2592\u001b[0m         is_encoder_decoder\u001b[38;5;241m=\u001b[39m\u001b[38;5;28mself\u001b[39m\u001b[38;5;241m.\u001b[39mconfig\u001b[38;5;241m.\u001b[39mis_encoder_decoder,\n\u001b[1;32m   2593\u001b[0m         \u001b[38;5;241m*\u001b[39m\u001b[38;5;241m*\u001b[39mmodel_kwargs,\n\u001b[1;32m   2594\u001b[0m     )\n\u001b[1;32m   2596\u001b[0m     \u001b[38;5;66;03m# 12. run sample (it degenerates to greedy search when `generation_config.do_sample=False`)\u001b[39;00m\n\u001b[0;32m-> 2597\u001b[0m     result \u001b[38;5;241m=\u001b[39m \u001b[38;5;28;43mself\u001b[39;49m\u001b[38;5;241;43m.\u001b[39;49m\u001b[43m_sample\u001b[49m\u001b[43m(\u001b[49m\n\u001b[1;32m   2598\u001b[0m \u001b[43m        \u001b[49m\u001b[43minput_ids\u001b[49m\u001b[43m,\u001b[49m\n\u001b[1;32m   2599\u001b[0m \u001b[43m        \u001b[49m\u001b[43mlogits_processor\u001b[49m\u001b[38;5;241;43m=\u001b[39;49m\u001b[43mprepared_logits_processor\u001b[49m\u001b[43m,\u001b[49m\n\u001b[1;32m   2600\u001b[0m \u001b[43m        \u001b[49m\u001b[43mstopping_criteria\u001b[49m\u001b[38;5;241;43m=\u001b[39;49m\u001b[43mprepared_stopping_criteria\u001b[49m\u001b[43m,\u001b[49m\n\u001b[1;32m   2601\u001b[0m \u001b[43m        \u001b[49m\u001b[43mgeneration_config\u001b[49m\u001b[38;5;241;43m=\u001b[39;49m\u001b[43mgeneration_config\u001b[49m\u001b[43m,\u001b[49m\n\u001b[1;32m   2602\u001b[0m \u001b[43m        \u001b[49m\u001b[43msynced_gpus\u001b[49m\u001b[38;5;241;43m=\u001b[39;49m\u001b[43msynced_gpus\u001b[49m\u001b[43m,\u001b[49m\n\u001b[1;32m   2603\u001b[0m \u001b[43m        \u001b[49m\u001b[43mstreamer\u001b[49m\u001b[38;5;241;43m=\u001b[39;49m\u001b[43mstreamer\u001b[49m\u001b[43m,\u001b[49m\n\u001b[1;32m   2604\u001b[0m \u001b[43m        \u001b[49m\u001b[38;5;241;43m*\u001b[39;49m\u001b[38;5;241;43m*\u001b[39;49m\u001b[43mmodel_kwargs\u001b[49m\u001b[43m,\u001b[49m\n\u001b[1;32m   2605\u001b[0m \u001b[43m    \u001b[49m\u001b[43m)\u001b[49m\n\u001b[1;32m   2607\u001b[0m \u001b[38;5;28;01melif\u001b[39;00m generation_mode \u001b[38;5;129;01min\u001b[39;00m (GenerationMode\u001b[38;5;241m.\u001b[39mBEAM_SAMPLE, GenerationMode\u001b[38;5;241m.\u001b[39mBEAM_SEARCH):\n\u001b[1;32m   2608\u001b[0m     \u001b[38;5;66;03m# 11. interleave input_ids with `num_beams` additional sequences per batch\u001b[39;00m\n\u001b[1;32m   2609\u001b[0m     input_ids, model_kwargs \u001b[38;5;241m=\u001b[39m \u001b[38;5;28mself\u001b[39m\u001b[38;5;241m.\u001b[39m_expand_inputs_for_generation(\n\u001b[1;32m   2610\u001b[0m         input_ids\u001b[38;5;241m=\u001b[39minput_ids,\n\u001b[1;32m   2611\u001b[0m         expand_size\u001b[38;5;241m=\u001b[39mgeneration_config\u001b[38;5;241m.\u001b[39mnum_beams,\n\u001b[1;32m   2612\u001b[0m         is_encoder_decoder\u001b[38;5;241m=\u001b[39m\u001b[38;5;28mself\u001b[39m\u001b[38;5;241m.\u001b[39mconfig\u001b[38;5;241m.\u001b[39mis_encoder_decoder,\n\u001b[1;32m   2613\u001b[0m         \u001b[38;5;241m*\u001b[39m\u001b[38;5;241m*\u001b[39mmodel_kwargs,\n\u001b[1;32m   2614\u001b[0m     )\n",
      "File \u001b[0;32m~/.pyenv/versions/anaconda3-2024.06-1/envs/medrlcot/lib/python3.10/site-packages/transformers/generation/utils.py:3560\u001b[0m, in \u001b[0;36mGenerationMixin._sample\u001b[0;34m(self, input_ids, logits_processor, stopping_criteria, generation_config, synced_gpus, streamer, **model_kwargs)\u001b[0m\n\u001b[1;32m   3558\u001b[0m     is_prefill \u001b[38;5;241m=\u001b[39m \u001b[38;5;28;01mFalse\u001b[39;00m\n\u001b[1;32m   3559\u001b[0m \u001b[38;5;28;01melse\u001b[39;00m:\n\u001b[0;32m-> 3560\u001b[0m     outputs \u001b[38;5;241m=\u001b[39m \u001b[43mmodel_forward\u001b[49m\u001b[43m(\u001b[49m\u001b[38;5;241;43m*\u001b[39;49m\u001b[38;5;241;43m*\u001b[39;49m\u001b[43mmodel_inputs\u001b[49m\u001b[43m,\u001b[49m\u001b[43m \u001b[49m\u001b[43mreturn_dict\u001b[49m\u001b[38;5;241;43m=\u001b[39;49m\u001b[38;5;28;43;01mTrue\u001b[39;49;00m\u001b[43m)\u001b[49m\n\u001b[1;32m   3562\u001b[0m \u001b[38;5;66;03m# synced_gpus: don't waste resources running the code we don't need; kwargs must be updated before skipping\u001b[39;00m\n\u001b[1;32m   3563\u001b[0m model_kwargs \u001b[38;5;241m=\u001b[39m \u001b[38;5;28mself\u001b[39m\u001b[38;5;241m.\u001b[39m_update_model_kwargs_for_generation(\n\u001b[1;32m   3564\u001b[0m     outputs,\n\u001b[1;32m   3565\u001b[0m     model_kwargs,\n\u001b[1;32m   3566\u001b[0m     is_encoder_decoder\u001b[38;5;241m=\u001b[39m\u001b[38;5;28mself\u001b[39m\u001b[38;5;241m.\u001b[39mconfig\u001b[38;5;241m.\u001b[39mis_encoder_decoder,\n\u001b[1;32m   3567\u001b[0m )\n",
      "File \u001b[0;32m~/.pyenv/versions/anaconda3-2024.06-1/envs/medrlcot/lib/python3.10/site-packages/torch/nn/modules/module.py:1751\u001b[0m, in \u001b[0;36mModule._wrapped_call_impl\u001b[0;34m(self, *args, **kwargs)\u001b[0m\n\u001b[1;32m   1749\u001b[0m     \u001b[38;5;28;01mreturn\u001b[39;00m \u001b[38;5;28mself\u001b[39m\u001b[38;5;241m.\u001b[39m_compiled_call_impl(\u001b[38;5;241m*\u001b[39margs, \u001b[38;5;241m*\u001b[39m\u001b[38;5;241m*\u001b[39mkwargs)  \u001b[38;5;66;03m# type: ignore[misc]\u001b[39;00m\n\u001b[1;32m   1750\u001b[0m \u001b[38;5;28;01melse\u001b[39;00m:\n\u001b[0;32m-> 1751\u001b[0m     \u001b[38;5;28;01mreturn\u001b[39;00m \u001b[38;5;28;43mself\u001b[39;49m\u001b[38;5;241;43m.\u001b[39;49m\u001b[43m_call_impl\u001b[49m\u001b[43m(\u001b[49m\u001b[38;5;241;43m*\u001b[39;49m\u001b[43margs\u001b[49m\u001b[43m,\u001b[49m\u001b[43m \u001b[49m\u001b[38;5;241;43m*\u001b[39;49m\u001b[38;5;241;43m*\u001b[39;49m\u001b[43mkwargs\u001b[49m\u001b[43m)\u001b[49m\n",
      "File \u001b[0;32m~/.pyenv/versions/anaconda3-2024.06-1/envs/medrlcot/lib/python3.10/site-packages/torch/nn/modules/module.py:1762\u001b[0m, in \u001b[0;36mModule._call_impl\u001b[0;34m(self, *args, **kwargs)\u001b[0m\n\u001b[1;32m   1757\u001b[0m \u001b[38;5;66;03m# If we don't have any hooks, we want to skip the rest of the logic in\u001b[39;00m\n\u001b[1;32m   1758\u001b[0m \u001b[38;5;66;03m# this function, and just call forward.\u001b[39;00m\n\u001b[1;32m   1759\u001b[0m \u001b[38;5;28;01mif\u001b[39;00m \u001b[38;5;129;01mnot\u001b[39;00m (\u001b[38;5;28mself\u001b[39m\u001b[38;5;241m.\u001b[39m_backward_hooks \u001b[38;5;129;01mor\u001b[39;00m \u001b[38;5;28mself\u001b[39m\u001b[38;5;241m.\u001b[39m_backward_pre_hooks \u001b[38;5;129;01mor\u001b[39;00m \u001b[38;5;28mself\u001b[39m\u001b[38;5;241m.\u001b[39m_forward_hooks \u001b[38;5;129;01mor\u001b[39;00m \u001b[38;5;28mself\u001b[39m\u001b[38;5;241m.\u001b[39m_forward_pre_hooks\n\u001b[1;32m   1760\u001b[0m         \u001b[38;5;129;01mor\u001b[39;00m _global_backward_pre_hooks \u001b[38;5;129;01mor\u001b[39;00m _global_backward_hooks\n\u001b[1;32m   1761\u001b[0m         \u001b[38;5;129;01mor\u001b[39;00m _global_forward_hooks \u001b[38;5;129;01mor\u001b[39;00m _global_forward_pre_hooks):\n\u001b[0;32m-> 1762\u001b[0m     \u001b[38;5;28;01mreturn\u001b[39;00m \u001b[43mforward_call\u001b[49m\u001b[43m(\u001b[49m\u001b[38;5;241;43m*\u001b[39;49m\u001b[43margs\u001b[49m\u001b[43m,\u001b[49m\u001b[43m \u001b[49m\u001b[38;5;241;43m*\u001b[39;49m\u001b[38;5;241;43m*\u001b[39;49m\u001b[43mkwargs\u001b[49m\u001b[43m)\u001b[49m\n\u001b[1;32m   1764\u001b[0m result \u001b[38;5;241m=\u001b[39m \u001b[38;5;28;01mNone\u001b[39;00m\n\u001b[1;32m   1765\u001b[0m called_always_called_hooks \u001b[38;5;241m=\u001b[39m \u001b[38;5;28mset\u001b[39m()\n",
      "File \u001b[0;32m~/.pyenv/versions/anaconda3-2024.06-1/envs/medrlcot/lib/python3.10/site-packages/transformers/utils/generic.py:969\u001b[0m, in \u001b[0;36mcan_return_tuple.<locals>.wrapper\u001b[0;34m(self, *args, **kwargs)\u001b[0m\n\u001b[1;32m    966\u001b[0m     set_attribute_for_modules(\u001b[38;5;28mself\u001b[39m, \u001b[38;5;124m\"\u001b[39m\u001b[38;5;124m_is_top_level_module\u001b[39m\u001b[38;5;124m\"\u001b[39m, \u001b[38;5;28;01mFalse\u001b[39;00m)\n\u001b[1;32m    968\u001b[0m \u001b[38;5;28;01mtry\u001b[39;00m:\n\u001b[0;32m--> 969\u001b[0m     output \u001b[38;5;241m=\u001b[39m \u001b[43mfunc\u001b[49m\u001b[43m(\u001b[49m\u001b[38;5;28;43mself\u001b[39;49m\u001b[43m,\u001b[49m\u001b[43m \u001b[49m\u001b[38;5;241;43m*\u001b[39;49m\u001b[43margs\u001b[49m\u001b[43m,\u001b[49m\u001b[43m \u001b[49m\u001b[38;5;241;43m*\u001b[39;49m\u001b[38;5;241;43m*\u001b[39;49m\u001b[43mkwargs\u001b[49m\u001b[43m)\u001b[49m\n\u001b[1;32m    970\u001b[0m     \u001b[38;5;28;01mif\u001b[39;00m is_requested_to_return_tuple \u001b[38;5;129;01mor\u001b[39;00m (is_configured_to_return_tuple \u001b[38;5;129;01mand\u001b[39;00m is_top_level_module):\n\u001b[1;32m    971\u001b[0m         output \u001b[38;5;241m=\u001b[39m output\u001b[38;5;241m.\u001b[39mto_tuple()\n",
      "File \u001b[0;32m~/.pyenv/versions/anaconda3-2024.06-1/envs/medrlcot/lib/python3.10/site-packages/transformers/models/mistral/modeling_mistral.py:690\u001b[0m, in \u001b[0;36mMistralForCausalLM.forward\u001b[0;34m(self, input_ids, attention_mask, position_ids, past_key_values, inputs_embeds, labels, use_cache, output_attentions, output_hidden_states, cache_position, logits_to_keep, **kwargs)\u001b[0m\n\u001b[1;32m    685\u001b[0m output_hidden_states \u001b[38;5;241m=\u001b[39m (\n\u001b[1;32m    686\u001b[0m     output_hidden_states \u001b[38;5;28;01mif\u001b[39;00m output_hidden_states \u001b[38;5;129;01mis\u001b[39;00m \u001b[38;5;129;01mnot\u001b[39;00m \u001b[38;5;28;01mNone\u001b[39;00m \u001b[38;5;28;01melse\u001b[39;00m \u001b[38;5;28mself\u001b[39m\u001b[38;5;241m.\u001b[39mconfig\u001b[38;5;241m.\u001b[39moutput_hidden_states\n\u001b[1;32m    687\u001b[0m )\n\u001b[1;32m    689\u001b[0m \u001b[38;5;66;03m# decoder outputs consists of (dec_features, layer_state, dec_hidden, dec_attn)\u001b[39;00m\n\u001b[0;32m--> 690\u001b[0m outputs: BaseModelOutputWithPast \u001b[38;5;241m=\u001b[39m \u001b[38;5;28;43mself\u001b[39;49m\u001b[38;5;241;43m.\u001b[39;49m\u001b[43mmodel\u001b[49m\u001b[43m(\u001b[49m\n\u001b[1;32m    691\u001b[0m \u001b[43m    \u001b[49m\u001b[43minput_ids\u001b[49m\u001b[38;5;241;43m=\u001b[39;49m\u001b[43minput_ids\u001b[49m\u001b[43m,\u001b[49m\n\u001b[1;32m    692\u001b[0m \u001b[43m    \u001b[49m\u001b[43mattention_mask\u001b[49m\u001b[38;5;241;43m=\u001b[39;49m\u001b[43mattention_mask\u001b[49m\u001b[43m,\u001b[49m\n\u001b[1;32m    693\u001b[0m \u001b[43m    \u001b[49m\u001b[43mposition_ids\u001b[49m\u001b[38;5;241;43m=\u001b[39;49m\u001b[43mposition_ids\u001b[49m\u001b[43m,\u001b[49m\n\u001b[1;32m    694\u001b[0m \u001b[43m    \u001b[49m\u001b[43mpast_key_values\u001b[49m\u001b[38;5;241;43m=\u001b[39;49m\u001b[43mpast_key_values\u001b[49m\u001b[43m,\u001b[49m\n\u001b[1;32m    695\u001b[0m \u001b[43m    \u001b[49m\u001b[43minputs_embeds\u001b[49m\u001b[38;5;241;43m=\u001b[39;49m\u001b[43minputs_embeds\u001b[49m\u001b[43m,\u001b[49m\n\u001b[1;32m    696\u001b[0m \u001b[43m    \u001b[49m\u001b[43muse_cache\u001b[49m\u001b[38;5;241;43m=\u001b[39;49m\u001b[43muse_cache\u001b[49m\u001b[43m,\u001b[49m\n\u001b[1;32m    697\u001b[0m \u001b[43m    \u001b[49m\u001b[43moutput_attentions\u001b[49m\u001b[38;5;241;43m=\u001b[39;49m\u001b[43moutput_attentions\u001b[49m\u001b[43m,\u001b[49m\n\u001b[1;32m    698\u001b[0m \u001b[43m    \u001b[49m\u001b[43moutput_hidden_states\u001b[49m\u001b[38;5;241;43m=\u001b[39;49m\u001b[43moutput_hidden_states\u001b[49m\u001b[43m,\u001b[49m\n\u001b[1;32m    699\u001b[0m \u001b[43m    \u001b[49m\u001b[43mcache_position\u001b[49m\u001b[38;5;241;43m=\u001b[39;49m\u001b[43mcache_position\u001b[49m\u001b[43m,\u001b[49m\n\u001b[1;32m    700\u001b[0m \u001b[43m    \u001b[49m\u001b[38;5;241;43m*\u001b[39;49m\u001b[38;5;241;43m*\u001b[39;49m\u001b[43mkwargs\u001b[49m\u001b[43m,\u001b[49m\n\u001b[1;32m    701\u001b[0m \u001b[43m\u001b[49m\u001b[43m)\u001b[49m\n\u001b[1;32m    703\u001b[0m hidden_states \u001b[38;5;241m=\u001b[39m outputs\u001b[38;5;241m.\u001b[39mlast_hidden_state\n\u001b[1;32m    704\u001b[0m \u001b[38;5;66;03m# Only compute necessary logits, and do not upcast them to float if we are not computing the loss\u001b[39;00m\n",
      "File \u001b[0;32m~/.pyenv/versions/anaconda3-2024.06-1/envs/medrlcot/lib/python3.10/site-packages/torch/nn/modules/module.py:1751\u001b[0m, in \u001b[0;36mModule._wrapped_call_impl\u001b[0;34m(self, *args, **kwargs)\u001b[0m\n\u001b[1;32m   1749\u001b[0m     \u001b[38;5;28;01mreturn\u001b[39;00m \u001b[38;5;28mself\u001b[39m\u001b[38;5;241m.\u001b[39m_compiled_call_impl(\u001b[38;5;241m*\u001b[39margs, \u001b[38;5;241m*\u001b[39m\u001b[38;5;241m*\u001b[39mkwargs)  \u001b[38;5;66;03m# type: ignore[misc]\u001b[39;00m\n\u001b[1;32m   1750\u001b[0m \u001b[38;5;28;01melse\u001b[39;00m:\n\u001b[0;32m-> 1751\u001b[0m     \u001b[38;5;28;01mreturn\u001b[39;00m \u001b[38;5;28;43mself\u001b[39;49m\u001b[38;5;241;43m.\u001b[39;49m\u001b[43m_call_impl\u001b[49m\u001b[43m(\u001b[49m\u001b[38;5;241;43m*\u001b[39;49m\u001b[43margs\u001b[49m\u001b[43m,\u001b[49m\u001b[43m \u001b[49m\u001b[38;5;241;43m*\u001b[39;49m\u001b[38;5;241;43m*\u001b[39;49m\u001b[43mkwargs\u001b[49m\u001b[43m)\u001b[49m\n",
      "File \u001b[0;32m~/.pyenv/versions/anaconda3-2024.06-1/envs/medrlcot/lib/python3.10/site-packages/torch/nn/modules/module.py:1762\u001b[0m, in \u001b[0;36mModule._call_impl\u001b[0;34m(self, *args, **kwargs)\u001b[0m\n\u001b[1;32m   1757\u001b[0m \u001b[38;5;66;03m# If we don't have any hooks, we want to skip the rest of the logic in\u001b[39;00m\n\u001b[1;32m   1758\u001b[0m \u001b[38;5;66;03m# this function, and just call forward.\u001b[39;00m\n\u001b[1;32m   1759\u001b[0m \u001b[38;5;28;01mif\u001b[39;00m \u001b[38;5;129;01mnot\u001b[39;00m (\u001b[38;5;28mself\u001b[39m\u001b[38;5;241m.\u001b[39m_backward_hooks \u001b[38;5;129;01mor\u001b[39;00m \u001b[38;5;28mself\u001b[39m\u001b[38;5;241m.\u001b[39m_backward_pre_hooks \u001b[38;5;129;01mor\u001b[39;00m \u001b[38;5;28mself\u001b[39m\u001b[38;5;241m.\u001b[39m_forward_hooks \u001b[38;5;129;01mor\u001b[39;00m \u001b[38;5;28mself\u001b[39m\u001b[38;5;241m.\u001b[39m_forward_pre_hooks\n\u001b[1;32m   1760\u001b[0m         \u001b[38;5;129;01mor\u001b[39;00m _global_backward_pre_hooks \u001b[38;5;129;01mor\u001b[39;00m _global_backward_hooks\n\u001b[1;32m   1761\u001b[0m         \u001b[38;5;129;01mor\u001b[39;00m _global_forward_hooks \u001b[38;5;129;01mor\u001b[39;00m _global_forward_pre_hooks):\n\u001b[0;32m-> 1762\u001b[0m     \u001b[38;5;28;01mreturn\u001b[39;00m \u001b[43mforward_call\u001b[49m\u001b[43m(\u001b[49m\u001b[38;5;241;43m*\u001b[39;49m\u001b[43margs\u001b[49m\u001b[43m,\u001b[49m\u001b[43m \u001b[49m\u001b[38;5;241;43m*\u001b[39;49m\u001b[38;5;241;43m*\u001b[39;49m\u001b[43mkwargs\u001b[49m\u001b[43m)\u001b[49m\n\u001b[1;32m   1764\u001b[0m result \u001b[38;5;241m=\u001b[39m \u001b[38;5;28;01mNone\u001b[39;00m\n\u001b[1;32m   1765\u001b[0m called_always_called_hooks \u001b[38;5;241m=\u001b[39m \u001b[38;5;28mset\u001b[39m()\n",
      "File \u001b[0;32m~/.pyenv/versions/anaconda3-2024.06-1/envs/medrlcot/lib/python3.10/site-packages/transformers/utils/generic.py:969\u001b[0m, in \u001b[0;36mcan_return_tuple.<locals>.wrapper\u001b[0;34m(self, *args, **kwargs)\u001b[0m\n\u001b[1;32m    966\u001b[0m     set_attribute_for_modules(\u001b[38;5;28mself\u001b[39m, \u001b[38;5;124m\"\u001b[39m\u001b[38;5;124m_is_top_level_module\u001b[39m\u001b[38;5;124m\"\u001b[39m, \u001b[38;5;28;01mFalse\u001b[39;00m)\n\u001b[1;32m    968\u001b[0m \u001b[38;5;28;01mtry\u001b[39;00m:\n\u001b[0;32m--> 969\u001b[0m     output \u001b[38;5;241m=\u001b[39m \u001b[43mfunc\u001b[49m\u001b[43m(\u001b[49m\u001b[38;5;28;43mself\u001b[39;49m\u001b[43m,\u001b[49m\u001b[43m \u001b[49m\u001b[38;5;241;43m*\u001b[39;49m\u001b[43margs\u001b[49m\u001b[43m,\u001b[49m\u001b[43m \u001b[49m\u001b[38;5;241;43m*\u001b[39;49m\u001b[38;5;241;43m*\u001b[39;49m\u001b[43mkwargs\u001b[49m\u001b[43m)\u001b[49m\n\u001b[1;32m    970\u001b[0m     \u001b[38;5;28;01mif\u001b[39;00m is_requested_to_return_tuple \u001b[38;5;129;01mor\u001b[39;00m (is_configured_to_return_tuple \u001b[38;5;129;01mand\u001b[39;00m is_top_level_module):\n\u001b[1;32m    971\u001b[0m         output \u001b[38;5;241m=\u001b[39m output\u001b[38;5;241m.\u001b[39mto_tuple()\n",
      "File \u001b[0;32m~/.pyenv/versions/anaconda3-2024.06-1/envs/medrlcot/lib/python3.10/site-packages/transformers/models/mistral/modeling_mistral.py:423\u001b[0m, in \u001b[0;36mMistralModel.forward\u001b[0;34m(self, input_ids, attention_mask, position_ids, past_key_values, inputs_embeds, use_cache, output_attentions, output_hidden_states, cache_position, **flash_attn_kwargs)\u001b[0m\n\u001b[1;32m    420\u001b[0m \u001b[38;5;28;01mif\u001b[39;00m output_hidden_states:\n\u001b[1;32m    421\u001b[0m     all_hidden_states \u001b[38;5;241m+\u001b[39m\u001b[38;5;241m=\u001b[39m (hidden_states,)\n\u001b[0;32m--> 423\u001b[0m layer_outputs \u001b[38;5;241m=\u001b[39m \u001b[43mdecoder_layer\u001b[49m\u001b[43m(\u001b[49m\n\u001b[1;32m    424\u001b[0m \u001b[43m    \u001b[49m\u001b[43mhidden_states\u001b[49m\u001b[43m,\u001b[49m\n\u001b[1;32m    425\u001b[0m \u001b[43m    \u001b[49m\u001b[43mattention_mask\u001b[49m\u001b[38;5;241;43m=\u001b[39;49m\u001b[43mcausal_mask\u001b[49m\u001b[43m,\u001b[49m\n\u001b[1;32m    426\u001b[0m \u001b[43m    \u001b[49m\u001b[43mposition_ids\u001b[49m\u001b[38;5;241;43m=\u001b[39;49m\u001b[43mposition_ids\u001b[49m\u001b[43m,\u001b[49m\n\u001b[1;32m    427\u001b[0m \u001b[43m    \u001b[49m\u001b[43mpast_key_value\u001b[49m\u001b[38;5;241;43m=\u001b[39;49m\u001b[43mpast_key_values\u001b[49m\u001b[43m,\u001b[49m\n\u001b[1;32m    428\u001b[0m \u001b[43m    \u001b[49m\u001b[43moutput_attentions\u001b[49m\u001b[38;5;241;43m=\u001b[39;49m\u001b[43moutput_attentions\u001b[49m\u001b[43m,\u001b[49m\n\u001b[1;32m    429\u001b[0m \u001b[43m    \u001b[49m\u001b[43muse_cache\u001b[49m\u001b[38;5;241;43m=\u001b[39;49m\u001b[43muse_cache\u001b[49m\u001b[43m,\u001b[49m\n\u001b[1;32m    430\u001b[0m \u001b[43m    \u001b[49m\u001b[43mcache_position\u001b[49m\u001b[38;5;241;43m=\u001b[39;49m\u001b[43mcache_position\u001b[49m\u001b[43m,\u001b[49m\n\u001b[1;32m    431\u001b[0m \u001b[43m    \u001b[49m\u001b[43mposition_embeddings\u001b[49m\u001b[38;5;241;43m=\u001b[39;49m\u001b[43mposition_embeddings\u001b[49m\u001b[43m,\u001b[49m\n\u001b[1;32m    432\u001b[0m \u001b[43m    \u001b[49m\u001b[38;5;241;43m*\u001b[39;49m\u001b[38;5;241;43m*\u001b[39;49m\u001b[43mflash_attn_kwargs\u001b[49m\u001b[43m,\u001b[49m\n\u001b[1;32m    433\u001b[0m \u001b[43m\u001b[49m\u001b[43m)\u001b[49m\n\u001b[1;32m    435\u001b[0m hidden_states \u001b[38;5;241m=\u001b[39m layer_outputs[\u001b[38;5;241m0\u001b[39m]\n\u001b[1;32m    437\u001b[0m \u001b[38;5;28;01mif\u001b[39;00m output_attentions:\n",
      "File \u001b[0;32m~/.pyenv/versions/anaconda3-2024.06-1/envs/medrlcot/lib/python3.10/site-packages/transformers/modeling_layers.py:48\u001b[0m, in \u001b[0;36mGradientCheckpointingLayer.__call__\u001b[0;34m(self, *args, **kwargs)\u001b[0m\n\u001b[1;32m     46\u001b[0m \u001b[38;5;28;01mif\u001b[39;00m \u001b[38;5;28mself\u001b[39m\u001b[38;5;241m.\u001b[39mgradient_checkpointing \u001b[38;5;129;01mand\u001b[39;00m \u001b[38;5;28mself\u001b[39m\u001b[38;5;241m.\u001b[39mtraining:\n\u001b[1;32m     47\u001b[0m     \u001b[38;5;28;01mreturn\u001b[39;00m \u001b[38;5;28mself\u001b[39m\u001b[38;5;241m.\u001b[39m_gradient_checkpointing_func(partial(\u001b[38;5;28msuper\u001b[39m()\u001b[38;5;241m.\u001b[39m\u001b[38;5;21m__call__\u001b[39m, \u001b[38;5;241m*\u001b[39m\u001b[38;5;241m*\u001b[39mkwargs), \u001b[38;5;241m*\u001b[39margs)\n\u001b[0;32m---> 48\u001b[0m \u001b[38;5;28;01mreturn\u001b[39;00m \u001b[38;5;28;43msuper\u001b[39;49m\u001b[43m(\u001b[49m\u001b[43m)\u001b[49m\u001b[38;5;241;43m.\u001b[39;49m\u001b[38;5;21;43m__call__\u001b[39;49m\u001b[43m(\u001b[49m\u001b[38;5;241;43m*\u001b[39;49m\u001b[43margs\u001b[49m\u001b[43m,\u001b[49m\u001b[43m \u001b[49m\u001b[38;5;241;43m*\u001b[39;49m\u001b[38;5;241;43m*\u001b[39;49m\u001b[43mkwargs\u001b[49m\u001b[43m)\u001b[49m\n",
      "File \u001b[0;32m~/.pyenv/versions/anaconda3-2024.06-1/envs/medrlcot/lib/python3.10/site-packages/torch/nn/modules/module.py:1751\u001b[0m, in \u001b[0;36mModule._wrapped_call_impl\u001b[0;34m(self, *args, **kwargs)\u001b[0m\n\u001b[1;32m   1749\u001b[0m     \u001b[38;5;28;01mreturn\u001b[39;00m \u001b[38;5;28mself\u001b[39m\u001b[38;5;241m.\u001b[39m_compiled_call_impl(\u001b[38;5;241m*\u001b[39margs, \u001b[38;5;241m*\u001b[39m\u001b[38;5;241m*\u001b[39mkwargs)  \u001b[38;5;66;03m# type: ignore[misc]\u001b[39;00m\n\u001b[1;32m   1750\u001b[0m \u001b[38;5;28;01melse\u001b[39;00m:\n\u001b[0;32m-> 1751\u001b[0m     \u001b[38;5;28;01mreturn\u001b[39;00m \u001b[38;5;28;43mself\u001b[39;49m\u001b[38;5;241;43m.\u001b[39;49m\u001b[43m_call_impl\u001b[49m\u001b[43m(\u001b[49m\u001b[38;5;241;43m*\u001b[39;49m\u001b[43margs\u001b[49m\u001b[43m,\u001b[49m\u001b[43m \u001b[49m\u001b[38;5;241;43m*\u001b[39;49m\u001b[38;5;241;43m*\u001b[39;49m\u001b[43mkwargs\u001b[49m\u001b[43m)\u001b[49m\n",
      "File \u001b[0;32m~/.pyenv/versions/anaconda3-2024.06-1/envs/medrlcot/lib/python3.10/site-packages/torch/nn/modules/module.py:1762\u001b[0m, in \u001b[0;36mModule._call_impl\u001b[0;34m(self, *args, **kwargs)\u001b[0m\n\u001b[1;32m   1757\u001b[0m \u001b[38;5;66;03m# If we don't have any hooks, we want to skip the rest of the logic in\u001b[39;00m\n\u001b[1;32m   1758\u001b[0m \u001b[38;5;66;03m# this function, and just call forward.\u001b[39;00m\n\u001b[1;32m   1759\u001b[0m \u001b[38;5;28;01mif\u001b[39;00m \u001b[38;5;129;01mnot\u001b[39;00m (\u001b[38;5;28mself\u001b[39m\u001b[38;5;241m.\u001b[39m_backward_hooks \u001b[38;5;129;01mor\u001b[39;00m \u001b[38;5;28mself\u001b[39m\u001b[38;5;241m.\u001b[39m_backward_pre_hooks \u001b[38;5;129;01mor\u001b[39;00m \u001b[38;5;28mself\u001b[39m\u001b[38;5;241m.\u001b[39m_forward_hooks \u001b[38;5;129;01mor\u001b[39;00m \u001b[38;5;28mself\u001b[39m\u001b[38;5;241m.\u001b[39m_forward_pre_hooks\n\u001b[1;32m   1760\u001b[0m         \u001b[38;5;129;01mor\u001b[39;00m _global_backward_pre_hooks \u001b[38;5;129;01mor\u001b[39;00m _global_backward_hooks\n\u001b[1;32m   1761\u001b[0m         \u001b[38;5;129;01mor\u001b[39;00m _global_forward_hooks \u001b[38;5;129;01mor\u001b[39;00m _global_forward_pre_hooks):\n\u001b[0;32m-> 1762\u001b[0m     \u001b[38;5;28;01mreturn\u001b[39;00m \u001b[43mforward_call\u001b[49m\u001b[43m(\u001b[49m\u001b[38;5;241;43m*\u001b[39;49m\u001b[43margs\u001b[49m\u001b[43m,\u001b[49m\u001b[43m \u001b[49m\u001b[38;5;241;43m*\u001b[39;49m\u001b[38;5;241;43m*\u001b[39;49m\u001b[43mkwargs\u001b[49m\u001b[43m)\u001b[49m\n\u001b[1;32m   1764\u001b[0m result \u001b[38;5;241m=\u001b[39m \u001b[38;5;28;01mNone\u001b[39;00m\n\u001b[1;32m   1765\u001b[0m called_always_called_hooks \u001b[38;5;241m=\u001b[39m \u001b[38;5;28mset\u001b[39m()\n",
      "File \u001b[0;32m~/.pyenv/versions/anaconda3-2024.06-1/envs/medrlcot/lib/python3.10/site-packages/transformers/models/mistral/modeling_mistral.py:260\u001b[0m, in \u001b[0;36mMistralDecoderLayer.forward\u001b[0;34m(self, hidden_states, attention_mask, position_ids, past_key_value, output_attentions, use_cache, cache_position, position_embeddings, **kwargs)\u001b[0m\n\u001b[1;32m    258\u001b[0m residual \u001b[38;5;241m=\u001b[39m hidden_states\n\u001b[1;32m    259\u001b[0m hidden_states \u001b[38;5;241m=\u001b[39m \u001b[38;5;28mself\u001b[39m\u001b[38;5;241m.\u001b[39mpost_attention_layernorm(hidden_states)\n\u001b[0;32m--> 260\u001b[0m hidden_states \u001b[38;5;241m=\u001b[39m \u001b[38;5;28;43mself\u001b[39;49m\u001b[38;5;241;43m.\u001b[39;49m\u001b[43mmlp\u001b[49m\u001b[43m(\u001b[49m\u001b[43mhidden_states\u001b[49m\u001b[43m)\u001b[49m\n\u001b[1;32m    261\u001b[0m hidden_states \u001b[38;5;241m=\u001b[39m residual \u001b[38;5;241m+\u001b[39m hidden_states\n\u001b[1;32m    263\u001b[0m outputs \u001b[38;5;241m=\u001b[39m (hidden_states,)\n",
      "File \u001b[0;32m~/.pyenv/versions/anaconda3-2024.06-1/envs/medrlcot/lib/python3.10/site-packages/torch/nn/modules/module.py:1751\u001b[0m, in \u001b[0;36mModule._wrapped_call_impl\u001b[0;34m(self, *args, **kwargs)\u001b[0m\n\u001b[1;32m   1749\u001b[0m     \u001b[38;5;28;01mreturn\u001b[39;00m \u001b[38;5;28mself\u001b[39m\u001b[38;5;241m.\u001b[39m_compiled_call_impl(\u001b[38;5;241m*\u001b[39margs, \u001b[38;5;241m*\u001b[39m\u001b[38;5;241m*\u001b[39mkwargs)  \u001b[38;5;66;03m# type: ignore[misc]\u001b[39;00m\n\u001b[1;32m   1750\u001b[0m \u001b[38;5;28;01melse\u001b[39;00m:\n\u001b[0;32m-> 1751\u001b[0m     \u001b[38;5;28;01mreturn\u001b[39;00m \u001b[38;5;28;43mself\u001b[39;49m\u001b[38;5;241;43m.\u001b[39;49m\u001b[43m_call_impl\u001b[49m\u001b[43m(\u001b[49m\u001b[38;5;241;43m*\u001b[39;49m\u001b[43margs\u001b[49m\u001b[43m,\u001b[49m\u001b[43m \u001b[49m\u001b[38;5;241;43m*\u001b[39;49m\u001b[38;5;241;43m*\u001b[39;49m\u001b[43mkwargs\u001b[49m\u001b[43m)\u001b[49m\n",
      "File \u001b[0;32m~/.pyenv/versions/anaconda3-2024.06-1/envs/medrlcot/lib/python3.10/site-packages/torch/nn/modules/module.py:1762\u001b[0m, in \u001b[0;36mModule._call_impl\u001b[0;34m(self, *args, **kwargs)\u001b[0m\n\u001b[1;32m   1757\u001b[0m \u001b[38;5;66;03m# If we don't have any hooks, we want to skip the rest of the logic in\u001b[39;00m\n\u001b[1;32m   1758\u001b[0m \u001b[38;5;66;03m# this function, and just call forward.\u001b[39;00m\n\u001b[1;32m   1759\u001b[0m \u001b[38;5;28;01mif\u001b[39;00m \u001b[38;5;129;01mnot\u001b[39;00m (\u001b[38;5;28mself\u001b[39m\u001b[38;5;241m.\u001b[39m_backward_hooks \u001b[38;5;129;01mor\u001b[39;00m \u001b[38;5;28mself\u001b[39m\u001b[38;5;241m.\u001b[39m_backward_pre_hooks \u001b[38;5;129;01mor\u001b[39;00m \u001b[38;5;28mself\u001b[39m\u001b[38;5;241m.\u001b[39m_forward_hooks \u001b[38;5;129;01mor\u001b[39;00m \u001b[38;5;28mself\u001b[39m\u001b[38;5;241m.\u001b[39m_forward_pre_hooks\n\u001b[1;32m   1760\u001b[0m         \u001b[38;5;129;01mor\u001b[39;00m _global_backward_pre_hooks \u001b[38;5;129;01mor\u001b[39;00m _global_backward_hooks\n\u001b[1;32m   1761\u001b[0m         \u001b[38;5;129;01mor\u001b[39;00m _global_forward_hooks \u001b[38;5;129;01mor\u001b[39;00m _global_forward_pre_hooks):\n\u001b[0;32m-> 1762\u001b[0m     \u001b[38;5;28;01mreturn\u001b[39;00m \u001b[43mforward_call\u001b[49m\u001b[43m(\u001b[49m\u001b[38;5;241;43m*\u001b[39;49m\u001b[43margs\u001b[49m\u001b[43m,\u001b[49m\u001b[43m \u001b[49m\u001b[38;5;241;43m*\u001b[39;49m\u001b[38;5;241;43m*\u001b[39;49m\u001b[43mkwargs\u001b[49m\u001b[43m)\u001b[49m\n\u001b[1;32m   1764\u001b[0m result \u001b[38;5;241m=\u001b[39m \u001b[38;5;28;01mNone\u001b[39;00m\n\u001b[1;32m   1765\u001b[0m called_always_called_hooks \u001b[38;5;241m=\u001b[39m \u001b[38;5;28mset\u001b[39m()\n",
      "File \u001b[0;32m~/.pyenv/versions/anaconda3-2024.06-1/envs/medrlcot/lib/python3.10/site-packages/transformers/models/mistral/modeling_mistral.py:54\u001b[0m, in \u001b[0;36mMistralMLP.forward\u001b[0;34m(self, x)\u001b[0m\n\u001b[1;32m     53\u001b[0m \u001b[38;5;28;01mdef\u001b[39;00m\u001b[38;5;250m \u001b[39m\u001b[38;5;21mforward\u001b[39m(\u001b[38;5;28mself\u001b[39m, x):\n\u001b[0;32m---> 54\u001b[0m     down_proj \u001b[38;5;241m=\u001b[39m \u001b[38;5;28mself\u001b[39m\u001b[38;5;241m.\u001b[39mdown_proj(\u001b[38;5;28mself\u001b[39m\u001b[38;5;241m.\u001b[39mact_fn(\u001b[38;5;28;43mself\u001b[39;49m\u001b[38;5;241;43m.\u001b[39;49m\u001b[43mgate_proj\u001b[49m\u001b[43m(\u001b[49m\u001b[43mx\u001b[49m\u001b[43m)\u001b[49m) \u001b[38;5;241m*\u001b[39m \u001b[38;5;28mself\u001b[39m\u001b[38;5;241m.\u001b[39mup_proj(x))\n\u001b[1;32m     55\u001b[0m     \u001b[38;5;28;01mreturn\u001b[39;00m down_proj\n",
      "File \u001b[0;32m~/.pyenv/versions/anaconda3-2024.06-1/envs/medrlcot/lib/python3.10/site-packages/torch/nn/modules/module.py:1751\u001b[0m, in \u001b[0;36mModule._wrapped_call_impl\u001b[0;34m(self, *args, **kwargs)\u001b[0m\n\u001b[1;32m   1749\u001b[0m     \u001b[38;5;28;01mreturn\u001b[39;00m \u001b[38;5;28mself\u001b[39m\u001b[38;5;241m.\u001b[39m_compiled_call_impl(\u001b[38;5;241m*\u001b[39margs, \u001b[38;5;241m*\u001b[39m\u001b[38;5;241m*\u001b[39mkwargs)  \u001b[38;5;66;03m# type: ignore[misc]\u001b[39;00m\n\u001b[1;32m   1750\u001b[0m \u001b[38;5;28;01melse\u001b[39;00m:\n\u001b[0;32m-> 1751\u001b[0m     \u001b[38;5;28;01mreturn\u001b[39;00m \u001b[38;5;28;43mself\u001b[39;49m\u001b[38;5;241;43m.\u001b[39;49m\u001b[43m_call_impl\u001b[49m\u001b[43m(\u001b[49m\u001b[38;5;241;43m*\u001b[39;49m\u001b[43margs\u001b[49m\u001b[43m,\u001b[49m\u001b[43m \u001b[49m\u001b[38;5;241;43m*\u001b[39;49m\u001b[38;5;241;43m*\u001b[39;49m\u001b[43mkwargs\u001b[49m\u001b[43m)\u001b[49m\n",
      "File \u001b[0;32m~/.pyenv/versions/anaconda3-2024.06-1/envs/medrlcot/lib/python3.10/site-packages/torch/nn/modules/module.py:1762\u001b[0m, in \u001b[0;36mModule._call_impl\u001b[0;34m(self, *args, **kwargs)\u001b[0m\n\u001b[1;32m   1757\u001b[0m \u001b[38;5;66;03m# If we don't have any hooks, we want to skip the rest of the logic in\u001b[39;00m\n\u001b[1;32m   1758\u001b[0m \u001b[38;5;66;03m# this function, and just call forward.\u001b[39;00m\n\u001b[1;32m   1759\u001b[0m \u001b[38;5;28;01mif\u001b[39;00m \u001b[38;5;129;01mnot\u001b[39;00m (\u001b[38;5;28mself\u001b[39m\u001b[38;5;241m.\u001b[39m_backward_hooks \u001b[38;5;129;01mor\u001b[39;00m \u001b[38;5;28mself\u001b[39m\u001b[38;5;241m.\u001b[39m_backward_pre_hooks \u001b[38;5;129;01mor\u001b[39;00m \u001b[38;5;28mself\u001b[39m\u001b[38;5;241m.\u001b[39m_forward_hooks \u001b[38;5;129;01mor\u001b[39;00m \u001b[38;5;28mself\u001b[39m\u001b[38;5;241m.\u001b[39m_forward_pre_hooks\n\u001b[1;32m   1760\u001b[0m         \u001b[38;5;129;01mor\u001b[39;00m _global_backward_pre_hooks \u001b[38;5;129;01mor\u001b[39;00m _global_backward_hooks\n\u001b[1;32m   1761\u001b[0m         \u001b[38;5;129;01mor\u001b[39;00m _global_forward_hooks \u001b[38;5;129;01mor\u001b[39;00m _global_forward_pre_hooks):\n\u001b[0;32m-> 1762\u001b[0m     \u001b[38;5;28;01mreturn\u001b[39;00m \u001b[43mforward_call\u001b[49m\u001b[43m(\u001b[49m\u001b[38;5;241;43m*\u001b[39;49m\u001b[43margs\u001b[49m\u001b[43m,\u001b[49m\u001b[43m \u001b[49m\u001b[38;5;241;43m*\u001b[39;49m\u001b[38;5;241;43m*\u001b[39;49m\u001b[43mkwargs\u001b[49m\u001b[43m)\u001b[49m\n\u001b[1;32m   1764\u001b[0m result \u001b[38;5;241m=\u001b[39m \u001b[38;5;28;01mNone\u001b[39;00m\n\u001b[1;32m   1765\u001b[0m called_always_called_hooks \u001b[38;5;241m=\u001b[39m \u001b[38;5;28mset\u001b[39m()\n",
      "File \u001b[0;32m~/.pyenv/versions/anaconda3-2024.06-1/envs/medrlcot/lib/python3.10/site-packages/bitsandbytes/nn/modules.py:496\u001b[0m, in \u001b[0;36mLinear4bit.forward\u001b[0;34m(self, x)\u001b[0m\n\u001b[1;32m    492\u001b[0m     x \u001b[38;5;241m=\u001b[39m x\u001b[38;5;241m.\u001b[39mto(\u001b[38;5;28mself\u001b[39m\u001b[38;5;241m.\u001b[39mcompute_dtype)\n\u001b[1;32m    494\u001b[0m bias \u001b[38;5;241m=\u001b[39m \u001b[38;5;28;01mNone\u001b[39;00m \u001b[38;5;28;01mif\u001b[39;00m \u001b[38;5;28mself\u001b[39m\u001b[38;5;241m.\u001b[39mbias \u001b[38;5;129;01mis\u001b[39;00m \u001b[38;5;28;01mNone\u001b[39;00m \u001b[38;5;28;01melse\u001b[39;00m \u001b[38;5;28mself\u001b[39m\u001b[38;5;241m.\u001b[39mbias\u001b[38;5;241m.\u001b[39mto(\u001b[38;5;28mself\u001b[39m\u001b[38;5;241m.\u001b[39mcompute_dtype)\n\u001b[0;32m--> 496\u001b[0m \u001b[38;5;28;01mreturn\u001b[39;00m \u001b[43mbnb\u001b[49m\u001b[38;5;241;43m.\u001b[39;49m\u001b[43mmatmul_4bit\u001b[49m\u001b[43m(\u001b[49m\u001b[43mx\u001b[49m\u001b[43m,\u001b[49m\u001b[43m \u001b[49m\u001b[38;5;28;43mself\u001b[39;49m\u001b[38;5;241;43m.\u001b[39;49m\u001b[43mweight\u001b[49m\u001b[38;5;241;43m.\u001b[39;49m\u001b[43mt\u001b[49m\u001b[43m(\u001b[49m\u001b[43m)\u001b[49m\u001b[43m,\u001b[49m\u001b[43m \u001b[49m\u001b[43mbias\u001b[49m\u001b[38;5;241;43m=\u001b[39;49m\u001b[43mbias\u001b[49m\u001b[43m,\u001b[49m\u001b[43m \u001b[49m\u001b[43mquant_state\u001b[49m\u001b[38;5;241;43m=\u001b[39;49m\u001b[38;5;28;43mself\u001b[39;49m\u001b[38;5;241;43m.\u001b[39;49m\u001b[43mweight\u001b[49m\u001b[38;5;241;43m.\u001b[39;49m\u001b[43mquant_state\u001b[49m\u001b[43m)\u001b[49m\u001b[38;5;241;43m.\u001b[39;49m\u001b[43mto\u001b[49m\u001b[43m(\u001b[49m\u001b[43minp_dtype\u001b[49m\u001b[43m)\u001b[49m\n",
      "\u001b[0;31mKeyboardInterrupt\u001b[0m: "
     ]
    }
   ],
   "source": [
    "from tqdm import tqdm\n",
    "from datasets import Dataset\n",
    "# def preprocess_func(model, dataset):\n",
    "    # processed_dataset = {'symptoms_labs': [], 'thought_process': [], 'diagnosis': []}\n",
    "def process_example(example_note):\n",
    "    sentences = example_note.split('.')\n",
    "    chunks = example_note.split('\\n\\n')\n",
    "    print(len(chunks))\n",
    "    \n",
    "    processed_example = {'sentence': [], 'class': []}\n",
    "    \n",
    "    initit_prompt = \"\"\"<|im_start|>system\n",
    "You are a medical assistant helping organize a patient's clinical notes  that will presented by paragraph/chunk.\n",
    "    \n",
    "Your tasks is to read through the chunk of a clinical note and classify different sentences as one of the following keys \"symptoms_labs\", \"thought_process\", and \"diagnosis\":\n",
    "symptoms_labs: \n",
    "- All references to symptoms they are currently or was experiencing, test results, or lab findings\n",
    "thought_process: \n",
    "- The reasoning, considerations, or requested labs made by the doctor\n",
    "diagnosis: \n",
    "- The doctor's final or working diagnosis, including the explanation or background of a diagnosis.\n",
    "\n",
    "Respond ONLY with a valid JSON object **EXACTLY** with the sentence as key and the classification as the value: \"symptoms_labs\", \"thought_process\", and \"diagnosis\". \n",
    "\n",
    "**Do not rephrase or paraphrase sentences. Use the original sentences exactly as provided.**\n",
    "<|im_end|>\n",
    "\"\"\"\n",
    "\n",
    "    \n",
    "    prompts = [f\"\"\"{initit_prompt}\n",
    "    <|im_start|>user\n",
    "    {chunk}\n",
    "    <|im_end|>\n",
    "    <|im_start|>assistant\n",
    "    \"\"\" for chunk in chunks\n",
    "    ]\n",
    "\n",
    "    responses = []\n",
    "    for prompt in tqdm(prompts, \"Classifying prompts\", leave=False):\n",
    "        inputs = tokenizer(prompt, return_tensors=\"pt\").to(model.device)\n",
    "        output = model.generate(**inputs, max_new_tokens=1024, do_sample=False, pad_token_id=tokenizer.eos_token_id)\n",
    "        # output = model.generate(**inputs, max_new_tokens=1024, do_sample=False, temperature=0.0)\n",
    "\n",
    "        response = tokenizer.decode(output[0], skip_special_tokens=True)\n",
    "        parsed_dict = json_to_dict(response)\n",
    "        if parsed_dict is not None:\n",
    "            for sent, cat in parsed_dict.items():\n",
    "                processed_example['class'].append(str(cat))\n",
    "                processed_example['sentence'].append(str(sent))\n",
    "                # processed_dataset[cat.strip()].append(sent)\n",
    "        # break\n",
    "\n",
    "    return processed_example\n",
    "\n",
    "# processed_dataset = []\n",
    "\n",
    "for i in tqdm(range(0, len(datasets['mimic4']['train'])), \"Preprocessing dataset\"):\n",
    "# for i in tqdm(range(0, len(datasets['aug_med_notes']['full_note'])), \"Preprocessing dataset\"):\n",
    "    logger.info(f\"Preprocessing example {i}\")\n",
    "    if i >= dataset_example_idx:\n",
    "        processed_example = process_example(datasets['mimic4']['train'][i]['text'])\n",
    "        processed_dataset['class'].extend(processed_example['class'])\n",
    "        processed_dataset['sentence'].extend(processed_example['sentence'])\n",
    "        processed_dataset['case_id'].extend([str(i) for _ in processed_example['class']])\n",
    "        dataset_example_idx += 1\n",
    "            \n",
    "        logger.info(f\"Dumping to save\")\n",
    "        processed_dir = os.path.join(os.getcwd(), medrlcot_config.data_dir, 'mimic4', 'processed')\n",
    "        hf_dataset = Dataset.from_dict(processed_dataset)\n",
    "        hf_dataset.save_to_disk(processed_dir)\n",
    "    else:\n",
    "        logger.info(f\"Example {i} already complete, skipping\")\n",
    "    # processed_dataset.append(process_example(example))\n",
    "    # if i > 0:\n",
    "    #     break\n",
    "\n",
    "\n",
    "\n",
    "# return processed_dataset"
   ]
  },
  {
   "cell_type": "code",
   "execution_count": 56,
   "id": "77f61ea2-f079-4bf6-8363-4c5a55b60402",
   "metadata": {},
   "outputs": [
    {
     "data": {
      "text/plain": [
       "42"
      ]
     },
     "execution_count": 56,
     "metadata": {},
     "output_type": "execute_result"
    }
   ],
   "source": [
    "dataset_example_idx"
   ]
  },
  {
   "cell_type": "code",
   "execution_count": 58,
   "id": "7c77feed-86fb-4b36-8b78-0dd36ae483a0",
   "metadata": {},
   "outputs": [],
   "source": [
    "ckpt_preprocess = {\n",
    "    'ckpt-idx': dataset_example_idx\n",
    "}\n",
    "ckpt_file"
   ]
  },
  {
   "cell_type": "code",
   "execution_count": 59,
   "id": "d16684e4-b414-46b8-a5fe-334539456727",
   "metadata": {},
   "outputs": [],
   "source": [
    "with open(ckpt_file, 'w') as f:\n",
    "    json.dump(ckpt_preprocess, f)"
   ]
  },
  {
   "cell_type": "code",
   "execution_count": 54,
   "id": "8e1bfbf1-99b4-4a40-bf11-8108a4a3527e",
   "metadata": {},
   "outputs": [
    {
     "data": {
      "application/vnd.jupyter.widget-view+json": {
       "model_id": "b8190fe310ab4cb6a1421e068ecd2ae5",
       "version_major": 2,
       "version_minor": 0
      },
      "text/plain": [
       "Saving the dataset (0/1 shards):   0%|          | 0/666 [00:00<?, ? examples/s]"
      ]
     },
     "metadata": {},
     "output_type": "display_data"
    }
   ],
   "source": [
    "processed_dir = os.path.join(os.getcwd(), medrlcot_config.data_dir, 'mimic4', 'processed')\n",
    "hf_dataset = Dataset.from_dict(processed_dataset)\n",
    "hf_dataset.save_to_disk(processed_dir)"
   ]
  },
  {
   "cell_type": "code",
   "execution_count": 52,
   "id": "64bd04bf-cca4-46ca-a23f-21152854d6fc",
   "metadata": {},
   "outputs": [],
   "source": [
    "processed_dataset['case_id'] = [str(case_id) for case_id in processed_dataset['case_id']]"
   ]
  },
  {
   "cell_type": "code",
   "execution_count": 60,
   "id": "eb9c1e26-75f3-46b5-96b0-8bb82a6f20af",
   "metadata": {
    "scrolled": true
   },
   "outputs": [],
   "source": [
    "# processed_dataset = preprocess_func(model, datasets['aug_med_notes']['full_note'])\n",
    "# processed_dataset['case_id']\n",
    "# processed_dataset"
   ]
  },
  {
   "cell_type": "code",
   "execution_count": null,
   "id": "20e8c503-8e9e-4c52-9114-cdf368ef7d16",
   "metadata": {},
   "outputs": [],
   "source": []
  },
  {
   "cell_type": "code",
   "execution_count": 33,
   "id": "2dfc1433-db53-42c0-ae48-684830184fcc",
   "metadata": {},
   "outputs": [],
   "source": [
    "# processed_dataset['case_id'] = []\n",
    "# processed_dataset['case_id'].extend([-1 for _ in processed_dataset['class']])"
   ]
  },
  {
   "cell_type": "code",
   "execution_count": 53,
   "id": "b752b0c9-2645-4b88-adfb-0bd5eb4f208e",
   "metadata": {},
   "outputs": [
    {
     "name": "stdout",
     "output_type": "stream",
     "text": [
      "666 666\n"
     ]
    }
   ],
   "source": [
    "print(len(processed_dataset['class']), len(processed_dataset['case_id']))"
   ]
  },
  {
   "cell_type": "code",
   "execution_count": 273,
   "id": "78048fde-1e41-4a61-a197-d69de829a06a",
   "metadata": {},
   "outputs": [
    {
     "name": "stdout",
     "output_type": "stream",
     "text": [
      "53 53\n"
     ]
    }
   ],
   "source": [
    "# print(len(processed_dataset['class']), len(processed_dataset['sentence']))"
   ]
  },
  {
   "cell_type": "code",
   "execution_count": null,
   "id": "50563881-d753-409e-98a0-e460c1743b8c",
   "metadata": {},
   "outputs": [],
   "source": [
    "# len(test['class'])"
   ]
  },
  {
   "cell_type": "code",
   "execution_count": null,
   "id": "e21fc190-eaf3-4490-a8b5-5194022233a4",
   "metadata": {},
   "outputs": [],
   "source": []
  },
  {
   "cell_type": "code",
   "execution_count": null,
   "id": "d23fe30b-9625-4b50-ae76-8eaf5568407b",
   "metadata": {},
   "outputs": [],
   "source": [
    "hf_dataset"
   ]
  },
  {
   "cell_type": "code",
   "execution_count": null,
   "id": "cd125701-4272-4cb0-b676-af6120f0bf6f",
   "metadata": {},
   "outputs": [],
   "source": [
    "# Dataset.from_file(os.path.join(processed_dir, 'data-00000-of-00001.arrow'))"
   ]
  },
  {
   "cell_type": "code",
   "execution_count": 246,
   "id": "087c6fec-9588-4541-b5c9-36374488d08c",
   "metadata": {},
   "outputs": [
    {
     "data": {
      "text/plain": [
       "'/home/ubuntu/medrlcot/data/aug_med_notes/processed'"
      ]
     },
     "execution_count": 246,
     "metadata": {},
     "output_type": "execute_result"
    }
   ],
   "source": []
  },
  {
   "cell_type": "code",
   "execution_count": 209,
   "id": "7067d17e-480c-48bc-8f47-50856a9f20e0",
   "metadata": {},
   "outputs": [
    {
     "name": "stdout",
     "output_type": "stream",
     "text": [
      "{'A 47-year-old male patient was referred to the rheumatology clinic because of recurrent attacks of pain in both knees over 1 year.': 'symptoms_labs'}\n",
      "{'In September 2016, the patient presented with severe pain over the medial aspect of the left knee for a two-week duration which prevented him from ambulation.': 'symptoms_labs', 'The pain increased with weight-bearing physical activity.': 'symptoms_labs', 'The patient reported no history of trauma before the onset of the knee pain.': 'symptoms_labs', 'Examination showed severe tenderness over the medial side of the knee with mild effusion and moderate limitation of range of motion.': 'symptoms_labs', 'There was no erythema or increased warmth of the knee.': 'symptoms_labs', 'MRI of the left knee showed a moderate-sized focal area of marrow edema/contusion involving the medial femoral condyle in mid and anterior parts predominantly along the articular surface.': 'symptoms_labs', 'The patient was prescribed diclofenac sodium 50 mg twice daily and was advised to avoid prolonged weight-bearing activities.': 'symptoms_labs', 'Over the next few weeks, the pain subsided and resolved.': 'symptoms_labs', 'Three months later, the patient developed spontaneous new onset of pain involving the lateral aspect of the same knee.': 'symptoms_labs', 'MRI showed bone marrow edema involving the lateral femoral condyle with complete resolution of the bone marrow edema of the medial femoral condyle.': 'symptoms_labs', 'He was treated conservatively with NSAIDs and physiotherapy and advised to use a cane to minimize weight bearing on the diseased knee.': 'symptoms_labs', 'demonstrates MRI of the left knee in September 2016 and three months later.': 'symptoms_labs'}\n",
      "{'In April 2017, the patient developed gradual pain over the medial side of the right knee with no obvious swelling.': 'symptoms_labs', 'MRI of the right knee showed a moderate-sized focal area of marrow edema involving the medial tibial plateau medially and anteriorly.': 'symptoms_labs', 'The patient was treated conservatively in a similar fashion to the previous episode.': 'thought_process', 'Four months later, the pain got more severe for which he underwent another MRI of the right knee which showed extensive marrow edema involving the medial femoral condyle with complete recovery of the medial tibial plateau bone marrow edema noted in the previous MRI ().': 'symptoms_labs', 'The patient also recalled a similar pain happened in 2011 to the left knee but did not do MRI at that time.': 'symptoms_labs'}\n",
      "{'In all previous presentations, the patient did not report any history of trauma, fall, twist, constitutional symptoms, or using corticosteroids.': 'symptoms_labs', 'He also had no history of other joint involvement apart from knees and denied any history of low back pain.': 'symptoms_labs', 'He did not have any features suggestive of spondyloarthropathy or connective tissue disease.': 'symptoms_labs'}\n",
      "{'Past history is significant for fracture of the greater tuberosity of the left humerus and undisplaced fracture of the left cuboid bone. Fractures happened after he fell off a ladder.': 'symptoms_labs', 'Also, he is known to have mild asthma which is controlled with as-needed bronchodilator and hypertension maintained on amlodipine 5 mg daily.': 'symptoms_labs', 'The patient had never been a smoker or an alcohol consumer.': 'symptoms_labs'}\n",
      "{'Lab investigations revealed vitamin D 8 ng/mL (normal: >30 ng/mL), corrected calcium 2.16 mmol/L (normal: 2.10–2.60 mmol/L), parathyroid hormone 91 pg/ml (normal: 15–65 pg/ml), and alkaline phosphatase 49 U/L (normal: 40–150 U/L)': 'symptoms_labs', 'Complete blood count, kidney and liver function, CRP, and ESR were within normal limit.': 'symptoms_labs', 'Immunology profile including rheumatoid factor, ACPA, ANA, anticardiolipin, and B2-glycoprotein were all negative.': 'symptoms_labs'}\n",
      "{'DXA scan showed a T score of −1.0 at the lumbar spine and −1.6 at the left femoral neck suggestive of osteopenia. shows further details of the DXA scan.': 'symptoms_labs'}\n",
      "{'The patient was treated conservatively with oral vitamin D2 50,000 IU/week supplement and NSAIDs.': 'diagnosis', 'Gradually, the symptoms subsided over the next few weeks, and vitamin D level became normal after 12 weeks.': 'diagnosis'}\n"
     ]
    }
   ],
   "source": [
    "# for t in test[4]:\n",
    "#     print(t)\n",
    "#     # print(json_to_dict(t))"
   ]
  },
  {
   "cell_type": "code",
   "execution_count": 111,
   "id": "f9370604-994c-4fed-a3c2-9b8e1d428fb8",
   "metadata": {},
   "outputs": [
    {
     "data": {
      "text/plain": [
       "4"
      ]
     },
     "execution_count": 111,
     "metadata": {},
     "output_type": "execute_result"
    }
   ],
   "source": [
    "len(test)"
   ]
  },
  {
   "cell_type": "code",
   "execution_count": 7,
   "id": "288bc46c-0980-4ac9-8184-1ac448b2e2ca",
   "metadata": {},
   "outputs": [],
   "source": [
    "from transformers import AutoTokenizer, AutoModelForCausalLM, pipeline\n",
    "import torch\n",
    "import json\n",
    "\n",
    "# Load model (adjust to your chosen model)\n",
    "# model_id = \"NousResearch/Nous-Hermes-2-Mistral-7B-DPO\"\n",
    "# tokenizer = AutoTokenizer.from_pretrained(model_id)\n",
    "# model = AutoModelForCausalLM.from_pretrained(\n",
    "#     model_id,\n",
    "#     torch_dtype=torch.float16,\n",
    "#     device_map=\"auto\"\n",
    "# )\n",
    "# import torch\n",
    "# from transformers import AutoTokenizer, AutoModelForCausalLM\n",
    "# from transformers import LlamaTokenizer, MixtralForCausalLM\n",
    "# import bitsandbytes, flash_attn\n",
    "\n",
    "# tokenizer = LlamaTokenizer.from_pretrained('NousResearch/Nous-Hermes-2-Mistral-7B-DPO', trust_remote_code=True)\n",
    "# model = MistralForCausalLM.from_pretrained(\n",
    "#     \"NousResearch/Nous-Hermes-2-Mistral-7B-DPO\",\n",
    "#     torch_dtype=torch.float16,\n",
    "#     device_map=\"auto\",\n",
    "#     load_in_8bit=False,\n",
    "#     load_in_4bit=True,\n",
    "#     use_flash_attention_2=True\n",
    "# )"
   ]
  },
  {
   "cell_type": "code",
   "execution_count": null,
   "id": "84ff3ff0-e767-4832-908e-84f923261c00",
   "metadata": {},
   "outputs": [],
   "source": []
  }
 ],
 "metadata": {
  "kernelspec": {
   "display_name": "Python 3 (ipykernel)",
   "language": "python",
   "name": "python3"
  },
  "language_info": {
   "codemirror_mode": {
    "name": "ipython",
    "version": 3
   },
   "file_extension": ".py",
   "mimetype": "text/x-python",
   "name": "python",
   "nbconvert_exporter": "python",
   "pygments_lexer": "ipython3",
   "version": "3.10.16"
  }
 },
 "nbformat": 4,
 "nbformat_minor": 5
}
