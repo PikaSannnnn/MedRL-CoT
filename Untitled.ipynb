{
 "cells": [
  {
   "cell_type": "code",
   "execution_count": 1,
   "id": "d93cd76d-8aed-40d5-8ee0-c24566c28480",
   "metadata": {},
   "outputs": [],
   "source": [
    "%load_ext autoreload\n",
    "%autoreload 2\n",
    "# %reload_ext autoreload"
   ]
  },
  {
   "cell_type": "code",
   "execution_count": 2,
   "id": "b682f71a-59eb-4552-b60c-74081bc2dddb",
   "metadata": {
    "scrolled": true
   },
   "outputs": [],
   "source": [
    "# Install required modules\n",
    "# !pip install datasets dotenv torch SentencePiece accelerate huggingface_hub\n",
    "# !pip install -U bitsandbytes\n",
    "# !pip install --force-reinstall transformers==4.35.2\n",
    "# !pip install --force-reinstall --upgrade bitsandbytes"
   ]
  },
  {
   "cell_type": "code",
   "execution_count": 363,
   "id": "9e981972-c451-4655-a4eb-add48c351ac9",
   "metadata": {},
   "outputs": [],
   "source": [
    "from medrlcot.config.env import MedRL_CoT\n",
    "from medrlcot import data_manager\n",
    "from medrlcot.medrlcot_logger import setup_logger\n",
    "from dotenv import load_dotenv\n",
    "import datasets as hf_datasets\n",
    "import logging\n",
    "import os"
   ]
  },
  {
   "cell_type": "code",
   "execution_count": 3,
   "id": "f3daee32-9beb-4303-b18e-806ffc111d0a",
   "metadata": {},
   "outputs": [
    {
     "name": "stderr",
     "output_type": "stream",
     "text": [
      "2025-05-30 05:41:17,293 || INFO || Logger - Setup for MedRL-CoT's log done. This is the beginning of the log.\n",
      "2025-05-30 05:41:17,293 || INFO || DataManager - Loading datasets: ['aug_med_notes', 'mimic4']\n",
      "2025-05-30 05:41:17,294 || INFO || DataManager - AGBonnet/augmented-clinical-notes dataset already exists in disk. If the dataset is giving errors or you'd like a fresh install, delete the /home/ubuntu/medrlcot/data/aug_med_notes directory.\n",
      "2025-05-30 05:41:17,295 || INFO || DataManager - Loading saved hugginface AGBonnet/augmented-clinical-notes dataset.\n",
      "2025-05-30 05:41:17,357 || INFO || DataManager - Successfully loaded AGBonnet/augmented-clinical-notes as key aug_med_notes\n",
      "2025-05-30 05:41:17,358 || ERROR || DataManager - Dataset not found in local. Due to long web-download time, this dataset must be manually installed to local with the dataset expected to be saved as /home/ubuntu/medrlcot/data/mimic4/discharge.csv.gz.\n",
      "2025-05-30 05:41:17,359 || WARNING || DataManager - Failed to load 1 dataset: {'mimic4'}!\n",
      "2025-05-30 05:41:17,359 || INFO || DataManager - Successfully loaded 1 datasets: ['aug_med_notes']\n"
     ]
    },
    {
     "name": "stdout",
     "output_type": "stream",
     "text": [
      "Generated new log file logs/medrlcot003.log\n"
     ]
    },
    {
     "data": {
      "text/plain": [
       "{'aug_med_notes': Dataset({\n",
       "     features: ['idx', 'note', 'full_note', 'conversation', 'summary'],\n",
       "     num_rows: 30000\n",
       " })}"
      ]
     },
     "execution_count": 3,
     "metadata": {},
     "output_type": "execute_result"
    }
   ],
   "source": [
    "# env = load_dotenv()\n",
    "# model_cfg_path = os.path.join(os.getcwd(), os.getenv('model_config'))\n",
    "model_cfg_path = os.path.join(os.getcwd(), \"medrlcot/config/.env\")\n",
    "medrlcot_config = MedRL_CoT(model_cfg_path)\n",
    "\n",
    "setup_logger()\n",
    "logger = logging.getLogger(\"MedRL-CoT Setup\")\n",
    "\n",
    "# Download datasets\n",
    "datasets = data_manager.load_datasets(medrlcot_config.datasets, data_dir=medrlcot_config.data_dir)\n",
    "\n",
    "datasets\n",
    "# print(datasets['aug_med_notes']['full_note'][0])\n",
    "# data_manager.load_datasets(medrlcot_config.datasets, data_dir=medrlcot_config.data_dir, load=False)"
   ]
  },
  {
   "cell_type": "code",
   "execution_count": 360,
   "id": "e40bda42-108f-4e06-9c4c-8385b1893c03",
   "metadata": {},
   "outputs": [],
   "source": [
    "ckpt_file = os.path.join(os.getcwd(), medrlcot_config.data_dir, 'aug_med_notes', 'checkpoint.json')\n",
    "processed_dir = os.path.join(os.getcwd(), medrlcot_config.data_dir, 'aug_med_notes', 'processed')"
   ]
  },
  {
   "cell_type": "code",
   "execution_count": 361,
   "id": "703d41c3-c82d-4503-992b-a7aefca1e671",
   "metadata": {},
   "outputs": [
    {
     "data": {
      "text/plain": [
       "242"
      ]
     },
     "execution_count": 361,
     "metadata": {},
     "output_type": "execute_result"
    }
   ],
   "source": [
    "checkpoint_idx = 0\n",
    "if os.path.exists(ckpt_file):\n",
    "    with open(ckpt_file, 'r') as f:\n",
    "        checkpoint_idx = json.load(f)['ckpt-idx']\n",
    "\n",
    "checkpoint_idx"
   ]
  },
  {
   "cell_type": "code",
   "execution_count": 5,
   "id": "cfd6cee1-d1a8-4b68-8759-d48f2de94507",
   "metadata": {
    "scrolled": true
   },
   "outputs": [],
   "source": [
    "# # Load model directly\n",
    "# from transformers import AutoTokenizer, AutoModelForCausalLM\n",
    "\n",
    "# tokenizer = AutoTokenizer.from_pretrained(\"meta-llama/Llama-3.3-70B-Instruct\")\n",
    "# model = AutoModelForCausalLM.from_pretrained(\"meta-llama/Llama-3.3-70B-Instruct\")"
   ]
  },
  {
   "cell_type": "code",
   "execution_count": 6,
   "id": "6c1f8408-ff49-4241-b54a-501b3790ab3f",
   "metadata": {},
   "outputs": [],
   "source": [
    "# !pip install flash_attn"
   ]
  },
  {
   "cell_type": "code",
   "execution_count": 8,
   "id": "1777f8cb-a193-4dc0-8fe6-48db303acc0d",
   "metadata": {},
   "outputs": [
    {
     "name": "stderr",
     "output_type": "stream",
     "text": [
      "The `load_in_4bit` and `load_in_8bit` arguments are deprecated and will be removed in the future versions. Please, pass a `BitsAndBytesConfig` object in `quantization_config` argument instead.\n",
      "2025-05-30 05:55:50,617 || INFO || accelerate.utils.modeling - We will use 90% of the memory on device 0 for storing the model, and 10% for the buffer to avoid OOM. You can set `max_memory` in to a higher value to use more memory (at your own risk).\n"
     ]
    },
    {
     "data": {
      "application/vnd.jupyter.widget-view+json": {
       "model_id": "76b4ac1b61e1490fa13f1c01521b0314",
       "version_major": 2,
       "version_minor": 0
      },
      "text/plain": [
       "Loading checkpoint shards:   0%|          | 0/3 [00:00<?, ?it/s]"
      ]
     },
     "metadata": {},
     "output_type": "display_data"
    }
   ],
   "source": [
    "# Load model directly\n",
    "import torch\n",
    "from transformers import AutoTokenizer, AutoModelForCausalLM\n",
    "import bitsandbytes\n",
    "\n",
    "tokenizer = AutoTokenizer.from_pretrained(\"NousResearch/Nous-Hermes-2-Mistral-7B-DPO\", use_fast=False)\n",
    "model = AutoModelForCausalLM.from_pretrained(\"NousResearch/Nous-Hermes-2-Mistral-7B-DPO\", torch_dtype=torch.float16, \n",
    "                                             device_map=\"auto\", load_in_8bit=False, load_in_4bit=True)\n",
    "# model = AutoModelForCausalLM.from_pretrained(\"NousResearch/Nous-Hermes-2-Mistral-7B-DPO\")"
   ]
  },
  {
   "cell_type": "code",
   "execution_count": 11,
   "id": "832400ec-0b0c-47db-b647-a98565219cf6",
   "metadata": {
    "scrolled": true
   },
   "outputs": [
    {
     "data": {
      "text/plain": [
       "'A a sixteen year-old girl, presented to our Outpatient department with the complaints of discomfort in the neck and lower back as well as restriction of body movements. She was not able to maintain an erect posture and would tend to fall on either side while standing up from a sitting position. She would keep her head turned to the right and upwards due to the sustained contraction of the neck muscles. There was a sideways bending of the back in the lumbar region. To counter the abnormal positioning of the back and neck, she would keep her limbs in a specific position to allow her body weight to be supported. Due to the restrictions with the body movements at the neck and in the lumbar region, she would require assistance in standing and walking. She would require her parents to help her with daily chores, including all activities of self-care.\\\\nShe had been experiencing these difficulties for the past four months since when she was introduced to olanzapine tablets for the control of her exacerbated mental illness. This was not her first experience with this drug over the past seven years since she had been diagnosed with bipolar affective disorder. Her first episode of the affective disorder was that of mania at the age of eleven which was managed with the use of olanzapine tablets in 2.5–10 mg doses per day at different times. The patient developed pain and discomfort in her neck within the second week of being put on tablet olanzapine at a dose of 5 mg per day. This was associated with a sustained and abnormal contraction of the neck muscles that would pull her head to the right in an upward direction. These features had persisted for the first three years of her illness with a varying intensity, distress, and dysfunction which would tend to correlate with the dose of olanzapine. Apart from a brief period of around three weeks when she was given tablet trihexyphenidyl 4 mg per day for rigidity in her upper limbs, she was not prescribed any other psychotropic medication. The rigidity showed good response to this medication which was subsequently stopped. The introduction and subsequent withdrawal of this medication did not bring about any change in the sustained abnormal contraction of her neck muscles.\\\\nImprovement and subsequent remission of the mood symptoms of the patient provided the treatment team with an opportunity to stop olanzapine. The discomfort in the neck and the abnormal movement of the neck muscles persisted over the next three months’ period when she was off olanzapine without any significant change, even with a trial of propranolol, trihexyphenidyl, and phenargan injection. Reintroduction of olanzapine (at a dose of 2.5 mg per day) after a gap of three months for the reemergence of some behavioral features led to a slight aggravation of the already existing abnormal movement and posturing of the neck.\\\\nWith improvement in the clinical picture, olanzapine was reduced and stopped. She was put on tablet sodium valproate, 1000 mg per day during this period for the stabilization of her mood when she was also given escitalopram for a period of three months for her depressive features. The patient responded well to this change in medication, but she developed amenorrhea for which no cause was established after a detailed gynecological evaluation. Keeping in mind the possibility of valproate-induced menstrual disturbance, she was shifted to tablet lithium 450 mg per day. The patient was well maintained on this medication for a period of around two years. However, she developed hypothyroidism for which eltroxin was introduced at a dose of 50 micrograms per day.\\\\nDuring this period of two years and seven months, the abnormal contraction of the neck muscles and the abnormal positioning of the head improved slightly, and with the improvement, it would cause less discomfort and interference in her activities. However, these movements failed to disappear completely. Another exacerbation of the mood symptoms in the form of mania warranted a need for the introduction of olanzapine (by a different treatment team) and the patient was reintroduced to 10 mg olanzapine on a daily basis, which led to the current presentation as described earlier.\\\\nAfter the case was seen at our institute, the psychotropic medications were stopped as her mood symptoms had remitted and she was put on tablet tetrabenazine (built up to 75 mg per day in divided doses) with which the patient had started showing some response with an improvement in abnormal movements of the muscles of the neck as well as the back. She is now able to stand with support and can do some daily chores on her own. The pain and discomfort in the back and neck have also reduced.\\\\nDuring the course of the illness, the patient has been investigated for the presence of any neurological illness as the cause of her abnormal movements. Her MRI scan of the brain, serum and urine copper levels, slit lamp microscopy for the KF ring, complete blood count, TLC, DLC, and USG of the abdomen did not reveal any abnormalities. Her thyroid function tests were deranged subsequent to the introduction of tablet lithium carbonate which was restored to normal after the introduction of tablet eltroxin.\\\\nDystonia is a syndrome of sustained muscle contractions that produce twisting and repetitive movements or abnormal postures. The descriptions of the extent and severity of muscle involvement are variable, ranging from intermittent contraction limited to a single body region, to generalized dystonia involving the limbs and axial muscles.\\\\nEver since the introduction of the term, “dystonia” by Oppenhiem in the early part of the twentieth century, it has been an area of focused attention of the neurologists. In 1973, Keegan and Rajput introduced the term, “” to describe drug-induced, sustained muscle spasm causing repetitive movements or abnormal postures. “” was a term introduced by Burke in 1982, the description of which required the presence of chronic dystonia, a history of antipsychotic drug treatment preceding or concurrent with the onset of dystonia, the exclusion of known causes of secondary dystonia by appropriate clinical and laboratory evaluation, and a negative family history of dystonia for definitive diagnosis.\\\\nThe dystonia could be classified based on the region(s) of the body involved. Involvement of isolated regions like the face, neck, and arms would be labeled as focal dystonia, whereas simultaneous involvement of two or more contiguous areas would be called segmental dystonia. When the clinical picture is that of involvement of two or more noncontiguous regions, the label used is, “multifocal” and the involvement of one leg and one other body region makes it the generalized type.\\\\nThe symptoms of tardive dystonia could begin even after a few days or weeks of exposure to the offending agent. Tardive dystonia is prevalent in 0.5–21.6% of the patients who are treated with neuroleptics.\\\\nThe syndrome of tardive dystonia has been reported with most of the typical antipsychotics.[] It has been associated with the atypical antipsychotics, namely risperidone, olanzapine, quetiapine, and aripiprazole. Reports of tardive dystonia developing with the use of atypical antipsychotics have been predominantly in the cases of nonaffective psychosis and in the adult population in the age ranges of the midthirties and forties. Our case is the first case of an affective illness in an adolescent girl developing tardive dystonia on olanzapine. The aggravation of the clinical features with the inadvertent reintroduction of the medication suggests olanzapine is the offending agent. With the growing acceptance of olanzapine as the first-line therapy for the manic phase of bipolar illness and as a mood stabilizer for the maintenance therapy, one needs to be cautious about the emergence of this troublesome adverse effect of this therapy. The patient has shown some response to the introduction of tetrabenazine.'"
      ]
     },
     "execution_count": 11,
     "metadata": {},
     "output_type": "execute_result"
    }
   ],
   "source": [
    "example_note=datasets['aug_med_notes']['full_note'][0]\n",
    "example_note"
   ]
  },
  {
   "cell_type": "code",
   "execution_count": 12,
   "id": "c903e73a-8bd2-48b3-8d6f-f771372613f8",
   "metadata": {},
   "outputs": [],
   "source": [
    "# example_note = \"\"\"A a sixteen year-old girl, presented to our Outpatient department with the complaints of discomfort in the neck and lower back as well as restriction of body movements. She was not able to maintain an erect posture and would tend to fall on either side while standing up from a sitting position. She would keep her head turned to the right and upwards due to the sustained contraction of the neck muscles. There was a sideways bending of the back in the lumbar region. To counter the abnormal positioning of the back and neck, she would keep her limbs in a specific position to allow her body weight to be supported. Due to the restrictions with the body movements at the neck and in the lumbar region, she would require assistance in standing and walking. She would require her parents to help her with daily chores, including all activities of self-care.\\nShe had been experiencing these difficulties for the past four months since when she was introduced to olanzapine tablets for the control of her exacerbated mental illness. This was not her first experience with this drug over the past seven years since she had been diagnosed with bipolar affective disorder. Her first episode of the affective disorder was that of mania at the age of eleven which was managed with the use of olanzapine tablets in 2.5–10 mg doses per day at different times. The patient developed pain and discomfort in her neck within the second week of being put on tablet olanzapine at a dose of 5 mg per day. This was associated with a sustained and abnormal contraction of the neck muscles that would pull her head to the right in an upward direction. These features had persisted for the first three years of her illness with a varying intensity, distress, and dysfunction which would tend to correlate with the dose of olanzapine. Apart from a brief period of around three weeks when she was given tablet trihexyphenidyl 4 mg per day for rigidity in her upper limbs, she was not prescribed any other psychotropic medication. The rigidity showed good response to this medication which was subsequently stopped. The introduction and subsequent withdrawal of this medication did not bring about any change in the sustained abnormal contraction of her neck muscles.\\nImprovement and subsequent remission of the mood symptoms of the patient provided the treatment team with an opportunity to stop olanzapine. The discomfort in the neck and the abnormal movement of the neck muscles persisted over the next three months’ period when she was off olanzapine without any significant change, even with a trial of propranolol, trihexyphenidyl, and phenargan injection. Reintroduction of olanzapine (at a dose of 2.5 mg per day) after a gap of three months for the reemergence of some behavioral features led to a slight aggravation of the already existing abnormal movement and posturing of the neck.\\nWith improvement in the clinical picture, olanzapine was reduced and stopped. She was put on tablet sodium valproate, 1000 mg per day during this period for the stabilization of her mood when she was also given escitalopram for a period of three months for her depressive features. The patient responded well to this change in medication, but she developed amenorrhea for which no cause was established after a detailed gynecological evaluation. Keeping in mind the possibility of valproate-induced menstrual disturbance, she was shifted to tablet lithium 450 mg per day. The patient was well maintained on this medication for a period of around two years. However, she developed hypothyroidism for which eltroxin was introduced at a dose of 50 micrograms per day.\\nDuring this period of two years and seven months, the abnormal contraction of the neck muscles and the abnormal positioning of the head improved slightly, and with the improvement, it would cause less discomfort and interference in her activities. However, these movements failed to disappear completely. Another exacerbation of the mood symptoms in the form of mania warranted a need for the introduction of olanzapine (by a different treatment team) and the patient was reintroduced to 10 mg olanzapine on a daily basis, which led to the current presentation as described earlier.\\nAfter the case was seen at our institute, the psychotropic medications were stopped as her mood symptoms had remitted and she was put on tablet tetrabenazine (built up to 75 mg per day in divided doses) with which the patient had started showing some response with an improvement in abnormal movements of the muscles of the neck as well as the back. She is now able to stand with support and can do some daily chores on her own. The pain and discomfort in the back and neck have also reduced.\\nDuring the course of the illness, the patient has been investigated for the presence of any neurological illness as the cause of her abnormal movements. Her MRI scan of the brain, serum and urine copper levels, slit lamp microscopy for the KF ring, complete blood count, TLC, DLC, and USG of the abdomen did not reveal any abnormalities. Her thyroid function tests were deranged subsequent to the introduction of tablet lithium carbonate which was restored to normal after the introduction of tablet eltroxin.\\nDystonia is a syndrome of sustained muscle contractions that produce twisting and repetitive movements or abnormal postures. The descriptions of the extent and severity of muscle involvement are variable, ranging from intermittent contraction limited to a single body region, to generalized dystonia involving the limbs and axial muscles.\\nEver since the introduction of the term, “dystonia” by Oppenhiem in the early part of the twentieth century, it has been an area of focused attention of the neurologists. In 1973, Keegan and Rajput introduced the term, “” to describe drug-induced, sustained muscle spasm causing repetitive movements or abnormal postures. “” was a term introduced by Burke in 1982, the description of which required the presence of chronic dystonia, a history of antipsychotic drug treatment preceding or concurrent with the onset of dystonia, the exclusion of known causes of secondary dystonia by appropriate clinical and laboratory evaluation, and a negative family history of dystonia for definitive diagnosis.\\nThe dystonia could be classified based on the region(s) of the body involved. Involvement of isolated regions like the face, neck, and arms would be labeled as focal dystonia, whereas simultaneous involvement of two or more contiguous areas would be called segmental dystonia. When the clinical picture is that of involvement of two or more noncontiguous regions, the label used is, “multifocal” and the involvement of one leg and one other body region makes it the generalized type.\\nThe symptoms of tardive dystonia could begin even after a few days or weeks of exposure to the offending agent. Tardive dystonia is prevalent in 0.5–21.6% of the patients who are treated with neuroleptics.\\nThe syndrome of tardive dystonia has been reported with most of the typical antipsychotics.[] It has been associated with the atypical antipsychotics, namely risperidone, olanzapine, quetiapine, and aripiprazole. Reports of tardive dystonia developing with the use of atypical antipsychotics have been predominantly in the cases of nonaffective psychosis and in the adult population in the age ranges of the midthirties and forties. Our case is the first case of an affective illness in an adolescent girl developing tardive dystonia on olanzapine. The aggravation of the clinical features with the inadvertent reintroduction of the medication suggests olanzapine is the offending agent. With the growing acceptance of olanzapine as the first-line therapy for the manic phase of bipolar illness and as a mood stabilizer for the maintenance therapy, one needs to be cautious about the emergence of this troublesome adverse effect of this therapy. The patient has shown some response to the introduction of tetrabenazine.\"\"\""
   ]
  },
  {
   "cell_type": "code",
   "execution_count": 13,
   "id": "29f54a44-7692-49c7-9fcb-4d7ee1be4124",
   "metadata": {},
   "outputs": [],
   "source": [
    "sentences = example_note.split('.')\n",
    "chunks = example_note.split('\\\\n')\n",
    "# len(example_note.split())"
   ]
  },
  {
   "cell_type": "code",
   "execution_count": 14,
   "id": "bb1151dc-4aef-4d29-8fc5-887bcb992982",
   "metadata": {},
   "outputs": [
    {
     "data": {
      "text/plain": [
       "12"
      ]
     },
     "execution_count": 14,
     "metadata": {},
     "output_type": "execute_result"
    }
   ],
   "source": [
    "# len(sentences)\n",
    "len(chunks)"
   ]
  },
  {
   "cell_type": "code",
   "execution_count": 15,
   "id": "fab88b10-3989-4998-bbb1-b8bee550f865",
   "metadata": {},
   "outputs": [
    {
     "data": {
      "text/plain": [
       "'A a sixteen year-old girl, presented to our Outpatient department with the complaints of discomfort in the neck and lower back as well as restriction of body movements. She was not able to maintain an erect posture and would tend to fall on either side while standing up from a sitting position. She would keep her head turned to the right and upwards due to the sustained contraction of the neck muscles. There was a sideways bending of the back in the lumbar region. To counter the abnormal positioning of the back and neck, she would keep her limbs in a specific position to allow her body weight to be supported. Due to the restrictions with the body movements at the neck and in the lumbar region, she would require assistance in standing and walking. She would require her parents to help her with daily chores, including all activities of self-care.'"
      ]
     },
     "execution_count": 15,
     "metadata": {},
     "output_type": "execute_result"
    }
   ],
   "source": [
    "chunks[0]"
   ]
  },
  {
   "cell_type": "code",
   "execution_count": 169,
   "id": "05102934-4aaa-4e0a-8212-a333c21a4f54",
   "metadata": {},
   "outputs": [
    {
     "data": {
      "text/plain": [
       "12"
      ]
     },
     "execution_count": 169,
     "metadata": {},
     "output_type": "execute_result"
    }
   ],
   "source": [
    "# initit_prompt = f\"\"\"<|im_start|>system\n",
    "# You are a medical assistant helping organize a patient's clinical notes that will presented sentence by sentence.\n",
    "\n",
    "# Your tasks is to classify the sentence I give you as one of the following keys \"symptoms_labs\", \"thought_process\", and \"diagnosis\":\n",
    "# symptoms_labs: \n",
    "# - All references to symptoms they are currently or was experiencing, test results, or lab findings\n",
    "# thought_process: \n",
    "# - The reasoning or consideration made by the doctor\n",
    "# diagnosis: \n",
    "# - The doctor's final or working diagnosis\n",
    "\n",
    "# Respond with only the category of the sentence\n",
    "# <|im_end|>\n",
    "# \"\"\"\n",
    "# Respond with a JSON containing the sentence as key and the classification as the value: \"symptoms_labs\", \"thought_process\", and \"diagnosis\". \n",
    "initit_prompt = \"\"\"<|im_start|>system\n",
    "You are a medical assistant helping organize a patient's clinical notes  that will presented by paragraph/chunk.\n",
    "\n",
    "Your tasks is to read through the chunk of a clinical note and classify different sentences as one of the following keys \"symptoms_labs\", \"thought_process\", and \"diagnosis\":\n",
    "symptoms_labs: \n",
    "- All references to symptoms they are currently or was experiencing, test results, or lab findings\n",
    "thought_process: \n",
    "- The reasoning, considerations, or requested labs made by the doctor\n",
    "diagnosis: \n",
    "- The doctor's final or working diagnosis, including the explanation or background of a diagnosis.\n",
    "\n",
    "Respond with a JSON **EXACTLY as structured:\n",
    "{'symptoms_labs': [sentence1, sentence2, ...],\n",
    "'thought_process': [sentence1, sentence2, ...],\n",
    "'diagnosis': [sentence1, sentence2, ...]\n",
    "}\n",
    "\n",
    "\n",
    "**Do not rephrase or paraphrase sentences. Use the original sentences exactly as provided.**\n",
    "<|im_end|>\n",
    "\"\"\"\n",
    "\n",
    "prompts = [f\"\"\"{initit_prompt}\n",
    "<|im_start|>user\n",
    "{chunk}\n",
    "<|im_end|>\n",
    "<|im_start|>assistant\n",
    "\"\"\" for chunk in chunks\n",
    "]\n",
    "len(prompts)"
   ]
  },
  {
   "cell_type": "code",
   "execution_count": 170,
   "id": "0d9286a6-bd92-4ff7-a91c-bc51bf0c3dad",
   "metadata": {},
   "outputs": [
    {
     "data": {
      "text/plain": [
       "'<|im_start|>system\\nYou are a medical assistant helping organize a patient\\'s clinical notes  that will presented by paragraph/chunk.\\n\\nYour tasks is to read through the chunk of a clinical note and classify different sentences as one of the following keys \"symptoms_labs\", \"thought_process\", and \"diagnosis\":\\nsymptoms_labs: \\n- All references to symptoms they are currently or was experiencing, test results, or lab findings\\nthought_process: \\n- The reasoning, considerations, or requested labs made by the doctor\\ndiagnosis: \\n- The doctor\\'s final or working diagnosis, including the explanation or background of a diagnosis.\\n\\nRespond with a JSON **EXACTLY as structured:\\n{\\'symptoms_labs\\': [sentence1, sentence2, ...],\\n\\'thought_process\\': [sentence1, sentence2, ...],\\n\\'diagnosis\\': [sentence1, sentence2, ...]\\n}\\n\\n\\n**Do not rephrase or paraphrase sentences. Use the original sentences exactly as provided.**\\n<|im_end|>\\n\\n<|im_start|>user\\nA a sixteen year-old girl, presented to our Outpatient department with the complaints of discomfort in the neck and lower back as well as restriction of body movements. She was not able to maintain an erect posture and would tend to fall on either side while standing up from a sitting position. She would keep her head turned to the right and upwards due to the sustained contraction of the neck muscles. There was a sideways bending of the back in the lumbar region. To counter the abnormal positioning of the back and neck, she would keep her limbs in a specific position to allow her body weight to be supported. Due to the restrictions with the body movements at the neck and in the lumbar region, she would require assistance in standing and walking. She would require her parents to help her with daily chores, including all activities of self-care.\\n<|im_end|>\\n<|im_start|>assistant\\n'"
      ]
     },
     "execution_count": 170,
     "metadata": {},
     "output_type": "execute_result"
    }
   ],
   "source": [
    "prompts[0]"
   ]
  },
  {
   "cell_type": "code",
   "execution_count": null,
   "id": "95c37c65-b2f6-4639-8565-b7fb34328de1",
   "metadata": {},
   "outputs": [],
   "source": [
    "# responses = []\n",
    "# for prompt in prompts:\n",
    "#     inputs = tokenizer(prompt, return_tensors=\"pt\").to(model.device)\n",
    "#     output = model.generate(**inputs, max_new_tokens=512, do_sample=False, temperature=0.0)\n",
    "#     response = tokenizer.decode(output[0], skip_special_tokens=True)\n",
    "#     responses.append(response)\n",
    "#     if len(responses) < 3:\n",
    "#         print(response)"
   ]
  },
  {
   "cell_type": "code",
   "execution_count": 281,
   "id": "dd00851d-6cd0-4e27-ab14-3261b4b358d2",
   "metadata": {},
   "outputs": [],
   "source": [
    "import json\n",
    "import re\n",
    "\n",
    "def json_to_dict(full_response:str):\n",
    "    match = re.search(r'assistant\\s*(\\{.*|\\d+:\\s*\".*?)$', full_response, re.DOTALL)\n",
    "    json_data = None\n",
    "    if match:\n",
    "        json_str = match.group(1)\n",
    "        try:\n",
    "            json_data = json.loads(json_str)\n",
    "            logger.info(\"Successful JSON parsed!\")\n",
    "        except json.JSONDecodeError as e:\n",
    "            # print(\"Invalid JSON:\", e)\n",
    "            logger.warning(\"Invalid JSON, trying conversion\")\n",
    "            try:\n",
    "                pattern = re.compile(r'\\d+:\\s*\"(.+?)\"\\s*[:\\-]*>*\\s*(\\w+)', re.DOTALL)\n",
    "                json_data = {}\n",
    "                # print(json_str)\n",
    "                for match in pattern.findall(json_str):\n",
    "                    # print(match)\n",
    "                    sentence, label = match\n",
    "                    cleaned_sentence = sentence.strip()\n",
    "                    json_data[cleaned_sentence] = label.strip()\n",
    "                assert len(output) > 0\n",
    "                logger.info(\"Successful conversion!\")\n",
    "            except:\n",
    "                logger.error(\"Provided data schema not parseable/known, skipping this chunk\")\n",
    "                json_data = None\n",
    "    else:\n",
    "        logger.error(\"Nothing found, bad example!\")\n",
    "\n",
    "    return json_data"
   ]
  },
  {
   "cell_type": "code",
   "execution_count": 365,
   "id": "3a59ae57-8a36-4b65-a3a6-1cd4e3a67e28",
   "metadata": {},
   "outputs": [
    {
     "name": "stdout",
     "output_type": "stream",
     "text": [
      "242\n"
     ]
    },
    {
     "data": {
      "text/plain": [
       "{'sentence': ['A sixteen year-old girl, presented to our Outpatient department with the complaints of discomfort in the neck and lower back as well as restriction of body movements.',\n",
       "  'She was not able to maintain an erect posture and would tend to fall on either side while standing up from a sitting position.',\n",
       "  'She would keep her head turned to the right and upwards due to the sustained contraction of the neck muscles.',\n",
       "  'There was a sideways bending of the back in the lumbar region.',\n",
       "  'To counter the abnormal positioning of the back and neck, she would keep her limbs in a specific position to allow her body weight to be supported.',\n",
       "  'Due to the restrictions with the body movements at the neck and in the lumbar region, she would require assistance in standing and walking.',\n",
       "  'She would require her parents to help her with daily chores, including all activities of self-care.',\n",
       "  'She had been experiencing these difficulties for the past four months since when she was introduced to olanzapine tablets for the control of her exacerbated mental illness.',\n",
       "  'This was not her first experience with this drug over the past seven years since she had been diagnosed with bipolar affective disorder.',\n",
       "  'Her first episode of the affective disorder was that of mania at the age of eleven which was managed with the use of olanzapine tablets in 2.5–10 mg doses per day at different times.',\n",
       "  'The patient developed pain and discomfort in her neck within the second week of being put on tablet olanzapine at a dose of 5 mg per day.',\n",
       "  'This was associated with a sustained and abnormal contraction of the neck muscles that would pull her head to the right in an upward direction.',\n",
       "  'These features had persisted for the first three years of her illness with a varying intensity, distress, and dysfunction which would tend to correlate with the dose of olanzapine.',\n",
       "  'Apart from a brief period of around three weeks when she was given tablet trihexyphenidyl 4 mg per day for rigidity in her upper limbs, she was not prescribed any other psychotropic medication.',\n",
       "  'The introduction and subsequent withdrawal of this medication did not bring about any change in the sustained abnormal contraction of her neck muscles.',\n",
       "  'Improvement and subsequent remission of the mood symptoms of the patient provided the treatment team with an opportunity to stop olanzapine.',\n",
       "  'The discomfort in the neck and the abnormal movement of the neck muscles persisted over the next three months’ period when she was off olanzapine without any significant change, even with a trial of propranolol, trihexyphenidyl, and phenargan injection.',\n",
       "  'Reintroduction of olanzapine (at a dose of 2.5 mg per day) after a gap of three months for the reemergence of some behavioral features led to a slight aggravation of the already existing abnormal movement and posturing of the neck.',\n",
       "  'With improvement in the clinical picture, olanzapine was reduced and stopped. She was put on tablet sodium valproate, 1000 mg per day during this period for the stabilization of her mood when she was also given escitalopram for a period of three months for her depressive features.',\n",
       "  'The patient responded well to this change in medication, but she developed amenorrhea for which no cause was established after a detailed gynecological evaluation.',\n",
       "  'Keeping in mind the possibility of valproate-induced menstrual disturbance, she was shifted to tablet lithium 450 mg per day.',\n",
       "  'The patient was well maintained on this medication for a period of around two years.',\n",
       "  'However, she developed hypothyroidism for which eltroxin was introduced at a dose of 50 micrograms per day.',\n",
       "  'During this period of two years and seven months, the abnormal contraction of the neck muscles and the abnormal positioning of the head improved slightly, and with the improvement, it would cause less discomfort and interference in her activities. However, these movements failed to disappear completely.',\n",
       "  'Another exacerbation of the mood symptoms in the form of mania warranted a need for the introduction of olanzapine (by a different treatment team) and the patient was reintroduced to 10 mg olanzapine on a daily basis, which led to the current presentation as described earlier.',\n",
       "  'After the case was seen at our institute, the psychotropic medications were stopped as her mood symptoms had remitted and she was put on tablet tetrabenazine (built up to 75 mg per day in divided doses)',\n",
       "  'with which the patient had started showing some response with an improvement in abnormal movements of the muscles of the neck as well as the back.',\n",
       "  'She is now able to stand with support and can do some daily chores on her own.',\n",
       "  'The pain and discomfort in the back and neck have also reduced.',\n",
       "  'During the course of the illness, the patient has been investigated for the presence of any neurological illness as the cause of her abnormal movements.',\n",
       "  'Her MRI scan of the brain, serum and urine copper levels, slit lamp microscopy for the KF ring, complete blood count, TLC, DLC, and USG of the abdomen did not reveal any abnormalities.',\n",
       "  'Her thyroid function tests were deranged subsequent to the introduction of tablet lithium carbonate which was restored to normal after the introduction of tablet eltroxin.',\n",
       "  'tablet lithium carbonate',\n",
       "  'tablet eltroxin',\n",
       "  'Dystonia is a syndrome of sustained muscle contractions that produce twisting and repetitive movements or abnormal postures.',\n",
       "  'The descriptions of the extent and severity of muscle involvement are variable, ranging from intermittent contraction limited to a single body region, to generalized dystonia involving the limbs and axial muscles.',\n",
       "  'Ever since the introduction of the term, “dystonia” by Oppenhiem in the early part of the twentieth century it has been an area of focused attention of the neurologists.',\n",
       "  'In 1973, Keegan and Rajput introduced the term, “” to describe drug-induced, sustained muscle spasm causing repetitive movements or abnormal postures.',\n",
       "  '“” was a term introduced by Burke in 1982, the description of which required the presence of chronic dystonia, a history of antipsychotic drug treatment preceding or concurrent with the onset of dystonia, the exclusion of known causes of secondary dystonia by appropriate clinical and laboratory evaluation, and a negative family history of dystonia for definitive diagnosis.',\n",
       "  'The dystonia could be classified based on the region(s) of the body involved.',\n",
       "  'Involvement of isolated regions like the face, neck, and arms would be labeled as focal dystonia,',\n",
       "  'whereas simultaneous involvement of two or more contiguous areas would be called segmental dystonia.',\n",
       "  'When the clinical picture is that of involvement of two or more noncontiguous regions, the label used is, “multifocal”',\n",
       "  'and the involvement of one leg and one other body region makes it the generalized type.',\n",
       "  'The symptoms of tardive dystonia could begin even after a few days or weeks of exposure to the offending agent.',\n",
       "  'Tardive dystonia is prevalent in 0.5–21.6% of the patients who are treated with neuroleptics.',\n",
       "  'The syndrome of tardive dystonia has been reported with most of the typical antipsychotics.',\n",
       "  'It has been associated with the atypical antipsychotics, namely risperidone, olanzapine, quetiapine, and aripiprazole.',\n",
       "  'Reports of tardive dystonia developing with the use of atypical antipsychotics have been predominantly in the cases of nonaffective psychosis and in the adult population in the age ranges of the midthirties and forties.',\n",
       "  'Our case is the first case of an affective illness in an adolescent girl developing tardive dystonia on olanzapine.',\n",
       "  'The aggravation of the clinical features with the inadvertent reintroduction of the medication suggests olanzapine is the offending agent.',\n",
       "  'With the growing acceptance of olanzapine as the first-line therapy for the manic phase of bipolar illness and as a mood stabilizer for the maintenance therapy, one needs to be cautious about the emergence of this troublesome adverse effect of this therapy.',\n",
       "  'The patient has shown some response to the introduction of tetrabenazine.',\n",
       "  'This is the case of a 56-year-old man that was complaining of a dump pain on the right back and a swelling right in this place for several weeks.',\n",
       "  'The patient was in good state and very active.',\n",
       "  'There was not any health problem in the past except a thoracic trauma at work one year ago.',\n",
       "  'In that time the patient was diagnosed with a simple fracture of the 9th right rib without any other consequences.',\n",
       "  'Because there was not a correlation between the clinical picture of the patient and the conclusion of the radiology it was decided to perform frozen biopsy of the lesions of the right lung and an excision biopsy of the tumor of the thoracic wall.',\n",
       "  'So, through a small posterior thoracotomy at 7th intercostal space were sampled five nodular lesions from the right lung and a sample from the tumor.',\n",
       "  'None of these samples resulted positive (no malignant cells found) after frozen biopsy.',\n",
       "  'In such conditions was considered as more realistic the option of performing an oncologic resection of the tumor of the thoracic wall.',\n",
       "  'We resected three ribs where the 8th and 10th ribs were macroscopically free of the tumor. The resection was extended 10 cm anteriorly from the tumor and posteriorly it was accompanied by disarticulation of the ribs and partial resection of transversal processes of 8th, 9th, and 10th vertebras.',\n",
       "  'After that, we have performed a plastic procedure with polypropylene mesh in double layers to correct the defect.',\n",
       "  'The clinical course of the patient was very good and five days later he was discharged from the hospital in very good condition.',\n",
       "  'The conclusion of biopsy for both the tumor of thoracic wall and the lung nodules was sclerosing xanthofibroma which is considered by most people to be a tumor with different clinical and radiological features.',\n",
       "  'Lesions were characterized by a network of anastomosing bone trabeculae without osteoblast lining within a fibrous stroma ()',\n",
       "  'Referring to the follow-up, the patient was in a great state of health and from the first month after the surgery he turned back at his work place.',\n",
       "  'Two years after the surgery the thoracic CT-scan showed neither recurrences of the lesions of the thoracic wall nor new developments on the lungs.',\n",
       "  \"The patient's informed consent and institutional review board's clearance were obtained for the purpose of publication of a case report.\",\n",
       "  'This article was approved by Gwangju Veterans Hospital at July 2, 2018 (project number, GVHVIRB 18-0023).',\n",
       "  'A 49-year-old male presented with a complaint of pain in the left proximal forearm after a fall.',\n",
       "  'The patient had a history of left elbow arthrodesis performed for posttraumatic arthritis at the age of 18.',\n",
       "  'On physical examination he was tender at the proximal ulna.',\n",
       "  'He had no active flexion or extension at his elbow, which was fused at 90 degrees but achieved 40 degrees of pronation and 60 degrees of supination.',\n",
       "  'His motor and sensory exam was normal at the hand.',\n",
       "  'Radiographs of the forearm and the elbow revealed an elbow arthrodesis at 90 degrees with retained hardware and a minimally displaced proximal ulnar shaft fracture ().',\n",
       "  'A decision was made to treat his ulnar shaft fracture closed in a cast, and he subsequently developed a hypertrophic nonunion.',\n",
       "  'At his clinic visit three months after the fall, surgical options for the ulna nonunion were discussed with the patient.',\n",
       "  'We proceeded with conservative treatment for an additional three months, with worsening motion through the nonunion site.',\n",
       "  'He revealed that he was unhappy with the functional limitations of his elbow arthrodesis and inquired about the possibility of converting it to an arthroplasty.',\n",
       "  'The risks of elbow arthroplasty were discussed with the patient at length.',\n",
       "  'Increasing the functional capacity of his arm was his ultimate goal, and understanding that he faced a likely operation for the ulna nonunion, the patient wished to proceed.',\n",
       "  \"Due to the patient's prior surgery and history of trauma, as well as risk of infection, we chose to avoid multiple surgeries and combine the repair of nonunion and the conversion of elbow arthrodesis to arthroplasty into one procedure.\",\n",
       "  'The stem of the ulnar component would thus act as an intramedullary device.',\n",
       "  'In the operating room the patient was placed in a supine position and a posterior incision centered over the elbow was performed.',\n",
       "  'The ulnar nerve was encased in scar tissue and required a meticulous neuroplasty.',\n",
       "  'A triceps splitting approach to the elbow joint was then performed and multiple buried pins were removed from the humerus [].',\n",
       "  'A Stryker distal humeral replacement system was used to perform the total elbow arthroplasty (MRS (Stryker, Kalamazoo, MI)).',\n",
       "  'Intraoperatively, the patient had full flexion and extension of the elbow and full pronation and supination.',\n",
       "  'His muscles were properly tensioned without undue strain on the neurovascular structures.',\n",
       "  \"The patient's ulnar nonunion was also addressed with bone graft taken from the resected radial head.\",\n",
       "  'He had an uncomplicated hospital course and was allowed full ROM on postoperative day #2.',\n",
       "  'At his 4.5-month appointment, the patient was achieving 0–110° elbow active elbow flexion/extension, as well as nearly full forearm rotation.',\n",
       "  'He was experiencing minimal pain and was happy with the function of his prosthesis.',\n",
       "  'The patient was able to return to work with an elbow brace that he locked at work.',\n",
       "  'Radiographs showed a healed ulna nonunion and a stable total elbow prosthesis without signs of loosening ().',\n",
       "  'Multiple attempts to contact the patient for further follow-up have been unsuccessful.',\n",
       "  'A prior muscle flap that was used for soft tissue coverage at his index procedure had to be elevated.',\n",
       "  'Resection of the humerus was greater than normal to allow for appropriate range of motion (ROM) of the elbow without undue tension on the neurovascular structures, which had been in this position for over 30 years.',\n",
       "  'Resection of the radial head was performed as it was markedly arthritic.',\n",
       "  'After preparation of the canals, a Stryker distal humeral replacement system was used to perform the total elbow arthroplasty (MRS (Stryker, Kalamazoo, MI)).',\n",
       "  'A 47-year-old male patient was referred to the rheumatology clinic because of recurrent attacks of pain in both knees over 1 year.',\n",
       "  'In September 2016, the patient presented with severe pain over the medial aspect of the left knee for a two-week duration which prevented him from ambulation. The pain increased with weight-bearing physical activity. The patient reported no history of trauma before the onset of the knee pain.',\n",
       "  'Examination showed severe tenderness over the medial side of the knee with mild effusion and moderate limitation of range of motion. There was no erythema or increased warmth of the knee.',\n",
       "  'MRI of the left knee showed a moderate-sized focal area of marrow edema/contusion involving the medial femoral condyle in mid and anterior parts predominantly along the articular surface.',\n",
       "  'The patient was prescribed diclofenac sodium 50 mg twice daily and was advised to avoid prolonged weight-bearing activities.',\n",
       "  'Over the next few weeks, the pain subsided and resolved.',\n",
       "  'Three months later, the patient developed spontaneous new onset of pain involving the lateral aspect of the same knee.',\n",
       "  'MRI showed bone marrow edema involving the lateral femoral condyle with complete resolution of the bone marrow edema of the medial femoral condyle.',\n",
       "  'He was treated conservatively with NSAIDs and physiotherapy and advised to use a cane to minimize weight bearing on the diseased knee.',\n",
       "  'demonstrates MRI of the left knee in September 2016 and three months later.',\n",
       "  'In April 2017, the patient developed gradual pain over the medial side of the right knee with no obvious swelling.',\n",
       "  'MRI of the right knee showed a moderate-sized focal area of marrow edema involving the medial tibial plateau medially and anteriorly.',\n",
       "  'The patient was treated conservatively in a similar fashion to the previous episode.',\n",
       "  'Four months later, the pain got more severe for which he underwent another MRI of the right knee which showed extensive marrow edema involving the medial femoral condyle with complete recovery of the medial tibial plateau bone marrow edema noted in the previous MRI ().',\n",
       "  'The patient also recalled a similar pain happened in 2011 to the left knee but did not do MRI at that time.',\n",
       "  'In all previous presentations, the patient did not report any history of trauma, fall, twist, constitutional symptoms, or using corticosteroids.',\n",
       "  'He also had no history of other joint involvement apart from knees and denied any history of low back pain.',\n",
       "  'He did not have any features suggestive of spondyloarthropathy or connective tissue disease.',\n",
       "  'Past history is significant for fracture of the greater tuberosity of the left humerus and undisplaced fracture of the left cuboid bone. Fractures happened after he fell off a ladder.',\n",
       "  'Also, he is known to have mild asthma which is controlled with as-needed bronchodilator and hypertension maintained on amlodipine 5 mg daily.',\n",
       "  'The patient had never been a smoker or an alcohol consumer.',\n",
       "  'Lab investigations revealed vitamin D 8 ng/mL (normal: >30 ng/mL), corrected calcium 2.16 mmol/L (normal: 2.10–2.60 mmol/L), parathyroid hormone 91 pg/ml (normal: 15–65 pg/ml), and alkaline phosphatase 49 U/L (normal: 40–150 U/L)',\n",
       "  'Complete blood count, kidney and liver function, CRP, and ESR were within normal limit.',\n",
       "  'Immunology profile including rheumatoid factor, ACPA, ANA, anticardiolipin, and B2-glycoprotein were all negative.',\n",
       "  'DXA scan showed a T score of −1.0 at the lumbar spine and −1.6 at the left femoral neck suggestive of osteopenia. shows further details of the DXA scan.',\n",
       "  'The patient was treated conservatively with oral vitamin D2 50,000 IU/week supplement and NSAIDs.',\n",
       "  'Gradually, the symptoms subsided over the next few weeks, and vitamin D level became normal after 12 weeks.',\n",
       "  'A 24-year-old Yemeni female presented to the endocrinology clinic in April 2017 because of inability to walk and a long history of osteomalacia.',\n",
       "  'She was unable to walk for the last 4 years with severe weakness and bone pain.',\n",
       "  'She reported that for the last 2 years she was so weak that she could not turn over in bed and this was associated with pain all over her body.',\n",
       "  'Her condition started as a baby as she did not walk till she was 2.5 years old.',\n",
       "  'Then when she started school she stated she could walk but could never run, the family was poor and never sought medical help for her condition.',\n",
       "  'She got married at a young age of 15 and became pregnant soon after that.',\n",
       "  'During her pregnancy she had difficulty in walking and had pain in her legs, she needed assistance to rise from the sitting position and she was told she would need a cesarean section because she had a contracted pelvis, but she went into labor before she was able to have a cesarean section and she delivered vaginally and developed a fracture of the pubic rami during delivery.',\n",
       "  'Her condition over the following years worsened and she was having more difficulty in walking and needed assistance in climbing stairs.',\n",
       "  'She went to several orthopedic surgeons and she was diagnosed as osteomalacia and given calcium and vitamin D without any improvement, till she became totally bedridden.',\n",
       "  'At one time she was also given calcitriol in small doses and for short periods of time 0.25 mg daily.',\n",
       "  'She eventually stopped all treatments when she did not see any improvement in her condition.',\n",
       "  'She was also seen by a neurologist and was found to have a normal nerve conduction study and was told there was no evidence of neurological disease.',\n",
       "  'symptoms_labs',\n",
       "  'At her initial presentation, physical examination of the patient showed that she was 144 cm tall and weighed 49 kg, she was much shorter than the rest of her family.',\n",
       "  'She had normal teeth and hair development.',\n",
       "  'Examination was within normal limits except that she had generalized weakness and tenderness in her extremities with bowing of the legs and genu valgus.',\n",
       "  'All the blood work that the patient had from 2012 to 2019 can be seen in Table .',\n",
       "  'We report a 24-day-old female baby who presented with dyspnea and fever.',\n",
       "  'Examination showed decreased air entry on the left side and a subsequent chest radiograph showed what looked like a consolidation of that lung and air-filled bowel loops inside the chest and a further ultrasound examination also identified intrathoracic ipsilateral kidney.',\n",
       "  'A computed tomography (CT) of her thorax was performed, which confirmed left-sided diaphragmatic defect with large and small bowel and a normal looking, completely intrathoracic, ipsilateral left kidney and adrenal gland.',\n",
       "  'The baby was delivered by spontaneous vaginal delivery with no antenatal diagnosis; she had normal Apgar score and did not require any resuscitation.',\n",
       "  'The procedure was performed in left lateral decubitus position.',\n",
       "  'A 5 mm camera port was inserted by open technique in anterior axillary and two 3 mm working ports were inserted under vision on either side of camera port.',\n",
       "  'The examination confirmed the CT findings (',\n",
       "  \"The herniated large and small bowel was pushed and reduced into the abdominal cavity through the diaphragmatic defect which then revealed a completely intrathoracic kidney encased in Gerota's fascia (\",\n",
       "  ').',\n",
       "  'symptoms_labs',\n",
       "  'thought_process',\n",
       "  'diagnosis',\n",
       "  'sentence',\n",
       "  'classification',\n",
       "  '. Initially the gas pressure during the reduction in hernia contents was kept at 6 mm Hg but was then reduced to 4 mm Hg during closure of the defect.',\n",
       "  'A chest drain was left in situ through the 5 mm port site at the end of procedure as there was violation of the pleura.',\n",
       "  'The baby had uneventful recovery and was extubated within 24 hours and chest drain was removed after 48 hours.',\n",
       "  'Renal ultrasound scan showed a correctly positioned kidney with good perfusion and no signs of obstruction.',\n",
       "  'She was discharged on day 5 postoperatively and is being followed up as an outpatient;',\n",
       "  'her most recent renal ultrasound scan done 3 years postoperatively showed well and equally perfused kidneys with comparable renal volumes bilaterally without any evidence of hydronephrosis or hydroureter, or recurrence of the diaphragmatic hernia.',\n",
       "  \"During admission, the patient's mother gave a similar family history—her sister had had a similar condition at birth more than three decades ago.\",\n",
       "  'She had open repair of her diaphragmatic hernia at which an intrathoracic kidney was also found and reduced into the abdominal cavity.',\n",
       "  'In the previous months, she had been diagnosed with renal cell carcinoma in that kidney and she had just undergone a left radical nephrectomy for her condition.',\n",
       "  \"The child's parent asked whether she might have an increased risk of having similarly effected children and whether her daughter now had a higher risk of developing renal cell carcinoma in this kidney.\",\n",
       "  'On imaging it was concluded that the patient suffered from polyostotic fibrous dysplasia with bilateral Shepherd’s crook deformity of the proximal femur with bilateral non – union of pathological fracture of neck femur (',\n",
       "  'Imaging of the other bones showed evidence of the fibrous dysplastic lesions in the shaft of left tibia ',\n",
       "  'Magnetic resonance scanning of the bilateral hip region showed the features consistent with fibrous dysplasia of the proximal femur shaft along with sub - capital fracture of femur neck without evidence of avascular necrosis of the femur head ',\n",
       "  'All the blood and serum biochemical investigations of the patient like the hemoglobin, total and differential white cell counts, erythrocyte sedimentation rate, C – reactive protein, calcium, phosphorus, alkaline phosphatase levels and all the hormonal studies were within normal limits.',\n",
       "  'It was decided to do both correction of the deformity to realign the head, neck and shaft; and to achieve valgus at the neck - shaft region and a horizontal configuration neck fracture increasing the chances of union of pathological fracture of neck femur, in one stage, each side at a time.',\n",
       "  'On the right side, first oblique osteotomy was done from just distal to the greater trochanter up to the level of the neck to separate the greater trochanter and the second, lateral closing wedge abduction osteotomy was done at the subtrochanteric level to achieve alignment of the shaft with the proximal femur.',\n",
       "  'With traction neck was aligned to the head and fixed with a 135° Dynamic Richard’s screw with a long side plate.',\n",
       "  'The high riding greater trochanter was aligned with the neck and held with a tension band wire from above and medial to the abductors to hold the greater trochanter aligned.',\n",
       "  'Post – operatively we achieved a neck shaft angle of 135° on right side and 133° on the left side ().',\n",
       "  'Patient was started on active and passive quadriceps strengthening exercises',\n",
       "  'and after 6 weeks of immobilization toe touch weight bearing was started followed gradually by partial and complete weight bearing mobilization.',\n",
       "  'Follow up imaging showed union at both the osteotomy sites bilaterally and also at the site of the pathological fracture of neck femur.',\n",
       "  'Presently, at 18 months post – operatively (), patient is walking full weight bearing without support and there are no signs of recurrence of lesions of fibrous dysplasia or the deformity.',\n",
       "  'We present a case of a seventy-three-year-old Saudi man who has started visiting the primary health care center in our institution twenty-five years ago.',\n",
       "  'He has been concerned with having a cancer that would give him only few days to live.',\n",
       "  'At the beginning, the patient was evaluated medically through detailed history and documentation of his symptoms and then a management plan was created accordingly to exclude cancer.',\n",
       "  'Full history, physical examinations, and radiological and pathological investigations were ordered and the results were all negative for cancer.',\n",
       "  'The physician explained the results of the investigations to the patient but he refused them and continued to insist that he had cancer regardless of the results.',\n",
       "  'The patient was then referred to Psychiatry Department to be evaluated but he could not realize that his symptoms might be of a nonorganic cause, either psychological or mental.',\n",
       "  'The patient continued to visit the general hospital, emergency department, and the primary health care in the institution and was still occupied with the idea of cancer presence.',\n",
       "  'Although the patient was seen by many physicians, the patient was always not satisfied with their conclusions.',\n",
       "  'Eventually a physician reported the case to the department of medical eligibility addressing the issue of continuous primary health care center visits with very variable symptoms, nonconclusive diagnosis, and an unconvinced patient.',\n",
       "  \"The department of medical eligibility in the hospital administration took a decision to temporarily limit the patient's file to the psychiatry department to drive the patient to visit the psychiatrist to be evaluated psychologically in order to make his file eligible again.\",\n",
       "  'The patient was unhappy at the beginning but he had to visit the psychiatrist.',\n",
       "  'So, an appointment with the psychiatrist was booked and a full psychological and social evaluation was performed by taking a thorough history from the patient.',\n",
       "  'This revealed that the patient fit the criteria of the illness anxiety disorder in which he had a minimum of six months of a persistent belief of having a serious disease which he specifically named.',\n",
       "  'Moreover, this persistent occupation with this belief was disabling and limiting him from having a normal life and thought that his days were counted in this life.',\n",
       "  'Also, a persistent refusal of any medical advice or explanation for his symptoms and fears was neither related to schizophrenia nor related to mood disorders.',\n",
       "  \"A diagnosis of illness anxiety disorder was made despite the patient's strong refusal.\",\n",
       "  'The family and social history evaluation also revealed a very low socioeconomic status and similar conditions in the family.',\n",
       "  \"Interestingly, two of the patient's daughters had similar reported conditions which could raise the suspicion of the possible genetic predisposition that could be triggered by shared environmental factors between him and his daughters.\",\n",
       "  \"Following this extensive detailed history and evaluation, the treating psychiatrist contacted the department of medical eligibility to make the patient's file eligible again as promised by them with an unlimited eligibility to all specialties and primary care center.\",\n",
       "  'For the past twenty-five years of continuous hospital visiting, he has had almost weekly and even daily visits to the primary care.',\n",
       "  'The patient kept complaining of variable symptoms every week and specifically asking for certain lab tests and radiological studies.',\n",
       "  'Also, he successfully convinced some physicians to order a biopsy for him.',\n",
       "  \"It is reported that physicians in the primary health care center used different techniques of counseling and they applied the biopsychosocial model to overcome the patient's fears but often failed to reach an achievement as the patient continued to complain of different symptoms and became a burden on the physician's clinic time and the hospital resources.\",\n",
       "  \"In the absence of institution guidelines to deal with such cases, all physicians tended to yield to the patient's persistent complaints and accepted his demands and fulfilled his desires by requesting whatever investigations the patient asked for.\",\n",
       "  \"Over the years, the patient's investigations have cost approximately $178200 due to the system negligence to such cases.\",\n",
       "  \"The patient's most requested investigations were mainly invasive radiological studies specifically abdomen and pelvis CT (18 times) and wide range of other invasive and noninvasive studies like chest CT (11 times), brain CT (7 times), chest MRI (4 times), lumbar spine MRI (6 times), and other studies.\",\n",
       "  'It is important here to put emphasis on the potential harms of radiation from radiological studies that are frequently requested by the patient in the absence of clear guidelines to be followed by practitioners for that group of patients.',\n",
       "  'In addition, the patient asked for a variety of lab tests including renal profile, parathyroid hormone, complete blood count, estimated glomerular filtration rate, coronary risk profile, 25-hydroxy vitamin D, thyroid stimulating hormone, prostate specific antigen, free T4 level, and other very wide range of lab tests.',\n",
       "  'Moreover, the patient underwent several biopsies like renal biopsy, prostate biopsy, gastric biopsy, and other different types of biopsies.',\n",
       "  'The patient was abusing the system in which resources and time were wasted.',\n",
       "  \"The patient kept overstepping each barrier by the hospital's staff to minimize his burden on the hospital by manipulating staff and deceiving and misleading them by giving incorrect information.\",\n",
       "  \"Five years ago, an experienced board-certified family physician was shocked when he looked at the patient's file and decided to put an effort to solve this problem by taking some actions.\",\n",
       "  \"First action considered, after getting the approval from the family medicine department, was to limit the patient's primary care visits to only one clinic and to refer him to the supervising physician himself.\",\n",
       "  'Then, building strong and effective patient rapport based on trust and honesty was initiated.',\n",
       "  'After negotiations, the patient agreed to enroll in cognitive behavioral therapy (CBT) for six sessions ninety minutes each.',\n",
       "  'The patient was advised to have a scheduled sleeping time, ensure healthy eating habits with regular physical exercise, be involved in social activities, stay away from stressors like searching web for symptoms, and avoid TV health shows and health magazines during active cycles of disorder.',\n",
       "  'After that, there was an agreement with the patient not to disturb the clinic and he would get to see the physician regularly for checkups every three months.',\n",
       "  'After five years of implementing the new rules, the patient is still visiting the clinic for regular follow-up and sometimes he breaks the rules and comes regularly to the clinic especially in active cycles of the disorder.',\n",
       "  \"On following the patient's condition in the last five years, it is noticed that there is a dramatic decrease in the total financial cost due to the relative decreasing number of visits, less time spent on arguing with the patient, and the filtration of his requests.\",\n",
       "  \"Moreover, there is a remarkable improvement in the patient's condition because of CBT and relative compliance to health advice.\",\n",
       "  'We think that this rare case of extremely persisting illness anxiety is worth reporting because the patient managed somehow to escape attention and made a huge financial burden on hospital resources in the absence of clear guidelines in such conditions.',\n",
       "  'Also, this case provides useful insight for future guidelines development.',\n",
       "  'Diagnostic details omitted for privacy.',\n",
       "  'A 47 year old gentleman presented to his general practitioner with acute onset lower back pain.',\n",
       "  'The pain had commenced during coitus and radiated down the right leg.',\n",
       "  'The initial diagnosis was of acute disc prolapse and he was referred for an urgent neurosurgical opinion.',\n",
       "  'The neurosurgeon concurred that the pain may well have been of neurological origin and arranged an MRI scan.',\n",
       "  'This was reported as showing no evidence of spinal cord pathology.',\n",
       "  'The patient was reassured with the results of the MRI findings and was advised the pain was probably musculoskeletal in origin and should settle.',\n",
       "  'Over the subsequent 6 weeks, the pain persisted and indeed increased in severity.',\n",
       "  'The patient noted claudication-type pain in his right leg after approximately 100 metres.',\n",
       "  'As the pain had not resolved after 6 weeks he revisited his general practitioner.',\n",
       "  'During the subsequent examination the pulses in his right leg were noted to be absent and he was referred for an urgent vascular surgical opinion.',\n",
       "  'The patient was seen the following day in the vascular clinic where a history of severe acute claudication-type pain was noted in the right leg.',\n",
       "  'There was a past medical history of marked hypertension and hyperlipidaemia, for which he took relevant medications, but none of angina, myocardial infarct or valvular heart disease.',\n",
       "  'On clinical examination the heart rate was 68 beats per minute regular.',\n",
       "  'The blood pressure in the right arm 130/70 mmHg was lower than that of the left arm 160/80.',\n",
       "  'Cardiac examination was normal.',\n",
       "  'There was no clinical evidence of an abdominal aortic aneurysm.',\n",
       "  'Examination of the limbs revealed that the right lower limb pulses were all absent whilst those of the left leg were present and of good volume.',\n",
       "  'An urgent abdominal ultrasound scan was arranged which demonstrated dissection of the intra-abdominal aorta and a subsequent CT scan (Figures , , ) confirmed that the dissection was a Type A dissection extending from the aortic valve down to the aortic bifurcation.',\n",
       "  'A dissection flap was identified in the ascending aorta and also in the postero-inferior aspect of the descending aorta.',\n",
       "  'Both lumens were noted to have flow within them with the true lumen supplying the celiac axis, superior mesenteric artery and right renal artery and the false lumen supplying the left renal artery and inferior mesenteric artery.',\n",
       "  'Immediately below the inferior mesenteric artery the false lumen obliterated.',\n",
       "  'An immediate opinion was sought at the regional cardiothoracic unit and the patient was transferred urgently under their care.',\n",
       "  'A transthoracic echocardiogram was performed which confirmed the CT findings demonstrating turbulent flow in the ascending aorta suggestive of an intimal tear in the region although the lesion itself was not seen.',\n",
       "  'The arch was mildly dilated but with no visible flap.',\n",
       "  'Flow in the descending aorta was turbulent in the initial 2–3 cm suggesting intimal disruption.',\n",
       "  'He underwent operative repair of the thoracic dissection on the next available theatre list.',\n",
       "  'The aortic valve was resuspended and the ascending aorta were replaced using an elephant trunk graft with reimplantation of the brachiocephalic artery on 1 patch and the left common carotid and subclavian arteries on a second patch.',\n",
       "  'After 48 hours in the intensive care unit the patient was transferred to the ward where he made an uneventful recovery.',\n",
       "  'Cardiac and cerebral functions were not impaired by the procedure as evidenced by return to preoperative state and no requirements for chronotropic medications.',\n",
       "  'A routine postoperative CT scan demonstrated that the repair was satisfactory.',\n",
       "  'There was thrombosis within the false lumen of the descending aorta but persistence of flow within both lumens of the abdominal aorta.',\n",
       "  'The initial Rx-ray at admission displayed a femoral neck fracture with dislocation of the femoral head into the pelvis.',\n",
       "  'The patient also presented macroscopic and laboratory confirmed hematuria.',\n",
       "  'A CT scan was not available at that time, but because of the hematuria we suspected an anterior dislocation of the femoral head.',\n",
       "  'Surgery was performed next day in lateral approach of the hip with anterior capsulotomy.',\n",
       "  'The femoral head was not found into the hip but in the pelvis and could not be extracted but only touched by finger through a laceration between the anterior acetabular rim and the decollated labrum, creating a dislocation space similar to the anterior dislocation or the shoulder.',\n",
       "  'However a 50 mm Austin Moore prosthesis was implanted and after the surgery the patient had the femoral head replaced and the fractured femoral head retained as o loose fragment into the pelvis.',\n",
       "  'The patient was prepared for the next surgery and two days later the urologist extracted the femoral head by a new abdominal approach Gibson with retroperitoneal dissection of the common iliac vessels.',\n",
       "  'The head was placed on the iliopsoas muscle and under the iliac common vessels, and during the procedure no visible injury of the ureter, balder or iliac vessels was found.',\n",
       "  'Soon after removing the abdominal wound drainage the patient experienced pain in the hip, lost mobility and swelling occurred at the hip wound.',\n",
       "  'Several punctures of the hip extracted a large amount of clear liquid which was investigated and was found to have density and elements like urine.',\n",
       "  'A drainage tube was reinserted into the hip wound and the patient underwent repeated urological evaluation by urography and endoscopic techniques.',\n",
       "  'A fistula injury of the ipsilateral ureter was found and an internal drainage of the ureter was introduced and left in situ for three months.',\n",
       "  'The Moore prosthesis was extracted, the hip was debrided and irrigated with saline solution and gentamicin.',\n",
       "  'The hip wound healed and the patient had a Girdlestone hip for about 5 months.',\n",
       "  'The hip was revised with a total cemented Muller prosthesis, which resulted in a normal evolution of the wound and rehabilitation.',\n",
       "  'An 82-year-old female with 60 kg body weight and 156 cm height who was otherwise healthy underwent a right total knee arthroplasty for osteoarthrosis under epidural anesthesia at a hospital nearby.',\n",
       "  'The insertion of the epidural catheter and operation were finished without any problems and the removal of the epidural catheter was attempted as usual two days after the operation.',\n",
       "  'The physician felt resistance when he tried to pull out the catheter and then the catheter was broken 13 cm from the tip.',\n",
       "  'X-rays and a computed tomography scan were subsequently taken ().',\n",
       "  'Although the catheter fragment retaining within the patient was long, a wait-and-see approach was initially employed because there was no neurological deficit.',\n",
       "  'The effusion from the drain hole stopped two days later.',\n",
       "  'No neurological deficit or fever developed after the first evaluation of the images.',\n",
       "  'After detailed discussions with the patient and her family it was decided that a surgical removal of the retained catheter should be performed.',\n",
       "  'Then, the patient was referred to our hospital.',\n",
       "  'There was no neurological deficit at the time of admission.',\n",
       "  'A laminectomy was performed at L2-3 seven weeks after the catheter had broken.',\n",
       "  'The patient was placed in the prone position under general anesthesia and then the spinal level that needed to be treated and the retained catheter were identified by using an image intensifier.',\n",
       "  'We exposed the spinal process at L2-3 and the L2 spinal process was split by an air drill.',\n",
       "  'The catheter was confirmed to be present between the L2 and L3 spinous processes and the edge of the catheter was found to be broken ().',\n",
       "  'The catheter went entered the epidural space through the flavum.',\n",
       "  'After removal of the bilateral flavum in an usual manner the catheter was found to be coiled up at the surface of the dura mater and was covered by a thin reactive film ().',\n",
       "  'The catheter was heading to the nerve root.',\n",
       "  'No evidence of dural puncture by the catheter was found.',\n",
       "  'The removal of the catheter was first attempted by simple traction, however, was found to be impossible because of the adhesion ().',\n",
       "  'The adhesion of the dura mater surface was carefully exfoliated and then the removal of the catheter was accomplished ().',\n",
       "  'No cerebral spinal fluid leakage was found after removal of the catheter.',\n",
       "  'A 78 year old Caucasian male presented to our casualty 6 weeks following admission elsewhere with a history of swelling of the right leg and a pulmonary embolus.',\n",
       "  'He had undergone VQ scanning with a proven diagnosis of pulmonary embolus and was therefore anticoagulated with heparin and warfarin.',\n",
       "  'and a pulmonary embolus.',\n",
       "  'He was therefore anticoagulated with heparin and warfarin.',\n",
       "  'On admission he had swelling of the right knee and lower thigh with loss of sensation on the dorsolateral aspect of the right foot.',\n",
       "  'Clinical examination revealed a large mass in the right popliteal fossa.',\n",
       "  'The initial diagnosis was that of deep venous thrombosis and imaging was undertaken and the patient referred for a vascular opinion.',\n",
       "  'On vascular review, the patient had a pulsatile mass comparable with a popliteal artery aneurysm of 12 cms diameter on the right and 6 cms on the left.',\n",
       "  'His foot was warm and well perfused and his INR was 2.6.',\n",
       "  'He underwent a duplex scan of the lower limb arteries which revealed ectatic iliacs and an abdominal aorta of 3.4 cms in diameter.',\n",
       "  'A further CT arteriogram (fig , ) confirmed that in fact the swelling on the right side was indeed a pseudo aneurysm following rupture with peripheral calcification.',\n",
       "  'The dilemma was therefore a patient with an established pulmonary embolus and a friable clot in the iliac veins, anticoagulation and the treatment of the ruptured aneurysm.',\n",
       "  'Due to lack of expertise we elected to continue with full anticoagulation rather than place an inferior vena caval filter.',\n",
       "  'Operative exploration was performed through a medial approach under full anticoagulation and the right popliteal artery was found to contain a large volume of blood pointing laterally.',\n",
       "  'The popliteal aneurysm was excluded.',\n",
       "  'Duplex examination of the upper and lower limb veins revealed that the veins were of small diameter therefore revascularization of the leg was established by an inlay 8 mm PTFE graft.',\n",
       "  'Due to continuous oozing, the aneurysm sac was packed and the end of the pack brought out laterally.',\n",
       "  'The pack was removed at 48 hours under sedation.',\n",
       "  'The patient made an uneventful recovery.',\n",
       "  'Six weeks later he underwent repair of the left popliteal aneurysm.',\n",
       "  'On the 24th April 2006 a 9 month old girl was brought to the Emergency Department of a hospital which routinely refers patients to us.',\n",
       "  'She had sustained a dog bite to her face 30 minutes previously.',\n",
       "  'She was seen by the emergency physicians and was found to have received multiple lacerations to her face over the right zygoma, right paranasal area, right cheek, left eye lid, left paranasal area, left lower cheek and over her left body of her mandible.',\n",
       "  'She was fully examined and found to have no wounds elsewhere',\n",
       "  'however due to the circumstances of patient and parental distress, intra-oral examination was not possible.',\n",
       "  'The initial work up did not include radiographic investigations as it was felt by the emergency physicians that only a soft tissue injury was sustained.',\n",
       "  'On the advice of the on-call maxillofacial team she had her facial wounds cleaned with aqueous iodine solution and she was started on an oral course of Co-Amoxiclav and paracetamol.',\n",
       "  'An examination by the ophthalmologist revealed no ocular injury.',\n",
       "  'She was transferred to our unit the following day, fasted in preparation for an examination under general anaesthesia and primary closure of her facial lacerations.',\n",
       "  'During the procedure it was found that she had sustained an open fracture of her left mandible consistent with a dog bite.',\n",
       "  'This was treated via a trans-oral approach with a five hole 1.2 mm titanium plate and four 3 mm screws.',\n",
       "  'She had her facial laceration copiously irrigated with normal saline and chlorhexidine and primarily closed in with a fine nylon suture.',\n",
       "  'She was discharged home the next day.',\n",
       "  'Seven days later she attended for removal of sutures under a general anaesthetic and examination of her jaw.',\n",
       "  'The facial wounds were healing well and there was no movement at the fracture site.',\n",
       "  'Ten weeks after the first operation she was admitted for removal of her mandibular plate under general anaesthetic.',\n",
       "  'There was good bony union and the plate was removed with no complications (fig ).',\n",
       "  'She will continue to be reviewed in clinic to monitor dentoalveolar development and mandibular growth.',\n",
       "  'We present a 58 year old male with an unusual posterior thigh mass for more than a year.',\n",
       "  'Patient had a past medical history significant for RCC, initially diagnosed at stage II, 11 years ago followed by left nephrectomy.',\n",
       "  'Patient also had metastasis to tail of the pancreas and tip of spleen 6 years ago which was followed by total resection of pancreas and spleen.',\n",
       "  'Patient was followed up for RCC and was last seen 2 years ago when his PET/CT showed slightly increased hypermetabolic area in the biceps femoris muscle which was interpreted as a muscle injury secondary to the rarity of the metastasis to the skeletal muscle from RCC.',\n",
       "  'Patient during the current follow up visit developed a large mass in the posterior side of the thigh which was present for more than a year.',\n",
       "  'As per patient, the mass initially was diagnosed as a blood clot on venous doppler, for which he was treated by his primary care physician with warfarin for more than 6 months.',\n",
       "  'However, the mass progressively increased in size.',\n",
       "  'Patient did not mention of any other constitutional symptoms.',\n",
       "  'On physical examination, a painless, tense mass along the length of biceps femoris muscle measuring more than 25 cm was found in the posterior aspect of the left thigh.',\n",
       "  'The mass was hypervascular and numerous varicosities of different sizes were noticeable on the surface.',\n",
       "  'Patient was imaged using FDG-PET/CT which showed hypermetabolic activity with an uptake value of 3.8 to 4.1 in biceps femoris muscle with multiple serpiginous vessels throughout the tumor, in accordance with a large cavernous hemangioma or an angiosarcoma.',\n",
       "  'This was followed by MRI to better understand the morphology of the tumor, demonstrating a mesenchymal component in an encapsulated mass, raising the possibility of a liposarcoma or an angiosarcoma.',\n",
       "  'A core tissue biopsy was done which demonstrated well defined adipose tissue but because of high suspicion for malignancy, patient underwent preembolization followed by surgical resection.',\n",
       "  'A 28 x 17 x 7 cm resected mass was determined to be metastasis from his primary RCC (Figures , , , , and ).',\n",
       "  'Patient on his follow up with a whole body FDG-PET/CT was also found to have metastasis to his lateral ventricle in the brain from the RCC.',\n",
       "  'Our patient is a 73-year-old Caucasian female with medical history of hypertension and type 2 diabetes.',\n",
       "  'She had been treated for invasive ductal breast cancer 7 years ago with lumpectomy of the left breast and axillary lymph node dissection.',\n",
       "  'Radiation therapy and seven cycles of adjuvant chemotherapy were administered to her postoperatively, and Anastrozole was prescribed to her for 5 years.',\n",
       "  'She underwent regular annual follow-up for 5 years with chest and abdominal computed tomography (CT) scanning with no signs of recurrence or metastatic disease.',\n",
       "  'Seven years after the initial treatment for breast cancer, abdominal CT revealed a solid hepatic lesion at segments VI and VII measuring 7 cm in diameter as well as a 1 cm calcified lesion at the tail of the pancreas (, left).',\n",
       "  'Tumor markers AFP, CA 15–3, CA 19–9, and CEA were all within normal limits and the patient did not have any symptoms or signs of abdominal mass apart from mild tenderness on palpation of the right subcostal region.',\n",
       "  'Moreover, biochemical markers of liver and pancreatic function were normal.',\n",
       "  'CT-guided percutaneous biopsies or laparoscopic biopsies were proposed as minimal invasive methods of diagnosis.',\n",
       "  'The patient rejected both of them due to the risk for possible complications and cancer spillage and decided to undergo laparotomy, open rapid biopsy, and excision of the lesions in one procedure.',\n",
       "  'A solid mass was recognized at hepatic segments VI and VII and rapid biopsy was taken which showed primary HCC.',\n",
       "  'After entering the lesser sac, a second rapid biopsy was taken from the lesion at the pancreatic tail which showed chronic fibrosis without elements of malignancy ().',\n",
       "  'We decided to perform resection of hepatic segments VI and VII since intraoperative hepatic ultrasound also confirmed that the mass was resectable with safe oncologic margins.',\n",
       "  'Hepatic segmentectomy was achieved using a microwave tissue coagulator to mark and coagulate the margins of hepatectomy and ultrasound harmonic scalpel to transect the hepatic parenchyma with a minimal blood loss of 40 cc ().',\n",
       "  'Moreover, argon beam coagulator and fibrin glue were used to seal the raw liver surface and prophylactic cholecystectomy was also performed.',\n",
       "  'Finally, the pancreatic lesion was left intact since malignancy was not confirmed with rapid biopsy.',\n",
       "  'Pathology report described a hepatic mass with maximum diameter of 6.5 cm which consisted of malignant cells with mild to severe atypia and low to medium mitotic rate.',\n",
       "  'Immunohistochemistry showed that cancer cells highly expressed keratins 8/18, Hep-Par 1 and AFP and did not express keratin 7 and GATA-3 ().',\n",
       "  'Endothelial cells within the mass were positive for CD 34.',\n",
       "  'The gallbladder along with the cystic lymph node was normal.',\n",
       "  'The final diagnosis was low-grade HCC with liver margins widely free from malignant infiltration.',\n",
       "  'The postoperative course of the patient was uneventful.',\n",
       "  'The subdiaphragmatic and subhepatic drains were removed on the third postoperative day without signs of hemorrhage or bile leakage',\n",
       "  'and the patient was discharged on the fifth postoperative day.',\n",
       "  'Follow-up abdominal CT scanning on the first and sixth month after the operation showed subcapsular hepatic fluid collection without recurrence of the HCC',\n",
       "  '(, right).\" -> (ignored, not a sentence)\\n    6:',\n",
       "  'symptoms_labs',\n",
       "  'A 50-year-old right-handed Latino man presented with worsening of previously stable chronic motor symptoms.',\n",
       "  'He had initially developed sudden weakness and difficulty using his right upper extremity at the age of 16 years.',\n",
       "  'He eventually had to learn to write using his left hand because of the severity of his weakness.',\n",
       "  'His symptoms progressed over several years, eventually developing into severe symmetrical upper extremity weakness and atrophy in his distal muscles.',\n",
       "  'His lower extremities were spared.',\n",
       "  'Our patient stated he was diagnosed with a type of muscular dystrophy in the US when he was 25 years old.',\n",
       "  'After receiving this diagnosis, he subsequently had a muscle biopsy in Mexico that reportedly confirmed his diagnosis.',\n",
       "  'He had no family members with muscular dystrophy or any other neuromuscular conditions.',\n",
       "  'His symptoms reached their plateau at this time.',\n",
       "  'Because of the stability of his symptoms and his understanding of the disease course, our patient did not seek any further medical care for over 20 years.',\n",
       "  'Upon returning to the US, he was seen by a primary care physician and referred for neurological examination to establish care as well as evaluate the worsening of previously stable chronic symptoms.',\n",
       "  'On presentation, our patient reported a few months of clinical deterioration, particularly recent left upper arm intermittent mild pressure pain.',\n",
       "  'Our patient grew concerned when he noticed increased difficulty performing fine motor tasks with his left hand.',\n",
       "  'In addition, he was experiencing recurrent intermittent episodes of dysphagia while eating solid foods.',\n",
       "  'Our patient denied ever having any previous bulbar symptoms prior to his recent clinical deterioration.',\n",
       "  'A clinical examination demonstrated that our patient was thin with significant bilateral upper extremity muscle atrophy and associated weakness.',\n",
       "  'He had severe asymmetric focal segmental atrophy of his bilateral forearm flexor and extensor muscle groups, with preserved and prominent bilateral brachioradialis muscles (Figure ).',\n",
       "  'He had corresponding severe weakness in his upper extremities as measured using the Medical Research Council Scale, with 4-/5 to 5/5 proximal strength and as low as 1/5 strength in his distal muscles.',\n",
       "  'He had bilateral radial deviation during wrist extension.',\n",
       "  'Although his lower extremities demonstrated normal bulk, he had mild weakness on manual muscle testing as well.',\n",
       "  'Our patient had 4/5 strength in his left hip extensors and flexors as well as 4/5 strength in bilateral knee extensors.',\n",
       "  'He had no face weakness, no sensory deficits, no abnormal reflexes, no muscle fasciculations, and no upper motor neuron signs on examination.',\n",
       "  'thought_process',\n",
       "  'Compound muscle action potentials (CMAP) of his left median, ulnar and radial nerves were absent.',\n",
       "  'His upper extremity sensory nerve action potential (SNAP) responses were normal except for a slightly low amplitude of his ulnar and radial nerves.',\n",
       "  'His lower extremity peroneal and tibial CMAPs and sural SNAPs were normal.',\n",
       "  'Electromyography (EMG) of his upper extremities demonstrated evidence of diffuse chronic neurogenic changes in C5 to T1 innervated muscles as well as evidence of active denervation in his right triceps brachii.',\n",
       "  'In his left lower extremity, chronic neurogenic changes were noted in the gastrocnemius medial head.',\n",
       "  'His left cervical paraspinal muscles were normal on EMG.',\n",
       "  'Magnetic resonance imaging (MRI) without contrast of his cervical, thoracic and lumbar spinal cord demonstrated Chiari malformation type I with associated syringohydromyelia extending from C1 (Figure ) to T11 (Figure ). The maximal anterior-posterior diameter was 4mm and maximal lateral diameter 10mm. There was cord atrophy and mild atrophy of his paraspinal musculature (Figure ).',\n",
       "  'Once the syrinx was identified on MRI, our patient was referred to our neurosurgery team for evaluation.',\n",
       "  'An MRI of his brain with and without contrast provided additional views of the Chiari malformation type I (Figure ).',\n",
       "  'To minimize the risk of vascular disruption and tamponade given the chronic right atrial lead perforation, a combined transvenous and open surgical extraction approach was undertaken.',\n",
       "  'Using a dedicated hybrid operating theatre with cardiopulmonary bypass support if necessary, midline sternotomy was performed.',\n",
       "  'Dense adhesions were found within the pericardial space consistent with likely prior pericarditis.',\n",
       "  'Given the location of the RA lead, care was taken to leave the right atrial dissection until all other vascular structures were exposed.',\n",
       "  'With uneventful dissection of the right atrium, direct visualization of the protruding passive fixation lead was obtained (Figure ).',\n",
       "  'To avoid the risks associated with cardiopulmonary bypass and given the good visualization of the perforating atria lead, an off-pump technique was considered using a “lead-inverting stitch”.',\n",
       "  'To achieve hemostatic control over the region of the atrial wall where the lead exited, a purse-string stitch was placed circumferentially around the lead tip using 3–0 prolene with multiple pledgets (Figure A).',\n",
       "  'The externalized tip of the perforating atrial lead was then mobilized by cutting a rim of surrounding atrial tissue.',\n",
       "  'This allowed the end of the lead to be dunked within the right atrial chamber while the purse-string suture was tightened for hemostasis (Figure B and C).',\n",
       "  'With this “lead inverting stitch”, the lead was free within the right atrium and could now be safely extracted using transvenous laser extraction techniques.',\n",
       "  'With the heart partially verticalized, the lateral wall of the left ventricle was exposed and an epicardial lead (Medtronic 4968) was placed.',\n",
       "  'It was then tunnelled through the subcutaneous tissue above the rectus sheath, secured and connected to the new pacemaker.',\n",
       "  'The new pacemaker was then placed in a newly created pocket, below the left costal margin.',\n",
       "  'The sternotomy wound was covered with sterile surgical towels.',\n",
       "  'The infected pacemaker pocket was then opened and direct visualization confirmed the presence of a small amount of murky fluid. This fluid was sent for culture.\" => symptoms_labs\\n    2:',\n",
       "  'A purse string suture was subsequently positioned along the pectoral muscle around each lead at its insertion site to avoid any significant bleeding when the leads are completely removed.\" => thought_process\\n    4:',\n",
       "  'Appropriate sizing of each lumen and distal delivery of the locking stylets was subsequently performed.\" => thought_process\\n    6:',\n",
       "  'Now that the leads have been prepared, transvenous lead extraction with a #14 French laser sheath was attempted.\" => thought_process\\n    8:',\n",
       "  'All the leads were removed entirely, with the perforating atrial lead removed last.\" => diagnosis\\n    10:',\n",
       "  'Following successful lead extraction, the median sternotomy and old pacemaker pocket incisions were closed in a standard fashion and the patient was transferred to the intensive care unit for post-operative monitoring.',\n",
       "  'The total procedure time from incision to wound closure was 5 hours and 24 minutes.',\n",
       "  'Post-operative course was complicated with hypoxia secondary to atelectasis and aspiration pneumonia that resolved after 5 days.',\n",
       "  'The patient was discharged back to her home hospital for ongoing rehabilitation.',\n",
       "  'We report the case of a 59-year-old man with hypertension and dyslipidemia, both of which were being treated by his primary physician.',\n",
       "  'The patient suffered a traumatic lumbar fracture in 2013 owing to a fall and underwent surgery.',\n",
       "  'Computed tomography (CT) scans performed at the time were focused on the lumbar spine, so other organs were barely included in the image range and no contrast medium was used.',\n",
       "  'however, when carefully observed retrospectively, the CT scan showed a partial inward deviation of the intimal calcification of the abdominal aorta, suggesting a localized dissection of the abdominal aorta (',\n",
       "  'However, there was no mention of localized aortic dissection, because the dissection was fairly localized and did not show any abnormal findings, such as aneurysm formation.',\n",
       "  'In addition, the adventitia causing the aortic dissection was also calcified.',\n",
       "  'The findings suggested a chronic aortic dissection that occurred even before the trauma, rather than an acute aortic dissection that occurred at the time of the trauma.',\n",
       "  'In March 2020, the patient was admitted to the emergency department of a nearby general hospital for vomiting.',\n",
       "  'He had no abdominal pain and was subsequently diagnosed with acute gastroenteritis and prescribed oral medication.',\n",
       "  'On physical examination, palpation of the abdomen revealed a pulsating mass,',\n",
       "  'and the patient subsequently consulted his family doctor.',\n",
       "  \"After abdominal ultrasound examination, the patient's doctor diagnosed him with an AAA.\",\n",
       "  'He subsequently referred the patient to another hospital for a contrast CT scan and a full workup of the AAA.',\n",
       "  'After the enhanced CT scan, the patient was referred to our hospital, where we determined that urgent treatment was necessary owing to the irregular nature of the aneurysm.',\n",
       "  'diagnosis: The patient has an AAA (abdominal aortic aneurysm).',\n",
       "  'Although he did not have any findings suggestive of an infectious disease such as fever or pain, we first considered the possibility of an infectious aortic aneurysm because it was an irregular aneurysm.',\n",
       "  'Upon examination, a pulsating abdominal mass was found, but without tenderness at the site.',\n",
       "  'We conducted a screening test to locate the source of infection.',\n",
       "  'Furthermore, a blood culture was performed, and the results were negative.',\n",
       "  'An oral examination was performed considering the possibility that the oral infection had spread to the aorta and become an infectious aortic aneurysm.',\n",
       "  'Multiple cavities and loose teeth were noted.',\n",
       "  'Although not deemed to be a source of infection, the teeth were extracted, and the patient was prescribed an antibacterial to prevent future exacerbation.',\n",
       "  'To rule out other infections, further laboratory work included a complete blood count, renal function, liver function, erythrocyte sedimentation rate, C-reactive protein, and IgG-4, all of which were found to be within normal limits.',\n",
       "  'A CT scan revealed an irregular AAA with a maximum short diameter of 36 mm within the infrarenal aorta (). Furthermore, part of the abdominal aortic intima calcifications were displaced inward, suggesting aortic dissection.',\n",
       "  'There was no thickening of the arterial wall or retroperitoneal adhesions, as found in inflammatory aneurysms;',\n",
       "  'however, part of the abdominal aneurysm wall was firmly adhered to the surrounding tissue.',\n",
       "  'When the aorta was cross-clamped below the renal artery and the aneurysm was cut open, a partial defect in the intima was observed at the point where CT findings had suggested an aortic dissection.',\n",
       "  'The inside of the false lumen was filled with a dark red thrombus, and a partly organized thrombus was also observed.',\n",
       "  'The aorta was trimmed below the renal artery, and a Y graft replacement (J graft 16 × 8 mm) was performed.',\n",
       "  'The distal side was anastomosed to the common iliac artery on both sides.',\n",
       "  'Pathologic examination revealed that the medial elastic fibers of the aorta were thin.',\n",
       "  'A vascular lumen was formed by fibrous tissue outside the medial elastic fiber of the aorta.',\n",
       "  'Infiltrating inflammatory cells and macrophages that phagocytosed hemosiderin were found in the surrounding area and wall structure.',\n",
       "  'No elastic fibers were found on the wall of the vessel lumen ().',\n",
       "  'From these observations, it was judged that the vascular cavity was formed owing to the collapse of the wall structure of the aortic aneurysm.',\n",
       "  'No bacteria were detected in the thrombus culture obtained during surgery.',\n",
       "  'One week after surgery, a CT scan confirmed that there were no further complications, and the patient was discharged 8 days postoperatively.',\n",
       "  'A 5-year-old female patient visited the Department of Oral Medicine and Radiology with a complaint of pain in the region of the right posterior teeth of the lower jaw.',\n",
       "  'Her mother also reported that her daughter had shown an asymptomatic swelling on the right side of her face since birth.',\n",
       "  'The patient had undergone examination of this condition at 8 months of age.',\n",
       "  'There was history of a gradual increase in the extent of the swelling with age, and the asymmetry of the face persisted.',\n",
       "  'The child was born at full term with normal delivery and there was no history of consanguineous marriage in the family.',\n",
       "  'The child was of normal build and intelligence.',\n",
       "  'There was no familial history of such complaints in the family and serum chemistry revealed no abnormalities.',\n",
       "  'The patient was referred to the Department of Oral Medicine and Radiology for further evaluation.',\n",
       "  'The swelling over the face extended from the zygomatic arch up to the lower border of the mandible on the right side.',\n",
       "  'It was diffuse and had a sponge-like consistency.',\n",
       "  'It was large enough to cause obliteration of the nasolabial fold and the right corner of the mouth seemed to be drooping.',\n",
       "  'No other physical abnormality was noted.',\n",
       "  'Intraoral examination revealed that the cause of pain was the carious right mandibular deciduous second molar.',\n",
       "  'It was also noticed that premature eruption of the permanent mandibular incisors and first molar, and of the maxillary molar was found on the right side.',\n",
       "  'The tongue was also hypertrophic on the right side with noticeably enlarged papillae.',\n",
       "  'The buccal mucosa and gingiva appeared normal ().',\n",
       "  'Panoramic radiograph showed that the right mandibular body and ramus were asymmetrically large in size.',\n",
       "  'There was accelerated development of the maxilla and mandible on the right with advanced eruption of the teeth as compared to the left.',\n",
       "  'Radiographic analysis also revealed that all of the teeth on the right side had accelerated root formation relative to their counterparts on the left side.',\n",
       "  'The condyle and the coronoid process on the right side were large with a prominent sigmoid notch.',\n",
       "  'Multiple carious teeth were also noted ().',\n",
       "  'MRI examination revealed the presence of a diffuse lipomatous tissue (which appeared bright or hyperintense on T1 weighted images) in the right cheek region and the region of the pterygomandibular space.',\n",
       "  'There was fatty infiltration in the tissues anterior to the wall of the maxillary sinus and adjacent to the mandible on the right side.',\n",
       "  'Other features of asymmetric enlargement of the right side of the face were also noted ().',\n",
       "  'Axial and coronal CT scan sections showed a large markedly hypodense well defined mass causing severe swelling of the right cheek.',\n",
       "  'The lesion extended from the infratemporal fossa superiorly to the lower border of the mandible inferiorly.',\n",
       "  'The interior of the lesion had multiple enhancing hyperdense septae; however, the lesion itself did not appear to be enhanced after contrast administration.',\n",
       "  'The right side of the mandible, coronoid process and condyle, maxillary sinus, and pterygoid plates including the masseter and the base of the skull were larger than the left side structures ( and ).',\n",
       "  'The CT and MRI findings were suggestive of a benign soft tissue mass of fat like density with enlargement of the mandible and base of the skull on the right side suggestive of a developmental anomaly.',\n",
       "  'The infiltration of diffuse fatty tissue around the mandible is suggestive of lipomatosis like lesion in association with hemifacial hyperplasia.',\n",
       "  'symptoms_labs',\n",
       "  'Our patient, an eight-year-old girl, presented to our clinic, with severe swelling and facial asymmetry on the right mandibular molar region.',\n",
       "  'We were informed that the patient developed the swelling as a result of an infection three months previously.',\n",
       "  'The patient had been treated with antibiotics, but as that treatment had not proved successful, she was referred to our clinic.',\n",
       "  \"In addition, a passed or congenital disease was not specified in the patient's medical history.\",\n",
       "  'Clinical examination revealed severe swelling without fluctuation upon palpation and submandibular lymphadenopathy in the right mandibular region.',\n",
       "  \"The patient's skin was of normal color and appearance.\",\n",
       "  'In the oral examination, the right mandibular first molar tooth was found to have a deep caries cavity and to not be mobile.',\n",
       "  'The other parts of the oral mucosa were normal.',\n",
       "  'The radiographic examination revealed a deep caries cavity and a radiolucent area in the apical region of the right mandibular first molar tooth.',\n",
       "  'There was also a lamellar appearance on the external cortical surface of the mandible as well as at the lower edge of the mandibular corpus, showing focal new bone formation ().',\n",
       "  'When the axial and cross sections were evaluated during the examination with cone-beam computed tomography (CBCT), a tunnel-like defect was identified in the cortical bone in the vestibule surface of the inflamed bone, starting from the apical region of the right mandibular first molar tooth.',\n",
       "  'Bone deposition at the radiolucent area in the center was observed at the lower edge of the mandible as well as the vestibule surface in this region ().',\n",
       "  \"When all these findings were evaluated, it was concluded that the pathologic lesion was Garre's osteomyelitis due to the periapical infection of the right mandibular first molar tooth.\",\n",
       "  'In this case, endodontic treatment was considered primarily to retain the infected tooth in the mouth.',\n",
       "  'However, as the patient had come from a remote rural area and could not accept such a treatment due to the prohibitive cost, she was transferred to the surgical clinic, where the most appropriate treatment method was considered to be dental extraction.',\n",
       "  'The bone contours had returned to normal, the asymmetry of the face had disappeared, and the cortical bone thickness had decreased and been remodeled to the previous normal appearance (Figures and )',\n",
       "  'This 56 years old lady who has been known to the local mental health services for the past 20 years with symptoms of depression and anxiety was attending follow up appointments on and off.',\n",
       "  'For her current episode she was in contact with the local team for the last few years and had presented with moderate to severe depression that needed regular follow up and review of her medication.',\n",
       "  'She also had two inpatient hospital admissions to the psychiatric unit after attempting suicide on two occasions during this episode.',\n",
       "  'During her latest admission, she was treated with different antidepressants and anxiolytics but without any major benefit.',\n",
       "  'Because of the poor control of symptoms of depression, Lamotrigine was added to her other medications (Sertaline and Buspirone which she had been taking for many months).',\n",
       "  'She was started on lamotrigine 25 mg daily which was gradually increased to 50 mg twice daily over the next 2 weeks.',\n",
       "  'Her anxiety and depressive symptoms showed significant improvement on this combination and she started feeling almost back to her normal self.',\n",
       "  'She was continued on this treatment & was discharged from the psychiatric inpatient unit on a combination of Lamotrigine 50mg twice a day, Sertaline 150 mg daily and Buspirone 5mg twice daily.',\n",
       "  'At her weekly follow up, she continued showing improvement in her mental state and the treating team was very satisfied with her response to treatment.',\n",
       "  'About 16 days following hospital discharge she developed conjunctivitis and over the next 3-4 days, developed swelling of the face and lips.',\n",
       "  'She also developed erosion of the mucous membrane inside her mouth & erythematous papules and bullous eruptions over her body that were particularly bad on the palms of her hands and soles of her feet where she developed detachment of the epidermis.',\n",
       "  'In view of her increasing symptoms, she had to be referred to the general hospital on the 4th day after developing these side effects.',\n",
       "  'She was admitted for further treatment.',\n",
       "  'She had to be treated in the Intensive Care Unit as her physical symptoms deteriorated over the next few days.',\n",
       "  'All her routine blood tests were normal except C-Reactive Protein which was high.',\n",
       "  'She was kept under the care of a medical specialist, ophthalmologist and dermatologist who agreed with the clinical diagnosis of Stevens - Johnson Syndrome.',\n",
       "  'Lamotrigine, along with her other antidepressant medications was stopped.',\n",
       "  'After a few days she started feeling better, made a full recovery in 2 weeks time and was discharged home.',\n",
       "  'Her ophthalmic symptoms needed a few more weeks for full recovery.',\n",
       "  'A 39 year-old white female presented to The Arthur G. James Cancer Hospital with worsening pain of the left breast and left chest wall region and a recurrent palpable mass within the inferior aspect of her left breast.',\n",
       "  'She reports having had three separate left breast biopsies in the past (seven years, four years, and one year prior to her current presentation) for a recurring left breast palpable mass in this same location.',\n",
       "  'Seven years prior to her current presentation, she presented to an outside community hospital with a palpable left breast mass in the inferior lateral aspect of her left breast.',\n",
       "  'She underwent a left breast biopsy at that time that was reported as showing dense fibrous stroma with fibrocystic changes.',\n",
       "  'Three years later (four years prior to her current presentation), she noticed a recurrent enlarging palpable left breast mass.',\n",
       "  'She underwent a repeat left breast biopsy by the same surgeon and this showed hyperplastic fibrosis, consistent with fibromatosis of the breast.',\n",
       "  'The pathology report clearly stated that the tumor involved the surgical margins.',\n",
       "  'The patient reports that the surgeon told her that this was a benign tumor and that nothing further needed to be done.',\n",
       "  'Three additional years later (one year prior to her current presentation), she again noticed a recurrent enlarging palpable left breast mass.',\n",
       "  'She again underwent a repeat left breast biopsy by the same surgeon and this again showed findings consistent with fibromatosis of the breast.',\n",
       "  'Again, the pathology report clearly stated that the tumor involved the surgical margins.',\n",
       "  'The patient reports that the surgeon again told her that this was a benign tumor and that nothing further needed to be done.',\n",
       "  'Since the time of her last left breast biopsy (one year prior to her current presentation), the patient reports persistent and worsening pain and palpable tenderness within the inferior aspect of her left breast and left chest wall region, with an associated increasing sized palpable mass within the same region.',\n",
       "  'Upon presentation to The Arthur G. James Cancer Hospital, she was found on clinical examination to have volume loss along the entire inferior aspect of her left breast and slight downward tilting of her left nipple and areolar complex.',\n",
       "  'She had three separate well-healed surgical scars along the inferior-lateral aspect of her left inframammary fold (Figure ).',\n",
       "  'Underneath these scars, she had a firm palpable mass, clinically measuring 6.5 × 3.0 × 2.5 cm in size and which clinically appeared to be adherent to the underlying left chest wall structures.',\n",
       "  'She had no clinically apparent adenopathy in her left axilla.',\n",
       "  'A mammogram showed scarring and tissue disorganization in the inferior left breast from prior multiple biopsies, but appeared unchanged since a prior mammogram done 13 months previously at an outside community hospital.',\n",
       "  'Magnetic resonance imaging of the left breast showed an intensely enhancing lesion in the inferior-lateral aspect of the left breast, measuring 5.0 × 1.7 cm in size (Figure and ).',\n",
       "  'This lesion appeared to abut the underlying chest wall musculature and appeared to efface the underlying fat plane.',\n",
       "  'Computed tomography scan of the chest showed a 5.2 × 1.6 cm mass within the inferior-lateral aspect of the left chest wall that appeared to be in continuity with the left pectoralis major muscle and left serratus anterior muscle (Figure ).',\n",
       "  'A core biopsy was performed to the palpable left breast mass that confirmed the diagnosis of fibromatosis.',\n",
       "  'The lesion appeared to abut the underlying chest wall musculature and appeared to efface the underlying fat plane.',\n",
       "  'A 5.2 × 1.6 cm mass within the inferior-lateral aspect of the left chest wall that appeared to be in continuity with the left pectoralis major muscle and left serratus anterior muscle (Figure ).',\n",
       "  'Figure',\n",
       "  'The patient was taken to the operating room at to The Arthur G. James Cancer Hospital and underwent a left total mastectomy, with en bloc resection of the underlying musculature (inferior lateral portion of the left pectoralis major muscle, superior portion of the left abdominal oblique musculature, and anterior portion of the left serratus anterior muscle) and en bloc resection of the underlying chest wall structures (fourth, fifth, and six ribs, intercostals muscles, and parietal pleura).',\n",
       "  'The left chest wall defect (Figure ) was then closed with a 2-mm DualMesh Gore-Tex patch (W. L. Gore & Associates, Inc., Flagstaff, Arizona).',\n",
       "  'The remaining portions of the left pectoralis major muscle was dissected off the underlying left chest wall and its lateral most attachments to the left humerus and superior attachments to the clavicle were divided, allowing it to rotate inferiorly to completely cover the Gore-Tex patch.',\n",
       "  'The left mastectomy site was then closed in the standard fashion.',\n",
       "  'No attempts at cosmetic breast reconstruction with autologous tissue transfer or expander/implant placement were considered at that time.',\n",
       "  \"The patient's post-operative course was uneventful and she was discharged to home on post-operative day eight.\",\n",
       "  'Gross pathologic evaluation of the specimen, which overall measured 14.5 × 13.3 × 6.4 cm in size, revealed a 5.2 cm tumor that was grossly invading the underlying attached skeletal muscle to a depth of about 1.2 cm (Figure )',\n",
       "  'It could not be definitively determined whether the invasion of the underlying skeletal muscle involved only the superficial muscles resected (consisting of the inferior lateral portion of the left pectoralis major muscle, superior portion of the left abdominal oblique musculature, and anterior portion of the left serratus anterior muscle) or whether skeletal muscle invasion was to the level of the underlying intercostal muscles resected.',\n",
       "  'However, both grossly and microscopically, there was no evidence of invasion into the bony ribs or underlying parietal pleura.',\n",
       "  'Microscopic evaluation revealed a proliferation of relatively evenly spaced plump spindle cells arranged in intersecting fascicles and associated with mild to moderate amounts of collagen and occasional mitotic figures (Figure ) and demonstrated that the spindle cell proliferations invaded into the adjacent skeletal muscle (Figure ).',\n",
       "  'All surgical margins were negative.',\n",
       "  'On immunohistochemical staining, the spindle cells were negative for S-100 protein, muscle actin (HHF-35), and cytokeratin AE1/AE3.',\n",
       "  'On immunohistochemical staining, less than 5% of the spindle cells were positive for Mib1 (Ki-67).',\n",
       "  'The histology and immunohistochemical staining supported a diagnosis of fibromatosis (desmoid tumor).',\n",
       "  'The patient is now 22 months out from her previous aggressive operative management of her previous multiple recurrences of her fibromatosis of her left breast and she remains disease free.',\n",
       "  'A 26 year old male presented with increasing right knee pain and functional debility with a history of osteochondritis dissecans and having had multiple past surgical interventions.',\n",
       "  'He was otherwise well, though was currently unable to perform any activities that involved prolonged weight bearing and found it increasingly difficult to continue his occupation within allied health care.',\n",
       "  'The patient is 26 years old, male, and has a history of osteochondritis dissecans with multiple past surgical interventions.',\n",
       "  'thought_process',\n",
       "  'The patient noted an initial diagnosis of OCD at age 13.',\n",
       "  'This was appropriately treated conservatively with a period of reduced load and protected weight bearing.',\n",
       "  'He was later able to return to sport - which included Australian Rules football.',\n",
       "  'Due to recurrence of pain he underwent arthroscopic examination at age 14.',\n",
       "  'Arthroscopic probing of the OCD lesion indicated that it was stable and conservative management and further unloading was pursued.',\n",
       "  'The patient failed conservative management and 1 year later underwent a repeat arthroscopy at which time an unstable 3 cm × 3 cm lesion involving his medial femoral condyle was removed.',\n",
       "  'It was felt that as the fragment had little subchondral bone that direct repair was not achievable.',\n",
       "  'A further arthroscopy was performed 8 months later and a chondral biopsy was taken for later autologous chondrocyte transplantation.',\n",
       "  'At the time it was noted that no healing had occurred at the site of the defect.',\n",
       "  'Two months later, the treating surgeon, using a lateral arthrotomy approach, patched the defect using a matrix induced autologous chondrocyte implant (MACI). The patch was fixed in place using fibrin glue.',\n",
       "  'One year later, and due to persistent discomfort and swelling of the knee, the patient underwent a further arthroscopy.',\n",
       "  'It was noted that the outer rim of the MACI patch had incorporated well, yet an inner area of 1.5 cm × 1.5 cm had failed to fill completely.',\n",
       "  'At age 23 and due to troubling discomfort and mechanical features of instability the patient underwent another arthroscopy.',\n",
       "  'Numerous loose bodies within both the medial and lateral compartments were washed out.',\n",
       "  'The area of the past OCD and MACI graft had failed with exposure of underlying subchondral bone and formation of a large subchondral cyst.',\n",
       "  'Unstable edges of the area of MACI graft were debrided',\n",
       "  'but as the entrance to the subchondral cyst was small a surgical decision was made not to further expose nor debride the cavity.',\n",
       "  'Failing to symptomatically improve, the patient underwent a further arthrotomy with debridement of the subchondral cyst, after which it was filled with bone graft substitute cortico-cancellous crunch granules.',\n",
       "  'A periosteal flap taken from the medial border of the tibia was then applied over the lesion.',\n",
       "  'The patient underwent a final arthroscopy at age 25 for debridement of an unstable fibro-cartilaginous cap at the site of the past periosteal flap.',\n",
       "  'In total the patient underwent seven separate operations.',\n",
       "  'Initial examination upon presentation showed evidence of a moderate right knee effusion.',\n",
       "  'The patient had full range of motion and the knee was stable.',\n",
       "  'Radiological examination included both X-Ray and MRI.',\n",
       "  'X-Ray confirmed early degenerative change with intercondylar notch osteophytes consistent with Kellgren-Lawrence Grade II.',\n",
       "  'There was noted concavity to the lateral aspect of the medial femoral condyle consistent with the previous area of OCD (Fig. )',\n",
       "  'MRI showed marked abnormality over the weight bearing portion of the medial femoral condyle measuring 2.3 cm × 1.5 cm.',\n",
       "  'The subchondral cyst had successfully been debrided and grafted and was no longer present on MRI.',\n",
       "  'A thin layer of hyper-intense tissue incompletely covered the area of abnormal cortex (at site of past bone substitute grafting) (Fig. )',\n",
       "  'The area of pathology had a modified International Cartilage Repair Society (ICRS) score of 4.',\n",
       "  'In addition to routine MRI protocols, the method of T2-relaxation time cartilage mapping was used.',\n",
       "  'T2 mapping indicated significantly elevated values within the thin layer overlying the osteochondral defect but also elevated values within the surrounding cartilage (Fig. )',\n",
       "  'The patient sought advice regarding further interventions that may improve both his current symptoms but also his long-term prognosis as he wished to avoid progressive degeneration and early joint arthroplasty.',\n",
       "  'After careful consideration and as he now had features of early degenerative change he was assessed as suitable for inclusion in an ethics approved, registered case series on the use of adipose derived MSC therapy in the treatment of osteoarthritis.',\n",
       "  'The patient was given written information regarding the use of MSC therapy, including relative risks of MSC therapy and also relevant treatment alternatives that could otherwise be explored.',\n",
       "  'Formal written informed consent was obtained prior to commencing therapy.',\n",
       "  'Adipose tissue was chosen as a source of MSCs due to ease of harvest, abundance of MSCs and the observed chondrogenic potential of adipose derived MSCs.',\n",
       "  'Bone marrow aspirate was considered an alternative source or MSCs but surprisingly has a relative paucity of MSCs – comprising .001–.02% of the mono-nucleated cell population in comparison to ~1–7% found within adipose tissue [–].',\n",
       "  'Many studies have indicated similar chondrogenic potential between bone marrow derived and adipose derived MSCs []. ',\n",
       "  'The patient underwent an abdominal liposuction harvest procedure.\" = symptoms_labs\\n    2:',\n",
       "  'Using a 4 mm lipo-aspirate cannula, 60 mls of adipose tissue and tumescent fluid was successfully harvested and collected within a sterile medical grade single use Shippert Tissu-Trans Collection filter (Shippert Medical, Colorado, USA).\" = thought_process\\n    4:',\n",
       "  'Autologous MSCs were isolated and expanded from the harvested adipose tissue using previously published protocols [].',\n",
       "  'The processing of the lipo-aspirate was performed within the environment of a Biological Safety Cabinet (BSC) Class II using strict sterile techniques.',\n",
       "  'Stromal Vascular Fraction (SVF) obtained from the lipo-aspirate was culture purified using standard growth media containing Minimum Essential Media Eagle (MEM) supplemented with 2 mM glutamate and 10% Fetal Bovine Serum (FBS) (HyClone – GE Healthcare, USA).',\n",
       "  'The cells were cultured under hypoxic conditions with 5% CO2 at 37 °C.',\n",
       "  'The cells were harvested and analyzed for cell count and viability using a Muse Cell Analyzer (Merck Millipore, USA).',\n",
       "  'The harvested cells were washed three times to remove FBS and cryopreserved in cryovials using clinical grade qualified MSC cryoprotectant media and following a previously validated control rate freezing technique of 1 °C/min [,].',\n",
       "  'The cryovials were transferred to liquid nitrogen storage until use.',\n",
       "  'At completion of isolation and expansion, the cells underwent independent phenotypic analysis at Monash University and were characterised by flow cytometry using Florescent Activated Cell Sorting (FACS).',\n",
       "  'Using standards established by the Internal Society of Cellular Therapy, the cells were assessed for the presence of positive surface markers CD 90, CD 73 and CD 105 and absence of hematopoetic surface markers CD14, CD19, CD34 and CD45 ',\n",
       "  'A further sample was sent for independent sterility testing for microbial growth.',\n",
       "  'Prior to the intra-articular injection the cryopreserved cells were retrieved from the liquid nitrogen Dewar and thawed quickly within a sterile 37 °C water bath.',\n",
       "  'The thawed cells were then washed in chilled PBS to remove cryoprotectant media, centrifuged and the resultant cell pellet re-suspended in clinical grade 0.9% normal saline.',\n",
       "  'The cells were again analyzed for cell count and viability post thaw using the Muse Cell Analyzer.',\n",
       "  'The cells were injected within 30 min of thawing.',\n",
       "  'The patient received a total of 118 million MSCs (viability 98%) suspended in 3mls of normal saline at commencement of therapy.',\n",
       "  'A second injection of 50 million MSCs (viability 95%) at 6 months was also given.',\n",
       "  'At both injection time points the patient’s right knee was prepped using a chlorhexidine solution and draped.',\n",
       "  '2 mls of 1% lignocaine was infiltrated subcutaneously at the site of injection.',\n",
       "  'Using a supero-lateral approach to the patella, and under sterile conditions and ultrasound guidance, the MSCs suspended in 3 mls of normal saline were injected into the intra-articular space.',\n",
       "  'After the initial injection the patient was fitted with a medial compartment customised unloading knee brace to allow protected but full weight-bearing. This was achieved using an Ossur OA Unloader One brace (Ossur, Reykjavic, Iceland.)',\n",
       "  'The patient was given post injection instructions, which included range of motion exercises and lower limb muscle activation exercises, and encouraged to perform repetitive low impact and low load exercises against minimal resistance on a stationary bike (continuous active motion versus continuous passive motion).',\n",
       "  'This protocol was developed due to previously published evidence which has indicated the benefit of controlled load on cartilage health [].',\n",
       "  '[]',\n",
       "  'Importantly, recent systematic review and meta-analysis of previous clinical papers investigating the use of mesenchymal stem cell therapy – both intravascular and intra-articular applications – and including autologous, allogeneic and expanded MSC preparations has indicated that MSC therapy is safe.',\n",
       "  'Saw and colleagues have documented a self-limited flare up with discomfort and swelling following intra-articular MSC therapy [].',\n",
       "  'Relative risks of the liposuction harvest procedure include infection, bruising and post operative discomfort.',\n",
       "  'Whilst the risk of infection is low, ',\n",
       "  'the patient received a single dose of prophylactic antibiotics prior to the procedure as part of accepted routine clinical practice [].',\n",
       "  'The Knee Injury and Osteoarthritis Outcome Score (KOOS) is a validated scoring system intended for the assessment of knee injury that may result in post-traumatic knee osteoarthritis.',\n",
       "  'The score consists of 5 subscales - pain, other symptoms, function in daily living, function in sport and recreation and knee related quality of life.',\n",
       "  'Standardised answers to questions are given (5 Likert scale) and each question is assigned a score of 0–4.',\n",
       "  'A normalized score is calculated for each subscale (100 indicates no symptoms and 0 indicates maximum symptoms)',\n",
       "  'The Western Ontario and McMaster Universities Arthritis Index (WOMAC Index 3.0).',\n",
       "  'This score is a validated quality of life score and quantitatively assesses the pain, stiffness and physical function in patients with symptomatic osteoarthritis.',\n",
       "  'The Numeric Pain Rating Scale (NPRS).',\n",
       "  'The patient rates their knee pain intensity over the previous week on a scale of 0–10.',\n",
       "  'The NPRS has been validated for use in people with knee osteoarthritis.',\n",
       "  'symptoms_labs',\n",
       "  'Structural outcome was assessed using MRI imaging performed prior to commencement of therapy and again at 6 and 18 months post-treatment.',\n",
       "  'Semiquantitative measures of the cartilage defect were obtained using a modified ICRS score ',\n",
       "  'Grade 0: normal cartilage ',\n",
       "  'Grade 1: focal blistering and intra-cartilaginous low-signal intensity area with an intact surface and bottom ',\n",
       "  'Grade 2: irregularities on the surface or bottom and loss of thickness of less than 50% ',\n",
       "  'Grade 3: deep ulceration with loss of thickness of more than 50% ',\n",
       "  'Grade 4: full-thickness cartilage wear with exposure of subchondral bone.',\n",
       "  'In addition to routine MRI protocols, the method of T2-relaxation time cartilage mapping was used.',\n",
       "  'T2 mapping assesses the water content of cartilage by giving a quantifiable value to the ability of free water protons to exchange energy and move through a cartilage matrix []. ',\n",
       "  'Observed increased water content resulting in an increased T2 relaxation time is an indication of chondral pathology.',\n",
       "  'T2 mapping has been well studied and is an accepted and validated non invasive measure of cartilage quality []. ',\n",
       "  'The numeric pain rating score increased at 1 month from 4 to 5 reflecting an initial self-limiting flare up (see Adverse Events).',\n",
       "  'Follow-up at 6 months however showed a 50% improvement in NPRS from baseline',\n",
       "  'and this had further improved by 75% with a pain score of 1 at completion of follow-up at 18 months (Fig. )',\n",
       "  'Knee Injury and Osteoarthritis Outcome Scores consistently improved across the period of follow-up (Fig. )',\n",
       "  'At 6 months the patient’s Symptoms Score had improved by 44% and similarly his Sport and Recreational Score had improved by over 100%.',\n",
       "  'These values showed continued improvement at 18 months.',\n",
       "  'The measure of Quality of Life had improved at 18 months by greater than 400% above baseline.',\n",
       "  'Reflecting the observed improvement in KOOS, the WOMAC Knee Score showed similar consistent improvement from baseline till completion of data collection.',\n",
       "  'At 18 months, the Global WOMAC Score had improved by over 20% (Fig. )',\n",
       "  'Structural follow-up using MRI at both 6 months and 18 months showed significant increase in tissue covering the extensive OCD of the medial femoral condyle.',\n",
       "  'Observed development of a subchondral plate suggested a layering effect from subchondral bone through to the chondral surface.',\n",
       "  'There was smooth integration with the surrounding native cartilage at the periphery of the OCD (Figs. and ).',\n",
       "  'Using the modified ICRS scoring system as described above, ICRS grade improved from 4 to 1.',\n",
       "  'T2 mapping at 6 months returned elevated values at the site of regenerative cartilage, consistent with high water content and immature cartilage (Fig. )',\n",
       "  'Further analysis at 18 months, however, indicated improved T2 values suggestive of progressive maturation of the regenerative tissue (Fig.)',\n",
       "  'Following initial MSC therapy the patient reported swelling and increased discomfort of the treated knee.',\n",
       "  'The knee effusion persisted for 6 weeks.',\n",
       "  'This was managed conservatively with application of ice, a compression bandage and simple analgesia.',\n",
       "  'Due to this observed reaction the second injection at 6 months was reduced to 50 million MSCs (viability of 95%).',\n",
       "  'The patient reported minor swelling and discomfort for 2 weeks, with no additional management required.',\n",
       "  'Our patient, an eight-year-old girl, presented to our clinic, with severe swelling and facial asymmetry on the right mandibular molar region.',\n",
       "  'We were informed that the patient developed the swelling as a result of an infection three months previously.',\n",
       "  'The patient had been treated with antibiotics, but as that treatment had not proved successful, she was referred to our clinic.',\n",
       "  \"In addition, a passed or congenital disease was not specified in the patient's medical history.\",\n",
       "  'Clinical examination revealed severe swelling without fluctuation upon palpation and submandibular lymphadenopathy in the right mandibular region.',\n",
       "  \"The patient's skin was of normal color and appearance.\",\n",
       "  'In the oral examination, the right mandibular first molar tooth was found to have a deep caries cavity and to not be mobile.',\n",
       "  'The other parts of the oral mucosa were normal.',\n",
       "  'The radiographic examination revealed a deep caries cavity and a radiolucent area in the apical region of the right mandibular first molar tooth.',\n",
       "  'There was also a lamellar appearance on the external cortical surface of the mandible as well as at the lower edge of the mandibular corpus, showing focal new bone formation ().',\n",
       "  'When the axial and cross sections were evaluated during the examination with cone-beam computed tomography (CBCT), a tunnel-like defect was identified in the cortical bone in the vestibule surface of the inflamed bone, starting from the apical region of the right mandibular first molar tooth.',\n",
       "  'Bone deposition at the radiolucent area in the center was observed at the lower edge of the mandible as well as the vestibule surface in this region ().',\n",
       "  \"When all these findings were evaluated, it was concluded that the pathologic lesion was Garre's osteomyelitis due to the periapical infection of the right mandibular first molar tooth.\",\n",
       "  'In this case, endodontic treatment was considered primarily to retain the infected tooth in the mouth.',\n",
       "  'However, as the patient had come from a remote rural area and could not accept such a treatment due to the prohibitive cost, she was transferred to the surgical clinic, where the most appropriate treatment method was considered to be dental extraction.',\n",
       "  'The bone contours had returned to normal, the asymmetry of the face had disappeared, and the cortical bone thickness had decreased and been remodeled to the previous normal appearance (Figures and )',\n",
       "  'Our patient, an eight-year-old girl, presented to our clinic, with severe swelling and facial asymmetry on the right mandibular molar region.',\n",
       "  'We were informed that the patient developed the swelling as a result of an infection three months previously.',\n",
       "  'The patient had been treated with antibiotics, but as that treatment had not proved successful, she was referred to our clinic.',\n",
       "  \"In addition, a passed or congenital disease was not specified in the patient's medical history.\",\n",
       "  'Clinical examination revealed severe swelling without fluctuation upon palpation and submandibular lymphadenopathy in the right mandibular region.',\n",
       "  \"The patient's skin was of normal color and appearance.\",\n",
       "  'In the oral examination, the right mandibular first molar tooth was found to have a deep caries cavity and to not be mobile.',\n",
       "  'The other parts of the oral mucosa were normal.',\n",
       "  'The radiographic examination revealed a deep caries cavity and a radiolucent area in the apical region of the right mandibular first molar tooth.',\n",
       "  'There was also a lamellar appearance on the external cortical surface of the mandible as well as at the lower edge of the mandibular corpus, showing focal new bone formation ().',\n",
       "  'When the axial and cross sections were evaluated during the examination with cone-beam computed tomography (CBCT), a tunnel-like defect was identified in the cortical bone in the vestibule surface of the inflamed bone, starting from the apical region of the right mandibular first molar tooth.',\n",
       "  'Bone deposition at the radiolucent area in the center was observed at the lower edge of the mandible as well as the vestibule surface in this region ().',\n",
       "  \"When all these findings were evaluated, it was concluded that the pathologic lesion was Garre's osteomyelitis due to the periapical infection of the right mandibular first molar tooth.\",\n",
       "  'In this case, endodontic treatment was considered primarily to retain the infected tooth in the mouth.',\n",
       "  'However, as the patient had come from a remote rural area and could not accept such a treatment due to the prohibitive cost, she was transferred to the surgical clinic, where the most appropriate treatment method was considered to be dental extraction.',\n",
       "  'The bone contours had returned to normal, the asymmetry of the face had disappeared, and the cortical bone thickness had decreased and been remodeled to the previous normal appearance (Figures and )',\n",
       "  'A 56-year-old female was initially admitted to the neurosurgical department because of retroorbital pain and mild visual deterioration in both eyes.',\n",
       "  'The ophthalmologic examination showed a bilateral constriction of the visual field and a slight reduction in the visual acuity on the right side.',\n",
       "  'A magnetic resonance of the brain and a digital subtraction angiography (DSA) disclosed a giant partially thrombosed aneurysm of the ICA on the right side ().',\n",
       "  'Although there is no randomized evidence showing that the FDs are superior to the conventional treatment options, the FD option was considered for the following reasons:',\n",
       "  'the paraclinoid ICA represents one of the best targets for such devices [],',\n",
       "  'there were no anatomical limitations to a correct deployment,',\n",
       "  'and, by inducing aneurysm shrinkage, it might have been possible to relieve the mass effect on the optic pathways [].',\n",
       "  'The ophthalmic aneurysm was initially loosely coiled and then a Pipeline FD was placed in the parent artery across the aneurysm neck ().',\n",
       "  'The FD was well deployed and the landing zone extended from the supraclinoid ICA to the cavernous ICA ().',\n",
       "  'There was only a mild focal narrowing at the level of the distal ring where the ICA was compressed by the bulk of the aneurysms against the clinoid process ().',\n",
       "  'The visual acuity deteriorated acutely on both sides despite corticosteroids.',\n",
       "  'The patient was discharged home after 7 days with double antiplatelet medication (75 mg of clopidogrel and 100 mg of aspirin per day).',\n",
       "  'Three months after the procedure, in concomitance with the cessation of the clopidogrel, she acutely developed a hemiparesis on the left side that lasted 48 hours.',\n",
       "  'Then, she began suffering from transient ischemic attacks (TIAs).',\n",
       "  'A DSA disclosed the thrombosis of the FD with occlusion of the ICA ().',\n",
       "  'The patient continued suffering from multiple TIAs despite the resumption of antiplatelet medications, adequate hydration, and a thorough blood pressure monitoring to prevent hypotension.',\n",
       "  'A perfusion-weighted CT scan demonstrated a significant increase in the mean transit time and a reduction in the cerebral blood flow on the right side ().',\n",
       "  'The patient underwent a double-barrel extraintracranial (EC-IC) bypass with the occipital artery and the parietal branch of the superficial temporal artery as donors.',\n",
       "  'Her postoperative course was uneventful and she has experienced no further TIAs.',\n",
       "  'The follow-up DSA 3 months later confirmed the patency of the bypasses (Figures -).',\n",
       "  'Figure 1: Preoperative DSA showing the thrombosed FD and the occlusion of the ICA.',\n",
       "  'Figure 2: Postoperative DSA showing the patency of the EC-IC bypass.',\n",
       "  'Figure 3: Follow-up DSA 3 months after the EC-IC bypass showing the patency of the bypasses.',\n",
       "  'A 63-year-old German man with a long past history of tumours was admitted to hospital.',\n",
       "  '20 years ago a malignant melanoma had been diagnosed on his right loin and radical excision performed.',\n",
       "  'Due to lymph node metastasis in the left groin the patient had chemotherapy.',\n",
       "  'After some time the patient developed haematuria whereupon renal cell carcinoma was diagnosed in the right kidney and a metastasis of the melanoma was found in the left kidney.',\n",
       "  'Partial nephrectomy on the right and complete nephrectomy on the left were performed.',\n",
       "  'The patient had since been free of tumour recurrence until presentation.',\n",
       "  'A recent chest X-ray showed a suspicious shadow in the right lower lobe of the lung .',\n",
       "  'Two computer tomography examinations of the chest (fig ) were performed but could not conclusively rule out the possibility of metastasis.',\n",
       "  'It was diagnosed initially as an inflammatory process of the lung.',\n",
       "  'When the shadow failed to change with time further investigations were ordered.',\n",
       "  'This was when a tumour in the right atrium was discovered which was neither haemodynamically nor clinically relevant.',\n",
       "  'Magnetic resonance imaging of the chest showed a spherical tumour (28 × 27 × 20 mm) attached to the wall of the right atrium.',\n",
       "  'The T1 weighted image revealed homogenous signal intensity as well as a loss of signal due to fat tissue.',\n",
       "  \"The tumour didn't show any signs of contrast medium uptake so that the diagnosis of a benign lipoma was made preoperatively.\",\n",
       "  'Transthoracic echocardiography excluded heart valve dysfunction and confirmed the presence of a mass in the right atrium.',\n",
       "  'The diagnosis of a benign lipoma was made preoperatively.',\n",
       "  'On account of the above-mentioned criteria and of the absence of metastasis of the melanoma excision of the lipoma as well as a biopsy of the mass in the right lower lobe was planned.',\n",
       "  'The patient was clinically stable.',\n",
       "  'Heart rate, blood pressure, ECG and lab results were normal with the exception of urea & electrolytes.',\n",
       "  'After careful preparations the lipoma excision was carried out through incision of the right atrium while the patient was supported by cardiopulmonary bypass.',\n",
       "  'The tumour was walnut-sized, yellow, had a smooth surface and was attached to the lateral wall of the right atrium.',\n",
       "  'The excision was performed at the base of the lipoma in the atrial wall.',\n",
       "  'The atrium was then sutured.',\n",
       "  'Afterwards, with the patient now being supported by partial cardiopulmonary bypass, the right lung was inspected.',\n",
       "  'A hard resistance could be palpated in the right lower lobe.',\n",
       "  'Considering the uncertainty of its nature and the use of extracorporeal circulation lobectomy was not performed.',\n",
       "  'A biopsy was performed instead.',\n",
       "  'The pleura was closed and the operation successfully completed.',\n",
       "  'The patient recovered well on the ward and was discharged 9 days after the operation with an appointment for a partial lobectomy at a different hospital.',\n",
       "  'Macroscopical and histological examination of the cardiac tumour showed a tumour measuring 40 × 25 × 20 mm, grey-yellowish coloured on cross section with adequate excisional margin.',\n",
       "  'It was attached to the atrial myocardium which showed signs of interstitial fibrosis.',\n",
       "  'The mesenchymal tumour was capsulated and found to be of variable width and made up of unilocular uniform adipocytes with small nuclei and focal regressive changes as well as focal giant cell granulomas.',\n",
       "  'Thus, the diagnosis lipoma was correct and a good prognosis can be expected.',\n",
       "  'As for the lung tumour a moderately differentiated adenocarcinoma was diagnosed.',\n",
       "  'Our patient, an eight-year-old girl, presented to our clinic, with severe swelling and facial asymmetry on the right mandibular molar region.',\n",
       "  'We were informed that the patient developed the swelling as a result of an infection three months previously.',\n",
       "  'The patient had been treated with antibiotics, but as that treatment had not proved successful, she was referred to our clinic.',\n",
       "  \"In addition, a passed or congenital disease was not specified in the patient's medical history.\",\n",
       "  'Clinical examination revealed severe swelling without fluctuation upon palpation and submandibular lymphadenopathy in the right mandibular region.',\n",
       "  \"The patient's skin was of normal color and appearance.\",\n",
       "  'In the oral examination, the right mandibular first molar tooth was found to have a deep caries cavity and to not be mobile.',\n",
       "  'The other parts of the oral mucosa were normal.',\n",
       "  'The radiographic examination revealed a deep caries cavity and a radiolucent area in the apical region of the right mandibular first molar tooth.',\n",
       "  'There was also a lamellar appearance on the external cortical surface of the mandible as well as at the lower edge of the mandibular corpus, showing focal new bone formation ().',\n",
       "  'When the axial and cross sections were evaluated during the examination with cone-beam computed tomography (CBCT), a tunnel-like defect was identified in the cortical bone in the vestibule surface of the inflamed bone, starting from the apical region of the right mandibular first molar tooth.',\n",
       "  'Bone deposition at the radiolucent area in the center was observed at the lower edge of the mandible as well as the vestibule surface in this region ().',\n",
       "  \"When all these findings were evaluated, it was concluded that the pathologic lesion was Garre's osteomyelitis due to the periapical infection of the right mandibular first molar tooth.\",\n",
       "  'In this case, endodontic treatment was considered primarily to retain the infected tooth in the mouth.',\n",
       "  'However, as the patient had come from a remote rural area and could not accept such a treatment due to the prohibitive cost, she was transferred to the surgical clinic, where the most appropriate treatment method was considered to be dental extraction.',\n",
       "  'The bone contours had returned to normal, the asymmetry of the face had disappeared, and the cortical bone thickness had decreased and been remodeled to the previous normal appearance (Figures and )',\n",
       "  'Our patient, an eight-year-old girl, presented to our clinic, with severe swelling and facial asymmetry on the right mandibular molar region.',\n",
       "  'We were informed that the patient developed the swelling as a result of an infection three months previously.',\n",
       "  'The patient had been treated with antibiotics, but as that treatment had not proved successful, she was referred to our clinic.',\n",
       "  \"In addition, a passed or congenital disease was not specified in the patient's medical history.\",\n",
       "  'Clinical examination revealed severe swelling without fluctuation upon palpation and submandibular lymphadenopathy in the right mandibular region.',\n",
       "  \"The patient's skin was of normal color and appearance.\",\n",
       "  'In the oral examination, the right mandibular first molar tooth was found to have a deep caries cavity and to not be mobile.',\n",
       "  'The other parts of the oral mucosa were normal.',\n",
       "  'The radiographic examination revealed a deep caries cavity and a radiolucent area in the apical region of the right mandibular first molar tooth.',\n",
       "  'There was also a lamellar appearance on the external cortical surface of the mandible as well as at the lower edge of the mandibular corpus, showing focal new bone formation ().',\n",
       "  'When the axial and cross sections were evaluated during the examination with cone-beam computed tomography (CBCT), a tunnel-like defect was identified in the cortical bone in the vestibule surface of the inflamed bone, starting from the apical region of the right mandibular first molar tooth.',\n",
       "  'Bone deposition at the radiolucent area in the center was observed at the lower edge of the mandible as well as the vestibule surface in this region ().',\n",
       "  \"When all these findings were evaluated, it was concluded that the pathologic lesion was Garre's osteomyelitis due to the periapical infection of the right mandibular first molar tooth.\",\n",
       "  'In this case, endodontic treatment was considered primarily to retain the infected tooth in the mouth.',\n",
       "  'However, as the patient had come from a remote rural area and could not accept such a treatment due to the prohibitive cost, she was transferred to the surgical clinic, where the most appropriate treatment method was considered to be dental extraction.',\n",
       "  'The bone contours had returned to normal, the asymmetry of the face had disappeared, and the cortical bone thickness had decreased and been remodeled to the previous normal appearance (Figures and )',\n",
       "  'A male patient aged 60 years reported to the department with the complaint of a hole in upper jaw for 2 years.',\n",
       "  'History revealed that he got his denture constructed 10 years back and wearing the suction cup denture [] entire day and night and removed them only for cleaning.',\n",
       "  'On examination of the palate, there was a perforation in the palate measuring approximately 2.5 cm × 2 cm in size [].',\n",
       "  'The condition has started as an erythematous patch and has developed over a period of 2 years as a fistula to the current size.',\n",
       "  'On palpation, margins were non tender.',\n",
       "  'When the patient was asked to gargle water, it escaped through his nose.',\n",
       "  'The maxillary occlusal radiograph showed the loss of bone from mid palate region [].',\n",
       "  \"Patient's medical history was uneventful, and blood investigations were within normal limits.\",\n",
       "  'Serological investigations also showed a negative report for venereal diseases.',\n",
       "  'The patient was advised to discontinue the denture immediately, and the surgery was planned by preferring the palatal rotational flap.',\n",
       "  'The surgical closure of palatal fistula planned under general anesthesia. It was induced by nasotracheal intubation.',\n",
       "  'Patient placed in the supine position and neck extension achieved by keeping a pillow under the shoulder.',\n",
       "  'Local anesthesia with adrenaline was injected around the lesion for hemostasis.',\n",
       "  'The margins of the fistula were excised to remove the epithelial lining.',\n",
       "  'A palatal flap design was planned based upon the course of the greater palatine artery and marked according to the site and size of the defect [].',\n",
       "  'A partial thickness flap was raised and rotated laterally to cover the defect [].',\n",
       "  'The flap was then secured in its new place using 3–0 black silk sutures [].',\n",
       "  'The donor area which was covered by the periosteum of the palatal bone was the left open for a secondary epithelization.',\n",
       "  'Beta dine dressing was given over the entire area [].',\n",
       "  'One week postoperative review showed that the defect area healed without infection, dehiscence, and the donor site was covered with normal fibrin [].',\n",
       "  'Fifteen days after surgery, the wound in the defect area healed well and the donor site was fully covered with granulation tissue [].',\n",
       "  'Clinical review 2 months later showed healthy pink epithelium covering the donor site on the hard palate [].',\n",
       "  'The bulky palatal flap had shrunk considerably so that the hard palate had retained its normal shape.',\n",
       "  'The patient was referred to prosthodontics for new denture construction.',\n",
       "  'A six year-old boy presented with a congenital anomaly of two upper limbs on the right side [Figures –].',\n",
       "  'Clinical examination revealed that the superior limb was articulating with the shoulder joint, and the inferior limb laterally attached to the chest wall.',\n",
       "  'Both these limbs on the right side were hypoplastic compared to the left upper limb.',\n",
       "  'The superior limb was approximately 7 cm shorter than the opposite limb (normal side), the superior limb being 33 cm in length from the shoulder joint while the inferior limb was 18 cm from the attachment with the chest wall.',\n",
       "  'The skin over the forearm on the superior limb was shiny and atrophic with very little soft tissue mass compared with the inferior limb which was bulkier with normal-appearing skin.',\n",
       "  'The superior limb was articulating with the torso via a normal shoulder joint.',\n",
       "  'The scapula was small compared to that on the opposite side.',\n",
       "  'The inferior limb was attached to the lateral thoracic wall by soft tissue at the level of the 4th intercostal space.',\n",
       "  'The superior limb had a humerus, a single bone at the forearm level, and a duplicated thumb with an index finger.',\n",
       "  'There was synostosis at the elbow joint and the wrist joint was stable.',\n",
       "  'All fingers showed symphalyngism; the middle ray including the 3rd metacarpal was absent.',\n",
       "  'The inferior limb had two fingers and a single bone with which it was attached to the chest wall.',\n",
       "  'Clinically, the superior limb presented a picture of an ulnar hypoplastic hand where there was a stable wrist joint and a fused elbow joint.',\n",
       "  'The inferior limb presented like a radial club hand with instability of the wrist joint.',\n",
       "  'All movements were possible at the shoulder joint level but none were possible at the elbow joint and the wrist joint in the superior limb.',\n",
       "  'Hand function was better in the inferior limb.',\n",
       "  'The hand flexors were stronger in the inferior limb while the extensors were stronger in the superior limb.',\n",
       "  'The clavicular head of the pectoralis was attached to the superior limb while the sternal head was attached to the inferior limb; the latissmus dorsi was inserted into the inferior limb.',\n",
       "  'Diagnosis: Congenital anomaly of upper limbs with ulnar hypoplastic hand and radial club hand.',\n",
       "  'The superior limb presented a picture of an ulnar hypoplastic hand where there was a stable wrist joint and a fused elbow joint.',\n",
       "  'The absence of the 3rd metacarpal and the symphalyngism of all fingers suggest a severe form of radial and ulnar dysplasia.',\n",
       "  'The presence of a duplicated thumb and index finger in the superior limb suggests a possible fusion of the 2nd and 3rd rays.',\n",
       "  'The presence of two fingers in the inferior limb suggests a possible fusion of the 1st and 2nd rays.',\n",
       "  'The presence of a single bone in the inferior limb suggests a possible fusion of the radius and ulna.',\n",
       "  'An X-ray was taken of the right upper limb [],',\n",
       "  'The X-ray [] revealed that the scapula on the right side was hypoplastic and the superior limb had a shoulder joint with elbow joint synostosis.',\n",
       "  'Color Doppler study [] showed duplication of the right subclavian artery with separate origin of the inferior accessory subclavian artery.',\n",
       "  'There was a patent radial artery with a inner diameter of 1.7 mm in the superior limb (radial)',\n",
       "  'whereas there was a patent ulnar artery with a inner diameter of 2.0 mm in the inferior limb.',\n",
       "  'Magnetic Resonance Angiography [] confirmed the findings of the color Doppler and the duplication of the subclavian vessels was found to arise from the infraclavicular level.',\n",
       "  'The duplicated vessels running to the inferior limb were running along the lateral chest wall into the limb; the nerves also coursed along with the vessels.',\n",
       "  'sentence',\n",
       "  'classification',\n",
       "  'An encircling incision was made around the inferior limb, the pectoralis major and the latissmus dorsi muscle attachments were divided, and the neurovascular pedicle was dissected and mobilised up to its anomalous origin in the infraclavicular region from the subclavian vessels.',\n",
       "  'The pectoralis major and the latissmus dorsi muscle attachments were divided.',\n",
       "  'The neurovascular pedicle was dissected and mobilised up to its anomalous origin in the infraclavicular region from the subclavian vessels.',\n",
       "  'The inferior limb was then transferred to the superior forearm.',\n",
       "  'The postoperative period was uneventful and the existing hand functions [Figures –] were preserved.',\n",
       "  'However, the abduction and external rotation at the shoulder joint was reduced because of the tautness of the transferred neurovascular pedicle and the bulk added at the forearm level.',\n",
       "  'Physiotherapy and re-education in terms of holding objects has been started early.',\n",
       "  'The patient has been kept on regular follow-up and further staged procedures like distraction and synostosis of the elbow joint and debulking have been planned to provide a better functional and aesthetic limb.',\n",
       "  'See video on .',\n",
       "  'This case study is a product of serendipity.',\n",
       "  'A 27 year old female runner was initially part of an experimental study documenting the muscle onset timing of the posterior leg and trunk muscles during the prone leg extension.',\n",
       "  'At the time of the study the participant had no leg or spine injuries.',\n",
       "  'The participant was part of the asymptomatic control group.',\n",
       "  'Five months after the completion of the study this participant suffered an inversion right ankle sprain during a rainstorm while leaping into a camping tent filled with children.',\n",
       "  'At 2 and 8 weeks post ankle sprain the PLE extension test was performed while recording the posterior muscle activation EMG to determine if an ankle injury influences the timing of muscle activation during the PLE as compared with an injury-free PLE onset timing pattern.',\n",
       "  'Twenty seven year old female distance runner (height – 167 cm, weight -58 kg) suffered a right ankle inversion sprain. X rays revealed no fractures.',\n",
       "  'Informed consent to participate in this study was received from the subject.',\n",
       "  'In the initial study the participant read and signed an information and consent form that was approved by the Research Ethics Board of CMCC.',\n",
       "  'For the second half of the study the subject was notified of the risks and benefits of the study which complied with the World Medical Association declaration of Helsinki on the ethical conduct of research using human participants within a private practice and agreed to have her results published.',\n",
       "  'No passive therapy was received by the participant.',\n",
       "  'The participant was encouraged to perform daily weight bearing exercise and range of motion exercises.',\n",
       "  'The participant was running within two weeks of the injury with pain and not at her pre injury level.',\n",
       "  'At two weeks post injury the participant reported that she felt she was functioning at 60% of her optimum.',\n",
       "  'At 8 weeks post injury the participant reported that she was running 95% pain free with little loss of function.',\n",
       "  'An identical testing protocol was used across the 3 experimental days (pre injury, 2 weeks post injury and 8 weeks post injury).',\n",
       "  'The muscle activity of the right gluteus maximus, bilateral lower erector spinae, and right hamstring muscle groups was recorded during right prone leg extension while lying prone on a manual therapy table.',\n",
       "  'The position of the leg was controlled in all planes (no hip adduction/abduction or internal/external rotation) visually by the experimenter.',\n",
       "  'A rig restricting movement or a kinematic analysis system to ensure an identical movement across trials was not used as this is not similar to what occurs during practice.',\n",
       "  'The control of proper form was limited to a visual assessment as this most resembles clinical practice.',\n",
       "  'symptoms_labs',\n",
       "  'The prone leg extension exercise was performed five times during each experimental session.',\n",
       "  'The task required the subject to lie prone at complete rest with no movement while the EMG from each muscle was collected for 5 seconds.',\n",
       "  'The subject then extended their straight right leg approximately six inches off the table.',\n",
       "  'The leg was held isometrically for 3 seconds then lowered to the table.',\n",
       "  'The data from each PLE trial was processed in the same manner.',\n",
       "  'The aim of the processing for this study was to determine the order and timing of muscle activation.',\n",
       "  'To determine muscle timing, it is necessary to determine when a muscle is considered active or',\n",
       "  'A muscle was considered',\n",
       "  'This method of determining muscle onset was used in the previous study by Bullock-Saxton et al [].',\n",
       "  'The order of activation can then be determined by classifying each muscle as',\n",
       "  'Muscle activation time (milliseconds-ms) was referenced to the time of activation of the hamstring muscle.',\n",
       "  \"For example, positive values (ms) occurred when a muscle's onset occurred before activation of the hamstring muscle group, and negative values indicated that muscle activation occurred after the onset of the hamstring muscle.\",\n",
       "  'The onset of muscle activity was determined for each muscle during each repetition of the prone leg lift.',\n",
       "  'Please note that the EMG activity was not normalized to a maximum voluntary contraction (MVC).',\n",
       "  'While MVCs are important in the collection of EMG when there is a need for determining muscle amplitude, this was not necessary in the current study because muscle timing rather than amplitude was measured.',\n",
       "  'Normalization would not influence the muscle onset results.',\n",
       "  'The data was processed in the following manner: The raw EMG signal was first full wave rectified, then smoothed using a moving average technique which averaged every 100 points of data with an overlap 98 points.',\n",
       "  'The bias was removed from the signal to allow resting activity to be at 0.',\n",
       "  'The peak muscle activity was found and each data point was divided by this peak muscle activity.',\n",
       "  'In this way, muscle onset could be determined by determining the time when the myoelectric signal exceeded 10% of the maximum.',\n",
       "  'The signal was visually inspected to ensure that no artefact occurred or that the results were biologically feasible.',\n",
       "  'A 11 years old male was referred to the emergency department of Virgen de las Nieves University Hospital due to a slight periodontal bleeding of 5 days of evolution.',\n",
       "  'An orthopantomography was performed to focus the diagnosis.',\n",
       "  'The OPG evidenced a dubious periapical image compatible with a small cyst of dental origin.',\n",
       "  'Hence, the doctors of the emergency service decided to contact with the maxillofacial surgery department.',\n",
       "  'A new clinical examination evidenced a spontaneous alveolar bleeding and high mobility of the first and second molars of the fourth mandibular quadrant.',\n",
       "  'The patient denied cervicofacial trauma or pathologies of the coagulation system.',\n",
       "  'Thus, a CT scan of the cervicofacial area was performed to reach a diagnosis.',\n",
       "  'Surprisingly, this test evidenced a large high-flow intraosseous arteriovenous malformation extending from the right mandibular body to the homolateral pterygoid region and the infratemporal fossa (Fig. )',\n",
       "  'Moreover, a selective arteriography and a MRI of head and neck were also carried out to identify the limits of the malformation and the key vessel (Fig. )',\n",
       "  'Considering these findings, we contacted with the interventional radiology unit of the Hospital in order to plan a combined approach.',\n",
       "  'However, after a careful analysis we decided to treat the patient only with an endovascular approach.',\n",
       "  'Specifically, a very large drainage vein was identified with the radiological tests.',\n",
       "  'Hence, we hypothesized that the embolization of this vein and the selective embolization of the main arterial vessels might be enough to treat the pathology.',\n",
       "  'Thus, under general anesthesia and femoral approach, the embolization of the main drainage vein and of the most accessible arteries was carried out.',\n",
       "  'The patient was maintained intubated and sedated for 24 hours and he was extubated when the bleeding had completely stopped.',\n",
       "  'He was discharged from the hospital 7 days after the procedure.',\n",
       "  'In fact, a control arteriography performed 5 day after embolization showed a significant reduction of the size of the lesion.',\n",
       "  'A MRI performed three months after the procedure evidenced the complete regression of the lesion.',\n",
       "  'Furthermore, in a new control 18 month after the patient has no clinical signs of recurrence (Fig. )',\n",
       "  'Hence, this approach could avoid an extremely mutilating surgery and severe psychological sequels.',\n",
       "  'To open the right neck and use vessels from that side either directly or with a vein graft',\n",
       "  'To use a vein graft and anastomose with the facial artery on the same (left) side as the flow in this vessel was good',\n",
       "  'To use the distal end of the flap pedicle vessels for anastomosis with left facial artery, so as to establish the vascular flow in a retrograde manner.',\n",
       "  'This was because the clipped distal ends of the peroneal pedicle vessels were near to the left facial artery.',\n",
       "  'Before exploring the opposite neck or harvesting a vein graft, a decision was made to attempt retrograde vascularisation of the flap via the distal end of the peroneal vessels.',\n",
       "  'First, the arterial anastomosis was completed between the distal end of the peroneal artery and left facial artery (end-to-end) and the flow was checked.',\n",
       "  'The arterial flow was good as evidenced by the pulsations of the donor and recipient vessels and with the venous outflow from the distal end of the peroneal venae commitantes.',\n",
       "  'This was followed by venous anastomosis between the distal end of the peroneal venae commitantes and a tributary of the left internal jugular vein (end to end).',\n",
       "  'The skin paddle bleeding was also good with a sterile needle prick.',\n",
       "  'Thus, the vascularity was restored with retrograde flow and was well established by the time the intra oral inset was completed [].',\n",
       "  'The neck was then closed and post-op period was uneventful.',\n",
       "  'After 6 weeks, a computed tomography (CT) angiogram revealed good establishment of blood flow to the neo mandible [Figures and ]. - diagnosis\\n    9: \"[].',\n",
       "  'A 32-yr-old woman with no relevant or significant medical history presented with severe left calf pain that had persisted for the past 10 yr.',\n",
       "  'The symptom was constant and worsened with menstruation, standing or walking for more than 30 min.',\n",
       "  'The pain was relieved by elevating the leg in the sitting position or massaging the calf muscles.',\n",
       "  'The pain was not associated with any progressive neurologic symptoms or signs.',\n",
       "  'She reported that none of the medications she had tried provided any significant pain relief.',\n",
       "  'Intramuscular electrical stimulation for 4 months and repeated muscle injections with lidocaine were also ineffective.',\n",
       "  'Alternative treatments including acupuncture and Korean herbal medications had been tried many times without much success.',\n",
       "  \"The patient's pain drawing showed a pain pattern limited to the left calf, especially in the medial side, which indicated a referred pain pattern of medial gastrocnemius or soleus muscle ().\",\n",
       "  'Physical examination revealed severe tenderness on the medial side of the left calf muscles.',\n",
       "  'Signs of calf swelling were equivocal.',\n",
       "  'Deep tendon reflexes were normal in both sides.',\n",
       "  'Muscle strength of both lower extremities was normal.',\n",
       "  'Sensation in both lower extremities was intact.',\n",
       "  'The straight leg raising test was normal.',\n",
       "  'Conventional radiography of the left leg showed several mottled calcifications within the muscles but did not reveal erosions of tibia or fibula ().',\n",
       "  'To rule out a possible vascular deformity, femoral angiography was performed and a hemangioma was suggested in the left calf ().',\n",
       "  'Magnetic resonance imaging (MRI) of the left lower extremity was performed for further evaluation of these abnormalities and showed an enhancing soft-tissue mass in the medial aspect of the soleus muscle ().',\n",
       "  'The patient was referred to an orthopedic surgeon and underwent excisional biopsy.',\n",
       "  'Operative findings revealed a mass consisting of several irregular fragments of muscular soft tissue, measuring 6×6×4 cm.',\n",
       "  'The final pathologic diagnosis was intramuscular hemangioma with fatty overgrowth isolated to the soleus muscle, which was in concordance with the MRI findings ().',\n",
       "  'Within 1 month, the patient reported 90% pain relief and had discontinued all pain medications.',\n",
       "  'Even with prolonged walking of more than 30 min, calf pain did not occur and the subject was able to resume mountain hiking 3 months following the operation.',\n",
       "  'As home care doctors and general practitioners, we encountered a 37-year-old woman with ASD who lived with her parents in Japan.',\n",
       "  'Her mother had end-stage breast cancer.',\n",
       "  'We visited her house regularly to care for her mother.',\n",
       "  'The woman with ASD was the main caregiver and a key person for her mother because her father was visually impaired.',\n",
       "  'There were some obstacles we need to overcome together, but in the end, she was able to fulfill the role of the main caregiver for her mother.',\n",
       "  'When we started home care for the mother, we did not have any knowledge that the daughter was a person with ASD.',\n",
       "  'However, we occasionally heard about her from home visit nurses and home care staff because they worried about whether the mother could continue to stay at home due to the lack of care provided by family members.',\n",
       "  \"According to home care staff members, the woman with ASD was usually not present when the home care staff visited the home for her mother's care.\",\n",
       "  \"They could not contact her or talk with her about her mother's condition.\",\n",
       "  \"She focused on dishwashing and did not appear concerned about how her mother's medications or clothes were organized or whether the room was clean or not.\",\n",
       "  'She could not communicate well with home care staff even when she talked with them.',\n",
       "  'Thus, we did not initially recognize that she was a person with ASD or another developmental disorder.',\n",
       "  'We were wondering why she was having trouble managing the home care schedule and chores even though she worked as an engineer.',\n",
       "  \"The home care staff's distrust of the daughter caused irritation and stress in the daughter and the home care staff.\",\n",
       "  \"After a few home care visits, with the daughter's consent, the mother's care manager informed us that she had been diagnosed with ASD in adulthood.\",\n",
       "  'Her parents had not been informed of the diagnosis.',\n",
       "  'The daughter did not want to let her parents know about the diagnosis.',\n",
       "  'The home care staff started to feel strongly that it was too difficult for the daughter to continue home care for the mother.',\n",
       "  'The woman with ASD also felt difficulties in communicating with staff and understanding how her mother felt or how it feels to be severely ill.',\n",
       "  'Therefore, we initiated consultation and social skill training in our outpatient clinic for the daughter.',\n",
       "  'We discussed the traits of ASD as well as solutions or strategies to manage ASD traits in the home care setting.',\n",
       "  'When we gave her instructions, we tried to make them more specific and provided examples so that she could understand them easily.',\n",
       "  \"For example, we suggested that she needed to come into her mother's room to share her mother's condition when the home care staff made a visit.\",\n",
       "  'After several consultations, she gradually obtained life skills in communication, scheduling, and managing things related to home care, such as expectations during home care staff visits or what she should do for her mother.',\n",
       "  'Her psychological stress and caregiving burden decreased day by day.',\n",
       "  'We also shared the fact that she was diagnosed with ASD with home care staff as well as appropriate attitudes, support, and communication styles.',\n",
       "  'We shared her behavioral characteristics with staff, such as lower interest in sharing emotions with others or having difficulties in understanding social cues such as eye contact, facial expressions, and metaphors.',\n",
       "  \"Five months after the start of home-based care, her mother's condition worsened temporarily.\",\n",
       "  \"The woman with ASD could not understand her mother's discomfort or pain and her father's sadness and serious feelings about the poor prognosis of his wife.\",\n",
       "  \"She could not understand why her father was at a loss for words upon hearing the doctor's explanation of her mother's severe condition.\",\n",
       "  \"During this event, we explained why her father become silent while during the explanation of her mother's condition.\",\n",
       "  'We made a rule that we will tell her beforehand what we would say and how she should act when we share bad news.',\n",
       "  'We also told her how her father would react and our guess of the reasons for his reaction.',\n",
       "  'Inappropriate behavior that is not suitable for the situation decreased afterward.',\n",
       "  ...],\n",
       " 'class': ['symptoms_labs',\n",
       "  'symptoms_labs',\n",
       "  'symptoms_labs',\n",
       "  'symptoms_labs',\n",
       "  'symptoms_labs',\n",
       "  'symptoms_labs',\n",
       "  'symptoms_labs',\n",
       "  'symptoms_labs',\n",
       "  'symptoms_labs',\n",
       "  'symptoms_labs',\n",
       "  'symptoms_labs',\n",
       "  'symptoms_labs',\n",
       "  'symptoms_labs',\n",
       "  'symptoms_labs',\n",
       "  'diagnosis',\n",
       "  'symptoms_labs',\n",
       "  'symptoms_labs',\n",
       "  'symptoms_labs',\n",
       "  'thought_process',\n",
       "  'symptoms_labs',\n",
       "  'thought_process',\n",
       "  'thought_process',\n",
       "  'symptoms_labs',\n",
       "  'thought_process',\n",
       "  'thought_process',\n",
       "  'thought_process',\n",
       "  'diagnosis',\n",
       "  'diagnosis',\n",
       "  'diagnosis',\n",
       "  'thought_process',\n",
       "  'symptoms_labs',\n",
       "  'thought_process',\n",
       "  'symptoms_labs',\n",
       "  'symptoms_labs',\n",
       "  'diagnosis',\n",
       "  'diagnosis',\n",
       "  'thought_process',\n",
       "  'thought_process',\n",
       "  'thought_process',\n",
       "  'thought_process',\n",
       "  'thought_process',\n",
       "  'thought_process',\n",
       "  'thought_process',\n",
       "  'thought_process',\n",
       "  'symptoms_labs',\n",
       "  'symptoms_labs',\n",
       "  'symptoms_labs',\n",
       "  'symptoms_labs',\n",
       "  'symptoms_labs',\n",
       "  'symptoms_labs',\n",
       "  'thought_process',\n",
       "  'thought_process',\n",
       "  'thought_process',\n",
       "  'symptoms_labs',\n",
       "  'thought_process',\n",
       "  'thought_process',\n",
       "  'diagnosis',\n",
       "  'diagnosis',\n",
       "  'symptoms_labs',\n",
       "  'symptoms_labs',\n",
       "  'thought_process',\n",
       "  'thought_process',\n",
       "  'thought_process',\n",
       "  'thought_process',\n",
       "  'diagnosis',\n",
       "  'diagnosis',\n",
       "  'diagnosis',\n",
       "  'diagnosis',\n",
       "  'thought_process',\n",
       "  'thought_process',\n",
       "  'symptoms_labs',\n",
       "  'symptoms_labs',\n",
       "  'symptoms_labs',\n",
       "  'symptoms_labs',\n",
       "  'symptoms_labs',\n",
       "  'symptoms_labs',\n",
       "  'symptoms_labs',\n",
       "  'thought_process',\n",
       "  'thought_process',\n",
       "  'thought_process',\n",
       "  'thought_process',\n",
       "  'thought_process',\n",
       "  'thought_process',\n",
       "  'thought_process',\n",
       "  'thought_process',\n",
       "  'diagnosis',\n",
       "  'thought_process',\n",
       "  'thought_process',\n",
       "  'thought_process',\n",
       "  'symptoms_labs',\n",
       "  'thought_process',\n",
       "  'thought_process',\n",
       "  'thought_process',\n",
       "  'symptoms_labs',\n",
       "  'thought_process',\n",
       "  'thought_process',\n",
       "  'thought_process',\n",
       "  'thought_process',\n",
       "  'diagnosis',\n",
       "  'diagnosis',\n",
       "  'diagnosis',\n",
       "  'symptoms_labs',\n",
       "  'symptoms_labs',\n",
       "  'symptoms_labs',\n",
       "  'symptoms_labs',\n",
       "  'diagnosis',\n",
       "  'diagnosis',\n",
       "  'symptoms_labs',\n",
       "  'symptoms_labs',\n",
       "  'diagnosis',\n",
       "  'diagnosis',\n",
       "  'symptoms_labs',\n",
       "  'symptoms_labs',\n",
       "  'thought_process',\n",
       "  'symptoms_labs',\n",
       "  'symptoms_labs',\n",
       "  'thought_process',\n",
       "  'thought_process',\n",
       "  'thought_process',\n",
       "  'symptoms_labs',\n",
       "  'symptoms_labs',\n",
       "  'symptoms_labs',\n",
       "  'symptoms_labs',\n",
       "  'symptoms_labs',\n",
       "  'symptoms_labs',\n",
       "  'symptoms_labs',\n",
       "  'diagnosis',\n",
       "  'symptoms_labs',\n",
       "  'symptoms_labs',\n",
       "  'symptoms_labs',\n",
       "  'symptoms_labs',\n",
       "  'symptoms_labs',\n",
       "  'symptoms_labs',\n",
       "  'symptoms_labs',\n",
       "  'symptoms_labs',\n",
       "  'symptoms_labs',\n",
       "  'diagnosis',\n",
       "  'diagnosis',\n",
       "  'diagnosis',\n",
       "  'diagnosis',\n",
       "  'She has no family history of a similar condition in her parents or siblings or other relatives.',\n",
       "  'symptoms_labs',\n",
       "  'symptoms_labs',\n",
       "  'symptoms_labs',\n",
       "  'symptoms_labs',\n",
       "  'symptoms_labs',\n",
       "  'symptoms_labs',\n",
       "  'diagnosis',\n",
       "  'diagnosis',\n",
       "  'thought_process',\n",
       "  'thought_process',\n",
       "  'diagnosis',\n",
       "  'diagnosis',\n",
       "  'diagnosis',\n",
       "  '0',\n",
       "  '0',\n",
       "  '0',\n",
       "  '). A primary repair using interrupted nonabsorbable sutures was achieved without tension (',\n",
       "  'diagnosis',\n",
       "  'symptoms_labs',\n",
       "  'symptoms_lbs',\n",
       "  'symptoms_labs',\n",
       "  'symptoms_labs',\n",
       "  'thought_process',\n",
       "  'symptoms_labs',\n",
       "  'thought_process',\n",
       "  'symptoms_labs',\n",
       "  'symptoms_labs',\n",
       "  'thought_process',\n",
       "  'diagnosis',\n",
       "  'diagnosis',\n",
       "  'diagnosis',\n",
       "  'diagnosis',\n",
       "  'thought_process',\n",
       "  'thought_process',\n",
       "  'thought_process',\n",
       "  'thought_process',\n",
       "  'diagnosis',\n",
       "  'thought_process',\n",
       "  'thought_process',\n",
       "  'diagnosis',\n",
       "  'diagnosis',\n",
       "  'symptoms_labs',\n",
       "  'symptoms_labs',\n",
       "  'thought_process',\n",
       "  'symptoms_labs',\n",
       "  'symptoms_labs',\n",
       "  'thought_process',\n",
       "  'symptoms_labs',\n",
       "  'symptoms_labs',\n",
       "  'symptoms_labs',\n",
       "  'thought_process',\n",
       "  'thought_process',\n",
       "  'thought_process',\n",
       "  'diagnosis',\n",
       "  'diagnosis',\n",
       "  'diagnosis',\n",
       "  'diagnosis',\n",
       "  'thought_process',\n",
       "  'thought_process',\n",
       "  'thought_process',\n",
       "  'symptoms_labs',\n",
       "  'symptoms_labs',\n",
       "  'symptoms_labs',\n",
       "  'symptoms_labs',\n",
       "  'thought_process',\n",
       "  'symptoms_labs',\n",
       "  'symptoms_labs',\n",
       "  'thought_process',\n",
       "  'symptoms_labs',\n",
       "  'symptoms_labs',\n",
       "  'symptoms_labs',\n",
       "  'symptoms_labs',\n",
       "  'thought_process',\n",
       "  'thought_process',\n",
       "  'thought_process',\n",
       "  'thought_process',\n",
       "  'thought_process',\n",
       "  'thought_process',\n",
       "  'thought_process',\n",
       "  'thought_process',\n",
       "  'thought_process',\n",
       "  'thought_process',\n",
       "  'thought_process',\n",
       "  'diagnosis',\n",
       "  'symptoms_labs',\n",
       "  'symptoms_labs',\n",
       "  'thought_process',\n",
       "  'thought_process',\n",
       "  'symptoms_labs',\n",
       "  'thought_process',\n",
       "  'symptoms_labs',\n",
       "  'symptoms_labs',\n",
       "  'symptoms_labs',\n",
       "  'symptoms_labs',\n",
       "  'symptoms_labs',\n",
       "  'symptoms_labs',\n",
       "  'symptoms_labs',\n",
       "  'symptoms_labs',\n",
       "  'symptoms_labs',\n",
       "  'symptoms_labs',\n",
       "  'symptoms_labs',\n",
       "  'diagnosis',\n",
       "  'diagnosis',\n",
       "  'diagnosis',\n",
       "  'diagnosis',\n",
       "  'thought_process',\n",
       "  'symptoms_labs',\n",
       "  'symptoms_labs',\n",
       "  'symptoms_labs',\n",
       "  'diagnosis',\n",
       "  'diagnosis',\n",
       "  'diagnosis',\n",
       "  'diagnosis',\n",
       "  'diagnosis',\n",
       "  'diagnosis',\n",
       "  'symptoms_labs',\n",
       "  'symptoms_labs',\n",
       "  'thought_process',\n",
       "  'thought_process',\n",
       "  'symptoms_labs',\n",
       "  'symptoms_labs',\n",
       "  'thought_process',\n",
       "  'thought_process',\n",
       "  'symptoms_labs',\n",
       "  'symptoms_labs',\n",
       "  'thought_process',\n",
       "  'diagnosis',\n",
       "  'thought_process',\n",
       "  'symptoms_labs',\n",
       "  'diagnosis',\n",
       "  'symptoms_labs',\n",
       "  'symptoms_labs',\n",
       "  'symptoms_labs',\n",
       "  'symptoms_labs',\n",
       "  'symptoms_labs',\n",
       "  'symptoms_labs',\n",
       "  'symptoms_labs',\n",
       "  'thought_process',\n",
       "  'thought_process',\n",
       "  'diagnosis',\n",
       "  'diagnosis',\n",
       "  'thought_process',\n",
       "  'thought_process',\n",
       "  'diagnosis',\n",
       "  'diagnosis',\n",
       "  'diagnosis',\n",
       "  'diagnosis',\n",
       "  'diagnosis',\n",
       "  'thought_process',\n",
       "  'thought_process',\n",
       "  'diagnosis',\n",
       "  'symptoms_labs',\n",
       "  'diagnosis',\n",
       "  'symptoms_labs',\n",
       "  'diagnosis',\n",
       "  'symptoms_labs',\n",
       "  'symptoms_labs',\n",
       "  'thought_process',\n",
       "  'thought_process',\n",
       "  'symptoms_labs',\n",
       "  'thought_process',\n",
       "  'diagnosis',\n",
       "  'diagnosis',\n",
       "  'thought_process',\n",
       "  'thought_process',\n",
       "  'diagnosis',\n",
       "  'thought_process',\n",
       "  'thought_process',\n",
       "  'thought_process',\n",
       "  'diagnosis',\n",
       "  'diagnosis',\n",
       "  'thought_process',\n",
       "  'symptoms_labs',\n",
       "  'symptoms_labs',\n",
       "  'symptoms_labs',\n",
       "  'thought_process',\n",
       "  'thought_process',\n",
       "  'thought_process',\n",
       "  'symptoms_labs',\n",
       "  'thought_process',\n",
       "  'symptoms_labs',\n",
       "  'thought_process',\n",
       "  'thought_process',\n",
       "  'thought_process',\n",
       "  'thought_process',\n",
       "  'diagnosis',\n",
       "  'thought_process',\n",
       "  'diagnosis',\n",
       "  'thought_process',\n",
       "  'symptoms_labs',\n",
       "  'symptoms_labs',\n",
       "  'symptoms_labs',\n",
       "  'symptoms_labs',\n",
       "  'symptoms_labs',\n",
       "  'symptoms_labs',\n",
       "  'symptoms_labs',\n",
       "  'symptoms_labs',\n",
       "  'symptoms_labs',\n",
       "  'symptoms_labs',\n",
       "  'symptoms_labs',\n",
       "  'symptoms_labs',\n",
       "  'symptoms_labs',\n",
       "  'diagnosis',\n",
       "  'diagnosis',\n",
       "  'symptoms_labs',\n",
       "  'symptoms_labs',\n",
       "  'symptoms_labs',\n",
       "  'symptoms_labs',\n",
       "  'symptoms_labs',\n",
       "  'symptoms_labs',\n",
       "  'symptoms_labs',\n",
       "  'thought_process',\n",
       "  'thought_process',\n",
       "  'diagnosis',\n",
       "  'diagnosis',\n",
       "  'thought_process',\n",
       "  'diagnosis',\n",
       "  'diagnosis',\n",
       "  'diagnosis',\n",
       "  'symptoms_labs',\n",
       "  'symptoms_labs',\n",
       "  'symptoms_labs',\n",
       "  'symptoms_labs',\n",
       "  'diagnosis',\n",
       "  'diagnosis',\n",
       "  'symptoms_labs',\n",
       "  'symptoms_labs',\n",
       "  'diagnosis',\n",
       "  'The',\n",
       "  '',\n",
       "  'symptoms_labs',\n",
       "  'symptoms_labs',\n",
       "  'symptoms_labs',\n",
       "  'symptoms_labs',\n",
       "  'symptoms_labs',\n",
       "  'symptoms_labs',\n",
       "  'symptoms_labs',\n",
       "  'symptoms_labs',\n",
       "  'symptoms_labs',\n",
       "  'thought_process',\n",
       "  'thought_process',\n",
       "  'symptoms_labs',\n",
       "  'symptoms_labs',\n",
       "  'symptoms_labs',\n",
       "  'symptoms_labs',\n",
       "  'symptoms_labs',\n",
       "  'symptoms_labs',\n",
       "  'symptoms_labs',\n",
       "  'symptoms_labs',\n",
       "  'symptoms_labs',\n",
       "  'symptoms_labs',\n",
       "  'symptoms_labs',\n",
       "  '9',\n",
       "  'symptoms_labs',\n",
       "  'symptoms_labs',\n",
       "  'symptoms_labs',\n",
       "  'symptoms_labs',\n",
       "  'symptoms_labs',\n",
       "  'symptoms_labs',\n",
       "  'diagnosis',\n",
       "  'diagnosis',\n",
       "  'diagnosis',\n",
       "  'diagnosis',\n",
       "  'thought_process',\n",
       "  'symptoms_labs',\n",
       "  'thought_process',\n",
       "  'symptoms_labs',\n",
       "  'thought_process',\n",
       "  'thought_process',\n",
       "  'thought_process',\n",
       "  'thought_process',\n",
       "  'diagnosis',\n",
       "  'symptoms_labs',\n",
       "  'symptoms_labs',\n",
       "  'symptoms_labs',\n",
       "  'symptoms_labs',\n",
       "  'The',\n",
       "  'The',\n",
       "  'A',\n",
       "  'Due',\n",
       "  'There',\n",
       "  'thought_process',\n",
       "  'symptoms_labs',\n",
       "  'symptoms_labs',\n",
       "  'thought_process',\n",
       "  'symptoms_labs',\n",
       "  'symptoms_labs',\n",
       "  'symptoms_labs',\n",
       "  'symptoms_labs',\n",
       "  'symptoms_labs',\n",
       "  'symptoms_labs',\n",
       "  'diagnosis',\n",
       "  'symptoms_labs',\n",
       "  'symptoms_labs',\n",
       "  'symptoms_labs',\n",
       "  'thought_process',\n",
       "  'thought_process',\n",
       "  'thought_process',\n",
       "  'thought_process',\n",
       "  'diagnosis',\n",
       "  'thought_process',\n",
       "  'symptoms_labs',\n",
       "  'thought_process',\n",
       "  'symptoms_labs',\n",
       "  'thought_process',\n",
       "  'symptoms_labs',\n",
       "  'diagnosis',\n",
       "  'symptoms_labs',\n",
       "  'diagnosis',\n",
       "  'thought_process',\n",
       "  'thought_process',\n",
       "  'thought_process',\n",
       "  'thought_process',\n",
       "  'thought_process',\n",
       "  'thought_process',\n",
       "  'symptoms_labs',\n",
       "  'symptoms_labs',\n",
       "  'symptoms_labs',\n",
       "  'symptoms_labs',\n",
       "  'diagnosis',\n",
       "  'symptoms_labs',\n",
       "  'symptoms_labs',\n",
       "  'symptoms_labs',\n",
       "  'symptoms_labs',\n",
       "  'symptoms_labs',\n",
       "  'symptoms_labs',\n",
       "  'thought_process',\n",
       "  'thought_process',\n",
       "  'thought_process',\n",
       "  'thought_process',\n",
       "  'symptoms_labs',\n",
       "  'symptoms_labs',\n",
       "  'symptoms_labs',\n",
       "  'symptoms_labs',\n",
       "  'symptoms_labs',\n",
       "  'symptoms_labs',\n",
       "  'symptoms_labs',\n",
       "  'symptoms_labs',\n",
       "  'symptoms_labs',\n",
       "  'symptoms_labs',\n",
       "  'symptoms_labs',\n",
       "  'symptoms_labs',\n",
       "  'symptoms_labs',\n",
       "  'symptoms_labs',\n",
       "  'symptoms_labs',\n",
       "  'symptoms_labs',\n",
       "  'symptoms_labs',\n",
       "  'symptoms_labs',\n",
       "  'symptoms_labs',\n",
       "  'symptoms_labs',\n",
       "  'diagnosis',\n",
       "  'diagnosis',\n",
       "  '',\n",
       "  'symptoms_labs',\n",
       "  'symptoms_labs',\n",
       "  'symptoms_labs',\n",
       "  'symptoms_labs',\n",
       "  'symptoms_labs',\n",
       "  'symptoms_labs',\n",
       "  'symptoms_labs',\n",
       "  'symptoms_labs',\n",
       "  'symptoms_labs',\n",
       "  'symptoms_labs',\n",
       "  'symptoms_labs',\n",
       "  'symptoms_labs',\n",
       "  'diagnosis',\n",
       "  'thought_process',\n",
       "  'thought_process',\n",
       "  'diagnosis',\n",
       "  'symptoms_labs',\n",
       "  'symptoms_labs',\n",
       "  'symptoms_labs',\n",
       "  'symptoms_labs',\n",
       "  'thought_process',\n",
       "  'thought_process',\n",
       "  'symptoms_labs',\n",
       "  'thought_process',\n",
       "  'diagnosis',\n",
       "  'symptoms_labs',\n",
       "  'symptoms_labs',\n",
       "  'symptoms_labs',\n",
       "  'symptoms_labs',\n",
       "  'symptoms_labs',\n",
       "  'symptoms_labs',\n",
       "  'diagnosis',\n",
       "  'thought_process',\n",
       "  'symptoms_labs',\n",
       "  'symptoms_labs',\n",
       "  'symptoms_labs',\n",
       "  'symptoms_labs',\n",
       "  'symptoms_labs',\n",
       "  'symptoms_labs',\n",
       "  'symptoms_labs',\n",
       "  'symptoms_labs',\n",
       "  'symptoms_labs',\n",
       "  'thought_process',\n",
       "  'symptoms_labs',\n",
       "  'symptoms_labs',\n",
       "  'symptoms_labs',\n",
       "  'thought_process',\n",
       "  'symptoms_labs',\n",
       "  'symptoms_labs',\n",
       "  'symptoms_labs',\n",
       "  'symptoms_labs',\n",
       "  'symptoms_labs',\n",
       "  'symptoms_labs',\n",
       "  'symptoms_labs',\n",
       "  'symptoms_labs',\n",
       "  'symptoms_labs',\n",
       "  'diagnosis',\n",
       "  'symptoms_labs',\n",
       "  'symptoms_labs',\n",
       "  'symptoms_labs',\n",
       "  'diagnosis',\n",
       "  'diagnosis',\n",
       "  'diagnosis',\n",
       "  'diagnosis',\n",
       "  'diagnosis',\n",
       "  'diagnosis',\n",
       "  'diagnosis',\n",
       "  'diagnosis',\n",
       "  'diagnosis',\n",
       "  'diagnosis',\n",
       "  'diagnosis',\n",
       "  'diagnosis',\n",
       "  'diagnosis',\n",
       "  'diagnosis',\n",
       "  'diagnosis',\n",
       "  'symptoms_labs',\n",
       "  'symptoms_labs',\n",
       "  'symptoms_labs',\n",
       "  '5',\n",
       "  'diagnosis',\n",
       "  'thought_process',\n",
       "  'thought_process',\n",
       "  'symptoms_labs',\n",
       "  'thought_process',\n",
       "  'thought_process',\n",
       "  'thought_process',\n",
       "  'thought_process',\n",
       "  'symptoms_labs',\n",
       "  'thought_process',\n",
       "  'thought_process',\n",
       "  'symptoms_labs',\n",
       "  'diagnosis',\n",
       "  'diagnosis',\n",
       "  'diagnosis',\n",
       "  'diagnosis',\n",
       "  'diagnosis',\n",
       "  'diagnosis',\n",
       "  'diagnosis',\n",
       "  'diagnosis',\n",
       "  'thought_process',\n",
       "  'symptoms_labs',\n",
       "  'symptoms_labs',\n",
       "  'symptoms_labs',\n",
       "  'symptoms_labs',\n",
       "  'symptoms_labs',\n",
       "  'symptoms_labs',\n",
       "  'symptoms_labs',\n",
       "  'symptoms_labs',\n",
       "  'symptoms_labs',\n",
       "  'symptoms_labs',\n",
       "  'symptoms_labs',\n",
       "  'thought_process',\n",
       "  'thought_process',\n",
       "  'thought_process',\n",
       "  'thought_process',\n",
       "  'thought_process',\n",
       "  'thought_process',\n",
       "  'thought_process',\n",
       "  'Using',\n",
       "  'The',\n",
       "  'thought_process',\n",
       "  'thought_process',\n",
       "  'thought_process',\n",
       "  'thought_process',\n",
       "  'thought_process',\n",
       "  'thought_process',\n",
       "  'thought_process',\n",
       "  'symptoms_labs',\n",
       "  'symptoms_labs',\n",
       "  'symptoms_labs',\n",
       "  'symptoms_labs',\n",
       "  'symptoms_labs',\n",
       "  'symptoms_labs',\n",
       "  'symptoms_labs',\n",
       "  'symptoms_labs',\n",
       "  'symptoms_labs',\n",
       "  'symptoms_labs',\n",
       "  'symptoms_labs',\n",
       "  'thought_process',\n",
       "  'thought_process',\n",
       "  'thought_process',\n",
       "  'thought_process',\n",
       "  'symptoms_labs',\n",
       "  'thought_process',\n",
       "  'symptoms_labs',\n",
       "  'symptoms_labs',\n",
       "  'thought_process',\n",
       "  'symptoms_labs',\n",
       "  'symptoms_labs',\n",
       "  'symptoms_labs',\n",
       "  'symptoms_labs',\n",
       "  'symptoms_labs',\n",
       "  'symptoms_labs',\n",
       "  'symptoms_labs',\n",
       "  'symptoms_labs',\n",
       "  'symptoms_labs',\n",
       "  'symptoms_labs',\n",
       "  'Outcome scores were completed at baseline, 1, 3, 6, 12 and 18 months post commencement of MSC therapy and recorded using the software program Clinical Intelligence (Clinical Intelligence, Melbourne, Australia).',\n",
       "  'symptoms_labs',\n",
       "  'symptoms_labs',\n",
       "  'symptoms_labs',\n",
       "  'symptoms_labs',\n",
       "  'symptoms_labs',\n",
       "  'symptoms_labs',\n",
       "  'symptoms_lbs',\n",
       "  'thought_process',\n",
       "  'thought_process',\n",
       "  'diagnosis',\n",
       "  'thought_process',\n",
       "  'symptoms_labs',\n",
       "  'symptoms_labs',\n",
       "  'symptoms_labs',\n",
       "  'diagnosis',\n",
       "  'symptoms_labs',\n",
       "  'symptoms_labs',\n",
       "  'symptoms_labs',\n",
       "  'symptoms_labs',\n",
       "  'symptoms_labs',\n",
       "  'diagnosis',\n",
       "  'diagnosis',\n",
       "  'diagnosis',\n",
       "  'diagnosis',\n",
       "  'diagnosis',\n",
       "  'diagnosis',\n",
       "  'symptoms_labs',\n",
       "  'symptoms_labs',\n",
       "  'thought_process',\n",
       "  'thought_process',\n",
       "  'symptoms_labs',\n",
       "  'symptoms_labs',\n",
       "  'symptoms_labs',\n",
       "  'symptoms_labs',\n",
       "  'symptoms_labs',\n",
       "  'symptoms_labs',\n",
       "  'symptoms_labs',\n",
       "  'symptoms_labs',\n",
       "  'symptoms_labs',\n",
       "  'symptoms_labs',\n",
       "  'symptoms_labs',\n",
       "  'symptoms_labs',\n",
       "  'symptoms_labs',\n",
       "  'diagnosis',\n",
       "  'thought_process',\n",
       "  'thought_process',\n",
       "  'diagnosis',\n",
       "  'symptoms_labs',\n",
       "  'symptoms_labs',\n",
       "  'symptoms_labs',\n",
       "  'symptoms_labs',\n",
       "  'symptoms_labs',\n",
       "  'symptoms_labs',\n",
       "  'symptoms_labs',\n",
       "  'symptoms_labs',\n",
       "  'symptoms_labs',\n",
       "  'symptoms_labs',\n",
       "  'symptoms_labs',\n",
       "  'symptoms_labs',\n",
       "  'diagnosis',\n",
       "  'thought_process',\n",
       "  'thought_process',\n",
       "  'diagnosis',\n",
       "  'symptoms_labs',\n",
       "  'symptoms_labs',\n",
       "  'symptoms_labs',\n",
       "  'thought_process',\n",
       "  'thought_process',\n",
       "  'thought_process',\n",
       "  'thought_process',\n",
       "  'symptoms_labs',\n",
       "  'symptoms_labs',\n",
       "  'symptoms_labs',\n",
       "  'symptoms_labs',\n",
       "  'symptoms_labs',\n",
       "  'symptoms_labs',\n",
       "  'symptoms_labs',\n",
       "  'symptoms_labs',\n",
       "  'symptoms_labs',\n",
       "  'symptoms_labs',\n",
       "  'symptoms_labs',\n",
       "  'symptoms_labs',\n",
       "  'symptoms_labs',\n",
       "  'symptoms_labs',\n",
       "  'symptoms_labs',\n",
       "  'symptoms_labs',\n",
       "  'symptoms_labs',\n",
       "  'diagnosis',\n",
       "  'diagnosis',\n",
       "  'diagnosis',\n",
       "  'diagnosis',\n",
       "  'diagnosis',\n",
       "  'symptoms_labs',\n",
       "  'symptoms_labs',\n",
       "  'diagnosis',\n",
       "  'thought_process',\n",
       "  'diagnosis',\n",
       "  'symptoms_labs',\n",
       "  'symptoms_labs',\n",
       "  'diagnosis',\n",
       "  'symptoms_labs',\n",
       "  'diagnosis',\n",
       "  'diagnosis',\n",
       "  'diagnosis',\n",
       "  'symptoms_labs',\n",
       "  'thought_process',\n",
       "  'diagnosis',\n",
       "  'diagnosis',\n",
       "  'diagnosis',\n",
       "  'thought_process',\n",
       "  'symptoms_labs',\n",
       "  'thought_process',\n",
       "  'thought_process',\n",
       "  'diagnosis',\n",
       "  'diagnosis',\n",
       "  'symptoms_labs',\n",
       "  'symptoms_labs',\n",
       "  'symptoms_labs',\n",
       "  'diagnosis',\n",
       "  'diagnosis',\n",
       "  'symptoms_labs',\n",
       "  'symptoms_labs',\n",
       "  'symptoms_labs',\n",
       "  'symptoms_labs',\n",
       "  'symptoms_labs',\n",
       "  'symptoms_labs',\n",
       "  'symptoms_labs',\n",
       "  'symptoms_labs',\n",
       "  'symptoms_labs',\n",
       "  'symptoms_labs',\n",
       "  'symptoms_labs',\n",
       "  'symptoms_labs',\n",
       "  'diagnosis',\n",
       "  'thought_process',\n",
       "  'thought_process',\n",
       "  'diagnosis',\n",
       "  'symptoms_labs',\n",
       "  'symptoms_labs',\n",
       "  'symptoms_labs',\n",
       "  'symptoms_labs',\n",
       "  'symptoms_labs',\n",
       "  'symptoms_labs',\n",
       "  'symptoms_labs',\n",
       "  'symptoms_labs',\n",
       "  'symptoms_labs',\n",
       "  'symptoms_labs',\n",
       "  'symptoms_labs',\n",
       "  'symptoms_labs',\n",
       "  'diagnosis',\n",
       "  'thought_process',\n",
       "  'thought_process',\n",
       "  'diagnosis',\n",
       "  'symptoms_labs',\n",
       "  'symptoms_labs',\n",
       "  'symptoms_labs',\n",
       "  'symptoms_labs',\n",
       "  'symptoms_labs',\n",
       "  'symptoms_labs',\n",
       "  'symptoms_labs',\n",
       "  'symptoms_labs',\n",
       "  'symptoms_labs',\n",
       "  'diagnosis',\n",
       "  'thought_process',\n",
       "  'thought_process',\n",
       "  'thought_process',\n",
       "  'thought_process',\n",
       "  'thought_process',\n",
       "  'thought_process',\n",
       "  'thought_process',\n",
       "  'thought_process',\n",
       "  'thought_process',\n",
       "  'diagnosis',\n",
       "  'diagnosis',\n",
       "  'diagnosis',\n",
       "  'diagnosis',\n",
       "  'diagnosis',\n",
       "  'symptoms_labs',\n",
       "  'symptoms_labs',\n",
       "  'symptoms_labs',\n",
       "  'symptoms_labs',\n",
       "  'symptoms_labs',\n",
       "  'symptoms_labs',\n",
       "  'symptoms_labs',\n",
       "  'symptoms_labs',\n",
       "  'symptoms_labs',\n",
       "  'symptoms_labs',\n",
       "  'diagnosis',\n",
       "  'symptoms_labs',\n",
       "  'symptoms_labs',\n",
       "  'diagnosis',\n",
       "  'symptoms_labs',\n",
       "  'symptoms_labs',\n",
       "  'symptoms_labs',\n",
       "  'diagnosis',\n",
       "  'diagnosis',\n",
       "  'diagnosis',\n",
       "  'diagnosis',\n",
       "  'diagnosis',\n",
       "  'diagnosis',\n",
       "  'diagnosis',\n",
       "  'symptoms_labs',\n",
       "  'diagnosis',\n",
       "  'symptoms_labs',\n",
       "  'symptoms_labs',\n",
       "  'symptoms_labs',\n",
       "  'diagnosis',\n",
       "  'diagnosis',\n",
       "  'Our goal was to transfer the inferior limb to the superior forearm as a neurovascular island, and to recreate the hand without compromising the existing function and vascularity.',\n",
       "  'thought_process',\n",
       "  'thought_process',\n",
       "  'thought_process',\n",
       "  'thought_process',\n",
       "  'thought_process',\n",
       "  'diagnosis',\n",
       "  'diagnosis',\n",
       "  'thought_process',\n",
       "  'thought_process',\n",
       "  'thought_process',\n",
       "  'thought_process',\n",
       "  'symptoms_labs',\n",
       "  'symptoms_labs',\n",
       "  'symptoms_labs',\n",
       "  'symptoms_labs',\n",
       "  'thought_process',\n",
       "  'symptoms_labs',\n",
       "  'symptoms_labs',\n",
       "  'thought_process',\n",
       "  'thought_process',\n",
       "  'thought_process',\n",
       "  'thought_process',\n",
       "  'symptoms_labs',\n",
       "  'thought_process',\n",
       "  'diagnosis',\n",
       "  'thought_process',\n",
       "  'symptoms_labs',\n",
       "  'thought_process',\n",
       "  'thought_process',\n",
       "  'thought_process',\n",
       "  'Disposable bipolar Ag-AgCl disc surface electrodes with a diameter of one cm were adhered bilaterally over the five muscle groups with a centre to centre spacing of 1 cm. Raw EMG was amplified 5000 times. The amplifier has a CMRR of 10,000:1 (Bortec EMG, Calgary AB, Canada). Raw EMG was band pass filtered (10 and 1000 Hz) and A/D converted at 2000 Hz using a National Instruments data acquisition system.',\n",
       "  'symptoms_labs',\n",
       "  'thought_process',\n",
       "  'thought_process',\n",
       "  'thought_process',\n",
       "  'symptoms_labs',\n",
       "  'thought_process',\n",
       "  'on',\n",
       "  'on',\n",
       "  'thought_process',\n",
       "  'on',\n",
       "  'thought_process',\n",
       "  'thought_process',\n",
       "  'thought_process',\n",
       "  'thought_process',\n",
       "  'thought_process',\n",
       "  'thought_process',\n",
       "  'thought_process',\n",
       "  'thought_process',\n",
       "  'thought_process',\n",
       "  'thought_process',\n",
       "  'thought_process',\n",
       "  'symptoms_labs',\n",
       "  'symptoms_labs',\n",
       "  'symptoms_labs',\n",
       "  'thought_process',\n",
       "  'symptoms_labs',\n",
       "  'symptoms_labs',\n",
       "  'thought_process',\n",
       "  'symptoms_labs',\n",
       "  'symptoms_labs',\n",
       "  'thought_process',\n",
       "  'thought_process',\n",
       "  'symptoms_labs',\n",
       "  'thought_process',\n",
       "  'diagnosis',\n",
       "  'diagnosis',\n",
       "  'diagnosis',\n",
       "  'diagnosis',\n",
       "  'diagnosis',\n",
       "  'diagnosis',\n",
       "  'diagnosis',\n",
       "  'thought_process',\n",
       "  'thought_process',\n",
       "  'thought_process',\n",
       "  'thought_process',\n",
       "  'thought_process',\n",
       "  'thought_process',\n",
       "  'symptoms_labs',\n",
       "  'thought_process',\n",
       "  'symptoms_labs',\n",
       "  'diagnosis',\n",
       "  'diagnosis',\n",
       "  'symptoms_labs',\n",
       "  'symptoms_labs',\n",
       "  'symptoms_labs',\n",
       "  'symptoms_labs',\n",
       "  'symptoms_labs',\n",
       "  'symptoms_labs',\n",
       "  'symptoms_labs',\n",
       "  'symptoms_labs',\n",
       "  'symptoms_labs',\n",
       "  'symptoms_labs',\n",
       "  'symptoms_labs',\n",
       "  'symptoms_labs',\n",
       "  'symptoms_labs',\n",
       "  'symptoms_labs',\n",
       "  'symptoms_lbs',\n",
       "  'symptoms_labs',\n",
       "  'thought_process',\n",
       "  'diagnosis',\n",
       "  'thought_process',\n",
       "  'symptoms_labs',\n",
       "  'diagnosis',\n",
       "  'diagnosis',\n",
       "  'diagnosis',\n",
       "  'thought_process',\n",
       "  'symptoms_labs',\n",
       "  'thought_process',\n",
       "  'thought_process',\n",
       "  'thought_process',\n",
       "  'symptoms_labs',\n",
       "  'thought_process',\n",
       "  'thought_process',\n",
       "  'thought_process',\n",
       "  'symptoms_labs',\n",
       "  'thought_process',\n",
       "  'thought_process',\n",
       "  'thought_process',\n",
       "  'thought_process',\n",
       "  'diagnosis',\n",
       "  'diagnosis',\n",
       "  'diagnosis',\n",
       "  'thought_process',\n",
       "  'thought_process',\n",
       "  'thought_process',\n",
       "  'thought_process',\n",
       "  'thought_process',\n",
       "  'thought_process',\n",
       "  'thought_process',\n",
       "  'thought_process',\n",
       "  'thought_process',\n",
       "  'thought_process',\n",
       "  'symptoms_labs',\n",
       "  'symptoms_labs',\n",
       "  'symptoms_labs',\n",
       "  'thought_process',\n",
       "  'thought_process',\n",
       "  'thought_process',\n",
       "  'thought_process',\n",
       "  ...],\n",
       " 'case_id': ['-1',\n",
       "  '-1',\n",
       "  '-1',\n",
       "  '-1',\n",
       "  '-1',\n",
       "  '-1',\n",
       "  '-1',\n",
       "  '-1',\n",
       "  '-1',\n",
       "  '-1',\n",
       "  '-1',\n",
       "  '-1',\n",
       "  '-1',\n",
       "  '-1',\n",
       "  '-1',\n",
       "  '-1',\n",
       "  '-1',\n",
       "  '-1',\n",
       "  '-1',\n",
       "  '-1',\n",
       "  '-1',\n",
       "  '-1',\n",
       "  '-1',\n",
       "  '-1',\n",
       "  '-1',\n",
       "  '-1',\n",
       "  '-1',\n",
       "  '-1',\n",
       "  '-1',\n",
       "  '-1',\n",
       "  '-1',\n",
       "  '-1',\n",
       "  '-1',\n",
       "  '-1',\n",
       "  '-1',\n",
       "  '-1',\n",
       "  '-1',\n",
       "  '-1',\n",
       "  '-1',\n",
       "  '-1',\n",
       "  '-1',\n",
       "  '-1',\n",
       "  '-1',\n",
       "  '-1',\n",
       "  '-1',\n",
       "  '-1',\n",
       "  '-1',\n",
       "  '-1',\n",
       "  '-1',\n",
       "  '-1',\n",
       "  '-1',\n",
       "  '-1',\n",
       "  '-1',\n",
       "  '-1',\n",
       "  '-1',\n",
       "  '-1',\n",
       "  '-1',\n",
       "  '-1',\n",
       "  '-1',\n",
       "  '-1',\n",
       "  '-1',\n",
       "  '-1',\n",
       "  '-1',\n",
       "  '-1',\n",
       "  '-1',\n",
       "  '-1',\n",
       "  '-1',\n",
       "  '-1',\n",
       "  '-1',\n",
       "  '-1',\n",
       "  '-1',\n",
       "  '-1',\n",
       "  '-1',\n",
       "  '-1',\n",
       "  '-1',\n",
       "  '-1',\n",
       "  '-1',\n",
       "  '-1',\n",
       "  '-1',\n",
       "  '-1',\n",
       "  '-1',\n",
       "  '-1',\n",
       "  '-1',\n",
       "  '-1',\n",
       "  '-1',\n",
       "  '-1',\n",
       "  '-1',\n",
       "  '-1',\n",
       "  '-1',\n",
       "  '-1',\n",
       "  '-1',\n",
       "  '-1',\n",
       "  '-1',\n",
       "  '-1',\n",
       "  '-1',\n",
       "  '-1',\n",
       "  '-1',\n",
       "  '-1',\n",
       "  '-1',\n",
       "  '-1',\n",
       "  '-1',\n",
       "  '-1',\n",
       "  '-1',\n",
       "  '-1',\n",
       "  '-1',\n",
       "  '-1',\n",
       "  '-1',\n",
       "  '-1',\n",
       "  '-1',\n",
       "  '-1',\n",
       "  '-1',\n",
       "  '-1',\n",
       "  '-1',\n",
       "  '-1',\n",
       "  '-1',\n",
       "  '-1',\n",
       "  '-1',\n",
       "  '-1',\n",
       "  '-1',\n",
       "  '-1',\n",
       "  '-1',\n",
       "  '-1',\n",
       "  '-1',\n",
       "  '-1',\n",
       "  '-1',\n",
       "  '-1',\n",
       "  '-1',\n",
       "  '-1',\n",
       "  '-1',\n",
       "  '-1',\n",
       "  '-1',\n",
       "  '-1',\n",
       "  '-1',\n",
       "  '-1',\n",
       "  '-1',\n",
       "  '-1',\n",
       "  '-1',\n",
       "  '-1',\n",
       "  '-1',\n",
       "  '-1',\n",
       "  '-1',\n",
       "  '-1',\n",
       "  '-1',\n",
       "  '-1',\n",
       "  '-1',\n",
       "  '-1',\n",
       "  '-1',\n",
       "  '-1',\n",
       "  '-1',\n",
       "  '-1',\n",
       "  '-1',\n",
       "  '-1',\n",
       "  '-1',\n",
       "  '-1',\n",
       "  '-1',\n",
       "  '-1',\n",
       "  '-1',\n",
       "  '-1',\n",
       "  '-1',\n",
       "  '-1',\n",
       "  '-1',\n",
       "  '-1',\n",
       "  '-1',\n",
       "  '-1',\n",
       "  '-1',\n",
       "  '-1',\n",
       "  '-1',\n",
       "  '-1',\n",
       "  '-1',\n",
       "  '-1',\n",
       "  '-1',\n",
       "  '-1',\n",
       "  '-1',\n",
       "  '-1',\n",
       "  '-1',\n",
       "  '-1',\n",
       "  '-1',\n",
       "  '-1',\n",
       "  '-1',\n",
       "  '-1',\n",
       "  '-1',\n",
       "  '-1',\n",
       "  '-1',\n",
       "  '-1',\n",
       "  '-1',\n",
       "  '-1',\n",
       "  '-1',\n",
       "  '-1',\n",
       "  '-1',\n",
       "  '-1',\n",
       "  '-1',\n",
       "  '-1',\n",
       "  '-1',\n",
       "  '-1',\n",
       "  '-1',\n",
       "  '-1',\n",
       "  '-1',\n",
       "  '-1',\n",
       "  '-1',\n",
       "  '-1',\n",
       "  '-1',\n",
       "  '-1',\n",
       "  '-1',\n",
       "  '-1',\n",
       "  '-1',\n",
       "  '-1',\n",
       "  '-1',\n",
       "  '-1',\n",
       "  '-1',\n",
       "  '-1',\n",
       "  '-1',\n",
       "  '-1',\n",
       "  '-1',\n",
       "  '-1',\n",
       "  '-1',\n",
       "  '-1',\n",
       "  '-1',\n",
       "  '-1',\n",
       "  '-1',\n",
       "  '-1',\n",
       "  '-1',\n",
       "  '-1',\n",
       "  '-1',\n",
       "  '-1',\n",
       "  '-1',\n",
       "  '-1',\n",
       "  '-1',\n",
       "  '-1',\n",
       "  '-1',\n",
       "  '-1',\n",
       "  '-1',\n",
       "  '-1',\n",
       "  '-1',\n",
       "  '-1',\n",
       "  '-1',\n",
       "  '-1',\n",
       "  '-1',\n",
       "  '-1',\n",
       "  '-1',\n",
       "  '-1',\n",
       "  '-1',\n",
       "  '-1',\n",
       "  '-1',\n",
       "  '-1',\n",
       "  '-1',\n",
       "  '-1',\n",
       "  '-1',\n",
       "  '-1',\n",
       "  '-1',\n",
       "  '-1',\n",
       "  '-1',\n",
       "  '-1',\n",
       "  '-1',\n",
       "  '-1',\n",
       "  '-1',\n",
       "  '-1',\n",
       "  '-1',\n",
       "  '-1',\n",
       "  '-1',\n",
       "  '-1',\n",
       "  '-1',\n",
       "  '-1',\n",
       "  '-1',\n",
       "  '-1',\n",
       "  '-1',\n",
       "  '-1',\n",
       "  '-1',\n",
       "  '-1',\n",
       "  '-1',\n",
       "  '-1',\n",
       "  '-1',\n",
       "  '-1',\n",
       "  '-1',\n",
       "  '-1',\n",
       "  '-1',\n",
       "  '-1',\n",
       "  '-1',\n",
       "  '-1',\n",
       "  '-1',\n",
       "  '-1',\n",
       "  '-1',\n",
       "  '-1',\n",
       "  '-1',\n",
       "  '-1',\n",
       "  '-1',\n",
       "  '-1',\n",
       "  '-1',\n",
       "  '-1',\n",
       "  '-1',\n",
       "  '-1',\n",
       "  '-1',\n",
       "  '-1',\n",
       "  '-1',\n",
       "  '-1',\n",
       "  '-1',\n",
       "  '-1',\n",
       "  '-1',\n",
       "  '-1',\n",
       "  '-1',\n",
       "  '-1',\n",
       "  '-1',\n",
       "  '-1',\n",
       "  '-1',\n",
       "  '-1',\n",
       "  '-1',\n",
       "  '-1',\n",
       "  '-1',\n",
       "  '-1',\n",
       "  '-1',\n",
       "  '-1',\n",
       "  '-1',\n",
       "  '-1',\n",
       "  '-1',\n",
       "  '-1',\n",
       "  '-1',\n",
       "  '-1',\n",
       "  '-1',\n",
       "  '-1',\n",
       "  '-1',\n",
       "  '-1',\n",
       "  '-1',\n",
       "  '-1',\n",
       "  '-1',\n",
       "  '-1',\n",
       "  '-1',\n",
       "  '-1',\n",
       "  '-1',\n",
       "  '-1',\n",
       "  '-1',\n",
       "  '-1',\n",
       "  '-1',\n",
       "  '-1',\n",
       "  '-1',\n",
       "  '-1',\n",
       "  '-1',\n",
       "  '-1',\n",
       "  '-1',\n",
       "  '-1',\n",
       "  '-1',\n",
       "  '-1',\n",
       "  '-1',\n",
       "  '-1',\n",
       "  '-1',\n",
       "  '-1',\n",
       "  '-1',\n",
       "  '-1',\n",
       "  '-1',\n",
       "  '-1',\n",
       "  '-1',\n",
       "  '-1',\n",
       "  '-1',\n",
       "  '-1',\n",
       "  '-1',\n",
       "  '-1',\n",
       "  '-1',\n",
       "  '-1',\n",
       "  '-1',\n",
       "  '-1',\n",
       "  '-1',\n",
       "  '-1',\n",
       "  '-1',\n",
       "  '-1',\n",
       "  '-1',\n",
       "  '-1',\n",
       "  '-1',\n",
       "  '-1',\n",
       "  '-1',\n",
       "  '-1',\n",
       "  '-1',\n",
       "  '-1',\n",
       "  '-1',\n",
       "  '-1',\n",
       "  '-1',\n",
       "  '-1',\n",
       "  '-1',\n",
       "  '-1',\n",
       "  '-1',\n",
       "  '-1',\n",
       "  '-1',\n",
       "  '-1',\n",
       "  '-1',\n",
       "  '-1',\n",
       "  '-1',\n",
       "  '-1',\n",
       "  '-1',\n",
       "  '-1',\n",
       "  '-1',\n",
       "  '-1',\n",
       "  '-1',\n",
       "  '-1',\n",
       "  '-1',\n",
       "  '-1',\n",
       "  '-1',\n",
       "  '-1',\n",
       "  '-1',\n",
       "  '-1',\n",
       "  '-1',\n",
       "  '-1',\n",
       "  '-1',\n",
       "  '-1',\n",
       "  '-1',\n",
       "  '-1',\n",
       "  '-1',\n",
       "  '-1',\n",
       "  '-1',\n",
       "  '-1',\n",
       "  '-1',\n",
       "  '-1',\n",
       "  '-1',\n",
       "  '-1',\n",
       "  '-1',\n",
       "  '-1',\n",
       "  '-1',\n",
       "  '-1',\n",
       "  '-1',\n",
       "  '-1',\n",
       "  '-1',\n",
       "  '-1',\n",
       "  '-1',\n",
       "  '-1',\n",
       "  '-1',\n",
       "  '-1',\n",
       "  '-1',\n",
       "  '-1',\n",
       "  '-1',\n",
       "  '-1',\n",
       "  '-1',\n",
       "  '-1',\n",
       "  '-1',\n",
       "  '-1',\n",
       "  '-1',\n",
       "  '-1',\n",
       "  '-1',\n",
       "  '-1',\n",
       "  '-1',\n",
       "  '-1',\n",
       "  '-1',\n",
       "  '-1',\n",
       "  '-1',\n",
       "  '-1',\n",
       "  '-1',\n",
       "  '-1',\n",
       "  '-1',\n",
       "  '-1',\n",
       "  '-1',\n",
       "  '-1',\n",
       "  '-1',\n",
       "  '-1',\n",
       "  '-1',\n",
       "  '-1',\n",
       "  '-1',\n",
       "  '-1',\n",
       "  '-1',\n",
       "  '-1',\n",
       "  '-1',\n",
       "  '-1',\n",
       "  '-1',\n",
       "  '-1',\n",
       "  '-1',\n",
       "  '-1',\n",
       "  '-1',\n",
       "  '-1',\n",
       "  '-1',\n",
       "  '-1',\n",
       "  '-1',\n",
       "  '-1',\n",
       "  '-1',\n",
       "  '-1',\n",
       "  '-1',\n",
       "  '-1',\n",
       "  '-1',\n",
       "  '-1',\n",
       "  '-1',\n",
       "  '-1',\n",
       "  '-1',\n",
       "  '-1',\n",
       "  '-1',\n",
       "  '-1',\n",
       "  '-1',\n",
       "  '-1',\n",
       "  '-1',\n",
       "  '-1',\n",
       "  '-1',\n",
       "  '-1',\n",
       "  '-1',\n",
       "  '-1',\n",
       "  '-1',\n",
       "  '-1',\n",
       "  '-1',\n",
       "  '-1',\n",
       "  '-1',\n",
       "  '-1',\n",
       "  '-1',\n",
       "  '-1',\n",
       "  '-1',\n",
       "  '-1',\n",
       "  '-1',\n",
       "  '-1',\n",
       "  '-1',\n",
       "  '-1',\n",
       "  '-1',\n",
       "  '-1',\n",
       "  '-1',\n",
       "  '-1',\n",
       "  '-1',\n",
       "  '-1',\n",
       "  '-1',\n",
       "  '-1',\n",
       "  '-1',\n",
       "  '-1',\n",
       "  '-1',\n",
       "  '-1',\n",
       "  '-1',\n",
       "  '-1',\n",
       "  '-1',\n",
       "  '-1',\n",
       "  '-1',\n",
       "  '-1',\n",
       "  '-1',\n",
       "  '-1',\n",
       "  '-1',\n",
       "  '-1',\n",
       "  '-1',\n",
       "  '-1',\n",
       "  '-1',\n",
       "  '-1',\n",
       "  '-1',\n",
       "  '-1',\n",
       "  '-1',\n",
       "  '-1',\n",
       "  '-1',\n",
       "  '-1',\n",
       "  '-1',\n",
       "  '-1',\n",
       "  '-1',\n",
       "  '-1',\n",
       "  '-1',\n",
       "  '-1',\n",
       "  '-1',\n",
       "  '-1',\n",
       "  '-1',\n",
       "  '-1',\n",
       "  '-1',\n",
       "  '-1',\n",
       "  '-1',\n",
       "  '-1',\n",
       "  '-1',\n",
       "  '-1',\n",
       "  '-1',\n",
       "  '-1',\n",
       "  '-1',\n",
       "  '-1',\n",
       "  '-1',\n",
       "  '-1',\n",
       "  '-1',\n",
       "  '-1',\n",
       "  '-1',\n",
       "  '-1',\n",
       "  '-1',\n",
       "  '-1',\n",
       "  '-1',\n",
       "  '-1',\n",
       "  '-1',\n",
       "  '-1',\n",
       "  '-1',\n",
       "  '-1',\n",
       "  '-1',\n",
       "  '-1',\n",
       "  '-1',\n",
       "  '32',\n",
       "  '32',\n",
       "  '32',\n",
       "  '32',\n",
       "  '32',\n",
       "  '32',\n",
       "  '32',\n",
       "  '32',\n",
       "  '32',\n",
       "  '32',\n",
       "  '32',\n",
       "  '32',\n",
       "  '32',\n",
       "  '32',\n",
       "  '32',\n",
       "  '32',\n",
       "  '32',\n",
       "  '32',\n",
       "  '32',\n",
       "  '32',\n",
       "  '32',\n",
       "  '32',\n",
       "  '32',\n",
       "  '32',\n",
       "  '32',\n",
       "  '32',\n",
       "  '32',\n",
       "  '32',\n",
       "  '32',\n",
       "  '32',\n",
       "  '32',\n",
       "  '32',\n",
       "  '32',\n",
       "  '32',\n",
       "  '32',\n",
       "  '32',\n",
       "  '32',\n",
       "  '32',\n",
       "  '32',\n",
       "  '32',\n",
       "  '32',\n",
       "  '32',\n",
       "  '32',\n",
       "  '32',\n",
       "  '32',\n",
       "  '32',\n",
       "  '32',\n",
       "  '32',\n",
       "  '32',\n",
       "  '32',\n",
       "  '32',\n",
       "  '32',\n",
       "  '32',\n",
       "  '32',\n",
       "  '32',\n",
       "  '32',\n",
       "  '32',\n",
       "  '32',\n",
       "  '32',\n",
       "  '32',\n",
       "  '32',\n",
       "  '32',\n",
       "  '32',\n",
       "  '32',\n",
       "  '32',\n",
       "  '32',\n",
       "  '32',\n",
       "  '32',\n",
       "  '32',\n",
       "  '32',\n",
       "  '32',\n",
       "  '32',\n",
       "  '32',\n",
       "  '32',\n",
       "  '32',\n",
       "  '32',\n",
       "  '32',\n",
       "  '32',\n",
       "  '32',\n",
       "  '32',\n",
       "  '32',\n",
       "  '32',\n",
       "  '32',\n",
       "  '32',\n",
       "  '32',\n",
       "  '32',\n",
       "  '32',\n",
       "  '32',\n",
       "  '32',\n",
       "  '32',\n",
       "  '32',\n",
       "  '32',\n",
       "  '32',\n",
       "  '32',\n",
       "  '32',\n",
       "  '32',\n",
       "  '32',\n",
       "  '32',\n",
       "  '32',\n",
       "  '32',\n",
       "  '32',\n",
       "  '32',\n",
       "  '32',\n",
       "  '32',\n",
       "  '32',\n",
       "  '32',\n",
       "  '32',\n",
       "  '32',\n",
       "  '32',\n",
       "  '32',\n",
       "  '32',\n",
       "  '32',\n",
       "  '32',\n",
       "  '32',\n",
       "  '33',\n",
       "  '33',\n",
       "  '33',\n",
       "  '33',\n",
       "  '33',\n",
       "  '33',\n",
       "  '33',\n",
       "  '33',\n",
       "  '33',\n",
       "  '33',\n",
       "  '33',\n",
       "  '33',\n",
       "  '33',\n",
       "  '33',\n",
       "  '33',\n",
       "  '33',\n",
       "  '34',\n",
       "  '34',\n",
       "  '34',\n",
       "  '34',\n",
       "  '34',\n",
       "  '34',\n",
       "  '34',\n",
       "  '34',\n",
       "  '34',\n",
       "  '34',\n",
       "  '34',\n",
       "  '34',\n",
       "  '34',\n",
       "  '34',\n",
       "  '34',\n",
       "  '34',\n",
       "  '35',\n",
       "  '35',\n",
       "  '35',\n",
       "  '35',\n",
       "  '35',\n",
       "  '35',\n",
       "  '35',\n",
       "  '35',\n",
       "  '35',\n",
       "  '35',\n",
       "  '35',\n",
       "  '35',\n",
       "  '35',\n",
       "  '35',\n",
       "  '35',\n",
       "  '35',\n",
       "  '35',\n",
       "  '35',\n",
       "  '35',\n",
       "  '35',\n",
       "  '35',\n",
       "  '35',\n",
       "  '35',\n",
       "  '36',\n",
       "  '36',\n",
       "  '36',\n",
       "  '36',\n",
       "  '36',\n",
       "  '36',\n",
       "  '36',\n",
       "  '36',\n",
       "  '36',\n",
       "  '36',\n",
       "  '36',\n",
       "  '36',\n",
       "  '36',\n",
       "  '36',\n",
       "  '36',\n",
       "  '36',\n",
       "  '36',\n",
       "  '36',\n",
       "  '36',\n",
       "  '36',\n",
       "  '36',\n",
       "  '36',\n",
       "  '36',\n",
       "  '36',\n",
       "  '36',\n",
       "  '36',\n",
       "  '36',\n",
       "  '36',\n",
       "  '36',\n",
       "  '36',\n",
       "  '36',\n",
       "  '36',\n",
       "  '36',\n",
       "  '36',\n",
       "  '37',\n",
       "  '37',\n",
       "  '37',\n",
       "  '37',\n",
       "  '37',\n",
       "  '37',\n",
       "  '37',\n",
       "  '37',\n",
       "  '37',\n",
       "  '37',\n",
       "  '37',\n",
       "  '37',\n",
       "  '37',\n",
       "  '37',\n",
       "  '37',\n",
       "  '37',\n",
       "  '38',\n",
       "  '38',\n",
       "  '38',\n",
       "  '38',\n",
       "  '38',\n",
       "  '38',\n",
       "  '38',\n",
       "  '38',\n",
       "  '38',\n",
       "  '38',\n",
       "  '38',\n",
       "  '38',\n",
       "  '38',\n",
       "  '38',\n",
       "  '38',\n",
       "  '38',\n",
       "  '39',\n",
       "  '39',\n",
       "  '39',\n",
       "  '39',\n",
       "  '39',\n",
       "  '39',\n",
       "  '39',\n",
       "  '39',\n",
       "  '39',\n",
       "  '39',\n",
       "  '39',\n",
       "  '39',\n",
       "  '39',\n",
       "  '39',\n",
       "  '39',\n",
       "  '39',\n",
       "  '39',\n",
       "  '39',\n",
       "  '39',\n",
       "  '39',\n",
       "  '39',\n",
       "  '39',\n",
       "  '39',\n",
       "  '39',\n",
       "  '40',\n",
       "  '40',\n",
       "  '40',\n",
       "  '40',\n",
       "  '40',\n",
       "  '40',\n",
       "  '40',\n",
       "  '40',\n",
       "  '40',\n",
       "  '40',\n",
       "  '40',\n",
       "  '40',\n",
       "  '40',\n",
       "  '40',\n",
       "  '40',\n",
       "  '40',\n",
       "  '40',\n",
       "  '40',\n",
       "  '40',\n",
       "  '40',\n",
       "  '40',\n",
       "  '40',\n",
       "  '40',\n",
       "  '40',\n",
       "  '40',\n",
       "  '40',\n",
       "  '40',\n",
       "  '40',\n",
       "  '40',\n",
       "  '40',\n",
       "  '40',\n",
       "  '40',\n",
       "  '40',\n",
       "  '40',\n",
       "  '40',\n",
       "  '40',\n",
       "  '40',\n",
       "  '40',\n",
       "  '40',\n",
       "  '40',\n",
       "  '40',\n",
       "  '40',\n",
       "  '41',\n",
       "  '41',\n",
       "  '41',\n",
       "  '41',\n",
       "  '41',\n",
       "  '41',\n",
       "  '41',\n",
       "  '41',\n",
       "  '41',\n",
       "  '41',\n",
       "  '41',\n",
       "  '41',\n",
       "  '41',\n",
       "  '41',\n",
       "  '41',\n",
       "  '41',\n",
       "  '41',\n",
       "  '41',\n",
       "  '41',\n",
       "  '41',\n",
       "  '41',\n",
       "  '41',\n",
       "  '41',\n",
       "  '41',\n",
       "  '41',\n",
       "  '41',\n",
       "  '41',\n",
       "  '41',\n",
       "  '41',\n",
       "  '41',\n",
       "  '41',\n",
       "  '41',\n",
       "  '41',\n",
       "  '41',\n",
       "  '41',\n",
       "  '41',\n",
       "  '41',\n",
       "  '41',\n",
       "  '41',\n",
       "  '41',\n",
       "  '41',\n",
       "  '41',\n",
       "  '42',\n",
       "  '42',\n",
       "  '42',\n",
       "  '42',\n",
       "  '42',\n",
       "  '42',\n",
       "  '42',\n",
       "  '42',\n",
       "  '42',\n",
       "  '42',\n",
       "  '42',\n",
       "  '42',\n",
       "  '42',\n",
       "  '42',\n",
       "  '42',\n",
       "  '42',\n",
       "  '42',\n",
       "  '42',\n",
       "  '42',\n",
       "  '42',\n",
       "  '43',\n",
       "  '43',\n",
       "  '43',\n",
       "  '43',\n",
       "  '43',\n",
       "  '43',\n",
       "  '43',\n",
       "  '43',\n",
       "  '43',\n",
       "  '43',\n",
       "  '43',\n",
       "  '43',\n",
       "  '44',\n",
       "  '44',\n",
       "  '44',\n",
       "  '44',\n",
       "  '44',\n",
       "  '44',\n",
       "  '44',\n",
       "  '44',\n",
       "  '44',\n",
       "  '44',\n",
       "  '44',\n",
       "  '44',\n",
       "  '44',\n",
       "  '44',\n",
       "  '44',\n",
       "  '44',\n",
       "  '44',\n",
       "  '44',\n",
       "  '44',\n",
       "  '44',\n",
       "  '44',\n",
       "  '44',\n",
       "  '45',\n",
       "  '45',\n",
       "  '45',\n",
       "  '45',\n",
       "  '45',\n",
       "  '45',\n",
       "  '45',\n",
       "  '45',\n",
       "  '45',\n",
       "  '45',\n",
       "  '45',\n",
       "  '45',\n",
       "  '45',\n",
       "  '45',\n",
       "  '45',\n",
       "  '45',\n",
       "  '45',\n",
       "  '45',\n",
       "  '45',\n",
       "  '45',\n",
       "  '45',\n",
       "  '45',\n",
       "  '45',\n",
       "  '45',\n",
       "  '45',\n",
       "  '45',\n",
       "  '45',\n",
       "  '45',\n",
       "  '45',\n",
       "  '45',\n",
       "  '45',\n",
       "  '45',\n",
       "  '45',\n",
       "  '45',\n",
       "  ...]}"
      ]
     },
     "execution_count": 365,
     "metadata": {},
     "output_type": "execute_result"
    }
   ],
   "source": [
    "dataset_example_idx = checkpoint_idx\n",
    "if checkpoint_idx > 0:\n",
    "    arrow_dir = os.path.join(processed_dir)\n",
    "    arrows = [os.path.join(arrow_dir, f) for f in os.listdir(arrow_dir) if f.endswith(\".arrow\")]\n",
    "    processed_dataset = hf_datasets.concatenate_datasets([hf_datasets.Dataset.from_file(arrow) for arrow in arrows]).to_dict()\n",
    "    assert dataset_example_idx == int(processed_dataset['case_id'][-1]) + 1, \"Checkpoint index case does not match expected next case index in dataset!\"\n",
    "else:\n",
    "    processed_dataset = {'sentence': [], 'class': []}\n",
    "print(dataset_example_idx)\n",
    "processed_dataset"
   ]
  },
  {
   "cell_type": "code",
   "execution_count": 366,
   "id": "0baeeb5a-8f49-47a5-ab5f-16975270ede3",
   "metadata": {},
   "outputs": [
    {
     "data": {
      "text/plain": [
       "5078"
      ]
     },
     "execution_count": 366,
     "metadata": {},
     "output_type": "execute_result"
    }
   ],
   "source": [
    "len(test_dataset['class'])"
   ]
  },
  {
   "cell_type": "code",
   "execution_count": 306,
   "id": "65d65256-dd70-4e04-a2cb-df241735b73f",
   "metadata": {},
   "outputs": [
    {
     "data": {
      "text/plain": [
       "569"
      ]
     },
     "execution_count": 306,
     "metadata": {},
     "output_type": "execute_result"
    }
   ],
   "source": [
    "# segmented_dataset = {'case_id': []}\n",
    "# for _ in processed_dataset['class']:\n",
    "#     segmented_dataset['case_id'].append(-1)\n",
    "# len(segmented_dataset['case_id'])"
   ]
  },
  {
   "cell_type": "code",
   "execution_count": 326,
   "id": "900f6bac-9897-4f2f-8fc6-21a7d41adf96",
   "metadata": {},
   "outputs": [
    {
     "data": {
      "text/plain": [
       "569"
      ]
     },
     "execution_count": 326,
     "metadata": {},
     "output_type": "execute_result"
    }
   ],
   "source": [
    "# processed_dataset['case_id'] = segmented_dataset['case_id']\n",
    "# len(processed_dataset['case_id'])"
   ]
  },
  {
   "cell_type": "code",
   "execution_count": 324,
   "id": "e31c4f56-875d-42ed-8a82-8d7ebad63d93",
   "metadata": {},
   "outputs": [],
   "source": [
    "# processed_dataset['case_id'] = []\n",
    "# processed_dataset['case_id'].extend([-1 for _ in processed_dataset['class']])"
   ]
  },
  {
   "cell_type": "code",
   "execution_count": null,
   "id": "c8ee9ced-5d61-4be2-b02c-14008d5a692a",
   "metadata": {},
   "outputs": [],
   "source": []
  },
  {
   "cell_type": "code",
   "execution_count": 317,
   "id": "0d2c8a82-2b93-48fc-a608-7e6e80caf1d4",
   "metadata": {},
   "outputs": [],
   "source": [
    "# # len(datasets['aug_med_notes']['full_note'][0])\n",
    "# for _ in processed_example['class']:\n",
    "#     print('hi')"
   ]
  },
  {
   "cell_type": "code",
   "execution_count": null,
   "id": "9ac3cbd4-ec2e-4710-ac92-acaef918748b",
   "metadata": {
    "scrolled": true
   },
   "outputs": [
    {
     "name": "stderr",
     "output_type": "stream",
     "text": [
      "Preprocessing dataset:   0%|                                                                                                                                                        | 0/30000 [00:00<?, ?it/s]2025-05-31 03:23:57,623 || INFO || MedRL-CoT Setup - Preprocessing example 0\n",
      "2025-05-31 03:23:57,624 || INFO || MedRL-CoT Setup - Example 0 already complete, skipping\n",
      "2025-05-31 03:23:57,624 || INFO || MedRL-CoT Setup - Preprocessing example 1\n",
      "2025-05-31 03:23:57,625 || INFO || MedRL-CoT Setup - Example 1 already complete, skipping\n",
      "2025-05-31 03:23:57,626 || INFO || MedRL-CoT Setup - Preprocessing example 2\n",
      "2025-05-31 03:23:57,627 || INFO || MedRL-CoT Setup - Example 2 already complete, skipping\n",
      "2025-05-31 03:23:57,628 || INFO || MedRL-CoT Setup - Preprocessing example 3\n",
      "2025-05-31 03:23:57,629 || INFO || MedRL-CoT Setup - Example 3 already complete, skipping\n",
      "2025-05-31 03:23:57,630 || INFO || MedRL-CoT Setup - Preprocessing example 4\n",
      "2025-05-31 03:23:57,631 || INFO || MedRL-CoT Setup - Example 4 already complete, skipping\n",
      "2025-05-31 03:23:57,631 || INFO || MedRL-CoT Setup - Preprocessing example 5\n",
      "2025-05-31 03:23:57,632 || INFO || MedRL-CoT Setup - Example 5 already complete, skipping\n",
      "2025-05-31 03:23:57,633 || INFO || MedRL-CoT Setup - Preprocessing example 6\n",
      "2025-05-31 03:23:57,634 || INFO || MedRL-CoT Setup - Example 6 already complete, skipping\n",
      "2025-05-31 03:23:57,635 || INFO || MedRL-CoT Setup - Preprocessing example 7\n",
      "2025-05-31 03:23:57,635 || INFO || MedRL-CoT Setup - Example 7 already complete, skipping\n",
      "2025-05-31 03:23:57,636 || INFO || MedRL-CoT Setup - Preprocessing example 8\n",
      "2025-05-31 03:23:57,636 || INFO || MedRL-CoT Setup - Example 8 already complete, skipping\n",
      "2025-05-31 03:23:57,638 || INFO || MedRL-CoT Setup - Preprocessing example 9\n",
      "2025-05-31 03:23:57,638 || INFO || MedRL-CoT Setup - Example 9 already complete, skipping\n",
      "2025-05-31 03:23:57,639 || INFO || MedRL-CoT Setup - Preprocessing example 10\n",
      "2025-05-31 03:23:57,639 || INFO || MedRL-CoT Setup - Example 10 already complete, skipping\n",
      "2025-05-31 03:23:57,640 || INFO || MedRL-CoT Setup - Preprocessing example 11\n",
      "2025-05-31 03:23:57,640 || INFO || MedRL-CoT Setup - Example 11 already complete, skipping\n",
      "2025-05-31 03:23:57,641 || INFO || MedRL-CoT Setup - Preprocessing example 12\n",
      "2025-05-31 03:23:57,641 || INFO || MedRL-CoT Setup - Example 12 already complete, skipping\n",
      "2025-05-31 03:23:57,642 || INFO || MedRL-CoT Setup - Preprocessing example 13\n",
      "2025-05-31 03:23:57,642 || INFO || MedRL-CoT Setup - Example 13 already complete, skipping\n",
      "2025-05-31 03:23:57,644 || INFO || MedRL-CoT Setup - Preprocessing example 14\n",
      "2025-05-31 03:23:57,645 || INFO || MedRL-CoT Setup - Example 14 already complete, skipping\n",
      "2025-05-31 03:23:57,645 || INFO || MedRL-CoT Setup - Preprocessing example 15\n",
      "2025-05-31 03:23:57,646 || INFO || MedRL-CoT Setup - Example 15 already complete, skipping\n",
      "2025-05-31 03:23:57,647 || INFO || MedRL-CoT Setup - Preprocessing example 16\n",
      "2025-05-31 03:23:57,647 || INFO || MedRL-CoT Setup - Example 16 already complete, skipping\n",
      "2025-05-31 03:23:57,648 || INFO || MedRL-CoT Setup - Preprocessing example 17\n",
      "2025-05-31 03:23:57,649 || INFO || MedRL-CoT Setup - Example 17 already complete, skipping\n",
      "2025-05-31 03:23:57,650 || INFO || MedRL-CoT Setup - Preprocessing example 18\n",
      "2025-05-31 03:23:57,650 || INFO || MedRL-CoT Setup - Example 18 already complete, skipping\n",
      "2025-05-31 03:23:57,651 || INFO || MedRL-CoT Setup - Preprocessing example 19\n",
      "2025-05-31 03:23:57,652 || INFO || MedRL-CoT Setup - Example 19 already complete, skipping\n",
      "2025-05-31 03:23:57,652 || INFO || MedRL-CoT Setup - Preprocessing example 20\n",
      "2025-05-31 03:23:57,653 || INFO || MedRL-CoT Setup - Example 20 already complete, skipping\n",
      "2025-05-31 03:23:57,653 || INFO || MedRL-CoT Setup - Preprocessing example 21\n",
      "2025-05-31 03:23:57,654 || INFO || MedRL-CoT Setup - Example 21 already complete, skipping\n",
      "2025-05-31 03:23:57,655 || INFO || MedRL-CoT Setup - Preprocessing example 22\n",
      "2025-05-31 03:23:57,656 || INFO || MedRL-CoT Setup - Example 22 already complete, skipping\n",
      "2025-05-31 03:23:57,656 || INFO || MedRL-CoT Setup - Preprocessing example 23\n",
      "2025-05-31 03:23:57,657 || INFO || MedRL-CoT Setup - Example 23 already complete, skipping\n",
      "2025-05-31 03:23:57,658 || INFO || MedRL-CoT Setup - Preprocessing example 24\n",
      "2025-05-31 03:23:57,658 || INFO || MedRL-CoT Setup - Example 24 already complete, skipping\n",
      "2025-05-31 03:23:57,659 || INFO || MedRL-CoT Setup - Preprocessing example 25\n",
      "2025-05-31 03:23:57,660 || INFO || MedRL-CoT Setup - Example 25 already complete, skipping\n",
      "2025-05-31 03:23:57,660 || INFO || MedRL-CoT Setup - Preprocessing example 26\n",
      "2025-05-31 03:23:57,661 || INFO || MedRL-CoT Setup - Example 26 already complete, skipping\n",
      "2025-05-31 03:23:57,662 || INFO || MedRL-CoT Setup - Preprocessing example 27\n",
      "2025-05-31 03:23:57,663 || INFO || MedRL-CoT Setup - Example 27 already complete, skipping\n",
      "2025-05-31 03:23:57,663 || INFO || MedRL-CoT Setup - Preprocessing example 28\n",
      "2025-05-31 03:23:57,664 || INFO || MedRL-CoT Setup - Example 28 already complete, skipping\n",
      "2025-05-31 03:23:57,664 || INFO || MedRL-CoT Setup - Preprocessing example 29\n",
      "2025-05-31 03:23:57,665 || INFO || MedRL-CoT Setup - Example 29 already complete, skipping\n",
      "2025-05-31 03:23:57,666 || INFO || MedRL-CoT Setup - Preprocessing example 30\n",
      "2025-05-31 03:23:57,667 || INFO || MedRL-CoT Setup - Example 30 already complete, skipping\n",
      "2025-05-31 03:23:57,667 || INFO || MedRL-CoT Setup - Preprocessing example 31\n",
      "2025-05-31 03:23:57,668 || INFO || MedRL-CoT Setup - Example 31 already complete, skipping\n",
      "2025-05-31 03:23:57,668 || INFO || MedRL-CoT Setup - Preprocessing example 32\n",
      "2025-05-31 03:23:57,669 || INFO || MedRL-CoT Setup - Example 32 already complete, skipping\n",
      "2025-05-31 03:23:57,670 || INFO || MedRL-CoT Setup - Preprocessing example 33\n",
      "2025-05-31 03:23:57,670 || INFO || MedRL-CoT Setup - Example 33 already complete, skipping\n",
      "2025-05-31 03:23:57,671 || INFO || MedRL-CoT Setup - Preprocessing example 34\n",
      "2025-05-31 03:23:57,671 || INFO || MedRL-CoT Setup - Example 34 already complete, skipping\n",
      "2025-05-31 03:23:57,672 || INFO || MedRL-CoT Setup - Preprocessing example 35\n",
      "2025-05-31 03:23:57,673 || INFO || MedRL-CoT Setup - Example 35 already complete, skipping\n",
      "2025-05-31 03:23:57,673 || INFO || MedRL-CoT Setup - Preprocessing example 36\n",
      "2025-05-31 03:23:57,674 || INFO || MedRL-CoT Setup - Example 36 already complete, skipping\n",
      "2025-05-31 03:23:57,675 || INFO || MedRL-CoT Setup - Preprocessing example 37\n",
      "2025-05-31 03:23:57,675 || INFO || MedRL-CoT Setup - Example 37 already complete, skipping\n",
      "2025-05-31 03:23:57,676 || INFO || MedRL-CoT Setup - Preprocessing example 38\n",
      "2025-05-31 03:23:57,676 || INFO || MedRL-CoT Setup - Example 38 already complete, skipping\n",
      "2025-05-31 03:23:57,677 || INFO || MedRL-CoT Setup - Preprocessing example 39\n",
      "2025-05-31 03:23:57,678 || INFO || MedRL-CoT Setup - Example 39 already complete, skipping\n",
      "2025-05-31 03:23:57,678 || INFO || MedRL-CoT Setup - Preprocessing example 40\n",
      "2025-05-31 03:23:57,679 || INFO || MedRL-CoT Setup - Example 40 already complete, skipping\n",
      "2025-05-31 03:23:57,680 || INFO || MedRL-CoT Setup - Preprocessing example 41\n",
      "2025-05-31 03:23:57,680 || INFO || MedRL-CoT Setup - Example 41 already complete, skipping\n",
      "2025-05-31 03:23:57,681 || INFO || MedRL-CoT Setup - Preprocessing example 42\n",
      "2025-05-31 03:23:57,681 || INFO || MedRL-CoT Setup - Example 42 already complete, skipping\n",
      "2025-05-31 03:23:57,682 || INFO || MedRL-CoT Setup - Preprocessing example 43\n",
      "2025-05-31 03:23:57,683 || INFO || MedRL-CoT Setup - Example 43 already complete, skipping\n",
      "2025-05-31 03:23:57,683 || INFO || MedRL-CoT Setup - Preprocessing example 44\n",
      "2025-05-31 03:23:57,684 || INFO || MedRL-CoT Setup - Example 44 already complete, skipping\n",
      "2025-05-31 03:23:57,684 || INFO || MedRL-CoT Setup - Preprocessing example 45\n",
      "2025-05-31 03:23:57,685 || INFO || MedRL-CoT Setup - Example 45 already complete, skipping\n",
      "2025-05-31 03:23:57,685 || INFO || MedRL-CoT Setup - Preprocessing example 46\n",
      "2025-05-31 03:23:57,687 || INFO || MedRL-CoT Setup - Example 46 already complete, skipping\n",
      "2025-05-31 03:23:57,687 || INFO || MedRL-CoT Setup - Preprocessing example 47\n",
      "2025-05-31 03:23:57,688 || INFO || MedRL-CoT Setup - Example 47 already complete, skipping\n",
      "2025-05-31 03:23:57,688 || INFO || MedRL-CoT Setup - Preprocessing example 48\n",
      "2025-05-31 03:23:57,689 || INFO || MedRL-CoT Setup - Example 48 already complete, skipping\n",
      "2025-05-31 03:23:57,689 || INFO || MedRL-CoT Setup - Preprocessing example 49\n",
      "2025-05-31 03:23:57,690 || INFO || MedRL-CoT Setup - Example 49 already complete, skipping\n",
      "2025-05-31 03:23:57,691 || INFO || MedRL-CoT Setup - Preprocessing example 50\n",
      "2025-05-31 03:23:57,692 || INFO || MedRL-CoT Setup - Example 50 already complete, skipping\n",
      "2025-05-31 03:23:57,692 || INFO || MedRL-CoT Setup - Preprocessing example 51\n",
      "2025-05-31 03:23:57,693 || INFO || MedRL-CoT Setup - Example 51 already complete, skipping\n",
      "2025-05-31 03:23:57,694 || INFO || MedRL-CoT Setup - Preprocessing example 52\n",
      "2025-05-31 03:23:57,694 || INFO || MedRL-CoT Setup - Example 52 already complete, skipping\n",
      "2025-05-31 03:23:57,695 || INFO || MedRL-CoT Setup - Preprocessing example 53\n",
      "2025-05-31 03:23:57,696 || INFO || MedRL-CoT Setup - Example 53 already complete, skipping\n",
      "2025-05-31 03:23:57,696 || INFO || MedRL-CoT Setup - Preprocessing example 54\n",
      "2025-05-31 03:23:57,697 || INFO || MedRL-CoT Setup - Example 54 already complete, skipping\n",
      "2025-05-31 03:23:57,697 || INFO || MedRL-CoT Setup - Preprocessing example 55\n",
      "2025-05-31 03:23:57,698 || INFO || MedRL-CoT Setup - Example 55 already complete, skipping\n",
      "2025-05-31 03:23:57,699 || INFO || MedRL-CoT Setup - Preprocessing example 56\n",
      "2025-05-31 03:23:57,700 || INFO || MedRL-CoT Setup - Example 56 already complete, skipping\n",
      "2025-05-31 03:23:57,700 || INFO || MedRL-CoT Setup - Preprocessing example 57\n",
      "2025-05-31 03:23:57,701 || INFO || MedRL-CoT Setup - Example 57 already complete, skipping\n",
      "2025-05-31 03:23:57,701 || INFO || MedRL-CoT Setup - Preprocessing example 58\n",
      "2025-05-31 03:23:57,702 || INFO || MedRL-CoT Setup - Example 58 already complete, skipping\n",
      "2025-05-31 03:23:57,702 || INFO || MedRL-CoT Setup - Preprocessing example 59\n",
      "2025-05-31 03:23:57,703 || INFO || MedRL-CoT Setup - Example 59 already complete, skipping\n",
      "2025-05-31 03:23:57,703 || INFO || MedRL-CoT Setup - Preprocessing example 60\n",
      "2025-05-31 03:23:57,704 || INFO || MedRL-CoT Setup - Example 60 already complete, skipping\n",
      "2025-05-31 03:23:57,704 || INFO || MedRL-CoT Setup - Preprocessing example 61\n",
      "2025-05-31 03:23:57,705 || INFO || MedRL-CoT Setup - Example 61 already complete, skipping\n",
      "2025-05-31 03:23:57,706 || INFO || MedRL-CoT Setup - Preprocessing example 62\n",
      "2025-05-31 03:23:57,706 || INFO || MedRL-CoT Setup - Example 62 already complete, skipping\n",
      "2025-05-31 03:23:57,707 || INFO || MedRL-CoT Setup - Preprocessing example 63\n",
      "2025-05-31 03:23:57,707 || INFO || MedRL-CoT Setup - Example 63 already complete, skipping\n",
      "2025-05-31 03:23:57,709 || INFO || MedRL-CoT Setup - Preprocessing example 64\n",
      "2025-05-31 03:23:57,709 || INFO || MedRL-CoT Setup - Example 64 already complete, skipping\n",
      "2025-05-31 03:23:57,710 || INFO || MedRL-CoT Setup - Preprocessing example 65\n",
      "2025-05-31 03:23:57,711 || INFO || MedRL-CoT Setup - Example 65 already complete, skipping\n",
      "2025-05-31 03:23:57,711 || INFO || MedRL-CoT Setup - Preprocessing example 66\n",
      "2025-05-31 03:23:57,712 || INFO || MedRL-CoT Setup - Example 66 already complete, skipping\n",
      "2025-05-31 03:23:57,713 || INFO || MedRL-CoT Setup - Preprocessing example 67\n",
      "2025-05-31 03:23:57,713 || INFO || MedRL-CoT Setup - Example 67 already complete, skipping\n",
      "2025-05-31 03:23:57,714 || INFO || MedRL-CoT Setup - Preprocessing example 68\n",
      "2025-05-31 03:23:57,714 || INFO || MedRL-CoT Setup - Example 68 already complete, skipping\n",
      "2025-05-31 03:23:57,715 || INFO || MedRL-CoT Setup - Preprocessing example 69\n",
      "2025-05-31 03:23:57,716 || INFO || MedRL-CoT Setup - Example 69 already complete, skipping\n",
      "2025-05-31 03:23:57,716 || INFO || MedRL-CoT Setup - Preprocessing example 70\n",
      "2025-05-31 03:23:57,717 || INFO || MedRL-CoT Setup - Example 70 already complete, skipping\n",
      "2025-05-31 03:23:57,718 || INFO || MedRL-CoT Setup - Preprocessing example 71\n",
      "2025-05-31 03:23:57,718 || INFO || MedRL-CoT Setup - Example 71 already complete, skipping\n",
      "2025-05-31 03:23:57,719 || INFO || MedRL-CoT Setup - Preprocessing example 72\n",
      "2025-05-31 03:23:57,720 || INFO || MedRL-CoT Setup - Example 72 already complete, skipping\n",
      "2025-05-31 03:23:57,720 || INFO || MedRL-CoT Setup - Preprocessing example 73\n",
      "2025-05-31 03:23:57,721 || INFO || MedRL-CoT Setup - Example 73 already complete, skipping\n",
      "Preprocessing dataset:   0%|▎                                                                                                                                             | 74/30000 [00:00<00:40, 739.53it/s]2025-05-31 03:23:57,724 || INFO || MedRL-CoT Setup - Preprocessing example 74\n",
      "2025-05-31 03:23:57,725 || INFO || MedRL-CoT Setup - Example 74 already complete, skipping\n",
      "2025-05-31 03:23:57,725 || INFO || MedRL-CoT Setup - Preprocessing example 75\n",
      "2025-05-31 03:23:57,726 || INFO || MedRL-CoT Setup - Example 75 already complete, skipping\n",
      "2025-05-31 03:23:57,727 || INFO || MedRL-CoT Setup - Preprocessing example 76\n",
      "2025-05-31 03:23:57,727 || INFO || MedRL-CoT Setup - Example 76 already complete, skipping\n",
      "2025-05-31 03:23:57,728 || INFO || MedRL-CoT Setup - Preprocessing example 77\n",
      "2025-05-31 03:23:57,729 || INFO || MedRL-CoT Setup - Example 77 already complete, skipping\n",
      "2025-05-31 03:23:57,729 || INFO || MedRL-CoT Setup - Preprocessing example 78\n",
      "2025-05-31 03:23:57,730 || INFO || MedRL-CoT Setup - Example 78 already complete, skipping\n",
      "2025-05-31 03:23:57,731 || INFO || MedRL-CoT Setup - Preprocessing example 79\n",
      "2025-05-31 03:23:57,731 || INFO || MedRL-CoT Setup - Example 79 already complete, skipping\n",
      "2025-05-31 03:23:57,732 || INFO || MedRL-CoT Setup - Preprocessing example 80\n",
      "2025-05-31 03:23:57,732 || INFO || MedRL-CoT Setup - Example 80 already complete, skipping\n",
      "2025-05-31 03:23:57,733 || INFO || MedRL-CoT Setup - Preprocessing example 81\n",
      "2025-05-31 03:23:57,734 || INFO || MedRL-CoT Setup - Example 81 already complete, skipping\n",
      "2025-05-31 03:23:57,734 || INFO || MedRL-CoT Setup - Preprocessing example 82\n",
      "2025-05-31 03:23:57,735 || INFO || MedRL-CoT Setup - Example 82 already complete, skipping\n",
      "2025-05-31 03:23:57,737 || INFO || MedRL-CoT Setup - Preprocessing example 83\n",
      "2025-05-31 03:23:57,737 || INFO || MedRL-CoT Setup - Example 83 already complete, skipping\n",
      "2025-05-31 03:23:57,738 || INFO || MedRL-CoT Setup - Preprocessing example 84\n",
      "2025-05-31 03:23:57,739 || INFO || MedRL-CoT Setup - Example 84 already complete, skipping\n",
      "2025-05-31 03:23:57,739 || INFO || MedRL-CoT Setup - Preprocessing example 85\n",
      "2025-05-31 03:23:57,740 || INFO || MedRL-CoT Setup - Example 85 already complete, skipping\n",
      "2025-05-31 03:23:57,740 || INFO || MedRL-CoT Setup - Preprocessing example 86\n",
      "2025-05-31 03:23:57,741 || INFO || MedRL-CoT Setup - Example 86 already complete, skipping\n",
      "2025-05-31 03:23:57,742 || INFO || MedRL-CoT Setup - Preprocessing example 87\n",
      "2025-05-31 03:23:57,742 || INFO || MedRL-CoT Setup - Example 87 already complete, skipping\n",
      "2025-05-31 03:23:57,743 || INFO || MedRL-CoT Setup - Preprocessing example 88\n",
      "2025-05-31 03:23:57,743 || INFO || MedRL-CoT Setup - Example 88 already complete, skipping\n",
      "2025-05-31 03:23:57,744 || INFO || MedRL-CoT Setup - Preprocessing example 89\n",
      "2025-05-31 03:23:57,745 || INFO || MedRL-CoT Setup - Example 89 already complete, skipping\n",
      "2025-05-31 03:23:57,746 || INFO || MedRL-CoT Setup - Preprocessing example 90\n",
      "2025-05-31 03:23:57,746 || INFO || MedRL-CoT Setup - Example 90 already complete, skipping\n",
      "2025-05-31 03:23:57,747 || INFO || MedRL-CoT Setup - Preprocessing example 91\n",
      "2025-05-31 03:23:57,747 || INFO || MedRL-CoT Setup - Example 91 already complete, skipping\n",
      "2025-05-31 03:23:57,748 || INFO || MedRL-CoT Setup - Preprocessing example 92\n",
      "2025-05-31 03:23:57,748 || INFO || MedRL-CoT Setup - Example 92 already complete, skipping\n",
      "2025-05-31 03:23:57,749 || INFO || MedRL-CoT Setup - Preprocessing example 93\n",
      "2025-05-31 03:23:57,749 || INFO || MedRL-CoT Setup - Example 93 already complete, skipping\n",
      "2025-05-31 03:23:57,750 || INFO || MedRL-CoT Setup - Preprocessing example 94\n",
      "2025-05-31 03:23:57,751 || INFO || MedRL-CoT Setup - Example 94 already complete, skipping\n",
      "2025-05-31 03:23:57,751 || INFO || MedRL-CoT Setup - Preprocessing example 95\n",
      "2025-05-31 03:23:57,752 || INFO || MedRL-CoT Setup - Example 95 already complete, skipping\n",
      "2025-05-31 03:23:57,752 || INFO || MedRL-CoT Setup - Preprocessing example 96\n",
      "2025-05-31 03:23:57,753 || INFO || MedRL-CoT Setup - Example 96 already complete, skipping\n",
      "2025-05-31 03:23:57,753 || INFO || MedRL-CoT Setup - Preprocessing example 97\n",
      "2025-05-31 03:23:57,754 || INFO || MedRL-CoT Setup - Example 97 already complete, skipping\n",
      "2025-05-31 03:23:57,754 || INFO || MedRL-CoT Setup - Preprocessing example 98\n",
      "2025-05-31 03:23:57,755 || INFO || MedRL-CoT Setup - Example 98 already complete, skipping\n",
      "2025-05-31 03:23:57,755 || INFO || MedRL-CoT Setup - Preprocessing example 99\n",
      "2025-05-31 03:23:57,756 || INFO || MedRL-CoT Setup - Example 99 already complete, skipping\n",
      "2025-05-31 03:23:57,757 || INFO || MedRL-CoT Setup - Preprocessing example 100\n",
      "2025-05-31 03:23:57,757 || INFO || MedRL-CoT Setup - Example 100 already complete, skipping\n",
      "2025-05-31 03:23:57,758 || INFO || MedRL-CoT Setup - Preprocessing example 101\n",
      "2025-05-31 03:23:57,758 || INFO || MedRL-CoT Setup - Example 101 already complete, skipping\n",
      "2025-05-31 03:23:57,759 || INFO || MedRL-CoT Setup - Preprocessing example 102\n",
      "2025-05-31 03:23:57,761 || INFO || MedRL-CoT Setup - Example 102 already complete, skipping\n",
      "2025-05-31 03:23:57,762 || INFO || MedRL-CoT Setup - Preprocessing example 103\n",
      "2025-05-31 03:23:57,762 || INFO || MedRL-CoT Setup - Example 103 already complete, skipping\n",
      "2025-05-31 03:23:57,763 || INFO || MedRL-CoT Setup - Preprocessing example 104\n",
      "2025-05-31 03:23:57,763 || INFO || MedRL-CoT Setup - Example 104 already complete, skipping\n",
      "2025-05-31 03:23:57,764 || INFO || MedRL-CoT Setup - Preprocessing example 105\n",
      "2025-05-31 03:23:57,764 || INFO || MedRL-CoT Setup - Example 105 already complete, skipping\n",
      "2025-05-31 03:23:57,765 || INFO || MedRL-CoT Setup - Preprocessing example 106\n",
      "2025-05-31 03:23:57,766 || INFO || MedRL-CoT Setup - Example 106 already complete, skipping\n",
      "2025-05-31 03:23:57,767 || INFO || MedRL-CoT Setup - Preprocessing example 107\n",
      "2025-05-31 03:23:57,767 || INFO || MedRL-CoT Setup - Example 107 already complete, skipping\n",
      "2025-05-31 03:23:57,768 || INFO || MedRL-CoT Setup - Preprocessing example 108\n",
      "2025-05-31 03:23:57,768 || INFO || MedRL-CoT Setup - Example 108 already complete, skipping\n",
      "2025-05-31 03:23:57,769 || INFO || MedRL-CoT Setup - Preprocessing example 109\n",
      "2025-05-31 03:23:57,770 || INFO || MedRL-CoT Setup - Example 109 already complete, skipping\n",
      "2025-05-31 03:23:57,770 || INFO || MedRL-CoT Setup - Preprocessing example 110\n",
      "2025-05-31 03:23:57,771 || INFO || MedRL-CoT Setup - Example 110 already complete, skipping\n",
      "2025-05-31 03:23:57,771 || INFO || MedRL-CoT Setup - Preprocessing example 111\n",
      "2025-05-31 03:23:57,772 || INFO || MedRL-CoT Setup - Example 111 already complete, skipping\n",
      "2025-05-31 03:23:57,773 || INFO || MedRL-CoT Setup - Preprocessing example 112\n",
      "2025-05-31 03:23:57,773 || INFO || MedRL-CoT Setup - Example 112 already complete, skipping\n",
      "2025-05-31 03:23:57,774 || INFO || MedRL-CoT Setup - Preprocessing example 113\n",
      "2025-05-31 03:23:57,775 || INFO || MedRL-CoT Setup - Example 113 already complete, skipping\n",
      "2025-05-31 03:23:57,776 || INFO || MedRL-CoT Setup - Preprocessing example 114\n",
      "2025-05-31 03:23:57,776 || INFO || MedRL-CoT Setup - Example 114 already complete, skipping\n",
      "2025-05-31 03:23:57,777 || INFO || MedRL-CoT Setup - Preprocessing example 115\n",
      "2025-05-31 03:23:57,777 || INFO || MedRL-CoT Setup - Example 115 already complete, skipping\n",
      "2025-05-31 03:23:57,778 || INFO || MedRL-CoT Setup - Preprocessing example 116\n",
      "2025-05-31 03:23:57,778 || INFO || MedRL-CoT Setup - Example 116 already complete, skipping\n",
      "2025-05-31 03:23:57,779 || INFO || MedRL-CoT Setup - Preprocessing example 117\n",
      "2025-05-31 03:23:57,779 || INFO || MedRL-CoT Setup - Example 117 already complete, skipping\n",
      "2025-05-31 03:23:57,780 || INFO || MedRL-CoT Setup - Preprocessing example 118\n",
      "2025-05-31 03:23:57,780 || INFO || MedRL-CoT Setup - Example 118 already complete, skipping\n",
      "2025-05-31 03:23:57,781 || INFO || MedRL-CoT Setup - Preprocessing example 119\n",
      "2025-05-31 03:23:57,781 || INFO || MedRL-CoT Setup - Example 119 already complete, skipping\n",
      "2025-05-31 03:23:57,782 || INFO || MedRL-CoT Setup - Preprocessing example 120\n",
      "2025-05-31 03:23:57,783 || INFO || MedRL-CoT Setup - Example 120 already complete, skipping\n",
      "2025-05-31 03:23:57,783 || INFO || MedRL-CoT Setup - Preprocessing example 121\n",
      "2025-05-31 03:23:57,784 || INFO || MedRL-CoT Setup - Example 121 already complete, skipping\n",
      "2025-05-31 03:23:57,786 || INFO || MedRL-CoT Setup - Preprocessing example 122\n",
      "2025-05-31 03:23:57,786 || INFO || MedRL-CoT Setup - Example 122 already complete, skipping\n",
      "2025-05-31 03:23:57,787 || INFO || MedRL-CoT Setup - Preprocessing example 123\n",
      "2025-05-31 03:23:57,788 || INFO || MedRL-CoT Setup - Example 123 already complete, skipping\n",
      "2025-05-31 03:23:57,788 || INFO || MedRL-CoT Setup - Preprocessing example 124\n",
      "2025-05-31 03:23:57,789 || INFO || MedRL-CoT Setup - Example 124 already complete, skipping\n",
      "2025-05-31 03:23:57,789 || INFO || MedRL-CoT Setup - Preprocessing example 125\n",
      "2025-05-31 03:23:57,790 || INFO || MedRL-CoT Setup - Example 125 already complete, skipping\n",
      "2025-05-31 03:23:57,790 || INFO || MedRL-CoT Setup - Preprocessing example 126\n",
      "2025-05-31 03:23:57,791 || INFO || MedRL-CoT Setup - Example 126 already complete, skipping\n",
      "2025-05-31 03:23:57,792 || INFO || MedRL-CoT Setup - Preprocessing example 127\n",
      "2025-05-31 03:23:57,793 || INFO || MedRL-CoT Setup - Example 127 already complete, skipping\n",
      "2025-05-31 03:23:57,793 || INFO || MedRL-CoT Setup - Preprocessing example 128\n",
      "2025-05-31 03:23:57,794 || INFO || MedRL-CoT Setup - Example 128 already complete, skipping\n",
      "2025-05-31 03:23:57,794 || INFO || MedRL-CoT Setup - Preprocessing example 129\n",
      "2025-05-31 03:23:57,796 || INFO || MedRL-CoT Setup - Example 129 already complete, skipping\n",
      "2025-05-31 03:23:57,796 || INFO || MedRL-CoT Setup - Preprocessing example 130\n",
      "2025-05-31 03:23:57,797 || INFO || MedRL-CoT Setup - Example 130 already complete, skipping\n",
      "2025-05-31 03:23:57,798 || INFO || MedRL-CoT Setup - Preprocessing example 131\n",
      "2025-05-31 03:23:57,798 || INFO || MedRL-CoT Setup - Example 131 already complete, skipping\n",
      "2025-05-31 03:23:57,799 || INFO || MedRL-CoT Setup - Preprocessing example 132\n",
      "2025-05-31 03:23:57,799 || INFO || MedRL-CoT Setup - Example 132 already complete, skipping\n",
      "2025-05-31 03:23:57,800 || INFO || MedRL-CoT Setup - Preprocessing example 133\n",
      "2025-05-31 03:23:57,800 || INFO || MedRL-CoT Setup - Example 133 already complete, skipping\n",
      "2025-05-31 03:23:57,801 || INFO || MedRL-CoT Setup - Preprocessing example 134\n",
      "2025-05-31 03:23:57,801 || INFO || MedRL-CoT Setup - Example 134 already complete, skipping\n",
      "2025-05-31 03:23:57,802 || INFO || MedRL-CoT Setup - Preprocessing example 135\n",
      "2025-05-31 03:23:57,802 || INFO || MedRL-CoT Setup - Example 135 already complete, skipping\n",
      "2025-05-31 03:23:57,803 || INFO || MedRL-CoT Setup - Preprocessing example 136\n",
      "2025-05-31 03:23:57,804 || INFO || MedRL-CoT Setup - Example 136 already complete, skipping\n",
      "2025-05-31 03:23:57,804 || INFO || MedRL-CoT Setup - Preprocessing example 137\n",
      "2025-05-31 03:23:57,806 || INFO || MedRL-CoT Setup - Example 137 already complete, skipping\n",
      "2025-05-31 03:23:57,807 || INFO || MedRL-CoT Setup - Preprocessing example 138\n",
      "2025-05-31 03:23:57,807 || INFO || MedRL-CoT Setup - Example 138 already complete, skipping\n",
      "2025-05-31 03:23:57,808 || INFO || MedRL-CoT Setup - Preprocessing example 139\n",
      "2025-05-31 03:23:57,808 || INFO || MedRL-CoT Setup - Example 139 already complete, skipping\n",
      "2025-05-31 03:23:57,809 || INFO || MedRL-CoT Setup - Preprocessing example 140\n",
      "2025-05-31 03:23:57,810 || INFO || MedRL-CoT Setup - Example 140 already complete, skipping\n",
      "2025-05-31 03:23:57,810 || INFO || MedRL-CoT Setup - Preprocessing example 141\n",
      "2025-05-31 03:23:57,811 || INFO || MedRL-CoT Setup - Example 141 already complete, skipping\n",
      "2025-05-31 03:23:57,811 || INFO || MedRL-CoT Setup - Preprocessing example 142\n",
      "2025-05-31 03:23:57,812 || INFO || MedRL-CoT Setup - Example 142 already complete, skipping\n",
      "2025-05-31 03:23:57,812 || INFO || MedRL-CoT Setup - Preprocessing example 143\n",
      "2025-05-31 03:23:57,813 || INFO || MedRL-CoT Setup - Example 143 already complete, skipping\n",
      "2025-05-31 03:23:57,814 || INFO || MedRL-CoT Setup - Preprocessing example 144\n",
      "2025-05-31 03:23:57,815 || INFO || MedRL-CoT Setup - Example 144 already complete, skipping\n",
      "2025-05-31 03:23:57,815 || INFO || MedRL-CoT Setup - Preprocessing example 145\n",
      "2025-05-31 03:23:57,816 || INFO || MedRL-CoT Setup - Example 145 already complete, skipping\n",
      "2025-05-31 03:23:57,816 || INFO || MedRL-CoT Setup - Preprocessing example 146\n",
      "2025-05-31 03:23:57,817 || INFO || MedRL-CoT Setup - Example 146 already complete, skipping\n",
      "2025-05-31 03:23:57,817 || INFO || MedRL-CoT Setup - Preprocessing example 147\n",
      "2025-05-31 03:23:57,818 || INFO || MedRL-CoT Setup - Example 147 already complete, skipping\n",
      "2025-05-31 03:23:57,818 || INFO || MedRL-CoT Setup - Preprocessing example 148\n",
      "2025-05-31 03:23:57,819 || INFO || MedRL-CoT Setup - Example 148 already complete, skipping\n",
      "2025-05-31 03:23:57,819 || INFO || MedRL-CoT Setup - Preprocessing example 149\n",
      "2025-05-31 03:23:57,820 || INFO || MedRL-CoT Setup - Example 149 already complete, skipping\n",
      "2025-05-31 03:23:57,821 || INFO || MedRL-CoT Setup - Preprocessing example 150\n",
      "2025-05-31 03:23:57,821 || INFO || MedRL-CoT Setup - Example 150 already complete, skipping\n",
      "2025-05-31 03:23:57,822 || INFO || MedRL-CoT Setup - Preprocessing example 151\n",
      "2025-05-31 03:23:57,822 || INFO || MedRL-CoT Setup - Example 151 already complete, skipping\n",
      "2025-05-31 03:23:57,823 || INFO || MedRL-CoT Setup - Preprocessing example 152\n",
      "2025-05-31 03:23:57,823 || INFO || MedRL-CoT Setup - Example 152 already complete, skipping\n",
      "Preprocessing dataset:   1%|▋                                                                                                                                            | 153/30000 [00:00<00:39, 765.14it/s]2025-05-31 03:23:57,824 || INFO || MedRL-CoT Setup - Preprocessing example 153\n",
      "2025-05-31 03:23:57,825 || INFO || MedRL-CoT Setup - Example 153 already complete, skipping\n",
      "2025-05-31 03:23:57,826 || INFO || MedRL-CoT Setup - Preprocessing example 154\n",
      "2025-05-31 03:23:57,826 || INFO || MedRL-CoT Setup - Example 154 already complete, skipping\n",
      "2025-05-31 03:23:57,827 || INFO || MedRL-CoT Setup - Preprocessing example 155\n",
      "2025-05-31 03:23:57,827 || INFO || MedRL-CoT Setup - Example 155 already complete, skipping\n",
      "2025-05-31 03:23:57,828 || INFO || MedRL-CoT Setup - Preprocessing example 156\n",
      "2025-05-31 03:23:57,828 || INFO || MedRL-CoT Setup - Example 156 already complete, skipping\n",
      "2025-05-31 03:23:57,831 || INFO || MedRL-CoT Setup - Preprocessing example 157\n",
      "2025-05-31 03:23:57,831 || INFO || MedRL-CoT Setup - Example 157 already complete, skipping\n",
      "2025-05-31 03:23:57,832 || INFO || MedRL-CoT Setup - Preprocessing example 158\n",
      "2025-05-31 03:23:57,833 || INFO || MedRL-CoT Setup - Example 158 already complete, skipping\n",
      "2025-05-31 03:23:57,833 || INFO || MedRL-CoT Setup - Preprocessing example 159\n",
      "2025-05-31 03:23:57,834 || INFO || MedRL-CoT Setup - Example 159 already complete, skipping\n",
      "2025-05-31 03:23:57,834 || INFO || MedRL-CoT Setup - Preprocessing example 160\n",
      "2025-05-31 03:23:57,835 || INFO || MedRL-CoT Setup - Example 160 already complete, skipping\n",
      "2025-05-31 03:23:57,835 || INFO || MedRL-CoT Setup - Preprocessing example 161\n",
      "2025-05-31 03:23:57,836 || INFO || MedRL-CoT Setup - Example 161 already complete, skipping\n",
      "2025-05-31 03:23:57,836 || INFO || MedRL-CoT Setup - Preprocessing example 162\n",
      "2025-05-31 03:23:57,837 || INFO || MedRL-CoT Setup - Example 162 already complete, skipping\n",
      "2025-05-31 03:23:57,838 || INFO || MedRL-CoT Setup - Preprocessing example 163\n",
      "2025-05-31 03:23:57,839 || INFO || MedRL-CoT Setup - Example 163 already complete, skipping\n",
      "2025-05-31 03:23:57,839 || INFO || MedRL-CoT Setup - Preprocessing example 164\n",
      "2025-05-31 03:23:57,840 || INFO || MedRL-CoT Setup - Example 164 already complete, skipping\n",
      "2025-05-31 03:23:57,841 || INFO || MedRL-CoT Setup - Preprocessing example 165\n",
      "2025-05-31 03:23:57,841 || INFO || MedRL-CoT Setup - Example 165 already complete, skipping\n",
      "2025-05-31 03:23:57,842 || INFO || MedRL-CoT Setup - Preprocessing example 166\n",
      "2025-05-31 03:23:57,842 || INFO || MedRL-CoT Setup - Example 166 already complete, skipping\n",
      "2025-05-31 03:23:57,844 || INFO || MedRL-CoT Setup - Preprocessing example 167\n",
      "2025-05-31 03:23:57,844 || INFO || MedRL-CoT Setup - Example 167 already complete, skipping\n",
      "2025-05-31 03:23:57,845 || INFO || MedRL-CoT Setup - Preprocessing example 168\n",
      "2025-05-31 03:23:57,845 || INFO || MedRL-CoT Setup - Example 168 already complete, skipping\n",
      "2025-05-31 03:23:57,846 || INFO || MedRL-CoT Setup - Preprocessing example 169\n",
      "2025-05-31 03:23:57,846 || INFO || MedRL-CoT Setup - Example 169 already complete, skipping\n",
      "2025-05-31 03:23:57,847 || INFO || MedRL-CoT Setup - Preprocessing example 170\n",
      "2025-05-31 03:23:57,847 || INFO || MedRL-CoT Setup - Example 170 already complete, skipping\n",
      "2025-05-31 03:23:57,848 || INFO || MedRL-CoT Setup - Preprocessing example 171\n",
      "2025-05-31 03:23:57,848 || INFO || MedRL-CoT Setup - Example 171 already complete, skipping\n",
      "2025-05-31 03:23:57,850 || INFO || MedRL-CoT Setup - Preprocessing example 172\n",
      "2025-05-31 03:23:57,851 || INFO || MedRL-CoT Setup - Example 172 already complete, skipping\n",
      "2025-05-31 03:23:57,851 || INFO || MedRL-CoT Setup - Preprocessing example 173\n",
      "2025-05-31 03:23:57,852 || INFO || MedRL-CoT Setup - Example 173 already complete, skipping\n",
      "2025-05-31 03:23:57,852 || INFO || MedRL-CoT Setup - Preprocessing example 174\n",
      "2025-05-31 03:23:57,853 || INFO || MedRL-CoT Setup - Example 174 already complete, skipping\n",
      "2025-05-31 03:23:57,853 || INFO || MedRL-CoT Setup - Preprocessing example 175\n",
      "2025-05-31 03:23:57,854 || INFO || MedRL-CoT Setup - Example 175 already complete, skipping\n",
      "2025-05-31 03:23:57,855 || INFO || MedRL-CoT Setup - Preprocessing example 176\n",
      "2025-05-31 03:23:57,856 || INFO || MedRL-CoT Setup - Example 176 already complete, skipping\n",
      "2025-05-31 03:23:57,856 || INFO || MedRL-CoT Setup - Preprocessing example 177\n",
      "2025-05-31 03:23:57,857 || INFO || MedRL-CoT Setup - Example 177 already complete, skipping\n",
      "2025-05-31 03:23:57,857 || INFO || MedRL-CoT Setup - Preprocessing example 178\n",
      "2025-05-31 03:23:57,859 || INFO || MedRL-CoT Setup - Example 178 already complete, skipping\n",
      "2025-05-31 03:23:57,859 || INFO || MedRL-CoT Setup - Preprocessing example 179\n",
      "2025-05-31 03:23:57,860 || INFO || MedRL-CoT Setup - Example 179 already complete, skipping\n",
      "2025-05-31 03:23:57,861 || INFO || MedRL-CoT Setup - Preprocessing example 180\n",
      "2025-05-31 03:23:57,861 || INFO || MedRL-CoT Setup - Example 180 already complete, skipping\n",
      "2025-05-31 03:23:57,862 || INFO || MedRL-CoT Setup - Preprocessing example 181\n",
      "2025-05-31 03:23:57,863 || INFO || MedRL-CoT Setup - Example 181 already complete, skipping\n",
      "2025-05-31 03:23:57,863 || INFO || MedRL-CoT Setup - Preprocessing example 182\n",
      "2025-05-31 03:23:57,864 || INFO || MedRL-CoT Setup - Example 182 already complete, skipping\n",
      "2025-05-31 03:23:57,864 || INFO || MedRL-CoT Setup - Preprocessing example 183\n",
      "2025-05-31 03:23:57,865 || INFO || MedRL-CoT Setup - Example 183 already complete, skipping\n",
      "2025-05-31 03:23:57,865 || INFO || MedRL-CoT Setup - Preprocessing example 184\n",
      "2025-05-31 03:23:57,866 || INFO || MedRL-CoT Setup - Example 184 already complete, skipping\n",
      "2025-05-31 03:23:57,867 || INFO || MedRL-CoT Setup - Preprocessing example 185\n",
      "2025-05-31 03:23:57,867 || INFO || MedRL-CoT Setup - Example 185 already complete, skipping\n",
      "2025-05-31 03:23:57,868 || INFO || MedRL-CoT Setup - Preprocessing example 186\n",
      "2025-05-31 03:23:57,869 || INFO || MedRL-CoT Setup - Example 186 already complete, skipping\n",
      "2025-05-31 03:23:57,870 || INFO || MedRL-CoT Setup - Preprocessing example 187\n",
      "2025-05-31 03:23:57,870 || INFO || MedRL-CoT Setup - Example 187 already complete, skipping\n",
      "2025-05-31 03:23:57,871 || INFO || MedRL-CoT Setup - Preprocessing example 188\n",
      "2025-05-31 03:23:57,872 || INFO || MedRL-CoT Setup - Example 188 already complete, skipping\n",
      "2025-05-31 03:23:57,872 || INFO || MedRL-CoT Setup - Preprocessing example 189\n",
      "2025-05-31 03:23:57,873 || INFO || MedRL-CoT Setup - Example 189 already complete, skipping\n",
      "2025-05-31 03:23:57,874 || INFO || MedRL-CoT Setup - Preprocessing example 190\n",
      "2025-05-31 03:23:57,874 || INFO || MedRL-CoT Setup - Example 190 already complete, skipping\n",
      "2025-05-31 03:23:57,875 || INFO || MedRL-CoT Setup - Preprocessing example 191\n",
      "2025-05-31 03:23:57,876 || INFO || MedRL-CoT Setup - Example 191 already complete, skipping\n",
      "2025-05-31 03:23:57,877 || INFO || MedRL-CoT Setup - Preprocessing example 192\n",
      "2025-05-31 03:23:57,877 || INFO || MedRL-CoT Setup - Example 192 already complete, skipping\n",
      "2025-05-31 03:23:57,878 || INFO || MedRL-CoT Setup - Preprocessing example 193\n",
      "2025-05-31 03:23:57,878 || INFO || MedRL-CoT Setup - Example 193 already complete, skipping\n",
      "2025-05-31 03:23:57,879 || INFO || MedRL-CoT Setup - Preprocessing example 194\n",
      "2025-05-31 03:23:57,880 || INFO || MedRL-CoT Setup - Example 194 already complete, skipping\n",
      "2025-05-31 03:23:57,881 || INFO || MedRL-CoT Setup - Preprocessing example 195\n",
      "2025-05-31 03:23:57,881 || INFO || MedRL-CoT Setup - Example 195 already complete, skipping\n",
      "2025-05-31 03:23:57,882 || INFO || MedRL-CoT Setup - Preprocessing example 196\n",
      "2025-05-31 03:23:57,882 || INFO || MedRL-CoT Setup - Example 196 already complete, skipping\n",
      "2025-05-31 03:23:57,883 || INFO || MedRL-CoT Setup - Preprocessing example 197\n",
      "2025-05-31 03:23:57,883 || INFO || MedRL-CoT Setup - Example 197 already complete, skipping\n",
      "2025-05-31 03:23:57,884 || INFO || MedRL-CoT Setup - Preprocessing example 198\n",
      "2025-05-31 03:23:57,885 || INFO || MedRL-CoT Setup - Example 198 already complete, skipping\n",
      "2025-05-31 03:23:57,885 || INFO || MedRL-CoT Setup - Preprocessing example 199\n",
      "2025-05-31 03:23:57,886 || INFO || MedRL-CoT Setup - Example 199 already complete, skipping\n",
      "2025-05-31 03:23:57,887 || INFO || MedRL-CoT Setup - Preprocessing example 200\n",
      "2025-05-31 03:23:57,887 || INFO || MedRL-CoT Setup - Example 200 already complete, skipping\n",
      "2025-05-31 03:23:57,889 || INFO || MedRL-CoT Setup - Preprocessing example 201\n",
      "2025-05-31 03:23:57,889 || INFO || MedRL-CoT Setup - Example 201 already complete, skipping\n",
      "2025-05-31 03:23:57,890 || INFO || MedRL-CoT Setup - Preprocessing example 202\n",
      "2025-05-31 03:23:57,890 || INFO || MedRL-CoT Setup - Example 202 already complete, skipping\n",
      "2025-05-31 03:23:57,891 || INFO || MedRL-CoT Setup - Preprocessing example 203\n",
      "2025-05-31 03:23:57,892 || INFO || MedRL-CoT Setup - Example 203 already complete, skipping\n",
      "2025-05-31 03:23:57,892 || INFO || MedRL-CoT Setup - Preprocessing example 204\n",
      "2025-05-31 03:23:57,893 || INFO || MedRL-CoT Setup - Example 204 already complete, skipping\n",
      "2025-05-31 03:23:57,894 || INFO || MedRL-CoT Setup - Preprocessing example 205\n",
      "2025-05-31 03:23:57,895 || INFO || MedRL-CoT Setup - Example 205 already complete, skipping\n",
      "2025-05-31 03:23:57,895 || INFO || MedRL-CoT Setup - Preprocessing example 206\n",
      "2025-05-31 03:23:57,896 || INFO || MedRL-CoT Setup - Example 206 already complete, skipping\n",
      "2025-05-31 03:23:57,896 || INFO || MedRL-CoT Setup - Preprocessing example 207\n",
      "2025-05-31 03:23:57,897 || INFO || MedRL-CoT Setup - Example 207 already complete, skipping\n",
      "2025-05-31 03:23:57,897 || INFO || MedRL-CoT Setup - Preprocessing example 208\n",
      "2025-05-31 03:23:57,898 || INFO || MedRL-CoT Setup - Example 208 already complete, skipping\n",
      "2025-05-31 03:23:57,899 || INFO || MedRL-CoT Setup - Preprocessing example 209\n",
      "2025-05-31 03:23:57,900 || INFO || MedRL-CoT Setup - Example 209 already complete, skipping\n",
      "2025-05-31 03:23:57,900 || INFO || MedRL-CoT Setup - Preprocessing example 210\n",
      "2025-05-31 03:23:57,901 || INFO || MedRL-CoT Setup - Example 210 already complete, skipping\n",
      "2025-05-31 03:23:57,901 || INFO || MedRL-CoT Setup - Preprocessing example 211\n",
      "2025-05-31 03:23:57,902 || INFO || MedRL-CoT Setup - Example 211 already complete, skipping\n",
      "2025-05-31 03:23:57,903 || INFO || MedRL-CoT Setup - Preprocessing example 212\n",
      "2025-05-31 03:23:57,904 || INFO || MedRL-CoT Setup - Example 212 already complete, skipping\n",
      "2025-05-31 03:23:57,904 || INFO || MedRL-CoT Setup - Preprocessing example 213\n",
      "2025-05-31 03:23:57,905 || INFO || MedRL-CoT Setup - Example 213 already complete, skipping\n",
      "2025-05-31 03:23:57,905 || INFO || MedRL-CoT Setup - Preprocessing example 214\n",
      "2025-05-31 03:23:57,906 || INFO || MedRL-CoT Setup - Example 214 already complete, skipping\n",
      "2025-05-31 03:23:57,907 || INFO || MedRL-CoT Setup - Preprocessing example 215\n",
      "2025-05-31 03:23:57,907 || INFO || MedRL-CoT Setup - Example 215 already complete, skipping\n",
      "2025-05-31 03:23:57,908 || INFO || MedRL-CoT Setup - Preprocessing example 216\n",
      "2025-05-31 03:23:57,909 || INFO || MedRL-CoT Setup - Example 216 already complete, skipping\n",
      "2025-05-31 03:23:57,909 || INFO || MedRL-CoT Setup - Preprocessing example 217\n",
      "2025-05-31 03:23:57,910 || INFO || MedRL-CoT Setup - Example 217 already complete, skipping\n",
      "2025-05-31 03:23:57,910 || INFO || MedRL-CoT Setup - Preprocessing example 218\n",
      "2025-05-31 03:23:57,911 || INFO || MedRL-CoT Setup - Example 218 already complete, skipping\n",
      "2025-05-31 03:23:57,911 || INFO || MedRL-CoT Setup - Preprocessing example 219\n",
      "2025-05-31 03:23:57,912 || INFO || MedRL-CoT Setup - Example 219 already complete, skipping\n",
      "2025-05-31 03:23:57,913 || INFO || MedRL-CoT Setup - Preprocessing example 220\n",
      "2025-05-31 03:23:57,913 || INFO || MedRL-CoT Setup - Example 220 already complete, skipping\n",
      "2025-05-31 03:23:57,914 || INFO || MedRL-CoT Setup - Preprocessing example 221\n",
      "2025-05-31 03:23:57,914 || INFO || MedRL-CoT Setup - Example 221 already complete, skipping\n",
      "2025-05-31 03:23:57,915 || INFO || MedRL-CoT Setup - Preprocessing example 222\n",
      "2025-05-31 03:23:57,916 || INFO || MedRL-CoT Setup - Example 222 already complete, skipping\n",
      "2025-05-31 03:23:57,916 || INFO || MedRL-CoT Setup - Preprocessing example 223\n",
      "2025-05-31 03:23:57,917 || INFO || MedRL-CoT Setup - Example 223 already complete, skipping\n",
      "2025-05-31 03:23:57,917 || INFO || MedRL-CoT Setup - Preprocessing example 224\n",
      "2025-05-31 03:23:57,918 || INFO || MedRL-CoT Setup - Example 224 already complete, skipping\n",
      "2025-05-31 03:23:57,919 || INFO || MedRL-CoT Setup - Preprocessing example 225\n",
      "2025-05-31 03:23:57,919 || INFO || MedRL-CoT Setup - Example 225 already complete, skipping\n",
      "2025-05-31 03:23:57,920 || INFO || MedRL-CoT Setup - Preprocessing example 226\n",
      "2025-05-31 03:23:57,923 || INFO || MedRL-CoT Setup - Example 226 already complete, skipping\n",
      "2025-05-31 03:23:57,923 || INFO || MedRL-CoT Setup - Preprocessing example 227\n",
      "2025-05-31 03:23:57,924 || INFO || MedRL-CoT Setup - Example 227 already complete, skipping\n",
      "2025-05-31 03:23:57,924 || INFO || MedRL-CoT Setup - Preprocessing example 228\n",
      "2025-05-31 03:23:57,925 || INFO || MedRL-CoT Setup - Example 228 already complete, skipping\n",
      "2025-05-31 03:23:57,926 || INFO || MedRL-CoT Setup - Preprocessing example 229\n",
      "2025-05-31 03:23:57,926 || INFO || MedRL-CoT Setup - Example 229 already complete, skipping\n",
      "Preprocessing dataset:   1%|█                                                                                                                                            | 230/30000 [00:00<00:39, 756.55it/s]2025-05-31 03:23:57,928 || INFO || MedRL-CoT Setup - Preprocessing example 230\n",
      "2025-05-31 03:23:57,929 || INFO || MedRL-CoT Setup - Example 230 already complete, skipping\n",
      "2025-05-31 03:23:57,929 || INFO || MedRL-CoT Setup - Preprocessing example 231\n",
      "2025-05-31 03:23:57,930 || INFO || MedRL-CoT Setup - Example 231 already complete, skipping\n",
      "2025-05-31 03:23:57,930 || INFO || MedRL-CoT Setup - Preprocessing example 232\n",
      "2025-05-31 03:23:57,931 || INFO || MedRL-CoT Setup - Example 232 already complete, skipping\n",
      "2025-05-31 03:23:57,932 || INFO || MedRL-CoT Setup - Preprocessing example 233\n",
      "2025-05-31 03:23:57,933 || INFO || MedRL-CoT Setup - Example 233 already complete, skipping\n",
      "2025-05-31 03:23:57,933 || INFO || MedRL-CoT Setup - Preprocessing example 234\n",
      "2025-05-31 03:23:57,934 || INFO || MedRL-CoT Setup - Example 234 already complete, skipping\n",
      "2025-05-31 03:23:57,934 || INFO || MedRL-CoT Setup - Preprocessing example 235\n",
      "2025-05-31 03:23:57,936 || INFO || MedRL-CoT Setup - Example 235 already complete, skipping\n",
      "2025-05-31 03:23:57,936 || INFO || MedRL-CoT Setup - Preprocessing example 236\n",
      "2025-05-31 03:23:57,937 || INFO || MedRL-CoT Setup - Example 236 already complete, skipping\n",
      "2025-05-31 03:23:57,937 || INFO || MedRL-CoT Setup - Preprocessing example 237\n",
      "2025-05-31 03:23:57,938 || INFO || MedRL-CoT Setup - Example 237 already complete, skipping\n",
      "2025-05-31 03:23:57,939 || INFO || MedRL-CoT Setup - Preprocessing example 238\n",
      "2025-05-31 03:23:57,939 || INFO || MedRL-CoT Setup - Example 238 already complete, skipping\n",
      "2025-05-31 03:23:57,940 || INFO || MedRL-CoT Setup - Preprocessing example 239\n",
      "2025-05-31 03:23:57,940 || INFO || MedRL-CoT Setup - Example 239 already complete, skipping\n",
      "2025-05-31 03:23:57,941 || INFO || MedRL-CoT Setup - Preprocessing example 240\n",
      "2025-05-31 03:23:57,942 || INFO || MedRL-CoT Setup - Example 240 already complete, skipping\n",
      "2025-05-31 03:23:57,943 || INFO || MedRL-CoT Setup - Preprocessing example 241\n",
      "2025-05-31 03:23:57,944 || INFO || MedRL-CoT Setup - Example 241 already complete, skipping\n",
      "2025-05-31 03:23:57,944 || INFO || MedRL-CoT Setup - Preprocessing example 242\n",
      "\n",
      "Preprocessing dataset:   1%|█                                                                                                                                            | 230/30000 [00:12<00:39, 756.55it/s]2025-05-31 03:25:02,425 || ERROR || MedRL-CoT Setup - Nothing found, bad example!\n",
      "\n",
      "Classifying prompts:  12%|██████████████████▊                                                                                                                                   | 1/8 [01:04<07:30, 64.37s/it]\u001b[A2025-05-31 03:25:21,637 || WARNING || MedRL-CoT Setup - Invalid JSON, trying conversion\n",
      "2025-05-31 03:25:21,638 || INFO || MedRL-CoT Setup - Successful conversion!\n",
      "\n",
      "Classifying prompts:  25%|█████████████████████████████████████▌                                                                                                                | 2/8 [01:23<03:46, 37.81s/it]\u001b[A2025-05-31 03:25:27,333 || INFO || MedRL-CoT Setup - Successful JSON parsed!\n",
      "\n",
      "Classifying prompts:  38%|████████████████████████████████████████████████████████▎                                                                                             | 3/8 [01:29<01:55, 23.14s/it]\u001b[A2025-05-31 03:25:57,475 || WARNING || MedRL-CoT Setup - Invalid JSON, trying conversion\n",
      "2025-05-31 03:25:57,476 || INFO || MedRL-CoT Setup - Successful conversion!\n",
      "\n",
      "Classifying prompts:  50%|███████████████████████████████████████████████████████████████████████████                                                                           | 4/8 [01:59<01:43, 25.91s/it]\u001b[A2025-05-31 03:26:26,346 || ERROR || MedRL-CoT Setup - Nothing found, bad example!\n",
      "\n",
      "Classifying prompts:  62%|█████████████████████████████████████████████████████████████████████████████████████████████▊                                                        | 5/8 [02:28<01:20, 26.98s/it]\u001b[A2025-05-31 03:26:30,724 || INFO || MedRL-CoT Setup - Successful JSON parsed!\n",
      "\n",
      "Classifying prompts:  75%|████████████████████████████████████████████████████████████████████████████████████████████████████████████████▌                                     | 6/8 [02:32<00:38, 19.29s/it]\u001b[A2025-05-31 03:26:37,774 || INFO || MedRL-CoT Setup - Successful JSON parsed!\n",
      "\n",
      "Classifying prompts:  88%|███████████████████████████████████████████████████████████████████████████████████████████████████████████████████████████████████▎                  | 7/8 [02:39<00:15, 15.29s/it]\u001b[A2025-05-31 03:26:47,456 || WARNING || MedRL-CoT Setup - Invalid JSON, trying conversion\n",
      "2025-05-31 03:26:47,457 || INFO || MedRL-CoT Setup - Successful conversion!\n",
      "\n",
      "Classifying prompts: 100%|██████████████████████████████████████████████████████████████████████████████████████████████████████████████████████████████████████████████████████| 8/8 [02:49<00:00, 13.51s/it]\u001b[A\n",
      "                                                                                                                                                                                                              \u001b[A2025-05-31 03:26:47,462 || INFO || MedRL-CoT Setup - Dumping checkpoint\n"
     ]
    },
    {
     "data": {
      "application/vnd.jupyter.widget-view+json": {
       "model_id": "161c5e1c2422475fb7cf093ca9a92785",
       "version_major": 2,
       "version_minor": 0
      },
      "text/plain": [
       "Saving the dataset (0/1 shards):   0%|          | 0/5100 [00:00<?, ? examples/s]"
      ]
     },
     "metadata": {},
     "output_type": "display_data"
    },
    {
     "name": "stderr",
     "output_type": "stream",
     "text": [
      "Preprocessing dataset:   1%|█▏                                                                                                                                         | 243/30000 [02:49<10:42:40,  1.30s/it]2025-05-31 03:26:47,519 || INFO || MedRL-CoT Setup - Preprocessing example 243\n",
      "\n",
      "Classifying prompts:   0%|                                                                                                                                                              | 0/5 [00:00<?, ?it/s]\u001b[A2025-05-31 03:27:24,415 || WARNING || MedRL-CoT Setup - Invalid JSON, trying conversion\n",
      "2025-05-31 03:27:24,416 || INFO || MedRL-CoT Setup - Successful conversion!\n",
      "\n",
      "Classifying prompts:  20%|██████████████████████████████                                                                                                                        | 1/5 [00:36<02:27, 36.79s/it]\u001b[A2025-05-31 03:27:53,974 || WARNING || MedRL-CoT Setup - Invalid JSON, trying conversion\n",
      "2025-05-31 03:27:53,975 || INFO || MedRL-CoT Setup - Successful conversion!\n",
      "\n",
      "Classifying prompts:  40%|████████████████████████████████████████████████████████████                                                                                          | 2/5 [01:06<01:37, 32.53s/it]\u001b[A2025-05-31 03:28:03,099 || INFO || MedRL-CoT Setup - Successful JSON parsed!\n",
      "\n",
      "Classifying prompts:  60%|██████████████████████████████████████████████████████████████████████████████████████████                                                            | 3/5 [01:15<00:43, 21.84s/it]\u001b[A2025-05-31 03:28:10,459 || INFO || MedRL-CoT Setup - Successful JSON parsed!\n",
      "\n",
      "Classifying prompts:  80%|████████████████████████████████████████████████████████████████████████████████████████████████████████████████████████                              | 4/5 [01:22<00:16, 16.13s/it]\u001b[A2025-05-31 03:28:23,416 || WARNING || MedRL-CoT Setup - Invalid JSON, trying conversion\n",
      "2025-05-31 03:28:23,417 || INFO || MedRL-CoT Setup - Successful conversion!\n",
      "\n",
      "Classifying prompts: 100%|██████████████████████████████████████████████████████████████████████████████████████████████████████████████████████████████████████████████████████| 5/5 [01:35<00:00, 14.98s/it]\u001b[A\n",
      "                                                                                                                                                                                                              \u001b[A2025-05-31 03:28:23,421 || INFO || MedRL-CoT Setup - Dumping checkpoint\n"
     ]
    },
    {
     "data": {
      "application/vnd.jupyter.widget-view+json": {
       "model_id": "2c8b05049f1f4659b16d115473d0c129",
       "version_major": 2,
       "version_minor": 0
      },
      "text/plain": [
       "Saving the dataset (0/1 shards):   0%|          | 0/5126 [00:00<?, ? examples/s]"
      ]
     },
     "metadata": {},
     "output_type": "display_data"
    },
    {
     "name": "stderr",
     "output_type": "stream",
     "text": [
      "Preprocessing dataset:   1%|█▏                                                                                                                                         | 244/30000 [04:25<19:09:07,  2.32s/it]2025-05-31 03:28:23,478 || INFO || MedRL-CoT Setup - Preprocessing example 244\n",
      "\n",
      "Classifying prompts:   0%|                                                                                                                                                              | 0/1 [00:00<?, ?it/s]\u001b[A2025-05-31 03:29:56,215 || ERROR || MedRL-CoT Setup - Nothing found, bad example!\n",
      "\n",
      "Classifying prompts: 100%|██████████████████████████████████████████████████████████████████████████████████████████████████████████████████████████████████████████████████████| 1/1 [01:32<00:00, 92.63s/it]\u001b[A\n",
      "                                                                                                                                                                                                              \u001b[A2025-05-31 03:29:56,220 || INFO || MedRL-CoT Setup - Dumping checkpoint\n"
     ]
    },
    {
     "data": {
      "application/vnd.jupyter.widget-view+json": {
       "model_id": "69232d96f3174a5694d64973734329dd",
       "version_major": 2,
       "version_minor": 0
      },
      "text/plain": [
       "Saving the dataset (0/1 shards):   0%|          | 0/5126 [00:00<?, ? examples/s]"
      ]
     },
     "metadata": {},
     "output_type": "display_data"
    },
    {
     "name": "stderr",
     "output_type": "stream",
     "text": [
      "Preprocessing dataset:   1%|█▏                                                                                                                                         | 245/30000 [05:58<30:30:07,  3.69s/it]2025-05-31 03:29:56,276 || INFO || MedRL-CoT Setup - Preprocessing example 245\n",
      "\n",
      "Classifying prompts:   0%|                                                                                                                                                              | 0/2 [00:00<?, ?it/s]\u001b[A2025-05-31 03:31:16,394 || ERROR || MedRL-CoT Setup - Nothing found, bad example!\n",
      "\n",
      "Classifying prompts:  50%|███████████████████████████████████████████████████████████████████████████                                                                           | 1/2 [01:20<01:20, 80.01s/it]\u001b[A2025-05-31 03:31:33,286 || WARNING || MedRL-CoT Setup - Invalid JSON, trying conversion\n",
      "2025-05-31 03:31:33,287 || INFO || MedRL-CoT Setup - Successful conversion!\n",
      "\n",
      "Classifying prompts: 100%|██████████████████████████████████████████████████████████████████████████████████████████████████████████████████████████████████████████████████████| 2/2 [01:36<00:00, 42.88s/it]\u001b[A\n",
      "                                                                                                                                                                                                              \u001b[A2025-05-31 03:31:33,291 || INFO || MedRL-CoT Setup - Dumping checkpoint\n"
     ]
    },
    {
     "data": {
      "application/vnd.jupyter.widget-view+json": {
       "model_id": "53ef30a40ecb47f9b828727a8fa04415",
       "version_major": 2,
       "version_minor": 0
      },
      "text/plain": [
       "Saving the dataset (0/1 shards):   0%|          | 0/5131 [00:00<?, ? examples/s]"
      ]
     },
     "metadata": {},
     "output_type": "display_data"
    },
    {
     "name": "stderr",
     "output_type": "stream",
     "text": [
      "Preprocessing dataset:   1%|█▏                                                                                                                                         | 246/30000 [07:35<46:52:50,  5.67s/it]2025-05-31 03:31:33,350 || INFO || MedRL-CoT Setup - Preprocessing example 246\n",
      "\n",
      "Classifying prompts:   0%|                                                                                                                                                              | 0/2 [00:00<?, ?it/s]\u001b[A2025-05-31 03:32:53,497 || ERROR || MedRL-CoT Setup - Nothing found, bad example!\n",
      "\n",
      "Classifying prompts:  50%|███████████████████████████████████████████████████████████████████████████                                                                           | 1/2 [01:20<01:20, 80.04s/it]\u001b[A2025-05-31 03:33:10,400 || WARNING || MedRL-CoT Setup - Invalid JSON, trying conversion\n",
      "2025-05-31 03:33:10,401 || INFO || MedRL-CoT Setup - Successful conversion!\n",
      "\n",
      "Classifying prompts: 100%|██████████████████████████████████████████████████████████████████████████████████████████████████████████████████████████████████████████████████████| 2/2 [01:36<00:00, 42.90s/it]\u001b[A\n",
      "                                                                                                                                                                                                              \u001b[A2025-05-31 03:33:10,405 || INFO || MedRL-CoT Setup - Dumping checkpoint\n"
     ]
    },
    {
     "data": {
      "application/vnd.jupyter.widget-view+json": {
       "model_id": "0e59fd89c8bd4677bf3509b003d1d883",
       "version_major": 2,
       "version_minor": 0
      },
      "text/plain": [
       "Saving the dataset (0/1 shards):   0%|          | 0/5136 [00:00<?, ? examples/s]"
      ]
     },
     "metadata": {},
     "output_type": "display_data"
    },
    {
     "name": "stderr",
     "output_type": "stream",
     "text": [
      "Preprocessing dataset:   1%|█▏                                                                                                                                         | 247/30000 [09:12<69:07:00,  8.36s/it]2025-05-31 03:33:10,462 || INFO || MedRL-CoT Setup - Preprocessing example 247\n",
      "\n",
      "Classifying prompts:   0%|                                                                                                                                                              | 0/2 [00:00<?, ?it/s]\u001b[A2025-05-31 03:34:14,374 || ERROR || MedRL-CoT Setup - Nothing found, bad example!\n",
      "\n",
      "Classifying prompts:  50%|███████████████████████████████████████████████████████████████████████████                                                                           | 1/2 [01:03<01:03, 63.80s/it]\u001b[A2025-05-31 03:34:40,529 || WARNING || MedRL-CoT Setup - Invalid JSON, trying conversion\n",
      "2025-05-31 03:34:40,529 || INFO || MedRL-CoT Setup - Successful conversion!\n",
      "\n",
      "Classifying prompts: 100%|██████████████████████████████████████████████████████████████████████████████████████████████████████████████████████████████████████████████████████| 2/2 [01:29<00:00, 41.66s/it]\u001b[A\n",
      "                                                                                                                                                                                                              \u001b[A2025-05-31 03:34:40,534 || INFO || MedRL-CoT Setup - Dumping checkpoint\n"
     ]
    },
    {
     "data": {
      "application/vnd.jupyter.widget-view+json": {
       "model_id": "1b49b0528e754ea2b9f1f6221a357810",
       "version_major": 2,
       "version_minor": 0
      },
      "text/plain": [
       "Saving the dataset (0/1 shards):   0%|          | 0/5145 [00:00<?, ? examples/s]"
      ]
     },
     "metadata": {},
     "output_type": "display_data"
    },
    {
     "name": "stderr",
     "output_type": "stream",
     "text": [
      "Preprocessing dataset:   1%|█▏                                                                                                                                         | 248/30000 [10:42<96:22:25, 11.66s/it]2025-05-31 03:34:40,589 || INFO || MedRL-CoT Setup - Preprocessing example 248\n",
      "\n",
      "Classifying prompts:   0%|                                                                                                                                                              | 0/3 [00:00<?, ?it/s]\u001b[A2025-05-31 03:35:32,988 || WARNING || MedRL-CoT Setup - Invalid JSON, trying conversion\n",
      "2025-05-31 03:35:32,989 || INFO || MedRL-CoT Setup - Successful conversion!\n",
      "\n",
      "Classifying prompts:  33%|██████████████████████████████████████████████████                                                                                                    | 1/3 [00:52<01:44, 52.29s/it]\u001b[A2025-05-31 03:36:48,092 || WARNING || MedRL-CoT Setup - Invalid JSON, trying conversion\n",
      "2025-05-31 03:36:48,093 || INFO || MedRL-CoT Setup - Successful conversion!\n",
      "\n",
      "Classifying prompts:  67%|████████████████████████████████████████████████████████████████████████████████████████████████████                                                  | 2/3 [02:07<01:05, 65.71s/it]\u001b[A2025-05-31 03:36:58,798 || WARNING || MedRL-CoT Setup - Invalid JSON, trying conversion\n",
      "2025-05-31 03:36:58,799 || INFO || MedRL-CoT Setup - Successful conversion!\n",
      "\n",
      "Classifying prompts: 100%|██████████████████████████████████████████████████████████████████████████████████████████████████████████████████████████████████████████████████████| 3/3 [02:18<00:00, 40.59s/it]\u001b[A\n",
      "                                                                                                                                                                                                              \u001b[A2025-05-31 03:36:58,803 || INFO || MedRL-CoT Setup - Dumping checkpoint\n"
     ]
    },
    {
     "data": {
      "application/vnd.jupyter.widget-view+json": {
       "model_id": "df80e4e6e11a431c941fa93d481ec5f4",
       "version_major": 2,
       "version_minor": 0
      },
      "text/plain": [
       "Saving the dataset (0/1 shards):   0%|          | 0/5183 [00:00<?, ? examples/s]"
      ]
     },
     "metadata": {},
     "output_type": "display_data"
    },
    {
     "name": "stderr",
     "output_type": "stream",
     "text": [
      "Preprocessing dataset:   1%|█▏                                                                                                                                        | 249/30000 [13:01<153:23:01, 18.56s/it]2025-05-31 03:36:58,859 || INFO || MedRL-CoT Setup - Preprocessing example 249\n",
      "\n",
      "Classifying prompts:   0%|                                                                                                                                                              | 0/4 [00:00<?, ?it/s]\u001b[A2025-05-31 03:37:21,665 || WARNING || MedRL-CoT Setup - Invalid JSON, trying conversion\n",
      "2025-05-31 03:37:21,666 || INFO || MedRL-CoT Setup - Successful conversion!\n",
      "\n",
      "Classifying prompts:  25%|█████████████████████████████████████▌                                                                                                                | 1/4 [00:22<01:08, 22.70s/it]\u001b[A2025-05-31 03:37:43,988 || WARNING || MedRL-CoT Setup - Invalid JSON, trying conversion\n",
      "2025-05-31 03:37:43,989 || INFO || MedRL-CoT Setup - Successful conversion!\n",
      "\n",
      "Classifying prompts:  50%|███████████████████████████████████████████████████████████████████████████                                                                           | 2/4 [00:45<00:44, 22.48s/it]\u001b[A2025-05-31 03:38:06,905 || WARNING || MedRL-CoT Setup - Invalid JSON, trying conversion\n",
      "2025-05-31 03:38:06,906 || INFO || MedRL-CoT Setup - Successful conversion!\n",
      "\n",
      "Classifying prompts:  75%|████████████████████████████████████████████████████████████████████████████████████████████████████████████████▌                                     | 3/4 [01:07<00:22, 22.68s/it]\u001b[A2025-05-31 03:38:25,746 || WARNING || MedRL-CoT Setup - Invalid JSON, trying conversion\n",
      "2025-05-31 03:38:25,747 || INFO || MedRL-CoT Setup - Successful conversion!\n",
      "\n",
      "Classifying prompts: 100%|██████████████████████████████████████████████████████████████████████████████████████████████████████████████████████████████████████████████████████| 4/4 [01:26<00:00, 21.16s/it]\u001b[A\n",
      "                                                                                                                                                                                                              \u001b[A2025-05-31 03:38:25,752 || INFO || MedRL-CoT Setup - Dumping checkpoint\n"
     ]
    },
    {
     "data": {
      "application/vnd.jupyter.widget-view+json": {
       "model_id": "c861d890b0d14aa0a26b05d10b759387",
       "version_major": 2,
       "version_minor": 0
      },
      "text/plain": [
       "Saving the dataset (0/1 shards):   0%|          | 0/5207 [00:00<?, ? examples/s]"
      ]
     },
     "metadata": {},
     "output_type": "display_data"
    },
    {
     "name": "stderr",
     "output_type": "stream",
     "text": [
      "Preprocessing dataset:   1%|█▏                                                                                                                                        | 250/30000 [14:28<194:11:39, 23.50s/it]2025-05-31 03:38:25,808 || INFO || MedRL-CoT Setup - Preprocessing example 250\n",
      "\n",
      "Classifying prompts:   0%|                                                                                                                                                              | 0/4 [00:00<?, ?it/s]\u001b[A2025-05-31 03:39:04,252 || INFO || MedRL-CoT Setup - Successful JSON parsed!\n",
      "\n",
      "Classifying prompts:  25%|█████████████████████████████████████▌                                                                                                                | 1/4 [00:38<01:54, 38.33s/it]\u001b[A2025-05-31 03:39:33,866 || WARNING || MedRL-CoT Setup - Invalid JSON, trying conversion\n",
      "2025-05-31 03:39:33,866 || INFO || MedRL-CoT Setup - Successful conversion!\n",
      "\n",
      "Classifying prompts:  50%|███████████████████████████████████████████████████████████████████████████                                                                           | 2/4 [01:07<01:06, 33.20s/it]\u001b[A2025-05-31 03:40:13,045 || WARNING || MedRL-CoT Setup - Invalid JSON, trying conversion\n",
      "2025-05-31 03:40:13,046 || INFO || MedRL-CoT Setup - Successful conversion!\n",
      "\n",
      "Classifying prompts:  75%|████████████████████████████████████████████████████████████████████████████████████████████████████████████████▌                                     | 3/4 [01:47<00:35, 35.93s/it]\u001b[A2025-05-31 03:40:24,948 || WARNING || MedRL-CoT Setup - Invalid JSON, trying conversion\n",
      "2025-05-31 03:40:24,949 || INFO || MedRL-CoT Setup - Successful conversion!\n",
      "\n",
      "Classifying prompts: 100%|██████████████████████████████████████████████████████████████████████████████████████████████████████████████████████████████████████████████████████| 4/4 [01:59<00:00, 26.45s/it]\u001b[A\n",
      "                                                                                                                                                                                                              \u001b[A2025-05-31 03:40:24,954 || INFO || MedRL-CoT Setup - Dumping checkpoint\n"
     ]
    },
    {
     "data": {
      "application/vnd.jupyter.widget-view+json": {
       "model_id": "f32c10a452d74e47bb63e2c944a56ddc",
       "version_major": 2,
       "version_minor": 0
      },
      "text/plain": [
       "Saving the dataset (0/1 shards):   0%|          | 0/5241 [00:00<?, ? examples/s]"
      ]
     },
     "metadata": {},
     "output_type": "display_data"
    },
    {
     "name": "stderr",
     "output_type": "stream",
     "text": [
      "Preprocessing dataset:   1%|█▏                                                                                                                                        | 251/30000 [16:27<268:09:04, 32.45s/it]2025-05-31 03:40:25,011 || INFO || MedRL-CoT Setup - Preprocessing example 251\n",
      "\n",
      "Classifying prompts:   0%|                                                                                                                                                              | 0/2 [00:00<?, ?it/s]\u001b[A2025-05-31 03:41:45,137 || ERROR || MedRL-CoT Setup - Nothing found, bad example!\n",
      "\n",
      "Classifying prompts:  50%|███████████████████████████████████████████████████████████████████████████                                                                           | 1/2 [01:20<01:20, 80.01s/it]\u001b[A2025-05-31 03:42:02,032 || WARNING || MedRL-CoT Setup - Invalid JSON, trying conversion\n",
      "2025-05-31 03:42:02,032 || INFO || MedRL-CoT Setup - Successful conversion!\n",
      "\n",
      "Classifying prompts: 100%|██████████████████████████████████████████████████████████████████████████████████████████████████████████████████████████████████████████████████████| 2/2 [01:36<00:00, 42.89s/it]\u001b[A\n",
      "                                                                                                                                                                                                              \u001b[A2025-05-31 03:42:02,037 || INFO || MedRL-CoT Setup - Dumping checkpoint\n"
     ]
    },
    {
     "data": {
      "application/vnd.jupyter.widget-view+json": {
       "model_id": "18d35100f80b40c7be87b4f3e2aea869",
       "version_major": 2,
       "version_minor": 0
      },
      "text/plain": [
       "Saving the dataset (0/1 shards):   0%|          | 0/5246 [00:00<?, ? examples/s]"
      ]
     },
     "metadata": {},
     "output_type": "display_data"
    },
    {
     "name": "stderr",
     "output_type": "stream",
     "text": [
      "Preprocessing dataset:   1%|█▏                                                                                                                                        | 252/30000 [18:04<331:05:27, 40.07s/it]2025-05-31 03:42:02,097 || INFO || MedRL-CoT Setup - Preprocessing example 252\n",
      "\n",
      "Classifying prompts:   0%|                                                                                                                                                              | 0/1 [00:00<?, ?it/s]\u001b[A2025-05-31 03:43:34,900 || WARNING || MedRL-CoT Setup - Invalid JSON, trying conversion\n",
      "2025-05-31 03:43:34,901 || INFO || MedRL-CoT Setup - Successful conversion!\n",
      "\n",
      "Classifying prompts: 100%|██████████████████████████████████████████████████████████████████████████████████████████████████████████████████████████████████████████████████████| 1/1 [01:32<00:00, 92.69s/it]\u001b[A\n",
      "                                                                                                                                                                                                              \u001b[A2025-05-31 03:43:34,905 || INFO || MedRL-CoT Setup - Dumping checkpoint\n"
     ]
    },
    {
     "data": {
      "application/vnd.jupyter.widget-view+json": {
       "model_id": "d6c11d59007540de882d52ef4cf0f782",
       "version_major": 2,
       "version_minor": 0
      },
      "text/plain": [
       "Saving the dataset (0/1 shards):   0%|          | 0/5246 [00:00<?, ? examples/s]"
      ]
     },
     "metadata": {},
     "output_type": "display_data"
    },
    {
     "name": "stderr",
     "output_type": "stream",
     "text": [
      "Preprocessing dataset:   1%|█▏                                                                                                                                        | 253/30000 [19:37<393:57:01, 47.68s/it]2025-05-31 03:43:34,964 || INFO || MedRL-CoT Setup - Preprocessing example 253\n",
      "\n",
      "Classifying prompts:   0%|                                                                                                                                                              | 0/7 [00:00<?, ?it/s]\u001b[A2025-05-31 03:44:12,110 || INFO || MedRL-CoT Setup - Successful JSON parsed!\n",
      "\n",
      "Classifying prompts:  14%|█████████████████████▍                                                                                                                                | 1/7 [00:37<03:42, 37.04s/it]\u001b[A2025-05-31 03:44:27,425 || WARNING || MedRL-CoT Setup - Invalid JSON, trying conversion\n",
      "2025-05-31 03:44:27,426 || INFO || MedRL-CoT Setup - Successful conversion!\n",
      "\n",
      "Classifying prompts:  29%|██████████████████████████████████████████▊                                                                                                           | 2/7 [00:52<02:01, 24.26s/it]\u001b[A2025-05-31 03:45:09,398 || WARNING || MedRL-CoT Setup - Invalid JSON, trying conversion\n",
      "2025-05-31 03:45:09,399 || INFO || MedRL-CoT Setup - Successful conversion!\n",
      "\n",
      "Classifying prompts:  43%|████████████████████████████████████████████████████████████████▎                                                                                     | 3/7 [01:34<02:09, 32.35s/it]\u001b[A2025-05-31 03:45:25,429 || WARNING || MedRL-CoT Setup - Invalid JSON, trying conversion\n",
      "2025-05-31 03:45:25,430 || INFO || MedRL-CoT Setup - Successful conversion!\n",
      "\n",
      "Classifying prompts:  57%|█████████████████████████████████████████████████████████████████████████████████████▋                                                                | 4/7 [01:50<01:17, 25.91s/it]\u001b[A2025-05-31 03:45:38,314 || WARNING || MedRL-CoT Setup - Invalid JSON, trying conversion\n",
      "2025-05-31 03:45:38,315 || INFO || MedRL-CoT Setup - Successful conversion!\n",
      "\n",
      "Classifying prompts:  71%|███████████████████████████████████████████████████████████████████████████████████████████████████████████▏                                          | 5/7 [02:03<00:42, 21.21s/it]\u001b[A2025-05-31 03:45:53,136 || WARNING || MedRL-CoT Setup - Invalid JSON, trying conversion\n",
      "2025-05-31 03:45:53,137 || INFO || MedRL-CoT Setup - Successful conversion!\n",
      "\n",
      "Classifying prompts:  86%|████████████████████████████████████████████████████████████████████████████████████████████████████████████████████████████████▌                     | 6/7 [02:18<00:19, 19.04s/it]\u001b[A2025-05-31 03:46:14,282 || WARNING || MedRL-CoT Setup - Invalid JSON, trying conversion\n",
      "2025-05-31 03:46:14,283 || INFO || MedRL-CoT Setup - Successful conversion!\n",
      "\n",
      "Classifying prompts: 100%|██████████████████████████████████████████████████████████████████████████████████████████████████████████████████████████████████████████████████████| 7/7 [02:39<00:00, 19.73s/it]\u001b[A\n",
      "                                                                                                                                                                                                              \u001b[A2025-05-31 03:46:14,287 || INFO || MedRL-CoT Setup - Dumping checkpoint\n"
     ]
    },
    {
     "data": {
      "application/vnd.jupyter.widget-view+json": {
       "model_id": "bff8b31da6d94b85ab20d3b1ea16d523",
       "version_major": 2,
       "version_minor": 0
      },
      "text/plain": [
       "Saving the dataset (0/1 shards):   0%|          | 0/5290 [00:00<?, ? examples/s]"
      ]
     },
     "metadata": {},
     "output_type": "display_data"
    },
    {
     "name": "stderr",
     "output_type": "stream",
     "text": [
      "Preprocessing dataset:   1%|█▏                                                                                                                                        | 254/30000 [22:16<551:30:31, 66.75s/it]2025-05-31 03:46:14,344 || INFO || MedRL-CoT Setup - Preprocessing example 254\n",
      "\n",
      "Classifying prompts:   0%|                                                                                                                                                              | 0/1 [00:00<?, ?it/s]\u001b[A2025-05-31 03:47:28,764 || ERROR || MedRL-CoT Setup - Nothing found, bad example!\n",
      "\n",
      "Classifying prompts: 100%|██████████████████████████████████████████████████████████████████████████████████████████████████████████████████████████████████████████████████████| 1/1 [01:14<00:00, 74.31s/it]\u001b[A\n",
      "                                                                                                                                                                                                              \u001b[A2025-05-31 03:47:28,769 || INFO || MedRL-CoT Setup - Dumping checkpoint\n"
     ]
    },
    {
     "data": {
      "application/vnd.jupyter.widget-view+json": {
       "model_id": "a241b55b0ae841b68a4e55f3a4c0db38",
       "version_major": 2,
       "version_minor": 0
      },
      "text/plain": [
       "Saving the dataset (0/1 shards):   0%|          | 0/5290 [00:00<?, ? examples/s]"
      ]
     },
     "metadata": {},
     "output_type": "display_data"
    },
    {
     "name": "stderr",
     "output_type": "stream",
     "text": [
      "Preprocessing dataset:   1%|█▏                                                                                                                                        | 255/30000 [23:31<564:01:25, 68.26s/it]2025-05-31 03:47:28,827 || INFO || MedRL-CoT Setup - Preprocessing example 255\n",
      "\n",
      "Classifying prompts:   0%|                                                                                                                                                              | 0/4 [00:00<?, ?it/s]\u001b[A2025-05-31 03:47:45,081 || WARNING || MedRL-CoT Setup - Invalid JSON, trying conversion\n",
      "2025-05-31 03:47:45,081 || INFO || MedRL-CoT Setup - Successful conversion!\n",
      "\n",
      "Classifying prompts:  25%|█████████████████████████████████████▌                                                                                                                | 1/4 [00:16<00:48, 16.14s/it]\u001b[A2025-05-31 03:47:50,477 || INFO || MedRL-CoT Setup - Successful JSON parsed!\n",
      "\n",
      "Classifying prompts:  50%|███████████████████████████████████████████████████████████████████████████                                                                           | 2/4 [00:21<00:19,  9.82s/it]\u001b[A2025-05-31 03:48:09,555 || WARNING || MedRL-CoT Setup - Invalid JSON, trying conversion\n",
      "2025-05-31 03:48:09,556 || INFO || MedRL-CoT Setup - Successful conversion!\n",
      "\n",
      "Classifying prompts:  75%|████████████████████████████████████████████████████████████████████████████████████████████████████████████████▌                                     | 3/4 [00:40<00:14, 14.05s/it]\u001b[A2025-05-31 03:48:31,006 || WARNING || MedRL-CoT Setup - Invalid JSON, trying conversion\n",
      "2025-05-31 03:48:31,007 || INFO || MedRL-CoT Setup - Successful conversion!\n",
      "\n",
      "Classifying prompts: 100%|██████████████████████████████████████████████████████████████████████████████████████████████████████████████████████████████████████████████████████| 4/4 [01:02<00:00, 16.97s/it]\u001b[A\n",
      "                                                                                                                                                                                                              \u001b[A2025-05-31 03:48:31,010 || INFO || MedRL-CoT Setup - Dumping checkpoint\n"
     ]
    },
    {
     "data": {
      "application/vnd.jupyter.widget-view+json": {
       "model_id": "2535739eef004362b10fb3ed498205c6",
       "version_major": 2,
       "version_minor": 0
      },
      "text/plain": [
       "Saving the dataset (0/1 shards):   0%|          | 0/5311 [00:00<?, ? examples/s]"
      ]
     },
     "metadata": {},
     "output_type": "display_data"
    },
    {
     "name": "stderr",
     "output_type": "stream",
     "text": [
      "Preprocessing dataset:   1%|█▏                                                                                                                                        | 256/30000 [24:33<553:07:18, 66.95s/it]2025-05-31 03:48:31,070 || INFO || MedRL-CoT Setup - Preprocessing example 256\n",
      "\n",
      "Classifying prompts:   0%|                                                                                                                                                              | 0/5 [00:00<?, ?it/s]\u001b[A2025-05-31 03:49:18,509 || ERROR || MedRL-CoT Setup - Nothing found, bad example!\n",
      "\n",
      "Classifying prompts:  20%|██████████████████████████████                                                                                                                        | 1/5 [00:47<03:09, 47.33s/it]\u001b[A2025-05-31 03:49:50,886 || WARNING || MedRL-CoT Setup - Invalid JSON, trying conversion\n",
      "2025-05-31 03:49:50,887 || INFO || MedRL-CoT Setup - Successful conversion!\n",
      "\n",
      "Classifying prompts:  40%|████████████████████████████████████████████████████████████                                                                                          | 2/5 [01:19<01:55, 38.53s/it]\u001b[A2025-05-31 03:50:30,090 || WARNING || MedRL-CoT Setup - Invalid JSON, trying conversion\n",
      "2025-05-31 03:50:30,091 || INFO || MedRL-CoT Setup - Successful conversion!\n",
      "\n",
      "Classifying prompts:  60%|██████████████████████████████████████████████████████████████████████████████████████████                                                            | 3/5 [01:58<01:17, 38.84s/it]\u001b[A2025-05-31 03:50:42,083 || WARNING || MedRL-CoT Setup - Invalid JSON, trying conversion\n",
      "2025-05-31 03:50:42,084 || INFO || MedRL-CoT Setup - Successful conversion!\n",
      "\n",
      "Classifying prompts:  80%|████████████████████████████████████████████████████████████████████████████████████████████████████████████████████████                              | 4/5 [02:10<00:28, 28.24s/it]\u001b[A2025-05-31 03:50:53,665 || WARNING || MedRL-CoT Setup - Invalid JSON, trying conversion\n",
      "2025-05-31 03:50:53,666 || INFO || MedRL-CoT Setup - Successful conversion!\n",
      "\n",
      "Classifying prompts: 100%|██████████████████████████████████████████████████████████████████████████████████████████████████████████████████████████████████████████████████████| 5/5 [02:22<00:00, 22.23s/it]\u001b[A\n",
      "                                                                                                                                                                                                              \u001b[A2025-05-31 03:50:53,670 || INFO || MedRL-CoT Setup - Dumping checkpoint\n"
     ]
    },
    {
     "data": {
      "application/vnd.jupyter.widget-view+json": {
       "model_id": "7a1555f9a53a4af897a058cac866af5f",
       "version_major": 2,
       "version_minor": 0
      },
      "text/plain": [
       "Saving the dataset (0/1 shards):   0%|          | 0/5335 [00:00<?, ? examples/s]"
      ]
     },
     "metadata": {},
     "output_type": "display_data"
    },
    {
     "name": "stderr",
     "output_type": "stream",
     "text": [
      "Preprocessing dataset:   1%|█▏                                                                                                                                        | 257/30000 [26:56<702:04:24, 84.98s/it]2025-05-31 03:50:53,730 || INFO || MedRL-CoT Setup - Preprocessing example 257\n",
      "\n",
      "Classifying prompts:   0%|                                                                                                                                                              | 0/9 [00:00<?, ?it/s]\u001b[A2025-05-31 03:51:32,530 || WARNING || MedRL-CoT Setup - Invalid JSON, trying conversion\n",
      "2025-05-31 03:51:32,531 || INFO || MedRL-CoT Setup - Successful conversion!\n",
      "\n",
      "Classifying prompts:  11%|████████████████▋                                                                                                                                     | 1/9 [00:38<05:09, 38.69s/it]\u001b[A2025-05-31 03:51:44,912 || INFO || MedRL-CoT Setup - Successful JSON parsed!\n",
      "\n",
      "Classifying prompts:  22%|█████████████████████████████████▎                                                                                                                    | 2/9 [00:51<02:42, 23.21s/it]\u001b[A2025-05-31 03:51:52,813 || INFO || MedRL-CoT Setup - Successful JSON parsed!\n",
      "\n",
      "Classifying prompts:  33%|██████████████████████████████████████████████████                                                                                                    | 3/9 [00:58<01:37, 16.22s/it]\u001b[A2025-05-31 03:52:16,418 || WARNING || MedRL-CoT Setup - Invalid JSON, trying conversion\n",
      "2025-05-31 03:52:16,419 || INFO || MedRL-CoT Setup - Successful conversion!\n",
      "\n",
      "Classifying prompts:  44%|██████████████████████████████████████████████████████████████████▋                                                                                   | 4/9 [01:22<01:35, 19.14s/it]\u001b[A2025-05-31 03:52:34,830 || WARNING || MedRL-CoT Setup - Invalid JSON, trying conversion\n",
      "2025-05-31 03:52:34,831 || INFO || MedRL-CoT Setup - Successful conversion!\n",
      "\n",
      "Classifying prompts:  56%|███████████████████████████████████████████████████████████████████████████████████▎                                                                  | 5/9 [01:40<01:15, 18.88s/it]\u001b[A2025-05-31 03:53:06,497 || INFO || MedRL-CoT Setup - Successful JSON parsed!\n",
      "\n",
      "Classifying prompts:  67%|████████████████████████████████████████████████████████████████████████████████████████████████████                                                  | 6/9 [02:12<01:09, 23.22s/it]\u001b[A2025-05-31 03:53:40,130 || INFO || MedRL-CoT Setup - Successful JSON parsed!\n",
      "\n",
      "Classifying prompts:  78%|████████████████████████████████████████████████████████████████████████████████████████████████████████████████████▋                                 | 7/9 [02:46<00:53, 26.63s/it]\u001b[A2025-05-31 03:53:49,827 || INFO || MedRL-CoT Setup - Successful JSON parsed!\n",
      "\n",
      "Classifying prompts:  89%|█████████████████████████████████████████████████████████████████████████████████████████████████████████████████████████████████████▎                | 8/9 [02:55<00:21, 21.24s/it]\u001b[A2025-05-31 03:53:57,181 || INFO || MedRL-CoT Setup - Successful JSON parsed!\n",
      "\n",
      "Classifying prompts: 100%|██████████████████████████████████████████████████████████████████████████████████████████████████████████████████████████████████████████████████████| 9/9 [03:03<00:00, 16.90s/it]\u001b[A\n",
      "                                                                                                                                                                                                              \u001b[A2025-05-31 03:53:57,185 || INFO || MedRL-CoT Setup - Dumping checkpoint\n"
     ]
    },
    {
     "data": {
      "application/vnd.jupyter.widget-view+json": {
       "model_id": "f968a631ee2a415fb19bd9750d62ae60",
       "version_major": 2,
       "version_minor": 0
      },
      "text/plain": [
       "Saving the dataset (0/1 shards):   0%|          | 0/5386 [00:00<?, ? examples/s]"
      ]
     },
     "metadata": {},
     "output_type": "display_data"
    },
    {
     "name": "stderr",
     "output_type": "stream",
     "text": [
      "Preprocessing dataset:   1%|█▏                                                                                                                                       | 258/30000 [29:59<908:41:58, 109.99s/it]2025-05-31 03:53:57,243 || INFO || MedRL-CoT Setup - Preprocessing example 258\n",
      "\n",
      "Classifying prompts:   0%|                                                                                                                                                              | 0/2 [00:00<?, ?it/s]\u001b[A2025-05-31 03:54:46,184 || ERROR || MedRL-CoT Setup - Nothing found, bad example!\n",
      "\n",
      "Classifying prompts:  50%|███████████████████████████████████████████████████████████████████████████                                                                           | 1/2 [00:48<00:48, 48.83s/it]\u001b[A2025-05-31 03:55:15,411 || WARNING || MedRL-CoT Setup - Invalid JSON, trying conversion\n",
      "2025-05-31 03:55:15,412 || INFO || MedRL-CoT Setup - Successful conversion!\n",
      "\n",
      "Classifying prompts: 100%|██████████████████████████████████████████████████████████████████████████████████████████████████████████████████████████████████████████████████████| 2/2 [01:18<00:00, 37.30s/it]\u001b[A\n",
      "                                                                                                                                                                                                              \u001b[A2025-05-31 03:55:15,417 || INFO || MedRL-CoT Setup - Dumping checkpoint\n"
     ]
    },
    {
     "data": {
      "application/vnd.jupyter.widget-view+json": {
       "model_id": "bc0c774c3a59456bb90094e1c5b0235a",
       "version_major": 2,
       "version_minor": 0
      },
      "text/plain": [
       "Saving the dataset (0/1 shards):   0%|          | 0/5394 [00:00<?, ? examples/s]"
      ]
     },
     "metadata": {},
     "output_type": "display_data"
    },
    {
     "name": "stderr",
     "output_type": "stream",
     "text": [
      "Preprocessing dataset:   1%|█▏                                                                                                                                       | 259/30000 [31:17<838:50:59, 101.54s/it]2025-05-31 03:55:15,477 || INFO || MedRL-CoT Setup - Preprocessing example 259\n",
      "\n",
      "Classifying prompts:   0%|                                                                                                                                                              | 0/3 [00:00<?, ?it/s]\u001b[A2025-05-31 03:55:32,093 || INFO || MedRL-CoT Setup - Successful JSON parsed!\n",
      "\n",
      "Classifying prompts:  33%|██████████████████████████████████████████████████                                                                                                    | 1/3 [00:16<00:33, 16.50s/it]\u001b[A2025-05-31 03:55:47,681 || WARNING || MedRL-CoT Setup - Invalid JSON, trying conversion\n",
      "2025-05-31 03:55:47,682 || INFO || MedRL-CoT Setup - Successful conversion!\n",
      "\n",
      "Classifying prompts:  67%|████████████████████████████████████████████████████████████████████████████████████████████████████                                                  | 2/3 [00:32<00:15, 15.97s/it]\u001b[A2025-05-31 03:56:13,186 || WARNING || MedRL-CoT Setup - Invalid JSON, trying conversion\n",
      "2025-05-31 03:56:13,187 || INFO || MedRL-CoT Setup - Successful conversion!\n",
      "\n",
      "Classifying prompts: 100%|██████████████████████████████████████████████████████████████████████████████████████████████████████████████████████████████████████████████████████| 3/3 [00:57<00:00, 20.32s/it]\u001b[A\n",
      "                                                                                                                                                                                                              \u001b[A2025-05-31 03:56:13,191 || INFO || MedRL-CoT Setup - Dumping checkpoint\n"
     ]
    },
    {
     "data": {
      "application/vnd.jupyter.widget-view+json": {
       "model_id": "81fa2c84963f49aa8b93d909f08de213",
       "version_major": 2,
       "version_minor": 0
      },
      "text/plain": [
       "Saving the dataset (0/1 shards):   0%|          | 0/5412 [00:00<?, ? examples/s]"
      ]
     },
     "metadata": {},
     "output_type": "display_data"
    },
    {
     "name": "stderr",
     "output_type": "stream",
     "text": [
      "Preprocessing dataset:   1%|█▏                                                                                                                                        | 260/30000 [32:15<739:13:34, 89.48s/it]2025-05-31 03:56:13,249 || INFO || MedRL-CoT Setup - Preprocessing example 260\n",
      "\n",
      "Classifying prompts:   0%|                                                                                                                                                              | 0/4 [00:00<?, ?it/s]\u001b[A2025-05-31 03:56:26,096 || WARNING || MedRL-CoT Setup - Invalid JSON, trying conversion\n",
      "2025-05-31 03:56:26,097 || INFO || MedRL-CoT Setup - Successful conversion!\n",
      "\n",
      "Classifying prompts:  25%|█████████████████████████████████████▌                                                                                                                | 1/4 [00:12<00:38, 12.74s/it]\u001b[A2025-05-31 03:56:52,519 || INFO || MedRL-CoT Setup - Successful JSON parsed!\n",
      "\n",
      "Classifying prompts:  50%|███████████████████████████████████████████████████████████████████████████                                                                           | 2/4 [00:39<00:41, 20.79s/it]\u001b[A2025-05-31 03:57:24,569 || WARNING || MedRL-CoT Setup - Invalid JSON, trying conversion\n",
      "2025-05-31 03:57:24,570 || INFO || MedRL-CoT Setup - Successful conversion!\n",
      "\n",
      "Classifying prompts:  75%|████████████████████████████████████████████████████████████████████████████████████████████████████████████████▌                                     | 3/4 [01:11<00:25, 25.93s/it]\u001b[A2025-05-31 03:57:34,576 || WARNING || MedRL-CoT Setup - Invalid JSON, trying conversion\n",
      "2025-05-31 03:57:34,577 || INFO || MedRL-CoT Setup - Successful conversion!\n",
      "\n",
      "Classifying prompts: 100%|██████████████████████████████████████████████████████████████████████████████████████████████████████████████████████████████████████████████████████| 4/4 [01:21<00:00, 19.64s/it]\u001b[A\n",
      "                                                                                                                                                                                                              \u001b[A2025-05-31 03:57:34,581 || INFO || MedRL-CoT Setup - Dumping checkpoint\n"
     ]
    },
    {
     "data": {
      "application/vnd.jupyter.widget-view+json": {
       "model_id": "4d7c6a126c844d1bb16c90fbadae6037",
       "version_major": 2,
       "version_minor": 0
      },
      "text/plain": [
       "Saving the dataset (0/1 shards):   0%|          | 0/5433 [00:00<?, ? examples/s]"
      ]
     },
     "metadata": {},
     "output_type": "display_data"
    },
    {
     "name": "stderr",
     "output_type": "stream",
     "text": [
      "Preprocessing dataset:   1%|█▏                                                                                                                                        | 261/30000 [33:37<720:19:20, 87.20s/it]2025-05-31 03:57:34,638 || INFO || MedRL-CoT Setup - Preprocessing example 261\n",
      "\n",
      "Classifying prompts:   0%|                                                                                                                                                              | 0/3 [00:00<?, ?it/s]\u001b[A2025-05-31 03:57:51,821 || WARNING || MedRL-CoT Setup - Invalid JSON, trying conversion\n",
      "2025-05-31 03:57:51,822 || INFO || MedRL-CoT Setup - Successful conversion!\n",
      "\n",
      "Classifying prompts:  33%|██████████████████████████████████████████████████                                                                                                    | 1/3 [00:17<00:34, 17.07s/it]\u001b[A2025-05-31 03:58:20,566 || WARNING || MedRL-CoT Setup - Invalid JSON, trying conversion\n",
      "2025-05-31 03:58:20,568 || INFO || MedRL-CoT Setup - Successful conversion!\n",
      "\n",
      "Classifying prompts:  67%|████████████████████████████████████████████████████████████████████████████████████████████████████                                                  | 2/3 [00:45<00:23, 23.94s/it]\u001b[A2025-05-31 03:58:47,263 || WARNING || MedRL-CoT Setup - Invalid JSON, trying conversion\n",
      "2025-05-31 03:58:47,264 || INFO || MedRL-CoT Setup - Successful conversion!\n",
      "\n",
      "Classifying prompts: 100%|██████████████████████████████████████████████████████████████████████████████████████████████████████████████████████████████████████████████████████| 3/3 [01:12<00:00, 25.20s/it]\u001b[A\n",
      "                                                                                                                                                                                                              \u001b[A2025-05-31 03:58:47,268 || INFO || MedRL-CoT Setup - Dumping checkpoint\n"
     ]
    },
    {
     "data": {
      "application/vnd.jupyter.widget-view+json": {
       "model_id": "ff9125e98e39450f95e0bbd7f5c19966",
       "version_major": 2,
       "version_minor": 0
      },
      "text/plain": [
       "Saving the dataset (0/1 shards):   0%|          | 0/5457 [00:00<?, ? examples/s]"
      ]
     },
     "metadata": {},
     "output_type": "display_data"
    },
    {
     "name": "stderr",
     "output_type": "stream",
     "text": [
      "Preprocessing dataset:   1%|█▏                                                                                                                                        | 262/30000 [34:49<685:50:53, 83.03s/it]2025-05-31 03:58:47,328 || INFO || MedRL-CoT Setup - Preprocessing example 262\n",
      "\n",
      "Classifying prompts:   0%|                                                                                                                                                              | 0/4 [00:00<?, ?it/s]\u001b[A2025-05-31 03:59:47,503 || ERROR || MedRL-CoT Setup - Nothing found, bad example!\n",
      "\n",
      "Classifying prompts:  25%|█████████████████████████████████████▌                                                                                                                | 1/4 [01:00<03:00, 60.07s/it]\u001b[A2025-05-31 04:00:16,676 || WARNING || MedRL-CoT Setup - Invalid JSON, trying conversion\n",
      "2025-05-31 04:00:16,677 || INFO || MedRL-CoT Setup - Successful conversion!\n",
      "\n",
      "Classifying prompts:  50%|███████████████████████████████████████████████████████████████████████████                                                                           | 2/4 [01:29<01:23, 41.89s/it]\u001b[A2025-05-31 04:00:58,767 || WARNING || MedRL-CoT Setup - Invalid JSON, trying conversion\n",
      "2025-05-31 04:00:58,768 || INFO || MedRL-CoT Setup - Successful conversion!\n",
      "\n",
      "Classifying prompts:  75%|████████████████████████████████████████████████████████████████████████████████████████████████████████████████▌                                     | 3/4 [02:11<00:41, 41.98s/it]\u001b[A2025-05-31 04:01:51,362 || ERROR || MedRL-CoT Setup - Nothing found, bad example!\n",
      "\n",
      "Classifying prompts: 100%|██████████████████████████████████████████████████████████████████████████████████████████████████████████████████████████████████████████████████████| 4/4 [03:03<00:00, 46.17s/it]\u001b[A\n",
      "                                                                                                                                                                                                              \u001b[A2025-05-31 04:01:51,367 || INFO || MedRL-CoT Setup - Dumping checkpoint\n"
     ]
    },
    {
     "data": {
      "application/vnd.jupyter.widget-view+json": {
       "model_id": "a42471b0b8e34ba3a8292560bb8de034",
       "version_major": 2,
       "version_minor": 0
      },
      "text/plain": [
       "Saving the dataset (0/1 shards):   0%|          | 0/5481 [00:00<?, ? examples/s]"
      ]
     },
     "metadata": {},
     "output_type": "display_data"
    },
    {
     "name": "stderr",
     "output_type": "stream",
     "text": [
      "Preprocessing dataset:   1%|█▏                                                                                                                                       | 263/30000 [37:53<928:51:42, 112.45s/it]2025-05-31 04:01:51,426 || INFO || MedRL-CoT Setup - Preprocessing example 263\n",
      "\n",
      "Classifying prompts:   0%|                                                                                                                                                              | 0/1 [00:00<?, ?it/s]\u001b[A2025-05-31 04:03:22,300 || ERROR || MedRL-CoT Setup - Nothing found, bad example!\n",
      "\n",
      "Classifying prompts: 100%|██████████████████████████████████████████████████████████████████████████████████████████████████████████████████████████████████████████████████████| 1/1 [01:30<00:00, 90.76s/it]\u001b[A\n",
      "                                                                                                                                                                                                              \u001b[A2025-05-31 04:03:22,305 || INFO || MedRL-CoT Setup - Dumping checkpoint\n"
     ]
    },
    {
     "data": {
      "application/vnd.jupyter.widget-view+json": {
       "model_id": "43c96bc3d3eb43e5adc996b11a8545dc",
       "version_major": 2,
       "version_minor": 0
      },
      "text/plain": [
       "Saving the dataset (0/1 shards):   0%|          | 0/5481 [00:00<?, ? examples/s]"
      ]
     },
     "metadata": {},
     "output_type": "display_data"
    },
    {
     "name": "stderr",
     "output_type": "stream",
     "text": [
      "Preprocessing dataset:   1%|█▏                                                                                                                                       | 264/30000 [39:24<876:38:19, 106.13s/it]2025-05-31 04:03:22,363 || INFO || MedRL-CoT Setup - Preprocessing example 264\n",
      "\n",
      "Classifying prompts:   0%|                                                                                                                                                              | 0/2 [00:00<?, ?it/s]\u001b[A2025-05-31 04:04:42,467 || ERROR || MedRL-CoT Setup - Nothing found, bad example!\n",
      "\n",
      "Classifying prompts:  50%|███████████████████████████████████████████████████████████████████████████                                                                           | 1/2 [01:19<01:19, 79.99s/it]\u001b[A2025-05-31 04:04:59,359 || WARNING || MedRL-CoT Setup - Invalid JSON, trying conversion\n",
      "2025-05-31 04:04:59,360 || INFO || MedRL-CoT Setup - Successful conversion!\n",
      "\n",
      "Classifying prompts: 100%|██████████████████████████████████████████████████████████████████████████████████████████████████████████████████████████████████████████████████████| 2/2 [01:36<00:00, 42.88s/it]\u001b[A\n",
      "                                                                                                                                                                                                              \u001b[A2025-05-31 04:04:59,364 || INFO || MedRL-CoT Setup - Dumping checkpoint\n"
     ]
    },
    {
     "data": {
      "application/vnd.jupyter.widget-view+json": {
       "model_id": "930945c3793748089a3da01dda50330a",
       "version_major": 2,
       "version_minor": 0
      },
      "text/plain": [
       "Saving the dataset (0/1 shards):   0%|          | 0/5486 [00:00<?, ? examples/s]"
      ]
     },
     "metadata": {},
     "output_type": "display_data"
    },
    {
     "name": "stderr",
     "output_type": "stream",
     "text": [
      "Preprocessing dataset:   1%|█▏                                                                                                                                       | 265/30000 [41:01<854:27:50, 103.45s/it]2025-05-31 04:04:59,422 || INFO || MedRL-CoT Setup - Preprocessing example 265\n",
      "\n",
      "Classifying prompts:   0%|                                                                                                                                                              | 0/2 [00:00<?, ?it/s]\u001b[A2025-05-31 04:06:30,752 || ERROR || MedRL-CoT Setup - Nothing found, bad example!\n",
      "\n",
      "Classifying prompts:  50%|███████████████████████████████████████████████████████████████████████████                                                                           | 1/2 [01:31<01:31, 91.22s/it]\u001b[A2025-05-31 04:06:59,770 || ERROR || MedRL-CoT Setup - Nothing found, bad example!\n",
      "\n",
      "Classifying prompts: 100%|██████████████████████████████████████████████████████████████████████████████████████████████████████████████████████████████████████████████████████| 2/2 [02:00<00:00, 54.63s/it]\u001b[A\n",
      "                                                                                                                                                                                                              \u001b[A2025-05-31 04:06:59,775 || INFO || MedRL-CoT Setup - Dumping checkpoint\n"
     ]
    },
    {
     "data": {
      "application/vnd.jupyter.widget-view+json": {
       "model_id": "1c0a20e06c3a43d88f51462bbc4a71a2",
       "version_major": 2,
       "version_minor": 0
      },
      "text/plain": [
       "Saving the dataset (0/1 shards):   0%|          | 0/5486 [00:00<?, ? examples/s]"
      ]
     },
     "metadata": {},
     "output_type": "display_data"
    },
    {
     "name": "stderr",
     "output_type": "stream",
     "text": [
      "Preprocessing dataset:   1%|█▏                                                                                                                                       | 266/30000 [43:02<896:01:53, 108.49s/it]2025-05-31 04:06:59,835 || INFO || MedRL-CoT Setup - Preprocessing example 266\n",
      "\n",
      "Classifying prompts:   0%|                                                                                                                                                              | 0/2 [00:00<?, ?it/s]\u001b[A2025-05-31 04:08:31,151 || ERROR || MedRL-CoT Setup - Nothing found, bad example!\n",
      "\n",
      "Classifying prompts:  50%|███████████████████████████████████████████████████████████████████████████                                                                           | 1/2 [01:31<01:31, 91.21s/it]\u001b[A2025-05-31 04:09:00,200 || ERROR || MedRL-CoT Setup - Nothing found, bad example!\n",
      "\n",
      "Classifying prompts: 100%|██████████████████████████████████████████████████████████████████████████████████████████████████████████████████████████████████████████████████████| 2/2 [02:00<00:00, 54.64s/it]\u001b[A\n",
      "                                                                                                                                                                                                              \u001b[A2025-05-31 04:09:00,205 || INFO || MedRL-CoT Setup - Dumping checkpoint\n"
     ]
    },
    {
     "data": {
      "application/vnd.jupyter.widget-view+json": {
       "model_id": "2822eab2aae84b4c842a951c16adce67",
       "version_major": 2,
       "version_minor": 0
      },
      "text/plain": [
       "Saving the dataset (0/1 shards):   0%|          | 0/5486 [00:00<?, ? examples/s]"
      ]
     },
     "metadata": {},
     "output_type": "display_data"
    },
    {
     "name": "stderr",
     "output_type": "stream",
     "text": [
      "Preprocessing dataset:   1%|█▏                                                                                                                                       | 267/30000 [45:02<925:22:29, 112.04s/it]2025-05-31 04:09:00,263 || INFO || MedRL-CoT Setup - Preprocessing example 267\n",
      "\n",
      "Classifying prompts:   0%|                                                                                                                                                              | 0/2 [00:00<?, ?it/s]\u001b[A2025-05-31 04:10:31,610 || ERROR || MedRL-CoT Setup - Nothing found, bad example!\n",
      "\n",
      "Classifying prompts:  50%|███████████████████████████████████████████████████████████████████████████                                                                           | 1/2 [01:31<01:31, 91.24s/it]\u001b[A2025-05-31 04:11:00,647 || ERROR || MedRL-CoT Setup - Nothing found, bad example!\n",
      "\n",
      "Classifying prompts: 100%|██████████████████████████████████████████████████████████████████████████████████████████████████████████████████████████████████████████████████████| 2/2 [02:00<00:00, 54.65s/it]\u001b[A\n",
      "                                                                                                                                                                                                              \u001b[A2025-05-31 04:11:00,652 || INFO || MedRL-CoT Setup - Dumping checkpoint\n"
     ]
    },
    {
     "data": {
      "application/vnd.jupyter.widget-view+json": {
       "model_id": "dccdb202354c4520bd4948cbcf3975f3",
       "version_major": 2,
       "version_minor": 0
      },
      "text/plain": [
       "Saving the dataset (0/1 shards):   0%|          | 0/5486 [00:00<?, ? examples/s]"
      ]
     },
     "metadata": {},
     "output_type": "display_data"
    },
    {
     "name": "stderr",
     "output_type": "stream",
     "text": [
      "Preprocessing dataset:   1%|█▏                                                                                                                                       | 268/30000 [47:03<946:04:02, 114.55s/it]2025-05-31 04:11:00,712 || INFO || MedRL-CoT Setup - Preprocessing example 268\n",
      "\n",
      "Classifying prompts:   0%|                                                                                                                                                              | 0/1 [00:00<?, ?it/s]\u001b[A2025-05-31 04:12:31,908 || WARNING || MedRL-CoT Setup - Invalid JSON, trying conversion\n",
      "2025-05-31 04:12:31,909 || INFO || MedRL-CoT Setup - Successful conversion!\n",
      "\n",
      "Classifying prompts: 100%|██████████████████████████████████████████████████████████████████████████████████████████████████████████████████████████████████████████████████████| 1/1 [01:31<00:00, 91.09s/it]\u001b[A\n",
      "                                                                                                                                                                                                              \u001b[A2025-05-31 04:12:31,913 || INFO || MedRL-CoT Setup - Dumping checkpoint\n"
     ]
    },
    {
     "data": {
      "application/vnd.jupyter.widget-view+json": {
       "model_id": "60e8df3374364fcda0fc72b6306009de",
       "version_major": 2,
       "version_minor": 0
      },
      "text/plain": [
       "Saving the dataset (0/1 shards):   0%|          | 0/5512 [00:00<?, ? examples/s]"
      ]
     },
     "metadata": {},
     "output_type": "display_data"
    },
    {
     "name": "stderr",
     "output_type": "stream",
     "text": [
      "Preprocessing dataset:   1%|█▏                                                                                                                                       | 269/30000 [48:34<888:32:21, 107.59s/it]2025-05-31 04:12:31,973 || INFO || MedRL-CoT Setup - Preprocessing example 269\n",
      "\n",
      "Classifying prompts:   0%|                                                                                                                                                              | 0/8 [00:00<?, ?it/s]\u001b[A2025-05-31 04:12:46,653 || WARNING || MedRL-CoT Setup - Invalid JSON, trying conversion\n",
      "2025-05-31 04:12:46,654 || INFO || MedRL-CoT Setup - Successful conversion!\n",
      "\n",
      "Classifying prompts:  12%|██████████████████▊                                                                                                                                   | 1/8 [00:14<01:41, 14.57s/it]\u001b[A2025-05-31 04:12:56,422 || INFO || MedRL-CoT Setup - Successful JSON parsed!\n",
      "\n",
      "Classifying prompts:  25%|█████████████████████████████████████▌                                                                                                                | 2/8 [00:24<01:10, 11.75s/it]\u001b[A2025-05-31 04:13:07,604 || WARNING || MedRL-CoT Setup - Invalid JSON, trying conversion\n",
      "2025-05-31 04:13:07,605 || INFO || MedRL-CoT Setup - Successful conversion!\n",
      "\n",
      "Classifying prompts:  38%|████████████████████████████████████████████████████████▎                                                                                             | 3/8 [00:35<00:57, 11.49s/it]\u001b[A2025-05-31 04:13:20,883 || WARNING || MedRL-CoT Setup - Invalid JSON, trying conversion\n",
      "2025-05-31 04:13:20,884 || INFO || MedRL-CoT Setup - Successful conversion!\n",
      "\n",
      "Classifying prompts:  50%|███████████████████████████████████████████████████████████████████████████                                                                           | 4/8 [00:48<00:48, 12.20s/it]\u001b[A2025-05-31 04:13:31,208 || WARNING || MedRL-CoT Setup - Invalid JSON, trying conversion\n",
      "2025-05-31 04:13:31,209 || INFO || MedRL-CoT Setup - Successful conversion!\n",
      "\n",
      "Classifying prompts:  62%|█████████████████████████████████████████████████████████████████████████████████████████████▊                                                        | 5/8 [00:59<00:34, 11.52s/it]\u001b[A2025-05-31 04:13:40,905 || WARNING || MedRL-CoT Setup - Invalid JSON, trying conversion\n",
      "2025-05-31 04:13:40,906 || INFO || MedRL-CoT Setup - Successful conversion!\n",
      "\n",
      "Classifying prompts:  75%|████████████████████████████████████████████████████████████████████████████████████████████████████████████████▌                                     | 6/8 [01:08<00:21, 10.90s/it]\u001b[A2025-05-31 04:13:54,155 || WARNING || MedRL-CoT Setup - Invalid JSON, trying conversion\n",
      "2025-05-31 04:13:54,156 || INFO || MedRL-CoT Setup - Successful conversion!\n",
      "\n",
      "Classifying prompts:  88%|███████████████████████████████████████████████████████████████████████████████████████████████████████████████████████████████████▎                  | 7/8 [01:22<00:11, 11.67s/it]\u001b[A2025-05-31 04:14:00,490 || INFO || MedRL-CoT Setup - Successful JSON parsed!\n",
      "\n",
      "Classifying prompts: 100%|██████████████████████████████████████████████████████████████████████████████████████████████████████████████████████████████████████████████████████| 8/8 [01:28<00:00,  9.97s/it]\u001b[A\n",
      "                                                                                                                                                                                                              \u001b[A2025-05-31 04:14:00,495 || INFO || MedRL-CoT Setup - Dumping checkpoint\n"
     ]
    },
    {
     "data": {
      "application/vnd.jupyter.widget-view+json": {
       "model_id": "8564602a5dca432880f4c27810141266",
       "version_major": 2,
       "version_minor": 0
      },
      "text/plain": [
       "Saving the dataset (0/1 shards):   0%|          | 0/5536 [00:00<?, ? examples/s]"
      ]
     },
     "metadata": {},
     "output_type": "display_data"
    },
    {
     "name": "stderr",
     "output_type": "stream",
     "text": [
      "Preprocessing dataset:   1%|█▏                                                                                                                                       | 270/30000 [50:02<841:32:00, 101.90s/it]2025-05-31 04:14:00,554 || INFO || MedRL-CoT Setup - Preprocessing example 270\n",
      "\n",
      "Classifying prompts:   0%|                                                                                                                                                              | 0/1 [00:00<?, ?it/s]\u001b[A2025-05-31 04:15:32,616 || ERROR || MedRL-CoT Setup - Nothing found, bad example!\n",
      "\n",
      "Classifying prompts: 100%|██████████████████████████████████████████████████████████████████████████████████████████████████████████████████████████████████████████████████████| 1/1 [01:31<00:00, 91.95s/it]\u001b[A\n",
      "                                                                                                                                                                                                              \u001b[A2025-05-31 04:15:32,621 || INFO || MedRL-CoT Setup - Dumping checkpoint\n"
     ]
    },
    {
     "data": {
      "application/vnd.jupyter.widget-view+json": {
       "model_id": "6941327eb0a6401c87722e050d190d9f",
       "version_major": 2,
       "version_minor": 0
      },
      "text/plain": [
       "Saving the dataset (0/1 shards):   0%|          | 0/5536 [00:00<?, ? examples/s]"
      ]
     },
     "metadata": {},
     "output_type": "display_data"
    },
    {
     "name": "stderr",
     "output_type": "stream",
     "text": [
      "Preprocessing dataset:   1%|█▏                                                                                                                                        | 271/30000 [51:35<817:19:46, 98.97s/it]2025-05-31 04:15:32,680 || INFO || MedRL-CoT Setup - Preprocessing example 271\n",
      "\n",
      "Classifying prompts:   0%|                                                                                                                                                              | 0/3 [00:00<?, ?it/s]\u001b[A2025-05-31 04:16:30,803 || ERROR || MedRL-CoT Setup - Nothing found, bad example!\n",
      "\n",
      "Classifying prompts:  33%|██████████████████████████████████████████████████                                                                                                    | 1/3 [00:58<01:56, 58.01s/it]\u001b[A2025-05-31 04:17:24,767 || WARNING || MedRL-CoT Setup - Invalid JSON, trying conversion\n",
      "2025-05-31 04:17:24,768 || INFO || MedRL-CoT Setup - Successful conversion!\n",
      "\n",
      "Classifying prompts:  67%|████████████████████████████████████████████████████████████████████████████████████████████████████                                                  | 2/3 [01:51<00:55, 55.63s/it]\u001b[A2025-05-31 04:17:44,477 || INFO || MedRL-CoT Setup - Successful JSON parsed!\n",
      "\n",
      "Classifying prompts: 100%|██████████████████████████████████████████████████████████████████████████████████████████████████████████████████████████████████████████████████████| 3/3 [02:11<00:00, 39.23s/it]\u001b[A\n",
      "                                                                                                                                                                                                              \u001b[A2025-05-31 04:17:44,482 || INFO || MedRL-CoT Setup - Dumping checkpoint\n"
     ]
    },
    {
     "data": {
      "application/vnd.jupyter.widget-view+json": {
       "model_id": "fc57f0caff5a40faa2658d7a2cbdf545",
       "version_major": 2,
       "version_minor": 0
      },
      "text/plain": [
       "Saving the dataset (0/1 shards):   0%|          | 0/5563 [00:00<?, ? examples/s]"
      ]
     },
     "metadata": {},
     "output_type": "display_data"
    },
    {
     "name": "stderr",
     "output_type": "stream",
     "text": [
      "Preprocessing dataset:   1%|█▏                                                                                                                                       | 272/30000 [53:46<898:41:03, 108.83s/it]2025-05-31 04:17:44,544 || INFO || MedRL-CoT Setup - Preprocessing example 272\n",
      "\n",
      "Classifying prompts:   0%|                                                                                                                                                              | 0/6 [00:00<?, ?it/s]\u001b[A2025-05-31 04:18:10,158 || WARNING || MedRL-CoT Setup - Invalid JSON, trying conversion\n",
      "2025-05-31 04:18:10,159 || INFO || MedRL-CoT Setup - Successful conversion!\n",
      "\n",
      "Classifying prompts:  17%|█████████████████████████                                                                                                                             | 1/6 [00:25<02:07, 25.50s/it]\u001b[A2025-05-31 04:18:32,845 || WARNING || MedRL-CoT Setup - Invalid JSON, trying conversion\n",
      "2025-05-31 04:18:32,846 || INFO || MedRL-CoT Setup - Successful conversion!\n",
      "\n",
      "Classifying prompts:  33%|██████████████████████████████████████████████████                                                                                                    | 2/6 [00:48<01:35, 23.85s/it]\u001b[A2025-05-31 04:19:41,737 || WARNING || MedRL-CoT Setup - Invalid JSON, trying conversion\n",
      "2025-05-31 04:19:41,738 || INFO || MedRL-CoT Setup - Successful conversion!\n",
      "\n",
      "Classifying prompts:  50%|███████████████████████████████████████████████████████████████████████████                                                                           | 3/6 [01:57<02:13, 44.42s/it]\u001b[A2025-05-31 04:20:04,059 || INFO || MedRL-CoT Setup - Successful JSON parsed!\n",
      "\n",
      "Classifying prompts:  67%|████████████████████████████████████████████████████████████████████████████████████████████████████                                                  | 4/6 [02:19<01:11, 35.69s/it]\u001b[A2025-05-31 04:21:20,663 || ERROR || MedRL-CoT Setup - Nothing found, bad example!\n",
      "\n",
      "Classifying prompts:  83%|█████████████████████████████████████████████████████████████████████████████████████████████████████████████████████████████                         | 5/6 [03:36<00:50, 50.45s/it]\u001b[A2025-05-31 04:21:44,184 || INFO || MedRL-CoT Setup - Successful JSON parsed!\n",
      "\n",
      "Classifying prompts: 100%|██████████████████████████████████████████████████████████████████████████████████████████████████████████████████████████████████████████████████████| 6/6 [03:59<00:00, 41.29s/it]\u001b[A\n",
      "                                                                                                                                                                                                              \u001b[A2025-05-31 04:21:44,189 || INFO || MedRL-CoT Setup - Dumping checkpoint\n"
     ]
    },
    {
     "data": {
      "application/vnd.jupyter.widget-view+json": {
       "model_id": "91d7011357a14695b1b25d444375ecfe",
       "version_major": 2,
       "version_minor": 0
      },
      "text/plain": [
       "Saving the dataset (0/1 shards):   0%|          | 0/5606 [00:00<?, ? examples/s]"
      ]
     },
     "metadata": {},
     "output_type": "display_data"
    },
    {
     "name": "stderr",
     "output_type": "stream",
     "text": [
      "Preprocessing dataset:   1%|█▏                                                                                                                                      | 273/30000 [57:46<1222:35:09, 148.06s/it]2025-05-31 04:21:44,249 || INFO || MedRL-CoT Setup - Preprocessing example 273\n",
      "\n",
      "Classifying prompts:   0%|                                                                                                                                                              | 0/3 [00:00<?, ?it/s]\u001b[A2025-05-31 04:22:01,031 || INFO || MedRL-CoT Setup - Successful JSON parsed!\n",
      "\n",
      "Classifying prompts:  33%|██████████████████████████████████████████████████                                                                                                    | 1/3 [00:16<00:33, 16.67s/it]\u001b[A2025-05-31 04:22:04,385 || WARNING || MedRL-CoT Setup - Invalid JSON, trying conversion\n",
      "2025-05-31 04:22:04,386 || INFO || MedRL-CoT Setup - Successful conversion!\n",
      "\n",
      "Classifying prompts:  67%|████████████████████████████████████████████████████████████████████████████████████████████████████                                                  | 2/3 [00:20<00:08,  8.84s/it]\u001b[A2025-05-31 04:22:20,950 || WARNING || MedRL-CoT Setup - Invalid JSON, trying conversion\n",
      "2025-05-31 04:22:20,950 || INFO || MedRL-CoT Setup - Successful conversion!\n",
      "\n",
      "Classifying prompts: 100%|██████████████████████████████████████████████████████████████████████████████████████████████████████████████████████████████████████████████████████| 3/3 [00:36<00:00, 12.37s/it]\u001b[A\n",
      "                                                                                                                                                                                                              \u001b[A2025-05-31 04:22:20,956 || INFO || MedRL-CoT Setup - Dumping checkpoint\n"
     ]
    },
    {
     "data": {
      "application/vnd.jupyter.widget-view+json": {
       "model_id": "ee470b76be6d4c08a5edea758886a5c6",
       "version_major": 2,
       "version_minor": 0
      },
      "text/plain": [
       "Saving the dataset (0/1 shards):   0%|          | 0/5616 [00:00<?, ? examples/s]"
      ]
     },
     "metadata": {},
     "output_type": "display_data"
    },
    {
     "name": "stderr",
     "output_type": "stream",
     "text": [
      "Preprocessing dataset:   1%|█▎                                                                                                                                       | 274/30000 [58:23<947:01:30, 114.69s/it]2025-05-31 04:22:21,016 || INFO || MedRL-CoT Setup - Preprocessing example 274\n",
      "\n",
      "Classifying prompts:   0%|                                                                                                                                                              | 0/5 [00:00<?, ?it/s]\u001b[A2025-05-31 04:22:30,163 || ERROR || MedRL-CoT Setup - Nothing found, bad example!\n",
      "\n",
      "Classifying prompts:  20%|██████████████████████████████                                                                                                                        | 1/5 [00:09<00:36,  9.04s/it]\u001b[A2025-05-31 04:23:01,972 || WARNING || MedRL-CoT Setup - Invalid JSON, trying conversion\n",
      "2025-05-31 04:23:01,973 || INFO || MedRL-CoT Setup - Successful conversion!\n",
      "\n",
      "Classifying prompts:  40%|████████████████████████████████████████████████████████████                                                                                          | 2/5 [00:40<01:07, 22.43s/it]\u001b[A2025-05-31 04:23:42,060 || INFO || MedRL-CoT Setup - Successful JSON parsed!\n",
      "\n",
      "Classifying prompts:  60%|██████████████████████████████████████████████████████████████████████████████████████████                                                            | 3/5 [01:20<01:00, 30.49s/it]\u001b[A2025-05-31 04:24:11,902 || WARNING || MedRL-CoT Setup - Invalid JSON, trying conversion\n",
      "2025-05-31 04:24:11,903 || INFO || MedRL-CoT Setup - Successful conversion!\n",
      "\n",
      "Classifying prompts:  80%|████████████████████████████████████████████████████████████████████████████████████████████████████████████████████████                              | 4/5 [01:50<00:30, 30.24s/it]\u001b[A2025-05-31 04:24:34,007 || WARNING || MedRL-CoT Setup - Invalid JSON, trying conversion\n",
      "2025-05-31 04:24:34,008 || INFO || MedRL-CoT Setup - Successful conversion!\n",
      "\n",
      "Classifying prompts: 100%|██████████████████████████████████████████████████████████████████████████████████████████████████████████████████████████████████████████████████████| 5/5 [02:12<00:00, 27.30s/it]\u001b[A\n",
      "                                                                                                                                                                                                              \u001b[A2025-05-31 04:24:34,012 || INFO || MedRL-CoT Setup - Dumping checkpoint\n"
     ]
    },
    {
     "data": {
      "application/vnd.jupyter.widget-view+json": {
       "model_id": "cbd73fbcf12743c697548233600cd714",
       "version_major": 2,
       "version_minor": 0
      },
      "text/plain": [
       "Saving the dataset (0/1 shards):   0%|          | 0/5657 [00:00<?, ? examples/s]"
      ]
     },
     "metadata": {},
     "output_type": "display_data"
    },
    {
     "name": "stderr",
     "output_type": "stream",
     "text": [
      "Preprocessing dataset:   1%|█▏                                                                                                                                     | 275/30000 [1:00:36<992:28:09, 120.20s/it]2025-05-31 04:24:34,072 || INFO || MedRL-CoT Setup - Preprocessing example 275\n",
      "\n",
      "Classifying prompts:   0%|                                                                                                                                                             | 0/10 [00:00<?, ?it/s]\u001b[A2025-05-31 04:25:16,132 || ERROR || MedRL-CoT Setup - Nothing found, bad example!\n",
      "\n",
      "Classifying prompts:  10%|██████████████▉                                                                                                                                      | 1/10 [00:41<06:17, 41.95s/it]\u001b[A2025-05-31 04:25:31,652 || WARNING || MedRL-CoT Setup - Invalid JSON, trying conversion\n",
      "2025-05-31 04:25:31,653 || INFO || MedRL-CoT Setup - Successful conversion!\n",
      "\n",
      "Classifying prompts:  20%|█████████████████████████████▊                                                                                                                       | 2/10 [00:57<03:31, 26.40s/it]\u001b[A2025-05-31 04:25:54,427 || WARNING || MedRL-CoT Setup - Invalid JSON, trying conversion\n",
      "2025-05-31 04:25:54,427 || INFO || MedRL-CoT Setup - Successful conversion!\n",
      "\n",
      "Classifying prompts:  30%|████████████████████████████████████████████▋                                                                                                        | 3/10 [01:20<02:53, 24.75s/it]\u001b[A2025-05-31 04:26:21,511 || WARNING || MedRL-CoT Setup - Invalid JSON, trying conversion\n",
      "2025-05-31 04:26:21,512 || INFO || MedRL-CoT Setup - Successful conversion!\n",
      "\n",
      "Classifying prompts:  40%|███████████████████████████████████████████████████████████▌                                                                                         | 4/10 [01:47<02:34, 25.67s/it]\u001b[A2025-05-31 04:26:47,635 || INFO || MedRL-CoT Setup - Successful JSON parsed!\n",
      "\n",
      "Classifying prompts:  50%|██████████████████████████████████████████████████████████████████████████▌                                                                          | 5/10 [02:13<02:09, 25.83s/it]\u001b[A2025-05-31 04:26:55,635 || INFO || MedRL-CoT Setup - Successful JSON parsed!\n",
      "\n",
      "Classifying prompts:  60%|█████████████████████████████████████████████████████████████████████████████████████████▍                                                           | 6/10 [02:21<01:19, 19.77s/it]\u001b[A2025-05-31 04:27:30,860 || WARNING || MedRL-CoT Setup - Invalid JSON, trying conversion\n",
      "2025-05-31 04:27:30,861 || INFO || MedRL-CoT Setup - Successful conversion!\n",
      "\n",
      "Classifying prompts:  70%|████████████████████████████████████████████████████████████████████████████████████████████████████████▎                                            | 7/10 [02:56<01:14, 24.82s/it]\u001b[A2025-05-31 04:28:08,947 || INFO || MedRL-CoT Setup - Successful JSON parsed!\n",
      "\n",
      "Classifying prompts:  80%|███████████████████████████████████████████████████████████████████████████████████████████████████████████████████████▏                             | 8/10 [03:34<00:58, 29.05s/it]\u001b[A2025-05-31 04:28:23,782 || WARNING || MedRL-CoT Setup - Invalid JSON, trying conversion\n",
      "2025-05-31 04:28:23,783 || INFO || MedRL-CoT Setup - Successful conversion!\n",
      "\n",
      "Classifying prompts:  90%|██████████████████████████████████████████████████████████████████████████████████████████████████████████████████████████████████████               | 9/10 [03:49<00:24, 24.60s/it]\u001b[A2025-05-31 04:28:59,997 || WARNING || MedRL-CoT Setup - Invalid JSON, trying conversion\n",
      "2025-05-31 04:28:59,998 || INFO || MedRL-CoT Setup - Successful conversion!\n",
      "\n",
      "Classifying prompts: 100%|████████████████████████████████████████████████████████████████████████████████████████████████████████████████████████████████████████████████████| 10/10 [04:25<00:00, 28.19s/it]\u001b[A\n",
      "                                                                                                                                                                                                              \u001b[A2025-05-31 04:29:00,002 || INFO || MedRL-CoT Setup - Dumping checkpoint\n"
     ]
    },
    {
     "data": {
      "application/vnd.jupyter.widget-view+json": {
       "model_id": "826646dd763144a3a8af356042f3ea8c",
       "version_major": 2,
       "version_minor": 0
      },
      "text/plain": [
       "Saving the dataset (0/1 shards):   0%|          | 0/5717 [00:00<?, ? examples/s]"
      ]
     },
     "metadata": {},
     "output_type": "display_data"
    },
    {
     "name": "stderr",
     "output_type": "stream",
     "text": [
      "Preprocessing dataset:   1%|█▏                                                                                                                                    | 276/30000 [1:05:02<1353:27:12, 163.92s/it]2025-05-31 04:29:00,062 || INFO || MedRL-CoT Setup - Preprocessing example 276\n",
      "\n",
      "Classifying prompts:   0%|                                                                                                                                                              | 0/2 [00:00<?, ?it/s]\u001b[A2025-05-31 04:29:51,729 || ERROR || MedRL-CoT Setup - Nothing found, bad example!\n",
      "\n",
      "Classifying prompts:  50%|███████████████████████████████████████████████████████████████████████████                                                                           | 1/2 [00:51<00:51, 51.56s/it]\u001b[A2025-05-31 04:30:08,720 || WARNING || MedRL-CoT Setup - Invalid JSON, trying conversion\n",
      "2025-05-31 04:30:08,721 || INFO || MedRL-CoT Setup - Successful conversion!\n",
      "\n",
      "Classifying prompts: 100%|██████████████████████████████████████████████████████████████████████████████████████████████████████████████████████████████████████████████████████| 2/2 [01:08<00:00, 31.22s/it]\u001b[A\n",
      "                                                                                                                                                                                                              \u001b[A2025-05-31 04:30:08,725 || INFO || MedRL-CoT Setup - Dumping checkpoint\n"
     ]
    },
    {
     "data": {
      "application/vnd.jupyter.widget-view+json": {
       "model_id": "2df7eb7628fe4b768ec18029c1d6859e",
       "version_major": 2,
       "version_minor": 0
      },
      "text/plain": [
       "Saving the dataset (0/1 shards):   0%|          | 0/5724 [00:00<?, ? examples/s]"
      ]
     },
     "metadata": {},
     "output_type": "display_data"
    },
    {
     "name": "stderr",
     "output_type": "stream",
     "text": [
      "Preprocessing dataset:   1%|█▏                                                                                                                                    | 277/30000 [1:06:11<1117:39:29, 135.37s/it]2025-05-31 04:30:08,786 || INFO || MedRL-CoT Setup - Preprocessing example 277\n",
      "\n",
      "Classifying prompts:   0%|                                                                                                                                                              | 0/1 [00:00<?, ?it/s]\u001b[A2025-05-31 04:31:42,869 || ERROR || MedRL-CoT Setup - Nothing found, bad example!\n",
      "\n",
      "Classifying prompts: 100%|██████████████████████████████████████████████████████████████████████████████████████████████████████████████████████████████████████████████████████| 1/1 [01:33<00:00, 93.97s/it]\u001b[A\n",
      "                                                                                                                                                                                                              \u001b[A2025-05-31 04:31:42,873 || INFO || MedRL-CoT Setup - Dumping checkpoint\n"
     ]
    },
    {
     "data": {
      "application/vnd.jupyter.widget-view+json": {
       "model_id": "edd7fc7581fd440fad1698067d78ccc9",
       "version_major": 2,
       "version_minor": 0
      },
      "text/plain": [
       "Saving the dataset (0/1 shards):   0%|          | 0/5724 [00:00<?, ? examples/s]"
      ]
     },
     "metadata": {},
     "output_type": "display_data"
    },
    {
     "name": "stderr",
     "output_type": "stream",
     "text": [
      "Preprocessing dataset:   1%|█▏                                                                                                                                    | 278/30000 [1:07:45<1015:32:18, 123.00s/it]2025-05-31 04:31:42,934 || INFO || MedRL-CoT Setup - Preprocessing example 278\n",
      "\n",
      "Classifying prompts:   0%|                                                                                                                                                              | 0/3 [00:00<?, ?it/s]\u001b[A2025-05-31 04:32:10,196 || WARNING || MedRL-CoT Setup - Invalid JSON, trying conversion\n",
      "2025-05-31 04:32:10,197 || INFO || MedRL-CoT Setup - Successful conversion!\n",
      "\n",
      "Classifying prompts:  33%|██████████████████████████████████████████████████                                                                                                    | 1/3 [00:27<00:54, 27.15s/it]\u001b[A2025-05-31 04:32:22,560 || INFO || MedRL-CoT Setup - Successful JSON parsed!\n",
      "\n",
      "Classifying prompts:  67%|████████████████████████████████████████████████████████████████████████████████████████████████████                                                  | 2/3 [00:39<00:18, 18.45s/it]\u001b[A2025-05-31 04:32:43,422 || WARNING || MedRL-CoT Setup - Invalid JSON, trying conversion\n",
      "2025-05-31 04:32:43,423 || INFO || MedRL-CoT Setup - Successful conversion!\n",
      "\n",
      "Classifying prompts: 100%|██████████████████████████████████████████████████████████████████████████████████████████████████████████████████████████████████████████████████████| 3/3 [01:00<00:00, 19.55s/it]\u001b[A\n",
      "                                                                                                                                                                                                              \u001b[A2025-05-31 04:32:43,428 || INFO || MedRL-CoT Setup - Dumping checkpoint\n"
     ]
    },
    {
     "data": {
      "application/vnd.jupyter.widget-view+json": {
       "model_id": "a1ebbea21bee45c687d8a0beb9eef271",
       "version_major": 2,
       "version_minor": 0
      },
      "text/plain": [
       "Saving the dataset (0/1 shards):   0%|          | 0/5743 [00:00<?, ? examples/s]"
      ]
     },
     "metadata": {},
     "output_type": "display_data"
    },
    {
     "name": "stderr",
     "output_type": "stream",
     "text": [
      "Preprocessing dataset:   1%|█▎                                                                                                                                     | 279/30000 [1:08:45<860:50:46, 104.27s/it]2025-05-31 04:32:43,488 || INFO || MedRL-CoT Setup - Preprocessing example 279\n",
      "\n",
      "Classifying prompts:   0%|                                                                                                                                                              | 0/5 [00:00<?, ?it/s]\u001b[A2025-05-31 04:33:14,664 || INFO || MedRL-CoT Setup - Successful JSON parsed!\n",
      "\n",
      "Classifying prompts:  20%|██████████████████████████████                                                                                                                        | 1/5 [00:31<02:04, 31.07s/it]\u001b[A2025-05-31 04:33:40,601 || WARNING || MedRL-CoT Setup - Invalid JSON, trying conversion\n",
      "2025-05-31 04:33:40,602 || INFO || MedRL-CoT Setup - Successful conversion!\n",
      "\n",
      "Classifying prompts:  40%|████████████████████████████████████████████████████████████                                                                                          | 2/5 [00:57<01:24, 28.05s/it]\u001b[A2025-05-31 04:34:07,279 || WARNING || MedRL-CoT Setup - Invalid JSON, trying conversion\n",
      "2025-05-31 04:34:07,280 || INFO || MedRL-CoT Setup - Successful conversion!\n",
      "\n",
      "Classifying prompts:  60%|██████████████████████████████████████████████████████████████████████████████████████████                                                            | 3/5 [01:23<00:54, 27.42s/it]\u001b[A2025-05-31 04:34:14,179 || INFO || MedRL-CoT Setup - Successful JSON parsed!\n",
      "\n",
      "Classifying prompts:  80%|████████████████████████████████████████████████████████████████████████████████████████████████████████████████████████                              | 4/5 [01:30<00:19, 19.32s/it]\u001b[A2025-05-31 04:34:37,474 || WARNING || MedRL-CoT Setup - Invalid JSON, trying conversion\n",
      "2025-05-31 04:34:37,475 || INFO || MedRL-CoT Setup - Successful conversion!\n",
      "\n",
      "Classifying prompts: 100%|██████████████████████████████████████████████████████████████████████████████████████████████████████████████████████████████████████████████████████| 5/5 [01:53<00:00, 20.75s/it]\u001b[A\n",
      "                                                                                                                                                                                                              \u001b[A2025-05-31 04:34:37,480 || INFO || MedRL-CoT Setup - Dumping checkpoint\n"
     ]
    },
    {
     "data": {
      "application/vnd.jupyter.widget-view+json": {
       "model_id": "483952ca769340738cd9f0c1871a687a",
       "version_major": 2,
       "version_minor": 0
      },
      "text/plain": [
       "Saving the dataset (0/1 shards):   0%|          | 0/5774 [00:00<?, ? examples/s]"
      ]
     },
     "metadata": {},
     "output_type": "display_data"
    },
    {
     "name": "stderr",
     "output_type": "stream",
     "text": [
      "Preprocessing dataset:   1%|█▎                                                                                                                                     | 280/30000 [1:10:39<885:02:26, 107.21s/it]2025-05-31 04:34:37,541 || INFO || MedRL-CoT Setup - Preprocessing example 280\n",
      "\n",
      "Classifying prompts:   0%|                                                                                                                                                              | 0/5 [00:00<?, ?it/s]\u001b[A2025-05-31 04:35:01,048 || WARNING || MedRL-CoT Setup - Invalid JSON, trying conversion\n",
      "2025-05-31 04:35:01,048 || INFO || MedRL-CoT Setup - Successful conversion!\n",
      "\n",
      "Classifying prompts:  20%|██████████████████████████████                                                                                                                        | 1/5 [00:23<01:33, 23.40s/it]\u001b[A2025-05-31 04:35:09,138 || WARNING || MedRL-CoT Setup - Invalid JSON, trying conversion\n",
      "2025-05-31 04:35:09,139 || INFO || MedRL-CoT Setup - Successful conversion!\n",
      "\n",
      "Classifying prompts:  40%|████████████████████████████████████████████████████████████                                                                                          | 2/5 [00:31<00:43, 14.39s/it]\u001b[A2025-05-31 04:35:32,979 || WARNING || MedRL-CoT Setup - Invalid JSON, trying conversion\n",
      "2025-05-31 04:35:32,980 || INFO || MedRL-CoT Setup - Successful conversion!\n",
      "\n",
      "Classifying prompts:  60%|██████████████████████████████████████████████████████████████████████████████████████████                                                            | 3/5 [00:55<00:37, 18.71s/it]\u001b[A2025-05-31 04:35:54,693 || INFO || MedRL-CoT Setup - Successful JSON parsed!\n",
      "\n",
      "Classifying prompts:  80%|████████████████████████████████████████████████████████████████████████████████████████████████████████████████████████                              | 4/5 [01:17<00:19, 19.89s/it]\u001b[A2025-05-31 04:36:23,593 || ERROR || MedRL-CoT Setup - Nothing found, bad example!\n",
      "\n",
      "Classifying prompts: 100%|██████████████████████████████████████████████████████████████████████████████████████████████████████████████████████████████████████████████████████| 5/5 [01:45<00:00, 23.14s/it]\u001b[A\n",
      "                                                                                                                                                                                                              \u001b[A2025-05-31 04:36:23,597 || INFO || MedRL-CoT Setup - Dumping checkpoint\n"
     ]
    },
    {
     "data": {
      "application/vnd.jupyter.widget-view+json": {
       "model_id": "0176f2f654674d138d73bc49d9d81c5b",
       "version_major": 2,
       "version_minor": 0
      },
      "text/plain": [
       "Saving the dataset (0/1 shards):   0%|          | 0/5798 [00:00<?, ? examples/s]"
      ]
     },
     "metadata": {},
     "output_type": "display_data"
    },
    {
     "name": "stderr",
     "output_type": "stream",
     "text": [
      "Preprocessing dataset:   1%|█▎                                                                                                                                     | 281/30000 [1:12:26<882:18:57, 106.88s/it]2025-05-31 04:36:23,658 || INFO || MedRL-CoT Setup - Preprocessing example 281\n",
      "\n",
      "Classifying prompts:   0%|                                                                                                                                                              | 0/3 [00:00<?, ?it/s]\u001b[A2025-05-31 04:36:50,914 || WARNING || MedRL-CoT Setup - Invalid JSON, trying conversion\n",
      "2025-05-31 04:36:50,915 || INFO || MedRL-CoT Setup - Successful conversion!\n",
      "\n",
      "Classifying prompts:  33%|██████████████████████████████████████████████████                                                                                                    | 1/3 [00:27<00:54, 27.15s/it]\u001b[A2025-05-31 04:37:03,277 || INFO || MedRL-CoT Setup - Successful JSON parsed!\n",
      "\n",
      "Classifying prompts:  67%|████████████████████████████████████████████████████████████████████████████████████████████████████                                                  | 2/3 [00:39<00:18, 18.45s/it]\u001b[A2025-05-31 04:37:24,129 || WARNING || MedRL-CoT Setup - Invalid JSON, trying conversion\n",
      "2025-05-31 04:37:24,130 || INFO || MedRL-CoT Setup - Successful conversion!\n",
      "\n",
      "Classifying prompts: 100%|██████████████████████████████████████████████████████████████████████████████████████████████████████████████████████████████████████████████████████| 3/3 [01:00<00:00, 19.55s/it]\u001b[A\n",
      "                                                                                                                                                                                                              \u001b[A2025-05-31 04:37:24,135 || INFO || MedRL-CoT Setup - Dumping checkpoint\n"
     ]
    },
    {
     "data": {
      "application/vnd.jupyter.widget-view+json": {
       "model_id": "58df1699746243a69b0f7cb907c1f9ce",
       "version_major": 2,
       "version_minor": 0
      },
      "text/plain": [
       "Saving the dataset (0/1 shards):   0%|          | 0/5817 [00:00<?, ? examples/s]"
      ]
     },
     "metadata": {},
     "output_type": "display_data"
    },
    {
     "name": "stderr",
     "output_type": "stream",
     "text": [
      "Preprocessing dataset:   1%|█▎                                                                                                                                      | 282/30000 [1:13:26<767:31:35, 92.98s/it]2025-05-31 04:37:24,196 || INFO || MedRL-CoT Setup - Preprocessing example 282\n",
      "\n",
      "Classifying prompts:   0%|                                                                                                                                                              | 0/3 [00:00<?, ?it/s]\u001b[A2025-05-31 04:38:03,393 || ERROR || MedRL-CoT Setup - Nothing found, bad example!\n",
      "\n",
      "Classifying prompts:  33%|██████████████████████████████████████████████████                                                                                                    | 1/3 [00:39<01:18, 39.09s/it]\u001b[A2025-05-31 04:38:28,078 || WARNING || MedRL-CoT Setup - Invalid JSON, trying conversion\n",
      "2025-05-31 04:38:28,079 || INFO || MedRL-CoT Setup - Successful conversion!\n",
      "\n",
      "Classifying prompts:  67%|████████████████████████████████████████████████████████████████████████████████████████████████████                                                  | 2/3 [01:03<00:30, 30.62s/it]\u001b[A2025-05-31 04:38:51,872 || WARNING || MedRL-CoT Setup - Invalid JSON, trying conversion\n",
      "2025-05-31 04:38:51,873 || INFO || MedRL-CoT Setup - Successful conversion!\n",
      "\n",
      "Classifying prompts: 100%|██████████████████████████████████████████████████████████████████████████████████████████████████████████████████████████████████████████████████████| 3/3 [01:27<00:00, 27.50s/it]\u001b[A\n",
      "                                                                                                                                                                                                              \u001b[A2025-05-31 04:38:51,878 || INFO || MedRL-CoT Setup - Dumping checkpoint\n"
     ]
    },
    {
     "data": {
      "application/vnd.jupyter.widget-view+json": {
       "model_id": "4d3c115d9e1b42ff82b9e7fb95071def",
       "version_major": 2,
       "version_minor": 0
      },
      "text/plain": [
       "Saving the dataset (0/1 shards):   0%|          | 0/5830 [00:00<?, ? examples/s]"
      ]
     },
     "metadata": {},
     "output_type": "display_data"
    },
    {
     "name": "stderr",
     "output_type": "stream",
     "text": [
      "Preprocessing dataset:   1%|█▎                                                                                                                                      | 283/30000 [1:14:54<754:32:07, 91.41s/it]2025-05-31 04:38:51,937 || INFO || MedRL-CoT Setup - Preprocessing example 283\n",
      "\n",
      "Classifying prompts:   0%|                                                                                                                                                              | 0/1 [00:00<?, ?it/s]\u001b[A2025-05-31 04:39:50,579 || ERROR || MedRL-CoT Setup - Nothing found, bad example!\n",
      "\n",
      "Classifying prompts: 100%|██████████████████████████████████████████████████████████████████████████████████████████████████████████████████████████████████████████████████████| 1/1 [00:58<00:00, 58.53s/it]\u001b[A\n",
      "                                                                                                                                                                                                              \u001b[A2025-05-31 04:39:50,584 || INFO || MedRL-CoT Setup - Dumping checkpoint\n"
     ]
    },
    {
     "data": {
      "application/vnd.jupyter.widget-view+json": {
       "model_id": "f6a0913b373e4fc5a12d7c7c33e1af07",
       "version_major": 2,
       "version_minor": 0
      },
      "text/plain": [
       "Saving the dataset (0/1 shards):   0%|          | 0/5830 [00:00<?, ? examples/s]"
      ]
     },
     "metadata": {},
     "output_type": "display_data"
    },
    {
     "name": "stderr",
     "output_type": "stream",
     "text": [
      "Preprocessing dataset:   1%|█▎                                                                                                                                      | 284/30000 [1:15:53<673:32:32, 81.60s/it]2025-05-31 04:39:50,647 || INFO || MedRL-CoT Setup - Preprocessing example 284\n",
      "\n",
      "Classifying prompts:   0%|                                                                                                                                                              | 0/6 [00:00<?, ?it/s]\u001b[A2025-05-31 04:40:11,049 || WARNING || MedRL-CoT Setup - Invalid JSON, trying conversion\n",
      "2025-05-31 04:40:11,049 || INFO || MedRL-CoT Setup - Successful conversion!\n",
      "\n",
      "Classifying prompts:  17%|█████████████████████████                                                                                                                             | 1/6 [00:20<01:41, 20.29s/it]\u001b[A2025-05-31 04:40:35,862 || WARNING || MedRL-CoT Setup - Invalid JSON, trying conversion\n",
      "2025-05-31 04:40:35,862 || INFO || MedRL-CoT Setup - Successful conversion!\n",
      "\n",
      "Classifying prompts:  33%|██████████████████████████████████████████████████                                                                                                    | 2/6 [00:45<01:31, 22.95s/it]\u001b[A2025-05-31 04:41:04,625 || WARNING || MedRL-CoT Setup - Invalid JSON, trying conversion\n",
      "2025-05-31 04:41:04,626 || INFO || MedRL-CoT Setup - Successful conversion!\n",
      "\n",
      "Classifying prompts:  50%|███████████████████████████████████████████████████████████████████████████                                                                           | 3/6 [01:13<01:16, 25.61s/it]\u001b[A2025-05-31 04:41:19,106 || WARNING || MedRL-CoT Setup - Invalid JSON, trying conversion\n",
      "2025-05-31 04:41:19,107 || INFO || MedRL-CoT Setup - Successful conversion!\n",
      "\n",
      "Classifying prompts:  67%|████████████████████████████████████████████████████████████████████████████████████████████████████                                                  | 4/6 [01:28<00:42, 21.21s/it]\u001b[A2025-05-31 04:41:47,701 || WARNING || MedRL-CoT Setup - Invalid JSON, trying conversion\n",
      "2025-05-31 04:41:47,702 || INFO || MedRL-CoT Setup - Successful conversion!\n",
      "\n",
      "Classifying prompts:  83%|█████████████████████████████████████████████████████████████████████████████████████████████████████████████████████████████                         | 5/6 [01:56<00:23, 23.88s/it]\u001b[A2025-05-31 04:42:10,526 || WARNING || MedRL-CoT Setup - Invalid JSON, trying conversion\n",
      "2025-05-31 04:42:10,527 || INFO || MedRL-CoT Setup - Successful conversion!\n",
      "\n",
      "Classifying prompts: 100%|██████████████████████████████████████████████████████████████████████████████████████████████████████████████████████████████████████████████████████| 6/6 [02:19<00:00, 23.52s/it]\u001b[A\n",
      "                                                                                                                                                                                                              \u001b[A2025-05-31 04:42:10,533 || INFO || MedRL-CoT Setup - Dumping checkpoint\n"
     ]
    },
    {
     "data": {
      "application/vnd.jupyter.widget-view+json": {
       "model_id": "8c8ce5e76ab54deaac84002edbb70a01",
       "version_major": 2,
       "version_minor": 0
      },
      "text/plain": [
       "Saving the dataset (0/1 shards):   0%|          | 0/5870 [00:00<?, ? examples/s]"
      ]
     },
     "metadata": {},
     "output_type": "display_data"
    },
    {
     "name": "stderr",
     "output_type": "stream",
     "text": [
      "Preprocessing dataset:   1%|█▎                                                                                                                                      | 285/30000 [1:18:12<818:00:37, 99.10s/it]2025-05-31 04:42:10,596 || INFO || MedRL-CoT Setup - Preprocessing example 285\n",
      "\n",
      "Classifying prompts:   0%|                                                                                                                                                              | 0/5 [00:00<?, ?it/s]\u001b[A2025-05-31 04:42:19,750 || ERROR || MedRL-CoT Setup - Nothing found, bad example!\n",
      "\n",
      "Classifying prompts:  20%|██████████████████████████████                                                                                                                        | 1/5 [00:09<00:36,  9.04s/it]\u001b[A2025-05-31 04:42:51,498 || WARNING || MedRL-CoT Setup - Invalid JSON, trying conversion\n",
      "2025-05-31 04:42:51,499 || INFO || MedRL-CoT Setup - Successful conversion!\n",
      "\n",
      "Classifying prompts:  40%|████████████████████████████████████████████████████████████                                                                                          | 2/5 [00:40<01:07, 22.40s/it]\u001b[A2025-05-31 04:43:31,577 || INFO || MedRL-CoT Setup - Successful JSON parsed!\n",
      "\n",
      "Classifying prompts:  60%|██████████████████████████████████████████████████████████████████████████████████████████                                                            | 3/5 [01:20<01:00, 30.47s/it]\u001b[A2025-05-31 04:44:01,430 || WARNING || MedRL-CoT Setup - Invalid JSON, trying conversion\n",
      "2025-05-31 04:44:01,431 || INFO || MedRL-CoT Setup - Successful conversion!\n",
      "\n",
      "Classifying prompts:  80%|████████████████████████████████████████████████████████████████████████████████████████████████████████████████████████                              | 4/5 [01:50<00:30, 30.23s/it]\u001b[A2025-05-31 04:44:23,528 || WARNING || MedRL-CoT Setup - Invalid JSON, trying conversion\n",
      "2025-05-31 04:44:23,529 || INFO || MedRL-CoT Setup - Successful conversion!\n",
      "\n",
      "Classifying prompts: 100%|██████████████████████████████████████████████████████████████████████████████████████████████████████████████████████████████████████████████████████| 5/5 [02:12<00:00, 27.30s/it]\u001b[A\n",
      "                                                                                                                                                                                                              \u001b[A2025-05-31 04:44:23,533 || INFO || MedRL-CoT Setup - Dumping checkpoint\n"
     ]
    },
    {
     "data": {
      "application/vnd.jupyter.widget-view+json": {
       "model_id": "f925be93a8154ddbbbd47e4812d650aa",
       "version_major": 2,
       "version_minor": 0
      },
      "text/plain": [
       "Saving the dataset (0/1 shards):   0%|          | 0/5911 [00:00<?, ? examples/s]"
      ]
     },
     "metadata": {},
     "output_type": "display_data"
    },
    {
     "name": "stderr",
     "output_type": "stream",
     "text": [
      "Preprocessing dataset:   1%|█▎                                                                                                                                     | 286/30000 [1:20:25<901:54:55, 109.27s/it]2025-05-31 04:44:23,595 || INFO || MedRL-CoT Setup - Preprocessing example 286\n",
      "\n",
      "Classifying prompts:   0%|                                                                                                                                                              | 0/3 [00:00<?, ?it/s]\u001b[A2025-05-31 04:44:57,934 || INFO || MedRL-CoT Setup - Successful JSON parsed!\n",
      "\n",
      "Classifying prompts:  33%|██████████████████████████████████████████████████                                                                                                    | 1/3 [00:34<01:08, 34.23s/it]\u001b[A2025-05-31 04:45:41,756 || WARNING || MedRL-CoT Setup - Invalid JSON, trying conversion\n",
      "2025-05-31 04:45:41,757 || INFO || MedRL-CoT Setup - Successful conversion!\n",
      "\n",
      "Classifying prompts:  67%|████████████████████████████████████████████████████████████████████████████████████████████████████                                                  | 2/3 [01:18<00:39, 39.87s/it]\u001b[A2025-05-31 04:46:04,494 || INFO || MedRL-CoT Setup - Successful JSON parsed!\n",
      "\n",
      "Classifying prompts: 100%|██████████████████████████████████████████████████████████████████████████████████████████████████████████████████████████████████████████████████████| 3/3 [01:40<00:00, 32.05s/it]\u001b[A\n",
      "                                                                                                                                                                                                              \u001b[A2025-05-31 04:46:04,498 || INFO || MedRL-CoT Setup - Dumping checkpoint\n"
     ]
    },
    {
     "data": {
      "application/vnd.jupyter.widget-view+json": {
       "model_id": "16c0f4b248294a58aadfe0abfd913b71",
       "version_major": 2,
       "version_minor": 0
      },
      "text/plain": [
       "Saving the dataset (0/1 shards):   0%|          | 0/5930 [00:00<?, ? examples/s]"
      ]
     },
     "metadata": {},
     "output_type": "display_data"
    },
    {
     "name": "stderr",
     "output_type": "stream",
     "text": [
      "Preprocessing dataset:   1%|█▎                                                                                                                                     | 287/30000 [1:22:06<881:18:59, 106.78s/it]2025-05-31 04:46:04,559 || INFO || MedRL-CoT Setup - Preprocessing example 287\n",
      "\n",
      "Classifying prompts:   0%|                                                                                                                                                              | 0/3 [00:00<?, ?it/s]\u001b[A2025-05-31 04:46:28,415 || INFO || MedRL-CoT Setup - Successful JSON parsed!\n",
      "\n",
      "Classifying prompts:  33%|██████████████████████████████████████████████████                                                                                                    | 1/3 [00:23<00:47, 23.75s/it]\u001b[A2025-05-31 04:46:49,811 || WARNING || MedRL-CoT Setup - Invalid JSON, trying conversion\n",
      "2025-05-31 04:46:49,811 || INFO || MedRL-CoT Setup - Successful conversion!\n",
      "\n",
      "Classifying prompts:  67%|████████████████████████████████████████████████████████████████████████████████████████████████████                                                  | 2/3 [00:45<00:22, 22.36s/it]\u001b[A2025-05-31 04:47:32,106 || WARNING || MedRL-CoT Setup - Invalid JSON, trying conversion\n",
      "2025-05-31 04:47:32,107 || INFO || MedRL-CoT Setup - Successful conversion!\n",
      "\n",
      "Classifying prompts: 100%|██████████████████████████████████████████████████████████████████████████████████████████████████████████████████████████████████████████████████████| 3/3 [01:27<00:00, 31.46s/it]\u001b[A\n",
      "                                                                                                                                                                                                              \u001b[A2025-05-31 04:47:32,111 || INFO || MedRL-CoT Setup - Dumping checkpoint\n"
     ]
    },
    {
     "data": {
      "application/vnd.jupyter.widget-view+json": {
       "model_id": "baf45c2eb62249eea1829c9a1935c983",
       "version_major": 2,
       "version_minor": 0
      },
      "text/plain": [
       "Saving the dataset (0/1 shards):   0%|          | 0/5953 [00:00<?, ? examples/s]"
      ]
     },
     "metadata": {},
     "output_type": "display_data"
    },
    {
     "name": "stderr",
     "output_type": "stream",
     "text": [
      "Preprocessing dataset:   1%|█▎                                                                                                                                     | 288/30000 [1:23:34<833:49:55, 101.03s/it]2025-05-31 04:47:32,173 || INFO || MedRL-CoT Setup - Preprocessing example 288\n",
      "\n",
      "Classifying prompts:   0%|                                                                                                                                                             | 0/18 [00:00<?, ?it/s]\u001b[A2025-05-31 04:47:44,725 || WARNING || MedRL-CoT Setup - Invalid JSON, trying conversion\n",
      "2025-05-31 04:47:44,726 || INFO || MedRL-CoT Setup - Successful conversion!\n",
      "\n",
      "Classifying prompts:   6%|████████▎                                                                                                                                            | 1/18 [00:12<03:31, 12.44s/it]\u001b[A2025-05-31 04:48:07,952 || INFO || MedRL-CoT Setup - Successful JSON parsed!\n",
      "\n",
      "Classifying prompts:  11%|████████████████▌                                                                                                                                    | 2/18 [00:35<05:00, 18.79s/it]\u001b[A2025-05-31 04:48:35,764 || WARNING || MedRL-CoT Setup - Invalid JSON, trying conversion\n",
      "2025-05-31 04:48:35,765 || INFO || MedRL-CoT Setup - Successful conversion!\n",
      "\n",
      "Classifying prompts:  17%|████████████████████████▊                                                                                                                            | 3/18 [01:03<05:43, 22.91s/it]\u001b[A2025-05-31 04:48:47,391 || INFO || MedRL-CoT Setup - Successful JSON parsed!\n",
      "\n",
      "Classifying prompts:  22%|█████████████████████████████████                                                                                                                    | 4/18 [01:15<04:18, 18.45s/it]\u001b[A2025-05-31 04:49:02,446 || WARNING || MedRL-CoT Setup - Invalid JSON, trying conversion\n",
      "2025-05-31 04:49:02,447 || INFO || MedRL-CoT Setup - Successful conversion!\n",
      "\n",
      "Classifying prompts:  28%|█████████████████████████████████████████▍                                                                                                           | 5/18 [01:30<03:43, 17.23s/it]\u001b[A2025-05-31 04:49:12,848 || WARNING || MedRL-CoT Setup - Invalid JSON, trying conversion\n",
      "2025-05-31 04:49:12,849 || INFO || MedRL-CoT Setup - Successful conversion!\n",
      "\n",
      "Classifying prompts:  33%|█████████████████████████████████████████████████▋                                                                                                   | 6/18 [01:40<02:58, 14.91s/it]\u001b[A2025-05-31 04:49:17,213 || INFO || MedRL-CoT Setup - Successful JSON parsed!\n",
      "\n",
      "Classifying prompts:  39%|█████████████████████████████████████████████████████████▉                                                                                           | 7/18 [01:44<02:06, 11.46s/it]\u001b[A2025-05-31 04:49:29,204 || WARNING || MedRL-CoT Setup - Invalid JSON, trying conversion\n",
      "2025-05-31 04:49:29,206 || INFO || MedRL-CoT Setup - Successful conversion!\n",
      "\n",
      "Classifying prompts:  44%|██████████████████████████████████████████████████████████████████▏                                                                                  | 8/18 [01:56<01:56, 11.63s/it]\u001b[A2025-05-31 04:49:37,334 || INFO || MedRL-CoT Setup - Successful JSON parsed!\n",
      "\n",
      "Classifying prompts:  50%|██████████████████████████████████████████████████████████████████████████▌                                                                          | 9/18 [02:05<01:34, 10.54s/it]\u001b[A2025-05-31 04:49:45,981 || INFO || MedRL-CoT Setup - Successful JSON parsed!\n",
      "\n",
      "Classifying prompts:  56%|██████████████████████████████████████████████████████████████████████████████████▏                                                                 | 10/18 [02:13<01:19,  9.95s/it]\u001b[A2025-05-31 04:49:51,125 || INFO || MedRL-CoT Setup - Successful JSON parsed!\n",
      "\n",
      "Classifying prompts:  61%|██████████████████████████████████████████████████████████████████████████████████████████▍                                                         | 11/18 [02:18<00:59,  8.48s/it]\u001b[A2025-05-31 04:49:54,736 || INFO || MedRL-CoT Setup - Successful JSON parsed!\n",
      "\n",
      "Classifying prompts:  67%|██████████████████████████████████████████████████████████████████████████████████████████████████▋                                                 | 12/18 [02:22<00:41,  7.00s/it]\u001b[A2025-05-31 04:50:04,027 || INFO || MedRL-CoT Setup - Successful JSON parsed!\n",
      "\n",
      "Classifying prompts:  72%|██████████████████████████████████████████████████████████████████████████████████████████████████████████▉                                         | 13/18 [02:31<00:38,  7.69s/it]\u001b[A2025-05-31 04:50:10,539 || INFO || MedRL-CoT Setup - Successful JSON parsed!\n",
      "\n",
      "Classifying prompts:  78%|███████████████████████████████████████████████████████████████████████████████████████████████████████████████████                                 | 14/18 [02:38<00:29,  7.34s/it]\u001b[A2025-05-31 04:50:25,033 || WARNING || MedRL-CoT Setup - Invalid JSON, trying conversion\n",
      "2025-05-31 04:50:25,034 || INFO || MedRL-CoT Setup - Successful conversion!\n",
      "\n",
      "Classifying prompts:  83%|███████████████████████████████████████████████████████████████████████████████████████████████████████████████████████████▎                        | 15/18 [02:52<00:28,  9.49s/it]\u001b[A2025-05-31 04:50:30,178 || INFO || MedRL-CoT Setup - Successful JSON parsed!\n",
      "\n",
      "Classifying prompts:  89%|███████████████████████████████████████████████████████████████████████████████████████████████████████████████████████████████████▌                | 16/18 [02:57<00:16,  8.18s/it]\u001b[A2025-05-31 04:50:32,844 || INFO || MedRL-CoT Setup - Successful JSON parsed!\n",
      "\n",
      "Classifying prompts:  94%|███████████████████████████████████████████████████████████████████████████████████████████████████████████████████████████████████████████▊        | 17/18 [03:00<00:06,  6.53s/it]\u001b[A2025-05-31 04:50:38,319 || INFO || MedRL-CoT Setup - Successful JSON parsed!\n",
      "\n",
      "Classifying prompts: 100%|████████████████████████████████████████████████████████████████████████████████████████████████████████████████████████████████████████████████████| 18/18 [03:06<00:00,  6.21s/it]\u001b[A\n",
      "                                                                                                                                                                                                              \u001b[A2025-05-31 04:50:38,323 || INFO || MedRL-CoT Setup - Dumping checkpoint\n"
     ]
    },
    {
     "data": {
      "application/vnd.jupyter.widget-view+json": {
       "model_id": "39050d45ee6a440ca66fa50213be235f",
       "version_major": 2,
       "version_minor": 0
      },
      "text/plain": [
       "Saving the dataset (0/1 shards):   0%|          | 0/6005 [00:00<?, ? examples/s]"
      ]
     },
     "metadata": {},
     "output_type": "display_data"
    },
    {
     "name": "stderr",
     "output_type": "stream",
     "text": [
      "Preprocessing dataset:   1%|█▎                                                                                                                                    | 289/30000 [1:26:40<1044:42:49, 126.59s/it]2025-05-31 04:50:38,387 || INFO || MedRL-CoT Setup - Preprocessing example 289\n",
      "\n",
      "Classifying prompts:   0%|                                                                                                                                                              | 0/2 [00:00<?, ?it/s]\u001b[A2025-05-31 04:51:13,906 || INFO || MedRL-CoT Setup - Successful JSON parsed!\n",
      "\n",
      "Classifying prompts:  50%|███████████████████████████████████████████████████████████████████████████                                                                           | 1/2 [00:35<00:35, 35.41s/it]\u001b[A2025-05-31 04:51:47,656 || WARNING || MedRL-CoT Setup - Invalid JSON, trying conversion\n",
      "2025-05-31 04:51:47,657 || INFO || MedRL-CoT Setup - Successful conversion!\n",
      "\n",
      "Classifying prompts: 100%|██████████████████████████████████████████████████████████████████████████████████████████████████████████████████████████████████████████████████████| 2/2 [01:09<00:00, 34.43s/it]\u001b[A\n",
      "                                                                                                                                                                                                              \u001b[A2025-05-31 04:51:47,661 || INFO || MedRL-CoT Setup - Dumping checkpoint\n"
     ]
    },
    {
     "data": {
      "application/vnd.jupyter.widget-view+json": {
       "model_id": "168eecbd6bf2443ba3a53bdda530e9d8",
       "version_major": 2,
       "version_minor": 0
      },
      "text/plain": [
       "Saving the dataset (0/1 shards):   0%|          | 0/6025 [00:00<?, ? examples/s]"
      ]
     },
     "metadata": {},
     "output_type": "display_data"
    },
    {
     "name": "stderr",
     "output_type": "stream",
     "text": [
      "Preprocessing dataset:   1%|█▎                                                                                                                                     | 290/30000 [1:27:50<902:56:33, 109.41s/it]2025-05-31 04:51:47,724 || INFO || MedRL-CoT Setup - Preprocessing example 290\n",
      "\n",
      "Classifying prompts:   0%|                                                                                                                                                              | 0/5 [00:00<?, ?it/s]\u001b[A2025-05-31 04:51:56,866 || ERROR || MedRL-CoT Setup - Nothing found, bad example!\n",
      "\n",
      "Classifying prompts:  20%|██████████████████████████████                                                                                                                        | 1/5 [00:09<00:36,  9.03s/it]\u001b[A2025-05-31 04:52:28,656 || WARNING || MedRL-CoT Setup - Invalid JSON, trying conversion\n",
      "2025-05-31 04:52:28,656 || INFO || MedRL-CoT Setup - Successful conversion!\n",
      "\n",
      "Classifying prompts:  40%|████████████████████████████████████████████████████████████                                                                                          | 2/5 [00:40<01:07, 22.42s/it]\u001b[A2025-05-31 04:53:08,757 || INFO || MedRL-CoT Setup - Successful JSON parsed!\n",
      "\n",
      "Classifying prompts:  60%|██████████████████████████████████████████████████████████████████████████████████████████                                                            | 3/5 [01:20<01:00, 30.49s/it]\u001b[A2025-05-31 04:53:38,599 || WARNING || MedRL-CoT Setup - Invalid JSON, trying conversion\n",
      "2025-05-31 04:53:38,600 || INFO || MedRL-CoT Setup - Successful conversion!\n",
      "\n",
      "Classifying prompts:  80%|████████████████████████████████████████████████████████████████████████████████████████████████████████████████████████                              | 4/5 [01:50<00:30, 30.24s/it]\u001b[A2025-05-31 04:54:00,695 || WARNING || MedRL-CoT Setup - Invalid JSON, trying conversion\n",
      "2025-05-31 04:54:00,696 || INFO || MedRL-CoT Setup - Successful conversion!\n",
      "\n",
      "Classifying prompts: 100%|██████████████████████████████████████████████████████████████████████████████████████████████████████████████████████████████████████████████████████| 5/5 [02:12<00:00, 27.30s/it]\u001b[A\n",
      "                                                                                                                                                                                                              \u001b[A2025-05-31 04:54:00,700 || INFO || MedRL-CoT Setup - Dumping checkpoint\n"
     ]
    },
    {
     "data": {
      "application/vnd.jupyter.widget-view+json": {
       "model_id": "8da9ed53c93b4ce3b6f6c3cf801420e0",
       "version_major": 2,
       "version_minor": 0
      },
      "text/plain": [
       "Saving the dataset (0/1 shards):   0%|          | 0/6066 [00:00<?, ? examples/s]"
      ]
     },
     "metadata": {},
     "output_type": "display_data"
    },
    {
     "name": "stderr",
     "output_type": "stream",
     "text": [
      "Preprocessing dataset:   1%|█▎                                                                                                                                     | 291/30000 [1:30:03<961:24:40, 116.50s/it]2025-05-31 04:54:00,764 || INFO || MedRL-CoT Setup - Preprocessing example 291\n",
      "\n",
      "Classifying prompts:   0%|                                                                                                                                                              | 0/3 [00:00<?, ?it/s]\u001b[A2025-05-31 04:54:35,127 || INFO || MedRL-CoT Setup - Successful JSON parsed!\n",
      "\n",
      "Classifying prompts:  33%|██████████████████████████████████████████████████                                                                                                    | 1/3 [00:34<01:08, 34.25s/it]\u001b[A2025-05-31 04:55:18,949 || WARNING || MedRL-CoT Setup - Invalid JSON, trying conversion\n",
      "2025-05-31 04:55:18,950 || INFO || MedRL-CoT Setup - Successful conversion!\n",
      "\n",
      "Classifying prompts:  67%|████████████████████████████████████████████████████████████████████████████████████████████████████                                                  | 2/3 [01:18<00:39, 39.88s/it]\u001b[A2025-05-31 04:55:41,701 || INFO || MedRL-CoT Setup - Successful JSON parsed!\n",
      "\n",
      "Classifying prompts: 100%|██████████████████████████████████████████████████████████████████████████████████████████████████████████████████████████████████████████████████████| 3/3 [01:40<00:00, 32.06s/it]\u001b[A\n",
      "                                                                                                                                                                                                              \u001b[A2025-05-31 04:55:41,706 || INFO || MedRL-CoT Setup - Dumping checkpoint\n"
     ]
    },
    {
     "data": {
      "application/vnd.jupyter.widget-view+json": {
       "model_id": "e569b546180440fd957bc6a93f62a14f",
       "version_major": 2,
       "version_minor": 0
      },
      "text/plain": [
       "Saving the dataset (0/1 shards):   0%|          | 0/6085 [00:00<?, ? examples/s]"
      ]
     },
     "metadata": {},
     "output_type": "display_data"
    },
    {
     "name": "stderr",
     "output_type": "stream",
     "text": [
      "Preprocessing dataset:   1%|█▎                                                                                                                                     | 292/30000 [1:31:44<923:01:14, 111.85s/it]2025-05-31 04:55:41,769 || INFO || MedRL-CoT Setup - Preprocessing example 292\n",
      "\n",
      "Classifying prompts:   0%|                                                                                                                                                              | 0/3 [00:00<?, ?it/s]\u001b[A2025-05-31 04:56:16,148 || INFO || MedRL-CoT Setup - Successful JSON parsed!\n",
      "\n",
      "Classifying prompts:  33%|██████████████████████████████████████████████████                                                                                                    | 1/3 [00:34<01:08, 34.27s/it]\u001b[A2025-05-31 04:56:59,993 || WARNING || MedRL-CoT Setup - Invalid JSON, trying conversion\n",
      "2025-05-31 04:56:59,994 || INFO || MedRL-CoT Setup - Successful conversion!\n",
      "\n",
      "Classifying prompts:  67%|████████████████████████████████████████████████████████████████████████████████████████████████████                                                  | 2/3 [01:18<00:39, 39.90s/it]\u001b[A2025-05-31 04:57:22,779 || INFO || MedRL-CoT Setup - Successful JSON parsed!\n",
      "\n",
      "Classifying prompts: 100%|██████████████████████████████████████████████████████████████████████████████████████████████████████████████████████████████████████████████████████| 3/3 [01:40<00:00, 32.09s/it]\u001b[A\n",
      "                                                                                                                                                                                                              \u001b[A2025-05-31 04:57:22,784 || INFO || MedRL-CoT Setup - Dumping checkpoint\n"
     ]
    },
    {
     "data": {
      "application/vnd.jupyter.widget-view+json": {
       "model_id": "877ced7c47fa4ee7b05fad715234b8b5",
       "version_major": 2,
       "version_minor": 0
      },
      "text/plain": [
       "Saving the dataset (0/1 shards):   0%|          | 0/6104 [00:00<?, ? examples/s]"
      ]
     },
     "metadata": {},
     "output_type": "display_data"
    },
    {
     "name": "stderr",
     "output_type": "stream",
     "text": [
      "Preprocessing dataset:   1%|█▎                                                                                                                                     | 293/30000 [1:33:25<896:19:08, 108.62s/it]2025-05-31 04:57:22,847 || INFO || MedRL-CoT Setup - Preprocessing example 293\n",
      "\n",
      "Classifying prompts:   0%|                                                                                                                                                              | 0/5 [00:00<?, ?it/s]\u001b[A2025-05-31 04:57:31,988 || ERROR || MedRL-CoT Setup - Nothing found, bad example!\n",
      "\n",
      "Classifying prompts:  20%|██████████████████████████████                                                                                                                        | 1/5 [00:09<00:36,  9.03s/it]\u001b[A2025-05-31 04:58:03,755 || WARNING || MedRL-CoT Setup - Invalid JSON, trying conversion\n",
      "2025-05-31 04:58:03,756 || INFO || MedRL-CoT Setup - Successful conversion!\n",
      "\n",
      "Classifying prompts:  40%|████████████████████████████████████████████████████████████                                                                                          | 2/5 [00:40<01:07, 22.41s/it]\u001b[A2025-05-31 04:58:43,818 || INFO || MedRL-CoT Setup - Successful JSON parsed!\n",
      "\n",
      "Classifying prompts:  60%|██████████████████████████████████████████████████████████████████████████████████████████                                                            | 3/5 [01:20<01:00, 30.47s/it]\u001b[A2025-05-31 04:59:13,673 || WARNING || MedRL-CoT Setup - Invalid JSON, trying conversion\n",
      "2025-05-31 04:59:13,674 || INFO || MedRL-CoT Setup - Successful conversion!\n",
      "\n",
      "Classifying prompts:  80%|████████████████████████████████████████████████████████████████████████████████████████████████████████████████████████                              | 4/5 [01:50<00:30, 30.23s/it]\u001b[A2025-05-31 04:59:35,757 || WARNING || MedRL-CoT Setup - Invalid JSON, trying conversion\n",
      "2025-05-31 04:59:35,758 || INFO || MedRL-CoT Setup - Successful conversion!\n",
      "\n",
      "Classifying prompts: 100%|██████████████████████████████████████████████████████████████████████████████████████████████████████████████████████████████████████████████████████| 5/5 [02:12<00:00, 27.29s/it]\u001b[A\n",
      "                                                                                                                                                                                                              \u001b[A2025-05-31 04:59:35,764 || INFO || MedRL-CoT Setup - Dumping checkpoint\n"
     ]
    },
    {
     "data": {
      "application/vnd.jupyter.widget-view+json": {
       "model_id": "043916e6795f4df8a186c67bd89c2746",
       "version_major": 2,
       "version_minor": 0
      },
      "text/plain": [
       "Saving the dataset (0/1 shards):   0%|          | 0/6145 [00:00<?, ? examples/s]"
      ]
     },
     "metadata": {},
     "output_type": "display_data"
    },
    {
     "name": "stderr",
     "output_type": "stream",
     "text": [
      "Preprocessing dataset:   1%|█▎                                                                                                                                     | 294/30000 [1:35:38<956:35:30, 115.93s/it]2025-05-31 04:59:35,826 || INFO || MedRL-CoT Setup - Preprocessing example 294\n",
      "\n",
      "Classifying prompts:   0%|                                                                                                                                                              | 0/2 [00:00<?, ?it/s]\u001b[A2025-05-31 05:00:19,144 || WARNING || MedRL-CoT Setup - Invalid JSON, trying conversion\n",
      "2025-05-31 05:00:19,145 || INFO || MedRL-CoT Setup - Successful conversion!\n",
      "\n",
      "Classifying prompts:  50%|███████████████████████████████████████████████████████████████████████████                                                                           | 1/2 [00:43<00:43, 43.21s/it]\u001b[A2025-05-31 05:00:46,024 || WARNING || MedRL-CoT Setup - Invalid JSON, trying conversion\n",
      "2025-05-31 05:00:46,025 || INFO || MedRL-CoT Setup - Successful conversion!\n",
      "\n",
      "Classifying prompts: 100%|██████████████████████████████████████████████████████████████████████████████████████████████████████████████████████████████████████████████████████| 2/2 [01:10<00:00, 33.60s/it]\u001b[A\n",
      "                                                                                                                                                                                                              \u001b[A2025-05-31 05:00:46,029 || INFO || MedRL-CoT Setup - Dumping checkpoint\n"
     ]
    },
    {
     "data": {
      "application/vnd.jupyter.widget-view+json": {
       "model_id": "4d4044304fb147dd9413e26ec1961fd8",
       "version_major": 2,
       "version_minor": 0
      },
      "text/plain": [
       "Saving the dataset (0/1 shards):   0%|          | 0/6154 [00:00<?, ? examples/s]"
      ]
     },
     "metadata": {},
     "output_type": "display_data"
    },
    {
     "name": "stderr",
     "output_type": "stream",
     "text": [
      "Preprocessing dataset:   1%|█▎                                                                                                                                     | 295/30000 [1:36:48<843:31:58, 102.23s/it]2025-05-31 05:00:46,093 || INFO || MedRL-CoT Setup - Preprocessing example 295\n",
      "\n",
      "Classifying prompts:   0%|                                                                                                                                                              | 0/6 [00:00<?, ?it/s]\u001b[A2025-05-31 05:01:11,700 || WARNING || MedRL-CoT Setup - Invalid JSON, trying conversion\n",
      "2025-05-31 05:01:11,701 || INFO || MedRL-CoT Setup - Successful conversion!\n",
      "\n",
      "Classifying prompts:  17%|█████████████████████████                                                                                                                             | 1/6 [00:25<02:07, 25.50s/it]\u001b[A2025-05-31 05:01:34,375 || WARNING || MedRL-CoT Setup - Invalid JSON, trying conversion\n",
      "2025-05-31 05:01:34,377 || INFO || MedRL-CoT Setup - Successful conversion!\n",
      "\n",
      "Classifying prompts:  33%|██████████████████████████████████████████████████                                                                                                    | 2/6 [00:48<01:35, 23.84s/it]\u001b[A2025-05-31 05:02:43,173 || WARNING || MedRL-CoT Setup - Invalid JSON, trying conversion\n",
      "2025-05-31 05:02:43,174 || INFO || MedRL-CoT Setup - Successful conversion!\n",
      "\n",
      "Classifying prompts:  50%|███████████████████████████████████████████████████████████████████████████                                                                           | 3/6 [01:56<02:13, 44.37s/it]\u001b[A2025-05-31 05:03:05,508 || INFO || MedRL-CoT Setup - Successful JSON parsed!\n",
      "\n",
      "Classifying prompts:  67%|████████████████████████████████████████████████████████████████████████████████████████████████████                                                  | 4/6 [02:19<01:11, 35.67s/it]\u001b[A2025-05-31 05:04:22,103 || ERROR || MedRL-CoT Setup - Nothing found, bad example!\n",
      "\n",
      "Classifying prompts:  83%|█████████████████████████████████████████████████████████████████████████████████████████████████████████████████████████████                         | 5/6 [03:35<00:50, 50.43s/it]\u001b[A2025-05-31 05:04:45,602 || INFO || MedRL-CoT Setup - Successful JSON parsed!\n",
      "\n",
      "Classifying prompts: 100%|██████████████████████████████████████████████████████████████████████████████████████████████████████████████████████████████████████████████████████| 6/6 [03:59<00:00, 41.27s/it]\u001b[A\n",
      "                                                                                                                                                                                                              \u001b[A2025-05-31 05:04:45,607 || INFO || MedRL-CoT Setup - Dumping checkpoint\n"
     ]
    },
    {
     "data": {
      "application/vnd.jupyter.widget-view+json": {
       "model_id": "79be2abc6c0e49c6b2c6816570269ea0",
       "version_major": 2,
       "version_minor": 0
      },
      "text/plain": [
       "Saving the dataset (0/1 shards):   0%|          | 0/6197 [00:00<?, ? examples/s]"
      ]
     },
     "metadata": {},
     "output_type": "display_data"
    },
    {
     "name": "stderr",
     "output_type": "stream",
     "text": [
      "Preprocessing dataset:   1%|█▎                                                                                                                                    | 296/30000 [1:40:48<1183:29:13, 143.43s/it]2025-05-31 05:04:45,671 || INFO || MedRL-CoT Setup - Preprocessing example 296\n",
      "\n",
      "Classifying prompts:   0%|                                                                                                                                                             | 0/10 [00:00<?, ?it/s]\u001b[A2025-05-31 05:04:55,920 || WARNING || MedRL-CoT Setup - Invalid JSON, trying conversion\n",
      "2025-05-31 05:04:55,921 || INFO || MedRL-CoT Setup - Successful conversion!\n",
      "\n",
      "Classifying prompts:  10%|██████████████▉                                                                                                                                      | 1/10 [00:10<01:31, 10.14s/it]\u001b[A2025-05-31 05:05:14,950 || WARNING || MedRL-CoT Setup - Invalid JSON, trying conversion\n",
      "2025-05-31 05:05:14,951 || INFO || MedRL-CoT Setup - Successful conversion!\n",
      "\n",
      "Classifying prompts:  20%|█████████████████████████████▊                                                                                                                       | 2/10 [00:29<02:02, 15.37s/it]\u001b[A2025-05-31 05:05:31,045 || WARNING || MedRL-CoT Setup - Invalid JSON, trying conversion\n",
      "2025-05-31 05:05:31,046 || INFO || MedRL-CoT Setup - Successful conversion!\n",
      "\n",
      "Classifying prompts:  30%|████████████████████████████████████████████▋                                                                                                        | 3/10 [00:45<01:49, 15.70s/it]\u001b[A2025-05-31 05:05:44,389 || WARNING || MedRL-CoT Setup - Invalid JSON, trying conversion\n",
      "2025-05-31 05:05:44,390 || INFO || MedRL-CoT Setup - Successful conversion!\n",
      "\n",
      "Classifying prompts:  40%|███████████████████████████████████████████████████████████▌                                                                                         | 4/10 [00:58<01:28, 14.77s/it]\u001b[A2025-05-31 05:06:06,171 || WARNING || MedRL-CoT Setup - Invalid JSON, trying conversion\n",
      "2025-05-31 05:06:06,172 || INFO || MedRL-CoT Setup - Successful conversion!\n",
      "\n",
      "Classifying prompts:  50%|██████████████████████████████████████████████████████████████████████████▌                                                                          | 5/10 [01:20<01:26, 17.30s/it]\u001b[A2025-05-31 05:06:13,223 || INFO || MedRL-CoT Setup - Successful JSON parsed!\n",
      "\n",
      "Classifying prompts:  60%|█████████████████████████████████████████████████████████████████████████████████████████▍                                                           | 6/10 [01:27<00:55, 13.81s/it]\u001b[A2025-05-31 05:06:41,898 || WARNING || MedRL-CoT Setup - Invalid JSON, trying conversion\n",
      "2025-05-31 05:06:41,899 || INFO || MedRL-CoT Setup - Successful conversion!\n",
      "\n",
      "Classifying prompts:  70%|████████████████████████████████████████████████████████████████████████████████████████████████████████▎                                            | 7/10 [01:56<00:56, 18.67s/it]\u001b[A2025-05-31 05:06:53,302 || WARNING || MedRL-CoT Setup - Invalid JSON, trying conversion\n",
      "2025-05-31 05:06:53,303 || INFO || MedRL-CoT Setup - Successful conversion!\n",
      "\n",
      "Classifying prompts:  80%|███████████████████████████████████████████████████████████████████████████████████████████████████████████████████████▏                             | 8/10 [02:07<00:32, 16.36s/it]\u001b[A2025-05-31 05:07:14,639 || INFO || MedRL-CoT Setup - Successful JSON parsed!\n",
      "\n",
      "Classifying prompts:  90%|██████████████████████████████████████████████████████████████████████████████████████████████████████████████████████████████████████               | 9/10 [02:28<00:17, 17.92s/it]\u001b[A2025-05-31 05:07:23,576 || INFO || MedRL-CoT Setup - Successful JSON parsed!\n",
      "\n",
      "Classifying prompts: 100%|████████████████████████████████████████████████████████████████████████████████████████████████████████████████████████████████████████████████████| 10/10 [02:37<00:00, 15.14s/it]\u001b[A\n",
      "                                                                                                                                                                                                              \u001b[A2025-05-31 05:07:23,581 || INFO || MedRL-CoT Setup - Dumping checkpoint\n"
     ]
    },
    {
     "data": {
      "application/vnd.jupyter.widget-view+json": {
       "model_id": "9babce9d418f4892a466e7b1d7c4ecad",
       "version_major": 2,
       "version_minor": 0
      },
      "text/plain": [
       "Saving the dataset (0/1 shards):   0%|          | 0/6248 [00:00<?, ? examples/s]"
      ]
     },
     "metadata": {},
     "output_type": "display_data"
    },
    {
     "name": "stderr",
     "output_type": "stream",
     "text": [
      "Preprocessing dataset:   1%|█▎                                                                                                                                    | 297/30000 [1:43:26<1219:26:24, 147.80s/it]2025-05-31 05:07:23,646 || INFO || MedRL-CoT Setup - Preprocessing example 297\n",
      "\n",
      "Classifying prompts:   0%|                                                                                                                                                              | 0/6 [00:00<?, ?it/s]\u001b[A2025-05-31 05:07:49,239 || WARNING || MedRL-CoT Setup - Invalid JSON, trying conversion\n",
      "2025-05-31 05:07:49,240 || INFO || MedRL-CoT Setup - Successful conversion!\n",
      "\n",
      "Classifying prompts:  17%|█████████████████████████                                                                                                                             | 1/6 [00:25<02:07, 25.48s/it]\u001b[A2025-05-31 05:08:11,919 || WARNING || MedRL-CoT Setup - Invalid JSON, trying conversion\n",
      "2025-05-31 05:08:11,920 || INFO || MedRL-CoT Setup - Successful conversion!\n",
      "\n",
      "Classifying prompts:  33%|██████████████████████████████████████████████████                                                                                                    | 2/6 [00:48<01:35, 23.83s/it]\u001b[A2025-05-31 05:09:20,665 || WARNING || MedRL-CoT Setup - Invalid JSON, trying conversion\n",
      "2025-05-31 05:09:20,667 || INFO || MedRL-CoT Setup - Successful conversion!\n",
      "\n",
      "Classifying prompts:  50%|███████████████████████████████████████████████████████████████████████████                                                                           | 3/6 [01:56<02:13, 44.34s/it]\u001b[A2025-05-31 05:09:42,979 || INFO || MedRL-CoT Setup - Successful JSON parsed!\n",
      "\n",
      "Classifying prompts:  67%|████████████████████████████████████████████████████████████████████████████████████████████████████                                                  | 4/6 [02:19<01:11, 35.65s/it]\u001b[A2025-05-31 05:10:59,545 || ERROR || MedRL-CoT Setup - Nothing found, bad example!\n",
      "\n",
      "Classifying prompts:  83%|█████████████████████████████████████████████████████████████████████████████████████████████████████████████████████████████                         | 5/6 [03:35<00:50, 50.40s/it]\u001b[A2025-05-31 05:11:23,040 || INFO || MedRL-CoT Setup - Successful JSON parsed!\n",
      "\n",
      "Classifying prompts: 100%|██████████████████████████████████████████████████████████████████████████████████████████████████████████████████████████████████████████████████████| 6/6 [03:59<00:00, 41.25s/it]\u001b[A\n",
      "                                                                                                                                                                                                              \u001b[A2025-05-31 05:11:23,045 || INFO || MedRL-CoT Setup - Dumping checkpoint\n"
     ]
    },
    {
     "data": {
      "application/vnd.jupyter.widget-view+json": {
       "model_id": "3ce09ea7d2694abc9839c311dfb99d2a",
       "version_major": 2,
       "version_minor": 0
      },
      "text/plain": [
       "Saving the dataset (0/1 shards):   0%|          | 0/6291 [00:00<?, ? examples/s]"
      ]
     },
     "metadata": {},
     "output_type": "display_data"
    },
    {
     "name": "stderr",
     "output_type": "stream",
     "text": [
      "Preprocessing dataset:   1%|█▎                                                                                                                                    | 298/30000 [1:47:25<1446:17:44, 175.30s/it]2025-05-31 05:11:23,111 || INFO || MedRL-CoT Setup - Preprocessing example 298\n",
      "\n",
      "Classifying prompts:   0%|                                                                                                                                                              | 0/2 [00:00<?, ?it/s]\u001b[A2025-05-31 05:12:07,460 || WARNING || MedRL-CoT Setup - Invalid JSON, trying conversion\n",
      "2025-05-31 05:12:07,461 || INFO || MedRL-CoT Setup - Successful conversion!\n",
      "\n",
      "Classifying prompts:  50%|███████████████████████████████████████████████████████████████████████████                                                                           | 1/2 [00:44<00:44, 44.24s/it]\u001b[A2025-05-31 05:13:11,319 || WARNING || MedRL-CoT Setup - Invalid JSON, trying conversion\n",
      "2025-05-31 05:13:11,320 || INFO || MedRL-CoT Setup - Successful conversion!\n",
      "\n",
      "Classifying prompts: 100%|██████████████████████████████████████████████████████████████████████████████████████████████████████████████████████████████████████████████████████| 2/2 [01:48<00:00, 55.78s/it]\u001b[A\n",
      "                                                                                                                                                                                                              \u001b[A2025-05-31 05:13:11,324 || INFO || MedRL-CoT Setup - Dumping checkpoint\n"
     ]
    },
    {
     "data": {
      "application/vnd.jupyter.widget-view+json": {
       "model_id": "34b7966413d540e396db70495793cc2c",
       "version_major": 2,
       "version_minor": 0
      },
      "text/plain": [
       "Saving the dataset (0/1 shards):   0%|          | 0/6323 [00:00<?, ? examples/s]"
      ]
     },
     "metadata": {},
     "output_type": "display_data"
    },
    {
     "name": "stderr",
     "output_type": "stream",
     "text": [
      "Preprocessing dataset:   1%|█▎                                                                                                                                    | 299/30000 [1:49:13<1280:22:04, 155.19s/it]2025-05-31 05:13:11,388 || INFO || MedRL-CoT Setup - Preprocessing example 299\n",
      "\n",
      "Classifying prompts:   0%|                                                                                                                                                              | 0/3 [00:00<?, ?it/s]\u001b[A2025-05-31 05:14:15,937 || WARNING || MedRL-CoT Setup - Invalid JSON, trying conversion\n",
      "2025-05-31 05:14:15,938 || INFO || MedRL-CoT Setup - Successful conversion!\n",
      "\n",
      "Classifying prompts:  33%|██████████████████████████████████████████████████                                                                                                    | 1/3 [01:04<02:08, 64.44s/it]\u001b[A2025-05-31 05:14:46,315 || WARNING || MedRL-CoT Setup - Invalid JSON, trying conversion\n",
      "2025-05-31 05:14:46,316 || INFO || MedRL-CoT Setup - Successful conversion!\n",
      "\n",
      "Classifying prompts:  67%|████████████████████████████████████████████████████████████████████████████████████████████████████                                                  | 2/3 [01:34<00:44, 44.40s/it]\u001b[A2025-05-31 05:14:57,498 || WARNING || MedRL-CoT Setup - Invalid JSON, trying conversion\n",
      "2025-05-31 05:14:57,499 || INFO || MedRL-CoT Setup - Successful conversion!\n",
      "\n",
      "Classifying prompts: 100%|██████████████████████████████████████████████████████████████████████████████████████████████████████████████████████████████████████████████████████| 3/3 [01:46<00:00, 29.23s/it]\u001b[A\n",
      "                                                                                                                                                                                                              \u001b[A2025-05-31 05:14:57,503 || INFO || MedRL-CoT Setup - Dumping checkpoint\n"
     ]
    },
    {
     "data": {
      "application/vnd.jupyter.widget-view+json": {
       "model_id": "7196618aa3fa437f9644102e6f545ff0",
       "version_major": 2,
       "version_minor": 0
      },
      "text/plain": [
       "Saving the dataset (0/1 shards):   0%|          | 0/6344 [00:00<?, ? examples/s]"
      ]
     },
     "metadata": {},
     "output_type": "display_data"
    },
    {
     "name": "stderr",
     "output_type": "stream",
     "text": [
      "Preprocessing dataset:   1%|█▎                                                                                                                                    | 300/30000 [1:50:59<1159:01:26, 140.49s/it]2025-05-31 05:14:57,569 || INFO || MedRL-CoT Setup - Preprocessing example 300\n",
      "\n",
      "Classifying prompts:   0%|                                                                                                                                                              | 0/5 [00:00<?, ?it/s]\u001b[A2025-05-31 05:15:41,851 || WARNING || MedRL-CoT Setup - Invalid JSON, trying conversion\n",
      "2025-05-31 05:15:41,851 || INFO || MedRL-CoT Setup - Successful conversion!\n",
      "\n",
      "Classifying prompts:  20%|██████████████████████████████                                                                                                                        | 1/5 [00:44<02:56, 44.17s/it]\u001b[A2025-05-31 05:16:09,516 || WARNING || MedRL-CoT Setup - Invalid JSON, trying conversion\n",
      "2025-05-31 05:16:09,517 || INFO || MedRL-CoT Setup - Successful conversion!\n",
      "\n",
      "Classifying prompts:  40%|████████████████████████████████████████████████████████████                                                                                          | 2/5 [01:11<01:43, 34.46s/it]\u001b[A2025-05-31 05:16:39,954 || WARNING || MedRL-CoT Setup - Invalid JSON, trying conversion\n",
      "2025-05-31 05:16:39,955 || INFO || MedRL-CoT Setup - Successful conversion!\n",
      "\n",
      "Classifying prompts:  60%|██████████████████████████████████████████████████████████████████████████████████████████                                                            | 3/5 [01:42<01:05, 32.62s/it]\u001b[A2025-05-31 05:16:53,308 || WARNING || MedRL-CoT Setup - Invalid JSON, trying conversion\n",
      "2025-05-31 05:16:53,309 || INFO || MedRL-CoT Setup - Successful conversion!\n",
      "\n",
      "Classifying prompts:  80%|████████████████████████████████████████████████████████████████████████████████████████████████████████████████████████                              | 4/5 [01:55<00:25, 25.02s/it]\u001b[A2025-05-31 05:17:51,993 || WARNING || MedRL-CoT Setup - Invalid JSON, trying conversion\n",
      "2025-05-31 05:17:51,994 || INFO || MedRL-CoT Setup - Successful conversion!\n",
      "\n",
      "Classifying prompts: 100%|██████████████████████████████████████████████████████████████████████████████████████████████████████████████████████████████████████████████████████| 5/5 [02:54<00:00, 37.16s/it]\u001b[A\n",
      "                                                                                                                                                                                                              \u001b[A2025-05-31 05:17:51,998 || INFO || MedRL-CoT Setup - Dumping checkpoint\n"
     ]
    },
    {
     "data": {
      "application/vnd.jupyter.widget-view+json": {
       "model_id": "400706e347574829bf43ad1e44c7a2c2",
       "version_major": 2,
       "version_minor": 0
      },
      "text/plain": [
       "Saving the dataset (0/1 shards):   0%|          | 0/6398 [00:00<?, ? examples/s]"
      ]
     },
     "metadata": {},
     "output_type": "display_data"
    },
    {
     "name": "stderr",
     "output_type": "stream",
     "text": [
      "Preprocessing dataset:   1%|█▎                                                                                                                                    | 301/30000 [1:53:54<1243:09:22, 150.69s/it]2025-05-31 05:17:52,066 || INFO || MedRL-CoT Setup - Preprocessing example 301\n",
      "\n",
      "Classifying prompts:   0%|                                                                                                                                                              | 0/2 [00:00<?, ?it/s]\u001b[A2025-05-31 05:18:27,607 || INFO || MedRL-CoT Setup - Successful JSON parsed!\n",
      "\n",
      "Classifying prompts:  50%|███████████████████████████████████████████████████████████████████████████                                                                           | 1/2 [00:35<00:35, 35.43s/it]\u001b[A2025-05-31 05:19:01,392 || WARNING || MedRL-CoT Setup - Invalid JSON, trying conversion\n",
      "2025-05-31 05:19:01,393 || INFO || MedRL-CoT Setup - Successful conversion!\n",
      "\n",
      "Classifying prompts: 100%|██████████████████████████████████████████████████████████████████████████████████████████████████████████████████████████████████████████████████████| 2/2 [01:09<00:00, 34.46s/it]\u001b[A\n",
      "                                                                                                                                                                                                              \u001b[A2025-05-31 05:19:01,397 || INFO || MedRL-CoT Setup - Dumping checkpoint\n"
     ]
    },
    {
     "data": {
      "application/vnd.jupyter.widget-view+json": {
       "model_id": "96046dbabe9d481299e9ea2fff9ad0d7",
       "version_major": 2,
       "version_minor": 0
      },
      "text/plain": [
       "Saving the dataset (0/1 shards):   0%|          | 0/6418 [00:00<?, ? examples/s]"
      ]
     },
     "metadata": {},
     "output_type": "display_data"
    },
    {
     "name": "stderr",
     "output_type": "stream",
     "text": [
      "Preprocessing dataset:   1%|█▎                                                                                                                                    | 302/30000 [1:55:03<1041:55:29, 126.30s/it]2025-05-31 05:19:01,463 || INFO || MedRL-CoT Setup - Preprocessing example 302\n",
      "\n",
      "Classifying prompts:   0%|                                                                                                                                                              | 0/8 [00:00<?, ?it/s]\u001b[A2025-05-31 05:19:48,828 || INFO || MedRL-CoT Setup - Successful JSON parsed!\n",
      "\n",
      "Classifying prompts:  12%|██████████████████▊                                                                                                                                   | 1/8 [00:47<05:30, 47.25s/it]\u001b[A2025-05-31 05:20:07,040 || WARNING || MedRL-CoT Setup - Invalid JSON, trying conversion\n",
      "2025-05-31 05:20:07,041 || INFO || MedRL-CoT Setup - Successful conversion!\n",
      "\n",
      "Classifying prompts:  25%|█████████████████████████████████████▌                                                                                                                | 2/8 [01:05<03:01, 30.17s/it]\u001b[A2025-05-31 05:20:17,830 || INFO || MedRL-CoT Setup - Successful JSON parsed!\n",
      "\n",
      "Classifying prompts:  38%|████████████████████████████████████████████████████████▎                                                                                             | 3/8 [01:16<01:46, 21.32s/it]\u001b[A2025-05-31 05:20:33,667 || WARNING || MedRL-CoT Setup - Invalid JSON, trying conversion\n",
      "2025-05-31 05:20:33,668 || INFO || MedRL-CoT Setup - Successful conversion!\n",
      "\n",
      "Classifying prompts:  50%|███████████████████████████████████████████████████████████████████████████                                                                           | 4/8 [01:32<01:16, 19.16s/it]\u001b[A2025-05-31 05:20:40,564 || INFO || MedRL-CoT Setup - Successful JSON parsed!\n",
      "\n",
      "Classifying prompts:  62%|█████████████████████████████████████████████████████████████████████████████████████████████▊                                                        | 5/8 [01:38<00:44, 14.74s/it]\u001b[A2025-05-31 05:21:15,923 || INFO || MedRL-CoT Setup - Successful JSON parsed!\n",
      "\n",
      "Classifying prompts:  75%|████████████████████████████████████████████████████████████████████████████████████████████████████████████████▌                                     | 6/8 [02:14<00:43, 21.75s/it]\u001b[A2025-05-31 05:21:25,936 || WARNING || MedRL-CoT Setup - Invalid JSON, trying conversion\n",
      "2025-05-31 05:21:25,937 || INFO || MedRL-CoT Setup - Successful conversion!\n",
      "\n",
      "Classifying prompts:  88%|███████████████████████████████████████████████████████████████████████████████████████████████████████████████████████████████████▎                  | 7/8 [02:24<00:17, 17.91s/it]\u001b[A2025-05-31 05:21:42,925 || WARNING || MedRL-CoT Setup - Invalid JSON, trying conversion\n",
      "2025-05-31 05:21:42,926 || INFO || MedRL-CoT Setup - Successful conversion!\n",
      "\n",
      "Classifying prompts: 100%|██████████████████████████████████████████████████████████████████████████████████████████████████████████████████████████████████████████████████████| 8/8 [02:41<00:00, 17.62s/it]\u001b[A\n",
      "                                                                                                                                                                                                              \u001b[A2025-05-31 05:21:42,930 || INFO || MedRL-CoT Setup - Dumping checkpoint\n"
     ]
    },
    {
     "data": {
      "application/vnd.jupyter.widget-view+json": {
       "model_id": "c4451f47af6b4e38ab2d900aeb0d29e3",
       "version_major": 2,
       "version_minor": 0
      },
      "text/plain": [
       "Saving the dataset (0/1 shards):   0%|          | 0/6461 [00:00<?, ? examples/s]"
      ]
     },
     "metadata": {},
     "output_type": "display_data"
    },
    {
     "name": "stderr",
     "output_type": "stream",
     "text": [
      "Preprocessing dataset:   1%|█▎                                                                                                                                    | 303/30000 [1:57:45<1129:04:30, 136.87s/it]2025-05-31 05:21:42,995 || INFO || MedRL-CoT Setup - Preprocessing example 303\n",
      "\n",
      "Classifying prompts:   0%|                                                                                                                                                              | 0/6 [00:00<?, ?it/s]\u001b[A2025-05-31 05:22:08,627 || WARNING || MedRL-CoT Setup - Invalid JSON, trying conversion\n",
      "2025-05-31 05:22:08,628 || INFO || MedRL-CoT Setup - Successful conversion!\n",
      "\n",
      "Classifying prompts:  17%|█████████████████████████                                                                                                                             | 1/6 [00:25<02:07, 25.52s/it]\u001b[A2025-05-31 05:22:31,316 || WARNING || MedRL-CoT Setup - Invalid JSON, trying conversion\n",
      "2025-05-31 05:22:31,317 || INFO || MedRL-CoT Setup - Successful conversion!\n",
      "\n",
      "Classifying prompts:  33%|██████████████████████████████████████████████████                                                                                                    | 2/6 [00:48<01:35, 23.86s/it]\u001b[A2025-05-31 05:23:40,072 || WARNING || MedRL-CoT Setup - Invalid JSON, trying conversion\n",
      "2025-05-31 05:23:40,073 || INFO || MedRL-CoT Setup - Successful conversion!\n",
      "\n",
      "Classifying prompts:  50%|███████████████████████████████████████████████████████████████████████████                                                                           | 3/6 [01:56<02:13, 44.36s/it]\u001b[A2025-05-31 05:24:02,366 || INFO || MedRL-CoT Setup - Successful JSON parsed!\n",
      "\n",
      "Classifying prompts:  67%|████████████████████████████████████████████████████████████████████████████████████████████████████                                                  | 4/6 [02:19<01:11, 35.65s/it]\u001b[A2025-05-31 05:25:18,946 || ERROR || MedRL-CoT Setup - Nothing found, bad example!\n",
      "\n",
      "Classifying prompts:  83%|█████████████████████████████████████████████████████████████████████████████████████████████████████████████████████████████                         | 5/6 [03:35<00:50, 50.41s/it]\u001b[A2025-05-31 05:25:42,430 || INFO || MedRL-CoT Setup - Successful JSON parsed!\n",
      "\n",
      "Classifying prompts: 100%|██████████████████████████████████████████████████████████████████████████████████████████████████████████████████████████████████████████████████████| 6/6 [03:59<00:00, 41.25s/it]\u001b[A\n",
      "                                                                                                                                                                                                              \u001b[A2025-05-31 05:25:42,434 || INFO || MedRL-CoT Setup - Dumping checkpoint\n"
     ]
    },
    {
     "data": {
      "application/vnd.jupyter.widget-view+json": {
       "model_id": "5303e0fd851243e98a000dce7f24de03",
       "version_major": 2,
       "version_minor": 0
      },
      "text/plain": [
       "Saving the dataset (0/1 shards):   0%|          | 0/6504 [00:00<?, ? examples/s]"
      ]
     },
     "metadata": {},
     "output_type": "display_data"
    },
    {
     "name": "stderr",
     "output_type": "stream",
     "text": [
      "Preprocessing dataset:   1%|█▎                                                                                                                                    | 304/30000 [2:01:44<1383:01:21, 167.66s/it]2025-05-31 05:25:42,501 || INFO || MedRL-CoT Setup - Preprocessing example 304\n",
      "\n",
      "Classifying prompts:   0%|                                                                                                                                                              | 0/5 [00:00<?, ?it/s]\u001b[A2025-05-31 05:26:04,318 || WARNING || MedRL-CoT Setup - Invalid JSON, trying conversion\n",
      "2025-05-31 05:26:04,319 || INFO || MedRL-CoT Setup - Successful conversion!\n",
      "\n",
      "Classifying prompts:  20%|██████████████████████████████                                                                                                                        | 1/5 [00:21<01:26, 21.71s/it]\u001b[A2025-05-31 05:26:56,504 || WARNING || MedRL-CoT Setup - Invalid JSON, trying conversion\n",
      "2025-05-31 05:26:56,505 || INFO || MedRL-CoT Setup - Successful conversion!\n",
      "\n",
      "Classifying prompts:  40%|████████████████████████████████████████████████████████████                                                                                          | 2/5 [01:13<01:58, 39.64s/it]\u001b[A2025-05-31 05:27:39,945 || WARNING || MedRL-CoT Setup - Invalid JSON, trying conversion\n",
      "2025-05-31 05:27:39,946 || INFO || MedRL-CoT Setup - Successful conversion!\n",
      "\n",
      "Classifying prompts:  60%|██████████████████████████████████████████████████████████████████████████████████████████                                                            | 3/5 [01:57<01:22, 41.37s/it]\u001b[A2025-05-31 05:27:51,900 || INFO || MedRL-CoT Setup - Successful JSON parsed!\n",
      "\n",
      "Classifying prompts:  80%|████████████████████████████████████████████████████████████████████████████████████████████████████████████████████████                              | 4/5 [02:09<00:29, 29.76s/it]\u001b[A2025-05-31 05:28:05,662 || WARNING || MedRL-CoT Setup - Invalid JSON, trying conversion\n",
      "2025-05-31 05:28:05,663 || INFO || MedRL-CoT Setup - Successful conversion!\n",
      "\n",
      "Classifying prompts: 100%|██████████████████████████████████████████████████████████████████████████████████████████████████████████████████████████████████████████████████████| 5/5 [02:23<00:00, 23.99s/it]\u001b[A\n",
      "                                                                                                                                                                                                              \u001b[A2025-05-31 05:28:05,668 || INFO || MedRL-CoT Setup - Dumping checkpoint\n"
     ]
    },
    {
     "data": {
      "application/vnd.jupyter.widget-view+json": {
       "model_id": "7270267a3f2e4e12bf0936891e936573",
       "version_major": 2,
       "version_minor": 0
      },
      "text/plain": [
       "Saving the dataset (0/1 shards):   0%|          | 0/6545 [00:00<?, ? examples/s]"
      ]
     },
     "metadata": {},
     "output_type": "display_data"
    },
    {
     "name": "stderr",
     "output_type": "stream",
     "text": [
      "Preprocessing dataset:   1%|█▎                                                                                                                                    | 305/30000 [2:04:08<1322:31:40, 160.33s/it]2025-05-31 05:28:05,735 || INFO || MedRL-CoT Setup - Preprocessing example 305\n",
      "\n",
      "Classifying prompts:   0%|                                                                                                                                                              | 0/7 [00:00<?, ?it/s]\u001b[A2025-05-31 05:28:17,981 || WARNING || MedRL-CoT Setup - Invalid JSON, trying conversion\n",
      "2025-05-31 05:28:17,982 || INFO || MedRL-CoT Setup - Successful conversion!\n",
      "\n",
      "Classifying prompts:  14%|█████████████████████▍                                                                                                                                | 1/7 [00:12<01:12, 12.14s/it]\u001b[A2025-05-31 05:28:42,384 || WARNING || MedRL-CoT Setup - Invalid JSON, trying conversion\n",
      "2025-05-31 05:28:42,385 || INFO || MedRL-CoT Setup - Successful conversion!\n",
      "\n",
      "Classifying prompts:  29%|██████████████████████████████████████████▊                                                                                                           | 2/7 [00:36<01:36, 19.35s/it]\u001b[A2025-05-31 05:29:06,657 || WARNING || MedRL-CoT Setup - Invalid JSON, trying conversion\n",
      "2025-05-31 05:29:06,658 || INFO || MedRL-CoT Setup - Successful conversion!\n",
      "\n",
      "Classifying prompts:  43%|████████████████████████████████████████████████████████████████▎                                                                                     | 3/7 [01:00<01:26, 21.60s/it]\u001b[A2025-05-31 05:29:19,744 || INFO || MedRL-CoT Setup - Successful JSON parsed!\n",
      "\n",
      "Classifying prompts:  57%|█████████████████████████████████████████████████████████████████████████████████████▋                                                                | 4/7 [01:13<00:54, 18.24s/it]\u001b[A2025-05-31 05:29:59,154 || INFO || MedRL-CoT Setup - Successful JSON parsed!\n",
      "\n",
      "Classifying prompts:  71%|███████████████████████████████████████████████████████████████████████████████████████████████████████████▏                                          | 5/7 [01:53<00:51, 25.87s/it]\u001b[A2025-05-31 05:30:16,445 || WARNING || MedRL-CoT Setup - Invalid JSON, trying conversion\n",
      "2025-05-31 05:30:16,447 || INFO || MedRL-CoT Setup - Successful conversion!\n",
      "\n",
      "Classifying prompts:  86%|████████████████████████████████████████████████████████████████████████████████████████████████████████████████████████████████▌                     | 6/7 [02:10<00:22, 22.96s/it]\u001b[A2025-05-31 05:30:29,197 || WARNING || MedRL-CoT Setup - Invalid JSON, trying conversion\n",
      "2025-05-31 05:30:29,198 || INFO || MedRL-CoT Setup - Successful conversion!\n",
      "\n",
      "Classifying prompts: 100%|██████████████████████████████████████████████████████████████████████████████████████████████████████████████████████████████████████████████████████| 7/7 [02:23<00:00, 19.62s/it]\u001b[A\n",
      "                                                                                                                                                                                                              \u001b[A2025-05-31 05:30:29,203 || INFO || MedRL-CoT Setup - Dumping checkpoint\n"
     ]
    },
    {
     "data": {
      "application/vnd.jupyter.widget-view+json": {
       "model_id": "6f80a961569b46ee9dde432ebdd2e2a8",
       "version_major": 2,
       "version_minor": 0
      },
      "text/plain": [
       "Saving the dataset (0/1 shards):   0%|          | 0/6586 [00:00<?, ? examples/s]"
      ]
     },
     "metadata": {},
     "output_type": "display_data"
    },
    {
     "name": "stderr",
     "output_type": "stream",
     "text": [
      "Preprocessing dataset:   1%|█▎                                                                                                                                    | 306/30000 [2:06:31<1280:54:53, 155.29s/it]2025-05-31 05:30:29,269 || INFO || MedRL-CoT Setup - Preprocessing example 306\n",
      "\n",
      "Classifying prompts:   0%|                                                                                                                                                              | 0/8 [00:00<?, ?it/s]\u001b[A2025-05-31 05:30:46,017 || INFO || MedRL-CoT Setup - Successful JSON parsed!\n",
      "\n",
      "Classifying prompts:  12%|██████████████████▊                                                                                                                                   | 1/8 [00:16<01:56, 16.64s/it]\u001b[A2025-05-31 05:30:54,747 || WARNING || MedRL-CoT Setup - Invalid JSON, trying conversion\n",
      "2025-05-31 05:30:54,747 || INFO || MedRL-CoT Setup - Successful conversion!\n",
      "\n",
      "Classifying prompts:  25%|█████████████████████████████████████▌                                                                                                                | 2/8 [00:25<01:11, 11.99s/it]\u001b[A2025-05-31 05:31:12,890 || WARNING || MedRL-CoT Setup - Invalid JSON, trying conversion\n",
      "2025-05-31 05:31:12,891 || INFO || MedRL-CoT Setup - Successful conversion!\n",
      "\n",
      "Classifying prompts:  38%|████████████████████████████████████████████████████████▎                                                                                             | 3/8 [00:43<01:13, 14.80s/it]\u001b[A2025-05-31 05:31:15,509 || INFO || MedRL-CoT Setup - Successful JSON parsed!\n",
      "\n",
      "Classifying prompts:  50%|███████████████████████████████████████████████████████████████████████████                                                                           | 4/8 [00:46<00:39,  9.99s/it]\u001b[A2025-05-31 05:31:50,196 || INFO || MedRL-CoT Setup - Successful JSON parsed!\n",
      "\n",
      "Classifying prompts:  62%|█████████████████████████████████████████████████████████████████████████████████████████████▊                                                        | 5/8 [01:20<00:56, 18.90s/it]\u001b[A2025-05-31 05:32:07,331 || INFO || MedRL-CoT Setup - Successful JSON parsed!\n",
      "\n",
      "Classifying prompts:  75%|████████████████████████████████████████████████████████████████████████████████████████████████████████████████▌                                     | 6/8 [01:37<00:36, 18.30s/it]\u001b[A2025-05-31 05:32:11,413 || INFO || MedRL-CoT Setup - Successful JSON parsed!\n",
      "\n",
      "Classifying prompts:  88%|███████████████████████████████████████████████████████████████████████████████████████████████████████████████████████████████████▎                  | 7/8 [01:42<00:13, 13.65s/it]\u001b[A2025-05-31 05:32:30,185 || WARNING || MedRL-CoT Setup - Invalid JSON, trying conversion\n",
      "2025-05-31 05:32:30,186 || INFO || MedRL-CoT Setup - Successful conversion!\n",
      "\n",
      "Classifying prompts: 100%|██████████████████████████████████████████████████████████████████████████████████████████████████████████████████████████████████████████████████████| 8/8 [02:00<00:00, 15.28s/it]\u001b[A\n",
      "                                                                                                                                                                                                              \u001b[A2025-05-31 05:32:30,190 || INFO || MedRL-CoT Setup - Dumping checkpoint\n"
     ]
    },
    {
     "data": {
      "application/vnd.jupyter.widget-view+json": {
       "model_id": "55698b09095e43fcb29361ab5e2e68f2",
       "version_major": 2,
       "version_minor": 0
      },
      "text/plain": [
       "Saving the dataset (0/1 shards):   0%|          | 0/6620 [00:00<?, ? examples/s]"
      ]
     },
     "metadata": {},
     "output_type": "display_data"
    },
    {
     "name": "stderr",
     "output_type": "stream",
     "text": [
      "Preprocessing dataset:   1%|█▎                                                                                                                                    | 307/30000 [2:08:32<1195:59:03, 145.00s/it]2025-05-31 05:32:30,257 || INFO || MedRL-CoT Setup - Preprocessing example 307\n",
      "\n",
      "Classifying prompts:   0%|                                                                                                                                                              | 0/5 [00:00<?, ?it/s]\u001b[A2025-05-31 05:33:51,656 || WARNING || MedRL-CoT Setup - Invalid JSON, trying conversion\n",
      "2025-05-31 05:33:51,657 || INFO || MedRL-CoT Setup - Successful conversion!\n",
      "\n",
      "Classifying prompts:  20%|██████████████████████████████                                                                                                                        | 1/5 [01:21<05:25, 81.29s/it]\u001b[A2025-05-31 05:34:03,957 || WARNING || MedRL-CoT Setup - Invalid JSON, trying conversion\n",
      "2025-05-31 05:34:03,958 || INFO || MedRL-CoT Setup - Successful conversion!\n",
      "\n",
      "Classifying prompts:  40%|████████████████████████████████████████████████████████████                                                                                          | 2/5 [01:33<02:02, 40.71s/it]\u001b[A2025-05-31 05:34:24,284 || WARNING || MedRL-CoT Setup - Invalid JSON, trying conversion\n",
      "2025-05-31 05:34:24,285 || INFO || MedRL-CoT Setup - Successful conversion!\n",
      "\n",
      "Classifying prompts:  60%|██████████████████████████████████████████████████████████████████████████████████████████                                                            | 3/5 [01:53<01:02, 31.40s/it]\u001b[A2025-05-31 05:34:47,483 || WARNING || MedRL-CoT Setup - Invalid JSON, trying conversion\n",
      "2025-05-31 05:34:47,483 || INFO || MedRL-CoT Setup - Successful conversion!\n",
      "\n",
      "Classifying prompts:  80%|████████████████████████████████████████████████████████████████████████████████████████████████████████████████████████                              | 4/5 [02:17<00:28, 28.16s/it]\u001b[A2025-05-31 05:35:02,793 || WARNING || MedRL-CoT Setup - Invalid JSON, trying conversion\n",
      "2025-05-31 05:35:02,794 || INFO || MedRL-CoT Setup - Successful conversion!\n",
      "\n",
      "Classifying prompts: 100%|██████████████████████████████████████████████████████████████████████████████████████████████████████████████████████████████████████████████████████| 5/5 [02:32<00:00, 23.53s/it]\u001b[A\n",
      "                                                                                                                                                                                                              \u001b[A2025-05-31 05:35:02,799 || INFO || MedRL-CoT Setup - Dumping checkpoint\n"
     ]
    },
    {
     "data": {
      "application/vnd.jupyter.widget-view+json": {
       "model_id": "f73f2516e6e949b8be9faf6552f9cd04",
       "version_major": 2,
       "version_minor": 0
      },
      "text/plain": [
       "Saving the dataset (0/1 shards):   0%|          | 0/6652 [00:00<?, ? examples/s]"
      ]
     },
     "metadata": {},
     "output_type": "display_data"
    },
    {
     "name": "stderr",
     "output_type": "stream",
     "text": [
      "Preprocessing dataset:   1%|█▍                                                                                                                                    | 308/30000 [2:11:05<1214:45:50, 147.28s/it]2025-05-31 05:35:02,865 || INFO || MedRL-CoT Setup - Preprocessing example 308\n",
      "\n",
      "Classifying prompts:   0%|                                                                                                                                                              | 0/3 [00:00<?, ?it/s]\u001b[A2025-05-31 05:35:37,960 || INFO || MedRL-CoT Setup - Successful JSON parsed!\n",
      "\n",
      "Classifying prompts:  33%|██████████████████████████████████████████████████                                                                                                    | 1/3 [00:34<01:09, 34.98s/it]\u001b[A2025-05-31 05:36:15,319 || WARNING || MedRL-CoT Setup - Invalid JSON, trying conversion\n",
      "2025-05-31 05:36:15,320 || INFO || MedRL-CoT Setup - Successful conversion!\n",
      "\n",
      "Classifying prompts:  67%|████████████████████████████████████████████████████████████████████████████████████████████████████                                                  | 2/3 [01:12<00:36, 36.38s/it]\u001b[A2025-05-31 05:36:22,834 || INFO || MedRL-CoT Setup - Successful JSON parsed!\n",
      "\n",
      "Classifying prompts: 100%|██████████████████████████████████████████████████████████████████████████████████████████████████████████████████████████████████████████████████████| 3/3 [01:19<00:00, 23.20s/it]\u001b[A\n",
      "                                                                                                                                                                                                              \u001b[A2025-05-31 05:36:22,839 || INFO || MedRL-CoT Setup - Dumping checkpoint\n"
     ]
    },
    {
     "data": {
      "application/vnd.jupyter.widget-view+json": {
       "model_id": "c606107963eb451089ca16e02adea63c",
       "version_major": 2,
       "version_minor": 0
      },
      "text/plain": [
       "Saving the dataset (0/1 shards):   0%|          | 0/6684 [00:00<?, ? examples/s]"
      ]
     },
     "metadata": {},
     "output_type": "display_data"
    },
    {
     "name": "stderr",
     "output_type": "stream",
     "text": [
      "Preprocessing dataset:   1%|█▍                                                                                                                                    | 309/30000 [2:12:25<1048:20:45, 127.11s/it]2025-05-31 05:36:22,906 || INFO || MedRL-CoT Setup - Preprocessing example 309\n",
      "\n",
      "Classifying prompts:   0%|                                                                                                                                                              | 0/4 [00:00<?, ?it/s]\u001b[A2025-05-31 05:36:34,252 || WARNING || MedRL-CoT Setup - Invalid JSON, trying conversion\n",
      "2025-05-31 05:36:34,253 || INFO || MedRL-CoT Setup - Successful conversion!\n",
      "\n",
      "Classifying prompts:  25%|█████████████████████████████████████▌                                                                                                                | 1/4 [00:11<00:33, 11.24s/it]\u001b[A2025-05-31 05:36:46,544 || INFO || MedRL-CoT Setup - Successful JSON parsed!\n",
      "\n",
      "Classifying prompts:  50%|███████████████████████████████████████████████████████████████████████████                                                                           | 2/4 [00:23<00:23, 11.86s/it]\u001b[A2025-05-31 05:37:21,429 || WARNING || MedRL-CoT Setup - Invalid JSON, trying conversion\n",
      "2025-05-31 05:37:21,430 || INFO || MedRL-CoT Setup - Successful conversion!\n",
      "\n",
      "Classifying prompts:  75%|████████████████████████████████████████████████████████████████████████████████████████████████████████████████▌                                     | 3/4 [00:58<00:22, 22.37s/it]\u001b[A2025-05-31 05:37:32,601 || WARNING || MedRL-CoT Setup - Invalid JSON, trying conversion\n",
      "2025-05-31 05:37:32,601 || INFO || MedRL-CoT Setup - Successful conversion!\n",
      "\n",
      "Classifying prompts: 100%|██████████████████████████████████████████████████████████████████████████████████████████████████████████████████████████████████████████████████████| 4/4 [01:09<00:00, 17.95s/it]\u001b[A\n",
      "                                                                                                                                                                                                              \u001b[A2025-05-31 05:37:32,606 || INFO || MedRL-CoT Setup - Dumping checkpoint\n"
     ]
    },
    {
     "data": {
      "application/vnd.jupyter.widget-view+json": {
       "model_id": "d1134e54cfba427ebf09c87cf4622ffc",
       "version_major": 2,
       "version_minor": 0
      },
      "text/plain": [
       "Saving the dataset (0/1 shards):   0%|          | 0/6707 [00:00<?, ? examples/s]"
      ]
     },
     "metadata": {},
     "output_type": "display_data"
    },
    {
     "name": "stderr",
     "output_type": "stream",
     "text": [
      "Preprocessing dataset:   1%|█▍                                                                                                                                     | 310/30000 [2:13:35<906:26:14, 109.91s/it]2025-05-31 05:37:32,675 || INFO || MedRL-CoT Setup - Preprocessing example 310\n",
      "\n",
      "Classifying prompts:   0%|                                                                                                                                                              | 0/2 [00:00<?, ?it/s]\u001b[A2025-05-31 05:38:08,204 || INFO || MedRL-CoT Setup - Successful JSON parsed!\n",
      "\n",
      "Classifying prompts:  50%|███████████████████████████████████████████████████████████████████████████                                                                           | 1/2 [00:35<00:35, 35.42s/it]\u001b[A2025-05-31 05:38:41,963 || WARNING || MedRL-CoT Setup - Invalid JSON, trying conversion\n",
      "2025-05-31 05:38:41,964 || INFO || MedRL-CoT Setup - Successful conversion!\n",
      "\n",
      "Classifying prompts: 100%|██████████████████████████████████████████████████████████████████████████████████████████████████████████████████████████████████████████████████████| 2/2 [01:09<00:00, 34.44s/it]\u001b[A\n",
      "                                                                                                                                                                                                              \u001b[A2025-05-31 05:38:41,970 || INFO || MedRL-CoT Setup - Dumping checkpoint\n"
     ]
    },
    {
     "data": {
      "application/vnd.jupyter.widget-view+json": {
       "model_id": "5fe6e56c851a4cbb850dea669267b89f",
       "version_major": 2,
       "version_minor": 0
      },
      "text/plain": [
       "Saving the dataset (0/1 shards):   0%|          | 0/6727 [00:00<?, ? examples/s]"
      ]
     },
     "metadata": {},
     "output_type": "display_data"
    },
    {
     "name": "stderr",
     "output_type": "stream",
     "text": [
      "Preprocessing dataset:   1%|█▍                                                                                                                                      | 311/30000 [2:14:44<806:05:38, 97.74s/it]2025-05-31 05:38:42,038 || INFO || MedRL-CoT Setup - Preprocessing example 311\n",
      "\n",
      "Classifying prompts:   0%|                                                                                                                                                              | 0/1 [00:00<?, ?it/s]\u001b[A2025-05-31 05:39:26,228 || INFO || MedRL-CoT Setup - Successful JSON parsed!\n",
      "\n",
      "Classifying prompts: 100%|██████████████████████████████████████████████████████████████████████████████████████████████████████████████████████████████████████████████████████| 1/1 [00:44<00:00, 44.08s/it]\u001b[A\n",
      "                                                                                                                                                                                                              \u001b[A2025-05-31 05:39:26,232 || INFO || MedRL-CoT Setup - Dumping checkpoint\n"
     ]
    },
    {
     "data": {
      "application/vnd.jupyter.widget-view+json": {
       "model_id": "b3a3971534b5447da0c1cae699b933f7",
       "version_major": 2,
       "version_minor": 0
      },
      "text/plain": [
       "Saving the dataset (0/1 shards):   0%|          | 0/6743 [00:00<?, ? examples/s]"
      ]
     },
     "metadata": {},
     "output_type": "display_data"
    },
    {
     "name": "stderr",
     "output_type": "stream",
     "text": [
      "Preprocessing dataset:   1%|█▍                                                                                                                                      | 312/30000 [2:15:28<673:45:18, 81.70s/it]2025-05-31 05:39:26,301 || INFO || MedRL-CoT Setup - Preprocessing example 312\n",
      "\n",
      "Classifying prompts:   0%|                                                                                                                                                              | 0/3 [00:00<?, ?it/s]\u001b[A2025-05-31 05:39:41,598 || WARNING || MedRL-CoT Setup - Invalid JSON, trying conversion\n",
      "2025-05-31 05:39:41,599 || INFO || MedRL-CoT Setup - Successful conversion!\n",
      "\n",
      "Classifying prompts:  33%|██████████████████████████████████████████████████                                                                                                    | 1/3 [00:15<00:30, 15.19s/it]\u001b[A2025-05-31 05:40:07,950 || WARNING || MedRL-CoT Setup - Invalid JSON, trying conversion\n",
      "2025-05-31 05:40:07,951 || INFO || MedRL-CoT Setup - Successful conversion!\n",
      "\n",
      "Classifying prompts:  67%|████████████████████████████████████████████████████████████████████████████████████████████████████                                                  | 2/3 [00:41<00:21, 21.76s/it]\u001b[A2025-05-31 05:40:27,007 || WARNING || MedRL-CoT Setup - Invalid JSON, trying conversion\n",
      "2025-05-31 05:40:27,008 || INFO || MedRL-CoT Setup - Successful conversion!\n",
      "\n",
      "Classifying prompts: 100%|██████████████████████████████████████████████████████████████████████████████████████████████████████████████████████████████████████████████████████| 3/3 [01:00<00:00, 20.52s/it]\u001b[A\n",
      "                                                                                                                                                                                                              \u001b[A2025-05-31 05:40:27,013 || INFO || MedRL-CoT Setup - Dumping checkpoint\n"
     ]
    },
    {
     "data": {
      "application/vnd.jupyter.widget-view+json": {
       "model_id": "10f01160e7f5419491c24447dc9b3c8c",
       "version_major": 2,
       "version_minor": 0
      },
      "text/plain": [
       "Saving the dataset (0/1 shards):   0%|          | 0/6760 [00:00<?, ? examples/s]"
      ]
     },
     "metadata": {},
     "output_type": "display_data"
    },
    {
     "name": "stderr",
     "output_type": "stream",
     "text": [
      "Preprocessing dataset:   1%|█▍                                                                                                                                      | 313/30000 [2:16:29<621:58:36, 75.42s/it]2025-05-31 05:40:27,081 || INFO || MedRL-CoT Setup - Preprocessing example 313\n",
      "\n",
      "Classifying prompts:   0%|                                                                                                                                                              | 0/7 [00:00<?, ?it/s]\u001b[A2025-05-31 05:40:50,957 || WARNING || MedRL-CoT Setup - Invalid JSON, trying conversion\n",
      "2025-05-31 05:40:50,958 || INFO || MedRL-CoT Setup - Successful conversion!\n",
      "\n",
      "Classifying prompts:  14%|█████████████████████▍                                                                                                                                | 1/7 [00:23<02:22, 23.77s/it]\u001b[A2025-05-31 05:41:02,646 || WARNING || MedRL-CoT Setup - Invalid JSON, trying conversion\n",
      "2025-05-31 05:41:02,648 || INFO || MedRL-CoT Setup - Successful conversion!\n",
      "\n",
      "Classifying prompts:  29%|██████████████████████████████████████████▊                                                                                                           | 2/7 [00:35<01:23, 16.66s/it]\u001b[A2025-05-31 05:41:12,036 || WARNING || MedRL-CoT Setup - Invalid JSON, trying conversion\n",
      "2025-05-31 05:41:12,037 || INFO || MedRL-CoT Setup - Successful conversion!\n",
      "\n",
      "Classifying prompts:  43%|████████████████████████████████████████████████████████████████▎                                                                                     | 3/7 [00:44<00:53, 13.34s/it]\u001b[A2025-05-31 05:41:19,640 || INFO || MedRL-CoT Setup - Successful JSON parsed!\n",
      "\n",
      "Classifying prompts:  57%|█████████████████████████████████████████████████████████████████████████████████████▋                                                                | 4/7 [00:52<00:33, 11.08s/it]\u001b[A2025-05-31 05:41:56,993 || WARNING || MedRL-CoT Setup - Invalid JSON, trying conversion\n",
      "2025-05-31 05:41:56,994 || INFO || MedRL-CoT Setup - Successful conversion!\n",
      "\n",
      "Classifying prompts:  71%|███████████████████████████████████████████████████████████████████████████████████████████████████████████▏                                          | 5/7 [01:29<00:41, 20.55s/it]\u001b[A2025-05-31 05:42:15,526 || WARNING || MedRL-CoT Setup - Invalid JSON, trying conversion\n",
      "2025-05-31 05:42:15,527 || INFO || MedRL-CoT Setup - Successful conversion!\n",
      "\n",
      "Classifying prompts:  86%|████████████████████████████████████████████████████████████████████████████████████████████████████████████████████████████████▌                     | 6/7 [01:48<00:19, 19.87s/it]\u001b[A2025-05-31 05:42:29,650 || WARNING || MedRL-CoT Setup - Invalid JSON, trying conversion\n",
      "2025-05-31 05:42:29,651 || INFO || MedRL-CoT Setup - Successful conversion!\n",
      "\n",
      "Classifying prompts: 100%|██████████████████████████████████████████████████████████████████████████████████████████████████████████████████████████████████████████████████████| 7/7 [02:02<00:00, 17.99s/it]\u001b[A\n",
      "                                                                                                                                                                                                              \u001b[A2025-05-31 05:42:29,656 || INFO || MedRL-CoT Setup - Dumping checkpoint\n"
     ]
    },
    {
     "data": {
      "application/vnd.jupyter.widget-view+json": {
       "model_id": "7105812ac6b64e40b93634e57dfb5e9b",
       "version_major": 2,
       "version_minor": 0
      },
      "text/plain": [
       "Saving the dataset (0/1 shards):   0%|          | 0/6792 [00:00<?, ? examples/s]"
      ]
     },
     "metadata": {},
     "output_type": "display_data"
    },
    {
     "name": "stderr",
     "output_type": "stream",
     "text": [
      "Preprocessing dataset:   1%|█▍                                                                                                                                      | 314/30000 [2:18:32<738:46:09, 89.59s/it]2025-05-31 05:42:29,725 || INFO || MedRL-CoT Setup - Preprocessing example 314\n",
      "\n",
      "Classifying prompts:   0%|                                                                                                                                                              | 0/1 [00:00<?, ?it/s]\u001b[A2025-05-31 05:43:59,096 || ERROR || MedRL-CoT Setup - Nothing found, bad example!\n",
      "\n",
      "Classifying prompts: 100%|██████████████████████████████████████████████████████████████████████████████████████████████████████████████████████████████████████████████████████| 1/1 [01:29<00:00, 89.26s/it]\u001b[A\n",
      "                                                                                                                                                                                                              \u001b[A2025-05-31 05:43:59,100 || INFO || MedRL-CoT Setup - Dumping checkpoint\n"
     ]
    },
    {
     "data": {
      "application/vnd.jupyter.widget-view+json": {
       "model_id": "66e675895e6041659bc2f49e4b4b282a",
       "version_major": 2,
       "version_minor": 0
      },
      "text/plain": [
       "Saving the dataset (0/1 shards):   0%|          | 0/6792 [00:00<?, ? examples/s]"
      ]
     },
     "metadata": {},
     "output_type": "display_data"
    },
    {
     "name": "stderr",
     "output_type": "stream",
     "text": [
      "Preprocessing dataset:   1%|█▍                                                                                                                                      | 315/30000 [2:20:01<738:22:47, 89.55s/it]2025-05-31 05:43:59,167 || INFO || MedRL-CoT Setup - Preprocessing example 315\n",
      "\n",
      "Classifying prompts:   0%|                                                                                                                                                              | 0/4 [00:00<?, ?it/s]\u001b[A2025-05-31 05:44:16,255 || WARNING || MedRL-CoT Setup - Invalid JSON, trying conversion\n",
      "2025-05-31 05:44:16,255 || INFO || MedRL-CoT Setup - Successful conversion!\n",
      "\n",
      "Classifying prompts:  25%|█████████████████████████████████████▌                                                                                                                | 1/4 [00:16<00:50, 16.98s/it]\u001b[A2025-05-31 05:44:42,732 || INFO || MedRL-CoT Setup - Successful JSON parsed!\n",
      "\n",
      "Classifying prompts:  50%|███████████████████████████████████████████████████████████████████████████                                                                           | 2/4 [00:43<00:45, 22.57s/it]\u001b[A2025-05-31 05:44:50,337 || INFO || MedRL-CoT Setup - Successful JSON parsed!\n",
      "\n",
      "Classifying prompts:  75%|████████████████████████████████████████████████████████████████████████████████████████████████████████████████▌                                     | 3/4 [00:51<00:15, 15.73s/it]\u001b[A2025-05-31 05:44:58,823 || WARNING || MedRL-CoT Setup - Invalid JSON, trying conversion\n",
      "2025-05-31 05:44:58,824 || INFO || MedRL-CoT Setup - Successful conversion!\n",
      "\n",
      "Classifying prompts: 100%|██████████████████████████████████████████████████████████████████████████████████████████████████████████████████████████████████████████████████████| 4/4 [00:59<00:00, 12.87s/it]\u001b[A\n",
      "                                                                                                                                                                                                              \u001b[A2025-05-31 05:44:58,828 || INFO || MedRL-CoT Setup - Dumping checkpoint\n"
     ]
    },
    {
     "data": {
      "application/vnd.jupyter.widget-view+json": {
       "model_id": "348c8339738e4b9eb6b970174f891e0c",
       "version_major": 2,
       "version_minor": 0
      },
      "text/plain": [
       "Saving the dataset (0/1 shards):   0%|          | 0/6804 [00:00<?, ? examples/s]"
      ]
     },
     "metadata": {},
     "output_type": "display_data"
    },
    {
     "name": "stderr",
     "output_type": "stream",
     "text": [
      "Preprocessing dataset:   1%|█▍                                                                                                                                      | 316/30000 [2:21:01<664:35:59, 80.60s/it]2025-05-31 05:44:58,897 || INFO || MedRL-CoT Setup - Preprocessing example 316\n",
      "\n",
      "Classifying prompts:   0%|                                                                                                                                                              | 0/1 [00:00<?, ?it/s]\u001b[A2025-05-31 05:46:25,441 || ERROR || MedRL-CoT Setup - Nothing found, bad example!\n",
      "\n",
      "Classifying prompts: 100%|██████████████████████████████████████████████████████████████████████████████████████████████████████████████████████████████████████████████████████| 1/1 [01:26<00:00, 86.43s/it]\u001b[A\n",
      "                                                                                                                                                                                                              \u001b[A2025-05-31 05:46:25,446 || INFO || MedRL-CoT Setup - Dumping checkpoint\n"
     ]
    },
    {
     "data": {
      "application/vnd.jupyter.widget-view+json": {
       "model_id": "e369feeb0188453989c5f8255bdcd5d5",
       "version_major": 2,
       "version_minor": 0
      },
      "text/plain": [
       "Saving the dataset (0/1 shards):   0%|          | 0/6804 [00:00<?, ? examples/s]"
      ]
     },
     "metadata": {},
     "output_type": "display_data"
    },
    {
     "name": "stderr",
     "output_type": "stream",
     "text": [
      "Preprocessing dataset:   1%|█▍                                                                                                                                      | 317/30000 [2:22:27<679:27:24, 82.41s/it]2025-05-31 05:46:25,513 || INFO || MedRL-CoT Setup - Preprocessing example 317\n",
      "\n",
      "Classifying prompts:   0%|                                                                                                                                                              | 0/2 [00:00<?, ?it/s]\u001b[A2025-05-31 05:47:00,401 || INFO || MedRL-CoT Setup - Successful JSON parsed!\n",
      "\n",
      "Classifying prompts:  50%|███████████████████████████████████████████████████████████████████████████                                                                           | 1/2 [00:34<00:34, 34.78s/it]\u001b[A2025-05-31 05:48:20,372 || ERROR || MedRL-CoT Setup - Nothing found, bad example!\n",
      "\n",
      "Classifying prompts: 100%|██████████████████████████████████████████████████████████████████████████████████████████████████████████████████████████████████████████████████████| 2/2 [01:54<00:00, 61.36s/it]\u001b[A\n",
      "                                                                                                                                                                                                              \u001b[A2025-05-31 05:48:20,377 || INFO || MedRL-CoT Setup - Dumping checkpoint\n"
     ]
    },
    {
     "data": {
      "application/vnd.jupyter.widget-view+json": {
       "model_id": "dabd11ddf3b94772aba304fbe706cae2",
       "version_major": 2,
       "version_minor": 0
      },
      "text/plain": [
       "Saving the dataset (0/1 shards):   0%|          | 0/6813 [00:00<?, ? examples/s]"
      ]
     },
     "metadata": {},
     "output_type": "display_data"
    },
    {
     "name": "stderr",
     "output_type": "stream",
     "text": [
      "Preprocessing dataset:   1%|█▍                                                                                                                                      | 318/30000 [2:24:22<759:53:00, 92.16s/it]2025-05-31 05:48:20,444 || INFO || MedRL-CoT Setup - Preprocessing example 318\n",
      "\n",
      "Classifying prompts:   0%|                                                                                                                                                              | 0/1 [00:00<?, ?it/s]\u001b[A2025-05-31 05:49:47,039 || ERROR || MedRL-CoT Setup - Nothing found, bad example!\n",
      "\n",
      "Classifying prompts: 100%|██████████████████████████████████████████████████████████████████████████████████████████████████████████████████████████████████████████████████████| 1/1 [01:26<00:00, 86.48s/it]\u001b[A\n",
      "                                                                                                                                                                                                              \u001b[A2025-05-31 05:49:47,043 || INFO || MedRL-CoT Setup - Dumping checkpoint\n"
     ]
    },
    {
     "data": {
      "application/vnd.jupyter.widget-view+json": {
       "model_id": "d02645357ef8492884dd5cf9b5eac7a5",
       "version_major": 2,
       "version_minor": 0
      },
      "text/plain": [
       "Saving the dataset (0/1 shards):   0%|          | 0/6813 [00:00<?, ? examples/s]"
      ]
     },
     "metadata": {},
     "output_type": "display_data"
    },
    {
     "name": "stderr",
     "output_type": "stream",
     "text": [
      "Preprocessing dataset:   1%|█▍                                                                                                                                      | 319/30000 [2:25:49<746:16:05, 90.51s/it]2025-05-31 05:49:47,112 || INFO || MedRL-CoT Setup - Preprocessing example 319\n",
      "\n",
      "Classifying prompts:   0%|                                                                                                                                                              | 0/2 [00:00<?, ?it/s]\u001b[A2025-05-31 05:50:22,640 || INFO || MedRL-CoT Setup - Successful JSON parsed!\n",
      "\n",
      "Classifying prompts:  50%|███████████████████████████████████████████████████████████████████████████                                                                           | 1/2 [00:35<00:35, 35.42s/it]\u001b[A2025-05-31 05:50:56,390 || WARNING || MedRL-CoT Setup - Invalid JSON, trying conversion\n",
      "2025-05-31 05:50:56,391 || INFO || MedRL-CoT Setup - Successful conversion!\n",
      "\n",
      "Classifying prompts: 100%|██████████████████████████████████████████████████████████████████████████████████████████████████████████████████████████████████████████████████████| 2/2 [01:09<00:00, 34.44s/it]\u001b[A\n",
      "                                                                                                                                                                                                              \u001b[A2025-05-31 05:50:56,396 || INFO || MedRL-CoT Setup - Dumping checkpoint\n"
     ]
    },
    {
     "data": {
      "application/vnd.jupyter.widget-view+json": {
       "model_id": "962ae64a19624e0585d68fdc8373a512",
       "version_major": 2,
       "version_minor": 0
      },
      "text/plain": [
       "Saving the dataset (0/1 shards):   0%|          | 0/6833 [00:00<?, ? examples/s]"
      ]
     },
     "metadata": {},
     "output_type": "display_data"
    },
    {
     "name": "stderr",
     "output_type": "stream",
     "text": [
      "Preprocessing dataset:   1%|█▍                                                                                                                                      | 320/30000 [2:26:58<693:54:20, 84.17s/it]2025-05-31 05:50:56,466 || INFO || MedRL-CoT Setup - Preprocessing example 320\n",
      "\n",
      "Classifying prompts:   0%|                                                                                                                                                              | 0/6 [00:00<?, ?it/s]\u001b[A2025-05-31 05:51:22,073 || WARNING || MedRL-CoT Setup - Invalid JSON, trying conversion\n",
      "2025-05-31 05:51:22,074 || INFO || MedRL-CoT Setup - Successful conversion!\n",
      "\n",
      "Classifying prompts:  17%|█████████████████████████                                                                                                                             | 1/6 [00:25<02:07, 25.50s/it]\u001b[A2025-05-31 05:51:44,738 || WARNING || MedRL-CoT Setup - Invalid JSON, trying conversion\n",
      "2025-05-31 05:51:44,739 || INFO || MedRL-CoT Setup - Successful conversion!\n",
      "\n",
      "Classifying prompts:  33%|██████████████████████████████████████████████████                                                                                                    | 2/6 [00:48<01:35, 23.83s/it]\u001b[A2025-05-31 05:52:53,508 || WARNING || MedRL-CoT Setup - Invalid JSON, trying conversion\n",
      "2025-05-31 05:52:53,509 || INFO || MedRL-CoT Setup - Successful conversion!\n",
      "\n",
      "Classifying prompts:  50%|███████████████████████████████████████████████████████████████████████████                                                                           | 3/6 [01:56<02:13, 44.35s/it]\u001b[A2025-05-31 05:53:15,810 || INFO || MedRL-CoT Setup - Successful JSON parsed!\n",
      "\n",
      "Classifying prompts:  67%|████████████████████████████████████████████████████████████████████████████████████████████████████                                                  | 4/6 [02:19<01:11, 35.65s/it]\u001b[A2025-05-31 05:54:32,341 || ERROR || MedRL-CoT Setup - Nothing found, bad example!\n",
      "\n",
      "Classifying prompts:  83%|█████████████████████████████████████████████████████████████████████████████████████████████████████████████████████████████                         | 5/6 [03:35<00:50, 50.39s/it]\u001b[A2025-05-31 05:54:55,822 || INFO || MedRL-CoT Setup - Successful JSON parsed!\n",
      "\n",
      "Classifying prompts: 100%|██████████████████████████████████████████████████████████████████████████████████████████████████████████████████████████████████████████████████████| 6/6 [03:59<00:00, 41.24s/it]\u001b[A\n",
      "                                                                                                                                                                                                              \u001b[A2025-05-31 05:54:55,827 || INFO || MedRL-CoT Setup - Dumping checkpoint\n"
     ]
    },
    {
     "data": {
      "application/vnd.jupyter.widget-view+json": {
       "model_id": "2fa9b6e58fb149c8bdb295d67ac545ea",
       "version_major": 2,
       "version_minor": 0
      },
      "text/plain": [
       "Saving the dataset (0/1 shards):   0%|          | 0/6876 [00:00<?, ? examples/s]"
      ]
     },
     "metadata": {},
     "output_type": "display_data"
    },
    {
     "name": "stderr",
     "output_type": "stream",
     "text": [
      "Preprocessing dataset:   1%|█▍                                                                                                                                    | 321/30000 [2:30:58<1077:53:04, 130.75s/it]2025-05-31 05:54:55,895 || INFO || MedRL-CoT Setup - Preprocessing example 321\n",
      "\n",
      "Classifying prompts:   0%|                                                                                                                                                              | 0/1 [00:00<?, ?it/s]\u001b[A2025-05-31 05:56:21,042 || ERROR || MedRL-CoT Setup - Nothing found, bad example!\n",
      "\n",
      "Classifying prompts: 100%|██████████████████████████████████████████████████████████████████████████████████████████████████████████████████████████████████████████████████████| 1/1 [01:25<00:00, 85.04s/it]\u001b[A\n",
      "                                                                                                                                                                                                              \u001b[A2025-05-31 05:56:21,047 || INFO || MedRL-CoT Setup - Dumping checkpoint\n"
     ]
    },
    {
     "data": {
      "application/vnd.jupyter.widget-view+json": {
       "model_id": "840edd4801874a678079d6dae3c642ca",
       "version_major": 2,
       "version_minor": 0
      },
      "text/plain": [
       "Saving the dataset (0/1 shards):   0%|          | 0/6876 [00:00<?, ? examples/s]"
      ]
     },
     "metadata": {},
     "output_type": "display_data"
    },
    {
     "name": "stderr",
     "output_type": "stream",
     "text": [
      "Preprocessing dataset:   1%|█▍                                                                                                                                     | 322/30000 [2:32:23<965:15:26, 117.09s/it]2025-05-31 05:56:21,115 || INFO || MedRL-CoT Setup - Preprocessing example 322\n",
      "\n",
      "Classifying prompts:   0%|                                                                                                                                                              | 0/1 [00:00<?, ?it/s]\u001b[A2025-05-31 05:57:55,474 || ERROR || MedRL-CoT Setup - Nothing found, bad example!\n",
      "\n",
      "Classifying prompts: 100%|██████████████████████████████████████████████████████████████████████████████████████████████████████████████████████████████████████████████████████| 1/1 [01:34<00:00, 94.25s/it]\u001b[A\n",
      "                                                                                                                                                                                                              \u001b[A2025-05-31 05:57:55,478 || INFO || MedRL-CoT Setup - Dumping checkpoint\n"
     ]
    },
    {
     "data": {
      "application/vnd.jupyter.widget-view+json": {
       "model_id": "dbb1697e3e304297837ec72bc97e8811",
       "version_major": 2,
       "version_minor": 0
      },
      "text/plain": [
       "Saving the dataset (0/1 shards):   0%|          | 0/6876 [00:00<?, ? examples/s]"
      ]
     },
     "metadata": {},
     "output_type": "display_data"
    },
    {
     "name": "stderr",
     "output_type": "stream",
     "text": [
      "Preprocessing dataset:   1%|█▍                                                                                                                                     | 323/30000 [2:33:57<909:11:47, 110.29s/it]2025-05-31 05:57:55,547 || INFO || MedRL-CoT Setup - Preprocessing example 323\n",
      "\n",
      "Classifying prompts:   0%|                                                                                                                                                              | 0/2 [00:00<?, ?it/s]\u001b[A2025-05-31 05:58:39,851 || WARNING || MedRL-CoT Setup - Invalid JSON, trying conversion\n",
      "2025-05-31 05:58:39,852 || INFO || MedRL-CoT Setup - Successful conversion!\n",
      "\n",
      "Classifying prompts:  50%|███████████████████████████████████████████████████████████████████████████                                                                           | 1/2 [00:44<00:44, 44.19s/it]\u001b[A2025-05-31 05:59:43,681 || WARNING || MedRL-CoT Setup - Invalid JSON, trying conversion\n",
      "2025-05-31 05:59:43,682 || INFO || MedRL-CoT Setup - Successful conversion!\n",
      "\n",
      "Classifying prompts: 100%|██████████████████████████████████████████████████████████████████████████████████████████████████████████████████████████████████████████████████████| 2/2 [01:48<00:00, 55.74s/it]\u001b[A\n",
      "                                                                                                                                                                                                              \u001b[A2025-05-31 05:59:43,686 || INFO || MedRL-CoT Setup - Dumping checkpoint\n"
     ]
    },
    {
     "data": {
      "application/vnd.jupyter.widget-view+json": {
       "model_id": "d29b5a99f4b941af85716a2f45f812e3",
       "version_major": 2,
       "version_minor": 0
      },
      "text/plain": [
       "Saving the dataset (0/1 shards):   0%|          | 0/6908 [00:00<?, ? examples/s]"
      ]
     },
     "metadata": {},
     "output_type": "display_data"
    },
    {
     "name": "stderr",
     "output_type": "stream",
     "text": [
      "Preprocessing dataset:   1%|█▍                                                                                                                                     | 324/30000 [2:35:46<904:00:58, 109.67s/it]2025-05-31 05:59:43,756 || INFO || MedRL-CoT Setup - Preprocessing example 324\n",
      "\n",
      "Classifying prompts:   0%|                                                                                                                                                              | 0/4 [00:00<?, ?it/s]\u001b[A2025-05-31 06:00:03,618 || WARNING || MedRL-CoT Setup - Invalid JSON, trying conversion\n",
      "2025-05-31 06:00:03,619 || INFO || MedRL-CoT Setup - Successful conversion!\n",
      "\n",
      "Classifying prompts:  25%|█████████████████████████████████████▌                                                                                                                | 1/4 [00:19<00:59, 19.75s/it]\u001b[A2025-05-31 06:00:18,249 || WARNING || MedRL-CoT Setup - Invalid JSON, trying conversion\n",
      "2025-05-31 06:00:18,250 || INFO || MedRL-CoT Setup - Successful conversion!\n",
      "\n",
      "Classifying prompts:  50%|███████████████████████████████████████████████████████████████████████████                                                                           | 2/4 [00:34<00:33, 16.74s/it]\u001b[A2025-05-31 06:00:33,370 || WARNING || MedRL-CoT Setup - Invalid JSON, trying conversion\n",
      "2025-05-31 06:00:33,371 || INFO || MedRL-CoT Setup - Successful conversion!\n",
      "\n",
      "Classifying prompts:  75%|████████████████████████████████████████████████████████████████████████████████████████████████████████████████▌                                     | 3/4 [00:49<00:16, 16.00s/it]\u001b[A2025-05-31 06:00:43,030 || WARNING || MedRL-CoT Setup - Invalid JSON, trying conversion\n",
      "2025-05-31 06:00:43,031 || INFO || MedRL-CoT Setup - Successful conversion!\n",
      "\n",
      "Classifying prompts: 100%|██████████████████████████████████████████████████████████████████████████████████████████████████████████████████████████████████████████████████████| 4/4 [00:59<00:00, 13.50s/it]\u001b[A\n",
      "                                                                                                                                                                                                              \u001b[A2025-05-31 06:00:43,036 || INFO || MedRL-CoT Setup - Dumping checkpoint\n"
     ]
    },
    {
     "data": {
      "application/vnd.jupyter.widget-view+json": {
       "model_id": "6921859dd17c452bab584b650ee7ff15",
       "version_major": 2,
       "version_minor": 0
      },
      "text/plain": [
       "Saving the dataset (0/1 shards):   0%|          | 0/6924 [00:00<?, ? examples/s]"
      ]
     },
     "metadata": {},
     "output_type": "display_data"
    },
    {
     "name": "stderr",
     "output_type": "stream",
     "text": [
      "Preprocessing dataset:   1%|█▍                                                                                                                                      | 325/30000 [2:36:45<779:33:27, 94.57s/it]2025-05-31 06:00:43,106 || INFO || MedRL-CoT Setup - Preprocessing example 325\n",
      "\n",
      "Classifying prompts:   0%|                                                                                                                                                             | 0/17 [00:00<?, ?it/s]\u001b[A2025-05-31 06:01:16,153 || INFO || MedRL-CoT Setup - Successful JSON parsed!\n",
      "\n",
      "Classifying prompts:   6%|████████▊                                                                                                                                            | 1/17 [00:32<08:46, 32.94s/it]\u001b[A2025-05-31 06:01:20,003 || INFO || MedRL-CoT Setup - Successful JSON parsed!\n",
      "\n",
      "Classifying prompts:  12%|█████████████████▌                                                                                                                                   | 2/17 [00:36<03:57, 15.83s/it]\u001b[A2025-05-31 06:01:24,581 || INFO || MedRL-CoT Setup - Successful JSON parsed!\n",
      "\n",
      "Classifying prompts:  18%|██████████████████████████▎                                                                                                                          | 3/17 [00:41<02:29, 10.69s/it]\u001b[A2025-05-31 06:01:35,145 || WARNING || MedRL-CoT Setup - Invalid JSON, trying conversion\n",
      "2025-05-31 06:01:35,146 || INFO || MedRL-CoT Setup - Successful conversion!\n",
      "\n",
      "Classifying prompts:  24%|███████████████████████████████████                                                                                                                  | 4/17 [00:51<02:18, 10.64s/it]\u001b[A2025-05-31 06:01:39,405 || INFO || MedRL-CoT Setup - Successful JSON parsed!\n",
      "\n",
      "Classifying prompts:  29%|███████████████████████████████████████████▊                                                                                                         | 5/17 [00:56<01:40,  8.34s/it]\u001b[A2025-05-31 06:01:48,612 || INFO || MedRL-CoT Setup - Successful JSON parsed!\n",
      "\n",
      "Classifying prompts:  35%|████████████████████████████████████████████████████▌                                                                                                | 6/17 [01:05<01:34,  8.63s/it]\u001b[A2025-05-31 06:03:13,093 || WARNING || MedRL-CoT Setup - Invalid JSON, trying conversion\n",
      "2025-05-31 06:03:13,094 || INFO || MedRL-CoT Setup - Successful conversion!\n",
      "\n",
      "Classifying prompts:  41%|█████████████████████████████████████████████████████████████▎                                                                                       | 7/17 [02:29<05:34, 33.43s/it]\u001b[A2025-05-31 06:03:15,433 || INFO || MedRL-CoT Setup - Successful JSON parsed!\n",
      "\n",
      "Classifying prompts:  47%|██████████████████████████████████████████████████████████████████████                                                                               | 8/17 [02:32<03:31, 23.53s/it]\u001b[A2025-05-31 06:03:18,731 || INFO || MedRL-CoT Setup - Successful JSON parsed!\n",
      "\n",
      "Classifying prompts:  53%|██████████████████████████████████████████████████████████████████████████████▉                                                                      | 9/17 [02:35<02:17, 17.21s/it]\u001b[A2025-05-31 06:03:21,166 || INFO || MedRL-CoT Setup - Successful JSON parsed!\n",
      "\n",
      "Classifying prompts:  59%|███████████████████████████████████████████████████████████████████████████████████████                                                             | 10/17 [02:37<01:28, 12.65s/it]\u001b[A2025-05-31 06:03:29,308 || INFO || MedRL-CoT Setup - Successful JSON parsed!\n",
      "\n",
      "Classifying prompts:  65%|███████████████████████████████████████████████████████████████████████████████████████████████▊                                                    | 11/17 [02:46<01:07, 11.27s/it]\u001b[A2025-05-31 06:03:31,587 || INFO || MedRL-CoT Setup - Successful JSON parsed!\n",
      "\n",
      "Classifying prompts:  71%|████████████████████████████████████████████████████████████████████████████████████████████████████████▍                                           | 12/17 [02:48<00:42,  8.53s/it]\u001b[A2025-05-31 06:03:38,964 || INFO || MedRL-CoT Setup - Successful JSON parsed!\n",
      "\n",
      "Classifying prompts:  76%|█████████████████████████████████████████████████████████████████████████████████████████████████████████████████▏                                  | 13/17 [02:55<00:32,  8.18s/it]\u001b[A2025-05-31 06:03:41,389 || INFO || MedRL-CoT Setup - Successful JSON parsed!\n",
      "\n",
      "Classifying prompts:  82%|█████████████████████████████████████████████████████████████████████████████████████████████████████████████████████████▉                          | 14/17 [02:58<00:19,  6.44s/it]\u001b[A2025-05-31 06:03:55,721 || INFO || MedRL-CoT Setup - Successful JSON parsed!\n",
      "\n",
      "Classifying prompts:  88%|██████████████████████████████████████████████████████████████████████████████████████████████████████████████████████████████████▌                 | 15/17 [03:12<00:17,  8.82s/it]\u001b[A2025-05-31 06:04:19,965 || INFO || MedRL-CoT Setup - Successful JSON parsed!\n",
      "\n",
      "Classifying prompts:  94%|███████████████████████████████████████████████████████████████████████████████████████████████████████████████████████████████████████████▎        | 16/17 [03:36<00:13, 13.46s/it]\u001b[A2025-05-31 06:04:22,386 || INFO || MedRL-CoT Setup - Successful JSON parsed!\n",
      "\n",
      "Classifying prompts: 100%|████████████████████████████████████████████████████████████████████████████████████████████████████████████████████████████████████████████████████| 17/17 [03:39<00:00, 10.14s/it]\u001b[A\n",
      "                                                                                                                                                                                                              \u001b[A2025-05-31 06:04:22,390 || INFO || MedRL-CoT Setup - Dumping checkpoint\n"
     ]
    },
    {
     "data": {
      "application/vnd.jupyter.widget-view+json": {
       "model_id": "6a5f706d0f0642fe813487b4c804199a",
       "version_major": 2,
       "version_minor": 0
      },
      "text/plain": [
       "Saving the dataset (0/1 shards):   0%|          | 0/6968 [00:00<?, ? examples/s]"
      ]
     },
     "metadata": {},
     "output_type": "display_data"
    },
    {
     "name": "stderr",
     "output_type": "stream",
     "text": [
      "Preprocessing dataset:   1%|█▍                                                                                                                                    | 326/30000 [2:40:24<1088:06:01, 132.01s/it]2025-05-31 06:04:22,461 || INFO || MedRL-CoT Setup - Preprocessing example 326\n",
      "\n",
      "Classifying prompts:   0%|                                                                                                                                                              | 0/2 [00:00<?, ?it/s]\u001b[A2025-05-31 06:04:54,005 || WARNING || MedRL-CoT Setup - Invalid JSON, trying conversion\n",
      "2025-05-31 06:04:54,006 || INFO || MedRL-CoT Setup - Successful conversion!\n",
      "\n",
      "Classifying prompts:  50%|███████████████████████████████████████████████████████████████████████████                                                                           | 1/2 [00:31<00:31, 31.44s/it]\u001b[A2025-05-31 06:05:14,960 || INFO || MedRL-CoT Setup - Successful JSON parsed!\n",
      "\n",
      "Classifying prompts: 100%|██████████████████████████████████████████████████████████████████████████████████████████████████████████████████████████████████████████████████████| 2/2 [00:52<00:00, 25.27s/it]\u001b[A\n",
      "                                                                                                                                                                                                              \u001b[A2025-05-31 06:05:14,964 || INFO || MedRL-CoT Setup - Dumping checkpoint\n"
     ]
    },
    {
     "data": {
      "application/vnd.jupyter.widget-view+json": {
       "model_id": "9d24e31911aa43eb8fa19060a0343510",
       "version_major": 2,
       "version_minor": 0
      },
      "text/plain": [
       "Saving the dataset (0/1 shards):   0%|          | 0/6983 [00:00<?, ? examples/s]"
      ]
     },
     "metadata": {},
     "output_type": "display_data"
    },
    {
     "name": "stderr",
     "output_type": "stream",
     "text": [
      "Preprocessing dataset:   1%|█▍                                                                                                                                     | 327/30000 [2:41:17<891:38:44, 108.18s/it]2025-05-31 06:05:15,035 || INFO || MedRL-CoT Setup - Preprocessing example 327\n",
      "\n",
      "Classifying prompts:   0%|                                                                                                                                                              | 0/1 [00:00<?, ?it/s]\u001b[A2025-05-31 06:06:41,486 || ERROR || MedRL-CoT Setup - Nothing found, bad example!\n",
      "\n",
      "Classifying prompts: 100%|██████████████████████████████████████████████████████████████████████████████████████████████████████████████████████████████████████████████████████| 1/1 [01:26<00:00, 86.34s/it]\u001b[A\n",
      "                                                                                                                                                                                                              \u001b[A2025-05-31 06:06:41,491 || INFO || MedRL-CoT Setup - Dumping checkpoint\n"
     ]
    },
    {
     "data": {
      "application/vnd.jupyter.widget-view+json": {
       "model_id": "33700577da2141ac8ec2d556112d3e0e",
       "version_major": 2,
       "version_minor": 0
      },
      "text/plain": [
       "Saving the dataset (0/1 shards):   0%|          | 0/6983 [00:00<?, ? examples/s]"
      ]
     },
     "metadata": {},
     "output_type": "display_data"
    },
    {
     "name": "stderr",
     "output_type": "stream",
     "text": [
      "Preprocessing dataset:   1%|█▍                                                                                                                                     | 328/30000 [2:42:43<838:04:40, 101.68s/it]2025-05-31 06:06:41,559 || INFO || MedRL-CoT Setup - Preprocessing example 328\n",
      "\n",
      "Classifying prompts:   0%|                                                                                                                                                              | 0/1 [00:00<?, ?it/s]\u001b[A2025-05-31 06:07:40,937 || ERROR || MedRL-CoT Setup - Nothing found, bad example!\n",
      "\n",
      "Classifying prompts: 100%|██████████████████████████████████████████████████████████████████████████████████████████████████████████████████████████████████████████████████████| 1/1 [00:59<00:00, 59.27s/it]\u001b[A\n",
      "                                                                                                                                                                                                              \u001b[A2025-05-31 06:07:40,941 || INFO || MedRL-CoT Setup - Dumping checkpoint\n"
     ]
    },
    {
     "data": {
      "application/vnd.jupyter.widget-view+json": {
       "model_id": "a0de64a2fa7742b483297fc62ac51787",
       "version_major": 2,
       "version_minor": 0
      },
      "text/plain": [
       "Saving the dataset (0/1 shards):   0%|          | 0/6983 [00:00<?, ? examples/s]"
      ]
     },
     "metadata": {},
     "output_type": "display_data"
    },
    {
     "name": "stderr",
     "output_type": "stream",
     "text": [
      "Preprocessing dataset:   1%|█▍                                                                                                                                      | 329/30000 [2:43:43<733:38:14, 89.01s/it]2025-05-31 06:07:41,013 || INFO || MedRL-CoT Setup - Preprocessing example 329\n",
      "\n",
      "Classifying prompts:   0%|                                                                                                                                                              | 0/3 [00:00<?, ?it/s]\u001b[A2025-05-31 06:08:16,802 || INFO || MedRL-CoT Setup - Successful JSON parsed!\n",
      "\n",
      "Classifying prompts:  33%|██████████████████████████████████████████████████                                                                                                    | 1/3 [00:35<01:11, 35.68s/it]\u001b[A2025-05-31 06:08:36,161 || WARNING || MedRL-CoT Setup - Invalid JSON, trying conversion\n",
      "2025-05-31 06:08:36,162 || INFO || MedRL-CoT Setup - Successful conversion!\n",
      "\n",
      "Classifying prompts:  67%|████████████████████████████████████████████████████████████████████████████████████████████████████                                                  | 2/3 [00:55<00:26, 26.08s/it]\u001b[A2025-05-31 06:08:48,986 || WARNING || MedRL-CoT Setup - Invalid JSON, trying conversion\n",
      "2025-05-31 06:08:48,987 || INFO || MedRL-CoT Setup - Successful conversion!\n",
      "\n",
      "Classifying prompts: 100%|██████████████████████████████████████████████████████████████████████████████████████████████████████████████████████████████████████████████████████| 3/3 [01:07<00:00, 20.03s/it]\u001b[A\n",
      "                                                                                                                                                                                                              \u001b[A2025-05-31 06:08:48,992 || INFO || MedRL-CoT Setup - Dumping checkpoint\n"
     ]
    },
    {
     "data": {
      "application/vnd.jupyter.widget-view+json": {
       "model_id": "0455599b06944bcf868611079dfc3622",
       "version_major": 2,
       "version_minor": 0
      },
      "text/plain": [
       "Saving the dataset (0/1 shards):   0%|          | 0/7000 [00:00<?, ? examples/s]"
      ]
     },
     "metadata": {},
     "output_type": "display_data"
    },
    {
     "name": "stderr",
     "output_type": "stream",
     "text": [
      "Preprocessing dataset:   1%|█▍                                                                                                                                      | 330/30000 [2:44:51<681:46:44, 82.72s/it]2025-05-31 06:08:49,061 || INFO || MedRL-CoT Setup - Preprocessing example 330\n",
      "\n",
      "Classifying prompts:   0%|                                                                                                                                                              | 0/5 [00:00<?, ?it/s]\u001b[A2025-05-31 06:09:06,896 || WARNING || MedRL-CoT Setup - Invalid JSON, trying conversion\n",
      "2025-05-31 06:09:06,897 || INFO || MedRL-CoT Setup - Successful conversion!\n",
      "\n",
      "Classifying prompts:  20%|██████████████████████████████                                                                                                                        | 1/5 [00:17<01:10, 17.73s/it]\u001b[A2025-05-31 06:09:25,750 || WARNING || MedRL-CoT Setup - Invalid JSON, trying conversion\n",
      "2025-05-31 06:09:25,751 || INFO || MedRL-CoT Setup - Successful conversion!\n",
      "\n",
      "Classifying prompts:  40%|████████████████████████████████████████████████████████████                                                                                          | 2/5 [00:36<00:55, 18.39s/it]\u001b[A2025-05-31 06:09:39,488 || INFO || MedRL-CoT Setup - Successful JSON parsed!\n",
      "\n",
      "Classifying prompts:  60%|██████████████████████████████████████████████████████████████████████████████████████████                                                            | 3/5 [00:50<00:32, 16.27s/it]\u001b[A2025-05-31 06:09:55,800 || INFO || MedRL-CoT Setup - Successful JSON parsed!\n",
      "\n",
      "Classifying prompts:  80%|████████████████████████████████████████████████████████████████████████████████████████████████████████████████████████                              | 4/5 [01:06<00:16, 16.28s/it]\u001b[A2025-05-31 06:10:02,987 || INFO || MedRL-CoT Setup - Successful JSON parsed!\n",
      "\n",
      "Classifying prompts: 100%|██████████████████████████████████████████████████████████████████████████████████████████████████████████████████████████████████████████████████████| 5/5 [01:13<00:00, 13.00s/it]\u001b[A\n",
      "                                                                                                                                                                                                              \u001b[A2025-05-31 06:10:02,992 || INFO || MedRL-CoT Setup - Dumping checkpoint\n"
     ]
    },
    {
     "data": {
      "application/vnd.jupyter.widget-view+json": {
       "model_id": "6b73f6c0e5384d1ea05e46213ecc0834",
       "version_major": 2,
       "version_minor": 0
      },
      "text/plain": [
       "Saving the dataset (0/1 shards):   0%|          | 0/7017 [00:00<?, ? examples/s]"
      ]
     },
     "metadata": {},
     "output_type": "display_data"
    },
    {
     "name": "stderr",
     "output_type": "stream",
     "text": [
      "Preprocessing dataset:   1%|█▌                                                                                                                                      | 331/30000 [2:46:05<660:11:25, 80.11s/it]2025-05-31 06:10:03,062 || INFO || MedRL-CoT Setup - Preprocessing example 331\n",
      "\n",
      "Classifying prompts:   0%|                                                                                                                                                              | 0/3 [00:00<?, ?it/s]\u001b[A2025-05-31 06:10:42,981 || WARNING || MedRL-CoT Setup - Invalid JSON, trying conversion\n",
      "2025-05-31 06:10:42,982 || INFO || MedRL-CoT Setup - Successful conversion!\n",
      "\n",
      "Classifying prompts:  33%|██████████████████████████████████████████████████                                                                                                    | 1/3 [00:39<01:19, 39.81s/it]\u001b[A2025-05-31 06:10:55,032 || WARNING || MedRL-CoT Setup - Invalid JSON, trying conversion\n",
      "2025-05-31 06:10:55,033 || INFO || MedRL-CoT Setup - Successful conversion!\n",
      "\n",
      "Classifying prompts:  67%|████████████████████████████████████████████████████████████████████████████████████████████████████                                                  | 2/3 [00:51<00:23, 23.48s/it]\u001b[A2025-05-31 06:11:46,713 || ERROR || MedRL-CoT Setup - Nothing found, bad example!\n",
      "\n",
      "Classifying prompts: 100%|██████████████████████████████████████████████████████████████████████████████████████████████████████████████████████████████████████████████████████| 3/3 [01:43<00:00, 36.36s/it]\u001b[A\n",
      "                                                                                                                                                                                                              \u001b[A2025-05-31 06:11:46,718 || INFO || MedRL-CoT Setup - Dumping checkpoint\n"
     ]
    },
    {
     "data": {
      "application/vnd.jupyter.widget-view+json": {
       "model_id": "72aad388dda14c16888b30a32a81442c",
       "version_major": 2,
       "version_minor": 0
      },
      "text/plain": [
       "Saving the dataset (0/1 shards):   0%|          | 0/7020 [00:00<?, ? examples/s]"
      ]
     },
     "metadata": {},
     "output_type": "display_data"
    },
    {
     "name": "stderr",
     "output_type": "stream",
     "text": [
      "Preprocessing dataset:   1%|█▌                                                                                                                                      | 332/30000 [2:47:49<718:33:52, 87.19s/it]2025-05-31 06:11:46,788 || INFO || MedRL-CoT Setup - Preprocessing example 332\n",
      "\n",
      "Classifying prompts:   0%|                                                                                                                                                              | 0/9 [00:00<?, ?it/s]\u001b[A2025-05-31 06:11:57,417 || WARNING || MedRL-CoT Setup - Invalid JSON, trying conversion\n",
      "2025-05-31 06:11:57,418 || INFO || MedRL-CoT Setup - Successful conversion!\n",
      "\n",
      "Classifying prompts:  11%|████████████████▋                                                                                                                                     | 1/9 [00:10<01:24, 10.52s/it]\u001b[A2025-05-31 06:12:32,558 || WARNING || MedRL-CoT Setup - Invalid JSON, trying conversion\n",
      "2025-05-31 06:12:32,560 || INFO || MedRL-CoT Setup - Successful conversion!\n",
      "\n",
      "Classifying prompts:  22%|█████████████████████████████████▎                                                                                                                    | 2/9 [00:45<02:55, 25.00s/it]\u001b[A2025-05-31 06:12:54,948 || WARNING || MedRL-CoT Setup - Invalid JSON, trying conversion\n",
      "2025-05-31 06:12:54,950 || INFO || MedRL-CoT Setup - Successful conversion!\n",
      "\n",
      "Classifying prompts:  33%|██████████████████████████████████████████████████                                                                                                    | 3/9 [01:08<02:22, 23.81s/it]\u001b[A2025-05-31 06:13:15,511 || WARNING || MedRL-CoT Setup - Invalid JSON, trying conversion\n",
      "2025-05-31 06:13:15,512 || INFO || MedRL-CoT Setup - Successful conversion!\n",
      "\n",
      "Classifying prompts:  44%|██████████████████████████████████████████████████████████████████▋                                                                                   | 4/9 [01:28<01:52, 22.53s/it]\u001b[A2025-05-31 06:13:32,237 || WARNING || MedRL-CoT Setup - Invalid JSON, trying conversion\n",
      "2025-05-31 06:13:32,238 || INFO || MedRL-CoT Setup - Successful conversion!\n",
      "\n",
      "Classifying prompts:  56%|███████████████████████████████████████████████████████████████████████████████████▎                                                                  | 5/9 [01:45<01:21, 20.44s/it]\u001b[A2025-05-31 06:13:47,278 || INFO || MedRL-CoT Setup - Successful JSON parsed!\n",
      "\n",
      "Classifying prompts:  67%|████████████████████████████████████████████████████████████████████████████████████████████████████                                                  | 6/9 [02:00<00:55, 18.60s/it]\u001b[A2025-05-31 06:14:00,580 || INFO || MedRL-CoT Setup - Successful JSON parsed!\n",
      "\n",
      "Classifying prompts:  78%|████████████████████████████████████████████████████████████████████████████████████████████████████████████████████▋                                 | 7/9 [02:13<00:33, 16.87s/it]\u001b[A2025-05-31 06:14:19,925 || WARNING || MedRL-CoT Setup - Invalid JSON, trying conversion\n",
      "2025-05-31 06:14:19,926 || INFO || MedRL-CoT Setup - Successful conversion!\n",
      "\n",
      "Classifying prompts:  89%|█████████████████████████████████████████████████████████████████████████████████████████████████████████████████████████████████████▎                | 8/9 [02:33<00:17, 17.66s/it]\u001b[A2025-05-31 06:14:38,965 || WARNING || MedRL-CoT Setup - Invalid JSON, trying conversion\n",
      "2025-05-31 06:14:38,966 || INFO || MedRL-CoT Setup - Successful conversion!\n",
      "\n",
      "Classifying prompts: 100%|██████████████████████████████████████████████████████████████████████████████████████████████████████████████████████████████████████████████████████| 9/9 [02:52<00:00, 18.09s/it]\u001b[A\n",
      "                                                                                                                                                                                                              \u001b[A2025-05-31 06:14:38,970 || INFO || MedRL-CoT Setup - Dumping checkpoint\n"
     ]
    },
    {
     "data": {
      "application/vnd.jupyter.widget-view+json": {
       "model_id": "a65e654acf1a43ffb8dcdd2824974b30",
       "version_major": 2,
       "version_minor": 0
      },
      "text/plain": [
       "Saving the dataset (0/1 shards):   0%|          | 0/7066 [00:00<?, ? examples/s]"
      ]
     },
     "metadata": {},
     "output_type": "display_data"
    },
    {
     "name": "stderr",
     "output_type": "stream",
     "text": [
      "Preprocessing dataset:   1%|█▍                                                                                                                                     | 333/30000 [2:50:41<928:49:46, 112.71s/it]2025-05-31 06:14:39,041 || INFO || MedRL-CoT Setup - Preprocessing example 333\n",
      "\n",
      "Classifying prompts:   0%|                                                                                                                                                              | 0/4 [00:00<?, ?it/s]\u001b[A2025-05-31 06:15:10,930 || WARNING || MedRL-CoT Setup - Invalid JSON, trying conversion\n",
      "2025-05-31 06:15:10,931 || INFO || MedRL-CoT Setup - Successful conversion!\n",
      "\n",
      "Classifying prompts:  25%|█████████████████████████████████████▌                                                                                                                | 1/4 [00:31<01:35, 31.78s/it]\u001b[A2025-05-31 06:15:28,182 || INFO || MedRL-CoT Setup - Successful JSON parsed!\n",
      "\n",
      "Classifying prompts:  50%|███████████████████████████████████████████████████████████████████████████                                                                           | 2/4 [00:49<00:46, 23.23s/it]\u001b[A2025-05-31 06:16:06,999 || WARNING || MedRL-CoT Setup - Invalid JSON, trying conversion\n",
      "2025-05-31 06:16:07,000 || INFO || MedRL-CoT Setup - Successful conversion!\n",
      "\n",
      "Classifying prompts:  75%|████████████████████████████████████████████████████████████████████████████████████████████████████████████████▌                                     | 3/4 [01:27<00:30, 30.35s/it]\u001b[A2025-05-31 06:16:15,695 || WARNING || MedRL-CoT Setup - Invalid JSON, trying conversion\n",
      "2025-05-31 06:16:15,696 || INFO || MedRL-CoT Setup - Successful conversion!\n",
      "\n",
      "Classifying prompts: 100%|██████████████████████████████████████████████████████████████████████████████████████████████████████████████████████████████████████████████████████| 4/4 [01:36<00:00, 21.80s/it]\u001b[A\n",
      "                                                                                                                                                                                                              \u001b[A2025-05-31 06:16:15,700 || INFO || MedRL-CoT Setup - Dumping checkpoint\n"
     ]
    },
    {
     "data": {
      "application/vnd.jupyter.widget-view+json": {
       "model_id": "f8fa7646966e42cabb9bd724bd3a547e",
       "version_major": 2,
       "version_minor": 0
      },
      "text/plain": [
       "Saving the dataset (0/1 shards):   0%|          | 0/7098 [00:00<?, ? examples/s]"
      ]
     },
     "metadata": {},
     "output_type": "display_data"
    },
    {
     "name": "stderr",
     "output_type": "stream",
     "text": [
      "Preprocessing dataset:   1%|█▌                                                                                                                                     | 334/30000 [2:52:18<889:17:31, 107.92s/it]2025-05-31 06:16:15,771 || INFO || MedRL-CoT Setup - Preprocessing example 334\n",
      "\n",
      "Classifying prompts:   0%|                                                                                                                                                              | 0/2 [00:00<?, ?it/s]\u001b[A2025-05-31 06:17:00,028 || WARNING || MedRL-CoT Setup - Invalid JSON, trying conversion\n",
      "2025-05-31 06:17:00,030 || INFO || MedRL-CoT Setup - Successful conversion!\n",
      "\n",
      "Classifying prompts:  50%|███████████████████████████████████████████████████████████████████████████                                                                           | 1/2 [00:44<00:44, 44.15s/it]\u001b[A2025-05-31 06:18:03,857 || WARNING || MedRL-CoT Setup - Invalid JSON, trying conversion\n",
      "2025-05-31 06:18:03,858 || INFO || MedRL-CoT Setup - Successful conversion!\n",
      "\n",
      "Classifying prompts: 100%|██████████████████████████████████████████████████████████████████████████████████████████████████████████████████████████████████████████████████████| 2/2 [01:47<00:00, 55.73s/it]\u001b[A\n",
      "                                                                                                                                                                                                              \u001b[A2025-05-31 06:18:03,863 || INFO || MedRL-CoT Setup - Dumping checkpoint\n"
     ]
    },
    {
     "data": {
      "application/vnd.jupyter.widget-view+json": {
       "model_id": "700e098346e24f42b54298e633eb9bc8",
       "version_major": 2,
       "version_minor": 0
      },
      "text/plain": [
       "Saving the dataset (0/1 shards):   0%|          | 0/7130 [00:00<?, ? examples/s]"
      ]
     },
     "metadata": {},
     "output_type": "display_data"
    },
    {
     "name": "stderr",
     "output_type": "stream",
     "text": [
      "Preprocessing dataset:   1%|█▌                                                                                                                                     | 335/30000 [2:54:06<889:52:05, 107.99s/it]2025-05-31 06:18:03,933 || INFO || MedRL-CoT Setup - Preprocessing example 335\n",
      "\n",
      "Classifying prompts:   0%|                                                                                                                                                              | 0/7 [00:00<?, ?it/s]\u001b[A2025-05-31 06:18:25,107 || WARNING || MedRL-CoT Setup - Invalid JSON, trying conversion\n",
      "2025-05-31 06:18:25,108 || INFO || MedRL-CoT Setup - Successful conversion!\n",
      "\n",
      "Classifying prompts:  14%|█████████████████████▍                                                                                                                                | 1/7 [00:21<02:06, 21.06s/it]\u001b[A2025-05-31 06:18:47,462 || WARNING || MedRL-CoT Setup - Invalid JSON, trying conversion\n",
      "2025-05-31 06:18:47,462 || INFO || MedRL-CoT Setup - Successful conversion!\n",
      "\n",
      "Classifying prompts:  29%|██████████████████████████████████████████▊                                                                                                           | 2/7 [00:43<01:49, 21.82s/it]\u001b[A2025-05-31 06:19:06,372 || INFO || MedRL-CoT Setup - Successful JSON parsed!\n",
      "\n",
      "Classifying prompts:  43%|████████████████████████████████████████████████████████████████▎                                                                                     | 3/7 [01:02<01:21, 20.49s/it]\u001b[A2025-05-31 06:19:57,289 || WARNING || MedRL-CoT Setup - Invalid JSON, trying conversion\n",
      "2025-05-31 06:19:57,290 || INFO || MedRL-CoT Setup - Successful conversion!\n",
      "\n",
      "Classifying prompts:  57%|█████████████████████████████████████████████████████████████████████████████████████▋                                                                | 4/7 [01:53<01:37, 32.50s/it]\u001b[A2025-05-31 06:20:03,684 || INFO || MedRL-CoT Setup - Successful JSON parsed!\n",
      "\n",
      "Classifying prompts:  71%|███████████████████████████████████████████████████████████████████████████████████████████████████████████▏                                          | 5/7 [01:59<00:46, 23.09s/it]\u001b[A2025-05-31 06:20:21,815 || INFO || MedRL-CoT Setup - Successful JSON parsed!\n",
      "\n",
      "Classifying prompts:  86%|████████████████████████████████████████████████████████████████████████████████████████████████████████████████████████████████▌                     | 6/7 [02:17<00:21, 21.40s/it]\u001b[A2025-05-31 06:20:53,868 || WARNING || MedRL-CoT Setup - Invalid JSON, trying conversion\n",
      "2025-05-31 06:20:53,869 || INFO || MedRL-CoT Setup - Successful conversion!\n",
      "\n",
      "Classifying prompts: 100%|██████████████████████████████████████████████████████████████████████████████████████████████████████████████████████████████████████████████████████| 7/7 [02:49<00:00, 24.89s/it]\u001b[A\n",
      "                                                                                                                                                                                                              \u001b[A2025-05-31 06:20:53,874 || INFO || MedRL-CoT Setup - Dumping checkpoint\n"
     ]
    },
    {
     "data": {
      "application/vnd.jupyter.widget-view+json": {
       "model_id": "4fb43ae620334883a44755b052cf5f62",
       "version_major": 2,
       "version_minor": 0
      },
      "text/plain": [
       "Saving the dataset (0/1 shards):   0%|          | 0/7175 [00:00<?, ? examples/s]"
      ]
     },
     "metadata": {},
     "output_type": "display_data"
    },
    {
     "name": "stderr",
     "output_type": "stream",
     "text": [
      "Preprocessing dataset:   1%|█▌                                                                                                                                    | 336/30000 [2:56:56<1043:09:22, 126.60s/it]2025-05-31 06:20:53,945 || INFO || MedRL-CoT Setup - Preprocessing example 336\n",
      "\n",
      "Classifying prompts:   0%|                                                                                                                                                              | 0/6 [00:00<?, ?it/s]\u001b[A2025-05-31 06:21:10,041 || ERROR || MedRL-CoT Setup - Nothing found, bad example!\n",
      "\n",
      "Classifying prompts:  17%|█████████████████████████                                                                                                                             | 1/6 [00:15<01:19, 15.98s/it]\u001b[A2025-05-31 06:21:23,835 || INFO || MedRL-CoT Setup - Successful JSON parsed!\n",
      "\n",
      "Classifying prompts:  33%|██████████████████████████████████████████████████                                                                                                    | 2/6 [00:29<00:58, 14.70s/it]\u001b[A2025-05-31 06:21:30,643 || INFO || MedRL-CoT Setup - Successful JSON parsed!\n",
      "\n",
      "Classifying prompts:  50%|███████████████████████████████████████████████████████████████████████████                                                                           | 3/6 [00:36<00:33, 11.09s/it]\u001b[A2025-05-31 06:21:46,359 || WARNING || MedRL-CoT Setup - Invalid JSON, trying conversion\n",
      "2025-05-31 06:21:46,360 || INFO || MedRL-CoT Setup - Successful conversion!\n",
      "\n",
      "Classifying prompts:  67%|████████████████████████████████████████████████████████████████████████████████████████████████████                                                  | 4/6 [00:52<00:25, 12.92s/it]\u001b[A2025-05-31 06:21:56,251 || WARNING || MedRL-CoT Setup - Invalid JSON, trying conversion\n",
      "2025-05-31 06:21:56,252 || INFO || MedRL-CoT Setup - Successful conversion!\n",
      "\n",
      "Classifying prompts:  83%|█████████████████████████████████████████████████████████████████████████████████████████████████████████████████████████████                         | 5/6 [01:02<00:11, 11.83s/it]\u001b[A2025-05-31 06:22:00,832 || INFO || MedRL-CoT Setup - Successful JSON parsed!\n",
      "\n",
      "Classifying prompts: 100%|██████████████████████████████████████████████████████████████████████████████████████████████████████████████████████████████████████████████████████| 6/6 [01:06<00:00,  9.36s/it]\u001b[A\n",
      "                                                                                                                                                                                                              \u001b[A2025-05-31 06:22:00,836 || INFO || MedRL-CoT Setup - Dumping checkpoint\n"
     ]
    },
    {
     "data": {
      "application/vnd.jupyter.widget-view+json": {
       "model_id": "8be97bbd20da499ab1c5a5b523984def",
       "version_major": 2,
       "version_minor": 0
      },
      "text/plain": [
       "Saving the dataset (0/1 shards):   0%|          | 0/7190 [00:00<?, ? examples/s]"
      ]
     },
     "metadata": {},
     "output_type": "display_data"
    },
    {
     "name": "stderr",
     "output_type": "stream",
     "text": [
      "Preprocessing dataset:   1%|█▌                                                                                                                                     | 337/30000 [2:58:03<895:42:51, 108.71s/it]2025-05-31 06:22:00,909 || INFO || MedRL-CoT Setup - Preprocessing example 337\n",
      "\n",
      "Classifying prompts:   0%|                                                                                                                                                              | 0/2 [00:00<?, ?it/s]\u001b[A2025-05-31 06:22:45,177 || WARNING || MedRL-CoT Setup - Invalid JSON, trying conversion\n",
      "2025-05-31 06:22:45,178 || INFO || MedRL-CoT Setup - Successful conversion!\n",
      "\n",
      "Classifying prompts:  50%|███████████████████████████████████████████████████████████████████████████                                                                           | 1/2 [00:44<00:44, 44.16s/it]\u001b[A2025-05-31 06:23:48,980 || WARNING || MedRL-CoT Setup - Invalid JSON, trying conversion\n",
      "2025-05-31 06:23:48,981 || INFO || MedRL-CoT Setup - Successful conversion!\n",
      "\n",
      "Classifying prompts: 100%|██████████████████████████████████████████████████████████████████████████████████████████████████████████████████████████████████████████████████████| 2/2 [01:47<00:00, 55.71s/it]\u001b[A\n",
      "                                                                                                                                                                                                              \u001b[A2025-05-31 06:23:48,984 || INFO || MedRL-CoT Setup - Dumping checkpoint\n"
     ]
    },
    {
     "data": {
      "application/vnd.jupyter.widget-view+json": {
       "model_id": "14be9f84b1e04e23bb5b2dcdc36bf870",
       "version_major": 2,
       "version_minor": 0
      },
      "text/plain": [
       "Saving the dataset (0/1 shards):   0%|          | 0/7222 [00:00<?, ? examples/s]"
      ]
     },
     "metadata": {},
     "output_type": "display_data"
    },
    {
     "name": "stderr",
     "output_type": "stream",
     "text": [
      "Preprocessing dataset:   1%|█▌                                                                                                                                     | 338/30000 [2:59:51<894:18:02, 108.54s/it]2025-05-31 06:23:49,056 || INFO || MedRL-CoT Setup - Preprocessing example 338\n",
      "\n",
      "Classifying prompts:   0%|                                                                                                                                                              | 0/1 [00:00<?, ?it/s]\u001b[A2025-05-31 06:25:05,344 || ERROR || MedRL-CoT Setup - Nothing found, bad example!\n",
      "\n",
      "Classifying prompts: 100%|██████████████████████████████████████████████████████████████████████████████████████████████████████████████████████████████████████████████████████| 1/1 [01:16<00:00, 76.18s/it]\u001b[A\n",
      "                                                                                                                                                                                                              \u001b[A2025-05-31 06:25:05,348 || INFO || MedRL-CoT Setup - Dumping checkpoint\n"
     ]
    },
    {
     "data": {
      "application/vnd.jupyter.widget-view+json": {
       "model_id": "8a084fd03e9f4c9ead6f017cb665ddd5",
       "version_major": 2,
       "version_minor": 0
      },
      "text/plain": [
       "Saving the dataset (0/1 shards):   0%|          | 0/7222 [00:00<?, ? examples/s]"
      ]
     },
     "metadata": {},
     "output_type": "display_data"
    },
    {
     "name": "stderr",
     "output_type": "stream",
     "text": [
      "Preprocessing dataset:   1%|█▌                                                                                                                                      | 339/30000 [3:01:07<814:44:35, 98.89s/it]2025-05-31 06:25:05,421 || INFO || MedRL-CoT Setup - Preprocessing example 339\n",
      "\n",
      "Classifying prompts:   0%|                                                                                                                                                              | 0/2 [00:00<?, ?it/s]\u001b[A2025-05-31 06:25:50,820 || WARNING || MedRL-CoT Setup - Invalid JSON, trying conversion\n",
      "2025-05-31 06:25:50,821 || INFO || MedRL-CoT Setup - Successful conversion!\n",
      "\n",
      "Classifying prompts:  50%|███████████████████████████████████████████████████████████████████████████                                                                           | 1/2 [00:45<00:45, 45.29s/it]\u001b[A2025-05-31 06:27:22,740 || ERROR || MedRL-CoT Setup - Nothing found, bad example!\n",
      "\n",
      "Classifying prompts: 100%|██████████████████████████████████████████████████████████████████████████████████████████████████████████████████████████████████████████████████████| 2/2 [02:17<00:00, 72.72s/it]\u001b[A\n",
      "                                                                                                                                                                                                              \u001b[A2025-05-31 06:27:22,745 || INFO || MedRL-CoT Setup - Dumping checkpoint\n"
     ]
    },
    {
     "data": {
      "application/vnd.jupyter.widget-view+json": {
       "model_id": "9877a2547d5b4091859f48193c5c17b1",
       "version_major": 2,
       "version_minor": 0
      },
      "text/plain": [
       "Saving the dataset (0/1 shards):   0%|          | 0/7234 [00:00<?, ? examples/s]"
      ]
     },
     "metadata": {},
     "output_type": "display_data"
    },
    {
     "name": "stderr",
     "output_type": "stream",
     "text": [
      "Preprocessing dataset:   1%|█▌                                                                                                                                     | 340/30000 [3:03:25<909:53:57, 110.44s/it]2025-05-31 06:27:22,817 || INFO || MedRL-CoT Setup - Preprocessing example 340\n",
      "\n",
      "Classifying prompts:   0%|                                                                                                                                                              | 0/3 [00:00<?, ?it/s]\u001b[A2025-05-31 06:28:28,766 || INFO || MedRL-CoT Setup - Successful JSON parsed!\n",
      "\n",
      "Classifying prompts:  33%|██████████████████████████████████████████████████                                                                                                    | 1/3 [01:05<02:11, 65.84s/it]\u001b[A2025-05-31 06:28:46,037 || WARNING || MedRL-CoT Setup - Invalid JSON, trying conversion\n",
      "2025-05-31 06:28:46,038 || INFO || MedRL-CoT Setup - Successful conversion!\n",
      "\n",
      "Classifying prompts:  67%|████████████████████████████████████████████████████████████████████████████████████████████████████                                                  | 2/3 [01:23<00:37, 37.27s/it]\u001b[A2025-05-31 06:29:11,764 || WARNING || MedRL-CoT Setup - Invalid JSON, trying conversion\n",
      "2025-05-31 06:29:11,765 || INFO || MedRL-CoT Setup - Successful conversion!\n",
      "\n",
      "Classifying prompts: 100%|██████████████████████████████████████████████████████████████████████████████████████████████████████████████████████████████████████████████████████| 3/3 [01:48<00:00, 32.00s/it]\u001b[A\n",
      "                                                                                                                                                                                                              \u001b[A2025-05-31 06:29:11,769 || INFO || MedRL-CoT Setup - Dumping checkpoint\n"
     ]
    },
    {
     "data": {
      "application/vnd.jupyter.widget-view+json": {
       "model_id": "ab5b8a1a44e2412abaf39d8ec9c4985a",
       "version_major": 2,
       "version_minor": 0
      },
      "text/plain": [
       "Saving the dataset (0/1 shards):   0%|          | 0/7260 [00:00<?, ? examples/s]"
      ]
     },
     "metadata": {},
     "output_type": "display_data"
    },
    {
     "name": "stderr",
     "output_type": "stream",
     "text": [
      "Preprocessing dataset:   1%|█▌                                                                                                                                     | 341/30000 [3:05:14<906:22:15, 110.02s/it]2025-05-31 06:29:11,842 || INFO || MedRL-CoT Setup - Preprocessing example 341\n",
      "\n",
      "Classifying prompts:   0%|                                                                                                                                                              | 0/2 [00:00<?, ?it/s]\u001b[A2025-05-31 06:29:42,186 || INFO || MedRL-CoT Setup - Successful JSON parsed!\n",
      "\n",
      "Classifying prompts:  50%|███████████████████████████████████████████████████████████████████████████                                                                           | 1/2 [00:30<00:30, 30.23s/it]\u001b[A2025-05-31 06:30:07,103 || INFO || MedRL-CoT Setup - Successful JSON parsed!\n",
      "\n",
      "Classifying prompts: 100%|██████████████████████████████████████████████████████████████████████████████████████████████████████████████████████████████████████████████████████| 2/2 [00:55<00:00, 27.11s/it]\u001b[A\n",
      "                                                                                                                                                                                                              \u001b[A2025-05-31 06:30:07,108 || INFO || MedRL-CoT Setup - Dumping checkpoint\n"
     ]
    },
    {
     "data": {
      "application/vnd.jupyter.widget-view+json": {
       "model_id": "db72af53db0447a689c8390d04d97564",
       "version_major": 2,
       "version_minor": 0
      },
      "text/plain": [
       "Saving the dataset (0/1 shards):   0%|          | 0/7275 [00:00<?, ? examples/s]"
      ]
     },
     "metadata": {},
     "output_type": "display_data"
    },
    {
     "name": "stderr",
     "output_type": "stream",
     "text": [
      "Preprocessing dataset:   1%|█▌                                                                                                                                      | 342/30000 [3:06:09<771:12:32, 93.61s/it]2025-05-31 06:30:07,181 || INFO || MedRL-CoT Setup - Preprocessing example 342\n",
      "\n",
      "Classifying prompts:   0%|                                                                                                                                                              | 0/1 [00:00<?, ?it/s]\u001b[A2025-05-31 06:31:33,640 || ERROR || MedRL-CoT Setup - Nothing found, bad example!\n",
      "\n",
      "Classifying prompts: 100%|██████████████████████████████████████████████████████████████████████████████████████████████████████████████████████████████████████████████████████| 1/1 [01:26<00:00, 86.35s/it]\u001b[A\n",
      "                                                                                                                                                                                                              \u001b[A2025-05-31 06:31:33,645 || INFO || MedRL-CoT Setup - Dumping checkpoint\n"
     ]
    },
    {
     "data": {
      "application/vnd.jupyter.widget-view+json": {
       "model_id": "4219a4e745b1413c9790f745f642aea3",
       "version_major": 2,
       "version_minor": 0
      },
      "text/plain": [
       "Saving the dataset (0/1 shards):   0%|          | 0/7275 [00:00<?, ? examples/s]"
      ]
     },
     "metadata": {},
     "output_type": "display_data"
    },
    {
     "name": "stderr",
     "output_type": "stream",
     "text": [
      "Preprocessing dataset:   1%|█▌                                                                                                                                      | 343/30000 [3:07:36<753:42:00, 91.49s/it]2025-05-31 06:31:33,719 || INFO || MedRL-CoT Setup - Preprocessing example 343\n",
      "\n",
      "Classifying prompts:   0%|                                                                                                                                                              | 0/5 [00:00<?, ?it/s]\u001b[A2025-05-31 06:31:55,334 || ERROR || MedRL-CoT Setup - Nothing found, bad example!\n",
      "\n",
      "Classifying prompts:  20%|██████████████████████████████                                                                                                                        | 1/5 [00:21<01:26, 21.51s/it]\u001b[A2025-05-31 06:32:10,860 || WARNING || MedRL-CoT Setup - Invalid JSON, trying conversion\n",
      "2025-05-31 06:32:10,861 || INFO || MedRL-CoT Setup - Successful conversion!\n",
      "\n",
      "Classifying prompts:  40%|████████████████████████████████████████████████████████████                                                                                          | 2/5 [00:37<00:53, 17.99s/it]\u001b[A2025-05-31 06:32:18,783 || INFO || MedRL-CoT Setup - Successful JSON parsed!\n",
      "\n",
      "Classifying prompts:  60%|██████████████████████████████████████████████████████████████████████████████████████████                                                            | 3/5 [00:44<00:26, 13.39s/it]\u001b[A2025-05-31 06:32:33,263 || INFO || MedRL-CoT Setup - Successful JSON parsed!\n",
      "\n",
      "Classifying prompts:  80%|████████████████████████████████████████████████████████████████████████████████████████████████████████████████████████                              | 4/5 [00:59<00:13, 13.82s/it]\u001b[A2025-05-31 06:33:07,375 || ERROR || MedRL-CoT Setup - Nothing found, bad example!\n",
      "\n",
      "Classifying prompts: 100%|██████████████████████████████████████████████████████████████████████████████████████████████████████████████████████████████████████████████████████| 5/5 [01:33<00:00, 21.14s/it]\u001b[A\n",
      "                                                                                                                                                                                                              \u001b[A2025-05-31 06:33:07,379 || INFO || MedRL-CoT Setup - Dumping checkpoint\n"
     ]
    },
    {
     "data": {
      "application/vnd.jupyter.widget-view+json": {
       "model_id": "ccd21b3cd93a4d6f9df29ac7bc68e2ce",
       "version_major": 2,
       "version_minor": 0
      },
      "text/plain": [
       "Saving the dataset (0/1 shards):   0%|          | 0/7284 [00:00<?, ? examples/s]"
      ]
     },
     "metadata": {},
     "output_type": "display_data"
    },
    {
     "name": "stderr",
     "output_type": "stream",
     "text": [
      "Preprocessing dataset:   1%|█▌                                                                                                                                      | 344/30000 [3:09:09<759:13:23, 92.16s/it]2025-05-31 06:33:07,454 || INFO || MedRL-CoT Setup - Preprocessing example 344\n",
      "\n",
      "Classifying prompts:   0%|                                                                                                                                                              | 0/3 [00:00<?, ?it/s]\u001b[A2025-05-31 06:34:38,524 || ERROR || MedRL-CoT Setup - Nothing found, bad example!\n",
      "\n",
      "Classifying prompts:  33%|██████████████████████████████████████████████████                                                                                                    | 1/3 [01:30<03:01, 90.96s/it]\u001b[A2025-05-31 06:34:51,869 || WARNING || MedRL-CoT Setup - Invalid JSON, trying conversion\n",
      "2025-05-31 06:34:51,869 || INFO || MedRL-CoT Setup - Successful conversion!\n",
      "\n",
      "Classifying prompts:  67%|████████████████████████████████████████████████████████████████████████████████████████████████████                                                  | 2/3 [01:44<00:45, 45.30s/it]\u001b[A2025-05-31 06:35:35,684 || WARNING || MedRL-CoT Setup - Invalid JSON, trying conversion\n",
      "2025-05-31 06:35:35,685 || INFO || MedRL-CoT Setup - Successful conversion!\n",
      "\n",
      "Classifying prompts: 100%|██████████████████████████████████████████████████████████████████████████████████████████████████████████████████████████████████████████████████████| 3/3 [02:28<00:00, 44.62s/it]\u001b[A\n",
      "                                                                                                                                                                                                              \u001b[A2025-05-31 06:35:35,689 || INFO || MedRL-CoT Setup - Dumping checkpoint\n"
     ]
    },
    {
     "data": {
      "application/vnd.jupyter.widget-view+json": {
       "model_id": "0415de59db7a4bfea5d1d8f0536a6a64",
       "version_major": 2,
       "version_minor": 0
      },
      "text/plain": [
       "Saving the dataset (0/1 shards):   0%|          | 0/7299 [00:00<?, ? examples/s]"
      ]
     },
     "metadata": {},
     "output_type": "display_data"
    },
    {
     "name": "stderr",
     "output_type": "stream",
     "text": [
      "Preprocessing dataset:   1%|█▌                                                                                                                                     | 345/30000 [3:11:38<897:56:40, 109.01s/it]2025-05-31 06:35:35,762 || INFO || MedRL-CoT Setup - Preprocessing example 345\n",
      "\n",
      "Classifying prompts:   0%|                                                                                                                                                              | 0/4 [00:00<?, ?it/s]\u001b[A2025-05-31 06:36:01,041 || INFO || MedRL-CoT Setup - Successful JSON parsed!\n",
      "\n",
      "Classifying prompts:  25%|█████████████████████████████████████▌                                                                                                                | 1/4 [00:25<01:15, 25.17s/it]\u001b[A2025-05-31 06:36:18,469 || WARNING || MedRL-CoT Setup - Invalid JSON, trying conversion\n",
      "2025-05-31 06:36:18,470 || INFO || MedRL-CoT Setup - Successful conversion!\n",
      "\n",
      "Classifying prompts:  50%|███████████████████████████████████████████████████████████████████████████                                                                           | 2/4 [00:42<00:41, 20.62s/it]\u001b[A2025-05-31 06:36:31,074 || WARNING || MedRL-CoT Setup - Invalid JSON, trying conversion\n",
      "2025-05-31 06:36:31,075 || INFO || MedRL-CoT Setup - Successful conversion!\n",
      "\n",
      "Classifying prompts:  75%|████████████████████████████████████████████████████████████████████████████████████████████████████████████████▌                                     | 3/4 [00:55<00:16, 16.96s/it]\u001b[A2025-05-31 06:36:44,799 || INFO || MedRL-CoT Setup - Successful JSON parsed!\n",
      "\n",
      "Classifying prompts: 100%|██████████████████████████████████████████████████████████████████████████████████████████████████████████████████████████████████████████████████████| 4/4 [01:08<00:00, 15.68s/it]\u001b[A\n",
      "                                                                                                                                                                                                              \u001b[A2025-05-31 06:36:44,804 || INFO || MedRL-CoT Setup - Dumping checkpoint\n"
     ]
    },
    {
     "data": {
      "application/vnd.jupyter.widget-view+json": {
       "model_id": "c4109ba848454424913efad5f0b916ba",
       "version_major": 2,
       "version_minor": 0
      },
      "text/plain": [
       "Saving the dataset (0/1 shards):   0%|          | 0/7324 [00:00<?, ? examples/s]"
      ]
     },
     "metadata": {},
     "output_type": "display_data"
    },
    {
     "name": "stderr",
     "output_type": "stream",
     "text": [
      "Preprocessing dataset:   1%|█▌                                                                                                                                      | 346/30000 [3:12:47<799:20:15, 97.04s/it]2025-05-31 06:36:44,878 || INFO || MedRL-CoT Setup - Preprocessing example 346\n",
      "\n",
      "Classifying prompts:   0%|                                                                                                                                                              | 0/5 [00:00<?, ?it/s]\u001b[A2025-05-31 06:36:57,516 || WARNING || MedRL-CoT Setup - Invalid JSON, trying conversion\n",
      "2025-05-31 06:36:57,517 || INFO || MedRL-CoT Setup - Successful conversion!\n",
      "\n",
      "Classifying prompts:  20%|██████████████████████████████                                                                                                                        | 1/5 [00:12<00:50, 12.53s/it]\u001b[A2025-05-31 06:37:08,471 || WARNING || MedRL-CoT Setup - Invalid JSON, trying conversion\n",
      "2025-05-31 06:37:08,472 || INFO || MedRL-CoT Setup - Successful conversion!\n",
      "\n",
      "Classifying prompts:  40%|████████████████████████████████████████████████████████████                                                                                          | 2/5 [00:23<00:34, 11.60s/it]\u001b[A2025-05-31 06:37:12,709 || INFO || MedRL-CoT Setup - Successful JSON parsed!\n",
      "\n",
      "Classifying prompts:  60%|██████████████████████████████████████████████████████████████████████████████████████████                                                            | 3/5 [00:27<00:16,  8.24s/it]\u001b[A2025-05-31 06:37:29,251 || WARNING || MedRL-CoT Setup - Invalid JSON, trying conversion\n",
      "2025-05-31 06:37:29,252 || INFO || MedRL-CoT Setup - Successful conversion!\n",
      "\n",
      "Classifying prompts:  80%|████████████████████████████████████████████████████████████████████████████████████████████████████████████████████████                              | 4/5 [00:44<00:11, 11.52s/it]\u001b[A2025-05-31 06:37:50,585 || WARNING || MedRL-CoT Setup - Invalid JSON, trying conversion\n",
      "2025-05-31 06:37:50,586 || INFO || MedRL-CoT Setup - Successful conversion!\n",
      "\n",
      "Classifying prompts: 100%|██████████████████████████████████████████████████████████████████████████████████████████████████████████████████████████████████████████████████████| 5/5 [01:05<00:00, 15.06s/it]\u001b[A\n",
      "                                                                                                                                                                                                              \u001b[A2025-05-31 06:37:50,591 || INFO || MedRL-CoT Setup - Dumping checkpoint\n"
     ]
    },
    {
     "data": {
      "application/vnd.jupyter.widget-view+json": {
       "model_id": "b6cf13dec92a4312a56cafedcfca084f",
       "version_major": 2,
       "version_minor": 0
      },
      "text/plain": [
       "Saving the dataset (0/1 shards):   0%|          | 0/7344 [00:00<?, ? examples/s]"
      ]
     },
     "metadata": {},
     "output_type": "display_data"
    },
    {
     "name": "stderr",
     "output_type": "stream",
     "text": [
      "Preprocessing dataset:   1%|█▌                                                                                                                                      | 347/30000 [3:13:53<722:04:48, 87.66s/it]2025-05-31 06:37:50,664 || INFO || MedRL-CoT Setup - Preprocessing example 347\n",
      "\n",
      "Classifying prompts:   0%|                                                                                                                                                              | 0/1 [00:00<?, ?it/s]\u001b[A2025-05-31 06:38:52,796 || ERROR || MedRL-CoT Setup - Nothing found, bad example!\n",
      "\n",
      "Classifying prompts: 100%|██████████████████████████████████████████████████████████████████████████████████████████████████████████████████████████████████████████████████████| 1/1 [01:02<00:00, 62.02s/it]\u001b[A\n",
      "                                                                                                                                                                                                              \u001b[A2025-05-31 06:38:52,800 || INFO || MedRL-CoT Setup - Dumping checkpoint\n"
     ]
    },
    {
     "data": {
      "application/vnd.jupyter.widget-view+json": {
       "model_id": "39c0b4a2b3894b22ab9ba513633887e3",
       "version_major": 2,
       "version_minor": 0
      },
      "text/plain": [
       "Saving the dataset (0/1 shards):   0%|          | 0/7344 [00:00<?, ? examples/s]"
      ]
     },
     "metadata": {},
     "output_type": "display_data"
    },
    {
     "name": "stderr",
     "output_type": "stream",
     "text": [
      "Preprocessing dataset:   1%|█▌                                                                                                                                      | 348/30000 [3:14:55<659:09:18, 80.03s/it]2025-05-31 06:38:52,872 || INFO || MedRL-CoT Setup - Preprocessing example 348\n",
      "\n",
      "Classifying prompts:   0%|                                                                                                                                                              | 0/4 [00:00<?, ?it/s]\u001b[A2025-05-31 06:39:27,071 || ERROR || MedRL-CoT Setup - Nothing found, bad example!\n",
      "\n",
      "Classifying prompts:  25%|█████████████████████████████████████▌                                                                                                                | 1/4 [00:34<01:42, 34.09s/it]\u001b[A2025-05-31 06:39:42,196 || WARNING || MedRL-CoT Setup - Invalid JSON, trying conversion\n",
      "2025-05-31 06:39:42,197 || INFO || MedRL-CoT Setup - Successful conversion!\n",
      "\n",
      "Classifying prompts:  50%|███████████████████████████████████████████████████████████████████████████                                                                           | 2/4 [00:49<00:45, 22.93s/it]\u001b[A2025-05-31 06:39:54,178 || WARNING || MedRL-CoT Setup - Invalid JSON, trying conversion\n",
      "2025-05-31 06:39:54,179 || INFO || MedRL-CoT Setup - Successful conversion!\n",
      "\n",
      "Classifying prompts:  75%|████████████████████████████████████████████████████████████████████████████████████████████████████████████████▌                                     | 3/4 [01:01<00:17, 17.93s/it]\u001b[A2025-05-31 06:40:06,567 || WARNING || MedRL-CoT Setup - Invalid JSON, trying conversion\n",
      "2025-05-31 06:40:06,568 || INFO || MedRL-CoT Setup - Successful conversion!\n",
      "\n",
      "Classifying prompts: 100%|██████████████████████████████████████████████████████████████████████████████████████████████████████████████████████████████████████████████████████| 4/4 [01:13<00:00, 15.74s/it]\u001b[A\n",
      "                                                                                                                                                                                                              \u001b[A2025-05-31 06:40:06,572 || INFO || MedRL-CoT Setup - Dumping checkpoint\n"
     ]
    },
    {
     "data": {
      "application/vnd.jupyter.widget-view+json": {
       "model_id": "551b92ae80524285b2f9751829c647de",
       "version_major": 2,
       "version_minor": 0
      },
      "text/plain": [
       "Saving the dataset (0/1 shards):   0%|          | 0/7354 [00:00<?, ? examples/s]"
      ]
     },
     "metadata": {},
     "output_type": "display_data"
    },
    {
     "name": "stderr",
     "output_type": "stream",
     "text": [
      "Preprocessing dataset:   1%|█▌                                                                                                                                      | 349/30000 [3:16:09<643:40:50, 78.15s/it]2025-05-31 06:40:06,646 || INFO || MedRL-CoT Setup - Preprocessing example 349\n",
      "\n",
      "Classifying prompts:   0%|                                                                                                                                                              | 0/5 [00:00<?, ?it/s]\u001b[A2025-05-31 06:40:15,762 || ERROR || MedRL-CoT Setup - Nothing found, bad example!\n",
      "\n",
      "Classifying prompts:  20%|██████████████████████████████                                                                                                                        | 1/5 [00:09<00:36,  9.01s/it]\u001b[A2025-05-31 06:40:47,491 || WARNING || MedRL-CoT Setup - Invalid JSON, trying conversion\n",
      "2025-05-31 06:40:47,492 || INFO || MedRL-CoT Setup - Successful conversion!\n",
      "\n",
      "Classifying prompts:  40%|████████████████████████████████████████████████████████████                                                                                          | 2/5 [00:40<01:07, 22.37s/it]\u001b[A2025-05-31 06:41:27,511 || INFO || MedRL-CoT Setup - Successful JSON parsed!\n",
      "\n",
      "Classifying prompts:  60%|██████████████████████████████████████████████████████████████████████████████████████████                                                            | 3/5 [01:20<01:00, 30.43s/it]\u001b[A2025-05-31 06:41:57,335 || WARNING || MedRL-CoT Setup - Invalid JSON, trying conversion\n",
      "2025-05-31 06:41:57,336 || INFO || MedRL-CoT Setup - Successful conversion!\n",
      "\n",
      "Classifying prompts:  80%|████████████████████████████████████████████████████████████████████████████████████████████████████████████████████████                              | 4/5 [01:50<00:30, 30.19s/it]\u001b[A2025-05-31 06:42:19,396 || WARNING || MedRL-CoT Setup - Invalid JSON, trying conversion\n",
      "2025-05-31 06:42:19,397 || INFO || MedRL-CoT Setup - Successful conversion!\n",
      "\n",
      "Classifying prompts: 100%|██████████████████████████████████████████████████████████████████████████████████████████████████████████████████████████████████████████████████████| 5/5 [02:12<00:00, 27.26s/it]\u001b[A\n",
      "                                                                                                                                                                                                              \u001b[A2025-05-31 06:42:19,400 || INFO || MedRL-CoT Setup - Dumping checkpoint\n"
     ]
    },
    {
     "data": {
      "application/vnd.jupyter.widget-view+json": {
       "model_id": "a82c957f1d13409a9d361bd25afe74ab",
       "version_major": 2,
       "version_minor": 0
      },
      "text/plain": [
       "Saving the dataset (0/1 shards):   0%|          | 0/7395 [00:00<?, ? examples/s]"
      ]
     },
     "metadata": {},
     "output_type": "display_data"
    },
    {
     "name": "stderr",
     "output_type": "stream",
     "text": [
      "Preprocessing dataset:   1%|█▌                                                                                                                                      | 350/30000 [3:18:21<778:45:17, 94.55s/it]2025-05-31 06:42:19,473 || INFO || MedRL-CoT Setup - Preprocessing example 350\n",
      "\n",
      "Classifying prompts:   0%|                                                                                                                                                              | 0/1 [00:00<?, ?it/s]\u001b[A2025-05-31 06:43:46,872 || ERROR || MedRL-CoT Setup - Nothing found, bad example!\n",
      "\n",
      "Classifying prompts: 100%|██████████████████████████████████████████████████████████████████████████████████████████████████████████████████████████████████████████████████████| 1/1 [01:27<00:00, 87.29s/it]\u001b[A\n",
      "                                                                                                                                                                                                              \u001b[A2025-05-31 06:43:46,877 || INFO || MedRL-CoT Setup - Dumping checkpoint\n"
     ]
    },
    {
     "data": {
      "application/vnd.jupyter.widget-view+json": {
       "model_id": "3a7e05b0a574496dbb2f7aab3afdb7b8",
       "version_major": 2,
       "version_minor": 0
      },
      "text/plain": [
       "Saving the dataset (0/1 shards):   0%|          | 0/7395 [00:00<?, ? examples/s]"
      ]
     },
     "metadata": {},
     "output_type": "display_data"
    },
    {
     "name": "stderr",
     "output_type": "stream",
     "text": [
      "Preprocessing dataset:   1%|█▌                                                                                                                                      | 351/30000 [3:19:49<761:14:38, 92.43s/it]2025-05-31 06:43:46,950 || INFO || MedRL-CoT Setup - Preprocessing example 351\n",
      "\n",
      "Classifying prompts:   0%|                                                                                                                                                              | 0/3 [00:00<?, ?it/s]\u001b[A2025-05-31 06:44:14,178 || WARNING || MedRL-CoT Setup - Invalid JSON, trying conversion\n",
      "2025-05-31 06:44:14,179 || INFO || MedRL-CoT Setup - Successful conversion!\n",
      "\n",
      "Classifying prompts:  33%|██████████████████████████████████████████████████                                                                                                    | 1/3 [00:27<00:54, 27.12s/it]\u001b[A2025-05-31 06:44:26,525 || INFO || MedRL-CoT Setup - Successful JSON parsed!\n",
      "\n",
      "Classifying prompts:  67%|████████████████████████████████████████████████████████████████████████████████████████████████████                                                  | 2/3 [00:39<00:18, 18.43s/it]\u001b[A2025-05-31 06:44:47,334 || WARNING || MedRL-CoT Setup - Invalid JSON, trying conversion\n",
      "2025-05-31 06:44:47,335 || INFO || MedRL-CoT Setup - Successful conversion!\n",
      "\n",
      "Classifying prompts: 100%|██████████████████████████████████████████████████████████████████████████████████████████████████████████████████████████████████████████████████████| 3/3 [01:00<00:00, 19.52s/it]\u001b[A\n",
      "                                                                                                                                                                                                              \u001b[A2025-05-31 06:44:47,340 || INFO || MedRL-CoT Setup - Dumping checkpoint\n"
     ]
    },
    {
     "data": {
      "application/vnd.jupyter.widget-view+json": {
       "model_id": "bfc0c1c64c45462292d96d8205bad4c6",
       "version_major": 2,
       "version_minor": 0
      },
      "text/plain": [
       "Saving the dataset (0/1 shards):   0%|          | 0/7414 [00:00<?, ? examples/s]"
      ]
     },
     "metadata": {},
     "output_type": "display_data"
    },
    {
     "name": "stderr",
     "output_type": "stream",
     "text": [
      "Preprocessing dataset:   1%|█▌                                                                                                                                      | 352/30000 [3:20:49<682:14:17, 82.84s/it]2025-05-31 06:44:47,413 || INFO || MedRL-CoT Setup - Preprocessing example 352\n",
      "\n",
      "Classifying prompts:   0%|                                                                                                                                                              | 0/6 [00:00<?, ?it/s]\u001b[A2025-05-31 06:45:01,430 || WARNING || MedRL-CoT Setup - Invalid JSON, trying conversion\n",
      "2025-05-31 06:45:01,431 || INFO || MedRL-CoT Setup - Successful conversion!\n",
      "\n",
      "Classifying prompts:  17%|█████████████████████████                                                                                                                             | 1/6 [00:13<01:09, 13.91s/it]\u001b[A2025-05-31 06:45:12,448 || WARNING || MedRL-CoT Setup - Invalid JSON, trying conversion\n",
      "2025-05-31 06:45:12,449 || INFO || MedRL-CoT Setup - Successful conversion!\n",
      "\n",
      "Classifying prompts:  33%|██████████████████████████████████████████████████                                                                                                    | 2/6 [00:24<00:48, 12.21s/it]\u001b[A2025-05-31 06:45:27,848 || WARNING || MedRL-CoT Setup - Invalid JSON, trying conversion\n",
      "2025-05-31 06:45:27,849 || INFO || MedRL-CoT Setup - Successful conversion!\n",
      "\n",
      "Classifying prompts:  50%|███████████████████████████████████████████████████████████████████████████                                                                           | 3/6 [00:40<00:40, 13.67s/it]\u001b[A2025-05-31 06:45:48,153 || WARNING || MedRL-CoT Setup - Invalid JSON, trying conversion\n",
      "2025-05-31 06:45:48,154 || INFO || MedRL-CoT Setup - Successful conversion!\n",
      "\n",
      "Classifying prompts:  67%|████████████████████████████████████████████████████████████████████████████████████████████████████                                                  | 4/6 [01:00<00:32, 16.29s/it]\u001b[A2025-05-31 06:46:09,091 || WARNING || MedRL-CoT Setup - Invalid JSON, trying conversion\n",
      "2025-05-31 06:46:09,092 || INFO || MedRL-CoT Setup - Successful conversion!\n",
      "\n",
      "Classifying prompts:  83%|█████████████████████████████████████████████████████████████████████████████████████████████████████████████████████████████                         | 5/6 [01:21<00:17, 17.96s/it]\u001b[A2025-05-31 06:46:17,307 || INFO || MedRL-CoT Setup - Successful JSON parsed!\n",
      "\n",
      "Classifying prompts: 100%|██████████████████████████████████████████████████████████████████████████████████████████████████████████████████████████████████████████████████████| 6/6 [01:29<00:00, 14.65s/it]\u001b[A\n",
      "                                                                                                                                                                                                              \u001b[A2025-05-31 06:46:17,312 || INFO || MedRL-CoT Setup - Dumping checkpoint\n"
     ]
    },
    {
     "data": {
      "application/vnd.jupyter.widget-view+json": {
       "model_id": "e036922f3cfa4e47a093988ace3a36ab",
       "version_major": 2,
       "version_minor": 0
      },
      "text/plain": [
       "Saving the dataset (0/1 shards):   0%|          | 0/7442 [00:00<?, ? examples/s]"
      ]
     },
     "metadata": {},
     "output_type": "display_data"
    },
    {
     "name": "stderr",
     "output_type": "stream",
     "text": [
      "Preprocessing dataset:   1%|█▌                                                                                                                                      | 353/30000 [3:22:19<699:49:51, 84.98s/it]2025-05-31 06:46:17,384 || INFO || MedRL-CoT Setup - Preprocessing example 353\n",
      "\n",
      "Classifying prompts:   0%|                                                                                                                                                              | 0/4 [00:00<?, ?it/s]\u001b[A2025-05-31 06:46:44,471 || WARNING || MedRL-CoT Setup - Invalid JSON, trying conversion\n",
      "2025-05-31 06:46:44,472 || INFO || MedRL-CoT Setup - Successful conversion!\n",
      "\n",
      "Classifying prompts:  25%|█████████████████████████████████████▌                                                                                                                | 1/4 [00:26<01:20, 26.98s/it]\u001b[A2025-05-31 06:46:48,874 || INFO || MedRL-CoT Setup - Successful JSON parsed!\n",
      "\n",
      "Classifying prompts:  50%|███████████████████████████████████████████████████████████████████████████                                                                           | 2/4 [00:31<00:27, 13.70s/it]\u001b[A2025-05-31 06:47:15,328 || WARNING || MedRL-CoT Setup - Invalid JSON, trying conversion\n",
      "2025-05-31 06:47:15,329 || INFO || MedRL-CoT Setup - Successful conversion!\n",
      "\n",
      "Classifying prompts:  75%|████████████████████████████████████████████████████████████████████████████████████████████████████████████████▌                                     | 3/4 [00:57<00:19, 19.52s/it]\u001b[A2025-05-31 06:47:25,242 || WARNING || MedRL-CoT Setup - Invalid JSON, trying conversion\n",
      "2025-05-31 06:47:25,243 || INFO || MedRL-CoT Setup - Successful conversion!\n",
      "\n",
      "Classifying prompts: 100%|██████████████████████████████████████████████████████████████████████████████████████████████████████████████████████████████████████████████████████| 4/4 [01:07<00:00, 15.73s/it]\u001b[A\n",
      "                                                                                                                                                                                                              \u001b[A2025-05-31 06:47:25,247 || INFO || MedRL-CoT Setup - Dumping checkpoint\n"
     ]
    },
    {
     "data": {
      "application/vnd.jupyter.widget-view+json": {
       "model_id": "31ed5b77b3fe4db0b276cc730b5c520c",
       "version_major": 2,
       "version_minor": 0
      },
      "text/plain": [
       "Saving the dataset (0/1 shards):   0%|          | 0/7466 [00:00<?, ? examples/s]"
      ]
     },
     "metadata": {},
     "output_type": "display_data"
    },
    {
     "name": "stderr",
     "output_type": "stream",
     "text": [
      "Preprocessing dataset:   1%|█▌                                                                                                                                      | 354/30000 [3:23:27<657:42:03, 79.87s/it]2025-05-31 06:47:25,320 || INFO || MedRL-CoT Setup - Preprocessing example 354\n",
      "\n",
      "Classifying prompts:   0%|                                                                                                                                                              | 0/3 [00:00<?, ?it/s]\u001b[A2025-05-31 06:47:52,547 || WARNING || MedRL-CoT Setup - Invalid JSON, trying conversion\n",
      "2025-05-31 06:47:52,548 || INFO || MedRL-CoT Setup - Successful conversion!\n",
      "\n",
      "Classifying prompts:  33%|██████████████████████████████████████████████████                                                                                                    | 1/3 [00:27<00:54, 27.12s/it]\u001b[A2025-05-31 06:48:04,914 || INFO || MedRL-CoT Setup - Successful JSON parsed!\n",
      "\n",
      "Classifying prompts:  67%|████████████████████████████████████████████████████████████████████████████████████████████████████                                                  | 2/3 [00:39<00:18, 18.44s/it]\u001b[A2025-05-31 06:48:25,752 || WARNING || MedRL-CoT Setup - Invalid JSON, trying conversion\n",
      "2025-05-31 06:48:25,753 || INFO || MedRL-CoT Setup - Successful conversion!\n",
      "\n",
      "Classifying prompts: 100%|██████████████████████████████████████████████████████████████████████████████████████████████████████████████████████████████████████████████████████| 3/3 [01:00<00:00, 19.54s/it]\u001b[A\n",
      "                                                                                                                                                                                                              \u001b[A2025-05-31 06:48:25,758 || INFO || MedRL-CoT Setup - Dumping checkpoint\n"
     ]
    },
    {
     "data": {
      "application/vnd.jupyter.widget-view+json": {
       "model_id": "5ce732072bc5489c8893b76d1ec79c44",
       "version_major": 2,
       "version_minor": 0
      },
      "text/plain": [
       "Saving the dataset (0/1 shards):   0%|          | 0/7485 [00:00<?, ? examples/s]"
      ]
     },
     "metadata": {},
     "output_type": "display_data"
    },
    {
     "name": "stderr",
     "output_type": "stream",
     "text": [
      "Preprocessing dataset:   1%|█▌                                                                                                                                      | 355/30000 [3:24:28<609:52:37, 74.06s/it]2025-05-31 06:48:25,838 || INFO || MedRL-CoT Setup - Preprocessing example 355\n",
      "\n",
      "Classifying prompts:   0%|                                                                                                                                                              | 0/4 [00:00<?, ?it/s]\u001b[A2025-05-31 06:48:59,322 || INFO || MedRL-CoT Setup - Successful JSON parsed!\n",
      "\n",
      "Classifying prompts:  25%|█████████████████████████████████████▌                                                                                                                | 1/4 [00:33<01:40, 33.37s/it]\u001b[A2025-05-31 06:49:21,766 || WARNING || MedRL-CoT Setup - Invalid JSON, trying conversion\n",
      "2025-05-31 06:49:21,767 || INFO || MedRL-CoT Setup - Successful conversion!\n",
      "\n",
      "Classifying prompts:  50%|███████████████████████████████████████████████████████████████████████████                                                                           | 2/4 [00:55<00:53, 26.94s/it]\u001b[A2025-05-31 06:49:58,638 || WARNING || MedRL-CoT Setup - Invalid JSON, trying conversion\n",
      "2025-05-31 06:49:58,639 || INFO || MedRL-CoT Setup - Successful conversion!\n",
      "\n",
      "Classifying prompts:  75%|████████████████████████████████████████████████████████████████████████████████████████████████████████████████▌                                     | 3/4 [01:32<00:31, 31.48s/it]\u001b[A2025-05-31 06:50:14,901 || INFO || MedRL-CoT Setup - Successful JSON parsed!\n",
      "\n",
      "Classifying prompts: 100%|██████████████████████████████████████████████████████████████████████████████████████████████████████████████████████████████████████████████████████| 4/4 [01:48<00:00, 25.47s/it]\u001b[A\n",
      "                                                                                                                                                                                                              \u001b[A2025-05-31 06:50:14,906 || INFO || MedRL-CoT Setup - Dumping checkpoint\n"
     ]
    },
    {
     "data": {
      "application/vnd.jupyter.widget-view+json": {
       "model_id": "10a32753ee3d45eab99255070c1b58b0",
       "version_major": 2,
       "version_minor": 0
      },
      "text/plain": [
       "Saving the dataset (0/1 shards):   0%|          | 0/7517 [00:00<?, ? examples/s]"
      ]
     },
     "metadata": {},
     "output_type": "display_data"
    },
    {
     "name": "stderr",
     "output_type": "stream",
     "text": [
      "Preprocessing dataset:   1%|█▌                                                                                                                                      | 356/30000 [3:26:17<696:30:50, 84.59s/it]2025-05-31 06:50:14,978 || INFO || MedRL-CoT Setup - Preprocessing example 356\n",
      "\n",
      "Classifying prompts:   0%|                                                                                                                                                              | 0/6 [00:00<?, ?it/s]\u001b[A2025-05-31 06:50:45,186 || ERROR || MedRL-CoT Setup - Nothing found, bad example!\n",
      "\n",
      "Classifying prompts:  17%|█████████████████████████                                                                                                                             | 1/6 [00:30<02:30, 30.10s/it]\u001b[A2025-05-31 06:50:57,873 || WARNING || MedRL-CoT Setup - Invalid JSON, trying conversion\n",
      "2025-05-31 06:50:57,874 || INFO || MedRL-CoT Setup - Successful conversion!\n",
      "\n",
      "Classifying prompts:  33%|██████████████████████████████████████████████████                                                                                                    | 2/6 [00:42<01:19, 19.86s/it]\u001b[A2025-05-31 06:51:19,270 || WARNING || MedRL-CoT Setup - Invalid JSON, trying conversion\n",
      "2025-05-31 06:51:19,271 || INFO || MedRL-CoT Setup - Successful conversion!\n",
      "\n",
      "Classifying prompts:  50%|███████████████████████████████████████████████████████████████████████████                                                                           | 3/6 [01:04<01:01, 20.56s/it]\u001b[A2025-05-31 06:52:08,975 || WARNING || MedRL-CoT Setup - Invalid JSON, trying conversion\n",
      "2025-05-31 06:52:08,976 || INFO || MedRL-CoT Setup - Successful conversion!\n",
      "\n",
      "Classifying prompts:  67%|████████████████████████████████████████████████████████████████████████████████████████████████████                                                  | 4/6 [01:53<01:04, 32.07s/it]\u001b[A2025-05-31 06:52:23,684 || WARNING || MedRL-CoT Setup - Invalid JSON, trying conversion\n",
      "2025-05-31 06:52:23,684 || INFO || MedRL-CoT Setup - Successful conversion!\n",
      "\n",
      "Classifying prompts:  83%|█████████████████████████████████████████████████████████████████████████████████████████████████████████████████████████████                         | 5/6 [02:08<00:25, 25.81s/it]\u001b[A2025-05-31 06:52:31,268 || INFO || MedRL-CoT Setup - Successful JSON parsed!\n",
      "\n",
      "Classifying prompts: 100%|██████████████████████████████████████████████████████████████████████████████████████████████████████████████████████████████████████████████████████| 6/6 [02:16<00:00, 19.61s/it]\u001b[A\n",
      "                                                                                                                                                                                                              \u001b[A2025-05-31 06:52:31,273 || INFO || MedRL-CoT Setup - Dumping checkpoint\n"
     ]
    },
    {
     "data": {
      "application/vnd.jupyter.widget-view+json": {
       "model_id": "c422b47610fd42408acb389ad635be14",
       "version_major": 2,
       "version_minor": 0
      },
      "text/plain": [
       "Saving the dataset (0/1 shards):   0%|          | 0/7544 [00:00<?, ? examples/s]"
      ]
     },
     "metadata": {},
     "output_type": "display_data"
    },
    {
     "name": "stderr",
     "output_type": "stream",
     "text": [
      "Preprocessing dataset:   1%|█▌                                                                                                                                     | 357/30000 [3:28:33<824:24:41, 100.12s/it]2025-05-31 06:52:31,348 || INFO || MedRL-CoT Setup - Preprocessing example 357\n",
      "\n",
      "Classifying prompts:   0%|                                                                                                                                                              | 0/2 [00:00<?, ?it/s]\u001b[A2025-05-31 06:53:06,871 || INFO || MedRL-CoT Setup - Successful JSON parsed!\n",
      "\n",
      "Classifying prompts:  50%|███████████████████████████████████████████████████████████████████████████                                                                           | 1/2 [00:35<00:35, 35.41s/it]\u001b[A2025-05-31 06:53:40,614 || WARNING || MedRL-CoT Setup - Invalid JSON, trying conversion\n",
      "2025-05-31 06:53:40,615 || INFO || MedRL-CoT Setup - Successful conversion!\n",
      "\n",
      "Classifying prompts: 100%|██████████████████████████████████████████████████████████████████████████████████████████████████████████████████████████████████████████████████████| 2/2 [01:09<00:00, 34.43s/it]\u001b[A\n",
      "                                                                                                                                                                                                              \u001b[A2025-05-31 06:53:40,620 || INFO || MedRL-CoT Setup - Dumping checkpoint\n"
     ]
    },
    {
     "data": {
      "application/vnd.jupyter.widget-view+json": {
       "model_id": "3bb07b4750ec4685a629cac12273381b",
       "version_major": 2,
       "version_minor": 0
      },
      "text/plain": [
       "Saving the dataset (0/1 shards):   0%|          | 0/7564 [00:00<?, ? examples/s]"
      ]
     },
     "metadata": {},
     "output_type": "display_data"
    },
    {
     "name": "stderr",
     "output_type": "stream",
     "text": [
      "Preprocessing dataset:   1%|█▌                                                                                                                                      | 358/30000 [3:29:43<748:21:57, 90.89s/it]2025-05-31 06:53:40,695 || INFO || MedRL-CoT Setup - Preprocessing example 358\n",
      "\n",
      "Classifying prompts:   0%|                                                                                                                                                              | 0/1 [00:00<?, ?it/s]\u001b[A2025-05-31 06:54:48,486 || ERROR || MedRL-CoT Setup - Nothing found, bad example!\n",
      "\n",
      "Classifying prompts: 100%|██████████████████████████████████████████████████████████████████████████████████████████████████████████████████████████████████████████████████████| 1/1 [01:07<00:00, 67.68s/it]\u001b[A\n",
      "                                                                                                                                                                                                              \u001b[A2025-05-31 06:54:48,490 || INFO || MedRL-CoT Setup - Dumping checkpoint\n"
     ]
    },
    {
     "data": {
      "application/vnd.jupyter.widget-view+json": {
       "model_id": "b724c38a58f443b882ed404cabe618dd",
       "version_major": 2,
       "version_minor": 0
      },
      "text/plain": [
       "Saving the dataset (0/1 shards):   0%|          | 0/7564 [00:00<?, ? examples/s]"
      ]
     },
     "metadata": {},
     "output_type": "display_data"
    },
    {
     "name": "stderr",
     "output_type": "stream",
     "text": [
      "Preprocessing dataset:   1%|█▋                                                                                                                                      | 359/30000 [3:30:50<691:29:36, 83.98s/it]2025-05-31 06:54:48,569 || INFO || MedRL-CoT Setup - Preprocessing example 359\n",
      "\n",
      "Classifying prompts:   0%|                                                                                                                                                              | 0/3 [00:00<?, ?it/s]\u001b[A2025-05-31 06:55:15,791 || WARNING || MedRL-CoT Setup - Invalid JSON, trying conversion\n",
      "2025-05-31 06:55:15,792 || INFO || MedRL-CoT Setup - Successful conversion!\n",
      "\n",
      "Classifying prompts:  33%|██████████████████████████████████████████████████                                                                                                    | 1/3 [00:27<00:54, 27.11s/it]\u001b[A2025-05-31 06:55:28,138 || INFO || MedRL-CoT Setup - Successful JSON parsed!\n",
      "\n",
      "Classifying prompts:  67%|████████████████████████████████████████████████████████████████████████████████████████████████████                                                  | 2/3 [00:39<00:18, 18.43s/it]\u001b[A2025-05-31 06:55:48,965 || WARNING || MedRL-CoT Setup - Invalid JSON, trying conversion\n",
      "2025-05-31 06:55:48,966 || INFO || MedRL-CoT Setup - Successful conversion!\n",
      "\n",
      "Classifying prompts: 100%|██████████████████████████████████████████████████████████████████████████████████████████████████████████████████████████████████████████████████████| 3/3 [01:00<00:00, 19.52s/it]\u001b[A\n",
      "                                                                                                                                                                                                              \u001b[A2025-05-31 06:55:48,971 || INFO || MedRL-CoT Setup - Dumping checkpoint\n"
     ]
    },
    {
     "data": {
      "application/vnd.jupyter.widget-view+json": {
       "model_id": "709f5311460241fe9a8c4936a83b1a00",
       "version_major": 2,
       "version_minor": 0
      },
      "text/plain": [
       "Saving the dataset (0/1 shards):   0%|          | 0/7583 [00:00<?, ? examples/s]"
      ]
     },
     "metadata": {},
     "output_type": "display_data"
    },
    {
     "name": "stderr",
     "output_type": "stream",
     "text": [
      "Preprocessing dataset:   1%|█▋                                                                                                                                      | 360/30000 [3:31:51<633:24:22, 76.93s/it]2025-05-31 06:55:49,045 || INFO || MedRL-CoT Setup - Preprocessing example 360\n",
      "\n",
      "Classifying prompts:   0%|                                                                                                                                                              | 0/3 [00:00<?, ?it/s]\u001b[A2025-05-31 06:56:23,364 || INFO || MedRL-CoT Setup - Successful JSON parsed!\n",
      "\n",
      "Classifying prompts:  33%|██████████████████████████████████████████████████                                                                                                    | 1/3 [00:34<01:08, 34.21s/it]\u001b[A2025-05-31 06:57:07,129 || WARNING || MedRL-CoT Setup - Invalid JSON, trying conversion\n",
      "2025-05-31 06:57:07,130 || INFO || MedRL-CoT Setup - Successful conversion!\n",
      "\n",
      "Classifying prompts:  67%|████████████████████████████████████████████████████████████████████████████████████████████████████                                                  | 2/3 [01:17<00:39, 39.83s/it]\u001b[A2025-05-31 06:57:29,834 || INFO || MedRL-CoT Setup - Successful JSON parsed!\n",
      "\n",
      "Classifying prompts: 100%|██████████████████████████████████████████████████████████████████████████████████████████████████████████████████████████████████████████████████████| 3/3 [01:40<00:00, 32.01s/it]\u001b[A\n",
      "                                                                                                                                                                                                              \u001b[A2025-05-31 06:57:29,838 || INFO || MedRL-CoT Setup - Dumping checkpoint\n"
     ]
    },
    {
     "data": {
      "application/vnd.jupyter.widget-view+json": {
       "model_id": "b41dffb26cc34894928f9457f71c2393",
       "version_major": 2,
       "version_minor": 0
      },
      "text/plain": [
       "Saving the dataset (0/1 shards):   0%|          | 0/7602 [00:00<?, ? examples/s]"
      ]
     },
     "metadata": {},
     "output_type": "display_data"
    },
    {
     "name": "stderr",
     "output_type": "stream",
     "text": [
      "Preprocessing dataset:   1%|█▋                                                                                                                                      | 361/30000 [3:33:32<692:30:12, 84.11s/it]2025-05-31 06:57:29,913 || INFO || MedRL-CoT Setup - Preprocessing example 361\n",
      "\n",
      "Classifying prompts:   0%|                                                                                                                                                              | 0/5 [00:00<?, ?it/s]\u001b[A2025-05-31 06:57:53,725 || WARNING || MedRL-CoT Setup - Invalid JSON, trying conversion\n",
      "2025-05-31 06:57:53,726 || INFO || MedRL-CoT Setup - Successful conversion!\n",
      "\n",
      "Classifying prompts:  20%|██████████████████████████████                                                                                                                        | 1/5 [00:23<01:34, 23.70s/it]\u001b[A2025-05-31 06:58:16,522 || INFO || MedRL-CoT Setup - Successful JSON parsed!\n",
      "\n",
      "Classifying prompts:  40%|████████████████████████████████████████████████████████████                                                                                          | 2/5 [00:46<01:09, 23.17s/it]\u001b[A2025-05-31 06:58:40,658 || INFO || MedRL-CoT Setup - Successful JSON parsed!\n",
      "\n",
      "Classifying prompts:  60%|██████████████████████████████████████████████████████████████████████████████████████████                                                            | 3/5 [01:10<00:47, 23.61s/it]\u001b[A2025-05-31 06:58:59,486 || INFO || MedRL-CoT Setup - Successful JSON parsed!\n",
      "\n",
      "Classifying prompts:  80%|████████████████████████████████████████████████████████████████████████████████████████████████████████████████████████                              | 4/5 [01:29<00:21, 21.72s/it]\u001b[A2025-05-31 06:59:25,091 || INFO || MedRL-CoT Setup - Successful JSON parsed!\n",
      "\n",
      "Classifying prompts: 100%|██████████████████████████████████████████████████████████████████████████████████████████████████████████████████████████████████████████████████████| 5/5 [01:55<00:00, 23.12s/it]\u001b[A\n",
      "                                                                                                                                                                                                              \u001b[A2025-05-31 06:59:25,095 || INFO || MedRL-CoT Setup - Dumping checkpoint\n"
     ]
    },
    {
     "data": {
      "application/vnd.jupyter.widget-view+json": {
       "model_id": "bad269867e9b4cdaa27fa306af86163c",
       "version_major": 2,
       "version_minor": 0
      },
      "text/plain": [
       "Saving the dataset (0/1 shards):   0%|          | 0/7641 [00:00<?, ? examples/s]"
      ]
     },
     "metadata": {},
     "output_type": "display_data"
    },
    {
     "name": "stderr",
     "output_type": "stream",
     "text": [
      "Preprocessing dataset:   1%|█▋                                                                                                                                      | 362/30000 [3:35:27<769:24:22, 93.46s/it]2025-05-31 06:59:25,172 || INFO || MedRL-CoT Setup - Preprocessing example 362\n",
      "\n",
      "Classifying prompts:   0%|                                                                                                                                                              | 0/2 [00:00<?, ?it/s]\u001b[A2025-05-31 07:00:09,451 || WARNING || MedRL-CoT Setup - Invalid JSON, trying conversion\n",
      "2025-05-31 07:00:09,451 || INFO || MedRL-CoT Setup - Successful conversion!\n",
      "\n",
      "Classifying prompts:  50%|███████████████████████████████████████████████████████████████████████████                                                                           | 1/2 [00:44<00:44, 44.17s/it]\u001b[A2025-05-31 07:01:13,318 || WARNING || MedRL-CoT Setup - Invalid JSON, trying conversion\n",
      "2025-05-31 07:01:13,319 || INFO || MedRL-CoT Setup - Successful conversion!\n",
      "\n",
      "Classifying prompts: 100%|██████████████████████████████████████████████████████████████████████████████████████████████████████████████████████████████████████████████████████| 2/2 [01:48<00:00, 55.76s/it]\u001b[A\n",
      "                                                                                                                                                                                                              \u001b[A2025-05-31 07:01:13,323 || INFO || MedRL-CoT Setup - Dumping checkpoint\n"
     ]
    },
    {
     "data": {
      "application/vnd.jupyter.widget-view+json": {
       "model_id": "d2fd49b3e74a4010904bd346e07a68da",
       "version_major": 2,
       "version_minor": 0
      },
      "text/plain": [
       "Saving the dataset (0/1 shards):   0%|          | 0/7673 [00:00<?, ? examples/s]"
      ]
     },
     "metadata": {},
     "output_type": "display_data"
    },
    {
     "name": "stderr",
     "output_type": "stream",
     "text": [
      "Preprocessing dataset:   1%|█▋                                                                                                                                      | 363/30000 [3:37:15<805:51:53, 97.89s/it]2025-05-31 07:01:13,401 || INFO || MedRL-CoT Setup - Preprocessing example 363\n",
      "\n",
      "Classifying prompts:   0%|                                                                                                                                                              | 0/3 [00:00<?, ?it/s]\u001b[A2025-05-31 07:01:47,722 || INFO || MedRL-CoT Setup - Successful JSON parsed!\n",
      "\n",
      "Classifying prompts:  33%|██████████████████████████████████████████████████                                                                                                    | 1/3 [00:34<01:08, 34.21s/it]\u001b[A2025-05-31 07:02:31,501 || WARNING || MedRL-CoT Setup - Invalid JSON, trying conversion\n",
      "2025-05-31 07:02:31,502 || INFO || MedRL-CoT Setup - Successful conversion!\n",
      "\n",
      "Classifying prompts:  67%|████████████████████████████████████████████████████████████████████████████████████████████████████                                                  | 2/3 [01:17<00:39, 39.84s/it]\u001b[A2025-05-31 07:02:54,197 || INFO || MedRL-CoT Setup - Successful JSON parsed!\n",
      "\n",
      "Classifying prompts: 100%|██████████████████████████████████████████████████████████████████████████████████████████████████████████████████████████████████████████████████████| 3/3 [01:40<00:00, 32.01s/it]\u001b[A\n",
      "                                                                                                                                                                                                              \u001b[A2025-05-31 07:02:54,202 || INFO || MedRL-CoT Setup - Dumping checkpoint\n"
     ]
    },
    {
     "data": {
      "application/vnd.jupyter.widget-view+json": {
       "model_id": "068a9fa1f4dd45bda145ae7610eb2a2f",
       "version_major": 2,
       "version_minor": 0
      },
      "text/plain": [
       "Saving the dataset (0/1 shards):   0%|          | 0/7692 [00:00<?, ? examples/s]"
      ]
     },
     "metadata": {},
     "output_type": "display_data"
    },
    {
     "name": "stderr",
     "output_type": "stream",
     "text": [
      "Preprocessing dataset:   1%|█▋                                                                                                                                      | 364/30000 [3:38:56<813:13:04, 98.78s/it]2025-05-31 07:02:54,277 || INFO || MedRL-CoT Setup - Preprocessing example 364\n",
      "\n",
      "Classifying prompts:   0%|                                                                                                                                                              | 0/1 [00:00<?, ?it/s]\u001b[A2025-05-31 07:04:20,741 || ERROR || MedRL-CoT Setup - Nothing found, bad example!\n",
      "\n",
      "Classifying prompts: 100%|██████████████████████████████████████████████████████████████████████████████████████████████████████████████████████████████████████████████████████| 1/1 [01:26<00:00, 86.35s/it]\u001b[A\n",
      "                                                                                                                                                                                                              \u001b[A2025-05-31 07:04:20,745 || INFO || MedRL-CoT Setup - Dumping checkpoint\n"
     ]
    },
    {
     "data": {
      "application/vnd.jupyter.widget-view+json": {
       "model_id": "e9c7c33f7a9c4f7892d5e74c5299dbff",
       "version_major": 2,
       "version_minor": 0
      },
      "text/plain": [
       "Saving the dataset (0/1 shards):   0%|          | 0/7692 [00:00<?, ? examples/s]"
      ]
     },
     "metadata": {},
     "output_type": "display_data"
    },
    {
     "name": "stderr",
     "output_type": "stream",
     "text": [
      "Preprocessing dataset:   1%|█▋                                                                                                                                      | 365/30000 [3:40:23<782:57:36, 95.11s/it]2025-05-31 07:04:20,821 || INFO || MedRL-CoT Setup - Preprocessing example 365\n",
      "\n",
      "Classifying prompts:   0%|                                                                                                                                                              | 0/4 [00:00<?, ?it/s]\u001b[A2025-05-31 07:04:52,153 || WARNING || MedRL-CoT Setup - Invalid JSON, trying conversion\n",
      "2025-05-31 07:04:52,154 || INFO || MedRL-CoT Setup - Successful conversion!\n",
      "\n",
      "Classifying prompts:  25%|█████████████████████████████████████▌                                                                                                                | 1/4 [00:31<01:33, 31.22s/it]\u001b[A2025-05-31 07:05:16,896 || WARNING || MedRL-CoT Setup - Invalid JSON, trying conversion\n",
      "2025-05-31 07:05:16,897 || INFO || MedRL-CoT Setup - Successful conversion!\n",
      "\n",
      "Classifying prompts:  50%|███████████████████████████████████████████████████████████████████████████                                                                           | 2/4 [00:55<00:54, 27.41s/it]\u001b[A2025-05-31 07:05:26,494 || INFO || MedRL-CoT Setup - Successful JSON parsed!\n",
      "\n",
      "Classifying prompts:  75%|████████████████████████████████████████████████████████████████████████████████████████████████████████████████▌                                     | 3/4 [01:05<00:19, 19.28s/it]\u001b[A2025-05-31 07:05:40,676 || WARNING || MedRL-CoT Setup - Invalid JSON, trying conversion\n",
      "2025-05-31 07:05:40,677 || INFO || MedRL-CoT Setup - Successful conversion!\n",
      "\n",
      "Classifying prompts: 100%|██████████████████████████████████████████████████████████████████████████████████████████████████████████████████████████████████████████████████████| 4/4 [01:19<00:00, 17.27s/it]\u001b[A\n",
      "                                                                                                                                                                                                              \u001b[A2025-05-31 07:05:40,682 || INFO || MedRL-CoT Setup - Dumping checkpoint\n"
     ]
    },
    {
     "data": {
      "application/vnd.jupyter.widget-view+json": {
       "model_id": "9bd4160137a14fd3919b4e30c2cd619c",
       "version_major": 2,
       "version_minor": 0
      },
      "text/plain": [
       "Saving the dataset (0/1 shards):   0%|          | 0/7711 [00:00<?, ? examples/s]"
      ]
     },
     "metadata": {},
     "output_type": "display_data"
    },
    {
     "name": "stderr",
     "output_type": "stream",
     "text": [
      "Preprocessing dataset:   1%|█▋                                                                                                                                      | 366/30000 [3:41:43<745:27:34, 90.56s/it]2025-05-31 07:05:40,759 || INFO || MedRL-CoT Setup - Preprocessing example 366\n",
      "\n",
      "Classifying prompts:   0%|                                                                                                                                                              | 0/5 [00:00<?, ?it/s]\u001b[A2025-05-31 07:05:46,316 || INFO || MedRL-CoT Setup - Successful JSON parsed!\n",
      "\n",
      "Classifying prompts:  20%|██████████████████████████████                                                                                                                        | 1/5 [00:05<00:21,  5.45s/it]\u001b[A2025-05-31 07:06:04,835 || WARNING || MedRL-CoT Setup - Invalid JSON, trying conversion\n",
      "2025-05-31 07:06:04,836 || INFO || MedRL-CoT Setup - Successful conversion!\n",
      "\n",
      "Classifying prompts:  40%|████████████████████████████████████████████████████████████                                                                                          | 2/5 [00:23<00:39, 13.14s/it]\u001b[A2025-05-31 07:06:42,972 || INFO || MedRL-CoT Setup - Successful JSON parsed!\n",
      "\n",
      "Classifying prompts:  60%|██████████████████████████████████████████████████████████████████████████████████████████                                                            | 3/5 [01:02<00:49, 24.55s/it]\u001b[A2025-05-31 07:07:07,836 || WARNING || MedRL-CoT Setup - Invalid JSON, trying conversion\n",
      "2025-05-31 07:07:07,837 || INFO || MedRL-CoT Setup - Successful conversion!\n",
      "\n",
      "Classifying prompts:  80%|████████████████████████████████████████████████████████████████████████████████████████████████████████████████████████                              | 4/5 [01:26<00:24, 24.68s/it]\u001b[A2025-05-31 07:08:37,107 || ERROR || MedRL-CoT Setup - Nothing found, bad example!\n",
      "\n",
      "Classifying prompts: 100%|██████████████████████████████████████████████████████████████████████████████████████████████████████████████████████████████████████████████████████| 5/5 [02:56<00:00, 47.97s/it]\u001b[A\n",
      "                                                                                                                                                                                                              \u001b[A2025-05-31 07:08:37,112 || INFO || MedRL-CoT Setup - Dumping checkpoint\n"
     ]
    },
    {
     "data": {
      "application/vnd.jupyter.widget-view+json": {
       "model_id": "64fd6771d72c475a98990b701b4a1023",
       "version_major": 2,
       "version_minor": 0
      },
      "text/plain": [
       "Saving the dataset (0/1 shards):   0%|          | 0/7732 [00:00<?, ? examples/s]"
      ]
     },
     "metadata": {},
     "output_type": "display_data"
    },
    {
     "name": "stderr",
     "output_type": "stream",
     "text": [
      "Preprocessing dataset:   1%|█▋                                                                                                                                     | 367/30000 [3:44:39<957:28:47, 116.32s/it]2025-05-31 07:08:37,187 || INFO || MedRL-CoT Setup - Preprocessing example 367\n",
      "\n",
      "Classifying prompts:   0%|                                                                                                                                                              | 0/4 [00:00<?, ?it/s]\u001b[A2025-05-31 07:08:50,150 || WARNING || MedRL-CoT Setup - Invalid JSON, trying conversion\n",
      "2025-05-31 07:08:50,151 || INFO || MedRL-CoT Setup - Successful conversion!\n",
      "\n",
      "Classifying prompts:  25%|█████████████████████████████████████▌                                                                                                                | 1/4 [00:12<00:38, 12.85s/it]\u001b[A2025-05-31 07:10:22,469 || ERROR || MedRL-CoT Setup - Nothing found, bad example!\n",
      "\n",
      "Classifying prompts:  50%|███████████████████████████████████████████████████████████████████████████                                                                           | 2/4 [01:45<01:59, 59.60s/it]\u001b[A2025-05-31 07:10:35,994 || WARNING || MedRL-CoT Setup - Invalid JSON, trying conversion\n",
      "2025-05-31 07:10:35,995 || INFO || MedRL-CoT Setup - Successful conversion!\n",
      "\n",
      "Classifying prompts:  75%|████████████████████████████████████████████████████████████████████████████████████████████████████████████████▌                                     | 3/4 [01:58<00:38, 38.56s/it]\u001b[A2025-05-31 07:10:50,990 || WARNING || MedRL-CoT Setup - Invalid JSON, trying conversion\n",
      "2025-05-31 07:10:50,991 || INFO || MedRL-CoT Setup - Successful conversion!\n",
      "\n",
      "Classifying prompts: 100%|██████████████████████████████████████████████████████████████████████████████████████████████████████████████████████████████████████████████████████| 4/4 [02:13<00:00, 29.26s/it]\u001b[A\n",
      "                                                                                                                                                                                                              \u001b[A2025-05-31 07:10:50,995 || INFO || MedRL-CoT Setup - Dumping checkpoint\n"
     ]
    },
    {
     "data": {
      "application/vnd.jupyter.widget-view+json": {
       "model_id": "0f514153dfb144ecb7aeaf500395a20d",
       "version_major": 2,
       "version_minor": 0
      },
      "text/plain": [
       "Saving the dataset (0/1 shards):   0%|          | 0/7749 [00:00<?, ? examples/s]"
      ]
     },
     "metadata": {},
     "output_type": "display_data"
    },
    {
     "name": "stderr",
     "output_type": "stream",
     "text": [
      "Preprocessing dataset:   1%|█▋                                                                                                                                    | 368/30000 [3:46:53<1000:49:27, 121.59s/it]2025-05-31 07:10:51,074 || INFO || MedRL-CoT Setup - Preprocessing example 368\n",
      "\n",
      "Classifying prompts:   0%|                                                                                                                                                              | 0/7 [00:00<?, ?it/s]\u001b[A2025-05-31 07:11:04,032 || WARNING || MedRL-CoT Setup - Invalid JSON, trying conversion\n",
      "2025-05-31 07:11:04,033 || INFO || MedRL-CoT Setup - Successful conversion!\n",
      "\n",
      "Classifying prompts:  14%|█████████████████████▍                                                                                                                                | 1/7 [00:12<01:17, 12.84s/it]\u001b[A2025-05-31 07:11:32,901 || INFO || MedRL-CoT Setup - Successful JSON parsed!\n",
      "\n",
      "Classifying prompts:  29%|██████████████████████████████████████████▊                                                                                                           | 2/7 [00:41<01:51, 22.27s/it]\u001b[A2025-05-31 07:12:08,166 || INFO || MedRL-CoT Setup - Successful JSON parsed!\n",
      "\n",
      "Classifying prompts:  43%|████████████████████████████████████████████████████████████████▎                                                                                     | 3/7 [01:16<01:52, 28.20s/it]\u001b[A2025-05-31 07:12:24,918 || WARNING || MedRL-CoT Setup - Invalid JSON, trying conversion\n",
      "2025-05-31 07:12:24,919 || INFO || MedRL-CoT Setup - Successful conversion!\n",
      "\n",
      "Classifying prompts:  57%|█████████████████████████████████████████████████████████████████████████████████████▋                                                                | 4/7 [01:33<01:11, 23.68s/it]\u001b[A2025-05-31 07:12:37,147 || WARNING || MedRL-CoT Setup - Invalid JSON, trying conversion\n",
      "2025-05-31 07:12:37,148 || INFO || MedRL-CoT Setup - Successful conversion!\n",
      "\n",
      "Classifying prompts:  71%|███████████████████████████████████████████████████████████████████████████████████████████████████████████▏                                          | 5/7 [01:45<00:39, 19.55s/it]\u001b[A2025-05-31 07:13:03,033 || WARNING || MedRL-CoT Setup - Invalid JSON, trying conversion\n",
      "2025-05-31 07:13:03,034 || INFO || MedRL-CoT Setup - Successful conversion!\n",
      "\n",
      "Classifying prompts:  86%|████████████████████████████████████████████████████████████████████████████████████████████████████████████████████████████████▌                     | 6/7 [02:11<00:21, 21.71s/it]\u001b[A2025-05-31 07:13:10,864 || INFO || MedRL-CoT Setup - Successful JSON parsed!\n",
      "\n",
      "Classifying prompts: 100%|██████████████████████████████████████████████████████████████████████████████████████████████████████████████████████████████████████████████████████| 7/7 [02:19<00:00, 17.17s/it]\u001b[A\n",
      "                                                                                                                                                                                                              \u001b[A2025-05-31 07:13:10,869 || INFO || MedRL-CoT Setup - Dumping checkpoint\n"
     ]
    },
    {
     "data": {
      "application/vnd.jupyter.widget-view+json": {
       "model_id": "59b00e0d2a934138baf5e1d5e95cdb6e",
       "version_major": 2,
       "version_minor": 0
      },
      "text/plain": [
       "Saving the dataset (0/1 shards):   0%|          | 0/7791 [00:00<?, ? examples/s]"
      ]
     },
     "metadata": {},
     "output_type": "display_data"
    },
    {
     "name": "stderr",
     "output_type": "stream",
     "text": [
      "Preprocessing dataset:   1%|█▋                                                                                                                                    | 369/30000 [3:49:13<1045:55:57, 127.07s/it]2025-05-31 07:13:10,946 || INFO || MedRL-CoT Setup - Preprocessing example 369\n",
      "\n",
      "Classifying prompts:   0%|                                                                                                                                                              | 0/4 [00:00<?, ?it/s]\u001b[A2025-05-31 07:13:24,573 || WARNING || MedRL-CoT Setup - Invalid JSON, trying conversion\n",
      "2025-05-31 07:13:24,574 || INFO || MedRL-CoT Setup - Successful conversion!\n",
      "\n",
      "Classifying prompts:  25%|█████████████████████████████████████▌                                                                                                                | 1/4 [00:13<00:40, 13.52s/it]\u001b[A2025-05-31 07:13:32,898 || WARNING || MedRL-CoT Setup - Invalid JSON, trying conversion\n",
      "2025-05-31 07:13:32,899 || INFO || MedRL-CoT Setup - Successful conversion!\n",
      "\n",
      "Classifying prompts:  50%|███████████████████████████████████████████████████████████████████████████                                                                           | 2/4 [00:21<00:20, 10.46s/it]\u001b[A2025-05-31 07:14:05,395 || INFO || MedRL-CoT Setup - Successful JSON parsed!\n",
      "\n",
      "Classifying prompts:  75%|████████████████████████████████████████████████████████████████████████████████████████████████████████████████▌                                     | 3/4 [00:54<00:20, 20.52s/it]\u001b[A2025-05-31 07:14:31,719 || WARNING || MedRL-CoT Setup - Invalid JSON, trying conversion\n",
      "2025-05-31 07:14:31,720 || INFO || MedRL-CoT Setup - Successful conversion!\n",
      "\n",
      "Classifying prompts: 100%|██████████████████████████████████████████████████████████████████████████████████████████████████████████████████████████████████████████████████████| 4/4 [01:20<00:00, 22.81s/it]\u001b[A\n",
      "                                                                                                                                                                                                              \u001b[A2025-05-31 07:14:31,725 || INFO || MedRL-CoT Setup - Dumping checkpoint\n"
     ]
    },
    {
     "data": {
      "application/vnd.jupyter.widget-view+json": {
       "model_id": "7bbc63cea37246d2af728044b910bee7",
       "version_major": 2,
       "version_minor": 0
      },
      "text/plain": [
       "Saving the dataset (0/1 shards):   0%|          | 0/7809 [00:00<?, ? examples/s]"
      ]
     },
     "metadata": {},
     "output_type": "display_data"
    },
    {
     "name": "stderr",
     "output_type": "stream",
     "text": [
      "Preprocessing dataset:   1%|█▋                                                                                                                                     | 370/30000 [3:50:34<931:46:37, 113.21s/it]2025-05-31 07:14:31,803 || INFO || MedRL-CoT Setup - Preprocessing example 370\n",
      "\n",
      "Classifying prompts:   0%|                                                                                                                                                              | 0/7 [00:00<?, ?it/s]\u001b[A2025-05-31 07:14:46,733 || INFO || MedRL-CoT Setup - Successful JSON parsed!\n",
      "\n",
      "Classifying prompts:  14%|█████████████████████▍                                                                                                                                | 1/7 [00:14<01:28, 14.82s/it]\u001b[A2025-05-31 07:15:09,372 || WARNING || MedRL-CoT Setup - Invalid JSON, trying conversion\n",
      "2025-05-31 07:15:09,373 || INFO || MedRL-CoT Setup - Successful conversion!\n",
      "\n",
      "Classifying prompts:  29%|██████████████████████████████████████████▊                                                                                                           | 2/7 [00:37<01:37, 19.42s/it]\u001b[A2025-05-31 07:15:26,730 || WARNING || MedRL-CoT Setup - Invalid JSON, trying conversion\n",
      "2025-05-31 07:15:26,731 || INFO || MedRL-CoT Setup - Successful conversion!\n",
      "\n",
      "Classifying prompts:  43%|████████████████████████████████████████████████████████████████▎                                                                                     | 3/7 [00:54<01:13, 18.48s/it]\u001b[A2025-05-31 07:15:49,025 || WARNING || MedRL-CoT Setup - Invalid JSON, trying conversion\n",
      "2025-05-31 07:15:49,026 || INFO || MedRL-CoT Setup - Successful conversion!\n",
      "\n",
      "Classifying prompts:  57%|█████████████████████████████████████████████████████████████████████████████████████▋                                                                | 4/7 [01:17<00:59, 19.99s/it]\u001b[A2025-05-31 07:16:08,619 || WARNING || MedRL-CoT Setup - Invalid JSON, trying conversion\n",
      "2025-05-31 07:16:08,620 || INFO || MedRL-CoT Setup - Successful conversion!\n",
      "\n",
      "Classifying prompts:  71%|███████████████████████████████████████████████████████████████████████████████████████████████████████████▏                                          | 5/7 [01:36<00:39, 19.84s/it]\u001b[A2025-05-31 07:16:23,896 || WARNING || MedRL-CoT Setup - Invalid JSON, trying conversion\n",
      "2025-05-31 07:16:23,897 || INFO || MedRL-CoT Setup - Successful conversion!\n",
      "\n",
      "Classifying prompts:  86%|████████████████████████████████████████████████████████████████████████████████████████████████████████████████████████████████▌                     | 6/7 [01:51<00:18, 18.29s/it]\u001b[A2025-05-31 07:16:33,015 || INFO || MedRL-CoT Setup - Successful JSON parsed!\n",
      "\n",
      "Classifying prompts: 100%|██████████████████████████████████████████████████████████████████████████████████████████████████████████████████████████████████████████████████████| 7/7 [02:01<00:00, 15.29s/it]\u001b[A\n",
      "                                                                                                                                                                                                              \u001b[A2025-05-31 07:16:33,020 || INFO || MedRL-CoT Setup - Dumping checkpoint\n"
     ]
    },
    {
     "data": {
      "application/vnd.jupyter.widget-view+json": {
       "model_id": "55045c4e8cc541e893a641a27914a933",
       "version_major": 2,
       "version_minor": 0
      },
      "text/plain": [
       "Saving the dataset (0/1 shards):   0%|          | 0/7840 [00:00<?, ? examples/s]"
      ]
     },
     "metadata": {},
     "output_type": "display_data"
    },
    {
     "name": "stderr",
     "output_type": "stream",
     "text": [
      "Preprocessing dataset:   1%|█▋                                                                                                                                     | 371/30000 [3:52:35<951:42:11, 115.63s/it]2025-05-31 07:16:33,095 || INFO || MedRL-CoT Setup - Preprocessing example 371\n",
      "\n",
      "Classifying prompts:   0%|                                                                                                                                                              | 0/3 [00:00<?, ?it/s]\u001b[A2025-05-31 07:17:02,852 || INFO || MedRL-CoT Setup - Successful JSON parsed!\n",
      "\n",
      "Classifying prompts:  33%|██████████████████████████████████████████████████                                                                                                    | 1/3 [00:29<00:59, 29.65s/it]\u001b[A2025-05-31 07:17:18,941 || WARNING || MedRL-CoT Setup - Invalid JSON, trying conversion\n",
      "2025-05-31 07:17:18,942 || INFO || MedRL-CoT Setup - Successful conversion!\n",
      "\n",
      "Classifying prompts:  67%|████████████████████████████████████████████████████████████████████████████████████████████████████                                                  | 2/3 [00:45<00:21, 21.67s/it]\u001b[A2025-05-31 07:17:36,127 || WARNING || MedRL-CoT Setup - Invalid JSON, trying conversion\n",
      "2025-05-31 07:17:36,128 || INFO || MedRL-CoT Setup - Successful conversion!\n",
      "\n",
      "Classifying prompts: 100%|██████████████████████████████████████████████████████████████████████████████████████████████████████████████████████████████████████████████████████| 3/3 [01:02<00:00, 19.62s/it]\u001b[A\n",
      "                                                                                                                                                                                                              \u001b[A2025-05-31 07:17:36,134 || INFO || MedRL-CoT Setup - Dumping checkpoint\n"
     ]
    },
    {
     "data": {
      "application/vnd.jupyter.widget-view+json": {
       "model_id": "dd54036f352849d08ce0fa84cb00e5a4",
       "version_major": 2,
       "version_minor": 0
      },
      "text/plain": [
       "Saving the dataset (0/1 shards):   0%|          | 0/7860 [00:00<?, ? examples/s]"
      ]
     },
     "metadata": {},
     "output_type": "display_data"
    },
    {
     "name": "stderr",
     "output_type": "stream",
     "text": [
      "Preprocessing dataset:   1%|█▋                                                                                                                                      | 372/30000 [3:53:38<822:00:04, 99.88s/it]2025-05-31 07:17:36,211 || INFO || MedRL-CoT Setup - Preprocessing example 372\n",
      "\n",
      "Classifying prompts:   0%|                                                                                                                                                              | 0/8 [00:00<?, ?it/s]\u001b[A2025-05-31 07:18:14,247 || INFO || MedRL-CoT Setup - Successful JSON parsed!\n",
      "\n",
      "Classifying prompts:  12%|██████████████████▊                                                                                                                                   | 1/8 [00:37<04:25, 37.92s/it]\u001b[A2025-05-31 07:18:39,040 || WARNING || MedRL-CoT Setup - Invalid JSON, trying conversion\n",
      "2025-05-31 07:18:39,041 || INFO || MedRL-CoT Setup - Successful conversion!\n",
      "\n",
      "Classifying prompts:  25%|█████████████████████████████████████▌                                                                                                                | 2/8 [01:02<03:01, 30.20s/it]\u001b[A2025-05-31 07:18:54,384 || WARNING || MedRL-CoT Setup - Invalid JSON, trying conversion\n",
      "2025-05-31 07:18:54,385 || INFO || MedRL-CoT Setup - Successful conversion!\n",
      "\n",
      "Classifying prompts:  38%|████████████████████████████████████████████████████████▎                                                                                             | 3/8 [01:18<01:57, 23.42s/it]\u001b[A2025-05-31 07:19:06,423 || INFO || MedRL-CoT Setup - Successful JSON parsed!\n",
      "\n",
      "Classifying prompts:  50%|███████████████████████████████████████████████████████████████████████████                                                                           | 4/8 [01:30<01:15, 18.92s/it]\u001b[A2025-05-31 07:19:21,140 || WARNING || MedRL-CoT Setup - Invalid JSON, trying conversion\n",
      "2025-05-31 07:19:21,142 || INFO || MedRL-CoT Setup - Successful conversion!\n",
      "\n",
      "Classifying prompts:  62%|█████████████████████████████████████████████████████████████████████████████████████████████▊                                                        | 5/8 [01:44<00:52, 17.41s/it]\u001b[A2025-05-31 07:19:47,318 || WARNING || MedRL-CoT Setup - Invalid JSON, trying conversion\n",
      "2025-05-31 07:19:47,319 || INFO || MedRL-CoT Setup - Successful conversion!\n",
      "\n",
      "Classifying prompts:  75%|████████████████████████████████████████████████████████████████████████████████████████████████████████████████▌                                     | 6/8 [02:10<00:40, 20.39s/it]\u001b[A2025-05-31 07:19:58,067 || INFO || MedRL-CoT Setup - Successful JSON parsed!\n",
      "\n",
      "Classifying prompts:  88%|███████████████████████████████████████████████████████████████████████████████████████████████████████████████████████████████████▎                  | 7/8 [02:21<00:17, 17.24s/it]\u001b[A2025-05-31 07:20:05,662 || WARNING || MedRL-CoT Setup - Invalid JSON, trying conversion\n",
      "2025-05-31 07:20:05,662 || INFO || MedRL-CoT Setup - Successful conversion!\n",
      "\n",
      "Classifying prompts: 100%|██████████████████████████████████████████████████████████████████████████████████████████████████████████████████████████████████████████████████████| 8/8 [02:29<00:00, 14.17s/it]\u001b[A\n",
      "                                                                                                                                                                                                              \u001b[A2025-05-31 07:20:05,667 || INFO || MedRL-CoT Setup - Dumping checkpoint\n"
     ]
    },
    {
     "data": {
      "application/vnd.jupyter.widget-view+json": {
       "model_id": "dcf99ea64f5740ef9ec258cfcaf9c2f0",
       "version_major": 2,
       "version_minor": 0
      },
      "text/plain": [
       "Saving the dataset (0/1 shards):   0%|          | 0/7897 [00:00<?, ? examples/s]"
      ]
     },
     "metadata": {},
     "output_type": "display_data"
    },
    {
     "name": "stderr",
     "output_type": "stream",
     "text": [
      "Preprocessing dataset:   1%|█▋                                                                                                                                     | 373/30000 [3:56:08<944:33:59, 114.78s/it]2025-05-31 07:20:05,744 || INFO || MedRL-CoT Setup - Preprocessing example 373\n",
      "\n",
      "Classifying prompts:   0%|                                                                                                                                                              | 0/6 [00:00<?, ?it/s]\u001b[A2025-05-31 07:20:21,068 || WARNING || MedRL-CoT Setup - Invalid JSON, trying conversion\n",
      "2025-05-31 07:20:21,069 || INFO || MedRL-CoT Setup - Successful conversion!\n",
      "\n",
      "Classifying prompts:  17%|█████████████████████████                                                                                                                             | 1/6 [00:15<01:16, 15.21s/it]\u001b[A2025-05-31 07:20:34,661 || WARNING || MedRL-CoT Setup - Invalid JSON, trying conversion\n",
      "2025-05-31 07:20:34,662 || INFO || MedRL-CoT Setup - Successful conversion!\n",
      "\n",
      "Classifying prompts:  33%|██████████████████████████████████████████████████                                                                                                    | 2/6 [00:28<00:57, 14.26s/it]\u001b[A2025-05-31 07:20:46,402 || WARNING || MedRL-CoT Setup - Invalid JSON, trying conversion\n",
      "2025-05-31 07:20:46,403 || INFO || MedRL-CoT Setup - Successful conversion!\n",
      "\n",
      "Classifying prompts:  50%|███████████████████████████████████████████████████████████████████████████                                                                           | 3/6 [00:40<00:39, 13.11s/it]\u001b[A2025-05-31 07:21:07,986 || WARNING || MedRL-CoT Setup - Invalid JSON, trying conversion\n",
      "2025-05-31 07:21:07,987 || INFO || MedRL-CoT Setup - Successful conversion!\n",
      "\n",
      "Classifying prompts:  67%|████████████████████████████████████████████████████████████████████████████████████████████████████                                                  | 4/6 [01:02<00:32, 16.46s/it]\u001b[A2025-05-31 07:21:51,799 || WARNING || MedRL-CoT Setup - Invalid JSON, trying conversion\n",
      "2025-05-31 07:21:51,800 || INFO || MedRL-CoT Setup - Successful conversion!\n",
      "\n",
      "Classifying prompts:  83%|█████████████████████████████████████████████████████████████████████████████████████████████████████████████████████████████                         | 5/6 [01:45<00:26, 26.32s/it]\u001b[A2025-05-31 07:21:58,578 || INFO || MedRL-CoT Setup - Successful JSON parsed!\n",
      "\n",
      "Classifying prompts: 100%|██████████████████████████████████████████████████████████████████████████████████████████████████████████████████████████████████████████████████████| 6/6 [01:52<00:00, 19.68s/it]\u001b[A\n",
      "                                                                                                                                                                                                              \u001b[A2025-05-31 07:21:58,582 || INFO || MedRL-CoT Setup - Dumping checkpoint\n"
     ]
    },
    {
     "data": {
      "application/vnd.jupyter.widget-view+json": {
       "model_id": "e7de4a4fe4544da0a75531263b237eee",
       "version_major": 2,
       "version_minor": 0
      },
      "text/plain": [
       "Saving the dataset (0/1 shards):   0%|          | 0/7929 [00:00<?, ? examples/s]"
      ]
     },
     "metadata": {},
     "output_type": "display_data"
    },
    {
     "name": "stderr",
     "output_type": "stream",
     "text": [
      "Preprocessing dataset:   1%|█▋                                                                                                                                     | 374/30000 [3:58:01<939:56:48, 114.22s/it]2025-05-31 07:21:58,661 || INFO || MedRL-CoT Setup - Preprocessing example 374\n",
      "\n",
      "Classifying prompts:   0%|                                                                                                                                                              | 0/1 [00:00<?, ?it/s]\u001b[A2025-05-31 07:23:32,349 || WARNING || MedRL-CoT Setup - Invalid JSON, trying conversion\n",
      "2025-05-31 07:23:32,350 || INFO || MedRL-CoT Setup - Successful conversion!\n",
      "\n",
      "Classifying prompts: 100%|██████████████████████████████████████████████████████████████████████████████████████████████████████████████████████████████████████████████████████| 1/1 [01:33<00:00, 93.58s/it]\u001b[A\n",
      "                                                                                                                                                                                                              \u001b[A2025-05-31 07:23:32,354 || INFO || MedRL-CoT Setup - Dumping checkpoint\n"
     ]
    },
    {
     "data": {
      "application/vnd.jupyter.widget-view+json": {
       "model_id": "26c9cb97e604445e83a1496f174482e4",
       "version_major": 2,
       "version_minor": 0
      },
      "text/plain": [
       "Saving the dataset (0/1 shards):   0%|          | 0/7929 [00:00<?, ? examples/s]"
      ]
     },
     "metadata": {},
     "output_type": "display_data"
    },
    {
     "name": "stderr",
     "output_type": "stream",
     "text": [
      "Preprocessing dataset:   1%|█▋                                                                                                                                     | 375/30000 [3:59:34<889:26:05, 108.08s/it]2025-05-31 07:23:32,430 || INFO || MedRL-CoT Setup - Preprocessing example 375\n",
      "\n",
      "Classifying prompts:   0%|                                                                                                                                                              | 0/4 [00:00<?, ?it/s]\u001b[A2025-05-31 07:23:45,389 || WARNING || MedRL-CoT Setup - Invalid JSON, trying conversion\n",
      "2025-05-31 07:23:45,390 || INFO || MedRL-CoT Setup - Successful conversion!\n",
      "\n",
      "Classifying prompts:  25%|█████████████████████████████████████▌                                                                                                                | 1/4 [00:12<00:38, 12.85s/it]\u001b[A2025-05-31 07:25:17,717 || ERROR || MedRL-CoT Setup - Nothing found, bad example!\n",
      "\n",
      "Classifying prompts:  50%|███████████████████████████████████████████████████████████████████████████                                                                           | 2/4 [01:45<01:59, 59.60s/it]\u001b[A2025-05-31 07:25:31,240 || WARNING || MedRL-CoT Setup - Invalid JSON, trying conversion\n",
      "2025-05-31 07:25:31,241 || INFO || MedRL-CoT Setup - Successful conversion!\n",
      "\n",
      "Classifying prompts:  75%|████████████████████████████████████████████████████████████████████████████████████████████████████████████████▌                                     | 3/4 [01:58<00:38, 38.56s/it]\u001b[A2025-05-31 07:25:46,248 || WARNING || MedRL-CoT Setup - Invalid JSON, trying conversion\n",
      "2025-05-31 07:25:46,249 || INFO || MedRL-CoT Setup - Successful conversion!\n",
      "\n",
      "Classifying prompts: 100%|██████████████████████████████████████████████████████████████████████████████████████████████████████████████████████████████████████████████████████| 4/4 [02:13<00:00, 29.26s/it]\u001b[A\n",
      "                                                                                                                                                                                                              \u001b[A2025-05-31 07:25:46,253 || INFO || MedRL-CoT Setup - Dumping checkpoint\n"
     ]
    },
    {
     "data": {
      "application/vnd.jupyter.widget-view+json": {
       "model_id": "3c99b79052c240b19107edc7782d9d08",
       "version_major": 2,
       "version_minor": 0
      },
      "text/plain": [
       "Saving the dataset (0/1 shards):   0%|          | 0/7946 [00:00<?, ? examples/s]"
      ]
     },
     "metadata": {},
     "output_type": "display_data"
    },
    {
     "name": "stderr",
     "output_type": "stream",
     "text": [
      "Preprocessing dataset:   1%|█▋                                                                                                                                     | 376/30000 [4:01:48<953:08:16, 115.83s/it]2025-05-31 07:25:46,330 || INFO || MedRL-CoT Setup - Preprocessing example 376\n",
      "\n",
      "Classifying prompts:   0%|                                                                                                                                                              | 0/3 [00:00<?, ?it/s]\u001b[A2025-05-31 07:26:25,870 || WARNING || MedRL-CoT Setup - Invalid JSON, trying conversion\n",
      "2025-05-31 07:26:25,870 || INFO || MedRL-CoT Setup - Successful conversion!\n",
      "\n",
      "Classifying prompts:  33%|██████████████████████████████████████████████████                                                                                                    | 1/3 [00:39<01:18, 39.43s/it]\u001b[A2025-05-31 07:27:20,257 || INFO || MedRL-CoT Setup - Successful JSON parsed!\n",
      "\n",
      "Classifying prompts:  67%|████████████████████████████████████████████████████████████████████████████████████████████████████                                                  | 2/3 [01:33<00:48, 48.23s/it]\u001b[A2025-05-31 07:27:50,716 || WARNING || MedRL-CoT Setup - Invalid JSON, trying conversion\n",
      "2025-05-31 07:27:50,717 || INFO || MedRL-CoT Setup - Successful conversion!\n",
      "\n",
      "Classifying prompts: 100%|██████████████████████████████████████████████████████████████████████████████████████████████████████████████████████████████████████████████████████| 3/3 [02:04<00:00, 40.11s/it]\u001b[A\n",
      "                                                                                                                                                                                                              \u001b[A2025-05-31 07:27:50,722 || INFO || MedRL-CoT Setup - Dumping checkpoint\n"
     ]
    },
    {
     "data": {
      "application/vnd.jupyter.widget-view+json": {
       "model_id": "b7128990185744589abcd94409333da8",
       "version_major": 2,
       "version_minor": 0
      },
      "text/plain": [
       "Saving the dataset (0/1 shards):   0%|          | 0/7979 [00:00<?, ? examples/s]"
      ]
     },
     "metadata": {},
     "output_type": "display_data"
    },
    {
     "name": "stderr",
     "output_type": "stream",
     "text": [
      "Preprocessing dataset:   1%|█▋                                                                                                                                     | 377/30000 [4:03:53<974:26:15, 118.42s/it]2025-05-31 07:27:50,800 || INFO || MedRL-CoT Setup - Preprocessing example 377\n",
      "\n",
      "Classifying prompts:   0%|                                                                                                                                                              | 0/2 [00:00<?, ?it/s]\u001b[A2025-05-31 07:28:49,885 || ERROR || MedRL-CoT Setup - Nothing found, bad example!\n",
      "\n",
      "Classifying prompts:  50%|███████████████████████████████████████████████████████████████████████████                                                                           | 1/2 [00:58<00:58, 58.98s/it]\u001b[A2025-05-31 07:28:52,243 || INFO || MedRL-CoT Setup - Successful JSON parsed!\n",
      "\n",
      "Classifying prompts: 100%|██████████████████████████████████████████████████████████████████████████████████████████████████████████████████████████████████████████████████████| 2/2 [01:01<00:00, 25.67s/it]\u001b[A\n",
      "                                                                                                                                                                                                              \u001b[A2025-05-31 07:28:52,248 || INFO || MedRL-CoT Setup - Dumping checkpoint\n"
     ]
    },
    {
     "data": {
      "application/vnd.jupyter.widget-view+json": {
       "model_id": "a7719ebc493042cb856fe91669dc165a",
       "version_major": 2,
       "version_minor": 0
      },
      "text/plain": [
       "Saving the dataset (0/1 shards):   0%|          | 0/7980 [00:00<?, ? examples/s]"
      ]
     },
     "metadata": {},
     "output_type": "display_data"
    },
    {
     "name": "stderr",
     "output_type": "stream",
     "text": [
      "Preprocessing dataset:   1%|█▋                                                                                                                                     | 378/30000 [4:04:54<833:57:16, 101.35s/it]2025-05-31 07:28:52,324 || INFO || MedRL-CoT Setup - Preprocessing example 378\n",
      "\n",
      "Classifying prompts:   0%|                                                                                                                                                              | 0/1 [00:00<?, ?it/s]\u001b[A2025-05-31 07:30:26,325 || ERROR || MedRL-CoT Setup - Nothing found, bad example!\n",
      "\n",
      "Classifying prompts: 100%|██████████████████████████████████████████████████████████████████████████████████████████████████████████████████████████████████████████████████████| 1/1 [01:33<00:00, 93.89s/it]\u001b[A\n",
      "                                                                                                                                                                                                              \u001b[A2025-05-31 07:30:26,330 || INFO || MedRL-CoT Setup - Dumping checkpoint\n"
     ]
    },
    {
     "data": {
      "application/vnd.jupyter.widget-view+json": {
       "model_id": "3174dd5bae10451fbf0c050c8d9851ad",
       "version_major": 2,
       "version_minor": 0
      },
      "text/plain": [
       "Saving the dataset (0/1 shards):   0%|          | 0/7980 [00:00<?, ? examples/s]"
      ]
     },
     "metadata": {},
     "output_type": "display_data"
    },
    {
     "name": "stderr",
     "output_type": "stream",
     "text": [
      "Preprocessing dataset:   1%|█▋                                                                                                                                      | 379/30000 [4:06:28<815:59:10, 99.17s/it]2025-05-31 07:30:26,408 || INFO || MedRL-CoT Setup - Preprocessing example 379\n",
      "\n",
      "Classifying prompts:   0%|                                                                                                                                                              | 0/4 [00:00<?, ?it/s]\u001b[A2025-05-31 07:31:10,777 || WARNING || MedRL-CoT Setup - Invalid JSON, trying conversion\n",
      "2025-05-31 07:31:10,778 || INFO || MedRL-CoT Setup - Successful conversion!\n",
      "\n",
      "Classifying prompts:  25%|█████████████████████████████████████▌                                                                                                                | 1/4 [00:44<02:12, 44.26s/it]\u001b[A2025-05-31 07:31:29,189 || WARNING || MedRL-CoT Setup - Invalid JSON, trying conversion\n",
      "2025-05-31 07:31:29,190 || INFO || MedRL-CoT Setup - Successful conversion!\n",
      "\n",
      "Classifying prompts:  50%|███████████████████████████████████████████████████████████████████████████                                                                           | 2/4 [01:02<00:58, 29.06s/it]\u001b[A2025-05-31 07:32:02,089 || INFO || MedRL-CoT Setup - Successful JSON parsed!\n",
      "\n",
      "Classifying prompts:  75%|████████████████████████████████████████████████████████████████████████████████████████████████████████████████▌                                     | 3/4 [01:35<00:30, 30.81s/it]\u001b[A2025-05-31 07:32:17,131 || WARNING || MedRL-CoT Setup - Invalid JSON, trying conversion\n",
      "2025-05-31 07:32:17,132 || INFO || MedRL-CoT Setup - Successful conversion!\n",
      "\n",
      "Classifying prompts: 100%|██████████████████████████████████████████████████████████████████████████████████████████████████████████████████████████████████████████████████████| 4/4 [01:50<00:00, 24.59s/it]\u001b[A\n",
      "                                                                                                                                                                                                              \u001b[A2025-05-31 07:32:17,138 || INFO || MedRL-CoT Setup - Dumping checkpoint\n"
     ]
    },
    {
     "data": {
      "application/vnd.jupyter.widget-view+json": {
       "model_id": "cd06c65145854ae3938d30ae47cce588",
       "version_major": 2,
       "version_minor": 0
      },
      "text/plain": [
       "Saving the dataset (0/1 shards):   0%|          | 0/8006 [00:00<?, ? examples/s]"
      ]
     },
     "metadata": {},
     "output_type": "display_data"
    },
    {
     "name": "stderr",
     "output_type": "stream",
     "text": [
      "Preprocessing dataset:   1%|█▋                                                                                                                                     | 380/30000 [4:08:19<844:41:09, 102.66s/it]2025-05-31 07:32:17,217 || INFO || MedRL-CoT Setup - Preprocessing example 380\n",
      "\n",
      "Classifying prompts:   0%|                                                                                                                                                              | 0/7 [00:00<?, ?it/s]\u001b[A2025-05-31 07:32:48,999 || WARNING || MedRL-CoT Setup - Invalid JSON, trying conversion\n",
      "2025-05-31 07:32:49,000 || INFO || MedRL-CoT Setup - Successful conversion!\n",
      "\n",
      "Classifying prompts:  14%|█████████████████████▍                                                                                                                                | 1/7 [00:31<03:10, 31.67s/it]\u001b[A2025-05-31 07:32:54,926 || INFO || MedRL-CoT Setup - Successful JSON parsed!\n",
      "\n",
      "Classifying prompts:  29%|██████████████████████████████████████████▊                                                                                                           | 2/7 [00:37<01:22, 16.53s/it]\u001b[A2025-05-31 07:33:01,248 || INFO || MedRL-CoT Setup - Successful JSON parsed!\n",
      "\n",
      "Classifying prompts:  43%|████████████████████████████████████████████████████████████████▎                                                                                     | 3/7 [00:43<00:47, 11.87s/it]\u001b[A2025-05-31 07:33:08,854 || INFO || MedRL-CoT Setup - Successful JSON parsed!\n",
      "\n",
      "Classifying prompts:  57%|█████████████████████████████████████████████████████████████████████████████████████▋                                                                | 4/7 [00:51<00:30, 10.18s/it]\u001b[A2025-05-31 07:33:50,950 || WARNING || MedRL-CoT Setup - Invalid JSON, trying conversion\n",
      "2025-05-31 07:33:50,951 || INFO || MedRL-CoT Setup - Successful conversion!\n",
      "\n",
      "Classifying prompts:  71%|███████████████████████████████████████████████████████████████████████████████████████████████████████████▏                                          | 5/7 [01:33<00:43, 21.69s/it]\u001b[A2025-05-31 07:34:03,772 || WARNING || MedRL-CoT Setup - Invalid JSON, trying conversion\n",
      "2025-05-31 07:34:03,773 || INFO || MedRL-CoT Setup - Successful conversion!\n",
      "\n",
      "Classifying prompts:  86%|████████████████████████████████████████████████████████████████████████████████████████████████████████████████████████████████▌                     | 6/7 [01:46<00:18, 18.68s/it]\u001b[A2025-05-31 07:34:37,714 || INFO || MedRL-CoT Setup - Successful JSON parsed!\n",
      "\n",
      "Classifying prompts: 100%|██████████████████████████████████████████████████████████████████████████████████████████████████████████████████████████████████████████████████████| 7/7 [02:20<00:00, 23.67s/it]\u001b[A\n",
      "                                                                                                                                                                                                              \u001b[A2025-05-31 07:34:37,719 || INFO || MedRL-CoT Setup - Dumping checkpoint\n"
     ]
    },
    {
     "data": {
      "application/vnd.jupyter.widget-view+json": {
       "model_id": "8d1c9822b60d466a9dcf39acba5eff64",
       "version_major": 2,
       "version_minor": 0
      },
      "text/plain": [
       "Saving the dataset (0/1 shards):   0%|          | 0/8043 [00:00<?, ? examples/s]"
      ]
     },
     "metadata": {},
     "output_type": "display_data"
    },
    {
     "name": "stderr",
     "output_type": "stream",
     "text": [
      "Preprocessing dataset:   1%|█▋                                                                                                                                     | 381/30000 [4:10:40<938:14:52, 114.04s/it]2025-05-31 07:34:37,797 || INFO || MedRL-CoT Setup - Preprocessing example 381\n",
      "\n",
      "Classifying prompts:   0%|                                                                                                                                                              | 0/3 [00:00<?, ?it/s]\u001b[A2025-05-31 07:35:17,806 || INFO || MedRL-CoT Setup - Successful JSON parsed!\n",
      "\n",
      "Classifying prompts:  33%|██████████████████████████████████████████████████                                                                                                    | 1/3 [00:39<01:19, 39.90s/it]\u001b[A2025-05-31 07:35:40,215 || WARNING || MedRL-CoT Setup - Invalid JSON, trying conversion\n",
      "2025-05-31 07:35:40,216 || INFO || MedRL-CoT Setup - Successful conversion!\n",
      "\n",
      "Classifying prompts:  67%|████████████████████████████████████████████████████████████████████████████████████████████████████                                                  | 2/3 [01:02<00:29, 29.61s/it]\u001b[A2025-05-31 07:35:42,771 || INFO || MedRL-CoT Setup - Successful JSON parsed!\n",
      "\n",
      "Classifying prompts: 100%|██████████████████████████████████████████████████████████████████████████████████████████████████████████████████████████████████████████████████████| 3/3 [01:04<00:00, 17.26s/it]\u001b[A\n",
      "                                                                                                                                                                                                              \u001b[A2025-05-31 07:35:42,775 || INFO || MedRL-CoT Setup - Dumping checkpoint\n"
     ]
    },
    {
     "data": {
      "application/vnd.jupyter.widget-view+json": {
       "model_id": "6a83b5807c2c4c4fb256897cf122afb7",
       "version_major": 2,
       "version_minor": 0
      },
      "text/plain": [
       "Saving the dataset (0/1 shards):   0%|          | 0/8061 [00:00<?, ? examples/s]"
      ]
     },
     "metadata": {},
     "output_type": "display_data"
    },
    {
     "name": "stderr",
     "output_type": "stream",
     "text": [
      "Preprocessing dataset:   1%|█▋                                                                                                                                      | 382/30000 [4:11:45<817:18:58, 99.34s/it]2025-05-31 07:35:42,852 || INFO || MedRL-CoT Setup - Preprocessing example 382\n",
      "\n",
      "Classifying prompts:   0%|                                                                                                                                                              | 0/6 [00:00<?, ?it/s]\u001b[A2025-05-31 07:36:10,138 || ERROR || MedRL-CoT Setup - Nothing found, bad example!\n",
      "\n",
      "Classifying prompts:  17%|█████████████████████████                                                                                                                             | 1/6 [00:27<02:15, 27.18s/it]\u001b[A2025-05-31 07:36:14,175 || INFO || MedRL-CoT Setup - Successful JSON parsed!\n",
      "\n",
      "Classifying prompts:  33%|██████████████████████████████████████████████████                                                                                                    | 2/6 [00:31<00:54, 13.56s/it]\u001b[A2025-05-31 07:36:28,448 || WARNING || MedRL-CoT Setup - Invalid JSON, trying conversion\n",
      "2025-05-31 07:36:28,449 || INFO || MedRL-CoT Setup - Successful conversion!\n",
      "\n",
      "Classifying prompts:  50%|███████████████████████████████████████████████████████████████████████████                                                                           | 3/6 [00:45<00:41, 13.89s/it]\u001b[A2025-05-31 07:36:35,935 || INFO || MedRL-CoT Setup - Successful JSON parsed!\n",
      "\n",
      "Classifying prompts:  67%|████████████████████████████████████████████████████████████████████████████████████████████████████                                                  | 4/6 [00:52<00:22, 11.36s/it]\u001b[A2025-05-31 07:36:40,900 || INFO || MedRL-CoT Setup - Successful JSON parsed!\n",
      "\n",
      "Classifying prompts:  83%|█████████████████████████████████████████████████████████████████████████████████████████████████████████████████████████████                         | 5/6 [00:57<00:09,  9.05s/it]\u001b[A2025-05-31 07:37:30,966 || INFO || MedRL-CoT Setup - Successful JSON parsed!\n",
      "\n",
      "Classifying prompts: 100%|██████████████████████████████████████████████████████████████████████████████████████████████████████████████████████████████████████████████████████| 6/6 [01:48<00:00, 23.00s/it]\u001b[A\n",
      "                                                                                                                                                                                                              \u001b[A2025-05-31 07:37:30,971 || INFO || MedRL-CoT Setup - Dumping checkpoint\n"
     ]
    },
    {
     "data": {
      "application/vnd.jupyter.widget-view+json": {
       "model_id": "06a5d084de7e42dab19f118afc2336ea",
       "version_major": 2,
       "version_minor": 0
      },
      "text/plain": [
       "Saving the dataset (0/1 shards):   0%|          | 0/8087 [00:00<?, ? examples/s]"
      ]
     },
     "metadata": {},
     "output_type": "display_data"
    },
    {
     "name": "stderr",
     "output_type": "stream",
     "text": [
      "Preprocessing dataset:   1%|█▋                                                                                                                                     | 383/30000 [4:13:33<839:08:34, 102.00s/it]2025-05-31 07:37:31,049 || INFO || MedRL-CoT Setup - Preprocessing example 383\n",
      "\n",
      "Classifying prompts:   0%|                                                                                                                                                              | 0/4 [00:00<?, ?it/s]\u001b[A2025-05-31 07:38:06,841 || INFO || MedRL-CoT Setup - Successful JSON parsed!\n",
      "\n",
      "Classifying prompts:  25%|█████████████████████████████████████▌                                                                                                                | 1/4 [00:35<01:47, 35.68s/it]\u001b[A2025-05-31 07:38:29,323 || INFO || MedRL-CoT Setup - Successful JSON parsed!\n",
      "\n",
      "Classifying prompts:  50%|███████████████████████████████████████████████████████████████████████████                                                                           | 2/4 [00:58<00:55, 27.92s/it]\u001b[A2025-05-31 07:38:39,543 || INFO || MedRL-CoT Setup - Successful JSON parsed!\n",
      "\n",
      "Classifying prompts:  75%|████████████████████████████████████████████████████████████████████████████████████████████████████████████████▌                                     | 3/4 [01:08<00:19, 19.84s/it]\u001b[A2025-05-31 07:38:54,591 || WARNING || MedRL-CoT Setup - Invalid JSON, trying conversion\n",
      "2025-05-31 07:38:54,592 || INFO || MedRL-CoT Setup - Successful conversion!\n",
      "\n",
      "Classifying prompts: 100%|██████████████████████████████████████████████████████████████████████████████████████████████████████████████████████████████████████████████████████| 4/4 [01:23<00:00, 17.95s/it]\u001b[A\n",
      "                                                                                                                                                                                                              \u001b[A2025-05-31 07:38:54,596 || INFO || MedRL-CoT Setup - Dumping checkpoint\n"
     ]
    },
    {
     "data": {
      "application/vnd.jupyter.widget-view+json": {
       "model_id": "b2fcd48828524ab9808be509336c090a",
       "version_major": 2,
       "version_minor": 0
      },
      "text/plain": [
       "Saving the dataset (0/1 shards):   0%|          | 0/8110 [00:00<?, ? examples/s]"
      ]
     },
     "metadata": {},
     "output_type": "display_data"
    },
    {
     "name": "stderr",
     "output_type": "stream",
     "text": [
      "Preprocessing dataset:   1%|█▋                                                                                                                                      | 384/30000 [4:14:57<793:45:45, 96.49s/it]2025-05-31 07:38:54,673 || INFO || MedRL-CoT Setup - Preprocessing example 384\n",
      "\n",
      "Classifying prompts:   0%|                                                                                                                                                              | 0/4 [00:00<?, ?it/s]\u001b[A2025-05-31 07:39:07,633 || WARNING || MedRL-CoT Setup - Invalid JSON, trying conversion\n",
      "2025-05-31 07:39:07,634 || INFO || MedRL-CoT Setup - Successful conversion!\n",
      "\n",
      "Classifying prompts:  25%|█████████████████████████████████████▌                                                                                                                | 1/4 [00:12<00:38, 12.85s/it]\u001b[A2025-05-31 07:40:39,944 || ERROR || MedRL-CoT Setup - Nothing found, bad example!\n",
      "\n",
      "Classifying prompts:  50%|███████████████████████████████████████████████████████████████████████████                                                                           | 2/4 [01:45<01:59, 59.59s/it]\u001b[A2025-05-31 07:40:53,471 || WARNING || MedRL-CoT Setup - Invalid JSON, trying conversion\n",
      "2025-05-31 07:40:53,472 || INFO || MedRL-CoT Setup - Successful conversion!\n",
      "\n",
      "Classifying prompts:  75%|████████████████████████████████████████████████████████████████████████████████████████████████████████████████▌                                     | 3/4 [01:58<00:38, 38.56s/it]\u001b[A2025-05-31 07:41:08,476 || WARNING || MedRL-CoT Setup - Invalid JSON, trying conversion\n",
      "2025-05-31 07:41:08,477 || INFO || MedRL-CoT Setup - Successful conversion!\n",
      "\n",
      "Classifying prompts: 100%|██████████████████████████████████████████████████████████████████████████████████████████████████████████████████████████████████████████████████████| 4/4 [02:13<00:00, 29.26s/it]\u001b[A\n",
      "                                                                                                                                                                                                              \u001b[A2025-05-31 07:41:08,482 || INFO || MedRL-CoT Setup - Dumping checkpoint\n"
     ]
    },
    {
     "data": {
      "application/vnd.jupyter.widget-view+json": {
       "model_id": "45c02595346b44daaae453202194102c",
       "version_major": 2,
       "version_minor": 0
      },
      "text/plain": [
       "Saving the dataset (0/1 shards):   0%|          | 0/8127 [00:00<?, ? examples/s]"
      ]
     },
     "metadata": {},
     "output_type": "display_data"
    },
    {
     "name": "stderr",
     "output_type": "stream",
     "text": [
      "Preprocessing dataset:   1%|█▋                                                                                                                                     | 385/30000 [4:17:10<886:02:27, 107.71s/it]2025-05-31 07:41:08,562 || INFO || MedRL-CoT Setup - Preprocessing example 385\n",
      "\n",
      "Classifying prompts:   0%|                                                                                                                                                              | 0/1 [00:00<?, ?it/s]\u001b[A2025-05-31 07:42:45,454 || ERROR || MedRL-CoT Setup - Nothing found, bad example!\n",
      "\n",
      "Classifying prompts: 100%|██████████████████████████████████████████████████████████████████████████████████████████████████████████████████████████████████████████████████████| 1/1 [01:36<00:00, 96.78s/it]\u001b[A\n",
      "                                                                                                                                                                                                              \u001b[A2025-05-31 07:42:45,457 || INFO || MedRL-CoT Setup - Dumping checkpoint\n"
     ]
    },
    {
     "data": {
      "application/vnd.jupyter.widget-view+json": {
       "model_id": "ec16123c3cbf4534877b9b611c8cd152",
       "version_major": 2,
       "version_minor": 0
      },
      "text/plain": [
       "Saving the dataset (0/1 shards):   0%|          | 0/8127 [00:00<?, ? examples/s]"
      ]
     },
     "metadata": {},
     "output_type": "display_data"
    },
    {
     "name": "stderr",
     "output_type": "stream",
     "text": [
      "Preprocessing dataset:   1%|█▋                                                                                                                                     | 386/30000 [4:18:47<859:31:38, 104.49s/it]2025-05-31 07:42:45,537 || INFO || MedRL-CoT Setup - Preprocessing example 386\n",
      "\n",
      "Classifying prompts:   0%|                                                                                                                                                              | 0/2 [00:00<?, ?it/s]\u001b[A2025-05-31 07:43:23,336 || INFO || MedRL-CoT Setup - Successful JSON parsed!\n",
      "\n",
      "Classifying prompts:  50%|███████████████████████████████████████████████████████████████████████████                                                                           | 1/2 [00:37<00:37, 37.69s/it]\u001b[A2025-05-31 07:43:55,281 || WARNING || MedRL-CoT Setup - Invalid JSON, trying conversion\n",
      "2025-05-31 07:43:55,282 || INFO || MedRL-CoT Setup - Successful conversion!\n",
      "\n",
      "Classifying prompts: 100%|██████████████████████████████████████████████████████████████████████████████████████████████████████████████████████████████████████████████████████| 2/2 [01:09<00:00, 34.31s/it]\u001b[A\n",
      "                                                                                                                                                                                                              \u001b[A2025-05-31 07:43:55,286 || INFO || MedRL-CoT Setup - Dumping checkpoint\n"
     ]
    },
    {
     "data": {
      "application/vnd.jupyter.widget-view+json": {
       "model_id": "8a623c7727ed48d1a6d44eacd10f2fc2",
       "version_major": 2,
       "version_minor": 0
      },
      "text/plain": [
       "Saving the dataset (0/1 shards):   0%|          | 0/8151 [00:00<?, ? examples/s]"
      ]
     },
     "metadata": {},
     "output_type": "display_data"
    },
    {
     "name": "stderr",
     "output_type": "stream",
     "text": [
      "Preprocessing dataset:   1%|█▊                                                                                                                                      | 387/30000 [4:19:57<773:58:14, 94.09s/it]2025-05-31 07:43:55,366 || INFO || MedRL-CoT Setup - Preprocessing example 387\n",
      "\n",
      "Classifying prompts:   0%|                                                                                                                                                              | 0/3 [00:00<?, ?it/s]\u001b[A2025-05-31 07:44:39,313 || ERROR || MedRL-CoT Setup - Nothing found, bad example!\n",
      "\n",
      "Classifying prompts:  33%|██████████████████████████████████████████████████                                                                                                    | 1/3 [00:43<01:27, 43.84s/it]\u001b[A2025-05-31 07:45:08,257 || INFO || MedRL-CoT Setup - Successful JSON parsed!\n",
      "\n",
      "Classifying prompts:  67%|████████████████████████████████████████████████████████████████████████████████████████████████████                                                  | 2/3 [01:12<00:35, 35.08s/it]\u001b[A2025-05-31 07:45:16,790 || INFO || MedRL-CoT Setup - Successful JSON parsed!\n",
      "\n",
      "Classifying prompts: 100%|██████████████████████████████████████████████████████████████████████████████████████████████████████████████████████████████████████████████████████| 3/3 [01:21<00:00, 22.96s/it]\u001b[A\n",
      "                                                                                                                                                                                                              \u001b[A2025-05-31 07:45:16,794 || INFO || MedRL-CoT Setup - Dumping checkpoint\n"
     ]
    },
    {
     "data": {
      "application/vnd.jupyter.widget-view+json": {
       "model_id": "12aef8c60a584f1f8e4dae3aaf8ed6d8",
       "version_major": 2,
       "version_minor": 0
      },
      "text/plain": [
       "Saving the dataset (0/1 shards):   0%|          | 0/8159 [00:00<?, ? examples/s]"
      ]
     },
     "metadata": {},
     "output_type": "display_data"
    },
    {
     "name": "stderr",
     "output_type": "stream",
     "text": [
      "Preprocessing dataset:   1%|█▊                                                                                                                                      | 388/30000 [4:21:19<742:53:23, 90.31s/it]2025-05-31 07:45:16,872 || INFO || MedRL-CoT Setup - Preprocessing example 388\n",
      "\n",
      "Classifying prompts:   0%|                                                                                                                                                              | 0/2 [00:00<?, ?it/s]\u001b[A2025-05-31 07:45:58,377 || WARNING || MedRL-CoT Setup - Invalid JSON, trying conversion\n",
      "2025-05-31 07:45:58,378 || INFO || MedRL-CoT Setup - Successful conversion!\n",
      "\n",
      "Classifying prompts:  50%|███████████████████████████████████████████████████████████████████████████                                                                           | 1/2 [00:41<00:41, 41.40s/it]\u001b[A2025-05-31 07:46:52,246 || ERROR || MedRL-CoT Setup - Nothing found, bad example!\n",
      "\n",
      "Classifying prompts: 100%|██████████████████████████████████████████████████████████████████████████████████████████████████████████████████████████████████████████████████████| 2/2 [01:35<00:00, 48.73s/it]\u001b[A\n",
      "                                                                                                                                                                                                              \u001b[A2025-05-31 07:46:52,250 || INFO || MedRL-CoT Setup - Dumping checkpoint\n"
     ]
    },
    {
     "data": {
      "application/vnd.jupyter.widget-view+json": {
       "model_id": "a51cfd44eec449e4b18ec61bdd5027e2",
       "version_major": 2,
       "version_minor": 0
      },
      "text/plain": [
       "Saving the dataset (0/1 shards):   0%|          | 0/8167 [00:00<?, ? examples/s]"
      ]
     },
     "metadata": {},
     "output_type": "display_data"
    },
    {
     "name": "stderr",
     "output_type": "stream",
     "text": [
      "Preprocessing dataset:   1%|█▊                                                                                                                                      | 389/30000 [4:22:54<755:33:24, 91.86s/it]2025-05-31 07:46:52,331 || INFO || MedRL-CoT Setup - Preprocessing example 389\n",
      "\n",
      "Classifying prompts:   0%|                                                                                                                                                              | 0/7 [00:00<?, ?it/s]\u001b[A2025-05-31 07:47:16,084 || INFO || MedRL-CoT Setup - Successful JSON parsed!\n",
      "\n",
      "Classifying prompts:  14%|█████████████████████▍                                                                                                                                | 1/7 [00:23<02:21, 23.64s/it]\u001b[A2025-05-31 07:47:31,741 || WARNING || MedRL-CoT Setup - Invalid JSON, trying conversion\n",
      "2025-05-31 07:47:31,742 || INFO || MedRL-CoT Setup - Successful conversion!\n",
      "\n",
      "Classifying prompts:  29%|██████████████████████████████████████████▊                                                                                                           | 2/7 [00:39<01:34, 18.95s/it]\u001b[A2025-05-31 07:47:44,016 || WARNING || MedRL-CoT Setup - Invalid JSON, trying conversion\n",
      "2025-05-31 07:47:44,017 || INFO || MedRL-CoT Setup - Successful conversion!\n",
      "\n",
      "Classifying prompts:  43%|████████████████████████████████████████████████████████████████▎                                                                                     | 3/7 [00:51<01:03, 15.90s/it]\u001b[A2025-05-31 07:47:58,883 || INFO || MedRL-CoT Setup - Successful JSON parsed!\n",
      "\n",
      "Classifying prompts:  57%|█████████████████████████████████████████████████████████████████████████████████████▋                                                                | 4/7 [01:06<00:46, 15.49s/it]\u001b[A2025-05-31 07:48:13,458 || WARNING || MedRL-CoT Setup - Invalid JSON, trying conversion\n",
      "2025-05-31 07:48:13,459 || INFO || MedRL-CoT Setup - Successful conversion!\n",
      "\n",
      "Classifying prompts:  71%|███████████████████████████████████████████████████████████████████████████████████████████████████████████▏                                          | 5/7 [01:21<00:30, 15.16s/it]\u001b[A2025-05-31 07:48:25,994 || INFO || MedRL-CoT Setup - Successful JSON parsed!\n",
      "\n",
      "Classifying prompts:  86%|████████████████████████████████████████████████████████████████████████████████████████████████████████████████████████████████▌                     | 6/7 [01:33<00:14, 14.27s/it]\u001b[A2025-05-31 07:48:36,056 || INFO || MedRL-CoT Setup - Successful JSON parsed!\n",
      "\n",
      "Classifying prompts: 100%|██████████████████████████████████████████████████████████████████████████████████████████████████████████████████████████████████████████████████████| 7/7 [01:43<00:00, 12.89s/it]\u001b[A\n",
      "                                                                                                                                                                                                              \u001b[A2025-05-31 07:48:36,060 || INFO || MedRL-CoT Setup - Dumping checkpoint\n"
     ]
    },
    {
     "data": {
      "application/vnd.jupyter.widget-view+json": {
       "model_id": "8ea6a1391f7b49cb9ba5dc42fbc16380",
       "version_major": 2,
       "version_minor": 0
      },
      "text/plain": [
       "Saving the dataset (0/1 shards):   0%|          | 0/8196 [00:00<?, ? examples/s]"
      ]
     },
     "metadata": {},
     "output_type": "display_data"
    },
    {
     "name": "stderr",
     "output_type": "stream",
     "text": [
      "Preprocessing dataset:   1%|█▊                                                                                                                                      | 390/30000 [4:24:38<785:01:06, 95.44s/it]2025-05-31 07:48:36,139 || INFO || MedRL-CoT Setup - Preprocessing example 390\n",
      "\n",
      "Classifying prompts:   0%|                                                                                                                                                              | 0/4 [00:00<?, ?it/s]\u001b[A2025-05-31 07:49:49,126 || ERROR || MedRL-CoT Setup - Nothing found, bad example!\n",
      "\n",
      "Classifying prompts:  25%|█████████████████████████████████████▌                                                                                                                | 1/4 [01:12<03:38, 72.88s/it]\u001b[A2025-05-31 07:51:25,503 || ERROR || MedRL-CoT Setup - Nothing found, bad example!\n",
      "\n",
      "Classifying prompts:  50%|███████████████████████████████████████████████████████████████████████████                                                                           | 2/4 [02:49<02:53, 86.70s/it]\u001b[A2025-05-31 07:52:40,514 || WARNING || MedRL-CoT Setup - Invalid JSON, trying conversion\n",
      "2025-05-31 07:52:40,515 || INFO || MedRL-CoT Setup - Successful conversion!\n",
      "\n",
      "Classifying prompts:  75%|████████████████████████████████████████████████████████████████████████████████████████████████████████████████▌                                     | 3/4 [04:04<01:21, 81.36s/it]\u001b[A2025-05-31 07:53:05,407 || WARNING || MedRL-CoT Setup - Invalid JSON, trying conversion\n",
      "2025-05-31 07:53:05,408 || INFO || MedRL-CoT Setup - Successful conversion!\n",
      "\n",
      "Classifying prompts: 100%|██████████████████████████████████████████████████████████████████████████████████████████████████████████████████████████████████████████████████████| 4/4 [04:29<00:00, 59.07s/it]\u001b[A\n",
      "                                                                                                                                                                                                              \u001b[A2025-05-31 07:53:05,412 || INFO || MedRL-CoT Setup - Dumping checkpoint\n"
     ]
    },
    {
     "data": {
      "application/vnd.jupyter.widget-view+json": {
       "model_id": "208d8f4a259b4a18ab5b92888c101122",
       "version_major": 2,
       "version_minor": 0
      },
      "text/plain": [
       "Saving the dataset (0/1 shards):   0%|          | 0/8214 [00:00<?, ? examples/s]"
      ]
     },
     "metadata": {},
     "output_type": "display_data"
    },
    {
     "name": "stderr",
     "output_type": "stream",
     "text": [
      "Preprocessing dataset:   1%|█▋                                                                                                                                    | 391/30000 [4:29:07<1214:05:53, 147.62s/it]2025-05-31 07:53:05,491 || INFO || MedRL-CoT Setup - Preprocessing example 391\n",
      "\n",
      "Classifying prompts:   0%|                                                                                                                                                              | 0/4 [00:00<?, ?it/s]\u001b[A2025-05-31 07:53:11,518 || INFO || MedRL-CoT Setup - Successful JSON parsed!\n",
      "\n",
      "Classifying prompts:  25%|█████████████████████████████████████▌                                                                                                                | 1/4 [00:05<00:17,  5.92s/it]\u001b[A2025-05-31 07:53:42,580 || WARNING || MedRL-CoT Setup - Invalid JSON, trying conversion\n",
      "2025-05-31 07:53:42,581 || INFO || MedRL-CoT Setup - Successful conversion!\n",
      "\n",
      "Classifying prompts:  50%|███████████████████████████████████████████████████████████████████████████                                                                           | 2/4 [00:36<00:41, 20.71s/it]\u001b[A2025-05-31 07:54:20,151 || WARNING || MedRL-CoT Setup - Invalid JSON, trying conversion\n",
      "2025-05-31 07:54:20,152 || INFO || MedRL-CoT Setup - Successful conversion!\n",
      "\n",
      "Classifying prompts:  75%|████████████████████████████████████████████████████████████████████████████████████████████████████████████████▌                                     | 3/4 [01:14<00:28, 28.41s/it]\u001b[A2025-05-31 07:54:45,708 || INFO || MedRL-CoT Setup - Successful JSON parsed!\n",
      "\n",
      "Classifying prompts: 100%|██████████████████████████████████████████████████████████████████████████████████████████████████████████████████████████████████████████████████████| 4/4 [01:40<00:00, 27.28s/it]\u001b[A\n",
      "                                                                                                                                                                                                              \u001b[A2025-05-31 07:54:45,713 || INFO || MedRL-CoT Setup - Dumping checkpoint\n"
     ]
    },
    {
     "data": {
      "application/vnd.jupyter.widget-view+json": {
       "model_id": "6ffc43c9918448ceafba2bc38afa301e",
       "version_major": 2,
       "version_minor": 0
      },
      "text/plain": [
       "Saving the dataset (0/1 shards):   0%|          | 0/8241 [00:00<?, ? examples/s]"
      ]
     },
     "metadata": {},
     "output_type": "display_data"
    },
    {
     "name": "stderr",
     "output_type": "stream",
     "text": [
      "Preprocessing dataset:   1%|█▊                                                                                                                                    | 392/30000 [4:30:48<1097:19:09, 133.42s/it]2025-05-31 07:54:45,793 || INFO || MedRL-CoT Setup - Preprocessing example 392\n",
      "\n",
      "Classifying prompts:   0%|                                                                                                                                                              | 0/7 [00:00<?, ?it/s]\u001b[A2025-05-31 07:55:05,934 || WARNING || MedRL-CoT Setup - Invalid JSON, trying conversion\n",
      "2025-05-31 07:55:05,935 || INFO || MedRL-CoT Setup - Successful conversion!\n",
      "\n",
      "Classifying prompts:  14%|█████████████████████▍                                                                                                                                | 1/7 [00:20<02:00, 20.03s/it]\u001b[A2025-05-31 07:55:14,575 || INFO || MedRL-CoT Setup - Successful JSON parsed!\n",
      "\n",
      "Classifying prompts:  29%|██████████████████████████████████████████▊                                                                                                           | 2/7 [00:28<01:06, 13.33s/it]\u001b[A2025-05-31 07:55:22,402 || INFO || MedRL-CoT Setup - Successful JSON parsed!\n",
      "\n",
      "Classifying prompts:  43%|████████████████████████████████████████████████████████████████▎                                                                                     | 3/7 [00:36<00:43, 10.82s/it]\u001b[A2025-05-31 07:55:32,214 || INFO || MedRL-CoT Setup - Successful JSON parsed!\n",
      "\n",
      "Classifying prompts:  57%|█████████████████████████████████████████████████████████████████████████████████████▋                                                                | 4/7 [00:46<00:31, 10.42s/it]\u001b[A2025-05-31 07:55:47,577 || WARNING || MedRL-CoT Setup - Invalid JSON, trying conversion\n",
      "2025-05-31 07:55:47,578 || INFO || MedRL-CoT Setup - Successful conversion!\n",
      "\n",
      "Classifying prompts:  71%|███████████████████████████████████████████████████████████████████████████████████████████████████████████▏                                          | 5/7 [01:01<00:24, 12.20s/it]\u001b[A2025-05-31 07:56:03,926 || INFO || MedRL-CoT Setup - Successful JSON parsed!\n",
      "\n",
      "Classifying prompts:  86%|████████████████████████████████████████████████████████████████████████████████████████████████████████████████████████████████▌                     | 6/7 [01:18<00:13, 13.61s/it]\u001b[A2025-05-31 07:56:26,109 || WARNING || MedRL-CoT Setup - Invalid JSON, trying conversion\n",
      "2025-05-31 07:56:26,110 || INFO || MedRL-CoT Setup - Successful conversion!\n",
      "\n",
      "Classifying prompts: 100%|██████████████████████████████████████████████████████████████████████████████████████████████████████████████████████████████████████████████████████| 7/7 [01:40<00:00, 16.41s/it]\u001b[A\n",
      "                                                                                                                                                                                                              \u001b[A2025-05-31 07:56:26,114 || INFO || MedRL-CoT Setup - Dumping checkpoint\n"
     ]
    },
    {
     "data": {
      "application/vnd.jupyter.widget-view+json": {
       "model_id": "5b7c6d68a6934678bd3abed91f15ccac",
       "version_major": 2,
       "version_minor": 0
      },
      "text/plain": [
       "Saving the dataset (0/1 shards):   0%|          | 0/8273 [00:00<?, ? examples/s]"
      ]
     },
     "metadata": {},
     "output_type": "display_data"
    },
    {
     "name": "stderr",
     "output_type": "stream",
     "text": [
      "Preprocessing dataset:   1%|█▊                                                                                                                                    | 393/30000 [4:32:28<1015:48:34, 123.52s/it]2025-05-31 07:56:26,193 || INFO || MedRL-CoT Setup - Preprocessing example 393\n",
      "\n",
      "Classifying prompts:   0%|                                                                                                                                                              | 0/8 [00:00<?, ?it/s]\u001b[A2025-05-31 07:56:41,950 || WARNING || MedRL-CoT Setup - Invalid JSON, trying conversion\n",
      "2025-05-31 07:56:41,951 || INFO || MedRL-CoT Setup - Successful conversion!\n",
      "\n",
      "Classifying prompts:  12%|██████████████████▊                                                                                                                                   | 1/8 [00:15<01:49, 15.65s/it]\u001b[A2025-05-31 07:57:02,757 || WARNING || MedRL-CoT Setup - Invalid JSON, trying conversion\n",
      "2025-05-31 07:57:02,758 || INFO || MedRL-CoT Setup - Successful conversion!\n",
      "\n",
      "Classifying prompts:  25%|█████████████████████████████████████▌                                                                                                                | 2/8 [00:36<01:52, 18.68s/it]\u001b[A2025-05-31 07:57:12,022 || INFO || MedRL-CoT Setup - Successful JSON parsed!\n",
      "\n",
      "Classifying prompts:  38%|████████████████████████████████████████████████████████▎                                                                                             | 3/8 [00:45<01:11, 14.38s/it]\u001b[A2025-05-31 07:57:19,235 || INFO || MedRL-CoT Setup - Successful JSON parsed!\n",
      "\n",
      "Classifying prompts:  50%|███████████████████████████████████████████████████████████████████████████                                                                           | 4/8 [00:52<00:46, 11.55s/it]\u001b[A2025-05-31 07:57:54,831 || WARNING || MedRL-CoT Setup - Invalid JSON, trying conversion\n",
      "2025-05-31 07:57:54,831 || INFO || MedRL-CoT Setup - Successful conversion!\n",
      "\n",
      "Classifying prompts:  62%|█████████████████████████████████████████████████████████████████████████████████████████████▊                                                        | 5/8 [01:28<01:00, 20.22s/it]\u001b[A2025-05-31 07:58:05,507 || WARNING || MedRL-CoT Setup - Invalid JSON, trying conversion\n",
      "2025-05-31 07:58:05,508 || INFO || MedRL-CoT Setup - Successful conversion!\n",
      "\n",
      "Classifying prompts:  75%|████████████████████████████████████████████████████████████████████████████████████████████████████████████████▌                                     | 6/8 [01:39<00:33, 16.98s/it]\u001b[A2025-05-31 07:58:12,544 || WARNING || MedRL-CoT Setup - Invalid JSON, trying conversion\n",
      "2025-05-31 07:58:12,544 || INFO || MedRL-CoT Setup - Successful conversion!\n",
      "\n",
      "Classifying prompts:  88%|███████████████████████████████████████████████████████████████████████████████████████████████████████████████████████████████████▎                  | 7/8 [01:46<00:13, 13.73s/it]\u001b[A2025-05-31 07:58:39,437 || WARNING || MedRL-CoT Setup - Invalid JSON, trying conversion\n",
      "2025-05-31 07:58:39,438 || INFO || MedRL-CoT Setup - Successful conversion!\n",
      "\n",
      "Classifying prompts: 100%|██████████████████████████████████████████████████████████████████████████████████████████████████████████████████████████████████████████████████████| 8/8 [02:13<00:00, 17.92s/it]\u001b[A\n",
      "                                                                                                                                                                                                              \u001b[A2025-05-31 07:58:39,442 || INFO || MedRL-CoT Setup - Dumping checkpoint\n"
     ]
    },
    {
     "data": {
      "application/vnd.jupyter.widget-view+json": {
       "model_id": "ac7d176e35ad4f73a4f1f2fe2a7e9b6a",
       "version_major": 2,
       "version_minor": 0
      },
      "text/plain": [
       "Saving the dataset (0/1 shards):   0%|          | 0/8311 [00:00<?, ? examples/s]"
      ]
     },
     "metadata": {},
     "output_type": "display_data"
    },
    {
     "name": "stderr",
     "output_type": "stream",
     "text": [
      "Preprocessing dataset:   1%|█▊                                                                                                                                    | 394/30000 [4:34:41<1039:59:08, 126.46s/it]2025-05-31 07:58:39,521 || INFO || MedRL-CoT Setup - Preprocessing example 394\n",
      "\n",
      "Classifying prompts:   0%|                                                                                                                                                             | 0/10 [00:00<?, ?it/s]\u001b[A2025-05-31 07:58:53,764 || WARNING || MedRL-CoT Setup - Invalid JSON, trying conversion\n",
      "2025-05-31 07:58:53,765 || INFO || MedRL-CoT Setup - Successful conversion!\n",
      "\n",
      "Classifying prompts:  10%|██████████████▉                                                                                                                                      | 1/10 [00:14<02:07, 14.13s/it]\u001b[A2025-05-31 07:59:07,257 || WARNING || MedRL-CoT Setup - Invalid JSON, trying conversion\n",
      "2025-05-31 07:59:07,258 || INFO || MedRL-CoT Setup - Successful conversion!\n",
      "\n",
      "Classifying prompts:  20%|█████████████████████████████▊                                                                                                                       | 2/10 [00:27<01:50, 13.76s/it]\u001b[A2025-05-31 07:59:24,153 || WARNING || MedRL-CoT Setup - Invalid JSON, trying conversion\n",
      "2025-05-31 07:59:24,154 || INFO || MedRL-CoT Setup - Successful conversion!\n",
      "\n",
      "Classifying prompts:  30%|████████████████████████████████████████████▋                                                                                                        | 3/10 [00:44<01:46, 15.19s/it]\u001b[A2025-05-31 07:59:32,202 || INFO || MedRL-CoT Setup - Successful JSON parsed!\n",
      "\n",
      "Classifying prompts:  40%|███████████████████████████████████████████████████████████▌                                                                                         | 4/10 [00:52<01:14, 12.37s/it]\u001b[A2025-05-31 07:59:48,042 || WARNING || MedRL-CoT Setup - Invalid JSON, trying conversion\n",
      "2025-05-31 07:59:48,043 || INFO || MedRL-CoT Setup - Successful conversion!\n",
      "\n",
      "Classifying prompts:  50%|██████████████████████████████████████████████████████████████████████████▌                                                                          | 5/10 [01:08<01:08, 13.62s/it]\u001b[A2025-05-31 07:59:58,769 || WARNING || MedRL-CoT Setup - Invalid JSON, trying conversion\n",
      "2025-05-31 07:59:58,770 || INFO || MedRL-CoT Setup - Successful conversion!\n",
      "\n",
      "Classifying prompts:  60%|█████████████████████████████████████████████████████████████████████████████████████████▍                                                           | 6/10 [01:19<00:50, 12.64s/it]\u001b[A2025-05-31 08:01:26,238 || ERROR || MedRL-CoT Setup - Nothing found, bad example!\n",
      "\n",
      "Classifying prompts:  70%|████████████████████████████████████████████████████████████████████████████████████████████████████████▎                                            | 7/10 [02:46<01:51, 37.10s/it]\u001b[A2025-05-31 08:01:38,593 || WARNING || MedRL-CoT Setup - Invalid JSON, trying conversion\n",
      "2025-05-31 08:01:38,594 || INFO || MedRL-CoT Setup - Successful conversion!\n",
      "\n",
      "Classifying prompts:  80%|███████████████████████████████████████████████████████████████████████████████████████████████████████████████████████▏                             | 8/10 [02:58<00:58, 29.22s/it]\u001b[A2025-05-31 08:02:13,367 || INFO || MedRL-CoT Setup - Successful JSON parsed!\n",
      "\n",
      "Classifying prompts:  90%|██████████████████████████████████████████████████████████████████████████████████████████████████████████████████████████████████████               | 9/10 [03:33<00:30, 30.96s/it]\u001b[A2025-05-31 08:02:17,356 || INFO || MedRL-CoT Setup - Successful JSON parsed!\n",
      "\n",
      "Classifying prompts: 100%|████████████████████████████████████████████████████████████████████████████████████████████████████████████████████████████████████████████████████| 10/10 [03:37<00:00, 22.63s/it]\u001b[A\n",
      "                                                                                                                                                                                                              \u001b[A2025-05-31 08:02:17,360 || INFO || MedRL-CoT Setup - Dumping checkpoint\n"
     ]
    },
    {
     "data": {
      "application/vnd.jupyter.widget-view+json": {
       "model_id": "92005542bd90439e9d6cf768ff7994de",
       "version_major": 2,
       "version_minor": 0
      },
      "text/plain": [
       "Saving the dataset (0/1 shards):   0%|          | 0/8356 [00:00<?, ? examples/s]"
      ]
     },
     "metadata": {},
     "output_type": "display_data"
    },
    {
     "name": "stderr",
     "output_type": "stream",
     "text": [
      "Preprocessing dataset:   1%|█▊                                                                                                                                    | 395/30000 [4:38:19<1265:35:15, 153.90s/it]2025-05-31 08:02:17,439 || INFO || MedRL-CoT Setup - Preprocessing example 395\n",
      "\n",
      "Classifying prompts:   0%|                                                                                                                                                              | 0/8 [00:00<?, ?it/s]\u001b[A2025-05-31 08:02:33,193 || WARNING || MedRL-CoT Setup - Invalid JSON, trying conversion\n",
      "2025-05-31 08:02:33,194 || INFO || MedRL-CoT Setup - Successful conversion!\n",
      "\n",
      "Classifying prompts:  12%|██████████████████▊                                                                                                                                   | 1/8 [00:15<01:49, 15.64s/it]\u001b[A2025-05-31 08:02:53,993 || WARNING || MedRL-CoT Setup - Invalid JSON, trying conversion\n",
      "2025-05-31 08:02:53,994 || INFO || MedRL-CoT Setup - Successful conversion!\n",
      "\n",
      "Classifying prompts:  25%|█████████████████████████████████████▌                                                                                                                | 2/8 [00:36<01:52, 18.68s/it]\u001b[A2025-05-31 08:03:03,260 || INFO || MedRL-CoT Setup - Successful JSON parsed!\n",
      "\n",
      "Classifying prompts:  38%|████████████████████████████████████████████████████████▎                                                                                             | 3/8 [00:45<01:11, 14.38s/it]\u001b[A2025-05-31 08:03:10,452 || INFO || MedRL-CoT Setup - Successful JSON parsed!\n",
      "\n",
      "Classifying prompts:  50%|███████████████████████████████████████████████████████████████████████████                                                                           | 4/8 [00:52<00:46, 11.54s/it]\u001b[A2025-05-31 08:03:46,052 || WARNING || MedRL-CoT Setup - Invalid JSON, trying conversion\n",
      "2025-05-31 08:03:46,052 || INFO || MedRL-CoT Setup - Successful conversion!\n",
      "\n",
      "Classifying prompts:  62%|█████████████████████████████████████████████████████████████████████████████████████████████▊                                                        | 5/8 [01:28<01:00, 20.22s/it]\u001b[A2025-05-31 08:03:56,727 || WARNING || MedRL-CoT Setup - Invalid JSON, trying conversion\n",
      "2025-05-31 08:03:56,728 || INFO || MedRL-CoT Setup - Successful conversion!\n",
      "\n",
      "Classifying prompts:  75%|████████████████████████████████████████████████████████████████████████████████████████████████████████████████▌                                     | 6/8 [01:39<00:33, 16.97s/it]\u001b[A2025-05-31 08:04:03,765 || WARNING || MedRL-CoT Setup - Invalid JSON, trying conversion\n",
      "2025-05-31 08:04:03,766 || INFO || MedRL-CoT Setup - Successful conversion!\n",
      "\n",
      "Classifying prompts:  88%|███████████████████████████████████████████████████████████████████████████████████████████████████████████████████████████████████▎                  | 7/8 [01:46<00:13, 13.73s/it]\u001b[A2025-05-31 08:04:30,658 || WARNING || MedRL-CoT Setup - Invalid JSON, trying conversion\n",
      "2025-05-31 08:04:30,659 || INFO || MedRL-CoT Setup - Successful conversion!\n",
      "\n",
      "Classifying prompts: 100%|██████████████████████████████████████████████████████████████████████████████████████████████████████████████████████████████████████████████████████| 8/8 [02:13<00:00, 17.92s/it]\u001b[A\n",
      "                                                                                                                                                                                                              \u001b[A2025-05-31 08:04:30,663 || INFO || MedRL-CoT Setup - Dumping checkpoint\n"
     ]
    },
    {
     "data": {
      "application/vnd.jupyter.widget-view+json": {
       "model_id": "80ef45c59f304e12921d26d47e821b2c",
       "version_major": 2,
       "version_minor": 0
      },
      "text/plain": [
       "Saving the dataset (0/1 shards):   0%|          | 0/8394 [00:00<?, ? examples/s]"
      ]
     },
     "metadata": {},
     "output_type": "display_data"
    },
    {
     "name": "stderr",
     "output_type": "stream",
     "text": [
      "Preprocessing dataset:   1%|█▊                                                                                                                                    | 396/30000 [4:40:33<1214:44:37, 147.72s/it]2025-05-31 08:04:30,744 || INFO || MedRL-CoT Setup - Preprocessing example 396\n",
      "\n",
      "Classifying prompts:   0%|                                                                                                                                                              | 0/6 [00:00<?, ?it/s]\u001b[A2025-05-31 08:04:55,262 || ERROR || MedRL-CoT Setup - Nothing found, bad example!\n",
      "\n",
      "Classifying prompts:  17%|█████████████████████████                                                                                                                             | 1/6 [00:24<02:02, 24.41s/it]\u001b[A2025-05-31 08:05:22,728 || WARNING || MedRL-CoT Setup - Invalid JSON, trying conversion\n",
      "2025-05-31 08:05:22,729 || INFO || MedRL-CoT Setup - Successful conversion!\n",
      "\n",
      "Classifying prompts:  33%|██████████████████████████████████████████████████                                                                                                    | 2/6 [00:51<01:44, 26.21s/it]\u001b[A2025-05-31 08:06:06,836 || WARNING || MedRL-CoT Setup - Invalid JSON, trying conversion\n",
      "2025-05-31 08:06:06,837 || INFO || MedRL-CoT Setup - Successful conversion!\n",
      "\n",
      "Classifying prompts:  50%|███████████████████████████████████████████████████████████████████████████                                                                           | 3/6 [01:35<01:43, 34.38s/it]\u001b[A2025-05-31 08:06:20,538 || WARNING || MedRL-CoT Setup - Invalid JSON, trying conversion\n",
      "2025-05-31 08:06:20,539 || INFO || MedRL-CoT Setup - Successful conversion!\n",
      "\n",
      "Classifying prompts:  67%|████████████████████████████████████████████████████████████████████████████████████████████████████                                                  | 4/6 [01:49<00:52, 26.22s/it]\u001b[A2025-05-31 08:06:36,652 || WARNING || MedRL-CoT Setup - Invalid JSON, trying conversion\n",
      "2025-05-31 08:06:36,653 || INFO || MedRL-CoT Setup - Successful conversion!\n",
      "\n",
      "Classifying prompts:  83%|█████████████████████████████████████████████████████████████████████████████████████████████████████████████████████████████                         | 5/6 [02:05<00:22, 22.57s/it]\u001b[A2025-05-31 08:07:25,152 || ERROR || MedRL-CoT Setup - Nothing found, bad example!\n",
      "\n",
      "Classifying prompts: 100%|██████████████████████████████████████████████████████████████████████████████████████████████████████████████████████████████████████████████████████| 6/6 [02:54<00:00, 31.39s/it]\u001b[A\n",
      "                                                                                                                                                                                                              \u001b[A2025-05-31 08:07:25,156 || INFO || MedRL-CoT Setup - Dumping checkpoint\n"
     ]
    },
    {
     "data": {
      "application/vnd.jupyter.widget-view+json": {
       "model_id": "d5a9b61461c44ab296519f75293ad9d3",
       "version_major": 2,
       "version_minor": 0
      },
      "text/plain": [
       "Saving the dataset (0/1 shards):   0%|          | 0/8421 [00:00<?, ? examples/s]"
      ]
     },
     "metadata": {},
     "output_type": "display_data"
    },
    {
     "name": "stderr",
     "output_type": "stream",
     "text": [
      "Preprocessing dataset:   1%|█▊                                                                                                                                    | 397/30000 [4:43:27<1280:44:59, 155.75s/it]2025-05-31 08:07:25,236 || INFO || MedRL-CoT Setup - Preprocessing example 397\n",
      "\n",
      "Classifying prompts:   0%|                                                                                                                                                              | 0/3 [00:00<?, ?it/s]\u001b[A2025-05-31 08:08:13,442 || ERROR || MedRL-CoT Setup - Nothing found, bad example!\n",
      "\n",
      "Classifying prompts:  33%|██████████████████████████████████████████████████                                                                                                    | 1/3 [00:48<01:36, 48.10s/it]\u001b[A2025-05-31 08:08:43,896 || WARNING || MedRL-CoT Setup - Invalid JSON, trying conversion\n",
      "2025-05-31 08:08:43,896 || INFO || MedRL-CoT Setup - Successful conversion!\n",
      "\n",
      "Classifying prompts:  67%|████████████████████████████████████████████████████████████████████████████████████████████████████                                                  | 2/3 [01:18<00:37, 37.72s/it]\u001b[A2025-05-31 08:09:18,068 || INFO || MedRL-CoT Setup - Successful JSON parsed!\n",
      "\n",
      "Classifying prompts: 100%|██████████████████████████████████████████████████████████████████████████████████████████████████████████████████████████████████████████████████████| 3/3 [01:52<00:00, 36.10s/it]\u001b[A\n",
      "                                                                                                                                                                                                              \u001b[A2025-05-31 08:09:18,072 || INFO || MedRL-CoT Setup - Dumping checkpoint\n"
     ]
    },
    {
     "data": {
      "application/vnd.jupyter.widget-view+json": {
       "model_id": "60e2e97acb4447bea8f607974e605626",
       "version_major": 2,
       "version_minor": 0
      },
      "text/plain": [
       "Saving the dataset (0/1 shards):   0%|          | 0/8442 [00:00<?, ? examples/s]"
      ]
     },
     "metadata": {},
     "output_type": "display_data"
    },
    {
     "name": "stderr",
     "output_type": "stream",
     "text": [
      "Preprocessing dataset:   1%|█▊                                                                                                                                    | 398/30000 [4:45:20<1175:02:22, 142.90s/it]2025-05-31 08:09:18,152 || INFO || MedRL-CoT Setup - Preprocessing example 398\n",
      "\n",
      "Classifying prompts:   0%|                                                                                                                                                              | 0/3 [00:00<?, ?it/s]\u001b[A2025-05-31 08:09:45,879 || WARNING || MedRL-CoT Setup - Invalid JSON, trying conversion\n",
      "2025-05-31 08:09:45,880 || INFO || MedRL-CoT Setup - Successful conversion!\n",
      "\n",
      "Classifying prompts:  33%|██████████████████████████████████████████████████                                                                                                    | 1/3 [00:27<00:55, 27.62s/it]\u001b[A2025-05-31 08:09:58,217 || WARNING || MedRL-CoT Setup - Invalid JSON, trying conversion\n",
      "2025-05-31 08:09:58,218 || INFO || MedRL-CoT Setup - Successful conversion!\n",
      "\n",
      "Classifying prompts:  67%|████████████████████████████████████████████████████████████████████████████████████████████████████                                                  | 2/3 [00:39<00:18, 18.63s/it]\u001b[A2025-05-31 08:10:31,265 || ERROR || MedRL-CoT Setup - Nothing found, bad example!\n",
      "\n",
      "Classifying prompts: 100%|██████████████████████████████████████████████████████████████████████████████████████████████████████████████████████████████████████████████████████| 3/3 [01:13<00:00, 25.21s/it]\u001b[A\n",
      "                                                                                                                                                                                                              \u001b[A2025-05-31 08:10:31,270 || INFO || MedRL-CoT Setup - Dumping checkpoint\n"
     ]
    },
    {
     "data": {
      "application/vnd.jupyter.widget-view+json": {
       "model_id": "08969f93dc2149de9ed65bc07bf92a38",
       "version_major": 2,
       "version_minor": 0
      },
      "text/plain": [
       "Saving the dataset (0/1 shards):   0%|          | 0/8453 [00:00<?, ? examples/s]"
      ]
     },
     "metadata": {},
     "output_type": "display_data"
    },
    {
     "name": "stderr",
     "output_type": "stream",
     "text": [
      "Preprocessing dataset:   1%|█▊                                                                                                                                    | 399/30000 [4:46:33<1003:03:31, 121.99s/it]2025-05-31 08:10:31,349 || INFO || MedRL-CoT Setup - Preprocessing example 399\n",
      "\n",
      "Classifying prompts:   0%|                                                                                                                                                              | 0/8 [00:00<?, ?it/s]\u001b[A2025-05-31 08:10:47,102 || WARNING || MedRL-CoT Setup - Invalid JSON, trying conversion\n",
      "2025-05-31 08:10:47,103 || INFO || MedRL-CoT Setup - Successful conversion!\n",
      "\n",
      "Classifying prompts:  12%|██████████████████▊                                                                                                                                   | 1/8 [00:15<01:49, 15.64s/it]\u001b[A2025-05-31 08:11:07,891 || WARNING || MedRL-CoT Setup - Invalid JSON, trying conversion\n",
      "2025-05-31 08:11:07,892 || INFO || MedRL-CoT Setup - Successful conversion!\n",
      "\n",
      "Classifying prompts:  25%|█████████████████████████████████████▌                                                                                                                | 2/8 [00:36<01:52, 18.67s/it]\u001b[A2025-05-31 08:11:17,147 || INFO || MedRL-CoT Setup - Successful JSON parsed!\n",
      "\n",
      "Classifying prompts:  38%|████████████████████████████████████████████████████████▎                                                                                             | 3/8 [00:45<01:11, 14.37s/it]\u001b[A2025-05-31 08:11:24,357 || INFO || MedRL-CoT Setup - Successful JSON parsed!\n",
      "\n",
      "Classifying prompts:  50%|███████████████████████████████████████████████████████████████████████████                                                                           | 4/8 [00:52<00:46, 11.54s/it]\u001b[A2025-05-31 08:11:59,948 || WARNING || MedRL-CoT Setup - Invalid JSON, trying conversion\n",
      "2025-05-31 08:11:59,949 || INFO || MedRL-CoT Setup - Successful conversion!\n",
      "\n",
      "Classifying prompts:  62%|█████████████████████████████████████████████████████████████████████████████████████████████▊                                                        | 5/8 [01:28<01:00, 20.22s/it]\u001b[A2025-05-31 08:12:10,619 || WARNING || MedRL-CoT Setup - Invalid JSON, trying conversion\n",
      "2025-05-31 08:12:10,620 || INFO || MedRL-CoT Setup - Successful conversion!\n",
      "\n",
      "Classifying prompts:  75%|████████████████████████████████████████████████████████████████████████████████████████████████████████████████▌                                     | 6/8 [01:39<00:33, 16.97s/it]\u001b[A2025-05-31 08:12:17,667 || WARNING || MedRL-CoT Setup - Invalid JSON, trying conversion\n",
      "2025-05-31 08:12:17,668 || INFO || MedRL-CoT Setup - Successful conversion!\n",
      "\n",
      "Classifying prompts:  88%|███████████████████████████████████████████████████████████████████████████████████████████████████████████████████████████████████▎                  | 7/8 [01:46<00:13, 13.73s/it]\u001b[A2025-05-31 08:12:44,571 || WARNING || MedRL-CoT Setup - Invalid JSON, trying conversion\n",
      "2025-05-31 08:12:44,571 || INFO || MedRL-CoT Setup - Successful conversion!\n",
      "\n",
      "Classifying prompts: 100%|██████████████████████████████████████████████████████████████████████████████████████████████████████████████████████████████████████████████████████| 8/8 [02:13<00:00, 17.92s/it]\u001b[A\n",
      "                                                                                                                                                                                                              \u001b[A2025-05-31 08:12:44,575 || INFO || MedRL-CoT Setup - Dumping checkpoint\n"
     ]
    },
    {
     "data": {
      "application/vnd.jupyter.widget-view+json": {
       "model_id": "4a380bf513754cfa9e8e234bde5d5d11",
       "version_major": 2,
       "version_minor": 0
      },
      "text/plain": [
       "Saving the dataset (0/1 shards):   0%|          | 0/8491 [00:00<?, ? examples/s]"
      ]
     },
     "metadata": {},
     "output_type": "display_data"
    },
    {
     "name": "stderr",
     "output_type": "stream",
     "text": [
      "Preprocessing dataset:   1%|█▊                                                                                                                                    | 400/30000 [4:48:47<1030:56:32, 125.38s/it]2025-05-31 08:12:44,657 || INFO || MedRL-CoT Setup - Preprocessing example 400\n",
      "\n",
      "Classifying prompts:   0%|                                                                                                                                                              | 0/4 [00:00<?, ?it/s]\u001b[A2025-05-31 08:13:29,291 || WARNING || MedRL-CoT Setup - Invalid JSON, trying conversion\n",
      "2025-05-31 08:13:29,292 || INFO || MedRL-CoT Setup - Successful conversion!\n",
      "\n",
      "Classifying prompts:  25%|█████████████████████████████████████▌                                                                                                                | 1/4 [00:44<02:13, 44.52s/it]\u001b[A2025-05-31 08:13:38,624 || WARNING || MedRL-CoT Setup - Invalid JSON, trying conversion\n",
      "2025-05-31 08:13:38,625 || INFO || MedRL-CoT Setup - Successful conversion!\n",
      "\n",
      "Classifying prompts:  50%|███████████████████████████████████████████████████████████████████████████                                                                           | 2/4 [00:53<00:47, 23.82s/it]\u001b[A2025-05-31 08:13:49,784 || WARNING || MedRL-CoT Setup - Invalid JSON, trying conversion\n",
      "2025-05-31 08:13:49,785 || INFO || MedRL-CoT Setup - Successful conversion!\n",
      "\n",
      "Classifying prompts:  75%|████████████████████████████████████████████████████████████████████████████████████████████████████████████████▌                                     | 3/4 [01:05<00:18, 18.04s/it]\u001b[A2025-05-31 08:14:08,902 || WARNING || MedRL-CoT Setup - Invalid JSON, trying conversion\n",
      "2025-05-31 08:14:08,903 || INFO || MedRL-CoT Setup - Successful conversion!\n",
      "\n",
      "Classifying prompts: 100%|██████████████████████████████████████████████████████████████████████████████████████████████████████████████████████████████████████████████████████| 4/4 [01:24<00:00, 18.47s/it]\u001b[A\n",
      "                                                                                                                                                                                                              \u001b[A2025-05-31 08:14:08,907 || INFO || MedRL-CoT Setup - Dumping checkpoint\n"
     ]
    },
    {
     "data": {
      "application/vnd.jupyter.widget-view+json": {
       "model_id": "25b3e2e001734de08f481644562fc1d5",
       "version_major": 2,
       "version_minor": 0
      },
      "text/plain": [
       "Saving the dataset (0/1 shards):   0%|          | 0/8512 [00:00<?, ? examples/s]"
      ]
     },
     "metadata": {},
     "output_type": "display_data"
    },
    {
     "name": "stderr",
     "output_type": "stream",
     "text": [
      "Preprocessing dataset:   1%|█▊                                                                                                                                     | 401/30000 [4:50:11<929:39:01, 113.07s/it]2025-05-31 08:14:08,990 || INFO || MedRL-CoT Setup - Preprocessing example 401\n",
      "\n",
      "Classifying prompts:   0%|                                                                                                                                                              | 0/3 [00:00<?, ?it/s]\u001b[A2025-05-31 08:14:17,228 || INFO || MedRL-CoT Setup - Successful JSON parsed!\n",
      "\n",
      "Classifying prompts:  33%|██████████████████████████████████████████████████                                                                                                    | 1/3 [00:08<00:16,  8.13s/it]\u001b[A2025-05-31 08:14:53,970 || WARNING || MedRL-CoT Setup - Invalid JSON, trying conversion\n",
      "2025-05-31 08:14:53,971 || INFO || MedRL-CoT Setup - Successful conversion!\n",
      "\n",
      "Classifying prompts:  67%|████████████████████████████████████████████████████████████████████████████████████████████████████                                                  | 2/3 [00:44<00:24, 24.96s/it]\u001b[A2025-05-31 08:15:12,843 || WARNING || MedRL-CoT Setup - Invalid JSON, trying conversion\n",
      "2025-05-31 08:15:12,844 || INFO || MedRL-CoT Setup - Successful conversion!\n",
      "\n",
      "Classifying prompts: 100%|██████████████████████████████████████████████████████████████████████████████████████████████████████████████████████████████████████████████████████| 3/3 [01:03<00:00, 22.18s/it]\u001b[A\n",
      "                                                                                                                                                                                                              \u001b[A2025-05-31 08:15:12,848 || INFO || MedRL-CoT Setup - Dumping checkpoint\n"
     ]
    },
    {
     "data": {
      "application/vnd.jupyter.widget-view+json": {
       "model_id": "dfbef7503a844cc98f5a94819d33517f",
       "version_major": 2,
       "version_minor": 0
      },
      "text/plain": [
       "Saving the dataset (0/1 shards):   0%|          | 0/8528 [00:00<?, ? examples/s]"
      ]
     },
     "metadata": {},
     "output_type": "display_data"
    },
    {
     "name": "stderr",
     "output_type": "stream",
     "text": [
      "Preprocessing dataset:   1%|█▊                                                                                                                                      | 402/30000 [4:51:15<808:26:21, 98.33s/it]2025-05-31 08:15:12,930 || INFO || MedRL-CoT Setup - Preprocessing example 402\n",
      "\n",
      "Classifying prompts:   0%|                                                                                                                                                              | 0/3 [00:00<?, ?it/s]\u001b[A2025-05-31 08:15:33,292 || WARNING || MedRL-CoT Setup - Invalid JSON, trying conversion\n",
      "2025-05-31 08:15:33,293 || INFO || MedRL-CoT Setup - Successful conversion!\n",
      "\n",
      "Classifying prompts:  33%|██████████████████████████████████████████████████                                                                                                    | 1/3 [00:20<00:40, 20.25s/it]\u001b[A2025-05-31 08:16:10,930 || WARNING || MedRL-CoT Setup - Invalid JSON, trying conversion\n",
      "2025-05-31 08:16:10,930 || INFO || MedRL-CoT Setup - Successful conversion!\n",
      "\n",
      "Classifying prompts:  67%|████████████████████████████████████████████████████████████████████████████████████████████████████                                                  | 2/3 [00:57<00:30, 30.48s/it]\u001b[A2025-05-31 08:16:37,417 || WARNING || MedRL-CoT Setup - Invalid JSON, trying conversion\n",
      "2025-05-31 08:16:37,418 || INFO || MedRL-CoT Setup - Successful conversion!\n",
      "\n",
      "Classifying prompts: 100%|██████████████████████████████████████████████████████████████████████████████████████████████████████████████████████████████████████████████████████| 3/3 [01:24<00:00, 28.66s/it]\u001b[A\n",
      "                                                                                                                                                                                                              \u001b[A2025-05-31 08:16:37,422 || INFO || MedRL-CoT Setup - Dumping checkpoint\n"
     ]
    },
    {
     "data": {
      "application/vnd.jupyter.widget-view+json": {
       "model_id": "e6b61852425145049b6981cb80c201b2",
       "version_major": 2,
       "version_minor": 0
      },
      "text/plain": [
       "Saving the dataset (0/1 shards):   0%|          | 0/8555 [00:00<?, ? examples/s]"
      ]
     },
     "metadata": {},
     "output_type": "display_data"
    },
    {
     "name": "stderr",
     "output_type": "stream",
     "text": [
      "Preprocessing dataset:   1%|█▊                                                                                                                                      | 403/30000 [4:52:39<774:29:03, 94.20s/it]2025-05-31 08:16:37,504 || INFO || MedRL-CoT Setup - Preprocessing example 403\n",
      "\n",
      "Classifying prompts:   0%|                                                                                                                                                              | 0/7 [00:00<?, ?it/s]\u001b[A2025-05-31 08:17:16,061 || INFO || MedRL-CoT Setup - Successful JSON parsed!\n",
      "\n",
      "Classifying prompts:  14%|█████████████████████▍                                                                                                                                | 1/7 [00:38<03:50, 38.45s/it]\u001b[A2025-05-31 08:17:24,996 || INFO || MedRL-CoT Setup - Successful JSON parsed!\n",
      "\n",
      "Classifying prompts:  29%|██████████████████████████████████████████▊                                                                                                           | 2/7 [00:47<01:45, 21.09s/it]\u001b[A2025-05-31 08:17:56,889 || WARNING || MedRL-CoT Setup - Invalid JSON, trying conversion\n",
      "2025-05-31 08:17:56,890 || INFO || MedRL-CoT Setup - Successful conversion!\n",
      "\n",
      "Classifying prompts:  43%|████████████████████████████████████████████████████████████████▎                                                                                     | 3/7 [01:19<01:44, 26.02s/it]\u001b[A2025-05-31 08:18:13,930 || INFO || MedRL-CoT Setup - Successful JSON parsed!\n",
      "\n",
      "Classifying prompts:  57%|█████████████████████████████████████████████████████████████████████████████████████▋                                                                | 4/7 [01:36<01:07, 22.48s/it]\u001b[A2025-05-31 08:18:33,821 || ERROR || MedRL-CoT Setup - Nothing found, bad example!\n",
      "\n",
      "Classifying prompts:  71%|███████████████████████████████████████████████████████████████████████████████████████████████████████████▏                                          | 5/7 [01:56<00:43, 21.54s/it]\u001b[A2025-05-31 08:18:44,184 || INFO || MedRL-CoT Setup - Successful JSON parsed!\n",
      "\n",
      "Classifying prompts:  86%|████████████████████████████████████████████████████████████████████████████████████████████████████████████████████████████████▌                     | 6/7 [02:06<00:17, 17.74s/it]\u001b[A2025-05-31 08:18:51,621 || WARNING || MedRL-CoT Setup - Invalid JSON, trying conversion\n",
      "2025-05-31 08:18:51,622 || INFO || MedRL-CoT Setup - Successful conversion!\n",
      "\n",
      "Classifying prompts: 100%|██████████████████████████████████████████████████████████████████████████████████████████████████████████████████████████████████████████████████████| 7/7 [02:14<00:00, 14.37s/it]\u001b[A\n",
      "                                                                                                                                                                                                              \u001b[A2025-05-31 08:18:51,627 || INFO || MedRL-CoT Setup - Dumping checkpoint\n"
     ]
    },
    {
     "data": {
      "application/vnd.jupyter.widget-view+json": {
       "model_id": "726faa26bdcd437c80f833e70dfd756f",
       "version_major": 2,
       "version_minor": 0
      },
      "text/plain": [
       "Saving the dataset (0/1 shards):   0%|          | 0/8585 [00:00<?, ? examples/s]"
      ]
     },
     "metadata": {},
     "output_type": "display_data"
    },
    {
     "name": "stderr",
     "output_type": "stream",
     "text": [
      "Preprocessing dataset:   1%|█▊                                                                                                                                     | 404/30000 [4:54:54<873:07:06, 106.20s/it]2025-05-31 08:18:51,710 || INFO || MedRL-CoT Setup - Preprocessing example 404\n",
      "\n",
      "Classifying prompts:   0%|                                                                                                                                                              | 0/7 [00:00<?, ?it/s]\u001b[A2025-05-31 08:19:19,018 || INFO || MedRL-CoT Setup - Successful JSON parsed!\n",
      "\n",
      "Classifying prompts:  14%|█████████████████████▍                                                                                                                                | 1/7 [00:27<02:43, 27.20s/it]\u001b[A2025-05-31 08:19:31,343 || INFO || MedRL-CoT Setup - Successful JSON parsed!\n",
      "\n",
      "Classifying prompts:  29%|██████████████████████████████████████████▊                                                                                                           | 2/7 [00:39<01:32, 18.45s/it]\u001b[A2025-05-31 08:19:35,925 || INFO || MedRL-CoT Setup - Successful JSON parsed!\n",
      "\n",
      "Classifying prompts:  43%|████████████████████████████████████████████████████████████████▎                                                                                     | 3/7 [00:44<00:48, 12.12s/it]\u001b[A2025-05-31 08:19:46,859 || INFO || MedRL-CoT Setup - Successful JSON parsed!\n",
      "\n",
      "Classifying prompts:  57%|█████████████████████████████████████████████████████████████████████████████████████▋                                                                | 4/7 [00:55<00:34, 11.65s/it]\u001b[A2025-05-31 08:20:40,294 || WARNING || MedRL-CoT Setup - Invalid JSON, trying conversion\n",
      "2025-05-31 08:20:40,295 || INFO || MedRL-CoT Setup - Successful conversion!\n",
      "\n",
      "Classifying prompts:  71%|███████████████████████████████████████████████████████████████████████████████████████████████████████████▏                                          | 5/7 [01:48<00:53, 26.72s/it]\u001b[A2025-05-31 08:20:48,432 || INFO || MedRL-CoT Setup - Successful JSON parsed!\n",
      "\n",
      "Classifying prompts:  86%|████████████████████████████████████████████████████████████████████████████████████████████████████████████████████████████████▌                     | 6/7 [01:56<00:20, 20.40s/it]\u001b[A2025-05-31 08:20:56,018 || WARNING || MedRL-CoT Setup - Invalid JSON, trying conversion\n",
      "2025-05-31 08:20:56,020 || INFO || MedRL-CoT Setup - Successful conversion!\n",
      "\n",
      "Classifying prompts: 100%|██████████████████████████████████████████████████████████████████████████████████████████████████████████████████████████████████████████████████████| 7/7 [02:04<00:00, 16.21s/it]\u001b[A\n",
      "                                                                                                                                                                                                              \u001b[A2025-05-31 08:20:56,024 || INFO || MedRL-CoT Setup - Dumping checkpoint\n"
     ]
    },
    {
     "data": {
      "application/vnd.jupyter.widget-view+json": {
       "model_id": "9bfb4e42d4794fc39e3445103a7a9254",
       "version_major": 2,
       "version_minor": 0
      },
      "text/plain": [
       "Saving the dataset (0/1 shards):   0%|          | 0/8623 [00:00<?, ? examples/s]"
      ]
     },
     "metadata": {},
     "output_type": "display_data"
    },
    {
     "name": "stderr",
     "output_type": "stream",
     "text": [
      "Preprocessing dataset:   1%|█▊                                                                                                                                     | 405/30000 [4:56:58<917:57:19, 111.66s/it]2025-05-31 08:20:56,107 || INFO || MedRL-CoT Setup - Preprocessing example 405\n",
      "\n",
      "Classifying prompts:   0%|                                                                                                                                                              | 0/5 [00:00<?, ?it/s]\u001b[A2025-05-31 08:21:16,540 || WARNING || MedRL-CoT Setup - Invalid JSON, trying conversion\n",
      "2025-05-31 08:21:16,541 || INFO || MedRL-CoT Setup - Successful conversion!\n",
      "\n",
      "Classifying prompts:  20%|██████████████████████████████                                                                                                                        | 1/5 [00:20<01:21, 20.32s/it]\u001b[A2025-05-31 08:21:40,153 || WARNING || MedRL-CoT Setup - Invalid JSON, trying conversion\n",
      "2025-05-31 08:21:40,154 || INFO || MedRL-CoT Setup - Successful conversion!\n",
      "\n",
      "Classifying prompts:  40%|████████████████████████████████████████████████████████████                                                                                          | 2/5 [00:43<01:06, 22.26s/it]\u001b[A2025-05-31 08:22:03,594 || WARNING || MedRL-CoT Setup - Invalid JSON, trying conversion\n",
      "2025-05-31 08:22:03,595 || INFO || MedRL-CoT Setup - Successful conversion!\n",
      "\n",
      "Classifying prompts:  60%|██████████████████████████████████████████████████████████████████████████████████████████                                                            | 3/5 [01:07<00:45, 22.80s/it]\u001b[A2025-05-31 08:22:22,264 || WARNING || MedRL-CoT Setup - Invalid JSON, trying conversion\n",
      "2025-05-31 08:22:22,265 || INFO || MedRL-CoT Setup - Successful conversion!\n",
      "\n",
      "Classifying prompts:  80%|████████████████████████████████████████████████████████████████████████████████████████████████████████████████████████                              | 4/5 [01:26<00:21, 21.17s/it]\u001b[A2025-05-31 08:22:36,575 || WARNING || MedRL-CoT Setup - Invalid JSON, trying conversion\n",
      "2025-05-31 08:22:36,576 || INFO || MedRL-CoT Setup - Successful conversion!\n",
      "\n",
      "Classifying prompts: 100%|██████████████████████████████████████████████████████████████████████████████████████████████████████████████████████████████████████████████████████| 5/5 [01:40<00:00, 18.70s/it]\u001b[A\n",
      "                                                                                                                                                                                                              \u001b[A2025-05-31 08:22:36,580 || INFO || MedRL-CoT Setup - Dumping checkpoint\n"
     ]
    },
    {
     "data": {
      "application/vnd.jupyter.widget-view+json": {
       "model_id": "c2b61977df094b18943d58277f7fb8ed",
       "version_major": 2,
       "version_minor": 0
      },
      "text/plain": [
       "Saving the dataset (0/1 shards):   0%|          | 0/8656 [00:00<?, ? examples/s]"
      ]
     },
     "metadata": {},
     "output_type": "display_data"
    },
    {
     "name": "stderr",
     "output_type": "stream",
     "text": [
      "Preprocessing dataset:   1%|█▊                                                                                                                                     | 406/30000 [4:58:39<890:31:52, 108.33s/it]2025-05-31 08:22:36,661 || INFO || MedRL-CoT Setup - Preprocessing example 406\n",
      "\n",
      "Classifying prompts:   0%|                                                                                                                                                              | 0/8 [00:00<?, ?it/s]\u001b[A2025-05-31 08:22:52,414 || WARNING || MedRL-CoT Setup - Invalid JSON, trying conversion\n",
      "2025-05-31 08:22:52,415 || INFO || MedRL-CoT Setup - Successful conversion!\n",
      "\n",
      "Classifying prompts:  12%|██████████████████▊                                                                                                                                   | 1/8 [00:15<01:49, 15.64s/it]\u001b[A2025-05-31 08:23:13,189 || WARNING || MedRL-CoT Setup - Invalid JSON, trying conversion\n",
      "2025-05-31 08:23:13,190 || INFO || MedRL-CoT Setup - Successful conversion!\n",
      "\n",
      "Classifying prompts:  25%|█████████████████████████████████████▌                                                                                                                | 2/8 [00:36<01:51, 18.66s/it]\u001b[A2025-05-31 08:23:22,442 || INFO || MedRL-CoT Setup - Successful JSON parsed!\n",
      "\n",
      "Classifying prompts:  38%|████████████████████████████████████████████████████████▎                                                                                             | 3/8 [00:45<01:11, 14.37s/it]\u001b[A2025-05-31 08:23:29,646 || INFO || MedRL-CoT Setup - Successful JSON parsed!\n",
      "\n",
      "Classifying prompts:  50%|███████████████████████████████████████████████████████████████████████████                                                                           | 4/8 [00:52<00:46, 11.54s/it]\u001b[A2025-05-31 08:24:05,235 || WARNING || MedRL-CoT Setup - Invalid JSON, trying conversion\n",
      "2025-05-31 08:24:05,236 || INFO || MedRL-CoT Setup - Successful conversion!\n",
      "\n",
      "Classifying prompts:  62%|█████████████████████████████████████████████████████████████████████████████████████████████▊                                                        | 5/8 [01:28<01:00, 20.21s/it]\u001b[A2025-05-31 08:24:15,911 || WARNING || MedRL-CoT Setup - Invalid JSON, trying conversion\n",
      "2025-05-31 08:24:15,912 || INFO || MedRL-CoT Setup - Successful conversion!\n",
      "\n",
      "Classifying prompts:  75%|████████████████████████████████████████████████████████████████████████████████████████████████████████████████▌                                     | 6/8 [01:39<00:33, 16.97s/it]\u001b[A2025-05-31 08:24:22,949 || WARNING || MedRL-CoT Setup - Invalid JSON, trying conversion\n",
      "2025-05-31 08:24:22,950 || INFO || MedRL-CoT Setup - Successful conversion!\n",
      "\n",
      "Classifying prompts:  88%|███████████████████████████████████████████████████████████████████████████████████████████████████████████████████████████████████▎                  | 7/8 [01:46<00:13, 13.72s/it]\u001b[A2025-05-31 08:24:49,824 || WARNING || MedRL-CoT Setup - Invalid JSON, trying conversion\n",
      "2025-05-31 08:24:49,825 || INFO || MedRL-CoT Setup - Successful conversion!\n",
      "\n",
      "Classifying prompts: 100%|██████████████████████████████████████████████████████████████████████████████████████████████████████████████████████████████████████████████████████| 8/8 [02:13<00:00, 17.91s/it]\u001b[A\n",
      "                                                                                                                                                                                                              \u001b[A2025-05-31 08:24:49,829 || INFO || MedRL-CoT Setup - Dumping checkpoint\n"
     ]
    },
    {
     "data": {
      "application/vnd.jupyter.widget-view+json": {
       "model_id": "604a857b6890498baf47757ed90e339d",
       "version_major": 2,
       "version_minor": 0
      },
      "text/plain": [
       "Saving the dataset (0/1 shards):   0%|          | 0/8694 [00:00<?, ? examples/s]"
      ]
     },
     "metadata": {},
     "output_type": "display_data"
    },
    {
     "name": "stderr",
     "output_type": "stream",
     "text": [
      "Preprocessing dataset:   1%|█▊                                                                                                                                     | 407/30000 [5:00:52<951:57:41, 115.81s/it]2025-05-31 08:24:49,913 || INFO || MedRL-CoT Setup - Preprocessing example 407\n",
      "\n",
      "Classifying prompts:   0%|                                                                                                                                                              | 0/7 [00:00<?, ?it/s]\u001b[A2025-05-31 08:25:10,554 || WARNING || MedRL-CoT Setup - Invalid JSON, trying conversion\n",
      "2025-05-31 08:25:10,555 || INFO || MedRL-CoT Setup - Successful conversion!\n",
      "\n",
      "Classifying prompts:  14%|█████████████████████▍                                                                                                                                | 1/7 [00:20<02:03, 20.53s/it]\u001b[A2025-05-31 08:25:23,481 || WARNING || MedRL-CoT Setup - Invalid JSON, trying conversion\n",
      "2025-05-31 08:25:23,482 || INFO || MedRL-CoT Setup - Successful conversion!\n",
      "\n",
      "Classifying prompts:  29%|██████████████████████████████████████████▊                                                                                                           | 2/7 [00:33<01:20, 16.06s/it]\u001b[A2025-05-31 08:25:38,724 || WARNING || MedRL-CoT Setup - Invalid JSON, trying conversion\n",
      "2025-05-31 08:25:38,725 || INFO || MedRL-CoT Setup - Successful conversion!\n",
      "\n",
      "Classifying prompts:  43%|████████████████████████████████████████████████████████████████▎                                                                                     | 3/7 [00:48<01:02, 15.69s/it]\u001b[A2025-05-31 08:26:00,864 || INFO || MedRL-CoT Setup - Successful JSON parsed!\n",
      "\n",
      "Classifying prompts:  57%|█████████████████████████████████████████████████████████████████████████████████████▋                                                                | 4/7 [01:10<00:54, 18.23s/it]\u001b[A2025-05-31 08:26:09,175 || WARNING || MedRL-CoT Setup - Invalid JSON, trying conversion\n",
      "2025-05-31 08:26:09,176 || INFO || MedRL-CoT Setup - Successful conversion!\n",
      "\n",
      "Classifying prompts:  71%|███████████████████████████████████████████████████████████████████████████████████████████████████████████▏                                          | 5/7 [01:19<00:29, 14.66s/it]\u001b[A2025-05-31 08:26:39,832 || WARNING || MedRL-CoT Setup - Invalid JSON, trying conversion\n",
      "2025-05-31 08:26:39,833 || INFO || MedRL-CoT Setup - Successful conversion!\n",
      "\n",
      "Classifying prompts:  86%|████████████████████████████████████████████████████████████████████████████████████████████████████████████████████████████████▌                     | 6/7 [01:49<00:20, 20.10s/it]\u001b[A2025-05-31 08:26:46,927 || WARNING || MedRL-CoT Setup - Invalid JSON, trying conversion\n",
      "2025-05-31 08:26:46,927 || INFO || MedRL-CoT Setup - Successful conversion!\n",
      "\n",
      "Classifying prompts: 100%|██████████████████████████████████████████████████████████████████████████████████████████████████████████████████████████████████████████████████████| 7/7 [01:56<00:00, 15.85s/it]\u001b[A\n",
      "                                                                                                                                                                                                              \u001b[A2025-05-31 08:26:46,932 || INFO || MedRL-CoT Setup - Dumping checkpoint\n"
     ]
    },
    {
     "data": {
      "application/vnd.jupyter.widget-view+json": {
       "model_id": "8afa9e84a10149fe8d404fc823f5346e",
       "version_major": 2,
       "version_minor": 0
      },
      "text/plain": [
       "Saving the dataset (0/1 shards):   0%|          | 0/8730 [00:00<?, ? examples/s]"
      ]
     },
     "metadata": {},
     "output_type": "display_data"
    },
    {
     "name": "stderr",
     "output_type": "stream",
     "text": [
      "Preprocessing dataset:   1%|█▊                                                                                                                                     | 408/30000 [5:02:49<955:07:26, 116.20s/it]2025-05-31 08:26:47,015 || INFO || MedRL-CoT Setup - Preprocessing example 408\n",
      "\n",
      "Classifying prompts:   0%|                                                                                                                                                              | 0/3 [00:00<?, ?it/s]\u001b[A2025-05-31 08:27:58,795 || ERROR || MedRL-CoT Setup - Nothing found, bad example!\n",
      "\n",
      "Classifying prompts:  33%|██████████████████████████████████████████████████                                                                                                    | 1/3 [01:11<02:23, 71.67s/it]\u001b[A2025-05-31 08:28:15,896 || WARNING || MedRL-CoT Setup - Invalid JSON, trying conversion\n",
      "2025-05-31 08:28:15,896 || INFO || MedRL-CoT Setup - Successful conversion!\n",
      "\n",
      "Classifying prompts:  67%|████████████████████████████████████████████████████████████████████████████████████████████████████                                                  | 2/3 [01:28<00:39, 39.57s/it]\u001b[A2025-05-31 08:28:35,852 || WARNING || MedRL-CoT Setup - Invalid JSON, trying conversion\n",
      "2025-05-31 08:28:35,853 || INFO || MedRL-CoT Setup - Successful conversion!\n",
      "\n",
      "Classifying prompts: 100%|██████████████████████████████████████████████████████████████████████████████████████████████████████████████████████████████████████████████████████| 3/3 [01:48<00:00, 30.61s/it]\u001b[A\n",
      "                                                                                                                                                                                                              \u001b[A2025-05-31 08:28:35,858 || INFO || MedRL-CoT Setup - Dumping checkpoint\n"
     ]
    },
    {
     "data": {
      "application/vnd.jupyter.widget-view+json": {
       "model_id": "5e49cac59720471b95f5b523446e6bc9",
       "version_major": 2,
       "version_minor": 0
      },
      "text/plain": [
       "Saving the dataset (0/1 shards):   0%|          | 0/8742 [00:00<?, ? examples/s]"
      ]
     },
     "metadata": {},
     "output_type": "display_data"
    },
    {
     "name": "stderr",
     "output_type": "stream",
     "text": [
      "Preprocessing dataset:   1%|█▊                                                                                                                                     | 409/30000 [5:04:38<937:10:04, 114.01s/it]2025-05-31 08:28:35,942 || INFO || MedRL-CoT Setup - Preprocessing example 409\n",
      "\n",
      "Classifying prompts:   0%|                                                                                                                                                              | 0/3 [00:00<?, ?it/s]\u001b[A2025-05-31 08:29:03,894 || WARNING || MedRL-CoT Setup - Invalid JSON, trying conversion\n",
      "2025-05-31 08:29:03,895 || INFO || MedRL-CoT Setup - Successful conversion!\n",
      "\n",
      "Classifying prompts:  33%|██████████████████████████████████████████████████                                                                                                    | 1/3 [00:27<00:55, 27.84s/it]\u001b[A2025-05-31 08:29:28,654 || WARNING || MedRL-CoT Setup - Invalid JSON, trying conversion\n",
      "2025-05-31 08:29:28,655 || INFO || MedRL-CoT Setup - Successful conversion!\n",
      "\n",
      "Classifying prompts:  67%|████████████████████████████████████████████████████████████████████████████████████████████████████                                                  | 2/3 [00:52<00:26, 26.03s/it]\u001b[A2025-05-31 08:29:41,829 || WARNING || MedRL-CoT Setup - Invalid JSON, trying conversion\n",
      "2025-05-31 08:29:41,830 || INFO || MedRL-CoT Setup - Successful conversion!\n",
      "\n",
      "Classifying prompts: 100%|██████████████████████████████████████████████████████████████████████████████████████████████████████████████████████████████████████████████████████| 3/3 [01:05<00:00, 20.16s/it]\u001b[A\n",
      "                                                                                                                                                                                                              \u001b[A2025-05-31 08:29:41,833 || INFO || MedRL-CoT Setup - Dumping checkpoint\n"
     ]
    },
    {
     "data": {
      "application/vnd.jupyter.widget-view+json": {
       "model_id": "5836b7f127544e43ade37562ca677a0b",
       "version_major": 2,
       "version_minor": 0
      },
      "text/plain": [
       "Saving the dataset (0/1 shards):   0%|          | 0/8760 [00:00<?, ? examples/s]"
      ]
     },
     "metadata": {},
     "output_type": "display_data"
    },
    {
     "name": "stderr",
     "output_type": "stream",
     "text": [
      "Preprocessing dataset:   1%|█▊                                                                                                                                      | 410/30000 [5:05:44<818:40:36, 99.60s/it]2025-05-31 08:29:41,916 || INFO || MedRL-CoT Setup - Preprocessing example 410\n",
      "\n",
      "Classifying prompts:   0%|                                                                                                                                                              | 0/8 [00:00<?, ?it/s]\u001b[A2025-05-31 08:29:57,669 || WARNING || MedRL-CoT Setup - Invalid JSON, trying conversion\n",
      "2025-05-31 08:29:57,670 || INFO || MedRL-CoT Setup - Successful conversion!\n",
      "\n",
      "Classifying prompts:  12%|██████████████████▊                                                                                                                                   | 1/8 [00:15<01:49, 15.64s/it]\u001b[A2025-05-31 08:30:18,463 || WARNING || MedRL-CoT Setup - Invalid JSON, trying conversion\n",
      "2025-05-31 08:30:18,464 || INFO || MedRL-CoT Setup - Successful conversion!\n",
      "\n",
      "Classifying prompts:  25%|█████████████████████████████████████▌                                                                                                                | 2/8 [00:36<01:52, 18.67s/it]\u001b[A2025-05-31 08:30:27,733 || INFO || MedRL-CoT Setup - Successful JSON parsed!\n",
      "\n",
      "Classifying prompts:  38%|████████████████████████████████████████████████████████▎                                                                                             | 3/8 [00:45<01:11, 14.38s/it]\u001b[A2025-05-31 08:30:34,938 || INFO || MedRL-CoT Setup - Successful JSON parsed!\n",
      "\n",
      "Classifying prompts:  50%|███████████████████████████████████████████████████████████████████████████                                                                           | 4/8 [00:52<00:46, 11.55s/it]\u001b[A2025-05-31 08:31:10,536 || WARNING || MedRL-CoT Setup - Invalid JSON, trying conversion\n",
      "2025-05-31 08:31:10,537 || INFO || MedRL-CoT Setup - Successful conversion!\n",
      "\n",
      "Classifying prompts:  62%|█████████████████████████████████████████████████████████████████████████████████████████████▊                                                        | 5/8 [01:28<01:00, 20.22s/it]\u001b[A2025-05-31 08:31:21,210 || WARNING || MedRL-CoT Setup - Invalid JSON, trying conversion\n",
      "2025-05-31 08:31:21,211 || INFO || MedRL-CoT Setup - Successful conversion!\n",
      "\n",
      "Classifying prompts:  75%|████████████████████████████████████████████████████████████████████████████████████████████████████████████████▌                                     | 6/8 [01:39<00:33, 16.97s/it]\u001b[A2025-05-31 08:31:28,249 || WARNING || MedRL-CoT Setup - Invalid JSON, trying conversion\n",
      "2025-05-31 08:31:28,250 || INFO || MedRL-CoT Setup - Successful conversion!\n",
      "\n",
      "Classifying prompts:  88%|███████████████████████████████████████████████████████████████████████████████████████████████████████████████████████████████████▎                  | 7/8 [01:46<00:13, 13.73s/it]\u001b[A2025-05-31 08:31:55,154 || WARNING || MedRL-CoT Setup - Invalid JSON, trying conversion\n",
      "2025-05-31 08:31:55,155 || INFO || MedRL-CoT Setup - Successful conversion!\n",
      "\n",
      "Classifying prompts: 100%|██████████████████████████████████████████████████████████████████████████████████████████████████████████████████████████████████████████████████████| 8/8 [02:13<00:00, 17.92s/it]\u001b[A\n",
      "                                                                                                                                                                                                              \u001b[A2025-05-31 08:31:55,159 || INFO || MedRL-CoT Setup - Dumping checkpoint\n"
     ]
    },
    {
     "data": {
      "application/vnd.jupyter.widget-view+json": {
       "model_id": "b86aa348ca3d482c94305853fc1bd743",
       "version_major": 2,
       "version_minor": 0
      },
      "text/plain": [
       "Saving the dataset (0/1 shards):   0%|          | 0/8798 [00:00<?, ? examples/s]"
      ]
     },
     "metadata": {},
     "output_type": "display_data"
    },
    {
     "name": "stderr",
     "output_type": "stream",
     "text": [
      "Preprocessing dataset:   1%|█▊                                                                                                                                     | 411/30000 [5:07:57<901:48:21, 109.72s/it]2025-05-31 08:31:55,243 || INFO || MedRL-CoT Setup - Preprocessing example 411\n",
      "\n",
      "Classifying prompts:   0%|                                                                                                                                                              | 0/1 [00:00<?, ?it/s]\u001b[A2025-05-31 08:32:58,673 || ERROR || MedRL-CoT Setup - Nothing found, bad example!\n",
      "\n",
      "Classifying prompts: 100%|██████████████████████████████████████████████████████████████████████████████████████████████████████████████████████████████████████████████████████| 1/1 [01:03<00:00, 63.32s/it]\u001b[A\n",
      "                                                                                                                                                                                                              \u001b[A2025-05-31 08:32:58,677 || INFO || MedRL-CoT Setup - Dumping checkpoint\n"
     ]
    },
    {
     "data": {
      "application/vnd.jupyter.widget-view+json": {
       "model_id": "b327dc89a9374f5a95a662b29469267c",
       "version_major": 2,
       "version_minor": 0
      },
      "text/plain": [
       "Saving the dataset (0/1 shards):   0%|          | 0/8798 [00:00<?, ? examples/s]"
      ]
     },
     "metadata": {},
     "output_type": "display_data"
    },
    {
     "name": "stderr",
     "output_type": "stream",
     "text": [
      "Preprocessing dataset:   1%|█▊                                                                                                                                      | 412/30000 [5:09:01<787:51:15, 95.86s/it]2025-05-31 08:32:58,760 || INFO || MedRL-CoT Setup - Preprocessing example 412\n",
      "\n",
      "Classifying prompts:   0%|                                                                                                                                                              | 0/3 [00:00<?, ?it/s]\u001b[A2025-05-31 08:34:03,564 || WARNING || MedRL-CoT Setup - Invalid JSON, trying conversion\n",
      "2025-05-31 08:34:03,565 || INFO || MedRL-CoT Setup - Successful conversion!\n",
      "\n",
      "Classifying prompts:  33%|██████████████████████████████████████████████████                                                                                                    | 1/3 [01:04<02:09, 64.69s/it]\u001b[A2025-05-31 08:34:10,175 || INFO || MedRL-CoT Setup - Successful JSON parsed!\n",
      "\n",
      "Classifying prompts:  67%|████████████████████████████████████████████████████████████████████████████████████████████████████                                                  | 2/3 [01:11<00:30, 30.53s/it]\u001b[A2025-05-31 08:34:20,017 || WARNING || MedRL-CoT Setup - Invalid JSON, trying conversion\n",
      "2025-05-31 08:34:20,017 || INFO || MedRL-CoT Setup - Successful conversion!\n",
      "\n",
      "Classifying prompts: 100%|██████████████████████████████████████████████████████████████████████████████████████████████████████████████████████████████████████████████████████| 3/3 [01:21<00:00, 21.08s/it]\u001b[A\n",
      "                                                                                                                                                                                                              \u001b[A2025-05-31 08:34:20,022 || INFO || MedRL-CoT Setup - Dumping checkpoint\n"
     ]
    },
    {
     "data": {
      "application/vnd.jupyter.widget-view+json": {
       "model_id": "0661fab8a8bd4cbbb607cd462a89931c",
       "version_major": 2,
       "version_minor": 0
      },
      "text/plain": [
       "Saving the dataset (0/1 shards):   0%|          | 0/8823 [00:00<?, ? examples/s]"
      ]
     },
     "metadata": {},
     "output_type": "display_data"
    },
    {
     "name": "stderr",
     "output_type": "stream",
     "text": [
      "Preprocessing dataset:   1%|█▊                                                                                                                                      | 413/30000 [5:10:22<752:02:19, 91.50s/it]2025-05-31 08:34:20,104 || INFO || MedRL-CoT Setup - Preprocessing example 413\n",
      "\n",
      "Classifying prompts:   0%|                                                                                                                                                              | 0/6 [00:00<?, ?it/s]\u001b[A2025-05-31 08:34:43,886 || INFO || MedRL-CoT Setup - Successful JSON parsed!\n",
      "\n",
      "Classifying prompts:  17%|█████████████████████████                                                                                                                             | 1/6 [00:23<01:58, 23.67s/it]\u001b[A2025-05-31 08:35:09,015 || WARNING || MedRL-CoT Setup - Invalid JSON, trying conversion\n",
      "2025-05-31 08:35:09,016 || INFO || MedRL-CoT Setup - Successful conversion!\n",
      "\n",
      "Classifying prompts:  33%|██████████████████████████████████████████████████                                                                                                    | 2/6 [00:48<01:38, 24.53s/it]\u001b[A2025-05-31 08:35:23,045 || WARNING || MedRL-CoT Setup - Invalid JSON, trying conversion\n",
      "2025-05-31 08:35:23,045 || INFO || MedRL-CoT Setup - Successful conversion!\n",
      "\n",
      "Classifying prompts:  50%|███████████████████████████████████████████████████████████████████████████                                                                           | 3/6 [01:02<00:59, 19.73s/it]\u001b[A2025-05-31 08:35:31,364 || INFO || MedRL-CoT Setup - Successful JSON parsed!\n",
      "\n",
      "Classifying prompts:  67%|████████████████████████████████████████████████████████████████████████████████████████████████████                                                  | 4/6 [01:11<00:30, 15.23s/it]\u001b[A2025-05-31 08:35:46,146 || WARNING || MedRL-CoT Setup - Invalid JSON, trying conversion\n",
      "2025-05-31 08:35:46,147 || INFO || MedRL-CoT Setup - Successful conversion!\n",
      "\n",
      "Classifying prompts:  83%|█████████████████████████████████████████████████████████████████████████████████████████████████████████████████████████████                         | 5/6 [01:25<00:15, 15.07s/it]\u001b[A2025-05-31 08:35:57,060 || WARNING || MedRL-CoT Setup - Invalid JSON, trying conversion\n",
      "2025-05-31 08:35:57,061 || INFO || MedRL-CoT Setup - Successful conversion!\n",
      "\n",
      "Classifying prompts: 100%|██████████████████████████████████████████████████████████████████████████████████████████████████████████████████████████████████████████████████████| 6/6 [01:36<00:00, 13.66s/it]\u001b[A\n",
      "                                                                                                                                                                                                              \u001b[A2025-05-31 08:35:57,065 || INFO || MedRL-CoT Setup - Dumping checkpoint\n"
     ]
    },
    {
     "data": {
      "application/vnd.jupyter.widget-view+json": {
       "model_id": "b91a4a4ddad04c679da4c6dbae54b753",
       "version_major": 2,
       "version_minor": 0
      },
      "text/plain": [
       "Saving the dataset (0/1 shards):   0%|          | 0/8851 [00:00<?, ? examples/s]"
      ]
     },
     "metadata": {},
     "output_type": "display_data"
    },
    {
     "name": "stderr",
     "output_type": "stream",
     "text": [
      "Preprocessing dataset:   1%|█▉                                                                                                                                      | 414/30000 [5:11:59<765:40:59, 93.17s/it]2025-05-31 08:35:57,153 || INFO || MedRL-CoT Setup - Preprocessing example 414\n",
      "\n",
      "Classifying prompts:   0%|                                                                                                                                                              | 0/3 [00:00<?, ?it/s]\u001b[A2025-05-31 08:36:40,342 || INFO || MedRL-CoT Setup - Successful JSON parsed!\n",
      "\n",
      "Classifying prompts:  33%|██████████████████████████████████████████████████                                                                                                    | 1/3 [00:43<01:26, 43.08s/it]\u001b[A2025-05-31 08:37:16,124 || INFO || MedRL-CoT Setup - Successful JSON parsed!\n",
      "\n",
      "Classifying prompts:  67%|████████████████████████████████████████████████████████████████████████████████████████████████████                                                  | 2/3 [01:18<00:38, 38.79s/it]\u001b[A2025-05-31 08:37:30,047 || WARNING || MedRL-CoT Setup - Invalid JSON, trying conversion\n",
      "2025-05-31 08:37:30,048 || INFO || MedRL-CoT Setup - Successful conversion!\n",
      "\n",
      "Classifying prompts: 100%|██████████████████████████████████████████████████████████████████████████████████████████████████████████████████████████████████████████████████████| 3/3 [01:32<00:00, 27.43s/it]\u001b[A\n",
      "                                                                                                                                                                                                              \u001b[A2025-05-31 08:37:30,053 || INFO || MedRL-CoT Setup - Dumping checkpoint\n"
     ]
    },
    {
     "data": {
      "application/vnd.jupyter.widget-view+json": {
       "model_id": "9b290a5c578d4d7380fc0536e623d8a6",
       "version_major": 2,
       "version_minor": 0
      },
      "text/plain": [
       "Saving the dataset (0/1 shards):   0%|          | 0/8879 [00:00<?, ? examples/s]"
      ]
     },
     "metadata": {},
     "output_type": "display_data"
    },
    {
     "name": "stderr",
     "output_type": "stream",
     "text": [
      "Preprocessing dataset:   1%|█▉                                                                                                                                      | 415/30000 [5:13:32<765:12:12, 93.11s/it]2025-05-31 08:37:30,136 || INFO || MedRL-CoT Setup - Preprocessing example 415\n",
      "\n",
      "Classifying prompts:   0%|                                                                                                                                                             | 0/12 [00:00<?, ?it/s]\u001b[A2025-05-31 08:37:43,451 || WARNING || MedRL-CoT Setup - Invalid JSON, trying conversion\n",
      "2025-05-31 08:37:43,452 || INFO || MedRL-CoT Setup - Successful conversion!\n",
      "\n",
      "Classifying prompts:   8%|████████████▍                                                                                                                                        | 1/12 [00:13<02:25, 13.21s/it]\u001b[A2025-05-31 08:37:55,156 || INFO || MedRL-CoT Setup - Successful JSON parsed!\n",
      "\n",
      "Classifying prompts:  17%|████████████████████████▊                                                                                                                            | 2/12 [00:24<02:03, 12.32s/it]\u001b[A2025-05-31 08:38:19,579 || WARNING || MedRL-CoT Setup - Invalid JSON, trying conversion\n",
      "2025-05-31 08:38:19,580 || INFO || MedRL-CoT Setup - Successful conversion!\n",
      "\n",
      "Classifying prompts:  25%|█████████████████████████████████████▎                                                                                                               | 3/12 [00:49<02:40, 17.85s/it]\u001b[A2025-05-31 08:38:27,464 || INFO || MedRL-CoT Setup - Successful JSON parsed!\n",
      "\n",
      "Classifying prompts:  33%|█████████████████████████████████████████████████▋                                                                                                   | 4/12 [00:57<01:51, 13.91s/it]\u001b[A2025-05-31 08:38:35,593 || INFO || MedRL-CoT Setup - Successful JSON parsed!\n",
      "\n",
      "Classifying prompts:  42%|██████████████████████████████████████████████████████████████                                                                                       | 5/12 [01:05<01:22, 11.83s/it]\u001b[A2025-05-31 08:38:44,773 || INFO || MedRL-CoT Setup - Successful JSON parsed!\n",
      "\n",
      "Classifying prompts:  50%|██████████████████████████████████████████████████████████████████████████▌                                                                          | 6/12 [01:14<01:05, 10.93s/it]\u001b[A2025-05-31 08:38:57,201 || WARNING || MedRL-CoT Setup - Invalid JSON, trying conversion\n",
      "2025-05-31 08:38:57,202 || INFO || MedRL-CoT Setup - Successful conversion!\n",
      "\n",
      "Classifying prompts:  58%|██████████████████████████████████████████████████████████████████████████████████████▉                                                              | 7/12 [01:26<00:57, 11.42s/it]\u001b[A2025-05-31 08:39:07,491 || INFO || MedRL-CoT Setup - Successful JSON parsed!\n",
      "\n",
      "Classifying prompts:  67%|███████████████████████████████████████████████████████████████████████████████████████████████████▎                                                 | 8/12 [01:37<00:44, 11.06s/it]\u001b[A2025-05-31 08:39:15,548 || INFO || MedRL-CoT Setup - Successful JSON parsed!\n",
      "\n",
      "Classifying prompts:  75%|███████████████████████████████████████████████████████████████████████████████████████████████████████████████▊                                     | 9/12 [01:45<00:30, 10.12s/it]\u001b[A2025-05-31 08:39:19,958 || INFO || MedRL-CoT Setup - Successful JSON parsed!\n",
      "\n",
      "Classifying prompts:  83%|███████████████████████████████████████████████████████████████████████████████████████████████████████████████████████████▎                        | 10/12 [01:49<00:16,  8.36s/it]\u001b[A2025-05-31 08:39:27,788 || WARNING || MedRL-CoT Setup - Invalid JSON, trying conversion\n",
      "2025-05-31 08:39:27,789 || INFO || MedRL-CoT Setup - Successful conversion!\n",
      "\n",
      "Classifying prompts:  92%|███████████████████████████████████████████████████████████████████████████████████████████████████████████████████████████████████████▋            | 11/12 [01:57<00:08,  8.20s/it]\u001b[A2025-05-31 08:39:34,416 || INFO || MedRL-CoT Setup - Successful JSON parsed!\n",
      "\n",
      "Classifying prompts: 100%|████████████████████████████████████████████████████████████████████████████████████████████████████████████████████████████████████████████████████| 12/12 [02:04<00:00,  7.72s/it]\u001b[A\n",
      "                                                                                                                                                                                                              \u001b[A2025-05-31 08:39:34,421 || INFO || MedRL-CoT Setup - Dumping checkpoint\n"
     ]
    },
    {
     "data": {
      "application/vnd.jupyter.widget-view+json": {
       "model_id": "03035d0733b04b359c9612db9dbc6c3d",
       "version_major": 2,
       "version_minor": 0
      },
      "text/plain": [
       "Saving the dataset (0/1 shards):   0%|          | 0/8919 [00:00<?, ? examples/s]"
      ]
     },
     "metadata": {},
     "output_type": "display_data"
    },
    {
     "name": "stderr",
     "output_type": "stream",
     "text": [
      "Preprocessing dataset:   1%|█▊                                                                                                                                     | 416/30000 [5:15:36<842:14:05, 102.49s/it]2025-05-31 08:39:34,505 || INFO || MedRL-CoT Setup - Preprocessing example 416\n",
      "\n",
      "Classifying prompts:   0%|                                                                                                                                                              | 0/6 [00:00<?, ?it/s]\u001b[A2025-05-31 08:40:07,515 || INFO || MedRL-CoT Setup - Successful JSON parsed!\n",
      "\n",
      "Classifying prompts:  17%|█████████████████████████                                                                                                                             | 1/6 [00:32<02:44, 32.90s/it]\u001b[A2025-05-31 08:40:30,285 || WARNING || MedRL-CoT Setup - Invalid JSON, trying conversion\n",
      "2025-05-31 08:40:30,286 || INFO || MedRL-CoT Setup - Successful conversion!\n",
      "\n",
      "Classifying prompts:  33%|██████████████████████████████████████████████████                                                                                                    | 2/6 [00:55<01:47, 26.94s/it]\u001b[A2025-05-31 08:41:01,629 || ERROR || MedRL-CoT Setup - Nothing found, bad example!\n",
      "\n",
      "Classifying prompts:  50%|███████████████████████████████████████████████████████████████████████████                                                                           | 3/6 [01:27<01:26, 28.95s/it]\u001b[A2025-05-31 08:41:17,951 || WARNING || MedRL-CoT Setup - Invalid JSON, trying conversion\n",
      "2025-05-31 08:41:17,951 || INFO || MedRL-CoT Setup - Successful conversion!\n",
      "\n",
      "Classifying prompts:  67%|████████████████████████████████████████████████████████████████████████████████████████████████████                                                  | 4/6 [01:43<00:47, 23.97s/it]\u001b[A2025-05-31 08:41:21,159 || INFO || MedRL-CoT Setup - Successful JSON parsed!\n",
      "\n",
      "Classifying prompts:  83%|█████████████████████████████████████████████████████████████████████████████████████████████████████████████████████████████                         | 5/6 [01:46<00:16, 16.48s/it]\u001b[A2025-05-31 08:41:56,453 || INFO || MedRL-CoT Setup - Successful JSON parsed!\n",
      "\n",
      "Classifying prompts: 100%|██████████████████████████████████████████████████████████████████████████████████████████████████████████████████████████████████████████████████████| 6/6 [02:21<00:00, 22.88s/it]\u001b[A\n",
      "                                                                                                                                                                                                              \u001b[A2025-05-31 08:41:56,457 || INFO || MedRL-CoT Setup - Dumping checkpoint\n"
     ]
    },
    {
     "data": {
      "application/vnd.jupyter.widget-view+json": {
       "model_id": "b658afceebef4175b56c62cc34b0504d",
       "version_major": 2,
       "version_minor": 0
      },
      "text/plain": [
       "Saving the dataset (0/1 shards):   0%|          | 0/8954 [00:00<?, ? examples/s]"
      ]
     },
     "metadata": {},
     "output_type": "display_data"
    },
    {
     "name": "stderr",
     "output_type": "stream",
     "text": [
      "Preprocessing dataset:   1%|█▉                                                                                                                                     | 417/30000 [5:17:58<939:42:17, 114.35s/it]2025-05-31 08:41:56,544 || INFO || MedRL-CoT Setup - Preprocessing example 417\n",
      "\n",
      "Classifying prompts:   0%|                                                                                                                                                              | 0/2 [00:00<?, ?it/s]\u001b[A2025-05-31 08:43:10,405 || WARNING || MedRL-CoT Setup - Invalid JSON, trying conversion\n",
      "2025-05-31 08:43:10,406 || INFO || MedRL-CoT Setup - Successful conversion!\n",
      "\n",
      "Classifying prompts:  50%|███████████████████████████████████████████████████████████████████████████                                                                           | 1/2 [01:13<01:13, 73.75s/it]\u001b[A2025-05-31 08:43:17,747 || INFO || MedRL-CoT Setup - Successful JSON parsed!\n",
      "\n",
      "Classifying prompts: 100%|██████████████████████████████████████████████████████████████████████████████████████████████████████████████████████████████████████████████████████| 2/2 [01:21<00:00, 34.69s/it]\u001b[A\n",
      "                                                                                                                                                                                                              \u001b[A2025-05-31 08:43:17,752 || INFO || MedRL-CoT Setup - Dumping checkpoint\n"
     ]
    },
    {
     "data": {
      "application/vnd.jupyter.widget-view+json": {
       "model_id": "10aa0d773bb94e80a3280ab0524dc1f3",
       "version_major": 2,
       "version_minor": 0
      },
      "text/plain": [
       "Saving the dataset (0/1 shards):   0%|          | 0/8973 [00:00<?, ? examples/s]"
      ]
     },
     "metadata": {},
     "output_type": "display_data"
    },
    {
     "name": "stderr",
     "output_type": "stream",
     "text": [
      "Preprocessing dataset:   1%|█▉                                                                                                                                     | 418/30000 [5:19:20<858:10:18, 104.44s/it]2025-05-31 08:43:17,837 || INFO || MedRL-CoT Setup - Preprocessing example 418\n",
      "\n",
      "Classifying prompts:   0%|                                                                                                                                                              | 0/4 [00:00<?, ?it/s]\u001b[A2025-05-31 08:43:35,948 || WARNING || MedRL-CoT Setup - Invalid JSON, trying conversion\n",
      "2025-05-31 08:43:35,949 || INFO || MedRL-CoT Setup - Successful conversion!\n",
      "\n",
      "Classifying prompts:  25%|█████████████████████████████████████▌                                                                                                                | 1/4 [00:18<00:54, 18.00s/it]\u001b[A2025-05-31 08:43:48,412 || WARNING || MedRL-CoT Setup - Invalid JSON, trying conversion\n",
      "2025-05-31 08:43:48,413 || INFO || MedRL-CoT Setup - Successful conversion!\n",
      "\n",
      "Classifying prompts:  50%|███████████████████████████████████████████████████████████████████████████                                                                           | 2/4 [00:30<00:29, 14.74s/it]\u001b[A2025-05-31 08:44:14,601 || WARNING || MedRL-CoT Setup - Invalid JSON, trying conversion\n",
      "2025-05-31 08:44:14,601 || INFO || MedRL-CoT Setup - Successful conversion!\n",
      "\n",
      "Classifying prompts:  75%|████████████████████████████████████████████████████████████████████████████████████████████████████████████████▌                                     | 3/4 [00:56<00:19, 19.97s/it]\u001b[A2025-05-31 08:44:21,702 || INFO || MedRL-CoT Setup - Successful JSON parsed!\n",
      "\n",
      "Classifying prompts: 100%|██████████████████████████████████████████████████████████████████████████████████████████████████████████████████████████████████████████████████████| 4/4 [01:03<00:00, 14.89s/it]\u001b[A\n",
      "                                                                                                                                                                                                              \u001b[A2025-05-31 08:44:21,707 || INFO || MedRL-CoT Setup - Dumping checkpoint\n"
     ]
    },
    {
     "data": {
      "application/vnd.jupyter.widget-view+json": {
       "model_id": "e7179dcbaee241719ec5d27b33ade02c",
       "version_major": 2,
       "version_minor": 0
      },
      "text/plain": [
       "Saving the dataset (0/1 shards):   0%|          | 0/8991 [00:00<?, ? examples/s]"
      ]
     },
     "metadata": {},
     "output_type": "display_data"
    },
    {
     "name": "stderr",
     "output_type": "stream",
     "text": [
      "Preprocessing dataset:   1%|█▉                                                                                                                                      | 419/30000 [5:20:24<758:21:34, 92.29s/it]2025-05-31 08:44:21,793 || INFO || MedRL-CoT Setup - Preprocessing example 419\n",
      "\n",
      "Classifying prompts:   0%|                                                                                                                                                              | 0/5 [00:00<?, ?it/s]\u001b[A2025-05-31 08:45:11,592 || ERROR || MedRL-CoT Setup - Nothing found, bad example!\n",
      "\n",
      "Classifying prompts:  20%|██████████████████████████████                                                                                                                        | 1/5 [00:49<03:18, 49.69s/it]\u001b[A2025-05-31 08:45:38,846 || ERROR || MedRL-CoT Setup - Nothing found, bad example!\n",
      "\n",
      "Classifying prompts:  40%|████████████████████████████████████████████████████████████                                                                                          | 2/5 [01:16<01:49, 36.49s/it]\u001b[A2025-05-31 08:46:22,907 || INFO || MedRL-CoT Setup - Successful JSON parsed!\n",
      "\n",
      "Classifying prompts:  60%|██████████████████████████████████████████████████████████████████████████████████████████                                                            | 3/5 [02:01<01:19, 39.95s/it]\u001b[A2025-05-31 08:46:39,312 || WARNING || MedRL-CoT Setup - Invalid JSON, trying conversion\n",
      "2025-05-31 08:46:39,313 || INFO || MedRL-CoT Setup - Successful conversion!\n",
      "\n",
      "Classifying prompts:  80%|████████████████████████████████████████████████████████████████████████████████████████████████████████████████████████                              | 4/5 [02:17<00:30, 30.65s/it]\u001b[A2025-05-31 08:46:52,726 || WARNING || MedRL-CoT Setup - Invalid JSON, trying conversion\n",
      "2025-05-31 08:46:52,727 || INFO || MedRL-CoT Setup - Successful conversion!\n",
      "\n",
      "Classifying prompts: 100%|██████████████████████████████████████████████████████████████████████████████████████████████████████████████████████████████████████████████████████| 5/5 [02:30<00:00, 24.44s/it]\u001b[A\n",
      "                                                                                                                                                                                                              \u001b[A2025-05-31 08:46:52,730 || INFO || MedRL-CoT Setup - Dumping checkpoint\n"
     ]
    },
    {
     "data": {
      "application/vnd.jupyter.widget-view+json": {
       "model_id": "9745df40c2394fbdbb3b8921caaebb58",
       "version_major": 2,
       "version_minor": 0
      },
      "text/plain": [
       "Saving the dataset (0/1 shards):   0%|          | 0/9013 [00:00<?, ? examples/s]"
      ]
     },
     "metadata": {},
     "output_type": "display_data"
    },
    {
     "name": "stderr",
     "output_type": "stream",
     "text": [
      "Preprocessing dataset:   1%|█▉                                                                                                                                     | 420/30000 [5:22:55<903:06:25, 109.91s/it]2025-05-31 08:46:52,817 || INFO || MedRL-CoT Setup - Preprocessing example 420\n",
      "\n",
      "Classifying prompts:   0%|                                                                                                                                                              | 0/7 [00:00<?, ?it/s]\u001b[A2025-05-31 08:47:13,254 || INFO || MedRL-CoT Setup - Successful JSON parsed!\n",
      "\n",
      "Classifying prompts:  14%|█████████████████████▍                                                                                                                                | 1/7 [00:20<02:01, 20.33s/it]\u001b[A2025-05-31 08:47:19,953 || INFO || MedRL-CoT Setup - Successful JSON parsed!\n",
      "\n",
      "Classifying prompts:  29%|██████████████████████████████████████████▊                                                                                                           | 2/7 [00:27<01:01, 12.31s/it]\u001b[A2025-05-31 08:47:33,993 || WARNING || MedRL-CoT Setup - Invalid JSON, trying conversion\n",
      "2025-05-31 08:47:33,994 || INFO || MedRL-CoT Setup - Successful conversion!\n",
      "\n",
      "Classifying prompts:  43%|████████████████████████████████████████████████████████████████▎                                                                                     | 3/7 [00:41<00:52, 13.10s/it]\u001b[A2025-05-31 08:47:42,118 || INFO || MedRL-CoT Setup - Successful JSON parsed!\n",
      "\n",
      "Classifying prompts:  57%|█████████████████████████████████████████████████████████████████████████████████████▋                                                                | 4/7 [00:49<00:33, 11.14s/it]\u001b[A2025-05-31 08:47:52,198 || INFO || MedRL-CoT Setup - Successful JSON parsed!\n",
      "\n",
      "Classifying prompts:  71%|███████████████████████████████████████████████████████████████████████████████████████████████████████████▏                                          | 5/7 [00:59<00:21, 10.76s/it]\u001b[A2025-05-31 08:48:10,029 || WARNING || MedRL-CoT Setup - Invalid JSON, trying conversion\n",
      "2025-05-31 08:48:10,030 || INFO || MedRL-CoT Setup - Successful conversion!\n",
      "\n",
      "Classifying prompts:  86%|████████████████████████████████████████████████████████████████████████████████████████████████████████████████████████████████▌                     | 6/7 [01:17<00:13, 13.16s/it]\u001b[A2025-05-31 08:48:17,676 || INFO || MedRL-CoT Setup - Successful JSON parsed!\n",
      "\n",
      "Classifying prompts: 100%|██████████████████████████████████████████████████████████████████████████████████████████████████████████████████████████████████████████████████████| 7/7 [01:24<00:00, 11.36s/it]\u001b[A\n",
      "                                                                                                                                                                                                              \u001b[A2025-05-31 08:48:17,681 || INFO || MedRL-CoT Setup - Dumping checkpoint\n"
     ]
    },
    {
     "data": {
      "application/vnd.jupyter.widget-view+json": {
       "model_id": "9f9d45521c814b659bf00b9ebcbaa12e",
       "version_major": 2,
       "version_minor": 0
      },
      "text/plain": [
       "Saving the dataset (0/1 shards):   0%|          | 0/9040 [00:00<?, ? examples/s]"
      ]
     },
     "metadata": {},
     "output_type": "display_data"
    },
    {
     "name": "stderr",
     "output_type": "stream",
     "text": [
      "Preprocessing dataset:   1%|█▉                                                                                                                                     | 421/30000 [5:24:20<841:32:52, 102.42s/it]2025-05-31 08:48:17,767 || INFO || MedRL-CoT Setup - Preprocessing example 421\n",
      "\n",
      "Classifying prompts:   0%|                                                                                                                                                              | 0/5 [00:00<?, ?it/s]\u001b[A2025-05-31 08:48:33,707 || WARNING || MedRL-CoT Setup - Invalid JSON, trying conversion\n",
      "2025-05-31 08:48:33,708 || INFO || MedRL-CoT Setup - Successful conversion!\n",
      "\n",
      "Classifying prompts:  20%|██████████████████████████████                                                                                                                        | 1/5 [00:15<01:03, 15.83s/it]\u001b[A2025-05-31 08:49:10,120 || INFO || MedRL-CoT Setup - Successful JSON parsed!\n",
      "\n",
      "Classifying prompts:  40%|████████████████████████████████████████████████████████████                                                                                          | 2/5 [00:52<01:23, 27.94s/it]\u001b[A2025-05-31 08:49:39,989 || INFO || MedRL-CoT Setup - Successful JSON parsed!\n",
      "\n",
      "Classifying prompts:  60%|██████████████████████████████████████████████████████████████████████████████████████████                                                            | 3/5 [01:22<00:57, 28.82s/it]\u001b[A2025-05-31 08:49:50,347 || WARNING || MedRL-CoT Setup - Invalid JSON, trying conversion\n",
      "2025-05-31 08:49:50,348 || INFO || MedRL-CoT Setup - Successful conversion!\n",
      "\n",
      "Classifying prompts:  80%|████████████████████████████████████████████████████████████████████████████████████████████████████████████████████████                              | 4/5 [01:32<00:21, 21.53s/it]\u001b[A2025-05-31 08:50:00,954 || WARNING || MedRL-CoT Setup - Invalid JSON, trying conversion\n",
      "2025-05-31 08:50:00,955 || INFO || MedRL-CoT Setup - Successful conversion!\n",
      "\n",
      "Classifying prompts: 100%|██████████████████████████████████████████████████████████████████████████████████████████████████████████████████████████████████████████████████████| 5/5 [01:43<00:00, 17.59s/it]\u001b[A\n",
      "                                                                                                                                                                                                              \u001b[A2025-05-31 08:50:00,960 || INFO || MedRL-CoT Setup - Dumping checkpoint\n"
     ]
    },
    {
     "data": {
      "application/vnd.jupyter.widget-view+json": {
       "model_id": "be3fd93558e14b2a95d7acc0a270e1e0",
       "version_major": 2,
       "version_minor": 0
      },
      "text/plain": [
       "Saving the dataset (0/1 shards):   0%|          | 0/9069 [00:00<?, ? examples/s]"
      ]
     },
     "metadata": {},
     "output_type": "display_data"
    },
    {
     "name": "stderr",
     "output_type": "stream",
     "text": [
      "Preprocessing dataset:   1%|█▉                                                                                                                                     | 422/30000 [5:26:03<843:37:48, 102.68s/it]2025-05-31 08:50:01,046 || INFO || MedRL-CoT Setup - Preprocessing example 422\n",
      "\n",
      "Classifying prompts:   0%|                                                                                                                                                             | 0/10 [00:00<?, ?it/s]\u001b[A2025-05-31 08:50:07,381 || WARNING || MedRL-CoT Setup - Invalid JSON, trying conversion\n",
      "2025-05-31 08:50:07,382 || INFO || MedRL-CoT Setup - Successful conversion!\n",
      "\n",
      "Classifying prompts:  10%|██████████████▉                                                                                                                                      | 1/10 [00:06<00:56,  6.22s/it]\u001b[A2025-05-31 08:50:22,992 || INFO || MedRL-CoT Setup - Successful JSON parsed!\n",
      "\n",
      "Classifying prompts:  20%|█████████████████████████████▊                                                                                                                       | 2/10 [00:21<01:33, 11.75s/it]\u001b[A2025-05-31 08:50:34,406 || WARNING || MedRL-CoT Setup - Invalid JSON, trying conversion\n",
      "2025-05-31 08:50:34,407 || INFO || MedRL-CoT Setup - Successful conversion!\n",
      "\n",
      "Classifying prompts:  30%|████████████████████████████████████████████▋                                                                                                        | 3/10 [00:33<01:21, 11.59s/it]\u001b[A2025-05-31 08:50:43,635 || INFO || MedRL-CoT Setup - Successful JSON parsed!\n",
      "\n",
      "Classifying prompts:  40%|███████████████████████████████████████████████████████████▌                                                                                         | 4/10 [00:42<01:03, 10.66s/it]\u001b[A2025-05-31 08:50:51,611 || INFO || MedRL-CoT Setup - Successful JSON parsed!\n",
      "\n",
      "Classifying prompts:  50%|██████████████████████████████████████████████████████████████████████████▌                                                                          | 5/10 [00:50<00:48,  9.69s/it]\u001b[A2025-05-31 08:51:11,546 || WARNING || MedRL-CoT Setup - Invalid JSON, trying conversion\n",
      "2025-05-31 08:51:11,547 || INFO || MedRL-CoT Setup - Successful conversion!\n",
      "\n",
      "Classifying prompts:  60%|█████████████████████████████████████████████████████████████████████████████████████████▍                                                           | 6/10 [01:10<00:52, 13.18s/it]\u001b[A2025-05-31 08:51:29,323 || WARNING || MedRL-CoT Setup - Invalid JSON, trying conversion\n",
      "2025-05-31 08:51:29,324 || INFO || MedRL-CoT Setup - Successful conversion!\n",
      "\n",
      "Classifying prompts:  70%|████████████████████████████████████████████████████████████████████████████████████████████████████████▎                                            | 7/10 [01:28<00:44, 14.68s/it]\u001b[A2025-05-31 08:51:42,807 || INFO || MedRL-CoT Setup - Successful JSON parsed!\n",
      "\n",
      "Classifying prompts:  80%|███████████████████████████████████████████████████████████████████████████████████████████████████████████████████████▏                             | 8/10 [01:41<00:28, 14.30s/it]\u001b[A2025-05-31 08:51:55,170 || WARNING || MedRL-CoT Setup - Invalid JSON, trying conversion\n",
      "2025-05-31 08:51:55,171 || INFO || MedRL-CoT Setup - Successful conversion!\n",
      "\n",
      "Classifying prompts:  90%|██████████████████████████████████████████████████████████████████████████████████████████████████████████████████████████████████████               | 9/10 [01:54<00:13, 13.69s/it]\u001b[A2025-05-31 08:52:17,520 || WARNING || MedRL-CoT Setup - Invalid JSON, trying conversion\n",
      "2025-05-31 08:52:17,521 || INFO || MedRL-CoT Setup - Successful conversion!\n",
      "\n",
      "Classifying prompts: 100%|████████████████████████████████████████████████████████████████████████████████████████████████████████████████████████████████████████████████████| 10/10 [02:16<00:00, 16.37s/it]\u001b[A\n",
      "                                                                                                                                                                                                              \u001b[A2025-05-31 08:52:17,525 || INFO || MedRL-CoT Setup - Dumping checkpoint\n"
     ]
    },
    {
     "data": {
      "application/vnd.jupyter.widget-view+json": {
       "model_id": "5c4162d788894b0eb4486b4951e4c27a",
       "version_major": 2,
       "version_minor": 0
      },
      "text/plain": [
       "Saving the dataset (0/1 shards):   0%|          | 0/9104 [00:00<?, ? examples/s]"
      ]
     },
     "metadata": {},
     "output_type": "display_data"
    },
    {
     "name": "stderr",
     "output_type": "stream",
     "text": [
      "Preprocessing dataset:   1%|█▉                                                                                                                                     | 423/30000 [5:28:19<927:07:06, 112.85s/it]2025-05-31 08:52:17,611 || INFO || MedRL-CoT Setup - Preprocessing example 423\n",
      "\n",
      "Classifying prompts:   0%|                                                                                                                                                              | 0/1 [00:00<?, ?it/s]\u001b[A2025-05-31 08:53:50,125 || ERROR || MedRL-CoT Setup - Nothing found, bad example!\n",
      "\n",
      "Classifying prompts: 100%|██████████████████████████████████████████████████████████████████████████████████████████████████████████████████████████████████████████████████████| 1/1 [01:32<00:00, 92.40s/it]\u001b[A\n",
      "                                                                                                                                                                                                              \u001b[A2025-05-31 08:53:50,129 || INFO || MedRL-CoT Setup - Dumping checkpoint\n"
     ]
    },
    {
     "data": {
      "application/vnd.jupyter.widget-view+json": {
       "model_id": "766a8fddabc04fad8416bb09ea453bda",
       "version_major": 2,
       "version_minor": 0
      },
      "text/plain": [
       "Saving the dataset (0/1 shards):   0%|          | 0/9104 [00:00<?, ? examples/s]"
      ]
     },
     "metadata": {},
     "output_type": "display_data"
    },
    {
     "name": "stderr",
     "output_type": "stream",
     "text": [
      "Preprocessing dataset:   1%|█▉                                                                                                                                     | 424/30000 [5:29:52<877:12:12, 106.77s/it]2025-05-31 08:53:50,217 || INFO || MedRL-CoT Setup - Preprocessing example 424\n",
      "\n",
      "Classifying prompts:   0%|                                                                                                                                                              | 0/5 [00:00<?, ?it/s]\u001b[A2025-05-31 08:54:47,476 || INFO || MedRL-CoT Setup - Successful JSON parsed!\n",
      "\n",
      "Classifying prompts:  20%|██████████████████████████████                                                                                                                        | 1/5 [00:57<03:48, 57.15s/it]\u001b[A2025-05-31 08:55:10,811 || WARNING || MedRL-CoT Setup - Invalid JSON, trying conversion\n",
      "2025-05-31 08:55:10,812 || INFO || MedRL-CoT Setup - Successful conversion!\n",
      "\n",
      "Classifying prompts:  40%|████████████████████████████████████████████████████████████                                                                                          | 2/5 [01:20<01:51, 37.26s/it]\u001b[A"
     ]
    }
   ],
   "source": [
    "from tqdm import tqdm\n",
    "from datasets import Dataset\n",
    "# def preprocess_func(model, dataset):\n",
    "    # processed_dataset = {'symptoms_labs': [], 'thought_process': [], 'diagnosis': []}\n",
    "def process_example(example_note):\n",
    "    sentences = example_note.split('.')\n",
    "    chunks = example_note.split('\\\\n')\n",
    "    \n",
    "    processed_example = {'sentence': [], 'class': []}\n",
    "    \n",
    "    initit_prompt = \"\"\"<|im_start|>system\n",
    "You are a medical assistant helping organize a patient's clinical notes  that will presented by paragraph/chunk.\n",
    "    \n",
    "Your tasks is to read through the chunk of a clinical note and classify different sentences as one of the following keys \"symptoms_labs\", \"thought_process\", and \"diagnosis\":\n",
    "symptoms_labs: \n",
    "- All references to symptoms they are currently or was experiencing, test results, or lab findings\n",
    "thought_process: \n",
    "- The reasoning, considerations, or requested labs made by the doctor\n",
    "diagnosis: \n",
    "- The doctor's final or working diagnosis, including the explanation or background of a diagnosis.\n",
    "\n",
    "Respond ONLY with a valid JSON object **EXACTLY** with the sentence as key and the classification as the value: \"symptoms_labs\", \"thought_process\", and \"diagnosis\". \n",
    "\n",
    "**Do not rephrase or paraphrase sentences. Use the original sentences exactly as provided.**\n",
    "<|im_end|>\n",
    "\"\"\"\n",
    "\n",
    "    \n",
    "    prompts = [f\"\"\"{initit_prompt}\n",
    "    <|im_start|>user\n",
    "    {chunk}\n",
    "    <|im_end|>\n",
    "    <|im_start|>assistant\n",
    "    \"\"\" for chunk in chunks\n",
    "    ]\n",
    "\n",
    "    responses = []\n",
    "    for prompt in tqdm(prompts, \"Classifying prompts\", leave=False):\n",
    "        # print(prompt)\n",
    "        inputs = tokenizer(prompt, return_tensors=\"pt\").to(model.device)\n",
    "        output = model.generate(**inputs, max_new_tokens=1024, do_sample=False, pad_token_id=tokenizer.eos_token_id)\n",
    "        # output = model.generate(**inputs, max_new_tokens=1024, do_sample=False, temperature=0.0)\n",
    "\n",
    "        response = tokenizer.decode(output[0], skip_special_tokens=True)\n",
    "        parsed_dict = json_to_dict(response)\n",
    "        if parsed_dict is not None:\n",
    "            for sent, cat in parsed_dict.items():\n",
    "                processed_example['class'].append(str(cat))\n",
    "                processed_example['sentence'].append(str(sent))\n",
    "                # processed_dataset[cat.strip()].append(sent)\n",
    "        # break\n",
    "\n",
    "    return processed_example\n",
    "\n",
    "# processed_dataset = []\n",
    "\n",
    "for i in tqdm(range(0, len(datasets['aug_med_notes']['full_note'])), \"Preprocessing dataset\"):\n",
    "    logger.info(f\"Preprocessing example {i}\")\n",
    "    if i >= dataset_example_idx:\n",
    "        processed_example = process_example(datasets['aug_med_notes']['full_note'][i])\n",
    "        processed_dataset['class'].extend(processed_example['class'])\n",
    "        processed_dataset['sentence'].extend(processed_example['sentence'])\n",
    "        processed_dataset['case_id'].extend([str(i) for _ in processed_example['class']])\n",
    "\n",
    "        logger.info(f\"Dumping checkpoint\")\n",
    "        processed_dir = os.path.join(os.getcwd(), medrlcot_config.data_dir, 'aug_med_notes', 'processed')\n",
    "\n",
    "        features = Features({\n",
    "            \"sentence\": Value(\"string\"),\n",
    "            \"class\": Value(\"string\"),\n",
    "            \"case_id\": Value(\"string\")\n",
    "        })\n",
    "        hf_dataset = Dataset.from_dict(processed_dataset, features=features)\n",
    "        hf_dataset.save_to_disk(processed_dir)\n",
    "\n",
    "        dataset_example_idx += 1\n",
    "        ckpt_preprocess = {\n",
    "            'ckpt-idx': dataset_example_idx\n",
    "        }\n",
    "\n",
    "        with open(ckpt_file, 'w') as f:\n",
    "            json.dump(ckpt_preprocess, f)\n",
    "    else:\n",
    "        logger.info(f\"Example {i} already complete, skipping\")\n",
    "    # processed_dataset.append(process_example(example))\n",
    "    # if i > 0:\n",
    "    #     break\n",
    "\n",
    "    \n",
    "\n",
    "\n",
    "# return processed_dataset"
   ]
  },
  {
   "cell_type": "code",
   "execution_count": 294,
   "id": "bd438d98-9d50-4adf-ac51-91ca17252567",
   "metadata": {},
   "outputs": [
    {
     "data": {
      "text/plain": [
       "'diagnosis'"
      ]
     },
     "execution_count": 294,
     "metadata": {},
     "output_type": "execute_result"
    }
   ],
   "source": [
    "# processed_dataset['class'][-16] = str(processed_dataset['class'][-16])\n",
    "# processed_dataset['class'][-16]"
   ]
  },
  {
   "cell_type": "code",
   "execution_count": 274,
   "id": "eb9c1e26-75f3-46b5-96b0-8bb82a6f20af",
   "metadata": {
    "scrolled": true
   },
   "outputs": [
    {
     "name": "stderr",
     "output_type": "stream",
     "text": [
      "The following generation flags are not valid and may be ignored: ['temperature']. Set `TRANSFORMERS_VERBOSITY=info` for more details.\n",
      "Setting `pad_token_id` to `eos_token_id`:32000 for open-end generation.\n"
     ]
    },
    {
     "ename": "KeyboardInterrupt",
     "evalue": "",
     "output_type": "error",
     "traceback": [
      "\u001b[0;31m---------------------------------------------------------------------------\u001b[0m",
      "\u001b[0;31mKeyboardInterrupt\u001b[0m                         Traceback (most recent call last)",
      "Cell \u001b[0;32mIn[274], line 1\u001b[0m\n\u001b[0;32m----> 1\u001b[0m processed_dataset \u001b[38;5;241m=\u001b[39m \u001b[43mpreprocess_func\u001b[49m\u001b[43m(\u001b[49m\u001b[43mmodel\u001b[49m\u001b[43m,\u001b[49m\u001b[43m \u001b[49m\u001b[43mdatasets\u001b[49m\u001b[43m[\u001b[49m\u001b[38;5;124;43m'\u001b[39;49m\u001b[38;5;124;43maug_med_notes\u001b[39;49m\u001b[38;5;124;43m'\u001b[39;49m\u001b[43m]\u001b[49m\u001b[43m[\u001b[49m\u001b[38;5;124;43m'\u001b[39;49m\u001b[38;5;124;43mfull_note\u001b[39;49m\u001b[38;5;124;43m'\u001b[39;49m\u001b[43m]\u001b[49m\u001b[43m)\u001b[49m\n",
      "Cell \u001b[0;32mIn[254], line 50\u001b[0m, in \u001b[0;36mpreprocess_func\u001b[0;34m(model, dataset)\u001b[0m\n\u001b[1;32m     43\u001b[0m                 \u001b[38;5;66;03m# processed_dataset[cat.strip()].append(sent)\u001b[39;00m\n\u001b[1;32m     44\u001b[0m         \u001b[38;5;66;03m# break\u001b[39;00m\n\u001b[1;32m     45\u001b[0m \n\u001b[1;32m     46\u001b[0m     \u001b[38;5;66;03m# return responses\u001b[39;00m\n\u001b[1;32m     47\u001b[0m \n\u001b[1;32m     48\u001b[0m \u001b[38;5;66;03m# processed_dataset = []\u001b[39;00m\n\u001b[1;32m     49\u001b[0m \u001b[38;5;28;01mfor\u001b[39;00m i, example \u001b[38;5;129;01min\u001b[39;00m \u001b[38;5;28menumerate\u001b[39m(dataset):\n\u001b[0;32m---> 50\u001b[0m     \u001b[43mprocess_example\u001b[49m\u001b[43m(\u001b[49m\u001b[43mexample\u001b[49m\u001b[43m)\u001b[49m\n\u001b[1;32m     51\u001b[0m     \u001b[38;5;66;03m# processed_dataset.append(process_example(example))\u001b[39;00m\n\u001b[1;32m     52\u001b[0m     \u001b[38;5;66;03m# if i > 0:\u001b[39;00m\n\u001b[1;32m     53\u001b[0m     \u001b[38;5;66;03m#     break\u001b[39;00m\n\u001b[1;32m     55\u001b[0m \u001b[38;5;28;01mreturn\u001b[39;00m processed_dataset\n",
      "Cell \u001b[0;32mIn[254], line 36\u001b[0m, in \u001b[0;36mpreprocess_func.<locals>.process_example\u001b[0;34m(example_note)\u001b[0m\n\u001b[1;32m     34\u001b[0m \u001b[38;5;28;01mfor\u001b[39;00m prompt \u001b[38;5;129;01min\u001b[39;00m prompts:\n\u001b[1;32m     35\u001b[0m     inputs \u001b[38;5;241m=\u001b[39m tokenizer(prompt, return_tensors\u001b[38;5;241m=\u001b[39m\u001b[38;5;124m\"\u001b[39m\u001b[38;5;124mpt\u001b[39m\u001b[38;5;124m\"\u001b[39m)\u001b[38;5;241m.\u001b[39mto(model\u001b[38;5;241m.\u001b[39mdevice)\n\u001b[0;32m---> 36\u001b[0m     output \u001b[38;5;241m=\u001b[39m \u001b[43mmodel\u001b[49m\u001b[38;5;241;43m.\u001b[39;49m\u001b[43mgenerate\u001b[49m\u001b[43m(\u001b[49m\u001b[38;5;241;43m*\u001b[39;49m\u001b[38;5;241;43m*\u001b[39;49m\u001b[43minputs\u001b[49m\u001b[43m,\u001b[49m\u001b[43m \u001b[49m\u001b[43mmax_new_tokens\u001b[49m\u001b[38;5;241;43m=\u001b[39;49m\u001b[38;5;241;43m1024\u001b[39;49m\u001b[43m,\u001b[49m\u001b[43m \u001b[49m\u001b[43mdo_sample\u001b[49m\u001b[38;5;241;43m=\u001b[39;49m\u001b[38;5;28;43;01mFalse\u001b[39;49;00m\u001b[43m,\u001b[49m\u001b[43m \u001b[49m\u001b[43mtemperature\u001b[49m\u001b[38;5;241;43m=\u001b[39;49m\u001b[38;5;241;43m0.0\u001b[39;49m\u001b[43m)\u001b[49m\n\u001b[1;32m     38\u001b[0m     response \u001b[38;5;241m=\u001b[39m tokenizer\u001b[38;5;241m.\u001b[39mdecode(output[\u001b[38;5;241m0\u001b[39m], skip_special_tokens\u001b[38;5;241m=\u001b[39m\u001b[38;5;28;01mTrue\u001b[39;00m)\n\u001b[1;32m     39\u001b[0m     parsed_dict \u001b[38;5;241m=\u001b[39m json_to_dict(response)\n",
      "File \u001b[0;32m~/.local/lib/python3.10/site-packages/torch/utils/_contextlib.py:116\u001b[0m, in \u001b[0;36mcontext_decorator.<locals>.decorate_context\u001b[0;34m(*args, **kwargs)\u001b[0m\n\u001b[1;32m    113\u001b[0m \u001b[38;5;129m@functools\u001b[39m\u001b[38;5;241m.\u001b[39mwraps(func)\n\u001b[1;32m    114\u001b[0m \u001b[38;5;28;01mdef\u001b[39;00m\u001b[38;5;250m \u001b[39m\u001b[38;5;21mdecorate_context\u001b[39m(\u001b[38;5;241m*\u001b[39margs, \u001b[38;5;241m*\u001b[39m\u001b[38;5;241m*\u001b[39mkwargs):\n\u001b[1;32m    115\u001b[0m     \u001b[38;5;28;01mwith\u001b[39;00m ctx_factory():\n\u001b[0;32m--> 116\u001b[0m         \u001b[38;5;28;01mreturn\u001b[39;00m \u001b[43mfunc\u001b[49m\u001b[43m(\u001b[49m\u001b[38;5;241;43m*\u001b[39;49m\u001b[43margs\u001b[49m\u001b[43m,\u001b[49m\u001b[43m \u001b[49m\u001b[38;5;241;43m*\u001b[39;49m\u001b[38;5;241;43m*\u001b[39;49m\u001b[43mkwargs\u001b[49m\u001b[43m)\u001b[49m\n",
      "File \u001b[0;32m~/.local/lib/python3.10/site-packages/transformers/generation/utils.py:2597\u001b[0m, in \u001b[0;36mGenerationMixin.generate\u001b[0;34m(self, inputs, generation_config, logits_processor, stopping_criteria, prefix_allowed_tokens_fn, synced_gpus, assistant_model, streamer, negative_prompt_ids, negative_prompt_attention_mask, use_model_defaults, custom_generate, **kwargs)\u001b[0m\n\u001b[1;32m   2589\u001b[0m     input_ids, model_kwargs \u001b[38;5;241m=\u001b[39m \u001b[38;5;28mself\u001b[39m\u001b[38;5;241m.\u001b[39m_expand_inputs_for_generation(\n\u001b[1;32m   2590\u001b[0m         input_ids\u001b[38;5;241m=\u001b[39minput_ids,\n\u001b[1;32m   2591\u001b[0m         expand_size\u001b[38;5;241m=\u001b[39mgeneration_config\u001b[38;5;241m.\u001b[39mnum_return_sequences,\n\u001b[1;32m   2592\u001b[0m         is_encoder_decoder\u001b[38;5;241m=\u001b[39m\u001b[38;5;28mself\u001b[39m\u001b[38;5;241m.\u001b[39mconfig\u001b[38;5;241m.\u001b[39mis_encoder_decoder,\n\u001b[1;32m   2593\u001b[0m         \u001b[38;5;241m*\u001b[39m\u001b[38;5;241m*\u001b[39mmodel_kwargs,\n\u001b[1;32m   2594\u001b[0m     )\n\u001b[1;32m   2596\u001b[0m     \u001b[38;5;66;03m# 12. run sample (it degenerates to greedy search when `generation_config.do_sample=False`)\u001b[39;00m\n\u001b[0;32m-> 2597\u001b[0m     result \u001b[38;5;241m=\u001b[39m \u001b[38;5;28;43mself\u001b[39;49m\u001b[38;5;241;43m.\u001b[39;49m\u001b[43m_sample\u001b[49m\u001b[43m(\u001b[49m\n\u001b[1;32m   2598\u001b[0m \u001b[43m        \u001b[49m\u001b[43minput_ids\u001b[49m\u001b[43m,\u001b[49m\n\u001b[1;32m   2599\u001b[0m \u001b[43m        \u001b[49m\u001b[43mlogits_processor\u001b[49m\u001b[38;5;241;43m=\u001b[39;49m\u001b[43mprepared_logits_processor\u001b[49m\u001b[43m,\u001b[49m\n\u001b[1;32m   2600\u001b[0m \u001b[43m        \u001b[49m\u001b[43mstopping_criteria\u001b[49m\u001b[38;5;241;43m=\u001b[39;49m\u001b[43mprepared_stopping_criteria\u001b[49m\u001b[43m,\u001b[49m\n\u001b[1;32m   2601\u001b[0m \u001b[43m        \u001b[49m\u001b[43mgeneration_config\u001b[49m\u001b[38;5;241;43m=\u001b[39;49m\u001b[43mgeneration_config\u001b[49m\u001b[43m,\u001b[49m\n\u001b[1;32m   2602\u001b[0m \u001b[43m        \u001b[49m\u001b[43msynced_gpus\u001b[49m\u001b[38;5;241;43m=\u001b[39;49m\u001b[43msynced_gpus\u001b[49m\u001b[43m,\u001b[49m\n\u001b[1;32m   2603\u001b[0m \u001b[43m        \u001b[49m\u001b[43mstreamer\u001b[49m\u001b[38;5;241;43m=\u001b[39;49m\u001b[43mstreamer\u001b[49m\u001b[43m,\u001b[49m\n\u001b[1;32m   2604\u001b[0m \u001b[43m        \u001b[49m\u001b[38;5;241;43m*\u001b[39;49m\u001b[38;5;241;43m*\u001b[39;49m\u001b[43mmodel_kwargs\u001b[49m\u001b[43m,\u001b[49m\n\u001b[1;32m   2605\u001b[0m \u001b[43m    \u001b[49m\u001b[43m)\u001b[49m\n\u001b[1;32m   2607\u001b[0m \u001b[38;5;28;01melif\u001b[39;00m generation_mode \u001b[38;5;129;01min\u001b[39;00m (GenerationMode\u001b[38;5;241m.\u001b[39mBEAM_SAMPLE, GenerationMode\u001b[38;5;241m.\u001b[39mBEAM_SEARCH):\n\u001b[1;32m   2608\u001b[0m     \u001b[38;5;66;03m# 11. interleave input_ids with `num_beams` additional sequences per batch\u001b[39;00m\n\u001b[1;32m   2609\u001b[0m     input_ids, model_kwargs \u001b[38;5;241m=\u001b[39m \u001b[38;5;28mself\u001b[39m\u001b[38;5;241m.\u001b[39m_expand_inputs_for_generation(\n\u001b[1;32m   2610\u001b[0m         input_ids\u001b[38;5;241m=\u001b[39minput_ids,\n\u001b[1;32m   2611\u001b[0m         expand_size\u001b[38;5;241m=\u001b[39mgeneration_config\u001b[38;5;241m.\u001b[39mnum_beams,\n\u001b[1;32m   2612\u001b[0m         is_encoder_decoder\u001b[38;5;241m=\u001b[39m\u001b[38;5;28mself\u001b[39m\u001b[38;5;241m.\u001b[39mconfig\u001b[38;5;241m.\u001b[39mis_encoder_decoder,\n\u001b[1;32m   2613\u001b[0m         \u001b[38;5;241m*\u001b[39m\u001b[38;5;241m*\u001b[39mmodel_kwargs,\n\u001b[1;32m   2614\u001b[0m     )\n",
      "File \u001b[0;32m~/.local/lib/python3.10/site-packages/transformers/generation/utils.py:3560\u001b[0m, in \u001b[0;36mGenerationMixin._sample\u001b[0;34m(self, input_ids, logits_processor, stopping_criteria, generation_config, synced_gpus, streamer, **model_kwargs)\u001b[0m\n\u001b[1;32m   3558\u001b[0m     is_prefill \u001b[38;5;241m=\u001b[39m \u001b[38;5;28;01mFalse\u001b[39;00m\n\u001b[1;32m   3559\u001b[0m \u001b[38;5;28;01melse\u001b[39;00m:\n\u001b[0;32m-> 3560\u001b[0m     outputs \u001b[38;5;241m=\u001b[39m \u001b[43mmodel_forward\u001b[49m\u001b[43m(\u001b[49m\u001b[38;5;241;43m*\u001b[39;49m\u001b[38;5;241;43m*\u001b[39;49m\u001b[43mmodel_inputs\u001b[49m\u001b[43m,\u001b[49m\u001b[43m \u001b[49m\u001b[43mreturn_dict\u001b[49m\u001b[38;5;241;43m=\u001b[39;49m\u001b[38;5;28;43;01mTrue\u001b[39;49;00m\u001b[43m)\u001b[49m\n\u001b[1;32m   3562\u001b[0m \u001b[38;5;66;03m# synced_gpus: don't waste resources running the code we don't need; kwargs must be updated before skipping\u001b[39;00m\n\u001b[1;32m   3563\u001b[0m model_kwargs \u001b[38;5;241m=\u001b[39m \u001b[38;5;28mself\u001b[39m\u001b[38;5;241m.\u001b[39m_update_model_kwargs_for_generation(\n\u001b[1;32m   3564\u001b[0m     outputs,\n\u001b[1;32m   3565\u001b[0m     model_kwargs,\n\u001b[1;32m   3566\u001b[0m     is_encoder_decoder\u001b[38;5;241m=\u001b[39m\u001b[38;5;28mself\u001b[39m\u001b[38;5;241m.\u001b[39mconfig\u001b[38;5;241m.\u001b[39mis_encoder_decoder,\n\u001b[1;32m   3567\u001b[0m )\n",
      "File \u001b[0;32m~/.local/lib/python3.10/site-packages/torch/nn/modules/module.py:1751\u001b[0m, in \u001b[0;36mModule._wrapped_call_impl\u001b[0;34m(self, *args, **kwargs)\u001b[0m\n\u001b[1;32m   1749\u001b[0m     \u001b[38;5;28;01mreturn\u001b[39;00m \u001b[38;5;28mself\u001b[39m\u001b[38;5;241m.\u001b[39m_compiled_call_impl(\u001b[38;5;241m*\u001b[39margs, \u001b[38;5;241m*\u001b[39m\u001b[38;5;241m*\u001b[39mkwargs)  \u001b[38;5;66;03m# type: ignore[misc]\u001b[39;00m\n\u001b[1;32m   1750\u001b[0m \u001b[38;5;28;01melse\u001b[39;00m:\n\u001b[0;32m-> 1751\u001b[0m     \u001b[38;5;28;01mreturn\u001b[39;00m \u001b[38;5;28;43mself\u001b[39;49m\u001b[38;5;241;43m.\u001b[39;49m\u001b[43m_call_impl\u001b[49m\u001b[43m(\u001b[49m\u001b[38;5;241;43m*\u001b[39;49m\u001b[43margs\u001b[49m\u001b[43m,\u001b[49m\u001b[43m \u001b[49m\u001b[38;5;241;43m*\u001b[39;49m\u001b[38;5;241;43m*\u001b[39;49m\u001b[43mkwargs\u001b[49m\u001b[43m)\u001b[49m\n",
      "File \u001b[0;32m~/.local/lib/python3.10/site-packages/torch/nn/modules/module.py:1762\u001b[0m, in \u001b[0;36mModule._call_impl\u001b[0;34m(self, *args, **kwargs)\u001b[0m\n\u001b[1;32m   1757\u001b[0m \u001b[38;5;66;03m# If we don't have any hooks, we want to skip the rest of the logic in\u001b[39;00m\n\u001b[1;32m   1758\u001b[0m \u001b[38;5;66;03m# this function, and just call forward.\u001b[39;00m\n\u001b[1;32m   1759\u001b[0m \u001b[38;5;28;01mif\u001b[39;00m \u001b[38;5;129;01mnot\u001b[39;00m (\u001b[38;5;28mself\u001b[39m\u001b[38;5;241m.\u001b[39m_backward_hooks \u001b[38;5;129;01mor\u001b[39;00m \u001b[38;5;28mself\u001b[39m\u001b[38;5;241m.\u001b[39m_backward_pre_hooks \u001b[38;5;129;01mor\u001b[39;00m \u001b[38;5;28mself\u001b[39m\u001b[38;5;241m.\u001b[39m_forward_hooks \u001b[38;5;129;01mor\u001b[39;00m \u001b[38;5;28mself\u001b[39m\u001b[38;5;241m.\u001b[39m_forward_pre_hooks\n\u001b[1;32m   1760\u001b[0m         \u001b[38;5;129;01mor\u001b[39;00m _global_backward_pre_hooks \u001b[38;5;129;01mor\u001b[39;00m _global_backward_hooks\n\u001b[1;32m   1761\u001b[0m         \u001b[38;5;129;01mor\u001b[39;00m _global_forward_hooks \u001b[38;5;129;01mor\u001b[39;00m _global_forward_pre_hooks):\n\u001b[0;32m-> 1762\u001b[0m     \u001b[38;5;28;01mreturn\u001b[39;00m \u001b[43mforward_call\u001b[49m\u001b[43m(\u001b[49m\u001b[38;5;241;43m*\u001b[39;49m\u001b[43margs\u001b[49m\u001b[43m,\u001b[49m\u001b[43m \u001b[49m\u001b[38;5;241;43m*\u001b[39;49m\u001b[38;5;241;43m*\u001b[39;49m\u001b[43mkwargs\u001b[49m\u001b[43m)\u001b[49m\n\u001b[1;32m   1764\u001b[0m result \u001b[38;5;241m=\u001b[39m \u001b[38;5;28;01mNone\u001b[39;00m\n\u001b[1;32m   1765\u001b[0m called_always_called_hooks \u001b[38;5;241m=\u001b[39m \u001b[38;5;28mset\u001b[39m()\n",
      "File \u001b[0;32m~/.local/lib/python3.10/site-packages/transformers/utils/generic.py:969\u001b[0m, in \u001b[0;36mcan_return_tuple.<locals>.wrapper\u001b[0;34m(self, *args, **kwargs)\u001b[0m\n\u001b[1;32m    966\u001b[0m     set_attribute_for_modules(\u001b[38;5;28mself\u001b[39m, \u001b[38;5;124m\"\u001b[39m\u001b[38;5;124m_is_top_level_module\u001b[39m\u001b[38;5;124m\"\u001b[39m, \u001b[38;5;28;01mFalse\u001b[39;00m)\n\u001b[1;32m    968\u001b[0m \u001b[38;5;28;01mtry\u001b[39;00m:\n\u001b[0;32m--> 969\u001b[0m     output \u001b[38;5;241m=\u001b[39m \u001b[43mfunc\u001b[49m\u001b[43m(\u001b[49m\u001b[38;5;28;43mself\u001b[39;49m\u001b[43m,\u001b[49m\u001b[43m \u001b[49m\u001b[38;5;241;43m*\u001b[39;49m\u001b[43margs\u001b[49m\u001b[43m,\u001b[49m\u001b[43m \u001b[49m\u001b[38;5;241;43m*\u001b[39;49m\u001b[38;5;241;43m*\u001b[39;49m\u001b[43mkwargs\u001b[49m\u001b[43m)\u001b[49m\n\u001b[1;32m    970\u001b[0m     \u001b[38;5;28;01mif\u001b[39;00m is_requested_to_return_tuple \u001b[38;5;129;01mor\u001b[39;00m (is_configured_to_return_tuple \u001b[38;5;129;01mand\u001b[39;00m is_top_level_module):\n\u001b[1;32m    971\u001b[0m         output \u001b[38;5;241m=\u001b[39m output\u001b[38;5;241m.\u001b[39mto_tuple()\n",
      "File \u001b[0;32m~/.local/lib/python3.10/site-packages/transformers/models/mistral/modeling_mistral.py:690\u001b[0m, in \u001b[0;36mMistralForCausalLM.forward\u001b[0;34m(self, input_ids, attention_mask, position_ids, past_key_values, inputs_embeds, labels, use_cache, output_attentions, output_hidden_states, cache_position, logits_to_keep, **kwargs)\u001b[0m\n\u001b[1;32m    685\u001b[0m output_hidden_states \u001b[38;5;241m=\u001b[39m (\n\u001b[1;32m    686\u001b[0m     output_hidden_states \u001b[38;5;28;01mif\u001b[39;00m output_hidden_states \u001b[38;5;129;01mis\u001b[39;00m \u001b[38;5;129;01mnot\u001b[39;00m \u001b[38;5;28;01mNone\u001b[39;00m \u001b[38;5;28;01melse\u001b[39;00m \u001b[38;5;28mself\u001b[39m\u001b[38;5;241m.\u001b[39mconfig\u001b[38;5;241m.\u001b[39moutput_hidden_states\n\u001b[1;32m    687\u001b[0m )\n\u001b[1;32m    689\u001b[0m \u001b[38;5;66;03m# decoder outputs consists of (dec_features, layer_state, dec_hidden, dec_attn)\u001b[39;00m\n\u001b[0;32m--> 690\u001b[0m outputs: BaseModelOutputWithPast \u001b[38;5;241m=\u001b[39m \u001b[38;5;28;43mself\u001b[39;49m\u001b[38;5;241;43m.\u001b[39;49m\u001b[43mmodel\u001b[49m\u001b[43m(\u001b[49m\n\u001b[1;32m    691\u001b[0m \u001b[43m    \u001b[49m\u001b[43minput_ids\u001b[49m\u001b[38;5;241;43m=\u001b[39;49m\u001b[43minput_ids\u001b[49m\u001b[43m,\u001b[49m\n\u001b[1;32m    692\u001b[0m \u001b[43m    \u001b[49m\u001b[43mattention_mask\u001b[49m\u001b[38;5;241;43m=\u001b[39;49m\u001b[43mattention_mask\u001b[49m\u001b[43m,\u001b[49m\n\u001b[1;32m    693\u001b[0m \u001b[43m    \u001b[49m\u001b[43mposition_ids\u001b[49m\u001b[38;5;241;43m=\u001b[39;49m\u001b[43mposition_ids\u001b[49m\u001b[43m,\u001b[49m\n\u001b[1;32m    694\u001b[0m \u001b[43m    \u001b[49m\u001b[43mpast_key_values\u001b[49m\u001b[38;5;241;43m=\u001b[39;49m\u001b[43mpast_key_values\u001b[49m\u001b[43m,\u001b[49m\n\u001b[1;32m    695\u001b[0m \u001b[43m    \u001b[49m\u001b[43minputs_embeds\u001b[49m\u001b[38;5;241;43m=\u001b[39;49m\u001b[43minputs_embeds\u001b[49m\u001b[43m,\u001b[49m\n\u001b[1;32m    696\u001b[0m \u001b[43m    \u001b[49m\u001b[43muse_cache\u001b[49m\u001b[38;5;241;43m=\u001b[39;49m\u001b[43muse_cache\u001b[49m\u001b[43m,\u001b[49m\n\u001b[1;32m    697\u001b[0m \u001b[43m    \u001b[49m\u001b[43moutput_attentions\u001b[49m\u001b[38;5;241;43m=\u001b[39;49m\u001b[43moutput_attentions\u001b[49m\u001b[43m,\u001b[49m\n\u001b[1;32m    698\u001b[0m \u001b[43m    \u001b[49m\u001b[43moutput_hidden_states\u001b[49m\u001b[38;5;241;43m=\u001b[39;49m\u001b[43moutput_hidden_states\u001b[49m\u001b[43m,\u001b[49m\n\u001b[1;32m    699\u001b[0m \u001b[43m    \u001b[49m\u001b[43mcache_position\u001b[49m\u001b[38;5;241;43m=\u001b[39;49m\u001b[43mcache_position\u001b[49m\u001b[43m,\u001b[49m\n\u001b[1;32m    700\u001b[0m \u001b[43m    \u001b[49m\u001b[38;5;241;43m*\u001b[39;49m\u001b[38;5;241;43m*\u001b[39;49m\u001b[43mkwargs\u001b[49m\u001b[43m,\u001b[49m\n\u001b[1;32m    701\u001b[0m \u001b[43m\u001b[49m\u001b[43m)\u001b[49m\n\u001b[1;32m    703\u001b[0m hidden_states \u001b[38;5;241m=\u001b[39m outputs\u001b[38;5;241m.\u001b[39mlast_hidden_state\n\u001b[1;32m    704\u001b[0m \u001b[38;5;66;03m# Only compute necessary logits, and do not upcast them to float if we are not computing the loss\u001b[39;00m\n",
      "File \u001b[0;32m~/.local/lib/python3.10/site-packages/torch/nn/modules/module.py:1751\u001b[0m, in \u001b[0;36mModule._wrapped_call_impl\u001b[0;34m(self, *args, **kwargs)\u001b[0m\n\u001b[1;32m   1749\u001b[0m     \u001b[38;5;28;01mreturn\u001b[39;00m \u001b[38;5;28mself\u001b[39m\u001b[38;5;241m.\u001b[39m_compiled_call_impl(\u001b[38;5;241m*\u001b[39margs, \u001b[38;5;241m*\u001b[39m\u001b[38;5;241m*\u001b[39mkwargs)  \u001b[38;5;66;03m# type: ignore[misc]\u001b[39;00m\n\u001b[1;32m   1750\u001b[0m \u001b[38;5;28;01melse\u001b[39;00m:\n\u001b[0;32m-> 1751\u001b[0m     \u001b[38;5;28;01mreturn\u001b[39;00m \u001b[38;5;28;43mself\u001b[39;49m\u001b[38;5;241;43m.\u001b[39;49m\u001b[43m_call_impl\u001b[49m\u001b[43m(\u001b[49m\u001b[38;5;241;43m*\u001b[39;49m\u001b[43margs\u001b[49m\u001b[43m,\u001b[49m\u001b[43m \u001b[49m\u001b[38;5;241;43m*\u001b[39;49m\u001b[38;5;241;43m*\u001b[39;49m\u001b[43mkwargs\u001b[49m\u001b[43m)\u001b[49m\n",
      "File \u001b[0;32m~/.local/lib/python3.10/site-packages/torch/nn/modules/module.py:1762\u001b[0m, in \u001b[0;36mModule._call_impl\u001b[0;34m(self, *args, **kwargs)\u001b[0m\n\u001b[1;32m   1757\u001b[0m \u001b[38;5;66;03m# If we don't have any hooks, we want to skip the rest of the logic in\u001b[39;00m\n\u001b[1;32m   1758\u001b[0m \u001b[38;5;66;03m# this function, and just call forward.\u001b[39;00m\n\u001b[1;32m   1759\u001b[0m \u001b[38;5;28;01mif\u001b[39;00m \u001b[38;5;129;01mnot\u001b[39;00m (\u001b[38;5;28mself\u001b[39m\u001b[38;5;241m.\u001b[39m_backward_hooks \u001b[38;5;129;01mor\u001b[39;00m \u001b[38;5;28mself\u001b[39m\u001b[38;5;241m.\u001b[39m_backward_pre_hooks \u001b[38;5;129;01mor\u001b[39;00m \u001b[38;5;28mself\u001b[39m\u001b[38;5;241m.\u001b[39m_forward_hooks \u001b[38;5;129;01mor\u001b[39;00m \u001b[38;5;28mself\u001b[39m\u001b[38;5;241m.\u001b[39m_forward_pre_hooks\n\u001b[1;32m   1760\u001b[0m         \u001b[38;5;129;01mor\u001b[39;00m _global_backward_pre_hooks \u001b[38;5;129;01mor\u001b[39;00m _global_backward_hooks\n\u001b[1;32m   1761\u001b[0m         \u001b[38;5;129;01mor\u001b[39;00m _global_forward_hooks \u001b[38;5;129;01mor\u001b[39;00m _global_forward_pre_hooks):\n\u001b[0;32m-> 1762\u001b[0m     \u001b[38;5;28;01mreturn\u001b[39;00m \u001b[43mforward_call\u001b[49m\u001b[43m(\u001b[49m\u001b[38;5;241;43m*\u001b[39;49m\u001b[43margs\u001b[49m\u001b[43m,\u001b[49m\u001b[43m \u001b[49m\u001b[38;5;241;43m*\u001b[39;49m\u001b[38;5;241;43m*\u001b[39;49m\u001b[43mkwargs\u001b[49m\u001b[43m)\u001b[49m\n\u001b[1;32m   1764\u001b[0m result \u001b[38;5;241m=\u001b[39m \u001b[38;5;28;01mNone\u001b[39;00m\n\u001b[1;32m   1765\u001b[0m called_always_called_hooks \u001b[38;5;241m=\u001b[39m \u001b[38;5;28mset\u001b[39m()\n",
      "File \u001b[0;32m~/.local/lib/python3.10/site-packages/transformers/utils/generic.py:969\u001b[0m, in \u001b[0;36mcan_return_tuple.<locals>.wrapper\u001b[0;34m(self, *args, **kwargs)\u001b[0m\n\u001b[1;32m    966\u001b[0m     set_attribute_for_modules(\u001b[38;5;28mself\u001b[39m, \u001b[38;5;124m\"\u001b[39m\u001b[38;5;124m_is_top_level_module\u001b[39m\u001b[38;5;124m\"\u001b[39m, \u001b[38;5;28;01mFalse\u001b[39;00m)\n\u001b[1;32m    968\u001b[0m \u001b[38;5;28;01mtry\u001b[39;00m:\n\u001b[0;32m--> 969\u001b[0m     output \u001b[38;5;241m=\u001b[39m \u001b[43mfunc\u001b[49m\u001b[43m(\u001b[49m\u001b[38;5;28;43mself\u001b[39;49m\u001b[43m,\u001b[49m\u001b[43m \u001b[49m\u001b[38;5;241;43m*\u001b[39;49m\u001b[43margs\u001b[49m\u001b[43m,\u001b[49m\u001b[43m \u001b[49m\u001b[38;5;241;43m*\u001b[39;49m\u001b[38;5;241;43m*\u001b[39;49m\u001b[43mkwargs\u001b[49m\u001b[43m)\u001b[49m\n\u001b[1;32m    970\u001b[0m     \u001b[38;5;28;01mif\u001b[39;00m is_requested_to_return_tuple \u001b[38;5;129;01mor\u001b[39;00m (is_configured_to_return_tuple \u001b[38;5;129;01mand\u001b[39;00m is_top_level_module):\n\u001b[1;32m    971\u001b[0m         output \u001b[38;5;241m=\u001b[39m output\u001b[38;5;241m.\u001b[39mto_tuple()\n",
      "File \u001b[0;32m~/.local/lib/python3.10/site-packages/transformers/models/mistral/modeling_mistral.py:423\u001b[0m, in \u001b[0;36mMistralModel.forward\u001b[0;34m(self, input_ids, attention_mask, position_ids, past_key_values, inputs_embeds, use_cache, output_attentions, output_hidden_states, cache_position, **flash_attn_kwargs)\u001b[0m\n\u001b[1;32m    420\u001b[0m \u001b[38;5;28;01mif\u001b[39;00m output_hidden_states:\n\u001b[1;32m    421\u001b[0m     all_hidden_states \u001b[38;5;241m+\u001b[39m\u001b[38;5;241m=\u001b[39m (hidden_states,)\n\u001b[0;32m--> 423\u001b[0m layer_outputs \u001b[38;5;241m=\u001b[39m \u001b[43mdecoder_layer\u001b[49m\u001b[43m(\u001b[49m\n\u001b[1;32m    424\u001b[0m \u001b[43m    \u001b[49m\u001b[43mhidden_states\u001b[49m\u001b[43m,\u001b[49m\n\u001b[1;32m    425\u001b[0m \u001b[43m    \u001b[49m\u001b[43mattention_mask\u001b[49m\u001b[38;5;241;43m=\u001b[39;49m\u001b[43mcausal_mask\u001b[49m\u001b[43m,\u001b[49m\n\u001b[1;32m    426\u001b[0m \u001b[43m    \u001b[49m\u001b[43mposition_ids\u001b[49m\u001b[38;5;241;43m=\u001b[39;49m\u001b[43mposition_ids\u001b[49m\u001b[43m,\u001b[49m\n\u001b[1;32m    427\u001b[0m \u001b[43m    \u001b[49m\u001b[43mpast_key_value\u001b[49m\u001b[38;5;241;43m=\u001b[39;49m\u001b[43mpast_key_values\u001b[49m\u001b[43m,\u001b[49m\n\u001b[1;32m    428\u001b[0m \u001b[43m    \u001b[49m\u001b[43moutput_attentions\u001b[49m\u001b[38;5;241;43m=\u001b[39;49m\u001b[43moutput_attentions\u001b[49m\u001b[43m,\u001b[49m\n\u001b[1;32m    429\u001b[0m \u001b[43m    \u001b[49m\u001b[43muse_cache\u001b[49m\u001b[38;5;241;43m=\u001b[39;49m\u001b[43muse_cache\u001b[49m\u001b[43m,\u001b[49m\n\u001b[1;32m    430\u001b[0m \u001b[43m    \u001b[49m\u001b[43mcache_position\u001b[49m\u001b[38;5;241;43m=\u001b[39;49m\u001b[43mcache_position\u001b[49m\u001b[43m,\u001b[49m\n\u001b[1;32m    431\u001b[0m \u001b[43m    \u001b[49m\u001b[43mposition_embeddings\u001b[49m\u001b[38;5;241;43m=\u001b[39;49m\u001b[43mposition_embeddings\u001b[49m\u001b[43m,\u001b[49m\n\u001b[1;32m    432\u001b[0m \u001b[43m    \u001b[49m\u001b[38;5;241;43m*\u001b[39;49m\u001b[38;5;241;43m*\u001b[39;49m\u001b[43mflash_attn_kwargs\u001b[49m\u001b[43m,\u001b[49m\n\u001b[1;32m    433\u001b[0m \u001b[43m\u001b[49m\u001b[43m)\u001b[49m\n\u001b[1;32m    435\u001b[0m hidden_states \u001b[38;5;241m=\u001b[39m layer_outputs[\u001b[38;5;241m0\u001b[39m]\n\u001b[1;32m    437\u001b[0m \u001b[38;5;28;01mif\u001b[39;00m output_attentions:\n",
      "File \u001b[0;32m~/.local/lib/python3.10/site-packages/transformers/modeling_layers.py:48\u001b[0m, in \u001b[0;36mGradientCheckpointingLayer.__call__\u001b[0;34m(self, *args, **kwargs)\u001b[0m\n\u001b[1;32m     46\u001b[0m \u001b[38;5;28;01mif\u001b[39;00m \u001b[38;5;28mself\u001b[39m\u001b[38;5;241m.\u001b[39mgradient_checkpointing \u001b[38;5;129;01mand\u001b[39;00m \u001b[38;5;28mself\u001b[39m\u001b[38;5;241m.\u001b[39mtraining:\n\u001b[1;32m     47\u001b[0m     \u001b[38;5;28;01mreturn\u001b[39;00m \u001b[38;5;28mself\u001b[39m\u001b[38;5;241m.\u001b[39m_gradient_checkpointing_func(partial(\u001b[38;5;28msuper\u001b[39m()\u001b[38;5;241m.\u001b[39m\u001b[38;5;21m__call__\u001b[39m, \u001b[38;5;241m*\u001b[39m\u001b[38;5;241m*\u001b[39mkwargs), \u001b[38;5;241m*\u001b[39margs)\n\u001b[0;32m---> 48\u001b[0m \u001b[38;5;28;01mreturn\u001b[39;00m \u001b[38;5;28;43msuper\u001b[39;49m\u001b[43m(\u001b[49m\u001b[43m)\u001b[49m\u001b[38;5;241;43m.\u001b[39;49m\u001b[38;5;21;43m__call__\u001b[39;49m\u001b[43m(\u001b[49m\u001b[38;5;241;43m*\u001b[39;49m\u001b[43margs\u001b[49m\u001b[43m,\u001b[49m\u001b[43m \u001b[49m\u001b[38;5;241;43m*\u001b[39;49m\u001b[38;5;241;43m*\u001b[39;49m\u001b[43mkwargs\u001b[49m\u001b[43m)\u001b[49m\n",
      "File \u001b[0;32m~/.local/lib/python3.10/site-packages/torch/nn/modules/module.py:1751\u001b[0m, in \u001b[0;36mModule._wrapped_call_impl\u001b[0;34m(self, *args, **kwargs)\u001b[0m\n\u001b[1;32m   1749\u001b[0m     \u001b[38;5;28;01mreturn\u001b[39;00m \u001b[38;5;28mself\u001b[39m\u001b[38;5;241m.\u001b[39m_compiled_call_impl(\u001b[38;5;241m*\u001b[39margs, \u001b[38;5;241m*\u001b[39m\u001b[38;5;241m*\u001b[39mkwargs)  \u001b[38;5;66;03m# type: ignore[misc]\u001b[39;00m\n\u001b[1;32m   1750\u001b[0m \u001b[38;5;28;01melse\u001b[39;00m:\n\u001b[0;32m-> 1751\u001b[0m     \u001b[38;5;28;01mreturn\u001b[39;00m \u001b[38;5;28;43mself\u001b[39;49m\u001b[38;5;241;43m.\u001b[39;49m\u001b[43m_call_impl\u001b[49m\u001b[43m(\u001b[49m\u001b[38;5;241;43m*\u001b[39;49m\u001b[43margs\u001b[49m\u001b[43m,\u001b[49m\u001b[43m \u001b[49m\u001b[38;5;241;43m*\u001b[39;49m\u001b[38;5;241;43m*\u001b[39;49m\u001b[43mkwargs\u001b[49m\u001b[43m)\u001b[49m\n",
      "File \u001b[0;32m~/.local/lib/python3.10/site-packages/torch/nn/modules/module.py:1762\u001b[0m, in \u001b[0;36mModule._call_impl\u001b[0;34m(self, *args, **kwargs)\u001b[0m\n\u001b[1;32m   1757\u001b[0m \u001b[38;5;66;03m# If we don't have any hooks, we want to skip the rest of the logic in\u001b[39;00m\n\u001b[1;32m   1758\u001b[0m \u001b[38;5;66;03m# this function, and just call forward.\u001b[39;00m\n\u001b[1;32m   1759\u001b[0m \u001b[38;5;28;01mif\u001b[39;00m \u001b[38;5;129;01mnot\u001b[39;00m (\u001b[38;5;28mself\u001b[39m\u001b[38;5;241m.\u001b[39m_backward_hooks \u001b[38;5;129;01mor\u001b[39;00m \u001b[38;5;28mself\u001b[39m\u001b[38;5;241m.\u001b[39m_backward_pre_hooks \u001b[38;5;129;01mor\u001b[39;00m \u001b[38;5;28mself\u001b[39m\u001b[38;5;241m.\u001b[39m_forward_hooks \u001b[38;5;129;01mor\u001b[39;00m \u001b[38;5;28mself\u001b[39m\u001b[38;5;241m.\u001b[39m_forward_pre_hooks\n\u001b[1;32m   1760\u001b[0m         \u001b[38;5;129;01mor\u001b[39;00m _global_backward_pre_hooks \u001b[38;5;129;01mor\u001b[39;00m _global_backward_hooks\n\u001b[1;32m   1761\u001b[0m         \u001b[38;5;129;01mor\u001b[39;00m _global_forward_hooks \u001b[38;5;129;01mor\u001b[39;00m _global_forward_pre_hooks):\n\u001b[0;32m-> 1762\u001b[0m     \u001b[38;5;28;01mreturn\u001b[39;00m \u001b[43mforward_call\u001b[49m\u001b[43m(\u001b[49m\u001b[38;5;241;43m*\u001b[39;49m\u001b[43margs\u001b[49m\u001b[43m,\u001b[49m\u001b[43m \u001b[49m\u001b[38;5;241;43m*\u001b[39;49m\u001b[38;5;241;43m*\u001b[39;49m\u001b[43mkwargs\u001b[49m\u001b[43m)\u001b[49m\n\u001b[1;32m   1764\u001b[0m result \u001b[38;5;241m=\u001b[39m \u001b[38;5;28;01mNone\u001b[39;00m\n\u001b[1;32m   1765\u001b[0m called_always_called_hooks \u001b[38;5;241m=\u001b[39m \u001b[38;5;28mset\u001b[39m()\n",
      "File \u001b[0;32m~/.local/lib/python3.10/site-packages/transformers/models/mistral/modeling_mistral.py:244\u001b[0m, in \u001b[0;36mMistralDecoderLayer.forward\u001b[0;34m(self, hidden_states, attention_mask, position_ids, past_key_value, output_attentions, use_cache, cache_position, position_embeddings, **kwargs)\u001b[0m\n\u001b[1;32m    241\u001b[0m hidden_states \u001b[38;5;241m=\u001b[39m \u001b[38;5;28mself\u001b[39m\u001b[38;5;241m.\u001b[39minput_layernorm(hidden_states)\n\u001b[1;32m    243\u001b[0m \u001b[38;5;66;03m# Self Attention\u001b[39;00m\n\u001b[0;32m--> 244\u001b[0m hidden_states, self_attn_weights \u001b[38;5;241m=\u001b[39m \u001b[38;5;28;43mself\u001b[39;49m\u001b[38;5;241;43m.\u001b[39;49m\u001b[43mself_attn\u001b[49m\u001b[43m(\u001b[49m\n\u001b[1;32m    245\u001b[0m \u001b[43m    \u001b[49m\u001b[43mhidden_states\u001b[49m\u001b[38;5;241;43m=\u001b[39;49m\u001b[43mhidden_states\u001b[49m\u001b[43m,\u001b[49m\n\u001b[1;32m    246\u001b[0m \u001b[43m    \u001b[49m\u001b[43mattention_mask\u001b[49m\u001b[38;5;241;43m=\u001b[39;49m\u001b[43mattention_mask\u001b[49m\u001b[43m,\u001b[49m\n\u001b[1;32m    247\u001b[0m \u001b[43m    \u001b[49m\u001b[43mposition_ids\u001b[49m\u001b[38;5;241;43m=\u001b[39;49m\u001b[43mposition_ids\u001b[49m\u001b[43m,\u001b[49m\n\u001b[1;32m    248\u001b[0m \u001b[43m    \u001b[49m\u001b[43mpast_key_value\u001b[49m\u001b[38;5;241;43m=\u001b[39;49m\u001b[43mpast_key_value\u001b[49m\u001b[43m,\u001b[49m\n\u001b[1;32m    249\u001b[0m \u001b[43m    \u001b[49m\u001b[43moutput_attentions\u001b[49m\u001b[38;5;241;43m=\u001b[39;49m\u001b[43moutput_attentions\u001b[49m\u001b[43m,\u001b[49m\n\u001b[1;32m    250\u001b[0m \u001b[43m    \u001b[49m\u001b[43muse_cache\u001b[49m\u001b[38;5;241;43m=\u001b[39;49m\u001b[43muse_cache\u001b[49m\u001b[43m,\u001b[49m\n\u001b[1;32m    251\u001b[0m \u001b[43m    \u001b[49m\u001b[43mcache_position\u001b[49m\u001b[38;5;241;43m=\u001b[39;49m\u001b[43mcache_position\u001b[49m\u001b[43m,\u001b[49m\n\u001b[1;32m    252\u001b[0m \u001b[43m    \u001b[49m\u001b[43mposition_embeddings\u001b[49m\u001b[38;5;241;43m=\u001b[39;49m\u001b[43mposition_embeddings\u001b[49m\u001b[43m,\u001b[49m\n\u001b[1;32m    253\u001b[0m \u001b[43m    \u001b[49m\u001b[38;5;241;43m*\u001b[39;49m\u001b[38;5;241;43m*\u001b[39;49m\u001b[43mkwargs\u001b[49m\u001b[43m,\u001b[49m\n\u001b[1;32m    254\u001b[0m \u001b[43m\u001b[49m\u001b[43m)\u001b[49m\n\u001b[1;32m    255\u001b[0m hidden_states \u001b[38;5;241m=\u001b[39m residual \u001b[38;5;241m+\u001b[39m hidden_states\n\u001b[1;32m    257\u001b[0m \u001b[38;5;66;03m# Fully Connected\u001b[39;00m\n",
      "File \u001b[0;32m~/.local/lib/python3.10/site-packages/torch/nn/modules/module.py:1751\u001b[0m, in \u001b[0;36mModule._wrapped_call_impl\u001b[0;34m(self, *args, **kwargs)\u001b[0m\n\u001b[1;32m   1749\u001b[0m     \u001b[38;5;28;01mreturn\u001b[39;00m \u001b[38;5;28mself\u001b[39m\u001b[38;5;241m.\u001b[39m_compiled_call_impl(\u001b[38;5;241m*\u001b[39margs, \u001b[38;5;241m*\u001b[39m\u001b[38;5;241m*\u001b[39mkwargs)  \u001b[38;5;66;03m# type: ignore[misc]\u001b[39;00m\n\u001b[1;32m   1750\u001b[0m \u001b[38;5;28;01melse\u001b[39;00m:\n\u001b[0;32m-> 1751\u001b[0m     \u001b[38;5;28;01mreturn\u001b[39;00m \u001b[38;5;28;43mself\u001b[39;49m\u001b[38;5;241;43m.\u001b[39;49m\u001b[43m_call_impl\u001b[49m\u001b[43m(\u001b[49m\u001b[38;5;241;43m*\u001b[39;49m\u001b[43margs\u001b[49m\u001b[43m,\u001b[49m\u001b[43m \u001b[49m\u001b[38;5;241;43m*\u001b[39;49m\u001b[38;5;241;43m*\u001b[39;49m\u001b[43mkwargs\u001b[49m\u001b[43m)\u001b[49m\n",
      "File \u001b[0;32m~/.local/lib/python3.10/site-packages/torch/nn/modules/module.py:1762\u001b[0m, in \u001b[0;36mModule._call_impl\u001b[0;34m(self, *args, **kwargs)\u001b[0m\n\u001b[1;32m   1757\u001b[0m \u001b[38;5;66;03m# If we don't have any hooks, we want to skip the rest of the logic in\u001b[39;00m\n\u001b[1;32m   1758\u001b[0m \u001b[38;5;66;03m# this function, and just call forward.\u001b[39;00m\n\u001b[1;32m   1759\u001b[0m \u001b[38;5;28;01mif\u001b[39;00m \u001b[38;5;129;01mnot\u001b[39;00m (\u001b[38;5;28mself\u001b[39m\u001b[38;5;241m.\u001b[39m_backward_hooks \u001b[38;5;129;01mor\u001b[39;00m \u001b[38;5;28mself\u001b[39m\u001b[38;5;241m.\u001b[39m_backward_pre_hooks \u001b[38;5;129;01mor\u001b[39;00m \u001b[38;5;28mself\u001b[39m\u001b[38;5;241m.\u001b[39m_forward_hooks \u001b[38;5;129;01mor\u001b[39;00m \u001b[38;5;28mself\u001b[39m\u001b[38;5;241m.\u001b[39m_forward_pre_hooks\n\u001b[1;32m   1760\u001b[0m         \u001b[38;5;129;01mor\u001b[39;00m _global_backward_pre_hooks \u001b[38;5;129;01mor\u001b[39;00m _global_backward_hooks\n\u001b[1;32m   1761\u001b[0m         \u001b[38;5;129;01mor\u001b[39;00m _global_forward_hooks \u001b[38;5;129;01mor\u001b[39;00m _global_forward_pre_hooks):\n\u001b[0;32m-> 1762\u001b[0m     \u001b[38;5;28;01mreturn\u001b[39;00m \u001b[43mforward_call\u001b[49m\u001b[43m(\u001b[49m\u001b[38;5;241;43m*\u001b[39;49m\u001b[43margs\u001b[49m\u001b[43m,\u001b[49m\u001b[43m \u001b[49m\u001b[38;5;241;43m*\u001b[39;49m\u001b[38;5;241;43m*\u001b[39;49m\u001b[43mkwargs\u001b[49m\u001b[43m)\u001b[49m\n\u001b[1;32m   1764\u001b[0m result \u001b[38;5;241m=\u001b[39m \u001b[38;5;28;01mNone\u001b[39;00m\n\u001b[1;32m   1765\u001b[0m called_always_called_hooks \u001b[38;5;241m=\u001b[39m \u001b[38;5;28mset\u001b[39m()\n",
      "File \u001b[0;32m~/.local/lib/python3.10/site-packages/transformers/models/mistral/modeling_mistral.py:164\u001b[0m, in \u001b[0;36mMistralAttention.forward\u001b[0;34m(self, hidden_states, position_embeddings, attention_mask, past_key_value, cache_position, **kwargs)\u001b[0m\n\u001b[1;32m    161\u001b[0m value_states \u001b[38;5;241m=\u001b[39m \u001b[38;5;28mself\u001b[39m\u001b[38;5;241m.\u001b[39mv_proj(hidden_states)\u001b[38;5;241m.\u001b[39mview(hidden_shape)\u001b[38;5;241m.\u001b[39mtranspose(\u001b[38;5;241m1\u001b[39m, \u001b[38;5;241m2\u001b[39m)\n\u001b[1;32m    163\u001b[0m cos, sin \u001b[38;5;241m=\u001b[39m position_embeddings\n\u001b[0;32m--> 164\u001b[0m query_states, key_states \u001b[38;5;241m=\u001b[39m \u001b[43mapply_rotary_pos_emb\u001b[49m\u001b[43m(\u001b[49m\u001b[43mquery_states\u001b[49m\u001b[43m,\u001b[49m\u001b[43m \u001b[49m\u001b[43mkey_states\u001b[49m\u001b[43m,\u001b[49m\u001b[43m \u001b[49m\u001b[43mcos\u001b[49m\u001b[43m,\u001b[49m\u001b[43m \u001b[49m\u001b[43msin\u001b[49m\u001b[43m)\u001b[49m\n\u001b[1;32m    166\u001b[0m \u001b[38;5;28;01mif\u001b[39;00m past_key_value \u001b[38;5;129;01mis\u001b[39;00m \u001b[38;5;129;01mnot\u001b[39;00m \u001b[38;5;28;01mNone\u001b[39;00m:\n\u001b[1;32m    167\u001b[0m     \u001b[38;5;66;03m# sin and cos are specific to RoPE models; cache_position needed for the static cache\u001b[39;00m\n\u001b[1;32m    168\u001b[0m     cache_kwargs \u001b[38;5;241m=\u001b[39m {\u001b[38;5;124m\"\u001b[39m\u001b[38;5;124msin\u001b[39m\u001b[38;5;124m\"\u001b[39m: sin, \u001b[38;5;124m\"\u001b[39m\u001b[38;5;124mcos\u001b[39m\u001b[38;5;124m\"\u001b[39m: cos, \u001b[38;5;124m\"\u001b[39m\u001b[38;5;124mcache_position\u001b[39m\u001b[38;5;124m\"\u001b[39m: cache_position}\n",
      "File \u001b[0;32m~/.local/lib/python3.10/site-packages/transformers/models/mistral/modeling_mistral.py:88\u001b[0m, in \u001b[0;36mapply_rotary_pos_emb\u001b[0;34m(q, k, cos, sin, position_ids, unsqueeze_dim)\u001b[0m\n\u001b[1;32m     86\u001b[0m sin \u001b[38;5;241m=\u001b[39m sin\u001b[38;5;241m.\u001b[39munsqueeze(unsqueeze_dim)\n\u001b[1;32m     87\u001b[0m q_embed \u001b[38;5;241m=\u001b[39m (q \u001b[38;5;241m*\u001b[39m cos) \u001b[38;5;241m+\u001b[39m (rotate_half(q) \u001b[38;5;241m*\u001b[39m sin)\n\u001b[0;32m---> 88\u001b[0m k_embed \u001b[38;5;241m=\u001b[39m (k \u001b[38;5;241m*\u001b[39m cos) \u001b[38;5;241m+\u001b[39m (\u001b[43mrotate_half\u001b[49m\u001b[43m(\u001b[49m\u001b[43mk\u001b[49m\u001b[43m)\u001b[49m \u001b[38;5;241m*\u001b[39m sin)\n\u001b[1;32m     89\u001b[0m \u001b[38;5;28;01mreturn\u001b[39;00m q_embed, k_embed\n",
      "File \u001b[0;32m~/.local/lib/python3.10/site-packages/transformers/models/mistral/modeling_mistral.py:58\u001b[0m, in \u001b[0;36mrotate_half\u001b[0;34m(x)\u001b[0m\n\u001b[1;32m     54\u001b[0m         down_proj \u001b[38;5;241m=\u001b[39m \u001b[38;5;28mself\u001b[39m\u001b[38;5;241m.\u001b[39mdown_proj(\u001b[38;5;28mself\u001b[39m\u001b[38;5;241m.\u001b[39mact_fn(\u001b[38;5;28mself\u001b[39m\u001b[38;5;241m.\u001b[39mgate_proj(x)) \u001b[38;5;241m*\u001b[39m \u001b[38;5;28mself\u001b[39m\u001b[38;5;241m.\u001b[39mup_proj(x))\n\u001b[1;32m     55\u001b[0m         \u001b[38;5;28;01mreturn\u001b[39;00m down_proj\n\u001b[0;32m---> 58\u001b[0m \u001b[38;5;28;01mdef\u001b[39;00m\u001b[38;5;250m \u001b[39m\u001b[38;5;21mrotate_half\u001b[39m(x):\n\u001b[1;32m     59\u001b[0m \u001b[38;5;250m    \u001b[39m\u001b[38;5;124;03m\"\"\"Rotates half the hidden dims of the input.\"\"\"\u001b[39;00m\n\u001b[1;32m     60\u001b[0m     x1 \u001b[38;5;241m=\u001b[39m x[\u001b[38;5;241m.\u001b[39m\u001b[38;5;241m.\u001b[39m\u001b[38;5;241m.\u001b[39m, : x\u001b[38;5;241m.\u001b[39mshape[\u001b[38;5;241m-\u001b[39m\u001b[38;5;241m1\u001b[39m] \u001b[38;5;241m/\u001b[39m\u001b[38;5;241m/\u001b[39m \u001b[38;5;241m2\u001b[39m]\n",
      "\u001b[0;31mKeyboardInterrupt\u001b[0m: "
     ]
    }
   ],
   "source": [
    "# processed_dataset = preprocess_func(model, datasets['aug_med_notes']['full_note'])"
   ]
  },
  {
   "cell_type": "code",
   "execution_count": 273,
   "id": "78048fde-1e41-4a61-a197-d69de829a06a",
   "metadata": {},
   "outputs": [
    {
     "name": "stdout",
     "output_type": "stream",
     "text": [
      "53 53\n"
     ]
    }
   ],
   "source": [
    "# print(len(processed_dataset['class']), len(processed_dataset['sentence']))"
   ]
  },
  {
   "cell_type": "code",
   "execution_count": null,
   "id": "50563881-d753-409e-98a0-e460c1743b8c",
   "metadata": {},
   "outputs": [],
   "source": [
    "# len(test['class'])"
   ]
  },
  {
   "cell_type": "code",
   "execution_count": null,
   "id": "e21fc190-eaf3-4490-a8b5-5194022233a4",
   "metadata": {},
   "outputs": [],
   "source": []
  },
  {
   "cell_type": "code",
   "execution_count": 328,
   "id": "d23fe30b-9625-4b50-ae76-8eaf5568407b",
   "metadata": {},
   "outputs": [],
   "source": [
    "# hf_dataset"
   ]
  },
  {
   "cell_type": "code",
   "execution_count": 330,
   "id": "cd125701-4272-4cb0-b676-af6120f0bf6f",
   "metadata": {},
   "outputs": [
    {
     "data": {
      "text/plain": [
       "Dataset({\n",
       "    features: ['sentence', 'class', 'case_id'],\n",
       "    num_rows: 569\n",
       "})"
      ]
     },
     "execution_count": 330,
     "metadata": {},
     "output_type": "execute_result"
    }
   ],
   "source": [
    "Dataset.from_file(os.path.join(processed_dir, 'data-00000-of-00001.arrow'))"
   ]
  },
  {
   "cell_type": "code",
   "execution_count": 246,
   "id": "087c6fec-9588-4541-b5c9-36374488d08c",
   "metadata": {},
   "outputs": [
    {
     "data": {
      "text/plain": [
       "'/home/ubuntu/medrlcot/data/aug_med_notes/processed'"
      ]
     },
     "execution_count": 246,
     "metadata": {},
     "output_type": "execute_result"
    }
   ],
   "source": []
  },
  {
   "cell_type": "code",
   "execution_count": 209,
   "id": "7067d17e-480c-48bc-8f47-50856a9f20e0",
   "metadata": {},
   "outputs": [
    {
     "name": "stdout",
     "output_type": "stream",
     "text": [
      "{'A 47-year-old male patient was referred to the rheumatology clinic because of recurrent attacks of pain in both knees over 1 year.': 'symptoms_labs'}\n",
      "{'In September 2016, the patient presented with severe pain over the medial aspect of the left knee for a two-week duration which prevented him from ambulation.': 'symptoms_labs', 'The pain increased with weight-bearing physical activity.': 'symptoms_labs', 'The patient reported no history of trauma before the onset of the knee pain.': 'symptoms_labs', 'Examination showed severe tenderness over the medial side of the knee with mild effusion and moderate limitation of range of motion.': 'symptoms_labs', 'There was no erythema or increased warmth of the knee.': 'symptoms_labs', 'MRI of the left knee showed a moderate-sized focal area of marrow edema/contusion involving the medial femoral condyle in mid and anterior parts predominantly along the articular surface.': 'symptoms_labs', 'The patient was prescribed diclofenac sodium 50 mg twice daily and was advised to avoid prolonged weight-bearing activities.': 'symptoms_labs', 'Over the next few weeks, the pain subsided and resolved.': 'symptoms_labs', 'Three months later, the patient developed spontaneous new onset of pain involving the lateral aspect of the same knee.': 'symptoms_labs', 'MRI showed bone marrow edema involving the lateral femoral condyle with complete resolution of the bone marrow edema of the medial femoral condyle.': 'symptoms_labs', 'He was treated conservatively with NSAIDs and physiotherapy and advised to use a cane to minimize weight bearing on the diseased knee.': 'symptoms_labs', 'demonstrates MRI of the left knee in September 2016 and three months later.': 'symptoms_labs'}\n",
      "{'In April 2017, the patient developed gradual pain over the medial side of the right knee with no obvious swelling.': 'symptoms_labs', 'MRI of the right knee showed a moderate-sized focal area of marrow edema involving the medial tibial plateau medially and anteriorly.': 'symptoms_labs', 'The patient was treated conservatively in a similar fashion to the previous episode.': 'thought_process', 'Four months later, the pain got more severe for which he underwent another MRI of the right knee which showed extensive marrow edema involving the medial femoral condyle with complete recovery of the medial tibial plateau bone marrow edema noted in the previous MRI ().': 'symptoms_labs', 'The patient also recalled a similar pain happened in 2011 to the left knee but did not do MRI at that time.': 'symptoms_labs'}\n",
      "{'In all previous presentations, the patient did not report any history of trauma, fall, twist, constitutional symptoms, or using corticosteroids.': 'symptoms_labs', 'He also had no history of other joint involvement apart from knees and denied any history of low back pain.': 'symptoms_labs', 'He did not have any features suggestive of spondyloarthropathy or connective tissue disease.': 'symptoms_labs'}\n",
      "{'Past history is significant for fracture of the greater tuberosity of the left humerus and undisplaced fracture of the left cuboid bone. Fractures happened after he fell off a ladder.': 'symptoms_labs', 'Also, he is known to have mild asthma which is controlled with as-needed bronchodilator and hypertension maintained on amlodipine 5 mg daily.': 'symptoms_labs', 'The patient had never been a smoker or an alcohol consumer.': 'symptoms_labs'}\n",
      "{'Lab investigations revealed vitamin D 8 ng/mL (normal: >30 ng/mL), corrected calcium 2.16 mmol/L (normal: 2.10–2.60 mmol/L), parathyroid hormone 91 pg/ml (normal: 15–65 pg/ml), and alkaline phosphatase 49 U/L (normal: 40–150 U/L)': 'symptoms_labs', 'Complete blood count, kidney and liver function, CRP, and ESR were within normal limit.': 'symptoms_labs', 'Immunology profile including rheumatoid factor, ACPA, ANA, anticardiolipin, and B2-glycoprotein were all negative.': 'symptoms_labs'}\n",
      "{'DXA scan showed a T score of −1.0 at the lumbar spine and −1.6 at the left femoral neck suggestive of osteopenia. shows further details of the DXA scan.': 'symptoms_labs'}\n",
      "{'The patient was treated conservatively with oral vitamin D2 50,000 IU/week supplement and NSAIDs.': 'diagnosis', 'Gradually, the symptoms subsided over the next few weeks, and vitamin D level became normal after 12 weeks.': 'diagnosis'}\n"
     ]
    }
   ],
   "source": [
    "# for t in test[4]:\n",
    "#     print(t)\n",
    "#     # print(json_to_dict(t))"
   ]
  },
  {
   "cell_type": "code",
   "execution_count": 111,
   "id": "f9370604-994c-4fed-a3c2-9b8e1d428fb8",
   "metadata": {},
   "outputs": [
    {
     "data": {
      "text/plain": [
       "4"
      ]
     },
     "execution_count": 111,
     "metadata": {},
     "output_type": "execute_result"
    }
   ],
   "source": [
    "len(test)"
   ]
  },
  {
   "cell_type": "code",
   "execution_count": 7,
   "id": "288bc46c-0980-4ac9-8184-1ac448b2e2ca",
   "metadata": {},
   "outputs": [],
   "source": [
    "from transformers import AutoTokenizer, AutoModelForCausalLM, pipeline\n",
    "import torch\n",
    "import json\n",
    "\n",
    "# Load model (adjust to your chosen model)\n",
    "# model_id = \"NousResearch/Nous-Hermes-2-Mistral-7B-DPO\"\n",
    "# tokenizer = AutoTokenizer.from_pretrained(model_id)\n",
    "# model = AutoModelForCausalLM.from_pretrained(\n",
    "#     model_id,\n",
    "#     torch_dtype=torch.float16,\n",
    "#     device_map=\"auto\"\n",
    "# )\n",
    "# import torch\n",
    "# from transformers import AutoTokenizer, AutoModelForCausalLM\n",
    "# from transformers import LlamaTokenizer, MixtralForCausalLM\n",
    "# import bitsandbytes, flash_attn\n",
    "\n",
    "# tokenizer = LlamaTokenizer.from_pretrained('NousResearch/Nous-Hermes-2-Mistral-7B-DPO', trust_remote_code=True)\n",
    "# model = MistralForCausalLM.from_pretrained(\n",
    "#     \"NousResearch/Nous-Hermes-2-Mistral-7B-DPO\",\n",
    "#     torch_dtype=torch.float16,\n",
    "#     device_map=\"auto\",\n",
    "#     load_in_8bit=False,\n",
    "#     load_in_4bit=True,\n",
    "#     use_flash_attention_2=True\n",
    "# )"
   ]
  },
  {
   "cell_type": "code",
   "execution_count": null,
   "id": "84ff3ff0-e767-4832-908e-84f923261c00",
   "metadata": {},
   "outputs": [],
   "source": []
  }
 ],
 "metadata": {
  "kernelspec": {
   "display_name": "Python 3.10",
   "language": "python",
   "name": "python310"
  },
  "language_info": {
   "codemirror_mode": {
    "name": "ipython",
    "version": 3
   },
   "file_extension": ".py",
   "mimetype": "text/x-python",
   "name": "python",
   "nbconvert_exporter": "python",
   "pygments_lexer": "ipython3",
   "version": "3.10.12"
  }
 },
 "nbformat": 4,
 "nbformat_minor": 5
}
