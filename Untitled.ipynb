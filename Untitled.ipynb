{
 "cells": [
  {
   "cell_type": "code",
   "execution_count": 1,
   "id": "d93cd76d-8aed-40d5-8ee0-c24566c28480",
   "metadata": {},
   "outputs": [],
   "source": [
    "%load_ext autoreload\n",
    "%autoreload 2\n",
    "# %reload_ext autoreload"
   ]
  },
  {
   "cell_type": "code",
   "execution_count": 2,
   "id": "b682f71a-59eb-4552-b60c-74081bc2dddb",
   "metadata": {
    "scrolled": true
   },
   "outputs": [],
   "source": [
    "# Install required modules\n",
    "# !pip install datasets dotenv torch SentencePiece accelerate huggingface_hub\n",
    "# !pip install -U bitsandbytes\n",
    "# !pip install --force-reinstall transformers==4.35.2\n",
    "# !pip install --force-reinstall --upgrade bitsandbytes"
   ]
  },
  {
   "cell_type": "code",
   "execution_count": 3,
   "id": "f3daee32-9beb-4303-b18e-806ffc111d0a",
   "metadata": {},
   "outputs": [
    {
     "name": "stderr",
     "output_type": "stream",
     "text": [
      "2025-05-30 05:41:17,293 || INFO || Logger - Setup for MedRL-CoT's log done. This is the beginning of the log.\n",
      "2025-05-30 05:41:17,293 || INFO || DataManager - Loading datasets: ['aug_med_notes', 'mimic4']\n",
      "2025-05-30 05:41:17,294 || INFO || DataManager - AGBonnet/augmented-clinical-notes dataset already exists in disk. If the dataset is giving errors or you'd like a fresh install, delete the /home/ubuntu/medrlcot/data/aug_med_notes directory.\n",
      "2025-05-30 05:41:17,295 || INFO || DataManager - Loading saved hugginface AGBonnet/augmented-clinical-notes dataset.\n",
      "2025-05-30 05:41:17,357 || INFO || DataManager - Successfully loaded AGBonnet/augmented-clinical-notes as key aug_med_notes\n",
      "2025-05-30 05:41:17,358 || ERROR || DataManager - Dataset not found in local. Due to long web-download time, this dataset must be manually installed to local with the dataset expected to be saved as /home/ubuntu/medrlcot/data/mimic4/discharge.csv.gz.\n",
      "2025-05-30 05:41:17,359 || WARNING || DataManager - Failed to load 1 dataset: {'mimic4'}!\n",
      "2025-05-30 05:41:17,359 || INFO || DataManager - Successfully loaded 1 datasets: ['aug_med_notes']\n"
     ]
    },
    {
     "name": "stdout",
     "output_type": "stream",
     "text": [
      "Generated new log file logs/medrlcot003.log\n"
     ]
    },
    {
     "data": {
      "text/plain": [
       "{'aug_med_notes': Dataset({\n",
       "     features: ['idx', 'note', 'full_note', 'conversation', 'summary'],\n",
       "     num_rows: 30000\n",
       " })}"
      ]
     },
     "execution_count": 3,
     "metadata": {},
     "output_type": "execute_result"
    }
   ],
   "source": [
    "from medrlcot.config.env import MedRL_CoT\n",
    "from medrlcot import data_manager\n",
    "from medrlcot.medrlcot_logger import setup_logger\n",
    "from dotenv import load_dotenv\n",
    "import logging\n",
    "import os\n",
    "\n",
    "# env = load_dotenv()\n",
    "# model_cfg_path = os.path.join(os.getcwd(), os.getenv('model_config'))\n",
    "model_cfg_path = os.path.join(os.getcwd(), \"medrlcot/config/.env\")\n",
    "medrlcot_config = MedRL_CoT(model_cfg_path)\n",
    "\n",
    "setup_logger()\n",
    "logger = logging.getLogger(\"MedRL-CoT Setup\")\n",
    "\n",
    "# Download datasets\n",
    "datasets = data_manager.load_datasets(medrlcot_config.datasets, data_dir=medrlcot_config.data_dir)\n",
    "\n",
    "datasets\n",
    "# print(datasets['aug_med_notes']['full_note'][0])\n",
    "# data_manager.load_datasets(medrlcot_config.datasets, data_dir=medrlcot_config.data_dir, load=False)"
   ]
  },
  {
   "cell_type": "code",
   "execution_count": 4,
   "id": "703d41c3-c82d-4503-992b-a7aefca1e671",
   "metadata": {},
   "outputs": [],
   "source": [
    "# [f for f in os.listdir(\"/Users/sdong/Documents/UCSD/ECE285/ECE285DGMProject/data/aug_med_notes/train\") if f.endswith(\".arrow\")]"
   ]
  },
  {
   "cell_type": "code",
   "execution_count": 5,
   "id": "cfd6cee1-d1a8-4b68-8759-d48f2de94507",
   "metadata": {
    "scrolled": true
   },
   "outputs": [],
   "source": [
    "# # Load model directly\n",
    "# from transformers import AutoTokenizer, AutoModelForCausalLM\n",
    "\n",
    "# tokenizer = AutoTokenizer.from_pretrained(\"meta-llama/Llama-3.3-70B-Instruct\")\n",
    "# model = AutoModelForCausalLM.from_pretrained(\"meta-llama/Llama-3.3-70B-Instruct\")"
   ]
  },
  {
   "cell_type": "code",
   "execution_count": 6,
   "id": "6c1f8408-ff49-4241-b54a-501b3790ab3f",
   "metadata": {},
   "outputs": [],
   "source": [
    "# !pip install flash_attn"
   ]
  },
  {
   "cell_type": "code",
   "execution_count": 8,
   "id": "1777f8cb-a193-4dc0-8fe6-48db303acc0d",
   "metadata": {},
   "outputs": [
    {
     "name": "stderr",
     "output_type": "stream",
     "text": [
      "The `load_in_4bit` and `load_in_8bit` arguments are deprecated and will be removed in the future versions. Please, pass a `BitsAndBytesConfig` object in `quantization_config` argument instead.\n",
      "2025-05-30 05:55:50,617 || INFO || accelerate.utils.modeling - We will use 90% of the memory on device 0 for storing the model, and 10% for the buffer to avoid OOM. You can set `max_memory` in to a higher value to use more memory (at your own risk).\n"
     ]
    },
    {
     "data": {
      "application/vnd.jupyter.widget-view+json": {
       "model_id": "76b4ac1b61e1490fa13f1c01521b0314",
       "version_major": 2,
       "version_minor": 0
      },
      "text/plain": [
       "Loading checkpoint shards:   0%|          | 0/3 [00:00<?, ?it/s]"
      ]
     },
     "metadata": {},
     "output_type": "display_data"
    }
   ],
   "source": [
    "# Load model directly\n",
    "import torch\n",
    "from transformers import AutoTokenizer, AutoModelForCausalLM\n",
    "import bitsandbytes\n",
    "\n",
    "tokenizer = AutoTokenizer.from_pretrained(\"NousResearch/Nous-Hermes-2-Mistral-7B-DPO\", use_fast=False)\n",
    "model = AutoModelForCausalLM.from_pretrained(\"NousResearch/Nous-Hermes-2-Mistral-7B-DPO\", torch_dtype=torch.float16, \n",
    "                                             device_map=\"auto\", load_in_8bit=False, load_in_4bit=True)\n",
    "# model = AutoModelForCausalLM.from_pretrained(\"NousResearch/Nous-Hermes-2-Mistral-7B-DPO\")"
   ]
  },
  {
   "cell_type": "code",
   "execution_count": 11,
   "id": "832400ec-0b0c-47db-b647-a98565219cf6",
   "metadata": {
    "scrolled": true
   },
   "outputs": [
    {
     "data": {
      "text/plain": [
       "'A a sixteen year-old girl, presented to our Outpatient department with the complaints of discomfort in the neck and lower back as well as restriction of body movements. She was not able to maintain an erect posture and would tend to fall on either side while standing up from a sitting position. She would keep her head turned to the right and upwards due to the sustained contraction of the neck muscles. There was a sideways bending of the back in the lumbar region. To counter the abnormal positioning of the back and neck, she would keep her limbs in a specific position to allow her body weight to be supported. Due to the restrictions with the body movements at the neck and in the lumbar region, she would require assistance in standing and walking. She would require her parents to help her with daily chores, including all activities of self-care.\\\\nShe had been experiencing these difficulties for the past four months since when she was introduced to olanzapine tablets for the control of her exacerbated mental illness. This was not her first experience with this drug over the past seven years since she had been diagnosed with bipolar affective disorder. Her first episode of the affective disorder was that of mania at the age of eleven which was managed with the use of olanzapine tablets in 2.5–10 mg doses per day at different times. The patient developed pain and discomfort in her neck within the second week of being put on tablet olanzapine at a dose of 5 mg per day. This was associated with a sustained and abnormal contraction of the neck muscles that would pull her head to the right in an upward direction. These features had persisted for the first three years of her illness with a varying intensity, distress, and dysfunction which would tend to correlate with the dose of olanzapine. Apart from a brief period of around three weeks when she was given tablet trihexyphenidyl 4 mg per day for rigidity in her upper limbs, she was not prescribed any other psychotropic medication. The rigidity showed good response to this medication which was subsequently stopped. The introduction and subsequent withdrawal of this medication did not bring about any change in the sustained abnormal contraction of her neck muscles.\\\\nImprovement and subsequent remission of the mood symptoms of the patient provided the treatment team with an opportunity to stop olanzapine. The discomfort in the neck and the abnormal movement of the neck muscles persisted over the next three months’ period when she was off olanzapine without any significant change, even with a trial of propranolol, trihexyphenidyl, and phenargan injection. Reintroduction of olanzapine (at a dose of 2.5 mg per day) after a gap of three months for the reemergence of some behavioral features led to a slight aggravation of the already existing abnormal movement and posturing of the neck.\\\\nWith improvement in the clinical picture, olanzapine was reduced and stopped. She was put on tablet sodium valproate, 1000 mg per day during this period for the stabilization of her mood when she was also given escitalopram for a period of three months for her depressive features. The patient responded well to this change in medication, but she developed amenorrhea for which no cause was established after a detailed gynecological evaluation. Keeping in mind the possibility of valproate-induced menstrual disturbance, she was shifted to tablet lithium 450 mg per day. The patient was well maintained on this medication for a period of around two years. However, she developed hypothyroidism for which eltroxin was introduced at a dose of 50 micrograms per day.\\\\nDuring this period of two years and seven months, the abnormal contraction of the neck muscles and the abnormal positioning of the head improved slightly, and with the improvement, it would cause less discomfort and interference in her activities. However, these movements failed to disappear completely. Another exacerbation of the mood symptoms in the form of mania warranted a need for the introduction of olanzapine (by a different treatment team) and the patient was reintroduced to 10 mg olanzapine on a daily basis, which led to the current presentation as described earlier.\\\\nAfter the case was seen at our institute, the psychotropic medications were stopped as her mood symptoms had remitted and she was put on tablet tetrabenazine (built up to 75 mg per day in divided doses) with which the patient had started showing some response with an improvement in abnormal movements of the muscles of the neck as well as the back. She is now able to stand with support and can do some daily chores on her own. The pain and discomfort in the back and neck have also reduced.\\\\nDuring the course of the illness, the patient has been investigated for the presence of any neurological illness as the cause of her abnormal movements. Her MRI scan of the brain, serum and urine copper levels, slit lamp microscopy for the KF ring, complete blood count, TLC, DLC, and USG of the abdomen did not reveal any abnormalities. Her thyroid function tests were deranged subsequent to the introduction of tablet lithium carbonate which was restored to normal after the introduction of tablet eltroxin.\\\\nDystonia is a syndrome of sustained muscle contractions that produce twisting and repetitive movements or abnormal postures. The descriptions of the extent and severity of muscle involvement are variable, ranging from intermittent contraction limited to a single body region, to generalized dystonia involving the limbs and axial muscles.\\\\nEver since the introduction of the term, “dystonia” by Oppenhiem in the early part of the twentieth century, it has been an area of focused attention of the neurologists. In 1973, Keegan and Rajput introduced the term, “” to describe drug-induced, sustained muscle spasm causing repetitive movements or abnormal postures. “” was a term introduced by Burke in 1982, the description of which required the presence of chronic dystonia, a history of antipsychotic drug treatment preceding or concurrent with the onset of dystonia, the exclusion of known causes of secondary dystonia by appropriate clinical and laboratory evaluation, and a negative family history of dystonia for definitive diagnosis.\\\\nThe dystonia could be classified based on the region(s) of the body involved. Involvement of isolated regions like the face, neck, and arms would be labeled as focal dystonia, whereas simultaneous involvement of two or more contiguous areas would be called segmental dystonia. When the clinical picture is that of involvement of two or more noncontiguous regions, the label used is, “multifocal” and the involvement of one leg and one other body region makes it the generalized type.\\\\nThe symptoms of tardive dystonia could begin even after a few days or weeks of exposure to the offending agent. Tardive dystonia is prevalent in 0.5–21.6% of the patients who are treated with neuroleptics.\\\\nThe syndrome of tardive dystonia has been reported with most of the typical antipsychotics.[] It has been associated with the atypical antipsychotics, namely risperidone, olanzapine, quetiapine, and aripiprazole. Reports of tardive dystonia developing with the use of atypical antipsychotics have been predominantly in the cases of nonaffective psychosis and in the adult population in the age ranges of the midthirties and forties. Our case is the first case of an affective illness in an adolescent girl developing tardive dystonia on olanzapine. The aggravation of the clinical features with the inadvertent reintroduction of the medication suggests olanzapine is the offending agent. With the growing acceptance of olanzapine as the first-line therapy for the manic phase of bipolar illness and as a mood stabilizer for the maintenance therapy, one needs to be cautious about the emergence of this troublesome adverse effect of this therapy. The patient has shown some response to the introduction of tetrabenazine.'"
      ]
     },
     "execution_count": 11,
     "metadata": {},
     "output_type": "execute_result"
    }
   ],
   "source": [
    "example_note=datasets['aug_med_notes']['full_note'][0]\n",
    "example_note"
   ]
  },
  {
   "cell_type": "code",
   "execution_count": 12,
   "id": "c903e73a-8bd2-48b3-8d6f-f771372613f8",
   "metadata": {},
   "outputs": [],
   "source": [
    "# example_note = \"\"\"A a sixteen year-old girl, presented to our Outpatient department with the complaints of discomfort in the neck and lower back as well as restriction of body movements. She was not able to maintain an erect posture and would tend to fall on either side while standing up from a sitting position. She would keep her head turned to the right and upwards due to the sustained contraction of the neck muscles. There was a sideways bending of the back in the lumbar region. To counter the abnormal positioning of the back and neck, she would keep her limbs in a specific position to allow her body weight to be supported. Due to the restrictions with the body movements at the neck and in the lumbar region, she would require assistance in standing and walking. She would require her parents to help her with daily chores, including all activities of self-care.\\nShe had been experiencing these difficulties for the past four months since when she was introduced to olanzapine tablets for the control of her exacerbated mental illness. This was not her first experience with this drug over the past seven years since she had been diagnosed with bipolar affective disorder. Her first episode of the affective disorder was that of mania at the age of eleven which was managed with the use of olanzapine tablets in 2.5–10 mg doses per day at different times. The patient developed pain and discomfort in her neck within the second week of being put on tablet olanzapine at a dose of 5 mg per day. This was associated with a sustained and abnormal contraction of the neck muscles that would pull her head to the right in an upward direction. These features had persisted for the first three years of her illness with a varying intensity, distress, and dysfunction which would tend to correlate with the dose of olanzapine. Apart from a brief period of around three weeks when she was given tablet trihexyphenidyl 4 mg per day for rigidity in her upper limbs, she was not prescribed any other psychotropic medication. The rigidity showed good response to this medication which was subsequently stopped. The introduction and subsequent withdrawal of this medication did not bring about any change in the sustained abnormal contraction of her neck muscles.\\nImprovement and subsequent remission of the mood symptoms of the patient provided the treatment team with an opportunity to stop olanzapine. The discomfort in the neck and the abnormal movement of the neck muscles persisted over the next three months’ period when she was off olanzapine without any significant change, even with a trial of propranolol, trihexyphenidyl, and phenargan injection. Reintroduction of olanzapine (at a dose of 2.5 mg per day) after a gap of three months for the reemergence of some behavioral features led to a slight aggravation of the already existing abnormal movement and posturing of the neck.\\nWith improvement in the clinical picture, olanzapine was reduced and stopped. She was put on tablet sodium valproate, 1000 mg per day during this period for the stabilization of her mood when she was also given escitalopram for a period of three months for her depressive features. The patient responded well to this change in medication, but she developed amenorrhea for which no cause was established after a detailed gynecological evaluation. Keeping in mind the possibility of valproate-induced menstrual disturbance, she was shifted to tablet lithium 450 mg per day. The patient was well maintained on this medication for a period of around two years. However, she developed hypothyroidism for which eltroxin was introduced at a dose of 50 micrograms per day.\\nDuring this period of two years and seven months, the abnormal contraction of the neck muscles and the abnormal positioning of the head improved slightly, and with the improvement, it would cause less discomfort and interference in her activities. However, these movements failed to disappear completely. Another exacerbation of the mood symptoms in the form of mania warranted a need for the introduction of olanzapine (by a different treatment team) and the patient was reintroduced to 10 mg olanzapine on a daily basis, which led to the current presentation as described earlier.\\nAfter the case was seen at our institute, the psychotropic medications were stopped as her mood symptoms had remitted and she was put on tablet tetrabenazine (built up to 75 mg per day in divided doses) with which the patient had started showing some response with an improvement in abnormal movements of the muscles of the neck as well as the back. She is now able to stand with support and can do some daily chores on her own. The pain and discomfort in the back and neck have also reduced.\\nDuring the course of the illness, the patient has been investigated for the presence of any neurological illness as the cause of her abnormal movements. Her MRI scan of the brain, serum and urine copper levels, slit lamp microscopy for the KF ring, complete blood count, TLC, DLC, and USG of the abdomen did not reveal any abnormalities. Her thyroid function tests were deranged subsequent to the introduction of tablet lithium carbonate which was restored to normal after the introduction of tablet eltroxin.\\nDystonia is a syndrome of sustained muscle contractions that produce twisting and repetitive movements or abnormal postures. The descriptions of the extent and severity of muscle involvement are variable, ranging from intermittent contraction limited to a single body region, to generalized dystonia involving the limbs and axial muscles.\\nEver since the introduction of the term, “dystonia” by Oppenhiem in the early part of the twentieth century, it has been an area of focused attention of the neurologists. In 1973, Keegan and Rajput introduced the term, “” to describe drug-induced, sustained muscle spasm causing repetitive movements or abnormal postures. “” was a term introduced by Burke in 1982, the description of which required the presence of chronic dystonia, a history of antipsychotic drug treatment preceding or concurrent with the onset of dystonia, the exclusion of known causes of secondary dystonia by appropriate clinical and laboratory evaluation, and a negative family history of dystonia for definitive diagnosis.\\nThe dystonia could be classified based on the region(s) of the body involved. Involvement of isolated regions like the face, neck, and arms would be labeled as focal dystonia, whereas simultaneous involvement of two or more contiguous areas would be called segmental dystonia. When the clinical picture is that of involvement of two or more noncontiguous regions, the label used is, “multifocal” and the involvement of one leg and one other body region makes it the generalized type.\\nThe symptoms of tardive dystonia could begin even after a few days or weeks of exposure to the offending agent. Tardive dystonia is prevalent in 0.5–21.6% of the patients who are treated with neuroleptics.\\nThe syndrome of tardive dystonia has been reported with most of the typical antipsychotics.[] It has been associated with the atypical antipsychotics, namely risperidone, olanzapine, quetiapine, and aripiprazole. Reports of tardive dystonia developing with the use of atypical antipsychotics have been predominantly in the cases of nonaffective psychosis and in the adult population in the age ranges of the midthirties and forties. Our case is the first case of an affective illness in an adolescent girl developing tardive dystonia on olanzapine. The aggravation of the clinical features with the inadvertent reintroduction of the medication suggests olanzapine is the offending agent. With the growing acceptance of olanzapine as the first-line therapy for the manic phase of bipolar illness and as a mood stabilizer for the maintenance therapy, one needs to be cautious about the emergence of this troublesome adverse effect of this therapy. The patient has shown some response to the introduction of tetrabenazine.\"\"\""
   ]
  },
  {
   "cell_type": "code",
   "execution_count": 13,
   "id": "29f54a44-7692-49c7-9fcb-4d7ee1be4124",
   "metadata": {},
   "outputs": [],
   "source": [
    "sentences = example_note.split('.')\n",
    "chunks = example_note.split('\\\\n')\n",
    "# len(example_note.split())"
   ]
  },
  {
   "cell_type": "code",
   "execution_count": 14,
   "id": "bb1151dc-4aef-4d29-8fc5-887bcb992982",
   "metadata": {},
   "outputs": [
    {
     "data": {
      "text/plain": [
       "12"
      ]
     },
     "execution_count": 14,
     "metadata": {},
     "output_type": "execute_result"
    }
   ],
   "source": [
    "# len(sentences)\n",
    "len(chunks)"
   ]
  },
  {
   "cell_type": "code",
   "execution_count": 15,
   "id": "fab88b10-3989-4998-bbb1-b8bee550f865",
   "metadata": {},
   "outputs": [
    {
     "data": {
      "text/plain": [
       "'A a sixteen year-old girl, presented to our Outpatient department with the complaints of discomfort in the neck and lower back as well as restriction of body movements. She was not able to maintain an erect posture and would tend to fall on either side while standing up from a sitting position. She would keep her head turned to the right and upwards due to the sustained contraction of the neck muscles. There was a sideways bending of the back in the lumbar region. To counter the abnormal positioning of the back and neck, she would keep her limbs in a specific position to allow her body weight to be supported. Due to the restrictions with the body movements at the neck and in the lumbar region, she would require assistance in standing and walking. She would require her parents to help her with daily chores, including all activities of self-care.'"
      ]
     },
     "execution_count": 15,
     "metadata": {},
     "output_type": "execute_result"
    }
   ],
   "source": [
    "chunks[0]"
   ]
  },
  {
   "cell_type": "code",
   "execution_count": 169,
   "id": "05102934-4aaa-4e0a-8212-a333c21a4f54",
   "metadata": {},
   "outputs": [
    {
     "data": {
      "text/plain": [
       "12"
      ]
     },
     "execution_count": 169,
     "metadata": {},
     "output_type": "execute_result"
    }
   ],
   "source": [
    "# initit_prompt = f\"\"\"<|im_start|>system\n",
    "# You are a medical assistant helping organize a patient's clinical notes that will presented sentence by sentence.\n",
    "\n",
    "# Your tasks is to classify the sentence I give you as one of the following keys \"symptoms_labs\", \"thought_process\", and \"diagnosis\":\n",
    "# symptoms_labs: \n",
    "# - All references to symptoms they are currently or was experiencing, test results, or lab findings\n",
    "# thought_process: \n",
    "# - The reasoning or consideration made by the doctor\n",
    "# diagnosis: \n",
    "# - The doctor's final or working diagnosis\n",
    "\n",
    "# Respond with only the category of the sentence\n",
    "# <|im_end|>\n",
    "# \"\"\"\n",
    "# Respond with a JSON containing the sentence as key and the classification as the value: \"symptoms_labs\", \"thought_process\", and \"diagnosis\". \n",
    "initit_prompt = \"\"\"<|im_start|>system\n",
    "You are a medical assistant helping organize a patient's clinical notes  that will presented by paragraph/chunk.\n",
    "\n",
    "Your tasks is to read through the chunk of a clinical note and classify different sentences as one of the following keys \"symptoms_labs\", \"thought_process\", and \"diagnosis\":\n",
    "symptoms_labs: \n",
    "- All references to symptoms they are currently or was experiencing, test results, or lab findings\n",
    "thought_process: \n",
    "- The reasoning, considerations, or requested labs made by the doctor\n",
    "diagnosis: \n",
    "- The doctor's final or working diagnosis, including the explanation or background of a diagnosis.\n",
    "\n",
    "Respond with a JSON **EXACTLY as structured:\n",
    "{'symptoms_labs': [sentence1, sentence2, ...],\n",
    "'thought_process': [sentence1, sentence2, ...],\n",
    "'diagnosis': [sentence1, sentence2, ...]\n",
    "}\n",
    "\n",
    "\n",
    "**Do not rephrase or paraphrase sentences. Use the original sentences exactly as provided.**\n",
    "<|im_end|>\n",
    "\"\"\"\n",
    "\n",
    "prompts = [f\"\"\"{initit_prompt}\n",
    "<|im_start|>user\n",
    "{chunk}\n",
    "<|im_end|>\n",
    "<|im_start|>assistant\n",
    "\"\"\" for chunk in chunks\n",
    "]\n",
    "len(prompts)"
   ]
  },
  {
   "cell_type": "code",
   "execution_count": 170,
   "id": "0d9286a6-bd92-4ff7-a91c-bc51bf0c3dad",
   "metadata": {},
   "outputs": [
    {
     "data": {
      "text/plain": [
       "'<|im_start|>system\\nYou are a medical assistant helping organize a patient\\'s clinical notes  that will presented by paragraph/chunk.\\n\\nYour tasks is to read through the chunk of a clinical note and classify different sentences as one of the following keys \"symptoms_labs\", \"thought_process\", and \"diagnosis\":\\nsymptoms_labs: \\n- All references to symptoms they are currently or was experiencing, test results, or lab findings\\nthought_process: \\n- The reasoning, considerations, or requested labs made by the doctor\\ndiagnosis: \\n- The doctor\\'s final or working diagnosis, including the explanation or background of a diagnosis.\\n\\nRespond with a JSON **EXACTLY as structured:\\n{\\'symptoms_labs\\': [sentence1, sentence2, ...],\\n\\'thought_process\\': [sentence1, sentence2, ...],\\n\\'diagnosis\\': [sentence1, sentence2, ...]\\n}\\n\\n\\n**Do not rephrase or paraphrase sentences. Use the original sentences exactly as provided.**\\n<|im_end|>\\n\\n<|im_start|>user\\nA a sixteen year-old girl, presented to our Outpatient department with the complaints of discomfort in the neck and lower back as well as restriction of body movements. She was not able to maintain an erect posture and would tend to fall on either side while standing up from a sitting position. She would keep her head turned to the right and upwards due to the sustained contraction of the neck muscles. There was a sideways bending of the back in the lumbar region. To counter the abnormal positioning of the back and neck, she would keep her limbs in a specific position to allow her body weight to be supported. Due to the restrictions with the body movements at the neck and in the lumbar region, she would require assistance in standing and walking. She would require her parents to help her with daily chores, including all activities of self-care.\\n<|im_end|>\\n<|im_start|>assistant\\n'"
      ]
     },
     "execution_count": 170,
     "metadata": {},
     "output_type": "execute_result"
    }
   ],
   "source": [
    "prompts[0]"
   ]
  },
  {
   "cell_type": "code",
   "execution_count": null,
   "id": "95c37c65-b2f6-4639-8565-b7fb34328de1",
   "metadata": {},
   "outputs": [],
   "source": [
    "# responses = []\n",
    "# for prompt in prompts:\n",
    "#     inputs = tokenizer(prompt, return_tensors=\"pt\").to(model.device)\n",
    "#     output = model.generate(**inputs, max_new_tokens=512, do_sample=False, temperature=0.0)\n",
    "#     response = tokenizer.decode(output[0], skip_special_tokens=True)\n",
    "#     responses.append(response)\n",
    "#     if len(responses) < 3:\n",
    "#         print(response)"
   ]
  },
  {
   "cell_type": "code",
   "execution_count": 281,
   "id": "dd00851d-6cd0-4e27-ab14-3261b4b358d2",
   "metadata": {},
   "outputs": [],
   "source": [
    "import json\n",
    "import re\n",
    "\n",
    "def json_to_dict(full_response:str):\n",
    "    match = re.search(r'assistant\\s*(\\{.*|\\d+:\\s*\".*?)$', full_response, re.DOTALL)\n",
    "    json_data = None\n",
    "    if match:\n",
    "        json_str = match.group(1)\n",
    "        try:\n",
    "            json_data = json.loads(json_str)\n",
    "            logger.info(\"Successful JSON parsed!\")\n",
    "        except json.JSONDecodeError as e:\n",
    "            # print(\"Invalid JSON:\", e)\n",
    "            logger.warning(\"Invalid JSON, trying conversion\")\n",
    "            try:\n",
    "                pattern = re.compile(r'\\d+:\\s*\"(.+?)\"\\s*[:\\-]*>*\\s*(\\w+)', re.DOTALL)\n",
    "                json_data = {}\n",
    "                # print(json_str)\n",
    "                for match in pattern.findall(json_str):\n",
    "                    # print(match)\n",
    "                    sentence, label = match\n",
    "                    cleaned_sentence = sentence.strip()\n",
    "                    json_data[cleaned_sentence] = label.strip()\n",
    "                assert len(output) > 0\n",
    "                logger.info(\"Successful conversion!\")\n",
    "            except:\n",
    "                logger.error(\"Provided data schema not parseable/known, skipping this chunk\")\n",
    "                json_data = None\n",
    "    else:\n",
    "        logger.error(\"Nothing found, bad example!\")\n",
    "\n",
    "    return json_data"
   ]
  },
  {
   "cell_type": "code",
   "execution_count": 253,
   "id": "336fbde5-3a9a-47bc-821f-bc770bfb6927",
   "metadata": {},
   "outputs": [],
   "source": [
    "# for t in test[0]:\n",
    "#     # print(t)\n",
    "#     print(json_to_dict(t))"
   ]
  },
  {
   "cell_type": "code",
   "execution_count": 264,
   "id": "43181f07-db68-42e8-a30e-cf8915de87ae",
   "metadata": {},
   "outputs": [],
   "source": [
    "# dataset_example_idx = 0\n",
    "# processed_dataset = {'sentence': [], 'class': []}"
   ]
  },
  {
   "cell_type": "code",
   "execution_count": 307,
   "id": "a8d774c4-a453-49e5-a0e8-aabdf792a823",
   "metadata": {},
   "outputs": [
    {
     "data": {
      "text/plain": [
       "569"
      ]
     },
     "execution_count": 307,
     "metadata": {},
     "output_type": "execute_result"
    }
   ],
   "source": [
    "# len(processed_dataset['class'])"
   ]
  },
  {
   "cell_type": "code",
   "execution_count": 306,
   "id": "65d65256-dd70-4e04-a2cb-df241735b73f",
   "metadata": {},
   "outputs": [
    {
     "data": {
      "text/plain": [
       "569"
      ]
     },
     "execution_count": 306,
     "metadata": {},
     "output_type": "execute_result"
    }
   ],
   "source": [
    "# segmented_dataset = {'case_id': []}\n",
    "# for _ in processed_dataset['class']:\n",
    "#     segmented_dataset['case_id'].append(-1)\n",
    "# len(segmented_dataset['case_id'])"
   ]
  },
  {
   "cell_type": "code",
   "execution_count": 326,
   "id": "900f6bac-9897-4f2f-8fc6-21a7d41adf96",
   "metadata": {},
   "outputs": [
    {
     "data": {
      "text/plain": [
       "569"
      ]
     },
     "execution_count": 326,
     "metadata": {},
     "output_type": "execute_result"
    }
   ],
   "source": [
    "# processed_dataset['case_id'] = segmented_dataset['case_id']\n",
    "# len(processed_dataset['case_id'])"
   ]
  },
  {
   "cell_type": "code",
   "execution_count": 324,
   "id": "e31c4f56-875d-42ed-8a82-8d7ebad63d93",
   "metadata": {},
   "outputs": [],
   "source": [
    "# processed_dataset['case_id'] = []\n",
    "# processed_dataset['case_id'].extend([-1 for _ in processed_dataset['class']])"
   ]
  },
  {
   "cell_type": "code",
   "execution_count": null,
   "id": "c8ee9ced-5d61-4be2-b02c-14008d5a692a",
   "metadata": {},
   "outputs": [],
   "source": []
  },
  {
   "cell_type": "code",
   "execution_count": 317,
   "id": "0d2c8a82-2b93-48fc-a608-7e6e80caf1d4",
   "metadata": {},
   "outputs": [],
   "source": [
    "# # len(datasets['aug_med_notes']['full_note'][0])\n",
    "# for _ in processed_example['class']:\n",
    "#     print('hi')"
   ]
  },
  {
   "cell_type": "code",
   "execution_count": null,
   "id": "9ac3cbd4-ec2e-4710-ac92-acaef918748b",
   "metadata": {
    "scrolled": true
   },
   "outputs": [
    {
     "name": "stderr",
     "output_type": "stream",
     "text": [
      "Preprocessing dataset:   0%|                                                                                                                                                        | 0/30000 [00:00<?, ?it/s]2025-05-30 19:14:24,052 || INFO || MedRL-CoT Setup - Preprocessing example 0\n",
      "2025-05-30 19:14:24,053 || INFO || MedRL-CoT Setup - Example 0 already complete, skipping\n",
      "2025-05-30 19:14:24,054 || INFO || MedRL-CoT Setup - Preprocessing example 1\n",
      "2025-05-30 19:14:24,055 || INFO || MedRL-CoT Setup - Example 1 already complete, skipping\n",
      "2025-05-30 19:14:24,055 || INFO || MedRL-CoT Setup - Preprocessing example 2\n",
      "2025-05-30 19:14:24,056 || INFO || MedRL-CoT Setup - Example 2 already complete, skipping\n",
      "2025-05-30 19:14:24,056 || INFO || MedRL-CoT Setup - Preprocessing example 3\n",
      "2025-05-30 19:14:24,057 || INFO || MedRL-CoT Setup - Example 3 already complete, skipping\n",
      "2025-05-30 19:14:24,058 || INFO || MedRL-CoT Setup - Preprocessing example 4\n",
      "2025-05-30 19:14:24,059 || INFO || MedRL-CoT Setup - Example 4 already complete, skipping\n",
      "2025-05-30 19:14:24,060 || INFO || MedRL-CoT Setup - Preprocessing example 5\n",
      "2025-05-30 19:14:24,061 || INFO || MedRL-CoT Setup - Example 5 already complete, skipping\n",
      "2025-05-30 19:14:24,061 || INFO || MedRL-CoT Setup - Preprocessing example 6\n",
      "2025-05-30 19:14:24,062 || INFO || MedRL-CoT Setup - Example 6 already complete, skipping\n",
      "2025-05-30 19:14:24,063 || INFO || MedRL-CoT Setup - Preprocessing example 7\n",
      "2025-05-30 19:14:24,063 || INFO || MedRL-CoT Setup - Example 7 already complete, skipping\n",
      "2025-05-30 19:14:24,064 || INFO || MedRL-CoT Setup - Preprocessing example 8\n",
      "2025-05-30 19:14:24,064 || INFO || MedRL-CoT Setup - Example 8 already complete, skipping\n",
      "2025-05-30 19:14:24,065 || INFO || MedRL-CoT Setup - Preprocessing example 9\n",
      "2025-05-30 19:14:24,066 || INFO || MedRL-CoT Setup - Example 9 already complete, skipping\n",
      "2025-05-30 19:14:24,067 || INFO || MedRL-CoT Setup - Preprocessing example 10\n",
      "2025-05-30 19:14:24,067 || INFO || MedRL-CoT Setup - Example 10 already complete, skipping\n",
      "2025-05-30 19:14:24,068 || INFO || MedRL-CoT Setup - Preprocessing example 11\n",
      "2025-05-30 19:14:24,068 || INFO || MedRL-CoT Setup - Example 11 already complete, skipping\n",
      "2025-05-30 19:14:24,069 || INFO || MedRL-CoT Setup - Preprocessing example 12\n",
      "2025-05-30 19:14:24,069 || INFO || MedRL-CoT Setup - Example 12 already complete, skipping\n",
      "2025-05-30 19:14:24,071 || INFO || MedRL-CoT Setup - Preprocessing example 13\n",
      "2025-05-30 19:14:24,071 || INFO || MedRL-CoT Setup - Example 13 already complete, skipping\n",
      "2025-05-30 19:14:24,072 || INFO || MedRL-CoT Setup - Preprocessing example 14\n",
      "2025-05-30 19:14:24,072 || INFO || MedRL-CoT Setup - Example 14 already complete, skipping\n",
      "2025-05-30 19:14:24,073 || INFO || MedRL-CoT Setup - Preprocessing example 15\n",
      "2025-05-30 19:14:24,074 || INFO || MedRL-CoT Setup - Example 15 already complete, skipping\n",
      "2025-05-30 19:14:24,074 || INFO || MedRL-CoT Setup - Preprocessing example 16\n",
      "2025-05-30 19:14:24,075 || INFO || MedRL-CoT Setup - Example 16 already complete, skipping\n",
      "2025-05-30 19:14:24,076 || INFO || MedRL-CoT Setup - Preprocessing example 17\n",
      "2025-05-30 19:14:24,076 || INFO || MedRL-CoT Setup - Example 17 already complete, skipping\n",
      "2025-05-30 19:14:24,077 || INFO || MedRL-CoT Setup - Preprocessing example 18\n",
      "2025-05-30 19:14:24,078 || INFO || MedRL-CoT Setup - Example 18 already complete, skipping\n",
      "2025-05-30 19:14:24,078 || INFO || MedRL-CoT Setup - Preprocessing example 19\n",
      "2025-05-30 19:14:24,079 || INFO || MedRL-CoT Setup - Example 19 already complete, skipping\n",
      "2025-05-30 19:14:24,080 || INFO || MedRL-CoT Setup - Preprocessing example 20\n",
      "2025-05-30 19:14:24,081 || INFO || MedRL-CoT Setup - Example 20 already complete, skipping\n",
      "2025-05-30 19:14:24,081 || INFO || MedRL-CoT Setup - Preprocessing example 21\n",
      "2025-05-30 19:14:24,082 || INFO || MedRL-CoT Setup - Example 21 already complete, skipping\n",
      "2025-05-30 19:14:24,083 || INFO || MedRL-CoT Setup - Preprocessing example 22\n",
      "2025-05-30 19:14:24,083 || INFO || MedRL-CoT Setup - Example 22 already complete, skipping\n",
      "2025-05-30 19:14:24,084 || INFO || MedRL-CoT Setup - Preprocessing example 23\n",
      "2025-05-30 19:14:24,084 || INFO || MedRL-CoT Setup - Example 23 already complete, skipping\n",
      "2025-05-30 19:14:24,085 || INFO || MedRL-CoT Setup - Preprocessing example 24\n",
      "2025-05-30 19:14:24,086 || INFO || MedRL-CoT Setup - Example 24 already complete, skipping\n",
      "2025-05-30 19:14:24,086 || INFO || MedRL-CoT Setup - Preprocessing example 25\n",
      "2025-05-30 19:14:24,087 || INFO || MedRL-CoT Setup - Example 25 already complete, skipping\n",
      "2025-05-30 19:14:24,088 || INFO || MedRL-CoT Setup - Preprocessing example 26\n",
      "2025-05-30 19:14:24,088 || INFO || MedRL-CoT Setup - Example 26 already complete, skipping\n",
      "2025-05-30 19:14:24,089 || INFO || MedRL-CoT Setup - Preprocessing example 27\n",
      "2025-05-30 19:14:24,090 || INFO || MedRL-CoT Setup - Example 27 already complete, skipping\n",
      "2025-05-30 19:14:24,090 || INFO || MedRL-CoT Setup - Preprocessing example 28\n",
      "2025-05-30 19:14:24,091 || INFO || MedRL-CoT Setup - Example 28 already complete, skipping\n",
      "2025-05-30 19:14:24,092 || INFO || MedRL-CoT Setup - Preprocessing example 29\n",
      "2025-05-30 19:14:24,093 || INFO || MedRL-CoT Setup - Example 29 already complete, skipping\n",
      "2025-05-30 19:14:24,093 || INFO || MedRL-CoT Setup - Preprocessing example 30\n",
      "2025-05-30 19:14:24,094 || INFO || MedRL-CoT Setup - Example 30 already complete, skipping\n",
      "2025-05-30 19:14:24,095 || INFO || MedRL-CoT Setup - Preprocessing example 31\n",
      "2025-05-30 19:14:24,095 || INFO || MedRL-CoT Setup - Example 31 already complete, skipping\n",
      "2025-05-30 19:14:24,096 || INFO || MedRL-CoT Setup - Preprocessing example 32\n",
      "\n",
      "Classifying prompts:   0%|                                                                                                                                                             | 0/34 [00:00<?, ?it/s]\u001b[A2025-05-30 19:14:37,704 || WARNING || MedRL-CoT Setup - Invalid JSON, trying conversion\n",
      "2025-05-30 19:14:37,705 || INFO || MedRL-CoT Setup - Successful conversion!\n",
      "\n",
      "Classifying prompts:   3%|████▍                                                                                                                                                | 1/34 [00:13<07:25, 13.50s/it]\u001b[A2025-05-30 19:14:44,665 || WARNING || MedRL-CoT Setup - Invalid JSON, trying conversion\n",
      "2025-05-30 19:14:44,666 || INFO || MedRL-CoT Setup - Successful conversion!\n",
      "\n",
      "Classifying prompts:   6%|████████▊                                                                                                                                            | 2/34 [00:20<05:08,  9.65s/it]\u001b[A2025-05-30 19:15:04,824 || WARNING || MedRL-CoT Setup - Invalid JSON, trying conversion\n",
      "2025-05-30 19:15:04,825 || INFO || MedRL-CoT Setup - Successful conversion!\n",
      "\n",
      "Classifying prompts:   9%|█████████████▏                                                                                                                                       | 3/34 [00:40<07:27, 14.45s/it]\u001b[A2025-05-30 19:15:18,027 || WARNING || MedRL-CoT Setup - Invalid JSON, trying conversion\n",
      "2025-05-30 19:15:18,028 || INFO || MedRL-CoT Setup - Successful conversion!\n",
      "\n",
      "Classifying prompts:  12%|█████████████████▌                                                                                                                                   | 4/34 [00:53<06:58, 13.96s/it]\u001b[A2025-05-30 19:15:47,320 || WARNING || MedRL-CoT Setup - Invalid JSON, trying conversion\n",
      "2025-05-30 19:15:47,322 || INFO || MedRL-CoT Setup - Successful conversion!\n",
      "\n",
      "Classifying prompts:  15%|█████████████████████▉                                                                                                                               | 5/34 [01:23<09:25, 19.49s/it]\u001b[A2025-05-30 19:16:00,446 || WARNING || MedRL-CoT Setup - Invalid JSON, trying conversion\n",
      "2025-05-30 19:16:00,447 || INFO || MedRL-CoT Setup - Successful conversion!\n",
      "\n",
      "Classifying prompts:  18%|██████████████████████████▎                                                                                                                          | 6/34 [01:36<08:05, 17.32s/it]\u001b[A2025-05-30 19:16:03,738 || INFO || MedRL-CoT Setup - Successful JSON parsed!\n",
      "\n",
      "Classifying prompts:  21%|██████████████████████████████▋                                                                                                                      | 7/34 [01:39<05:43, 12.74s/it]\u001b[A2025-05-30 19:16:09,570 || INFO || MedRL-CoT Setup - Successful JSON parsed!\n",
      "\n",
      "Classifying prompts:  24%|███████████████████████████████████                                                                                                                  | 8/34 [01:45<04:34, 10.54s/it]\u001b[A2025-05-30 19:16:41,474 || INFO || MedRL-CoT Setup - Successful JSON parsed!\n",
      "\n",
      "Classifying prompts:  26%|███████████████████████████████████████▍                                                                                                             | 9/34 [02:17<07:10, 17.22s/it]\u001b[A2025-05-30 19:16:51,616 || WARNING || MedRL-CoT Setup - Invalid JSON, trying conversion\n",
      "2025-05-30 19:16:51,616 || INFO || MedRL-CoT Setup - Successful conversion!\n",
      "\n",
      "Classifying prompts:  29%|███████████████████████████████████████████▌                                                                                                        | 10/34 [02:27<06:00, 15.03s/it]\u001b[A2025-05-30 19:16:58,574 || INFO || MedRL-CoT Setup - Successful JSON parsed!\n",
      "\n",
      "Classifying prompts:  32%|███████████████████████████████████████████████▉                                                                                                    | 11/34 [02:34<04:48, 12.56s/it]\u001b[A2025-05-30 19:17:13,573 || INFO || MedRL-CoT Setup - Successful JSON parsed!\n",
      "\n",
      "Classifying prompts:  35%|████████████████████████████████████████████████████▏                                                                                               | 12/34 [02:49<04:52, 13.30s/it]\u001b[A2025-05-30 19:17:35,410 || WARNING || MedRL-CoT Setup - Invalid JSON, trying conversion\n",
      "2025-05-30 19:17:35,411 || INFO || MedRL-CoT Setup - Successful conversion!\n",
      "\n",
      "Classifying prompts:  38%|████████████████████████████████████████████████████████▌                                                                                           | 13/34 [03:11<05:33, 15.89s/it]\u001b[A2025-05-30 19:17:43,489 || INFO || MedRL-CoT Setup - Successful JSON parsed!\n",
      "\n",
      "Classifying prompts:  41%|████████████████████████████████████████████████████████████▉                                                                                       | 14/34 [03:19<04:30, 13.53s/it]\u001b[A2025-05-30 19:18:05,432 || WARNING || MedRL-CoT Setup - Invalid JSON, trying conversion\n",
      "2025-05-30 19:18:05,433 || INFO || MedRL-CoT Setup - Successful conversion!\n",
      "\n",
      "Classifying prompts:  44%|█████████████████████████████████████████████████████████████████▎                                                                                  | 15/34 [03:41<05:05, 16.07s/it]\u001b[A2025-05-30 19:18:20,421 || INFO || MedRL-CoT Setup - Successful JSON parsed!\n",
      "\n",
      "Classifying prompts:  47%|█████████████████████████████████████████████████████████████████████▋                                                                              | 16/34 [03:56<04:43, 15.74s/it]\u001b[A2025-05-30 19:18:36,518 || INFO || MedRL-CoT Setup - Successful JSON parsed!\n",
      "\n",
      "Classifying prompts:  50%|██████████████████████████████████████████████████████████████████████████                                                                          | 17/34 [04:12<04:29, 15.85s/it]\u001b[A2025-05-30 19:18:45,232 || INFO || MedRL-CoT Setup - Successful JSON parsed!\n",
      "\n",
      "Classifying prompts:  53%|██████████████████████████████████████████████████████████████████████████████▎                                                                     | 18/34 [04:21<03:39, 13.70s/it]\u001b[A2025-05-30 19:18:57,923 || INFO || MedRL-CoT Setup - Successful JSON parsed!\n",
      "\n",
      "Classifying prompts:  56%|██████████████████████████████████████████████████████████████████████████████████▋                                                                 | 19/34 [04:33<03:21, 13.40s/it]\u001b[A2025-05-30 19:19:05,140 || INFO || MedRL-CoT Setup - Successful JSON parsed!\n",
      "\n",
      "Classifying prompts:  59%|███████████████████████████████████████████████████████████████████████████████████████                                                             | 20/34 [04:40<02:41, 11.54s/it]\u001b[A2025-05-30 19:19:14,828 || WARNING || MedRL-CoT Setup - Invalid JSON, trying conversion\n",
      "2025-05-30 19:19:14,828 || INFO || MedRL-CoT Setup - Successful conversion!\n",
      "\n",
      "Classifying prompts:  62%|███████████████████████████████████████████████████████████████████████████████████████████▍                                                        | 21/34 [04:50<02:22, 10.99s/it]\u001b[A2025-05-30 19:19:22,561 || INFO || MedRL-CoT Setup - Successful JSON parsed!\n",
      "\n",
      "Classifying prompts:  65%|███████████████████████████████████████████████████████████████████████████████████████████████▊                                                    | 22/34 [04:58<02:00, 10.01s/it]\u001b[A2025-05-30 19:19:27,723 || INFO || MedRL-CoT Setup - Successful JSON parsed!\n",
      "\n",
      "Classifying prompts:  68%|████████████████████████████████████████████████████████████████████████████████████████████████████                                                | 23/34 [05:03<01:34,  8.56s/it]\u001b[A2025-05-30 19:19:36,736 || INFO || MedRL-CoT Setup - Successful JSON parsed!\n",
      "\n",
      "Classifying prompts:  71%|████████████████████████████████████████████████████████████████████████████████████████████████████████▍                                           | 24/34 [05:12<01:26,  8.69s/it]\u001b[A2025-05-30 19:20:06,413 || WARNING || MedRL-CoT Setup - Invalid JSON, trying conversion\n",
      "2025-05-30 19:20:06,414 || INFO || MedRL-CoT Setup - Successful conversion!\n",
      "\n",
      "Classifying prompts:  74%|████████████████████████████████████████████████████████████████████████████████████████████████████████████▊                                       | 25/34 [05:42<02:14, 14.99s/it]\u001b[A2025-05-30 19:20:13,226 || INFO || MedRL-CoT Setup - Successful JSON parsed!\n",
      "\n",
      "Classifying prompts:  76%|█████████████████████████████████████████████████████████████████████████████████████████████████████████████████▏                                  | 26/34 [05:49<01:40, 12.54s/it]\u001b[A2025-05-30 19:20:34,980 || INFO || MedRL-CoT Setup - Successful JSON parsed!\n",
      "\n",
      "Classifying prompts:  79%|█████████████████████████████████████████████████████████████████████████████████████████████████████████████████████▌                              | 27/34 [06:10<01:47, 15.30s/it]\u001b[A2025-05-30 19:20:48,954 || INFO || MedRL-CoT Setup - Successful JSON parsed!\n",
      "\n",
      "Classifying prompts:  82%|█████████████████████████████████████████████████████████████████████████████████████████████████████████████████████████▉                          | 28/34 [06:24<01:29, 14.90s/it]\u001b[A2025-05-30 19:20:59,750 || WARNING || MedRL-CoT Setup - Invalid JSON, trying conversion\n",
      "2025-05-30 19:20:59,751 || INFO || MedRL-CoT Setup - Successful conversion!\n",
      "\n",
      "Classifying prompts:  85%|██████████████████████████████████████████████████████████████████████████████████████████████████████████████████████████████▏                     | 29/34 [06:35<01:08, 13.67s/it]\u001b[A2025-05-30 19:21:13,465 || INFO || MedRL-CoT Setup - Successful JSON parsed!\n",
      "\n",
      "Classifying prompts:  88%|██████████████████████████████████████████████████████████████████████████████████████████████████████████████████████████████████▌                 | 30/34 [06:49<00:54, 13.68s/it]\u001b[A2025-05-30 19:21:21,534 || INFO || MedRL-CoT Setup - Successful JSON parsed!\n",
      "\n",
      "Classifying prompts:  91%|██████████████████████████████████████████████████████████████████████████████████████████████████████████████████████████████████████▉             | 31/34 [06:57<00:35, 12.00s/it]\u001b[A2025-05-30 19:21:35,443 || INFO || MedRL-CoT Setup - Successful JSON parsed!\n",
      "\n",
      "Classifying prompts:  94%|███████████████████████████████████████████████████████████████████████████████████████████████████████████████████████████████████████████▎        | 32/34 [07:11<00:25, 12.57s/it]\u001b[A2025-05-30 19:21:44,004 || INFO || MedRL-CoT Setup - Successful JSON parsed!\n",
      "\n",
      "Classifying prompts:  97%|███████████████████████████████████████████████████████████████████████████████████████████████████████████████████████████████████████████████▋    | 33/34 [07:19<00:11, 11.37s/it]\u001b[A2025-05-30 19:21:57,254 || WARNING || MedRL-CoT Setup - Invalid JSON, trying conversion\n",
      "2025-05-30 19:21:57,255 || INFO || MedRL-CoT Setup - Successful conversion!\n",
      "\n",
      "Classifying prompts: 100%|████████████████████████████████████████████████████████████████████████████████████████████████████████████████████████████████████████████████████| 34/34 [07:33<00:00, 11.93s/it]\u001b[A\n",
      "                                                                                                                                                                                                              \u001b[A2025-05-30 19:21:57,259 || INFO || MedRL-CoT Setup - Dumping to save\n"
     ]
    },
    {
     "data": {
      "application/vnd.jupyter.widget-view+json": {
       "model_id": "956ed4dc9ed3413ca362b627e0145651",
       "version_major": 2,
       "version_minor": 0
      },
      "text/plain": [
       "Saving the dataset (0/1 shards):   0%|          | 0/683 [00:00<?, ? examples/s]"
      ]
     },
     "metadata": {},
     "output_type": "display_data"
    },
    {
     "name": "stderr",
     "output_type": "stream",
     "text": [
      "Preprocessing dataset:   0%|▏                                                                                                                                          | 33/30000 [07:33<114:19:31, 13.73s/it]2025-05-30 19:21:57,280 || INFO || MedRL-CoT Setup - Preprocessing example 33\n",
      "\n",
      "Classifying prompts:   0%|                                                                                                                                                              | 0/2 [00:00<?, ?it/s]\u001b[A2025-05-30 19:22:52,762 || WARNING || MedRL-CoT Setup - Invalid JSON, trying conversion\n",
      "2025-05-30 19:22:52,763 || INFO || MedRL-CoT Setup - Successful conversion!\n",
      "\n",
      "Classifying prompts:  50%|███████████████████████████████████████████████████████████████████████████                                                                           | 1/2 [00:55<00:55, 55.37s/it]\u001b[A2025-05-30 19:22:58,644 || INFO || MedRL-CoT Setup - Successful JSON parsed!\n",
      "\n",
      "Classifying prompts: 100%|██████████████████████████████████████████████████████████████████████████████████████████████████████████████████████████████████████████████████████| 2/2 [01:01<00:00, 26.26s/it]\u001b[A\n",
      "                                                                                                                                                                                                              \u001b[A2025-05-30 19:22:58,648 || INFO || MedRL-CoT Setup - Dumping to save\n"
     ]
    },
    {
     "data": {
      "application/vnd.jupyter.widget-view+json": {
       "model_id": "57fed766d10548f396edc65ef49a42fd",
       "version_major": 2,
       "version_minor": 0
      },
      "text/plain": [
       "Saving the dataset (0/1 shards):   0%|          | 0/699 [00:00<?, ? examples/s]"
      ]
     },
     "metadata": {},
     "output_type": "display_data"
    },
    {
     "name": "stderr",
     "output_type": "stream",
     "text": [
      "Preprocessing dataset:   0%|▏                                                                                                                                          | 34/30000 [08:34<130:46:51, 15.71s/it]2025-05-30 19:22:58,669 || INFO || MedRL-CoT Setup - Preprocessing example 34\n",
      "\n",
      "Classifying prompts:   0%|                                                                                                                                                              | 0/2 [00:00<?, ?it/s]\u001b[A2025-05-30 19:23:54,167 || WARNING || MedRL-CoT Setup - Invalid JSON, trying conversion\n",
      "2025-05-30 19:23:54,168 || INFO || MedRL-CoT Setup - Successful conversion!\n",
      "\n",
      "Classifying prompts:  50%|███████████████████████████████████████████████████████████████████████████                                                                           | 1/2 [00:55<00:55, 55.39s/it]\u001b[A2025-05-30 19:24:00,045 || INFO || MedRL-CoT Setup - Successful JSON parsed!\n",
      "\n",
      "Classifying prompts: 100%|██████████████████████████████████████████████████████████████████████████████████████████████████████████████████████████████████████████████████████| 2/2 [01:01<00:00, 26.26s/it]\u001b[A\n",
      "                                                                                                                                                                                                              \u001b[A2025-05-30 19:24:00,050 || INFO || MedRL-CoT Setup - Dumping to save\n"
     ]
    },
    {
     "data": {
      "application/vnd.jupyter.widget-view+json": {
       "model_id": "a0c98180bdf44400bb1cb2a465eb1641",
       "version_major": 2,
       "version_minor": 0
      },
      "text/plain": [
       "Saving the dataset (0/1 shards):   0%|          | 0/715 [00:00<?, ? examples/s]"
      ]
     },
     "metadata": {},
     "output_type": "display_data"
    },
    {
     "name": "stderr",
     "output_type": "stream",
     "text": [
      "Preprocessing dataset:   0%|▏                                                                                                                                          | 35/30000 [09:36<152:03:32, 18.27s/it]2025-05-30 19:24:00,072 || INFO || MedRL-CoT Setup - Preprocessing example 35\n",
      "\n",
      "Classifying prompts:   0%|                                                                                                                                                              | 0/1 [00:00<?, ?it/s]\u001b[A2025-05-30 19:25:23,860 || WARNING || MedRL-CoT Setup - Invalid JSON, trying conversion\n",
      "2025-05-30 19:25:23,861 || INFO || MedRL-CoT Setup - Successful conversion!\n",
      "\n",
      "Classifying prompts: 100%|██████████████████████████████████████████████████████████████████████████████████████████████████████████████████████████████████████████████████████| 1/1 [01:23<00:00, 83.68s/it]\u001b[A\n",
      "                                                                                                                                                                                                              \u001b[A2025-05-30 19:25:23,865 || INFO || MedRL-CoT Setup - Dumping to save\n"
     ]
    },
    {
     "data": {
      "application/vnd.jupyter.widget-view+json": {
       "model_id": "793f6a18e28c4d4fb86b8c70bdf15b5d",
       "version_major": 2,
       "version_minor": 0
      },
      "text/plain": [
       "Saving the dataset (0/1 shards):   0%|          | 0/738 [00:00<?, ? examples/s]"
      ]
     },
     "metadata": {},
     "output_type": "display_data"
    },
    {
     "name": "stderr",
     "output_type": "stream",
     "text": [
      "Preprocessing dataset:   0%|▏                                                                                                                                          | 36/30000 [10:59<192:26:21, 23.12s/it]2025-05-30 19:25:23,886 || INFO || MedRL-CoT Setup - Preprocessing example 36\n",
      "\n",
      "Classifying prompts:   0%|                                                                                                                                                              | 0/4 [00:00<?, ?it/s]\u001b[A2025-05-30 19:25:55,108 || WARNING || MedRL-CoT Setup - Invalid JSON, trying conversion\n",
      "2025-05-30 19:25:55,109 || INFO || MedRL-CoT Setup - Successful conversion!\n",
      "\n",
      "Classifying prompts:  25%|█████████████████████████████████████▌                                                                                                                | 1/4 [00:31<01:33, 31.11s/it]\u001b[A2025-05-30 19:26:26,505 || WARNING || MedRL-CoT Setup - Invalid JSON, trying conversion\n",
      "2025-05-30 19:26:26,505 || INFO || MedRL-CoT Setup - Successful conversion!\n",
      "\n",
      "Classifying prompts:  50%|███████████████████████████████████████████████████████████████████████████                                                                           | 2/4 [01:02<01:02, 31.28s/it]\u001b[A2025-05-30 19:26:59,085 || INFO || MedRL-CoT Setup - Successful JSON parsed!\n",
      "\n",
      "Classifying prompts:  75%|████████████████████████████████████████████████████████████████████████████████████████████████████████████████▌                                     | 3/4 [01:35<00:31, 31.87s/it]\u001b[A2025-05-30 19:27:22,286 || INFO || MedRL-CoT Setup - Successful JSON parsed!\n",
      "\n",
      "Classifying prompts: 100%|██████████████████████████████████████████████████████████████████████████████████████████████████████████████████████████████████████████████████████| 4/4 [01:58<00:00, 28.45s/it]\u001b[A\n",
      "                                                                                                                                                                                                              \u001b[A2025-05-30 19:27:22,290 || INFO || MedRL-CoT Setup - Dumping to save\n"
     ]
    },
    {
     "data": {
      "application/vnd.jupyter.widget-view+json": {
       "model_id": "bd8fac24fe4542bbbee3234223c7b0f7",
       "version_major": 2,
       "version_minor": 0
      },
      "text/plain": [
       "Saving the dataset (0/1 shards):   0%|          | 0/772 [00:00<?, ? examples/s]"
      ]
     },
     "metadata": {},
     "output_type": "display_data"
    },
    {
     "name": "stderr",
     "output_type": "stream",
     "text": [
      "Preprocessing dataset:   0%|▏                                                                                                                                          | 37/30000 [12:58<268:17:43, 32.24s/it]2025-05-30 19:27:22,313 || INFO || MedRL-CoT Setup - Preprocessing example 37\n",
      "\n",
      "Classifying prompts:   0%|                                                                                                                                                              | 0/2 [00:00<?, ?it/s]\u001b[A2025-05-30 19:28:17,855 || WARNING || MedRL-CoT Setup - Invalid JSON, trying conversion\n",
      "2025-05-30 19:28:17,856 || INFO || MedRL-CoT Setup - Successful conversion!\n",
      "\n",
      "Classifying prompts:  50%|███████████████████████████████████████████████████████████████████████████                                                                           | 1/2 [00:55<00:55, 55.43s/it]\u001b[A2025-05-30 19:28:23,727 || INFO || MedRL-CoT Setup - Successful JSON parsed!\n",
      "\n",
      "Classifying prompts: 100%|██████████████████████████████████████████████████████████████████████████████████████████████████████████████████████████████████████████████████████| 2/2 [01:01<00:00, 26.28s/it]\u001b[A\n",
      "                                                                                                                                                                                                              \u001b[A2025-05-30 19:28:23,732 || INFO || MedRL-CoT Setup - Dumping to save\n"
     ]
    },
    {
     "data": {
      "application/vnd.jupyter.widget-view+json": {
       "model_id": "d94e81e3425749498a425818bfa4dd41",
       "version_major": 2,
       "version_minor": 0
      },
      "text/plain": [
       "Saving the dataset (0/1 shards):   0%|          | 0/788 [00:00<?, ? examples/s]"
      ]
     },
     "metadata": {},
     "output_type": "display_data"
    },
    {
     "name": "stderr",
     "output_type": "stream",
     "text": [
      "Preprocessing dataset:   0%|▏                                                                                                                                          | 38/30000 [13:59<297:30:13, 35.75s/it]2025-05-30 19:28:23,754 || INFO || MedRL-CoT Setup - Preprocessing example 38\n",
      "\n",
      "Classifying prompts:   0%|                                                                                                                                                              | 0/2 [00:00<?, ?it/s]\u001b[A2025-05-30 19:29:19,269 || WARNING || MedRL-CoT Setup - Invalid JSON, trying conversion\n",
      "2025-05-30 19:29:19,271 || INFO || MedRL-CoT Setup - Successful conversion!\n",
      "\n",
      "Classifying prompts:  50%|███████████████████████████████████████████████████████████████████████████                                                                           | 1/2 [00:55<00:55, 55.41s/it]\u001b[A2025-05-30 19:29:25,150 || INFO || MedRL-CoT Setup - Successful JSON parsed!\n",
      "\n",
      "Classifying prompts: 100%|██████████████████████████████████████████████████████████████████████████████████████████████████████████████████████████████████████████████████████| 2/2 [01:01<00:00, 26.27s/it]\u001b[A\n",
      "                                                                                                                                                                                                              \u001b[A2025-05-30 19:29:25,155 || INFO || MedRL-CoT Setup - Dumping to save\n"
     ]
    },
    {
     "data": {
      "application/vnd.jupyter.widget-view+json": {
       "model_id": "8c9edd0c5ad14aff85bc334c6114b6e1",
       "version_major": 2,
       "version_minor": 0
      },
      "text/plain": [
       "Saving the dataset (0/1 shards):   0%|          | 0/804 [00:00<?, ? examples/s]"
      ]
     },
     "metadata": {},
     "output_type": "display_data"
    },
    {
     "name": "stderr",
     "output_type": "stream",
     "text": [
      "Preprocessing dataset:   0%|▏                                                                                                                                          | 39/30000 [15:01<328:48:43, 39.51s/it]2025-05-30 19:29:25,178 || INFO || MedRL-CoT Setup - Preprocessing example 39\n",
      "\n",
      "Classifying prompts:   0%|                                                                                                                                                              | 0/2 [00:00<?, ?it/s]\u001b[A2025-05-30 19:29:56,166 || INFO || MedRL-CoT Setup - Successful JSON parsed!\n",
      "\n",
      "Classifying prompts:  50%|███████████████████████████████████████████████████████████████████████████                                                                           | 1/2 [00:30<00:30, 30.88s/it]\u001b[A2025-05-30 19:30:36,058 || WARNING || MedRL-CoT Setup - Invalid JSON, trying conversion\n",
      "2025-05-30 19:30:36,059 || INFO || MedRL-CoT Setup - Successful conversion!\n",
      "\n",
      "Classifying prompts: 100%|██████████████████████████████████████████████████████████████████████████████████████████████████████████████████████████████████████████████████████| 2/2 [01:10<00:00, 36.18s/it]\u001b[A\n",
      "                                                                                                                                                                                                              \u001b[A2025-05-30 19:30:36,064 || INFO || MedRL-CoT Setup - Dumping to save\n"
     ]
    },
    {
     "data": {
      "application/vnd.jupyter.widget-view+json": {
       "model_id": "da1b748d5cfa4234927a70d8223d16a0",
       "version_major": 2,
       "version_minor": 0
      },
      "text/plain": [
       "Saving the dataset (0/1 shards):   0%|          | 0/828 [00:00<?, ? examples/s]"
      ]
     },
     "metadata": {},
     "output_type": "display_data"
    },
    {
     "name": "stderr",
     "output_type": "stream",
     "text": [
      "Preprocessing dataset:   0%|▏                                                                                                                                          | 40/30000 [16:12<374:02:20, 44.94s/it]2025-05-30 19:30:36,086 || INFO || MedRL-CoT Setup - Preprocessing example 40\n",
      "\n",
      "Classifying prompts:   0%|                                                                                                                                                             | 0/10 [00:00<?, ?it/s]\u001b[A2025-05-30 19:32:05,717 || WARNING || MedRL-CoT Setup - Invalid JSON, trying conversion\n",
      "2025-05-30 19:32:05,718 || INFO || MedRL-CoT Setup - Successful conversion!\n",
      "\n",
      "Classifying prompts:  10%|██████████████▉                                                                                                                                      | 1/10 [01:29<13:25, 89.52s/it]\u001b[A2025-05-30 19:32:09,618 || INFO || MedRL-CoT Setup - Successful JSON parsed!\n",
      "\n",
      "Classifying prompts:  20%|█████████████████████████████▊                                                                                                                       | 2/10 [01:33<05:13, 39.16s/it]\u001b[A2025-05-30 19:32:14,923 || INFO || MedRL-CoT Setup - Successful JSON parsed!\n",
      "\n",
      "Classifying prompts:  30%|████████████████████████████████████████████▋                                                                                                        | 3/10 [01:38<02:45, 23.70s/it]\u001b[A2025-05-30 19:32:26,439 || INFO || MedRL-CoT Setup - Successful JSON parsed!\n",
      "\n",
      "Classifying prompts:  40%|███████████████████████████████████████████████████████████▌                                                                                         | 4/10 [01:50<01:53, 18.89s/it]\u001b[A2025-05-30 19:32:35,504 || INFO || MedRL-CoT Setup - Successful JSON parsed!\n",
      "\n",
      "Classifying prompts:  50%|██████████████████████████████████████████████████████████████████████████▌                                                                          | 5/10 [01:59<01:16, 15.35s/it]\u001b[A2025-05-30 19:32:41,840 || INFO || MedRL-CoT Setup - Successful JSON parsed!\n",
      "\n",
      "Classifying prompts:  60%|█████████████████████████████████████████████████████████████████████████████████████████▍                                                           | 6/10 [02:05<00:49, 12.28s/it]\u001b[A2025-05-30 19:32:57,457 || INFO || MedRL-CoT Setup - Successful JSON parsed!\n",
      "\n",
      "Classifying prompts:  70%|████████████████████████████████████████████████████████████████████████████████████████████████████████▎                                            | 7/10 [02:21<00:40, 13.37s/it]\u001b[A2025-05-30 19:33:06,555 || WARNING || MedRL-CoT Setup - Invalid JSON, trying conversion\n",
      "2025-05-30 19:33:06,555 || INFO || MedRL-CoT Setup - Successful conversion!\n",
      "\n",
      "Classifying prompts:  80%|███████████████████████████████████████████████████████████████████████████████████████████████████████████████████████▏                             | 8/10 [02:30<00:24, 12.01s/it]\u001b[A2025-05-30 19:33:14,639 || INFO || MedRL-CoT Setup - Successful JSON parsed!\n",
      "\n",
      "Classifying prompts:  90%|██████████████████████████████████████████████████████████████████████████████████████████████████████████████████████████████████████               | 9/10 [02:38<00:10, 10.78s/it]\u001b[A2025-05-30 19:33:23,998 || INFO || MedRL-CoT Setup - Successful JSON parsed!\n",
      "\n",
      "Classifying prompts: 100%|████████████████████████████████████████████████████████████████████████████████████████████████████████████████████████████████████████████████████| 10/10 [02:47<00:00, 10.34s/it]\u001b[A\n",
      "                                                                                                                                                                                                              \u001b[A2025-05-30 19:33:24,002 || INFO || MedRL-CoT Setup - Dumping to save\n"
     ]
    },
    {
     "data": {
      "application/vnd.jupyter.widget-view+json": {
       "model_id": "1e71fc06b01742f8a8759b9b698a9ba1",
       "version_major": 2,
       "version_minor": 0
      },
      "text/plain": [
       "Saving the dataset (0/1 shards):   0%|          | 0/870 [00:00<?, ? examples/s]"
      ]
     },
     "metadata": {},
     "output_type": "display_data"
    },
    {
     "name": "stderr",
     "output_type": "stream",
     "text": [
      "Preprocessing dataset:   0%|▏                                                                                                                                          | 41/30000 [18:59<576:58:00, 69.33s/it]2025-05-30 19:33:24,024 || INFO || MedRL-CoT Setup - Preprocessing example 41\n",
      "\n",
      "Classifying prompts:   0%|                                                                                                                                                              | 0/8 [00:00<?, ?it/s]\u001b[A2025-05-30 19:33:43,901 || WARNING || MedRL-CoT Setup - Invalid JSON, trying conversion\n",
      "2025-05-30 19:33:43,902 || INFO || MedRL-CoT Setup - Successful conversion!\n",
      "\n",
      "Classifying prompts:  12%|██████████████████▊                                                                                                                                   | 1/8 [00:19<02:18, 19.77s/it]\u001b[A2025-05-30 19:33:59,140 || WARNING || MedRL-CoT Setup - Invalid JSON, trying conversion\n",
      "2025-05-30 19:33:59,141 || INFO || MedRL-CoT Setup - Successful conversion!\n",
      "\n",
      "Classifying prompts:  25%|█████████████████████████████████████▌                                                                                                                | 2/8 [00:35<01:42, 17.10s/it]\u001b[A2025-05-30 19:34:11,338 || WARNING || MedRL-CoT Setup - Invalid JSON, trying conversion\n",
      "2025-05-30 19:34:11,338 || INFO || MedRL-CoT Setup - Successful conversion!\n",
      "\n",
      "Classifying prompts:  38%|████████████████████████████████████████████████████████▎                                                                                             | 3/8 [00:47<01:14, 14.86s/it]\u001b[A2025-05-30 19:34:30,445 || INFO || MedRL-CoT Setup - Successful JSON parsed!\n",
      "\n",
      "Classifying prompts:  50%|███████████████████████████████████████████████████████████████████████████                                                                           | 4/8 [01:06<01:06, 16.54s/it]\u001b[A2025-05-30 19:34:43,603 || INFO || MedRL-CoT Setup - Successful JSON parsed!\n",
      "\n",
      "Classifying prompts:  62%|█████████████████████████████████████████████████████████████████████████████████████████████▊                                                        | 5/8 [01:19<00:45, 15.32s/it]\u001b[A2025-05-30 19:34:53,755 || WARNING || MedRL-CoT Setup - Invalid JSON, trying conversion\n",
      "2025-05-30 19:34:53,756 || INFO || MedRL-CoT Setup - Successful conversion!\n",
      "\n",
      "Classifying prompts:  75%|████████████████████████████████████████████████████████████████████████████████████████████████████████████████▌                                     | 6/8 [01:29<00:27, 13.56s/it]\u001b[A2025-05-30 19:35:29,837 || WARNING || MedRL-CoT Setup - Invalid JSON, trying conversion\n",
      "2025-05-30 19:35:29,838 || INFO || MedRL-CoT Setup - Successful conversion!\n",
      "\n",
      "Classifying prompts:  88%|███████████████████████████████████████████████████████████████████████████████████████████████████████████████████████████████████▎                  | 7/8 [02:05<00:20, 20.92s/it]\u001b[A2025-05-30 19:35:46,839 || INFO || MedRL-CoT Setup - Successful JSON parsed!\n",
      "\n",
      "Classifying prompts: 100%|██████████████████████████████████████████████████████████████████████████████████████████████████████████████████████████████████████████████████████| 8/8 [02:22<00:00, 19.68s/it]\u001b[A\n",
      "                                                                                                                                                                                                              \u001b[A2025-05-30 19:35:46,844 || INFO || MedRL-CoT Setup - Dumping to save\n"
     ]
    },
    {
     "data": {
      "application/vnd.jupyter.widget-view+json": {
       "model_id": "5fd32fe23ab045d4a1dac19652f5165c",
       "version_major": 2,
       "version_minor": 0
      },
      "text/plain": [
       "Saving the dataset (0/1 shards):   0%|          | 0/912 [00:00<?, ? examples/s]"
      ]
     },
     "metadata": {},
     "output_type": "display_data"
    },
    {
     "name": "stderr",
     "output_type": "stream",
     "text": [
      "Preprocessing dataset:   0%|▏                                                                                                                                          | 42/30000 [21:22<711:58:23, 85.56s/it]2025-05-30 19:35:46,866 || INFO || MedRL-CoT Setup - Preprocessing example 42\n",
      "\n",
      "Classifying prompts:   0%|                                                                                                                                                              | 0/1 [00:00<?, ?it/s]\u001b[A2025-05-30 19:36:54,438 || INFO || MedRL-CoT Setup - Successful JSON parsed!\n",
      "\n",
      "Classifying prompts: 100%|██████████████████████████████████████████████████████████████████████████████████████████████████████████████████████████████████████████████████████| 1/1 [01:07<00:00, 67.46s/it]\u001b[A\n",
      "                                                                                                                                                                                                              \u001b[A2025-05-30 19:36:54,443 || INFO || MedRL-CoT Setup - Dumping to save\n"
     ]
    },
    {
     "data": {
      "application/vnd.jupyter.widget-view+json": {
       "model_id": "704685859d31439dad8cdc718298928a",
       "version_major": 2,
       "version_minor": 0
      },
      "text/plain": [
       "Saving the dataset (0/1 shards):   0%|          | 0/932 [00:00<?, ? examples/s]"
      ]
     },
     "metadata": {},
     "output_type": "display_data"
    },
    {
     "name": "stderr",
     "output_type": "stream",
     "text": [
      "Preprocessing dataset:   0%|▏                                                                                                                                          | 43/30000 [22:30<676:07:23, 81.25s/it]2025-05-30 19:36:54,463 || INFO || MedRL-CoT Setup - Preprocessing example 43\n",
      "\n",
      "Classifying prompts:   0%|                                                                                                                                                              | 0/3 [00:00<?, ?it/s]\u001b[A2025-05-30 19:37:23,806 || ERROR || MedRL-CoT Setup - Nothing found, bad example!\n",
      "\n",
      "Classifying prompts:  33%|██████████████████████████████████████████████████                                                                                                    | 1/3 [00:29<00:58, 29.23s/it]\u001b[A2025-05-30 19:37:37,348 || WARNING || MedRL-CoT Setup - Invalid JSON, trying conversion\n",
      "2025-05-30 19:37:37,349 || INFO || MedRL-CoT Setup - Successful conversion!\n",
      "\n",
      "Classifying prompts:  67%|████████████████████████████████████████████████████████████████████████████████████████████████████                                                  | 2/3 [00:42<00:20, 20.00s/it]\u001b[A2025-05-30 19:38:07,245 || WARNING || MedRL-CoT Setup - Invalid JSON, trying conversion\n",
      "2025-05-30 19:38:07,246 || INFO || MedRL-CoT Setup - Successful conversion!\n",
      "\n",
      "Classifying prompts: 100%|██████████████████████████████████████████████████████████████████████████████████████████████████████████████████████████████████████████████████████| 3/3 [01:12<00:00, 24.52s/it]\u001b[A\n",
      "                                                                                                                                                                                                              \u001b[A2025-05-30 19:38:07,250 || INFO || MedRL-CoT Setup - Dumping to save\n"
     ]
    },
    {
     "data": {
      "application/vnd.jupyter.widget-view+json": {
       "model_id": "29a8c7dcb0474a199d295a33e3b9ad9c",
       "version_major": 2,
       "version_minor": 0
      },
      "text/plain": [
       "Saving the dataset (0/1 shards):   0%|          | 0/944 [00:00<?, ? examples/s]"
      ]
     },
     "metadata": {},
     "output_type": "display_data"
    },
    {
     "name": "stderr",
     "output_type": "stream",
     "text": [
      "Preprocessing dataset:   0%|▏                                                                                                                                          | 44/30000 [23:43<658:11:00, 79.10s/it]2025-05-30 19:38:07,274 || INFO || MedRL-CoT Setup - Preprocessing example 44\n",
      "\n",
      "Classifying prompts:   0%|                                                                                                                                                              | 0/3 [00:00<?, ?it/s]\u001b[A2025-05-30 19:38:29,321 || INFO || MedRL-CoT Setup - Successful JSON parsed!\n",
      "\n",
      "Classifying prompts:  33%|██████████████████████████████████████████████████                                                                                                    | 1/3 [00:21<00:43, 21.94s/it]\u001b[A2025-05-30 19:38:59,838 || INFO || MedRL-CoT Setup - Successful JSON parsed!\n",
      "\n",
      "Classifying prompts:  67%|████████████████████████████████████████████████████████████████████████████████████████████████████                                                  | 2/3 [00:52<00:26, 26.98s/it]\u001b[A2025-05-30 19:39:16,669 || WARNING || MedRL-CoT Setup - Invalid JSON, trying conversion\n",
      "2025-05-30 19:39:16,670 || INFO || MedRL-CoT Setup - Successful conversion!\n",
      "\n",
      "Classifying prompts: 100%|██████████████████████████████████████████████████████████████████████████████████████████████████████████████████████████████████████████████████████| 3/3 [01:09<00:00, 22.35s/it]\u001b[A\n",
      "                                                                                                                                                                                                              \u001b[A2025-05-30 19:39:16,675 || INFO || MedRL-CoT Setup - Dumping to save\n"
     ]
    },
    {
     "data": {
      "application/vnd.jupyter.widget-view+json": {
       "model_id": "2b8483ef14d64eaa8cff43a9987c4074",
       "version_major": 2,
       "version_minor": 0
      },
      "text/plain": [
       "Saving the dataset (0/1 shards):   0%|          | 0/966 [00:00<?, ? examples/s]"
      ]
     },
     "metadata": {},
     "output_type": "display_data"
    },
    {
     "name": "stderr",
     "output_type": "stream",
     "text": [
      "Preprocessing dataset:   0%|▏                                                                                                                                          | 45/30000 [24:52<636:39:47, 76.51s/it]2025-05-30 19:39:16,699 || INFO || MedRL-CoT Setup - Preprocessing example 45\n",
      "\n",
      "Classifying prompts:   0%|                                                                                                                                                              | 0/6 [00:00<?, ?it/s]\u001b[A2025-05-30 19:39:30,537 || WARNING || MedRL-CoT Setup - Invalid JSON, trying conversion\n",
      "2025-05-30 19:39:30,538 || INFO || MedRL-CoT Setup - Successful conversion!\n",
      "\n",
      "Classifying prompts:  17%|█████████████████████████                                                                                                                             | 1/6 [00:13<01:08, 13.73s/it]\u001b[A2025-05-30 19:39:57,528 || WARNING || MedRL-CoT Setup - Invalid JSON, trying conversion\n",
      "2025-05-30 19:39:57,529 || INFO || MedRL-CoT Setup - Successful conversion!\n",
      "\n",
      "Classifying prompts:  33%|██████████████████████████████████████████████████                                                                                                    | 2/6 [00:40<01:26, 21.53s/it]\u001b[A2025-05-30 19:40:22,270 || WARNING || MedRL-CoT Setup - Invalid JSON, trying conversion\n",
      "2025-05-30 19:40:22,270 || INFO || MedRL-CoT Setup - Successful conversion!\n",
      "\n",
      "Classifying prompts:  50%|███████████████████████████████████████████████████████████████████████████                                                                           | 3/6 [01:05<01:08, 23.00s/it]\u001b[A2025-05-30 19:40:36,126 || WARNING || MedRL-CoT Setup - Invalid JSON, trying conversion\n",
      "2025-05-30 19:40:36,127 || INFO || MedRL-CoT Setup - Successful conversion!\n",
      "\n",
      "Classifying prompts:  67%|████████████████████████████████████████████████████████████████████████████████████████████████████                                                  | 4/6 [01:19<00:38, 19.39s/it]\u001b[A2025-05-30 19:41:01,142 || INFO || MedRL-CoT Setup - Successful JSON parsed!\n",
      "\n",
      "Classifying prompts:  83%|█████████████████████████████████████████████████████████████████████████████████████████████████████████████████████████████                         | 5/6 [01:44<00:21, 21.42s/it]\u001b[A2025-05-30 19:41:14,081 || WARNING || MedRL-CoT Setup - Invalid JSON, trying conversion\n",
      "2025-05-30 19:41:14,082 || INFO || MedRL-CoT Setup - Successful conversion!\n",
      "\n",
      "Classifying prompts: 100%|██████████████████████████████████████████████████████████████████████████████████████████████████████████████████████████████████████████████████████| 6/6 [01:57<00:00, 18.53s/it]\u001b[A\n",
      "                                                                                                                                                                                                              \u001b[A2025-05-30 19:41:14,086 || INFO || MedRL-CoT Setup - Dumping to save\n"
     ]
    },
    {
     "data": {
      "application/vnd.jupyter.widget-view+json": {
       "model_id": "dcd0b3a0392e48a2a46862fc1f4f4e80",
       "version_major": 2,
       "version_minor": 0
      },
      "text/plain": [
       "Saving the dataset (0/1 shards):   0%|          | 0/1005 [00:00<?, ? examples/s]"
      ]
     },
     "metadata": {},
     "output_type": "display_data"
    },
    {
     "name": "stderr",
     "output_type": "stream",
     "text": [
      "Preprocessing dataset:   0%|▏                                                                                                                                          | 46/30000 [26:50<730:37:18, 87.81s/it]2025-05-30 19:41:14,109 || INFO || MedRL-CoT Setup - Preprocessing example 46\n",
      "\n",
      "Classifying prompts:   0%|                                                                                                                                                              | 0/2 [00:00<?, ?it/s]\u001b[A2025-05-30 19:41:56,571 || ERROR || MedRL-CoT Setup - Nothing found, bad example!\n",
      "\n",
      "Classifying prompts:  50%|███████████████████████████████████████████████████████████████████████████                                                                           | 1/2 [00:42<00:42, 42.35s/it]\u001b[A2025-05-30 19:43:01,213 || WARNING || MedRL-CoT Setup - Invalid JSON, trying conversion\n",
      "2025-05-30 19:43:01,214 || INFO || MedRL-CoT Setup - Successful conversion!\n",
      "\n",
      "Classifying prompts: 100%|██████████████████████████████████████████████████████████████████████████████████████████████████████████████████████████████████████████████████████| 2/2 [01:46<00:00, 55.46s/it]\u001b[A\n",
      "                                                                                                                                                                                                              \u001b[A2025-05-30 19:43:01,218 || INFO || MedRL-CoT Setup - Dumping to save\n"
     ]
    },
    {
     "data": {
      "application/vnd.jupyter.widget-view+json": {
       "model_id": "2a83721acc1b4d1380fb03225185c63d",
       "version_major": 2,
       "version_minor": 0
      },
      "text/plain": [
       "Saving the dataset (0/1 shards):   0%|          | 0/1024 [00:00<?, ? examples/s]"
      ]
     },
     "metadata": {},
     "output_type": "display_data"
    },
    {
     "name": "stderr",
     "output_type": "stream",
     "text": [
      "Preprocessing dataset:   0%|▏                                                                                                                                          | 47/30000 [28:37<776:05:02, 93.28s/it]2025-05-30 19:43:01,242 || INFO || MedRL-CoT Setup - Preprocessing example 47\n",
      "\n",
      "Classifying prompts:   0%|                                                                                                                                                              | 0/5 [00:00<?, ?it/s]\u001b[A2025-05-30 19:43:23,038 || WARNING || MedRL-CoT Setup - Invalid JSON, trying conversion\n",
      "2025-05-30 19:43:23,038 || INFO || MedRL-CoT Setup - Successful conversion!\n",
      "\n",
      "Classifying prompts:  20%|██████████████████████████████                                                                                                                        | 1/5 [00:21<01:26, 21.69s/it]\u001b[A2025-05-30 19:43:31,709 || WARNING || MedRL-CoT Setup - Invalid JSON, trying conversion\n",
      "2025-05-30 19:43:31,710 || INFO || MedRL-CoT Setup - Successful conversion!\n",
      "\n",
      "Classifying prompts:  40%|████████████████████████████████████████████████████████████                                                                                          | 2/5 [00:30<00:42, 14.03s/it]\u001b[A2025-05-30 19:43:41,013 || WARNING || MedRL-CoT Setup - Invalid JSON, trying conversion\n",
      "2025-05-30 19:43:41,014 || INFO || MedRL-CoT Setup - Successful conversion!\n",
      "\n",
      "Classifying prompts:  60%|██████████████████████████████████████████████████████████████████████████████████████████                                                            | 3/5 [00:39<00:23, 11.87s/it]\u001b[A2025-05-30 19:44:17,938 || WARNING || MedRL-CoT Setup - Invalid JSON, trying conversion\n",
      "2025-05-30 19:44:17,939 || INFO || MedRL-CoT Setup - Successful conversion!\n",
      "\n",
      "Classifying prompts:  80%|████████████████████████████████████████████████████████████████████████████████████████████████████████████████████████                              | 4/5 [01:16<00:21, 21.76s/it]\u001b[A2025-05-30 19:44:33,161 || ERROR || MedRL-CoT Setup - Nothing found, bad example!\n",
      "\n",
      "Classifying prompts: 100%|██████████████████████████████████████████████████████████████████████████████████████████████████████████████████████████████████████████████████████| 5/5 [01:31<00:00, 19.40s/it]\u001b[A\n",
      "                                                                                                                                                                                                              \u001b[A2025-05-30 19:44:33,166 || INFO || MedRL-CoT Setup - Dumping to save\n"
     ]
    },
    {
     "data": {
      "application/vnd.jupyter.widget-view+json": {
       "model_id": "aaf613cd45fb4d00b9f565f75f680367",
       "version_major": 2,
       "version_minor": 0
      },
      "text/plain": [
       "Saving the dataset (0/1 shards):   0%|          | 0/1045 [00:00<?, ? examples/s]"
      ]
     },
     "metadata": {},
     "output_type": "display_data"
    },
    {
     "name": "stderr",
     "output_type": "stream",
     "text": [
      "Preprocessing dataset:   0%|▏                                                                                                                                          | 48/30000 [30:09<772:52:44, 92.89s/it]2025-05-30 19:44:33,190 || INFO || MedRL-CoT Setup - Preprocessing example 48\n",
      "\n",
      "Classifying prompts:   0%|                                                                                                                                                              | 0/4 [00:00<?, ?it/s]\u001b[A2025-05-30 19:44:58,601 || WARNING || MedRL-CoT Setup - Invalid JSON, trying conversion\n",
      "2025-05-30 19:44:58,602 || INFO || MedRL-CoT Setup - Successful conversion!\n",
      "\n",
      "Classifying prompts:  25%|█████████████████████████████████████▌                                                                                                                | 1/4 [00:25<01:15, 25.30s/it]\u001b[A2025-05-30 19:45:04,466 || INFO || MedRL-CoT Setup - Successful JSON parsed!\n",
      "\n",
      "Classifying prompts:  50%|███████████████████████████████████████████████████████████████████████████                                                                           | 2/4 [00:31<00:27, 13.87s/it]\u001b[A2025-05-30 19:45:29,868 || WARNING || MedRL-CoT Setup - Invalid JSON, trying conversion\n",
      "2025-05-30 19:45:29,869 || INFO || MedRL-CoT Setup - Successful conversion!\n",
      "\n",
      "Classifying prompts:  75%|████████████████████████████████████████████████████████████████████████████████████████████████████████████████▌                                     | 3/4 [00:56<00:19, 19.13s/it]\u001b[A2025-05-30 19:45:39,788 || WARNING || MedRL-CoT Setup - Invalid JSON, trying conversion\n",
      "2025-05-30 19:45:39,789 || INFO || MedRL-CoT Setup - Successful conversion!\n",
      "\n",
      "Classifying prompts: 100%|██████████████████████████████████████████████████████████████████████████████████████████████████████████████████████████████████████████████████████| 4/4 [01:06<00:00, 15.50s/it]\u001b[A\n",
      "                                                                                                                                                                                                              \u001b[A2025-05-30 19:45:39,794 || INFO || MedRL-CoT Setup - Dumping to save\n"
     ]
    },
    {
     "data": {
      "application/vnd.jupyter.widget-view+json": {
       "model_id": "b75d6cb9e8f24f4cbd14e0e5a894c2be",
       "version_major": 2,
       "version_minor": 0
      },
      "text/plain": [
       "Saving the dataset (0/1 shards):   0%|          | 0/1066 [00:00<?, ? examples/s]"
      ]
     },
     "metadata": {},
     "output_type": "display_data"
    },
    {
     "name": "stderr",
     "output_type": "stream",
     "text": [
      "Preprocessing dataset:   0%|▏                                                                                                                                          | 49/30000 [31:15<709:10:19, 85.24s/it]2025-05-30 19:45:39,816 || INFO || MedRL-CoT Setup - Preprocessing example 49\n",
      "\n",
      "Classifying prompts:   0%|                                                                                                                                                              | 0/6 [00:00<?, ?it/s]\u001b[A2025-05-30 19:45:53,665 || WARNING || MedRL-CoT Setup - Invalid JSON, trying conversion\n",
      "2025-05-30 19:45:53,666 || INFO || MedRL-CoT Setup - Successful conversion!\n",
      "\n",
      "Classifying prompts:  17%|█████████████████████████                                                                                                                             | 1/6 [00:13<01:08, 13.74s/it]\u001b[A2025-05-30 19:46:20,674 || WARNING || MedRL-CoT Setup - Invalid JSON, trying conversion\n",
      "2025-05-30 19:46:20,675 || INFO || MedRL-CoT Setup - Successful conversion!\n",
      "\n",
      "Classifying prompts:  33%|██████████████████████████████████████████████████                                                                                                    | 2/6 [00:40<01:26, 21.54s/it]\u001b[A2025-05-30 19:46:45,437 || WARNING || MedRL-CoT Setup - Invalid JSON, trying conversion\n",
      "2025-05-30 19:46:45,438 || INFO || MedRL-CoT Setup - Successful conversion!\n",
      "\n",
      "Classifying prompts:  50%|███████████████████████████████████████████████████████████████████████████                                                                           | 3/6 [01:05<01:09, 23.01s/it]\u001b[A2025-05-30 19:46:59,290 || WARNING || MedRL-CoT Setup - Invalid JSON, trying conversion\n",
      "2025-05-30 19:46:59,290 || INFO || MedRL-CoT Setup - Successful conversion!\n",
      "\n",
      "Classifying prompts:  67%|████████████████████████████████████████████████████████████████████████████████████████████████████                                                  | 4/6 [01:19<00:38, 19.40s/it]\u001b[A2025-05-30 19:47:24,339 || INFO || MedRL-CoT Setup - Successful JSON parsed!\n",
      "\n",
      "Classifying prompts:  83%|█████████████████████████████████████████████████████████████████████████████████████████████████████████████████████████████                         | 5/6 [01:44<00:21, 21.44s/it]\u001b[A2025-05-30 19:47:37,301 || WARNING || MedRL-CoT Setup - Invalid JSON, trying conversion\n",
      "2025-05-30 19:47:37,302 || INFO || MedRL-CoT Setup - Successful conversion!\n",
      "\n",
      "Classifying prompts: 100%|██████████████████████████████████████████████████████████████████████████████████████████████████████████████████████████████████████████████████████| 6/6 [01:57<00:00, 18.55s/it]\u001b[A\n",
      "                                                                                                                                                                                                              \u001b[A2025-05-30 19:47:37,307 || INFO || MedRL-CoT Setup - Dumping to save\n"
     ]
    },
    {
     "data": {
      "application/vnd.jupyter.widget-view+json": {
       "model_id": "8d3f365dc0f34ffea5aeb52f846c2872",
       "version_major": 2,
       "version_minor": 0
      },
      "text/plain": [
       "Saving the dataset (0/1 shards):   0%|          | 0/1105 [00:00<?, ? examples/s]"
      ]
     },
     "metadata": {},
     "output_type": "display_data"
    },
    {
     "name": "stderr",
     "output_type": "stream",
     "text": [
      "Preprocessing dataset:   0%|▏                                                                                                                                          | 50/30000 [33:13<788:04:06, 94.73s/it]2025-05-30 19:47:37,331 || INFO || MedRL-CoT Setup - Preprocessing example 50\n",
      "\n",
      "Classifying prompts:   0%|                                                                                                                                                              | 0/1 [00:00<?, ?it/s]\u001b[A2025-05-30 19:48:38,403 || ERROR || MedRL-CoT Setup - Nothing found, bad example!\n",
      "\n",
      "Classifying prompts: 100%|██████████████████████████████████████████████████████████████████████████████████████████████████████████████████████████████████████████████████████| 1/1 [01:00<00:00, 60.96s/it]\u001b[A\n",
      "                                                                                                                                                                                                              \u001b[A2025-05-30 19:48:38,407 || INFO || MedRL-CoT Setup - Dumping to save\n"
     ]
    },
    {
     "data": {
      "application/vnd.jupyter.widget-view+json": {
       "model_id": "50ee3c069953424a995fe491c2878208",
       "version_major": 2,
       "version_minor": 0
      },
      "text/plain": [
       "Saving the dataset (0/1 shards):   0%|          | 0/1105 [00:00<?, ? examples/s]"
      ]
     },
     "metadata": {},
     "output_type": "display_data"
    },
    {
     "name": "stderr",
     "output_type": "stream",
     "text": [
      "Preprocessing dataset:   0%|▏                                                                                                                                          | 51/30000 [34:14<705:18:55, 84.78s/it]2025-05-30 19:48:38,430 || INFO || MedRL-CoT Setup - Preprocessing example 51\n",
      "\n",
      "Classifying prompts:   0%|                                                                                                                                                              | 0/9 [00:00<?, ?it/s]\u001b[A2025-05-30 19:48:53,824 || WARNING || MedRL-CoT Setup - Invalid JSON, trying conversion\n",
      "2025-05-30 19:48:53,825 || INFO || MedRL-CoT Setup - Successful conversion!\n",
      "\n",
      "Classifying prompts:  11%|████████████████▋                                                                                                                                     | 1/9 [00:15<02:02, 15.28s/it]\u001b[A2025-05-30 19:49:04,880 || WARNING || MedRL-CoT Setup - Invalid JSON, trying conversion\n",
      "2025-05-30 19:49:04,881 || INFO || MedRL-CoT Setup - Successful conversion!\n",
      "\n",
      "Classifying prompts:  22%|█████████████████████████████████▎                                                                                                                    | 2/9 [00:26<01:29, 12.80s/it]\u001b[A2025-05-30 19:49:17,033 || WARNING || MedRL-CoT Setup - Invalid JSON, trying conversion\n",
      "2025-05-30 19:49:17,034 || INFO || MedRL-CoT Setup - Successful conversion!\n",
      "\n",
      "Classifying prompts:  33%|██████████████████████████████████████████████████                                                                                                    | 3/9 [00:38<01:15, 12.50s/it]\u001b[A2025-05-30 19:49:33,923 || WARNING || MedRL-CoT Setup - Invalid JSON, trying conversion\n",
      "2025-05-30 19:49:33,924 || INFO || MedRL-CoT Setup - Successful conversion!\n",
      "\n",
      "Classifying prompts:  44%|██████████████████████████████████████████████████████████████████▋                                                                                   | 4/9 [00:55<01:11, 14.23s/it]\u001b[A2025-05-30 19:49:51,948 || WARNING || MedRL-CoT Setup - Invalid JSON, trying conversion\n",
      "2025-05-30 19:49:51,949 || INFO || MedRL-CoT Setup - Successful conversion!\n",
      "\n",
      "Classifying prompts:  56%|███████████████████████████████████████████████████████████████████████████████████▎                                                                  | 5/9 [01:13<01:02, 15.60s/it]\u001b[A2025-05-30 19:49:58,614 || INFO || MedRL-CoT Setup - Successful JSON parsed!\n",
      "\n",
      "Classifying prompts:  67%|████████████████████████████████████████████████████████████████████████████████████████████████████                                                  | 6/9 [01:20<00:37, 12.56s/it]\u001b[A2025-05-30 19:50:18,794 || WARNING || MedRL-CoT Setup - Invalid JSON, trying conversion\n",
      "2025-05-30 19:50:18,795 || INFO || MedRL-CoT Setup - Successful conversion!\n",
      "\n",
      "Classifying prompts:  78%|████████████████████████████████████████████████████████████████████████████████████████████████████████████████████▋                                 | 7/9 [01:40<00:30, 15.05s/it]\u001b[A2025-05-30 19:50:28,651 || WARNING || MedRL-CoT Setup - Invalid JSON, trying conversion\n",
      "2025-05-30 19:50:28,652 || INFO || MedRL-CoT Setup - Successful conversion!\n",
      "\n",
      "Classifying prompts:  89%|█████████████████████████████████████████████████████████████████████████████████████████████████████████████████████████████████████▎                | 8/9 [01:50<00:13, 13.40s/it]\u001b[A2025-05-30 19:50:42,330 || ERROR || MedRL-CoT Setup - Nothing found, bad example!\n",
      "\n",
      "Classifying prompts: 100%|██████████████████████████████████████████████████████████████████████████████████████████████████████████████████████████████████████████████████████| 9/9 [02:03<00:00, 13.49s/it]\u001b[A\n",
      "                                                                                                                                                                                                              \u001b[A2025-05-30 19:50:42,335 || INFO || MedRL-CoT Setup - Dumping to save\n"
     ]
    },
    {
     "data": {
      "application/vnd.jupyter.widget-view+json": {
       "model_id": "70ff39193c4648f69cee768841ede4ab",
       "version_major": 2,
       "version_minor": 0
      },
      "text/plain": [
       "Saving the dataset (0/1 shards):   0%|          | 0/1134 [00:00<?, ? examples/s]"
      ]
     },
     "metadata": {},
     "output_type": "display_data"
    },
    {
     "name": "stderr",
     "output_type": "stream",
     "text": [
      "Preprocessing dataset:   0%|▏                                                                                                                                          | 52/30000 [36:18<802:00:06, 96.41s/it]2025-05-30 19:50:42,356 || INFO || MedRL-CoT Setup - Preprocessing example 52\n",
      "\n",
      "Classifying prompts:   0%|                                                                                                                                                              | 0/1 [00:00<?, ?it/s]\u001b[A2025-05-30 19:52:06,711 || ERROR || MedRL-CoT Setup - Nothing found, bad example!\n",
      "\n",
      "Classifying prompts: 100%|██████████████████████████████████████████████████████████████████████████████████████████████████████████████████████████████████████████████████████| 1/1 [01:24<00:00, 84.25s/it]\u001b[A\n",
      "                                                                                                                                                                                                              \u001b[A2025-05-30 19:52:06,716 || INFO || MedRL-CoT Setup - Dumping to save\n"
     ]
    },
    {
     "data": {
      "application/vnd.jupyter.widget-view+json": {
       "model_id": "8285089a9b294fdf805a81131daa1b98",
       "version_major": 2,
       "version_minor": 0
      },
      "text/plain": [
       "Saving the dataset (0/1 shards):   0%|          | 0/1134 [00:00<?, ? examples/s]"
      ]
     },
     "metadata": {},
     "output_type": "display_data"
    },
    {
     "name": "stderr",
     "output_type": "stream",
     "text": [
      "Preprocessing dataset:   0%|▏                                                                                                                                          | 53/30000 [37:42<772:10:29, 92.82s/it]2025-05-30 19:52:06,737 || INFO || MedRL-CoT Setup - Preprocessing example 53\n",
      "\n",
      "Classifying prompts:   0%|                                                                                                                                                              | 0/6 [00:00<?, ?it/s]\u001b[A2025-05-30 19:52:20,583 || WARNING || MedRL-CoT Setup - Invalid JSON, trying conversion\n",
      "2025-05-30 19:52:20,583 || INFO || MedRL-CoT Setup - Successful conversion!\n",
      "\n",
      "Classifying prompts:  17%|█████████████████████████                                                                                                                             | 1/6 [00:13<01:08, 13.74s/it]\u001b[A2025-05-30 19:52:47,591 || WARNING || MedRL-CoT Setup - Invalid JSON, trying conversion\n",
      "2025-05-30 19:52:47,592 || INFO || MedRL-CoT Setup - Successful conversion!\n",
      "\n",
      "Classifying prompts:  33%|██████████████████████████████████████████████████                                                                                                    | 2/6 [00:40<01:26, 21.54s/it]\u001b[A2025-05-30 19:53:12,349 || WARNING || MedRL-CoT Setup - Invalid JSON, trying conversion\n",
      "2025-05-30 19:53:12,350 || INFO || MedRL-CoT Setup - Successful conversion!\n",
      "\n",
      "Classifying prompts:  50%|███████████████████████████████████████████████████████████████████████████                                                                           | 3/6 [01:05<01:09, 23.01s/it]\u001b[A2025-05-30 19:53:26,209 || WARNING || MedRL-CoT Setup - Invalid JSON, trying conversion\n",
      "2025-05-30 19:53:26,210 || INFO || MedRL-CoT Setup - Successful conversion!\n",
      "\n",
      "Classifying prompts:  67%|████████████████████████████████████████████████████████████████████████████████████████████████████                                                  | 4/6 [01:19<00:38, 19.40s/it]\u001b[A2025-05-30 19:53:51,219 || INFO || MedRL-CoT Setup - Successful JSON parsed!\n",
      "\n",
      "Classifying prompts:  83%|█████████████████████████████████████████████████████████████████████████████████████████████████████████████████████████████                         | 5/6 [01:44<00:21, 21.42s/it]\u001b[A2025-05-30 19:54:04,167 || WARNING || MedRL-CoT Setup - Invalid JSON, trying conversion\n",
      "2025-05-30 19:54:04,168 || INFO || MedRL-CoT Setup - Successful conversion!\n",
      "\n",
      "Classifying prompts: 100%|██████████████████████████████████████████████████████████████████████████████████████████████████████████████████████████████████████████████████████| 6/6 [01:57<00:00, 18.54s/it]\u001b[A\n",
      "                                                                                                                                                                                                              \u001b[A2025-05-30 19:54:04,172 || INFO || MedRL-CoT Setup - Dumping to save\n"
     ]
    },
    {
     "data": {
      "application/vnd.jupyter.widget-view+json": {
       "model_id": "fe93a293c45d449e9e09820db5fe3a54",
       "version_major": 2,
       "version_minor": 0
      },
      "text/plain": [
       "Saving the dataset (0/1 shards):   0%|          | 0/1173 [00:00<?, ? examples/s]"
      ]
     },
     "metadata": {},
     "output_type": "display_data"
    },
    {
     "name": "stderr",
     "output_type": "stream",
     "text": [
      "Preprocessing dataset:   0%|▏                                                                                                                                         | 54/30000 [39:40<833:19:00, 100.18s/it]2025-05-30 19:54:04,195 || INFO || MedRL-CoT Setup - Preprocessing example 54\n",
      "\n",
      "Classifying prompts:   0%|                                                                                                                                                              | 0/2 [00:00<?, ?it/s]\u001b[A2025-05-30 19:54:46,653 || ERROR || MedRL-CoT Setup - Nothing found, bad example!\n",
      "\n",
      "Classifying prompts:  50%|███████████████████████████████████████████████████████████████████████████                                                                           | 1/2 [00:42<00:42, 42.35s/it]\u001b[A2025-05-30 19:55:51,269 || WARNING || MedRL-CoT Setup - Invalid JSON, trying conversion\n",
      "2025-05-30 19:55:51,270 || INFO || MedRL-CoT Setup - Successful conversion!\n",
      "\n",
      "Classifying prompts: 100%|██████████████████████████████████████████████████████████████████████████████████████████████████████████████████████████████████████████████████████| 2/2 [01:46<00:00, 55.45s/it]\u001b[A\n",
      "                                                                                                                                                                                                              \u001b[A2025-05-30 19:55:51,274 || INFO || MedRL-CoT Setup - Dumping to save\n"
     ]
    },
    {
     "data": {
      "application/vnd.jupyter.widget-view+json": {
       "model_id": "aa5b36c3dee1493b9ae5e0e61ab8f661",
       "version_major": 2,
       "version_minor": 0
      },
      "text/plain": [
       "Saving the dataset (0/1 shards):   0%|          | 0/1192 [00:00<?, ? examples/s]"
      ]
     },
     "metadata": {},
     "output_type": "display_data"
    },
    {
     "name": "stderr",
     "output_type": "stream",
     "text": [
      "Preprocessing dataset:   0%|▎                                                                                                                                         | 55/30000 [41:27<850:30:33, 102.25s/it]2025-05-30 19:55:51,299 || INFO || MedRL-CoT Setup - Preprocessing example 55\n",
      "\n",
      "Classifying prompts:   0%|                                                                                                                                                              | 0/5 [00:00<?, ?it/s]\u001b[A2025-05-30 19:56:21,303 || WARNING || MedRL-CoT Setup - Invalid JSON, trying conversion\n",
      "2025-05-30 19:56:21,304 || INFO || MedRL-CoT Setup - Successful conversion!\n",
      "\n",
      "Classifying prompts:  20%|██████████████████████████████                                                                                                                        | 1/5 [00:29<01:59, 29.90s/it]\u001b[A2025-05-30 19:56:45,576 || WARNING || MedRL-CoT Setup - Invalid JSON, trying conversion\n",
      "2025-05-30 19:56:45,577 || INFO || MedRL-CoT Setup - Successful conversion!\n",
      "\n",
      "Classifying prompts:  40%|████████████████████████████████████████████████████████████                                                                                          | 2/5 [00:54<01:19, 26.59s/it]\u001b[A2025-05-30 19:57:09,594 || INFO || MedRL-CoT Setup - Successful JSON parsed!\n",
      "\n",
      "Classifying prompts:  60%|██████████████████████████████████████████████████████████████████████████████████████████                                                            | 3/5 [01:18<00:50, 25.41s/it]\u001b[A2025-05-30 19:57:30,128 || INFO || MedRL-CoT Setup - Successful JSON parsed!\n",
      "\n",
      "Classifying prompts:  80%|████████████████████████████████████████████████████████████████████████████████████████████████████████████████████████                              | 4/5 [01:38<00:23, 23.49s/it]\u001b[A2025-05-30 19:57:55,958 || WARNING || MedRL-CoT Setup - Invalid JSON, trying conversion\n",
      "2025-05-30 19:57:55,959 || INFO || MedRL-CoT Setup - Successful conversion!\n",
      "\n",
      "Classifying prompts: 100%|██████████████████████████████████████████████████████████████████████████████████████████████████████████████████████████████████████████████████████| 5/5 [02:04<00:00, 24.33s/it]\u001b[A\n",
      "                                                                                                                                                                                                              \u001b[A2025-05-30 19:57:55,964 || INFO || MedRL-CoT Setup - Dumping to save\n"
     ]
    },
    {
     "data": {
      "application/vnd.jupyter.widget-view+json": {
       "model_id": "ea6f9a8c8f834d8b96ff0613dff9a0d5",
       "version_major": 2,
       "version_minor": 0
      },
      "text/plain": [
       "Saving the dataset (0/1 shards):   0%|          | 0/1232 [00:00<?, ? examples/s]"
      ]
     },
     "metadata": {},
     "output_type": "display_data"
    },
    {
     "name": "stderr",
     "output_type": "stream",
     "text": [
      "Preprocessing dataset:   0%|▎                                                                                                                                         | 56/30000 [43:31<906:20:12, 108.96s/it]2025-05-30 19:57:55,986 || INFO || MedRL-CoT Setup - Preprocessing example 56\n",
      "\n",
      "Classifying prompts:   0%|                                                                                                                                                              | 0/2 [00:00<?, ?it/s]\u001b[A2025-05-30 19:58:38,459 || ERROR || MedRL-CoT Setup - Nothing found, bad example!\n",
      "\n",
      "Classifying prompts:  50%|███████████████████████████████████████████████████████████████████████████                                                                           | 1/2 [00:42<00:42, 42.36s/it]\u001b[A2025-05-30 19:59:43,072 || WARNING || MedRL-CoT Setup - Invalid JSON, trying conversion\n",
      "2025-05-30 19:59:43,073 || INFO || MedRL-CoT Setup - Successful conversion!\n",
      "\n",
      "Classifying prompts: 100%|██████████████████████████████████████████████████████████████████████████████████████████████████████████████████████████████████████████████████████| 2/2 [01:46<00:00, 55.45s/it]\u001b[A\n",
      "                                                                                                                                                                                                              \u001b[A2025-05-30 19:59:43,077 || INFO || MedRL-CoT Setup - Dumping to save\n"
     ]
    },
    {
     "data": {
      "application/vnd.jupyter.widget-view+json": {
       "model_id": "4dbb03ebd6934a14aa9c277bff7a1046",
       "version_major": 2,
       "version_minor": 0
      },
      "text/plain": [
       "Saving the dataset (0/1 shards):   0%|          | 0/1251 [00:00<?, ? examples/s]"
      ]
     },
     "metadata": {},
     "output_type": "display_data"
    },
    {
     "name": "stderr",
     "output_type": "stream",
     "text": [
      "Preprocessing dataset:   0%|▎                                                                                                                                         | 57/30000 [45:19<901:41:44, 108.41s/it]2025-05-30 19:59:43,099 || INFO || MedRL-CoT Setup - Preprocessing example 57\n",
      "\n",
      "Classifying prompts:   0%|                                                                                                                                                              | 0/1 [00:00<?, ?it/s]\u001b[A2025-05-30 20:00:33,759 || WARNING || MedRL-CoT Setup - Invalid JSON, trying conversion\n",
      "2025-05-30 20:00:33,760 || INFO || MedRL-CoT Setup - Successful conversion!\n",
      "\n",
      "Classifying prompts: 100%|██████████████████████████████████████████████████████████████████████████████████████████████████████████████████████████████████████████████████████| 1/1 [00:50<00:00, 50.55s/it]\u001b[A\n",
      "                                                                                                                                                                                                              \u001b[A2025-05-30 20:00:33,764 || INFO || MedRL-CoT Setup - Dumping to save\n"
     ]
    },
    {
     "data": {
      "application/vnd.jupyter.widget-view+json": {
       "model_id": "1d428287994a466c9b08d5601169d0c7",
       "version_major": 2,
       "version_minor": 0
      },
      "text/plain": [
       "Saving the dataset (0/1 shards):   0%|          | 0/1266 [00:00<?, ? examples/s]"
      ]
     },
     "metadata": {},
     "output_type": "display_data"
    },
    {
     "name": "stderr",
     "output_type": "stream",
     "text": [
      "Preprocessing dataset:   0%|▎                                                                                                                                          | 58/30000 [46:09<757:48:40, 91.11s/it]2025-05-30 20:00:33,786 || INFO || MedRL-CoT Setup - Preprocessing example 58\n",
      "\n",
      "Classifying prompts:   0%|                                                                                                                                                              | 0/2 [00:00<?, ?it/s]\u001b[A2025-05-30 20:01:10,397 || ERROR || MedRL-CoT Setup - Nothing found, bad example!\n",
      "\n",
      "Classifying prompts:  50%|███████████████████████████████████████████████████████████████████████████                                                                           | 1/2 [00:36<00:36, 36.50s/it]\u001b[A2025-05-30 20:01:42,864 || INFO || MedRL-CoT Setup - Successful JSON parsed!\n",
      "\n",
      "Classifying prompts: 100%|██████████████████████████████████████████████████████████████████████████████████████████████████████████████████████████████████████████████████████| 2/2 [01:08<00:00, 34.13s/it]\u001b[A\n",
      "                                                                                                                                                                                                              \u001b[A2025-05-30 20:01:42,869 || INFO || MedRL-CoT Setup - Dumping to save\n"
     ]
    },
    {
     "data": {
      "application/vnd.jupyter.widget-view+json": {
       "model_id": "904819b06f2f4dc6a157346a6a8848f5",
       "version_major": 2,
       "version_minor": 0
      },
      "text/plain": [
       "Saving the dataset (0/1 shards):   0%|          | 0/1277 [00:00<?, ? examples/s]"
      ]
     },
     "metadata": {},
     "output_type": "display_data"
    },
    {
     "name": "stderr",
     "output_type": "stream",
     "text": [
      "Preprocessing dataset:   0%|▎                                                                                                                                          | 59/30000 [47:18<702:55:08, 84.52s/it]2025-05-30 20:01:42,891 || INFO || MedRL-CoT Setup - Preprocessing example 59\n",
      "\n",
      "Classifying prompts:   0%|                                                                                                                                                              | 0/2 [00:00<?, ?it/s]\u001b[A2025-05-30 20:02:25,373 || ERROR || MedRL-CoT Setup - Nothing found, bad example!\n",
      "\n",
      "Classifying prompts:  50%|███████████████████████████████████████████████████████████████████████████                                                                           | 1/2 [00:42<00:42, 42.37s/it]\u001b[A2025-05-30 20:03:30,017 || WARNING || MedRL-CoT Setup - Invalid JSON, trying conversion\n",
      "2025-05-30 20:03:30,018 || INFO || MedRL-CoT Setup - Successful conversion!\n",
      "\n",
      "Classifying prompts: 100%|██████████████████████████████████████████████████████████████████████████████████████████████████████████████████████████████████████████████████████| 2/2 [01:47<00:00, 55.47s/it]\u001b[A\n",
      "                                                                                                                                                                                                              \u001b[A2025-05-30 20:03:30,022 || INFO || MedRL-CoT Setup - Dumping to save\n"
     ]
    },
    {
     "data": {
      "application/vnd.jupyter.widget-view+json": {
       "model_id": "127393b26e8e40d5b3b08e1fa8a961b7",
       "version_major": 2,
       "version_minor": 0
      },
      "text/plain": [
       "Saving the dataset (0/1 shards):   0%|          | 0/1296 [00:00<?, ? examples/s]"
      ]
     },
     "metadata": {},
     "output_type": "display_data"
    },
    {
     "name": "stderr",
     "output_type": "stream",
     "text": [
      "Preprocessing dataset:   0%|▎                                                                                                                                          | 60/30000 [49:05<759:20:52, 91.30s/it]2025-05-30 20:03:30,047 || INFO || MedRL-CoT Setup - Preprocessing example 60\n",
      "\n",
      "Classifying prompts:   0%|                                                                                                                                                              | 0/7 [00:00<?, ?it/s]\u001b[A2025-05-30 20:05:05,216 || ERROR || MedRL-CoT Setup - Nothing found, bad example!\n",
      "\n",
      "Classifying prompts:  14%|█████████████████████▍                                                                                                                                | 1/7 [01:35<09:30, 95.06s/it]\u001b[A2025-05-30 20:05:12,731 || INFO || MedRL-CoT Setup - Successful JSON parsed!\n",
      "\n",
      "Classifying prompts:  29%|██████████████████████████████████████████▊                                                                                                           | 2/7 [01:42<03:37, 43.56s/it]\u001b[A2025-05-30 20:05:19,846 || INFO || MedRL-CoT Setup - Successful JSON parsed!\n",
      "\n",
      "Classifying prompts:  43%|████████████████████████████████████████████████████████████████▎                                                                                     | 3/7 [01:49<01:47, 26.92s/it]\u001b[A2025-05-30 20:05:39,477 || INFO || MedRL-CoT Setup - Successful JSON parsed!\n",
      "\n",
      "Classifying prompts:  57%|█████████████████████████████████████████████████████████████████████████████████████▋                                                                | 4/7 [02:09<01:12, 24.04s/it]\u001b[A2025-05-30 20:05:51,704 || INFO || MedRL-CoT Setup - Successful JSON parsed!\n",
      "\n",
      "Classifying prompts:  71%|███████████████████████████████████████████████████████████████████████████████████████████████████████████▏                                          | 5/7 [02:21<00:39, 19.78s/it]\u001b[A2025-05-30 20:06:18,253 || INFO || MedRL-CoT Setup - Successful JSON parsed!\n",
      "\n",
      "Classifying prompts:  86%|████████████████████████████████████████████████████████████████████████████████████████████████████████████████████████████████▌                     | 6/7 [02:48<00:22, 22.08s/it]\u001b[A2025-05-30 20:06:37,233 || WARNING || MedRL-CoT Setup - Invalid JSON, trying conversion\n",
      "2025-05-30 20:06:37,233 || INFO || MedRL-CoT Setup - Successful conversion!\n",
      "\n",
      "Classifying prompts: 100%|██████████████████████████████████████████████████████████████████████████████████████████████████████████████████████████████████████████████████████| 7/7 [03:07<00:00, 21.07s/it]\u001b[A\n",
      "                                                                                                                                                                                                              \u001b[A2025-05-30 20:06:37,238 || INFO || MedRL-CoT Setup - Dumping to save\n"
     ]
    },
    {
     "data": {
      "application/vnd.jupyter.widget-view+json": {
       "model_id": "be64644344c24e7989f54a6ef07571b9",
       "version_major": 2,
       "version_minor": 0
      },
      "text/plain": [
       "Saving the dataset (0/1 shards):   0%|          | 0/1319 [00:00<?, ? examples/s]"
      ]
     },
     "metadata": {},
     "output_type": "display_data"
    },
    {
     "name": "stderr",
     "output_type": "stream",
     "text": [
      "Preprocessing dataset:   0%|▎                                                                                                                                         | 61/30000 [52:13<998:30:58, 120.07s/it]2025-05-30 20:06:37,263 || INFO || MedRL-CoT Setup - Preprocessing example 61\n",
      "\n",
      "Classifying prompts:   0%|                                                                                                                                                              | 0/2 [00:00<?, ?it/s]\u001b[A2025-05-30 20:07:19,744 || ERROR || MedRL-CoT Setup - Nothing found, bad example!\n",
      "\n",
      "Classifying prompts:  50%|███████████████████████████████████████████████████████████████████████████                                                                           | 1/2 [00:42<00:42, 42.37s/it]\u001b[A2025-05-30 20:08:24,393 || WARNING || MedRL-CoT Setup - Invalid JSON, trying conversion\n",
      "2025-05-30 20:08:24,393 || INFO || MedRL-CoT Setup - Successful conversion!\n",
      "\n",
      "Classifying prompts: 100%|██████████████████████████████████████████████████████████████████████████████████████████████████████████████████████████████████████████████████████| 2/2 [01:47<00:00, 55.48s/it]\u001b[A\n",
      "                                                                                                                                                                                                              \u001b[A2025-05-30 20:08:24,398 || INFO || MedRL-CoT Setup - Dumping to save\n"
     ]
    },
    {
     "data": {
      "application/vnd.jupyter.widget-view+json": {
       "model_id": "6e74c1ab057c4732af1a031d4c4908bb",
       "version_major": 2,
       "version_minor": 0
      },
      "text/plain": [
       "Saving the dataset (0/1 shards):   0%|          | 0/1338 [00:00<?, ? examples/s]"
      ]
     },
     "metadata": {},
     "output_type": "display_data"
    },
    {
     "name": "stderr",
     "output_type": "stream",
     "text": [
      "Preprocessing dataset:   0%|▎                                                                                                                                         | 62/30000 [54:00<966:17:00, 116.19s/it]2025-05-30 20:08:24,419 || INFO || MedRL-CoT Setup - Preprocessing example 62\n",
      "\n",
      "Classifying prompts:   0%|                                                                                                                                                              | 0/7 [00:00<?, ?it/s]\u001b[A2025-05-30 20:08:50,823 || INFO || MedRL-CoT Setup - Successful JSON parsed!\n",
      "\n",
      "Classifying prompts:  14%|█████████████████████▍                                                                                                                                | 1/7 [00:26<02:37, 26.29s/it]\u001b[A2025-05-30 20:09:10,875 || WARNING || MedRL-CoT Setup - Invalid JSON, trying conversion\n",
      "2025-05-30 20:09:10,876 || INFO || MedRL-CoT Setup - Successful conversion!\n",
      "\n",
      "Classifying prompts:  29%|██████████████████████████████████████████▊                                                                                                           | 2/7 [00:46<01:53, 22.62s/it]\u001b[A2025-05-30 20:09:35,105 || WARNING || MedRL-CoT Setup - Invalid JSON, trying conversion\n",
      "2025-05-30 20:09:35,106 || INFO || MedRL-CoT Setup - Successful conversion!\n",
      "\n",
      "Classifying prompts:  43%|████████████████████████████████████████████████████████████████▎                                                                                     | 3/7 [01:10<01:33, 23.36s/it]\u001b[A2025-05-30 20:09:54,427 || WARNING || MedRL-CoT Setup - Invalid JSON, trying conversion\n",
      "2025-05-30 20:09:54,428 || INFO || MedRL-CoT Setup - Successful conversion!\n",
      "\n",
      "Classifying prompts:  57%|█████████████████████████████████████████████████████████████████████████████████████▋                                                                | 4/7 [01:29<01:05, 21.76s/it]\u001b[A2025-05-30 20:10:09,326 || INFO || MedRL-CoT Setup - Successful JSON parsed!\n",
      "\n",
      "Classifying prompts:  71%|███████████████████████████████████████████████████████████████████████████████████████████████████████████▏                                          | 5/7 [01:44<00:38, 19.29s/it]\u001b[A2025-05-30 20:10:15,610 || INFO || MedRL-CoT Setup - Successful JSON parsed!\n",
      "\n",
      "Classifying prompts:  86%|████████████████████████████████████████████████████████████████████████████████████████████████████████████████████████████████▌                     | 6/7 [01:51<00:14, 14.87s/it]\u001b[A2025-05-30 20:10:36,763 || INFO || MedRL-CoT Setup - Successful JSON parsed!\n",
      "\n",
      "Classifying prompts: 100%|██████████████████████████████████████████████████████████████████████████████████████████████████████████████████████████████████████████████████████| 7/7 [02:12<00:00, 16.92s/it]\u001b[A\n",
      "                                                                                                                                                                                                              \u001b[A2025-05-30 20:10:36,767 || INFO || MedRL-CoT Setup - Dumping to save\n"
     ]
    },
    {
     "data": {
      "application/vnd.jupyter.widget-view+json": {
       "model_id": "2c4b313f7a834758b79daedb72829653",
       "version_major": 2,
       "version_minor": 0
      },
      "text/plain": [
       "Saving the dataset (0/1 shards):   0%|          | 0/1372 [00:00<?, ? examples/s]"
      ]
     },
     "metadata": {},
     "output_type": "display_data"
    },
    {
     "name": "stderr",
     "output_type": "stream",
     "text": [
      "Preprocessing dataset:   0%|▎                                                                                                                                        | 63/30000 [56:12<1006:35:47, 121.05s/it]2025-05-30 20:10:36,789 || INFO || MedRL-CoT Setup - Preprocessing example 63\n",
      "\n",
      "Classifying prompts:   0%|                                                                                                                                                              | 0/6 [00:00<?, ?it/s]\u001b[A2025-05-30 20:10:50,628 || WARNING || MedRL-CoT Setup - Invalid JSON, trying conversion\n",
      "2025-05-30 20:10:50,629 || INFO || MedRL-CoT Setup - Successful conversion!\n",
      "\n",
      "Classifying prompts:  17%|█████████████████████████                                                                                                                             | 1/6 [00:13<01:08, 13.73s/it]\u001b[A2025-05-30 20:11:17,637 || WARNING || MedRL-CoT Setup - Invalid JSON, trying conversion\n",
      "2025-05-30 20:11:17,637 || INFO || MedRL-CoT Setup - Successful conversion!\n",
      "\n",
      "Classifying prompts:  33%|██████████████████████████████████████████████████                                                                                                    | 2/6 [00:40<01:26, 21.54s/it]\u001b[A2025-05-30 20:11:42,384 || WARNING || MedRL-CoT Setup - Invalid JSON, trying conversion\n",
      "2025-05-30 20:11:42,385 || INFO || MedRL-CoT Setup - Successful conversion!\n",
      "\n",
      "Classifying prompts:  50%|███████████████████████████████████████████████████████████████████████████                                                                           | 3/6 [01:05<01:09, 23.01s/it]\u001b[A2025-05-30 20:11:56,240 || WARNING || MedRL-CoT Setup - Invalid JSON, trying conversion\n",
      "2025-05-30 20:11:56,241 || INFO || MedRL-CoT Setup - Successful conversion!\n",
      "\n",
      "Classifying prompts:  67%|████████████████████████████████████████████████████████████████████████████████████████████████████                                                  | 4/6 [01:19<00:38, 19.39s/it]\u001b[A2025-05-30 20:12:21,257 || INFO || MedRL-CoT Setup - Successful JSON parsed!\n",
      "\n",
      "Classifying prompts:  83%|█████████████████████████████████████████████████████████████████████████████████████████████████████████████████████████████                         | 5/6 [01:44<00:21, 21.42s/it]\u001b[A2025-05-30 20:12:34,210 || WARNING || MedRL-CoT Setup - Invalid JSON, trying conversion\n",
      "2025-05-30 20:12:34,211 || INFO || MedRL-CoT Setup - Successful conversion!\n",
      "\n",
      "Classifying prompts: 100%|██████████████████████████████████████████████████████████████████████████████████████████████████████████████████████████████████████████████████████| 6/6 [01:57<00:00, 18.54s/it]\u001b[A\n",
      "                                                                                                                                                                                                              \u001b[A2025-05-30 20:12:34,216 || INFO || MedRL-CoT Setup - Dumping to save\n"
     ]
    },
    {
     "data": {
      "application/vnd.jupyter.widget-view+json": {
       "model_id": "c8bc3264a2da4096b98b12f8e62f69a4",
       "version_major": 2,
       "version_minor": 0
      },
      "text/plain": [
       "Saving the dataset (0/1 shards):   0%|          | 0/1411 [00:00<?, ? examples/s]"
      ]
     },
     "metadata": {},
     "output_type": "display_data"
    },
    {
     "name": "stderr",
     "output_type": "stream",
     "text": [
      "Preprocessing dataset:   0%|▎                                                                                                                                         | 64/30000 [58:10<997:35:36, 119.97s/it]2025-05-30 20:12:34,238 || INFO || MedRL-CoT Setup - Preprocessing example 64\n",
      "\n",
      "Classifying prompts:   0%|                                                                                                                                                              | 0/6 [00:00<?, ?it/s]\u001b[A2025-05-30 20:12:48,080 || WARNING || MedRL-CoT Setup - Invalid JSON, trying conversion\n",
      "2025-05-30 20:12:48,081 || INFO || MedRL-CoT Setup - Successful conversion!\n",
      "\n",
      "Classifying prompts:  17%|█████████████████████████                                                                                                                             | 1/6 [00:13<01:08, 13.73s/it]\u001b[A2025-05-30 20:13:15,079 || WARNING || MedRL-CoT Setup - Invalid JSON, trying conversion\n",
      "2025-05-30 20:13:15,080 || INFO || MedRL-CoT Setup - Successful conversion!\n",
      "\n",
      "Classifying prompts:  33%|██████████████████████████████████████████████████                                                                                                    | 2/6 [00:40<01:26, 21.54s/it]\u001b[A2025-05-30 20:13:39,838 || WARNING || MedRL-CoT Setup - Invalid JSON, trying conversion\n",
      "2025-05-30 20:13:39,839 || INFO || MedRL-CoT Setup - Successful conversion!\n",
      "\n",
      "Classifying prompts:  50%|███████████████████████████████████████████████████████████████████████████                                                                           | 3/6 [01:05<01:09, 23.01s/it]\u001b[A2025-05-30 20:13:53,697 || WARNING || MedRL-CoT Setup - Invalid JSON, trying conversion\n",
      "2025-05-30 20:13:53,699 || INFO || MedRL-CoT Setup - Successful conversion!\n",
      "\n",
      "Classifying prompts:  67%|████████████████████████████████████████████████████████████████████████████████████████████████████                                                  | 4/6 [01:19<00:38, 19.40s/it]\u001b[A2025-05-30 20:14:18,705 || INFO || MedRL-CoT Setup - Successful JSON parsed!\n",
      "\n",
      "Classifying prompts:  83%|█████████████████████████████████████████████████████████████████████████████████████████████████████████████████████████████                         | 5/6 [01:44<00:21, 21.42s/it]\u001b[A2025-05-30 20:14:31,644 || WARNING || MedRL-CoT Setup - Invalid JSON, trying conversion\n",
      "2025-05-30 20:14:31,645 || INFO || MedRL-CoT Setup - Successful conversion!\n",
      "\n",
      "Classifying prompts: 100%|██████████████████████████████████████████████████████████████████████████████████████████████████████████████████████████████████████████████████████| 6/6 [01:57<00:00, 18.54s/it]\u001b[A\n",
      "                                                                                                                                                                                                              \u001b[A2025-05-30 20:14:31,649 || INFO || MedRL-CoT Setup - Dumping to save\n"
     ]
    },
    {
     "data": {
      "application/vnd.jupyter.widget-view+json": {
       "model_id": "88be7311b7a740e6a64918081275b273",
       "version_major": 2,
       "version_minor": 0
      },
      "text/plain": [
       "Saving the dataset (0/1 shards):   0%|          | 0/1450 [00:00<?, ? examples/s]"
      ]
     },
     "metadata": {},
     "output_type": "display_data"
    },
    {
     "name": "stderr",
     "output_type": "stream",
     "text": [
      "Preprocessing dataset:   0%|▎                                                                                                                                       | 65/30000 [1:00:07<991:14:38, 119.21s/it]2025-05-30 20:14:31,673 || INFO || MedRL-CoT Setup - Preprocessing example 65\n",
      "\n",
      "Classifying prompts:   0%|                                                                                                                                                              | 0/6 [00:00<?, ?it/s]\u001b[A2025-05-30 20:14:45,369 || WARNING || MedRL-CoT Setup - Invalid JSON, trying conversion\n",
      "2025-05-30 20:14:45,370 || INFO || MedRL-CoT Setup - Successful conversion!\n",
      "\n",
      "Classifying prompts:  17%|█████████████████████████                                                                                                                             | 1/6 [00:13<01:07, 13.59s/it]\u001b[A2025-05-30 20:15:01,893 || WARNING || MedRL-CoT Setup - Invalid JSON, trying conversion\n",
      "2025-05-30 20:15:01,894 || INFO || MedRL-CoT Setup - Successful conversion!\n",
      "\n",
      "Classifying prompts:  33%|██████████████████████████████████████████████████                                                                                                    | 2/6 [00:30<01:01, 15.31s/it]\u001b[A2025-05-30 20:15:23,942 || WARNING || MedRL-CoT Setup - Invalid JSON, trying conversion\n",
      "2025-05-30 20:15:23,943 || INFO || MedRL-CoT Setup - Successful conversion!\n",
      "\n",
      "Classifying prompts:  50%|███████████████████████████████████████████████████████████████████████████                                                                           | 3/6 [00:52<00:55, 18.39s/it]\u001b[A2025-05-30 20:15:38,939 || INFO || MedRL-CoT Setup - Successful JSON parsed!\n",
      "\n",
      "Classifying prompts:  67%|████████████████████████████████████████████████████████████████████████████████████████████████████                                                  | 4/6 [01:07<00:34, 17.05s/it]\u001b[A2025-05-30 20:16:04,392 || INFO || MedRL-CoT Setup - Successful JSON parsed!\n",
      "\n",
      "Classifying prompts:  83%|█████████████████████████████████████████████████████████████████████████████████████████████████████████████████████████████                         | 5/6 [01:32<00:20, 20.08s/it]\u001b[A2025-05-30 20:16:18,954 || WARNING || MedRL-CoT Setup - Invalid JSON, trying conversion\n",
      "2025-05-30 20:16:18,955 || INFO || MedRL-CoT Setup - Successful conversion!\n",
      "\n",
      "Classifying prompts: 100%|██████████████████████████████████████████████████████████████████████████████████████████████████████████████████████████████████████████████████████| 6/6 [01:47<00:00, 18.20s/it]\u001b[A\n",
      "                                                                                                                                                                                                              \u001b[A2025-05-30 20:16:18,960 || INFO || MedRL-CoT Setup - Dumping to save\n"
     ]
    },
    {
     "data": {
      "application/vnd.jupyter.widget-view+json": {
       "model_id": "7140929f0083498895b028f0a24600da",
       "version_major": 2,
       "version_minor": 0
      },
      "text/plain": [
       "Saving the dataset (0/1 shards):   0%|          | 0/1481 [00:00<?, ? examples/s]"
      ]
     },
     "metadata": {},
     "output_type": "display_data"
    },
    {
     "name": "stderr",
     "output_type": "stream",
     "text": [
      "Preprocessing dataset:   0%|▎                                                                                                                                       | 66/30000 [1:01:54<961:31:49, 115.64s/it]2025-05-30 20:16:18,982 || INFO || MedRL-CoT Setup - Preprocessing example 66\n",
      "\n",
      "Classifying prompts:   0%|                                                                                                                                                              | 0/2 [00:00<?, ?it/s]\u001b[A2025-05-30 20:16:50,941 || WARNING || MedRL-CoT Setup - Invalid JSON, trying conversion\n",
      "2025-05-30 20:16:50,942 || INFO || MedRL-CoT Setup - Successful conversion!\n",
      "\n",
      "Classifying prompts:  50%|███████████████████████████████████████████████████████████████████████████                                                                           | 1/2 [00:31<00:31, 31.85s/it]\u001b[A2025-05-30 20:17:34,575 || WARNING || MedRL-CoT Setup - Invalid JSON, trying conversion\n",
      "2025-05-30 20:17:34,576 || INFO || MedRL-CoT Setup - Successful conversion!\n",
      "\n",
      "Classifying prompts: 100%|██████████████████████████████████████████████████████████████████████████████████████████████████████████████████████████████████████████████████████| 2/2 [01:15<00:00, 38.78s/it]\u001b[A\n",
      "                                                                                                                                                                                                              \u001b[A2025-05-30 20:17:34,580 || INFO || MedRL-CoT Setup - Dumping to save\n"
     ]
    },
    {
     "data": {
      "application/vnd.jupyter.widget-view+json": {
       "model_id": "cb4e66fba13848d5a5e19575dfde4ec7",
       "version_major": 2,
       "version_minor": 0
      },
      "text/plain": [
       "Saving the dataset (0/1 shards):   0%|          | 0/1503 [00:00<?, ? examples/s]"
      ]
     },
     "metadata": {},
     "output_type": "display_data"
    },
    {
     "name": "stderr",
     "output_type": "stream",
     "text": [
      "Preprocessing dataset:   0%|▎                                                                                                                                       | 67/30000 [1:03:10<861:41:00, 103.63s/it]2025-05-30 20:17:34,603 || INFO || MedRL-CoT Setup - Preprocessing example 67\n",
      "\n",
      "Classifying prompts:   0%|                                                                                                                                                              | 0/2 [00:00<?, ?it/s]\u001b[A2025-05-30 20:18:36,615 || WARNING || MedRL-CoT Setup - Invalid JSON, trying conversion\n",
      "2025-05-30 20:18:36,616 || INFO || MedRL-CoT Setup - Successful conversion!\n",
      "\n",
      "Classifying prompts:  50%|███████████████████████████████████████████████████████████████████████████                                                                           | 1/2 [01:01<01:01, 61.90s/it]\u001b[A2025-05-30 20:18:44,394 || WARNING || MedRL-CoT Setup - Invalid JSON, trying conversion\n",
      "2025-05-30 20:18:44,395 || INFO || MedRL-CoT Setup - Successful conversion!\n",
      "\n",
      "Classifying prompts: 100%|██████████████████████████████████████████████████████████████████████████████████████████████████████████████████████████████████████████████████████| 2/2 [01:09<00:00, 30.06s/it]\u001b[A\n",
      "                                                                                                                                                                                                              \u001b[A2025-05-30 20:18:44,399 || INFO || MedRL-CoT Setup - Dumping to save\n"
     ]
    },
    {
     "data": {
      "application/vnd.jupyter.widget-view+json": {
       "model_id": "65a7f79dd2e440cd85cf39fa6048449f",
       "version_major": 2,
       "version_minor": 0
      },
      "text/plain": [
       "Saving the dataset (0/1 shards):   0%|          | 0/1520 [00:00<?, ? examples/s]"
      ]
     },
     "metadata": {},
     "output_type": "display_data"
    },
    {
     "name": "stderr",
     "output_type": "stream",
     "text": [
      "Preprocessing dataset:   0%|▎                                                                                                                                        | 68/30000 [1:04:20<777:19:08, 93.49s/it]2025-05-30 20:18:44,424 || INFO || MedRL-CoT Setup - Preprocessing example 68\n",
      "\n",
      "Classifying prompts:   0%|                                                                                                                                                              | 0/1 [00:00<?, ?it/s]\u001b[A2025-05-30 20:19:33,181 || ERROR || MedRL-CoT Setup - Nothing found, bad example!\n",
      "\n",
      "Classifying prompts: 100%|██████████████████████████████████████████████████████████████████████████████████████████████████████████████████████████████████████████████████████| 1/1 [00:48<00:00, 48.65s/it]\u001b[A\n",
      "                                                                                                                                                                                                              \u001b[A2025-05-30 20:19:33,186 || INFO || MedRL-CoT Setup - Dumping to save\n"
     ]
    },
    {
     "data": {
      "application/vnd.jupyter.widget-view+json": {
       "model_id": "642e1b9ab3064968b59b5ba09366ff8f",
       "version_major": 2,
       "version_minor": 0
      },
      "text/plain": [
       "Saving the dataset (0/1 shards):   0%|          | 0/1520 [00:00<?, ? examples/s]"
      ]
     },
     "metadata": {},
     "output_type": "display_data"
    },
    {
     "name": "stderr",
     "output_type": "stream",
     "text": [
      "Preprocessing dataset:   0%|▎                                                                                                                                        | 69/30000 [1:05:09<665:47:15, 80.08s/it]2025-05-30 20:19:33,208 || INFO || MedRL-CoT Setup - Preprocessing example 69\n",
      "\n",
      "Classifying prompts:   0%|                                                                                                                                                              | 0/2 [00:00<?, ?it/s]\u001b[A2025-05-30 20:20:02,101 || INFO || MedRL-CoT Setup - Successful JSON parsed!\n",
      "\n",
      "Classifying prompts:  50%|███████████████████████████████████████████████████████████████████████████                                                                           | 1/2 [00:28<00:28, 28.78s/it]\u001b[A2025-05-30 20:21:03,766 || WARNING || MedRL-CoT Setup - Invalid JSON, trying conversion\n",
      "2025-05-30 20:21:03,767 || INFO || MedRL-CoT Setup - Successful conversion!\n",
      "\n",
      "Classifying prompts: 100%|██████████████████████████████████████████████████████████████████████████████████████████████████████████████████████████████████████████████████████| 2/2 [01:30<00:00, 48.13s/it]\u001b[A\n",
      "                                                                                                                                                                                                              \u001b[A2025-05-30 20:21:03,771 || INFO || MedRL-CoT Setup - Dumping to save\n"
     ]
    },
    {
     "data": {
      "application/vnd.jupyter.widget-view+json": {
       "model_id": "f1df115f64794af4ac7f969a5d3fb7e2",
       "version_major": 2,
       "version_minor": 0
      },
      "text/plain": [
       "Saving the dataset (0/1 shards):   0%|          | 0/1548 [00:00<?, ? examples/s]"
      ]
     },
     "metadata": {},
     "output_type": "display_data"
    },
    {
     "name": "stderr",
     "output_type": "stream",
     "text": [
      "Preprocessing dataset:   0%|▎                                                                                                                                        | 70/30000 [1:06:39<691:58:32, 83.23s/it]2025-05-30 20:21:03,795 || INFO || MedRL-CoT Setup - Preprocessing example 70\n",
      "\n",
      "Classifying prompts:   0%|                                                                                                                                                              | 0/3 [00:00<?, ?it/s]\u001b[A2025-05-30 20:21:30,059 || ERROR || MedRL-CoT Setup - Nothing found, bad example!\n",
      "\n",
      "Classifying prompts:  33%|██████████████████████████████████████████████████                                                                                                    | 1/3 [00:26<00:52, 26.15s/it]\u001b[A2025-05-30 20:21:57,213 || INFO || MedRL-CoT Setup - Successful JSON parsed!\n",
      "\n",
      "Classifying prompts:  67%|████████████████████████████████████████████████████████████████████████████████████████████████████                                                  | 2/3 [00:53<00:26, 26.74s/it]\u001b[A2025-05-30 20:22:18,109 || WARNING || MedRL-CoT Setup - Invalid JSON, trying conversion\n",
      "2025-05-30 20:22:18,110 || INFO || MedRL-CoT Setup - Successful conversion!\n",
      "\n",
      "Classifying prompts: 100%|██████████████████████████████████████████████████████████████████████████████████████████████████████████████████████████████████████████████████████| 3/3 [01:14<00:00, 24.07s/it]\u001b[A\n",
      "                                                                                                                                                                                                              \u001b[A2025-05-30 20:22:18,114 || INFO || MedRL-CoT Setup - Dumping to save\n"
     ]
    },
    {
     "data": {
      "application/vnd.jupyter.widget-view+json": {
       "model_id": "3f7fc26137104c77802d74fbf18f1717",
       "version_major": 2,
       "version_minor": 0
      },
      "text/plain": [
       "Saving the dataset (0/1 shards):   0%|          | 0/1561 [00:00<?, ? examples/s]"
      ]
     },
     "metadata": {},
     "output_type": "display_data"
    },
    {
     "name": "stderr",
     "output_type": "stream",
     "text": [
      "Preprocessing dataset:   0%|▎                                                                                                                                        | 71/30000 [1:07:54<669:46:47, 80.56s/it]2025-05-30 20:22:18,137 || INFO || MedRL-CoT Setup - Preprocessing example 71\n",
      "\n",
      "Classifying prompts:   0%|                                                                                                                                                              | 0/6 [00:00<?, ?it/s]\u001b[A2025-05-30 20:22:31,832 || WARNING || MedRL-CoT Setup - Invalid JSON, trying conversion\n",
      "2025-05-30 20:22:31,833 || INFO || MedRL-CoT Setup - Successful conversion!\n",
      "\n",
      "Classifying prompts:  17%|█████████████████████████                                                                                                                             | 1/6 [00:13<01:07, 13.59s/it]\u001b[A2025-05-30 20:22:48,349 || WARNING || MedRL-CoT Setup - Invalid JSON, trying conversion\n",
      "2025-05-30 20:22:48,350 || INFO || MedRL-CoT Setup - Successful conversion!\n",
      "\n",
      "Classifying prompts:  33%|██████████████████████████████████████████████████                                                                                                    | 2/6 [00:30<01:01, 15.31s/it]\u001b[A2025-05-30 20:23:10,393 || WARNING || MedRL-CoT Setup - Invalid JSON, trying conversion\n",
      "2025-05-30 20:23:10,394 || INFO || MedRL-CoT Setup - Successful conversion!\n",
      "\n",
      "Classifying prompts:  50%|███████████████████████████████████████████████████████████████████████████                                                                           | 3/6 [00:52<00:55, 18.38s/it]\u001b[A2025-05-30 20:23:25,378 || INFO || MedRL-CoT Setup - Successful JSON parsed!\n",
      "\n",
      "Classifying prompts:  67%|████████████████████████████████████████████████████████████████████████████████████████████████████                                                  | 4/6 [01:07<00:34, 17.04s/it]\u001b[A2025-05-30 20:23:50,838 || INFO || MedRL-CoT Setup - Successful JSON parsed!\n",
      "\n",
      "Classifying prompts:  83%|█████████████████████████████████████████████████████████████████████████████████████████████████████████████████████████████                         | 5/6 [01:32<00:20, 20.08s/it]\u001b[A2025-05-30 20:24:05,403 || WARNING || MedRL-CoT Setup - Invalid JSON, trying conversion\n",
      "2025-05-30 20:24:05,404 || INFO || MedRL-CoT Setup - Successful conversion!\n",
      "\n",
      "Classifying prompts: 100%|██████████████████████████████████████████████████████████████████████████████████████████████████████████████████████████████████████████████████████| 6/6 [01:47<00:00, 18.20s/it]\u001b[A\n",
      "                                                                                                                                                                                                              \u001b[A2025-05-30 20:24:05,409 || INFO || MedRL-CoT Setup - Dumping to save\n"
     ]
    },
    {
     "data": {
      "application/vnd.jupyter.widget-view+json": {
       "model_id": "711929aecc72497dbbfae3c88e9c4256",
       "version_major": 2,
       "version_minor": 0
      },
      "text/plain": [
       "Saving the dataset (0/1 shards):   0%|          | 0/1592 [00:00<?, ? examples/s]"
      ]
     },
     "metadata": {},
     "output_type": "display_data"
    },
    {
     "name": "stderr",
     "output_type": "stream",
     "text": [
      "Preprocessing dataset:   0%|▎                                                                                                                                        | 72/30000 [1:09:41<736:25:22, 88.58s/it]2025-05-30 20:24:05,431 || INFO || MedRL-CoT Setup - Preprocessing example 72\n",
      "\n",
      "Classifying prompts:   0%|                                                                                                                                                              | 0/6 [00:00<?, ?it/s]\u001b[A2025-05-30 20:24:19,122 || WARNING || MedRL-CoT Setup - Invalid JSON, trying conversion\n",
      "2025-05-30 20:24:19,122 || INFO || MedRL-CoT Setup - Successful conversion!\n",
      "\n",
      "Classifying prompts:  17%|█████████████████████████                                                                                                                             | 1/6 [00:13<01:07, 13.58s/it]\u001b[A2025-05-30 20:24:35,639 || WARNING || MedRL-CoT Setup - Invalid JSON, trying conversion\n",
      "2025-05-30 20:24:35,640 || INFO || MedRL-CoT Setup - Successful conversion!\n",
      "\n",
      "Classifying prompts:  33%|██████████████████████████████████████████████████                                                                                                    | 2/6 [00:30<01:01, 15.31s/it]\u001b[A2025-05-30 20:24:57,679 || WARNING || MedRL-CoT Setup - Invalid JSON, trying conversion\n",
      "2025-05-30 20:24:57,679 || INFO || MedRL-CoT Setup - Successful conversion!\n",
      "\n",
      "Classifying prompts:  50%|███████████████████████████████████████████████████████████████████████████                                                                           | 3/6 [00:52<00:55, 18.38s/it]\u001b[A2025-05-30 20:25:12,665 || INFO || MedRL-CoT Setup - Successful JSON parsed!\n",
      "\n",
      "Classifying prompts:  67%|████████████████████████████████████████████████████████████████████████████████████████████████████                                                  | 4/6 [01:07<00:34, 17.04s/it]\u001b[A2025-05-30 20:25:38,119 || INFO || MedRL-CoT Setup - Successful JSON parsed!\n",
      "\n",
      "Classifying prompts:  83%|█████████████████████████████████████████████████████████████████████████████████████████████████████████████████████████████                         | 5/6 [01:32<00:20, 20.08s/it]\u001b[A2025-05-30 20:25:52,685 || WARNING || MedRL-CoT Setup - Invalid JSON, trying conversion\n",
      "2025-05-30 20:25:52,686 || INFO || MedRL-CoT Setup - Successful conversion!\n",
      "\n",
      "Classifying prompts: 100%|██████████████████████████████████████████████████████████████████████████████████████████████████████████████████████████████████████████████████████| 6/6 [01:47<00:00, 18.20s/it]\u001b[A\n",
      "                                                                                                                                                                                                              \u001b[A2025-05-30 20:25:52,690 || INFO || MedRL-CoT Setup - Dumping to save\n"
     ]
    },
    {
     "data": {
      "application/vnd.jupyter.widget-view+json": {
       "model_id": "ac44ec3f2f0e41aa93ed635af41dc39d",
       "version_major": 2,
       "version_minor": 0
      },
      "text/plain": [
       "Saving the dataset (0/1 shards):   0%|          | 0/1623 [00:00<?, ? examples/s]"
      ]
     },
     "metadata": {},
     "output_type": "display_data"
    },
    {
     "name": "stderr",
     "output_type": "stream",
     "text": [
      "Preprocessing dataset:   0%|▎                                                                                                                                        | 73/30000 [1:11:28<783:01:53, 94.19s/it]2025-05-30 20:25:52,714 || INFO || MedRL-CoT Setup - Preprocessing example 73\n",
      "\n",
      "Classifying prompts:   0%|                                                                                                                                                              | 0/1 [00:00<?, ?it/s]\u001b[A2025-05-30 20:27:27,046 || ERROR || MedRL-CoT Setup - Nothing found, bad example!\n",
      "\n",
      "Classifying prompts: 100%|██████████████████████████████████████████████████████████████████████████████████████████████████████████████████████████████████████████████████████| 1/1 [01:34<00:00, 94.22s/it]\u001b[A\n",
      "                                                                                                                                                                                                              \u001b[A2025-05-30 20:27:27,051 || INFO || MedRL-CoT Setup - Dumping to save\n"
     ]
    },
    {
     "data": {
      "application/vnd.jupyter.widget-view+json": {
       "model_id": "3438460a0f404fc18a8b0f3d71561fd4",
       "version_major": 2,
       "version_minor": 0
      },
      "text/plain": [
       "Saving the dataset (0/1 shards):   0%|          | 0/1623 [00:00<?, ? examples/s]"
      ]
     },
     "metadata": {},
     "output_type": "display_data"
    },
    {
     "name": "stderr",
     "output_type": "stream",
     "text": [
      "Preprocessing dataset:   0%|▎                                                                                                                                        | 74/30000 [1:13:03<783:25:09, 94.24s/it]2025-05-30 20:27:27,073 || INFO || MedRL-CoT Setup - Preprocessing example 74\n",
      "\n",
      "Classifying prompts:   0%|                                                                                                                                                              | 0/2 [00:00<?, ?it/s]\u001b[A2025-05-30 20:27:47,162 || WARNING || MedRL-CoT Setup - Invalid JSON, trying conversion\n",
      "2025-05-30 20:27:47,163 || INFO || MedRL-CoT Setup - Successful conversion!\n",
      "\n",
      "Classifying prompts:  50%|███████████████████████████████████████████████████████████████████████████                                                                           | 1/2 [00:19<00:19, 19.98s/it]\u001b[A2025-05-30 20:28:38,687 || WARNING || MedRL-CoT Setup - Invalid JSON, trying conversion\n",
      "2025-05-30 20:28:38,688 || INFO || MedRL-CoT Setup - Successful conversion!\n",
      "\n",
      "Classifying prompts: 100%|██████████████████████████████████████████████████████████████████████████████████████████████████████████████████████████████████████████████████████| 2/2 [01:11<00:00, 38.54s/it]\u001b[A\n",
      "                                                                                                                                                                                                              \u001b[A2025-05-30 20:28:38,692 || INFO || MedRL-CoT Setup - Dumping to save\n"
     ]
    },
    {
     "data": {
      "application/vnd.jupyter.widget-view+json": {
       "model_id": "2288bc09f41b454782a7e987ba11a088",
       "version_major": 2,
       "version_minor": 0
      },
      "text/plain": [
       "Saving the dataset (0/1 shards):   0%|          | 0/1643 [00:00<?, ? examples/s]"
      ]
     },
     "metadata": {},
     "output_type": "display_data"
    },
    {
     "name": "stderr",
     "output_type": "stream",
     "text": [
      "Preprocessing dataset:   0%|▎                                                                                                                                        | 75/30000 [1:14:14<727:01:55, 87.46s/it]2025-05-30 20:28:38,714 || INFO || MedRL-CoT Setup - Preprocessing example 75\n",
      "\n",
      "Classifying prompts:   0%|                                                                                                                                                              | 0/3 [00:00<?, ?it/s]\u001b[A2025-05-30 20:29:17,997 || WARNING || MedRL-CoT Setup - Invalid JSON, trying conversion\n",
      "2025-05-30 20:29:17,998 || INFO || MedRL-CoT Setup - Successful conversion!\n",
      "\n",
      "Classifying prompts:  33%|██████████████████████████████████████████████████                                                                                                    | 1/3 [00:39<01:18, 39.17s/it]\u001b[A2025-05-30 20:30:01,626 || WARNING || MedRL-CoT Setup - Invalid JSON, trying conversion\n",
      "2025-05-30 20:30:01,627 || INFO || MedRL-CoT Setup - Successful conversion!\n",
      "\n",
      "Classifying prompts:  67%|████████████████████████████████████████████████████████████████████████████████████████████████████                                                  | 2/3 [01:22<00:41, 41.79s/it]\u001b[A2025-05-30 20:30:46,330 || WARNING || MedRL-CoT Setup - Invalid JSON, trying conversion\n",
      "2025-05-30 20:30:46,331 || INFO || MedRL-CoT Setup - Successful conversion!\n",
      "\n",
      "Classifying prompts: 100%|██████████████████████████████████████████████████████████████████████████████████████████████████████████████████████████████████████████████████████| 3/3 [02:07<00:00, 43.12s/it]\u001b[A\n",
      "                                                                                                                                                                                                              \u001b[A2025-05-30 20:30:46,335 || INFO || MedRL-CoT Setup - Dumping to save\n"
     ]
    },
    {
     "data": {
      "application/vnd.jupyter.widget-view+json": {
       "model_id": "f9a3f0c773f04977bb913d00c74b5fa0",
       "version_major": 2,
       "version_minor": 0
      },
      "text/plain": [
       "Saving the dataset (0/1 shards):   0%|          | 0/1682 [00:00<?, ? examples/s]"
      ]
     },
     "metadata": {},
     "output_type": "display_data"
    },
    {
     "name": "stderr",
     "output_type": "stream",
     "text": [
      "Preprocessing dataset:   0%|▎                                                                                                                                        | 76/30000 [1:16:22<827:12:18, 99.52s/it]2025-05-30 20:30:46,358 || INFO || MedRL-CoT Setup - Preprocessing example 76\n",
      "\n",
      "Classifying prompts:   0%|                                                                                                                                                              | 0/6 [00:00<?, ?it/s]\u001b[A2025-05-30 20:31:00,054 || WARNING || MedRL-CoT Setup - Invalid JSON, trying conversion\n",
      "2025-05-30 20:31:00,055 || INFO || MedRL-CoT Setup - Successful conversion!\n",
      "\n",
      "Classifying prompts:  17%|█████████████████████████                                                                                                                             | 1/6 [00:13<01:07, 13.59s/it]\u001b[A2025-05-30 20:31:16,604 || WARNING || MedRL-CoT Setup - Invalid JSON, trying conversion\n",
      "2025-05-30 20:31:16,605 || INFO || MedRL-CoT Setup - Successful conversion!\n",
      "\n",
      "Classifying prompts:  33%|██████████████████████████████████████████████████                                                                                                    | 2/6 [00:30<01:01, 15.33s/it]\u001b[A2025-05-30 20:31:38,661 || WARNING || MedRL-CoT Setup - Invalid JSON, trying conversion\n",
      "2025-05-30 20:31:38,662 || INFO || MedRL-CoT Setup - Successful conversion!\n",
      "\n",
      "Classifying prompts:  50%|███████████████████████████████████████████████████████████████████████████                                                                           | 3/6 [00:52<00:55, 18.40s/it]\u001b[A2025-05-30 20:31:53,662 || INFO || MedRL-CoT Setup - Successful JSON parsed!\n",
      "\n",
      "Classifying prompts:  67%|████████████████████████████████████████████████████████████████████████████████████████████████████                                                  | 4/6 [01:07<00:34, 17.06s/it]\u001b[A2025-05-30 20:32:19,116 || INFO || MedRL-CoT Setup - Successful JSON parsed!\n",
      "\n",
      "Classifying prompts:  83%|█████████████████████████████████████████████████████████████████████████████████████████████████████████████████████████████                         | 5/6 [01:32<00:20, 20.09s/it]\u001b[A2025-05-30 20:32:33,679 || WARNING || MedRL-CoT Setup - Invalid JSON, trying conversion\n",
      "2025-05-30 20:32:33,680 || INFO || MedRL-CoT Setup - Successful conversion!\n",
      "\n",
      "Classifying prompts: 100%|██████████████████████████████████████████████████████████████████████████████████████████████████████████████████████████████████████████████████████| 6/6 [01:47<00:00, 18.21s/it]\u001b[A\n",
      "                                                                                                                                                                                                              \u001b[A2025-05-30 20:32:33,685 || INFO || MedRL-CoT Setup - Dumping to save\n"
     ]
    },
    {
     "data": {
      "application/vnd.jupyter.widget-view+json": {
       "model_id": "a587cedb8fe74c59910505992d6ec652",
       "version_major": 2,
       "version_minor": 0
      },
      "text/plain": [
       "Saving the dataset (0/1 shards):   0%|          | 0/1713 [00:00<?, ? examples/s]"
      ]
     },
     "metadata": {},
     "output_type": "display_data"
    },
    {
     "name": "stderr",
     "output_type": "stream",
     "text": [
      "Preprocessing dataset:   0%|▎                                                                                                                                       | 77/30000 [1:18:09<846:42:37, 101.87s/it]2025-05-30 20:32:33,708 || INFO || MedRL-CoT Setup - Preprocessing example 77\n",
      "\n",
      "Classifying prompts:   0%|                                                                                                                                                              | 0/3 [00:00<?, ?it/s]\u001b[A2025-05-30 20:32:54,255 || WARNING || MedRL-CoT Setup - Invalid JSON, trying conversion\n",
      "2025-05-30 20:32:54,256 || INFO || MedRL-CoT Setup - Successful conversion!\n",
      "\n",
      "Classifying prompts:  33%|██████████████████████████████████████████████████                                                                                                    | 1/3 [00:20<00:40, 20.44s/it]\u001b[A2025-05-30 20:33:10,129 || WARNING || MedRL-CoT Setup - Invalid JSON, trying conversion\n",
      "2025-05-30 20:33:10,129 || INFO || MedRL-CoT Setup - Successful conversion!\n",
      "\n",
      "Classifying prompts:  67%|████████████████████████████████████████████████████████████████████████████████████████████████████                                                  | 2/3 [00:36<00:17, 17.75s/it]\u001b[A2025-05-30 20:33:36,353 || WARNING || MedRL-CoT Setup - Invalid JSON, trying conversion\n",
      "2025-05-30 20:33:36,354 || INFO || MedRL-CoT Setup - Successful conversion!\n",
      "\n",
      "Classifying prompts: 100%|██████████████████████████████████████████████████████████████████████████████████████████████████████████████████████████████████████████████████████| 3/3 [01:02<00:00, 21.62s/it]\u001b[A\n",
      "                                                                                                                                                                                                              \u001b[A2025-05-30 20:33:36,358 || INFO || MedRL-CoT Setup - Dumping to save\n"
     ]
    },
    {
     "data": {
      "application/vnd.jupyter.widget-view+json": {
       "model_id": "4161b98428b544e3b45ae53d93430772",
       "version_major": 2,
       "version_minor": 0
      },
      "text/plain": [
       "Saving the dataset (0/1 shards):   0%|          | 0/1732 [00:00<?, ? examples/s]"
      ]
     },
     "metadata": {},
     "output_type": "display_data"
    },
    {
     "name": "stderr",
     "output_type": "stream",
     "text": [
      "Preprocessing dataset:   0%|▎                                                                                                                                        | 78/30000 [1:19:12<748:57:24, 90.11s/it]2025-05-30 20:33:36,382 || INFO || MedRL-CoT Setup - Preprocessing example 78\n",
      "\n",
      "Classifying prompts:   0%|                                                                                                                                                              | 0/3 [00:00<?, ?it/s]\u001b[A2025-05-30 20:34:03,965 || WARNING || MedRL-CoT Setup - Invalid JSON, trying conversion\n",
      "2025-05-30 20:34:03,966 || INFO || MedRL-CoT Setup - Successful conversion!\n",
      "\n",
      "Classifying prompts:  33%|██████████████████████████████████████████████████                                                                                                    | 1/3 [00:27<00:54, 27.47s/it]\u001b[A2025-05-30 20:34:40,136 || INFO || MedRL-CoT Setup - Successful JSON parsed!\n",
      "\n",
      "Classifying prompts:  67%|████████████████████████████████████████████████████████████████████████████████████████████████████                                                  | 2/3 [01:03<00:32, 32.59s/it]\u001b[A2025-05-30 20:34:47,427 || WARNING || MedRL-CoT Setup - Invalid JSON, trying conversion\n",
      "2025-05-30 20:34:47,428 || INFO || MedRL-CoT Setup - Successful conversion!\n",
      "\n",
      "Classifying prompts: 100%|██████████████████████████████████████████████████████████████████████████████████████████████████████████████████████████████████████████████████████| 3/3 [01:10<00:00, 21.04s/it]\u001b[A\n",
      "                                                                                                                                                                                                              \u001b[A2025-05-30 20:34:47,432 || INFO || MedRL-CoT Setup - Dumping to save\n"
     ]
    },
    {
     "data": {
      "application/vnd.jupyter.widget-view+json": {
       "model_id": "9a746cc80ee949f4a72c89ed24f3f2dc",
       "version_major": 2,
       "version_minor": 0
      },
      "text/plain": [
       "Saving the dataset (0/1 shards):   0%|          | 0/1754 [00:00<?, ? examples/s]"
      ]
     },
     "metadata": {},
     "output_type": "display_data"
    },
    {
     "name": "stderr",
     "output_type": "stream",
     "text": [
      "Preprocessing dataset:   0%|▎                                                                                                                                        | 79/30000 [1:20:23<701:27:56, 84.40s/it]2025-05-30 20:34:47,455 || INFO || MedRL-CoT Setup - Preprocessing example 79\n",
      "\n",
      "Classifying prompts:   0%|                                                                                                                                                              | 0/2 [00:00<?, ?it/s]\u001b[A2025-05-30 20:36:15,103 || ERROR || MedRL-CoT Setup - Nothing found, bad example!\n",
      "\n",
      "Classifying prompts:  50%|███████████████████████████████████████████████████████████████████████████                                                                           | 1/2 [01:27<01:27, 87.54s/it]\u001b[A2025-05-30 20:36:19,576 || INFO || MedRL-CoT Setup - Successful JSON parsed!\n",
      "\n",
      "Classifying prompts: 100%|██████████████████████████████████████████████████████████████████████████████████████████████████████████████████████████████████████████████████████| 2/2 [01:32<00:00, 38.68s/it]\u001b[A\n",
      "                                                                                                                                                                                                              \u001b[A2025-05-30 20:36:19,581 || INFO || MedRL-CoT Setup - Dumping to save\n"
     ]
    },
    {
     "data": {
      "application/vnd.jupyter.widget-view+json": {
       "model_id": "363e6add9dd242e19ddb6679e8455414",
       "version_major": 2,
       "version_minor": 0
      },
      "text/plain": [
       "Saving the dataset (0/1 shards):   0%|          | 0/1757 [00:00<?, ? examples/s]"
      ]
     },
     "metadata": {},
     "output_type": "display_data"
    },
    {
     "name": "stderr",
     "output_type": "stream",
     "text": [
      "Preprocessing dataset:   0%|▎                                                                                                                                        | 80/30000 [1:21:55<720:46:25, 86.72s/it]2025-05-30 20:36:19,607 || INFO || MedRL-CoT Setup - Preprocessing example 80\n",
      "\n",
      "Classifying prompts:   0%|                                                                                                                                                              | 0/4 [00:00<?, ?it/s]\u001b[A2025-05-30 20:37:00,558 || INFO || MedRL-CoT Setup - Successful JSON parsed!\n",
      "\n",
      "Classifying prompts:  25%|█████████████████████████████████████▌                                                                                                                | 1/4 [00:40<02:02, 40.84s/it]\u001b[A2025-05-30 20:37:29,528 || WARNING || MedRL-CoT Setup - Invalid JSON, trying conversion\n",
      "2025-05-30 20:37:29,529 || INFO || MedRL-CoT Setup - Successful conversion!\n",
      "\n",
      "Classifying prompts:  50%|███████████████████████████████████████████████████████████████████████████                                                                           | 2/4 [01:09<01:07, 33.86s/it]\u001b[A2025-05-30 20:37:44,795 || WARNING || MedRL-CoT Setup - Invalid JSON, trying conversion\n",
      "2025-05-30 20:37:44,795 || INFO || MedRL-CoT Setup - Successful conversion!\n",
      "\n",
      "Classifying prompts:  75%|████████████████████████████████████████████████████████████████████████████████████████████████████████████████▌                                     | 3/4 [01:25<00:25, 25.37s/it]\u001b[A2025-05-30 20:38:26,468 || ERROR || MedRL-CoT Setup - Nothing found, bad example!\n",
      "\n",
      "Classifying prompts: 100%|██████████████████████████████████████████████████████████████████████████████████████████████████████████████████████████████████████████████████████| 4/4 [02:06<00:00, 31.81s/it]\u001b[A\n",
      "                                                                                                                                                                                                              \u001b[A2025-05-30 20:38:26,473 || INFO || MedRL-CoT Setup - Dumping to save\n"
     ]
    },
    {
     "data": {
      "application/vnd.jupyter.widget-view+json": {
       "model_id": "5802f60bd8d64e09a5023f0d3b213485",
       "version_major": 2,
       "version_minor": 0
      },
      "text/plain": [
       "Saving the dataset (0/1 shards):   0%|          | 0/1781 [00:00<?, ? examples/s]"
      ]
     },
     "metadata": {},
     "output_type": "display_data"
    },
    {
     "name": "stderr",
     "output_type": "stream",
     "text": [
      "Preprocessing dataset:   0%|▎                                                                                                                                        | 81/30000 [1:24:02<820:53:44, 98.77s/it]2025-05-30 20:38:26,497 || INFO || MedRL-CoT Setup - Preprocessing example 81\n",
      "\n",
      "Classifying prompts:   0%|                                                                                                                                                              | 0/3 [00:00<?, ?it/s]\u001b[A2025-05-30 20:39:55,183 || WARNING || MedRL-CoT Setup - Invalid JSON, trying conversion\n",
      "2025-05-30 20:39:55,184 || INFO || MedRL-CoT Setup - Successful conversion!\n",
      "\n",
      "Classifying prompts:  33%|██████████████████████████████████████████████████                                                                                                    | 1/3 [01:28<02:57, 88.58s/it]\u001b[A2025-05-30 20:40:14,079 || WARNING || MedRL-CoT Setup - Invalid JSON, trying conversion\n",
      "2025-05-30 20:40:14,079 || INFO || MedRL-CoT Setup - Successful conversion!\n",
      "\n",
      "Classifying prompts:  67%|████████████████████████████████████████████████████████████████████████████████████████████████████                                                  | 2/3 [01:47<00:47, 47.59s/it]\u001b[A2025-05-30 20:40:18,124 || WARNING || MedRL-CoT Setup - Invalid JSON, trying conversion\n",
      "2025-05-30 20:40:18,125 || INFO || MedRL-CoT Setup - Successful conversion!\n",
      "\n",
      "Classifying prompts: 100%|██████████████████████████████████████████████████████████████████████████████████████████████████████████████████████████████████████████████████████| 3/3 [01:51<00:00, 27.71s/it]\u001b[A\n",
      "                                                                                                                                                                                                              \u001b[A2025-05-30 20:40:18,130 || INFO || MedRL-CoT Setup - Dumping to save\n"
     ]
    },
    {
     "data": {
      "application/vnd.jupyter.widget-view+json": {
       "model_id": "76cdfe014cc54babaeae2ff6bbed712e",
       "version_major": 2,
       "version_minor": 0
      },
      "text/plain": [
       "Saving the dataset (0/1 shards):   0%|          | 0/1813 [00:00<?, ? examples/s]"
      ]
     },
     "metadata": {},
     "output_type": "display_data"
    },
    {
     "name": "stderr",
     "output_type": "stream",
     "text": [
      "Preprocessing dataset:   0%|▎                                                                                                                                       | 82/30000 [1:25:54<852:58:58, 102.64s/it]2025-05-30 20:40:18,153 || INFO || MedRL-CoT Setup - Preprocessing example 82\n",
      "\n",
      "Classifying prompts:   0%|                                                                                                                                                              | 0/3 [00:00<?, ?it/s]\u001b[A2025-05-30 20:40:51,810 || WARNING || MedRL-CoT Setup - Invalid JSON, trying conversion\n",
      "2025-05-30 20:40:51,811 || INFO || MedRL-CoT Setup - Successful conversion!\n",
      "\n",
      "Classifying prompts:  33%|██████████████████████████████████████████████████                                                                                                    | 1/3 [00:33<01:07, 33.55s/it]\u001b[A2025-05-30 20:41:08,733 || WARNING || MedRL-CoT Setup - Invalid JSON, trying conversion\n",
      "2025-05-30 20:41:08,734 || INFO || MedRL-CoT Setup - Successful conversion!\n",
      "\n",
      "Classifying prompts:  67%|████████████████████████████████████████████████████████████████████████████████████████████████████                                                  | 2/3 [00:50<00:23, 23.77s/it]\u001b[A2025-05-30 20:42:12,942 || WARNING || MedRL-CoT Setup - Invalid JSON, trying conversion\n",
      "2025-05-30 20:42:12,943 || INFO || MedRL-CoT Setup - Successful conversion!\n",
      "\n",
      "Classifying prompts: 100%|██████████████████████████████████████████████████████████████████████████████████████████████████████████████████████████████████████████████████████| 3/3 [01:54<00:00, 42.23s/it]\u001b[A\n",
      "                                                                                                                                                                                                              \u001b[A2025-05-30 20:42:12,947 || INFO || MedRL-CoT Setup - Dumping to save\n"
     ]
    },
    {
     "data": {
      "application/vnd.jupyter.widget-view+json": {
       "model_id": "eee626a6afc04e0386c5d75df0b3f911",
       "version_major": 2,
       "version_minor": 0
      },
      "text/plain": [
       "Saving the dataset (0/1 shards):   0%|          | 0/1842 [00:00<?, ? examples/s]"
      ]
     },
     "metadata": {},
     "output_type": "display_data"
    },
    {
     "name": "stderr",
     "output_type": "stream",
     "text": [
      "Preprocessing dataset:   0%|▍                                                                                                                                       | 83/30000 [1:27:48<883:19:14, 106.29s/it]2025-05-30 20:42:12,971 || INFO || MedRL-CoT Setup - Preprocessing example 83\n",
      "\n",
      "Classifying prompts:   0%|                                                                                                                                                              | 0/3 [00:00<?, ?it/s]\u001b[A2025-05-30 20:42:39,247 || ERROR || MedRL-CoT Setup - Nothing found, bad example!\n",
      "\n",
      "Classifying prompts:  33%|██████████████████████████████████████████████████                                                                                                    | 1/3 [00:26<00:52, 26.16s/it]\u001b[A2025-05-30 20:43:06,443 || INFO || MedRL-CoT Setup - Successful JSON parsed!\n",
      "\n",
      "Classifying prompts:  67%|████████████████████████████████████████████████████████████████████████████████████████████████████                                                  | 2/3 [00:53<00:26, 26.77s/it]\u001b[A2025-05-30 20:43:27,342 || WARNING || MedRL-CoT Setup - Invalid JSON, trying conversion\n",
      "2025-05-30 20:43:27,342 || INFO || MedRL-CoT Setup - Successful conversion!\n",
      "\n",
      "Classifying prompts: 100%|██████████████████████████████████████████████████████████████████████████████████████████████████████████████████████████████████████████████████████| 3/3 [01:14<00:00, 24.09s/it]\u001b[A\n",
      "                                                                                                                                                                                                              \u001b[A2025-05-30 20:43:27,347 || INFO || MedRL-CoT Setup - Dumping to save\n"
     ]
    },
    {
     "data": {
      "application/vnd.jupyter.widget-view+json": {
       "model_id": "4c9fdbf4a1134040909c6b880fd806d3",
       "version_major": 2,
       "version_minor": 0
      },
      "text/plain": [
       "Saving the dataset (0/1 shards):   0%|          | 0/1855 [00:00<?, ? examples/s]"
      ]
     },
     "metadata": {},
     "output_type": "display_data"
    },
    {
     "name": "stderr",
     "output_type": "stream",
     "text": [
      "Preprocessing dataset:   0%|▍                                                                                                                                        | 84/30000 [1:29:03<803:46:46, 96.72s/it]2025-05-30 20:43:27,370 || INFO || MedRL-CoT Setup - Preprocessing example 84\n",
      "\n",
      "Classifying prompts:   0%|                                                                                                                                                              | 0/3 [00:00<?, ?it/s]\u001b[A2025-05-30 20:43:53,635 || ERROR || MedRL-CoT Setup - Nothing found, bad example!\n",
      "\n",
      "Classifying prompts:  33%|██████████████████████████████████████████████████                                                                                                    | 1/3 [00:26<00:52, 26.15s/it]\u001b[A2025-05-30 20:44:20,830 || INFO || MedRL-CoT Setup - Successful JSON parsed!\n",
      "\n",
      "Classifying prompts:  67%|████████████████████████████████████████████████████████████████████████████████████████████████████                                                  | 2/3 [00:53<00:26, 26.77s/it]\u001b[A2025-05-30 20:44:41,754 || WARNING || MedRL-CoT Setup - Invalid JSON, trying conversion\n",
      "2025-05-30 20:44:41,755 || INFO || MedRL-CoT Setup - Successful conversion!\n",
      "\n",
      "Classifying prompts: 100%|██████████████████████████████████████████████████████████████████████████████████████████████████████████████████████████████████████████████████████| 3/3 [01:14<00:00, 24.10s/it]\u001b[A\n",
      "                                                                                                                                                                                                              \u001b[A2025-05-30 20:44:41,760 || INFO || MedRL-CoT Setup - Dumping to save\n"
     ]
    },
    {
     "data": {
      "application/vnd.jupyter.widget-view+json": {
       "model_id": "508d4dfdb77646ccaaa5edbfe0faec87",
       "version_major": 2,
       "version_minor": 0
      },
      "text/plain": [
       "Saving the dataset (0/1 shards):   0%|          | 0/1868 [00:00<?, ? examples/s]"
      ]
     },
     "metadata": {},
     "output_type": "display_data"
    },
    {
     "name": "stderr",
     "output_type": "stream",
     "text": [
      "Preprocessing dataset:   0%|▍                                                                                                                                        | 85/30000 [1:30:17<748:08:08, 90.03s/it]2025-05-30 20:44:41,784 || INFO || MedRL-CoT Setup - Preprocessing example 85\n",
      "\n",
      "Classifying prompts:   0%|                                                                                                                                                              | 0/3 [00:00<?, ?it/s]\u001b[A2025-05-30 20:45:03,101 || INFO || MedRL-CoT Setup - Successful JSON parsed!\n",
      "\n",
      "Classifying prompts:  33%|██████████████████████████████████████████████████                                                                                                    | 1/3 [00:21<00:42, 21.21s/it]\u001b[A2025-05-30 20:45:27,531 || INFO || MedRL-CoT Setup - Successful JSON parsed!\n",
      "\n",
      "Classifying prompts:  67%|████████████████████████████████████████████████████████████████████████████████████████████████████                                                  | 2/3 [00:45<00:23, 23.10s/it]\u001b[A2025-05-30 20:45:52,113 || INFO || MedRL-CoT Setup - Successful JSON parsed!\n",
      "\n",
      "Classifying prompts: 100%|██████████████████████████████████████████████████████████████████████████████████████████████████████████████████████████████████████████████████████| 3/3 [01:10<00:00, 23.78s/it]\u001b[A\n",
      "                                                                                                                                                                                                              \u001b[A2025-05-30 20:45:52,118 || INFO || MedRL-CoT Setup - Dumping to save\n"
     ]
    },
    {
     "data": {
      "application/vnd.jupyter.widget-view+json": {
       "model_id": "f48c56ac01c245b7b7934070666abb0e",
       "version_major": 2,
       "version_minor": 0
      },
      "text/plain": [
       "Saving the dataset (0/1 shards):   0%|          | 0/1890 [00:00<?, ? examples/s]"
      ]
     },
     "metadata": {},
     "output_type": "display_data"
    },
    {
     "name": "stderr",
     "output_type": "stream",
     "text": [
      "Preprocessing dataset:   0%|▍                                                                                                                                        | 86/30000 [1:31:28<699:03:51, 84.13s/it]2025-05-30 20:45:52,141 || INFO || MedRL-CoT Setup - Preprocessing example 86\n",
      "\n",
      "Classifying prompts:   0%|                                                                                                                                                              | 0/6 [00:00<?, ?it/s]\u001b[A2025-05-30 20:46:05,843 || WARNING || MedRL-CoT Setup - Invalid JSON, trying conversion\n",
      "2025-05-30 20:46:05,844 || INFO || MedRL-CoT Setup - Successful conversion!\n",
      "\n",
      "Classifying prompts:  17%|█████████████████████████                                                                                                                             | 1/6 [00:13<01:07, 13.59s/it]\u001b[A2025-05-30 20:46:22,387 || WARNING || MedRL-CoT Setup - Invalid JSON, trying conversion\n",
      "2025-05-30 20:46:22,388 || INFO || MedRL-CoT Setup - Successful conversion!\n",
      "\n",
      "Classifying prompts:  33%|██████████████████████████████████████████████████                                                                                                    | 2/6 [00:30<01:01, 15.33s/it]\u001b[A2025-05-30 20:46:44,444 || WARNING || MedRL-CoT Setup - Invalid JSON, trying conversion\n",
      "2025-05-30 20:46:44,445 || INFO || MedRL-CoT Setup - Successful conversion!\n",
      "\n",
      "Classifying prompts:  50%|███████████████████████████████████████████████████████████████████████████                                                                           | 3/6 [00:52<00:55, 18.40s/it]\u001b[A2025-05-30 20:46:59,446 || INFO || MedRL-CoT Setup - Successful JSON parsed!\n",
      "\n",
      "Classifying prompts:  67%|████████████████████████████████████████████████████████████████████████████████████████████████████                                                  | 4/6 [01:07<00:34, 17.06s/it]\u001b[A2025-05-30 20:47:24,966 || INFO || MedRL-CoT Setup - Successful JSON parsed!\n",
      "\n",
      "Classifying prompts:  83%|█████████████████████████████████████████████████████████████████████████████████████████████████████████████████████████████                         | 5/6 [01:32<00:20, 20.11s/it]\u001b[A2025-05-30 20:47:39,547 || WARNING || MedRL-CoT Setup - Invalid JSON, trying conversion\n",
      "2025-05-30 20:47:39,548 || INFO || MedRL-CoT Setup - Successful conversion!\n",
      "\n",
      "Classifying prompts: 100%|██████████████████████████████████████████████████████████████████████████████████████████████████████████████████████████████████████████████████████| 6/6 [01:47<00:00, 18.23s/it]\u001b[A\n",
      "                                                                                                                                                                                                              \u001b[A2025-05-30 20:47:39,552 || INFO || MedRL-CoT Setup - Dumping to save\n"
     ]
    },
    {
     "data": {
      "application/vnd.jupyter.widget-view+json": {
       "model_id": "d8c55980856f4552a7588b65cb49d927",
       "version_major": 2,
       "version_minor": 0
      },
      "text/plain": [
       "Saving the dataset (0/1 shards):   0%|          | 0/1921 [00:00<?, ? examples/s]"
      ]
     },
     "metadata": {},
     "output_type": "display_data"
    },
    {
     "name": "stderr",
     "output_type": "stream",
     "text": [
      "Preprocessing dataset:   0%|▍                                                                                                                                        | 87/30000 [1:33:15<757:08:13, 91.12s/it]2025-05-30 20:47:39,576 || INFO || MedRL-CoT Setup - Preprocessing example 87\n",
      "\n",
      "Classifying prompts:   0%|                                                                                                                                                              | 0/3 [00:00<?, ?it/s]\u001b[A2025-05-30 20:48:05,857 || ERROR || MedRL-CoT Setup - Nothing found, bad example!\n",
      "\n",
      "Classifying prompts:  33%|██████████████████████████████████████████████████                                                                                                    | 1/3 [00:26<00:52, 26.17s/it]\u001b[A2025-05-30 20:48:33,045 || INFO || MedRL-CoT Setup - Successful JSON parsed!\n",
      "\n",
      "Classifying prompts:  67%|████████████████████████████████████████████████████████████████████████████████████████████████████                                                  | 2/3 [00:53<00:26, 26.77s/it]\u001b[A2025-05-30 20:48:53,945 || WARNING || MedRL-CoT Setup - Invalid JSON, trying conversion\n",
      "2025-05-30 20:48:53,946 || INFO || MedRL-CoT Setup - Successful conversion!\n",
      "\n",
      "Classifying prompts: 100%|██████████████████████████████████████████████████████████████████████████████████████████████████████████████████████████████████████████████████████| 3/3 [01:14<00:00, 24.09s/it]\u001b[A\n",
      "                                                                                                                                                                                                              \u001b[A2025-05-30 20:48:53,950 || INFO || MedRL-CoT Setup - Dumping to save\n"
     ]
    },
    {
     "data": {
      "application/vnd.jupyter.widget-view+json": {
       "model_id": "45026708379647379fc4d027edbe0384",
       "version_major": 2,
       "version_minor": 0
      },
      "text/plain": [
       "Saving the dataset (0/1 shards):   0%|          | 0/1934 [00:00<?, ? examples/s]"
      ]
     },
     "metadata": {},
     "output_type": "display_data"
    },
    {
     "name": "stderr",
     "output_type": "stream",
     "text": [
      "Preprocessing dataset:   0%|▍                                                                                                                                        | 88/30000 [1:34:29<715:25:35, 86.10s/it]2025-05-30 20:48:53,973 || INFO || MedRL-CoT Setup - Preprocessing example 88\n",
      "\n",
      "Classifying prompts:   0%|                                                                                                                                                              | 0/3 [00:00<?, ?it/s]\u001b[A2025-05-30 20:49:20,241 || ERROR || MedRL-CoT Setup - Nothing found, bad example!\n",
      "\n",
      "Classifying prompts:  33%|██████████████████████████████████████████████████                                                                                                    | 1/3 [00:26<00:52, 26.16s/it]\u001b[A2025-05-30 20:49:47,427 || INFO || MedRL-CoT Setup - Successful JSON parsed!\n",
      "\n",
      "Classifying prompts:  67%|████████████████████████████████████████████████████████████████████████████████████████████████████                                                  | 2/3 [00:53<00:26, 26.76s/it]\u001b[A2025-05-30 20:50:08,337 || WARNING || MedRL-CoT Setup - Invalid JSON, trying conversion\n",
      "2025-05-30 20:50:08,338 || INFO || MedRL-CoT Setup - Successful conversion!\n",
      "\n",
      "Classifying prompts: 100%|██████████████████████████████████████████████████████████████████████████████████████████████████████████████████████████████████████████████████████| 3/3 [01:14<00:00, 24.09s/it]\u001b[A\n",
      "                                                                                                                                                                                                              \u001b[A2025-05-30 20:50:08,342 || INFO || MedRL-CoT Setup - Dumping to save\n"
     ]
    },
    {
     "data": {
      "application/vnd.jupyter.widget-view+json": {
       "model_id": "0cb07e02b9454af5851984e227f6eef0",
       "version_major": 2,
       "version_minor": 0
      },
      "text/plain": [
       "Saving the dataset (0/1 shards):   0%|          | 0/1947 [00:00<?, ? examples/s]"
      ]
     },
     "metadata": {},
     "output_type": "display_data"
    },
    {
     "name": "stderr",
     "output_type": "stream",
     "text": [
      "Preprocessing dataset:   0%|▍                                                                                                                                        | 89/30000 [1:35:44<686:12:42, 82.59s/it]2025-05-30 20:50:08,366 || INFO || MedRL-CoT Setup - Preprocessing example 89\n",
      "\n",
      "Classifying prompts:   0%|                                                                                                                                                              | 0/1 [00:00<?, ?it/s]\u001b[A2025-05-30 20:51:38,475 || WARNING || MedRL-CoT Setup - Invalid JSON, trying conversion\n",
      "2025-05-30 20:51:38,476 || INFO || MedRL-CoT Setup - Successful conversion!\n",
      "\n",
      "Classifying prompts: 100%|██████████████████████████████████████████████████████████████████████████████████████████████████████████████████████████████████████████████████████| 1/1 [01:29<00:00, 90.00s/it]\u001b[A\n",
      "                                                                                                                                                                                                              \u001b[A2025-05-30 20:51:38,480 || INFO || MedRL-CoT Setup - Dumping to save\n"
     ]
    },
    {
     "data": {
      "application/vnd.jupyter.widget-view+json": {
       "model_id": "c0dce81b069b41f69001455d78b0bcab",
       "version_major": 2,
       "version_minor": 0
      },
      "text/plain": [
       "Saving the dataset (0/1 shards):   0%|          | 0/1948 [00:00<?, ? examples/s]"
      ]
     },
     "metadata": {},
     "output_type": "display_data"
    },
    {
     "name": "stderr",
     "output_type": "stream",
     "text": [
      "Preprocessing dataset:   0%|▍                                                                                                                                        | 90/30000 [1:37:14<705:00:10, 84.85s/it]2025-05-30 20:51:38,505 || INFO || MedRL-CoT Setup - Preprocessing example 90\n",
      "\n",
      "Classifying prompts:   0%|                                                                                                                                                              | 0/3 [00:00<?, ?it/s]\u001b[A2025-05-30 20:52:22,494 || WARNING || MedRL-CoT Setup - Invalid JSON, trying conversion\n",
      "2025-05-30 20:52:22,495 || INFO || MedRL-CoT Setup - Successful conversion!\n",
      "\n",
      "Classifying prompts:  33%|██████████████████████████████████████████████████                                                                                                    | 1/3 [00:43<01:27, 43.88s/it]\u001b[A2025-05-30 20:52:50,308 || WARNING || MedRL-CoT Setup - Invalid JSON, trying conversion\n",
      "2025-05-30 20:52:50,309 || INFO || MedRL-CoT Setup - Successful conversion!\n",
      "\n",
      "Classifying prompts:  67%|████████████████████████████████████████████████████████████████████████████████████████████████████                                                  | 2/3 [01:11<00:34, 34.43s/it]\u001b[A2025-05-30 20:53:05,846 || INFO || MedRL-CoT Setup - Successful JSON parsed!\n",
      "\n",
      "Classifying prompts: 100%|██████████████████████████████████████████████████████████████████████████████████████████████████████████████████████████████████████████████████████| 3/3 [01:27<00:00, 25.80s/it]\u001b[A\n",
      "                                                                                                                                                                                                              \u001b[A2025-05-30 20:53:05,851 || INFO || MedRL-CoT Setup - Dumping to save\n"
     ]
    },
    {
     "data": {
      "application/vnd.jupyter.widget-view+json": {
       "model_id": "f70c365c3a2d42319e2a1b6dafad70c1",
       "version_major": 2,
       "version_minor": 0
      },
      "text/plain": [
       "Saving the dataset (0/1 shards):   0%|          | 0/1969 [00:00<?, ? examples/s]"
      ]
     },
     "metadata": {},
     "output_type": "display_data"
    },
    {
     "name": "stderr",
     "output_type": "stream",
     "text": [
      "Preprocessing dataset:   0%|▍                                                                                                                                        | 91/30000 [1:38:41<711:15:13, 85.61s/it]2025-05-30 20:53:05,877 || INFO || MedRL-CoT Setup - Preprocessing example 91\n",
      "\n",
      "Classifying prompts:   0%|                                                                                                                                                              | 0/1 [00:00<?, ?it/s]\u001b[A2025-05-30 20:54:01,106 || ERROR || MedRL-CoT Setup - Nothing found, bad example!\n",
      "\n",
      "Classifying prompts: 100%|██████████████████████████████████████████████████████████████████████████████████████████████████████████████████████████████████████████████████████| 1/1 [00:55<00:00, 55.12s/it]\u001b[A\n",
      "                                                                                                                                                                                                              \u001b[A2025-05-30 20:54:01,111 || INFO || MedRL-CoT Setup - Dumping to save\n"
     ]
    },
    {
     "data": {
      "application/vnd.jupyter.widget-view+json": {
       "model_id": "4d82f89c756149c780b680811eba5081",
       "version_major": 2,
       "version_minor": 0
      },
      "text/plain": [
       "Saving the dataset (0/1 shards):   0%|          | 0/1969 [00:00<?, ? examples/s]"
      ]
     },
     "metadata": {},
     "output_type": "display_data"
    },
    {
     "name": "stderr",
     "output_type": "stream",
     "text": [
      "Preprocessing dataset:   0%|▍                                                                                                                                        | 92/30000 [1:39:37<635:34:47, 76.50s/it]2025-05-30 20:54:01,134 || INFO || MedRL-CoT Setup - Preprocessing example 92\n",
      "\n",
      "Classifying prompts:   0%|                                                                                                                                                              | 0/6 [00:00<?, ?it/s]\u001b[A2025-05-30 20:54:23,208 || INFO || MedRL-CoT Setup - Successful JSON parsed!\n",
      "\n",
      "Classifying prompts:  17%|█████████████████████████                                                                                                                             | 1/6 [00:21<01:49, 21.96s/it]\u001b[A2025-05-30 20:54:56,388 || INFO || MedRL-CoT Setup - Successful JSON parsed!\n",
      "\n",
      "Classifying prompts:  33%|██████████████████████████████████████████████████                                                                                                    | 2/6 [00:55<01:54, 28.56s/it]\u001b[A2025-05-30 20:55:06,396 || WARNING || MedRL-CoT Setup - Invalid JSON, trying conversion\n",
      "2025-05-30 20:55:06,397 || INFO || MedRL-CoT Setup - Successful conversion!\n",
      "\n",
      "Classifying prompts:  50%|███████████████████████████████████████████████████████████████████████████                                                                           | 3/6 [01:05<01:00, 20.09s/it]\u001b[A2025-05-30 20:55:19,149 || WARNING || MedRL-CoT Setup - Invalid JSON, trying conversion\n",
      "2025-05-30 20:55:19,150 || INFO || MedRL-CoT Setup - Successful conversion!\n",
      "\n",
      "Classifying prompts:  67%|████████████████████████████████████████████████████████████████████████████████████████████████████                                                  | 4/6 [01:17<00:34, 17.19s/it]\u001b[A2025-05-30 20:55:40,012 || WARNING || MedRL-CoT Setup - Invalid JSON, trying conversion\n",
      "2025-05-30 20:55:40,013 || INFO || MedRL-CoT Setup - Successful conversion!\n",
      "\n",
      "Classifying prompts:  83%|█████████████████████████████████████████████████████████████████████████████████████████████████████████████████████████████                         | 5/6 [01:38<00:18, 18.52s/it]\u001b[A2025-05-30 20:55:54,954 || INFO || MedRL-CoT Setup - Successful JSON parsed!\n",
      "\n",
      "Classifying prompts: 100%|██████████████████████████████████████████████████████████████████████████████████████████████████████████████████████████████████████████████████████| 6/6 [01:53<00:00, 17.30s/it]\u001b[A\n",
      "                                                                                                                                                                                                              \u001b[A2025-05-30 20:55:54,959 || INFO || MedRL-CoT Setup - Dumping to save\n"
     ]
    },
    {
     "data": {
      "application/vnd.jupyter.widget-view+json": {
       "model_id": "a70823e82173462b8be1af8ab6ff6cdf",
       "version_major": 2,
       "version_minor": 0
      },
      "text/plain": [
       "Saving the dataset (0/1 shards):   0%|          | 0/2004 [00:00<?, ? examples/s]"
      ]
     },
     "metadata": {},
     "output_type": "display_data"
    },
    {
     "name": "stderr",
     "output_type": "stream",
     "text": [
      "Preprocessing dataset:   0%|▍                                                                                                                                        | 93/30000 [1:41:30<728:38:05, 87.71s/it]2025-05-30 20:55:54,985 || INFO || MedRL-CoT Setup - Preprocessing example 93\n",
      "\n",
      "Classifying prompts:   0%|                                                                                                                                                              | 0/6 [00:00<?, ?it/s]\u001b[A2025-05-30 20:56:11,032 || WARNING || MedRL-CoT Setup - Invalid JSON, trying conversion\n",
      "2025-05-30 20:56:11,033 || INFO || MedRL-CoT Setup - Successful conversion!\n",
      "\n",
      "Classifying prompts:  17%|█████████████████████████                                                                                                                             | 1/6 [00:15<01:19, 15.94s/it]\u001b[A2025-05-30 20:56:20,242 || INFO || MedRL-CoT Setup - Successful JSON parsed!\n",
      "\n",
      "Classifying prompts:  33%|██████████████████████████████████████████████████                                                                                                    | 2/6 [00:25<00:47, 11.98s/it]\u001b[A2025-05-30 20:57:17,123 || WARNING || MedRL-CoT Setup - Invalid JSON, trying conversion\n",
      "2025-05-30 20:57:17,124 || INFO || MedRL-CoT Setup - Successful conversion!\n",
      "\n",
      "Classifying prompts:  50%|███████████████████████████████████████████████████████████████████████████                                                                           | 3/6 [01:22<01:37, 32.48s/it]\u001b[A2025-05-30 20:57:21,647 || INFO || MedRL-CoT Setup - Successful JSON parsed!\n",
      "\n",
      "Classifying prompts:  67%|████████████████████████████████████████████████████████████████████████████████████████████████████                                                  | 4/6 [01:26<00:42, 21.44s/it]\u001b[A2025-05-30 20:57:32,729 || WARNING || MedRL-CoT Setup - Invalid JSON, trying conversion\n",
      "2025-05-30 20:57:32,730 || INFO || MedRL-CoT Setup - Successful conversion!\n",
      "\n",
      "Classifying prompts:  83%|█████████████████████████████████████████████████████████████████████████████████████████████████████████████████████████████                         | 5/6 [01:37<00:17, 17.71s/it]\u001b[A2025-05-30 20:57:37,344 || INFO || MedRL-CoT Setup - Successful JSON parsed!\n",
      "\n",
      "Classifying prompts: 100%|██████████████████████████████████████████████████████████████████████████████████████████████████████████████████████████████████████████████████████| 6/6 [01:42<00:00, 13.26s/it]\u001b[A\n",
      "                                                                                                                                                                                                              \u001b[A2025-05-30 20:57:37,349 || INFO || MedRL-CoT Setup - Dumping to save\n"
     ]
    },
    {
     "data": {
      "application/vnd.jupyter.widget-view+json": {
       "model_id": "009aae429c284c7f80dc2d6ee6836120",
       "version_major": 2,
       "version_minor": 0
      },
      "text/plain": [
       "Saving the dataset (0/1 shards):   0%|          | 0/2037 [00:00<?, ? examples/s]"
      ]
     },
     "metadata": {},
     "output_type": "display_data"
    },
    {
     "name": "stderr",
     "output_type": "stream",
     "text": [
      "Preprocessing dataset:   0%|▍                                                                                                                                        | 94/30000 [1:43:13<765:11:38, 92.11s/it]2025-05-30 20:57:37,372 || INFO || MedRL-CoT Setup - Preprocessing example 94\n",
      "\n",
      "Classifying prompts:   0%|                                                                                                                                                              | 0/4 [00:00<?, ?it/s]\u001b[A2025-05-30 20:58:02,927 || WARNING || MedRL-CoT Setup - Invalid JSON, trying conversion\n",
      "2025-05-30 20:58:02,928 || INFO || MedRL-CoT Setup - Successful conversion!\n",
      "\n",
      "Classifying prompts:  25%|█████████████████████████████████████▌                                                                                                                | 1/4 [00:25<01:16, 25.45s/it]\u001b[A2025-05-30 20:58:34,408 || INFO || MedRL-CoT Setup - Successful JSON parsed!\n",
      "\n",
      "Classifying prompts:  50%|███████████████████████████████████████████████████████████████████████████                                                                           | 2/4 [00:56<00:57, 29.00s/it]\u001b[A2025-05-30 20:59:07,304 || INFO || MedRL-CoT Setup - Successful JSON parsed!\n",
      "\n",
      "Classifying prompts:  75%|████████████████████████████████████████████████████████████████████████████████████████████████████████████████▌                                     | 3/4 [01:29<00:30, 30.78s/it]\u001b[A2025-05-30 20:59:14,358 || WARNING || MedRL-CoT Setup - Invalid JSON, trying conversion\n",
      "2025-05-30 20:59:14,359 || INFO || MedRL-CoT Setup - Successful conversion!\n",
      "\n",
      "Classifying prompts: 100%|██████████████████████████████████████████████████████████████████████████████████████████████████████████████████████████████████████████████████████| 4/4 [01:36<00:00, 21.41s/it]\u001b[A\n",
      "                                                                                                                                                                                                              \u001b[A2025-05-30 20:59:14,363 || INFO || MedRL-CoT Setup - Dumping to save\n"
     ]
    },
    {
     "data": {
      "application/vnd.jupyter.widget-view+json": {
       "model_id": "3c80d8c9066c4f8db23b325795176a30",
       "version_major": 2,
       "version_minor": 0
      },
      "text/plain": [
       "Saving the dataset (0/1 shards):   0%|          | 0/2062 [00:00<?, ? examples/s]"
      ]
     },
     "metadata": {},
     "output_type": "display_data"
    },
    {
     "name": "stderr",
     "output_type": "stream",
     "text": [
      "Preprocessing dataset:   0%|▍                                                                                                                                        | 95/30000 [1:44:50<777:23:22, 93.58s/it]2025-05-30 20:59:14,388 || INFO || MedRL-CoT Setup - Preprocessing example 95\n",
      "\n",
      "Classifying prompts:   0%|                                                                                                                                                              | 0/1 [00:00<?, ?it/s]\u001b[A2025-05-30 21:00:19,611 || ERROR || MedRL-CoT Setup - Nothing found, bad example!\n",
      "\n",
      "Classifying prompts: 100%|██████████████████████████████████████████████████████████████████████████████████████████████████████████████████████████████████████████████████████| 1/1 [01:05<00:00, 65.11s/it]\u001b[A\n",
      "                                                                                                                                                                                                              \u001b[A2025-05-30 21:00:19,615 || INFO || MedRL-CoT Setup - Dumping to save\n"
     ]
    },
    {
     "data": {
      "application/vnd.jupyter.widget-view+json": {
       "model_id": "a33e3b217f0f425296b0bb17e6990600",
       "version_major": 2,
       "version_minor": 0
      },
      "text/plain": [
       "Saving the dataset (0/1 shards):   0%|          | 0/2062 [00:00<?, ? examples/s]"
      ]
     },
     "metadata": {},
     "output_type": "display_data"
    },
    {
     "name": "stderr",
     "output_type": "stream",
     "text": [
      "Preprocessing dataset:   0%|▍                                                                                                                                        | 96/30000 [1:45:55<706:45:35, 85.08s/it]2025-05-30 21:00:19,639 || INFO || MedRL-CoT Setup - Preprocessing example 96\n",
      "\n",
      "Classifying prompts:   0%|                                                                                                                                                              | 0/4 [00:00<?, ?it/s]\u001b[A2025-05-30 21:01:35,448 || WARNING || MedRL-CoT Setup - Invalid JSON, trying conversion\n",
      "2025-05-30 21:01:35,449 || INFO || MedRL-CoT Setup - Successful conversion!\n",
      "\n",
      "Classifying prompts:  25%|█████████████████████████████████████▌                                                                                                                | 1/4 [01:15<03:47, 75.70s/it]\u001b[A2025-05-30 21:02:00,241 || WARNING || MedRL-CoT Setup - Invalid JSON, trying conversion\n",
      "2025-05-30 21:02:00,243 || INFO || MedRL-CoT Setup - Successful conversion!\n",
      "\n",
      "Classifying prompts:  50%|███████████████████████████████████████████████████████████████████████████                                                                           | 2/4 [01:40<01:31, 45.76s/it]\u001b[A2025-05-30 21:02:31,795 || INFO || MedRL-CoT Setup - Successful JSON parsed!\n",
      "\n",
      "Classifying prompts:  75%|████████████████████████████████████████████████████████████████████████████████████████████████████████████████▌                                     | 3/4 [02:12<00:39, 39.27s/it]\u001b[A2025-05-30 21:02:43,966 || WARNING || MedRL-CoT Setup - Invalid JSON, trying conversion\n",
      "2025-05-30 21:02:43,967 || INFO || MedRL-CoT Setup - Successful conversion!\n",
      "\n",
      "Classifying prompts: 100%|██████████████████████████████████████████████████████████████████████████████████████████████████████████████████████████████████████████████████████| 4/4 [02:24<00:00, 28.57s/it]\u001b[A\n",
      "                                                                                                                                                                                                              \u001b[A2025-05-30 21:02:43,972 || INFO || MedRL-CoT Setup - Dumping to save\n"
     ]
    },
    {
     "data": {
      "application/vnd.jupyter.widget-view+json": {
       "model_id": "55da3e50e2f9445eba2eb5c9c92d8948",
       "version_major": 2,
       "version_minor": 0
      },
      "text/plain": [
       "Saving the dataset (0/1 shards):   0%|          | 0/2097 [00:00<?, ? examples/s]"
      ]
     },
     "metadata": {},
     "output_type": "display_data"
    },
    {
     "name": "stderr",
     "output_type": "stream",
     "text": [
      "Preprocessing dataset:   0%|▍                                                                                                                                       | 97/30000 [1:48:19<854:26:17, 102.87s/it]2025-05-30 21:02:43,995 || INFO || MedRL-CoT Setup - Preprocessing example 97\n",
      "\n",
      "Classifying prompts:   0%|                                                                                                                                                              | 0/4 [00:00<?, ?it/s]\u001b[A2025-05-30 21:02:56,841 || WARNING || MedRL-CoT Setup - Invalid JSON, trying conversion\n",
      "2025-05-30 21:02:56,842 || INFO || MedRL-CoT Setup - Successful conversion!\n",
      "\n",
      "Classifying prompts:  25%|█████████████████████████████████████▌                                                                                                                | 1/4 [00:12<00:38, 12.74s/it]\u001b[A2025-05-30 21:03:25,614 || WARNING || MedRL-CoT Setup - Invalid JSON, trying conversion\n",
      "2025-05-30 21:03:25,615 || INFO || MedRL-CoT Setup - Successful conversion!\n",
      "\n",
      "Classifying prompts:  50%|███████████████████████████████████████████████████████████████████████████                                                                           | 2/4 [00:41<00:44, 22.17s/it]\u001b[A2025-05-30 21:03:43,653 || INFO || MedRL-CoT Setup - Successful JSON parsed!\n",
      "\n",
      "Classifying prompts:  75%|████████████████████████████████████████████████████████████████████████████████████████████████████████████████▌                                     | 3/4 [00:59<00:20, 20.28s/it]\u001b[A2025-05-30 21:03:59,958 || WARNING || MedRL-CoT Setup - Invalid JSON, trying conversion\n",
      "2025-05-30 21:03:59,959 || INFO || MedRL-CoT Setup - Successful conversion!\n",
      "\n",
      "Classifying prompts: 100%|██████████████████████████████████████████████████████████████████████████████████████████████████████████████████████████████████████████████████████| 4/4 [01:15<00:00, 18.71s/it]\u001b[A\n",
      "                                                                                                                                                                                                              \u001b[A2025-05-30 21:03:59,964 || INFO || MedRL-CoT Setup - Dumping to save\n"
     ]
    },
    {
     "data": {
      "application/vnd.jupyter.widget-view+json": {
       "model_id": "02bcf5099cb8432c8fc629619362d7f1",
       "version_major": 2,
       "version_minor": 0
      },
      "text/plain": [
       "Saving the dataset (0/1 shards):   0%|          | 0/2112 [00:00<?, ? examples/s]"
      ]
     },
     "metadata": {},
     "output_type": "display_data"
    },
    {
     "name": "stderr",
     "output_type": "stream",
     "text": [
      "Preprocessing dataset:   0%|▍                                                                                                                                        | 98/30000 [1:49:35<787:26:43, 94.80s/it]2025-05-30 21:03:59,986 || INFO || MedRL-CoT Setup - Preprocessing example 98\n",
      "\n",
      "Classifying prompts:   0%|                                                                                                                                                              | 0/2 [00:00<?, ?it/s]\u001b[A2025-05-30 21:04:34,816 || INFO || MedRL-CoT Setup - Successful JSON parsed!\n",
      "\n",
      "Classifying prompts:  50%|███████████████████████████████████████████████████████████████████████████                                                                           | 1/2 [00:34<00:34, 34.72s/it]\u001b[A2025-05-30 21:05:13,358 || WARNING || MedRL-CoT Setup - Invalid JSON, trying conversion\n",
      "2025-05-30 21:05:13,359 || INFO || MedRL-CoT Setup - Successful conversion!\n",
      "\n",
      "Classifying prompts: 100%|██████████████████████████████████████████████████████████████████████████████████████████████████████████████████████████████████████████████████████| 2/2 [01:13<00:00, 36.97s/it]\u001b[A\n",
      "                                                                                                                                                                                                              \u001b[A2025-05-30 21:05:13,363 || INFO || MedRL-CoT Setup - Dumping to save\n"
     ]
    },
    {
     "data": {
      "application/vnd.jupyter.widget-view+json": {
       "model_id": "440d95a7144e438c95b4ec2a58746ad0",
       "version_major": 2,
       "version_minor": 0
      },
      "text/plain": [
       "Saving the dataset (0/1 shards):   0%|          | 0/2120 [00:00<?, ? examples/s]"
      ]
     },
     "metadata": {},
     "output_type": "display_data"
    },
    {
     "name": "stderr",
     "output_type": "stream",
     "text": [
      "Preprocessing dataset:   0%|▍                                                                                                                                        | 99/30000 [1:50:49<734:05:22, 88.38s/it]2025-05-30 21:05:13,387 || INFO || MedRL-CoT Setup - Preprocessing example 99\n",
      "\n",
      "Classifying prompts:   0%|                                                                                                                                                              | 0/1 [00:00<?, ?it/s]\u001b[A2025-05-30 21:06:16,205 || ERROR || MedRL-CoT Setup - Nothing found, bad example!\n",
      "\n",
      "Classifying prompts: 100%|██████████████████████████████████████████████████████████████████████████████████████████████████████████████████████████████████████████████████████| 1/1 [01:02<00:00, 62.71s/it]\u001b[A\n",
      "                                                                                                                                                                                                              \u001b[A2025-05-30 21:06:16,209 || INFO || MedRL-CoT Setup - Dumping to save\n"
     ]
    },
    {
     "data": {
      "application/vnd.jupyter.widget-view+json": {
       "model_id": "ddaa1fab2d5e4ebc987dd4c84f9c4288",
       "version_major": 2,
       "version_minor": 0
      },
      "text/plain": [
       "Saving the dataset (0/1 shards):   0%|          | 0/2120 [00:00<?, ? examples/s]"
      ]
     },
     "metadata": {},
     "output_type": "display_data"
    },
    {
     "name": "stderr",
     "output_type": "stream",
     "text": [
      "Preprocessing dataset:   0%|▍                                                                                                                                       | 100/30000 [1:51:52<670:26:28, 80.72s/it]2025-05-30 21:06:16,235 || INFO || MedRL-CoT Setup - Preprocessing example 100\n",
      "\n",
      "Classifying prompts:   0%|                                                                                                                                                              | 0/5 [00:00<?, ?it/s]\u001b[A2025-05-30 21:06:32,254 || WARNING || MedRL-CoT Setup - Invalid JSON, trying conversion\n",
      "2025-05-30 21:06:32,255 || INFO || MedRL-CoT Setup - Successful conversion!\n",
      "\n",
      "Classifying prompts:  20%|██████████████████████████████                                                                                                                        | 1/5 [00:15<01:03, 15.91s/it]\u001b[A2025-05-30 21:06:47,061 || WARNING || MedRL-CoT Setup - Invalid JSON, trying conversion\n",
      "2025-05-30 21:06:47,062 || INFO || MedRL-CoT Setup - Successful conversion!\n",
      "\n",
      "Classifying prompts:  40%|████████████████████████████████████████████████████████████                                                                                          | 2/5 [00:30<00:45, 15.26s/it]\u001b[A2025-05-30 21:07:13,622 || WARNING || MedRL-CoT Setup - Invalid JSON, trying conversion\n",
      "2025-05-30 21:07:13,623 || INFO || MedRL-CoT Setup - Successful conversion!\n",
      "\n",
      "Classifying prompts:  60%|██████████████████████████████████████████████████████████████████████████████████████████                                                            | 3/5 [00:57<00:40, 20.42s/it]\u001b[A2025-05-30 21:07:27,984 || INFO || MedRL-CoT Setup - Successful JSON parsed!\n",
      "\n",
      "Classifying prompts:  80%|████████████████████████████████████████████████████████████████████████████████████████████████████████████████████████                              | 4/5 [01:11<00:18, 18.03s/it]\u001b[A2025-05-30 21:07:40,391 || WARNING || MedRL-CoT Setup - Invalid JSON, trying conversion\n",
      "2025-05-30 21:07:40,392 || INFO || MedRL-CoT Setup - Successful conversion!\n",
      "\n",
      "Classifying prompts: 100%|██████████████████████████████████████████████████████████████████████████████████████████████████████████████████████████████████████████████████████| 5/5 [01:24<00:00, 16.00s/it]\u001b[A\n",
      "                                                                                                                                                                                                              \u001b[A2025-05-30 21:07:40,396 || INFO || MedRL-CoT Setup - Dumping to save\n"
     ]
    },
    {
     "data": {
      "application/vnd.jupyter.widget-view+json": {
       "model_id": "a8691793518f4acf81ff727b01889036",
       "version_major": 2,
       "version_minor": 0
      },
      "text/plain": [
       "Saving the dataset (0/1 shards):   0%|          | 0/2144 [00:00<?, ? examples/s]"
      ]
     },
     "metadata": {},
     "output_type": "display_data"
    },
    {
     "name": "stderr",
     "output_type": "stream",
     "text": [
      "Preprocessing dataset:   0%|▍                                                                                                                                       | 101/30000 [1:53:16<679:02:46, 81.76s/it]2025-05-30 21:07:40,419 || INFO || MedRL-CoT Setup - Preprocessing example 101\n",
      "\n",
      "Classifying prompts:   0%|                                                                                                                                                              | 0/5 [00:00<?, ?it/s]\u001b[A2025-05-30 21:07:58,378 || INFO || MedRL-CoT Setup - Successful JSON parsed!\n",
      "\n",
      "Classifying prompts:  20%|██████████████████████████████                                                                                                                        | 1/5 [00:17<01:11, 17.85s/it]\u001b[A2025-05-30 21:08:15,392 || WARNING || MedRL-CoT Setup - Invalid JSON, trying conversion\n",
      "2025-05-30 21:08:15,393 || INFO || MedRL-CoT Setup - Successful conversion!\n",
      "\n",
      "Classifying prompts:  40%|████████████████████████████████████████████████████████████                                                                                          | 2/5 [00:34<00:52, 17.36s/it]\u001b[A2025-05-30 21:08:34,727 || WARNING || MedRL-CoT Setup - Invalid JSON, trying conversion\n",
      "2025-05-30 21:08:34,728 || INFO || MedRL-CoT Setup - Successful conversion!\n",
      "\n",
      "Classifying prompts:  60%|██████████████████████████████████████████████████████████████████████████████████████████                                                            | 3/5 [00:54<00:36, 18.26s/it]\u001b[A2025-05-30 21:08:56,502 || WARNING || MedRL-CoT Setup - Invalid JSON, trying conversion\n",
      "2025-05-30 21:08:56,503 || INFO || MedRL-CoT Setup - Successful conversion!\n",
      "\n",
      "Classifying prompts:  80%|████████████████████████████████████████████████████████████████████████████████████████████████████████████████████████                              | 4/5 [01:15<00:19, 19.65s/it]\u001b[A2025-05-30 21:09:02,597 || INFO || MedRL-CoT Setup - Successful JSON parsed!\n",
      "\n",
      "Classifying prompts: 100%|██████████████████████████████████████████████████████████████████████████████████████████████████████████████████████████████████████████████████████| 5/5 [01:22<00:00, 14.76s/it]\u001b[A\n",
      "                                                                                                                                                                                                              \u001b[A2025-05-30 21:09:02,601 || INFO || MedRL-CoT Setup - Dumping to save\n"
     ]
    },
    {
     "data": {
      "application/vnd.jupyter.widget-view+json": {
       "model_id": "ff0b8ce800694feba6021c14b3f0dddf",
       "version_major": 2,
       "version_minor": 0
      },
      "text/plain": [
       "Saving the dataset (0/1 shards):   0%|          | 0/2168 [00:00<?, ? examples/s]"
      ]
     },
     "metadata": {},
     "output_type": "display_data"
    },
    {
     "name": "stderr",
     "output_type": "stream",
     "text": [
      "Preprocessing dataset:   0%|▍                                                                                                                                       | 102/30000 [1:54:38<680:08:04, 81.89s/it]2025-05-30 21:09:02,626 || INFO || MedRL-CoT Setup - Preprocessing example 102\n",
      "\n",
      "Classifying prompts:   0%|                                                                                                                                                              | 0/2 [00:00<?, ?it/s]\u001b[A2025-05-30 21:10:07,993 || ERROR || MedRL-CoT Setup - Nothing found, bad example!\n",
      "\n",
      "Classifying prompts:  50%|███████████████████████████████████████████████████████████████████████████                                                                           | 1/2 [01:05<01:05, 65.26s/it]\u001b[A2025-05-30 21:10:15,426 || INFO || MedRL-CoT Setup - Successful JSON parsed!\n",
      "\n",
      "Classifying prompts: 100%|██████████████████████████████████████████████████████████████████████████████████████████████████████████████████████████████████████████████████████| 2/2 [01:12<00:00, 31.24s/it]\u001b[A\n",
      "                                                                                                                                                                                                              \u001b[A2025-05-30 21:10:15,431 || INFO || MedRL-CoT Setup - Dumping to save\n"
     ]
    },
    {
     "data": {
      "application/vnd.jupyter.widget-view+json": {
       "model_id": "148c890fd7a64bf2ae5dfe9dc5923cb7",
       "version_major": 2,
       "version_minor": 0
      },
      "text/plain": [
       "Saving the dataset (0/1 shards):   0%|          | 0/2170 [00:00<?, ? examples/s]"
      ]
     },
     "metadata": {},
     "output_type": "display_data"
    },
    {
     "name": "stderr",
     "output_type": "stream",
     "text": [
      "Preprocessing dataset:   0%|▍                                                                                                                                       | 103/30000 [1:55:51<657:31:41, 79.18s/it]2025-05-30 21:10:15,457 || INFO || MedRL-CoT Setup - Preprocessing example 103\n",
      "\n",
      "Classifying prompts:   0%|                                                                                                                                                              | 0/6 [00:00<?, ?it/s]\u001b[A2025-05-30 21:10:35,604 || INFO || MedRL-CoT Setup - Successful JSON parsed!\n",
      "\n",
      "Classifying prompts:  17%|█████████████████████████                                                                                                                             | 1/6 [00:20<01:40, 20.04s/it]\u001b[A2025-05-30 21:12:04,320 || WARNING || MedRL-CoT Setup - Invalid JSON, trying conversion\n",
      "2025-05-30 21:12:04,321 || INFO || MedRL-CoT Setup - Successful conversion!\n",
      "\n",
      "Classifying prompts:  33%|██████████████████████████████████████████████████                                                                                                    | 2/6 [01:48<04:01, 60.44s/it]\u001b[A2025-05-30 21:12:12,002 || INFO || MedRL-CoT Setup - Successful JSON parsed!\n",
      "\n",
      "Classifying prompts:  50%|███████████████████████████████████████████████████████████████████████████                                                                           | 3/6 [01:56<01:49, 36.35s/it]\u001b[A2025-05-30 21:12:25,356 || INFO || MedRL-CoT Setup - Successful JSON parsed!\n",
      "\n",
      "Classifying prompts:  67%|████████████████████████████████████████████████████████████████████████████████████████████████████                                                  | 4/6 [02:09<00:54, 27.27s/it]\u001b[A2025-05-30 21:12:37,742 || INFO || MedRL-CoT Setup - Successful JSON parsed!\n",
      "\n",
      "Classifying prompts:  83%|█████████████████████████████████████████████████████████████████████████████████████████████████████████████████████████████                         | 5/6 [02:22<00:21, 21.90s/it]\u001b[A2025-05-30 21:12:52,810 || INFO || MedRL-CoT Setup - Successful JSON parsed!\n",
      "\n",
      "Classifying prompts: 100%|██████████████████████████████████████████████████████████████████████████████████████████████████████████████████████████████████████████████████████| 6/6 [02:37<00:00, 19.58s/it]\u001b[A\n",
      "                                                                                                                                                                                                              \u001b[A2025-05-30 21:12:52,814 || INFO || MedRL-CoT Setup - Dumping to save\n"
     ]
    },
    {
     "data": {
      "application/vnd.jupyter.widget-view+json": {
       "model_id": "cfab67392641474bb0cc6c60d6957609",
       "version_major": 2,
       "version_minor": 0
      },
      "text/plain": [
       "Saving the dataset (0/1 shards):   0%|          | 0/2196 [00:00<?, ? examples/s]"
      ]
     },
     "metadata": {},
     "output_type": "display_data"
    },
    {
     "name": "stderr",
     "output_type": "stream",
     "text": [
      "Preprocessing dataset:   0%|▍                                                                                                                                      | 104/30000 [1:58:28<852:20:54, 102.64s/it]2025-05-30 21:12:52,840 || INFO || MedRL-CoT Setup - Preprocessing example 104\n",
      "\n",
      "Classifying prompts:   0%|                                                                                                                                                              | 0/4 [00:00<?, ?it/s]\u001b[A2025-05-30 21:13:19,059 || WARNING || MedRL-CoT Setup - Invalid JSON, trying conversion\n",
      "2025-05-30 21:13:19,060 || INFO || MedRL-CoT Setup - Successful conversion!\n",
      "\n",
      "Classifying prompts:  25%|█████████████████████████████████████▌                                                                                                                | 1/4 [00:26<01:18, 26.11s/it]\u001b[A2025-05-30 21:13:54,931 || WARNING || MedRL-CoT Setup - Invalid JSON, trying conversion\n",
      "2025-05-30 21:13:54,932 || INFO || MedRL-CoT Setup - Successful conversion!\n",
      "\n",
      "Classifying prompts:  50%|███████████████████████████████████████████████████████████████████████████                                                                           | 2/4 [01:01<01:03, 31.85s/it]\u001b[A2025-05-30 21:13:57,922 || INFO || MedRL-CoT Setup - Successful JSON parsed!\n",
      "\n",
      "Classifying prompts:  75%|████████████████████████████████████████████████████████████████████████████████████████████████████████████████▌                                     | 3/4 [01:04<00:18, 18.67s/it]\u001b[A2025-05-30 21:14:05,603 || INFO || MedRL-CoT Setup - Successful JSON parsed!\n",
      "\n",
      "Classifying prompts: 100%|██████████████████████████████████████████████████████████████████████████████████████████████████████████████████████████████████████████████████████| 4/4 [01:12<00:00, 14.33s/it]\u001b[A\n",
      "                                                                                                                                                                                                              \u001b[A2025-05-30 21:14:05,607 || INFO || MedRL-CoT Setup - Dumping to save\n"
     ]
    },
    {
     "data": {
      "application/vnd.jupyter.widget-view+json": {
       "model_id": "7072de1e8abd45daad767eb8dd154a16",
       "version_major": 2,
       "version_minor": 0
      },
      "text/plain": [
       "Saving the dataset (0/1 shards):   0%|          | 0/2219 [00:00<?, ? examples/s]"
      ]
     },
     "metadata": {},
     "output_type": "display_data"
    },
    {
     "name": "stderr",
     "output_type": "stream",
     "text": [
      "Preprocessing dataset:   0%|▍                                                                                                                                       | 105/30000 [1:59:41<777:58:02, 93.68s/it]2025-05-30 21:14:05,632 || INFO || MedRL-CoT Setup - Preprocessing example 105\n",
      "\n",
      "Classifying prompts:   0%|                                                                                                                                                              | 0/1 [00:00<?, ?it/s]\u001b[A2025-05-30 21:14:58,354 || WARNING || MedRL-CoT Setup - Invalid JSON, trying conversion\n",
      "2025-05-30 21:14:58,355 || INFO || MedRL-CoT Setup - Successful conversion!\n",
      "\n",
      "Classifying prompts: 100%|██████████████████████████████████████████████████████████████████████████████████████████████████████████████████████████████████████████████████████| 1/1 [00:52<00:00, 52.61s/it]\u001b[A\n",
      "                                                                                                                                                                                                              \u001b[A2025-05-30 21:14:58,360 || INFO || MedRL-CoT Setup - Dumping to save\n"
     ]
    },
    {
     "data": {
      "application/vnd.jupyter.widget-view+json": {
       "model_id": "12b32ab2e88a4fa6933ce21260a4f3c6",
       "version_major": 2,
       "version_minor": 0
      },
      "text/plain": [
       "Saving the dataset (0/1 shards):   0%|          | 0/2233 [00:00<?, ? examples/s]"
      ]
     },
     "metadata": {},
     "output_type": "display_data"
    },
    {
     "name": "stderr",
     "output_type": "stream",
     "text": [
      "Preprocessing dataset:   0%|▍                                                                                                                                       | 106/30000 [2:00:34<675:58:30, 81.40s/it]2025-05-30 21:14:58,384 || INFO || MedRL-CoT Setup - Preprocessing example 106\n",
      "\n",
      "Classifying prompts:   0%|                                                                                                                                                              | 0/4 [00:00<?, ?it/s]\u001b[A2025-05-30 21:15:08,698 || WARNING || MedRL-CoT Setup - Invalid JSON, trying conversion\n",
      "2025-05-30 21:15:08,699 || INFO || MedRL-CoT Setup - Successful conversion!\n",
      "\n",
      "Classifying prompts:  25%|█████████████████████████████████████▌                                                                                                                | 1/4 [00:10<00:30, 10.20s/it]\u001b[A2025-05-30 21:15:35,264 || WARNING || MedRL-CoT Setup - Invalid JSON, trying conversion\n",
      "2025-05-30 21:15:35,265 || INFO || MedRL-CoT Setup - Successful conversion!\n",
      "\n",
      "Classifying prompts:  50%|███████████████████████████████████████████████████████████████████████████                                                                           | 2/4 [00:36<00:39, 19.83s/it]\u001b[A2025-05-30 21:16:05,030 || WARNING || MedRL-CoT Setup - Invalid JSON, trying conversion\n",
      "2025-05-30 21:16:05,031 || INFO || MedRL-CoT Setup - Successful conversion!\n",
      "\n",
      "Classifying prompts:  75%|████████████████████████████████████████████████████████████████████████████████████████████████████████████████▌                                     | 3/4 [01:06<00:24, 24.37s/it]\u001b[A2025-05-30 21:16:24,958 || WARNING || MedRL-CoT Setup - Invalid JSON, trying conversion\n",
      "2025-05-30 21:16:24,959 || INFO || MedRL-CoT Setup - Successful conversion!\n",
      "\n",
      "Classifying prompts: 100%|██████████████████████████████████████████████████████████████████████████████████████████████████████████████████████████████████████████████████████| 4/4 [01:26<00:00, 22.61s/it]\u001b[A\n",
      "                                                                                                                                                                                                              \u001b[A2025-05-30 21:16:24,963 || INFO || MedRL-CoT Setup - Dumping to save\n"
     ]
    },
    {
     "data": {
      "application/vnd.jupyter.widget-view+json": {
       "model_id": "95a210cb3ca041ce8bc524cdfdb23031",
       "version_major": 2,
       "version_minor": 0
      },
      "text/plain": [
       "Saving the dataset (0/1 shards):   0%|          | 0/2255 [00:00<?, ? examples/s]"
      ]
     },
     "metadata": {},
     "output_type": "display_data"
    },
    {
     "name": "stderr",
     "output_type": "stream",
     "text": [
      "Preprocessing dataset:   0%|▍                                                                                                                                       | 107/30000 [2:02:00<688:54:04, 82.96s/it]2025-05-30 21:16:24,987 || INFO || MedRL-CoT Setup - Preprocessing example 107\n",
      "\n",
      "Classifying prompts:   0%|                                                                                                                                                              | 0/4 [00:00<?, ?it/s]\u001b[A2025-05-30 21:16:37,854 || WARNING || MedRL-CoT Setup - Invalid JSON, trying conversion\n",
      "2025-05-30 21:16:37,855 || INFO || MedRL-CoT Setup - Successful conversion!\n",
      "\n",
      "Classifying prompts:  25%|█████████████████████████████████████▌                                                                                                                | 1/4 [00:12<00:38, 12.76s/it]\u001b[A2025-05-30 21:17:06,689 || WARNING || MedRL-CoT Setup - Invalid JSON, trying conversion\n",
      "2025-05-30 21:17:06,690 || INFO || MedRL-CoT Setup - Successful conversion!\n",
      "\n",
      "Classifying prompts:  50%|███████████████████████████████████████████████████████████████████████████                                                                           | 2/4 [00:41<00:44, 22.21s/it]\u001b[A2025-05-30 21:17:24,771 || INFO || MedRL-CoT Setup - Successful JSON parsed!\n",
      "\n",
      "Classifying prompts:  75%|████████████████████████████████████████████████████████████████████████████████████████████████████████████████▌                                     | 3/4 [00:59<00:20, 20.33s/it]\u001b[A2025-05-30 21:17:41,105 || WARNING || MedRL-CoT Setup - Invalid JSON, trying conversion\n",
      "2025-05-30 21:17:41,106 || INFO || MedRL-CoT Setup - Successful conversion!\n",
      "\n",
      "Classifying prompts: 100%|██████████████████████████████████████████████████████████████████████████████████████████████████████████████████████████████████████████████████████| 4/4 [01:16<00:00, 18.75s/it]\u001b[A\n",
      "                                                                                                                                                                                                              \u001b[A2025-05-30 21:17:41,111 || INFO || MedRL-CoT Setup - Dumping to save\n"
     ]
    },
    {
     "data": {
      "application/vnd.jupyter.widget-view+json": {
       "model_id": "255dd2235f6d40d8b40297f8afcd1632",
       "version_major": 2,
       "version_minor": 0
      },
      "text/plain": [
       "Saving the dataset (0/1 shards):   0%|          | 0/2270 [00:00<?, ? examples/s]"
      ]
     },
     "metadata": {},
     "output_type": "display_data"
    },
    {
     "name": "stderr",
     "output_type": "stream",
     "text": [
      "Preprocessing dataset:   0%|▍                                                                                                                                       | 108/30000 [2:03:17<671:53:48, 80.92s/it]2025-05-30 21:17:41,134 || INFO || MedRL-CoT Setup - Preprocessing example 108\n",
      "\n",
      "Classifying prompts:   0%|                                                                                                                                                              | 0/8 [00:00<?, ?it/s]\u001b[A2025-05-30 21:17:49,970 || WARNING || MedRL-CoT Setup - Invalid JSON, trying conversion\n",
      "2025-05-30 21:17:49,970 || INFO || MedRL-CoT Setup - Successful conversion!\n",
      "\n",
      "Classifying prompts:  12%|██████████████████▊                                                                                                                                   | 1/8 [00:08<01:01,  8.73s/it]\u001b[A2025-05-30 21:18:11,715 || WARNING || MedRL-CoT Setup - Invalid JSON, trying conversion\n",
      "2025-05-30 21:18:11,715 || INFO || MedRL-CoT Setup - Successful conversion!\n",
      "\n",
      "Classifying prompts:  25%|█████████████████████████████████████▌                                                                                                                | 2/8 [00:30<01:38, 16.38s/it]\u001b[A2025-05-30 21:18:18,206 || WARNING || MedRL-CoT Setup - Invalid JSON, trying conversion\n",
      "2025-05-30 21:18:18,207 || INFO || MedRL-CoT Setup - Successful conversion!\n",
      "\n",
      "Classifying prompts:  38%|████████████████████████████████████████████████████████▎                                                                                             | 3/8 [00:36<00:59, 11.87s/it]\u001b[A2025-05-30 21:18:35,741 || WARNING || MedRL-CoT Setup - Invalid JSON, trying conversion\n",
      "2025-05-30 21:18:35,742 || INFO || MedRL-CoT Setup - Successful conversion!\n",
      "\n",
      "Classifying prompts:  50%|███████████████████████████████████████████████████████████████████████████                                                                           | 4/8 [00:54<00:56, 14.10s/it]\u001b[A2025-05-30 21:18:39,790 || INFO || MedRL-CoT Setup - Successful JSON parsed!\n",
      "\n",
      "Classifying prompts:  62%|█████████████████████████████████████████████████████████████████████████████████████████████▊                                                        | 5/8 [00:58<00:31, 10.48s/it]\u001b[A2025-05-30 21:18:44,695 || INFO || MedRL-CoT Setup - Successful JSON parsed!\n",
      "\n",
      "Classifying prompts:  75%|████████████████████████████████████████████████████████████████████████████████████████████████████████████████▌                                     | 6/8 [01:03<00:17,  8.58s/it]\u001b[A2025-05-30 21:18:53,758 || INFO || MedRL-CoT Setup - Successful JSON parsed!\n",
      "\n",
      "Classifying prompts:  88%|███████████████████████████████████████████████████████████████████████████████████████████████████████████████████████████████████▎                  | 7/8 [01:12<00:08,  8.74s/it]\u001b[A2025-05-30 21:19:06,176 || WARNING || MedRL-CoT Setup - Invalid JSON, trying conversion\n",
      "2025-05-30 21:19:06,177 || INFO || MedRL-CoT Setup - Successful conversion!\n",
      "\n",
      "Classifying prompts: 100%|██████████████████████████████████████████████████████████████████████████████████████████████████████████████████████████████████████████████████████| 8/8 [01:24<00:00,  9.91s/it]\u001b[A\n",
      "                                                                                                                                                                                                              \u001b[A2025-05-30 21:19:06,181 || INFO || MedRL-CoT Setup - Dumping to save\n"
     ]
    },
    {
     "data": {
      "application/vnd.jupyter.widget-view+json": {
       "model_id": "8eba21a6544e4f00b29402bc8333d0db",
       "version_major": 2,
       "version_minor": 0
      },
      "text/plain": [
       "Saving the dataset (0/1 shards):   0%|          | 0/2294 [00:00<?, ? examples/s]"
      ]
     },
     "metadata": {},
     "output_type": "display_data"
    },
    {
     "name": "stderr",
     "output_type": "stream",
     "text": [
      "Preprocessing dataset:   0%|▍                                                                                                                                       | 109/30000 [2:04:42<682:13:08, 82.16s/it]2025-05-30 21:19:06,206 || INFO || MedRL-CoT Setup - Preprocessing example 109\n",
      "\n",
      "Classifying prompts:   0%|                                                                                                                                                              | 0/1 [00:00<?, ?it/s]\u001b[A2025-05-30 21:20:13,555 || ERROR || MedRL-CoT Setup - Nothing found, bad example!\n",
      "\n",
      "Classifying prompts: 100%|██████████████████████████████████████████████████████████████████████████████████████████████████████████████████████████████████████████████████████| 1/1 [01:07<00:00, 67.24s/it]\u001b[A\n",
      "                                                                                                                                                                                                              \u001b[A2025-05-30 21:20:13,559 || INFO || MedRL-CoT Setup - Dumping to save\n"
     ]
    },
    {
     "data": {
      "application/vnd.jupyter.widget-view+json": {
       "model_id": "7b83b524236940a59c4b7f8122b141a3",
       "version_major": 2,
       "version_minor": 0
      },
      "text/plain": [
       "Saving the dataset (0/1 shards):   0%|          | 0/2294 [00:00<?, ? examples/s]"
      ]
     },
     "metadata": {},
     "output_type": "display_data"
    },
    {
     "name": "stderr",
     "output_type": "stream",
     "text": [
      "Preprocessing dataset:   0%|▍                                                                                                                                       | 110/30000 [2:05:49<645:21:52, 77.73s/it]2025-05-30 21:20:13,584 || INFO || MedRL-CoT Setup - Preprocessing example 110\n",
      "\n",
      "Classifying prompts:   0%|                                                                                                                                                              | 0/2 [00:00<?, ?it/s]\u001b[A2025-05-30 21:20:53,049 || INFO || MedRL-CoT Setup - Successful JSON parsed!\n",
      "\n",
      "Classifying prompts:  50%|███████████████████████████████████████████████████████████████████████████                                                                           | 1/2 [00:39<00:39, 39.35s/it]\u001b[A2025-05-30 21:20:59,772 || WARNING || MedRL-CoT Setup - Invalid JSON, trying conversion\n",
      "2025-05-30 21:20:59,773 || INFO || MedRL-CoT Setup - Successful conversion!\n",
      "\n",
      "Classifying prompts: 100%|██████████████████████████████████████████████████████████████████████████████████████████████████████████████████████████████████████████████████████| 2/2 [00:46<00:00, 20.16s/it]\u001b[A\n",
      "                                                                                                                                                                                                              \u001b[A2025-05-30 21:20:59,778 || INFO || MedRL-CoT Setup - Dumping to save\n"
     ]
    },
    {
     "data": {
      "application/vnd.jupyter.widget-view+json": {
       "model_id": "c8271ea345344614a3a5455657f0a994",
       "version_major": 2,
       "version_minor": 0
      },
      "text/plain": [
       "Saving the dataset (0/1 shards):   0%|          | 0/2312 [00:00<?, ? examples/s]"
      ]
     },
     "metadata": {},
     "output_type": "display_data"
    },
    {
     "name": "stderr",
     "output_type": "stream",
     "text": [
      "Preprocessing dataset:   0%|▌                                                                                                                                       | 111/30000 [2:06:35<566:51:26, 68.28s/it]2025-05-30 21:20:59,802 || INFO || MedRL-CoT Setup - Preprocessing example 111\n",
      "\n",
      "Classifying prompts:   0%|                                                                                                                                                              | 0/1 [00:00<?, ?it/s]\u001b[A2025-05-30 21:22:11,363 || ERROR || MedRL-CoT Setup - Nothing found, bad example!\n",
      "\n",
      "Classifying prompts: 100%|██████████████████████████████████████████████████████████████████████████████████████████████████████████████████████████████████████████████████████| 1/1 [01:11<00:00, 71.45s/it]\u001b[A\n",
      "                                                                                                                                                                                                              \u001b[A2025-05-30 21:22:11,367 || INFO || MedRL-CoT Setup - Dumping to save\n"
     ]
    },
    {
     "data": {
      "application/vnd.jupyter.widget-view+json": {
       "model_id": "8067bc70d4f04d23accfae58ea2b7679",
       "version_major": 2,
       "version_minor": 0
      },
      "text/plain": [
       "Saving the dataset (0/1 shards):   0%|          | 0/2312 [00:00<?, ? examples/s]"
      ]
     },
     "metadata": {},
     "output_type": "display_data"
    },
    {
     "name": "stderr",
     "output_type": "stream",
     "text": [
      "Preprocessing dataset:   0%|▌                                                                                                                                       | 112/30000 [2:07:47<575:05:34, 69.27s/it]2025-05-30 21:22:11,392 || INFO || MedRL-CoT Setup - Preprocessing example 112\n",
      "\n",
      "Classifying prompts:   0%|                                                                                                                                                              | 0/4 [00:00<?, ?it/s]\u001b[A2025-05-30 21:22:24,249 || WARNING || MedRL-CoT Setup - Invalid JSON, trying conversion\n",
      "2025-05-30 21:22:24,250 || INFO || MedRL-CoT Setup - Successful conversion!\n",
      "\n",
      "Classifying prompts:  25%|█████████████████████████████████████▌                                                                                                                | 1/4 [00:12<00:38, 12.75s/it]\u001b[A2025-05-30 21:22:53,034 || WARNING || MedRL-CoT Setup - Invalid JSON, trying conversion\n",
      "2025-05-30 21:22:53,034 || INFO || MedRL-CoT Setup - Successful conversion!\n",
      "\n",
      "Classifying prompts:  50%|███████████████████████████████████████████████████████████████████████████                                                                           | 2/4 [00:41<00:44, 22.18s/it]\u001b[A2025-05-30 21:23:11,079 || INFO || MedRL-CoT Setup - Successful JSON parsed!\n",
      "\n",
      "Classifying prompts:  75%|████████████████████████████████████████████████████████████████████████████████████████████████████████████████▌                                     | 3/4 [00:59<00:20, 20.29s/it]\u001b[A2025-05-30 21:23:27,389 || WARNING || MedRL-CoT Setup - Invalid JSON, trying conversion\n",
      "2025-05-30 21:23:27,390 || INFO || MedRL-CoT Setup - Successful conversion!\n",
      "\n",
      "Classifying prompts: 100%|██████████████████████████████████████████████████████████████████████████████████████████████████████████████████████████████████████████████████████| 4/4 [01:15<00:00, 18.72s/it]\u001b[A\n",
      "                                                                                                                                                                                                              \u001b[A2025-05-30 21:23:27,394 || INFO || MedRL-CoT Setup - Dumping to save\n"
     ]
    },
    {
     "data": {
      "application/vnd.jupyter.widget-view+json": {
       "model_id": "a5ecdfcff2344e528c5dbd2a66fc31df",
       "version_major": 2,
       "version_minor": 0
      },
      "text/plain": [
       "Saving the dataset (0/1 shards):   0%|          | 0/2327 [00:00<?, ? examples/s]"
      ]
     },
     "metadata": {},
     "output_type": "display_data"
    },
    {
     "name": "stderr",
     "output_type": "stream",
     "text": [
      "Preprocessing dataset:   0%|▌                                                                                                                                       | 113/30000 [2:09:03<591:54:18, 71.30s/it]2025-05-30 21:23:27,419 || INFO || MedRL-CoT Setup - Preprocessing example 113\n",
      "\n",
      "Classifying prompts:   0%|                                                                                                                                                              | 0/6 [00:00<?, ?it/s]\u001b[A2025-05-30 21:24:17,739 || WARNING || MedRL-CoT Setup - Invalid JSON, trying conversion\n",
      "2025-05-30 21:24:17,740 || INFO || MedRL-CoT Setup - Successful conversion!\n",
      "\n",
      "Classifying prompts:  17%|█████████████████████████                                                                                                                             | 1/6 [00:50<04:11, 50.21s/it]\u001b[A2025-05-30 21:25:04,213 || WARNING || MedRL-CoT Setup - Invalid JSON, trying conversion\n",
      "2025-05-30 21:25:04,214 || INFO || MedRL-CoT Setup - Successful conversion!\n",
      "\n",
      "Classifying prompts:  33%|██████████████████████████████████████████████████                                                                                                    | 2/6 [01:36<03:12, 48.01s/it]\u001b[A2025-05-30 21:25:11,356 || INFO || MedRL-CoT Setup - Successful JSON parsed!\n",
      "\n",
      "Classifying prompts:  50%|███████████████████████████████████████████████████████████████████████████                                                                           | 3/6 [01:43<01:28, 29.35s/it]\u001b[A2025-05-30 21:25:17,158 || INFO || MedRL-CoT Setup - Successful JSON parsed!\n",
      "\n",
      "Classifying prompts:  67%|████████████████████████████████████████████████████████████████████████████████████████████████████                                                  | 4/6 [01:49<00:40, 20.05s/it]\u001b[A2025-05-30 21:25:28,635 || INFO || MedRL-CoT Setup - Successful JSON parsed!\n",
      "\n",
      "Classifying prompts:  83%|█████████████████████████████████████████████████████████████████████████████████████████████████████████████████████████████                         | 5/6 [02:01<00:16, 16.96s/it]\u001b[A2025-05-30 21:25:33,003 || INFO || MedRL-CoT Setup - Successful JSON parsed!\n",
      "\n",
      "Classifying prompts: 100%|██████████████████████████████████████████████████████████████████████████████████████████████████████████████████████████████████████████████████████| 6/6 [02:05<00:00, 12.68s/it]\u001b[A\n",
      "                                                                                                                                                                                                              \u001b[A2025-05-30 21:25:33,008 || INFO || MedRL-CoT Setup - Dumping to save\n"
     ]
    },
    {
     "data": {
      "application/vnd.jupyter.widget-view+json": {
       "model_id": "a2cacc3c0e9c4e979e67bc3b7cf22e48",
       "version_major": 2,
       "version_minor": 0
      },
      "text/plain": [
       "Saving the dataset (0/1 shards):   0%|          | 0/2351 [00:00<?, ? examples/s]"
      ]
     },
     "metadata": {},
     "output_type": "display_data"
    },
    {
     "name": "stderr",
     "output_type": "stream",
     "text": [
      "Preprocessing dataset:   0%|▌                                                                                                                                       | 114/30000 [2:11:08<727:09:22, 87.59s/it]2025-05-30 21:25:33,031 || INFO || MedRL-CoT Setup - Preprocessing example 114\n",
      "\n",
      "Classifying prompts:   0%|                                                                                                                                                              | 0/4 [00:00<?, ?it/s]\u001b[A2025-05-30 21:25:45,900 || WARNING || MedRL-CoT Setup - Invalid JSON, trying conversion\n",
      "2025-05-30 21:25:45,901 || INFO || MedRL-CoT Setup - Successful conversion!\n",
      "\n",
      "Classifying prompts:  25%|█████████████████████████████████████▌                                                                                                                | 1/4 [00:12<00:38, 12.76s/it]\u001b[A2025-05-30 21:26:14,715 || WARNING || MedRL-CoT Setup - Invalid JSON, trying conversion\n",
      "2025-05-30 21:26:14,717 || INFO || MedRL-CoT Setup - Successful conversion!\n",
      "\n",
      "Classifying prompts:  50%|███████████████████████████████████████████████████████████████████████████                                                                           | 2/4 [00:41<00:44, 22.20s/it]\u001b[A2025-05-30 21:26:32,784 || INFO || MedRL-CoT Setup - Successful JSON parsed!\n",
      "\n",
      "Classifying prompts:  75%|████████████████████████████████████████████████████████████████████████████████████████████████████████████████▌                                     | 3/4 [00:59<00:20, 20.31s/it]\u001b[A2025-05-30 21:26:49,110 || WARNING || MedRL-CoT Setup - Invalid JSON, trying conversion\n",
      "2025-05-30 21:26:49,111 || INFO || MedRL-CoT Setup - Successful conversion!\n",
      "\n",
      "Classifying prompts: 100%|██████████████████████████████████████████████████████████████████████████████████████████████████████████████████████████████████████████████████████| 4/4 [01:15<00:00, 18.74s/it]\u001b[A\n",
      "                                                                                                                                                                                                              \u001b[A2025-05-30 21:26:49,115 || INFO || MedRL-CoT Setup - Dumping to save\n"
     ]
    },
    {
     "data": {
      "application/vnd.jupyter.widget-view+json": {
       "model_id": "c15b709e9f86472799ea786088fbb30d",
       "version_major": 2,
       "version_minor": 0
      },
      "text/plain": [
       "Saving the dataset (0/1 shards):   0%|          | 0/2366 [00:00<?, ? examples/s]"
      ]
     },
     "metadata": {},
     "output_type": "display_data"
    },
    {
     "name": "stderr",
     "output_type": "stream",
     "text": [
      "Preprocessing dataset:   0%|▌                                                                                                                                       | 115/30000 [2:12:25<698:32:12, 84.15s/it]2025-05-30 21:26:49,141 || INFO || MedRL-CoT Setup - Preprocessing example 115\n",
      "\n",
      "Classifying prompts:   0%|                                                                                                                                                              | 0/2 [00:00<?, ?it/s]\u001b[A2025-05-30 21:27:21,267 || ERROR || MedRL-CoT Setup - Nothing found, bad example!\n",
      "\n",
      "Classifying prompts:  50%|███████████████████████████████████████████████████████████████████████████                                                                           | 1/2 [00:32<00:32, 32.02s/it]\u001b[A2025-05-30 21:27:51,432 || WARNING || MedRL-CoT Setup - Invalid JSON, trying conversion\n",
      "2025-05-30 21:27:51,433 || INFO || MedRL-CoT Setup - Successful conversion!\n",
      "\n",
      "Classifying prompts: 100%|██████████████████████████████████████████████████████████████████████████████████████████████████████████████████████████████████████████████████████| 2/2 [01:02<00:00, 30.93s/it]\u001b[A\n",
      "                                                                                                                                                                                                              \u001b[A2025-05-30 21:27:51,438 || INFO || MedRL-CoT Setup - Dumping to save\n"
     ]
    },
    {
     "data": {
      "application/vnd.jupyter.widget-view+json": {
       "model_id": "ca23d3a6f0274c709e2156c8cb1aef97",
       "version_major": 2,
       "version_minor": 0
      },
      "text/plain": [
       "Saving the dataset (0/1 shards):   0%|          | 0/2375 [00:00<?, ? examples/s]"
      ]
     },
     "metadata": {},
     "output_type": "display_data"
    },
    {
     "name": "stderr",
     "output_type": "stream",
     "text": [
      "Preprocessing dataset:   0%|▌                                                                                                                                       | 116/30000 [2:13:27<644:09:43, 77.60s/it]2025-05-30 21:27:51,463 || INFO || MedRL-CoT Setup - Preprocessing example 116\n",
      "\n",
      "Classifying prompts:   0%|                                                                                                                                                              | 0/1 [00:00<?, ?it/s]\u001b[A2025-05-30 21:28:50,915 || INFO || MedRL-CoT Setup - Successful JSON parsed!\n",
      "\n",
      "Classifying prompts: 100%|██████████████████████████████████████████████████████████████████████████████████████████████████████████████████████████████████████████████████████| 1/1 [00:59<00:00, 59.34s/it]\u001b[A\n",
      "                                                                                                                                                                                                              \u001b[A2025-05-30 21:28:50,919 || INFO || MedRL-CoT Setup - Dumping to save\n"
     ]
    },
    {
     "data": {
      "application/vnd.jupyter.widget-view+json": {
       "model_id": "4f8f185bb53645708f20aeec210d1317",
       "version_major": 2,
       "version_minor": 0
      },
      "text/plain": [
       "Saving the dataset (0/1 shards):   0%|          | 0/2395 [00:00<?, ? examples/s]"
      ]
     },
     "metadata": {},
     "output_type": "display_data"
    },
    {
     "name": "stderr",
     "output_type": "stream",
     "text": [
      "Preprocessing dataset:   0%|▌                                                                                                                                       | 117/30000 [2:14:26<599:01:28, 72.16s/it]2025-05-30 21:28:50,945 || INFO || MedRL-CoT Setup - Preprocessing example 117\n",
      "\n",
      "Classifying prompts:   0%|                                                                                                                                                              | 0/1 [00:00<?, ?it/s]\u001b[A2025-05-30 21:29:52,488 || ERROR || MedRL-CoT Setup - Nothing found, bad example!\n",
      "\n",
      "Classifying prompts: 100%|██████████████████████████████████████████████████████████████████████████████████████████████████████████████████████████████████████████████████████| 1/1 [01:01<00:00, 61.43s/it]\u001b[A\n",
      "                                                                                                                                                                                                              \u001b[A2025-05-30 21:29:52,492 || INFO || MedRL-CoT Setup - Dumping to save\n"
     ]
    },
    {
     "data": {
      "application/vnd.jupyter.widget-view+json": {
       "model_id": "2c632d79574f4102bffd580b834c64dc",
       "version_major": 2,
       "version_minor": 0
      },
      "text/plain": [
       "Saving the dataset (0/1 shards):   0%|          | 0/2395 [00:00<?, ? examples/s]"
      ]
     },
     "metadata": {},
     "output_type": "display_data"
    },
    {
     "name": "stderr",
     "output_type": "stream",
     "text": [
      "Preprocessing dataset:   0%|▌                                                                                                                                       | 118/30000 [2:15:28<572:37:26, 68.99s/it]2025-05-30 21:29:52,516 || INFO || MedRL-CoT Setup - Preprocessing example 118\n",
      "\n",
      "Classifying prompts:   0%|                                                                                                                                                              | 0/4 [00:00<?, ?it/s]\u001b[A2025-05-30 21:30:05,378 || WARNING || MedRL-CoT Setup - Invalid JSON, trying conversion\n",
      "2025-05-30 21:30:05,379 || INFO || MedRL-CoT Setup - Successful conversion!\n",
      "\n",
      "Classifying prompts:  25%|█████████████████████████████████████▌                                                                                                                | 1/4 [00:12<00:38, 12.75s/it]\u001b[A2025-05-30 21:30:34,211 || WARNING || MedRL-CoT Setup - Invalid JSON, trying conversion\n",
      "2025-05-30 21:30:34,212 || INFO || MedRL-CoT Setup - Successful conversion!\n",
      "\n",
      "Classifying prompts:  50%|███████████████████████████████████████████████████████████████████████████                                                                           | 2/4 [00:41<00:44, 22.21s/it]\u001b[A2025-05-30 21:30:52,264 || INFO || MedRL-CoT Setup - Successful JSON parsed!\n",
      "\n",
      "Classifying prompts:  75%|████████████████████████████████████████████████████████████████████████████████████████████████████████████████▌                                     | 3/4 [00:59<00:20, 20.31s/it]\u001b[A2025-05-30 21:31:08,580 || WARNING || MedRL-CoT Setup - Invalid JSON, trying conversion\n",
      "2025-05-30 21:31:08,581 || INFO || MedRL-CoT Setup - Successful conversion!\n",
      "\n",
      "Classifying prompts: 100%|██████████████████████████████████████████████████████████████████████████████████████████████████████████████████████████████████████████████████████| 4/4 [01:15<00:00, 18.74s/it]\u001b[A\n",
      "                                                                                                                                                                                                              \u001b[A2025-05-30 21:31:08,585 || INFO || MedRL-CoT Setup - Dumping to save\n"
     ]
    },
    {
     "data": {
      "application/vnd.jupyter.widget-view+json": {
       "model_id": "f9b5dc9864ee4d5eb1eb865ae1d72602",
       "version_major": 2,
       "version_minor": 0
      },
      "text/plain": [
       "Saving the dataset (0/1 shards):   0%|          | 0/2410 [00:00<?, ? examples/s]"
      ]
     },
     "metadata": {},
     "output_type": "display_data"
    },
    {
     "name": "stderr",
     "output_type": "stream",
     "text": [
      "Preprocessing dataset:   0%|▌                                                                                                                                       | 119/30000 [2:16:44<590:18:22, 71.12s/it]2025-05-30 21:31:08,611 || INFO || MedRL-CoT Setup - Preprocessing example 119\n",
      "\n",
      "Classifying prompts:   0%|                                                                                                                                                              | 0/5 [00:00<?, ?it/s]\u001b[A2025-05-30 21:31:21,459 || WARNING || MedRL-CoT Setup - Invalid JSON, trying conversion\n",
      "2025-05-30 21:31:21,460 || INFO || MedRL-CoT Setup - Successful conversion!\n",
      "\n",
      "Classifying prompts:  20%|██████████████████████████████                                                                                                                        | 1/5 [00:12<00:50, 12.74s/it]\u001b[A2025-05-30 21:31:44,654 || WARNING || MedRL-CoT Setup - Invalid JSON, trying conversion\n",
      "2025-05-30 21:31:44,655 || INFO || MedRL-CoT Setup - Successful conversion!\n",
      "\n",
      "Classifying prompts:  40%|████████████████████████████████████████████████████████████                                                                                          | 2/5 [00:35<00:56, 18.89s/it]\u001b[A2025-05-30 21:31:55,858 || WARNING || MedRL-CoT Setup - Invalid JSON, trying conversion\n",
      "2025-05-30 21:31:55,859 || INFO || MedRL-CoT Setup - Successful conversion!\n",
      "\n",
      "Classifying prompts:  60%|██████████████████████████████████████████████████████████████████████████████████████████                                                            | 3/5 [00:47<00:30, 15.38s/it]\u001b[A2025-05-30 21:32:07,973 || INFO || MedRL-CoT Setup - Successful JSON parsed!\n",
      "\n",
      "Classifying prompts:  80%|████████████████████████████████████████████████████████████████████████████████████████████████████████████████████████                              | 4/5 [00:59<00:14, 14.09s/it]\u001b[A2025-05-30 21:32:20,393 || WARNING || MedRL-CoT Setup - Invalid JSON, trying conversion\n",
      "2025-05-30 21:32:20,394 || INFO || MedRL-CoT Setup - Successful conversion!\n",
      "\n",
      "Classifying prompts: 100%|██████████████████████████████████████████████████████████████████████████████████████████████████████████████████████████████████████████████████████| 5/5 [01:11<00:00, 13.49s/it]\u001b[A\n",
      "                                                                                                                                                                                                              \u001b[A2025-05-30 21:32:20,398 || INFO || MedRL-CoT Setup - Dumping to save\n"
     ]
    },
    {
     "data": {
      "application/vnd.jupyter.widget-view+json": {
       "model_id": "86e0713d17744f369087e1835c949188",
       "version_major": 2,
       "version_minor": 0
      },
      "text/plain": [
       "Saving the dataset (0/1 shards):   0%|          | 0/2433 [00:00<?, ? examples/s]"
      ]
     },
     "metadata": {},
     "output_type": "display_data"
    },
    {
     "name": "stderr",
     "output_type": "stream",
     "text": [
      "Preprocessing dataset:   0%|▌                                                                                                                                       | 120/30000 [2:17:56<592:00:33, 71.33s/it]2025-05-30 21:32:20,422 || INFO || MedRL-CoT Setup - Preprocessing example 120\n",
      "\n",
      "Classifying prompts:   0%|                                                                                                                                                             | 0/10 [00:00<?, ?it/s]\u001b[A2025-05-30 21:32:32,377 || WARNING || MedRL-CoT Setup - Invalid JSON, trying conversion\n",
      "2025-05-30 21:32:32,378 || INFO || MedRL-CoT Setup - Successful conversion!\n",
      "\n",
      "Classifying prompts:  10%|██████████████▉                                                                                                                                      | 1/10 [00:11<01:46, 11.85s/it]\u001b[A2025-05-30 21:32:43,022 || INFO || MedRL-CoT Setup - Successful JSON parsed!\n",
      "\n",
      "Classifying prompts:  20%|█████████████████████████████▊                                                                                                                       | 2/10 [00:22<01:29, 11.14s/it]\u001b[A2025-05-30 21:33:02,134 || WARNING || MedRL-CoT Setup - Invalid JSON, trying conversion\n",
      "2025-05-30 21:33:02,135 || INFO || MedRL-CoT Setup - Successful conversion!\n",
      "\n",
      "Classifying prompts:  30%|████████████████████████████████████████████▋                                                                                                        | 3/10 [00:41<01:43, 14.78s/it]\u001b[A2025-05-30 21:33:10,468 || INFO || MedRL-CoT Setup - Successful JSON parsed!\n",
      "\n",
      "Classifying prompts:  40%|███████████████████████████████████████████████████████████▌                                                                                         | 4/10 [00:49<01:13, 12.23s/it]\u001b[A2025-05-30 21:33:29,862 || WARNING || MedRL-CoT Setup - Invalid JSON, trying conversion\n",
      "2025-05-30 21:33:29,863 || INFO || MedRL-CoT Setup - Successful conversion!\n",
      "\n",
      "Classifying prompts:  50%|██████████████████████████████████████████████████████████████████████████▌                                                                          | 5/10 [01:09<01:14, 14.82s/it]\u001b[A2025-05-30 21:33:46,268 || WARNING || MedRL-CoT Setup - Invalid JSON, trying conversion\n",
      "2025-05-30 21:33:46,269 || INFO || MedRL-CoT Setup - Successful conversion!\n",
      "\n",
      "Classifying prompts:  60%|█████████████████████████████████████████████████████████████████████████████████████████▍                                                           | 6/10 [01:25<01:01, 15.36s/it]\u001b[A2025-05-30 21:33:53,958 || INFO || MedRL-CoT Setup - Successful JSON parsed!\n",
      "\n",
      "Classifying prompts:  70%|████████████████████████████████████████████████████████████████████████████████████████████████████████▎                                            | 7/10 [01:33<00:38, 12.85s/it]\u001b[A2025-05-30 21:34:07,507 || INFO || MedRL-CoT Setup - Successful JSON parsed!\n",
      "\n",
      "Classifying prompts:  80%|███████████████████████████████████████████████████████████████████████████████████████████████████████████████████████▏                             | 8/10 [01:46<00:26, 13.07s/it]\u001b[A2025-05-30 21:34:17,993 || INFO || MedRL-CoT Setup - Successful JSON parsed!\n",
      "\n",
      "Classifying prompts:  90%|██████████████████████████████████████████████████████████████████████████████████████████████████████████████████████████████████████               | 9/10 [01:57<00:12, 12.26s/it]\u001b[A2025-05-30 21:34:29,785 || INFO || MedRL-CoT Setup - Successful JSON parsed!\n",
      "\n",
      "Classifying prompts: 100%|████████████████████████████████████████████████████████████████████████████████████████████████████████████████████████████████████████████████████| 10/10 [02:09<00:00, 12.12s/it]\u001b[A\n",
      "                                                                                                                                                                                                              \u001b[A2025-05-30 21:34:29,789 || INFO || MedRL-CoT Setup - Dumping to save\n"
     ]
    },
    {
     "data": {
      "application/vnd.jupyter.widget-view+json": {
       "model_id": "ff7ba717ffd444abadc76d15da80222c",
       "version_major": 2,
       "version_minor": 0
      },
      "text/plain": [
       "Saving the dataset (0/1 shards):   0%|          | 0/2471 [00:00<?, ? examples/s]"
      ]
     },
     "metadata": {},
     "output_type": "display_data"
    },
    {
     "name": "stderr",
     "output_type": "stream",
     "text": [
      "Preprocessing dataset:   0%|▌                                                                                                                                       | 121/30000 [2:20:05<736:33:59, 88.75s/it]2025-05-30 21:34:29,813 || INFO || MedRL-CoT Setup - Preprocessing example 121\n",
      "\n",
      "Classifying prompts:   0%|                                                                                                                                                              | 0/2 [00:00<?, ?it/s]\u001b[A2025-05-30 21:35:06,104 || INFO || MedRL-CoT Setup - Successful JSON parsed!\n",
      "\n",
      "Classifying prompts:  50%|███████████████████████████████████████████████████████████████████████████                                                                           | 1/2 [00:36<00:36, 36.18s/it]\u001b[A2025-05-30 21:35:47,146 || WARNING || MedRL-CoT Setup - Invalid JSON, trying conversion\n",
      "2025-05-30 21:35:47,147 || INFO || MedRL-CoT Setup - Successful conversion!\n",
      "\n",
      "Classifying prompts: 100%|██████████████████████████████████████████████████████████████████████████████████████████████████████████████████████████████████████████████████████| 2/2 [01:17<00:00, 39.04s/it]\u001b[A\n",
      "                                                                                                                                                                                                              \u001b[A2025-05-30 21:35:47,151 || INFO || MedRL-CoT Setup - Dumping to save\n"
     ]
    },
    {
     "data": {
      "application/vnd.jupyter.widget-view+json": {
       "model_id": "10181ed7f0134c4da4ab54d82d0fc68e",
       "version_major": 2,
       "version_minor": 0
      },
      "text/plain": [
       "Saving the dataset (0/1 shards):   0%|          | 0/2487 [00:00<?, ? examples/s]"
      ]
     },
     "metadata": {},
     "output_type": "display_data"
    },
    {
     "name": "stderr",
     "output_type": "stream",
     "text": [
      "Preprocessing dataset:   0%|▌                                                                                                                                       | 122/30000 [2:21:23<708:12:11, 85.33s/it]2025-05-30 21:35:47,177 || INFO || MedRL-CoT Setup - Preprocessing example 122\n",
      "\n",
      "Classifying prompts:   0%|                                                                                                                                                              | 0/3 [00:00<?, ?it/s]\u001b[A2025-05-30 21:35:56,644 || WARNING || MedRL-CoT Setup - Invalid JSON, trying conversion\n",
      "2025-05-30 21:35:56,645 || INFO || MedRL-CoT Setup - Successful conversion!\n",
      "\n",
      "Classifying prompts:  33%|██████████████████████████████████████████████████                                                                                                    | 1/3 [00:09<00:18,  9.36s/it]\u001b[A2025-05-30 21:36:33,464 || INFO || MedRL-CoT Setup - Successful JSON parsed!\n",
      "\n",
      "Classifying prompts:  67%|████████████████████████████████████████████████████████████████████████████████████████████████████                                                  | 2/3 [00:46<00:25, 25.51s/it]\u001b[A2025-05-30 21:36:51,305 || WARNING || MedRL-CoT Setup - Invalid JSON, trying conversion\n",
      "2025-05-30 21:36:51,306 || INFO || MedRL-CoT Setup - Successful conversion!\n",
      "\n",
      "Classifying prompts: 100%|██████████████████████████████████████████████████████████████████████████████████████████████████████████████████████████████████████████████████████| 3/3 [01:04<00:00, 22.01s/it]\u001b[A\n",
      "                                                                                                                                                                                                              \u001b[A2025-05-30 21:36:51,310 || INFO || MedRL-CoT Setup - Dumping to save\n"
     ]
    },
    {
     "data": {
      "application/vnd.jupyter.widget-view+json": {
       "model_id": "666635aaf57e407cb14bf567117ec7d1",
       "version_major": 2,
       "version_minor": 0
      },
      "text/plain": [
       "Saving the dataset (0/1 shards):   0%|          | 0/2504 [00:00<?, ? examples/s]"
      ]
     },
     "metadata": {},
     "output_type": "display_data"
    },
    {
     "name": "stderr",
     "output_type": "stream",
     "text": [
      "Preprocessing dataset:   0%|▌                                                                                                                                       | 123/30000 [2:22:27<655:28:14, 78.98s/it]2025-05-30 21:36:51,338 || INFO || MedRL-CoT Setup - Preprocessing example 123\n",
      "\n",
      "Classifying prompts:   0%|                                                                                                                                                              | 0/6 [00:00<?, ?it/s]\u001b[A2025-05-30 21:37:12,363 || INFO || MedRL-CoT Setup - Successful JSON parsed!\n",
      "\n",
      "Classifying prompts:  17%|█████████████████████████                                                                                                                             | 1/6 [00:20<01:44, 20.91s/it]\u001b[A2025-05-30 21:37:22,376 || WARNING || MedRL-CoT Setup - Invalid JSON, trying conversion\n",
      "2025-05-30 21:37:22,377 || INFO || MedRL-CoT Setup - Successful conversion!\n",
      "\n",
      "Classifying prompts:  33%|██████████████████████████████████████████████████                                                                                                    | 2/6 [00:30<00:58, 14.50s/it]\u001b[A2025-05-30 21:37:31,366 || WARNING || MedRL-CoT Setup - Invalid JSON, trying conversion\n",
      "2025-05-30 21:37:31,367 || INFO || MedRL-CoT Setup - Successful conversion!\n",
      "\n",
      "Classifying prompts:  50%|███████████████████████████████████████████████████████████████████████████                                                                           | 3/6 [00:39<00:35, 11.99s/it]\u001b[A2025-05-30 21:37:50,123 || WARNING || MedRL-CoT Setup - Invalid JSON, trying conversion\n",
      "2025-05-30 21:37:50,124 || INFO || MedRL-CoT Setup - Successful conversion!\n",
      "\n",
      "Classifying prompts:  67%|████████████████████████████████████████████████████████████████████████████████████████████████████                                                  | 4/6 [00:58<00:29, 14.66s/it]\u001b[A2025-05-30 21:38:02,613 || INFO || MedRL-CoT Setup - Successful JSON parsed!\n",
      "\n",
      "Classifying prompts:  83%|█████████████████████████████████████████████████████████████████████████████████████████████████████████████████████████████                         | 5/6 [01:11<00:13, 13.88s/it]\u001b[A2025-05-30 21:38:18,307 || WARNING || MedRL-CoT Setup - Invalid JSON, trying conversion\n",
      "2025-05-30 21:38:18,308 || INFO || MedRL-CoT Setup - Successful conversion!\n",
      "\n",
      "Classifying prompts: 100%|██████████████████████████████████████████████████████████████████████████████████████████████████████████████████████████████████████████████████████| 6/6 [01:26<00:00, 14.49s/it]\u001b[A\n",
      "                                                                                                                                                                                                              \u001b[A2025-05-30 21:38:18,312 || INFO || MedRL-CoT Setup - Dumping to save\n"
     ]
    },
    {
     "data": {
      "application/vnd.jupyter.widget-view+json": {
       "model_id": "1f769eb0fc324af1862c869e9eb818d6",
       "version_major": 2,
       "version_minor": 0
      },
      "text/plain": [
       "Saving the dataset (0/1 shards):   0%|          | 0/2528 [00:00<?, ? examples/s]"
      ]
     },
     "metadata": {},
     "output_type": "display_data"
    },
    {
     "name": "stderr",
     "output_type": "stream",
     "text": [
      "Preprocessing dataset:   0%|▌                                                                                                                                       | 124/30000 [2:23:54<675:24:47, 81.39s/it]2025-05-30 21:38:18,338 || INFO || MedRL-CoT Setup - Preprocessing example 124\n",
      "\n",
      "Classifying prompts:   0%|                                                                                                                                                              | 0/3 [00:00<?, ?it/s]\u001b[A2025-05-30 21:39:31,655 || INFO || MedRL-CoT Setup - Successful JSON parsed!\n",
      "\n",
      "Classifying prompts:  33%|██████████████████████████████████████████████████                                                                                                    | 1/3 [01:13<02:26, 73.21s/it]\u001b[A2025-05-30 21:39:45,526 || WARNING || MedRL-CoT Setup - Invalid JSON, trying conversion\n",
      "2025-05-30 21:39:45,527 || INFO || MedRL-CoT Setup - Successful conversion!\n",
      "\n",
      "Classifying prompts:  67%|████████████████████████████████████████████████████████████████████████████████████████████████████                                                  | 2/3 [01:27<00:38, 38.30s/it]\u001b[A2025-05-30 21:40:17,482 || ERROR || MedRL-CoT Setup - Nothing found, bad example!\n",
      "\n",
      "Classifying prompts: 100%|██████████████████████████████████████████████████████████████████████████████████████████████████████████████████████████████████████████████████████| 3/3 [01:59<00:00, 35.41s/it]\u001b[A\n",
      "                                                                                                                                                                                                              \u001b[A2025-05-30 21:40:17,487 || INFO || MedRL-CoT Setup - Dumping to save\n"
     ]
    },
    {
     "data": {
      "application/vnd.jupyter.widget-view+json": {
       "model_id": "a47a7e105dbe4d9d895fb8442df95cb2",
       "version_major": 2,
       "version_minor": 0
      },
      "text/plain": [
       "Saving the dataset (0/1 shards):   0%|          | 0/2542 [00:00<?, ? examples/s]"
      ]
     },
     "metadata": {},
     "output_type": "display_data"
    },
    {
     "name": "stderr",
     "output_type": "stream",
     "text": [
      "Preprocessing dataset:   0%|▌                                                                                                                                       | 125/30000 [2:25:53<769:27:53, 92.72s/it]2025-05-30 21:40:17,511 || INFO || MedRL-CoT Setup - Preprocessing example 125\n",
      "\n",
      "Classifying prompts:   0%|                                                                                                                                                              | 0/2 [00:00<?, ?it/s]\u001b[A2025-05-30 21:40:35,394 || INFO || MedRL-CoT Setup - Successful JSON parsed!\n",
      "\n",
      "Classifying prompts:  50%|███████████████████████████████████████████████████████████████████████████                                                                           | 1/2 [00:17<00:17, 17.77s/it]\u001b[A2025-05-30 21:41:13,820 || WARNING || MedRL-CoT Setup - Invalid JSON, trying conversion\n",
      "2025-05-30 21:41:13,821 || INFO || MedRL-CoT Setup - Successful conversion!\n",
      "\n",
      "Classifying prompts: 100%|██████████████████████████████████████████████████████████████████████████████████████████████████████████████████████████████████████████████████████| 2/2 [00:56<00:00, 29.92s/it]\u001b[A\n",
      "                                                                                                                                                                                                              \u001b[A2025-05-30 21:41:13,826 || INFO || MedRL-CoT Setup - Dumping to save\n"
     ]
    },
    {
     "data": {
      "application/vnd.jupyter.widget-view+json": {
       "model_id": "4f5c90d8ea2147da813e484cccbd7a3f",
       "version_major": 2,
       "version_minor": 0
      },
      "text/plain": [
       "Saving the dataset (0/1 shards):   0%|          | 0/2556 [00:00<?, ? examples/s]"
      ]
     },
     "metadata": {},
     "output_type": "display_data"
    },
    {
     "name": "stderr",
     "output_type": "stream",
     "text": [
      "Preprocessing dataset:   0%|▌                                                                                                                                       | 126/30000 [2:26:49<678:52:02, 81.81s/it]2025-05-30 21:41:13,851 || INFO || MedRL-CoT Setup - Preprocessing example 126\n",
      "\n",
      "Classifying prompts:   0%|                                                                                                                                                              | 0/6 [00:00<?, ?it/s]\u001b[A2025-05-30 21:41:41,777 || WARNING || MedRL-CoT Setup - Invalid JSON, trying conversion\n",
      "2025-05-30 21:41:41,778 || INFO || MedRL-CoT Setup - Successful conversion!\n",
      "\n",
      "Classifying prompts:  17%|█████████████████████████                                                                                                                             | 1/6 [00:27<02:19, 27.82s/it]\u001b[A2025-05-30 21:42:07,137 || WARNING || MedRL-CoT Setup - Invalid JSON, trying conversion\n",
      "2025-05-30 21:42:07,138 || INFO || MedRL-CoT Setup - Successful conversion!\n",
      "\n",
      "Classifying prompts:  33%|██████████████████████████████████████████████████                                                                                                    | 2/6 [00:53<01:45, 26.37s/it]\u001b[A2025-05-30 21:42:46,996 || WARNING || MedRL-CoT Setup - Invalid JSON, trying conversion\n",
      "2025-05-30 21:42:46,997 || INFO || MedRL-CoT Setup - Successful conversion!\n",
      "\n",
      "Classifying prompts:  50%|███████████████████████████████████████████████████████████████████████████                                                                           | 3/6 [01:33<01:37, 32.53s/it]\u001b[A2025-05-30 21:42:57,087 || INFO || MedRL-CoT Setup - Successful JSON parsed!\n",
      "\n",
      "Classifying prompts:  67%|████████████████████████████████████████████████████████████████████████████████████████████████████                                                  | 4/6 [01:43<00:47, 23.67s/it]\u001b[A2025-05-30 21:43:41,468 || WARNING || MedRL-CoT Setup - Invalid JSON, trying conversion\n",
      "2025-05-30 21:43:41,469 || INFO || MedRL-CoT Setup - Successful conversion!\n",
      "\n",
      "Classifying prompts:  83%|█████████████████████████████████████████████████████████████████████████████████████████████████████████████████████████████                         | 5/6 [02:27<00:31, 31.14s/it]\u001b[A2025-05-30 21:43:52,854 || INFO || MedRL-CoT Setup - Successful JSON parsed!\n",
      "\n",
      "Classifying prompts: 100%|██████████████████████████████████████████████████████████████████████████████████████████████████████████████████████████████████████████████████████| 6/6 [02:38<00:00, 24.42s/it]\u001b[A\n",
      "                                                                                                                                                                                                              \u001b[A2025-05-30 21:43:52,858 || INFO || MedRL-CoT Setup - Dumping to save\n"
     ]
    },
    {
     "data": {
      "application/vnd.jupyter.widget-view+json": {
       "model_id": "ad3406395b1349ff9a74c6101419e1e8",
       "version_major": 2,
       "version_minor": 0
      },
      "text/plain": [
       "Saving the dataset (0/1 shards):   0%|          | 0/2590 [00:00<?, ? examples/s]"
      ]
     },
     "metadata": {},
     "output_type": "display_data"
    },
    {
     "name": "stderr",
     "output_type": "stream",
     "text": [
      "Preprocessing dataset:   0%|▌                                                                                                                                      | 127/30000 [2:29:28<871:05:12, 104.97s/it]2025-05-30 21:43:52,883 || INFO || MedRL-CoT Setup - Preprocessing example 127\n",
      "\n",
      "Classifying prompts:   0%|                                                                                                                                                              | 0/5 [00:00<?, ?it/s]\u001b[A2025-05-30 21:44:23,489 || INFO || MedRL-CoT Setup - Successful JSON parsed!\n",
      "\n",
      "Classifying prompts:  20%|██████████████████████████████                                                                                                                        | 1/5 [00:30<02:01, 30.50s/it]\u001b[A2025-05-30 21:45:50,347 || ERROR || MedRL-CoT Setup - Nothing found, bad example!\n",
      "\n",
      "Classifying prompts:  40%|████████████████████████████████████████████████████████████                                                                                          | 2/5 [01:57<03:10, 63.65s/it]\u001b[A2025-05-30 21:45:54,121 || WARNING || MedRL-CoT Setup - Invalid JSON, trying conversion\n",
      "2025-05-30 21:45:54,122 || INFO || MedRL-CoT Setup - Successful conversion!\n",
      "\n",
      "Classifying prompts:  60%|██████████████████████████████████████████████████████████████████████████████████████████                                                            | 3/5 [02:01<01:12, 36.31s/it]\u001b[A2025-05-30 21:45:57,522 || INFO || MedRL-CoT Setup - Successful JSON parsed!\n",
      "\n",
      "Classifying prompts:  80%|████████████████████████████████████████████████████████████████████████████████████████████████████████████████████████                              | 4/5 [02:04<00:23, 23.32s/it]\u001b[A2025-05-30 21:46:05,159 || WARNING || MedRL-CoT Setup - Invalid JSON, trying conversion\n",
      "2025-05-30 21:46:05,160 || INFO || MedRL-CoT Setup - Successful conversion!\n",
      "\n",
      "Classifying prompts: 100%|██████████████████████████████████████████████████████████████████████████████████████████████████████████████████████████████████████████████████████| 5/5 [02:12<00:00, 17.66s/it]\u001b[A\n",
      "                                                                                                                                                                                                              \u001b[A2025-05-30 21:46:05,165 || INFO || MedRL-CoT Setup - Dumping to save\n"
     ]
    },
    {
     "data": {
      "application/vnd.jupyter.widget-view+json": {
       "model_id": "00fddc8afc894428a5bff537ceb5ad14",
       "version_major": 2,
       "version_minor": 0
      },
      "text/plain": [
       "Saving the dataset (0/1 shards):   0%|          | 0/2606 [00:00<?, ? examples/s]"
      ]
     },
     "metadata": {},
     "output_type": "display_data"
    },
    {
     "name": "stderr",
     "output_type": "stream",
     "text": [
      "Preprocessing dataset:   0%|▌                                                                                                                                      | 128/30000 [2:31:41<939:05:40, 113.17s/it]2025-05-30 21:46:05,189 || INFO || MedRL-CoT Setup - Preprocessing example 128\n",
      "\n",
      "Classifying prompts:   0%|                                                                                                                                                              | 0/1 [00:00<?, ?it/s]\u001b[A2025-05-30 21:47:00,527 || WARNING || MedRL-CoT Setup - Invalid JSON, trying conversion\n",
      "2025-05-30 21:47:00,528 || INFO || MedRL-CoT Setup - Successful conversion!\n",
      "\n",
      "Classifying prompts: 100%|██████████████████████████████████████████████████████████████████████████████████████████████████████████████████████████████████████████████████████| 1/1 [00:55<00:00, 55.23s/it]\u001b[A\n",
      "                                                                                                                                                                                                              \u001b[A2025-05-30 21:47:00,533 || INFO || MedRL-CoT Setup - Dumping to save\n"
     ]
    },
    {
     "data": {
      "application/vnd.jupyter.widget-view+json": {
       "model_id": "8c7fea5b154b471fb9fb1fd6158f40c1",
       "version_major": 2,
       "version_minor": 0
      },
      "text/plain": [
       "Saving the dataset (0/1 shards):   0%|          | 0/2622 [00:00<?, ? examples/s]"
      ]
     },
     "metadata": {},
     "output_type": "display_data"
    },
    {
     "name": "stderr",
     "output_type": "stream",
     "text": [
      "Preprocessing dataset:   0%|▌                                                                                                                                       | 129/30000 [2:32:36<795:10:16, 95.83s/it]2025-05-30 21:47:00,558 || INFO || MedRL-CoT Setup - Preprocessing example 129\n",
      "\n",
      "Classifying prompts:   0%|                                                                                                                                                              | 0/5 [00:00<?, ?it/s]\u001b[A2025-05-30 21:47:19,459 || WARNING || MedRL-CoT Setup - Invalid JSON, trying conversion\n",
      "2025-05-30 21:47:19,460 || INFO || MedRL-CoT Setup - Successful conversion!\n",
      "\n",
      "Classifying prompts:  20%|██████████████████████████████                                                                                                                        | 1/5 [00:18<01:15, 18.79s/it]\u001b[A2025-05-30 21:47:38,174 || INFO || MedRL-CoT Setup - Successful JSON parsed!\n",
      "\n",
      "Classifying prompts:  40%|████████████████████████████████████████████████████████████                                                                                          | 2/5 [00:37<00:56, 18.75s/it]\u001b[A2025-05-30 21:47:44,374 || INFO || MedRL-CoT Setup - Successful JSON parsed!\n",
      "\n",
      "Classifying prompts:  60%|██████████████████████████████████████████████████████████████████████████████████████████                                                            | 3/5 [00:43<00:26, 13.02s/it]\u001b[A2025-05-30 21:47:52,482 || WARNING || MedRL-CoT Setup - Invalid JSON, trying conversion\n",
      "2025-05-30 21:47:52,483 || INFO || MedRL-CoT Setup - Successful conversion!\n",
      "\n",
      "Classifying prompts:  80%|████████████████████████████████████████████████████████████████████████████████████████████████████████████████████████                              | 4/5 [00:51<00:11, 11.08s/it]\u001b[A2025-05-30 21:48:12,391 || WARNING || MedRL-CoT Setup - Invalid JSON, trying conversion\n",
      "2025-05-30 21:48:12,392 || INFO || MedRL-CoT Setup - Successful conversion!\n",
      "\n",
      "Classifying prompts: 100%|██████████████████████████████████████████████████████████████████████████████████████████████████████████████████████████████████████████████████████| 5/5 [01:11<00:00, 14.26s/it]\u001b[A\n",
      "                                                                                                                                                                                                              \u001b[A2025-05-30 21:48:12,396 || INFO || MedRL-CoT Setup - Dumping to save\n"
     ]
    },
    {
     "data": {
      "application/vnd.jupyter.widget-view+json": {
       "model_id": "9264441c9f1c4dd1b426d7a84be52cfa",
       "version_major": 2,
       "version_minor": 0
      },
      "text/plain": [
       "Saving the dataset (0/1 shards):   0%|          | 0/2645 [00:00<?, ? examples/s]"
      ]
     },
     "metadata": {},
     "output_type": "display_data"
    },
    {
     "name": "stderr",
     "output_type": "stream",
     "text": [
      "Preprocessing dataset:   0%|▌                                                                                                                                       | 130/30000 [2:33:48<735:28:44, 88.64s/it]2025-05-30 21:48:12,420 || INFO || MedRL-CoT Setup - Preprocessing example 130\n",
      "\n",
      "Classifying prompts:   0%|                                                                                                                                                              | 0/6 [00:00<?, ?it/s]\u001b[A2025-05-30 21:48:33,075 || WARNING || MedRL-CoT Setup - Invalid JSON, trying conversion\n",
      "2025-05-30 21:48:33,076 || INFO || MedRL-CoT Setup - Successful conversion!\n",
      "\n",
      "Classifying prompts:  17%|█████████████████████████                                                                                                                             | 1/6 [00:20<01:42, 20.55s/it]\u001b[A2025-05-30 21:49:06,148 || WARNING || MedRL-CoT Setup - Invalid JSON, trying conversion\n",
      "2025-05-30 21:49:06,149 || INFO || MedRL-CoT Setup - Successful conversion!\n",
      "\n",
      "Classifying prompts:  33%|██████████████████████████████████████████████████                                                                                                    | 2/6 [00:53<01:51, 27.91s/it]\u001b[A2025-05-30 21:49:12,084 || INFO || MedRL-CoT Setup - Successful JSON parsed!\n",
      "\n",
      "Classifying prompts:  50%|███████████████████████████████████████████████████████████████████████████                                                                           | 3/6 [00:59<00:53, 17.88s/it]\u001b[A2025-05-30 21:49:44,702 || WARNING || MedRL-CoT Setup - Invalid JSON, trying conversion\n",
      "2025-05-30 21:49:44,703 || INFO || MedRL-CoT Setup - Successful conversion!\n",
      "\n",
      "Classifying prompts:  67%|████████████████████████████████████████████████████████████████████████████████████████████████████                                                  | 4/6 [01:32<00:47, 23.70s/it]\u001b[A2025-05-30 21:50:10,391 || WARNING || MedRL-CoT Setup - Invalid JSON, trying conversion\n",
      "2025-05-30 21:50:10,392 || INFO || MedRL-CoT Setup - Successful conversion!\n",
      "\n",
      "Classifying prompts:  83%|█████████████████████████████████████████████████████████████████████████████████████████████████████████████████████████████                         | 5/6 [01:57<00:24, 24.42s/it]\u001b[A2025-05-30 21:50:27,040 || WARNING || MedRL-CoT Setup - Invalid JSON, trying conversion\n",
      "2025-05-30 21:50:27,041 || INFO || MedRL-CoT Setup - Successful conversion!\n",
      "\n",
      "Classifying prompts: 100%|██████████████████████████████████████████████████████████████████████████████████████████████████████████████████████████████████████████████████████| 6/6 [02:14<00:00, 21.78s/it]\u001b[A\n",
      "                                                                                                                                                                                                              \u001b[A2025-05-30 21:50:27,045 || INFO || MedRL-CoT Setup - Dumping to save\n"
     ]
    },
    {
     "data": {
      "application/vnd.jupyter.widget-view+json": {
       "model_id": "fda5b9e91c7642af9d1bbc7e8e065014",
       "version_major": 2,
       "version_minor": 0
      },
      "text/plain": [
       "Saving the dataset (0/1 shards):   0%|          | 0/2680 [00:00<?, ? examples/s]"
      ]
     },
     "metadata": {},
     "output_type": "display_data"
    },
    {
     "name": "stderr",
     "output_type": "stream",
     "text": [
      "Preprocessing dataset:   0%|▌                                                                                                                                      | 131/30000 [2:36:03<849:58:30, 102.44s/it]2025-05-30 21:50:27,071 || INFO || MedRL-CoT Setup - Preprocessing example 131\n",
      "\n",
      "Classifying prompts:   0%|                                                                                                                                                              | 0/6 [00:00<?, ?it/s]\u001b[A2025-05-30 21:51:32,252 || ERROR || MedRL-CoT Setup - Nothing found, bad example!\n",
      "\n",
      "Classifying prompts:  17%|█████████████████████████                                                                                                                             | 1/6 [01:05<05:25, 65.07s/it]\u001b[A2025-05-30 21:52:21,152 || WARNING || MedRL-CoT Setup - Invalid JSON, trying conversion\n",
      "2025-05-30 21:52:21,153 || INFO || MedRL-CoT Setup - Successful conversion!\n",
      "\n",
      "Classifying prompts:  33%|██████████████████████████████████████████████████                                                                                                    | 2/6 [01:53<03:42, 55.56s/it]\u001b[A2025-05-30 21:52:34,510 || WARNING || MedRL-CoT Setup - Invalid JSON, trying conversion\n",
      "2025-05-30 21:52:34,511 || INFO || MedRL-CoT Setup - Successful conversion!\n",
      "\n",
      "Classifying prompts:  50%|███████████████████████████████████████████████████████████████████████████                                                                           | 3/6 [02:07<01:48, 36.29s/it]\u001b[A2025-05-30 21:53:01,183 || WARNING || MedRL-CoT Setup - Invalid JSON, trying conversion\n",
      "2025-05-30 21:53:01,184 || INFO || MedRL-CoT Setup - Successful conversion!\n",
      "\n",
      "Classifying prompts:  67%|████████████████████████████████████████████████████████████████████████████████████████████████████                                                  | 4/6 [02:34<01:04, 32.49s/it]\u001b[A2025-05-30 21:53:42,783 || WARNING || MedRL-CoT Setup - Invalid JSON, trying conversion\n",
      "2025-05-30 21:53:42,784 || INFO || MedRL-CoT Setup - Successful conversion!\n",
      "\n",
      "Classifying prompts:  83%|█████████████████████████████████████████████████████████████████████████████████████████████████████████████████████████████                         | 5/6 [03:15<00:35, 35.78s/it]\u001b[A2025-05-30 21:54:07,971 || WARNING || MedRL-CoT Setup - Invalid JSON, trying conversion\n",
      "2025-05-30 21:54:07,972 || INFO || MedRL-CoT Setup - Successful conversion!\n",
      "\n",
      "Classifying prompts: 100%|██████████████████████████████████████████████████████████████████████████████████████████████████████████████████████████████████████████████████████| 6/6 [03:40<00:00, 32.18s/it]\u001b[A\n",
      "                                                                                                                                                                                                              \u001b[A2025-05-30 21:54:07,976 || INFO || MedRL-CoT Setup - Dumping to save\n"
     ]
    },
    {
     "data": {
      "application/vnd.jupyter.widget-view+json": {
       "model_id": "ac7e77b5ec194d938af1083a7efa42f1",
       "version_major": 2,
       "version_minor": 0
      },
      "text/plain": [
       "Saving the dataset (0/1 shards):   0%|          | 0/2725 [00:00<?, ? examples/s]"
      ]
     },
     "metadata": {},
     "output_type": "display_data"
    },
    {
     "name": "stderr",
     "output_type": "stream",
     "text": [
      "Preprocessing dataset:   0%|▌                                                                                                                                     | 132/30000 [2:39:43<1144:51:23, 137.99s/it]2025-05-30 21:54:08,001 || INFO || MedRL-CoT Setup - Preprocessing example 132\n",
      "\n",
      "Classifying prompts:   0%|                                                                                                                                                              | 0/1 [00:00<?, ?it/s]\u001b[A2025-05-30 21:55:01,126 || ERROR || MedRL-CoT Setup - Nothing found, bad example!\n",
      "\n",
      "Classifying prompts: 100%|██████████████████████████████████████████████████████████████████████████████████████████████████████████████████████████████████████████████████████| 1/1 [00:53<00:00, 53.01s/it]\u001b[A\n",
      "                                                                                                                                                                                                              \u001b[A2025-05-30 21:55:01,131 || INFO || MedRL-CoT Setup - Dumping to save\n"
     ]
    },
    {
     "data": {
      "application/vnd.jupyter.widget-view+json": {
       "model_id": "2a46294faac24dd5a2ee4f943c1a8d36",
       "version_major": 2,
       "version_minor": 0
      },
      "text/plain": [
       "Saving the dataset (0/1 shards):   0%|          | 0/2725 [00:00<?, ? examples/s]"
      ]
     },
     "metadata": {},
     "output_type": "display_data"
    },
    {
     "name": "stderr",
     "output_type": "stream",
     "text": [
      "Preprocessing dataset:   0%|▌                                                                                                                                      | 133/30000 [2:40:37<933:40:09, 112.54s/it]2025-05-30 21:55:01,155 || INFO || MedRL-CoT Setup - Preprocessing example 133\n",
      "\n",
      "Classifying prompts:   0%|                                                                                                                                                              | 0/5 [00:00<?, ?it/s]\u001b[A2025-05-30 21:55:25,261 || WARNING || MedRL-CoT Setup - Invalid JSON, trying conversion\n",
      "2025-05-30 21:55:25,262 || INFO || MedRL-CoT Setup - Successful conversion!\n",
      "\n",
      "Classifying prompts:  20%|██████████████████████████████                                                                                                                        | 1/5 [00:23<01:35, 24.00s/it]\u001b[A2025-05-30 21:55:59,302 || WARNING || MedRL-CoT Setup - Invalid JSON, trying conversion\n",
      "2025-05-30 21:55:59,303 || INFO || MedRL-CoT Setup - Successful conversion!\n",
      "\n",
      "Classifying prompts:  40%|████████████████████████████████████████████████████████████                                                                                          | 2/5 [00:58<01:29, 29.90s/it]\u001b[A2025-05-30 21:56:09,815 || INFO || MedRL-CoT Setup - Successful JSON parsed!\n",
      "\n",
      "Classifying prompts:  60%|██████████████████████████████████████████████████████████████████████████████████████████                                                            | 3/5 [01:08<00:42, 21.05s/it]\u001b[A2025-05-30 21:56:28,879 || INFO || MedRL-CoT Setup - Successful JSON parsed!\n",
      "\n",
      "Classifying prompts:  80%|████████████████████████████████████████████████████████████████████████████████████████████████████████████████████████                              | 4/5 [01:27<00:20, 20.27s/it]\u001b[A2025-05-30 21:56:36,811 || INFO || MedRL-CoT Setup - Successful JSON parsed!\n",
      "\n",
      "Classifying prompts: 100%|██████████████████████████████████████████████████████████████████████████████████████████████████████████████████████████████████████████████████████| 5/5 [01:35<00:00, 15.82s/it]\u001b[A\n",
      "                                                                                                                                                                                                              \u001b[A2025-05-30 21:56:36,816 || INFO || MedRL-CoT Setup - Dumping to save\n"
     ]
    },
    {
     "data": {
      "application/vnd.jupyter.widget-view+json": {
       "model_id": "6cc3cc6a11f3457786aa82ab6d0ba322",
       "version_major": 2,
       "version_minor": 0
      },
      "text/plain": [
       "Saving the dataset (0/1 shards):   0%|          | 0/2756 [00:00<?, ? examples/s]"
      ]
     },
     "metadata": {},
     "output_type": "display_data"
    },
    {
     "name": "stderr",
     "output_type": "stream",
     "text": [
      "Preprocessing dataset:   0%|▌                                                                                                                                      | 134/30000 [2:42:12<891:41:32, 107.48s/it]2025-05-30 21:56:36,841 || INFO || MedRL-CoT Setup - Preprocessing example 134\n",
      "\n",
      "Classifying prompts:   0%|                                                                                                                                                              | 0/3 [00:00<?, ?it/s]\u001b[A2025-05-30 21:57:18,048 || INFO || MedRL-CoT Setup - Successful JSON parsed!\n",
      "\n",
      "Classifying prompts:  33%|██████████████████████████████████████████████████                                                                                                    | 1/3 [00:41<01:22, 41.10s/it]\u001b[A2025-05-30 21:57:49,301 || WARNING || MedRL-CoT Setup - Invalid JSON, trying conversion\n",
      "2025-05-30 21:57:49,302 || INFO || MedRL-CoT Setup - Successful conversion!\n",
      "\n",
      "Classifying prompts:  67%|████████████████████████████████████████████████████████████████████████████████████████████████████                                                  | 2/3 [01:12<00:35, 35.31s/it]\u001b[A2025-05-30 21:58:55,273 || ERROR || MedRL-CoT Setup - Nothing found, bad example!\n",
      "\n",
      "Classifying prompts: 100%|██████████████████████████████████████████████████████████████████████████████████████████████████████████████████████████████████████████████████████| 3/3 [02:18<00:00, 49.31s/it]\u001b[A\n",
      "                                                                                                                                                                                                              \u001b[A2025-05-30 21:58:55,277 || INFO || MedRL-CoT Setup - Dumping to save\n"
     ]
    },
    {
     "data": {
      "application/vnd.jupyter.widget-view+json": {
       "model_id": "045d19d8b7584907afb575f47b3aaa67",
       "version_major": 2,
       "version_minor": 0
      },
      "text/plain": [
       "Saving the dataset (0/1 shards):   0%|          | 0/2771 [00:00<?, ? examples/s]"
      ]
     },
     "metadata": {},
     "output_type": "display_data"
    },
    {
     "name": "stderr",
     "output_type": "stream",
     "text": [
      "Preprocessing dataset:   0%|▌                                                                                                                                      | 135/30000 [2:44:31<968:45:54, 116.78s/it]2025-05-30 21:58:55,305 || INFO || MedRL-CoT Setup - Preprocessing example 135\n",
      "\n",
      "Classifying prompts:   0%|                                                                                                                                                              | 0/4 [00:00<?, ?it/s]\u001b[A2025-05-30 21:59:19,829 || WARNING || MedRL-CoT Setup - Invalid JSON, trying conversion\n",
      "2025-05-30 21:59:19,830 || INFO || MedRL-CoT Setup - Successful conversion!\n",
      "\n",
      "Classifying prompts:  25%|█████████████████████████████████████▌                                                                                                                | 1/4 [00:24<01:13, 24.42s/it]\u001b[A2025-05-30 21:59:30,741 || WARNING || MedRL-CoT Setup - Invalid JSON, trying conversion\n",
      "2025-05-30 21:59:30,742 || INFO || MedRL-CoT Setup - Successful conversion!\n",
      "\n",
      "Classifying prompts:  50%|███████████████████████████████████████████████████████████████████████████                                                                           | 2/4 [00:35<00:32, 16.47s/it]\u001b[A2025-05-30 21:59:44,840 || WARNING || MedRL-CoT Setup - Invalid JSON, trying conversion\n",
      "2025-05-30 21:59:44,841 || INFO || MedRL-CoT Setup - Successful conversion!\n",
      "\n",
      "Classifying prompts:  75%|████████████████████████████████████████████████████████████████████████████████████████████████████████████████▌                                     | 3/4 [00:49<00:15, 15.39s/it]\u001b[A2025-05-30 22:00:24,311 || WARNING || MedRL-CoT Setup - Invalid JSON, trying conversion\n",
      "2025-05-30 22:00:24,312 || INFO || MedRL-CoT Setup - Successful conversion!\n",
      "\n",
      "Classifying prompts: 100%|██████████████████████████████████████████████████████████████████████████████████████████████████████████████████████████████████████████████████████| 4/4 [01:28<00:00, 24.90s/it]\u001b[A\n",
      "                                                                                                                                                                                                              \u001b[A2025-05-30 22:00:24,316 || INFO || MedRL-CoT Setup - Dumping to save\n"
     ]
    },
    {
     "data": {
      "application/vnd.jupyter.widget-view+json": {
       "model_id": "4da6725a072843379f8a2f83ce9ed808",
       "version_major": 2,
       "version_minor": 0
      },
      "text/plain": [
       "Saving the dataset (0/1 shards):   0%|          | 0/2795 [00:00<?, ? examples/s]"
      ]
     },
     "metadata": {},
     "output_type": "display_data"
    },
    {
     "name": "stderr",
     "output_type": "stream",
     "text": [
      "Preprocessing dataset:   0%|▌                                                                                                                                      | 136/30000 [2:46:00<899:42:47, 108.46s/it]2025-05-30 22:00:24,348 || INFO || MedRL-CoT Setup - Preprocessing example 136\n",
      "\n",
      "Classifying prompts:   0%|                                                                                                                                                              | 0/4 [00:00<?, ?it/s]\u001b[A2025-05-30 22:00:31,440 || INFO || MedRL-CoT Setup - Successful JSON parsed!\n",
      "\n",
      "Classifying prompts:  25%|█████████████████████████████████████▌                                                                                                                | 1/4 [00:06<00:20,  6.98s/it]\u001b[A2025-05-30 22:01:59,765 || WARNING || MedRL-CoT Setup - Invalid JSON, trying conversion\n",
      "2025-05-30 22:01:59,766 || INFO || MedRL-CoT Setup - Successful conversion!\n",
      "\n",
      "Classifying prompts:  50%|███████████████████████████████████████████████████████████████████████████                                                                           | 2/4 [01:35<01:49, 54.83s/it]\u001b[A2025-05-30 22:02:34,369 || WARNING || MedRL-CoT Setup - Invalid JSON, trying conversion\n",
      "2025-05-30 22:02:34,370 || INFO || MedRL-CoT Setup - Successful conversion!\n",
      "\n",
      "Classifying prompts:  75%|████████████████████████████████████████████████████████████████████████████████████████████████████████████████▌                                     | 3/4 [02:09<00:45, 45.60s/it]\u001b[A"
     ]
    }
   ],
   "source": [
    "from tqdm import tqdm\n",
    "from datasets import Dataset\n",
    "# def preprocess_func(model, dataset):\n",
    "    # processed_dataset = {'symptoms_labs': [], 'thought_process': [], 'diagnosis': []}\n",
    "def process_example(example_note):\n",
    "    sentences = example_note.split('.')\n",
    "    chunks = example_note.split('\\\\n')\n",
    "    \n",
    "    processed_example = {'sentence': [], 'class': []}\n",
    "    \n",
    "    initit_prompt = \"\"\"<|im_start|>system\n",
    "You are a medical assistant helping organize a patient's clinical notes  that will presented by paragraph/chunk.\n",
    "    \n",
    "Your tasks is to read through the chunk of a clinical note and classify different sentences as one of the following keys \"symptoms_labs\", \"thought_process\", and \"diagnosis\":\n",
    "symptoms_labs: \n",
    "- All references to symptoms they are currently or was experiencing, test results, or lab findings\n",
    "thought_process: \n",
    "- The reasoning, considerations, or requested labs made by the doctor\n",
    "diagnosis: \n",
    "- The doctor's final or working diagnosis, including the explanation or background of a diagnosis.\n",
    "\n",
    "Respond ONLY with a valid JSON object **EXACTLY** with the sentence as key and the classification as the value: \"symptoms_labs\", \"thought_process\", and \"diagnosis\". \n",
    "\n",
    "**Do not rephrase or paraphrase sentences. Use the original sentences exactly as provided.**\n",
    "<|im_end|>\n",
    "\"\"\"\n",
    "\n",
    "    \n",
    "    prompts = [f\"\"\"{initit_prompt}\n",
    "    <|im_start|>user\n",
    "    {chunk}\n",
    "    <|im_end|>\n",
    "    <|im_start|>assistant\n",
    "    \"\"\" for chunk in chunks\n",
    "    ]\n",
    "\n",
    "    responses = []\n",
    "    for prompt in tqdm(prompts, \"Classifying prompts\", leave=False):\n",
    "        # print(prompt)\n",
    "        inputs = tokenizer(prompt, return_tensors=\"pt\").to(model.device)\n",
    "        output = model.generate(**inputs, max_new_tokens=1024, do_sample=False, pad_token_id=tokenizer.eos_token_id)\n",
    "        # output = model.generate(**inputs, max_new_tokens=1024, do_sample=False, temperature=0.0)\n",
    "\n",
    "        response = tokenizer.decode(output[0], skip_special_tokens=True)\n",
    "        parsed_dict = json_to_dict(response)\n",
    "        if parsed_dict is not None:\n",
    "            for sent, cat in parsed_dict.items():\n",
    "                processed_example['class'].append(str(cat))\n",
    "                processed_example['sentence'].append(str(sent))\n",
    "                # processed_dataset[cat.strip()].append(sent)\n",
    "        # break\n",
    "\n",
    "    return processed_example\n",
    "\n",
    "# processed_dataset = []\n",
    "\n",
    "for i in tqdm(range(0, len(datasets['aug_med_notes']['full_note'])), \"Preprocessing dataset\"):\n",
    "    logger.info(f\"Preprocessing example {i}\")\n",
    "    if i >= dataset_example_idx:\n",
    "        processed_example = process_example(datasets['aug_med_notes']['full_note'][i])\n",
    "        processed_dataset['class'].extend(processed_example['class'])\n",
    "        processed_dataset['sentence'].extend(processed_example['sentence'])\n",
    "        processed_dataset['case_id'].extend([str(i) for _ in processed_example['class']])\n",
    "        dataset_example_idx += 1\n",
    "\n",
    "        logger.info(f\"Dumping to save\")\n",
    "        processed_dir = os.path.join(os.getcwd(), medrlcot_config.data_dir, 'aug_med_notes', 'processed')\n",
    "        hf_dataset = Dataset.from_dict(processed_dataset)\n",
    "        hf_dataset.save_to_disk(processed_dir)\n",
    "    else:\n",
    "        logger.info(f\"Example {i} already complete, skipping\")\n",
    "    # processed_dataset.append(process_example(example))\n",
    "    # if i > 0:\n",
    "    #     break\n",
    "\n",
    "    \n",
    "\n",
    "\n",
    "# return processed_dataset"
   ]
  },
  {
   "cell_type": "code",
   "execution_count": 294,
   "id": "bd438d98-9d50-4adf-ac51-91ca17252567",
   "metadata": {},
   "outputs": [
    {
     "data": {
      "text/plain": [
       "'diagnosis'"
      ]
     },
     "execution_count": 294,
     "metadata": {},
     "output_type": "execute_result"
    }
   ],
   "source": [
    "# processed_dataset['class'][-16] = str(processed_dataset['class'][-16])\n",
    "# processed_dataset['class'][-16]"
   ]
  },
  {
   "cell_type": "code",
   "execution_count": 274,
   "id": "eb9c1e26-75f3-46b5-96b0-8bb82a6f20af",
   "metadata": {
    "scrolled": true
   },
   "outputs": [
    {
     "name": "stderr",
     "output_type": "stream",
     "text": [
      "The following generation flags are not valid and may be ignored: ['temperature']. Set `TRANSFORMERS_VERBOSITY=info` for more details.\n",
      "Setting `pad_token_id` to `eos_token_id`:32000 for open-end generation.\n"
     ]
    },
    {
     "ename": "KeyboardInterrupt",
     "evalue": "",
     "output_type": "error",
     "traceback": [
      "\u001b[0;31m---------------------------------------------------------------------------\u001b[0m",
      "\u001b[0;31mKeyboardInterrupt\u001b[0m                         Traceback (most recent call last)",
      "Cell \u001b[0;32mIn[274], line 1\u001b[0m\n\u001b[0;32m----> 1\u001b[0m processed_dataset \u001b[38;5;241m=\u001b[39m \u001b[43mpreprocess_func\u001b[49m\u001b[43m(\u001b[49m\u001b[43mmodel\u001b[49m\u001b[43m,\u001b[49m\u001b[43m \u001b[49m\u001b[43mdatasets\u001b[49m\u001b[43m[\u001b[49m\u001b[38;5;124;43m'\u001b[39;49m\u001b[38;5;124;43maug_med_notes\u001b[39;49m\u001b[38;5;124;43m'\u001b[39;49m\u001b[43m]\u001b[49m\u001b[43m[\u001b[49m\u001b[38;5;124;43m'\u001b[39;49m\u001b[38;5;124;43mfull_note\u001b[39;49m\u001b[38;5;124;43m'\u001b[39;49m\u001b[43m]\u001b[49m\u001b[43m)\u001b[49m\n",
      "Cell \u001b[0;32mIn[254], line 50\u001b[0m, in \u001b[0;36mpreprocess_func\u001b[0;34m(model, dataset)\u001b[0m\n\u001b[1;32m     43\u001b[0m                 \u001b[38;5;66;03m# processed_dataset[cat.strip()].append(sent)\u001b[39;00m\n\u001b[1;32m     44\u001b[0m         \u001b[38;5;66;03m# break\u001b[39;00m\n\u001b[1;32m     45\u001b[0m \n\u001b[1;32m     46\u001b[0m     \u001b[38;5;66;03m# return responses\u001b[39;00m\n\u001b[1;32m     47\u001b[0m \n\u001b[1;32m     48\u001b[0m \u001b[38;5;66;03m# processed_dataset = []\u001b[39;00m\n\u001b[1;32m     49\u001b[0m \u001b[38;5;28;01mfor\u001b[39;00m i, example \u001b[38;5;129;01min\u001b[39;00m \u001b[38;5;28menumerate\u001b[39m(dataset):\n\u001b[0;32m---> 50\u001b[0m     \u001b[43mprocess_example\u001b[49m\u001b[43m(\u001b[49m\u001b[43mexample\u001b[49m\u001b[43m)\u001b[49m\n\u001b[1;32m     51\u001b[0m     \u001b[38;5;66;03m# processed_dataset.append(process_example(example))\u001b[39;00m\n\u001b[1;32m     52\u001b[0m     \u001b[38;5;66;03m# if i > 0:\u001b[39;00m\n\u001b[1;32m     53\u001b[0m     \u001b[38;5;66;03m#     break\u001b[39;00m\n\u001b[1;32m     55\u001b[0m \u001b[38;5;28;01mreturn\u001b[39;00m processed_dataset\n",
      "Cell \u001b[0;32mIn[254], line 36\u001b[0m, in \u001b[0;36mpreprocess_func.<locals>.process_example\u001b[0;34m(example_note)\u001b[0m\n\u001b[1;32m     34\u001b[0m \u001b[38;5;28;01mfor\u001b[39;00m prompt \u001b[38;5;129;01min\u001b[39;00m prompts:\n\u001b[1;32m     35\u001b[0m     inputs \u001b[38;5;241m=\u001b[39m tokenizer(prompt, return_tensors\u001b[38;5;241m=\u001b[39m\u001b[38;5;124m\"\u001b[39m\u001b[38;5;124mpt\u001b[39m\u001b[38;5;124m\"\u001b[39m)\u001b[38;5;241m.\u001b[39mto(model\u001b[38;5;241m.\u001b[39mdevice)\n\u001b[0;32m---> 36\u001b[0m     output \u001b[38;5;241m=\u001b[39m \u001b[43mmodel\u001b[49m\u001b[38;5;241;43m.\u001b[39;49m\u001b[43mgenerate\u001b[49m\u001b[43m(\u001b[49m\u001b[38;5;241;43m*\u001b[39;49m\u001b[38;5;241;43m*\u001b[39;49m\u001b[43minputs\u001b[49m\u001b[43m,\u001b[49m\u001b[43m \u001b[49m\u001b[43mmax_new_tokens\u001b[49m\u001b[38;5;241;43m=\u001b[39;49m\u001b[38;5;241;43m1024\u001b[39;49m\u001b[43m,\u001b[49m\u001b[43m \u001b[49m\u001b[43mdo_sample\u001b[49m\u001b[38;5;241;43m=\u001b[39;49m\u001b[38;5;28;43;01mFalse\u001b[39;49;00m\u001b[43m,\u001b[49m\u001b[43m \u001b[49m\u001b[43mtemperature\u001b[49m\u001b[38;5;241;43m=\u001b[39;49m\u001b[38;5;241;43m0.0\u001b[39;49m\u001b[43m)\u001b[49m\n\u001b[1;32m     38\u001b[0m     response \u001b[38;5;241m=\u001b[39m tokenizer\u001b[38;5;241m.\u001b[39mdecode(output[\u001b[38;5;241m0\u001b[39m], skip_special_tokens\u001b[38;5;241m=\u001b[39m\u001b[38;5;28;01mTrue\u001b[39;00m)\n\u001b[1;32m     39\u001b[0m     parsed_dict \u001b[38;5;241m=\u001b[39m json_to_dict(response)\n",
      "File \u001b[0;32m~/.local/lib/python3.10/site-packages/torch/utils/_contextlib.py:116\u001b[0m, in \u001b[0;36mcontext_decorator.<locals>.decorate_context\u001b[0;34m(*args, **kwargs)\u001b[0m\n\u001b[1;32m    113\u001b[0m \u001b[38;5;129m@functools\u001b[39m\u001b[38;5;241m.\u001b[39mwraps(func)\n\u001b[1;32m    114\u001b[0m \u001b[38;5;28;01mdef\u001b[39;00m\u001b[38;5;250m \u001b[39m\u001b[38;5;21mdecorate_context\u001b[39m(\u001b[38;5;241m*\u001b[39margs, \u001b[38;5;241m*\u001b[39m\u001b[38;5;241m*\u001b[39mkwargs):\n\u001b[1;32m    115\u001b[0m     \u001b[38;5;28;01mwith\u001b[39;00m ctx_factory():\n\u001b[0;32m--> 116\u001b[0m         \u001b[38;5;28;01mreturn\u001b[39;00m \u001b[43mfunc\u001b[49m\u001b[43m(\u001b[49m\u001b[38;5;241;43m*\u001b[39;49m\u001b[43margs\u001b[49m\u001b[43m,\u001b[49m\u001b[43m \u001b[49m\u001b[38;5;241;43m*\u001b[39;49m\u001b[38;5;241;43m*\u001b[39;49m\u001b[43mkwargs\u001b[49m\u001b[43m)\u001b[49m\n",
      "File \u001b[0;32m~/.local/lib/python3.10/site-packages/transformers/generation/utils.py:2597\u001b[0m, in \u001b[0;36mGenerationMixin.generate\u001b[0;34m(self, inputs, generation_config, logits_processor, stopping_criteria, prefix_allowed_tokens_fn, synced_gpus, assistant_model, streamer, negative_prompt_ids, negative_prompt_attention_mask, use_model_defaults, custom_generate, **kwargs)\u001b[0m\n\u001b[1;32m   2589\u001b[0m     input_ids, model_kwargs \u001b[38;5;241m=\u001b[39m \u001b[38;5;28mself\u001b[39m\u001b[38;5;241m.\u001b[39m_expand_inputs_for_generation(\n\u001b[1;32m   2590\u001b[0m         input_ids\u001b[38;5;241m=\u001b[39minput_ids,\n\u001b[1;32m   2591\u001b[0m         expand_size\u001b[38;5;241m=\u001b[39mgeneration_config\u001b[38;5;241m.\u001b[39mnum_return_sequences,\n\u001b[1;32m   2592\u001b[0m         is_encoder_decoder\u001b[38;5;241m=\u001b[39m\u001b[38;5;28mself\u001b[39m\u001b[38;5;241m.\u001b[39mconfig\u001b[38;5;241m.\u001b[39mis_encoder_decoder,\n\u001b[1;32m   2593\u001b[0m         \u001b[38;5;241m*\u001b[39m\u001b[38;5;241m*\u001b[39mmodel_kwargs,\n\u001b[1;32m   2594\u001b[0m     )\n\u001b[1;32m   2596\u001b[0m     \u001b[38;5;66;03m# 12. run sample (it degenerates to greedy search when `generation_config.do_sample=False`)\u001b[39;00m\n\u001b[0;32m-> 2597\u001b[0m     result \u001b[38;5;241m=\u001b[39m \u001b[38;5;28;43mself\u001b[39;49m\u001b[38;5;241;43m.\u001b[39;49m\u001b[43m_sample\u001b[49m\u001b[43m(\u001b[49m\n\u001b[1;32m   2598\u001b[0m \u001b[43m        \u001b[49m\u001b[43minput_ids\u001b[49m\u001b[43m,\u001b[49m\n\u001b[1;32m   2599\u001b[0m \u001b[43m        \u001b[49m\u001b[43mlogits_processor\u001b[49m\u001b[38;5;241;43m=\u001b[39;49m\u001b[43mprepared_logits_processor\u001b[49m\u001b[43m,\u001b[49m\n\u001b[1;32m   2600\u001b[0m \u001b[43m        \u001b[49m\u001b[43mstopping_criteria\u001b[49m\u001b[38;5;241;43m=\u001b[39;49m\u001b[43mprepared_stopping_criteria\u001b[49m\u001b[43m,\u001b[49m\n\u001b[1;32m   2601\u001b[0m \u001b[43m        \u001b[49m\u001b[43mgeneration_config\u001b[49m\u001b[38;5;241;43m=\u001b[39;49m\u001b[43mgeneration_config\u001b[49m\u001b[43m,\u001b[49m\n\u001b[1;32m   2602\u001b[0m \u001b[43m        \u001b[49m\u001b[43msynced_gpus\u001b[49m\u001b[38;5;241;43m=\u001b[39;49m\u001b[43msynced_gpus\u001b[49m\u001b[43m,\u001b[49m\n\u001b[1;32m   2603\u001b[0m \u001b[43m        \u001b[49m\u001b[43mstreamer\u001b[49m\u001b[38;5;241;43m=\u001b[39;49m\u001b[43mstreamer\u001b[49m\u001b[43m,\u001b[49m\n\u001b[1;32m   2604\u001b[0m \u001b[43m        \u001b[49m\u001b[38;5;241;43m*\u001b[39;49m\u001b[38;5;241;43m*\u001b[39;49m\u001b[43mmodel_kwargs\u001b[49m\u001b[43m,\u001b[49m\n\u001b[1;32m   2605\u001b[0m \u001b[43m    \u001b[49m\u001b[43m)\u001b[49m\n\u001b[1;32m   2607\u001b[0m \u001b[38;5;28;01melif\u001b[39;00m generation_mode \u001b[38;5;129;01min\u001b[39;00m (GenerationMode\u001b[38;5;241m.\u001b[39mBEAM_SAMPLE, GenerationMode\u001b[38;5;241m.\u001b[39mBEAM_SEARCH):\n\u001b[1;32m   2608\u001b[0m     \u001b[38;5;66;03m# 11. interleave input_ids with `num_beams` additional sequences per batch\u001b[39;00m\n\u001b[1;32m   2609\u001b[0m     input_ids, model_kwargs \u001b[38;5;241m=\u001b[39m \u001b[38;5;28mself\u001b[39m\u001b[38;5;241m.\u001b[39m_expand_inputs_for_generation(\n\u001b[1;32m   2610\u001b[0m         input_ids\u001b[38;5;241m=\u001b[39minput_ids,\n\u001b[1;32m   2611\u001b[0m         expand_size\u001b[38;5;241m=\u001b[39mgeneration_config\u001b[38;5;241m.\u001b[39mnum_beams,\n\u001b[1;32m   2612\u001b[0m         is_encoder_decoder\u001b[38;5;241m=\u001b[39m\u001b[38;5;28mself\u001b[39m\u001b[38;5;241m.\u001b[39mconfig\u001b[38;5;241m.\u001b[39mis_encoder_decoder,\n\u001b[1;32m   2613\u001b[0m         \u001b[38;5;241m*\u001b[39m\u001b[38;5;241m*\u001b[39mmodel_kwargs,\n\u001b[1;32m   2614\u001b[0m     )\n",
      "File \u001b[0;32m~/.local/lib/python3.10/site-packages/transformers/generation/utils.py:3560\u001b[0m, in \u001b[0;36mGenerationMixin._sample\u001b[0;34m(self, input_ids, logits_processor, stopping_criteria, generation_config, synced_gpus, streamer, **model_kwargs)\u001b[0m\n\u001b[1;32m   3558\u001b[0m     is_prefill \u001b[38;5;241m=\u001b[39m \u001b[38;5;28;01mFalse\u001b[39;00m\n\u001b[1;32m   3559\u001b[0m \u001b[38;5;28;01melse\u001b[39;00m:\n\u001b[0;32m-> 3560\u001b[0m     outputs \u001b[38;5;241m=\u001b[39m \u001b[43mmodel_forward\u001b[49m\u001b[43m(\u001b[49m\u001b[38;5;241;43m*\u001b[39;49m\u001b[38;5;241;43m*\u001b[39;49m\u001b[43mmodel_inputs\u001b[49m\u001b[43m,\u001b[49m\u001b[43m \u001b[49m\u001b[43mreturn_dict\u001b[49m\u001b[38;5;241;43m=\u001b[39;49m\u001b[38;5;28;43;01mTrue\u001b[39;49;00m\u001b[43m)\u001b[49m\n\u001b[1;32m   3562\u001b[0m \u001b[38;5;66;03m# synced_gpus: don't waste resources running the code we don't need; kwargs must be updated before skipping\u001b[39;00m\n\u001b[1;32m   3563\u001b[0m model_kwargs \u001b[38;5;241m=\u001b[39m \u001b[38;5;28mself\u001b[39m\u001b[38;5;241m.\u001b[39m_update_model_kwargs_for_generation(\n\u001b[1;32m   3564\u001b[0m     outputs,\n\u001b[1;32m   3565\u001b[0m     model_kwargs,\n\u001b[1;32m   3566\u001b[0m     is_encoder_decoder\u001b[38;5;241m=\u001b[39m\u001b[38;5;28mself\u001b[39m\u001b[38;5;241m.\u001b[39mconfig\u001b[38;5;241m.\u001b[39mis_encoder_decoder,\n\u001b[1;32m   3567\u001b[0m )\n",
      "File \u001b[0;32m~/.local/lib/python3.10/site-packages/torch/nn/modules/module.py:1751\u001b[0m, in \u001b[0;36mModule._wrapped_call_impl\u001b[0;34m(self, *args, **kwargs)\u001b[0m\n\u001b[1;32m   1749\u001b[0m     \u001b[38;5;28;01mreturn\u001b[39;00m \u001b[38;5;28mself\u001b[39m\u001b[38;5;241m.\u001b[39m_compiled_call_impl(\u001b[38;5;241m*\u001b[39margs, \u001b[38;5;241m*\u001b[39m\u001b[38;5;241m*\u001b[39mkwargs)  \u001b[38;5;66;03m# type: ignore[misc]\u001b[39;00m\n\u001b[1;32m   1750\u001b[0m \u001b[38;5;28;01melse\u001b[39;00m:\n\u001b[0;32m-> 1751\u001b[0m     \u001b[38;5;28;01mreturn\u001b[39;00m \u001b[38;5;28;43mself\u001b[39;49m\u001b[38;5;241;43m.\u001b[39;49m\u001b[43m_call_impl\u001b[49m\u001b[43m(\u001b[49m\u001b[38;5;241;43m*\u001b[39;49m\u001b[43margs\u001b[49m\u001b[43m,\u001b[49m\u001b[43m \u001b[49m\u001b[38;5;241;43m*\u001b[39;49m\u001b[38;5;241;43m*\u001b[39;49m\u001b[43mkwargs\u001b[49m\u001b[43m)\u001b[49m\n",
      "File \u001b[0;32m~/.local/lib/python3.10/site-packages/torch/nn/modules/module.py:1762\u001b[0m, in \u001b[0;36mModule._call_impl\u001b[0;34m(self, *args, **kwargs)\u001b[0m\n\u001b[1;32m   1757\u001b[0m \u001b[38;5;66;03m# If we don't have any hooks, we want to skip the rest of the logic in\u001b[39;00m\n\u001b[1;32m   1758\u001b[0m \u001b[38;5;66;03m# this function, and just call forward.\u001b[39;00m\n\u001b[1;32m   1759\u001b[0m \u001b[38;5;28;01mif\u001b[39;00m \u001b[38;5;129;01mnot\u001b[39;00m (\u001b[38;5;28mself\u001b[39m\u001b[38;5;241m.\u001b[39m_backward_hooks \u001b[38;5;129;01mor\u001b[39;00m \u001b[38;5;28mself\u001b[39m\u001b[38;5;241m.\u001b[39m_backward_pre_hooks \u001b[38;5;129;01mor\u001b[39;00m \u001b[38;5;28mself\u001b[39m\u001b[38;5;241m.\u001b[39m_forward_hooks \u001b[38;5;129;01mor\u001b[39;00m \u001b[38;5;28mself\u001b[39m\u001b[38;5;241m.\u001b[39m_forward_pre_hooks\n\u001b[1;32m   1760\u001b[0m         \u001b[38;5;129;01mor\u001b[39;00m _global_backward_pre_hooks \u001b[38;5;129;01mor\u001b[39;00m _global_backward_hooks\n\u001b[1;32m   1761\u001b[0m         \u001b[38;5;129;01mor\u001b[39;00m _global_forward_hooks \u001b[38;5;129;01mor\u001b[39;00m _global_forward_pre_hooks):\n\u001b[0;32m-> 1762\u001b[0m     \u001b[38;5;28;01mreturn\u001b[39;00m \u001b[43mforward_call\u001b[49m\u001b[43m(\u001b[49m\u001b[38;5;241;43m*\u001b[39;49m\u001b[43margs\u001b[49m\u001b[43m,\u001b[49m\u001b[43m \u001b[49m\u001b[38;5;241;43m*\u001b[39;49m\u001b[38;5;241;43m*\u001b[39;49m\u001b[43mkwargs\u001b[49m\u001b[43m)\u001b[49m\n\u001b[1;32m   1764\u001b[0m result \u001b[38;5;241m=\u001b[39m \u001b[38;5;28;01mNone\u001b[39;00m\n\u001b[1;32m   1765\u001b[0m called_always_called_hooks \u001b[38;5;241m=\u001b[39m \u001b[38;5;28mset\u001b[39m()\n",
      "File \u001b[0;32m~/.local/lib/python3.10/site-packages/transformers/utils/generic.py:969\u001b[0m, in \u001b[0;36mcan_return_tuple.<locals>.wrapper\u001b[0;34m(self, *args, **kwargs)\u001b[0m\n\u001b[1;32m    966\u001b[0m     set_attribute_for_modules(\u001b[38;5;28mself\u001b[39m, \u001b[38;5;124m\"\u001b[39m\u001b[38;5;124m_is_top_level_module\u001b[39m\u001b[38;5;124m\"\u001b[39m, \u001b[38;5;28;01mFalse\u001b[39;00m)\n\u001b[1;32m    968\u001b[0m \u001b[38;5;28;01mtry\u001b[39;00m:\n\u001b[0;32m--> 969\u001b[0m     output \u001b[38;5;241m=\u001b[39m \u001b[43mfunc\u001b[49m\u001b[43m(\u001b[49m\u001b[38;5;28;43mself\u001b[39;49m\u001b[43m,\u001b[49m\u001b[43m \u001b[49m\u001b[38;5;241;43m*\u001b[39;49m\u001b[43margs\u001b[49m\u001b[43m,\u001b[49m\u001b[43m \u001b[49m\u001b[38;5;241;43m*\u001b[39;49m\u001b[38;5;241;43m*\u001b[39;49m\u001b[43mkwargs\u001b[49m\u001b[43m)\u001b[49m\n\u001b[1;32m    970\u001b[0m     \u001b[38;5;28;01mif\u001b[39;00m is_requested_to_return_tuple \u001b[38;5;129;01mor\u001b[39;00m (is_configured_to_return_tuple \u001b[38;5;129;01mand\u001b[39;00m is_top_level_module):\n\u001b[1;32m    971\u001b[0m         output \u001b[38;5;241m=\u001b[39m output\u001b[38;5;241m.\u001b[39mto_tuple()\n",
      "File \u001b[0;32m~/.local/lib/python3.10/site-packages/transformers/models/mistral/modeling_mistral.py:690\u001b[0m, in \u001b[0;36mMistralForCausalLM.forward\u001b[0;34m(self, input_ids, attention_mask, position_ids, past_key_values, inputs_embeds, labels, use_cache, output_attentions, output_hidden_states, cache_position, logits_to_keep, **kwargs)\u001b[0m\n\u001b[1;32m    685\u001b[0m output_hidden_states \u001b[38;5;241m=\u001b[39m (\n\u001b[1;32m    686\u001b[0m     output_hidden_states \u001b[38;5;28;01mif\u001b[39;00m output_hidden_states \u001b[38;5;129;01mis\u001b[39;00m \u001b[38;5;129;01mnot\u001b[39;00m \u001b[38;5;28;01mNone\u001b[39;00m \u001b[38;5;28;01melse\u001b[39;00m \u001b[38;5;28mself\u001b[39m\u001b[38;5;241m.\u001b[39mconfig\u001b[38;5;241m.\u001b[39moutput_hidden_states\n\u001b[1;32m    687\u001b[0m )\n\u001b[1;32m    689\u001b[0m \u001b[38;5;66;03m# decoder outputs consists of (dec_features, layer_state, dec_hidden, dec_attn)\u001b[39;00m\n\u001b[0;32m--> 690\u001b[0m outputs: BaseModelOutputWithPast \u001b[38;5;241m=\u001b[39m \u001b[38;5;28;43mself\u001b[39;49m\u001b[38;5;241;43m.\u001b[39;49m\u001b[43mmodel\u001b[49m\u001b[43m(\u001b[49m\n\u001b[1;32m    691\u001b[0m \u001b[43m    \u001b[49m\u001b[43minput_ids\u001b[49m\u001b[38;5;241;43m=\u001b[39;49m\u001b[43minput_ids\u001b[49m\u001b[43m,\u001b[49m\n\u001b[1;32m    692\u001b[0m \u001b[43m    \u001b[49m\u001b[43mattention_mask\u001b[49m\u001b[38;5;241;43m=\u001b[39;49m\u001b[43mattention_mask\u001b[49m\u001b[43m,\u001b[49m\n\u001b[1;32m    693\u001b[0m \u001b[43m    \u001b[49m\u001b[43mposition_ids\u001b[49m\u001b[38;5;241;43m=\u001b[39;49m\u001b[43mposition_ids\u001b[49m\u001b[43m,\u001b[49m\n\u001b[1;32m    694\u001b[0m \u001b[43m    \u001b[49m\u001b[43mpast_key_values\u001b[49m\u001b[38;5;241;43m=\u001b[39;49m\u001b[43mpast_key_values\u001b[49m\u001b[43m,\u001b[49m\n\u001b[1;32m    695\u001b[0m \u001b[43m    \u001b[49m\u001b[43minputs_embeds\u001b[49m\u001b[38;5;241;43m=\u001b[39;49m\u001b[43minputs_embeds\u001b[49m\u001b[43m,\u001b[49m\n\u001b[1;32m    696\u001b[0m \u001b[43m    \u001b[49m\u001b[43muse_cache\u001b[49m\u001b[38;5;241;43m=\u001b[39;49m\u001b[43muse_cache\u001b[49m\u001b[43m,\u001b[49m\n\u001b[1;32m    697\u001b[0m \u001b[43m    \u001b[49m\u001b[43moutput_attentions\u001b[49m\u001b[38;5;241;43m=\u001b[39;49m\u001b[43moutput_attentions\u001b[49m\u001b[43m,\u001b[49m\n\u001b[1;32m    698\u001b[0m \u001b[43m    \u001b[49m\u001b[43moutput_hidden_states\u001b[49m\u001b[38;5;241;43m=\u001b[39;49m\u001b[43moutput_hidden_states\u001b[49m\u001b[43m,\u001b[49m\n\u001b[1;32m    699\u001b[0m \u001b[43m    \u001b[49m\u001b[43mcache_position\u001b[49m\u001b[38;5;241;43m=\u001b[39;49m\u001b[43mcache_position\u001b[49m\u001b[43m,\u001b[49m\n\u001b[1;32m    700\u001b[0m \u001b[43m    \u001b[49m\u001b[38;5;241;43m*\u001b[39;49m\u001b[38;5;241;43m*\u001b[39;49m\u001b[43mkwargs\u001b[49m\u001b[43m,\u001b[49m\n\u001b[1;32m    701\u001b[0m \u001b[43m\u001b[49m\u001b[43m)\u001b[49m\n\u001b[1;32m    703\u001b[0m hidden_states \u001b[38;5;241m=\u001b[39m outputs\u001b[38;5;241m.\u001b[39mlast_hidden_state\n\u001b[1;32m    704\u001b[0m \u001b[38;5;66;03m# Only compute necessary logits, and do not upcast them to float if we are not computing the loss\u001b[39;00m\n",
      "File \u001b[0;32m~/.local/lib/python3.10/site-packages/torch/nn/modules/module.py:1751\u001b[0m, in \u001b[0;36mModule._wrapped_call_impl\u001b[0;34m(self, *args, **kwargs)\u001b[0m\n\u001b[1;32m   1749\u001b[0m     \u001b[38;5;28;01mreturn\u001b[39;00m \u001b[38;5;28mself\u001b[39m\u001b[38;5;241m.\u001b[39m_compiled_call_impl(\u001b[38;5;241m*\u001b[39margs, \u001b[38;5;241m*\u001b[39m\u001b[38;5;241m*\u001b[39mkwargs)  \u001b[38;5;66;03m# type: ignore[misc]\u001b[39;00m\n\u001b[1;32m   1750\u001b[0m \u001b[38;5;28;01melse\u001b[39;00m:\n\u001b[0;32m-> 1751\u001b[0m     \u001b[38;5;28;01mreturn\u001b[39;00m \u001b[38;5;28;43mself\u001b[39;49m\u001b[38;5;241;43m.\u001b[39;49m\u001b[43m_call_impl\u001b[49m\u001b[43m(\u001b[49m\u001b[38;5;241;43m*\u001b[39;49m\u001b[43margs\u001b[49m\u001b[43m,\u001b[49m\u001b[43m \u001b[49m\u001b[38;5;241;43m*\u001b[39;49m\u001b[38;5;241;43m*\u001b[39;49m\u001b[43mkwargs\u001b[49m\u001b[43m)\u001b[49m\n",
      "File \u001b[0;32m~/.local/lib/python3.10/site-packages/torch/nn/modules/module.py:1762\u001b[0m, in \u001b[0;36mModule._call_impl\u001b[0;34m(self, *args, **kwargs)\u001b[0m\n\u001b[1;32m   1757\u001b[0m \u001b[38;5;66;03m# If we don't have any hooks, we want to skip the rest of the logic in\u001b[39;00m\n\u001b[1;32m   1758\u001b[0m \u001b[38;5;66;03m# this function, and just call forward.\u001b[39;00m\n\u001b[1;32m   1759\u001b[0m \u001b[38;5;28;01mif\u001b[39;00m \u001b[38;5;129;01mnot\u001b[39;00m (\u001b[38;5;28mself\u001b[39m\u001b[38;5;241m.\u001b[39m_backward_hooks \u001b[38;5;129;01mor\u001b[39;00m \u001b[38;5;28mself\u001b[39m\u001b[38;5;241m.\u001b[39m_backward_pre_hooks \u001b[38;5;129;01mor\u001b[39;00m \u001b[38;5;28mself\u001b[39m\u001b[38;5;241m.\u001b[39m_forward_hooks \u001b[38;5;129;01mor\u001b[39;00m \u001b[38;5;28mself\u001b[39m\u001b[38;5;241m.\u001b[39m_forward_pre_hooks\n\u001b[1;32m   1760\u001b[0m         \u001b[38;5;129;01mor\u001b[39;00m _global_backward_pre_hooks \u001b[38;5;129;01mor\u001b[39;00m _global_backward_hooks\n\u001b[1;32m   1761\u001b[0m         \u001b[38;5;129;01mor\u001b[39;00m _global_forward_hooks \u001b[38;5;129;01mor\u001b[39;00m _global_forward_pre_hooks):\n\u001b[0;32m-> 1762\u001b[0m     \u001b[38;5;28;01mreturn\u001b[39;00m \u001b[43mforward_call\u001b[49m\u001b[43m(\u001b[49m\u001b[38;5;241;43m*\u001b[39;49m\u001b[43margs\u001b[49m\u001b[43m,\u001b[49m\u001b[43m \u001b[49m\u001b[38;5;241;43m*\u001b[39;49m\u001b[38;5;241;43m*\u001b[39;49m\u001b[43mkwargs\u001b[49m\u001b[43m)\u001b[49m\n\u001b[1;32m   1764\u001b[0m result \u001b[38;5;241m=\u001b[39m \u001b[38;5;28;01mNone\u001b[39;00m\n\u001b[1;32m   1765\u001b[0m called_always_called_hooks \u001b[38;5;241m=\u001b[39m \u001b[38;5;28mset\u001b[39m()\n",
      "File \u001b[0;32m~/.local/lib/python3.10/site-packages/transformers/utils/generic.py:969\u001b[0m, in \u001b[0;36mcan_return_tuple.<locals>.wrapper\u001b[0;34m(self, *args, **kwargs)\u001b[0m\n\u001b[1;32m    966\u001b[0m     set_attribute_for_modules(\u001b[38;5;28mself\u001b[39m, \u001b[38;5;124m\"\u001b[39m\u001b[38;5;124m_is_top_level_module\u001b[39m\u001b[38;5;124m\"\u001b[39m, \u001b[38;5;28;01mFalse\u001b[39;00m)\n\u001b[1;32m    968\u001b[0m \u001b[38;5;28;01mtry\u001b[39;00m:\n\u001b[0;32m--> 969\u001b[0m     output \u001b[38;5;241m=\u001b[39m \u001b[43mfunc\u001b[49m\u001b[43m(\u001b[49m\u001b[38;5;28;43mself\u001b[39;49m\u001b[43m,\u001b[49m\u001b[43m \u001b[49m\u001b[38;5;241;43m*\u001b[39;49m\u001b[43margs\u001b[49m\u001b[43m,\u001b[49m\u001b[43m \u001b[49m\u001b[38;5;241;43m*\u001b[39;49m\u001b[38;5;241;43m*\u001b[39;49m\u001b[43mkwargs\u001b[49m\u001b[43m)\u001b[49m\n\u001b[1;32m    970\u001b[0m     \u001b[38;5;28;01mif\u001b[39;00m is_requested_to_return_tuple \u001b[38;5;129;01mor\u001b[39;00m (is_configured_to_return_tuple \u001b[38;5;129;01mand\u001b[39;00m is_top_level_module):\n\u001b[1;32m    971\u001b[0m         output \u001b[38;5;241m=\u001b[39m output\u001b[38;5;241m.\u001b[39mto_tuple()\n",
      "File \u001b[0;32m~/.local/lib/python3.10/site-packages/transformers/models/mistral/modeling_mistral.py:423\u001b[0m, in \u001b[0;36mMistralModel.forward\u001b[0;34m(self, input_ids, attention_mask, position_ids, past_key_values, inputs_embeds, use_cache, output_attentions, output_hidden_states, cache_position, **flash_attn_kwargs)\u001b[0m\n\u001b[1;32m    420\u001b[0m \u001b[38;5;28;01mif\u001b[39;00m output_hidden_states:\n\u001b[1;32m    421\u001b[0m     all_hidden_states \u001b[38;5;241m+\u001b[39m\u001b[38;5;241m=\u001b[39m (hidden_states,)\n\u001b[0;32m--> 423\u001b[0m layer_outputs \u001b[38;5;241m=\u001b[39m \u001b[43mdecoder_layer\u001b[49m\u001b[43m(\u001b[49m\n\u001b[1;32m    424\u001b[0m \u001b[43m    \u001b[49m\u001b[43mhidden_states\u001b[49m\u001b[43m,\u001b[49m\n\u001b[1;32m    425\u001b[0m \u001b[43m    \u001b[49m\u001b[43mattention_mask\u001b[49m\u001b[38;5;241;43m=\u001b[39;49m\u001b[43mcausal_mask\u001b[49m\u001b[43m,\u001b[49m\n\u001b[1;32m    426\u001b[0m \u001b[43m    \u001b[49m\u001b[43mposition_ids\u001b[49m\u001b[38;5;241;43m=\u001b[39;49m\u001b[43mposition_ids\u001b[49m\u001b[43m,\u001b[49m\n\u001b[1;32m    427\u001b[0m \u001b[43m    \u001b[49m\u001b[43mpast_key_value\u001b[49m\u001b[38;5;241;43m=\u001b[39;49m\u001b[43mpast_key_values\u001b[49m\u001b[43m,\u001b[49m\n\u001b[1;32m    428\u001b[0m \u001b[43m    \u001b[49m\u001b[43moutput_attentions\u001b[49m\u001b[38;5;241;43m=\u001b[39;49m\u001b[43moutput_attentions\u001b[49m\u001b[43m,\u001b[49m\n\u001b[1;32m    429\u001b[0m \u001b[43m    \u001b[49m\u001b[43muse_cache\u001b[49m\u001b[38;5;241;43m=\u001b[39;49m\u001b[43muse_cache\u001b[49m\u001b[43m,\u001b[49m\n\u001b[1;32m    430\u001b[0m \u001b[43m    \u001b[49m\u001b[43mcache_position\u001b[49m\u001b[38;5;241;43m=\u001b[39;49m\u001b[43mcache_position\u001b[49m\u001b[43m,\u001b[49m\n\u001b[1;32m    431\u001b[0m \u001b[43m    \u001b[49m\u001b[43mposition_embeddings\u001b[49m\u001b[38;5;241;43m=\u001b[39;49m\u001b[43mposition_embeddings\u001b[49m\u001b[43m,\u001b[49m\n\u001b[1;32m    432\u001b[0m \u001b[43m    \u001b[49m\u001b[38;5;241;43m*\u001b[39;49m\u001b[38;5;241;43m*\u001b[39;49m\u001b[43mflash_attn_kwargs\u001b[49m\u001b[43m,\u001b[49m\n\u001b[1;32m    433\u001b[0m \u001b[43m\u001b[49m\u001b[43m)\u001b[49m\n\u001b[1;32m    435\u001b[0m hidden_states \u001b[38;5;241m=\u001b[39m layer_outputs[\u001b[38;5;241m0\u001b[39m]\n\u001b[1;32m    437\u001b[0m \u001b[38;5;28;01mif\u001b[39;00m output_attentions:\n",
      "File \u001b[0;32m~/.local/lib/python3.10/site-packages/transformers/modeling_layers.py:48\u001b[0m, in \u001b[0;36mGradientCheckpointingLayer.__call__\u001b[0;34m(self, *args, **kwargs)\u001b[0m\n\u001b[1;32m     46\u001b[0m \u001b[38;5;28;01mif\u001b[39;00m \u001b[38;5;28mself\u001b[39m\u001b[38;5;241m.\u001b[39mgradient_checkpointing \u001b[38;5;129;01mand\u001b[39;00m \u001b[38;5;28mself\u001b[39m\u001b[38;5;241m.\u001b[39mtraining:\n\u001b[1;32m     47\u001b[0m     \u001b[38;5;28;01mreturn\u001b[39;00m \u001b[38;5;28mself\u001b[39m\u001b[38;5;241m.\u001b[39m_gradient_checkpointing_func(partial(\u001b[38;5;28msuper\u001b[39m()\u001b[38;5;241m.\u001b[39m\u001b[38;5;21m__call__\u001b[39m, \u001b[38;5;241m*\u001b[39m\u001b[38;5;241m*\u001b[39mkwargs), \u001b[38;5;241m*\u001b[39margs)\n\u001b[0;32m---> 48\u001b[0m \u001b[38;5;28;01mreturn\u001b[39;00m \u001b[38;5;28;43msuper\u001b[39;49m\u001b[43m(\u001b[49m\u001b[43m)\u001b[49m\u001b[38;5;241;43m.\u001b[39;49m\u001b[38;5;21;43m__call__\u001b[39;49m\u001b[43m(\u001b[49m\u001b[38;5;241;43m*\u001b[39;49m\u001b[43margs\u001b[49m\u001b[43m,\u001b[49m\u001b[43m \u001b[49m\u001b[38;5;241;43m*\u001b[39;49m\u001b[38;5;241;43m*\u001b[39;49m\u001b[43mkwargs\u001b[49m\u001b[43m)\u001b[49m\n",
      "File \u001b[0;32m~/.local/lib/python3.10/site-packages/torch/nn/modules/module.py:1751\u001b[0m, in \u001b[0;36mModule._wrapped_call_impl\u001b[0;34m(self, *args, **kwargs)\u001b[0m\n\u001b[1;32m   1749\u001b[0m     \u001b[38;5;28;01mreturn\u001b[39;00m \u001b[38;5;28mself\u001b[39m\u001b[38;5;241m.\u001b[39m_compiled_call_impl(\u001b[38;5;241m*\u001b[39margs, \u001b[38;5;241m*\u001b[39m\u001b[38;5;241m*\u001b[39mkwargs)  \u001b[38;5;66;03m# type: ignore[misc]\u001b[39;00m\n\u001b[1;32m   1750\u001b[0m \u001b[38;5;28;01melse\u001b[39;00m:\n\u001b[0;32m-> 1751\u001b[0m     \u001b[38;5;28;01mreturn\u001b[39;00m \u001b[38;5;28;43mself\u001b[39;49m\u001b[38;5;241;43m.\u001b[39;49m\u001b[43m_call_impl\u001b[49m\u001b[43m(\u001b[49m\u001b[38;5;241;43m*\u001b[39;49m\u001b[43margs\u001b[49m\u001b[43m,\u001b[49m\u001b[43m \u001b[49m\u001b[38;5;241;43m*\u001b[39;49m\u001b[38;5;241;43m*\u001b[39;49m\u001b[43mkwargs\u001b[49m\u001b[43m)\u001b[49m\n",
      "File \u001b[0;32m~/.local/lib/python3.10/site-packages/torch/nn/modules/module.py:1762\u001b[0m, in \u001b[0;36mModule._call_impl\u001b[0;34m(self, *args, **kwargs)\u001b[0m\n\u001b[1;32m   1757\u001b[0m \u001b[38;5;66;03m# If we don't have any hooks, we want to skip the rest of the logic in\u001b[39;00m\n\u001b[1;32m   1758\u001b[0m \u001b[38;5;66;03m# this function, and just call forward.\u001b[39;00m\n\u001b[1;32m   1759\u001b[0m \u001b[38;5;28;01mif\u001b[39;00m \u001b[38;5;129;01mnot\u001b[39;00m (\u001b[38;5;28mself\u001b[39m\u001b[38;5;241m.\u001b[39m_backward_hooks \u001b[38;5;129;01mor\u001b[39;00m \u001b[38;5;28mself\u001b[39m\u001b[38;5;241m.\u001b[39m_backward_pre_hooks \u001b[38;5;129;01mor\u001b[39;00m \u001b[38;5;28mself\u001b[39m\u001b[38;5;241m.\u001b[39m_forward_hooks \u001b[38;5;129;01mor\u001b[39;00m \u001b[38;5;28mself\u001b[39m\u001b[38;5;241m.\u001b[39m_forward_pre_hooks\n\u001b[1;32m   1760\u001b[0m         \u001b[38;5;129;01mor\u001b[39;00m _global_backward_pre_hooks \u001b[38;5;129;01mor\u001b[39;00m _global_backward_hooks\n\u001b[1;32m   1761\u001b[0m         \u001b[38;5;129;01mor\u001b[39;00m _global_forward_hooks \u001b[38;5;129;01mor\u001b[39;00m _global_forward_pre_hooks):\n\u001b[0;32m-> 1762\u001b[0m     \u001b[38;5;28;01mreturn\u001b[39;00m \u001b[43mforward_call\u001b[49m\u001b[43m(\u001b[49m\u001b[38;5;241;43m*\u001b[39;49m\u001b[43margs\u001b[49m\u001b[43m,\u001b[49m\u001b[43m \u001b[49m\u001b[38;5;241;43m*\u001b[39;49m\u001b[38;5;241;43m*\u001b[39;49m\u001b[43mkwargs\u001b[49m\u001b[43m)\u001b[49m\n\u001b[1;32m   1764\u001b[0m result \u001b[38;5;241m=\u001b[39m \u001b[38;5;28;01mNone\u001b[39;00m\n\u001b[1;32m   1765\u001b[0m called_always_called_hooks \u001b[38;5;241m=\u001b[39m \u001b[38;5;28mset\u001b[39m()\n",
      "File \u001b[0;32m~/.local/lib/python3.10/site-packages/transformers/models/mistral/modeling_mistral.py:244\u001b[0m, in \u001b[0;36mMistralDecoderLayer.forward\u001b[0;34m(self, hidden_states, attention_mask, position_ids, past_key_value, output_attentions, use_cache, cache_position, position_embeddings, **kwargs)\u001b[0m\n\u001b[1;32m    241\u001b[0m hidden_states \u001b[38;5;241m=\u001b[39m \u001b[38;5;28mself\u001b[39m\u001b[38;5;241m.\u001b[39minput_layernorm(hidden_states)\n\u001b[1;32m    243\u001b[0m \u001b[38;5;66;03m# Self Attention\u001b[39;00m\n\u001b[0;32m--> 244\u001b[0m hidden_states, self_attn_weights \u001b[38;5;241m=\u001b[39m \u001b[38;5;28;43mself\u001b[39;49m\u001b[38;5;241;43m.\u001b[39;49m\u001b[43mself_attn\u001b[49m\u001b[43m(\u001b[49m\n\u001b[1;32m    245\u001b[0m \u001b[43m    \u001b[49m\u001b[43mhidden_states\u001b[49m\u001b[38;5;241;43m=\u001b[39;49m\u001b[43mhidden_states\u001b[49m\u001b[43m,\u001b[49m\n\u001b[1;32m    246\u001b[0m \u001b[43m    \u001b[49m\u001b[43mattention_mask\u001b[49m\u001b[38;5;241;43m=\u001b[39;49m\u001b[43mattention_mask\u001b[49m\u001b[43m,\u001b[49m\n\u001b[1;32m    247\u001b[0m \u001b[43m    \u001b[49m\u001b[43mposition_ids\u001b[49m\u001b[38;5;241;43m=\u001b[39;49m\u001b[43mposition_ids\u001b[49m\u001b[43m,\u001b[49m\n\u001b[1;32m    248\u001b[0m \u001b[43m    \u001b[49m\u001b[43mpast_key_value\u001b[49m\u001b[38;5;241;43m=\u001b[39;49m\u001b[43mpast_key_value\u001b[49m\u001b[43m,\u001b[49m\n\u001b[1;32m    249\u001b[0m \u001b[43m    \u001b[49m\u001b[43moutput_attentions\u001b[49m\u001b[38;5;241;43m=\u001b[39;49m\u001b[43moutput_attentions\u001b[49m\u001b[43m,\u001b[49m\n\u001b[1;32m    250\u001b[0m \u001b[43m    \u001b[49m\u001b[43muse_cache\u001b[49m\u001b[38;5;241;43m=\u001b[39;49m\u001b[43muse_cache\u001b[49m\u001b[43m,\u001b[49m\n\u001b[1;32m    251\u001b[0m \u001b[43m    \u001b[49m\u001b[43mcache_position\u001b[49m\u001b[38;5;241;43m=\u001b[39;49m\u001b[43mcache_position\u001b[49m\u001b[43m,\u001b[49m\n\u001b[1;32m    252\u001b[0m \u001b[43m    \u001b[49m\u001b[43mposition_embeddings\u001b[49m\u001b[38;5;241;43m=\u001b[39;49m\u001b[43mposition_embeddings\u001b[49m\u001b[43m,\u001b[49m\n\u001b[1;32m    253\u001b[0m \u001b[43m    \u001b[49m\u001b[38;5;241;43m*\u001b[39;49m\u001b[38;5;241;43m*\u001b[39;49m\u001b[43mkwargs\u001b[49m\u001b[43m,\u001b[49m\n\u001b[1;32m    254\u001b[0m \u001b[43m\u001b[49m\u001b[43m)\u001b[49m\n\u001b[1;32m    255\u001b[0m hidden_states \u001b[38;5;241m=\u001b[39m residual \u001b[38;5;241m+\u001b[39m hidden_states\n\u001b[1;32m    257\u001b[0m \u001b[38;5;66;03m# Fully Connected\u001b[39;00m\n",
      "File \u001b[0;32m~/.local/lib/python3.10/site-packages/torch/nn/modules/module.py:1751\u001b[0m, in \u001b[0;36mModule._wrapped_call_impl\u001b[0;34m(self, *args, **kwargs)\u001b[0m\n\u001b[1;32m   1749\u001b[0m     \u001b[38;5;28;01mreturn\u001b[39;00m \u001b[38;5;28mself\u001b[39m\u001b[38;5;241m.\u001b[39m_compiled_call_impl(\u001b[38;5;241m*\u001b[39margs, \u001b[38;5;241m*\u001b[39m\u001b[38;5;241m*\u001b[39mkwargs)  \u001b[38;5;66;03m# type: ignore[misc]\u001b[39;00m\n\u001b[1;32m   1750\u001b[0m \u001b[38;5;28;01melse\u001b[39;00m:\n\u001b[0;32m-> 1751\u001b[0m     \u001b[38;5;28;01mreturn\u001b[39;00m \u001b[38;5;28;43mself\u001b[39;49m\u001b[38;5;241;43m.\u001b[39;49m\u001b[43m_call_impl\u001b[49m\u001b[43m(\u001b[49m\u001b[38;5;241;43m*\u001b[39;49m\u001b[43margs\u001b[49m\u001b[43m,\u001b[49m\u001b[43m \u001b[49m\u001b[38;5;241;43m*\u001b[39;49m\u001b[38;5;241;43m*\u001b[39;49m\u001b[43mkwargs\u001b[49m\u001b[43m)\u001b[49m\n",
      "File \u001b[0;32m~/.local/lib/python3.10/site-packages/torch/nn/modules/module.py:1762\u001b[0m, in \u001b[0;36mModule._call_impl\u001b[0;34m(self, *args, **kwargs)\u001b[0m\n\u001b[1;32m   1757\u001b[0m \u001b[38;5;66;03m# If we don't have any hooks, we want to skip the rest of the logic in\u001b[39;00m\n\u001b[1;32m   1758\u001b[0m \u001b[38;5;66;03m# this function, and just call forward.\u001b[39;00m\n\u001b[1;32m   1759\u001b[0m \u001b[38;5;28;01mif\u001b[39;00m \u001b[38;5;129;01mnot\u001b[39;00m (\u001b[38;5;28mself\u001b[39m\u001b[38;5;241m.\u001b[39m_backward_hooks \u001b[38;5;129;01mor\u001b[39;00m \u001b[38;5;28mself\u001b[39m\u001b[38;5;241m.\u001b[39m_backward_pre_hooks \u001b[38;5;129;01mor\u001b[39;00m \u001b[38;5;28mself\u001b[39m\u001b[38;5;241m.\u001b[39m_forward_hooks \u001b[38;5;129;01mor\u001b[39;00m \u001b[38;5;28mself\u001b[39m\u001b[38;5;241m.\u001b[39m_forward_pre_hooks\n\u001b[1;32m   1760\u001b[0m         \u001b[38;5;129;01mor\u001b[39;00m _global_backward_pre_hooks \u001b[38;5;129;01mor\u001b[39;00m _global_backward_hooks\n\u001b[1;32m   1761\u001b[0m         \u001b[38;5;129;01mor\u001b[39;00m _global_forward_hooks \u001b[38;5;129;01mor\u001b[39;00m _global_forward_pre_hooks):\n\u001b[0;32m-> 1762\u001b[0m     \u001b[38;5;28;01mreturn\u001b[39;00m \u001b[43mforward_call\u001b[49m\u001b[43m(\u001b[49m\u001b[38;5;241;43m*\u001b[39;49m\u001b[43margs\u001b[49m\u001b[43m,\u001b[49m\u001b[43m \u001b[49m\u001b[38;5;241;43m*\u001b[39;49m\u001b[38;5;241;43m*\u001b[39;49m\u001b[43mkwargs\u001b[49m\u001b[43m)\u001b[49m\n\u001b[1;32m   1764\u001b[0m result \u001b[38;5;241m=\u001b[39m \u001b[38;5;28;01mNone\u001b[39;00m\n\u001b[1;32m   1765\u001b[0m called_always_called_hooks \u001b[38;5;241m=\u001b[39m \u001b[38;5;28mset\u001b[39m()\n",
      "File \u001b[0;32m~/.local/lib/python3.10/site-packages/transformers/models/mistral/modeling_mistral.py:164\u001b[0m, in \u001b[0;36mMistralAttention.forward\u001b[0;34m(self, hidden_states, position_embeddings, attention_mask, past_key_value, cache_position, **kwargs)\u001b[0m\n\u001b[1;32m    161\u001b[0m value_states \u001b[38;5;241m=\u001b[39m \u001b[38;5;28mself\u001b[39m\u001b[38;5;241m.\u001b[39mv_proj(hidden_states)\u001b[38;5;241m.\u001b[39mview(hidden_shape)\u001b[38;5;241m.\u001b[39mtranspose(\u001b[38;5;241m1\u001b[39m, \u001b[38;5;241m2\u001b[39m)\n\u001b[1;32m    163\u001b[0m cos, sin \u001b[38;5;241m=\u001b[39m position_embeddings\n\u001b[0;32m--> 164\u001b[0m query_states, key_states \u001b[38;5;241m=\u001b[39m \u001b[43mapply_rotary_pos_emb\u001b[49m\u001b[43m(\u001b[49m\u001b[43mquery_states\u001b[49m\u001b[43m,\u001b[49m\u001b[43m \u001b[49m\u001b[43mkey_states\u001b[49m\u001b[43m,\u001b[49m\u001b[43m \u001b[49m\u001b[43mcos\u001b[49m\u001b[43m,\u001b[49m\u001b[43m \u001b[49m\u001b[43msin\u001b[49m\u001b[43m)\u001b[49m\n\u001b[1;32m    166\u001b[0m \u001b[38;5;28;01mif\u001b[39;00m past_key_value \u001b[38;5;129;01mis\u001b[39;00m \u001b[38;5;129;01mnot\u001b[39;00m \u001b[38;5;28;01mNone\u001b[39;00m:\n\u001b[1;32m    167\u001b[0m     \u001b[38;5;66;03m# sin and cos are specific to RoPE models; cache_position needed for the static cache\u001b[39;00m\n\u001b[1;32m    168\u001b[0m     cache_kwargs \u001b[38;5;241m=\u001b[39m {\u001b[38;5;124m\"\u001b[39m\u001b[38;5;124msin\u001b[39m\u001b[38;5;124m\"\u001b[39m: sin, \u001b[38;5;124m\"\u001b[39m\u001b[38;5;124mcos\u001b[39m\u001b[38;5;124m\"\u001b[39m: cos, \u001b[38;5;124m\"\u001b[39m\u001b[38;5;124mcache_position\u001b[39m\u001b[38;5;124m\"\u001b[39m: cache_position}\n",
      "File \u001b[0;32m~/.local/lib/python3.10/site-packages/transformers/models/mistral/modeling_mistral.py:88\u001b[0m, in \u001b[0;36mapply_rotary_pos_emb\u001b[0;34m(q, k, cos, sin, position_ids, unsqueeze_dim)\u001b[0m\n\u001b[1;32m     86\u001b[0m sin \u001b[38;5;241m=\u001b[39m sin\u001b[38;5;241m.\u001b[39munsqueeze(unsqueeze_dim)\n\u001b[1;32m     87\u001b[0m q_embed \u001b[38;5;241m=\u001b[39m (q \u001b[38;5;241m*\u001b[39m cos) \u001b[38;5;241m+\u001b[39m (rotate_half(q) \u001b[38;5;241m*\u001b[39m sin)\n\u001b[0;32m---> 88\u001b[0m k_embed \u001b[38;5;241m=\u001b[39m (k \u001b[38;5;241m*\u001b[39m cos) \u001b[38;5;241m+\u001b[39m (\u001b[43mrotate_half\u001b[49m\u001b[43m(\u001b[49m\u001b[43mk\u001b[49m\u001b[43m)\u001b[49m \u001b[38;5;241m*\u001b[39m sin)\n\u001b[1;32m     89\u001b[0m \u001b[38;5;28;01mreturn\u001b[39;00m q_embed, k_embed\n",
      "File \u001b[0;32m~/.local/lib/python3.10/site-packages/transformers/models/mistral/modeling_mistral.py:58\u001b[0m, in \u001b[0;36mrotate_half\u001b[0;34m(x)\u001b[0m\n\u001b[1;32m     54\u001b[0m         down_proj \u001b[38;5;241m=\u001b[39m \u001b[38;5;28mself\u001b[39m\u001b[38;5;241m.\u001b[39mdown_proj(\u001b[38;5;28mself\u001b[39m\u001b[38;5;241m.\u001b[39mact_fn(\u001b[38;5;28mself\u001b[39m\u001b[38;5;241m.\u001b[39mgate_proj(x)) \u001b[38;5;241m*\u001b[39m \u001b[38;5;28mself\u001b[39m\u001b[38;5;241m.\u001b[39mup_proj(x))\n\u001b[1;32m     55\u001b[0m         \u001b[38;5;28;01mreturn\u001b[39;00m down_proj\n\u001b[0;32m---> 58\u001b[0m \u001b[38;5;28;01mdef\u001b[39;00m\u001b[38;5;250m \u001b[39m\u001b[38;5;21mrotate_half\u001b[39m(x):\n\u001b[1;32m     59\u001b[0m \u001b[38;5;250m    \u001b[39m\u001b[38;5;124;03m\"\"\"Rotates half the hidden dims of the input.\"\"\"\u001b[39;00m\n\u001b[1;32m     60\u001b[0m     x1 \u001b[38;5;241m=\u001b[39m x[\u001b[38;5;241m.\u001b[39m\u001b[38;5;241m.\u001b[39m\u001b[38;5;241m.\u001b[39m, : x\u001b[38;5;241m.\u001b[39mshape[\u001b[38;5;241m-\u001b[39m\u001b[38;5;241m1\u001b[39m] \u001b[38;5;241m/\u001b[39m\u001b[38;5;241m/\u001b[39m \u001b[38;5;241m2\u001b[39m]\n",
      "\u001b[0;31mKeyboardInterrupt\u001b[0m: "
     ]
    }
   ],
   "source": [
    "# processed_dataset = preprocess_func(model, datasets['aug_med_notes']['full_note'])"
   ]
  },
  {
   "cell_type": "code",
   "execution_count": 273,
   "id": "78048fde-1e41-4a61-a197-d69de829a06a",
   "metadata": {},
   "outputs": [
    {
     "name": "stdout",
     "output_type": "stream",
     "text": [
      "53 53\n"
     ]
    }
   ],
   "source": [
    "# print(len(processed_dataset['class']), len(processed_dataset['sentence']))"
   ]
  },
  {
   "cell_type": "code",
   "execution_count": null,
   "id": "50563881-d753-409e-98a0-e460c1743b8c",
   "metadata": {},
   "outputs": [],
   "source": [
    "# len(test['class'])"
   ]
  },
  {
   "cell_type": "code",
   "execution_count": null,
   "id": "e21fc190-eaf3-4490-a8b5-5194022233a4",
   "metadata": {},
   "outputs": [],
   "source": []
  },
  {
   "cell_type": "code",
   "execution_count": 328,
   "id": "d23fe30b-9625-4b50-ae76-8eaf5568407b",
   "metadata": {},
   "outputs": [],
   "source": [
    "# hf_dataset"
   ]
  },
  {
   "cell_type": "code",
   "execution_count": 330,
   "id": "cd125701-4272-4cb0-b676-af6120f0bf6f",
   "metadata": {},
   "outputs": [
    {
     "data": {
      "text/plain": [
       "Dataset({\n",
       "    features: ['sentence', 'class', 'case_id'],\n",
       "    num_rows: 569\n",
       "})"
      ]
     },
     "execution_count": 330,
     "metadata": {},
     "output_type": "execute_result"
    }
   ],
   "source": [
    "Dataset.from_file(os.path.join(processed_dir, 'data-00000-of-00001.arrow'))"
   ]
  },
  {
   "cell_type": "code",
   "execution_count": 246,
   "id": "087c6fec-9588-4541-b5c9-36374488d08c",
   "metadata": {},
   "outputs": [
    {
     "data": {
      "text/plain": [
       "'/home/ubuntu/medrlcot/data/aug_med_notes/processed'"
      ]
     },
     "execution_count": 246,
     "metadata": {},
     "output_type": "execute_result"
    }
   ],
   "source": []
  },
  {
   "cell_type": "code",
   "execution_count": 209,
   "id": "7067d17e-480c-48bc-8f47-50856a9f20e0",
   "metadata": {},
   "outputs": [
    {
     "name": "stdout",
     "output_type": "stream",
     "text": [
      "{'A 47-year-old male patient was referred to the rheumatology clinic because of recurrent attacks of pain in both knees over 1 year.': 'symptoms_labs'}\n",
      "{'In September 2016, the patient presented with severe pain over the medial aspect of the left knee for a two-week duration which prevented him from ambulation.': 'symptoms_labs', 'The pain increased with weight-bearing physical activity.': 'symptoms_labs', 'The patient reported no history of trauma before the onset of the knee pain.': 'symptoms_labs', 'Examination showed severe tenderness over the medial side of the knee with mild effusion and moderate limitation of range of motion.': 'symptoms_labs', 'There was no erythema or increased warmth of the knee.': 'symptoms_labs', 'MRI of the left knee showed a moderate-sized focal area of marrow edema/contusion involving the medial femoral condyle in mid and anterior parts predominantly along the articular surface.': 'symptoms_labs', 'The patient was prescribed diclofenac sodium 50 mg twice daily and was advised to avoid prolonged weight-bearing activities.': 'symptoms_labs', 'Over the next few weeks, the pain subsided and resolved.': 'symptoms_labs', 'Three months later, the patient developed spontaneous new onset of pain involving the lateral aspect of the same knee.': 'symptoms_labs', 'MRI showed bone marrow edema involving the lateral femoral condyle with complete resolution of the bone marrow edema of the medial femoral condyle.': 'symptoms_labs', 'He was treated conservatively with NSAIDs and physiotherapy and advised to use a cane to minimize weight bearing on the diseased knee.': 'symptoms_labs', 'demonstrates MRI of the left knee in September 2016 and three months later.': 'symptoms_labs'}\n",
      "{'In April 2017, the patient developed gradual pain over the medial side of the right knee with no obvious swelling.': 'symptoms_labs', 'MRI of the right knee showed a moderate-sized focal area of marrow edema involving the medial tibial plateau medially and anteriorly.': 'symptoms_labs', 'The patient was treated conservatively in a similar fashion to the previous episode.': 'thought_process', 'Four months later, the pain got more severe for which he underwent another MRI of the right knee which showed extensive marrow edema involving the medial femoral condyle with complete recovery of the medial tibial plateau bone marrow edema noted in the previous MRI ().': 'symptoms_labs', 'The patient also recalled a similar pain happened in 2011 to the left knee but did not do MRI at that time.': 'symptoms_labs'}\n",
      "{'In all previous presentations, the patient did not report any history of trauma, fall, twist, constitutional symptoms, or using corticosteroids.': 'symptoms_labs', 'He also had no history of other joint involvement apart from knees and denied any history of low back pain.': 'symptoms_labs', 'He did not have any features suggestive of spondyloarthropathy or connective tissue disease.': 'symptoms_labs'}\n",
      "{'Past history is significant for fracture of the greater tuberosity of the left humerus and undisplaced fracture of the left cuboid bone. Fractures happened after he fell off a ladder.': 'symptoms_labs', 'Also, he is known to have mild asthma which is controlled with as-needed bronchodilator and hypertension maintained on amlodipine 5 mg daily.': 'symptoms_labs', 'The patient had never been a smoker or an alcohol consumer.': 'symptoms_labs'}\n",
      "{'Lab investigations revealed vitamin D 8 ng/mL (normal: >30 ng/mL), corrected calcium 2.16 mmol/L (normal: 2.10–2.60 mmol/L), parathyroid hormone 91 pg/ml (normal: 15–65 pg/ml), and alkaline phosphatase 49 U/L (normal: 40–150 U/L)': 'symptoms_labs', 'Complete blood count, kidney and liver function, CRP, and ESR were within normal limit.': 'symptoms_labs', 'Immunology profile including rheumatoid factor, ACPA, ANA, anticardiolipin, and B2-glycoprotein were all negative.': 'symptoms_labs'}\n",
      "{'DXA scan showed a T score of −1.0 at the lumbar spine and −1.6 at the left femoral neck suggestive of osteopenia. shows further details of the DXA scan.': 'symptoms_labs'}\n",
      "{'The patient was treated conservatively with oral vitamin D2 50,000 IU/week supplement and NSAIDs.': 'diagnosis', 'Gradually, the symptoms subsided over the next few weeks, and vitamin D level became normal after 12 weeks.': 'diagnosis'}\n"
     ]
    }
   ],
   "source": [
    "# for t in test[4]:\n",
    "#     print(t)\n",
    "#     # print(json_to_dict(t))"
   ]
  },
  {
   "cell_type": "code",
   "execution_count": 111,
   "id": "f9370604-994c-4fed-a3c2-9b8e1d428fb8",
   "metadata": {},
   "outputs": [
    {
     "data": {
      "text/plain": [
       "4"
      ]
     },
     "execution_count": 111,
     "metadata": {},
     "output_type": "execute_result"
    }
   ],
   "source": [
    "len(test)"
   ]
  },
  {
   "cell_type": "code",
   "execution_count": 7,
   "id": "288bc46c-0980-4ac9-8184-1ac448b2e2ca",
   "metadata": {},
   "outputs": [],
   "source": [
    "from transformers import AutoTokenizer, AutoModelForCausalLM, pipeline\n",
    "import torch\n",
    "import json\n",
    "\n",
    "# Load model (adjust to your chosen model)\n",
    "# model_id = \"NousResearch/Nous-Hermes-2-Mistral-7B-DPO\"\n",
    "# tokenizer = AutoTokenizer.from_pretrained(model_id)\n",
    "# model = AutoModelForCausalLM.from_pretrained(\n",
    "#     model_id,\n",
    "#     torch_dtype=torch.float16,\n",
    "#     device_map=\"auto\"\n",
    "# )\n",
    "# import torch\n",
    "# from transformers import AutoTokenizer, AutoModelForCausalLM\n",
    "# from transformers import LlamaTokenizer, MixtralForCausalLM\n",
    "# import bitsandbytes, flash_attn\n",
    "\n",
    "# tokenizer = LlamaTokenizer.from_pretrained('NousResearch/Nous-Hermes-2-Mistral-7B-DPO', trust_remote_code=True)\n",
    "# model = MistralForCausalLM.from_pretrained(\n",
    "#     \"NousResearch/Nous-Hermes-2-Mistral-7B-DPO\",\n",
    "#     torch_dtype=torch.float16,\n",
    "#     device_map=\"auto\",\n",
    "#     load_in_8bit=False,\n",
    "#     load_in_4bit=True,\n",
    "#     use_flash_attention_2=True\n",
    "# )"
   ]
  },
  {
   "cell_type": "code",
   "execution_count": null,
   "id": "84ff3ff0-e767-4832-908e-84f923261c00",
   "metadata": {},
   "outputs": [],
   "source": []
  }
 ],
 "metadata": {
  "kernelspec": {
   "display_name": "Python 3.10",
   "language": "python",
   "name": "python310"
  },
  "language_info": {
   "codemirror_mode": {
    "name": "ipython",
    "version": 3
   },
   "file_extension": ".py",
   "mimetype": "text/x-python",
   "name": "python",
   "nbconvert_exporter": "python",
   "pygments_lexer": "ipython3",
   "version": "3.10.12"
  }
 },
 "nbformat": 4,
 "nbformat_minor": 5
}
